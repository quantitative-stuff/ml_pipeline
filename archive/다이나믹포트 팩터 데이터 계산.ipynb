{
 "cells": [
  {
   "cell_type": "markdown",
   "id": "c76dc110-1a14-4823-ac5d-65ebd13f1c4a",
   "metadata": {},
   "source": [
    "### LIBRARY IMPORT, CLASS 정의"
   ]
  },
  {
   "cell_type": "code",
   "execution_count": 2,
   "id": "a87ed2ef-d7dc-44c2-ac4b-13b7a8d2f7ba",
   "metadata": {
    "execution": {
     "iopub.execute_input": "2025-05-22T01:41:23.400733Z",
     "iopub.status.busy": "2025-05-22T01:41:23.400197Z",
     "iopub.status.idle": "2025-05-22T01:41:24.288919Z",
     "shell.execute_reply": "2025-05-22T01:41:24.287909Z",
     "shell.execute_reply.started": "2025-05-22T01:41:23.400686Z"
    },
    "tags": []
   },
   "outputs": [],
   "source": [
    "import pandas as pd\n",
    "import numpy as np\n",
    "from scipy.optimize import linprog\n",
    "from tqdm import tqdm\n",
    "from collections import defaultdict\n",
    "import warnings\n",
    "\n",
    "warnings.simplefilter(action='ignore', category=FutureWarning) # FutureWarning 제거\n",
    "pd.set_option('mode.chained_assignment',  None) # <==== 경고를 끈다\n",
    "\n",
    "from utils_ver33 import *"
   ]
  },
  {
   "cell_type": "code",
   "execution_count": 3,
   "id": "5edd9737-d5c9-420d-a2c3-11c5bb73c87e",
   "metadata": {
    "execution": {
     "iopub.execute_input": "2025-05-22T01:41:24.290405Z",
     "iopub.status.busy": "2025-05-22T01:41:24.290110Z",
     "iopub.status.idle": "2025-05-22T01:41:24.294704Z",
     "shell.execute_reply": "2025-05-22T01:41:24.293977Z",
     "shell.execute_reply.started": "2025-05-22T01:41:24.290384Z"
    }
   },
   "outputs": [],
   "source": [
    "from sqlalchemy import create_engine, text\n",
    "import os\n",
    "import logging\n",
    "import cx_Oracle\n",
    "import time\n",
    "\n",
    "start = time.time()\n",
    "# Configure logging\n",
    "logging.basicConfig(level=logging.INFO, format='%(asctime)s - %(levelname)s - %(message)s')"
   ]
  },
  {
   "cell_type": "code",
   "execution_count": 4,
   "id": "863f7f0a-b9c6-4bfe-a240-eaa4ce299b91",
   "metadata": {
    "execution": {
     "iopub.execute_input": "2025-05-22T01:41:24.295793Z",
     "iopub.status.busy": "2025-05-22T01:41:24.295540Z",
     "iopub.status.idle": "2025-05-22T01:41:24.306750Z",
     "shell.execute_reply": "2025-05-22T01:41:24.305888Z",
     "shell.execute_reply.started": "2025-05-22T01:41:24.295760Z"
    }
   },
   "outputs": [],
   "source": [
    "output_dir='/home/hyungshin.lee/dbqm_data/input'"
   ]
  },
  {
   "cell_type": "code",
   "execution_count": 3,
   "id": "a0970ceb-6f2d-46b0-b640-203fd49c3409",
   "metadata": {
    "execution": {
     "iopub.execute_input": "2025-05-27T06:13:50.960899Z",
     "iopub.status.busy": "2025-05-27T06:13:50.960133Z",
     "iopub.status.idle": "2025-05-27T06:13:50.972241Z",
     "shell.execute_reply": "2025-05-27T06:13:50.971245Z",
     "shell.execute_reply.started": "2025-05-27T06:13:50.960852Z"
    }
   },
   "outputs": [],
   "source": [
    "start_date='2017-01-01'"
   ]
  },
  {
   "cell_type": "code",
   "execution_count": 11,
   "id": "3bacd110-04fb-49f1-8e8f-ef89f00b220e",
   "metadata": {
    "execution": {
     "iopub.execute_input": "2025-05-22T01:43:27.619463Z",
     "iopub.status.busy": "2025-05-22T01:43:27.619271Z",
     "iopub.status.idle": "2025-05-22T01:44:09.243687Z",
     "shell.execute_reply": "2025-05-22T01:44:09.242747Z",
     "shell.execute_reply.started": "2025-05-22T01:43:27.619444Z"
    },
    "tags": []
   },
   "outputs": [],
   "source": [
    "db = QuantDBconnect()\n",
    "KOSPI200 = db.GetAllKOSPI200()\n",
    "\n",
    "tradingDates = np.unique(KOSPI200['Dates'].values.flatten())\n",
    "code = np.unique(KOSPI200['Symbol'].values.flatten())\n",
    "\n",
    "price = pd.read_pickle(output_dir+'/dataFinal/AdjPrc.pkl')\n",
    "transaction = pd.read_pickle(output_dir+'/dataFinal/Amt_Avg_20D.pkl')\n",
    "consensus = pd.read_pickle(output_dir+'/dataFinal/Num_EPS_ESts_E3.pkl')\n",
    "IFRSsector = pd.read_pickle(output_dir+'/dataFinal/FG_IndustryGroup_Idx.pkl')\n",
    "# indexCapTotal = pd.read_pickle(output_dir+'/dataFinal/indexCapTotal.pkl').sort_index()\n",
    "MktCap = pd.read_pickle(output_dir+'/dataFinal/MktCap.pkl')\n",
    "size = pd.read_pickle(output_dir+'/dataFinal/KSECapSize.pkl')\n",
    "\n",
    "# indexCapTotal = indexCapTotal.reset_index().drop_duplicates(['Dates', 'Symbol'])\n",
    "EoM = GetEndOfMonth(pd.DataFrame(tradingDates, columns = ['Dates']))"
   ]
  },
  {
   "cell_type": "code",
   "execution_count": 12,
   "id": "6e9a7cbb-0472-4959-a6b9-918694bd872e",
   "metadata": {
    "execution": {
     "iopub.execute_input": "2025-05-22T01:44:09.245508Z",
     "iopub.status.busy": "2025-05-22T01:44:09.245318Z",
     "iopub.status.idle": "2025-05-22T01:44:09.249996Z",
     "shell.execute_reply": "2025-05-22T01:44:09.249332Z",
     "shell.execute_reply.started": "2025-05-22T01:44:09.245490Z"
    }
   },
   "outputs": [],
   "source": [
    "# date_temp_start = pd.to_datetime('2011-12-28')\n",
    "# date_temp_end = pd.to_datetime('2024-06-30')\n",
    "\n",
    "# indexCapTotal = indexCapTotal.set_index(['Dates', 'Symbol'])\n",
    "# tradingDatesInterval = tradingDates[(date_temp_start <= tradingDates) & (tradingDates <= date_temp_end)]\n",
    "\n",
    "REGIMEDIR = output_dir+\"/dataFinal/regime.xlsx\"\n",
    "ESGDATADIR = output_dir+\"/dataFinal/ESGUniverse_upload_total.xlsx\"\n",
    "EntireDataDir = output_dir+'/dataFinal/'\n",
    "\n",
    "# SelectedFactors = ['BP','SalesP','AssetP','ROE','EBITDAY','EY_12M','EPSG','OPG','DY','InstituitionalBuy','Leverage','OPM','OP_M1M','PriceMomentum','ReverseMomentum']\n",
    "SelectedFactors = ['BP','SalesP','EY_12M','OPG','DY','InstituitionalBuy','OP_M1M','PriceMomentum','ReverseMomentum']\n",
    "\n",
    "DynamicPortfolio = False"
   ]
  },
  {
   "cell_type": "code",
   "execution_count": 13,
   "id": "6214249e-38e1-4a1e-97ec-30b3ed00b4d4",
   "metadata": {
    "execution": {
     "iopub.execute_input": "2025-05-22T01:44:09.250908Z",
     "iopub.status.busy": "2025-05-22T01:44:09.250678Z",
     "iopub.status.idle": "2025-05-22T01:45:30.664603Z",
     "shell.execute_reply": "2025-05-22T01:45:30.663635Z",
     "shell.execute_reply.started": "2025-05-22T01:44:09.250891Z"
    }
   },
   "outputs": [],
   "source": [
    "DataFrameDict = CallEntireData(EntireDataDir)\n",
    "ratioDataFrame = GetAllratio(tradingDates, EoM)"
   ]
  },
  {
   "cell_type": "code",
   "execution_count": 14,
   "id": "22ba7076-1e6e-439b-b4f2-9d3f1b37764a",
   "metadata": {
    "execution": {
     "iopub.execute_input": "2025-05-22T01:45:30.665872Z",
     "iopub.status.busy": "2025-05-22T01:45:30.665665Z",
     "iopub.status.idle": "2025-05-22T01:46:09.026394Z",
     "shell.execute_reply": "2025-05-22T01:46:09.025157Z",
     "shell.execute_reply.started": "2025-05-22T01:45:30.665855Z"
    },
    "scrolled": true
   },
   "outputs": [],
   "source": [
    "df_ls=[DataFrameDict[col].set_index(['Dates', 'Symbol']).drop(columns=['Name']) for col in DataFrameDict.keys()]"
   ]
  },
  {
   "cell_type": "code",
   "execution_count": 15,
   "id": "732f1fea-2351-431c-a7fd-c7e809c02bd6",
   "metadata": {
    "execution": {
     "iopub.execute_input": "2025-05-22T01:46:09.027703Z",
     "iopub.status.busy": "2025-05-22T01:46:09.027506Z",
     "iopub.status.idle": "2025-05-22T01:47:09.040973Z",
     "shell.execute_reply": "2025-05-22T01:47:09.039673Z",
     "shell.execute_reply.started": "2025-05-22T01:46:09.027686Z"
    }
   },
   "outputs": [],
   "source": [
    "df_final=pd.concat(df_ls, axis=1)"
   ]
  },
  {
   "cell_type": "code",
   "execution_count": 16,
   "id": "3328f23a-ea47-4fc4-be38-2c3b928c8a95",
   "metadata": {
    "execution": {
     "iopub.execute_input": "2025-05-22T01:47:09.042426Z",
     "iopub.status.busy": "2025-05-22T01:47:09.042195Z",
     "iopub.status.idle": "2025-05-22T01:47:09.046573Z",
     "shell.execute_reply": "2025-05-22T01:47:09.045632Z",
     "shell.execute_reply.started": "2025-05-22T01:47:09.042407Z"
    }
   },
   "outputs": [],
   "source": [
    "# df_final.to_parquet(output_dir+f'/DQ_factor_{}.parquet')"
   ]
  },
  {
   "cell_type": "code",
   "execution_count": null,
   "id": "c22fd28f-d64b-40df-b3f3-82cf09f0aa41",
   "metadata": {},
   "outputs": [],
   "source": []
  },
  {
   "cell_type": "code",
   "execution_count": 17,
   "id": "b588e3d0-ed29-424e-80a2-0a75447a0709",
   "metadata": {
    "execution": {
     "iopub.execute_input": "2025-05-22T01:47:09.047463Z",
     "iopub.status.busy": "2025-05-22T01:47:09.047268Z",
     "iopub.status.idle": "2025-05-22T01:47:10.154652Z",
     "shell.execute_reply": "2025-05-22T01:47:10.153691Z",
     "shell.execute_reply.started": "2025-05-22T01:47:09.047439Z"
    }
   },
   "outputs": [
    {
     "data": {
      "text/html": [
       "<div>\n",
       "<style scoped>\n",
       "    .dataframe tbody tr th:only-of-type {\n",
       "        vertical-align: middle;\n",
       "    }\n",
       "\n",
       "    .dataframe tbody tr th {\n",
       "        vertical-align: top;\n",
       "    }\n",
       "\n",
       "    .dataframe thead th {\n",
       "        text-align: right;\n",
       "    }\n",
       "</style>\n",
       "<table border=\"1\" class=\"dataframe\">\n",
       "  <thead>\n",
       "    <tr style=\"text-align: right;\">\n",
       "      <th></th>\n",
       "      <th></th>\n",
       "      <th>AdjPrc</th>\n",
       "    </tr>\n",
       "    <tr>\n",
       "      <th>Dates</th>\n",
       "      <th>Symbol</th>\n",
       "      <th></th>\n",
       "    </tr>\n",
       "  </thead>\n",
       "  <tbody>\n",
       "    <tr>\n",
       "      <th rowspan=\"5\" valign=\"top\">2010-01-26</th>\n",
       "      <th>A000010</th>\n",
       "      <td>NaN</td>\n",
       "    </tr>\n",
       "    <tr>\n",
       "      <th>A000020</th>\n",
       "      <td>6130.0</td>\n",
       "    </tr>\n",
       "    <tr>\n",
       "      <th>A000030</th>\n",
       "      <td>NaN</td>\n",
       "    </tr>\n",
       "    <tr>\n",
       "      <th>A000040</th>\n",
       "      <td>10401.0</td>\n",
       "    </tr>\n",
       "    <tr>\n",
       "      <th>A000050</th>\n",
       "      <td>8781.0</td>\n",
       "    </tr>\n",
       "    <tr>\n",
       "      <th>...</th>\n",
       "      <th>...</th>\n",
       "      <td>...</td>\n",
       "    </tr>\n",
       "    <tr>\n",
       "      <th rowspan=\"5\" valign=\"top\">2025-05-02</th>\n",
       "      <th>A900140</th>\n",
       "      <td>1720.0</td>\n",
       "    </tr>\n",
       "    <tr>\n",
       "      <th>A950010</th>\n",
       "      <td>NaN</td>\n",
       "    </tr>\n",
       "    <tr>\n",
       "      <th>A950070</th>\n",
       "      <td>NaN</td>\n",
       "    </tr>\n",
       "    <tr>\n",
       "      <th>A950100</th>\n",
       "      <td>NaN</td>\n",
       "    </tr>\n",
       "    <tr>\n",
       "      <th>A950210</th>\n",
       "      <td>14130.0</td>\n",
       "    </tr>\n",
       "  </tbody>\n",
       "</table>\n",
       "<p>4516744 rows × 1 columns</p>\n",
       "</div>"
      ],
      "text/plain": [
       "                     AdjPrc\n",
       "Dates      Symbol          \n",
       "2010-01-26 A000010      NaN\n",
       "           A000020   6130.0\n",
       "           A000030      NaN\n",
       "           A000040  10401.0\n",
       "           A000050   8781.0\n",
       "...                     ...\n",
       "2025-05-02 A900140   1720.0\n",
       "           A950010      NaN\n",
       "           A950070      NaN\n",
       "           A950100      NaN\n",
       "           A950210  14130.0\n",
       "\n",
       "[4516744 rows x 1 columns]"
      ]
     },
     "execution_count": 17,
     "metadata": {},
     "output_type": "execute_result"
    }
   ],
   "source": [
    "DataFrameDict['AdjPrc'].set_index(['Dates', 'Symbol']).drop(columns=['Name'])"
   ]
  },
  {
   "cell_type": "code",
   "execution_count": null,
   "id": "ec878320-8a9c-4eea-a847-ad93bb944c29",
   "metadata": {},
   "outputs": [],
   "source": []
  },
  {
   "cell_type": "code",
   "execution_count": null,
   "id": "624870c3-4490-4967-9bed-a8004ca69c9c",
   "metadata": {},
   "outputs": [],
   "source": []
  },
  {
   "cell_type": "code",
   "execution_count": 18,
   "id": "b39da84e-3fdb-4326-8d8e-c0b13262ce13",
   "metadata": {
    "execution": {
     "iopub.execute_input": "2025-05-22T01:47:10.157288Z",
     "iopub.status.busy": "2025-05-22T01:47:10.157065Z",
     "iopub.status.idle": "2025-05-22T01:47:26.828337Z",
     "shell.execute_reply": "2025-05-22T01:47:26.827400Z",
     "shell.execute_reply.started": "2025-05-22T01:47:10.157266Z"
    }
   },
   "outputs": [],
   "source": [
    "Dynamicportfolio = False # 무시\n",
    "A005930Ratio = Get005930Ratio(MktCap)"
   ]
  },
  {
   "cell_type": "code",
   "execution_count": 19,
   "id": "30efd0a5-b9a1-4d15-bd54-8caad903b916",
   "metadata": {
    "execution": {
     "iopub.execute_input": "2025-05-22T01:47:26.829236Z",
     "iopub.status.busy": "2025-05-22T01:47:26.829069Z",
     "iopub.status.idle": "2025-05-22T01:47:26.833982Z",
     "shell.execute_reply": "2025-05-22T01:47:26.833335Z",
     "shell.execute_reply.started": "2025-05-22T01:47:26.829220Z"
    }
   },
   "outputs": [],
   "source": [
    "date_temp_start = pd.to_datetime('2011-12-29')\n",
    "# date_temp_end = pd.to_datetime('2024-06-28')"
   ]
  },
  {
   "cell_type": "code",
   "execution_count": 20,
   "id": "7531cbd3-71ab-45bd-9c0c-1d1ccdca77e3",
   "metadata": {
    "execution": {
     "iopub.execute_input": "2025-05-22T01:47:26.834820Z",
     "iopub.status.busy": "2025-05-22T01:47:26.834653Z",
     "iopub.status.idle": "2025-05-22T01:47:26.846076Z",
     "shell.execute_reply": "2025-05-22T01:47:26.845375Z",
     "shell.execute_reply.started": "2025-05-22T01:47:26.834804Z"
    },
    "tags": []
   },
   "outputs": [],
   "source": [
    "# tradingDatestemp = tradingDates[(date_temp_start <= tradingDates) & (tradingDates <= date_temp_end)]"
   ]
  },
  {
   "cell_type": "code",
   "execution_count": 21,
   "id": "1ce9c53b-a6ea-4343-8d47-a19bdeac9c2f",
   "metadata": {
    "execution": {
     "iopub.execute_input": "2025-05-22T01:47:26.846933Z",
     "iopub.status.busy": "2025-05-22T01:47:26.846721Z",
     "iopub.status.idle": "2025-05-22T01:47:26.859111Z",
     "shell.execute_reply": "2025-05-22T01:47:26.858283Z",
     "shell.execute_reply.started": "2025-05-22T01:47:26.846913Z"
    },
    "scrolled": true
   },
   "outputs": [],
   "source": [
    "# factor_ret_full = pd.read_excel('./dataFinal/full_factor_1030.xlsx')\n",
    "\n",
    "# factor_ret_full.columns = ['Dates'] + list(factor_ret_full.columns[1:])\n",
    "# factor_ret_full = factor_ret_full.set_index('Dates')\n",
    "# factor_ret_full = factor_ret_full.loc[date_temp_start:,:]"
   ]
  },
  {
   "cell_type": "code",
   "execution_count": 22,
   "id": "c78140b6-3209-4dd8-a839-1e4affa6ae74",
   "metadata": {
    "execution": {
     "iopub.execute_input": "2025-05-22T01:47:26.860270Z",
     "iopub.status.busy": "2025-05-22T01:47:26.859974Z",
     "iopub.status.idle": "2025-05-22T01:47:26.872116Z",
     "shell.execute_reply": "2025-05-22T01:47:26.871152Z",
     "shell.execute_reply.started": "2025-05-22T01:47:26.860242Z"
    }
   },
   "outputs": [],
   "source": [
    "# REGIMEDIR = \"./dataFinal/regime.xlsx\"\n",
    "# ESGDATADIR = \"./dataFinal/ESGUniverse_upload_total.xlsx\""
   ]
  },
  {
   "cell_type": "code",
   "execution_count": 23,
   "id": "52c116f7-d883-4734-9179-8f1e27dbc7d2",
   "metadata": {
    "execution": {
     "iopub.execute_input": "2025-05-22T01:47:26.874025Z",
     "iopub.status.busy": "2025-05-22T01:47:26.873402Z",
     "iopub.status.idle": "2025-05-22T01:47:26.885484Z",
     "shell.execute_reply": "2025-05-22T01:47:26.884452Z",
     "shell.execute_reply.started": "2025-05-22T01:47:26.873980Z"
    }
   },
   "outputs": [],
   "source": [
    "# date = pd.Timestamp('2024-10-30')"
   ]
  },
  {
   "cell_type": "markdown",
   "id": "4ddd30a5-f502-4729-ad56-2ba5310aa71f",
   "metadata": {},
   "source": [
    "### 국면 데이터 읽어오기"
   ]
  },
  {
   "cell_type": "code",
   "execution_count": 24,
   "id": "47d00ec9-f426-4c83-8a06-61018c07085a",
   "metadata": {
    "execution": {
     "iopub.execute_input": "2025-05-22T01:47:26.887282Z",
     "iopub.status.busy": "2025-05-22T01:47:26.886781Z",
     "iopub.status.idle": "2025-05-22T01:47:26.898390Z",
     "shell.execute_reply": "2025-05-22T01:47:26.897369Z",
     "shell.execute_reply.started": "2025-05-22T01:47:26.887237Z"
    }
   },
   "outputs": [],
   "source": [
    "# RegimeTemp = pd.read_excel(REGIMEDIR)            \n",
    "# RegimeTemp.columns = ['date', 'RegimeTemp']\n",
    "# RegimeTemp = RegimeTemp.set_index('date')"
   ]
  },
  {
   "cell_type": "code",
   "execution_count": 25,
   "id": "ba844f8d-c96a-456f-ae84-52b12f6230ef",
   "metadata": {
    "execution": {
     "iopub.execute_input": "2025-05-22T01:47:26.900255Z",
     "iopub.status.busy": "2025-05-22T01:47:26.899745Z",
     "iopub.status.idle": "2025-05-22T01:47:26.911374Z",
     "shell.execute_reply": "2025-05-22T01:47:26.910372Z",
     "shell.execute_reply.started": "2025-05-22T01:47:26.900210Z"
    }
   },
   "outputs": [],
   "source": [
    "# RegimeDF = GetRegime(tradingDates, REGIMEDIR)"
   ]
  },
  {
   "cell_type": "markdown",
   "id": "cb7e7501-7928-40d9-a9db-d619b779fe1c",
   "metadata": {},
   "source": [
    "### ESG 데이터 읽어오기"
   ]
  },
  {
   "cell_type": "code",
   "execution_count": 26,
   "id": "a4cc59bd-aa6f-48a4-ae57-022dbe85b7d6",
   "metadata": {
    "execution": {
     "iopub.execute_input": "2025-05-22T01:47:26.913194Z",
     "iopub.status.busy": "2025-05-22T01:47:26.912686Z",
     "iopub.status.idle": "2025-05-22T01:47:26.924104Z",
     "shell.execute_reply": "2025-05-22T01:47:26.923099Z",
     "shell.execute_reply.started": "2025-05-22T01:47:26.913152Z"
    }
   },
   "outputs": [],
   "source": [
    "# ESGDF = LoadESG(date, ESGDATADIR)"
   ]
  },
  {
   "cell_type": "code",
   "execution_count": 27,
   "id": "8fc4d28a-c481-4798-a1aa-b8895231764d",
   "metadata": {
    "execution": {
     "iopub.execute_input": "2025-05-22T01:47:26.925924Z",
     "iopub.status.busy": "2025-05-22T01:47:26.925418Z",
     "iopub.status.idle": "2025-05-22T01:47:26.937613Z",
     "shell.execute_reply": "2025-05-22T01:47:26.936560Z",
     "shell.execute_reply.started": "2025-05-22T01:47:26.925882Z"
    }
   },
   "outputs": [],
   "source": [
    "EsgScoreSustin = {'AA':50,'A':40,'BB':30,'B':20,'C':10,'D':0,'E':0,np.nan:0,0:0}\n",
    "EsgScoreDB = {'S':'AA','AA':'AA','BB':'BB','A':'A','B':'BB','C':'B','D':'C','E':np.nan,'-':np.nan, np.nan: np.nan, 0:0}"
   ]
  },
  {
   "cell_type": "code",
   "execution_count": 28,
   "id": "280200c6-127e-4a23-a08c-90e7f98cbac2",
   "metadata": {
    "execution": {
     "iopub.execute_input": "2025-05-22T01:47:26.939784Z",
     "iopub.status.busy": "2025-05-22T01:47:26.938940Z",
     "iopub.status.idle": "2025-05-22T01:47:26.951019Z",
     "shell.execute_reply": "2025-05-22T01:47:26.949999Z",
     "shell.execute_reply.started": "2025-05-22T01:47:26.939742Z"
    }
   },
   "outputs": [],
   "source": [
    "# kospi200atD = GetKOSPI200AtD(KOSPI200, date)\n",
    "# A005930Weight = A005930Ratio.loc[date, 'ratio']\n",
    "# ratio = ratioDataFrame.loc[date, 'Ratio']\n",
    "\n",
    "# DataTable = GetDataTable(DataFrameDict, tradingDates, date, Dynamicportfolio, kospi200atD)\n",
    "# RawTable = GetRawDataTable(DataTable, ratio)\n",
    "\n",
    "# dd = date + np.timedelta64(-60, \"D\")\n",
    "# dd = GetBusinessDayBefore(tradingDates, dd)\n",
    "# flag2yr = 0\n",
    "# if pd.Timestamp(date).year == pd.Timestamp(dd).year:\n",
    "#     FactorTable = GetFactorInitialTable(RawTable, ratio, flag2yr)\n",
    "# else:\n",
    "#     flag2yr = 1\n",
    "#     FactorTable = GetFactorInitialTable(RawTable, ratio, flag2yr)\n",
    "\n",
    "# FactorTable = AdjustLeverage(FactorTable)\n",
    "# FactorTable = StandardizeColumns(FactorTable)"
   ]
  },
  {
   "cell_type": "code",
   "execution_count": 29,
   "id": "e5fa82a5-674d-416e-ab13-3db8670134c7",
   "metadata": {
    "execution": {
     "iopub.execute_input": "2025-05-22T01:47:26.952846Z",
     "iopub.status.busy": "2025-05-22T01:47:26.952343Z",
     "iopub.status.idle": "2025-05-22T01:47:26.963794Z",
     "shell.execute_reply": "2025-05-22T01:47:26.962776Z",
     "shell.execute_reply.started": "2025-05-22T01:47:26.952805Z"
    }
   },
   "outputs": [],
   "source": [
    "# factor_ret_final = factor_ret_full.loc['2012-01-02':,:]"
   ]
  },
  {
   "cell_type": "code",
   "execution_count": null,
   "id": "a46cbec3-3d94-48c2-83bf-49a12ca5d7a5",
   "metadata": {},
   "outputs": [],
   "source": []
  },
  {
   "cell_type": "code",
   "execution_count": null,
   "id": "4e8ed0b4-24f9-44f9-a49f-4afbcfde43b3",
   "metadata": {},
   "outputs": [],
   "source": []
  },
  {
   "cell_type": "markdown",
   "id": "9cff0faf-cf05-484f-bfc6-517c70147ce3",
   "metadata": {},
   "source": [
    "### 16년 6월 30일부터 포트폴리오 구해서 23년 12월 28일까지 초과 수익률 구하기"
   ]
  },
  {
   "cell_type": "code",
   "execution_count": 30,
   "id": "1351c3cf-d49b-4394-bcb2-ea35d9eddd0f",
   "metadata": {
    "execution": {
     "iopub.execute_input": "2025-05-22T01:47:26.965633Z",
     "iopub.status.busy": "2025-05-22T01:47:26.965203Z",
     "iopub.status.idle": "2025-05-22T01:47:26.977307Z",
     "shell.execute_reply": "2025-05-22T01:47:26.976264Z",
     "shell.execute_reply.started": "2025-05-22T01:47:26.965593Z"
    }
   },
   "outputs": [],
   "source": [
    "EoMtemp = EoM[(EoM>=pd.Timestamp('2016-12-30'))] #& (EoM<=factor_ret_final.index[-1])]"
   ]
  },
  {
   "cell_type": "code",
   "execution_count": 31,
   "id": "637d954e-e957-4753-9c06-605e6d2ee613",
   "metadata": {
    "execution": {
     "iopub.execute_input": "2025-05-22T01:47:26.979163Z",
     "iopub.status.busy": "2025-05-22T01:47:26.978639Z",
     "iopub.status.idle": "2025-05-22T01:47:26.991657Z",
     "shell.execute_reply": "2025-05-22T01:47:26.990632Z",
     "shell.execute_reply.started": "2025-05-22T01:47:26.979121Z"
    }
   },
   "outputs": [],
   "source": [
    "# EoMtemp = EoM[(EoM>=pd.Timestamp('2016-12-30')) & (EoM<=pd.Timestamp('2024-12-30'))]"
   ]
  },
  {
   "cell_type": "code",
   "execution_count": 32,
   "id": "f6107a3d-2f23-46ab-b621-da275ee300ef",
   "metadata": {
    "execution": {
     "iopub.execute_input": "2025-05-22T01:47:26.993608Z",
     "iopub.status.busy": "2025-05-22T01:47:26.992977Z",
     "iopub.status.idle": "2025-05-22T01:47:27.022777Z",
     "shell.execute_reply": "2025-05-22T01:47:27.021791Z",
     "shell.execute_reply.started": "2025-05-22T01:47:26.993565Z"
    },
    "scrolled": true
   },
   "outputs": [
    {
     "data": {
      "text/plain": [
       "array(['2017-01-31T00:00:00.000000000', '2017-02-28T00:00:00.000000000',\n",
       "       '2017-03-31T00:00:00.000000000', '2017-04-28T00:00:00.000000000',\n",
       "       '2017-05-31T00:00:00.000000000', '2017-06-30T00:00:00.000000000',\n",
       "       '2017-07-31T00:00:00.000000000', '2017-08-31T00:00:00.000000000',\n",
       "       '2017-09-29T00:00:00.000000000', '2017-10-31T00:00:00.000000000',\n",
       "       '2017-11-30T00:00:00.000000000', '2017-12-28T00:00:00.000000000',\n",
       "       '2018-01-31T00:00:00.000000000', '2018-02-28T00:00:00.000000000',\n",
       "       '2018-03-30T00:00:00.000000000', '2018-04-30T00:00:00.000000000',\n",
       "       '2018-05-31T00:00:00.000000000', '2018-06-29T00:00:00.000000000',\n",
       "       '2018-07-31T00:00:00.000000000', '2018-08-31T00:00:00.000000000',\n",
       "       '2018-09-28T00:00:00.000000000', '2018-10-31T00:00:00.000000000',\n",
       "       '2018-11-30T00:00:00.000000000', '2018-12-28T00:00:00.000000000',\n",
       "       '2019-01-31T00:00:00.000000000', '2019-02-28T00:00:00.000000000',\n",
       "       '2019-03-29T00:00:00.000000000', '2019-04-30T00:00:00.000000000',\n",
       "       '2019-05-31T00:00:00.000000000', '2019-06-28T00:00:00.000000000',\n",
       "       '2019-07-31T00:00:00.000000000', '2019-08-30T00:00:00.000000000',\n",
       "       '2019-09-30T00:00:00.000000000', '2019-10-31T00:00:00.000000000',\n",
       "       '2019-11-29T00:00:00.000000000', '2019-12-30T00:00:00.000000000',\n",
       "       '2020-01-31T00:00:00.000000000', '2020-02-28T00:00:00.000000000',\n",
       "       '2020-03-31T00:00:00.000000000', '2020-04-29T00:00:00.000000000',\n",
       "       '2020-05-29T00:00:00.000000000', '2020-06-30T00:00:00.000000000',\n",
       "       '2020-07-31T00:00:00.000000000', '2020-08-31T00:00:00.000000000',\n",
       "       '2020-09-29T00:00:00.000000000', '2020-10-30T00:00:00.000000000',\n",
       "       '2020-11-30T00:00:00.000000000', '2020-12-30T00:00:00.000000000',\n",
       "       '2021-01-29T00:00:00.000000000', '2021-02-26T00:00:00.000000000',\n",
       "       '2021-03-31T00:00:00.000000000', '2021-04-30T00:00:00.000000000',\n",
       "       '2021-05-31T00:00:00.000000000', '2021-06-30T00:00:00.000000000',\n",
       "       '2021-07-30T00:00:00.000000000', '2021-08-31T00:00:00.000000000',\n",
       "       '2021-09-30T00:00:00.000000000', '2021-10-29T00:00:00.000000000',\n",
       "       '2021-11-30T00:00:00.000000000', '2021-12-30T00:00:00.000000000',\n",
       "       '2022-01-28T00:00:00.000000000', '2022-02-28T00:00:00.000000000',\n",
       "       '2022-03-31T00:00:00.000000000', '2022-04-29T00:00:00.000000000',\n",
       "       '2022-05-31T00:00:00.000000000', '2022-06-30T00:00:00.000000000',\n",
       "       '2022-07-29T00:00:00.000000000', '2022-08-31T00:00:00.000000000',\n",
       "       '2022-09-30T00:00:00.000000000', '2022-10-31T00:00:00.000000000',\n",
       "       '2022-11-30T00:00:00.000000000', '2022-12-29T00:00:00.000000000',\n",
       "       '2023-01-31T00:00:00.000000000', '2023-02-28T00:00:00.000000000',\n",
       "       '2023-03-31T00:00:00.000000000', '2023-04-28T00:00:00.000000000',\n",
       "       '2023-05-31T00:00:00.000000000', '2023-06-30T00:00:00.000000000',\n",
       "       '2023-07-31T00:00:00.000000000', '2023-08-31T00:00:00.000000000',\n",
       "       '2023-09-27T00:00:00.000000000', '2023-10-31T00:00:00.000000000',\n",
       "       '2023-11-30T00:00:00.000000000', '2023-12-28T00:00:00.000000000',\n",
       "       '2024-01-31T00:00:00.000000000', '2024-02-29T00:00:00.000000000',\n",
       "       '2024-03-29T00:00:00.000000000', '2024-04-30T00:00:00.000000000',\n",
       "       '2024-05-31T00:00:00.000000000', '2024-06-28T00:00:00.000000000',\n",
       "       '2024-07-31T00:00:00.000000000', '2024-08-30T00:00:00.000000000',\n",
       "       '2024-09-30T00:00:00.000000000', '2024-10-31T00:00:00.000000000',\n",
       "       '2024-11-29T00:00:00.000000000', '2024-12-30T00:00:00.000000000',\n",
       "       '2025-01-31T00:00:00.000000000', '2025-02-28T00:00:00.000000000',\n",
       "       '2025-03-31T00:00:00.000000000', '2025-04-30T00:00:00.000000000',\n",
       "       '2025-05-02T00:00:00.000000000'], dtype='datetime64[ns]')"
      ]
     },
     "execution_count": 32,
     "metadata": {},
     "output_type": "execute_result"
    }
   ],
   "source": [
    "EoMtemp"
   ]
  },
  {
   "cell_type": "code",
   "execution_count": 33,
   "id": "6bd9336e-9da2-4d61-b5ef-3645b871d6d3",
   "metadata": {
    "execution": {
     "iopub.execute_input": "2025-05-22T01:47:27.024700Z",
     "iopub.status.busy": "2025-05-22T01:47:27.024188Z",
     "iopub.status.idle": "2025-05-22T02:14:52.247277Z",
     "shell.execute_reply": "2025-05-22T02:14:52.246370Z",
     "shell.execute_reply.started": "2025-05-22T01:47:27.024657Z"
    },
    "scrolled": true
   },
   "outputs": [
    {
     "name": "stdout",
     "output_type": "stream",
     "text": [
      "2017-01-31T00:00:00.000000000\n",
      "2017-02-28T00:00:00.000000000\n",
      "2017-03-31T00:00:00.000000000\n",
      "2017-04-28T00:00:00.000000000\n",
      "2017-05-31T00:00:00.000000000\n",
      "2017-06-30T00:00:00.000000000\n",
      "2017-07-31T00:00:00.000000000\n",
      "2017-08-31T00:00:00.000000000\n",
      "2017-09-29T00:00:00.000000000\n",
      "2017-10-31T00:00:00.000000000\n",
      "2017-11-30T00:00:00.000000000\n",
      "2017-12-28T00:00:00.000000000\n",
      "2018-01-31T00:00:00.000000000\n",
      "2018-02-28T00:00:00.000000000\n",
      "2018-03-30T00:00:00.000000000\n",
      "2018-04-30T00:00:00.000000000\n",
      "2018-05-31T00:00:00.000000000\n",
      "2018-06-29T00:00:00.000000000\n",
      "2018-07-31T00:00:00.000000000\n",
      "2018-08-31T00:00:00.000000000\n",
      "2018-09-28T00:00:00.000000000\n",
      "2018-10-31T00:00:00.000000000\n",
      "2018-11-30T00:00:00.000000000\n",
      "2018-12-28T00:00:00.000000000\n",
      "2019-01-31T00:00:00.000000000\n",
      "2019-02-28T00:00:00.000000000\n",
      "2019-03-29T00:00:00.000000000\n",
      "2019-04-30T00:00:00.000000000\n",
      "2019-05-31T00:00:00.000000000\n",
      "2019-06-28T00:00:00.000000000\n",
      "2019-07-31T00:00:00.000000000\n",
      "2019-08-30T00:00:00.000000000\n",
      "2019-09-30T00:00:00.000000000\n",
      "2019-10-31T00:00:00.000000000\n",
      "2019-11-29T00:00:00.000000000\n",
      "2019-12-30T00:00:00.000000000\n",
      "2020-01-31T00:00:00.000000000\n",
      "2020-02-28T00:00:00.000000000\n",
      "2020-03-31T00:00:00.000000000\n",
      "2020-04-29T00:00:00.000000000\n",
      "2020-05-29T00:00:00.000000000\n",
      "2020-06-30T00:00:00.000000000\n",
      "2020-07-31T00:00:00.000000000\n",
      "2020-08-31T00:00:00.000000000\n",
      "2020-09-29T00:00:00.000000000\n",
      "2020-10-30T00:00:00.000000000\n",
      "2020-11-30T00:00:00.000000000\n",
      "2020-12-30T00:00:00.000000000\n",
      "2021-01-29T00:00:00.000000000\n",
      "2021-02-26T00:00:00.000000000\n",
      "2021-03-31T00:00:00.000000000\n",
      "2021-04-30T00:00:00.000000000\n",
      "2021-05-31T00:00:00.000000000\n",
      "2021-06-30T00:00:00.000000000\n",
      "2021-07-30T00:00:00.000000000\n",
      "2021-08-31T00:00:00.000000000\n",
      "2021-09-30T00:00:00.000000000\n",
      "2021-10-29T00:00:00.000000000\n",
      "2021-11-30T00:00:00.000000000\n",
      "2021-12-30T00:00:00.000000000\n",
      "2022-01-28T00:00:00.000000000\n",
      "2022-02-28T00:00:00.000000000\n",
      "2022-03-31T00:00:00.000000000\n",
      "2022-04-29T00:00:00.000000000\n",
      "2022-05-31T00:00:00.000000000\n",
      "2022-06-30T00:00:00.000000000\n",
      "2022-07-29T00:00:00.000000000\n",
      "2022-08-31T00:00:00.000000000\n",
      "2022-09-30T00:00:00.000000000\n",
      "2022-10-31T00:00:00.000000000\n",
      "2022-11-30T00:00:00.000000000\n",
      "2022-12-29T00:00:00.000000000\n",
      "2023-01-31T00:00:00.000000000\n",
      "2023-02-28T00:00:00.000000000\n",
      "2023-03-31T00:00:00.000000000\n",
      "2023-04-28T00:00:00.000000000\n",
      "2023-05-31T00:00:00.000000000\n",
      "2023-06-30T00:00:00.000000000\n",
      "2023-07-31T00:00:00.000000000\n",
      "2023-08-31T00:00:00.000000000\n",
      "2023-09-27T00:00:00.000000000\n",
      "2023-10-31T00:00:00.000000000\n",
      "2023-11-30T00:00:00.000000000\n",
      "2023-12-28T00:00:00.000000000\n",
      "2024-01-31T00:00:00.000000000\n",
      "2024-02-29T00:00:00.000000000\n",
      "2024-03-29T00:00:00.000000000\n",
      "2024-04-30T00:00:00.000000000\n",
      "2024-05-31T00:00:00.000000000\n",
      "2024-06-28T00:00:00.000000000\n",
      "2024-07-31T00:00:00.000000000\n",
      "2024-08-30T00:00:00.000000000\n",
      "2024-09-30T00:00:00.000000000\n",
      "2024-10-31T00:00:00.000000000\n",
      "2024-11-29T00:00:00.000000000\n",
      "2024-12-30T00:00:00.000000000\n",
      "2025-01-31T00:00:00.000000000\n",
      "2025-02-28T00:00:00.000000000\n",
      "2025-03-31T00:00:00.000000000\n",
      "2025-04-30T00:00:00.000000000\n"
     ]
    }
   ],
   "source": [
    "EndOfMonthTemp = EoM[33]\n",
    "NAVTemp = 100*10**8\n",
    "# DailyNAV = dict()\n",
    "ports = dict()\n",
    "PortReturn = dict()\n",
    "rebalancing = 1\n",
    "table_ls=[]\n",
    "for i in range(0, len(EoMtemp)-1, rebalancing): # 두달 주기로 리밸런싱하기\n",
    "    date = EoMtemp[i]\n",
    "    # it needs to check the second last business date \n",
    "    # if i==len(EoMtemp)-1:\n",
    "    #     if EoMtemp[-2].month != EoMtemp[-1].month:\n",
    "    #         break\n",
    "    #     date = EoMtemp[-1] # date - np.timedelta64(1, 'D')\n",
    "        \n",
    "    print(date)\n",
    "    # ESGDF = LoadESG(date, ESGDATADIR)\n",
    "    kospi200atD = GetKOSPI200AtD(KOSPI200, date)\n",
    "    A005930Weight = A005930Ratio.loc[date, 'ratio']\n",
    "    ratio = ratioDataFrame.loc[date, 'Ratio']\n",
    "    \n",
    "    DataTable = GetDataTable(DataFrameDict, tradingDates, date, Dynamicportfolio, kospi200atD)\n",
    "    RawTable = GetRawDataTable(DataTable, ratio)\n",
    "\n",
    "    dd = date + np.timedelta64(-60, \"D\")\n",
    "    dd = GetBusinessDayBefore(tradingDates, dd)\n",
    "    flag2yr = 0\n",
    "    if pd.Timestamp(date).year == pd.Timestamp(dd).year:\n",
    "        FactorTable = GetFactorInitialTable(RawTable, ratio, flag2yr)\n",
    "    else:\n",
    "        flag2yr = 1\n",
    "        FactorTable = GetFactorInitialTable(RawTable, ratio, flag2yr)\n",
    "\n",
    "    FactorTable = AdjustLeverage(FactorTable)\n",
    "    FactorTable = StandardizeColumns(FactorTable)\n",
    "    table_ls.append(FactorTable)"
   ]
  },
  {
   "cell_type": "code",
   "execution_count": 34,
   "id": "612a5ab0-8dba-42c3-bf80-2bc77f2321c7",
   "metadata": {
    "execution": {
     "iopub.execute_input": "2025-05-22T04:02:09.105452Z",
     "iopub.status.busy": "2025-05-22T04:02:09.104883Z",
     "iopub.status.idle": "2025-05-22T04:02:09.115043Z",
     "shell.execute_reply": "2025-05-22T04:02:09.114014Z",
     "shell.execute_reply.started": "2025-05-22T04:02:09.105402Z"
    }
   },
   "outputs": [
    {
     "data": {
      "text/plain": [
       "array(['2010-03-04T00:00:00.000000000', '2010-03-05T00:00:00.000000000',\n",
       "       '2010-03-08T00:00:00.000000000', ...,\n",
       "       '2025-04-29T00:00:00.000000000', '2025-04-30T00:00:00.000000000',\n",
       "       '2025-05-02T00:00:00.000000000'], dtype='datetime64[ns]')"
      ]
     },
     "execution_count": 34,
     "metadata": {},
     "output_type": "execute_result"
    }
   ],
   "source": [
    "tradingDates"
   ]
  },
  {
   "cell_type": "code",
   "execution_count": 35,
   "id": "d7681fcd-b33f-4f1c-a34a-cc1437a3288d",
   "metadata": {
    "execution": {
     "iopub.execute_input": "2025-05-22T04:02:09.455988Z",
     "iopub.status.busy": "2025-05-22T04:02:09.455482Z",
     "iopub.status.idle": "2025-05-22T04:02:09.465796Z",
     "shell.execute_reply": "2025-05-22T04:02:09.464671Z",
     "shell.execute_reply.started": "2025-05-22T04:02:09.455941Z"
    }
   },
   "outputs": [
    {
     "name": "stdout",
     "output_type": "stream",
     "text": [
      "['2025-04-30T00:00:00.000000000' '2025-05-02T00:00:00.000000000']\n"
     ]
    }
   ],
   "source": [
    "# Datediff = [+1, -60, -180]\n",
    "# # Get4Dates(Datediff, tradingDates, date)\n",
    "\n",
    "# date_list = [date]\n",
    "# for dd in Datediff:\n",
    "#     d_temp = date + np.timedelta64(dd,'D')\n",
    "#     if dd > 0:\n",
    "#         Day = tradingDates[(tradingDates >= date) & (tradingDates <= date + np.timedelta64(20, 'D'))]\n",
    "#         print(Day)\n",
    "#         if len(Day) == 0:\n",
    "#             raise ValueError(\"The given date is not found in the DataFrame.\")"
   ]
  },
  {
   "cell_type": "code",
   "execution_count": null,
   "id": "5b9a49c5-efd0-446b-b40d-e05654c0df4c",
   "metadata": {},
   "outputs": [],
   "source": []
  },
  {
   "cell_type": "code",
   "execution_count": 37,
   "id": "ae46a7b9-666d-48e9-b5e1-9d3ddcce125e",
   "metadata": {
    "execution": {
     "iopub.execute_input": "2025-05-22T04:02:54.353706Z",
     "iopub.status.busy": "2025-05-22T04:02:54.353154Z",
     "iopub.status.idle": "2025-05-22T04:02:54.359563Z",
     "shell.execute_reply": "2025-05-22T04:02:54.358475Z",
     "shell.execute_reply.started": "2025-05-22T04:02:54.353661Z"
    }
   },
   "outputs": [],
   "source": [
    "# date = EoMtemp[-1]-np.timedelta64(1, 'D')\n",
    "# # ESGDF = LoadESG(date, ESGDATADIR)\n",
    "# kospi200atD = GetKOSPI200AtD(KOSPI200, date)\n",
    "# A005930Weight = A005930Ratio.loc[date, 'ratio']\n",
    "# ratio = ratioDataFrame.loc[date, 'Ratio']\n",
    "\n",
    "# print(date, tradingDates)\n",
    "# DataTable = GetDataTable(DataFrameDict, tradingDates, date, False, kospi200atD)\n",
    "# RawTable = GetRawDataTable(DataTable, ratio)\n",
    "\n",
    "# dd = date + np.timedelta64(-60, \"D\")\n",
    "# dd = GetBusinessDayBefore(tradingDates, dd)\n",
    "# flag2yr = 0\n",
    "# if pd.Timestamp(date).year == pd.Timestamp(dd).year:\n",
    "#     FactorTable = GetFactorInitialTable(RawTable, ratio, flag2yr)\n",
    "# else:\n",
    "#     flag2yr = 1\n",
    "#     FactorTable = GetFactorInitialTable(RawTable, ratio, flag2yr)\n",
    "\n",
    "# FactorTable = AdjustLeverage(FactorTable)\n",
    "# FactorTable = StandardizeColumns(FactorTable)"
   ]
  },
  {
   "cell_type": "code",
   "execution_count": null,
   "id": "e58b1799-375c-4f10-8bb4-5ce1613b0262",
   "metadata": {
    "execution": {
     "iopub.status.busy": "2025-05-22T04:02:11.261496Z",
     "iopub.status.idle": "2025-05-22T04:02:11.261748Z",
     "shell.execute_reply": "2025-05-22T04:02:11.261634Z",
     "shell.execute_reply.started": "2025-05-22T04:02:11.261621Z"
    }
   },
   "outputs": [],
   "source": [
    "# table_ls.append(FactorTable)"
   ]
  },
  {
   "cell_type": "code",
   "execution_count": null,
   "id": "9f6e1122-7083-4aff-9252-74f1f9c71af3",
   "metadata": {},
   "outputs": [],
   "source": []
  },
  {
   "cell_type": "code",
   "execution_count": 38,
   "id": "aec16153-4d84-4011-9b9a-05f19131fdeb",
   "metadata": {
    "execution": {
     "iopub.execute_input": "2025-05-22T04:03:07.431278Z",
     "iopub.status.busy": "2025-05-22T04:03:07.430755Z",
     "iopub.status.idle": "2025-05-22T04:03:07.581193Z",
     "shell.execute_reply": "2025-05-22T04:03:07.580176Z",
     "shell.execute_reply.started": "2025-05-22T04:03:07.431235Z"
    }
   },
   "outputs": [],
   "source": [
    "df_list=[tab.reset_index().drop(columns='Name') for tab in table_ls]"
   ]
  },
  {
   "cell_type": "code",
   "execution_count": 39,
   "id": "c3293d54-34b7-4f97-91b2-76a33599769b",
   "metadata": {
    "execution": {
     "iopub.execute_input": "2025-05-22T04:03:08.288912Z",
     "iopub.status.busy": "2025-05-22T04:03:08.288393Z",
     "iopub.status.idle": "2025-05-22T04:03:08.520312Z",
     "shell.execute_reply": "2025-05-22T04:03:08.519245Z",
     "shell.execute_reply.started": "2025-05-22T04:03:08.288868Z"
    }
   },
   "outputs": [],
   "source": [
    "df_list=[tab.set_index(pd.MultiIndex.from_arrays([[eom]*len(tab), tab['Symbol']], names=['Dates', 'Symbol'])) for i, (tab, eom) in enumerate(zip(df_list, EoMtemp))]"
   ]
  },
  {
   "cell_type": "code",
   "execution_count": 40,
   "id": "e8613d94-a4f1-48d7-820a-7e7ad5ef2ece",
   "metadata": {
    "execution": {
     "iopub.execute_input": "2025-05-22T04:03:09.150728Z",
     "iopub.status.busy": "2025-05-22T04:03:09.150219Z",
     "iopub.status.idle": "2025-05-22T04:03:09.248824Z",
     "shell.execute_reply": "2025-05-22T04:03:09.247984Z",
     "shell.execute_reply.started": "2025-05-22T04:03:09.150683Z"
    }
   },
   "outputs": [],
   "source": [
    "factor_df=pd.concat(df_list)"
   ]
  },
  {
   "cell_type": "code",
   "execution_count": 41,
   "id": "62292fdf-a8e1-4530-b770-7d7688b16f34",
   "metadata": {
    "execution": {
     "iopub.execute_input": "2025-05-22T04:03:10.007352Z",
     "iopub.status.busy": "2025-05-22T04:03:10.006843Z",
     "iopub.status.idle": "2025-05-22T04:03:10.015731Z",
     "shell.execute_reply": "2025-05-22T04:03:10.014511Z",
     "shell.execute_reply.started": "2025-05-22T04:03:10.007310Z"
    }
   },
   "outputs": [
    {
     "data": {
      "text/plain": [
       "'2017-01-31'"
      ]
     },
     "execution_count": 41,
     "metadata": {},
     "output_type": "execute_result"
    }
   ],
   "source": [
    "str(pd.to_datetime(EoMtemp[0]))[:10]"
   ]
  },
  {
   "cell_type": "code",
   "execution_count": 42,
   "id": "56d63167-f772-4729-ae72-d65092766083",
   "metadata": {
    "execution": {
     "iopub.execute_input": "2025-05-22T04:03:13.871908Z",
     "iopub.status.busy": "2025-05-22T04:03:13.871396Z",
     "iopub.status.idle": "2025-05-22T04:03:13.907442Z",
     "shell.execute_reply": "2025-05-22T04:03:13.906504Z",
     "shell.execute_reply.started": "2025-05-22T04:03:13.871864Z"
    }
   },
   "outputs": [
    {
     "data": {
      "text/html": [
       "<div>\n",
       "<style scoped>\n",
       "    .dataframe tbody tr th:only-of-type {\n",
       "        vertical-align: middle;\n",
       "    }\n",
       "\n",
       "    .dataframe tbody tr th {\n",
       "        vertical-align: top;\n",
       "    }\n",
       "\n",
       "    .dataframe thead th {\n",
       "        text-align: right;\n",
       "    }\n",
       "</style>\n",
       "<table border=\"1\" class=\"dataframe\">\n",
       "  <thead>\n",
       "    <tr style=\"text-align: right;\">\n",
       "      <th></th>\n",
       "      <th></th>\n",
       "      <th>Symbol</th>\n",
       "      <th>BP</th>\n",
       "      <th>AssetP</th>\n",
       "      <th>SalesP</th>\n",
       "      <th>ROE</th>\n",
       "      <th>EBITDAY</th>\n",
       "      <th>EY_12M</th>\n",
       "      <th>EPSG</th>\n",
       "      <th>OPG</th>\n",
       "      <th>DY</th>\n",
       "      <th>InstituitionalBuy</th>\n",
       "      <th>Leverage</th>\n",
       "      <th>OPM</th>\n",
       "      <th>OP_M1M</th>\n",
       "      <th>ReverseMomentum</th>\n",
       "      <th>PriceMomentum</th>\n",
       "    </tr>\n",
       "    <tr>\n",
       "      <th>Dates</th>\n",
       "      <th>Symbol</th>\n",
       "      <th></th>\n",
       "      <th></th>\n",
       "      <th></th>\n",
       "      <th></th>\n",
       "      <th></th>\n",
       "      <th></th>\n",
       "      <th></th>\n",
       "      <th></th>\n",
       "      <th></th>\n",
       "      <th></th>\n",
       "      <th></th>\n",
       "      <th></th>\n",
       "      <th></th>\n",
       "      <th></th>\n",
       "      <th></th>\n",
       "      <th></th>\n",
       "    </tr>\n",
       "  </thead>\n",
       "  <tbody>\n",
       "    <tr>\n",
       "      <th rowspan=\"5\" valign=\"top\">2017-01-31</th>\n",
       "      <th>A000030</th>\n",
       "      <td>A000030</td>\n",
       "      <td>2.045339</td>\n",
       "      <td>NaN</td>\n",
       "      <td>NaN</td>\n",
       "      <td>NaN</td>\n",
       "      <td>NaN</td>\n",
       "      <td>1.190290</td>\n",
       "      <td>NaN</td>\n",
       "      <td>NaN</td>\n",
       "      <td>NaN</td>\n",
       "      <td>-0.067737</td>\n",
       "      <td>NaN</td>\n",
       "      <td>NaN</td>\n",
       "      <td>0.365002</td>\n",
       "      <td>NaN</td>\n",
       "      <td>2.011268</td>\n",
       "    </tr>\n",
       "    <tr>\n",
       "      <th>A000050</th>\n",
       "      <td>A000050</td>\n",
       "      <td>1.109435</td>\n",
       "      <td>1.120656</td>\n",
       "      <td>-0.579718</td>\n",
       "      <td>-0.293889</td>\n",
       "      <td>0.038626</td>\n",
       "      <td>NaN</td>\n",
       "      <td>NaN</td>\n",
       "      <td>NaN</td>\n",
       "      <td>-0.337365</td>\n",
       "      <td>-0.311508</td>\n",
       "      <td>-0.128141</td>\n",
       "      <td>0.349688</td>\n",
       "      <td>NaN</td>\n",
       "      <td>1.962856</td>\n",
       "      <td>-0.319378</td>\n",
       "    </tr>\n",
       "    <tr>\n",
       "      <th>A000070</th>\n",
       "      <td>A000070</td>\n",
       "      <td>0.861228</td>\n",
       "      <td>-0.146192</td>\n",
       "      <td>0.430815</td>\n",
       "      <td>-0.283817</td>\n",
       "      <td>0.281174</td>\n",
       "      <td>NaN</td>\n",
       "      <td>NaN</td>\n",
       "      <td>NaN</td>\n",
       "      <td>0.058880</td>\n",
       "      <td>-0.729580</td>\n",
       "      <td>3.000000</td>\n",
       "      <td>-0.116986</td>\n",
       "      <td>-3.000000</td>\n",
       "      <td>1.814071</td>\n",
       "      <td>-0.742254</td>\n",
       "    </tr>\n",
       "    <tr>\n",
       "      <th>A000080</th>\n",
       "      <td>A000080</td>\n",
       "      <td>-0.244518</td>\n",
       "      <td>0.442812</td>\n",
       "      <td>-0.373087</td>\n",
       "      <td>-0.309334</td>\n",
       "      <td>-0.095967</td>\n",
       "      <td>-1.206360</td>\n",
       "      <td>-0.155604</td>\n",
       "      <td>-0.351711</td>\n",
       "      <td>3.000000</td>\n",
       "      <td>-0.088817</td>\n",
       "      <td>-0.263575</td>\n",
       "      <td>-0.241787</td>\n",
       "      <td>-0.057302</td>\n",
       "      <td>-0.478739</td>\n",
       "      <td>-0.234634</td>\n",
       "    </tr>\n",
       "    <tr>\n",
       "      <th>A000100</th>\n",
       "      <td>A000100</td>\n",
       "      <td>-0.599844</td>\n",
       "      <td>-0.657295</td>\n",
       "      <td>-0.814438</td>\n",
       "      <td>0.000844</td>\n",
       "      <td>-0.629602</td>\n",
       "      <td>-0.768735</td>\n",
       "      <td>-0.649415</td>\n",
       "      <td>-0.282151</td>\n",
       "      <td>-0.281906</td>\n",
       "      <td>0.745540</td>\n",
       "      <td>1.327773</td>\n",
       "      <td>-0.172752</td>\n",
       "      <td>0.070327</td>\n",
       "      <td>0.144719</td>\n",
       "      <td>-1.691920</td>\n",
       "    </tr>\n",
       "    <tr>\n",
       "      <th>...</th>\n",
       "      <th>...</th>\n",
       "      <td>...</td>\n",
       "      <td>...</td>\n",
       "      <td>...</td>\n",
       "      <td>...</td>\n",
       "      <td>...</td>\n",
       "      <td>...</td>\n",
       "      <td>...</td>\n",
       "      <td>...</td>\n",
       "      <td>...</td>\n",
       "      <td>...</td>\n",
       "      <td>...</td>\n",
       "      <td>...</td>\n",
       "      <td>...</td>\n",
       "      <td>...</td>\n",
       "      <td>...</td>\n",
       "      <td>...</td>\n",
       "    </tr>\n",
       "    <tr>\n",
       "      <th rowspan=\"5\" valign=\"top\">2025-04-30</th>\n",
       "      <th>A402340</th>\n",
       "      <td>A402340</td>\n",
       "      <td>0.124467</td>\n",
       "      <td>-0.720280</td>\n",
       "      <td>-0.803449</td>\n",
       "      <td>1.047625</td>\n",
       "      <td>0.936104</td>\n",
       "      <td>3.000000</td>\n",
       "      <td>-0.463313</td>\n",
       "      <td>-0.241242</td>\n",
       "      <td>-0.937408</td>\n",
       "      <td>-0.212630</td>\n",
       "      <td>3.000000</td>\n",
       "      <td>3.000000</td>\n",
       "      <td>0.400206</td>\n",
       "      <td>0.179627</td>\n",
       "      <td>0.172130</td>\n",
       "    </tr>\n",
       "    <tr>\n",
       "      <th>A450080</th>\n",
       "      <td>A450080</td>\n",
       "      <td>-1.017086</td>\n",
       "      <td>-0.865050</td>\n",
       "      <td>NaN</td>\n",
       "      <td>NaN</td>\n",
       "      <td>NaN</td>\n",
       "      <td>NaN</td>\n",
       "      <td>NaN</td>\n",
       "      <td>NaN</td>\n",
       "      <td>-0.937408</td>\n",
       "      <td>-0.557719</td>\n",
       "      <td>0.066743</td>\n",
       "      <td>NaN</td>\n",
       "      <td>NaN</td>\n",
       "      <td>3.000000</td>\n",
       "      <td>-1.447074</td>\n",
       "    </tr>\n",
       "    <tr>\n",
       "      <th>A454910</th>\n",
       "      <td>A454910</td>\n",
       "      <td>-1.071064</td>\n",
       "      <td>-0.973271</td>\n",
       "      <td>-1.019973</td>\n",
       "      <td>-1.219030</td>\n",
       "      <td>-0.986860</td>\n",
       "      <td>NaN</td>\n",
       "      <td>NaN</td>\n",
       "      <td>NaN</td>\n",
       "      <td>-0.937408</td>\n",
       "      <td>-0.465512</td>\n",
       "      <td>3.000000</td>\n",
       "      <td>-3.000000</td>\n",
       "      <td>-3.000000</td>\n",
       "      <td>2.542498</td>\n",
       "      <td>-0.762877</td>\n",
       "    </tr>\n",
       "    <tr>\n",
       "      <th>A456040</th>\n",
       "      <td>A456040</td>\n",
       "      <td>0.791957</td>\n",
       "      <td>1.220708</td>\n",
       "      <td>0.893231</td>\n",
       "      <td>0.131194</td>\n",
       "      <td>0.802199</td>\n",
       "      <td>NaN</td>\n",
       "      <td>NaN</td>\n",
       "      <td>NaN</td>\n",
       "      <td>0.698196</td>\n",
       "      <td>-0.521984</td>\n",
       "      <td>0.074730</td>\n",
       "      <td>-0.049681</td>\n",
       "      <td>NaN</td>\n",
       "      <td>0.639744</td>\n",
       "      <td>-0.665969</td>\n",
       "    </tr>\n",
       "    <tr>\n",
       "      <th>A457190</th>\n",
       "      <td>A457190</td>\n",
       "      <td>-1.094828</td>\n",
       "      <td>-0.920142</td>\n",
       "      <td>NaN</td>\n",
       "      <td>NaN</td>\n",
       "      <td>NaN</td>\n",
       "      <td>NaN</td>\n",
       "      <td>NaN</td>\n",
       "      <td>NaN</td>\n",
       "      <td>-0.937408</td>\n",
       "      <td>-0.353556</td>\n",
       "      <td>-0.074535</td>\n",
       "      <td>NaN</td>\n",
       "      <td>NaN</td>\n",
       "      <td>2.353519</td>\n",
       "      <td>0.243232</td>\n",
       "    </tr>\n",
       "  </tbody>\n",
       "</table>\n",
       "<p>20059 rows × 16 columns</p>\n",
       "</div>"
      ],
      "text/plain": [
       "                     Symbol        BP    AssetP    SalesP       ROE   EBITDAY  \\\n",
       "Dates      Symbol                                                               \n",
       "2017-01-31 A000030  A000030  2.045339       NaN       NaN       NaN       NaN   \n",
       "           A000050  A000050  1.109435  1.120656 -0.579718 -0.293889  0.038626   \n",
       "           A000070  A000070  0.861228 -0.146192  0.430815 -0.283817  0.281174   \n",
       "           A000080  A000080 -0.244518  0.442812 -0.373087 -0.309334 -0.095967   \n",
       "           A000100  A000100 -0.599844 -0.657295 -0.814438  0.000844 -0.629602   \n",
       "...                     ...       ...       ...       ...       ...       ...   \n",
       "2025-04-30 A402340  A402340  0.124467 -0.720280 -0.803449  1.047625  0.936104   \n",
       "           A450080  A450080 -1.017086 -0.865050       NaN       NaN       NaN   \n",
       "           A454910  A454910 -1.071064 -0.973271 -1.019973 -1.219030 -0.986860   \n",
       "           A456040  A456040  0.791957  1.220708  0.893231  0.131194  0.802199   \n",
       "           A457190  A457190 -1.094828 -0.920142       NaN       NaN       NaN   \n",
       "\n",
       "                      EY_12M      EPSG       OPG        DY  InstituitionalBuy  \\\n",
       "Dates      Symbol                                                               \n",
       "2017-01-31 A000030  1.190290       NaN       NaN       NaN          -0.067737   \n",
       "           A000050       NaN       NaN       NaN -0.337365          -0.311508   \n",
       "           A000070       NaN       NaN       NaN  0.058880          -0.729580   \n",
       "           A000080 -1.206360 -0.155604 -0.351711  3.000000          -0.088817   \n",
       "           A000100 -0.768735 -0.649415 -0.282151 -0.281906           0.745540   \n",
       "...                      ...       ...       ...       ...                ...   \n",
       "2025-04-30 A402340  3.000000 -0.463313 -0.241242 -0.937408          -0.212630   \n",
       "           A450080       NaN       NaN       NaN -0.937408          -0.557719   \n",
       "           A454910       NaN       NaN       NaN -0.937408          -0.465512   \n",
       "           A456040       NaN       NaN       NaN  0.698196          -0.521984   \n",
       "           A457190       NaN       NaN       NaN -0.937408          -0.353556   \n",
       "\n",
       "                    Leverage       OPM    OP_M1M  ReverseMomentum  \\\n",
       "Dates      Symbol                                                   \n",
       "2017-01-31 A000030       NaN       NaN  0.365002              NaN   \n",
       "           A000050 -0.128141  0.349688       NaN         1.962856   \n",
       "           A000070  3.000000 -0.116986 -3.000000         1.814071   \n",
       "           A000080 -0.263575 -0.241787 -0.057302        -0.478739   \n",
       "           A000100  1.327773 -0.172752  0.070327         0.144719   \n",
       "...                      ...       ...       ...              ...   \n",
       "2025-04-30 A402340  3.000000  3.000000  0.400206         0.179627   \n",
       "           A450080  0.066743       NaN       NaN         3.000000   \n",
       "           A454910  3.000000 -3.000000 -3.000000         2.542498   \n",
       "           A456040  0.074730 -0.049681       NaN         0.639744   \n",
       "           A457190 -0.074535       NaN       NaN         2.353519   \n",
       "\n",
       "                    PriceMomentum  \n",
       "Dates      Symbol                  \n",
       "2017-01-31 A000030       2.011268  \n",
       "           A000050      -0.319378  \n",
       "           A000070      -0.742254  \n",
       "           A000080      -0.234634  \n",
       "           A000100      -1.691920  \n",
       "...                           ...  \n",
       "2025-04-30 A402340       0.172130  \n",
       "           A450080      -1.447074  \n",
       "           A454910      -0.762877  \n",
       "           A456040      -0.665969  \n",
       "           A457190       0.243232  \n",
       "\n",
       "[20059 rows x 16 columns]"
      ]
     },
     "execution_count": 42,
     "metadata": {},
     "output_type": "execute_result"
    }
   ],
   "source": [
    "factor_df"
   ]
  },
  {
   "cell_type": "code",
   "execution_count": 41,
   "id": "30379b4e-0da2-4b77-b6be-833fe85d156f",
   "metadata": {
    "execution": {
     "iopub.execute_input": "2025-04-30T09:36:16.725679Z",
     "iopub.status.busy": "2025-04-30T09:36:16.725518Z",
     "iopub.status.idle": "2025-04-30T09:36:16.744974Z",
     "shell.execute_reply": "2025-04-30T09:36:16.744136Z",
     "shell.execute_reply.started": "2025-04-30T09:36:16.725663Z"
    }
   },
   "outputs": [],
   "source": [
    "factor_df.to_pickle(output_dir+'/DQ_factor_'+str(pd.to_datetime(EoMtemp[-1]))[:10]+'.pkl')"
   ]
  },
  {
   "cell_type": "code",
   "execution_count": null,
   "id": "411a18df-5a53-495a-873c-f21c1bd4a7a8",
   "metadata": {},
   "outputs": [],
   "source": []
  },
  {
   "cell_type": "code",
   "execution_count": null,
   "id": "3ef6dda1-134b-410c-847a-b5c21943a7db",
   "metadata": {},
   "outputs": [],
   "source": []
  }
 ],
 "metadata": {
  "kernelspec": {
   "display_name": "base",
   "language": "python",
   "name": "python3"
  },
  "language_info": {
   "codemirror_mode": {
    "name": "ipython",
    "version": 3
   },
   "file_extension": ".py",
   "mimetype": "text/x-python",
   "name": "python",
   "nbconvert_exporter": "python",
   "pygments_lexer": "ipython3",
   "version": "3.11.4"
  },
  "vscode": {
   "interpreter": {
    "hash": "15aaf6bcac47e13ca98308be0506f50202bde3ab53f441db82753711ce70d78a"
   }
  }
 },
 "nbformat": 4,
 "nbformat_minor": 5
}
