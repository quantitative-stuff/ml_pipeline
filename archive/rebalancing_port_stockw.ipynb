{
 "cells": [
  {
   "cell_type": "code",
   "execution_count": 1,
   "id": "8e8f0e0e-ceb1-4332-adee-bc7f1339e2da",
   "metadata": {
    "execution": {
     "iopub.execute_input": "2025-06-04T04:30:24.215390Z",
     "iopub.status.busy": "2025-06-04T04:30:24.214541Z",
     "iopub.status.idle": "2025-06-04T04:30:24.810428Z",
     "shell.execute_reply": "2025-06-04T04:30:24.809372Z",
     "shell.execute_reply.started": "2025-06-04T04:30:24.215343Z"
    },
    "tags": []
   },
   "outputs": [],
   "source": [
    "import pandas as pd\n",
    "from sqlalchemy import create_engine, text"
   ]
  },
  {
   "cell_type": "code",
   "execution_count": 2,
   "id": "f31f2c62-a0de-4527-88ac-26dc5e519bca",
   "metadata": {
    "execution": {
     "iopub.execute_input": "2025-06-04T04:30:24.811740Z",
     "iopub.status.busy": "2025-06-04T04:30:24.811417Z",
     "iopub.status.idle": "2025-06-04T04:30:27.642492Z",
     "shell.execute_reply": "2025-06-04T04:30:27.641640Z",
     "shell.execute_reply.started": "2025-06-04T04:30:24.811716Z"
    },
    "tags": []
   },
   "outputs": [
    {
     "name": "stderr",
     "output_type": "stream",
     "text": [
      "2025-06-04 13:30:25.667197: I tensorflow/core/util/port.cc:110] oneDNN custom operations are on. You may see slightly different numerical results due to floating-point round-off errors from different computation orders. To turn them off, set the environment variable `TF_ENABLE_ONEDNN_OPTS=0`.\n",
      "2025-06-04 13:30:25.723859: I tensorflow/core/platform/cpu_feature_guard.cc:182] This TensorFlow binary is optimized to use available CPU instructions in performance-critical operations.\n",
      "To enable the following instructions: AVX2 AVX512F AVX512_VNNI FMA, in other operations, rebuild TensorFlow with the appropriate compiler flags.\n"
     ]
    }
   ],
   "source": [
    "import sys\n",
    "\n",
    "# os.chdir('C:/Users/user/Documents/hs/pipeline-main/pipeline-main/')\n",
    "\n",
    "sys.path.append('../py')\n",
    "\n",
    "import data_processing as proc\n",
    "import utils\n",
    "import performance as perf\n"
   ]
  },
  {
   "cell_type": "code",
   "execution_count": 3,
   "id": "c5fbdf34-6469-40f6-82a9-4946ed63873f",
   "metadata": {
    "execution": {
     "iopub.execute_input": "2025-06-04T04:30:27.643861Z",
     "iopub.status.busy": "2025-06-04T04:30:27.643438Z",
     "iopub.status.idle": "2025-06-04T04:30:27.649395Z",
     "shell.execute_reply": "2025-06-04T04:30:27.648604Z",
     "shell.execute_reply.started": "2025-06-04T04:30:27.643839Z"
    }
   },
   "outputs": [],
   "source": [
    "import cx_Oracle\n",
    "import os\n",
    "os.putenv(' NLS_LANG', '.UTF8')"
   ]
  },
  {
   "cell_type": "code",
   "execution_count": 4,
   "id": "e8ca7295-af11-4d6e-8fd8-38912b977f53",
   "metadata": {
    "execution": {
     "iopub.execute_input": "2025-06-04T04:30:27.651653Z",
     "iopub.status.busy": "2025-06-04T04:30:27.651414Z",
     "iopub.status.idle": "2025-06-04T04:30:27.702772Z",
     "shell.execute_reply": "2025-06-04T04:30:27.701699Z",
     "shell.execute_reply.started": "2025-06-04T04:30:27.651631Z"
    }
   },
   "outputs": [],
   "source": [
    "dsn = cx_Oracle.makedsn('192.168.1.5', '1521', service_name = 'ORA11')\n",
    "con = cx_Oracle.connect('dbam', 'dbamkass', dsn = dsn, encoding=\"UTF-8\")\n",
    "cur = con.cursor()"
   ]
  },
  {
   "cell_type": "code",
   "execution_count": 5,
   "id": "463aede7-9097-4c4f-a077-cea2a3cdcb43",
   "metadata": {
    "execution": {
     "iopub.execute_input": "2025-06-04T04:30:27.704876Z",
     "iopub.status.busy": "2025-06-04T04:30:27.704165Z",
     "iopub.status.idle": "2025-06-04T04:30:54.175463Z",
     "shell.execute_reply": "2025-06-04T04:30:54.174401Z",
     "shell.execute_reply.started": "2025-06-04T04:30:27.704831Z"
    },
    "tags": []
   },
   "outputs": [],
   "source": [
    "sql_k200 = \" select 일자, 종목코드2 종목코드, 종목명_국문 종목명, 당일가격, 지수내비중, 상장주식수, 유동비율, \\\n",
    "            지수주식수, 지수시가총액 \\\n",
    "             from KASS1.TH068 \\\n",
    "             where 익일적용여부 ='NXT' \\\n",
    "             and ISIN = 'KRD020020016' \\\n",
    "             order by 지수내비중 desc \"\n",
    "\n",
    "cur.execute(sql_k200)\n",
    "k200_df = pd.DataFrame(cur.fetchall(), columns = [x[0] for x in cur.description])"
   ]
  },
  {
   "cell_type": "code",
   "execution_count": 6,
   "id": "c414d046-a175-4bd0-a14b-afabdb915588",
   "metadata": {
    "execution": {
     "iopub.execute_input": "2025-06-04T04:30:54.176698Z",
     "iopub.status.busy": "2025-06-04T04:30:54.176459Z",
     "iopub.status.idle": "2025-06-04T04:30:54.339151Z",
     "shell.execute_reply": "2025-06-04T04:30:54.338011Z",
     "shell.execute_reply.started": "2025-06-04T04:30:54.176676Z"
    },
    "scrolled": true
   },
   "outputs": [],
   "source": [
    "k200_df['일자']=pd.to_datetime(k200_df['일자'], format ='%Y%m%d')\n",
    "k200_df.set_index(['일자', '종목코드'], inplace=True)\n",
    "k200_df.index.names=['Dates', 'Symbol']\n",
    "k200_df.columns=['name', 'close', 'idx_weight', 'num_shares', 'float_rate', 'idx_num_shares', 'idx_cap']\n"
   ]
  },
  {
   "cell_type": "code",
   "execution_count": 7,
   "id": "5bacbe6f-d2eb-46ee-9636-8645d2d26d49",
   "metadata": {
    "execution": {
     "iopub.execute_input": "2025-06-04T04:30:54.340477Z",
     "iopub.status.busy": "2025-06-04T04:30:54.340241Z",
     "iopub.status.idle": "2025-06-04T04:30:54.497333Z",
     "shell.execute_reply": "2025-06-04T04:30:54.496290Z",
     "shell.execute_reply.started": "2025-06-04T04:30:54.340457Z"
    }
   },
   "outputs": [],
   "source": [
    "k200_df=k200_df.sort_index(level='Dates')"
   ]
  },
  {
   "cell_type": "code",
   "execution_count": 8,
   "id": "87218717-06af-4c15-ba69-b5cbf58a848e",
   "metadata": {
    "execution": {
     "iopub.execute_input": "2025-06-04T04:30:54.498647Z",
     "iopub.status.busy": "2025-06-04T04:30:54.498340Z",
     "iopub.status.idle": "2025-06-04T04:30:54.548888Z",
     "shell.execute_reply": "2025-06-04T04:30:54.547997Z",
     "shell.execute_reply.started": "2025-06-04T04:30:54.498616Z"
    },
    "tags": []
   },
   "outputs": [],
   "source": [
    "host = '192.168.1.27'\n",
    "port = '3306'\n",
    "db_name = 'quantdb_maria'\n",
    "username = 'quantdb'\n",
    "password = 'QuantDb2023!'\n",
    "\n",
    "engine = create_engine(\"mysql+pymysql://\" + username + \":\" + password + \"@\" + host + \":\" + port + \"/\" + db_name)\n",
    "conn=engine.connect()"
   ]
  },
  {
   "cell_type": "code",
   "execution_count": 9,
   "id": "cf8d8f51-57ff-4d2a-9800-5fd759d449dc",
   "metadata": {
    "execution": {
     "iopub.execute_input": "2025-06-04T04:30:54.550224Z",
     "iopub.status.busy": "2025-06-04T04:30:54.549952Z",
     "iopub.status.idle": "2025-06-04T04:30:54.554272Z",
     "shell.execute_reply": "2025-06-04T04:30:54.553518Z",
     "shell.execute_reply.started": "2025-06-04T04:30:54.550200Z"
    },
    "tags": []
   },
   "outputs": [],
   "source": [
    "period1='2014-09-01'\n",
    "period2='2025-05-30'"
   ]
  },
  {
   "cell_type": "code",
   "execution_count": 10,
   "id": "dc9f8922-b5b5-41e2-8e1a-a312b36da5a6",
   "metadata": {
    "execution": {
     "iopub.execute_input": "2025-06-04T04:30:54.555295Z",
     "iopub.status.busy": "2025-06-04T04:30:54.555061Z",
     "iopub.status.idle": "2025-06-04T04:31:52.535056Z",
     "shell.execute_reply": "2025-06-04T04:31:52.534251Z",
     "shell.execute_reply.started": "2025-06-04T04:30:54.555272Z"
    },
    "tags": []
   },
   "outputs": [],
   "source": [
    "query_COM=f\"select * from fn_COM where Dates>='{period1}' and Dates<='{period2}'\"\n",
    "data_COM=pd.read_sql(query_COM, conn)"
   ]
  },
  {
   "cell_type": "code",
   "execution_count": 11,
   "id": "04564e16-61ac-4cb0-8bc0-91f22ac3f03e",
   "metadata": {
    "execution": {
     "iopub.execute_input": "2025-06-04T04:31:52.536095Z",
     "iopub.status.busy": "2025-06-04T04:31:52.535901Z",
     "iopub.status.idle": "2025-06-04T04:31:52.955598Z",
     "shell.execute_reply": "2025-06-04T04:31:52.954838Z",
     "shell.execute_reply.started": "2025-06-04T04:31:52.536079Z"
    },
    "tags": []
   },
   "outputs": [],
   "source": [
    "data_COM.set_index(['Dates','Symbol'], inplace=True)"
   ]
  },
  {
   "cell_type": "code",
   "execution_count": 12,
   "id": "b379dcfd-7fb4-48b5-a922-0a9d7bed0b26",
   "metadata": {
    "execution": {
     "iopub.execute_input": "2025-06-04T04:31:52.956623Z",
     "iopub.status.busy": "2025-06-04T04:31:52.956430Z",
     "iopub.status.idle": "2025-06-04T04:31:58.142847Z",
     "shell.execute_reply": "2025-06-04T04:31:58.142052Z",
     "shell.execute_reply.started": "2025-06-04T04:31:52.956605Z"
    },
    "tags": []
   },
   "outputs": [],
   "source": [
    "data_COM_nodup=data_COM.loc[~data_COM.index.duplicated(keep='last')].copy()"
   ]
  },
  {
   "cell_type": "code",
   "execution_count": 13,
   "id": "5013684a-1076-4862-a72b-0254c2bdf418",
   "metadata": {
    "execution": {
     "iopub.execute_input": "2025-06-04T04:31:58.145699Z",
     "iopub.status.busy": "2025-06-04T04:31:58.145495Z",
     "iopub.status.idle": "2025-06-04T04:33:47.450741Z",
     "shell.execute_reply": "2025-06-04T04:33:47.449934Z",
     "shell.execute_reply.started": "2025-06-04T04:31:58.145683Z"
    },
    "tags": []
   },
   "outputs": [],
   "source": [
    "query_SSC=f\"select * from fn_SSC where Dates>='{period1}' and Dates<='{period2}'\"\n",
    "data_SSC=pd.read_sql(query_SSC, conn)"
   ]
  },
  {
   "cell_type": "code",
   "execution_count": 14,
   "id": "0c6dc32c-37d6-4c23-ac6f-05b2e6fa68ef",
   "metadata": {
    "execution": {
     "iopub.execute_input": "2025-06-04T04:33:47.451718Z",
     "iopub.status.busy": "2025-06-04T04:33:47.451520Z",
     "iopub.status.idle": "2025-06-04T04:33:47.742978Z",
     "shell.execute_reply": "2025-06-04T04:33:47.742194Z",
     "shell.execute_reply.started": "2025-06-04T04:33:47.451701Z"
    },
    "tags": []
   },
   "outputs": [],
   "source": [
    "data_SSC.set_index(['Dates','Symbol'], inplace=True)"
   ]
  },
  {
   "cell_type": "code",
   "execution_count": 15,
   "id": "56d66367-13fb-4cbe-ae50-cadaf27ee6f2",
   "metadata": {
    "execution": {
     "iopub.execute_input": "2025-06-04T04:33:47.743982Z",
     "iopub.status.busy": "2025-06-04T04:33:47.743793Z",
     "iopub.status.idle": "2025-06-04T04:33:50.581108Z",
     "shell.execute_reply": "2025-06-04T04:33:50.579821Z",
     "shell.execute_reply.started": "2025-06-04T04:33:47.743966Z"
    },
    "tags": []
   },
   "outputs": [],
   "source": [
    "data_SSC_nodup=data_SSC.loc[~data_SSC.index.duplicated(keep='last')].copy()"
   ]
  },
  {
   "cell_type": "code",
   "execution_count": 16,
   "id": "5ecce607-1d78-4fb1-b4ed-a2127d019e63",
   "metadata": {
    "execution": {
     "iopub.execute_input": "2025-06-04T04:33:50.583121Z",
     "iopub.status.busy": "2025-06-04T04:33:50.582559Z",
     "iopub.status.idle": "2025-06-04T04:33:50.595531Z",
     "shell.execute_reply": "2025-06-04T04:33:50.594568Z",
     "shell.execute_reply.started": "2025-06-04T04:33:50.583081Z"
    },
    "tags": []
   },
   "outputs": [
    {
     "data": {
      "text/plain": [
       "Index(['Name', 'MNGT', 'ClosePrc', 'OpenPrc', 'HighPrc', 'LowPrc', 'AdjPrc',\n",
       "       'AdjPrc2', 'AdjPrc_High_20D', 'AdjPrc_Low_20D', 'AdjPrc_High_60D',\n",
       "       'AdjPrc_Low_60D', 'AdjPrc_High_120D', 'AdjPrc_Low_120D',\n",
       "       'AdjPrc_High_52W', 'AdjPrc_Low_52W', 'ListedShares', 'ForeignStake',\n",
       "       'TradeStop', 'MktCap_Comm_Pref', 'MktCapCom', 'MktCap', 'Volume',\n",
       "       'Volume_Avg_20D', 'Volume_Avg_60D', 'Volume_Avg_120D', 'Volume_Avg_52W',\n",
       "       'Amt_Avg_20D', 'Amt_Avg_60D', 'Amt_Avg_120D', 'Amt_Avg_52W', 'Vol_20D',\n",
       "       'Vol_120D'],\n",
       "      dtype='object')"
      ]
     },
     "execution_count": 16,
     "metadata": {},
     "output_type": "execute_result"
    }
   ],
   "source": [
    "data_SSC.columns"
   ]
  },
  {
   "cell_type": "code",
   "execution_count": 17,
   "id": "d0300b09-fd92-44e8-adb3-294cec66d41a",
   "metadata": {
    "execution": {
     "iopub.execute_input": "2025-06-04T04:33:50.597320Z",
     "iopub.status.busy": "2025-06-04T04:33:50.596794Z",
     "iopub.status.idle": "2025-06-04T04:33:50.611801Z",
     "shell.execute_reply": "2025-06-04T04:33:50.610858Z",
     "shell.execute_reply.started": "2025-06-04T04:33:50.597280Z"
    },
    "tags": []
   },
   "outputs": [
    {
     "data": {
      "text/plain": [
       "Index(['Name', 'KC_Industry', 'FG_IndustryGroup27', 'FG_Sector_Idx',\n",
       "       'FG_IndustryGroup_Idx', 'FG_Industry_Idx', 'AuditOpinion', 'Caution',\n",
       "       'KSECapSize', 'KLCAIndustry', 'Market', 'KOSPI200YN', 'FiscalMonth',\n",
       "       'KOSPI100YN'],\n",
       "      dtype='object')"
      ]
     },
     "execution_count": 17,
     "metadata": {},
     "output_type": "execute_result"
    }
   ],
   "source": [
    "data_COM.columns"
   ]
  },
  {
   "cell_type": "code",
   "execution_count": 18,
   "id": "bbddbd32-f9e0-410a-9a5d-f9ff6f5ce6c7",
   "metadata": {
    "execution": {
     "iopub.execute_input": "2025-06-04T04:33:50.613654Z",
     "iopub.status.busy": "2025-06-04T04:33:50.613103Z",
     "iopub.status.idle": "2025-06-04T04:33:52.034111Z",
     "shell.execute_reply": "2025-06-04T04:33:52.033331Z",
     "shell.execute_reply.started": "2025-06-04T04:33:50.613613Z"
    },
    "tags": []
   },
   "outputs": [],
   "source": [
    "query_idx=f\"select * from krx_idx\"\n",
    "krx_idx=pd.read_sql(query_idx, conn)"
   ]
  },
  {
   "cell_type": "code",
   "execution_count": 19,
   "id": "aaeac900-55e2-4820-ab79-893497faab87",
   "metadata": {
    "execution": {
     "iopub.execute_input": "2025-06-04T04:33:52.035124Z",
     "iopub.status.busy": "2025-06-04T04:33:52.034924Z",
     "iopub.status.idle": "2025-06-04T04:33:52.039176Z",
     "shell.execute_reply": "2025-06-04T04:33:52.038498Z",
     "shell.execute_reply.started": "2025-06-04T04:33:52.035106Z"
    },
    "tags": []
   },
   "outputs": [],
   "source": [
    "krx_idx.set_index('Dates', inplace=True)\n"
   ]
  },
  {
   "cell_type": "code",
   "execution_count": null,
   "id": "0032580c-ca81-42ef-9442-9f7d77120662",
   "metadata": {},
   "outputs": [],
   "source": []
  },
  {
   "cell_type": "code",
   "execution_count": 20,
   "id": "154e7f13-d336-45e1-b356-78d6201e518f",
   "metadata": {
    "execution": {
     "iopub.execute_input": "2025-06-04T04:33:52.039949Z",
     "iopub.status.busy": "2025-06-04T04:33:52.039792Z",
     "iopub.status.idle": "2025-06-04T04:33:52.476997Z",
     "shell.execute_reply": "2025-06-04T04:33:52.476478Z",
     "shell.execute_reply.started": "2025-06-04T04:33:52.039934Z"
    },
    "tags": []
   },
   "outputs": [
    {
     "data": {
      "text/plain": [
       "<Axes: xlabel='Dates'>"
      ]
     },
     "execution_count": 20,
     "metadata": {},
     "output_type": "execute_result"
    },
    {
     "data": {
      "image/png": "[encoded data removed]",
      "text/plain": [
       "<Figure size 640x480 with 1 Axes>"
      ]
     },
     "metadata": {},
     "output_type": "display_data"
    }
   ],
   "source": [
    "(1+krx_idx['코스피 200'].pct_change().loc['2014-10-02':]).cumprod().plot()"
   ]
  },
  {
   "cell_type": "code",
   "execution_count": null,
   "id": "61eb13a7-7318-4973-9e24-8ccf8f782ec9",
   "metadata": {},
   "outputs": [],
   "source": []
  },
  {
   "cell_type": "code",
   "execution_count": null,
   "id": "2ce8471b-8aea-4b91-aa8b-6c5c71de9177",
   "metadata": {},
   "outputs": [],
   "source": []
  },
  {
   "cell_type": "markdown",
   "id": "8da75ec0-d8e5-4782-8d6e-2c812d0476ba",
   "metadata": {},
   "source": [
    "# backtesting"
   ]
  },
  {
   "cell_type": "code",
   "execution_count": 21,
   "id": "21c17e2f-85c3-48b0-913d-c33b04f2c030",
   "metadata": {
    "execution": {
     "iopub.execute_input": "2025-06-04T04:33:52.477860Z",
     "iopub.status.busy": "2025-06-04T04:33:52.477666Z",
     "iopub.status.idle": "2025-06-04T04:33:52.763865Z",
     "shell.execute_reply": "2025-06-04T04:33:52.763072Z",
     "shell.execute_reply.started": "2025-06-04T04:33:52.477845Z"
    },
    "tags": []
   },
   "outputs": [],
   "source": [
    "adjprc=data_SSC_nodup['AdjPrc'].unstack()\n",
    "adjprc=adjprc.astype(float)"
   ]
  },
  {
   "cell_type": "code",
   "execution_count": 93,
   "id": "d74435b3-c48a-44a2-ab03-d55c6d7e88d4",
   "metadata": {
    "execution": {
     "iopub.execute_input": "2025-06-04T06:57:23.671574Z",
     "iopub.status.busy": "2025-06-04T06:57:23.671042Z",
     "iopub.status.idle": "2025-06-04T06:57:23.690593Z",
     "shell.execute_reply": "2025-06-04T06:57:23.689297Z",
     "shell.execute_reply.started": "2025-06-04T06:57:23.671526Z"
    },
    "tags": []
   },
   "outputs": [],
   "source": [
    "data_path='../data/output/prob_out/'\n",
    "file_name='prob_res_2014-01-29_2025-05-30_ver0.1.csv'\n",
    "# hyungshin.lee/data/output/prob_out/prob_res_2013-01-25_2023-08-31.csv\n",
    "raw_prob=pd.read_csv(data_path+file_name, index_col=0)\n",
    "\n",
    "# mlq_w=pd.read_excel(data_path + 'monthly_port.xlsx', index_col=0)"
   ]
  },
  {
   "cell_type": "code",
   "execution_count": 94,
   "id": "053c934d-7d91-4a4f-8bfb-4dd64b78d242",
   "metadata": {
    "execution": {
     "iopub.execute_input": "2025-06-04T06:57:24.608056Z",
     "iopub.status.busy": "2025-06-04T06:57:24.607542Z",
     "iopub.status.idle": "2025-06-04T06:57:24.616135Z",
     "shell.execute_reply": "2025-06-04T06:57:24.614950Z",
     "shell.execute_reply.started": "2025-06-04T06:57:24.608012Z"
    },
    "scrolled": true
   },
   "outputs": [
    {
     "data": {
      "text/plain": [
       "Index(['2025-03-07', '2025-03-14', '2025-03-21', '2025-03-28', '2025-04-04',\n",
       "       '2025-04-11', '2025-04-18', '2025-04-25', '2025-05-02', '2025-05-09',\n",
       "       '2025-05-16', '2025-05-23', '2025-05-30'],\n",
       "      dtype='object', name='Dates')"
      ]
     },
     "execution_count": 94,
     "metadata": {},
     "output_type": "execute_result"
    }
   ],
   "source": [
    "raw_prob.index"
   ]
  },
  {
   "cell_type": "code",
   "execution_count": 95,
   "id": "2f7471b2-968a-4965-9690-3f4274525c63",
   "metadata": {
    "execution": {
     "iopub.execute_input": "2025-06-04T06:57:28.712472Z",
     "iopub.status.busy": "2025-06-04T06:57:28.711945Z",
     "iopub.status.idle": "2025-06-04T06:57:28.781150Z",
     "shell.execute_reply": "2025-06-04T06:57:28.780114Z",
     "shell.execute_reply.started": "2025-06-04T06:57:28.712426Z"
    },
    "scrolled": true,
    "tags": []
   },
   "outputs": [
    {
     "data": {
      "text/html": [
       "<div>\n",
       "<style scoped>\n",
       "    .dataframe tbody tr th:only-of-type {\n",
       "        vertical-align: middle;\n",
       "    }\n",
       "\n",
       "    .dataframe tbody tr th {\n",
       "        vertical-align: top;\n",
       "    }\n",
       "\n",
       "    .dataframe thead th {\n",
       "        text-align: right;\n",
       "    }\n",
       "</style>\n",
       "<table border=\"1\" class=\"dataframe\">\n",
       "  <thead>\n",
       "    <tr style=\"text-align: right;\">\n",
       "      <th></th>\n",
       "      <th>A000080</th>\n",
       "      <th>A000100</th>\n",
       "      <th>A000120</th>\n",
       "      <th>A000150</th>\n",
       "      <th>A000210</th>\n",
       "      <th>A000240</th>\n",
       "      <th>A000270</th>\n",
       "      <th>A000660</th>\n",
       "      <th>A000720</th>\n",
       "      <th>A000810</th>\n",
       "      <th>...</th>\n",
       "      <th>A373220</th>\n",
       "      <th>A375500</th>\n",
       "      <th>A377300</th>\n",
       "      <th>A383220</th>\n",
       "      <th>A402340</th>\n",
       "      <th>A450080</th>\n",
       "      <th>A454910</th>\n",
       "      <th>A456040</th>\n",
       "      <th>A457190</th>\n",
       "      <th>A003240</th>\n",
       "    </tr>\n",
       "    <tr>\n",
       "      <th>Dates</th>\n",
       "      <th></th>\n",
       "      <th></th>\n",
       "      <th></th>\n",
       "      <th></th>\n",
       "      <th></th>\n",
       "      <th></th>\n",
       "      <th></th>\n",
       "      <th></th>\n",
       "      <th></th>\n",
       "      <th></th>\n",
       "      <th></th>\n",
       "      <th></th>\n",
       "      <th></th>\n",
       "      <th></th>\n",
       "      <th></th>\n",
       "      <th></th>\n",
       "      <th></th>\n",
       "      <th></th>\n",
       "      <th></th>\n",
       "      <th></th>\n",
       "      <th></th>\n",
       "    </tr>\n",
       "  </thead>\n",
       "  <tbody>\n",
       "    <tr>\n",
       "      <th>2025-03-07</th>\n",
       "      <td>1.390562e-08</td>\n",
       "      <td>8.187970e-09</td>\n",
       "      <td>1.616169e-08</td>\n",
       "      <td>5.831834e-09</td>\n",
       "      <td>1.573899e-08</td>\n",
       "      <td>1.606068e-08</td>\n",
       "      <td>8.748594e-09</td>\n",
       "      <td>4.883370e-09</td>\n",
       "      <td>9.840099e-09</td>\n",
       "      <td>1.109004e-08</td>\n",
       "      <td>...</td>\n",
       "      <td>1.504907e-08</td>\n",
       "      <td>1.308110e-08</td>\n",
       "      <td>1.087525e-08</td>\n",
       "      <td>1.465575e-08</td>\n",
       "      <td>1.237553e-08</td>\n",
       "      <td>6.134059e-10</td>\n",
       "      <td>1.212978e-08</td>\n",
       "      <td>1.666267e-08</td>\n",
       "      <td>2.827304e-08</td>\n",
       "      <td>NaN</td>\n",
       "    </tr>\n",
       "    <tr>\n",
       "      <th>2025-03-14</th>\n",
       "      <td>1.376407e-08</td>\n",
       "      <td>9.526644e-09</td>\n",
       "      <td>1.327301e-08</td>\n",
       "      <td>5.945156e-09</td>\n",
       "      <td>1.466705e-08</td>\n",
       "      <td>1.582713e-08</td>\n",
       "      <td>9.713501e-09</td>\n",
       "      <td>6.018162e-09</td>\n",
       "      <td>9.628081e-09</td>\n",
       "      <td>1.009266e-08</td>\n",
       "      <td>...</td>\n",
       "      <td>1.301691e-08</td>\n",
       "      <td>1.095734e-08</td>\n",
       "      <td>1.110475e-08</td>\n",
       "      <td>1.310815e-08</td>\n",
       "      <td>1.214150e-08</td>\n",
       "      <td>5.559065e-10</td>\n",
       "      <td>1.174220e-08</td>\n",
       "      <td>1.600750e-08</td>\n",
       "      <td>2.119391e-08</td>\n",
       "      <td>1.199320e-08</td>\n",
       "    </tr>\n",
       "    <tr>\n",
       "      <th>2025-03-21</th>\n",
       "      <td>1.361093e-08</td>\n",
       "      <td>7.296004e-09</td>\n",
       "      <td>1.258577e-08</td>\n",
       "      <td>4.274032e-09</td>\n",
       "      <td>1.423022e-08</td>\n",
       "      <td>1.552036e-08</td>\n",
       "      <td>9.223946e-09</td>\n",
       "      <td>8.407682e-09</td>\n",
       "      <td>9.602900e-09</td>\n",
       "      <td>1.092598e-08</td>\n",
       "      <td>...</td>\n",
       "      <td>1.307401e-08</td>\n",
       "      <td>1.097206e-08</td>\n",
       "      <td>0.000000e+00</td>\n",
       "      <td>1.314578e-08</td>\n",
       "      <td>1.184416e-08</td>\n",
       "      <td>5.001120e-10</td>\n",
       "      <td>1.052078e-08</td>\n",
       "      <td>1.405682e-08</td>\n",
       "      <td>1.556352e-08</td>\n",
       "      <td>1.122200e-08</td>\n",
       "    </tr>\n",
       "    <tr>\n",
       "      <th>2025-03-28</th>\n",
       "      <td>1.365209e-08</td>\n",
       "      <td>7.673878e-09</td>\n",
       "      <td>1.338878e-08</td>\n",
       "      <td>5.405532e-09</td>\n",
       "      <td>1.423155e-08</td>\n",
       "      <td>1.636767e-08</td>\n",
       "      <td>1.015203e-08</td>\n",
       "      <td>6.980045e-09</td>\n",
       "      <td>9.460803e-09</td>\n",
       "      <td>1.243535e-08</td>\n",
       "      <td>...</td>\n",
       "      <td>1.383762e-08</td>\n",
       "      <td>1.124218e-08</td>\n",
       "      <td>0.000000e+00</td>\n",
       "      <td>1.318093e-08</td>\n",
       "      <td>1.321950e-08</td>\n",
       "      <td>5.348804e-10</td>\n",
       "      <td>1.166855e-08</td>\n",
       "      <td>1.469965e-08</td>\n",
       "      <td>1.562231e-08</td>\n",
       "      <td>9.286454e-09</td>\n",
       "    </tr>\n",
       "    <tr>\n",
       "      <th>2025-04-04</th>\n",
       "      <td>1.254668e-08</td>\n",
       "      <td>9.083315e-09</td>\n",
       "      <td>1.341342e-08</td>\n",
       "      <td>6.939676e-09</td>\n",
       "      <td>1.435384e-08</td>\n",
       "      <td>1.426784e-08</td>\n",
       "      <td>1.238172e-08</td>\n",
       "      <td>7.373662e-09</td>\n",
       "      <td>1.052787e-08</td>\n",
       "      <td>9.913854e-09</td>\n",
       "      <td>...</td>\n",
       "      <td>1.085038e-08</td>\n",
       "      <td>1.266725e-08</td>\n",
       "      <td>1.026700e-08</td>\n",
       "      <td>1.485095e-08</td>\n",
       "      <td>1.257929e-08</td>\n",
       "      <td>1.074943e-08</td>\n",
       "      <td>1.008933e-08</td>\n",
       "      <td>1.375387e-08</td>\n",
       "      <td>1.186700e-08</td>\n",
       "      <td>1.349760e-08</td>\n",
       "    </tr>\n",
       "    <tr>\n",
       "      <th>2025-04-11</th>\n",
       "      <td>1.169914e-08</td>\n",
       "      <td>9.658005e-09</td>\n",
       "      <td>1.270432e-08</td>\n",
       "      <td>9.621564e-09</td>\n",
       "      <td>1.367975e-08</td>\n",
       "      <td>1.364733e-08</td>\n",
       "      <td>9.640154e-09</td>\n",
       "      <td>4.938550e-09</td>\n",
       "      <td>1.110176e-08</td>\n",
       "      <td>1.008166e-08</td>\n",
       "      <td>...</td>\n",
       "      <td>1.005105e-08</td>\n",
       "      <td>1.272192e-08</td>\n",
       "      <td>1.309070e-08</td>\n",
       "      <td>1.410239e-08</td>\n",
       "      <td>1.286459e-08</td>\n",
       "      <td>1.127558e-08</td>\n",
       "      <td>1.013143e-08</td>\n",
       "      <td>1.434569e-08</td>\n",
       "      <td>1.117800e-08</td>\n",
       "      <td>1.341981e-08</td>\n",
       "    </tr>\n",
       "    <tr>\n",
       "      <th>2025-04-18</th>\n",
       "      <td>1.161920e-08</td>\n",
       "      <td>1.002247e-08</td>\n",
       "      <td>1.292505e-08</td>\n",
       "      <td>9.116380e-09</td>\n",
       "      <td>1.340787e-08</td>\n",
       "      <td>1.393767e-08</td>\n",
       "      <td>1.044562e-08</td>\n",
       "      <td>3.694834e-09</td>\n",
       "      <td>1.036475e-08</td>\n",
       "      <td>1.056930e-08</td>\n",
       "      <td>...</td>\n",
       "      <td>9.964317e-09</td>\n",
       "      <td>1.202699e-08</td>\n",
       "      <td>1.267933e-08</td>\n",
       "      <td>1.346165e-08</td>\n",
       "      <td>1.287404e-08</td>\n",
       "      <td>1.056859e-08</td>\n",
       "      <td>9.506205e-09</td>\n",
       "      <td>1.365571e-08</td>\n",
       "      <td>1.131433e-08</td>\n",
       "      <td>1.317022e-08</td>\n",
       "    </tr>\n",
       "    <tr>\n",
       "      <th>2025-04-25</th>\n",
       "      <td>1.111551e-08</td>\n",
       "      <td>9.550203e-09</td>\n",
       "      <td>1.245389e-08</td>\n",
       "      <td>9.740904e-09</td>\n",
       "      <td>1.349852e-08</td>\n",
       "      <td>1.360099e-08</td>\n",
       "      <td>9.957934e-09</td>\n",
       "      <td>3.717567e-09</td>\n",
       "      <td>9.975328e-09</td>\n",
       "      <td>1.042604e-08</td>\n",
       "      <td>...</td>\n",
       "      <td>9.928651e-09</td>\n",
       "      <td>1.181605e-08</td>\n",
       "      <td>1.168503e-08</td>\n",
       "      <td>1.313445e-08</td>\n",
       "      <td>1.266657e-08</td>\n",
       "      <td>1.004992e-08</td>\n",
       "      <td>9.939375e-09</td>\n",
       "      <td>1.459786e-08</td>\n",
       "      <td>1.043041e-08</td>\n",
       "      <td>1.306352e-08</td>\n",
       "    </tr>\n",
       "    <tr>\n",
       "      <th>2025-05-02</th>\n",
       "      <td>1.139183e-08</td>\n",
       "      <td>6.075332e-09</td>\n",
       "      <td>1.158572e-08</td>\n",
       "      <td>7.742566e-09</td>\n",
       "      <td>1.339542e-08</td>\n",
       "      <td>1.554379e-08</td>\n",
       "      <td>1.030272e-08</td>\n",
       "      <td>3.732815e-09</td>\n",
       "      <td>5.570435e-09</td>\n",
       "      <td>1.210535e-08</td>\n",
       "      <td>...</td>\n",
       "      <td>7.251539e-09</td>\n",
       "      <td>1.023650e-08</td>\n",
       "      <td>1.237346e-08</td>\n",
       "      <td>1.312200e-08</td>\n",
       "      <td>1.365615e-08</td>\n",
       "      <td>2.863239e-09</td>\n",
       "      <td>8.112235e-09</td>\n",
       "      <td>1.199803e-08</td>\n",
       "      <td>8.998337e-09</td>\n",
       "      <td>8.876472e-09</td>\n",
       "    </tr>\n",
       "    <tr>\n",
       "      <th>2025-05-09</th>\n",
       "      <td>1.080526e-08</td>\n",
       "      <td>4.560779e-09</td>\n",
       "      <td>1.344467e-08</td>\n",
       "      <td>6.276522e-09</td>\n",
       "      <td>1.024826e-08</td>\n",
       "      <td>1.313983e-08</td>\n",
       "      <td>7.867779e-09</td>\n",
       "      <td>8.298602e-11</td>\n",
       "      <td>8.506027e-09</td>\n",
       "      <td>1.127216e-08</td>\n",
       "      <td>...</td>\n",
       "      <td>4.721457e-09</td>\n",
       "      <td>9.945994e-09</td>\n",
       "      <td>1.142434e-08</td>\n",
       "      <td>1.210147e-08</td>\n",
       "      <td>1.272850e-08</td>\n",
       "      <td>8.316754e-09</td>\n",
       "      <td>9.083609e-09</td>\n",
       "      <td>1.233053e-08</td>\n",
       "      <td>8.843080e-09</td>\n",
       "      <td>8.807764e-09</td>\n",
       "    </tr>\n",
       "    <tr>\n",
       "      <th>2025-05-16</th>\n",
       "      <td>1.244546e-08</td>\n",
       "      <td>5.469115e-09</td>\n",
       "      <td>1.314533e-08</td>\n",
       "      <td>6.372421e-09</td>\n",
       "      <td>1.186927e-08</td>\n",
       "      <td>1.213099e-08</td>\n",
       "      <td>8.212135e-09</td>\n",
       "      <td>1.934032e-11</td>\n",
       "      <td>8.919273e-09</td>\n",
       "      <td>1.334345e-08</td>\n",
       "      <td>...</td>\n",
       "      <td>4.550161e-09</td>\n",
       "      <td>9.878933e-09</td>\n",
       "      <td>1.127173e-08</td>\n",
       "      <td>1.196587e-08</td>\n",
       "      <td>1.445024e-08</td>\n",
       "      <td>8.488863e-09</td>\n",
       "      <td>9.943054e-09</td>\n",
       "      <td>1.327342e-08</td>\n",
       "      <td>8.764678e-09</td>\n",
       "      <td>9.194402e-09</td>\n",
       "    </tr>\n",
       "    <tr>\n",
       "      <th>2025-05-23</th>\n",
       "      <td>1.391711e-08</td>\n",
       "      <td>6.034760e-09</td>\n",
       "      <td>1.486019e-08</td>\n",
       "      <td>7.890983e-09</td>\n",
       "      <td>1.476540e-08</td>\n",
       "      <td>1.453729e-08</td>\n",
       "      <td>1.019029e-08</td>\n",
       "      <td>1.183416e-11</td>\n",
       "      <td>6.741616e-09</td>\n",
       "      <td>1.496178e-08</td>\n",
       "      <td>...</td>\n",
       "      <td>4.646689e-09</td>\n",
       "      <td>9.773398e-09</td>\n",
       "      <td>1.174207e-08</td>\n",
       "      <td>1.374678e-08</td>\n",
       "      <td>1.747119e-08</td>\n",
       "      <td>8.934018e-09</td>\n",
       "      <td>1.012699e-08</td>\n",
       "      <td>1.347208e-08</td>\n",
       "      <td>8.009089e-09</td>\n",
       "      <td>8.960504e-09</td>\n",
       "    </tr>\n",
       "    <tr>\n",
       "      <th>2025-05-30</th>\n",
       "      <td>1.227356e-08</td>\n",
       "      <td>6.409405e-09</td>\n",
       "      <td>1.425984e-08</td>\n",
       "      <td>7.626789e-09</td>\n",
       "      <td>1.387891e-08</td>\n",
       "      <td>1.271363e-08</td>\n",
       "      <td>1.055489e-08</td>\n",
       "      <td>2.719475e-11</td>\n",
       "      <td>6.222264e-09</td>\n",
       "      <td>1.528819e-08</td>\n",
       "      <td>...</td>\n",
       "      <td>5.415408e-09</td>\n",
       "      <td>9.274276e-09</td>\n",
       "      <td>1.050246e-08</td>\n",
       "      <td>1.353609e-08</td>\n",
       "      <td>1.809250e-08</td>\n",
       "      <td>9.595082e-09</td>\n",
       "      <td>1.074291e-08</td>\n",
       "      <td>1.449899e-08</td>\n",
       "      <td>9.317699e-09</td>\n",
       "      <td>8.548102e-09</td>\n",
       "    </tr>\n",
       "  </tbody>\n",
       "</table>\n",
       "<p>13 rows × 200 columns</p>\n",
       "</div>"
      ],
      "text/plain": [
       "                 A000080       A000100       A000120       A000150  \\\n",
       "Dates                                                                \n",
       "2025-03-07  1.390562e-08  8.187970e-09  1.616169e-08  5.831834e-09   \n",
       "2025-03-14  1.376407e-08  9.526644e-09  1.327301e-08  5.945156e-09   \n",
       "2025-03-21  1.361093e-08  7.296004e-09  1.258577e-08  4.274032e-09   \n",
       "2025-03-28  1.365209e-08  7.673878e-09  1.338878e-08  5.405532e-09   \n",
       "2025-04-04  1.254668e-08  9.083315e-09  1.341342e-08  6.939676e-09   \n",
       "2025-04-11  1.169914e-08  9.658005e-09  1.270432e-08  9.621564e-09   \n",
       "2025-04-18  1.161920e-08  1.002247e-08  1.292505e-08  9.116380e-09   \n",
       "2025-04-25  1.111551e-08  9.550203e-09  1.245389e-08  9.740904e-09   \n",
       "2025-05-02  1.139183e-08  6.075332e-09  1.158572e-08  7.742566e-09   \n",
       "2025-05-09  1.080526e-08  4.560779e-09  1.344467e-08  6.276522e-09   \n",
       "2025-05-16  1.244546e-08  5.469115e-09  1.314533e-08  6.372421e-09   \n",
       "2025-05-23  1.391711e-08  6.034760e-09  1.486019e-08  7.890983e-09   \n",
       "2025-05-30  1.227356e-08  6.409405e-09  1.425984e-08  7.626789e-09   \n",
       "\n",
       "                 A000210       A000240       A000270       A000660  \\\n",
       "Dates                                                                \n",
       "2025-03-07  1.573899e-08  1.606068e-08  8.748594e-09  4.883370e-09   \n",
       "2025-03-14  1.466705e-08  1.582713e-08  9.713501e-09  6.018162e-09   \n",
       "2025-03-21  1.423022e-08  1.552036e-08  9.223946e-09  8.407682e-09   \n",
       "2025-03-28  1.423155e-08  1.636767e-08  1.015203e-08  6.980045e-09   \n",
       "2025-04-04  1.435384e-08  1.426784e-08  1.238172e-08  7.373662e-09   \n",
       "2025-04-11  1.367975e-08  1.364733e-08  9.640154e-09  4.938550e-09   \n",
       "2025-04-18  1.340787e-08  1.393767e-08  1.044562e-08  3.694834e-09   \n",
       "2025-04-25  1.349852e-08  1.360099e-08  9.957934e-09  3.717567e-09   \n",
       "2025-05-02  1.339542e-08  1.554379e-08  1.030272e-08  3.732815e-09   \n",
       "2025-05-09  1.024826e-08  1.313983e-08  7.867779e-09  8.298602e-11   \n",
       "2025-05-16  1.186927e-08  1.213099e-08  8.212135e-09  1.934032e-11   \n",
       "2025-05-23  1.476540e-08  1.453729e-08  1.019029e-08  1.183416e-11   \n",
       "2025-05-30  1.387891e-08  1.271363e-08  1.055489e-08  2.719475e-11   \n",
       "\n",
       "                 A000720       A000810  ...       A373220       A375500  \\\n",
       "Dates                                   ...                               \n",
       "2025-03-07  9.840099e-09  1.109004e-08  ...  1.504907e-08  1.308110e-08   \n",
       "2025-03-14  9.628081e-09  1.009266e-08  ...  1.301691e-08  1.095734e-08   \n",
       "2025-03-21  9.602900e-09  1.092598e-08  ...  1.307401e-08  1.097206e-08   \n",
       "2025-03-28  9.460803e-09  1.243535e-08  ...  1.383762e-08  1.124218e-08   \n",
       "2025-04-04  1.052787e-08  9.913854e-09  ...  1.085038e-08  1.266725e-08   \n",
       "2025-04-11  1.110176e-08  1.008166e-08  ...  1.005105e-08  1.272192e-08   \n",
       "2025-04-18  1.036475e-08  1.056930e-08  ...  9.964317e-09  1.202699e-08   \n",
       "2025-04-25  9.975328e-09  1.042604e-08  ...  9.928651e-09  1.181605e-08   \n",
       "2025-05-02  5.570435e-09  1.210535e-08  ...  7.251539e-09  1.023650e-08   \n",
       "2025-05-09  8.506027e-09  1.127216e-08  ...  4.721457e-09  9.945994e-09   \n",
       "2025-05-16  8.919273e-09  1.334345e-08  ...  4.550161e-09  9.878933e-09   \n",
       "2025-05-23  6.741616e-09  1.496178e-08  ...  4.646689e-09  9.773398e-09   \n",
       "2025-05-30  6.222264e-09  1.528819e-08  ...  5.415408e-09  9.274276e-09   \n",
       "\n",
       "                 A377300       A383220       A402340       A450080  \\\n",
       "Dates                                                                \n",
       "2025-03-07  1.087525e-08  1.465575e-08  1.237553e-08  6.134059e-10   \n",
       "2025-03-14  1.110475e-08  1.310815e-08  1.214150e-08  5.559065e-10   \n",
       "2025-03-21  0.000000e+00  1.314578e-08  1.184416e-08  5.001120e-10   \n",
       "2025-03-28  0.000000e+00  1.318093e-08  1.321950e-08  5.348804e-10   \n",
       "2025-04-04  1.026700e-08  1.485095e-08  1.257929e-08  1.074943e-08   \n",
       "2025-04-11  1.309070e-08  1.410239e-08  1.286459e-08  1.127558e-08   \n",
       "2025-04-18  1.267933e-08  1.346165e-08  1.287404e-08  1.056859e-08   \n",
       "2025-04-25  1.168503e-08  1.313445e-08  1.266657e-08  1.004992e-08   \n",
       "2025-05-02  1.237346e-08  1.312200e-08  1.365615e-08  2.863239e-09   \n",
       "2025-05-09  1.142434e-08  1.210147e-08  1.272850e-08  8.316754e-09   \n",
       "2025-05-16  1.127173e-08  1.196587e-08  1.445024e-08  8.488863e-09   \n",
       "2025-05-23  1.174207e-08  1.374678e-08  1.747119e-08  8.934018e-09   \n",
       "2025-05-30  1.050246e-08  1.353609e-08  1.809250e-08  9.595082e-09   \n",
       "\n",
       "                 A454910       A456040       A457190       A003240  \n",
       "Dates                                                               \n",
       "2025-03-07  1.212978e-08  1.666267e-08  2.827304e-08           NaN  \n",
       "2025-03-14  1.174220e-08  1.600750e-08  2.119391e-08  1.199320e-08  \n",
       "2025-03-21  1.052078e-08  1.405682e-08  1.556352e-08  1.122200e-08  \n",
       "2025-03-28  1.166855e-08  1.469965e-08  1.562231e-08  9.286454e-09  \n",
       "2025-04-04  1.008933e-08  1.375387e-08  1.186700e-08  1.349760e-08  \n",
       "2025-04-11  1.013143e-08  1.434569e-08  1.117800e-08  1.341981e-08  \n",
       "2025-04-18  9.506205e-09  1.365571e-08  1.131433e-08  1.317022e-08  \n",
       "2025-04-25  9.939375e-09  1.459786e-08  1.043041e-08  1.306352e-08  \n",
       "2025-05-02  8.112235e-09  1.199803e-08  8.998337e-09  8.876472e-09  \n",
       "2025-05-09  9.083609e-09  1.233053e-08  8.843080e-09  8.807764e-09  \n",
       "2025-05-16  9.943054e-09  1.327342e-08  8.764678e-09  9.194402e-09  \n",
       "2025-05-23  1.012699e-08  1.347208e-08  8.009089e-09  8.960504e-09  \n",
       "2025-05-30  1.074291e-08  1.449899e-08  9.317699e-09  8.548102e-09  \n",
       "\n",
       "[13 rows x 200 columns]"
      ]
     },
     "execution_count": 95,
     "metadata": {},
     "output_type": "execute_result"
    }
   ],
   "source": [
    "raw_prob"
   ]
  },
  {
   "cell_type": "code",
   "execution_count": 96,
   "id": "e960714b-b1d7-4531-b1b9-794daa34ec8b",
   "metadata": {
    "execution": {
     "iopub.execute_input": "2025-06-04T06:57:28.894511Z",
     "iopub.status.busy": "2025-06-04T06:57:28.893991Z",
     "iopub.status.idle": "2025-06-04T06:57:28.899771Z",
     "shell.execute_reply": "2025-06-04T06:57:28.898515Z",
     "shell.execute_reply.started": "2025-06-04T06:57:28.894467Z"
    },
    "tags": []
   },
   "outputs": [],
   "source": [
    "# raw_prob.reset_index(inplace=True)\n",
    "# raw_prob.set_index(['Dates', 'Symbol'], inplace=True)\n",
    "# raw_prob=raw_prob.unstack()\n",
    "# raw_prob.columns=raw_prob.columns.get_level_values(1)"
   ]
  },
  {
   "cell_type": "code",
   "execution_count": null,
   "id": "240bf91d-aa8f-4de9-b106-f026fb1468f1",
   "metadata": {
    "tags": []
   },
   "outputs": [],
   "source": []
  },
  {
   "cell_type": "code",
   "execution_count": null,
   "id": "e3595034-3509-4168-bf83-9d44b422f8d4",
   "metadata": {
    "tags": []
   },
   "outputs": [],
   "source": []
  },
  {
   "cell_type": "code",
   "execution_count": 97,
   "id": "49556e0f-47a7-4a00-97ca-b5482479c7f1",
   "metadata": {
    "execution": {
     "iopub.execute_input": "2025-06-04T06:57:29.391128Z",
     "iopub.status.busy": "2025-06-04T06:57:29.390615Z",
     "iopub.status.idle": "2025-06-04T06:57:29.398157Z",
     "shell.execute_reply": "2025-06-04T06:57:29.397085Z",
     "shell.execute_reply.started": "2025-06-04T06:57:29.391085Z"
    },
    "tags": []
   },
   "outputs": [],
   "source": [
    "raw_prob.index = pd.to_datetime(raw_prob.index)"
   ]
  },
  {
   "cell_type": "code",
   "execution_count": 98,
   "id": "51a075d4-c914-4193-92df-ab87f6a61e94",
   "metadata": {
    "execution": {
     "iopub.execute_input": "2025-06-04T06:57:29.544816Z",
     "iopub.status.busy": "2025-06-04T06:57:29.544319Z",
     "iopub.status.idle": "2025-06-04T06:57:29.761905Z",
     "shell.execute_reply": "2025-06-04T06:57:29.760857Z",
     "shell.execute_reply.started": "2025-06-04T06:57:29.544773Z"
    },
    "tags": []
   },
   "outputs": [
    {
     "data": {
      "text/plain": [
       "<Axes: xlabel='Dates'>"
      ]
     },
     "execution_count": 98,
     "metadata": {},
     "output_type": "execute_result"
    },
    {
     "data": {
      "image/png": "[encoded data removed]",
      "text/plain": [
       "<Figure size 640x480 with 1 Axes>"
      ]
     },
     "metadata": {},
     "output_type": "display_data"
    }
   ],
   "source": [
    "raw_prob.sum(1).plot()"
   ]
  },
  {
   "cell_type": "code",
   "execution_count": 99,
   "id": "0ca00151-68ff-4ce8-b9d5-0d9d5774d301",
   "metadata": {
    "execution": {
     "iopub.execute_input": "2025-06-04T06:57:29.763203Z",
     "iopub.status.busy": "2025-06-04T06:57:29.762995Z",
     "iopub.status.idle": "2025-06-04T06:57:29.935055Z",
     "shell.execute_reply": "2025-06-04T06:57:29.934128Z",
     "shell.execute_reply.started": "2025-06-04T06:57:29.763183Z"
    },
    "tags": []
   },
   "outputs": [
    {
     "data": {
      "text/plain": [
       "<Axes: xlabel='Dates'>"
      ]
     },
     "execution_count": 99,
     "metadata": {},
     "output_type": "execute_result"
    },
    {
     "data": {
      "image/png": "[encoded data removed]",
      "text/plain": [
       "<Figure size 640x480 with 1 Axes>"
      ]
     },
     "metadata": {},
     "output_type": "display_data"
    }
   ],
   "source": [
    "raw_prob.count(1).plot()"
   ]
  },
  {
   "cell_type": "code",
   "execution_count": 100,
   "id": "e3ce59d0-cbad-4727-a1e4-d620b1fabdb5",
   "metadata": {
    "execution": {
     "iopub.execute_input": "2025-06-04T06:57:29.936408Z",
     "iopub.status.busy": "2025-06-04T06:57:29.936187Z",
     "iopub.status.idle": "2025-06-04T06:57:30.112972Z",
     "shell.execute_reply": "2025-06-04T06:57:30.112051Z",
     "shell.execute_reply.started": "2025-06-04T06:57:29.936388Z"
    },
    "tags": []
   },
   "outputs": [
    {
     "data": {
      "text/plain": [
       "<Axes: xlabel='Dates'>"
      ]
     },
     "execution_count": 100,
     "metadata": {},
     "output_type": "execute_result"
    },
    {
     "data": {
      "image/png": "[encoded data removed]",
      "text/plain": [
       "<Figure size 640x480 with 1 Axes>"
      ]
     },
     "metadata": {},
     "output_type": "display_data"
    }
   ],
   "source": [
    "raw_prob.subtract(raw_prob.mean(1), axis=0).sum(1).plot()"
   ]
  },
  {
   "cell_type": "code",
   "execution_count": 101,
   "id": "22ec18f0-7496-4d12-979b-20a319a14065",
   "metadata": {
    "execution": {
     "iopub.execute_input": "2025-06-04T06:57:30.114282Z",
     "iopub.status.busy": "2025-06-04T06:57:30.114070Z",
     "iopub.status.idle": "2025-06-04T06:57:30.118002Z",
     "shell.execute_reply": "2025-06-04T06:57:30.117127Z",
     "shell.execute_reply.started": "2025-06-04T06:57:30.114263Z"
    },
    "tags": []
   },
   "outputs": [],
   "source": [
    "# use existing weight with shift1"
   ]
  },
  {
   "cell_type": "code",
   "execution_count": 102,
   "id": "4bbfa77b-d347-4b12-af86-fe816f239243",
   "metadata": {
    "execution": {
     "iopub.execute_input": "2025-06-04T06:57:30.569753Z",
     "iopub.status.busy": "2025-06-04T06:57:30.569031Z",
     "iopub.status.idle": "2025-06-04T06:57:30.575331Z",
     "shell.execute_reply": "2025-06-04T06:57:30.574179Z",
     "shell.execute_reply.started": "2025-06-04T06:57:30.569704Z"
    },
    "tags": []
   },
   "outputs": [],
   "source": [
    "from sklearn.preprocessing import StandardScaler, MinMaxScaler"
   ]
  },
  {
   "cell_type": "code",
   "execution_count": 103,
   "id": "d37047a5-6fc0-44ab-b433-d0b14e4e3147",
   "metadata": {
    "execution": {
     "iopub.execute_input": "2025-06-04T06:57:30.774899Z",
     "iopub.status.busy": "2025-06-04T06:57:30.774247Z",
     "iopub.status.idle": "2025-06-04T06:57:30.784406Z",
     "shell.execute_reply": "2025-06-04T06:57:30.783322Z",
     "shell.execute_reply.started": "2025-06-04T06:57:30.774852Z"
    },
    "tags": []
   },
   "outputs": [],
   "source": [
    "scaler = StandardScaler()\n",
    "tempw = scaler.fit_transform(raw_prob.iloc[0].dropna().values.reshape(-1, 1))\n",
    "temp_w = pd.DataFrame(tempw, index = raw_prob.iloc[0].dropna().index)"
   ]
  },
  {
   "cell_type": "code",
   "execution_count": 104,
   "id": "dad7e613-5e15-469c-948f-314b8097e18b",
   "metadata": {
    "execution": {
     "iopub.execute_input": "2025-06-04T06:57:30.952896Z",
     "iopub.status.busy": "2025-06-04T06:57:30.952292Z",
     "iopub.status.idle": "2025-06-04T06:57:30.959671Z",
     "shell.execute_reply": "2025-06-04T06:57:30.958574Z",
     "shell.execute_reply.started": "2025-06-04T06:57:30.952853Z"
    },
    "tags": []
   },
   "outputs": [],
   "source": [
    "temp_w=temp_w/abs(temp_w).sum()"
   ]
  },
  {
   "cell_type": "code",
   "execution_count": 105,
   "id": "6a850653-48df-4fbe-8343-0a41c5c5e497",
   "metadata": {
    "execution": {
     "iopub.execute_input": "2025-06-04T06:57:31.159792Z",
     "iopub.status.busy": "2025-06-04T06:57:31.159199Z",
     "iopub.status.idle": "2025-06-04T06:57:31.173363Z",
     "shell.execute_reply": "2025-06-04T06:57:31.172180Z",
     "shell.execute_reply.started": "2025-06-04T06:57:31.159748Z"
    },
    "tags": []
   },
   "outputs": [
    {
     "data": {
      "text/html": [
       "<div>\n",
       "<style scoped>\n",
       "    .dataframe tbody tr th:only-of-type {\n",
       "        vertical-align: middle;\n",
       "    }\n",
       "\n",
       "    .dataframe tbody tr th {\n",
       "        vertical-align: top;\n",
       "    }\n",
       "\n",
       "    .dataframe thead th {\n",
       "        text-align: right;\n",
       "    }\n",
       "</style>\n",
       "<table border=\"1\" class=\"dataframe\">\n",
       "  <thead>\n",
       "    <tr style=\"text-align: right;\">\n",
       "      <th></th>\n",
       "      <th>0</th>\n",
       "    </tr>\n",
       "  </thead>\n",
       "  <tbody>\n",
       "    <tr>\n",
       "      <th>A000080</th>\n",
       "      <td>0.000542</td>\n",
       "    </tr>\n",
       "    <tr>\n",
       "      <th>A000100</th>\n",
       "      <td>-0.008515</td>\n",
       "    </tr>\n",
       "    <tr>\n",
       "      <th>A000120</th>\n",
       "      <td>0.004116</td>\n",
       "    </tr>\n",
       "    <tr>\n",
       "      <th>A000150</th>\n",
       "      <td>-0.012247</td>\n",
       "    </tr>\n",
       "    <tr>\n",
       "      <th>A000210</th>\n",
       "      <td>0.003446</td>\n",
       "    </tr>\n",
       "    <tr>\n",
       "      <th>...</th>\n",
       "      <td>...</td>\n",
       "    </tr>\n",
       "    <tr>\n",
       "      <th>A402340</th>\n",
       "      <td>-0.001882</td>\n",
       "    </tr>\n",
       "    <tr>\n",
       "      <th>A450080</th>\n",
       "      <td>-0.020513</td>\n",
       "    </tr>\n",
       "    <tr>\n",
       "      <th>A454910</th>\n",
       "      <td>-0.002271</td>\n",
       "    </tr>\n",
       "    <tr>\n",
       "      <th>A456040</th>\n",
       "      <td>0.004909</td>\n",
       "    </tr>\n",
       "    <tr>\n",
       "      <th>A457190</th>\n",
       "      <td>0.023300</td>\n",
       "    </tr>\n",
       "  </tbody>\n",
       "</table>\n",
       "<p>199 rows × 1 columns</p>\n",
       "</div>"
      ],
      "text/plain": [
       "                0\n",
       "A000080  0.000542\n",
       "A000100 -0.008515\n",
       "A000120  0.004116\n",
       "A000150 -0.012247\n",
       "A000210  0.003446\n",
       "...           ...\n",
       "A402340 -0.001882\n",
       "A450080 -0.020513\n",
       "A454910 -0.002271\n",
       "A456040  0.004909\n",
       "A457190  0.023300\n",
       "\n",
       "[199 rows x 1 columns]"
      ]
     },
     "execution_count": 105,
     "metadata": {},
     "output_type": "execute_result"
    }
   ],
   "source": [
    "temp_w"
   ]
  },
  {
   "cell_type": "code",
   "execution_count": 106,
   "id": "d19fd378-b9ac-4d69-9cb6-7aab1245d1e0",
   "metadata": {
    "execution": {
     "iopub.execute_input": "2025-06-04T06:57:31.369969Z",
     "iopub.status.busy": "2025-06-04T06:57:31.369379Z",
     "iopub.status.idle": "2025-06-04T06:57:31.381569Z",
     "shell.execute_reply": "2025-06-04T06:57:31.380581Z",
     "shell.execute_reply.started": "2025-06-04T06:57:31.369927Z"
    }
   },
   "outputs": [
    {
     "data": {
      "text/plain": [
       "A000660    2.719475e-11\n",
       "A042660    5.463795e-10\n",
       "A005930    2.232766e-09\n",
       "A064350    3.455630e-09\n",
       "A034020    4.156947e-09\n",
       "               ...     \n",
       "A073240    1.723572e-08\n",
       "A402340    1.809250e-08\n",
       "A036460    1.903836e-08\n",
       "A015760    1.939025e-08\n",
       "A078930    1.952084e-08\n",
       "Name: 2025-05-30 00:00:00, Length: 199, dtype: float64"
      ]
     },
     "execution_count": 106,
     "metadata": {},
     "output_type": "execute_result"
    }
   ],
   "source": [
    "raw_prob.iloc[-1].sort_values().dropna()"
   ]
  },
  {
   "cell_type": "code",
   "execution_count": null,
   "id": "8fe650db-7c01-47dd-a54b-d614aa486f97",
   "metadata": {},
   "outputs": [],
   "source": []
  },
  {
   "cell_type": "code",
   "execution_count": 107,
   "id": "55531f1f-409c-4bf6-81c1-4c82f321a6b6",
   "metadata": {
    "execution": {
     "iopub.execute_input": "2025-06-04T06:57:32.015473Z",
     "iopub.status.busy": "2025-06-04T06:57:32.014790Z",
     "iopub.status.idle": "2025-06-04T06:57:32.119917Z",
     "shell.execute_reply": "2025-06-04T06:57:32.119151Z",
     "shell.execute_reply.started": "2025-06-04T06:57:32.015425Z"
    },
    "tags": []
   },
   "outputs": [],
   "source": [
    "ls_weight_ls = []\n",
    "len_ls = []\n",
    "for i in range(len(raw_prob.index)):\n",
    "    scaler = StandardScaler()\n",
    "    tempw = scaler.fit_transform(raw_prob.iloc[i].dropna().values.reshape(-1, 1))\n",
    "    temp_w = pd.DataFrame(tempw, index = raw_prob.iloc[i].dropna().index)\n",
    "    \n",
    "    # remove top bottom +/- 2stdev\n",
    "    temp_w[temp_w>(temp_w.mean()+2*temp_w.std())]=2\n",
    "    temp_w[temp_w<(temp_w.mean()-2*temp_w.std())]=-2\n",
    "\n",
    "    # remove in the middle\n",
    "    # temp_w[(temp_w<temp_w.mean()+temp_w.std()) & (temp_w>temp_w.mean()-temp_w.std())]=0\n",
    "    \n",
    "    temp_w=temp_w/abs(temp_w).sum()\n",
    "    len_ls.append(len(temp_w[temp_w>0].dropna()))\n",
    "    ls_weight_ls.append(temp_w)\n",
    "    "
   ]
  },
  {
   "cell_type": "code",
   "execution_count": null,
   "id": "3ef3c65a-9827-4f5b-9259-0d363a31dbd5",
   "metadata": {
    "tags": []
   },
   "outputs": [],
   "source": []
  },
  {
   "cell_type": "code",
   "execution_count": 108,
   "id": "f66f21e8-b87e-402d-867d-247435f9b4ae",
   "metadata": {
    "execution": {
     "iopub.execute_input": "2025-06-04T06:57:32.392704Z",
     "iopub.status.busy": "2025-06-04T06:57:32.392037Z",
     "iopub.status.idle": "2025-06-04T06:57:32.587245Z",
     "shell.execute_reply": "2025-06-04T06:57:32.586316Z",
     "shell.execute_reply.started": "2025-06-04T06:57:32.392657Z"
    },
    "tags": []
   },
   "outputs": [
    {
     "data": {
      "text/plain": [
       "<Axes: >"
      ]
     },
     "execution_count": 108,
     "metadata": {},
     "output_type": "execute_result"
    },
    {
     "data": {
      "image/png": "[encoded data removed]",
      "text/plain": [
       "<Figure size 640x480 with 1 Axes>"
      ]
     },
     "metadata": {},
     "output_type": "display_data"
    }
   ],
   "source": [
    "pd.DataFrame(len_ls).plot()"
   ]
  },
  {
   "cell_type": "code",
   "execution_count": 109,
   "id": "13b226d4-bfde-4135-9d71-71e66a8cbbbe",
   "metadata": {
    "execution": {
     "iopub.execute_input": "2025-06-04T06:57:32.594234Z",
     "iopub.status.busy": "2025-06-04T06:57:32.593950Z",
     "iopub.status.idle": "2025-06-04T06:57:32.602194Z",
     "shell.execute_reply": "2025-06-04T06:57:32.601190Z",
     "shell.execute_reply.started": "2025-06-04T06:57:32.594208Z"
    },
    "tags": []
   },
   "outputs": [],
   "source": [
    "ls_w=pd.concat(ls_weight_ls, axis=1).T\n",
    "ls_w.index=raw_prob.index"
   ]
  },
  {
   "cell_type": "code",
   "execution_count": 110,
   "id": "ec6f3c75-06f1-4830-9df5-67781369b501",
   "metadata": {
    "execution": {
     "iopub.execute_input": "2025-06-04T06:57:32.786374Z",
     "iopub.status.busy": "2025-06-04T06:57:32.785911Z",
     "iopub.status.idle": "2025-06-04T06:57:32.964320Z",
     "shell.execute_reply": "2025-06-04T06:57:32.963399Z",
     "shell.execute_reply.started": "2025-06-04T06:57:32.786330Z"
    },
    "tags": []
   },
   "outputs": [
    {
     "data": {
      "text/plain": [
       "<Axes: >"
      ]
     },
     "execution_count": 110,
     "metadata": {},
     "output_type": "execute_result"
    },
    {
     "data": {
      "image/png": "[encoded data removed]",
      "text/plain": [
       "<Figure size 640x480 with 1 Axes>"
      ]
     },
     "metadata": {},
     "output_type": "display_data"
    }
   ],
   "source": [
    "ls_w.iloc[-1].sort_values().dropna().plot()"
   ]
  },
  {
   "cell_type": "code",
   "execution_count": 111,
   "id": "fa01b0f6-cc3e-400e-b460-a2164da9f812",
   "metadata": {
    "execution": {
     "iopub.execute_input": "2025-06-04T06:57:32.965589Z",
     "iopub.status.busy": "2025-06-04T06:57:32.965381Z",
     "iopub.status.idle": "2025-06-04T06:57:32.969995Z",
     "shell.execute_reply": "2025-06-04T06:57:32.969053Z",
     "shell.execute_reply.started": "2025-06-04T06:57:32.965570Z"
    },
    "tags": []
   },
   "outputs": [],
   "source": [
    "temp_ls_w=ls_w.copy()\n",
    "temp_ls_w.loc[:, 'A001570']=0"
   ]
  },
  {
   "cell_type": "code",
   "execution_count": 112,
   "id": "75d63480-29d1-4fc6-8a01-c3ecddca439d",
   "metadata": {
    "execution": {
     "iopub.execute_input": "2025-06-04T06:57:33.118886Z",
     "iopub.status.busy": "2025-06-04T06:57:33.118358Z",
     "iopub.status.idle": "2025-06-04T06:57:33.161840Z",
     "shell.execute_reply": "2025-06-04T06:57:33.160582Z",
     "shell.execute_reply.started": "2025-06-04T06:57:33.118841Z"
    },
    "tags": []
   },
   "outputs": [],
   "source": [
    "idx_ret=adjprc.loc[ls_w.index, ls_w.columns].pct_change()*temp_ls_w.shift(1)"
   ]
  },
  {
   "cell_type": "code",
   "execution_count": 113,
   "id": "02fbfcb2-bd53-40a1-995f-35cd3f67ccd6",
   "metadata": {
    "execution": {
     "iopub.execute_input": "2025-06-04T06:57:33.302335Z",
     "iopub.status.busy": "2025-06-04T06:57:33.301855Z",
     "iopub.status.idle": "2025-06-04T06:57:33.343647Z",
     "shell.execute_reply": "2025-06-04T06:57:33.342586Z",
     "shell.execute_reply.started": "2025-06-04T06:57:33.302291Z"
    },
    "tags": []
   },
   "outputs": [],
   "source": [
    "idx_ret=adjprc.loc[ls_w.index, ls_w.columns].pct_change()*temp_ls_w.shift(1)"
   ]
  },
  {
   "cell_type": "code",
   "execution_count": 114,
   "id": "ef2c0ae8-d86d-411b-9ed6-f0a0a500e28b",
   "metadata": {
    "execution": {
     "iopub.execute_input": "2025-06-04T06:57:33.486099Z",
     "iopub.status.busy": "2025-06-04T06:57:33.485542Z",
     "iopub.status.idle": "2025-06-04T06:57:33.495175Z",
     "shell.execute_reply": "2025-06-04T06:57:33.493988Z",
     "shell.execute_reply.started": "2025-06-04T06:57:33.486055Z"
    },
    "tags": []
   },
   "outputs": [],
   "source": [
    "long_w=ls_w[temp_ls_w>0]\n",
    "short_w=ls_w[temp_ls_w<0]"
   ]
  },
  {
   "cell_type": "code",
   "execution_count": 115,
   "id": "a3398ec8-0ef9-4e0f-8419-594d165ff913",
   "metadata": {
    "execution": {
     "iopub.execute_input": "2025-06-04T06:57:33.686481Z",
     "iopub.status.busy": "2025-06-04T06:57:33.685886Z",
     "iopub.status.idle": "2025-06-04T06:57:33.693506Z",
     "shell.execute_reply": "2025-06-04T06:57:33.690942Z",
     "shell.execute_reply.started": "2025-06-04T06:57:33.686437Z"
    },
    "tags": []
   },
   "outputs": [],
   "source": [
    "ew_long=long_w.copy()\n",
    "ew_short=short_w.copy()"
   ]
  },
  {
   "cell_type": "code",
   "execution_count": 116,
   "id": "17905f2f-453b-4bcf-8e0d-51e9af73afc7",
   "metadata": {
    "execution": {
     "iopub.execute_input": "2025-06-04T06:57:33.878038Z",
     "iopub.status.busy": "2025-06-04T06:57:33.877492Z",
     "iopub.status.idle": "2025-06-04T06:57:33.888854Z",
     "shell.execute_reply": "2025-06-04T06:57:33.887645Z",
     "shell.execute_reply.started": "2025-06-04T06:57:33.877995Z"
    },
    "tags": []
   },
   "outputs": [],
   "source": [
    "ew_long[ew_long>0]=1\n",
    "ew_short[ew_short<0]=-1"
   ]
  },
  {
   "cell_type": "code",
   "execution_count": 117,
   "id": "9b8540bd-fb49-4bcc-a27e-268c067569ef",
   "metadata": {
    "execution": {
     "iopub.execute_input": "2025-06-04T06:57:34.104053Z",
     "iopub.status.busy": "2025-06-04T06:57:34.103592Z",
     "iopub.status.idle": "2025-06-04T06:57:34.119025Z",
     "shell.execute_reply": "2025-06-04T06:57:34.117786Z",
     "shell.execute_reply.started": "2025-06-04T06:57:34.104010Z"
    },
    "tags": []
   },
   "outputs": [],
   "source": [
    "ew_long=ew_long.div(ew_long.count(1), axis=0)\n",
    "ew_short=ew_short.div(ew_short.count(1), axis=0)"
   ]
  },
  {
   "cell_type": "code",
   "execution_count": 118,
   "id": "511f9a48-dd30-4dcb-9ea6-3f437172f232",
   "metadata": {
    "execution": {
     "iopub.execute_input": "2025-06-04T06:57:34.520444Z",
     "iopub.status.busy": "2025-06-04T06:57:34.519923Z",
     "iopub.status.idle": "2025-06-04T06:57:34.728058Z",
     "shell.execute_reply": "2025-06-04T06:57:34.727315Z",
     "shell.execute_reply.started": "2025-06-04T06:57:34.520401Z"
    },
    "tags": []
   },
   "outputs": [
    {
     "data": {
      "text/plain": [
       "<Axes: xlabel='Dates'>"
      ]
     },
     "execution_count": 118,
     "metadata": {},
     "output_type": "execute_result"
    },
    {
     "data": {
      "image/png": "[encoded data removed]",
      "text/plain": [
       "<Figure size 640x480 with 1 Axes>"
      ]
     },
     "metadata": {},
     "output_type": "display_data"
    }
   ],
   "source": [
    "ew_long.count(1).plot()"
   ]
  },
  {
   "cell_type": "code",
   "execution_count": 119,
   "id": "566cc5e8-0faf-4fe4-91c7-de6ae6d09ec9",
   "metadata": {
    "execution": {
     "iopub.execute_input": "2025-06-04T06:57:34.790992Z",
     "iopub.status.busy": "2025-06-04T06:57:34.790511Z",
     "iopub.status.idle": "2025-06-04T06:57:34.860261Z",
     "shell.execute_reply": "2025-06-04T06:57:34.859282Z",
     "shell.execute_reply.started": "2025-06-04T06:57:34.790948Z"
    },
    "tags": []
   },
   "outputs": [],
   "source": [
    "long_idx_ret=adjprc.loc[ls_w.index, ls_w.columns].pct_change()*long_w.shift(1)*2\n",
    "short_idx_ret=adjprc.loc[ls_w.index, ls_w.columns].pct_change()*short_w.shift(1)*2"
   ]
  },
  {
   "cell_type": "code",
   "execution_count": 120,
   "id": "e82a719c-0691-4eab-b73a-9feece3e15d9",
   "metadata": {
    "execution": {
     "iopub.execute_input": "2025-06-04T06:57:35.168247Z",
     "iopub.status.busy": "2025-06-04T06:57:35.167747Z",
     "iopub.status.idle": "2025-06-04T06:57:35.234759Z",
     "shell.execute_reply": "2025-06-04T06:57:35.233760Z",
     "shell.execute_reply.started": "2025-06-04T06:57:35.168205Z"
    },
    "tags": []
   },
   "outputs": [],
   "source": [
    "ew_long_idx_ret=adjprc.loc[ls_w.index, ls_w.columns].pct_change()*ew_long.shift(1)\n",
    "ew_short_idx_ret=adjprc.loc[ls_w.index, ls_w.columns].pct_change()*ew_short.shift(1)"
   ]
  },
  {
   "cell_type": "code",
   "execution_count": null,
   "id": "476be009-d881-4d84-aa81-fd74fc855206",
   "metadata": {},
   "outputs": [],
   "source": []
  },
  {
   "cell_type": "markdown",
   "id": "c2808d54-e139-4a4d-b3b0-4ec28f9758fa",
   "metadata": {},
   "source": [
    "# LS results"
   ]
  },
  {
   "cell_type": "code",
   "execution_count": 121,
   "id": "f911c7bb-156a-4af9-a99a-3b631f66972d",
   "metadata": {
    "execution": {
     "iopub.execute_input": "2025-06-04T06:57:36.529450Z",
     "iopub.status.busy": "2025-06-04T06:57:36.528912Z",
     "iopub.status.idle": "2025-06-04T06:57:36.541533Z",
     "shell.execute_reply": "2025-06-04T06:57:36.540460Z",
     "shell.execute_reply.started": "2025-06-04T06:57:36.529408Z"
    },
    "scrolled": true,
    "tags": []
   },
   "outputs": [
    {
     "data": {
      "text/plain": [
       "Series([], Name: A001570, dtype: float64)"
      ]
     },
     "execution_count": 121,
     "metadata": {},
     "output_type": "execute_result"
    }
   ],
   "source": [
    "long_w.loc['2023-06-01': '2023-12-01', 'A001570'].fillna(0)"
   ]
  },
  {
   "cell_type": "code",
   "execution_count": 122,
   "id": "80f81f92-c202-4294-9a78-c3b132aad7c0",
   "metadata": {
    "execution": {
     "iopub.execute_input": "2025-06-04T06:57:36.928203Z",
     "iopub.status.busy": "2025-06-04T06:57:36.927696Z",
     "iopub.status.idle": "2025-06-04T06:57:37.162382Z",
     "shell.execute_reply": "2025-06-04T06:57:37.161674Z",
     "shell.execute_reply.started": "2025-06-04T06:57:36.928160Z"
    },
    "tags": []
   },
   "outputs": [
    {
     "name": "stderr",
     "output_type": "stream",
     "text": [
      "/tmp/ipykernel_3735115/1600025215.py:1: FutureWarning: The default fill_method='pad' in DataFrame.pct_change is deprecated and will be removed in a future version. Call ffill before calling pct_change to retain current behavior and silence this warning.\n",
      "  adjprc.pct_change().loc[ls_w.index, 'A001570'].plot()\n"
     ]
    },
    {
     "data": {
      "text/plain": [
       "<Axes: xlabel='Dates'>"
      ]
     },
     "execution_count": 122,
     "metadata": {},
     "output_type": "execute_result"
    },
    {
     "data": {
      "image/png": "[encoded data removed]",
      "text/plain": [
       "<Figure size 640x480 with 1 Axes>"
      ]
     },
     "metadata": {},
     "output_type": "display_data"
    }
   ],
   "source": [
    "adjprc.pct_change().loc[ls_w.index, 'A001570'].plot()"
   ]
  },
  {
   "cell_type": "code",
   "execution_count": 123,
   "id": "5227da16-d813-42b9-9050-be497768c538",
   "metadata": {
    "execution": {
     "iopub.execute_input": "2025-06-04T06:57:37.360000Z",
     "iopub.status.busy": "2025-06-04T06:57:37.359498Z",
     "iopub.status.idle": "2025-06-04T06:57:37.370311Z",
     "shell.execute_reply": "2025-06-04T06:57:37.369284Z",
     "shell.execute_reply.started": "2025-06-04T06:57:37.359959Z"
    },
    "tags": []
   },
   "outputs": [
    {
     "data": {
      "text/plain": [
       "DatetimeIndex(['2025-03-07', '2025-03-14', '2025-03-21', '2025-03-28',\n",
       "               '2025-04-04', '2025-04-11', '2025-04-18', '2025-04-25',\n",
       "               '2025-05-02', '2025-05-09', '2025-05-16', '2025-05-23',\n",
       "               '2025-05-30'],\n",
       "              dtype='datetime64[ns]', name='Dates', freq=None)"
      ]
     },
     "execution_count": 123,
     "metadata": {},
     "output_type": "execute_result"
    }
   ],
   "source": [
    "ls_w.loc['2023-06-01':].index"
   ]
  },
  {
   "cell_type": "code",
   "execution_count": 124,
   "id": "aadb3c0a-6a50-42e1-b01a-10492439752e",
   "metadata": {
    "execution": {
     "iopub.execute_input": "2025-06-04T06:57:38.209342Z",
     "iopub.status.busy": "2025-06-04T06:57:38.208804Z",
     "iopub.status.idle": "2025-06-04T06:57:38.223181Z",
     "shell.execute_reply": "2025-06-04T06:57:38.222157Z",
     "shell.execute_reply.started": "2025-06-04T06:57:38.209292Z"
    },
    "scrolled": true,
    "tags": []
   },
   "outputs": [
    {
     "data": {
      "text/plain": [
       "Dates\n",
       "2025-03-07         NaN\n",
       "2025-03-14    0.028331\n",
       "2025-03-21   -0.262844\n",
       "2025-03-28    0.000000\n",
       "2025-04-04    0.000000\n",
       "2025-04-11    0.000000\n",
       "2025-04-18    0.000000\n",
       "2025-04-25    0.000000\n",
       "2025-05-02    0.000000\n",
       "2025-05-09    0.000000\n",
       "2025-05-16    0.000000\n",
       "2025-05-23    0.000000\n",
       "2025-05-30    0.000000\n",
       "Name: A001570, dtype: float64"
      ]
     },
     "execution_count": 124,
     "metadata": {},
     "output_type": "execute_result"
    }
   ],
   "source": [
    "adjprc.loc[ls_w.loc['2023-06-01':].index, 'A001570'].pct_change()"
   ]
  },
  {
   "cell_type": "code",
   "execution_count": 125,
   "id": "273610ab-ec1a-47df-b360-4e7e5ff44f8f",
   "metadata": {
    "execution": {
     "iopub.execute_input": "2025-06-04T06:57:38.760484Z",
     "iopub.status.busy": "2025-06-04T06:57:38.759966Z",
     "iopub.status.idle": "2025-06-04T06:57:38.771205Z",
     "shell.execute_reply": "2025-06-04T06:57:38.770203Z",
     "shell.execute_reply.started": "2025-06-04T06:57:38.760441Z"
    },
    "scrolled": true,
    "tags": []
   },
   "outputs": [
    {
     "data": {
      "text/plain": [
       "Dates\n",
       "2025-03-14    0.0\n",
       "2025-03-21   -0.0\n",
       "2025-03-28    0.0\n",
       "2025-04-04    0.0\n",
       "2025-04-11    0.0\n",
       "2025-04-18    0.0\n",
       "2025-04-25    0.0\n",
       "2025-05-02    0.0\n",
       "2025-05-09    0.0\n",
       "2025-05-16    0.0\n",
       "2025-05-23    0.0\n",
       "2025-05-30    0.0\n",
       "Name: A001570, dtype: float64"
      ]
     },
     "execution_count": 125,
     "metadata": {},
     "output_type": "execute_result"
    }
   ],
   "source": [
    "idx_ret['A001570'].dropna()"
   ]
  },
  {
   "cell_type": "code",
   "execution_count": 126,
   "id": "58570463-680a-4be8-ba1e-2e795b94efbd",
   "metadata": {
    "execution": {
     "iopub.execute_input": "2025-06-04T06:57:39.169073Z",
     "iopub.status.busy": "2025-06-04T06:57:39.168593Z",
     "iopub.status.idle": "2025-06-04T06:57:39.381508Z",
     "shell.execute_reply": "2025-06-04T06:57:39.380552Z",
     "shell.execute_reply.started": "2025-06-04T06:57:39.169030Z"
    },
    "tags": []
   },
   "outputs": [
    {
     "data": {
      "text/plain": [
       "<Axes: xlabel='Dates'>"
      ]
     },
     "execution_count": 126,
     "metadata": {},
     "output_type": "execute_result"
    },
    {
     "data": {
      "image/png": "[encoded data removed]",
      "text/plain": [
       "<Figure size 640x480 with 1 Axes>"
      ]
     },
     "metadata": {},
     "output_type": "display_data"
    }
   ],
   "source": [
    "# raw long short \n",
    "(1+idx_ret.sum(1)).cumprod().plot()"
   ]
  },
  {
   "cell_type": "code",
   "execution_count": 127,
   "id": "d99bde96-38cb-4249-9f17-dde832063ec7",
   "metadata": {
    "execution": {
     "iopub.execute_input": "2025-06-04T06:57:39.560332Z",
     "iopub.status.busy": "2025-06-04T06:57:39.559811Z",
     "iopub.status.idle": "2025-06-04T06:57:39.768261Z",
     "shell.execute_reply": "2025-06-04T06:57:39.767310Z",
     "shell.execute_reply.started": "2025-06-04T06:57:39.560290Z"
    },
    "tags": []
   },
   "outputs": [
    {
     "data": {
      "text/plain": [
       "<Axes: xlabel='Dates'>"
      ]
     },
     "execution_count": 127,
     "metadata": {},
     "output_type": "execute_result"
    },
    {
     "data": {
      "image/png": "[encoded data removed]",
      "text/plain": [
       "<Figure size 640x480 with 1 Axes>"
      ]
     },
     "metadata": {},
     "output_type": "display_data"
    }
   ],
   "source": [
    "# raw long\n",
    "(1+long_idx_ret.sum(1)).cumprod().plot()"
   ]
  },
  {
   "cell_type": "code",
   "execution_count": 128,
   "id": "702c2d44-3f8e-497f-8717-506a4b43ec8a",
   "metadata": {
    "execution": {
     "iopub.execute_input": "2025-06-04T06:57:39.896237Z",
     "iopub.status.busy": "2025-06-04T06:57:39.895712Z",
     "iopub.status.idle": "2025-06-04T06:57:40.112770Z",
     "shell.execute_reply": "2025-06-04T06:57:40.111813Z",
     "shell.execute_reply.started": "2025-06-04T06:57:39.896191Z"
    },
    "tags": []
   },
   "outputs": [
    {
     "data": {
      "text/plain": [
       "<Axes: xlabel='Dates'>"
      ]
     },
     "execution_count": 128,
     "metadata": {},
     "output_type": "execute_result"
    },
    {
     "data": {
      "image/png": "[encoded data removed]",
      "text/plain": [
       "<Figure size 640x480 with 1 Axes>"
      ]
     },
     "metadata": {},
     "output_type": "display_data"
    }
   ],
   "source": [
    "# raw short\n",
    "(1+short_idx_ret.sum(1)).cumprod().plot()"
   ]
  },
  {
   "cell_type": "code",
   "execution_count": 129,
   "id": "3b1e18e5-0e25-4946-b8d0-279be02fe7e4",
   "metadata": {
    "execution": {
     "iopub.execute_input": "2025-06-04T06:57:40.159740Z",
     "iopub.status.busy": "2025-06-04T06:57:40.159116Z",
     "iopub.status.idle": "2025-06-04T06:57:40.164707Z",
     "shell.execute_reply": "2025-06-04T06:57:40.163423Z",
     "shell.execute_reply.started": "2025-06-04T06:57:40.159694Z"
    },
    "tags": []
   },
   "outputs": [],
   "source": [
    "# equal weight long short"
   ]
  },
  {
   "cell_type": "code",
   "execution_count": 130,
   "id": "a11e2e10-bccc-4850-9148-3f13ce3a59a3",
   "metadata": {
    "execution": {
     "iopub.execute_input": "2025-06-04T06:57:40.410423Z",
     "iopub.status.busy": "2025-06-04T06:57:40.409783Z",
     "iopub.status.idle": "2025-06-04T06:57:40.616098Z",
     "shell.execute_reply": "2025-06-04T06:57:40.615171Z",
     "shell.execute_reply.started": "2025-06-04T06:57:40.410377Z"
    },
    "tags": []
   },
   "outputs": [
    {
     "data": {
      "text/plain": [
       "<Axes: xlabel='Dates'>"
      ]
     },
     "execution_count": 130,
     "metadata": {},
     "output_type": "execute_result"
    },
    {
     "data": {
      "image/png": "[encoded data removed]",
      "text/plain": [
       "<Figure size 640x480 with 1 Axes>"
      ]
     },
     "metadata": {},
     "output_type": "display_data"
    }
   ],
   "source": [
    "(1+ew_long_idx_ret.sum(1)).cumprod().plot()"
   ]
  },
  {
   "cell_type": "code",
   "execution_count": 131,
   "id": "fecd66fa-a4b6-42cd-873f-ccff7600732e",
   "metadata": {
    "execution": {
     "iopub.execute_input": "2025-06-04T06:57:41.036289Z",
     "iopub.status.busy": "2025-06-04T06:57:41.035629Z",
     "iopub.status.idle": "2025-06-04T06:57:41.258502Z",
     "shell.execute_reply": "2025-06-04T06:57:41.257410Z",
     "shell.execute_reply.started": "2025-06-04T06:57:41.036241Z"
    },
    "tags": []
   },
   "outputs": [
    {
     "data": {
      "text/plain": [
       "<Axes: xlabel='Dates'>"
      ]
     },
     "execution_count": 131,
     "metadata": {},
     "output_type": "execute_result"
    },
    {
     "data": {
      "image/png": "[encoded data removed]",
      "text/plain": [
       "<Figure size 640x480 with 1 Axes>"
      ]
     },
     "metadata": {},
     "output_type": "display_data"
    }
   ],
   "source": [
    "(1+ew_short_idx_ret.sum(1)).cumprod().plot()"
   ]
  },
  {
   "cell_type": "code",
   "execution_count": null,
   "id": "56ef6d79-4255-4af4-b702-70368885429f",
   "metadata": {},
   "outputs": [],
   "source": []
  },
  {
   "cell_type": "code",
   "execution_count": 132,
   "id": "1fa0a227-02cf-4ef8-90e7-0cf8a3a18c13",
   "metadata": {
    "execution": {
     "iopub.execute_input": "2025-06-04T06:57:42.080828Z",
     "iopub.status.busy": "2025-06-04T06:57:42.080286Z",
     "iopub.status.idle": "2025-06-04T06:57:42.298197Z",
     "shell.execute_reply": "2025-06-04T06:57:42.297430Z",
     "shell.execute_reply.started": "2025-06-04T06:57:42.080783Z"
    },
    "tags": []
   },
   "outputs": [
    {
     "data": {
      "text/plain": [
       "<Axes: xlabel='Dates'>"
      ]
     },
     "execution_count": 132,
     "metadata": {},
     "output_type": "execute_result"
    },
    {
     "data": {
      "image/png": "[encoded data removed]",
      "text/plain": [
       "<Figure size 640x480 with 1 Axes>"
      ]
     },
     "metadata": {},
     "output_type": "display_data"
    }
   ],
   "source": [
    "# remove top and bottom\n",
    "(1+idx_ret.sum(1)).cumprod().plot()"
   ]
  },
  {
   "cell_type": "code",
   "execution_count": 133,
   "id": "9cb47416-afdd-4ff4-ad5e-5a240a6e8855",
   "metadata": {
    "execution": {
     "iopub.execute_input": "2025-06-04T06:57:42.897799Z",
     "iopub.status.busy": "2025-06-04T06:57:42.897089Z",
     "iopub.status.idle": "2025-06-04T06:57:43.104421Z",
     "shell.execute_reply": "2025-06-04T06:57:43.103480Z",
     "shell.execute_reply.started": "2025-06-04T06:57:42.897753Z"
    },
    "tags": []
   },
   "outputs": [
    {
     "data": {
      "text/plain": [
       "<Axes: xlabel='Dates'>"
      ]
     },
     "execution_count": 133,
     "metadata": {},
     "output_type": "execute_result"
    },
    {
     "data": {
      "image/png": "[encoded data removed]",
      "text/plain": [
       "<Figure size 640x480 with 1 Axes>"
      ]
     },
     "metadata": {},
     "output_type": "display_data"
    }
   ],
   "source": [
    "# remove in the middle\n",
    "(1+idx_ret.sum(1)).cumprod().plot()"
   ]
  },
  {
   "cell_type": "code",
   "execution_count": null,
   "id": "229cbeaa-fcce-446c-af5c-ded5b80321ea",
   "metadata": {},
   "outputs": [],
   "source": []
  },
  {
   "cell_type": "code",
   "execution_count": null,
   "id": "cacc2267-4a2f-4cc9-be3a-93575936e9ef",
   "metadata": {},
   "outputs": [],
   "source": []
  },
  {
   "cell_type": "markdown",
   "id": "93643ef4-5364-4481-87ef-2afcf44eb8b5",
   "metadata": {},
   "source": [
    "# optimize port"
   ]
  },
  {
   "cell_type": "markdown",
   "id": "34e02e86-b178-4a25-85d2-22165de88ce4",
   "metadata": {},
   "source": [
    "### how to optimize \n",
    "#### compare with market weight \n",
    "#### input: k200 weight, score, vol(return)\n"
   ]
  },
  {
   "cell_type": "code",
   "execution_count": 134,
   "id": "d9b26060-3df9-4d8a-9c41-71994d986abe",
   "metadata": {
    "execution": {
     "iopub.execute_input": "2025-06-04T06:57:45.486797Z",
     "iopub.status.busy": "2025-06-04T06:57:45.486284Z",
     "iopub.status.idle": "2025-06-04T06:57:45.492466Z",
     "shell.execute_reply": "2025-06-04T06:57:45.491402Z",
     "shell.execute_reply.started": "2025-06-04T06:57:45.486753Z"
    }
   },
   "outputs": [],
   "source": [
    "from scipy.optimize import minimize\n",
    "import numpy as np"
   ]
  },
  {
   "cell_type": "code",
   "execution_count": 135,
   "id": "9841b03b-32a1-4423-8886-ca534eb79627",
   "metadata": {
    "execution": {
     "iopub.execute_input": "2025-06-04T06:57:45.870404Z",
     "iopub.status.busy": "2025-06-04T06:57:45.869880Z",
     "iopub.status.idle": "2025-06-04T06:57:45.938064Z",
     "shell.execute_reply": "2025-06-04T06:57:45.936989Z",
     "shell.execute_reply.started": "2025-06-04T06:57:45.870360Z"
    }
   },
   "outputs": [],
   "source": [
    "bmw=k200_df['idx_weight'].unstack()"
   ]
  },
  {
   "cell_type": "code",
   "execution_count": 136,
   "id": "21a65361-0a12-41ac-a9a9-cde2599c0d37",
   "metadata": {
    "execution": {
     "iopub.execute_input": "2025-06-04T06:57:46.392392Z",
     "iopub.status.busy": "2025-06-04T06:57:46.391865Z",
     "iopub.status.idle": "2025-06-04T06:57:46.444800Z",
     "shell.execute_reply": "2025-06-04T06:57:46.443643Z",
     "shell.execute_reply.started": "2025-06-04T06:57:46.392348Z"
    }
   },
   "outputs": [
    {
     "data": {
      "text/html": [
       "<div>\n",
       "<style scoped>\n",
       "    .dataframe tbody tr th:only-of-type {\n",
       "        vertical-align: middle;\n",
       "    }\n",
       "\n",
       "    .dataframe tbody tr th {\n",
       "        vertical-align: top;\n",
       "    }\n",
       "\n",
       "    .dataframe thead th {\n",
       "        text-align: right;\n",
       "    }\n",
       "</style>\n",
       "<table border=\"1\" class=\"dataframe\">\n",
       "  <thead>\n",
       "    <tr style=\"text-align: right;\">\n",
       "      <th>Symbol</th>\n",
       "      <th>A000030</th>\n",
       "      <th>A000050</th>\n",
       "      <th>A000060</th>\n",
       "      <th>A000070</th>\n",
       "      <th>A000080</th>\n",
       "      <th>A000100</th>\n",
       "      <th>A000120</th>\n",
       "      <th>A000140</th>\n",
       "      <th>A000150</th>\n",
       "      <th>A000210</th>\n",
       "      <th>...</th>\n",
       "      <th>A377300</th>\n",
       "      <th>A381970</th>\n",
       "      <th>A383220</th>\n",
       "      <th>A383800</th>\n",
       "      <th>A402340</th>\n",
       "      <th>A450080</th>\n",
       "      <th>A454910</th>\n",
       "      <th>A456040</th>\n",
       "      <th>A457190</th>\n",
       "      <th>A489790</th>\n",
       "    </tr>\n",
       "    <tr>\n",
       "      <th>Dates</th>\n",
       "      <th></th>\n",
       "      <th></th>\n",
       "      <th></th>\n",
       "      <th></th>\n",
       "      <th></th>\n",
       "      <th></th>\n",
       "      <th></th>\n",
       "      <th></th>\n",
       "      <th></th>\n",
       "      <th></th>\n",
       "      <th></th>\n",
       "      <th></th>\n",
       "      <th></th>\n",
       "      <th></th>\n",
       "      <th></th>\n",
       "      <th></th>\n",
       "      <th></th>\n",
       "      <th></th>\n",
       "      <th></th>\n",
       "      <th></th>\n",
       "      <th></th>\n",
       "    </tr>\n",
       "  </thead>\n",
       "  <tbody>\n",
       "    <tr>\n",
       "      <th>2016-06-02</th>\n",
       "      <td>0.46</td>\n",
       "      <td>0.03</td>\n",
       "      <td>NaN</td>\n",
       "      <td>0.1</td>\n",
       "      <td>0.12</td>\n",
       "      <td>0.39</td>\n",
       "      <td>0.28</td>\n",
       "      <td>0.01</td>\n",
       "      <td>0.10</td>\n",
       "      <td>0.34</td>\n",
       "      <td>...</td>\n",
       "      <td>NaN</td>\n",
       "      <td>NaN</td>\n",
       "      <td>NaN</td>\n",
       "      <td>NaN</td>\n",
       "      <td>NaN</td>\n",
       "      <td>NaN</td>\n",
       "      <td>NaN</td>\n",
       "      <td>NaN</td>\n",
       "      <td>NaN</td>\n",
       "      <td>NaN</td>\n",
       "    </tr>\n",
       "    <tr>\n",
       "      <th>2016-06-03</th>\n",
       "      <td>0.45</td>\n",
       "      <td>0.03</td>\n",
       "      <td>NaN</td>\n",
       "      <td>0.1</td>\n",
       "      <td>0.11</td>\n",
       "      <td>0.40</td>\n",
       "      <td>0.29</td>\n",
       "      <td>0.01</td>\n",
       "      <td>0.11</td>\n",
       "      <td>0.33</td>\n",
       "      <td>...</td>\n",
       "      <td>NaN</td>\n",
       "      <td>NaN</td>\n",
       "      <td>NaN</td>\n",
       "      <td>NaN</td>\n",
       "      <td>NaN</td>\n",
       "      <td>NaN</td>\n",
       "      <td>NaN</td>\n",
       "      <td>NaN</td>\n",
       "      <td>NaN</td>\n",
       "      <td>NaN</td>\n",
       "    </tr>\n",
       "    <tr>\n",
       "      <th>2016-06-07</th>\n",
       "      <td>0.45</td>\n",
       "      <td>0.03</td>\n",
       "      <td>NaN</td>\n",
       "      <td>0.1</td>\n",
       "      <td>0.11</td>\n",
       "      <td>0.39</td>\n",
       "      <td>0.30</td>\n",
       "      <td>0.01</td>\n",
       "      <td>0.10</td>\n",
       "      <td>0.34</td>\n",
       "      <td>...</td>\n",
       "      <td>NaN</td>\n",
       "      <td>NaN</td>\n",
       "      <td>NaN</td>\n",
       "      <td>NaN</td>\n",
       "      <td>NaN</td>\n",
       "      <td>NaN</td>\n",
       "      <td>NaN</td>\n",
       "      <td>NaN</td>\n",
       "      <td>NaN</td>\n",
       "      <td>NaN</td>\n",
       "    </tr>\n",
       "    <tr>\n",
       "      <th>2016-06-08</th>\n",
       "      <td>0.45</td>\n",
       "      <td>0.03</td>\n",
       "      <td>NaN</td>\n",
       "      <td>0.1</td>\n",
       "      <td>0.11</td>\n",
       "      <td>0.40</td>\n",
       "      <td>0.30</td>\n",
       "      <td>0.01</td>\n",
       "      <td>0.10</td>\n",
       "      <td>0.34</td>\n",
       "      <td>...</td>\n",
       "      <td>NaN</td>\n",
       "      <td>NaN</td>\n",
       "      <td>NaN</td>\n",
       "      <td>NaN</td>\n",
       "      <td>NaN</td>\n",
       "      <td>NaN</td>\n",
       "      <td>NaN</td>\n",
       "      <td>NaN</td>\n",
       "      <td>NaN</td>\n",
       "      <td>NaN</td>\n",
       "    </tr>\n",
       "    <tr>\n",
       "      <th>2016-06-09</th>\n",
       "      <td>0.44</td>\n",
       "      <td>0.03</td>\n",
       "      <td>NaN</td>\n",
       "      <td>0.1</td>\n",
       "      <td>0.11</td>\n",
       "      <td>0.39</td>\n",
       "      <td>0.29</td>\n",
       "      <td>0.02</td>\n",
       "      <td>0.11</td>\n",
       "      <td>0.34</td>\n",
       "      <td>...</td>\n",
       "      <td>NaN</td>\n",
       "      <td>NaN</td>\n",
       "      <td>NaN</td>\n",
       "      <td>NaN</td>\n",
       "      <td>NaN</td>\n",
       "      <td>NaN</td>\n",
       "      <td>NaN</td>\n",
       "      <td>NaN</td>\n",
       "      <td>NaN</td>\n",
       "      <td>NaN</td>\n",
       "    </tr>\n",
       "    <tr>\n",
       "      <th>...</th>\n",
       "      <td>...</td>\n",
       "      <td>...</td>\n",
       "      <td>...</td>\n",
       "      <td>...</td>\n",
       "      <td>...</td>\n",
       "      <td>...</td>\n",
       "      <td>...</td>\n",
       "      <td>...</td>\n",
       "      <td>...</td>\n",
       "      <td>...</td>\n",
       "      <td>...</td>\n",
       "      <td>...</td>\n",
       "      <td>...</td>\n",
       "      <td>...</td>\n",
       "      <td>...</td>\n",
       "      <td>...</td>\n",
       "      <td>...</td>\n",
       "      <td>...</td>\n",
       "      <td>...</td>\n",
       "      <td>...</td>\n",
       "      <td>...</td>\n",
       "    </tr>\n",
       "    <tr>\n",
       "      <th>2025-05-27</th>\n",
       "      <td>NaN</td>\n",
       "      <td>NaN</td>\n",
       "      <td>NaN</td>\n",
       "      <td>NaN</td>\n",
       "      <td>0.05</td>\n",
       "      <td>0.55</td>\n",
       "      <td>0.08</td>\n",
       "      <td>NaN</td>\n",
       "      <td>0.29</td>\n",
       "      <td>0.04</td>\n",
       "      <td>...</td>\n",
       "      <td>0.09</td>\n",
       "      <td>NaN</td>\n",
       "      <td>0.09</td>\n",
       "      <td>NaN</td>\n",
       "      <td>0.79</td>\n",
       "      <td>0.07</td>\n",
       "      <td>0.08</td>\n",
       "      <td>0.02</td>\n",
       "      <td>0.07</td>\n",
       "      <td>0.16</td>\n",
       "    </tr>\n",
       "    <tr>\n",
       "      <th>2025-05-28</th>\n",
       "      <td>NaN</td>\n",
       "      <td>NaN</td>\n",
       "      <td>NaN</td>\n",
       "      <td>NaN</td>\n",
       "      <td>0.05</td>\n",
       "      <td>0.54</td>\n",
       "      <td>0.08</td>\n",
       "      <td>NaN</td>\n",
       "      <td>0.28</td>\n",
       "      <td>0.04</td>\n",
       "      <td>...</td>\n",
       "      <td>0.09</td>\n",
       "      <td>NaN</td>\n",
       "      <td>0.09</td>\n",
       "      <td>NaN</td>\n",
       "      <td>0.84</td>\n",
       "      <td>0.08</td>\n",
       "      <td>0.08</td>\n",
       "      <td>0.02</td>\n",
       "      <td>0.07</td>\n",
       "      <td>0.16</td>\n",
       "    </tr>\n",
       "    <tr>\n",
       "      <th>2025-05-29</th>\n",
       "      <td>NaN</td>\n",
       "      <td>NaN</td>\n",
       "      <td>NaN</td>\n",
       "      <td>NaN</td>\n",
       "      <td>0.05</td>\n",
       "      <td>0.53</td>\n",
       "      <td>0.07</td>\n",
       "      <td>NaN</td>\n",
       "      <td>0.30</td>\n",
       "      <td>0.04</td>\n",
       "      <td>...</td>\n",
       "      <td>0.09</td>\n",
       "      <td>NaN</td>\n",
       "      <td>0.09</td>\n",
       "      <td>NaN</td>\n",
       "      <td>0.87</td>\n",
       "      <td>0.08</td>\n",
       "      <td>0.08</td>\n",
       "      <td>0.02</td>\n",
       "      <td>0.07</td>\n",
       "      <td>0.15</td>\n",
       "    </tr>\n",
       "    <tr>\n",
       "      <th>2025-05-30</th>\n",
       "      <td>NaN</td>\n",
       "      <td>NaN</td>\n",
       "      <td>NaN</td>\n",
       "      <td>NaN</td>\n",
       "      <td>0.05</td>\n",
       "      <td>0.53</td>\n",
       "      <td>0.07</td>\n",
       "      <td>NaN</td>\n",
       "      <td>0.29</td>\n",
       "      <td>0.04</td>\n",
       "      <td>...</td>\n",
       "      <td>0.09</td>\n",
       "      <td>NaN</td>\n",
       "      <td>0.09</td>\n",
       "      <td>NaN</td>\n",
       "      <td>0.89</td>\n",
       "      <td>0.08</td>\n",
       "      <td>0.08</td>\n",
       "      <td>0.02</td>\n",
       "      <td>0.07</td>\n",
       "      <td>0.15</td>\n",
       "    </tr>\n",
       "    <tr>\n",
       "      <th>2025-06-02</th>\n",
       "      <td>NaN</td>\n",
       "      <td>NaN</td>\n",
       "      <td>NaN</td>\n",
       "      <td>NaN</td>\n",
       "      <td>0.05</td>\n",
       "      <td>0.53</td>\n",
       "      <td>0.07</td>\n",
       "      <td>NaN</td>\n",
       "      <td>0.29</td>\n",
       "      <td>0.04</td>\n",
       "      <td>...</td>\n",
       "      <td>0.09</td>\n",
       "      <td>NaN</td>\n",
       "      <td>0.09</td>\n",
       "      <td>NaN</td>\n",
       "      <td>0.85</td>\n",
       "      <td>0.08</td>\n",
       "      <td>0.08</td>\n",
       "      <td>0.02</td>\n",
       "      <td>0.07</td>\n",
       "      <td>0.15</td>\n",
       "    </tr>\n",
       "  </tbody>\n",
       "</table>\n",
       "<p>2206 rows × 307 columns</p>\n",
       "</div>"
      ],
      "text/plain": [
       "Symbol      A000030  A000050  A000060  A000070  A000080  A000100  A000120  \\\n",
       "Dates                                                                       \n",
       "2016-06-02     0.46     0.03      NaN      0.1     0.12     0.39     0.28   \n",
       "2016-06-03     0.45     0.03      NaN      0.1     0.11     0.40     0.29   \n",
       "2016-06-07     0.45     0.03      NaN      0.1     0.11     0.39     0.30   \n",
       "2016-06-08     0.45     0.03      NaN      0.1     0.11     0.40     0.30   \n",
       "2016-06-09     0.44     0.03      NaN      0.1     0.11     0.39     0.29   \n",
       "...             ...      ...      ...      ...      ...      ...      ...   \n",
       "2025-05-27      NaN      NaN      NaN      NaN     0.05     0.55     0.08   \n",
       "2025-05-28      NaN      NaN      NaN      NaN     0.05     0.54     0.08   \n",
       "2025-05-29      NaN      NaN      NaN      NaN     0.05     0.53     0.07   \n",
       "2025-05-30      NaN      NaN      NaN      NaN     0.05     0.53     0.07   \n",
       "2025-06-02      NaN      NaN      NaN      NaN     0.05     0.53     0.07   \n",
       "\n",
       "Symbol      A000140  A000150  A000210  ...  A377300  A381970  A383220  \\\n",
       "Dates                                  ...                              \n",
       "2016-06-02     0.01     0.10     0.34  ...      NaN      NaN      NaN   \n",
       "2016-06-03     0.01     0.11     0.33  ...      NaN      NaN      NaN   \n",
       "2016-06-07     0.01     0.10     0.34  ...      NaN      NaN      NaN   \n",
       "2016-06-08     0.01     0.10     0.34  ...      NaN      NaN      NaN   \n",
       "2016-06-09     0.02     0.11     0.34  ...      NaN      NaN      NaN   \n",
       "...             ...      ...      ...  ...      ...      ...      ...   \n",
       "2025-05-27      NaN     0.29     0.04  ...     0.09      NaN     0.09   \n",
       "2025-05-28      NaN     0.28     0.04  ...     0.09      NaN     0.09   \n",
       "2025-05-29      NaN     0.30     0.04  ...     0.09      NaN     0.09   \n",
       "2025-05-30      NaN     0.29     0.04  ...     0.09      NaN     0.09   \n",
       "2025-06-02      NaN     0.29     0.04  ...     0.09      NaN     0.09   \n",
       "\n",
       "Symbol      A383800  A402340  A450080  A454910  A456040  A457190  A489790  \n",
       "Dates                                                                      \n",
       "2016-06-02      NaN      NaN      NaN      NaN      NaN      NaN      NaN  \n",
       "2016-06-03      NaN      NaN      NaN      NaN      NaN      NaN      NaN  \n",
       "2016-06-07      NaN      NaN      NaN      NaN      NaN      NaN      NaN  \n",
       "2016-06-08      NaN      NaN      NaN      NaN      NaN      NaN      NaN  \n",
       "2016-06-09      NaN      NaN      NaN      NaN      NaN      NaN      NaN  \n",
       "...             ...      ...      ...      ...      ...      ...      ...  \n",
       "2025-05-27      NaN     0.79     0.07     0.08     0.02     0.07     0.16  \n",
       "2025-05-28      NaN     0.84     0.08     0.08     0.02     0.07     0.16  \n",
       "2025-05-29      NaN     0.87     0.08     0.08     0.02     0.07     0.15  \n",
       "2025-05-30      NaN     0.89     0.08     0.08     0.02     0.07     0.15  \n",
       "2025-06-02      NaN     0.85     0.08     0.08     0.02     0.07     0.15  \n",
       "\n",
       "[2206 rows x 307 columns]"
      ]
     },
     "execution_count": 136,
     "metadata": {},
     "output_type": "execute_result"
    }
   ],
   "source": [
    "bmw"
   ]
  },
  {
   "cell_type": "code",
   "execution_count": 137,
   "id": "0ec06207-caa0-4aa8-b8f1-457cf107bb02",
   "metadata": {
    "execution": {
     "iopub.execute_input": "2025-06-04T06:57:47.127307Z",
     "iopub.status.busy": "2025-06-04T06:57:47.126793Z",
     "iopub.status.idle": "2025-06-04T06:57:47.239274Z",
     "shell.execute_reply": "2025-06-04T06:57:47.238335Z",
     "shell.execute_reply.started": "2025-06-04T06:57:47.127262Z"
    },
    "scrolled": true
   },
   "outputs": [
    {
     "name": "stderr",
     "output_type": "stream",
     "text": [
      "/tmp/ipykernel_3735115/4222830641.py:1: FutureWarning: The default fill_method='pad' in DataFrame.pct_change is deprecated and will be removed in a future version. Call ffill before calling pct_change to retain current behavior and silence this warning.\n",
      "  adjprc.pct_change(60)\n"
     ]
    },
    {
     "data": {
      "text/html": [
       "<div>\n",
       "<style scoped>\n",
       "    .dataframe tbody tr th:only-of-type {\n",
       "        vertical-align: middle;\n",
       "    }\n",
       "\n",
       "    .dataframe tbody tr th {\n",
       "        vertical-align: top;\n",
       "    }\n",
       "\n",
       "    .dataframe thead th {\n",
       "        text-align: right;\n",
       "    }\n",
       "</style>\n",
       "<table border=\"1\" class=\"dataframe\">\n",
       "  <thead>\n",
       "    <tr style=\"text-align: right;\">\n",
       "      <th>Symbol</th>\n",
       "      <th>A000010</th>\n",
       "      <th>A000020</th>\n",
       "      <th>A000030</th>\n",
       "      <th>A000040</th>\n",
       "      <th>A000050</th>\n",
       "      <th>A000060</th>\n",
       "      <th>A000070</th>\n",
       "      <th>A000080</th>\n",
       "      <th>A000090</th>\n",
       "      <th>A000100</th>\n",
       "      <th>...</th>\n",
       "      <th>A460860</th>\n",
       "      <th>A462520</th>\n",
       "      <th>A465770</th>\n",
       "      <th>A900030</th>\n",
       "      <th>A900050</th>\n",
       "      <th>A900140</th>\n",
       "      <th>A950010</th>\n",
       "      <th>A950070</th>\n",
       "      <th>A950100</th>\n",
       "      <th>A950210</th>\n",
       "    </tr>\n",
       "    <tr>\n",
       "      <th>Dates</th>\n",
       "      <th></th>\n",
       "      <th></th>\n",
       "      <th></th>\n",
       "      <th></th>\n",
       "      <th></th>\n",
       "      <th></th>\n",
       "      <th></th>\n",
       "      <th></th>\n",
       "      <th></th>\n",
       "      <th></th>\n",
       "      <th></th>\n",
       "      <th></th>\n",
       "      <th></th>\n",
       "      <th></th>\n",
       "      <th></th>\n",
       "      <th></th>\n",
       "      <th></th>\n",
       "      <th></th>\n",
       "      <th></th>\n",
       "      <th></th>\n",
       "      <th></th>\n",
       "    </tr>\n",
       "  </thead>\n",
       "  <tbody>\n",
       "    <tr>\n",
       "      <th>2014-09-01</th>\n",
       "      <td>NaN</td>\n",
       "      <td>NaN</td>\n",
       "      <td>NaN</td>\n",
       "      <td>NaN</td>\n",
       "      <td>NaN</td>\n",
       "      <td>NaN</td>\n",
       "      <td>NaN</td>\n",
       "      <td>NaN</td>\n",
       "      <td>NaN</td>\n",
       "      <td>NaN</td>\n",
       "      <td>...</td>\n",
       "      <td>NaN</td>\n",
       "      <td>NaN</td>\n",
       "      <td>NaN</td>\n",
       "      <td>NaN</td>\n",
       "      <td>NaN</td>\n",
       "      <td>NaN</td>\n",
       "      <td>NaN</td>\n",
       "      <td>NaN</td>\n",
       "      <td>NaN</td>\n",
       "      <td>NaN</td>\n",
       "    </tr>\n",
       "    <tr>\n",
       "      <th>2014-09-02</th>\n",
       "      <td>NaN</td>\n",
       "      <td>NaN</td>\n",
       "      <td>NaN</td>\n",
       "      <td>NaN</td>\n",
       "      <td>NaN</td>\n",
       "      <td>NaN</td>\n",
       "      <td>NaN</td>\n",
       "      <td>NaN</td>\n",
       "      <td>NaN</td>\n",
       "      <td>NaN</td>\n",
       "      <td>...</td>\n",
       "      <td>NaN</td>\n",
       "      <td>NaN</td>\n",
       "      <td>NaN</td>\n",
       "      <td>NaN</td>\n",
       "      <td>NaN</td>\n",
       "      <td>NaN</td>\n",
       "      <td>NaN</td>\n",
       "      <td>NaN</td>\n",
       "      <td>NaN</td>\n",
       "      <td>NaN</td>\n",
       "    </tr>\n",
       "    <tr>\n",
       "      <th>2014-09-03</th>\n",
       "      <td>NaN</td>\n",
       "      <td>NaN</td>\n",
       "      <td>NaN</td>\n",
       "      <td>NaN</td>\n",
       "      <td>NaN</td>\n",
       "      <td>NaN</td>\n",
       "      <td>NaN</td>\n",
       "      <td>NaN</td>\n",
       "      <td>NaN</td>\n",
       "      <td>NaN</td>\n",
       "      <td>...</td>\n",
       "      <td>NaN</td>\n",
       "      <td>NaN</td>\n",
       "      <td>NaN</td>\n",
       "      <td>NaN</td>\n",
       "      <td>NaN</td>\n",
       "      <td>NaN</td>\n",
       "      <td>NaN</td>\n",
       "      <td>NaN</td>\n",
       "      <td>NaN</td>\n",
       "      <td>NaN</td>\n",
       "    </tr>\n",
       "    <tr>\n",
       "      <th>2014-09-04</th>\n",
       "      <td>NaN</td>\n",
       "      <td>NaN</td>\n",
       "      <td>NaN</td>\n",
       "      <td>NaN</td>\n",
       "      <td>NaN</td>\n",
       "      <td>NaN</td>\n",
       "      <td>NaN</td>\n",
       "      <td>NaN</td>\n",
       "      <td>NaN</td>\n",
       "      <td>NaN</td>\n",
       "      <td>...</td>\n",
       "      <td>NaN</td>\n",
       "      <td>NaN</td>\n",
       "      <td>NaN</td>\n",
       "      <td>NaN</td>\n",
       "      <td>NaN</td>\n",
       "      <td>NaN</td>\n",
       "      <td>NaN</td>\n",
       "      <td>NaN</td>\n",
       "      <td>NaN</td>\n",
       "      <td>NaN</td>\n",
       "    </tr>\n",
       "    <tr>\n",
       "      <th>2014-09-05</th>\n",
       "      <td>NaN</td>\n",
       "      <td>NaN</td>\n",
       "      <td>NaN</td>\n",
       "      <td>NaN</td>\n",
       "      <td>NaN</td>\n",
       "      <td>NaN</td>\n",
       "      <td>NaN</td>\n",
       "      <td>NaN</td>\n",
       "      <td>NaN</td>\n",
       "      <td>NaN</td>\n",
       "      <td>...</td>\n",
       "      <td>NaN</td>\n",
       "      <td>NaN</td>\n",
       "      <td>NaN</td>\n",
       "      <td>NaN</td>\n",
       "      <td>NaN</td>\n",
       "      <td>NaN</td>\n",
       "      <td>NaN</td>\n",
       "      <td>NaN</td>\n",
       "      <td>NaN</td>\n",
       "      <td>NaN</td>\n",
       "    </tr>\n",
       "    <tr>\n",
       "      <th>...</th>\n",
       "      <td>...</td>\n",
       "      <td>...</td>\n",
       "      <td>...</td>\n",
       "      <td>...</td>\n",
       "      <td>...</td>\n",
       "      <td>...</td>\n",
       "      <td>...</td>\n",
       "      <td>...</td>\n",
       "      <td>...</td>\n",
       "      <td>...</td>\n",
       "      <td>...</td>\n",
       "      <td>...</td>\n",
       "      <td>...</td>\n",
       "      <td>...</td>\n",
       "      <td>...</td>\n",
       "      <td>...</td>\n",
       "      <td>...</td>\n",
       "      <td>...</td>\n",
       "      <td>...</td>\n",
       "      <td>...</td>\n",
       "      <td>...</td>\n",
       "    </tr>\n",
       "    <tr>\n",
       "      <th>2025-05-26</th>\n",
       "      <td>NaN</td>\n",
       "      <td>0.028939</td>\n",
       "      <td>0.0</td>\n",
       "      <td>-0.067130</td>\n",
       "      <td>0.129187</td>\n",
       "      <td>0.0</td>\n",
       "      <td>0.008000</td>\n",
       "      <td>-0.006186</td>\n",
       "      <td>NaN</td>\n",
       "      <td>-0.147300</td>\n",
       "      <td>...</td>\n",
       "      <td>-0.019759</td>\n",
       "      <td>-0.134757</td>\n",
       "      <td>-0.068478</td>\n",
       "      <td>NaN</td>\n",
       "      <td>0.0</td>\n",
       "      <td>0.013809</td>\n",
       "      <td>0.0</td>\n",
       "      <td>NaN</td>\n",
       "      <td>0.0</td>\n",
       "      <td>0.033122</td>\n",
       "    </tr>\n",
       "    <tr>\n",
       "      <th>2025-05-27</th>\n",
       "      <td>NaN</td>\n",
       "      <td>0.001562</td>\n",
       "      <td>0.0</td>\n",
       "      <td>-0.069767</td>\n",
       "      <td>0.111111</td>\n",
       "      <td>0.0</td>\n",
       "      <td>0.019169</td>\n",
       "      <td>-0.001554</td>\n",
       "      <td>NaN</td>\n",
       "      <td>-0.161085</td>\n",
       "      <td>...</td>\n",
       "      <td>-0.103226</td>\n",
       "      <td>-0.134409</td>\n",
       "      <td>-0.059933</td>\n",
       "      <td>NaN</td>\n",
       "      <td>0.0</td>\n",
       "      <td>0.002862</td>\n",
       "      <td>0.0</td>\n",
       "      <td>NaN</td>\n",
       "      <td>0.0</td>\n",
       "      <td>0.002113</td>\n",
       "    </tr>\n",
       "    <tr>\n",
       "      <th>2025-05-28</th>\n",
       "      <td>NaN</td>\n",
       "      <td>0.017405</td>\n",
       "      <td>0.0</td>\n",
       "      <td>0.030879</td>\n",
       "      <td>0.139241</td>\n",
       "      <td>0.0</td>\n",
       "      <td>0.107717</td>\n",
       "      <td>0.015073</td>\n",
       "      <td>NaN</td>\n",
       "      <td>-0.181676</td>\n",
       "      <td>...</td>\n",
       "      <td>-0.054083</td>\n",
       "      <td>-0.129966</td>\n",
       "      <td>-0.025143</td>\n",
       "      <td>NaN</td>\n",
       "      <td>0.0</td>\n",
       "      <td>0.061414</td>\n",
       "      <td>0.0</td>\n",
       "      <td>NaN</td>\n",
       "      <td>0.0</td>\n",
       "      <td>-0.064493</td>\n",
       "    </tr>\n",
       "    <tr>\n",
       "      <th>2025-05-29</th>\n",
       "      <td>NaN</td>\n",
       "      <td>0.043478</td>\n",
       "      <td>0.0</td>\n",
       "      <td>0.049020</td>\n",
       "      <td>0.186306</td>\n",
       "      <td>0.0</td>\n",
       "      <td>0.261745</td>\n",
       "      <td>0.076517</td>\n",
       "      <td>NaN</td>\n",
       "      <td>-0.135357</td>\n",
       "      <td>...</td>\n",
       "      <td>-0.027957</td>\n",
       "      <td>-0.105119</td>\n",
       "      <td>0.042631</td>\n",
       "      <td>NaN</td>\n",
       "      <td>0.0</td>\n",
       "      <td>0.103284</td>\n",
       "      <td>0.0</td>\n",
       "      <td>NaN</td>\n",
       "      <td>0.0</td>\n",
       "      <td>-0.037308</td>\n",
       "    </tr>\n",
       "    <tr>\n",
       "      <th>2025-05-30</th>\n",
       "      <td>NaN</td>\n",
       "      <td>0.076672</td>\n",
       "      <td>0.0</td>\n",
       "      <td>0.092500</td>\n",
       "      <td>0.162162</td>\n",
       "      <td>0.0</td>\n",
       "      <td>0.216887</td>\n",
       "      <td>0.065401</td>\n",
       "      <td>NaN</td>\n",
       "      <td>-0.196456</td>\n",
       "      <td>...</td>\n",
       "      <td>-0.035827</td>\n",
       "      <td>-0.097931</td>\n",
       "      <td>0.004762</td>\n",
       "      <td>NaN</td>\n",
       "      <td>0.0</td>\n",
       "      <td>0.171305</td>\n",
       "      <td>0.0</td>\n",
       "      <td>NaN</td>\n",
       "      <td>0.0</td>\n",
       "      <td>-0.015602</td>\n",
       "    </tr>\n",
       "  </tbody>\n",
       "</table>\n",
       "<p>2638 rows × 1212 columns</p>\n",
       "</div>"
      ],
      "text/plain": [
       "Symbol      A000010   A000020  A000030   A000040   A000050  A000060   A000070  \\\n",
       "Dates                                                                           \n",
       "2014-09-01      NaN       NaN      NaN       NaN       NaN      NaN       NaN   \n",
       "2014-09-02      NaN       NaN      NaN       NaN       NaN      NaN       NaN   \n",
       "2014-09-03      NaN       NaN      NaN       NaN       NaN      NaN       NaN   \n",
       "2014-09-04      NaN       NaN      NaN       NaN       NaN      NaN       NaN   \n",
       "2014-09-05      NaN       NaN      NaN       NaN       NaN      NaN       NaN   \n",
       "...             ...       ...      ...       ...       ...      ...       ...   \n",
       "2025-05-26      NaN  0.028939      0.0 -0.067130  0.129187      0.0  0.008000   \n",
       "2025-05-27      NaN  0.001562      0.0 -0.069767  0.111111      0.0  0.019169   \n",
       "2025-05-28      NaN  0.017405      0.0  0.030879  0.139241      0.0  0.107717   \n",
       "2025-05-29      NaN  0.043478      0.0  0.049020  0.186306      0.0  0.261745   \n",
       "2025-05-30      NaN  0.076672      0.0  0.092500  0.162162      0.0  0.216887   \n",
       "\n",
       "Symbol       A000080  A000090   A000100  ...   A460860   A462520   A465770  \\\n",
       "Dates                                    ...                                 \n",
       "2014-09-01       NaN      NaN       NaN  ...       NaN       NaN       NaN   \n",
       "2014-09-02       NaN      NaN       NaN  ...       NaN       NaN       NaN   \n",
       "2014-09-03       NaN      NaN       NaN  ...       NaN       NaN       NaN   \n",
       "2014-09-04       NaN      NaN       NaN  ...       NaN       NaN       NaN   \n",
       "2014-09-05       NaN      NaN       NaN  ...       NaN       NaN       NaN   \n",
       "...              ...      ...       ...  ...       ...       ...       ...   \n",
       "2025-05-26 -0.006186      NaN -0.147300  ... -0.019759 -0.134757 -0.068478   \n",
       "2025-05-27 -0.001554      NaN -0.161085  ... -0.103226 -0.134409 -0.059933   \n",
       "2025-05-28  0.015073      NaN -0.181676  ... -0.054083 -0.129966 -0.025143   \n",
       "2025-05-29  0.076517      NaN -0.135357  ... -0.027957 -0.105119  0.042631   \n",
       "2025-05-30  0.065401      NaN -0.196456  ... -0.035827 -0.097931  0.004762   \n",
       "\n",
       "Symbol      A900030  A900050   A900140  A950010  A950070  A950100   A950210  \n",
       "Dates                                                                        \n",
       "2014-09-01      NaN      NaN       NaN      NaN      NaN      NaN       NaN  \n",
       "2014-09-02      NaN      NaN       NaN      NaN      NaN      NaN       NaN  \n",
       "2014-09-03      NaN      NaN       NaN      NaN      NaN      NaN       NaN  \n",
       "2014-09-04      NaN      NaN       NaN      NaN      NaN      NaN       NaN  \n",
       "2014-09-05      NaN      NaN       NaN      NaN      NaN      NaN       NaN  \n",
       "...             ...      ...       ...      ...      ...      ...       ...  \n",
       "2025-05-26      NaN      0.0  0.013809      0.0      NaN      0.0  0.033122  \n",
       "2025-05-27      NaN      0.0  0.002862      0.0      NaN      0.0  0.002113  \n",
       "2025-05-28      NaN      0.0  0.061414      0.0      NaN      0.0 -0.064493  \n",
       "2025-05-29      NaN      0.0  0.103284      0.0      NaN      0.0 -0.037308  \n",
       "2025-05-30      NaN      0.0  0.171305      0.0      NaN      0.0 -0.015602  \n",
       "\n",
       "[2638 rows x 1212 columns]"
      ]
     },
     "execution_count": 137,
     "metadata": {},
     "output_type": "execute_result"
    }
   ],
   "source": [
    "adjprc.pct_change(60)"
   ]
  },
  {
   "cell_type": "code",
   "execution_count": null,
   "id": "a6b0b3f8-d15a-48c9-8062-189f72e3eca8",
   "metadata": {},
   "outputs": [],
   "source": []
  },
  {
   "cell_type": "code",
   "execution_count": 138,
   "id": "6d05871f-9c7f-41d7-a2c8-ec60eba9bc65",
   "metadata": {
    "execution": {
     "iopub.execute_input": "2025-06-04T06:57:48.443450Z",
     "iopub.status.busy": "2025-06-04T06:57:48.442929Z",
     "iopub.status.idle": "2025-06-04T06:57:48.485507Z",
     "shell.execute_reply": "2025-06-04T06:57:48.484649Z",
     "shell.execute_reply.started": "2025-06-04T06:57:48.443403Z"
    }
   },
   "outputs": [
    {
     "data": {
      "text/plain": [
       "DatetimeIndex(['2021-12-23', '2021-12-24', '2021-12-27', '2021-12-28',\n",
       "               '2021-12-29', '2022-01-03', '2022-01-04', '2022-01-05',\n",
       "               '2022-01-06', '2022-01-07',\n",
       "               ...\n",
       "               '2025-05-20', '2025-05-21', '2025-05-22', '2025-05-23',\n",
       "               '2025-05-26', '2025-05-27', '2025-05-28', '2025-05-29',\n",
       "               '2025-05-30', '2025-06-02'],\n",
       "              dtype='datetime64[ns]', name='Dates', length=840, freq=None)"
      ]
     },
     "execution_count": 138,
     "metadata": {},
     "output_type": "execute_result"
    }
   ],
   "source": [
    "k200_df.index.get_level_values(0).unique()[k200_df.index.get_level_values(0).unique()>'2021-12-22']"
   ]
  },
  {
   "cell_type": "code",
   "execution_count": 139,
   "id": "79068221-3051-4fbf-9f60-9480054e388f",
   "metadata": {
    "execution": {
     "iopub.execute_input": "2025-06-04T06:57:49.368673Z",
     "iopub.status.busy": "2025-06-04T06:57:49.368150Z",
     "iopub.status.idle": "2025-06-04T06:57:49.376440Z",
     "shell.execute_reply": "2025-06-04T06:57:49.375527Z",
     "shell.execute_reply.started": "2025-06-04T06:57:49.368628Z"
    }
   },
   "outputs": [
    {
     "data": {
      "text/plain": [
       "DatetimeIndex(['2025-03-07', '2025-03-14', '2025-03-21', '2025-03-28',\n",
       "               '2025-04-04', '2025-04-11', '2025-04-18', '2025-04-25',\n",
       "               '2025-05-02', '2025-05-09', '2025-05-16', '2025-05-23',\n",
       "               '2025-05-30'],\n",
       "              dtype='datetime64[ns]', name='Dates', freq=None)"
      ]
     },
     "execution_count": 139,
     "metadata": {},
     "output_type": "execute_result"
    }
   ],
   "source": [
    "ls_w.index"
   ]
  },
  {
   "cell_type": "code",
   "execution_count": 140,
   "id": "553a3faa-5d35-4b6f-946a-286f9d2b1f7a",
   "metadata": {
    "execution": {
     "iopub.execute_input": "2025-06-04T06:57:49.992254Z",
     "iopub.status.busy": "2025-06-04T06:57:49.991731Z",
     "iopub.status.idle": "2025-06-04T06:57:50.021070Z",
     "shell.execute_reply": "2025-06-04T06:57:50.020171Z",
     "shell.execute_reply.started": "2025-06-04T06:57:49.992209Z"
    },
    "scrolled": true
   },
   "outputs": [
    {
     "name": "stdout",
     "output_type": "stream",
     "text": [
      "lack of the beginning part of data  2025-02-28 00:00:00 2025-03-07 00:00:00\n",
      "expected date is not in inner dates 2025-03-31 00:00:00\n",
      "2025-03-31 00:00:00 2025-03-28 00:00:00\n",
      "expected date is not in inner dates 2025-04-30 00:00:00\n",
      "2025-04-30 00:00:00 2025-04-25 00:00:00\n"
     ]
    }
   ],
   "source": [
    "comm_dates=ls_w.index.intersection(k200_df.index.get_level_values(0).unique())\n",
    "rebal_dates = proc.find_entire_rebalancing_dates(comm_dates)"
   ]
  },
  {
   "cell_type": "code",
   "execution_count": 141,
   "id": "48b6cbb9-3c17-4ea9-937a-b9df31c724b5",
   "metadata": {
    "execution": {
     "iopub.execute_input": "2025-06-04T06:57:50.451667Z",
     "iopub.status.busy": "2025-06-04T06:57:50.451155Z",
     "iopub.status.idle": "2025-06-04T06:57:50.459041Z",
     "shell.execute_reply": "2025-06-04T06:57:50.458167Z",
     "shell.execute_reply.started": "2025-06-04T06:57:50.451623Z"
    }
   },
   "outputs": [
    {
     "data": {
      "text/plain": [
       "DatetimeIndex(['2025-03-28', '2025-04-25', '2025-05-30'], dtype='datetime64[ns]', freq=None)"
      ]
     },
     "execution_count": 141,
     "metadata": {},
     "output_type": "execute_result"
    }
   ],
   "source": [
    "rebal_dates"
   ]
  },
  {
   "cell_type": "code",
   "execution_count": 142,
   "id": "ec2115f8-e0a8-461f-a47a-2518e1f9de88",
   "metadata": {
    "execution": {
     "iopub.execute_input": "2025-06-04T06:57:51.352105Z",
     "iopub.status.busy": "2025-06-04T06:57:51.351591Z",
     "iopub.status.idle": "2025-06-04T06:57:51.400892Z",
     "shell.execute_reply": "2025-06-04T06:57:51.400056Z",
     "shell.execute_reply.started": "2025-06-04T06:57:51.352060Z"
    }
   },
   "outputs": [
    {
     "data": {
      "text/html": [
       "<div>\n",
       "<style scoped>\n",
       "    .dataframe tbody tr th:only-of-type {\n",
       "        vertical-align: middle;\n",
       "    }\n",
       "\n",
       "    .dataframe tbody tr th {\n",
       "        vertical-align: top;\n",
       "    }\n",
       "\n",
       "    .dataframe thead th {\n",
       "        text-align: right;\n",
       "    }\n",
       "</style>\n",
       "<table border=\"1\" class=\"dataframe\">\n",
       "  <thead>\n",
       "    <tr style=\"text-align: right;\">\n",
       "      <th>Symbol</th>\n",
       "      <th>A000030</th>\n",
       "      <th>A000050</th>\n",
       "      <th>A000060</th>\n",
       "      <th>A000070</th>\n",
       "      <th>A000080</th>\n",
       "      <th>A000100</th>\n",
       "      <th>A000120</th>\n",
       "      <th>A000140</th>\n",
       "      <th>A000150</th>\n",
       "      <th>A000210</th>\n",
       "      <th>...</th>\n",
       "      <th>A377300</th>\n",
       "      <th>A381970</th>\n",
       "      <th>A383220</th>\n",
       "      <th>A383800</th>\n",
       "      <th>A402340</th>\n",
       "      <th>A450080</th>\n",
       "      <th>A454910</th>\n",
       "      <th>A456040</th>\n",
       "      <th>A457190</th>\n",
       "      <th>A489790</th>\n",
       "    </tr>\n",
       "    <tr>\n",
       "      <th>Dates</th>\n",
       "      <th></th>\n",
       "      <th></th>\n",
       "      <th></th>\n",
       "      <th></th>\n",
       "      <th></th>\n",
       "      <th></th>\n",
       "      <th></th>\n",
       "      <th></th>\n",
       "      <th></th>\n",
       "      <th></th>\n",
       "      <th></th>\n",
       "      <th></th>\n",
       "      <th></th>\n",
       "      <th></th>\n",
       "      <th></th>\n",
       "      <th></th>\n",
       "      <th></th>\n",
       "      <th></th>\n",
       "      <th></th>\n",
       "      <th></th>\n",
       "      <th></th>\n",
       "    </tr>\n",
       "  </thead>\n",
       "  <tbody>\n",
       "    <tr>\n",
       "      <th>2016-06-02</th>\n",
       "      <td>0.46</td>\n",
       "      <td>0.03</td>\n",
       "      <td>NaN</td>\n",
       "      <td>0.1</td>\n",
       "      <td>0.12</td>\n",
       "      <td>0.39</td>\n",
       "      <td>0.28</td>\n",
       "      <td>0.01</td>\n",
       "      <td>0.10</td>\n",
       "      <td>0.34</td>\n",
       "      <td>...</td>\n",
       "      <td>NaN</td>\n",
       "      <td>NaN</td>\n",
       "      <td>NaN</td>\n",
       "      <td>NaN</td>\n",
       "      <td>NaN</td>\n",
       "      <td>NaN</td>\n",
       "      <td>NaN</td>\n",
       "      <td>NaN</td>\n",
       "      <td>NaN</td>\n",
       "      <td>NaN</td>\n",
       "    </tr>\n",
       "    <tr>\n",
       "      <th>2016-06-03</th>\n",
       "      <td>0.45</td>\n",
       "      <td>0.03</td>\n",
       "      <td>NaN</td>\n",
       "      <td>0.1</td>\n",
       "      <td>0.11</td>\n",
       "      <td>0.40</td>\n",
       "      <td>0.29</td>\n",
       "      <td>0.01</td>\n",
       "      <td>0.11</td>\n",
       "      <td>0.33</td>\n",
       "      <td>...</td>\n",
       "      <td>NaN</td>\n",
       "      <td>NaN</td>\n",
       "      <td>NaN</td>\n",
       "      <td>NaN</td>\n",
       "      <td>NaN</td>\n",
       "      <td>NaN</td>\n",
       "      <td>NaN</td>\n",
       "      <td>NaN</td>\n",
       "      <td>NaN</td>\n",
       "      <td>NaN</td>\n",
       "    </tr>\n",
       "    <tr>\n",
       "      <th>2016-06-07</th>\n",
       "      <td>0.45</td>\n",
       "      <td>0.03</td>\n",
       "      <td>NaN</td>\n",
       "      <td>0.1</td>\n",
       "      <td>0.11</td>\n",
       "      <td>0.39</td>\n",
       "      <td>0.30</td>\n",
       "      <td>0.01</td>\n",
       "      <td>0.10</td>\n",
       "      <td>0.34</td>\n",
       "      <td>...</td>\n",
       "      <td>NaN</td>\n",
       "      <td>NaN</td>\n",
       "      <td>NaN</td>\n",
       "      <td>NaN</td>\n",
       "      <td>NaN</td>\n",
       "      <td>NaN</td>\n",
       "      <td>NaN</td>\n",
       "      <td>NaN</td>\n",
       "      <td>NaN</td>\n",
       "      <td>NaN</td>\n",
       "    </tr>\n",
       "    <tr>\n",
       "      <th>2016-06-08</th>\n",
       "      <td>0.45</td>\n",
       "      <td>0.03</td>\n",
       "      <td>NaN</td>\n",
       "      <td>0.1</td>\n",
       "      <td>0.11</td>\n",
       "      <td>0.40</td>\n",
       "      <td>0.30</td>\n",
       "      <td>0.01</td>\n",
       "      <td>0.10</td>\n",
       "      <td>0.34</td>\n",
       "      <td>...</td>\n",
       "      <td>NaN</td>\n",
       "      <td>NaN</td>\n",
       "      <td>NaN</td>\n",
       "      <td>NaN</td>\n",
       "      <td>NaN</td>\n",
       "      <td>NaN</td>\n",
       "      <td>NaN</td>\n",
       "      <td>NaN</td>\n",
       "      <td>NaN</td>\n",
       "      <td>NaN</td>\n",
       "    </tr>\n",
       "    <tr>\n",
       "      <th>2016-06-09</th>\n",
       "      <td>0.44</td>\n",
       "      <td>0.03</td>\n",
       "      <td>NaN</td>\n",
       "      <td>0.1</td>\n",
       "      <td>0.11</td>\n",
       "      <td>0.39</td>\n",
       "      <td>0.29</td>\n",
       "      <td>0.02</td>\n",
       "      <td>0.11</td>\n",
       "      <td>0.34</td>\n",
       "      <td>...</td>\n",
       "      <td>NaN</td>\n",
       "      <td>NaN</td>\n",
       "      <td>NaN</td>\n",
       "      <td>NaN</td>\n",
       "      <td>NaN</td>\n",
       "      <td>NaN</td>\n",
       "      <td>NaN</td>\n",
       "      <td>NaN</td>\n",
       "      <td>NaN</td>\n",
       "      <td>NaN</td>\n",
       "    </tr>\n",
       "    <tr>\n",
       "      <th>...</th>\n",
       "      <td>...</td>\n",
       "      <td>...</td>\n",
       "      <td>...</td>\n",
       "      <td>...</td>\n",
       "      <td>...</td>\n",
       "      <td>...</td>\n",
       "      <td>...</td>\n",
       "      <td>...</td>\n",
       "      <td>...</td>\n",
       "      <td>...</td>\n",
       "      <td>...</td>\n",
       "      <td>...</td>\n",
       "      <td>...</td>\n",
       "      <td>...</td>\n",
       "      <td>...</td>\n",
       "      <td>...</td>\n",
       "      <td>...</td>\n",
       "      <td>...</td>\n",
       "      <td>...</td>\n",
       "      <td>...</td>\n",
       "      <td>...</td>\n",
       "    </tr>\n",
       "    <tr>\n",
       "      <th>2025-05-27</th>\n",
       "      <td>NaN</td>\n",
       "      <td>NaN</td>\n",
       "      <td>NaN</td>\n",
       "      <td>NaN</td>\n",
       "      <td>0.05</td>\n",
       "      <td>0.55</td>\n",
       "      <td>0.08</td>\n",
       "      <td>NaN</td>\n",
       "      <td>0.29</td>\n",
       "      <td>0.04</td>\n",
       "      <td>...</td>\n",
       "      <td>0.09</td>\n",
       "      <td>NaN</td>\n",
       "      <td>0.09</td>\n",
       "      <td>NaN</td>\n",
       "      <td>0.79</td>\n",
       "      <td>0.07</td>\n",
       "      <td>0.08</td>\n",
       "      <td>0.02</td>\n",
       "      <td>0.07</td>\n",
       "      <td>0.16</td>\n",
       "    </tr>\n",
       "    <tr>\n",
       "      <th>2025-05-28</th>\n",
       "      <td>NaN</td>\n",
       "      <td>NaN</td>\n",
       "      <td>NaN</td>\n",
       "      <td>NaN</td>\n",
       "      <td>0.05</td>\n",
       "      <td>0.54</td>\n",
       "      <td>0.08</td>\n",
       "      <td>NaN</td>\n",
       "      <td>0.28</td>\n",
       "      <td>0.04</td>\n",
       "      <td>...</td>\n",
       "      <td>0.09</td>\n",
       "      <td>NaN</td>\n",
       "      <td>0.09</td>\n",
       "      <td>NaN</td>\n",
       "      <td>0.84</td>\n",
       "      <td>0.08</td>\n",
       "      <td>0.08</td>\n",
       "      <td>0.02</td>\n",
       "      <td>0.07</td>\n",
       "      <td>0.16</td>\n",
       "    </tr>\n",
       "    <tr>\n",
       "      <th>2025-05-29</th>\n",
       "      <td>NaN</td>\n",
       "      <td>NaN</td>\n",
       "      <td>NaN</td>\n",
       "      <td>NaN</td>\n",
       "      <td>0.05</td>\n",
       "      <td>0.53</td>\n",
       "      <td>0.07</td>\n",
       "      <td>NaN</td>\n",
       "      <td>0.30</td>\n",
       "      <td>0.04</td>\n",
       "      <td>...</td>\n",
       "      <td>0.09</td>\n",
       "      <td>NaN</td>\n",
       "      <td>0.09</td>\n",
       "      <td>NaN</td>\n",
       "      <td>0.87</td>\n",
       "      <td>0.08</td>\n",
       "      <td>0.08</td>\n",
       "      <td>0.02</td>\n",
       "      <td>0.07</td>\n",
       "      <td>0.15</td>\n",
       "    </tr>\n",
       "    <tr>\n",
       "      <th>2025-05-30</th>\n",
       "      <td>NaN</td>\n",
       "      <td>NaN</td>\n",
       "      <td>NaN</td>\n",
       "      <td>NaN</td>\n",
       "      <td>0.05</td>\n",
       "      <td>0.53</td>\n",
       "      <td>0.07</td>\n",
       "      <td>NaN</td>\n",
       "      <td>0.29</td>\n",
       "      <td>0.04</td>\n",
       "      <td>...</td>\n",
       "      <td>0.09</td>\n",
       "      <td>NaN</td>\n",
       "      <td>0.09</td>\n",
       "      <td>NaN</td>\n",
       "      <td>0.89</td>\n",
       "      <td>0.08</td>\n",
       "      <td>0.08</td>\n",
       "      <td>0.02</td>\n",
       "      <td>0.07</td>\n",
       "      <td>0.15</td>\n",
       "    </tr>\n",
       "    <tr>\n",
       "      <th>2025-06-02</th>\n",
       "      <td>NaN</td>\n",
       "      <td>NaN</td>\n",
       "      <td>NaN</td>\n",
       "      <td>NaN</td>\n",
       "      <td>0.05</td>\n",
       "      <td>0.53</td>\n",
       "      <td>0.07</td>\n",
       "      <td>NaN</td>\n",
       "      <td>0.29</td>\n",
       "      <td>0.04</td>\n",
       "      <td>...</td>\n",
       "      <td>0.09</td>\n",
       "      <td>NaN</td>\n",
       "      <td>0.09</td>\n",
       "      <td>NaN</td>\n",
       "      <td>0.85</td>\n",
       "      <td>0.08</td>\n",
       "      <td>0.08</td>\n",
       "      <td>0.02</td>\n",
       "      <td>0.07</td>\n",
       "      <td>0.15</td>\n",
       "    </tr>\n",
       "  </tbody>\n",
       "</table>\n",
       "<p>2206 rows × 307 columns</p>\n",
       "</div>"
      ],
      "text/plain": [
       "Symbol      A000030  A000050  A000060  A000070  A000080  A000100  A000120  \\\n",
       "Dates                                                                       \n",
       "2016-06-02     0.46     0.03      NaN      0.1     0.12     0.39     0.28   \n",
       "2016-06-03     0.45     0.03      NaN      0.1     0.11     0.40     0.29   \n",
       "2016-06-07     0.45     0.03      NaN      0.1     0.11     0.39     0.30   \n",
       "2016-06-08     0.45     0.03      NaN      0.1     0.11     0.40     0.30   \n",
       "2016-06-09     0.44     0.03      NaN      0.1     0.11     0.39     0.29   \n",
       "...             ...      ...      ...      ...      ...      ...      ...   \n",
       "2025-05-27      NaN      NaN      NaN      NaN     0.05     0.55     0.08   \n",
       "2025-05-28      NaN      NaN      NaN      NaN     0.05     0.54     0.08   \n",
       "2025-05-29      NaN      NaN      NaN      NaN     0.05     0.53     0.07   \n",
       "2025-05-30      NaN      NaN      NaN      NaN     0.05     0.53     0.07   \n",
       "2025-06-02      NaN      NaN      NaN      NaN     0.05     0.53     0.07   \n",
       "\n",
       "Symbol      A000140  A000150  A000210  ...  A377300  A381970  A383220  \\\n",
       "Dates                                  ...                              \n",
       "2016-06-02     0.01     0.10     0.34  ...      NaN      NaN      NaN   \n",
       "2016-06-03     0.01     0.11     0.33  ...      NaN      NaN      NaN   \n",
       "2016-06-07     0.01     0.10     0.34  ...      NaN      NaN      NaN   \n",
       "2016-06-08     0.01     0.10     0.34  ...      NaN      NaN      NaN   \n",
       "2016-06-09     0.02     0.11     0.34  ...      NaN      NaN      NaN   \n",
       "...             ...      ...      ...  ...      ...      ...      ...   \n",
       "2025-05-27      NaN     0.29     0.04  ...     0.09      NaN     0.09   \n",
       "2025-05-28      NaN     0.28     0.04  ...     0.09      NaN     0.09   \n",
       "2025-05-29      NaN     0.30     0.04  ...     0.09      NaN     0.09   \n",
       "2025-05-30      NaN     0.29     0.04  ...     0.09      NaN     0.09   \n",
       "2025-06-02      NaN     0.29     0.04  ...     0.09      NaN     0.09   \n",
       "\n",
       "Symbol      A383800  A402340  A450080  A454910  A456040  A457190  A489790  \n",
       "Dates                                                                      \n",
       "2016-06-02      NaN      NaN      NaN      NaN      NaN      NaN      NaN  \n",
       "2016-06-03      NaN      NaN      NaN      NaN      NaN      NaN      NaN  \n",
       "2016-06-07      NaN      NaN      NaN      NaN      NaN      NaN      NaN  \n",
       "2016-06-08      NaN      NaN      NaN      NaN      NaN      NaN      NaN  \n",
       "2016-06-09      NaN      NaN      NaN      NaN      NaN      NaN      NaN  \n",
       "...             ...      ...      ...      ...      ...      ...      ...  \n",
       "2025-05-27      NaN     0.79     0.07     0.08     0.02     0.07     0.16  \n",
       "2025-05-28      NaN     0.84     0.08     0.08     0.02     0.07     0.16  \n",
       "2025-05-29      NaN     0.87     0.08     0.08     0.02     0.07     0.15  \n",
       "2025-05-30      NaN     0.89     0.08     0.08     0.02     0.07     0.15  \n",
       "2025-06-02      NaN     0.85     0.08     0.08     0.02     0.07     0.15  \n",
       "\n",
       "[2206 rows x 307 columns]"
      ]
     },
     "execution_count": 142,
     "metadata": {},
     "output_type": "execute_result"
    }
   ],
   "source": [
    "bmw"
   ]
  },
  {
   "cell_type": "code",
   "execution_count": 143,
   "id": "3e1c9e9a-df93-418d-82d1-9a83a5a52328",
   "metadata": {
    "execution": {
     "iopub.execute_input": "2025-06-04T06:57:51.945047Z",
     "iopub.status.busy": "2025-06-04T06:57:51.944520Z",
     "iopub.status.idle": "2025-06-04T06:57:51.959401Z",
     "shell.execute_reply": "2025-06-04T06:57:51.958270Z",
     "shell.execute_reply.started": "2025-06-04T06:57:51.945002Z"
    }
   },
   "outputs": [
    {
     "data": {
      "text/plain": [
       "count    199.000000\n",
       "mean       0.000098\n",
       "std        0.006656\n",
       "min       -0.015010\n",
       "25%       -0.003035\n",
       "50%        0.000321\n",
       "75%        0.004031\n",
       "max        0.015010\n",
       "Name: 2025-05-30 00:00:00, dtype: float64"
      ]
     },
     "execution_count": 143,
     "metadata": {},
     "output_type": "execute_result"
    }
   ],
   "source": [
    "ls_w.iloc[-1].describe()"
   ]
  },
  {
   "cell_type": "code",
   "execution_count": 144,
   "id": "dc4b1491-ab9d-418c-9766-2834e3ca41c4",
   "metadata": {
    "execution": {
     "iopub.execute_input": "2025-06-04T06:57:52.767115Z",
     "iopub.status.busy": "2025-06-04T06:57:52.766587Z",
     "iopub.status.idle": "2025-06-04T06:57:52.772172Z",
     "shell.execute_reply": "2025-06-04T06:57:52.771114Z",
     "shell.execute_reply.started": "2025-06-04T06:57:52.767072Z"
    }
   },
   "outputs": [],
   "source": [
    "import optuna"
   ]
  },
  {
   "cell_type": "code",
   "execution_count": 145,
   "id": "9b1eee4d-e699-47c7-a7e6-7cfc89140fd9",
   "metadata": {
    "execution": {
     "iopub.execute_input": "2025-06-04T06:57:53.406906Z",
     "iopub.status.busy": "2025-06-04T06:57:53.406391Z",
     "iopub.status.idle": "2025-06-04T06:57:53.411743Z",
     "shell.execute_reply": "2025-06-04T06:57:53.410660Z",
     "shell.execute_reply.started": "2025-06-04T06:57:53.406862Z"
    },
    "scrolled": true
   },
   "outputs": [],
   "source": [
    "# study=optuna.create_study(direction='maximize')\n",
    "# study.optimize(port_objective, n_trials=30)"
   ]
  },
  {
   "cell_type": "code",
   "execution_count": 146,
   "id": "367384d4-9912-403b-9118-14d20d6cc2f2",
   "metadata": {
    "execution": {
     "iopub.execute_input": "2025-06-04T06:57:53.862735Z",
     "iopub.status.busy": "2025-06-04T06:57:53.862209Z",
     "iopub.status.idle": "2025-06-04T06:57:53.867616Z",
     "shell.execute_reply": "2025-06-04T06:57:53.866545Z",
     "shell.execute_reply.started": "2025-06-04T06:57:53.862694Z"
    }
   },
   "outputs": [],
   "source": [
    "# study.best_trials"
   ]
  },
  {
   "cell_type": "code",
   "execution_count": null,
   "id": "230523c0-84b2-462a-8d36-8d85989138d0",
   "metadata": {},
   "outputs": [],
   "source": []
  },
  {
   "cell_type": "code",
   "execution_count": 147,
   "id": "eb651b84-d2bf-4714-b450-a2a1bc7e7303",
   "metadata": {
    "execution": {
     "iopub.execute_input": "2025-06-04T06:57:54.608150Z",
     "iopub.status.busy": "2025-06-04T06:57:54.607619Z",
     "iopub.status.idle": "2025-06-04T06:57:54.616082Z",
     "shell.execute_reply": "2025-06-04T06:57:54.615069Z",
     "shell.execute_reply.started": "2025-06-04T06:57:54.608106Z"
    }
   },
   "outputs": [
    {
     "data": {
      "text/plain": [
       "Index(['Name', 'KC_Industry', 'FG_IndustryGroup27', 'FG_Sector_Idx',\n",
       "       'FG_IndustryGroup_Idx', 'FG_Industry_Idx', 'AuditOpinion', 'Caution',\n",
       "       'KSECapSize', 'KLCAIndustry', 'Market', 'KOSPI200YN', 'FiscalMonth',\n",
       "       'KOSPI100YN'],\n",
       "      dtype='object')"
      ]
     },
     "execution_count": 147,
     "metadata": {},
     "output_type": "execute_result"
    }
   ],
   "source": [
    "data_COM_nodup.columns"
   ]
  },
  {
   "cell_type": "code",
   "execution_count": 148,
   "id": "4310bf6b-01b8-4fba-8542-a547d9f04a5f",
   "metadata": {
    "execution": {
     "iopub.execute_input": "2025-06-04T06:57:55.417417Z",
     "iopub.status.busy": "2025-06-04T06:57:55.416870Z",
     "iopub.status.idle": "2025-06-04T06:57:55.428637Z",
     "shell.execute_reply": "2025-06-04T06:57:55.427626Z",
     "shell.execute_reply.started": "2025-06-04T06:57:55.417370Z"
    }
   },
   "outputs": [
    {
     "data": {
      "text/plain": [
       "Symbol\n",
       "A000030     NaN\n",
       "A000050     NaN\n",
       "A000060     NaN\n",
       "A000070     NaN\n",
       "A000080    0.05\n",
       "           ... \n",
       "A450080    0.08\n",
       "A454910    0.08\n",
       "A456040    0.02\n",
       "A457190    0.07\n",
       "A489790    0.15\n",
       "Name: 2025-05-30 00:00:00, Length: 307, dtype: float64"
      ]
     },
     "execution_count": 148,
     "metadata": {},
     "output_type": "execute_result"
    }
   ],
   "source": [
    "bmw.loc[rebal_dates[-1]]"
   ]
  },
  {
   "cell_type": "code",
   "execution_count": 149,
   "id": "e7ebda2d-de2b-4818-9f91-5d8df196dfa5",
   "metadata": {
    "execution": {
     "iopub.execute_input": "2025-06-04T06:57:55.698973Z",
     "iopub.status.busy": "2025-06-04T06:57:55.698449Z",
     "iopub.status.idle": "2025-06-04T06:57:55.742576Z",
     "shell.execute_reply": "2025-06-04T06:57:55.741436Z",
     "shell.execute_reply.started": "2025-06-04T06:57:55.698927Z"
    },
    "scrolled": true
   },
   "outputs": [
    {
     "data": {
      "text/html": [
       "<div>\n",
       "<style scoped>\n",
       "    .dataframe tbody tr th:only-of-type {\n",
       "        vertical-align: middle;\n",
       "    }\n",
       "\n",
       "    .dataframe tbody tr th {\n",
       "        vertical-align: top;\n",
       "    }\n",
       "\n",
       "    .dataframe thead th {\n",
       "        text-align: right;\n",
       "    }\n",
       "</style>\n",
       "<table border=\"1\" class=\"dataframe\">\n",
       "  <thead>\n",
       "    <tr style=\"text-align: right;\">\n",
       "      <th></th>\n",
       "      <th>2025-05-30 00:00:00</th>\n",
       "    </tr>\n",
       "    <tr>\n",
       "      <th>FG_IndustryGroup_Idx</th>\n",
       "      <th></th>\n",
       "    </tr>\n",
       "  </thead>\n",
       "  <tbody>\n",
       "    <tr>\n",
       "      <th>기타금융</th>\n",
       "      <td>0.19</td>\n",
       "    </tr>\n",
       "    <tr>\n",
       "      <th>내구 소비재 및 의류</th>\n",
       "      <td>1.52</td>\n",
       "    </tr>\n",
       "    <tr>\n",
       "      <th>디스플레이</th>\n",
       "      <td>0.21</td>\n",
       "    </tr>\n",
       "    <tr>\n",
       "      <th>미디어</th>\n",
       "      <td>0.58</td>\n",
       "    </tr>\n",
       "    <tr>\n",
       "      <th>반도체</th>\n",
       "      <td>32.14</td>\n",
       "    </tr>\n",
       "    <tr>\n",
       "      <th>보험</th>\n",
       "      <td>2.31</td>\n",
       "    </tr>\n",
       "    <tr>\n",
       "      <th>부동산</th>\n",
       "      <td>0.00</td>\n",
       "    </tr>\n",
       "    <tr>\n",
       "      <th>상업서비스</th>\n",
       "      <td>3.76</td>\n",
       "    </tr>\n",
       "    <tr>\n",
       "      <th>생활용품</th>\n",
       "      <td>1.17</td>\n",
       "    </tr>\n",
       "    <tr>\n",
       "      <th>소비자 서비스</th>\n",
       "      <td>0.27</td>\n",
       "    </tr>\n",
       "    <tr>\n",
       "      <th>소재</th>\n",
       "      <td>4.44</td>\n",
       "    </tr>\n",
       "    <tr>\n",
       "      <th>소프트웨어</th>\n",
       "      <td>5.00</td>\n",
       "    </tr>\n",
       "    <tr>\n",
       "      <th>에너지</th>\n",
       "      <td>2.23</td>\n",
       "    </tr>\n",
       "    <tr>\n",
       "      <th>운송</th>\n",
       "      <td>3.04</td>\n",
       "    </tr>\n",
       "    <tr>\n",
       "      <th>유통</th>\n",
       "      <td>0.64</td>\n",
       "    </tr>\n",
       "    <tr>\n",
       "      <th>유틸리티</th>\n",
       "      <td>1.00</td>\n",
       "    </tr>\n",
       "    <tr>\n",
       "      <th>은행</th>\n",
       "      <td>9.38</td>\n",
       "    </tr>\n",
       "    <tr>\n",
       "      <th>음식료 및 담배</th>\n",
       "      <td>2.05</td>\n",
       "    </tr>\n",
       "    <tr>\n",
       "      <th>의료장비 및 서비스</th>\n",
       "      <td>0.06</td>\n",
       "    </tr>\n",
       "    <tr>\n",
       "      <th>자동차 및 부품</th>\n",
       "      <td>5.98</td>\n",
       "    </tr>\n",
       "    <tr>\n",
       "      <th>자본재</th>\n",
       "      <td>12.16</td>\n",
       "    </tr>\n",
       "    <tr>\n",
       "      <th>제약 및 바이오</th>\n",
       "      <td>4.84</td>\n",
       "    </tr>\n",
       "    <tr>\n",
       "      <th>증권</th>\n",
       "      <td>2.25</td>\n",
       "    </tr>\n",
       "    <tr>\n",
       "      <th>통신서비스</th>\n",
       "      <td>1.88</td>\n",
       "    </tr>\n",
       "    <tr>\n",
       "      <th>하드웨어</th>\n",
       "      <td>2.76</td>\n",
       "    </tr>\n",
       "  </tbody>\n",
       "</table>\n",
       "</div>"
      ],
      "text/plain": [
       "                      2025-05-30 00:00:00\n",
       "FG_IndustryGroup_Idx                     \n",
       "기타금융                                 0.19\n",
       "내구 소비재 및 의류                          1.52\n",
       "디스플레이                                0.21\n",
       "미디어                                  0.58\n",
       "반도체                                 32.14\n",
       "보험                                   2.31\n",
       "부동산                                  0.00\n",
       "상업서비스                                3.76\n",
       "생활용품                                 1.17\n",
       "소비자 서비스                              0.27\n",
       "소재                                   4.44\n",
       "소프트웨어                                5.00\n",
       "에너지                                  2.23\n",
       "운송                                   3.04\n",
       "유통                                   0.64\n",
       "유틸리티                                 1.00\n",
       "은행                                   9.38\n",
       "음식료 및 담배                             2.05\n",
       "의료장비 및 서비스                           0.06\n",
       "자동차 및 부품                             5.98\n",
       "자본재                                 12.16\n",
       "제약 및 바이오                             4.84\n",
       "증권                                   2.25\n",
       "통신서비스                                1.88\n",
       "하드웨어                                 2.76"
      ]
     },
     "execution_count": 149,
     "metadata": {},
     "output_type": "execute_result"
    }
   ],
   "source": [
    "pd.concat([data_COM_nodup.loc[rebal_dates[-1], 'FG_IndustryGroup_Idx'], bmw.loc[rebal_dates[-1]]], axis=1).groupby('FG_IndustryGroup_Idx').sum()"
   ]
  },
  {
   "cell_type": "code",
   "execution_count": 150,
   "id": "35be43c7-44cd-4bc2-8e0d-281f3cd8c641",
   "metadata": {
    "execution": {
     "iopub.execute_input": "2025-06-04T06:57:55.903851Z",
     "iopub.status.busy": "2025-06-04T06:57:55.903195Z",
     "iopub.status.idle": "2025-06-04T06:57:55.909327Z",
     "shell.execute_reply": "2025-06-04T06:57:55.908205Z",
     "shell.execute_reply.started": "2025-06-04T06:57:55.903802Z"
    }
   },
   "outputs": [],
   "source": [
    "import warnings\n",
    "warnings.simplefilter('error', RuntimeWarning)"
   ]
  },
  {
   "cell_type": "code",
   "execution_count": 151,
   "id": "dedb6c55-eb7a-4a12-a70e-73483c7d288e",
   "metadata": {
    "execution": {
     "iopub.execute_input": "2025-06-04T06:57:56.434384Z",
     "iopub.status.busy": "2025-06-04T06:57:56.433863Z",
     "iopub.status.idle": "2025-06-04T06:57:56.442486Z",
     "shell.execute_reply": "2025-06-04T06:57:56.441377Z",
     "shell.execute_reply.started": "2025-06-04T06:57:56.434341Z"
    }
   },
   "outputs": [
    {
     "data": {
      "text/plain": [
       "DatetimeIndex(['2025-03-28', '2025-04-25', '2025-05-30'], dtype='datetime64[ns]', freq=None)"
      ]
     },
     "execution_count": 151,
     "metadata": {},
     "output_type": "execute_result"
    }
   ],
   "source": [
    "rebal_dates"
   ]
  },
  {
   "cell_type": "code",
   "execution_count": null,
   "id": "409e4e8b-f859-4b74-9079-1afb2afbc86c",
   "metadata": {},
   "outputs": [],
   "source": []
  },
  {
   "cell_type": "code",
   "execution_count": 152,
   "id": "cd4dc299-0618-4919-9313-039a60339c23",
   "metadata": {
    "execution": {
     "iopub.execute_input": "2025-06-04T06:57:57.166198Z",
     "iopub.status.busy": "2025-06-04T06:57:57.165675Z",
     "iopub.status.idle": "2025-06-04T06:57:57.439478Z",
     "shell.execute_reply": "2025-06-04T06:57:57.438474Z",
     "shell.execute_reply.started": "2025-06-04T06:57:57.166152Z"
    }
   },
   "outputs": [],
   "source": [
    "size_label=data_COM_nodup.loc[rebal_dates, 'KSECapSize']\n",
    "size_label=size_label.unstack().ffill().stack()"
   ]
  },
  {
   "cell_type": "code",
   "execution_count": 153,
   "id": "a49b983b-8b4c-45bc-abf3-28ef4ae0449c",
   "metadata": {
    "execution": {
     "iopub.execute_input": "2025-06-04T06:57:57.774763Z",
     "iopub.status.busy": "2025-06-04T06:57:57.774239Z",
     "iopub.status.idle": "2025-06-04T06:57:58.046074Z",
     "shell.execute_reply": "2025-06-04T06:57:58.045068Z",
     "shell.execute_reply.started": "2025-06-04T06:57:57.774719Z"
    }
   },
   "outputs": [],
   "source": [
    "sector_label=data_COM_nodup.loc[rebal_dates, 'FG_IndustryGroup_Idx']\n",
    "sector_label=sector_label.unstack().ffill().stack()"
   ]
  },
  {
   "cell_type": "code",
   "execution_count": 154,
   "id": "2fb2fa24-3851-400d-8585-9f38e8c23830",
   "metadata": {
    "execution": {
     "iopub.execute_input": "2025-06-04T06:57:58.050682Z",
     "iopub.status.busy": "2025-06-04T06:57:58.050420Z",
     "iopub.status.idle": "2025-06-04T06:57:58.060965Z",
     "shell.execute_reply": "2025-06-04T06:57:58.060148Z",
     "shell.execute_reply.started": "2025-06-04T06:57:58.050658Z"
    }
   },
   "outputs": [
    {
     "data": {
      "text/plain": [
       "Dates       Symbol \n",
       "2025-03-28  A000020       제약 및 바이오\n",
       "            A000040       자동차 및 부품\n",
       "            A000050    내구 소비재 및 의류\n",
       "            A000070             소재\n",
       "            A000080       음식료 및 담배\n",
       "                          ...     \n",
       "2025-05-30  A457190             소재\n",
       "            A460850             소재\n",
       "            A460860             소재\n",
       "            A462520             소재\n",
       "            A465770             운송\n",
       "Length: 2358, dtype: object"
      ]
     },
     "execution_count": 154,
     "metadata": {},
     "output_type": "execute_result"
    }
   ],
   "source": [
    "sector_label"
   ]
  },
  {
   "cell_type": "code",
   "execution_count": 155,
   "id": "a4822c1e-7ab0-4e08-804e-caff93534108",
   "metadata": {
    "execution": {
     "iopub.execute_input": "2025-06-04T06:57:58.267668Z",
     "iopub.status.busy": "2025-06-04T06:57:58.267148Z",
     "iopub.status.idle": "2025-06-04T06:57:58.278662Z",
     "shell.execute_reply": "2025-06-04T06:57:58.277424Z",
     "shell.execute_reply.started": "2025-06-04T06:57:58.267623Z"
    }
   },
   "outputs": [
    {
     "data": {
      "text/plain": [
       "Dates\n",
       "2016-06-02    21.89\n",
       "2016-06-03    22.07\n",
       "2016-06-07    22.09\n",
       "2016-06-08    22.02\n",
       "2016-06-09    22.05\n",
       "              ...  \n",
       "2025-05-27    21.78\n",
       "2025-05-28    22.26\n",
       "2025-05-29    21.93\n",
       "2025-05-30    22.18\n",
       "2025-06-02    22.41\n",
       "Name: A005930, Length: 2206, dtype: float64"
      ]
     },
     "execution_count": 155,
     "metadata": {},
     "output_type": "execute_result"
    }
   ],
   "source": [
    "bmw['A005930']"
   ]
  },
  {
   "cell_type": "code",
   "execution_count": null,
   "id": "8ffac335-6027-4371-8a00-e680cedd3e68",
   "metadata": {},
   "outputs": [],
   "source": []
  },
  {
   "cell_type": "code",
   "execution_count": null,
   "id": "8005d89e-e948-4400-944d-2a643c077226",
   "metadata": {},
   "outputs": [],
   "source": []
  },
  {
   "cell_type": "code",
   "execution_count": 157,
   "id": "ae3fabcc-40ae-469d-bf36-9e19e1a0076f",
   "metadata": {
    "execution": {
     "iopub.execute_input": "2025-06-04T06:58:09.464593Z",
     "iopub.status.busy": "2025-06-04T06:58:09.464057Z",
     "iopub.status.idle": "2025-06-04T06:58:09.475175Z",
     "shell.execute_reply": "2025-06-04T06:58:09.474141Z",
     "shell.execute_reply.started": "2025-06-04T06:58:09.464547Z"
    }
   },
   "outputs": [
    {
     "data": {
      "text/plain": [
       "A000080    0.003075\n",
       "A000100   -0.011936\n",
       "A000120    0.008160\n",
       "A000150   -0.008820\n",
       "A000210    0.007185\n",
       "             ...   \n",
       "A450080   -0.003781\n",
       "A454910   -0.000843\n",
       "A456040    0.008772\n",
       "A457190   -0.004492\n",
       "A003240   -0.006462\n",
       "Name: 2025-05-30 00:00:00, Length: 200, dtype: float64"
      ]
     },
     "execution_count": 157,
     "metadata": {},
     "output_type": "execute_result"
    }
   ],
   "source": [
    "ls_w.iloc[-1]"
   ]
  },
  {
   "cell_type": "code",
   "execution_count": 158,
   "id": "7b82495e-878c-40dd-8996-a2c42f3e684f",
   "metadata": {
    "execution": {
     "iopub.execute_input": "2025-06-04T06:58:10.182742Z",
     "iopub.status.busy": "2025-06-04T06:58:10.182213Z",
     "iopub.status.idle": "2025-06-04T06:58:10.187926Z",
     "shell.execute_reply": "2025-06-04T06:58:10.186863Z",
     "shell.execute_reply.started": "2025-06-04T06:58:10.182694Z"
    }
   },
   "outputs": [],
   "source": [
    "from scipy import stats"
   ]
  },
  {
   "cell_type": "code",
   "execution_count": 159,
   "id": "c4912599-6abd-495a-a11d-616de1e16205",
   "metadata": {
    "execution": {
     "iopub.execute_input": "2025-06-04T06:58:10.498293Z",
     "iopub.status.busy": "2025-06-04T06:58:10.497763Z",
     "iopub.status.idle": "2025-06-04T06:58:10.503962Z",
     "shell.execute_reply": "2025-06-04T06:58:10.502709Z",
     "shell.execute_reply.started": "2025-06-04T06:58:10.498246Z"
    }
   },
   "outputs": [],
   "source": [
    "import logging\n",
    "logging.basicConfig(level=logging.INFO)"
   ]
  },
  {
   "cell_type": "code",
   "execution_count": 160,
   "id": "38611e5c-ee7a-4d6a-b61c-28ccdd15b486",
   "metadata": {
    "execution": {
     "iopub.execute_input": "2025-06-04T06:58:10.823669Z",
     "iopub.status.busy": "2025-06-04T06:58:10.823150Z",
     "iopub.status.idle": "2025-06-04T06:58:10.869926Z",
     "shell.execute_reply": "2025-06-04T06:58:10.868883Z",
     "shell.execute_reply.started": "2025-06-04T06:58:10.823624Z"
    }
   },
   "outputs": [],
   "source": [
    "# def score_objective(weight, score, cov):\n",
    "#     weight_adj=np.where(weight<10**-3, 0, np.maximum(weight, 10**-3))\n",
    "\n",
    "#     try:\n",
    "#         # Check for specific error message before sqrt\n",
    "#         if np.any(np.isnan(np.dot(weight_adj.T, np.dot(cov, weight_adj)))):\n",
    "#             raise ValueError(\"Encountered NaN values during portfolio volatility calculation.\")\n",
    "#         port_vol = np.sqrt(np.dot(weight_adj.T, np.dot(cov, weight_adj)))\n",
    "    \n",
    "#     except (ValueError, RuntimeWarning) as e:\n",
    "#         print(w_diff.isin([np.inf, -np.inf]).any().any())\n",
    "#         print(cov.isin([np.inf, -np.inf]).any().any())\n",
    "#         print(np.dot(cov, weight_adj))\n",
    "#         print(np.dot(weight_adj.T, np.dot(cov, weight_adj)))\n",
    "#         print(\"Warning: Encountered errors during portfolio volatility calculation.\")\n",
    "#         print(e)\n",
    "    \n",
    "#     adj_sharpe= score.sum() / port_vol\n",
    "#     return -adj_sharpe\n",
    "\n",
    "def score_objective2(weight, bm_weight, score, cov):\n",
    "    # weight_adj=np.where(weight<10**-3, 0, np.maximum(weight, 10**-3))\n",
    "    scores_series = pd.Series(score)\n",
    "    \n",
    "    lower_bound = scores_series.quantile(0.25)\n",
    "    upper_bound = scores_series.quantile(0.5)\n",
    "    \n",
    "    # use top and bottom scores & drop low weights \n",
    "    score_adj = np.where((score <= upper_bound)&(score >=lower_bound), 0, score)\n",
    "    weight_adj=np.where(weight<10**-3, 0, np.maximum(weight, 10**-3))\n",
    "    \n",
    "    w_diff=abs(weight_adj-bm_weight)\n",
    "    \n",
    "    if w_diff.sum()==0:\n",
    "        return 0\n",
    "    try:\n",
    "        # Check for specific error message before sqrt\n",
    "        if np.any(np.isnan(np.dot(w_diff.T, np.dot(cov, w_diff)))):\n",
    "            raise ValueError(\"Encountered NaN values during portfolio volatility calculation.\")\n",
    "        port_vol = np.sqrt(np.dot(w_diff.T, np.dot(cov, w_diff)))\n",
    "    \n",
    "    except (ValueError, RuntimeWarning) as e:\n",
    "        print(w_diff.isin([np.inf, -np.inf]).any().any())\n",
    "        print(cov.isin([np.inf, -np.inf]).any().any())\n",
    "        print(np.dot(cov, w_diff))\n",
    "        print(np.dot(w_diff.T, np.dot(cov, w_diff)))\n",
    "        print(\"Warning: Encountered errors during portfolio volatility calculation.\")\n",
    "        print(e)\n",
    "    \n",
    "    adj_sharpe=(w_diff*score_adj).sum() / port_vol\n",
    "    # penalty = np.sum((score)**1)\n",
    "    return -adj_sharpe\n",
    "\n",
    "\n",
    "def selective_sign_constraint(weights, scores, top_n=10, bottom_n=10):\n",
    "    # Get the indices of the top N positive scores and bottom N negative scores\n",
    "    top_indices = np.argsort(scores)[-top_n:]\n",
    "    bottom_indices = np.argsort(scores)[:bottom_n]\n",
    "    \n",
    "    # Create a boolean array indicating whether to apply the constraint (True for top/bottom scores)\n",
    "    constraint_applied = np.zeros_like(scores, dtype=bool)\n",
    "    constraint_applied[top_indices] = True\n",
    "    constraint_applied[bottom_indices] = True\n",
    "    \n",
    "    # Apply sign constraint only for top/bottom scores (return 0 for others)\n",
    "    return weights * scores * constraint_applied \n",
    "    \n",
    "    \n",
    "def create_excludingMatrix(temp_port_score):\n",
    "    # B = np.eye(len(temp_port_score))\n",
    "    # B[temp_port_score.isnull()] = 0\n",
    "    B = np.zeros(len(temp_port_score))\n",
    "    \n",
    "    # Set entries corresponding to non-selected stocks (e.g., those with NaN scores) to 0\n",
    "    B[temp_port_score.isnull()] = 1\n",
    "        \n",
    "    return B\n",
    "\n",
    "def create_sectorMatrix(temp_bm_sectorw, temp_bm_stockw):\n",
    "    # sector constraints variables       \n",
    "    sector_mapping = {sector: idx for idx, sector in enumerate(temp_bm_sectorw.index)}\n",
    "\n",
    "    A = np.zeros((len(temp_bm_sectorw), len(temp_bm_stockw)), dtype=int)\n",
    "    for i, stock in enumerate(temp_bm_stockw.index):\n",
    "        sector_idx = sector_mapping[temp_bm_stockw.loc[temp_bm_stockw.index == stock, 'sector'].iloc[0]]\n",
    "        A[sector_idx, i] = 1\n",
    "    \n",
    "    return A\n",
    "\n",
    "\n",
    "def create_sizeMatrix(temp_bm_sizew, temp_bm_stockw):\n",
    "    # sector constraints variables       \n",
    "    size_mapping = {size: idx for idx, size in enumerate(temp_bm_sizew.index)}\n",
    "\n",
    "    C = np.zeros((len(temp_bm_sizew), len(temp_bm_stockw)), dtype=int)\n",
    "    for i, stock in enumerate(temp_bm_stockw.index):\n",
    "        size_idx = size_mapping[temp_bm_stockw.loc[temp_bm_stockw.index == stock, 'size'].iloc[0]]\n",
    "        C[size_idx, i] = 1\n",
    "    \n",
    "    return C\n",
    "\n",
    "\n",
    "def convert_lsScore(port_score, short_num, long_num):\n",
    "    \"\"\"\n",
    "        when score is all positive, it convert to the mean of score is 0 so that it can be used in Long/Short       \n",
    "    \"\"\"\n",
    "    # convert into L/S scores\n",
    "    sort_score=port_score.sort_values().dropna().copy()\n",
    "    port_score[:]=np.nan # port_score.mean()\n",
    "    if short_num>0:\n",
    "        port_score[sort_score.iloc[:short_num].index]=sort_score.iloc[:short_num]\n",
    "\n",
    "    port_score[sort_score.iloc[-long_num:].index]=sort_score.iloc[-long_num:]       \n",
    "    # port_score=port_score.fillna(0)\n",
    "    \n",
    "    return port_score\n",
    "\n",
    "\n",
    "def handle_missingCol(port_df, bm_df):\n",
    "    \"\"\"\n",
    "        compare given port column and BM column\n",
    "    \"\"\"\n",
    "    missing_cols = set(bm_df.index) - set(port_df.index)\n",
    "\n",
    "    if len(missing_cols)>0:\n",
    "    # if method=='fill':\n",
    "        \n",
    "        # Add the missing columns to df1 with NaN values\n",
    "        for col in missing_cols:\n",
    "            print('missing col: ', col)\n",
    "            # df1.loc[col] = pd.Series([None] * len(df1), index=df1.index)\n",
    "            port_df.loc[col]=None\n",
    "        # port_df=port_df.loc[bm_df.index]\n",
    "        \n",
    "    # elif len(bm_df.index) < len(port_df.index):\n",
    "        # elif method=='drop':\n",
    "        # comm_col=port_df.index.intersection(bm_df.index)\n",
    "        # port_df=port_df.loc[comm_col]\n",
    "    \n",
    "    port_df=port_df.loc[bm_df.index]\n",
    "        \n",
    "    print(f\"port shape: {port_df.shape}, bm shape: {bm_df.shape}, compare : {(port_df.index==bm_df.index).sum()}\")\n",
    "    return port_df\n",
    "\n",
    "\n",
    "def optimize_portfolio3_(port_weight, bm_weight, adj_prc, \n",
    "                         sector_info, size_info, \n",
    "                         excess_stockw, excess_sectorw, excess_sizew):    \n",
    "    # slice BM weight   \n",
    "    temp_bm_weight=bm_weight/bm_weight.sum()\n",
    "    print('bmw: ', temp_bm_weight.loc['A005930'])\n",
    "    \n",
    "    temp_raw_port=port_weight.dropna()\n",
    "    print('rawscore: ', temp_raw_port.loc['A005930'])\n",
    "    \n",
    "    # slice port weight\n",
    "    temp_port=handle_missingCol(temp_raw_port, temp_bm_weight)\n",
    "    print('bm adj score: ', temp_port.shape, temp_port.dropna().shape)\n",
    "    temp_port=temp_port.fillna(0)\n",
    "    print('l/s num: ', temp_port.dropna().shape)\n",
    "\n",
    "    # temp_score=convert_lsScore(temp_port, short_num, long_num)\n",
    "    # convert score into long/short score\n",
    "    # B=create_excludingMatrix(temp_port)\n",
    "    # print(B.shape, B.sum())        \n",
    "\n",
    "    # compute covariance\n",
    "    temp_cov=adjprc[temp_port.index].pct_change(20).dropna(how='all', axis=0).cov()\n",
    "    temp_cov=temp_cov.fillna(0)\n",
    "\n",
    "    \"\"\"\n",
    "     concat with bm stock weights include all stocks in BM \n",
    "     to compute sector weights, all BM stocks required\n",
    "     excluding matrix so that it does not include not picked up stocks\n",
    "    \"\"\"\n",
    "    \n",
    "    temp_bm_stockw=pd.concat([sector_info.dropna(), size_info.dropna(), temp_bm_weight], axis=1)\n",
    "    temp_bm_stockw.columns=['sector', 'size', 'bm_weight']\n",
    "    temp_bm_stockw=temp_bm_stockw.loc[temp_port.index]\n",
    "    print(temp_bm_stockw['sector'])\n",
    "    print(temp_bm_stockw['size'])\n",
    "    \n",
    "    temp_bm_sectorw=temp_bm_stockw[['sector', 'bm_weight']].groupby('sector').sum()\n",
    "    temp_bm_sizew=temp_bm_stockw[['size', 'bm_weight']].groupby('size').sum()\n",
    "    \n",
    "    print('bm sectorw: ', temp_bm_sectorw)\n",
    "    print('bm size: ', temp_bm_sizew)\n",
    "\n",
    "    A=create_sectorMatrix(temp_bm_sectorw, temp_bm_stockw)\n",
    "    C=create_sizeMatrix(temp_bm_sizew, temp_bm_stockw)\n",
    "    \n",
    "    # Define the constraints (weights sum to 1)\n",
    "    const1 = {'type': 'eq', 'fun': lambda x: np.sum(x) - 1}\n",
    "    stock_cons = {'type': 'ineq', 'fun': lambda x: -np.abs(x - temp_bm_weight) + excess_stockw}\n",
    "    # sign_cons = {'type': 'ineq', 'fun': lambda x: selective_sign_constraint((x-temp_bm_weight), port_weight)}\n",
    "    sector_cons = {'type': 'ineq', 'fun': lambda x: -np.abs(np.dot(A, x) - temp_bm_sectorw.values.flatten()) + excess_sectorw}\n",
    "    size_cons = {'type': 'ineq', 'fun': lambda x: -np.abs(np.dot(C, x) - temp_bm_sizew.values.flatten()) + excess_sizew}\n",
    "    \n",
    "    # Define the bounds (each weight is between 0 and 1)\n",
    "    bounds = tuple((0, 1) for asset in range(len(temp_port.index)))\n",
    "    \n",
    "    constraints=[const1, stock_cons, sector_cons, size_cons] #\n",
    "    \n",
    "    # Initial guess (equal weights)\n",
    "    initial_guess = [1 / len(temp_port.index) for asset in range(len(temp_port.index))]\n",
    "    # initial_guess=np.dot(B, initial_guess)\n",
    "    # initial_guess = temp_bm_weight.values\n",
    "    \n",
    "    # Perform the optimization\n",
    "    print(temp_bm_weight.shape, temp_port.shape, temp_cov.shape)\n",
    "    options = {'maxiter': 1000, 'ftol': 1e-8, 'gtol': 1e-8}\n",
    "    result = minimize(score_objective2, initial_guess, args=(temp_bm_weight, temp_port, temp_cov), method='SLSQP', bounds=bounds, constraints=constraints, options=options)\n",
    "        \n",
    "    # Extract the optimized weights\n",
    "    optimal_weights = result.x\n",
    "    optw_df=pd.DataFrame(optimal_weights, index=temp_port.index)\n",
    "    \n",
    "    return optw_df\n"
   ]
  },
  {
   "cell_type": "code",
   "execution_count": 161,
   "id": "09f816f9-0a41-4b1a-9e89-63be62d9078a",
   "metadata": {
    "execution": {
     "iopub.execute_input": "2025-06-04T06:58:11.467386Z",
     "iopub.status.busy": "2025-06-04T06:58:11.466862Z",
     "iopub.status.idle": "2025-06-04T07:06:51.746180Z",
     "shell.execute_reply": "2025-06-04T07:06:51.745123Z",
     "shell.execute_reply.started": "2025-06-04T06:58:11.467340Z"
    },
    "scrolled": true
   },
   "outputs": [
    {
     "name": "stdout",
     "output_type": "stream",
     "text": [
      "bmw:  0.22211095533747252\n",
      "rawscore:  -0.015010388304197597\n",
      "port shape: (199,), bm shape: (199,), compare : 199\n",
      "bm adj score:  (199,) (199,)\n",
      "l/s num:  (199,)\n"
     ]
    },
    {
     "name": "stderr",
     "output_type": "stream",
     "text": [
      "/tmp/ipykernel_3735115/2076694445.py:168: FutureWarning: The default fill_method='pad' in DataFrame.pct_change is deprecated and will be removed in a future version. Call ffill before calling pct_change to retain current behavior and silence this warning.\n",
      "  temp_cov=adjprc[temp_port.index].pct_change(20).dropna(how='all', axis=0).cov()\n"
     ]
    },
    {
     "name": "stdout",
     "output_type": "stream",
     "text": [
      "Symbol\n",
      "A000080    음식료 및 담배\n",
      "A000100    제약 및 바이오\n",
      "A000120          운송\n",
      "A000150         자본재\n",
      "A000210          소재\n",
      "             ...   \n",
      "A402340         자본재\n",
      "A450080        하드웨어\n",
      "A454910         자본재\n",
      "A456040          소재\n",
      "A457190          소재\n",
      "Name: sector, Length: 199, dtype: object\n",
      "Symbol\n",
      "A000080    코스피 중형주\n",
      "A000100    코스피 대형주\n",
      "A000120    코스피 중형주\n",
      "A000150    코스피 대형주\n",
      "A000210    코스피 중형주\n",
      "            ...   \n",
      "A402340    코스피 대형주\n",
      "A450080    코스피 대형주\n",
      "A454910    코스피 대형주\n",
      "A456040    코스피 중형주\n",
      "A457190    코스피 중형주\n",
      "Name: size, Length: 199, dtype: object\n",
      "bm sectorw:              bm_weight\n",
      "sector               \n",
      "기타금융         0.001903\n",
      "내구 소비재 및 의류  0.015221\n",
      "디스플레이        0.002103\n",
      "미디어          0.005808\n",
      "반도체          0.321851\n",
      "보험           0.023132\n",
      "상업서비스        0.037653\n",
      "생활용품         0.011716\n",
      "소비자 서비스      0.002704\n",
      "소재           0.044462\n",
      "소프트웨어         0.05007\n",
      "에너지          0.022331\n",
      "운송           0.030443\n",
      "유통           0.006409\n",
      "유틸리티         0.010014\n",
      "은행           0.093932\n",
      "음식료 및 담배     0.020529\n",
      "의료장비 및 서비스   0.000601\n",
      "자동차 및 부품     0.059884\n",
      "자본재           0.12177\n",
      "제약 및 바이오     0.048468\n",
      "증권           0.022532\n",
      "통신서비스        0.018826\n",
      "하드웨어         0.027639\n",
      "bm size:          bm_weight\n",
      "size             \n",
      "코스피 대형주  0.925796\n",
      "코스피 중형주  0.074204\n",
      "(199,) (199,) (199, 199)\n"
     ]
    },
    {
     "name": "stderr",
     "output_type": "stream",
     "text": [
      "/tmp/ipykernel_3735115/2076694445.py:212: OptimizeWarning: Unknown solver options: gtol\n",
      "  result = minimize(score_objective2, initial_guess, args=(temp_bm_weight, temp_port, temp_cov), method='SLSQP', bounds=bounds, constraints=constraints, options=options)\n"
     ]
    }
   ],
   "source": [
    "stockw=.003\n",
    "sectorw=.04\n",
    "sizew=.06\n",
    "# long_num=75\n",
    "# short_num=30\n",
    "bmw['A489790']=None\n",
    "final_port_opt=optimize_portfolio3_(ls_w.iloc[-1], \n",
    "                                    bmw.loc[period2].dropna(), \n",
    "                                    adjprc.loc[period1:period2],\n",
    "                                    sector_label.loc[period2],\n",
    "                                    size_label.loc[period2],\n",
    "                                    stockw, \n",
    "                                    sectorw,\n",
    "                                    sizew)"
   ]
  },
  {
   "cell_type": "code",
   "execution_count": null,
   "id": "fc5ae750-065c-4d7d-ba33-1824ca2c67fe",
   "metadata": {},
   "outputs": [],
   "source": []
  },
  {
   "cell_type": "code",
   "execution_count": 162,
   "id": "930d41d6-0b5a-4302-aa99-8f4f964bc962",
   "metadata": {
    "execution": {
     "iopub.execute_input": "2025-06-04T07:08:44.572776Z",
     "iopub.status.busy": "2025-06-04T07:08:44.572193Z",
     "iopub.status.idle": "2025-06-04T07:08:44.584236Z",
     "shell.execute_reply": "2025-06-04T07:08:44.583029Z",
     "shell.execute_reply.started": "2025-06-04T07:08:44.572731Z"
    }
   },
   "outputs": [
    {
     "data": {
      "text/plain": [
       "23.73"
      ]
     },
     "execution_count": 162,
     "metadata": {},
     "output_type": "execute_result"
    }
   ],
   "source": [
    "bmw.loc['2024-11-29', \"A005930\"]"
   ]
  },
  {
   "cell_type": "code",
   "execution_count": 163,
   "id": "868b4d38-08cc-4336-8f56-5a20fbd76701",
   "metadata": {
    "execution": {
     "iopub.execute_input": "2025-06-04T07:08:44.962351Z",
     "iopub.status.busy": "2025-06-04T07:08:44.961812Z",
     "iopub.status.idle": "2025-06-04T07:08:44.979458Z",
     "shell.execute_reply": "2025-06-04T07:08:44.978446Z",
     "shell.execute_reply.started": "2025-06-04T07:08:44.962303Z"
    },
    "scrolled": true
   },
   "outputs": [
    {
     "data": {
      "text/html": [
       "<div>\n",
       "<style scoped>\n",
       "    .dataframe tbody tr th:only-of-type {\n",
       "        vertical-align: middle;\n",
       "    }\n",
       "\n",
       "    .dataframe tbody tr th {\n",
       "        vertical-align: top;\n",
       "    }\n",
       "\n",
       "    .dataframe thead th {\n",
       "        text-align: right;\n",
       "    }\n",
       "</style>\n",
       "<table border=\"1\" class=\"dataframe\">\n",
       "  <thead>\n",
       "    <tr style=\"text-align: right;\">\n",
       "      <th></th>\n",
       "      <th>0</th>\n",
       "    </tr>\n",
       "    <tr>\n",
       "      <th>Symbol</th>\n",
       "      <th></th>\n",
       "    </tr>\n",
       "  </thead>\n",
       "  <tbody>\n",
       "    <tr>\n",
       "      <th>A005930</th>\n",
       "      <td>0.222111</td>\n",
       "    </tr>\n",
       "    <tr>\n",
       "      <th>A000660</th>\n",
       "      <td>0.096839</td>\n",
       "    </tr>\n",
       "    <tr>\n",
       "      <th>A105560</th>\n",
       "      <td>0.029036</td>\n",
       "    </tr>\n",
       "    <tr>\n",
       "      <th>A012450</th>\n",
       "      <td>0.024033</td>\n",
       "    </tr>\n",
       "    <tr>\n",
       "      <th>A005380</th>\n",
       "      <td>0.021058</td>\n",
       "    </tr>\n",
       "    <tr>\n",
       "      <th>...</th>\n",
       "      <td>...</td>\n",
       "    </tr>\n",
       "    <tr>\n",
       "      <th>A005250</th>\n",
       "      <td>0.000047</td>\n",
       "    </tr>\n",
       "    <tr>\n",
       "      <th>A006360</th>\n",
       "      <td>0.000045</td>\n",
       "    </tr>\n",
       "    <tr>\n",
       "      <th>A111770</th>\n",
       "      <td>0.000042</td>\n",
       "    </tr>\n",
       "    <tr>\n",
       "      <th>A004020</th>\n",
       "      <td>0.000038</td>\n",
       "    </tr>\n",
       "    <tr>\n",
       "      <th>A006650</th>\n",
       "      <td>0.000026</td>\n",
       "    </tr>\n",
       "  </tbody>\n",
       "</table>\n",
       "<p>199 rows × 1 columns</p>\n",
       "</div>"
      ],
      "text/plain": [
       "                0\n",
       "Symbol           \n",
       "A005930  0.222111\n",
       "A000660  0.096839\n",
       "A105560  0.029036\n",
       "A012450  0.024033\n",
       "A005380  0.021058\n",
       "...           ...\n",
       "A005250  0.000047\n",
       "A006360  0.000045\n",
       "A111770  0.000042\n",
       "A004020  0.000038\n",
       "A006650  0.000026\n",
       "\n",
       "[199 rows x 1 columns]"
      ]
     },
     "execution_count": 163,
     "metadata": {},
     "output_type": "execute_result"
    }
   ],
   "source": [
    "final_port_opt.sort_values(0, ascending=False)"
   ]
  },
  {
   "cell_type": "code",
   "execution_count": 164,
   "id": "e39c9edb-aea7-47d3-b03f-308e8eac19c9",
   "metadata": {
    "execution": {
     "iopub.execute_input": "2025-06-04T07:08:45.261822Z",
     "iopub.status.busy": "2025-06-04T07:08:45.261301Z",
     "iopub.status.idle": "2025-06-04T07:08:45.273139Z",
     "shell.execute_reply": "2025-06-04T07:08:45.272088Z",
     "shell.execute_reply.started": "2025-06-04T07:08:45.261774Z"
    }
   },
   "outputs": [
    {
     "data": {
      "text/plain": [
       "199"
      ]
     },
     "execution_count": 164,
     "metadata": {},
     "output_type": "execute_result"
    }
   ],
   "source": [
    "len(final_port_opt[final_port_opt>0].dropna())"
   ]
  },
  {
   "cell_type": "code",
   "execution_count": null,
   "id": "056ff663-9fcc-4092-a9d4-300c3aec7ff9",
   "metadata": {},
   "outputs": [],
   "source": []
  },
  {
   "cell_type": "code",
   "execution_count": 165,
   "id": "d5685189-d241-4515-9697-6c55cf9294c7",
   "metadata": {
    "execution": {
     "iopub.execute_input": "2025-06-04T07:08:45.828376Z",
     "iopub.status.busy": "2025-06-04T07:08:45.827850Z",
     "iopub.status.idle": "2025-06-04T07:08:45.835593Z",
     "shell.execute_reply": "2025-06-04T07:08:45.834482Z",
     "shell.execute_reply.started": "2025-06-04T07:08:45.828333Z"
    }
   },
   "outputs": [],
   "source": [
    "final_port=final_port_opt.copy()[0]\n",
    "final_port=final_port[final_port>10**-3].dropna()\n"
   ]
  },
  {
   "cell_type": "code",
   "execution_count": 166,
   "id": "f97b7993-854c-4010-b181-5e63928c6bba",
   "metadata": {
    "execution": {
     "iopub.execute_input": "2025-06-04T07:08:46.138354Z",
     "iopub.status.busy": "2025-06-04T07:08:46.137836Z",
     "iopub.status.idle": "2025-06-04T07:08:46.149349Z",
     "shell.execute_reply": "2025-06-04T07:08:46.148319Z",
     "shell.execute_reply.started": "2025-06-04T07:08:46.138309Z"
    }
   },
   "outputs": [
    {
     "data": {
      "text/plain": [
       "Symbol\n",
       "A005930    0.222111\n",
       "A000660    0.096839\n",
       "A105560    0.029036\n",
       "A012450    0.024033\n",
       "A005380    0.021058\n",
       "             ...   \n",
       "A139130    0.001303\n",
       "A090430    0.001248\n",
       "A001440    0.001187\n",
       "A047040    0.001147\n",
       "A011170    0.001000\n",
       "Name: 0, Length: 109, dtype: float64"
      ]
     },
     "execution_count": 166,
     "metadata": {},
     "output_type": "execute_result"
    }
   ],
   "source": [
    "final_port.sort_values(ascending=False)"
   ]
  },
  {
   "cell_type": "code",
   "execution_count": null,
   "id": "3d13a4cd-37e6-4b8d-ba50-57a41348618a",
   "metadata": {},
   "outputs": [],
   "source": []
  },
  {
   "cell_type": "code",
   "execution_count": 167,
   "id": "bd17c0fe-a626-4184-a78e-891803dddcd0",
   "metadata": {
    "execution": {
     "iopub.execute_input": "2025-06-04T07:08:47.138650Z",
     "iopub.status.busy": "2025-06-04T07:08:47.138132Z",
     "iopub.status.idle": "2025-06-04T07:08:47.153425Z",
     "shell.execute_reply": "2025-06-04T07:08:47.152135Z",
     "shell.execute_reply.started": "2025-06-04T07:08:47.138606Z"
    }
   },
   "outputs": [],
   "source": [
    "final_port[final_port>0].to_csv(f\"../data/output/weight/{period2}_{stockw}_{sectorw}_{sizew}_port2.csv\")"
   ]
  },
  {
   "cell_type": "code",
   "execution_count": null,
   "id": "7d8d170b-552d-49e3-b2a0-f641affa19c0",
   "metadata": {},
   "outputs": [],
   "source": []
  },
  {
   "cell_type": "code",
   "execution_count": null,
   "id": "984fff0b-b317-431d-bd23-b8c175f0c970",
   "metadata": {},
   "outputs": [],
   "source": []
  },
  {
   "cell_type": "code",
   "execution_count": null,
   "id": "c7953839-0c91-4bad-89b7-bd8f4f08c689",
   "metadata": {
    "execution": {
     "iopub.status.busy": "2025-06-04T04:33:57.922176Z",
     "iopub.status.idle": "2025-06-04T04:33:57.922549Z",
     "shell.execute_reply": "2025-06-04T04:33:57.922370Z",
     "shell.execute_reply.started": "2025-06-04T04:33:57.922354Z"
    }
   },
   "outputs": [],
   "source": [
    "compare_bmw=bmw.loc[period2, final_port_opt.index].sort_values(ascending=False)\n",
    "compare_bmw=compare_bmw/100\n",
    "weight_diff=final_port_opt[0].dropna() - compare_bmw\n",
    "weight_diff.sort_values(ascending=False).dropna()"
   ]
  },
  {
   "cell_type": "code",
   "execution_count": null,
   "id": "61a65e9d-5f64-4382-a73a-910c90f82c01",
   "metadata": {
    "execution": {
     "iopub.status.busy": "2025-06-04T04:33:57.923766Z",
     "iopub.status.idle": "2025-06-04T04:33:57.924134Z",
     "shell.execute_reply": "2025-06-04T04:33:57.923956Z",
     "shell.execute_reply.started": "2025-06-04T04:33:57.923940Z"
    }
   },
   "outputs": [],
   "source": [
    "pd.concat([weight_diff, size_label.loc[period2]], axis=1).groupby(1).sum(0)"
   ]
  },
  {
   "cell_type": "code",
   "execution_count": null,
   "id": "ce6eea97-0c9b-4bf6-a59d-26e1819ba0a5",
   "metadata": {
    "execution": {
     "iopub.status.busy": "2025-06-04T04:33:57.925530Z",
     "iopub.status.idle": "2025-06-04T04:33:57.926126Z",
     "shell.execute_reply": "2025-06-04T04:33:57.925934Z",
     "shell.execute_reply.started": "2025-06-04T04:33:57.925917Z"
    },
    "scrolled": true
   },
   "outputs": [],
   "source": [
    "pd.concat([weight_diff, sector_label.loc[period2]], axis=1).groupby(1).sum(0).sort_values(0)"
   ]
  },
  {
   "cell_type": "code",
   "execution_count": null,
   "id": "5e910a3e-a619-4424-9d7c-b1332a5a8c95",
   "metadata": {
    "execution": {
     "iopub.status.busy": "2025-06-04T04:33:57.927306Z",
     "iopub.status.idle": "2025-06-04T04:33:57.927735Z",
     "shell.execute_reply": "2025-06-04T04:33:57.927539Z",
     "shell.execute_reply.started": "2025-06-04T04:33:57.927521Z"
    }
   },
   "outputs": [],
   "source": [
    "sector_label.loc[(period2, ['A373220', 'A005930'])]"
   ]
  },
  {
   "cell_type": "markdown",
   "id": "57d3419a-aadf-492c-80ab-8905190e711e",
   "metadata": {},
   "source": [
    "### check top and bottom scores "
   ]
  },
  {
   "cell_type": "code",
   "execution_count": null,
   "id": "eee9c0fa-dda0-44ba-89b4-7b2140002a7e",
   "metadata": {
    "execution": {
     "iopub.status.busy": "2025-06-04T04:33:57.929317Z",
     "iopub.status.idle": "2025-06-04T04:33:57.930012Z",
     "shell.execute_reply": "2025-06-04T04:33:57.929788Z",
     "shell.execute_reply.started": "2025-06-04T04:33:57.929768Z"
    }
   },
   "outputs": [],
   "source": [
    "init_scores=pd.concat([ls_w.iloc[-1], raw_prob.iloc[-1], weight_diff.loc[ls_w.iloc[-1].dropna().index]], axis=1)\n",
    "init_scores.columns=['normalize', 'raw', 'wdiff']\n",
    "init_scores=init_scores.sort_values('raw', ascending=False).dropna()"
   ]
  },
  {
   "cell_type": "code",
   "execution_count": null,
   "id": "4c109fa5-7690-4b61-a973-b6e3ccab7198",
   "metadata": {
    "execution": {
     "iopub.status.busy": "2025-06-04T04:33:57.931598Z",
     "iopub.status.idle": "2025-06-04T04:33:57.932144Z",
     "shell.execute_reply": "2025-06-04T04:33:57.931932Z",
     "shell.execute_reply.started": "2025-06-04T04:33:57.931912Z"
    },
    "scrolled": true
   },
   "outputs": [],
   "source": [
    "init_scores.head(20)"
   ]
  },
  {
   "cell_type": "code",
   "execution_count": null,
   "id": "45968c76-7942-43aa-add9-9916b2882dbb",
   "metadata": {
    "execution": {
     "iopub.status.busy": "2025-06-04T04:33:57.933633Z",
     "iopub.status.idle": "2025-06-04T04:33:57.934313Z",
     "shell.execute_reply": "2025-06-04T04:33:57.934094Z",
     "shell.execute_reply.started": "2025-06-04T04:33:57.934074Z"
    },
    "scrolled": true
   },
   "outputs": [],
   "source": [
    "init_scores.tail(20)"
   ]
  },
  {
   "cell_type": "code",
   "execution_count": null,
   "id": "d169eb7d-d503-49ea-9975-1c52a96b5617",
   "metadata": {
    "execution": {
     "iopub.status.busy": "2025-06-04T04:33:57.935491Z",
     "iopub.status.idle": "2025-06-04T04:33:57.935912Z",
     "shell.execute_reply": "2025-06-04T04:33:57.935715Z",
     "shell.execute_reply.started": "2025-06-04T04:33:57.935697Z"
    }
   },
   "outputs": [],
   "source": [
    "ow_port0=init_scores.head(20)\n",
    "uw_port0=init_scores.tail(20)"
   ]
  },
  {
   "cell_type": "code",
   "execution_count": null,
   "id": "baafae13-42aa-41df-a04d-68275b994365",
   "metadata": {
    "execution": {
     "iopub.status.busy": "2025-06-04T04:33:57.937672Z",
     "iopub.status.idle": "2025-06-04T04:33:57.938159Z",
     "shell.execute_reply": "2025-06-04T04:33:57.937935Z",
     "shell.execute_reply.started": "2025-06-04T04:33:57.937914Z"
    }
   },
   "outputs": [],
   "source": [
    "adj_ow=ow_port0['wdiff'][ow_port0['wdiff']>0].mean()\n",
    "adj_uw=uw_port0['wdiff'][uw_port0['wdiff']<0].mean()\n",
    "adj_uw, adj_ow"
   ]
  },
  {
   "cell_type": "code",
   "execution_count": null,
   "id": "8e64ffc6-1365-4076-ab16-4fbe1674305f",
   "metadata": {},
   "outputs": [],
   "source": []
  },
  {
   "cell_type": "markdown",
   "id": "16942494-1a1c-494d-9b4b-880a88ca997c",
   "metadata": {},
   "source": [
    "### find weights ow but less than mean and uw that is over the mean\n",
    "### they will be filled and unfilled in the below"
   ]
  },
  {
   "cell_type": "code",
   "execution_count": null,
   "id": "62cd519b-a195-4166-b62f-40ead2d51b4a",
   "metadata": {
    "execution": {
     "iopub.status.busy": "2025-06-04T04:33:57.939837Z",
     "iopub.status.idle": "2025-06-04T04:33:57.940683Z",
     "shell.execute_reply": "2025-06-04T04:33:57.940441Z",
     "shell.execute_reply.started": "2025-06-04T04:33:57.940418Z"
    }
   },
   "outputs": [],
   "source": [
    "ow_fix=ow_port0[ow_port0['wdiff']<0]\n",
    "uw_fix=uw_port0[uw_port0['wdiff']>0]\n",
    "ow_fix, uw_fix"
   ]
  },
  {
   "cell_type": "code",
   "execution_count": null,
   "id": "a978b6e0-7838-440f-ac84-e29a23dabe0a",
   "metadata": {
    "execution": {
     "iopub.status.busy": "2025-06-04T04:33:57.941839Z",
     "iopub.status.idle": "2025-06-04T04:33:57.942444Z",
     "shell.execute_reply": "2025-06-04T04:33:57.942206Z",
     "shell.execute_reply.started": "2025-06-04T04:33:57.942184Z"
    }
   },
   "outputs": [],
   "source": [
    "1-final_port_opt[final_port_opt>10**-3].dropna().sum()"
   ]
  },
  {
   "cell_type": "code",
   "execution_count": null,
   "id": "68397a4c-3437-4103-9345-5a5dafbe9d5d",
   "metadata": {
    "execution": {
     "iopub.status.busy": "2025-06-04T04:33:57.944131Z",
     "iopub.status.idle": "2025-06-04T04:33:57.944959Z",
     "shell.execute_reply": "2025-06-04T04:33:57.944720Z",
     "shell.execute_reply.started": "2025-06-04T04:33:57.944698Z"
    }
   },
   "outputs": [],
   "source": [
    "final_port_opt.sort_values(0)"
   ]
  },
  {
   "cell_type": "markdown",
   "id": "9a0e9b71-a43b-49b2-97c4-91d2c0803a13",
   "metadata": {},
   "source": [
    "# first fill weight\n",
    "### remove weights under 10***-3 and then add those to existing weights"
   ]
  },
  {
   "cell_type": "code",
   "execution_count": null,
   "id": "96935763-ef46-4e69-80b2-e6eea77fdb0e",
   "metadata": {
    "execution": {
     "iopub.status.busy": "2025-06-04T04:33:57.946218Z",
     "iopub.status.idle": "2025-06-04T04:33:57.946852Z",
     "shell.execute_reply": "2025-06-04T04:33:57.946599Z",
     "shell.execute_reply.started": "2025-06-04T04:33:57.946575Z"
    }
   },
   "outputs": [],
   "source": [
    "final_port=final_port_opt.copy()[0]\n",
    "final_port=final_port[final_port>10**-3].dropna()\n",
    "\n",
    "for i in range(len(uw_fix)):\n",
    "    unfill_w=uw_fix.index[i]\n",
    "    print(unfill_w)\n",
    "    final_port.loc[unfill_w]=compare_bmw.loc[unfill_w]+adj_uw"
   ]
  },
  {
   "cell_type": "code",
   "execution_count": null,
   "id": "dc4e9042-6347-4b74-8feb-dd2c2bb65a5e",
   "metadata": {},
   "outputs": [],
   "source": []
  },
  {
   "cell_type": "code",
   "execution_count": null,
   "id": "be0f16c5-987b-479b-ba43-89a396521783",
   "metadata": {
    "execution": {
     "iopub.status.busy": "2025-06-04T04:33:57.948664Z",
     "iopub.status.idle": "2025-06-04T04:33:57.949591Z",
     "shell.execute_reply": "2025-06-04T04:33:57.949331Z",
     "shell.execute_reply.started": "2025-06-04T04:33:57.949307Z"
    }
   },
   "outputs": [],
   "source": [
    "final_port.sort_values()"
   ]
  },
  {
   "cell_type": "code",
   "execution_count": null,
   "id": "7c9c9e5e-94dd-4056-85e4-6c31ce49585a",
   "metadata": {
    "execution": {
     "iopub.status.busy": "2025-06-04T04:33:57.950840Z",
     "iopub.status.idle": "2025-06-04T04:33:57.951476Z",
     "shell.execute_reply": "2025-06-04T04:33:57.951224Z",
     "shell.execute_reply.started": "2025-06-04T04:33:57.951201Z"
    }
   },
   "outputs": [],
   "source": [
    "final_port.sum()"
   ]
  },
  {
   "cell_type": "code",
   "execution_count": null,
   "id": "cdb94b40-c4bc-4d84-9038-5766b36c16c1",
   "metadata": {
    "execution": {
     "iopub.status.busy": "2025-06-04T04:33:57.953279Z",
     "iopub.status.idle": "2025-06-04T04:33:57.953809Z",
     "shell.execute_reply": "2025-06-04T04:33:57.953558Z",
     "shell.execute_reply.started": "2025-06-04T04:33:57.953536Z"
    }
   },
   "outputs": [],
   "source": [
    "additional_weight=1-final_port.sum() # is it possible (addtional weight > max ow) ?\n",
    "additional_weight"
   ]
  },
  {
   "cell_type": "code",
   "execution_count": null,
   "id": "8f409093-c542-43e3-9a89-3fd2cf78d0c5",
   "metadata": {
    "execution": {
     "iopub.status.busy": "2025-06-04T04:33:57.955338Z",
     "iopub.status.idle": "2025-06-04T04:33:57.955979Z",
     "shell.execute_reply": "2025-06-04T04:33:57.955725Z",
     "shell.execute_reply.started": "2025-06-04T04:33:57.955702Z"
    }
   },
   "outputs": [],
   "source": [
    "np.ceil(additional_weight/adj_ow), adj_ow"
   ]
  },
  {
   "cell_type": "code",
   "execution_count": null,
   "id": "dc73f4b9-1326-4943-a3d0-083de39b4ed4",
   "metadata": {
    "execution": {
     "iopub.status.busy": "2025-06-04T04:33:57.957767Z",
     "iopub.status.idle": "2025-06-04T04:33:57.958294Z",
     "shell.execute_reply": "2025-06-04T04:33:57.958052Z",
     "shell.execute_reply.started": "2025-06-04T04:33:57.958030Z"
    }
   },
   "outputs": [],
   "source": [
    "additional_weight, adj_ow"
   ]
  },
  {
   "cell_type": "code",
   "execution_count": null,
   "id": "3c806cee-46fb-47b1-9e0b-a37d07af150d",
   "metadata": {
    "execution": {
     "iopub.status.busy": "2025-06-04T04:33:57.960180Z",
     "iopub.status.idle": "2025-06-04T04:33:57.960957Z",
     "shell.execute_reply": "2025-06-04T04:33:57.960705Z",
     "shell.execute_reply.started": "2025-06-04T04:33:57.960682Z"
    }
   },
   "outputs": [],
   "source": [
    "np.ceil(additional_weight/adj_ow)"
   ]
  },
  {
   "cell_type": "code",
   "execution_count": null,
   "id": "79e27cae-2633-4b71-ab78-43c771f3632b",
   "metadata": {
    "execution": {
     "iopub.status.busy": "2025-06-04T04:33:57.962506Z",
     "iopub.status.idle": "2025-06-04T04:33:57.963393Z",
     "shell.execute_reply": "2025-06-04T04:33:57.963137Z",
     "shell.execute_reply.started": "2025-06-04T04:33:57.963112Z"
    }
   },
   "outputs": [],
   "source": [
    "fill_num=int(np.ceil(additional_weight/adj_ow)) # it checks whether addtional weights over mean ow\n",
    "if fill_num==0:\n",
    "    final_port.loc[ow_fix.index[0]]=additional_weight\n",
    "    print(ow_fix.index[0])\n",
    "else:\n",
    "    for i in range(min(fill_num, len(ow_fix))):\n",
    "        fill_w=ow_fix.index[i]\n",
    "        if (1-final_port.sum())>adj_ow:\n",
    "            final_port.loc[fill_w]=compare_bmw.loc[fill_w]+(additional_weight/fill_num)\n",
    "        else:\n",
    "            final_port.loc[fill_w]=compare_bmw.loc[fill_w]+(1-final_port.sum())\n",
    "        print(fill_w)"
   ]
  },
  {
   "cell_type": "code",
   "execution_count": null,
   "id": "7ba8c31b-4cf0-48dd-9fc9-61843f92da4d",
   "metadata": {
    "execution": {
     "iopub.status.busy": "2025-06-04T04:33:57.964651Z",
     "iopub.status.idle": "2025-06-04T04:33:57.965302Z",
     "shell.execute_reply": "2025-06-04T04:33:57.965038Z",
     "shell.execute_reply.started": "2025-06-04T04:33:57.965013Z"
    }
   },
   "outputs": [],
   "source": [
    "1-final_port.sum(), len(final_port), final_port.sum()"
   ]
  },
  {
   "cell_type": "code",
   "execution_count": null,
   "id": "a5bb407c-daaa-41a6-8d9b-c41a5f0b20e0",
   "metadata": {
    "execution": {
     "iopub.status.busy": "2025-06-04T04:33:57.966967Z",
     "iopub.status.idle": "2025-06-04T04:33:57.967845Z",
     "shell.execute_reply": "2025-06-04T04:33:57.967589Z",
     "shell.execute_reply.started": "2025-06-04T04:33:57.967565Z"
    }
   },
   "outputs": [],
   "source": [
    "final_port.sort_values()"
   ]
  },
  {
   "cell_type": "code",
   "execution_count": null,
   "id": "6c869d37-1fe8-4e68-96e7-6b051e7e55a3",
   "metadata": {},
   "outputs": [],
   "source": []
  },
  {
   "cell_type": "markdown",
   "id": "e06e0e6f-1cff-44f1-b26f-ee17d34a184e",
   "metadata": {},
   "source": [
    "# second fill weight\n",
    "### find remaining weight \n",
    "### check the weight difference and add weights to stocks whose weights are under max weight"
   ]
  },
  {
   "cell_type": "code",
   "execution_count": null,
   "id": "7610c1e5-3a5a-47bf-bcf2-8a9514e8e9cc",
   "metadata": {
    "execution": {
     "iopub.status.busy": "2025-06-04T04:33:57.969090Z",
     "iopub.status.idle": "2025-06-04T04:33:57.969967Z",
     "shell.execute_reply": "2025-06-04T04:33:57.969712Z",
     "shell.execute_reply.started": "2025-06-04T04:33:57.969688Z"
    }
   },
   "outputs": [],
   "source": [
    "rem_w=1-final_port.sum()\n",
    "rem_w"
   ]
  },
  {
   "cell_type": "code",
   "execution_count": null,
   "id": "a8a06859-8bfc-4741-b1a0-0c360c1e557a",
   "metadata": {
    "execution": {
     "iopub.status.busy": "2025-06-04T04:33:57.971210Z",
     "iopub.status.idle": "2025-06-04T04:33:57.971732Z",
     "shell.execute_reply": "2025-06-04T04:33:57.971490Z",
     "shell.execute_reply.started": "2025-06-04T04:33:57.971467Z"
    }
   },
   "outputs": [],
   "source": [
    "(final_port-compare_bmw).dropna().sort_values(ascending=False), stockw"
   ]
  },
  {
   "cell_type": "code",
   "execution_count": null,
   "id": "a21a6157-df2b-46ad-b419-e5d13fea702c",
   "metadata": {
    "execution": {
     "iopub.status.busy": "2025-06-04T04:33:57.973509Z",
     "iopub.status.idle": "2025-06-04T04:33:57.974268Z",
     "shell.execute_reply": "2025-06-04T04:33:57.974004Z",
     "shell.execute_reply.started": "2025-06-04T04:33:57.973979Z"
    }
   },
   "outputs": [],
   "source": [
    "final_wdiff=(final_port-compare_bmw).dropna().sort_values(ascending=False)"
   ]
  },
  {
   "cell_type": "code",
   "execution_count": null,
   "id": "e4cda488-477b-410f-9ac5-369cb11de198",
   "metadata": {
    "execution": {
     "iopub.status.busy": "2025-06-04T04:33:57.975693Z",
     "iopub.status.idle": "2025-06-04T04:33:57.976662Z",
     "shell.execute_reply": "2025-06-04T04:33:57.976401Z",
     "shell.execute_reply.started": "2025-06-04T04:33:57.976378Z"
    }
   },
   "outputs": [],
   "source": [
    "final_wdiff"
   ]
  },
  {
   "cell_type": "code",
   "execution_count": null,
   "id": "cf16aad3-77c4-4501-8e1b-e858f9feb4e1",
   "metadata": {
    "execution": {
     "iopub.status.busy": "2025-06-04T04:33:57.977984Z",
     "iopub.status.idle": "2025-06-04T04:33:57.978770Z",
     "shell.execute_reply": "2025-06-04T04:33:57.978500Z",
     "shell.execute_reply.started": "2025-06-04T04:33:57.978475Z"
    },
    "scrolled": true
   },
   "outputs": [],
   "source": [
    "i=0\n",
    "while rem_w>0:\n",
    "    if (final_wdiff.iloc[i] < stockw) & (final_wdiff.iloc[i]>0):\n",
    "        add_w=stockw-final_wdiff.iloc[i]\n",
    "        if rem_w<add_w:\n",
    "            final_port.loc[final_wdiff.index[i]]+=rem_w\n",
    "        else:\n",
    "            final_port.loc[final_wdiff.index[i]]+=add_w\n",
    "        rem_w-=add_w\n",
    "        print(final_wdiff.index[i], add_w)\n",
    "        i+=1\n",
    "    else:\n",
    "        i+=1\n",
    "        \n",
    "        continue"
   ]
  },
  {
   "cell_type": "code",
   "execution_count": null,
   "id": "91b881ff-db39-48ca-84d9-cf785d35fdc4",
   "metadata": {},
   "outputs": [],
   "source": []
  },
  {
   "cell_type": "code",
   "execution_count": null,
   "id": "3e09c125-9141-445e-bdbb-0767685d5ea4",
   "metadata": {
    "execution": {
     "iopub.status.busy": "2025-06-04T04:33:57.980213Z",
     "iopub.status.idle": "2025-06-04T04:33:57.981038Z",
     "shell.execute_reply": "2025-06-04T04:33:57.980774Z",
     "shell.execute_reply.started": "2025-06-04T04:33:57.980750Z"
    }
   },
   "outputs": [],
   "source": [
    "final_port.shape, final_port.sum()"
   ]
  },
  {
   "cell_type": "code",
   "execution_count": null,
   "id": "b7f2acce-cb63-4371-8830-1748d8daeca2",
   "metadata": {
    "execution": {
     "iopub.status.busy": "2025-06-04T04:33:57.982590Z",
     "iopub.status.idle": "2025-06-04T04:33:57.983123Z",
     "shell.execute_reply": "2025-06-04T04:33:57.982878Z",
     "shell.execute_reply.started": "2025-06-04T04:33:57.982855Z"
    }
   },
   "outputs": [],
   "source": [
    "final_port"
   ]
  },
  {
   "cell_type": "code",
   "execution_count": null,
   "id": "832654da-e969-481b-acf1-71bc3b46c70a",
   "metadata": {
    "execution": {
     "iopub.status.busy": "2025-06-04T04:33:57.984609Z",
     "iopub.status.idle": "2025-06-04T04:33:57.985139Z",
     "shell.execute_reply": "2025-06-04T04:33:57.984887Z",
     "shell.execute_reply.started": "2025-06-04T04:33:57.984864Z"
    }
   },
   "outputs": [],
   "source": [
    "# 복제율\n",
    "1- abs((final_port - compare_bmw).dropna()).sum()/2"
   ]
  },
  {
   "cell_type": "code",
   "execution_count": null,
   "id": "f87b435e-4294-4d16-b728-fa9cfa424b8b",
   "metadata": {
    "execution": {
     "iopub.status.busy": "2025-06-04T04:33:57.987119Z",
     "iopub.status.idle": "2025-06-04T04:33:57.988033Z",
     "shell.execute_reply": "2025-06-04T04:33:57.987768Z",
     "shell.execute_reply.started": "2025-06-04T04:33:57.987744Z"
    }
   },
   "outputs": [],
   "source": [
    "final_port[final_port>0].sort_values()"
   ]
  },
  {
   "cell_type": "code",
   "execution_count": null,
   "id": "a53d8f38-0086-4409-be30-20a5f8248a6f",
   "metadata": {
    "execution": {
     "iopub.status.busy": "2025-06-04T04:33:57.989586Z",
     "iopub.status.idle": "2025-06-04T04:33:57.990124Z",
     "shell.execute_reply": "2025-06-04T04:33:57.989875Z",
     "shell.execute_reply.started": "2025-06-04T04:33:57.989852Z"
    }
   },
   "outputs": [],
   "source": [
    "final_port[final_port>0].sum()"
   ]
  },
  {
   "cell_type": "code",
   "execution_count": null,
   "id": "df399c28-5c68-47f9-adc3-127daaa19e66",
   "metadata": {
    "execution": {
     "iopub.status.busy": "2025-06-04T04:33:57.991905Z",
     "iopub.status.idle": "2025-06-04T04:33:57.992786Z",
     "shell.execute_reply": "2025-06-04T04:33:57.992528Z",
     "shell.execute_reply.started": "2025-06-04T04:33:57.992503Z"
    }
   },
   "outputs": [],
   "source": [
    "final_port[final_port>0].to_csv(f\"../data/output/weight/{period2}_{stockw}_{sectorw}_{sizew}_port2.csv\")"
   ]
  },
  {
   "cell_type": "code",
   "execution_count": null,
   "id": "88e9dd8b-ecbb-48c0-9c50-e779601f40b1",
   "metadata": {},
   "outputs": [],
   "source": []
  },
  {
   "cell_type": "code",
   "execution_count": null,
   "id": "c12256ac-e44c-430b-bbc8-0880a57aa6dc",
   "metadata": {},
   "outputs": [],
   "source": []
  },
  {
   "cell_type": "code",
   "execution_count": null,
   "id": "b1350808-92a1-48e0-8fb7-7f26df3a7612",
   "metadata": {},
   "outputs": [],
   "source": []
  },
  {
   "cell_type": "code",
   "execution_count": null,
   "id": "7f9bd901-a3ca-46fb-9fe3-df5a63461d94",
   "metadata": {
    "execution": {
     "iopub.status.busy": "2025-06-04T04:33:57.993990Z",
     "iopub.status.idle": "2025-06-04T04:33:57.994809Z",
     "shell.execute_reply": "2025-06-04T04:33:57.994553Z",
     "shell.execute_reply.started": "2025-06-04T04:33:57.994528Z"
    }
   },
   "outputs": [],
   "source": [
    "check_stockw=[]\n",
    "for rd in rebal_dates:\n",
    "    check_stockw.append(daily_optw.loc[rd, 'A005930']*100-bmw.loc[rd, 'A005930'])"
   ]
  },
  {
   "cell_type": "code",
   "execution_count": null,
   "id": "ed48f79c-3cad-4352-a56b-a14d3fadce6f",
   "metadata": {},
   "outputs": [],
   "source": []
  },
  {
   "cell_type": "code",
   "execution_count": null,
   "id": "e81b13d5-7c9e-46cd-911f-e0b1b0308945",
   "metadata": {},
   "outputs": [],
   "source": []
  },
  {
   "cell_type": "code",
   "execution_count": null,
   "id": "6f4ea140-1e53-4a33-a2ba-fffcfd23766e",
   "metadata": {},
   "outputs": [],
   "source": []
  },
  {
   "cell_type": "code",
   "execution_count": null,
   "id": "af27028a-3b22-4684-bb00-39311072a4bf",
   "metadata": {},
   "outputs": [],
   "source": []
  },
  {
   "cell_type": "code",
   "execution_count": null,
   "id": "f9a90e6d-00b1-41eb-9e78-871eb05e16ff",
   "metadata": {},
   "outputs": [],
   "source": []
  },
  {
   "cell_type": "code",
   "execution_count": null,
   "id": "e66ac8b7-88c4-458c-b745-239ed9ca1f40",
   "metadata": {},
   "outputs": [],
   "source": []
  },
  {
   "cell_type": "code",
   "execution_count": null,
   "id": "08faaeb1-36e7-4130-b6ae-ac74b7b2b0ed",
   "metadata": {
    "execution": {
     "iopub.status.busy": "2025-06-04T04:33:57.996601Z",
     "iopub.status.idle": "2025-06-04T04:33:57.997142Z",
     "shell.execute_reply": "2025-06-04T04:33:57.996888Z",
     "shell.execute_reply.started": "2025-06-04T04:33:57.996865Z"
    }
   },
   "outputs": [],
   "source": [
    "# \"\"\"\n",
    "#     exclude:\n",
    "#     long_term: neg & mid_term: neg & short_term: neg\n",
    "#     long_term: pos & short_term: neg\n",
    "    \n",
    "    \n",
    "# \"\"\"\n",
    "\n",
    "# long_term=252\n",
    "# mid_term=60\n",
    "# short_term=20\n",
    "# filtered_stocks=[]\n",
    "\n",
    "# for symbol in weight_diff.index:\n",
    "#     long_x=np.arange(long_term)\n",
    "#     long_y=adjprc.iloc[-long_term:][symbol]\n",
    "#     long_slope, _, long_rvalue, long_pvalue, long_std_err=stats.linregress(long_x, long_y)\n",
    "    \n",
    "#     mid_x=np.arange(mid_term)\n",
    "#     mid_y=adjprc.iloc[-mid_term:][symbol]\n",
    "#     mid_slope, _, mid_rvalue, mid_pvalue, mid_std_err=stats.linregress(mid_x, mid_y)\n",
    "\n",
    "#     short_x=np.arange(short_term)\n",
    "#     short_y=adjprc.iloc[-short_term:][symbol]\n",
    "#     short_slope, _, short_rvalue, short_pvalue, short_std_err=stats.linregress(short_x, short_y)\n",
    "\n",
    "    \n",
    "#     if long_slope <0 and mid_slope <0:\n",
    "#         filtered_stocks.append({\n",
    "#                                 'symbol': symbol,\n",
    "#                                 'long_slope': np.round(long_slope, 3),\n",
    "#                                 'long_rvalue': np.round(long_rvalue, 3),\n",
    "#                                 'long_pvalue': np.round(long_pvalue, 3),\n",
    "#                                 'mid_slope': np.round(mid_slope, 3),\n",
    "#                                 'mid_rvalue': np.round(mid_rvalue, 3),\n",
    "#                                 'mid_pvalue': np.round(mid_pvalue, 3),\n",
    "#                                 'short_slope': np.round(short_slope, 3),\n",
    "#                                 'short_rvalue': np.round(short_rvalue, 3),\n",
    "#                                 'short_pvalue': np.round(short_pvalue, 3)\n",
    "#                                 })\n",
    "        \n",
    "#     elif long_slope >0 and short_slope <0:\n",
    "#         filtered_stocks.append({\n",
    "#                                 'symbol': symbol,\n",
    "#                                 'long_slope': np.round(long_slope, 3),\n",
    "#                                 'long_rvalue': np.round(long_rvalue, 3),\n",
    "#                                 'long_pvalue': np.round(long_pvalue, 3),\n",
    "#                                 'mid_slope': np.round(mid_slope, 3),\n",
    "#                                 'mid_rvalue': np.round(mid_rvalue, 3),\n",
    "#                                 'mid_pvalue': np.round(mid_pvalue, 3),\n",
    "#                                 'short_slope': np.round(short_slope, 3),\n",
    "#                                 'short_rvalue': np.round(short_rvalue, 3),\n",
    "#                                 'short_pvalue': np.round(short_pvalue, 3)\n",
    "#                                 })\n",
    "                               "
   ]
  },
  {
   "cell_type": "code",
   "execution_count": null,
   "id": "e6ea87df-98ba-4009-af00-04e7765a53b5",
   "metadata": {
    "execution": {
     "iopub.status.busy": "2025-06-04T04:33:57.998651Z",
     "iopub.status.idle": "2025-06-04T04:33:57.999286Z",
     "shell.execute_reply": "2025-06-04T04:33:57.999029Z",
     "shell.execute_reply.started": "2025-06-04T04:33:57.999004Z"
    },
    "scrolled": true
   },
   "outputs": [],
   "source": [
    "filered_df=pd.DataFrame(filtered_stocks).sort_values(by='long_slope')"
   ]
  },
  {
   "cell_type": "code",
   "execution_count": null,
   "id": "1c33ba97-6b3e-4ef2-a036-aff78aedd8bd",
   "metadata": {
    "execution": {
     "iopub.status.busy": "2025-06-04T04:33:58.001172Z",
     "iopub.status.idle": "2025-06-04T04:33:58.001721Z",
     "shell.execute_reply": "2025-06-04T04:33:58.001466Z",
     "shell.execute_reply.started": "2025-06-04T04:33:58.001443Z"
    }
   },
   "outputs": [],
   "source": [
    "filtered_stocks=list(set(weight_diff[weight_diff>.001].index).intersection(set(filered_df['symbol'])))\n",
    "len(filtered_stocks)"
   ]
  },
  {
   "cell_type": "code",
   "execution_count": null,
   "id": "1a61896d-defe-4f86-8770-bc53c3c2a285",
   "metadata": {
    "execution": {
     "iopub.status.busy": "2025-06-04T04:33:58.003199Z",
     "iopub.status.idle": "2025-06-04T04:33:58.003829Z",
     "shell.execute_reply": "2025-06-04T04:33:58.003578Z",
     "shell.execute_reply.started": "2025-06-04T04:33:58.003554Z"
    }
   },
   "outputs": [],
   "source": [
    "eqw=bmw.loc['2024-08-30', filered_df['symbol'].values]\n",
    "final_port=final_port_opt.copy()[0]"
   ]
  },
  {
   "cell_type": "code",
   "execution_count": null,
   "id": "733e5f26-ec03-46db-8d2f-69b02b1ddaff",
   "metadata": {
    "execution": {
     "iopub.status.busy": "2025-06-04T04:33:58.005190Z",
     "iopub.status.idle": "2025-06-04T04:33:58.005736Z",
     "shell.execute_reply": "2025-06-04T04:33:58.005481Z",
     "shell.execute_reply.started": "2025-06-04T04:33:58.005458Z"
    }
   },
   "outputs": [],
   "source": [
    "final_port.loc[filtered_stocks]=eqw/100\n"
   ]
  },
  {
   "cell_type": "code",
   "execution_count": null,
   "id": "211ed727-460f-42d2-99e9-08e352a1a0df",
   "metadata": {
    "execution": {
     "iopub.status.busy": "2025-06-04T04:33:58.007930Z",
     "iopub.status.idle": "2025-06-04T04:33:58.008618Z",
     "shell.execute_reply": "2025-06-04T04:33:58.008350Z",
     "shell.execute_reply.started": "2025-06-04T04:33:58.008326Z"
    }
   },
   "outputs": [],
   "source": [
    "final_port.loc[filtered_stocks]=eqw/100\n",
    "\n",
    "weight_diff2=final_port.dropna()-compare_bmw\n",
    "weight_diff2=weight_diff2+abs(weight_diff2.min())\n",
    "\n",
    "additional_weights=weight_diff2/weight_diff2.sum() * (1-final_port.sum())\n",
    "final_port_adj=final_port+additional_weights"
   ]
  },
  {
   "cell_type": "code",
   "execution_count": null,
   "id": "245be8c8-9c94-467d-a01c-2c6253c74e94",
   "metadata": {
    "execution": {
     "iopub.status.busy": "2025-06-04T04:33:58.010453Z",
     "iopub.status.idle": "2025-06-04T04:33:58.010981Z",
     "shell.execute_reply": "2025-06-04T04:33:58.010736Z",
     "shell.execute_reply.started": "2025-06-04T04:33:58.010713Z"
    }
   },
   "outputs": [],
   "source": [
    "final_port_adj.sort_values()"
   ]
  },
  {
   "cell_type": "code",
   "execution_count": null,
   "id": "c29b3c57-81f3-4b48-a7ca-d25c7567a2ce",
   "metadata": {},
   "outputs": [],
   "source": []
  },
  {
   "cell_type": "code",
   "execution_count": null,
   "id": "4b2ee30f-7b94-47ec-b90c-9b48383f8f55",
   "metadata": {
    "execution": {
     "iopub.status.busy": "2025-06-04T04:33:58.012443Z",
     "iopub.status.idle": "2025-06-04T04:33:58.013079Z",
     "shell.execute_reply": "2025-06-04T04:33:58.012826Z",
     "shell.execute_reply.started": "2025-06-04T04:33:58.012802Z"
    }
   },
   "outputs": [],
   "source": [
    "# final_port_adj.to_csv(f\"../data/output/weight/{period2}_screened_weight_stock{stockw}_port2.csv\")\n",
    "# (final_port_adj-compare_bmw).dropna().sort_values().to_csv(f\"../data/output/weight/{period2}_screened_weightdiff_stock{stockw}_port.csv\")"
   ]
  },
  {
   "cell_type": "code",
   "execution_count": null,
   "id": "b0d5f1b1-e538-43bb-a9b9-ec355fa70c7a",
   "metadata": {},
   "outputs": [],
   "source": []
  },
  {
   "cell_type": "code",
   "execution_count": null,
   "id": "1e00ab9a-d683-40d7-a1bd-c74336477aa3",
   "metadata": {},
   "outputs": [],
   "source": []
  },
  {
   "cell_type": "code",
   "execution_count": null,
   "id": "aed581e7-822c-4ffa-bdbb-3d0d10747a9d",
   "metadata": {},
   "outputs": [],
   "source": []
  }
 ],
 "metadata": {
  "kernelspec": {
   "display_name": "base",
   "language": "python",
   "name": "python3"
  },
  "language_info": {
   "codemirror_mode": {
    "name": "ipython",
    "version": 3
   },
   "file_extension": ".py",
   "mimetype": "text/x-python",
   "name": "python",
   "nbconvert_exporter": "python",
   "pygments_lexer": "ipython3",
   "version": "3.11.4"
  }
 },
 "nbformat": 4,
 "nbformat_minor": 5
}
