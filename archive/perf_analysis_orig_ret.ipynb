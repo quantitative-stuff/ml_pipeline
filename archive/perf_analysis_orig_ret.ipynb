{
 "cells": [
  {
   "cell_type": "code",
   "execution_count": null,
   "id": "524adb09-f3d1-4d2b-87a1-a79eb5a3a0a1",
   "metadata": {
    "execution": {
     "iopub.execute_input": "2023-10-30T06:59:31.824793Z",
     "iopub.status.busy": "2023-10-30T06:59:31.824108Z",
     "iopub.status.idle": "2023-10-30T06:59:32.339527Z",
     "shell.execute_reply": "2023-10-30T06:59:32.338126Z",
     "shell.execute_reply.started": "2023-10-30T06:59:31.824732Z"
    },
    "tags": []
   },
   "outputs": [],
   "source": [
    "import pandas as pd\n",
    "import numpy as np"
   ]
  },
  {
   "cell_type": "code",
   "execution_count": null,
   "id": "a858f046-76e1-4587-be82-4e7078b9ac42",
   "metadata": {
    "execution": {
     "iopub.execute_input": "2023-10-30T06:59:32.466816Z",
     "iopub.status.busy": "2023-10-30T06:59:32.466365Z",
     "iopub.status.idle": "2023-10-30T06:59:32.617400Z",
     "shell.execute_reply": "2023-10-30T06:59:32.616182Z",
     "shell.execute_reply.started": "2023-10-30T06:59:32.466777Z"
    },
    "tags": []
   },
   "outputs": [],
   "source": [
    "from sqlalchemy import create_engine, text"
   ]
  },
  {
   "cell_type": "code",
   "execution_count": null,
   "id": "68ddc0df-ca60-4099-b7fa-1b264a52f247",
   "metadata": {
    "execution": {
     "iopub.execute_input": "2023-10-30T06:59:32.915565Z",
     "iopub.status.busy": "2023-10-30T06:59:32.914929Z",
     "iopub.status.idle": "2023-10-30T06:59:32.923642Z",
     "shell.execute_reply": "2023-10-30T06:59:32.922489Z",
     "shell.execute_reply.started": "2023-10-30T06:59:32.915512Z"
    },
    "tags": []
   },
   "outputs": [],
   "source": [
    "import cx_Oracle\n",
    "import os\n",
    "os.putenv(' NLS_LANG', '.UTF8')"
   ]
  },
  {
   "cell_type": "code",
   "execution_count": null,
   "id": "bb430120-2843-4a4d-b0a4-c61cf78cb35d",
   "metadata": {
    "execution": {
     "iopub.execute_input": "2023-10-30T06:59:33.132952Z",
     "iopub.status.busy": "2023-10-30T06:59:33.132364Z",
     "iopub.status.idle": "2023-10-30T06:59:34.157966Z",
     "shell.execute_reply": "2023-10-30T06:59:34.156416Z",
     "shell.execute_reply.started": "2023-10-30T06:59:33.132898Z"
    },
    "tags": []
   },
   "outputs": [],
   "source": [
    "# import matplotlib.pyplot as plt\n",
    "from matplotlib import pyplot as plt\n",
    "import seaborn as sns\n"
   ]
  },
  {
   "cell_type": "code",
   "execution_count": null,
   "id": "4ed99084-4088-4654-8eab-10d129a8d69d",
   "metadata": {
    "execution": {
     "iopub.execute_input": "2023-10-30T06:59:34.175216Z",
     "iopub.status.busy": "2023-10-30T06:59:34.174510Z",
     "iopub.status.idle": "2023-10-30T06:59:34.204264Z",
     "shell.execute_reply": "2023-10-30T06:59:34.203263Z",
     "shell.execute_reply.started": "2023-10-30T06:59:34.175162Z"
    },
    "tags": []
   },
   "outputs": [],
   "source": [
    "pd.options.plotting.backend = \"plotly\"\n"
   ]
  },
  {
   "cell_type": "code",
   "execution_count": null,
   "id": "5015ffd1-ef93-4941-aa31-dd8886e6fa5a",
   "metadata": {},
   "outputs": [],
   "source": []
  },
  {
   "cell_type": "code",
   "execution_count": null,
   "id": "8bdfa112-5b71-4084-bb9f-85861534cca1",
   "metadata": {
    "execution": {
     "iopub.execute_input": "2023-10-30T06:59:34.205972Z",
     "iopub.status.busy": "2023-10-30T06:59:34.205617Z",
     "iopub.status.idle": "2023-10-30T06:59:34.247262Z",
     "shell.execute_reply": "2023-10-30T06:59:34.245671Z",
     "shell.execute_reply.started": "2023-10-30T06:59:34.205936Z"
    },
    "tags": []
   },
   "outputs": [],
   "source": [
    "dsn = cx_Oracle.makedsn('192.168.1.5', '1521', service_name = 'ORA11')\n",
    "con = cx_Oracle.connect('dbam', 'dbamkass', dsn = dsn, encoding=\"UTF-8\")\n",
    "cur = con.cursor()"
   ]
  },
  {
   "cell_type": "code",
   "execution_count": null,
   "id": "ad40b12d-0795-4906-ac4f-eddfcf137bcd",
   "metadata": {
    "execution": {
     "iopub.execute_input": "2023-10-30T06:59:34.250097Z",
     "iopub.status.busy": "2023-10-30T06:59:34.249442Z",
     "iopub.status.idle": "2023-10-30T06:59:41.732906Z",
     "shell.execute_reply": "2023-10-30T06:59:41.731037Z",
     "shell.execute_reply.started": "2023-10-30T06:59:34.250038Z"
    },
    "tags": []
   },
   "outputs": [
    {
     "name": "stderr",
     "output_type": "stream",
     "text": [
      "<ipython-input-7-c380e1fc735c>:15: FutureWarning: In a future version of pandas all arguments of DataFrame.sort_index will be keyword-only.\n",
      "  k200_df=k200_df.sort_index(0)\n"
     ]
    }
   ],
   "source": [
    "sql_k200 = \" select 일자, 종목코드2 종목코드, 종목명_국문 종목명, 당일가격, 지수내비중, 상장주식수, 유동비율, \\\n",
    "            지수주식수, 지수시가총액 \\\n",
    "             from KASS1.TH068 \\\n",
    "             where 익일적용여부 ='NXT' \\\n",
    "             and ISIN = 'KRD020020016' \\\n",
    "             order by 지수내비중 desc \"\n",
    "\n",
    "cur.execute(sql_k200)\n",
    "k200_df = pd.DataFrame(cur.fetchall(), columns = [x[0] for x in cur.description])\n",
    "\n",
    "k200_df['일자']=pd.to_datetime(k200_df['일자'], format ='%Y%m%d')\n",
    "k200_df.set_index(['일자', '종목코드'], inplace=True)\n",
    "k200_df.index.names=['Dates', 'Symbol']\n",
    "k200_df.columns=['name', 'close', 'idx_weight', 'num_shares', 'float_rate', 'idx_num_shares', 'idx_cap']\n",
    "k200_df=k200_df.sort_index(0)"
   ]
  },
  {
   "cell_type": "code",
   "execution_count": null,
   "id": "2c5f4f85-c692-4490-971f-60d480ce7954",
   "metadata": {
    "tags": []
   },
   "outputs": [],
   "source": []
  },
  {
   "cell_type": "code",
   "execution_count": null,
   "id": "a307e1b5-7722-4299-a076-44b4b0edc861",
   "metadata": {
    "execution": {
     "iopub.execute_input": "2023-10-30T06:59:41.783506Z",
     "iopub.status.busy": "2023-10-30T06:59:41.783094Z",
     "iopub.status.idle": "2023-10-30T06:59:41.847467Z",
     "shell.execute_reply": "2023-10-30T06:59:41.846392Z",
     "shell.execute_reply.started": "2023-10-30T06:59:41.783466Z"
    },
    "tags": []
   },
   "outputs": [],
   "source": [
    "host = '192.168.1.27'\n",
    "port = '3306'\n",
    "db_name = 'quantdb_maria'\n",
    "username = 'quantdb'\n",
    "password = 'QuantDb2023!'\n",
    "\n",
    "engine = create_engine(\"mysql+pymysql://\" + username + \":\" + password + \"@\" + host + \":\" + port + \"/\" + db_name)\n",
    "conn=engine.connect()"
   ]
  },
  {
   "cell_type": "code",
   "execution_count": null,
   "id": "5b53e096-64c8-406e-9fe7-8b4272ed87b3",
   "metadata": {
    "execution": {
     "iopub.execute_input": "2023-10-30T06:59:41.850176Z",
     "iopub.status.busy": "2023-10-30T06:59:41.849188Z",
     "iopub.status.idle": "2023-10-30T06:59:41.855328Z",
     "shell.execute_reply": "2023-10-30T06:59:41.854055Z",
     "shell.execute_reply.started": "2023-10-30T06:59:41.850104Z"
    },
    "tags": []
   },
   "outputs": [],
   "source": [
    "period1='2023-01-01'\n",
    "period2='2023-10-31'"
   ]
  },
  {
   "cell_type": "code",
   "execution_count": null,
   "id": "d87bc7af-1ee0-46e6-91cd-eb43169569db",
   "metadata": {
    "execution": {
     "iopub.execute_input": "2023-10-30T06:59:41.860971Z",
     "iopub.status.busy": "2023-10-30T06:59:41.860255Z",
     "iopub.status.idle": "2023-10-30T06:59:55.320115Z",
     "shell.execute_reply": "2023-10-30T06:59:55.318966Z",
     "shell.execute_reply.started": "2023-10-30T06:59:41.860899Z"
    },
    "tags": []
   },
   "outputs": [],
   "source": [
    "query_SSC=f\"select * from SSC_table_Bak where Dates>='{period1}' and Dates<='{period2}'\"\n",
    "data_SSC=pd.read_sql(query_SSC, conn)"
   ]
  },
  {
   "cell_type": "code",
   "execution_count": null,
   "id": "a06df4ef-de65-428c-8204-469f19c1ff7a",
   "metadata": {
    "execution": {
     "iopub.execute_input": "2023-10-30T06:59:55.321831Z",
     "iopub.status.busy": "2023-10-30T06:59:55.321604Z",
     "iopub.status.idle": "2023-10-30T06:59:55.328270Z",
     "shell.execute_reply": "2023-10-30T06:59:55.327181Z",
     "shell.execute_reply.started": "2023-10-30T06:59:55.321810Z"
    },
    "tags": []
   },
   "outputs": [
    {
     "data": {
      "text/plain": [
       "Index(['Dates', 'Symbol', 'Name', 'MNGT', 'ClosePrc', 'OpenPrc', 'HighPrc',\n",
       "       'LowPrc', 'AdjPrc', 'AdjPrc2', 'AdjPrc_High_20D', 'AdjPrc_Low_20D',\n",
       "       'AdjPrc_High_60D', 'AdjPrc_Low_60D', 'AdjPrc_High_120D',\n",
       "       'AdjPrc_Low_120D', 'AdjPrc_High_52W', 'AdjPrc_Low_52W', 'ListedShares',\n",
       "       'ForeignStake', 'TradeStop', 'MktCap_Comm_Pref', 'MktCapCom', 'MktCap',\n",
       "       'Volume', 'Volume_Avg_20D', 'Volume_Avg_60D', 'Volume_Avg_120D',\n",
       "       'Volume_Avg_52W', 'Amt_Avg_20D', 'Amt_Avg_60D', 'Amt_Avg_120D',\n",
       "       'Amt_Avg_52W', 'Vol_20D', 'Vol_120D'],\n",
       "      dtype='object')"
      ]
     },
     "execution_count": 11,
     "metadata": {},
     "output_type": "execute_result"
    }
   ],
   "source": [
    "data_SSC.columns"
   ]
  },
  {
   "cell_type": "code",
   "execution_count": null,
   "id": "33be0b92-94d0-4810-bae9-a79abf8f1299",
   "metadata": {},
   "outputs": [],
   "source": []
  },
  {
   "cell_type": "code",
   "execution_count": null,
   "id": "dd83e259-6cca-4dfc-ab7e-a03da2d8d011",
   "metadata": {
    "execution": {
     "iopub.execute_input": "2023-10-30T06:59:55.330304Z",
     "iopub.status.busy": "2023-10-30T06:59:55.329804Z",
     "iopub.status.idle": "2023-10-30T07:00:02.748908Z",
     "shell.execute_reply": "2023-10-30T07:00:02.747727Z",
     "shell.execute_reply.started": "2023-10-30T06:59:55.330257Z"
    },
    "tags": []
   },
   "outputs": [],
   "source": [
    "query_COM=f\"select * from COM_table_Bak where Dates>='{period1}' and Dates<='{period2}'\"\n",
    "data_COM=pd.read_sql(query_COM, conn)"
   ]
  },
  {
   "cell_type": "code",
   "execution_count": null,
   "id": "55c7f65b-79f1-4c5a-ae1b-b32a561038e6",
   "metadata": {
    "execution": {
     "iopub.execute_input": "2023-10-30T07:00:02.751858Z",
     "iopub.status.busy": "2023-10-30T07:00:02.751257Z",
     "iopub.status.idle": "2023-10-30T07:00:02.811922Z",
     "shell.execute_reply": "2023-10-30T07:00:02.811084Z",
     "shell.execute_reply.started": "2023-10-30T07:00:02.751795Z"
    },
    "tags": []
   },
   "outputs": [],
   "source": [
    "data_COM.set_index(['Dates','Symbol'], inplace=True)"
   ]
  },
  {
   "cell_type": "code",
   "execution_count": null,
   "id": "231a03ff-0a56-4c26-8e24-364d07d77cb7",
   "metadata": {
    "execution": {
     "iopub.execute_input": "2023-10-30T07:00:02.813266Z",
     "iopub.status.busy": "2023-10-30T07:00:02.812961Z",
     "iopub.status.idle": "2023-10-30T07:00:02.818291Z",
     "shell.execute_reply": "2023-10-30T07:00:02.817520Z",
     "shell.execute_reply.started": "2023-10-30T07:00:02.813236Z"
    },
    "tags": []
   },
   "outputs": [
    {
     "data": {
      "text/plain": [
       "Index(['Name', 'KC_Industry', 'FG_IndustryGroup27', 'FG_Sector_Idx',\n",
       "       'FG_IndustryGroup_Idx', 'FG_Industry_Idx', 'AuditOpinion', 'Caution',\n",
       "       'KSECapSize', 'KLCAIndustry', 'Market', 'KOSPI200YN', 'FiscalMonth'],\n",
       "      dtype='object')"
      ]
     },
     "execution_count": 14,
     "metadata": {},
     "output_type": "execute_result"
    }
   ],
   "source": [
    "data_COM.columns"
   ]
  },
  {
   "cell_type": "code",
   "execution_count": null,
   "id": "10ce9fec-dcf9-4cad-83e1-8e0e2b11ebe7",
   "metadata": {
    "execution": {
     "iopub.execute_input": "2023-10-30T07:00:02.819530Z",
     "iopub.status.busy": "2023-10-30T07:00:02.819248Z",
     "iopub.status.idle": "2023-10-30T07:00:02.924693Z",
     "shell.execute_reply": "2023-10-30T07:00:02.923599Z",
     "shell.execute_reply.started": "2023-10-30T07:00:02.819502Z"
    },
    "tags": []
   },
   "outputs": [],
   "source": [
    "k200comp=data_COM['KOSPI200YN'].unstack()"
   ]
  },
  {
   "cell_type": "code",
   "execution_count": null,
   "id": "1b4f51a6-f24a-4d9b-9c09-278c6936ab10",
   "metadata": {
    "tags": []
   },
   "outputs": [],
   "source": []
  },
  {
   "cell_type": "code",
   "execution_count": 102,
   "id": "49cd8447-1a15-4dad-a568-df8b8026a843",
   "metadata": {
    "execution": {
     "iopub.execute_input": "2023-11-08T06:05:05.693775Z",
     "iopub.status.busy": "2023-11-08T06:05:05.693159Z",
     "iopub.status.idle": "2023-11-08T06:05:06.263338Z",
     "shell.execute_reply": "2023-11-08T06:05:06.262329Z",
     "shell.execute_reply.started": "2023-11-08T06:05:05.693721Z"
    },
    "tags": []
   },
   "outputs": [],
   "source": [
    "query_idx=f\"select * from krx_idx\"\n",
    "krx_idx=pd.read_sql(query_idx, conn)"
   ]
  },
  {
   "cell_type": "code",
   "execution_count": 103,
   "id": "7ec858ac-38e5-456f-9553-e3b947602921",
   "metadata": {
    "execution": {
     "iopub.execute_input": "2023-11-08T06:05:06.333331Z",
     "iopub.status.busy": "2023-11-08T06:05:06.333087Z",
     "iopub.status.idle": "2023-11-08T06:05:06.338361Z",
     "shell.execute_reply": "2023-11-08T06:05:06.337545Z",
     "shell.execute_reply.started": "2023-11-08T06:05:06.333307Z"
    },
    "tags": []
   },
   "outputs": [
    {
     "data": {
      "text/plain": [
       "Index(['Symbol Name', '코스피', '코스피 200', '코스피 100', '코스피 50', '코스닥 150', '코스닥',\n",
       "       '코스피 200 동일가중', '코스피 대형주', '코스피 중형주', '코스피 소형주', '코스피 음식료품',\n",
       "       '코스피 섬유,의복', '코스피 종이,목재', '코스피 화학', '코스피 의약품', '코스피 비금속광물', '코스피 철강및금속',\n",
       "       '코스피 기계', '코스피 전기,전자', '코스피 의료정밀', '코스피 운수장비', '코스피 유통업', '코스피 전기가스업',\n",
       "       '코스피 건설업', '코스피 운수창고', '코스피 통신업', '코스피 금융업', '코스피 증권', '코스피 보험',\n",
       "       '코스피 서비스업', '코스피 제조업', '코스피 고배당 50 TR', '코스피 배당성장 50 TR', '코스피 우선주지수',\n",
       "       '코스피 200 총수익지수', '코스피 200 중소형주', '코스피 200 건설 TR', '코스피 200 중공업 TR',\n",
       "       '코스피 200 철강소재 TR', '코스피 200 에너지화학 TR', '코스피 200 정보기술 TR',\n",
       "       '코스피 200 금융 TR', '코스피 200 생활소비재 TR', '코스피 200 경기소비재 TR',\n",
       "       '코스피 200 산업재 TR', '코스피 200 헬스케어 TR', '코스피 200 커뮤니케이션서비스 TR',\n",
       "       '코스피 200 ESG 지수'],\n",
       "      dtype='object')"
      ]
     },
     "execution_count": 103,
     "metadata": {},
     "output_type": "execute_result"
    }
   ],
   "source": [
    "krx_idx.columns"
   ]
  },
  {
   "cell_type": "code",
   "execution_count": 104,
   "id": "ebf2bdec-e669-4f7f-8be5-016ec09524c0",
   "metadata": {
    "execution": {
     "iopub.execute_input": "2023-11-08T06:05:06.339704Z",
     "iopub.status.busy": "2023-11-08T06:05:06.339466Z",
     "iopub.status.idle": "2023-11-08T06:05:06.358634Z",
     "shell.execute_reply": "2023-11-08T06:05:06.357579Z",
     "shell.execute_reply.started": "2023-11-08T06:05:06.339680Z"
    },
    "tags": []
   },
   "outputs": [],
   "source": [
    "krx_idx.set_index('Symbol Name', inplace=True)"
   ]
  },
  {
   "cell_type": "code",
   "execution_count": 105,
   "id": "d15a4151-2bcc-4c51-8ddd-0046f805592b",
   "metadata": {
    "execution": {
     "iopub.execute_input": "2023-11-08T06:05:06.637795Z",
     "iopub.status.busy": "2023-11-08T06:05:06.637258Z",
     "iopub.status.idle": "2023-11-08T06:05:06.644661Z",
     "shell.execute_reply": "2023-11-08T06:05:06.643467Z",
     "shell.execute_reply.started": "2023-11-08T06:05:06.637739Z"
    },
    "tags": []
   },
   "outputs": [],
   "source": [
    "krx_idx=krx_idx.loc[:period2]"
   ]
  },
  {
   "cell_type": "code",
   "execution_count": 106,
   "id": "32705ab3-f204-45cc-8959-dfe06257baa6",
   "metadata": {
    "execution": {
     "iopub.execute_input": "2023-11-08T06:05:07.692793Z",
     "iopub.status.busy": "2023-11-08T06:05:07.692214Z",
     "iopub.status.idle": "2023-11-08T06:05:07.701102Z",
     "shell.execute_reply": "2023-11-08T06:05:07.700017Z",
     "shell.execute_reply.started": "2023-11-08T06:05:07.692742Z"
    },
    "tags": []
   },
   "outputs": [],
   "source": [
    "bm_ret=krx_idx[['코스피 200', '코스피 200 동일가중']].pct_change()"
   ]
  },
  {
   "cell_type": "code",
   "execution_count": null,
   "id": "ba3a8f32-1781-4ebd-bb32-fd86d277c987",
   "metadata": {},
   "outputs": [],
   "source": []
  },
  {
   "cell_type": "code",
   "execution_count": 107,
   "id": "e642c5ff-2b62-43f3-a3b6-45ce98c9aac0",
   "metadata": {
    "execution": {
     "iopub.execute_input": "2023-11-08T06:05:08.639008Z",
     "iopub.status.busy": "2023-11-08T06:05:08.638447Z",
     "iopub.status.idle": "2023-11-08T06:05:08.711777Z",
     "shell.execute_reply": "2023-11-08T06:05:08.710614Z",
     "shell.execute_reply.started": "2023-11-08T06:05:08.638957Z"
    },
    "tags": []
   },
   "outputs": [
    {
     "ename": "KeyError",
     "evalue": "\"None of ['Dates', 'Symbol'] are in the columns\"",
     "output_type": "error",
     "traceback": [
      "\u001b[0;31m\u001b[0m",
      "\u001b[0;31mKeyError\u001b[0mTraceback (most recent call last)",
      "Cell \u001b[0;32mIn[107], line 1\u001b[0m\n\u001b[0;32m----> 1\u001b[0m \u001b[43mdata_SSC\u001b[49m\u001b[38;5;241;43m.\u001b[39;49m\u001b[43mset_index\u001b[49m\u001b[43m(\u001b[49m\u001b[43m[\u001b[49m\u001b[38;5;124;43m'\u001b[39;49m\u001b[38;5;124;43mDates\u001b[39;49m\u001b[38;5;124;43m'\u001b[39;49m\u001b[43m,\u001b[49m\u001b[43m \u001b[49m\u001b[38;5;124;43m'\u001b[39;49m\u001b[38;5;124;43mSymbol\u001b[39;49m\u001b[38;5;124;43m'\u001b[39;49m\u001b[43m]\u001b[49m\u001b[43m,\u001b[49m\u001b[43m \u001b[49m\u001b[43minplace\u001b[49m\u001b[38;5;241;43m=\u001b[39;49m\u001b[38;5;28;43;01mTrue\u001b[39;49;00m\u001b[43m)\u001b[49m\n",
      "File \u001b[0;32m/opt/miniconda3/lib/python3.9/site-packages/pandas/util/_decorators.py:331\u001b[0m, in \u001b[0;36mdeprecate_nonkeyword_arguments.<locals>.decorate.<locals>.wrapper\u001b[0;34m(*args, **kwargs)\u001b[0m\n\u001b[1;32m    325\u001b[0m \u001b[38;5;28;01mif\u001b[39;00m \u001b[38;5;28mlen\u001b[39m(args) \u001b[38;5;241m>\u001b[39m num_allow_args:\n\u001b[1;32m    326\u001b[0m     warnings\u001b[38;5;241m.\u001b[39mwarn(\n\u001b[1;32m    327\u001b[0m         msg\u001b[38;5;241m.\u001b[39mformat(arguments\u001b[38;5;241m=\u001b[39m_format_argument_list(allow_args)),\n\u001b[1;32m    328\u001b[0m         \u001b[38;5;167;01mFutureWarning\u001b[39;00m,\n\u001b[1;32m    329\u001b[0m         stacklevel\u001b[38;5;241m=\u001b[39mfind_stack_level(),\n\u001b[1;32m    330\u001b[0m     )\n\u001b[0;32m--> 331\u001b[0m \u001b[38;5;28;01mreturn\u001b[39;00m \u001b[43mfunc\u001b[49m\u001b[43m(\u001b[49m\u001b[38;5;241;43m*\u001b[39;49m\u001b[43margs\u001b[49m\u001b[43m,\u001b[49m\u001b[43m \u001b[49m\u001b[38;5;241;43m*\u001b[39;49m\u001b[38;5;241;43m*\u001b[39;49m\u001b[43mkwargs\u001b[49m\u001b[43m)\u001b[49m\n",
      "File \u001b[0;32m/opt/miniconda3/lib/python3.9/site-packages/pandas/core/frame.py:6009\u001b[0m, in \u001b[0;36mDataFrame.set_index\u001b[0;34m(self, keys, drop, append, inplace, verify_integrity)\u001b[0m\n\u001b[1;32m   6006\u001b[0m                 missing\u001b[38;5;241m.\u001b[39mappend(col)\n\u001b[1;32m   6008\u001b[0m \u001b[38;5;28;01mif\u001b[39;00m missing:\n\u001b[0;32m-> 6009\u001b[0m     \u001b[38;5;28;01mraise\u001b[39;00m \u001b[38;5;167;01mKeyError\u001b[39;00m(\u001b[38;5;124mf\u001b[39m\u001b[38;5;124m\"\u001b[39m\u001b[38;5;124mNone of \u001b[39m\u001b[38;5;132;01m{\u001b[39;00mmissing\u001b[38;5;132;01m}\u001b[39;00m\u001b[38;5;124m are in the columns\u001b[39m\u001b[38;5;124m\"\u001b[39m)\n\u001b[1;32m   6011\u001b[0m \u001b[38;5;28;01mif\u001b[39;00m inplace:\n\u001b[1;32m   6012\u001b[0m     frame \u001b[38;5;241m=\u001b[39m \u001b[38;5;28mself\u001b[39m\n",
      "\u001b[0;31mKeyError\u001b[0m: \"None of ['Dates', 'Symbol'] are in the columns\""
     ]
    }
   ],
   "source": [
    "data_SSC.set_index(['Dates', 'Symbol'], inplace=True)"
   ]
  },
  {
   "cell_type": "code",
   "execution_count": 100,
   "id": "b9225eed-b8f4-4982-bf8a-aa2faa65c22a",
   "metadata": {
    "execution": {
     "iopub.execute_input": "2023-11-08T06:05:01.891472Z",
     "iopub.status.busy": "2023-11-08T06:05:01.891059Z",
     "iopub.status.idle": "2023-11-08T06:05:01.895566Z",
     "shell.execute_reply": "2023-11-08T06:05:01.894524Z",
     "shell.execute_reply.started": "2023-11-08T06:05:01.891431Z"
    },
    "tags": []
   },
   "outputs": [],
   "source": [
    "prc=data_SSC['AdjPrc']"
   ]
  },
  {
   "cell_type": "code",
   "execution_count": 101,
   "id": "8ae43706-a747-43d5-ad68-87c82738cd3d",
   "metadata": {
    "execution": {
     "iopub.execute_input": "2023-11-08T06:05:02.092109Z",
     "iopub.status.busy": "2023-11-08T06:05:02.091605Z",
     "iopub.status.idle": "2023-11-08T06:05:02.242718Z",
     "shell.execute_reply": "2023-11-08T06:05:02.241657Z",
     "shell.execute_reply.started": "2023-11-08T06:05:02.092059Z"
    },
    "tags": []
   },
   "outputs": [],
   "source": [
    "prc=prc.unstack()"
   ]
  },
  {
   "cell_type": "code",
   "execution_count": null,
   "id": "2acce785-a59f-4fec-9f48-246543a9b492",
   "metadata": {
    "execution": {
     "iopub.execute_input": "2023-10-30T07:00:03.728518Z",
     "iopub.status.busy": "2023-10-30T07:00:03.728224Z",
     "iopub.status.idle": "2023-10-30T07:00:03.781357Z",
     "shell.execute_reply": "2023-10-30T07:00:03.780539Z",
     "shell.execute_reply.started": "2023-10-30T07:00:03.728490Z"
    },
    "tags": []
   },
   "outputs": [],
   "source": [
    "prc"
   ]
  },
  {
   "cell_type": "code",
   "execution_count": null,
   "id": "286f6f79-4e6c-4f5d-b239-aec91ea599f8",
   "metadata": {
    "execution": {
     "iopub.execute_input": "2023-10-30T07:00:03.786158Z",
     "iopub.status.busy": "2023-10-30T07:00:03.785815Z",
     "iopub.status.idle": "2023-10-30T07:00:03.791332Z",
     "shell.execute_reply": "2023-10-30T07:00:03.790392Z",
     "shell.execute_reply.started": "2023-10-30T07:00:03.786125Z"
    },
    "tags": []
   },
   "outputs": [
    {
     "data": {
      "text/plain": [
       "(204, 1198)"
      ]
     },
     "execution_count": 30,
     "metadata": {},
     "output_type": "execute_result"
    }
   ],
   "source": [
    "prc.shape"
   ]
  },
  {
   "cell_type": "code",
   "execution_count": 90,
   "id": "605ba5f1-e5b6-426a-a2e4-4bfd95f2b174",
   "metadata": {
    "execution": {
     "iopub.execute_input": "2023-11-08T05:47:50.340260Z",
     "iopub.status.busy": "2023-11-08T05:47:50.339639Z",
     "iopub.status.idle": "2023-11-08T05:47:50.350689Z",
     "shell.execute_reply": "2023-11-08T05:47:50.349496Z",
     "shell.execute_reply.started": "2023-11-08T05:47:50.340205Z"
    },
    "tags": []
   },
   "outputs": [
    {
     "data": {
      "text/plain": [
       "Symbol\n",
       "A000010    float64\n",
       "A000020    float64\n",
       "A000030    float64\n",
       "A000040    float64\n",
       "A000050    float64\n",
       "            ...   \n",
       "A900140    float64\n",
       "A950010    float64\n",
       "A950070    float64\n",
       "A950100    float64\n",
       "A950210    float64\n",
       "Length: 1198, dtype: object"
      ]
     },
     "execution_count": 90,
     "metadata": {},
     "output_type": "execute_result"
    }
   ],
   "source": [
    "prc.dtypes"
   ]
  },
  {
   "cell_type": "code",
   "execution_count": null,
   "id": "26987607-5bec-4f3a-9984-9f5c0069b856",
   "metadata": {
    "execution": {
     "iopub.execute_input": "2023-10-30T07:00:04.065288Z",
     "iopub.status.busy": "2023-10-30T07:00:04.065016Z",
     "iopub.status.idle": "2023-10-30T07:00:04.071603Z",
     "shell.execute_reply": "2023-10-30T07:00:04.070883Z",
     "shell.execute_reply.started": "2023-10-30T07:00:04.065264Z"
    },
    "tags": []
   },
   "outputs": [],
   "source": [
    "ret=prc.pct_change()"
   ]
  },
  {
   "cell_type": "code",
   "execution_count": null,
   "id": "0a55f6d4-2b0b-4ad4-b9b8-a1c711176581",
   "metadata": {
    "tags": []
   },
   "outputs": [],
   "source": []
  },
  {
   "cell_type": "code",
   "execution_count": 39,
   "id": "7dbd260b-eea5-402a-ae41-0c531e64592c",
   "metadata": {
    "execution": {
     "iopub.execute_input": "2023-11-08T05:26:27.351476Z",
     "iopub.status.busy": "2023-11-08T05:26:27.350886Z",
     "iopub.status.idle": "2023-11-08T05:26:27.356688Z",
     "shell.execute_reply": "2023-11-08T05:26:27.355576Z",
     "shell.execute_reply.started": "2023-11-08T05:26:27.351422Z"
    },
    "tags": []
   },
   "outputs": [],
   "source": [
    "eom=['2023-02-28', '2023-03-31', '2023-04-28', '2023-05-31', '2023-06-30', \n",
    "     '2023-07-31', '2023-08-31', '2023-09-27', '2023-10-31']"
   ]
  },
  {
   "cell_type": "code",
   "execution_count": null,
   "id": "59a9629b-a9ec-4ab5-ad46-91e2cbe1df27",
   "metadata": {},
   "outputs": [],
   "source": []
  },
  {
   "cell_type": "code",
   "execution_count": 49,
   "id": "2bb50e27-99f8-415e-87b6-01fa17d7fc2d",
   "metadata": {
    "execution": {
     "iopub.execute_input": "2023-11-08T05:46:54.926495Z",
     "iopub.status.busy": "2023-11-08T05:46:54.925900Z",
     "iopub.status.idle": "2023-11-08T05:46:55.023654Z",
     "shell.execute_reply": "2023-11-08T05:46:55.022820Z",
     "shell.execute_reply.started": "2023-11-08T05:46:54.926440Z"
    },
    "tags": []
   },
   "outputs": [],
   "source": [
    "data_path='../data/output/weight/'\n",
    "mlq_w=pd.read_excel(data_path + 'monthly_port.xlsx', index_col=0)"
   ]
  },
  {
   "cell_type": "code",
   "execution_count": 50,
   "id": "3bd79ac5-cd49-48ce-8299-3b18981236a0",
   "metadata": {
    "execution": {
     "iopub.execute_input": "2023-11-08T05:46:55.402298Z",
     "iopub.status.busy": "2023-11-08T05:46:55.401780Z",
     "iopub.status.idle": "2023-11-08T05:46:55.421963Z",
     "shell.execute_reply": "2023-11-08T05:46:55.420790Z",
     "shell.execute_reply.started": "2023-11-08T05:46:55.402245Z"
    },
    "tags": []
   },
   "outputs": [
    {
     "data": {
      "text/html": [
       "<div>\n",
       "<style scoped>\n",
       "    .dataframe tbody tr th:only-of-type {\n",
       "        vertical-align: middle;\n",
       "    }\n",
       "\n",
       "    .dataframe tbody tr th {\n",
       "        vertical-align: top;\n",
       "    }\n",
       "\n",
       "    .dataframe thead th {\n",
       "        text-align: right;\n",
       "    }\n",
       "</style>\n",
       "<table border=\"1\" class=\"dataframe\">\n",
       "  <thead>\n",
       "    <tr style=\"text-align: right;\">\n",
       "      <th></th>\n",
       "      <th>code</th>\n",
       "      <th>weights</th>\n",
       "      <th>name</th>\n",
       "    </tr>\n",
       "    <tr>\n",
       "      <th>dates</th>\n",
       "      <th></th>\n",
       "      <th></th>\n",
       "      <th></th>\n",
       "    </tr>\n",
       "  </thead>\n",
       "  <tbody>\n",
       "    <tr>\n",
       "      <th>2023-02-28</th>\n",
       "      <td>A001040</td>\n",
       "      <td>0.009461</td>\n",
       "      <td>CJ</td>\n",
       "    </tr>\n",
       "    <tr>\n",
       "      <th>2023-02-28</th>\n",
       "      <td>A096770</td>\n",
       "      <td>0.009461</td>\n",
       "      <td>SK이노베이션</td>\n",
       "    </tr>\n",
       "    <tr>\n",
       "      <th>2023-02-28</th>\n",
       "      <td>A006260</td>\n",
       "      <td>0.009461</td>\n",
       "      <td>LS</td>\n",
       "    </tr>\n",
       "    <tr>\n",
       "      <th>2023-02-28</th>\n",
       "      <td>A011790</td>\n",
       "      <td>0.009461</td>\n",
       "      <td>SKC</td>\n",
       "    </tr>\n",
       "    <tr>\n",
       "      <th>2023-02-28</th>\n",
       "      <td>A016380</td>\n",
       "      <td>0.009461</td>\n",
       "      <td>KG스틸</td>\n",
       "    </tr>\n",
       "    <tr>\n",
       "      <th>...</th>\n",
       "      <td>...</td>\n",
       "      <td>...</td>\n",
       "      <td>...</td>\n",
       "    </tr>\n",
       "    <tr>\n",
       "      <th>2023-10-31</th>\n",
       "      <td>A006800</td>\n",
       "      <td>0.009396</td>\n",
       "      <td>미래에셋증권</td>\n",
       "    </tr>\n",
       "    <tr>\n",
       "      <th>2023-10-31</th>\n",
       "      <td>A086280</td>\n",
       "      <td>0.009396</td>\n",
       "      <td>현대글로비스</td>\n",
       "    </tr>\n",
       "    <tr>\n",
       "      <th>2023-10-31</th>\n",
       "      <td>A178920</td>\n",
       "      <td>0.009396</td>\n",
       "      <td>PI첨단소재</td>\n",
       "    </tr>\n",
       "    <tr>\n",
       "      <th>2023-10-31</th>\n",
       "      <td>A120110</td>\n",
       "      <td>0.009396</td>\n",
       "      <td>코오롱인더</td>\n",
       "    </tr>\n",
       "    <tr>\n",
       "      <th>2023-10-31</th>\n",
       "      <td>A005930</td>\n",
       "      <td>0.304700</td>\n",
       "      <td>삼성전자</td>\n",
       "    </tr>\n",
       "  </tbody>\n",
       "</table>\n",
       "<p>664 rows × 3 columns</p>\n",
       "</div>"
      ],
      "text/plain": [
       "               code   weights     name\n",
       "dates                                 \n",
       "2023-02-28  A001040  0.009461       CJ\n",
       "2023-02-28  A096770  0.009461  SK이노베이션\n",
       "2023-02-28  A006260  0.009461       LS\n",
       "2023-02-28  A011790  0.009461      SKC\n",
       "2023-02-28  A016380  0.009461     KG스틸\n",
       "...             ...       ...      ...\n",
       "2023-10-31  A006800  0.009396   미래에셋증권\n",
       "2023-10-31  A086280  0.009396   현대글로비스\n",
       "2023-10-31  A178920  0.009396   PI첨단소재\n",
       "2023-10-31  A120110  0.009396    코오롱인더\n",
       "2023-10-31  A005930  0.304700     삼성전자\n",
       "\n",
       "[664 rows x 3 columns]"
      ]
     },
     "execution_count": 50,
     "metadata": {},
     "output_type": "execute_result"
    }
   ],
   "source": [
    "mlq_w"
   ]
  },
  {
   "cell_type": "code",
   "execution_count": 51,
   "id": "243df469-1dd7-446c-9c8f-5174f7ef97dd",
   "metadata": {
    "execution": {
     "iopub.execute_input": "2023-11-08T05:46:57.075500Z",
     "iopub.status.busy": "2023-11-08T05:46:57.074887Z",
     "iopub.status.idle": "2023-11-08T05:46:57.082885Z",
     "shell.execute_reply": "2023-11-08T05:46:57.081316Z",
     "shell.execute_reply.started": "2023-11-08T05:46:57.075445Z"
    },
    "tags": []
   },
   "outputs": [],
   "source": [
    "mlq_w=mlq_w[mlq_w.index.isin(eom)]"
   ]
  },
  {
   "cell_type": "code",
   "execution_count": null,
   "id": "e9da02cc-656e-4ba0-90d7-e6edc01900ed",
   "metadata": {
    "tags": []
   },
   "outputs": [],
   "source": []
  },
  {
   "cell_type": "code",
   "execution_count": 52,
   "id": "99bca599-21cd-4b01-95ff-ea5cc22769fb",
   "metadata": {
    "execution": {
     "iopub.execute_input": "2023-11-08T05:46:58.115338Z",
     "iopub.status.busy": "2023-11-08T05:46:58.114739Z",
     "iopub.status.idle": "2023-11-08T05:46:58.138596Z",
     "shell.execute_reply": "2023-11-08T05:46:58.137401Z",
     "shell.execute_reply.started": "2023-11-08T05:46:58.115283Z"
    },
    "tags": []
   },
   "outputs": [],
   "source": [
    "mlq_w=mlq_w[['code', 'weights']].pivot_table(index='dates', columns='code')"
   ]
  },
  {
   "cell_type": "code",
   "execution_count": null,
   "id": "745d0991-a4c8-4a19-b835-39c9dbf66c4f",
   "metadata": {
    "tags": []
   },
   "outputs": [],
   "source": []
  },
  {
   "cell_type": "code",
   "execution_count": 53,
   "id": "9675ef23-33a7-4fee-a3a1-3cd6e039b1d3",
   "metadata": {
    "execution": {
     "iopub.execute_input": "2023-11-08T05:46:58.850880Z",
     "iopub.status.busy": "2023-11-08T05:46:58.850319Z",
     "iopub.status.idle": "2023-11-08T05:46:58.858312Z",
     "shell.execute_reply": "2023-11-08T05:46:58.856770Z",
     "shell.execute_reply.started": "2023-11-08T05:46:58.850826Z"
    },
    "tags": []
   },
   "outputs": [],
   "source": [
    "mlq_w.reset_index(inplace=True)\n"
   ]
  },
  {
   "cell_type": "code",
   "execution_count": 54,
   "id": "e1d8a83b-f00b-4116-b65b-416ad849ede4",
   "metadata": {
    "execution": {
     "iopub.execute_input": "2023-11-08T05:46:59.332040Z",
     "iopub.status.busy": "2023-11-08T05:46:59.331489Z",
     "iopub.status.idle": "2023-11-08T05:46:59.339763Z",
     "shell.execute_reply": "2023-11-08T05:46:59.338305Z",
     "shell.execute_reply.started": "2023-11-08T05:46:59.331988Z"
    },
    "tags": []
   },
   "outputs": [
    {
     "data": {
      "text/plain": [
       "['2023-02-28',\n",
       " '2023-03-31',\n",
       " '2023-04-28',\n",
       " '2023-05-31',\n",
       " '2023-06-30',\n",
       " '2023-07-31',\n",
       " '2023-08-31',\n",
       " '2023-09-27',\n",
       " '2023-10-31']"
      ]
     },
     "execution_count": 54,
     "metadata": {},
     "output_type": "execute_result"
    }
   ],
   "source": [
    "eom"
   ]
  },
  {
   "cell_type": "code",
   "execution_count": 55,
   "id": "b62ff34f-1537-480a-b5a4-08b06e69831d",
   "metadata": {
    "execution": {
     "iopub.execute_input": "2023-11-08T05:46:59.910773Z",
     "iopub.status.busy": "2023-11-08T05:46:59.910265Z",
     "iopub.status.idle": "2023-11-08T05:46:59.960921Z",
     "shell.execute_reply": "2023-11-08T05:46:59.959974Z",
     "shell.execute_reply.started": "2023-11-08T05:46:59.910723Z"
    },
    "tags": []
   },
   "outputs": [
    {
     "data": {
      "text/html": [
       "<div>\n",
       "<style scoped>\n",
       "    .dataframe tbody tr th:only-of-type {\n",
       "        vertical-align: middle;\n",
       "    }\n",
       "\n",
       "    .dataframe tbody tr th {\n",
       "        vertical-align: top;\n",
       "    }\n",
       "\n",
       "    .dataframe thead tr th {\n",
       "        text-align: left;\n",
       "    }\n",
       "</style>\n",
       "<table border=\"1\" class=\"dataframe\">\n",
       "  <thead>\n",
       "    <tr>\n",
       "      <th></th>\n",
       "      <th>dates</th>\n",
       "      <th colspan=\"20\" halign=\"left\">weights</th>\n",
       "    </tr>\n",
       "    <tr>\n",
       "      <th>code</th>\n",
       "      <th></th>\n",
       "      <th>A000080</th>\n",
       "      <th>A000120</th>\n",
       "      <th>A000150</th>\n",
       "      <th>A000210</th>\n",
       "      <th>A000240</th>\n",
       "      <th>A000270</th>\n",
       "      <th>A000660</th>\n",
       "      <th>A000670</th>\n",
       "      <th>A000720</th>\n",
       "      <th>...</th>\n",
       "      <th>A323410</th>\n",
       "      <th>A326030</th>\n",
       "      <th>A329180</th>\n",
       "      <th>A336260</th>\n",
       "      <th>A352820</th>\n",
       "      <th>A373220</th>\n",
       "      <th>A375500</th>\n",
       "      <th>A381970</th>\n",
       "      <th>A383220</th>\n",
       "      <th>A402340</th>\n",
       "    </tr>\n",
       "  </thead>\n",
       "  <tbody>\n",
       "    <tr>\n",
       "      <th>0</th>\n",
       "      <td>2023-02-28</td>\n",
       "      <td>NaN</td>\n",
       "      <td>0.009461</td>\n",
       "      <td>0.009461</td>\n",
       "      <td>NaN</td>\n",
       "      <td>NaN</td>\n",
       "      <td>NaN</td>\n",
       "      <td>NaN</td>\n",
       "      <td>NaN</td>\n",
       "      <td>0.009461</td>\n",
       "      <td>...</td>\n",
       "      <td>NaN</td>\n",
       "      <td>0.009461</td>\n",
       "      <td>0.009461</td>\n",
       "      <td>0.009461</td>\n",
       "      <td>NaN</td>\n",
       "      <td>NaN</td>\n",
       "      <td>NaN</td>\n",
       "      <td>NaN</td>\n",
       "      <td>NaN</td>\n",
       "      <td>NaN</td>\n",
       "    </tr>\n",
       "    <tr>\n",
       "      <th>1</th>\n",
       "      <td>2023-03-31</td>\n",
       "      <td>NaN</td>\n",
       "      <td>NaN</td>\n",
       "      <td>NaN</td>\n",
       "      <td>NaN</td>\n",
       "      <td>NaN</td>\n",
       "      <td>0.011639</td>\n",
       "      <td>0.011639</td>\n",
       "      <td>NaN</td>\n",
       "      <td>NaN</td>\n",
       "      <td>...</td>\n",
       "      <td>NaN</td>\n",
       "      <td>NaN</td>\n",
       "      <td>NaN</td>\n",
       "      <td>NaN</td>\n",
       "      <td>NaN</td>\n",
       "      <td>NaN</td>\n",
       "      <td>NaN</td>\n",
       "      <td>NaN</td>\n",
       "      <td>NaN</td>\n",
       "      <td>NaN</td>\n",
       "    </tr>\n",
       "    <tr>\n",
       "      <th>2</th>\n",
       "      <td>2023-04-28</td>\n",
       "      <td>NaN</td>\n",
       "      <td>NaN</td>\n",
       "      <td>0.009329</td>\n",
       "      <td>NaN</td>\n",
       "      <td>NaN</td>\n",
       "      <td>NaN</td>\n",
       "      <td>0.009329</td>\n",
       "      <td>0.009329</td>\n",
       "      <td>NaN</td>\n",
       "      <td>...</td>\n",
       "      <td>0.009329</td>\n",
       "      <td>0.009329</td>\n",
       "      <td>0.009329</td>\n",
       "      <td>0.009329</td>\n",
       "      <td>NaN</td>\n",
       "      <td>NaN</td>\n",
       "      <td>NaN</td>\n",
       "      <td>NaN</td>\n",
       "      <td>NaN</td>\n",
       "      <td>NaN</td>\n",
       "    </tr>\n",
       "    <tr>\n",
       "      <th>3</th>\n",
       "      <td>2023-05-31</td>\n",
       "      <td>NaN</td>\n",
       "      <td>NaN</td>\n",
       "      <td>NaN</td>\n",
       "      <td>NaN</td>\n",
       "      <td>NaN</td>\n",
       "      <td>NaN</td>\n",
       "      <td>NaN</td>\n",
       "      <td>0.009372</td>\n",
       "      <td>NaN</td>\n",
       "      <td>...</td>\n",
       "      <td>NaN</td>\n",
       "      <td>0.009372</td>\n",
       "      <td>0.009372</td>\n",
       "      <td>0.009372</td>\n",
       "      <td>NaN</td>\n",
       "      <td>NaN</td>\n",
       "      <td>NaN</td>\n",
       "      <td>NaN</td>\n",
       "      <td>NaN</td>\n",
       "      <td>NaN</td>\n",
       "    </tr>\n",
       "    <tr>\n",
       "      <th>4</th>\n",
       "      <td>2023-06-30</td>\n",
       "      <td>NaN</td>\n",
       "      <td>NaN</td>\n",
       "      <td>0.009192</td>\n",
       "      <td>NaN</td>\n",
       "      <td>NaN</td>\n",
       "      <td>0.009192</td>\n",
       "      <td>NaN</td>\n",
       "      <td>0.009192</td>\n",
       "      <td>NaN</td>\n",
       "      <td>...</td>\n",
       "      <td>0.009192</td>\n",
       "      <td>0.009192</td>\n",
       "      <td>0.009192</td>\n",
       "      <td>NaN</td>\n",
       "      <td>NaN</td>\n",
       "      <td>NaN</td>\n",
       "      <td>NaN</td>\n",
       "      <td>NaN</td>\n",
       "      <td>NaN</td>\n",
       "      <td>NaN</td>\n",
       "    </tr>\n",
       "    <tr>\n",
       "      <th>5</th>\n",
       "      <td>2023-07-31</td>\n",
       "      <td>NaN</td>\n",
       "      <td>0.009419</td>\n",
       "      <td>NaN</td>\n",
       "      <td>NaN</td>\n",
       "      <td>NaN</td>\n",
       "      <td>NaN</td>\n",
       "      <td>0.009419</td>\n",
       "      <td>0.009419</td>\n",
       "      <td>NaN</td>\n",
       "      <td>...</td>\n",
       "      <td>0.009419</td>\n",
       "      <td>0.009419</td>\n",
       "      <td>0.009419</td>\n",
       "      <td>NaN</td>\n",
       "      <td>0.009419</td>\n",
       "      <td>0.009419</td>\n",
       "      <td>NaN</td>\n",
       "      <td>NaN</td>\n",
       "      <td>NaN</td>\n",
       "      <td>0.009419</td>\n",
       "    </tr>\n",
       "    <tr>\n",
       "      <th>6</th>\n",
       "      <td>2023-08-31</td>\n",
       "      <td>0.009463</td>\n",
       "      <td>0.009463</td>\n",
       "      <td>NaN</td>\n",
       "      <td>0.009463</td>\n",
       "      <td>0.009463</td>\n",
       "      <td>0.009463</td>\n",
       "      <td>NaN</td>\n",
       "      <td>NaN</td>\n",
       "      <td>NaN</td>\n",
       "      <td>...</td>\n",
       "      <td>NaN</td>\n",
       "      <td>NaN</td>\n",
       "      <td>NaN</td>\n",
       "      <td>NaN</td>\n",
       "      <td>NaN</td>\n",
       "      <td>NaN</td>\n",
       "      <td>0.009463</td>\n",
       "      <td>NaN</td>\n",
       "      <td>0.009463</td>\n",
       "      <td>NaN</td>\n",
       "    </tr>\n",
       "    <tr>\n",
       "      <th>7</th>\n",
       "      <td>2023-09-27</td>\n",
       "      <td>0.009396</td>\n",
       "      <td>0.009396</td>\n",
       "      <td>NaN</td>\n",
       "      <td>0.009396</td>\n",
       "      <td>0.009396</td>\n",
       "      <td>0.009396</td>\n",
       "      <td>NaN</td>\n",
       "      <td>NaN</td>\n",
       "      <td>NaN</td>\n",
       "      <td>...</td>\n",
       "      <td>NaN</td>\n",
       "      <td>NaN</td>\n",
       "      <td>NaN</td>\n",
       "      <td>NaN</td>\n",
       "      <td>NaN</td>\n",
       "      <td>NaN</td>\n",
       "      <td>0.009396</td>\n",
       "      <td>0.009396</td>\n",
       "      <td>0.009396</td>\n",
       "      <td>NaN</td>\n",
       "    </tr>\n",
       "    <tr>\n",
       "      <th>8</th>\n",
       "      <td>2023-10-31</td>\n",
       "      <td>0.009396</td>\n",
       "      <td>0.009396</td>\n",
       "      <td>0.009396</td>\n",
       "      <td>0.009396</td>\n",
       "      <td>0.009396</td>\n",
       "      <td>NaN</td>\n",
       "      <td>NaN</td>\n",
       "      <td>NaN</td>\n",
       "      <td>NaN</td>\n",
       "      <td>...</td>\n",
       "      <td>NaN</td>\n",
       "      <td>NaN</td>\n",
       "      <td>NaN</td>\n",
       "      <td>NaN</td>\n",
       "      <td>NaN</td>\n",
       "      <td>NaN</td>\n",
       "      <td>0.009396</td>\n",
       "      <td>0.009396</td>\n",
       "      <td>0.009396</td>\n",
       "      <td>NaN</td>\n",
       "    </tr>\n",
       "  </tbody>\n",
       "</table>\n",
       "<p>9 rows × 193 columns</p>\n",
       "</div>"
      ],
      "text/plain": [
       "          dates   weights                                                    \\\n",
       "code              A000080   A000120   A000150   A000210   A000240   A000270   \n",
       "0    2023-02-28       NaN  0.009461  0.009461       NaN       NaN       NaN   \n",
       "1    2023-03-31       NaN       NaN       NaN       NaN       NaN  0.011639   \n",
       "2    2023-04-28       NaN       NaN  0.009329       NaN       NaN       NaN   \n",
       "3    2023-05-31       NaN       NaN       NaN       NaN       NaN       NaN   \n",
       "4    2023-06-30       NaN       NaN  0.009192       NaN       NaN  0.009192   \n",
       "5    2023-07-31       NaN  0.009419       NaN       NaN       NaN       NaN   \n",
       "6    2023-08-31  0.009463  0.009463       NaN  0.009463  0.009463  0.009463   \n",
       "7    2023-09-27  0.009396  0.009396       NaN  0.009396  0.009396  0.009396   \n",
       "8    2023-10-31  0.009396  0.009396  0.009396  0.009396  0.009396       NaN   \n",
       "\n",
       "                                    ...                                \\\n",
       "code   A000660   A000670   A000720  ...   A323410   A326030   A329180   \n",
       "0          NaN       NaN  0.009461  ...       NaN  0.009461  0.009461   \n",
       "1     0.011639       NaN       NaN  ...       NaN       NaN       NaN   \n",
       "2     0.009329  0.009329       NaN  ...  0.009329  0.009329  0.009329   \n",
       "3          NaN  0.009372       NaN  ...       NaN  0.009372  0.009372   \n",
       "4          NaN  0.009192       NaN  ...  0.009192  0.009192  0.009192   \n",
       "5     0.009419  0.009419       NaN  ...  0.009419  0.009419  0.009419   \n",
       "6          NaN       NaN       NaN  ...       NaN       NaN       NaN   \n",
       "7          NaN       NaN       NaN  ...       NaN       NaN       NaN   \n",
       "8          NaN       NaN       NaN  ...       NaN       NaN       NaN   \n",
       "\n",
       "                                                                            \n",
       "code   A336260   A352820   A373220   A375500   A381970   A383220   A402340  \n",
       "0     0.009461       NaN       NaN       NaN       NaN       NaN       NaN  \n",
       "1          NaN       NaN       NaN       NaN       NaN       NaN       NaN  \n",
       "2     0.009329       NaN       NaN       NaN       NaN       NaN       NaN  \n",
       "3     0.009372       NaN       NaN       NaN       NaN       NaN       NaN  \n",
       "4          NaN       NaN       NaN       NaN       NaN       NaN       NaN  \n",
       "5          NaN  0.009419  0.009419       NaN       NaN       NaN  0.009419  \n",
       "6          NaN       NaN       NaN  0.009463       NaN  0.009463       NaN  \n",
       "7          NaN       NaN       NaN  0.009396  0.009396  0.009396       NaN  \n",
       "8          NaN       NaN       NaN  0.009396  0.009396  0.009396       NaN  \n",
       "\n",
       "[9 rows x 193 columns]"
      ]
     },
     "execution_count": 55,
     "metadata": {},
     "output_type": "execute_result"
    }
   ],
   "source": [
    "mlq_w"
   ]
  },
  {
   "cell_type": "code",
   "execution_count": 56,
   "id": "7be5102c-8e75-4b79-84f4-1302a7974867",
   "metadata": {
    "execution": {
     "iopub.execute_input": "2023-11-08T05:47:00.884952Z",
     "iopub.status.busy": "2023-11-08T05:47:00.884349Z",
     "iopub.status.idle": "2023-11-08T05:47:00.891810Z",
     "shell.execute_reply": "2023-11-08T05:47:00.890407Z",
     "shell.execute_reply.started": "2023-11-08T05:47:00.884898Z"
    },
    "tags": []
   },
   "outputs": [],
   "source": [
    "mlq_w['new_dates']=eom"
   ]
  },
  {
   "cell_type": "code",
   "execution_count": 57,
   "id": "8e043346-a91b-4455-a44b-9e92a1c56dfd",
   "metadata": {
    "execution": {
     "iopub.execute_input": "2023-11-08T05:47:01.933488Z",
     "iopub.status.busy": "2023-11-08T05:47:01.932855Z",
     "iopub.status.idle": "2023-11-08T05:47:01.947582Z",
     "shell.execute_reply": "2023-11-08T05:47:01.946246Z",
     "shell.execute_reply.started": "2023-11-08T05:47:01.933431Z"
    },
    "tags": []
   },
   "outputs": [
    {
     "name": "stderr",
     "output_type": "stream",
     "text": [
      "<ipython-input-57-e941fd3bb88f>:2: PerformanceWarning: dropping on a non-lexsorted multi-index without a level parameter may impact performance.\n",
      "  mlq_w.drop(columns=['dates'], inplace=True)\n"
     ]
    }
   ],
   "source": [
    "mlq_w.set_index('new_dates', inplace=True)\n",
    "mlq_w.drop(columns=['dates'], inplace=True)"
   ]
  },
  {
   "cell_type": "code",
   "execution_count": 58,
   "id": "1ed6d252-9152-417d-b324-ad0d85e7e567",
   "metadata": {
    "execution": {
     "iopub.execute_input": "2023-11-08T05:47:02.506834Z",
     "iopub.status.busy": "2023-11-08T05:47:02.506266Z",
     "iopub.status.idle": "2023-11-08T05:47:02.512900Z",
     "shell.execute_reply": "2023-11-08T05:47:02.511407Z",
     "shell.execute_reply.started": "2023-11-08T05:47:02.506780Z"
    },
    "tags": []
   },
   "outputs": [],
   "source": [
    "mlq_w.columns=mlq_w.columns.get_level_values(1)"
   ]
  },
  {
   "cell_type": "code",
   "execution_count": 59,
   "id": "8999bf1b-d5f7-4551-a81f-76c03e771142",
   "metadata": {
    "execution": {
     "iopub.execute_input": "2023-11-08T05:47:03.031634Z",
     "iopub.status.busy": "2023-11-08T05:47:03.031114Z",
     "iopub.status.idle": "2023-11-08T05:47:03.038493Z",
     "shell.execute_reply": "2023-11-08T05:47:03.037023Z",
     "shell.execute_reply.started": "2023-11-08T05:47:03.031582Z"
    },
    "tags": []
   },
   "outputs": [],
   "source": [
    "mlq_w.index=pd.to_datetime(mlq_w.index)"
   ]
  },
  {
   "cell_type": "code",
   "execution_count": 60,
   "id": "acb31007-a638-429c-bf6c-1539f3db3e76",
   "metadata": {
    "execution": {
     "iopub.execute_input": "2023-11-08T05:47:03.282771Z",
     "iopub.status.busy": "2023-11-08T05:47:03.282227Z",
     "iopub.status.idle": "2023-11-08T05:47:03.288438Z",
     "shell.execute_reply": "2023-11-08T05:47:03.287101Z",
     "shell.execute_reply.started": "2023-11-08T05:47:03.282718Z"
    },
    "tags": []
   },
   "outputs": [],
   "source": [
    "mlq_w=mlq_w.fillna(0)"
   ]
  },
  {
   "cell_type": "code",
   "execution_count": 61,
   "id": "827f9ea3-856d-4e67-84ea-89274f996af9",
   "metadata": {
    "execution": {
     "iopub.execute_input": "2023-11-08T05:47:03.504077Z",
     "iopub.status.busy": "2023-11-08T05:47:03.503564Z",
     "iopub.status.idle": "2023-11-08T05:47:03.518578Z",
     "shell.execute_reply": "2023-11-08T05:47:03.517262Z",
     "shell.execute_reply.started": "2023-11-08T05:47:03.504027Z"
    },
    "tags": []
   },
   "outputs": [],
   "source": [
    "daily_w=pd.DataFrame(None, columns=mlq_w.columns, index=ret.loc[mlq_w.index[0]:].index)"
   ]
  },
  {
   "cell_type": "code",
   "execution_count": 62,
   "id": "2881ca12-3d4d-40d3-ba9c-e4b5324183d1",
   "metadata": {
    "execution": {
     "iopub.execute_input": "2023-11-08T05:47:03.690068Z",
     "iopub.status.busy": "2023-11-08T05:47:03.689555Z",
     "iopub.status.idle": "2023-11-08T05:47:03.698305Z",
     "shell.execute_reply": "2023-11-08T05:47:03.696927Z",
     "shell.execute_reply.started": "2023-11-08T05:47:03.690017Z"
    },
    "tags": []
   },
   "outputs": [
    {
     "data": {
      "text/plain": [
       "DatetimeIndex(['2023-02-28', '2023-03-31', '2023-04-28', '2023-05-31',\n",
       "               '2023-06-30', '2023-07-31', '2023-08-31', '2023-09-27',\n",
       "               '2023-10-31'],\n",
       "              dtype='datetime64[ns]', name='new_dates', freq=None)"
      ]
     },
     "execution_count": 62,
     "metadata": {},
     "output_type": "execute_result"
    }
   ],
   "source": [
    "mlq_w.index"
   ]
  },
  {
   "cell_type": "code",
   "execution_count": 63,
   "id": "981f9a14-d858-46ae-aa59-a13ad4f87fba",
   "metadata": {
    "execution": {
     "iopub.execute_input": "2023-11-08T05:47:03.866147Z",
     "iopub.status.busy": "2023-11-08T05:47:03.865644Z",
     "iopub.status.idle": "2023-11-08T05:47:03.874695Z",
     "shell.execute_reply": "2023-11-08T05:47:03.873296Z",
     "shell.execute_reply.started": "2023-11-08T05:47:03.866097Z"
    },
    "tags": []
   },
   "outputs": [],
   "source": [
    "daily_w.loc[mlq_w.index]=mlq_w"
   ]
  },
  {
   "cell_type": "code",
   "execution_count": 64,
   "id": "b641599b-956c-4a01-8e31-5a94c0f59fae",
   "metadata": {
    "execution": {
     "iopub.execute_input": "2023-11-08T05:47:04.059704Z",
     "iopub.status.busy": "2023-11-08T05:47:04.059202Z",
     "iopub.status.idle": "2023-11-08T05:47:04.119758Z",
     "shell.execute_reply": "2023-11-08T05:47:04.118751Z",
     "shell.execute_reply.started": "2023-11-08T05:47:04.059654Z"
    },
    "tags": []
   },
   "outputs": [],
   "source": [
    "daily_w.fillna(method='ffill', inplace=True)\n",
    "daily_w=daily_w.shift(1)"
   ]
  },
  {
   "cell_type": "code",
   "execution_count": 65,
   "id": "bc868c07-4ab6-46f5-a7da-ec8360b21439",
   "metadata": {
    "execution": {
     "iopub.execute_input": "2023-11-08T05:47:04.222200Z",
     "iopub.status.busy": "2023-11-08T05:47:04.221841Z",
     "iopub.status.idle": "2023-11-08T05:47:04.225384Z",
     "shell.execute_reply": "2023-11-08T05:47:04.224544Z",
     "shell.execute_reply.started": "2023-11-08T05:47:04.222161Z"
    },
    "tags": []
   },
   "outputs": [],
   "source": [
    "# daily_w.sum(1).plot()"
   ]
  },
  {
   "cell_type": "code",
   "execution_count": 66,
   "id": "4885fa6f-bb7e-4247-af29-0c776946ba3e",
   "metadata": {
    "execution": {
     "iopub.execute_input": "2023-11-08T05:47:04.369674Z",
     "iopub.status.busy": "2023-11-08T05:47:04.369206Z",
     "iopub.status.idle": "2023-11-08T05:47:04.389366Z",
     "shell.execute_reply": "2023-11-08T05:47:04.388086Z",
     "shell.execute_reply.started": "2023-11-08T05:47:04.369627Z"
    },
    "tags": []
   },
   "outputs": [],
   "source": [
    "mlq_ret=daily_w*ret.loc[daily_w.index]"
   ]
  },
  {
   "cell_type": "code",
   "execution_count": 67,
   "id": "e24ddbea-3805-4941-9b24-32726f5373c3",
   "metadata": {
    "execution": {
     "iopub.execute_input": "2023-11-08T05:47:04.720504Z",
     "iopub.status.busy": "2023-11-08T05:47:04.720222Z",
     "iopub.status.idle": "2023-11-08T05:47:04.728665Z",
     "shell.execute_reply": "2023-11-08T05:47:04.727827Z",
     "shell.execute_reply.started": "2023-11-08T05:47:04.720476Z"
    },
    "tags": []
   },
   "outputs": [],
   "source": [
    "mlq_idx_ret=mlq_ret.sum(1)"
   ]
  },
  {
   "cell_type": "code",
   "execution_count": null,
   "id": "8427d323-22c0-4ae2-9a66-a63422d466bb",
   "metadata": {
    "tags": []
   },
   "outputs": [],
   "source": []
  },
  {
   "cell_type": "code",
   "execution_count": 68,
   "id": "2b1dde0b-e155-442d-a1c1-9cf837af5305",
   "metadata": {
    "execution": {
     "iopub.execute_input": "2023-11-08T05:47:04.881651Z",
     "iopub.status.busy": "2023-11-08T05:47:04.881348Z",
     "iopub.status.idle": "2023-11-08T05:47:06.679659Z",
     "shell.execute_reply": "2023-11-08T05:47:06.678662Z",
     "shell.execute_reply.started": "2023-11-08T05:47:04.881622Z"
    },
    "tags": []
   },
   "outputs": [],
   "source": [
    "sys.path.append('../py')\n",
    "import data_processing as proc\n",
    "import utils\n",
    "import performance as perf"
   ]
  },
  {
   "cell_type": "code",
   "execution_count": 69,
   "id": "98a38328-28a3-4c71-be3b-3c30f96bad46",
   "metadata": {
    "execution": {
     "iopub.execute_input": "2023-11-08T05:47:06.744005Z",
     "iopub.status.busy": "2023-11-08T05:47:06.743676Z",
     "iopub.status.idle": "2023-11-08T05:47:06.757462Z",
     "shell.execute_reply": "2023-11-08T05:47:06.756355Z",
     "shell.execute_reply.started": "2023-11-08T05:47:06.743971Z"
    },
    "tags": []
   },
   "outputs": [],
   "source": [
    "idx_ret, idx_ret_cost, idx_cum_ret, idx_cum_retcost = perf.return_index(prc.loc[daily_w.index[0]:], \n",
    "                                                                        daily_w.fillna(0),\n",
    "                                                                        cost=0.003)"
   ]
  },
  {
   "cell_type": "code",
   "execution_count": 70,
   "id": "f248c444-29ee-42cb-b742-1b16c10d3ac7",
   "metadata": {
    "execution": {
     "iopub.execute_input": "2023-11-08T05:47:06.758674Z",
     "iopub.status.busy": "2023-11-08T05:47:06.758355Z",
     "iopub.status.idle": "2023-11-08T05:47:06.776668Z",
     "shell.execute_reply": "2023-11-08T05:47:06.775803Z",
     "shell.execute_reply.started": "2023-11-08T05:47:06.758640Z"
    },
    "tags": []
   },
   "outputs": [
    {
     "data": {
      "text/plain": [
       "Dates\n",
       "2023-02-28    0.000000\n",
       "2023-03-02    0.008755\n",
       "2023-03-03   -0.003856\n",
       "2023-03-06    0.004580\n",
       "2023-03-07   -0.004881\n",
       "                ...   \n",
       "2023-10-25    0.006077\n",
       "2023-10-26   -0.018348\n",
       "2023-10-27    0.004052\n",
       "2023-10-30    0.004708\n",
       "2023-10-31   -0.002509\n",
       "Length: 165, dtype: float64"
      ]
     },
     "execution_count": 70,
     "metadata": {},
     "output_type": "execute_result"
    }
   ],
   "source": [
    "(prc.loc[daily_w.index[0]:].pct_change() * daily_w.fillna(0)).sum(1)"
   ]
  },
  {
   "cell_type": "code",
   "execution_count": 71,
   "id": "85199743-0973-4021-8504-2030c432310a",
   "metadata": {
    "execution": {
     "iopub.execute_input": "2023-11-08T05:47:06.777833Z",
     "iopub.status.busy": "2023-11-08T05:47:06.777521Z",
     "iopub.status.idle": "2023-11-08T05:47:06.784147Z",
     "shell.execute_reply": "2023-11-08T05:47:06.783318Z",
     "shell.execute_reply.started": "2023-11-08T05:47:06.777800Z"
    },
    "tags": []
   },
   "outputs": [
    {
     "data": {
      "text/plain": [
       "Dates\n",
       "2023-02-28    0.000000\n",
       "2023-03-02    0.008755\n",
       "2023-03-03   -0.003856\n",
       "2023-03-06    0.004580\n",
       "2023-03-07   -0.004881\n",
       "                ...   \n",
       "2023-10-25    0.006077\n",
       "2023-10-26   -0.018348\n",
       "2023-10-27    0.004052\n",
       "2023-10-30    0.004708\n",
       "2023-10-31   -0.002509\n",
       "Length: 165, dtype: float64"
      ]
     },
     "execution_count": 71,
     "metadata": {},
     "output_type": "execute_result"
    }
   ],
   "source": [
    "idx_ret"
   ]
  },
  {
   "cell_type": "code",
   "execution_count": 72,
   "id": "afe22c26-efc5-4b52-ac80-b855618451fa",
   "metadata": {
    "execution": {
     "iopub.execute_input": "2023-11-08T05:47:06.786367Z",
     "iopub.status.busy": "2023-11-08T05:47:06.785999Z",
     "iopub.status.idle": "2023-11-08T05:47:06.800090Z",
     "shell.execute_reply": "2023-11-08T05:47:06.799225Z",
     "shell.execute_reply.started": "2023-11-08T05:47:06.786328Z"
    },
    "tags": []
   },
   "outputs": [
    {
     "data": {
      "text/plain": [
       "Dates\n",
       "2023-02-28    0.000000\n",
       "2023-03-02    0.005755\n",
       "2023-03-03   -0.003856\n",
       "2023-03-06    0.004580\n",
       "2023-03-07   -0.004881\n",
       "                ...   \n",
       "2023-10-25    0.006077\n",
       "2023-10-26   -0.018348\n",
       "2023-10-27    0.004052\n",
       "2023-10-30    0.004708\n",
       "2023-10-31   -0.002509\n",
       "Length: 165, dtype: float64"
      ]
     },
     "execution_count": 72,
     "metadata": {},
     "output_type": "execute_result"
    }
   ],
   "source": [
    "idx_ret_cost"
   ]
  },
  {
   "cell_type": "code",
   "execution_count": null,
   "id": "586eb924-c72e-49b6-938e-94a03e540a50",
   "metadata": {},
   "outputs": [],
   "source": []
  },
  {
   "cell_type": "code",
   "execution_count": 73,
   "id": "6a0b40ea-9d6a-4ca8-bfbf-876f3db6f0e6",
   "metadata": {
    "execution": {
     "iopub.execute_input": "2023-11-08T05:47:06.801727Z",
     "iopub.status.busy": "2023-11-08T05:47:06.801376Z",
     "iopub.status.idle": "2023-11-08T05:47:06.859563Z",
     "shell.execute_reply": "2023-11-08T05:47:06.858444Z",
     "shell.execute_reply.started": "2023-11-08T05:47:06.801695Z"
    },
    "tags": []
   },
   "outputs": [],
   "source": [
    "model_ret=pd.read_excel(data_path+'ret_strat.xlsx', index_col=0)"
   ]
  },
  {
   "cell_type": "code",
   "execution_count": 91,
   "id": "4a91a069-681e-4cee-aca8-0d3053979c84",
   "metadata": {
    "execution": {
     "iopub.execute_input": "2023-11-08T05:48:36.385364Z",
     "iopub.status.busy": "2023-11-08T05:48:36.384705Z",
     "iopub.status.idle": "2023-11-08T05:48:36.404346Z",
     "shell.execute_reply": "2023-11-08T05:48:36.403030Z",
     "shell.execute_reply.started": "2023-11-08T05:48:36.385306Z"
    },
    "tags": []
   },
   "outputs": [
    {
     "data": {
      "text/html": [
       "<div>\n",
       "<style scoped>\n",
       "    .dataframe tbody tr th:only-of-type {\n",
       "        vertical-align: middle;\n",
       "    }\n",
       "\n",
       "    .dataframe tbody tr th {\n",
       "        vertical-align: top;\n",
       "    }\n",
       "\n",
       "    .dataframe thead th {\n",
       "        text-align: right;\n",
       "    }\n",
       "</style>\n",
       "<table border=\"1\" class=\"dataframe\">\n",
       "  <thead>\n",
       "    <tr style=\"text-align: right;\">\n",
       "      <th></th>\n",
       "      <th>mfm</th>\n",
       "      <th>mfm_emp</th>\n",
       "      <th>dynamic</th>\n",
       "    </tr>\n",
       "  </thead>\n",
       "  <tbody>\n",
       "    <tr>\n",
       "      <th>2023-01-02</th>\n",
       "      <td>-0.008779</td>\n",
       "      <td>-0.007292</td>\n",
       "      <td>-0.006716</td>\n",
       "    </tr>\n",
       "    <tr>\n",
       "      <th>2023-01-03</th>\n",
       "      <td>0.001826</td>\n",
       "      <td>-0.000216</td>\n",
       "      <td>-0.000291</td>\n",
       "    </tr>\n",
       "    <tr>\n",
       "      <th>2023-01-04</th>\n",
       "      <td>0.019695</td>\n",
       "      <td>0.015465</td>\n",
       "      <td>0.018791</td>\n",
       "    </tr>\n",
       "    <tr>\n",
       "      <th>2023-01-05</th>\n",
       "      <td>0.001663</td>\n",
       "      <td>0.004127</td>\n",
       "      <td>0.004887</td>\n",
       "    </tr>\n",
       "    <tr>\n",
       "      <th>2023-01-06</th>\n",
       "      <td>0.014489</td>\n",
       "      <td>0.009787</td>\n",
       "      <td>0.012526</td>\n",
       "    </tr>\n",
       "    <tr>\n",
       "      <th>...</th>\n",
       "      <td>...</td>\n",
       "      <td>...</td>\n",
       "      <td>...</td>\n",
       "    </tr>\n",
       "    <tr>\n",
       "      <th>2023-10-25</th>\n",
       "      <td>NaN</td>\n",
       "      <td>NaN</td>\n",
       "      <td>-0.003267</td>\n",
       "    </tr>\n",
       "    <tr>\n",
       "      <th>2023-10-26</th>\n",
       "      <td>NaN</td>\n",
       "      <td>NaN</td>\n",
       "      <td>-0.027196</td>\n",
       "    </tr>\n",
       "    <tr>\n",
       "      <th>2023-10-27</th>\n",
       "      <td>NaN</td>\n",
       "      <td>NaN</td>\n",
       "      <td>0.003322</td>\n",
       "    </tr>\n",
       "    <tr>\n",
       "      <th>2023-10-30</th>\n",
       "      <td>NaN</td>\n",
       "      <td>NaN</td>\n",
       "      <td>0.005067</td>\n",
       "    </tr>\n",
       "    <tr>\n",
       "      <th>2023-10-31</th>\n",
       "      <td>NaN</td>\n",
       "      <td>NaN</td>\n",
       "      <td>-0.011032</td>\n",
       "    </tr>\n",
       "  </tbody>\n",
       "</table>\n",
       "<p>204 rows × 3 columns</p>\n",
       "</div>"
      ],
      "text/plain": [
       "                 mfm   mfm_emp   dynamic\n",
       "2023-01-02 -0.008779 -0.007292 -0.006716\n",
       "2023-01-03  0.001826 -0.000216 -0.000291\n",
       "2023-01-04  0.019695  0.015465  0.018791\n",
       "2023-01-05  0.001663  0.004127  0.004887\n",
       "2023-01-06  0.014489  0.009787  0.012526\n",
       "...              ...       ...       ...\n",
       "2023-10-25       NaN       NaN -0.003267\n",
       "2023-10-26       NaN       NaN -0.027196\n",
       "2023-10-27       NaN       NaN  0.003322\n",
       "2023-10-30       NaN       NaN  0.005067\n",
       "2023-10-31       NaN       NaN -0.011032\n",
       "\n",
       "[204 rows x 3 columns]"
      ]
     },
     "execution_count": 91,
     "metadata": {},
     "output_type": "execute_result"
    }
   ],
   "source": [
    "model_ret"
   ]
  },
  {
   "cell_type": "code",
   "execution_count": null,
   "id": "a2d6985a-17e2-4879-804d-df0370d01ec6",
   "metadata": {},
   "outputs": [],
   "source": []
  },
  {
   "cell_type": "code",
   "execution_count": 108,
   "id": "8ffbf18f-c567-4cb5-ade5-2946f452ba8a",
   "metadata": {
    "execution": {
     "iopub.execute_input": "2023-11-08T06:05:27.423314Z",
     "iopub.status.busy": "2023-11-08T06:05:27.422699Z",
     "iopub.status.idle": "2023-11-08T06:05:27.437586Z",
     "shell.execute_reply": "2023-11-08T06:05:27.436449Z",
     "shell.execute_reply.started": "2023-11-08T06:05:27.423260Z"
    },
    "tags": []
   },
   "outputs": [],
   "source": [
    "final_ret=pd.concat([model_ret['dynamic'], idx_ret_cost, bm_ret], axis=1)\n"
   ]
  },
  {
   "cell_type": "code",
   "execution_count": 118,
   "id": "df5627ec-4731-4b16-a5b4-c158ed29f589",
   "metadata": {
    "execution": {
     "iopub.execute_input": "2023-11-08T06:06:22.428475Z",
     "iopub.status.busy": "2023-11-08T06:06:22.427859Z",
     "iopub.status.idle": "2023-11-08T06:06:22.436513Z",
     "shell.execute_reply": "2023-11-08T06:06:22.435408Z",
     "shell.execute_reply.started": "2023-11-08T06:06:22.428421Z"
    },
    "tags": []
   },
   "outputs": [],
   "source": [
    "final_ret=final_ret.dropna()"
   ]
  },
  {
   "cell_type": "code",
   "execution_count": 119,
   "id": "85e28d7c-6eca-44b1-a6d0-be492f3a89ae",
   "metadata": {
    "execution": {
     "iopub.execute_input": "2023-11-08T06:06:23.124992Z",
     "iopub.status.busy": "2023-11-08T06:06:23.124443Z",
     "iopub.status.idle": "2023-11-08T06:06:23.130555Z",
     "shell.execute_reply": "2023-11-08T06:06:23.129344Z",
     "shell.execute_reply.started": "2023-11-08T06:06:23.124940Z"
    },
    "tags": []
   },
   "outputs": [],
   "source": [
    "final_ret.columns=['dynamic', 'mlq', 'k200', 'k200ew'] # 'mfm', 'mfm_emp', "
   ]
  },
  {
   "cell_type": "code",
   "execution_count": 120,
   "id": "1e99693b-3a18-4aee-8f2e-f599dc64d4cb",
   "metadata": {
    "execution": {
     "iopub.execute_input": "2023-11-08T06:06:23.428256Z",
     "iopub.status.busy": "2023-11-08T06:06:23.427753Z",
     "iopub.status.idle": "2023-11-08T06:06:23.432346Z",
     "shell.execute_reply": "2023-11-08T06:06:23.431210Z",
     "shell.execute_reply.started": "2023-11-08T06:06:23.428206Z"
    },
    "tags": []
   },
   "outputs": [],
   "source": [
    "# k200_ret_excess=final_ret[['mfm', 'mfm_emp', 'dynamic', 'mlq']].subtract(final_ret['k200'], axis=0)"
   ]
  },
  {
   "cell_type": "code",
   "execution_count": 121,
   "id": "a0f5fcda-90ce-4867-b057-a5c0eabd004c",
   "metadata": {
    "execution": {
     "iopub.execute_input": "2023-11-08T06:06:23.630268Z",
     "iopub.status.busy": "2023-11-08T06:06:23.629757Z",
     "iopub.status.idle": "2023-11-08T06:06:23.634396Z",
     "shell.execute_reply": "2023-11-08T06:06:23.633224Z",
     "shell.execute_reply.started": "2023-11-08T06:06:23.630218Z"
    },
    "tags": []
   },
   "outputs": [],
   "source": [
    "# k200ew_ret_excess=final_ret[['mfm', 'mfm_emp', 'dynamic', 'mlq']].subtract(final_ret['k200ew'], axis=0)"
   ]
  },
  {
   "cell_type": "code",
   "execution_count": 122,
   "id": "8d357c14-f113-43d0-a058-aa7191e6fc1c",
   "metadata": {
    "execution": {
     "iopub.execute_input": "2023-11-08T06:06:23.806175Z",
     "iopub.status.busy": "2023-11-08T06:06:23.805778Z",
     "iopub.status.idle": "2023-11-08T06:06:23.809720Z",
     "shell.execute_reply": "2023-11-08T06:06:23.808690Z",
     "shell.execute_reply.started": "2023-11-08T06:06:23.806136Z"
    },
    "tags": []
   },
   "outputs": [],
   "source": [
    "# final_cumret=((1+k200_ret_excess).cumprod()-1)\n",
    "# final_cumret_ew=((1+k200ew_ret_excess).cumprod()-1)\n"
   ]
  },
  {
   "cell_type": "code",
   "execution_count": 123,
   "id": "1df7f409-142e-4040-8421-367452132dc8",
   "metadata": {
    "execution": {
     "iopub.execute_input": "2023-11-08T06:06:24.057698Z",
     "iopub.status.busy": "2023-11-08T06:06:24.057190Z",
     "iopub.status.idle": "2023-11-08T06:06:24.077904Z",
     "shell.execute_reply": "2023-11-08T06:06:24.076955Z",
     "shell.execute_reply.started": "2023-11-08T06:06:24.057648Z"
    },
    "tags": []
   },
   "outputs": [
    {
     "data": {
      "text/html": [
       "<div>\n",
       "<style scoped>\n",
       "    .dataframe tbody tr th:only-of-type {\n",
       "        vertical-align: middle;\n",
       "    }\n",
       "\n",
       "    .dataframe tbody tr th {\n",
       "        vertical-align: top;\n",
       "    }\n",
       "\n",
       "    .dataframe thead th {\n",
       "        text-align: right;\n",
       "    }\n",
       "</style>\n",
       "<table border=\"1\" class=\"dataframe\">\n",
       "  <thead>\n",
       "    <tr style=\"text-align: right;\">\n",
       "      <th></th>\n",
       "      <th>dynamic</th>\n",
       "      <th>mlq</th>\n",
       "      <th>k200</th>\n",
       "      <th>k200ew</th>\n",
       "    </tr>\n",
       "  </thead>\n",
       "  <tbody>\n",
       "    <tr>\n",
       "      <th>2023-02-28</th>\n",
       "      <td>0.002677</td>\n",
       "      <td>0.000000</td>\n",
       "      <td>0.002739</td>\n",
       "      <td>0.001820</td>\n",
       "    </tr>\n",
       "    <tr>\n",
       "      <th>2023-03-02</th>\n",
       "      <td>0.005291</td>\n",
       "      <td>0.005755</td>\n",
       "      <td>0.004638</td>\n",
       "      <td>0.008460</td>\n",
       "    </tr>\n",
       "    <tr>\n",
       "      <th>2023-03-03</th>\n",
       "      <td>0.001132</td>\n",
       "      <td>-0.003856</td>\n",
       "      <td>0.000316</td>\n",
       "      <td>0.002391</td>\n",
       "    </tr>\n",
       "    <tr>\n",
       "      <th>2023-03-06</th>\n",
       "      <td>0.011246</td>\n",
       "      <td>0.004580</td>\n",
       "      <td>0.014477</td>\n",
       "      <td>0.001484</td>\n",
       "    </tr>\n",
       "    <tr>\n",
       "      <th>2023-03-07</th>\n",
       "      <td>-0.000464</td>\n",
       "      <td>-0.004881</td>\n",
       "      <td>-0.003552</td>\n",
       "      <td>-0.000221</td>\n",
       "    </tr>\n",
       "    <tr>\n",
       "      <th>...</th>\n",
       "      <td>...</td>\n",
       "      <td>...</td>\n",
       "      <td>...</td>\n",
       "      <td>...</td>\n",
       "    </tr>\n",
       "    <tr>\n",
       "      <th>2023-10-25</th>\n",
       "      <td>-0.003267</td>\n",
       "      <td>0.006077</td>\n",
       "      <td>-0.006092</td>\n",
       "      <td>0.008189</td>\n",
       "    </tr>\n",
       "    <tr>\n",
       "      <th>2023-10-26</th>\n",
       "      <td>-0.027196</td>\n",
       "      <td>-0.018348</td>\n",
       "      <td>-0.027615</td>\n",
       "      <td>-0.023989</td>\n",
       "    </tr>\n",
       "    <tr>\n",
       "      <th>2023-10-27</th>\n",
       "      <td>0.003322</td>\n",
       "      <td>0.004052</td>\n",
       "      <td>0.002535</td>\n",
       "      <td>0.000157</td>\n",
       "    </tr>\n",
       "    <tr>\n",
       "      <th>2023-10-30</th>\n",
       "      <td>0.005067</td>\n",
       "      <td>0.004708</td>\n",
       "      <td>0.001361</td>\n",
       "      <td>0.008358</td>\n",
       "    </tr>\n",
       "    <tr>\n",
       "      <th>2023-10-31</th>\n",
       "      <td>-0.011032</td>\n",
       "      <td>-0.002509</td>\n",
       "      <td>-0.010973</td>\n",
       "      <td>0.000000</td>\n",
       "    </tr>\n",
       "  </tbody>\n",
       "</table>\n",
       "<p>165 rows × 4 columns</p>\n",
       "</div>"
      ],
      "text/plain": [
       "             dynamic       mlq      k200    k200ew\n",
       "2023-02-28  0.002677  0.000000  0.002739  0.001820\n",
       "2023-03-02  0.005291  0.005755  0.004638  0.008460\n",
       "2023-03-03  0.001132 -0.003856  0.000316  0.002391\n",
       "2023-03-06  0.011246  0.004580  0.014477  0.001484\n",
       "2023-03-07 -0.000464 -0.004881 -0.003552 -0.000221\n",
       "...              ...       ...       ...       ...\n",
       "2023-10-25 -0.003267  0.006077 -0.006092  0.008189\n",
       "2023-10-26 -0.027196 -0.018348 -0.027615 -0.023989\n",
       "2023-10-27  0.003322  0.004052  0.002535  0.000157\n",
       "2023-10-30  0.005067  0.004708  0.001361  0.008358\n",
       "2023-10-31 -0.011032 -0.002509 -0.010973  0.000000\n",
       "\n",
       "[165 rows x 4 columns]"
      ]
     },
     "execution_count": 123,
     "metadata": {},
     "output_type": "execute_result"
    }
   ],
   "source": [
    "final_ret"
   ]
  },
  {
   "cell_type": "code",
   "execution_count": 124,
   "id": "716e356b-effb-40ae-91a5-c61ec8fdbe3d",
   "metadata": {
    "execution": {
     "iopub.execute_input": "2023-11-08T06:06:24.700742Z",
     "iopub.status.busy": "2023-11-08T06:06:24.700161Z",
     "iopub.status.idle": "2023-11-08T06:06:24.706936Z",
     "shell.execute_reply": "2023-11-08T06:06:24.705714Z",
     "shell.execute_reply.started": "2023-11-08T06:06:24.700689Z"
    },
    "tags": []
   },
   "outputs": [],
   "source": [
    "final_cumret=(1+final_ret).cumprod()-1"
   ]
  },
  {
   "cell_type": "code",
   "execution_count": 125,
   "id": "f8766b34-cb85-460d-bc0f-fa18f404ca4b",
   "metadata": {
    "execution": {
     "iopub.execute_input": "2023-11-08T06:06:25.133732Z",
     "iopub.status.busy": "2023-11-08T06:06:25.133219Z",
     "iopub.status.idle": "2023-11-08T06:06:25.387858Z",
     "shell.execute_reply": "2023-11-08T06:06:25.386953Z",
     "shell.execute_reply.started": "2023-11-08T06:06:25.133681Z"
    },
    "tags": []
   },
   "outputs": [
    {
     "data": {
      "image/png": "[encoded data removed]",
      "text/plain": [
       "<Figure size 864x576 with 1 Axes>"
      ]
     },
     "metadata": {
      "needs_background": "light"
     },
     "output_type": "display_data"
    }
   ],
   "source": [
    "fig, ax1=plt.subplots(figsize=(12, 8))\n",
    "\n",
    "\n",
    "for col in final_cumret.columns:\n",
    "    plt.plot(final_cumret.index, final_cumret[col], label=col)\n",
    "    plt.legend()\n",
    "    # plt.text(.05,.95, col, bbox=bbox, fontsize=14, va='top', ha='left')\n",
    "plt.show()\n"
   ]
  },
  {
   "cell_type": "code",
   "execution_count": 126,
   "id": "ef52fb32-06ac-470d-ac3d-1dcf4bff654a",
   "metadata": {
    "execution": {
     "iopub.execute_input": "2023-11-08T06:06:30.550135Z",
     "iopub.status.busy": "2023-11-08T06:06:30.549513Z",
     "iopub.status.idle": "2023-11-08T06:06:30.554980Z",
     "shell.execute_reply": "2023-11-08T06:06:30.553727Z",
     "shell.execute_reply.started": "2023-11-08T06:06:30.550079Z"
    },
    "tags": []
   },
   "outputs": [],
   "source": [
    "# temp_perf0 = perf.analyze_performance(final_ret['mfm'], \n",
    "#                                      model_name = 'mfm',\n",
    "#                                      bm_return=final_ret['k200'])\n",
    "# temp_perf1 = perf.analyze_performance(final_ret['mfm_emp'], \n",
    "#                                      model_name = 'mfm_emp',\n",
    "#                                      bm_return=final_ret['k200'])\n",
    "# temp_perf2 = perf.analyze_performance(final_ret['dynamic'], \n",
    "#                                      model_name = 'dynamic',\n",
    "#                                      bm_return=final_ret['k200'])\n",
    "# temp_perf3 = perf.analyze_performance(final_ret['mlq'],\n",
    "#                                      # weights = daily_w,\n",
    "#                                      model_name = 'mlq',\n",
    "#                                      bm_return=final_ret['k200'])"
   ]
  },
  {
   "cell_type": "code",
   "execution_count": 127,
   "id": "e515549f-f4d6-4783-9f72-d0a4f5af36ee",
   "metadata": {
    "execution": {
     "iopub.execute_input": "2023-11-08T06:06:30.779889Z",
     "iopub.status.busy": "2023-11-08T06:06:30.779375Z",
     "iopub.status.idle": "2023-11-08T06:06:30.798031Z",
     "shell.execute_reply": "2023-11-08T06:06:30.796874Z",
     "shell.execute_reply.started": "2023-11-08T06:06:30.779839Z"
    },
    "tags": []
   },
   "outputs": [],
   "source": [
    "\n",
    "temp_perf2 = perf.analyze_performance(final_ret['dynamic'], \n",
    "                                     model_name = 'dynamic')\n",
    "\n",
    "temp_perf3 = perf.analyze_performance(final_ret['mlq'],\n",
    "                                     # weights = daily_w,\n",
    "                                     model_name = 'mlq')"
   ]
  },
  {
   "cell_type": "code",
   "execution_count": 128,
   "id": "2d0b7499-e4b0-4dff-a20e-ea35a19bd2a5",
   "metadata": {
    "execution": {
     "iopub.execute_input": "2023-11-08T06:06:31.585646Z",
     "iopub.status.busy": "2023-11-08T06:06:31.585106Z",
     "iopub.status.idle": "2023-11-08T06:06:31.601589Z",
     "shell.execute_reply": "2023-11-08T06:06:31.600580Z",
     "shell.execute_reply.started": "2023-11-08T06:06:31.585593Z"
    },
    "tags": []
   },
   "outputs": [
    {
     "data": {
      "text/html": [
       "<div>\n",
       "<style scoped>\n",
       "    .dataframe tbody tr th:only-of-type {\n",
       "        vertical-align: middle;\n",
       "    }\n",
       "\n",
       "    .dataframe tbody tr th {\n",
       "        vertical-align: top;\n",
       "    }\n",
       "\n",
       "    .dataframe thead th {\n",
       "        text-align: right;\n",
       "    }\n",
       "</style>\n",
       "<table border=\"1\" class=\"dataframe\">\n",
       "  <thead>\n",
       "    <tr style=\"text-align: right;\">\n",
       "      <th></th>\n",
       "      <th>dynamic</th>\n",
       "      <th>mlq</th>\n",
       "    </tr>\n",
       "  </thead>\n",
       "  <tbody>\n",
       "    <tr>\n",
       "      <th>cum return(%)</th>\n",
       "      <td>0.43</td>\n",
       "      <td>3.65</td>\n",
       "    </tr>\n",
       "    <tr>\n",
       "      <th>cagr(%)</th>\n",
       "      <td>0.65</td>\n",
       "      <td>5.63</td>\n",
       "    </tr>\n",
       "    <tr>\n",
       "      <th>vol(te)</th>\n",
       "      <td>0.14</td>\n",
       "      <td>0.14</td>\n",
       "    </tr>\n",
       "    <tr>\n",
       "      <th>sharpe(ir)</th>\n",
       "      <td>0.05</td>\n",
       "      <td>0.41</td>\n",
       "    </tr>\n",
       "    <tr>\n",
       "      <th>mdd(%)</th>\n",
       "      <td>-10.78</td>\n",
       "      <td>-6.96</td>\n",
       "    </tr>\n",
       "    <tr>\n",
       "      <th>turnover(%)</th>\n",
       "      <td>0</td>\n",
       "      <td>0</td>\n",
       "    </tr>\n",
       "    <tr>\n",
       "      <th>start date</th>\n",
       "      <td>2023-02-28 00:00:00</td>\n",
       "      <td>2023-02-28 00:00:00</td>\n",
       "    </tr>\n",
       "    <tr>\n",
       "      <th>end date</th>\n",
       "      <td>2023-10-31 00:00:00</td>\n",
       "      <td>2023-10-31 00:00:00</td>\n",
       "    </tr>\n",
       "  </tbody>\n",
       "</table>\n",
       "</div>"
      ],
      "text/plain": [
       "                           dynamic                  mlq\n",
       "cum return(%)                 0.43                 3.65\n",
       "cagr(%)                       0.65                 5.63\n",
       "vol(te)                       0.14                 0.14\n",
       "sharpe(ir)                    0.05                 0.41\n",
       "mdd(%)                      -10.78                -6.96\n",
       "turnover(%)                      0                    0\n",
       "start date     2023-02-28 00:00:00  2023-02-28 00:00:00\n",
       "end date       2023-10-31 00:00:00  2023-10-31 00:00:00"
      ]
     },
     "execution_count": 128,
     "metadata": {},
     "output_type": "execute_result"
    }
   ],
   "source": [
    "pd.concat([temp_perf2, temp_perf3]).T # temp_perf0, temp_perf1, "
   ]
  },
  {
   "cell_type": "code",
   "execution_count": 129,
   "id": "8358229e-5b1a-436b-bde7-7d21d290f65b",
   "metadata": {
    "execution": {
     "iopub.execute_input": "2023-11-08T06:06:33.886468Z",
     "iopub.status.busy": "2023-11-08T06:06:33.885860Z",
     "iopub.status.idle": "2023-11-08T06:06:33.890910Z",
     "shell.execute_reply": "2023-11-08T06:06:33.889674Z",
     "shell.execute_reply.started": "2023-11-08T06:06:33.886415Z"
    },
    "tags": []
   },
   "outputs": [],
   "source": [
    "# fig, ax1=plt.subplots(figsize=(12, 8))\n",
    "\n",
    "# plt.plot(k200ew_ret_excess.index, final_cumret_ew)\n",
    "\n",
    "# for col in k200ew_ret_excess.columns:\n",
    "#     final_value = final_cumret_ew[col].iloc[-12]\n",
    "#     plt.text(final_cumret_ew.index[-12], final_value, col, fontsize=14, va='bottom')"
   ]
  },
  {
   "cell_type": "code",
   "execution_count": 130,
   "id": "9b1729c1-1765-46ad-b41c-8b85c7f73fb5",
   "metadata": {
    "execution": {
     "iopub.execute_input": "2023-11-08T06:06:34.108354Z",
     "iopub.status.busy": "2023-11-08T06:06:34.107743Z",
     "iopub.status.idle": "2023-11-08T06:06:34.113206Z",
     "shell.execute_reply": "2023-11-08T06:06:34.111942Z",
     "shell.execute_reply.started": "2023-11-08T06:06:34.108296Z"
    },
    "tags": []
   },
   "outputs": [],
   "source": [
    "# temp_perf0 = perf.analyze_performance(final_ret['mfm'], \n",
    "#                                      model_name = 'mfm',\n",
    "#                                      bm_return=final_ret['k200ew'])\n",
    "\n",
    "# temp_perf1 = perf.analyze_performance(final_ret['mfm_emp'], \n",
    "#                                      model_name = 'mfm_emp',\n",
    "#                                      bm_return=final_ret['k200ew'])\n",
    "\n",
    "# temp_perf2 = perf.analyze_performance(final_ret['dynamic'], \n",
    "#                                      model_name = 'dynamic',\n",
    "#                                      bm_return=final_ret['k200ew'])\n",
    "\n",
    "# temp_perf3 = perf.analyze_performance(final_ret['mlq'],\n",
    "#                                      # weights = daily_w,\n",
    "#                                      model_name = 'mlq',\n",
    "#                                      bm_return=final_ret['k200ew'])"
   ]
  },
  {
   "cell_type": "code",
   "execution_count": 131,
   "id": "8d04350c-16f9-4d71-ad7c-ea1dcf1ff982",
   "metadata": {
    "execution": {
     "iopub.execute_input": "2023-11-08T06:06:34.292406Z",
     "iopub.status.busy": "2023-11-08T06:06:34.291875Z",
     "iopub.status.idle": "2023-11-08T06:06:34.296745Z",
     "shell.execute_reply": "2023-11-08T06:06:34.295549Z",
     "shell.execute_reply.started": "2023-11-08T06:06:34.292354Z"
    },
    "tags": []
   },
   "outputs": [],
   "source": [
    "# pd.concat([temp_perf0, temp_perf1, temp_perf2, temp_perf3]).T #  "
   ]
  },
  {
   "cell_type": "code",
   "execution_count": null,
   "id": "1fdffcee-85b4-4fef-a4d2-f9ad5229635d",
   "metadata": {},
   "outputs": [],
   "source": []
  },
  {
   "cell_type": "markdown",
   "id": "9e93f0a4-3aae-4ea1-80b4-b7aebd8ddd84",
   "metadata": {},
   "source": [
    "## turnover ratio"
   ]
  },
  {
   "cell_type": "code",
   "execution_count": 132,
   "id": "a77953dd-c1b2-4b1d-8ab0-35081dfed678",
   "metadata": {
    "execution": {
     "iopub.execute_input": "2023-11-08T06:06:35.324540Z",
     "iopub.status.busy": "2023-11-08T06:06:35.323928Z",
     "iopub.status.idle": "2023-11-08T06:06:35.334960Z",
     "shell.execute_reply": "2023-11-08T06:06:35.333917Z",
     "shell.execute_reply.started": "2023-11-08T06:06:35.324484Z"
    },
    "tags": []
   },
   "outputs": [
    {
     "data": {
      "text/plain": [
       "4.36129337505927"
      ]
     },
     "execution_count": 132,
     "metadata": {},
     "output_type": "execute_result"
    }
   ],
   "source": [
    "w_diff=abs(daily_w.diff(1))\n",
    "np.sum(w_diff).sum()"
   ]
  },
  {
   "cell_type": "code",
   "execution_count": 133,
   "id": "d2245092-0f73-4919-b59d-fa772396f4fd",
   "metadata": {
    "execution": {
     "iopub.execute_input": "2023-11-08T06:06:35.555519Z",
     "iopub.status.busy": "2023-11-08T06:06:35.555008Z",
     "iopub.status.idle": "2023-11-08T06:06:35.565127Z",
     "shell.execute_reply": "2023-11-08T06:06:35.564115Z",
     "shell.execute_reply.started": "2023-11-08T06:06:35.555468Z"
    },
    "tags": []
   },
   "outputs": [
    {
     "data": {
      "text/plain": [
       "9.61221580021587"
      ]
     },
     "execution_count": 133,
     "metadata": {},
     "output_type": "execute_result"
    }
   ],
   "source": [
    "np.sum(w_diff).sum()**(1/(len(w_diff.index)-1)*252)"
   ]
  },
  {
   "cell_type": "code",
   "execution_count": null,
   "id": "4abc0de5-039f-41b2-b98b-b70319722448",
   "metadata": {
    "tags": []
   },
   "outputs": [],
   "source": []
  },
  {
   "cell_type": "markdown",
   "id": "80b44c43-a5bc-4b72-bf0a-98deb9310adc",
   "metadata": {},
   "source": [
    "# monthly return plot"
   ]
  },
  {
   "cell_type": "code",
   "execution_count": 134,
   "id": "f6629df1-6c5f-41a8-a582-6f343bab5fd1",
   "metadata": {
    "execution": {
     "iopub.execute_input": "2023-11-08T06:06:36.220674Z",
     "iopub.status.busy": "2023-11-08T06:06:36.220157Z",
     "iopub.status.idle": "2023-11-08T06:06:36.542349Z",
     "shell.execute_reply": "2023-11-08T06:06:36.541592Z",
     "shell.execute_reply.started": "2023-11-08T06:06:36.220623Z"
    },
    "tags": []
   },
   "outputs": [
    {
     "name": "stdout",
     "output_type": "stream",
     "text": [
      "2023-03-31 00:00:00\n",
      "2023-04-28 00:00:00\n",
      "2023-05-31 00:00:00\n",
      "2023-06-30 00:00:00\n",
      "2023-07-31 00:00:00\n",
      "2023-08-31 00:00:00\n",
      "2023-09-27 00:00:00\n",
      "2023-10-31 00:00:00\n"
     ]
    },
    {
     "data": {
      "image/png": "[encoded data removed]",
      "text/plain": [
       "<Figure size 864x576 with 1 Axes>"
      ]
     },
     "metadata": {
      "needs_background": "light"
     },
     "output_type": "display_data"
    }
   ],
   "source": [
    "cumret_ls=[]\n",
    "lastret_ls=[]\n",
    "bm_ls=[]\n",
    "init_ls=[]\n",
    "end_ls=[]\n",
    "\n",
    "temp_eom=final_ret.index+pd.offsets.MonthEnd(0)\n",
    "temp_eom=temp_eom.unique()\n",
    "for idx in temp_eom[1:]:\n",
    "    \n",
    "    temp_df = final_ret.loc[final_ret.index.to_period('M')==idx.to_period('M')]\n",
    "    temp_cum_ret=(1+temp_df).cumprod()-1\n",
    "    \n",
    "    # temp_bm=bm_ret.loc[bm_ret.index.to_period('M')==idx.to_period('M')]           \n",
    "    # temp_bm_ret=(1+temp_bm).cumprod()-1\n",
    "    \n",
    "    if temp_cum_ret.index[-1] not in init_ls:\n",
    "        init_ls.append(temp_cum_ret.index[-1])\n",
    "        end_ls.append(temp_cum_ret.index[0])\n",
    "        \n",
    "        # bm_ls.append(temp_bm_ret)\n",
    "        cumret_ls.append(temp_cum_ret)\n",
    "        lastret_ls.append(temp_cum_ret.iloc[-1])\n",
    "                \n",
    "\n",
    "# bm_ret_m=pd.concat(bm_ls) #.sort_index()\n",
    "ret_m=pd.concat(cumret_ls) #.sort_index()\n",
    "\n",
    "# ret_bm_m=pd.concat([ret_m, bm_ret_m], axis=1).dropna()\n",
    "ret_m.columns=['dynamic', 'mlq', 'k200', 'k200ew'] # 'mfm', 'mfm_emp', \n",
    "\n",
    "\n",
    "fig, ax1=plt.subplots(figsize=(12, 8))\n",
    "\n",
    "for col in ret_m.columns:\n",
    "    plt.plot(ret_m.index, ret_m.loc[:, col], label=col)\n",
    "    # plt.plot(ret_m.index, ret_m.iloc[:, -1], label=col, linewidth=2.5, linestyle='--')\n",
    "\n",
    "for j, vl in enumerate(init_ls):\n",
    "    print(vl)\n",
    "    plt.axvline(x=vl, color='gray', linestyle='-', linewidth=3)\n",
    "    plt.axvline(x=end_ls[j], color='gray', linestyle='-', linewidth=3)\n",
    "    \n",
    "# for col in ret_bm_m.columns:\n",
    "    # final_value = ret_bm_m[col].iloc[-12]\n",
    "    # plt.text(temp_cum_ret.index[-12], final_value, col, fontsize=14, va='bottom')\n",
    "    # plt.text(1, y[i], str(txt), ha='center', va='bottom', fontsize=10, loc='best')\n",
    "\n",
    "plt.legend()\n",
    "plt.show()"
   ]
  },
  {
   "cell_type": "code",
   "execution_count": 135,
   "id": "fd8f77e3-24d8-4329-9042-0e83d8d2a66b",
   "metadata": {
    "execution": {
     "iopub.execute_input": "2023-11-08T06:06:36.686280Z",
     "iopub.status.busy": "2023-11-08T06:06:36.686043Z",
     "iopub.status.idle": "2023-11-08T06:06:36.957854Z",
     "shell.execute_reply": "2023-11-08T06:06:36.956998Z",
     "shell.execute_reply.started": "2023-11-08T06:06:36.686256Z"
    },
    "tags": []
   },
   "outputs": [
    {
     "data": {
      "image/png": "[encoded data removed]",
      "text/plain": [
       "<Figure size 864x576 with 1 Axes>"
      ]
     },
     "metadata": {
      "needs_background": "light"
     },
     "output_type": "display_data"
    }
   ],
   "source": [
    "month_endret=pd.concat(lastret_ls, axis=1).T\n",
    "month_endret.index.name='Dates'\n",
    "\n",
    "fig, ax = plt.subplots(figsize = (12, 8))\n",
    "\n",
    "\n",
    "for i, col in enumerate(month_endret.columns):\n",
    "    plt.bar(month_endret.index + pd.DateOffset(days=i*2), month_endret[col], 2)\n",
    "    \n",
    "ax.legend(labels = month_endret.columns,\n",
    "      fontsize = 12,\n",
    "      title_fontsize = 18)\n",
    "ax.legend_.set_bbox_to_anchor([0.3, 1])\n",
    "    "
   ]
  },
  {
   "cell_type": "code",
   "execution_count": null,
   "id": "da0cdd89-45bd-46ae-a8b8-00b93471d0d1",
   "metadata": {},
   "outputs": [],
   "source": []
  },
  {
   "cell_type": "code",
   "execution_count": null,
   "id": "faa83020-e256-4153-b26c-f0b627d27118",
   "metadata": {},
   "outputs": [],
   "source": []
  },
  {
   "cell_type": "code",
   "execution_count": null,
   "id": "1e61310f-747c-4a87-b29a-714518f4c19d",
   "metadata": {},
   "outputs": [],
   "source": []
  }
 ],
 "metadata": {
  "kernelspec": {
   "display_name": "base",
   "language": "python",
   "name": "python3"
  },
  "language_info": {
   "codemirror_mode": {
    "name": "ipython",
    "version": 3
   },
   "file_extension": ".py",
   "mimetype": "text/x-python",
   "name": "python",
   "nbconvert_exporter": "python",
   "pygments_lexer": "ipython3",
   "version": "3.9.12"
  }
 },
 "nbformat": 4,
 "nbformat_minor": 5
}
