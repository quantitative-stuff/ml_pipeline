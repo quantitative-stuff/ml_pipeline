{
 "cells": [
  {
   "cell_type": "code",
   "execution_count": 3,
   "id": "95e458f6-1ba9-4242-87b2-b555a5025f2e",
   "metadata": {
    "execution": {
     "iopub.execute_input": "2023-11-17T06:49:33.309124Z",
     "iopub.status.busy": "2023-11-17T06:49:33.308493Z",
     "iopub.status.idle": "2023-11-17T06:49:33.314075Z",
     "shell.execute_reply": "2023-11-17T06:49:33.312792Z",
     "shell.execute_reply.started": "2023-11-17T06:49:33.309068Z"
    }
   },
   "outputs": [],
   "source": [
    "import pandas as pd\n",
    "import numpy as np\n"
   ]
  },
  {
   "cell_type": "code",
   "execution_count": 4,
   "id": "8171fb7e-0122-4c36-9e89-0b4def61c73a",
   "metadata": {
    "execution": {
     "iopub.execute_input": "2023-11-17T06:49:34.351281Z",
     "iopub.status.busy": "2023-11-17T06:49:34.350743Z",
     "iopub.status.idle": "2023-11-17T06:49:34.356672Z",
     "shell.execute_reply": "2023-11-17T06:49:34.355510Z",
     "shell.execute_reply.started": "2023-11-17T06:49:34.351229Z"
    },
    "tags": []
   },
   "outputs": [],
   "source": [
    "from matplotlib import pyplot as plt\n",
    "import seaborn as sns\n",
    "\n",
    "import cx_Oracle\n",
    "import os\n",
    "os.putenv(' NLS_LANG', '.UTF8')\n"
   ]
  },
  {
   "cell_type": "code",
   "execution_count": 6,
   "id": "7956dd90-8775-4797-b1d0-29daa55c37f3",
   "metadata": {
    "execution": {
     "iopub.execute_input": "2023-11-17T06:52:02.061534Z",
     "iopub.status.busy": "2023-11-17T06:52:02.061257Z",
     "iopub.status.idle": "2023-11-17T06:52:02.234616Z",
     "shell.execute_reply": "2023-11-17T06:52:02.233490Z",
     "shell.execute_reply.started": "2023-11-17T06:52:02.061507Z"
    }
   },
   "outputs": [],
   "source": [
    "from sqlalchemy import create_engine, text"
   ]
  },
  {
   "cell_type": "code",
   "execution_count": 5,
   "id": "7d31ec49-a933-4aef-b21d-026e98e56f8a",
   "metadata": {
    "execution": {
     "iopub.execute_input": "2023-11-17T06:49:35.872800Z",
     "iopub.status.busy": "2023-11-17T06:49:35.872194Z",
     "iopub.status.idle": "2023-11-17T06:52:02.038498Z",
     "shell.execute_reply": "2023-11-17T06:52:02.037503Z",
     "shell.execute_reply.started": "2023-11-17T06:49:35.872747Z"
    },
    "tags": []
   },
   "outputs": [
    {
     "name": "stderr",
     "output_type": "stream",
     "text": [
      "<ipython-input-5-4c682375b2e8>:19: FutureWarning: In a future version of pandas all arguments of DataFrame.sort_index will be keyword-only.\n",
      "  k200_df=k200_df.sort_index(0)\n"
     ]
    }
   ],
   "source": [
    "dsn = cx_Oracle.makedsn('192.168.1.5', '1521', service_name = 'ORA11')\n",
    "con = cx_Oracle.connect('dbam', 'dbamkass', dsn = dsn, encoding=\"UTF-8\")\n",
    "cur = con.cursor()\n",
    "\n",
    "sql_k200 = \" select 일자, 종목코드2 종목코드, 종목명_국문 종목명, 당일가격, 지수내비중, 상장주식수, 유동비율, \\\n",
    "            지수주식수, 지수시가총액 \\\n",
    "             from KASS1.TH068 \\\n",
    "             where 익일적용여부 ='NXT' \\\n",
    "             and ISIN = 'KRD020020016' \\\n",
    "             order by 지수내비중 desc \"\n",
    "\n",
    "cur.execute(sql_k200)\n",
    "k200_df = pd.DataFrame(cur.fetchall(), columns = [x[0] for x in cur.description])\n",
    "\n",
    "k200_df['일자']=pd.to_datetime(k200_df['일자'], format ='%Y%m%d')\n",
    "k200_df.set_index(['일자', '종목코드'], inplace=True)\n",
    "k200_df.index.names=['Dates', 'Symbol']\n",
    "k200_df.columns=['name', 'close', 'idx_weight', 'num_shares', 'float_rate', 'idx_num_shares', 'idx_cap']\n",
    "k200_df=k200_df.sort_index(0)"
   ]
  },
  {
   "cell_type": "code",
   "execution_count": null,
   "id": "15ae7c23-b814-44b6-94a9-44a6a7ef079d",
   "metadata": {},
   "outputs": [],
   "source": []
  },
  {
   "cell_type": "code",
   "execution_count": null,
   "id": "88789e94-978f-4fc9-b11b-398893ff01a6",
   "metadata": {},
   "outputs": [],
   "source": []
  },
  {
   "cell_type": "code",
   "execution_count": 7,
   "id": "79ba182c-56c7-471c-a3e7-e225c3499dfb",
   "metadata": {
    "execution": {
     "iopub.execute_input": "2023-11-17T06:52:02.236234Z",
     "iopub.status.busy": "2023-11-17T06:52:02.235765Z",
     "iopub.status.idle": "2023-11-17T06:52:02.282499Z",
     "shell.execute_reply": "2023-11-17T06:52:02.281487Z",
     "shell.execute_reply.started": "2023-11-17T06:52:02.236203Z"
    }
   },
   "outputs": [],
   "source": [
    "host = '192.168.1.27'\n",
    "port = '3306'\n",
    "db_name = 'quantdb_maria'\n",
    "username = 'quantdb'\n",
    "password = 'QuantDb2023!'\n",
    "\n",
    "engine = create_engine(\"mysql+pymysql://\" + username + \":\" + password + \"@\" + host + \":\" + port + \"/\" + db_name)\n",
    "conn=engine.connect()"
   ]
  },
  {
   "cell_type": "code",
   "execution_count": null,
   "id": "62cc5669-51d2-4f01-884d-111b97ff7019",
   "metadata": {},
   "outputs": [],
   "source": []
  }
 ],
 "metadata": {
  "kernelspec": {
   "display_name": "base",
   "language": "python",
   "name": "python3"
  },
  "language_info": {
   "codemirror_mode": {
    "name": "ipython",
    "version": 3
   },
   "file_extension": ".py",
   "mimetype": "text/x-python",
   "name": "python",
   "nbconvert_exporter": "python",
   "pygments_lexer": "ipython3",
   "version": "3.9.12"
  }
 },
 "nbformat": 4,
 "nbformat_minor": 5
}
