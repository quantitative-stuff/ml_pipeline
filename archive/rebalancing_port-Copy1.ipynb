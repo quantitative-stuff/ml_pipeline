{
 "cells": [
  {
   "cell_type": "code",
   "execution_count": 1,
   "id": "8e8f0e0e-ceb1-4332-adee-bc7f1339e2da",
   "metadata": {
    "execution": {
     "iopub.execute_input": "2024-05-07T06:50:39.183179Z",
     "iopub.status.busy": "2024-05-07T06:50:39.182745Z",
     "iopub.status.idle": "2024-05-07T06:50:39.641368Z",
     "shell.execute_reply": "2024-05-07T06:50:39.640564Z",
     "shell.execute_reply.started": "2024-05-07T06:50:39.183133Z"
    },
    "tags": []
   },
   "outputs": [],
   "source": [
    "import pandas as pd"
   ]
  },
  {
   "cell_type": "code",
   "execution_count": 2,
   "id": "87b1297c-fb6c-4caf-b1aa-a23a952388ad",
   "metadata": {
    "execution": {
     "iopub.execute_input": "2024-05-07T06:50:39.642641Z",
     "iopub.status.busy": "2024-05-07T06:50:39.642251Z",
     "iopub.status.idle": "2024-05-07T06:50:39.798558Z",
     "shell.execute_reply": "2024-05-07T06:50:39.797660Z",
     "shell.execute_reply.started": "2024-05-07T06:50:39.642620Z"
    }
   },
   "outputs": [],
   "source": [
    "from sqlalchemy import create_engine, text"
   ]
  },
  {
   "cell_type": "code",
   "execution_count": 3,
   "id": "f31f2c62-a0de-4527-88ac-26dc5e519bca",
   "metadata": {
    "execution": {
     "iopub.execute_input": "2024-05-07T06:50:39.800744Z",
     "iopub.status.busy": "2024-05-07T06:50:39.800397Z",
     "iopub.status.idle": "2024-05-07T06:50:42.485524Z",
     "shell.execute_reply": "2024-05-07T06:50:42.484715Z",
     "shell.execute_reply.started": "2024-05-07T06:50:39.800723Z"
    },
    "tags": []
   },
   "outputs": [
    {
     "name": "stderr",
     "output_type": "stream",
     "text": [
      "2024-05-07 15:50:40.631319: I tensorflow/core/util/port.cc:110] oneDNN custom operations are on. You may see slightly different numerical results due to floating-point round-off errors from different computation orders. To turn them off, set the environment variable `TF_ENABLE_ONEDNN_OPTS=0`.\n",
      "2024-05-07 15:50:40.687291: I tensorflow/core/platform/cpu_feature_guard.cc:182] This TensorFlow binary is optimized to use available CPU instructions in performance-critical operations.\n",
      "To enable the following instructions: AVX2 AVX512F AVX512_VNNI FMA, in other operations, rebuild TensorFlow with the appropriate compiler flags.\n"
     ]
    }
   ],
   "source": [
    "import sys\n",
    "\n",
    "# os.chdir('C:/Users/user/Documents/hs/pipeline-main/pipeline-main/')\n",
    "\n",
    "sys.path.append('../py')\n",
    "\n",
    "import data_processing as proc\n",
    "import utils\n",
    "import performance as perf\n"
   ]
  },
  {
   "cell_type": "code",
   "execution_count": 4,
   "id": "c5fbdf34-6469-40f6-82a9-4946ed63873f",
   "metadata": {
    "execution": {
     "iopub.execute_input": "2024-05-07T06:50:42.486718Z",
     "iopub.status.busy": "2024-05-07T06:50:42.486318Z",
     "iopub.status.idle": "2024-05-07T06:50:42.491950Z",
     "shell.execute_reply": "2024-05-07T06:50:42.491222Z",
     "shell.execute_reply.started": "2024-05-07T06:50:42.486695Z"
    }
   },
   "outputs": [],
   "source": [
    "import cx_Oracle\n",
    "import os\n",
    "os.putenv(' NLS_LANG', '.UTF8')"
   ]
  },
  {
   "cell_type": "code",
   "execution_count": 5,
   "id": "e8ca7295-af11-4d6e-8fd8-38912b977f53",
   "metadata": {
    "execution": {
     "iopub.execute_input": "2024-05-07T06:50:42.493007Z",
     "iopub.status.busy": "2024-05-07T06:50:42.492728Z",
     "iopub.status.idle": "2024-05-07T06:50:42.538924Z",
     "shell.execute_reply": "2024-05-07T06:50:42.537904Z",
     "shell.execute_reply.started": "2024-05-07T06:50:42.492986Z"
    }
   },
   "outputs": [],
   "source": [
    "dsn = cx_Oracle.makedsn('192.168.1.5', '1521', service_name = 'ORA11')\n",
    "con = cx_Oracle.connect('dbam', 'dbamkass', dsn = dsn, encoding=\"UTF-8\")\n",
    "cur = con.cursor()"
   ]
  },
  {
   "cell_type": "code",
   "execution_count": 6,
   "id": "463aede7-9097-4c4f-a077-cea2a3cdcb43",
   "metadata": {
    "execution": {
     "iopub.execute_input": "2024-05-07T06:50:42.540841Z",
     "iopub.status.busy": "2024-05-07T06:50:42.540307Z",
     "iopub.status.idle": "2024-05-07T06:53:18.790076Z",
     "shell.execute_reply": "2024-05-07T06:53:18.788820Z",
     "shell.execute_reply.started": "2024-05-07T06:50:42.540797Z"
    },
    "tags": []
   },
   "outputs": [],
   "source": [
    "sql_k200 = \" select 일자, 종목코드2 종목코드, 종목명_국문 종목명, 당일가격, 지수내비중, 상장주식수, 유동비율, \\\n",
    "            지수주식수, 지수시가총액 \\\n",
    "             from KASS1.TH068 \\\n",
    "             where 익일적용여부 ='NXT' \\\n",
    "             and ISIN = 'KRD020020016' \\\n",
    "             order by 지수내비중 desc \"\n",
    "\n",
    "cur.execute(sql_k200)\n",
    "k200_df = pd.DataFrame(cur.fetchall(), columns = [x[0] for x in cur.description])\n",
    "\n"
   ]
  },
  {
   "cell_type": "code",
   "execution_count": 7,
   "id": "c414d046-a175-4bd0-a14b-afabdb915588",
   "metadata": {
    "execution": {
     "iopub.execute_input": "2024-05-07T06:53:18.791556Z",
     "iopub.status.busy": "2024-05-07T06:53:18.791305Z",
     "iopub.status.idle": "2024-05-07T06:53:18.920250Z",
     "shell.execute_reply": "2024-05-07T06:53:18.919444Z",
     "shell.execute_reply.started": "2024-05-07T06:53:18.791535Z"
    },
    "scrolled": true
   },
   "outputs": [],
   "source": [
    "k200_df['일자']=pd.to_datetime(k200_df['일자'], format ='%Y%m%d')\n",
    "k200_df.set_index(['일자', '종목코드'], inplace=True)\n",
    "k200_df.index.names=['Dates', 'Symbol']\n",
    "k200_df.columns=['name', 'close', 'idx_weight', 'num_shares', 'float_rate', 'idx_num_shares', 'idx_cap']\n"
   ]
  },
  {
   "cell_type": "code",
   "execution_count": 8,
   "id": "5bacbe6f-d2eb-46ee-9636-8645d2d26d49",
   "metadata": {
    "execution": {
     "iopub.execute_input": "2024-05-07T06:53:18.921288Z",
     "iopub.status.busy": "2024-05-07T06:53:18.921058Z",
     "iopub.status.idle": "2024-05-07T06:53:19.060946Z",
     "shell.execute_reply": "2024-05-07T06:53:19.059901Z",
     "shell.execute_reply.started": "2024-05-07T06:53:18.921257Z"
    }
   },
   "outputs": [],
   "source": [
    "k200_df=k200_df.sort_index(level='Dates')"
   ]
  },
  {
   "cell_type": "code",
   "execution_count": 9,
   "id": "87218717-06af-4c15-ba69-b5cbf58a848e",
   "metadata": {
    "execution": {
     "iopub.execute_input": "2024-05-07T06:53:19.062111Z",
     "iopub.status.busy": "2024-05-07T06:53:19.061878Z",
     "iopub.status.idle": "2024-05-07T06:53:19.106839Z",
     "shell.execute_reply": "2024-05-07T06:53:19.105859Z",
     "shell.execute_reply.started": "2024-05-07T06:53:19.062091Z"
    },
    "tags": []
   },
   "outputs": [],
   "source": [
    "host = '192.168.1.27'\n",
    "port = '3306'\n",
    "db_name = 'quantdb_maria'\n",
    "username = 'quantdb'\n",
    "password = 'QuantDb2023!'\n",
    "\n",
    "engine = create_engine(\"mysql+pymysql://\" + username + \":\" + password + \"@\" + host + \":\" + port + \"/\" + db_name)\n",
    "conn=engine.connect()"
   ]
  },
  {
   "cell_type": "code",
   "execution_count": 10,
   "id": "cf8d8f51-57ff-4d2a-9800-5fd759d449dc",
   "metadata": {
    "execution": {
     "iopub.execute_input": "2024-05-07T06:53:19.107922Z",
     "iopub.status.busy": "2024-05-07T06:53:19.107688Z",
     "iopub.status.idle": "2024-05-07T06:53:19.111677Z",
     "shell.execute_reply": "2024-05-07T06:53:19.110938Z",
     "shell.execute_reply.started": "2024-05-07T06:53:19.107899Z"
    },
    "tags": []
   },
   "outputs": [],
   "source": [
    "period1='2014-09-01'\n",
    "period2='2024-03-29'"
   ]
  },
  {
   "cell_type": "code",
   "execution_count": 11,
   "id": "dc9f8922-b5b5-41e2-8e1a-a312b36da5a6",
   "metadata": {
    "execution": {
     "iopub.execute_input": "2024-05-07T06:53:19.112725Z",
     "iopub.status.busy": "2024-05-07T06:53:19.112491Z",
     "iopub.status.idle": "2024-05-07T06:54:15.263203Z",
     "shell.execute_reply": "2024-05-07T06:54:15.262413Z",
     "shell.execute_reply.started": "2024-05-07T06:53:19.112702Z"
    },
    "tags": []
   },
   "outputs": [],
   "source": [
    "query_COM=f\"select * from COM_Table where Dates>='{period1}' and Dates<='{period2}'\"\n",
    "data_COM=pd.read_sql(query_COM, conn)"
   ]
  },
  {
   "cell_type": "code",
   "execution_count": 12,
   "id": "04564e16-61ac-4cb0-8bc0-91f22ac3f03e",
   "metadata": {
    "execution": {
     "iopub.execute_input": "2024-05-07T06:54:15.266057Z",
     "iopub.status.busy": "2024-05-07T06:54:15.265858Z",
     "iopub.status.idle": "2024-05-07T06:54:15.631559Z",
     "shell.execute_reply": "2024-05-07T06:54:15.630769Z",
     "shell.execute_reply.started": "2024-05-07T06:54:15.266041Z"
    },
    "tags": []
   },
   "outputs": [],
   "source": [
    "data_COM.set_index(['Dates','Symbol'], inplace=True)"
   ]
  },
  {
   "cell_type": "code",
   "execution_count": 13,
   "id": "b379dcfd-7fb4-48b5-a922-0a9d7bed0b26",
   "metadata": {
    "execution": {
     "iopub.execute_input": "2024-05-07T06:54:15.632560Z",
     "iopub.status.busy": "2024-05-07T06:54:15.632367Z",
     "iopub.status.idle": "2024-05-07T06:54:20.060012Z",
     "shell.execute_reply": "2024-05-07T06:54:20.059007Z",
     "shell.execute_reply.started": "2024-05-07T06:54:15.632543Z"
    },
    "tags": []
   },
   "outputs": [],
   "source": [
    "data_COM_nodup=data_COM.loc[~data_COM.index.duplicated(keep='last')].copy()"
   ]
  },
  {
   "cell_type": "code",
   "execution_count": 14,
   "id": "5013684a-1076-4862-a72b-0254c2bdf418",
   "metadata": {
    "execution": {
     "iopub.execute_input": "2024-05-07T06:54:20.061146Z",
     "iopub.status.busy": "2024-05-07T06:54:20.060953Z",
     "iopub.status.idle": "2024-05-07T06:55:49.823754Z",
     "shell.execute_reply": "2024-05-07T06:55:49.822055Z",
     "shell.execute_reply.started": "2024-05-07T06:54:20.061129Z"
    },
    "tags": []
   },
   "outputs": [],
   "source": [
    "query_SSC=f\"select * from SSC_table_Bak where Dates>='{period1}' and Dates<='{period2}'\"\n",
    "data_SSC=pd.read_sql(query_SSC, conn)"
   ]
  },
  {
   "cell_type": "code",
   "execution_count": 15,
   "id": "0c6dc32c-37d6-4c23-ac6f-05b2e6fa68ef",
   "metadata": {
    "execution": {
     "iopub.execute_input": "2024-05-07T06:55:49.825027Z",
     "iopub.status.busy": "2024-05-07T06:55:49.824812Z",
     "iopub.status.idle": "2024-05-07T06:55:50.503376Z",
     "shell.execute_reply": "2024-05-07T06:55:50.502590Z",
     "shell.execute_reply.started": "2024-05-07T06:55:49.825009Z"
    },
    "tags": []
   },
   "outputs": [],
   "source": [
    "data_SSC.set_index(['Dates','Symbol'], inplace=True)"
   ]
  },
  {
   "cell_type": "code",
   "execution_count": 16,
   "id": "56d66367-13fb-4cbe-ae50-cadaf27ee6f2",
   "metadata": {
    "execution": {
     "iopub.execute_input": "2024-05-07T06:55:50.504390Z",
     "iopub.status.busy": "2024-05-07T06:55:50.504199Z",
     "iopub.status.idle": "2024-05-07T06:56:02.947066Z",
     "shell.execute_reply": "2024-05-07T06:56:02.946281Z",
     "shell.execute_reply.started": "2024-05-07T06:55:50.504372Z"
    },
    "tags": []
   },
   "outputs": [],
   "source": [
    "data_SSC_nodup=data_SSC.loc[~data_SSC.index.duplicated(keep='last')].copy()"
   ]
  },
  {
   "cell_type": "code",
   "execution_count": 17,
   "id": "5ecce607-1d78-4fb1-b4ed-a2127d019e63",
   "metadata": {
    "execution": {
     "iopub.execute_input": "2024-05-07T06:56:02.948022Z",
     "iopub.status.busy": "2024-05-07T06:56:02.947835Z",
     "iopub.status.idle": "2024-05-07T06:56:02.955193Z",
     "shell.execute_reply": "2024-05-07T06:56:02.954522Z",
     "shell.execute_reply.started": "2024-05-07T06:56:02.948006Z"
    },
    "tags": []
   },
   "outputs": [
    {
     "data": {
      "text/plain": [
       "Index(['Name', 'MNGT', 'ClosePrc', 'OpenPrc', 'HighPrc', 'LowPrc', 'AdjPrc',\n",
       "       'AdjPrc2', 'AdjPrc_High_20D', 'AdjPrc_Low_20D', 'AdjPrc_High_60D',\n",
       "       'AdjPrc_Low_60D', 'AdjPrc_High_120D', 'AdjPrc_Low_120D',\n",
       "       'AdjPrc_High_52W', 'AdjPrc_Low_52W', 'ListedShares', 'ForeignStake',\n",
       "       'TradeStop', 'MktCap_Comm_Pref', 'MktCapCom', 'MktCap', 'Volume',\n",
       "       'Volume_Avg_20D', 'Volume_Avg_60D', 'Volume_Avg_120D', 'Volume_Avg_52W',\n",
       "       'Amt_Avg_20D', 'Amt_Avg_60D', 'Amt_Avg_120D', 'Amt_Avg_52W', 'Vol_20D',\n",
       "       'Vol_120D'],\n",
       "      dtype='object')"
      ]
     },
     "execution_count": 17,
     "metadata": {},
     "output_type": "execute_result"
    }
   ],
   "source": [
    "data_SSC.columns"
   ]
  },
  {
   "cell_type": "code",
   "execution_count": 18,
   "id": "d0300b09-fd92-44e8-adb3-294cec66d41a",
   "metadata": {
    "execution": {
     "iopub.execute_input": "2024-05-07T06:56:02.956048Z",
     "iopub.status.busy": "2024-05-07T06:56:02.955855Z",
     "iopub.status.idle": "2024-05-07T06:56:02.983059Z",
     "shell.execute_reply": "2024-05-07T06:56:02.982192Z",
     "shell.execute_reply.started": "2024-05-07T06:56:02.956030Z"
    },
    "tags": []
   },
   "outputs": [
    {
     "data": {
      "text/plain": [
       "Index(['Name', 'KC_Industry', 'FG_IndustryGroup27', 'FG_Sector_Idx',\n",
       "       'FG_IndustryGroup_Idx', 'FG_Industry_Idx', 'AuditOpinion', 'Caution',\n",
       "       'KSECapSize', 'KLCAIndustry', 'Market', 'KOSPI200YN', 'FiscalMonth',\n",
       "       'KOSPI100YN'],\n",
       "      dtype='object')"
      ]
     },
     "execution_count": 18,
     "metadata": {},
     "output_type": "execute_result"
    }
   ],
   "source": [
    "data_COM.columns"
   ]
  },
  {
   "cell_type": "code",
   "execution_count": 19,
   "id": "bbddbd32-f9e0-410a-9a5d-f9ff6f5ce6c7",
   "metadata": {
    "execution": {
     "iopub.execute_input": "2024-05-07T06:56:02.984663Z",
     "iopub.status.busy": "2024-05-07T06:56:02.984187Z",
     "iopub.status.idle": "2024-05-07T06:56:04.306253Z",
     "shell.execute_reply": "2024-05-07T06:56:04.305474Z",
     "shell.execute_reply.started": "2024-05-07T06:56:02.984620Z"
    },
    "tags": []
   },
   "outputs": [],
   "source": [
    "query_idx=f\"select * from krx_idx\"\n",
    "krx_idx=pd.read_sql(query_idx, conn)"
   ]
  },
  {
   "cell_type": "code",
   "execution_count": 20,
   "id": "aaeac900-55e2-4820-ab79-893497faab87",
   "metadata": {
    "execution": {
     "iopub.execute_input": "2024-05-07T06:56:04.307251Z",
     "iopub.status.busy": "2024-05-07T06:56:04.307060Z",
     "iopub.status.idle": "2024-05-07T06:56:04.311153Z",
     "shell.execute_reply": "2024-05-07T06:56:04.310492Z",
     "shell.execute_reply.started": "2024-05-07T06:56:04.307233Z"
    },
    "tags": []
   },
   "outputs": [],
   "source": [
    "krx_idx.set_index('Dates', inplace=True)\n"
   ]
  },
  {
   "cell_type": "code",
   "execution_count": null,
   "id": "d7bc9338-76c1-426a-8da0-8691293905fd",
   "metadata": {
    "tags": []
   },
   "outputs": [],
   "source": []
  },
  {
   "cell_type": "code",
   "execution_count": null,
   "id": "0032580c-ca81-42ef-9442-9f7d77120662",
   "metadata": {},
   "outputs": [],
   "source": []
  },
  {
   "cell_type": "code",
   "execution_count": 21,
   "id": "154e7f13-d336-45e1-b356-78d6201e518f",
   "metadata": {
    "execution": {
     "iopub.execute_input": "2024-05-07T06:56:04.311858Z",
     "iopub.status.busy": "2024-05-07T06:56:04.311705Z",
     "iopub.status.idle": "2024-05-07T06:56:04.759650Z",
     "shell.execute_reply": "2024-05-07T06:56:04.758942Z",
     "shell.execute_reply.started": "2024-05-07T06:56:04.311843Z"
    },
    "tags": []
   },
   "outputs": [
    {
     "data": {
      "text/plain": [
       "<Axes: xlabel='Dates'>"
      ]
     },
     "execution_count": 21,
     "metadata": {},
     "output_type": "execute_result"
    },
    {
     "data": {
      "image/png": "[encoded data removed]",
      "text/plain": [
       "<Figure size 640x480 with 1 Axes>"
      ]
     },
     "metadata": {},
     "output_type": "display_data"
    }
   ],
   "source": [
    "(1+krx_idx['코스피 200'].pct_change().loc['2014-10-02':]).cumprod().plot()"
   ]
  },
  {
   "cell_type": "code",
   "execution_count": null,
   "id": "61eb13a7-7318-4973-9e24-8ccf8f782ec9",
   "metadata": {},
   "outputs": [],
   "source": []
  },
  {
   "cell_type": "code",
   "execution_count": null,
   "id": "2ce8471b-8aea-4b91-aa8b-6c5c71de9177",
   "metadata": {},
   "outputs": [],
   "source": []
  },
  {
   "cell_type": "markdown",
   "id": "8da75ec0-d8e5-4782-8d6e-2c812d0476ba",
   "metadata": {},
   "source": [
    "# backtesting"
   ]
  },
  {
   "cell_type": "code",
   "execution_count": 22,
   "id": "21c17e2f-85c3-48b0-913d-c33b04f2c030",
   "metadata": {
    "execution": {
     "iopub.execute_input": "2024-05-07T06:56:04.760625Z",
     "iopub.status.busy": "2024-05-07T06:56:04.760430Z",
     "iopub.status.idle": "2024-05-07T06:56:05.954145Z",
     "shell.execute_reply": "2024-05-07T06:56:05.953365Z",
     "shell.execute_reply.started": "2024-05-07T06:56:04.760608Z"
    },
    "tags": []
   },
   "outputs": [],
   "source": [
    "adjprc=data_SSC_nodup['AdjPrc'].unstack()\n",
    "adjprc=adjprc.astype(float)"
   ]
  },
  {
   "cell_type": "code",
   "execution_count": 583,
   "id": "d74435b3-c48a-44a2-ab03-d55c6d7e88d4",
   "metadata": {
    "execution": {
     "iopub.execute_input": "2024-05-15T22:49:15.070113Z",
     "iopub.status.busy": "2024-05-15T22:49:15.069582Z",
     "iopub.status.idle": "2024-05-15T22:49:15.109705Z",
     "shell.execute_reply": "2024-05-15T22:49:15.108624Z",
     "shell.execute_reply.started": "2024-05-15T22:49:15.070065Z"
    },
    "tags": []
   },
   "outputs": [],
   "source": [
    "data_path='../data/output/prob_out/'\n",
    "# file_name='multilayer_factor_rolling_v1.0_2024-03-29_ver0.1.csv'\n",
    "file_name='prob_res_2014-01-29_2024-02-29_ver0.1.csv'\n",
    "# hyungshin.lee/data/output/prob_out/prob_res_2013-01-25_2023-08-31.csv\n",
    "raw_prob=pd.read_csv(data_path+file_name, index_col=0)\n",
    "\n",
    "# mlq_w=pd.read_excel(data_path + 'monthly_port.xlsx', index_col=0)"
   ]
  },
  {
   "cell_type": "code",
   "execution_count": 584,
   "id": "053c934d-7d91-4a4f-8bfb-4dd64b78d242",
   "metadata": {
    "execution": {
     "iopub.execute_input": "2024-05-15T22:49:18.559748Z",
     "iopub.status.busy": "2024-05-15T22:49:18.559222Z",
     "iopub.status.idle": "2024-05-15T22:49:18.567930Z",
     "shell.execute_reply": "2024-05-15T22:49:18.566731Z",
     "shell.execute_reply.started": "2024-05-15T22:49:18.559705Z"
    },
    "scrolled": true
   },
   "outputs": [
    {
     "data": {
      "text/plain": [
       "Index(['2017-01-06', '2017-01-13', '2017-01-20', '2017-01-26', '2017-02-03',\n",
       "       '2017-02-10', '2017-02-17', '2017-02-24', '2017-03-03', '2017-03-10',\n",
       "       ...\n",
       "       '2023-12-28', '2024-01-05', '2024-01-12', '2024-01-19', '2024-01-26',\n",
       "       '2024-02-02', '2024-02-08', '2024-02-16', '2024-02-23', '2024-02-29'],\n",
       "      dtype='object', name='Dates', length=373)"
      ]
     },
     "execution_count": 584,
     "metadata": {},
     "output_type": "execute_result"
    }
   ],
   "source": [
    "raw_prob.index"
   ]
  },
  {
   "cell_type": "code",
   "execution_count": 585,
   "id": "2f7471b2-968a-4965-9690-3f4274525c63",
   "metadata": {
    "execution": {
     "iopub.execute_input": "2024-05-15T22:49:31.826230Z",
     "iopub.status.busy": "2024-05-15T22:49:31.825702Z",
     "iopub.status.idle": "2024-05-15T22:49:31.866014Z",
     "shell.execute_reply": "2024-05-15T22:49:31.864923Z",
     "shell.execute_reply.started": "2024-05-15T22:49:31.826184Z"
    },
    "scrolled": true,
    "tags": []
   },
   "outputs": [
    {
     "data": {
      "text/html": [
       "<div>\n",
       "<style scoped>\n",
       "    .dataframe tbody tr th:only-of-type {\n",
       "        vertical-align: middle;\n",
       "    }\n",
       "\n",
       "    .dataframe tbody tr th {\n",
       "        vertical-align: top;\n",
       "    }\n",
       "\n",
       "    .dataframe thead th {\n",
       "        text-align: right;\n",
       "    }\n",
       "</style>\n",
       "<table border=\"1\" class=\"dataframe\">\n",
       "  <thead>\n",
       "    <tr style=\"text-align: right;\">\n",
       "      <th></th>\n",
       "      <th>A000030</th>\n",
       "      <th>A000050</th>\n",
       "      <th>A000070</th>\n",
       "      <th>A000080</th>\n",
       "      <th>A000100</th>\n",
       "      <th>A000120</th>\n",
       "      <th>A000140</th>\n",
       "      <th>A000150</th>\n",
       "      <th>A000210</th>\n",
       "      <th>A000230</th>\n",
       "      <th>...</th>\n",
       "      <th>A175330</th>\n",
       "      <th>A139130</th>\n",
       "      <th>A001570</th>\n",
       "      <th>A005420</th>\n",
       "      <th>A008730</th>\n",
       "      <th>A002710</th>\n",
       "      <th>A006110</th>\n",
       "      <th>A009970</th>\n",
       "      <th>A145720</th>\n",
       "      <th>A267260</th>\n",
       "    </tr>\n",
       "    <tr>\n",
       "      <th>Dates</th>\n",
       "      <th></th>\n",
       "      <th></th>\n",
       "      <th></th>\n",
       "      <th></th>\n",
       "      <th></th>\n",
       "      <th></th>\n",
       "      <th></th>\n",
       "      <th></th>\n",
       "      <th></th>\n",
       "      <th></th>\n",
       "      <th></th>\n",
       "      <th></th>\n",
       "      <th></th>\n",
       "      <th></th>\n",
       "      <th></th>\n",
       "      <th></th>\n",
       "      <th></th>\n",
       "      <th></th>\n",
       "      <th></th>\n",
       "      <th></th>\n",
       "      <th></th>\n",
       "    </tr>\n",
       "  </thead>\n",
       "  <tbody>\n",
       "    <tr>\n",
       "      <th>2017-01-06</th>\n",
       "      <td>0.202009</td>\n",
       "      <td>0.213429</td>\n",
       "      <td>0.206594</td>\n",
       "      <td>0.222489</td>\n",
       "      <td>0.192793</td>\n",
       "      <td>0.206674</td>\n",
       "      <td>0.187661</td>\n",
       "      <td>0.211250</td>\n",
       "      <td>0.209440</td>\n",
       "      <td>0.161159</td>\n",
       "      <td>...</td>\n",
       "      <td>NaN</td>\n",
       "      <td>NaN</td>\n",
       "      <td>NaN</td>\n",
       "      <td>NaN</td>\n",
       "      <td>NaN</td>\n",
       "      <td>NaN</td>\n",
       "      <td>NaN</td>\n",
       "      <td>NaN</td>\n",
       "      <td>NaN</td>\n",
       "      <td>NaN</td>\n",
       "    </tr>\n",
       "    <tr>\n",
       "      <th>2017-01-13</th>\n",
       "      <td>0.199454</td>\n",
       "      <td>0.212383</td>\n",
       "      <td>0.202911</td>\n",
       "      <td>0.221826</td>\n",
       "      <td>0.198615</td>\n",
       "      <td>0.207258</td>\n",
       "      <td>0.184772</td>\n",
       "      <td>0.210928</td>\n",
       "      <td>0.205835</td>\n",
       "      <td>0.161247</td>\n",
       "      <td>...</td>\n",
       "      <td>NaN</td>\n",
       "      <td>NaN</td>\n",
       "      <td>NaN</td>\n",
       "      <td>NaN</td>\n",
       "      <td>NaN</td>\n",
       "      <td>NaN</td>\n",
       "      <td>NaN</td>\n",
       "      <td>NaN</td>\n",
       "      <td>NaN</td>\n",
       "      <td>NaN</td>\n",
       "    </tr>\n",
       "    <tr>\n",
       "      <th>2017-01-20</th>\n",
       "      <td>0.197967</td>\n",
       "      <td>0.213269</td>\n",
       "      <td>0.202864</td>\n",
       "      <td>0.222847</td>\n",
       "      <td>0.200520</td>\n",
       "      <td>0.205254</td>\n",
       "      <td>0.183336</td>\n",
       "      <td>0.212298</td>\n",
       "      <td>0.204900</td>\n",
       "      <td>0.166422</td>\n",
       "      <td>...</td>\n",
       "      <td>NaN</td>\n",
       "      <td>NaN</td>\n",
       "      <td>NaN</td>\n",
       "      <td>NaN</td>\n",
       "      <td>NaN</td>\n",
       "      <td>NaN</td>\n",
       "      <td>NaN</td>\n",
       "      <td>NaN</td>\n",
       "      <td>NaN</td>\n",
       "      <td>NaN</td>\n",
       "    </tr>\n",
       "    <tr>\n",
       "      <th>2017-01-26</th>\n",
       "      <td>0.196514</td>\n",
       "      <td>0.213207</td>\n",
       "      <td>0.201616</td>\n",
       "      <td>0.221707</td>\n",
       "      <td>0.205032</td>\n",
       "      <td>0.203640</td>\n",
       "      <td>0.180936</td>\n",
       "      <td>0.212850</td>\n",
       "      <td>0.206762</td>\n",
       "      <td>0.166823</td>\n",
       "      <td>...</td>\n",
       "      <td>NaN</td>\n",
       "      <td>NaN</td>\n",
       "      <td>NaN</td>\n",
       "      <td>NaN</td>\n",
       "      <td>NaN</td>\n",
       "      <td>NaN</td>\n",
       "      <td>NaN</td>\n",
       "      <td>NaN</td>\n",
       "      <td>NaN</td>\n",
       "      <td>NaN</td>\n",
       "    </tr>\n",
       "    <tr>\n",
       "      <th>2017-02-03</th>\n",
       "      <td>0.200100</td>\n",
       "      <td>0.211997</td>\n",
       "      <td>0.198505</td>\n",
       "      <td>0.221687</td>\n",
       "      <td>0.204146</td>\n",
       "      <td>0.204283</td>\n",
       "      <td>0.172575</td>\n",
       "      <td>0.211672</td>\n",
       "      <td>0.204807</td>\n",
       "      <td>0.174064</td>\n",
       "      <td>...</td>\n",
       "      <td>NaN</td>\n",
       "      <td>NaN</td>\n",
       "      <td>NaN</td>\n",
       "      <td>NaN</td>\n",
       "      <td>NaN</td>\n",
       "      <td>NaN</td>\n",
       "      <td>NaN</td>\n",
       "      <td>NaN</td>\n",
       "      <td>NaN</td>\n",
       "      <td>NaN</td>\n",
       "    </tr>\n",
       "    <tr>\n",
       "      <th>...</th>\n",
       "      <td>...</td>\n",
       "      <td>...</td>\n",
       "      <td>...</td>\n",
       "      <td>...</td>\n",
       "      <td>...</td>\n",
       "      <td>...</td>\n",
       "      <td>...</td>\n",
       "      <td>...</td>\n",
       "      <td>...</td>\n",
       "      <td>...</td>\n",
       "      <td>...</td>\n",
       "      <td>...</td>\n",
       "      <td>...</td>\n",
       "      <td>...</td>\n",
       "      <td>...</td>\n",
       "      <td>...</td>\n",
       "      <td>...</td>\n",
       "      <td>...</td>\n",
       "      <td>...</td>\n",
       "      <td>...</td>\n",
       "      <td>...</td>\n",
       "    </tr>\n",
       "    <tr>\n",
       "      <th>2024-02-02</th>\n",
       "      <td>NaN</td>\n",
       "      <td>NaN</td>\n",
       "      <td>NaN</td>\n",
       "      <td>0.020217</td>\n",
       "      <td>0.025818</td>\n",
       "      <td>0.016344</td>\n",
       "      <td>NaN</td>\n",
       "      <td>0.022183</td>\n",
       "      <td>0.024446</td>\n",
       "      <td>NaN</td>\n",
       "      <td>...</td>\n",
       "      <td>0.023859</td>\n",
       "      <td>0.024005</td>\n",
       "      <td>0.020695</td>\n",
       "      <td>0.027580</td>\n",
       "      <td>0.021532</td>\n",
       "      <td>0.013047</td>\n",
       "      <td>0.021156</td>\n",
       "      <td>0.024797</td>\n",
       "      <td>0.027896</td>\n",
       "      <td>0.023444</td>\n",
       "    </tr>\n",
       "    <tr>\n",
       "      <th>2024-02-08</th>\n",
       "      <td>NaN</td>\n",
       "      <td>NaN</td>\n",
       "      <td>NaN</td>\n",
       "      <td>0.020032</td>\n",
       "      <td>0.025980</td>\n",
       "      <td>0.015417</td>\n",
       "      <td>NaN</td>\n",
       "      <td>0.022841</td>\n",
       "      <td>0.023763</td>\n",
       "      <td>NaN</td>\n",
       "      <td>...</td>\n",
       "      <td>0.025390</td>\n",
       "      <td>0.024822</td>\n",
       "      <td>0.021292</td>\n",
       "      <td>0.027748</td>\n",
       "      <td>0.026170</td>\n",
       "      <td>0.016089</td>\n",
       "      <td>0.021723</td>\n",
       "      <td>0.026376</td>\n",
       "      <td>0.028160</td>\n",
       "      <td>0.022096</td>\n",
       "    </tr>\n",
       "    <tr>\n",
       "      <th>2024-02-16</th>\n",
       "      <td>NaN</td>\n",
       "      <td>NaN</td>\n",
       "      <td>NaN</td>\n",
       "      <td>0.022642</td>\n",
       "      <td>0.026277</td>\n",
       "      <td>0.015752</td>\n",
       "      <td>NaN</td>\n",
       "      <td>0.023896</td>\n",
       "      <td>0.021194</td>\n",
       "      <td>NaN</td>\n",
       "      <td>...</td>\n",
       "      <td>0.025189</td>\n",
       "      <td>0.024910</td>\n",
       "      <td>0.021007</td>\n",
       "      <td>0.029489</td>\n",
       "      <td>0.033904</td>\n",
       "      <td>0.017759</td>\n",
       "      <td>0.025372</td>\n",
       "      <td>0.026740</td>\n",
       "      <td>0.028355</td>\n",
       "      <td>0.021878</td>\n",
       "    </tr>\n",
       "    <tr>\n",
       "      <th>2024-02-23</th>\n",
       "      <td>NaN</td>\n",
       "      <td>NaN</td>\n",
       "      <td>NaN</td>\n",
       "      <td>0.023336</td>\n",
       "      <td>0.028334</td>\n",
       "      <td>0.016233</td>\n",
       "      <td>NaN</td>\n",
       "      <td>0.026350</td>\n",
       "      <td>0.021248</td>\n",
       "      <td>NaN</td>\n",
       "      <td>...</td>\n",
       "      <td>0.027052</td>\n",
       "      <td>0.024967</td>\n",
       "      <td>0.024791</td>\n",
       "      <td>0.033190</td>\n",
       "      <td>0.039080</td>\n",
       "      <td>0.023644</td>\n",
       "      <td>0.028919</td>\n",
       "      <td>0.028689</td>\n",
       "      <td>0.029293</td>\n",
       "      <td>0.019133</td>\n",
       "    </tr>\n",
       "    <tr>\n",
       "      <th>2024-02-29</th>\n",
       "      <td>NaN</td>\n",
       "      <td>NaN</td>\n",
       "      <td>NaN</td>\n",
       "      <td>0.024173</td>\n",
       "      <td>0.030565</td>\n",
       "      <td>0.016970</td>\n",
       "      <td>NaN</td>\n",
       "      <td>0.025914</td>\n",
       "      <td>0.020401</td>\n",
       "      <td>NaN</td>\n",
       "      <td>...</td>\n",
       "      <td>0.027753</td>\n",
       "      <td>0.025880</td>\n",
       "      <td>0.026713</td>\n",
       "      <td>0.032829</td>\n",
       "      <td>0.037314</td>\n",
       "      <td>0.025674</td>\n",
       "      <td>0.029714</td>\n",
       "      <td>0.027293</td>\n",
       "      <td>0.032510</td>\n",
       "      <td>0.019712</td>\n",
       "    </tr>\n",
       "  </tbody>\n",
       "</table>\n",
       "<p>373 rows × 283 columns</p>\n",
       "</div>"
      ],
      "text/plain": [
       "             A000030   A000050   A000070   A000080   A000100   A000120  \\\n",
       "Dates                                                                    \n",
       "2017-01-06  0.202009  0.213429  0.206594  0.222489  0.192793  0.206674   \n",
       "2017-01-13  0.199454  0.212383  0.202911  0.221826  0.198615  0.207258   \n",
       "2017-01-20  0.197967  0.213269  0.202864  0.222847  0.200520  0.205254   \n",
       "2017-01-26  0.196514  0.213207  0.201616  0.221707  0.205032  0.203640   \n",
       "2017-02-03  0.200100  0.211997  0.198505  0.221687  0.204146  0.204283   \n",
       "...              ...       ...       ...       ...       ...       ...   \n",
       "2024-02-02       NaN       NaN       NaN  0.020217  0.025818  0.016344   \n",
       "2024-02-08       NaN       NaN       NaN  0.020032  0.025980  0.015417   \n",
       "2024-02-16       NaN       NaN       NaN  0.022642  0.026277  0.015752   \n",
       "2024-02-23       NaN       NaN       NaN  0.023336  0.028334  0.016233   \n",
       "2024-02-29       NaN       NaN       NaN  0.024173  0.030565  0.016970   \n",
       "\n",
       "             A000140   A000150   A000210   A000230  ...   A175330   A139130  \\\n",
       "Dates                                               ...                       \n",
       "2017-01-06  0.187661  0.211250  0.209440  0.161159  ...       NaN       NaN   \n",
       "2017-01-13  0.184772  0.210928  0.205835  0.161247  ...       NaN       NaN   \n",
       "2017-01-20  0.183336  0.212298  0.204900  0.166422  ...       NaN       NaN   \n",
       "2017-01-26  0.180936  0.212850  0.206762  0.166823  ...       NaN       NaN   \n",
       "2017-02-03  0.172575  0.211672  0.204807  0.174064  ...       NaN       NaN   \n",
       "...              ...       ...       ...       ...  ...       ...       ...   \n",
       "2024-02-02       NaN  0.022183  0.024446       NaN  ...  0.023859  0.024005   \n",
       "2024-02-08       NaN  0.022841  0.023763       NaN  ...  0.025390  0.024822   \n",
       "2024-02-16       NaN  0.023896  0.021194       NaN  ...  0.025189  0.024910   \n",
       "2024-02-23       NaN  0.026350  0.021248       NaN  ...  0.027052  0.024967   \n",
       "2024-02-29       NaN  0.025914  0.020401       NaN  ...  0.027753  0.025880   \n",
       "\n",
       "             A001570   A005420   A008730   A002710   A006110   A009970  \\\n",
       "Dates                                                                    \n",
       "2017-01-06       NaN       NaN       NaN       NaN       NaN       NaN   \n",
       "2017-01-13       NaN       NaN       NaN       NaN       NaN       NaN   \n",
       "2017-01-20       NaN       NaN       NaN       NaN       NaN       NaN   \n",
       "2017-01-26       NaN       NaN       NaN       NaN       NaN       NaN   \n",
       "2017-02-03       NaN       NaN       NaN       NaN       NaN       NaN   \n",
       "...              ...       ...       ...       ...       ...       ...   \n",
       "2024-02-02  0.020695  0.027580  0.021532  0.013047  0.021156  0.024797   \n",
       "2024-02-08  0.021292  0.027748  0.026170  0.016089  0.021723  0.026376   \n",
       "2024-02-16  0.021007  0.029489  0.033904  0.017759  0.025372  0.026740   \n",
       "2024-02-23  0.024791  0.033190  0.039080  0.023644  0.028919  0.028689   \n",
       "2024-02-29  0.026713  0.032829  0.037314  0.025674  0.029714  0.027293   \n",
       "\n",
       "             A145720   A267260  \n",
       "Dates                           \n",
       "2017-01-06       NaN       NaN  \n",
       "2017-01-13       NaN       NaN  \n",
       "2017-01-20       NaN       NaN  \n",
       "2017-01-26       NaN       NaN  \n",
       "2017-02-03       NaN       NaN  \n",
       "...              ...       ...  \n",
       "2024-02-02  0.027896  0.023444  \n",
       "2024-02-08  0.028160  0.022096  \n",
       "2024-02-16  0.028355  0.021878  \n",
       "2024-02-23  0.029293  0.019133  \n",
       "2024-02-29  0.032510  0.019712  \n",
       "\n",
       "[373 rows x 283 columns]"
      ]
     },
     "execution_count": 585,
     "metadata": {},
     "output_type": "execute_result"
    }
   ],
   "source": [
    "raw_prob"
   ]
  },
  {
   "cell_type": "code",
   "execution_count": 25,
   "id": "e960714b-b1d7-4531-b1b9-794daa34ec8b",
   "metadata": {
    "execution": {
     "iopub.execute_input": "2024-05-07T06:56:06.006008Z",
     "iopub.status.busy": "2024-05-07T06:56:06.005687Z",
     "iopub.status.idle": "2024-05-07T06:56:06.009282Z",
     "shell.execute_reply": "2024-05-07T06:56:06.008530Z",
     "shell.execute_reply.started": "2024-05-07T06:56:06.005985Z"
    },
    "tags": []
   },
   "outputs": [],
   "source": [
    "# raw_prob.reset_index(inplace=True)\n",
    "# raw_prob.set_index(['Dates', 'Symbol'], inplace=True)\n",
    "# raw_prob=raw_prob.unstack()\n",
    "# raw_prob.columns=raw_prob.columns.get_level_values(1)"
   ]
  },
  {
   "cell_type": "code",
   "execution_count": null,
   "id": "240bf91d-aa8f-4de9-b106-f026fb1468f1",
   "metadata": {
    "tags": []
   },
   "outputs": [],
   "source": []
  },
  {
   "cell_type": "code",
   "execution_count": null,
   "id": "e3595034-3509-4168-bf83-9d44b422f8d4",
   "metadata": {
    "tags": []
   },
   "outputs": [],
   "source": []
  },
  {
   "cell_type": "code",
   "execution_count": 26,
   "id": "49556e0f-47a7-4a00-97ca-b5482479c7f1",
   "metadata": {
    "execution": {
     "iopub.execute_input": "2024-05-07T06:56:06.010577Z",
     "iopub.status.busy": "2024-05-07T06:56:06.010143Z",
     "iopub.status.idle": "2024-05-07T06:56:06.023190Z",
     "shell.execute_reply": "2024-05-07T06:56:06.022294Z",
     "shell.execute_reply.started": "2024-05-07T06:56:06.010552Z"
    },
    "tags": []
   },
   "outputs": [],
   "source": [
    "raw_prob.index = pd.to_datetime(raw_prob.index)"
   ]
  },
  {
   "cell_type": "code",
   "execution_count": 27,
   "id": "51a075d4-c914-4193-92df-ab87f6a61e94",
   "metadata": {
    "execution": {
     "iopub.execute_input": "2024-05-07T06:56:06.024734Z",
     "iopub.status.busy": "2024-05-07T06:56:06.024305Z",
     "iopub.status.idle": "2024-05-07T06:56:06.220051Z",
     "shell.execute_reply": "2024-05-07T06:56:06.219376Z",
     "shell.execute_reply.started": "2024-05-07T06:56:06.024702Z"
    },
    "tags": []
   },
   "outputs": [
    {
     "data": {
      "text/plain": [
       "<Axes: xlabel='Dates'>"
      ]
     },
     "execution_count": 27,
     "metadata": {},
     "output_type": "execute_result"
    },
    {
     "data": {
      "image/png": "[encoded data removed]",
      "text/plain": [
       "<Figure size 640x480 with 1 Axes>"
      ]
     },
     "metadata": {},
     "output_type": "display_data"
    }
   ],
   "source": [
    "raw_prob.sum(1).plot()"
   ]
  },
  {
   "cell_type": "code",
   "execution_count": 28,
   "id": "0ca00151-68ff-4ce8-b9d5-0d9d5774d301",
   "metadata": {
    "execution": {
     "iopub.execute_input": "2024-05-07T06:56:06.221091Z",
     "iopub.status.busy": "2024-05-07T06:56:06.220800Z",
     "iopub.status.idle": "2024-05-07T06:56:06.384898Z",
     "shell.execute_reply": "2024-05-07T06:56:06.384149Z",
     "shell.execute_reply.started": "2024-05-07T06:56:06.221074Z"
    },
    "tags": []
   },
   "outputs": [
    {
     "data": {
      "text/plain": [
       "<Axes: xlabel='Dates'>"
      ]
     },
     "execution_count": 28,
     "metadata": {},
     "output_type": "execute_result"
    },
    {
     "data": {
      "image/png": "[encoded data removed]",
      "text/plain": [
       "<Figure size 640x480 with 1 Axes>"
      ]
     },
     "metadata": {},
     "output_type": "display_data"
    }
   ],
   "source": [
    "raw_prob.count(1).plot()"
   ]
  },
  {
   "cell_type": "code",
   "execution_count": 29,
   "id": "e3ce59d0-cbad-4727-a1e4-d620b1fabdb5",
   "metadata": {
    "execution": {
     "iopub.execute_input": "2024-05-07T06:56:06.385779Z",
     "iopub.status.busy": "2024-05-07T06:56:06.385604Z",
     "iopub.status.idle": "2024-05-07T06:56:06.538066Z",
     "shell.execute_reply": "2024-05-07T06:56:06.537382Z",
     "shell.execute_reply.started": "2024-05-07T06:56:06.385763Z"
    },
    "tags": []
   },
   "outputs": [
    {
     "data": {
      "text/plain": [
       "<Axes: xlabel='Dates'>"
      ]
     },
     "execution_count": 29,
     "metadata": {},
     "output_type": "execute_result"
    },
    {
     "data": {
      "image/png": "[encoded data removed]",
      "text/plain": [
       "<Figure size 640x480 with 1 Axes>"
      ]
     },
     "metadata": {},
     "output_type": "display_data"
    }
   ],
   "source": [
    "raw_prob.subtract(raw_prob.mean(1), axis=0).sum(1).plot()"
   ]
  },
  {
   "cell_type": "code",
   "execution_count": 30,
   "id": "22ec18f0-7496-4d12-979b-20a319a14065",
   "metadata": {
    "execution": {
     "iopub.execute_input": "2024-05-07T06:56:06.539010Z",
     "iopub.status.busy": "2024-05-07T06:56:06.538820Z",
     "iopub.status.idle": "2024-05-07T06:56:06.542154Z",
     "shell.execute_reply": "2024-05-07T06:56:06.541516Z",
     "shell.execute_reply.started": "2024-05-07T06:56:06.538994Z"
    },
    "tags": []
   },
   "outputs": [],
   "source": [
    "# use existing weight with shift1"
   ]
  },
  {
   "cell_type": "code",
   "execution_count": 31,
   "id": "4bbfa77b-d347-4b12-af86-fe816f239243",
   "metadata": {
    "execution": {
     "iopub.execute_input": "2024-05-07T06:56:06.543071Z",
     "iopub.status.busy": "2024-05-07T06:56:06.542871Z",
     "iopub.status.idle": "2024-05-07T06:56:06.551885Z",
     "shell.execute_reply": "2024-05-07T06:56:06.551184Z",
     "shell.execute_reply.started": "2024-05-07T06:56:06.543052Z"
    },
    "tags": []
   },
   "outputs": [],
   "source": [
    "from sklearn.preprocessing import StandardScaler, MinMaxScaler"
   ]
  },
  {
   "cell_type": "code",
   "execution_count": 32,
   "id": "d37047a5-6fc0-44ab-b433-d0b14e4e3147",
   "metadata": {
    "execution": {
     "iopub.execute_input": "2024-05-07T06:56:06.552830Z",
     "iopub.status.busy": "2024-05-07T06:56:06.552572Z",
     "iopub.status.idle": "2024-05-07T06:56:06.565548Z",
     "shell.execute_reply": "2024-05-07T06:56:06.564653Z",
     "shell.execute_reply.started": "2024-05-07T06:56:06.552805Z"
    },
    "tags": []
   },
   "outputs": [],
   "source": [
    "scaler = StandardScaler()\n",
    "tempw = scaler.fit_transform(raw_prob.iloc[0].dropna().values.reshape(-1, 1))\n",
    "temp_w = pd.DataFrame(tempw, index = raw_prob.iloc[0].dropna().index)"
   ]
  },
  {
   "cell_type": "code",
   "execution_count": 33,
   "id": "dad7e613-5e15-469c-948f-314b8097e18b",
   "metadata": {
    "execution": {
     "iopub.execute_input": "2024-05-07T06:56:06.567091Z",
     "iopub.status.busy": "2024-05-07T06:56:06.566659Z",
     "iopub.status.idle": "2024-05-07T06:56:06.585641Z",
     "shell.execute_reply": "2024-05-07T06:56:06.584620Z",
     "shell.execute_reply.started": "2024-05-07T06:56:06.567056Z"
    },
    "tags": []
   },
   "outputs": [],
   "source": [
    "temp_w=temp_w/abs(temp_w).sum()"
   ]
  },
  {
   "cell_type": "code",
   "execution_count": 34,
   "id": "6a850653-48df-4fbe-8343-0a41c5c5e497",
   "metadata": {
    "execution": {
     "iopub.execute_input": "2024-05-07T06:56:06.587493Z",
     "iopub.status.busy": "2024-05-07T06:56:06.586976Z",
     "iopub.status.idle": "2024-05-07T06:56:06.605747Z",
     "shell.execute_reply": "2024-05-07T06:56:06.604774Z",
     "shell.execute_reply.started": "2024-05-07T06:56:06.587451Z"
    },
    "tags": []
   },
   "outputs": [
    {
     "data": {
      "text/html": [
       "<div>\n",
       "<style scoped>\n",
       "    .dataframe tbody tr th:only-of-type {\n",
       "        vertical-align: middle;\n",
       "    }\n",
       "\n",
       "    .dataframe tbody tr th {\n",
       "        vertical-align: top;\n",
       "    }\n",
       "\n",
       "    .dataframe thead th {\n",
       "        text-align: right;\n",
       "    }\n",
       "</style>\n",
       "<table border=\"1\" class=\"dataframe\">\n",
       "  <thead>\n",
       "    <tr style=\"text-align: right;\">\n",
       "      <th></th>\n",
       "      <th>0</th>\n",
       "    </tr>\n",
       "  </thead>\n",
       "  <tbody>\n",
       "    <tr>\n",
       "      <th>A000080</th>\n",
       "      <td>0.001386</td>\n",
       "    </tr>\n",
       "    <tr>\n",
       "      <th>A000100</th>\n",
       "      <td>-0.003673</td>\n",
       "    </tr>\n",
       "    <tr>\n",
       "      <th>A000120</th>\n",
       "      <td>-0.001209</td>\n",
       "    </tr>\n",
       "    <tr>\n",
       "      <th>A000150</th>\n",
       "      <td>0.064959</td>\n",
       "    </tr>\n",
       "    <tr>\n",
       "      <th>A000210</th>\n",
       "      <td>0.000123</td>\n",
       "    </tr>\n",
       "    <tr>\n",
       "      <th>...</th>\n",
       "      <td>...</td>\n",
       "    </tr>\n",
       "    <tr>\n",
       "      <th>A375500</th>\n",
       "      <td>0.002594</td>\n",
       "    </tr>\n",
       "    <tr>\n",
       "      <th>A377300</th>\n",
       "      <td>-0.003571</td>\n",
       "    </tr>\n",
       "    <tr>\n",
       "      <th>A381970</th>\n",
       "      <td>0.001918</td>\n",
       "    </tr>\n",
       "    <tr>\n",
       "      <th>A383220</th>\n",
       "      <td>-0.002078</td>\n",
       "    </tr>\n",
       "    <tr>\n",
       "      <th>A402340</th>\n",
       "      <td>-0.006756</td>\n",
       "    </tr>\n",
       "  </tbody>\n",
       "</table>\n",
       "<p>200 rows × 1 columns</p>\n",
       "</div>"
      ],
      "text/plain": [
       "                0\n",
       "A000080  0.001386\n",
       "A000100 -0.003673\n",
       "A000120 -0.001209\n",
       "A000150  0.064959\n",
       "A000210  0.000123\n",
       "...           ...\n",
       "A375500  0.002594\n",
       "A377300 -0.003571\n",
       "A381970  0.001918\n",
       "A383220 -0.002078\n",
       "A402340 -0.006756\n",
       "\n",
       "[200 rows x 1 columns]"
      ]
     },
     "execution_count": 34,
     "metadata": {},
     "output_type": "execute_result"
    }
   ],
   "source": [
    "temp_w"
   ]
  },
  {
   "cell_type": "code",
   "execution_count": 35,
   "id": "d19fd378-b9ac-4d69-9cb6-7aab1245d1e0",
   "metadata": {
    "execution": {
     "iopub.execute_input": "2024-05-07T06:56:06.607562Z",
     "iopub.status.busy": "2024-05-07T06:56:06.607047Z",
     "iopub.status.idle": "2024-05-07T06:56:06.621878Z",
     "shell.execute_reply": "2024-05-07T06:56:06.620918Z",
     "shell.execute_reply.started": "2024-05-07T06:56:06.607521Z"
    }
   },
   "outputs": [
    {
     "data": {
      "text/plain": [
       "A015760    0.004021\n",
       "A036460    0.004226\n",
       "A000880    0.004245\n",
       "A267260    0.004838\n",
       "A005490    0.005699\n",
       "             ...   \n",
       "A383220    0.017457\n",
       "A001440    0.017489\n",
       "A020150    0.017836\n",
       "A032350    0.025476\n",
       "A003620    1.000000\n",
       "Name: 2024-03-29 00:00:00, Length: 198, dtype: float64"
      ]
     },
     "execution_count": 35,
     "metadata": {},
     "output_type": "execute_result"
    }
   ],
   "source": [
    "raw_prob.iloc[-1].sort_values().dropna()"
   ]
  },
  {
   "cell_type": "code",
   "execution_count": null,
   "id": "8fe650db-7c01-47dd-a54b-d614aa486f97",
   "metadata": {},
   "outputs": [],
   "source": []
  },
  {
   "cell_type": "code",
   "execution_count": 36,
   "id": "55531f1f-409c-4bf6-81c1-4c82f321a6b6",
   "metadata": {
    "execution": {
     "iopub.execute_input": "2024-05-07T06:56:06.624090Z",
     "iopub.status.busy": "2024-05-07T06:56:06.623206Z",
     "iopub.status.idle": "2024-05-07T06:56:06.767530Z",
     "shell.execute_reply": "2024-05-07T06:56:06.766788Z",
     "shell.execute_reply.started": "2024-05-07T06:56:06.624049Z"
    },
    "tags": []
   },
   "outputs": [],
   "source": [
    "ls_weight_ls = []\n",
    "len_ls = []\n",
    "for i in range(len(raw_prob.index)):\n",
    "    scaler = StandardScaler()\n",
    "    tempw = scaler.fit_transform(raw_prob.iloc[i].dropna().values.reshape(-1, 1))\n",
    "    temp_w = pd.DataFrame(tempw, index = raw_prob.iloc[i].dropna().index)\n",
    "    \n",
    "    # remove top bottom +/- 2stdev\n",
    "    temp_w[temp_w>(temp_w.mean()+2*temp_w.std())]=2\n",
    "    temp_w[temp_w<(temp_w.mean()-2*temp_w.std())]=-2\n",
    "\n",
    "    # remove in the middle\n",
    "    # temp_w[(temp_w<temp_w.mean()+temp_w.std()) & (temp_w>temp_w.mean()-temp_w.std())]=0\n",
    "    \n",
    "    temp_w=temp_w/abs(temp_w).sum()\n",
    "    len_ls.append(len(temp_w[temp_w>0].dropna()))\n",
    "    ls_weight_ls.append(temp_w)\n",
    "    "
   ]
  },
  {
   "cell_type": "code",
   "execution_count": null,
   "id": "3ef3c65a-9827-4f5b-9259-0d363a31dbd5",
   "metadata": {
    "tags": []
   },
   "outputs": [],
   "source": []
  },
  {
   "cell_type": "code",
   "execution_count": 37,
   "id": "f66f21e8-b87e-402d-867d-247435f9b4ae",
   "metadata": {
    "execution": {
     "iopub.execute_input": "2024-05-07T06:56:06.768491Z",
     "iopub.status.busy": "2024-05-07T06:56:06.768303Z",
     "iopub.status.idle": "2024-05-07T06:56:06.891060Z",
     "shell.execute_reply": "2024-05-07T06:56:06.890382Z",
     "shell.execute_reply.started": "2024-05-07T06:56:06.768474Z"
    },
    "tags": []
   },
   "outputs": [
    {
     "data": {
      "text/plain": [
       "<Axes: >"
      ]
     },
     "execution_count": 37,
     "metadata": {},
     "output_type": "execute_result"
    },
    {
     "data": {
      "image/png": "[encoded data removed]",
      "text/plain": [
       "<Figure size 640x480 with 1 Axes>"
      ]
     },
     "metadata": {},
     "output_type": "display_data"
    }
   ],
   "source": [
    "pd.DataFrame(len_ls).plot()"
   ]
  },
  {
   "cell_type": "code",
   "execution_count": 38,
   "id": "13b226d4-bfde-4135-9d71-71e66a8cbbbe",
   "metadata": {
    "execution": {
     "iopub.execute_input": "2024-05-07T06:56:06.892052Z",
     "iopub.status.busy": "2024-05-07T06:56:06.891807Z",
     "iopub.status.idle": "2024-05-07T06:56:06.899160Z",
     "shell.execute_reply": "2024-05-07T06:56:06.898461Z",
     "shell.execute_reply.started": "2024-05-07T06:56:06.892034Z"
    },
    "tags": []
   },
   "outputs": [],
   "source": [
    "ls_w=pd.concat(ls_weight_ls, axis=1).T\n",
    "ls_w.index=raw_prob.index"
   ]
  },
  {
   "cell_type": "code",
   "execution_count": 39,
   "id": "ec6f3c75-06f1-4830-9df5-67781369b501",
   "metadata": {
    "execution": {
     "iopub.execute_input": "2024-05-07T06:56:06.906416Z",
     "iopub.status.busy": "2024-05-07T06:56:06.906155Z",
     "iopub.status.idle": "2024-05-07T06:56:07.038018Z",
     "shell.execute_reply": "2024-05-07T06:56:07.036708Z",
     "shell.execute_reply.started": "2024-05-07T06:56:06.906395Z"
    },
    "tags": []
   },
   "outputs": [
    {
     "data": {
      "text/plain": [
       "<Axes: >"
      ]
     },
     "execution_count": 39,
     "metadata": {},
     "output_type": "execute_result"
    },
    {
     "data": {
      "image/png": "[encoded data removed]",
      "text/plain": [
       "<Figure size 640x480 with 1 Axes>"
      ]
     },
     "metadata": {},
     "output_type": "display_data"
    }
   ],
   "source": [
    "ls_w.iloc[-1].sort_values().dropna().plot()"
   ]
  },
  {
   "cell_type": "code",
   "execution_count": 40,
   "id": "fa01b0f6-cc3e-400e-b460-a2164da9f812",
   "metadata": {
    "execution": {
     "iopub.execute_input": "2024-05-07T06:56:07.040027Z",
     "iopub.status.busy": "2024-05-07T06:56:07.039483Z",
     "iopub.status.idle": "2024-05-07T06:56:07.046437Z",
     "shell.execute_reply": "2024-05-07T06:56:07.045404Z",
     "shell.execute_reply.started": "2024-05-07T06:56:07.039984Z"
    },
    "tags": []
   },
   "outputs": [],
   "source": [
    "temp_ls_w=ls_w.copy()\n",
    "temp_ls_w.loc[:, 'A001570']=0"
   ]
  },
  {
   "cell_type": "code",
   "execution_count": 41,
   "id": "75d63480-29d1-4fc6-8a01-c3ecddca439d",
   "metadata": {
    "execution": {
     "iopub.execute_input": "2024-05-07T06:56:07.048535Z",
     "iopub.status.busy": "2024-05-07T06:56:07.047790Z",
     "iopub.status.idle": "2024-05-07T06:56:07.100942Z",
     "shell.execute_reply": "2024-05-07T06:56:07.099853Z",
     "shell.execute_reply.started": "2024-05-07T06:56:07.048492Z"
    },
    "tags": []
   },
   "outputs": [],
   "source": [
    "idx_ret=adjprc.loc[ls_w.index, ls_w.columns].pct_change()*temp_ls_w.shift(1)"
   ]
  },
  {
   "cell_type": "code",
   "execution_count": 42,
   "id": "02fbfcb2-bd53-40a1-995f-35cd3f67ccd6",
   "metadata": {
    "execution": {
     "iopub.execute_input": "2024-05-07T06:56:07.102338Z",
     "iopub.status.busy": "2024-05-07T06:56:07.102033Z",
     "iopub.status.idle": "2024-05-07T06:56:07.137643Z",
     "shell.execute_reply": "2024-05-07T06:56:07.136713Z",
     "shell.execute_reply.started": "2024-05-07T06:56:07.102309Z"
    },
    "tags": []
   },
   "outputs": [],
   "source": [
    "idx_ret=adjprc.loc[ls_w.index, ls_w.columns].pct_change()*temp_ls_w.shift(1)"
   ]
  },
  {
   "cell_type": "code",
   "execution_count": 43,
   "id": "ef2c0ae8-d86d-411b-9ed6-f0a0a500e28b",
   "metadata": {
    "execution": {
     "iopub.execute_input": "2024-05-07T06:56:07.138700Z",
     "iopub.status.busy": "2024-05-07T06:56:07.138459Z",
     "iopub.status.idle": "2024-05-07T06:56:07.159515Z",
     "shell.execute_reply": "2024-05-07T06:56:07.158496Z",
     "shell.execute_reply.started": "2024-05-07T06:56:07.138678Z"
    },
    "tags": []
   },
   "outputs": [],
   "source": [
    "long_w=ls_w[temp_ls_w>0]\n",
    "short_w=ls_w[temp_ls_w<0]\n"
   ]
  },
  {
   "cell_type": "code",
   "execution_count": 44,
   "id": "a3398ec8-0ef9-4e0f-8419-594d165ff913",
   "metadata": {
    "execution": {
     "iopub.execute_input": "2024-05-07T06:56:07.161656Z",
     "iopub.status.busy": "2024-05-07T06:56:07.160864Z",
     "iopub.status.idle": "2024-05-07T06:56:07.168600Z",
     "shell.execute_reply": "2024-05-07T06:56:07.167442Z",
     "shell.execute_reply.started": "2024-05-07T06:56:07.161611Z"
    },
    "tags": []
   },
   "outputs": [],
   "source": [
    "ew_long=long_w.copy()\n",
    "ew_short=short_w.copy()"
   ]
  },
  {
   "cell_type": "code",
   "execution_count": 45,
   "id": "17905f2f-453b-4bcf-8e0d-51e9af73afc7",
   "metadata": {
    "execution": {
     "iopub.execute_input": "2024-05-07T06:56:07.170366Z",
     "iopub.status.busy": "2024-05-07T06:56:07.169939Z",
     "iopub.status.idle": "2024-05-07T06:56:07.181921Z",
     "shell.execute_reply": "2024-05-07T06:56:07.180930Z",
     "shell.execute_reply.started": "2024-05-07T06:56:07.170325Z"
    },
    "tags": []
   },
   "outputs": [],
   "source": [
    "ew_long[ew_long>0]=1\n",
    "ew_short[ew_short<0]=-1"
   ]
  },
  {
   "cell_type": "code",
   "execution_count": 46,
   "id": "9b8540bd-fb49-4bcc-a27e-268c067569ef",
   "metadata": {
    "execution": {
     "iopub.execute_input": "2024-05-07T06:56:07.183713Z",
     "iopub.status.busy": "2024-05-07T06:56:07.183211Z",
     "iopub.status.idle": "2024-05-07T06:56:07.194319Z",
     "shell.execute_reply": "2024-05-07T06:56:07.193263Z",
     "shell.execute_reply.started": "2024-05-07T06:56:07.183673Z"
    },
    "tags": []
   },
   "outputs": [],
   "source": [
    "ew_long=ew_long.div(ew_long.count(1), axis=0)\n",
    "ew_short=ew_short.div(ew_short.count(1), axis=0)"
   ]
  },
  {
   "cell_type": "code",
   "execution_count": 47,
   "id": "511f9a48-dd30-4dcb-9ea6-3f437172f232",
   "metadata": {
    "execution": {
     "iopub.execute_input": "2024-05-07T06:56:07.196053Z",
     "iopub.status.busy": "2024-05-07T06:56:07.195634Z",
     "iopub.status.idle": "2024-05-07T06:56:07.378754Z",
     "shell.execute_reply": "2024-05-07T06:56:07.378081Z",
     "shell.execute_reply.started": "2024-05-07T06:56:07.196014Z"
    },
    "tags": []
   },
   "outputs": [
    {
     "data": {
      "text/plain": [
       "<Axes: xlabel='Dates'>"
      ]
     },
     "execution_count": 47,
     "metadata": {},
     "output_type": "execute_result"
    },
    {
     "data": {
      "image/png": "[encoded data removed]",
      "text/plain": [
       "<Figure size 640x480 with 1 Axes>"
      ]
     },
     "metadata": {},
     "output_type": "display_data"
    }
   ],
   "source": [
    "ew_long.count(1).plot()"
   ]
  },
  {
   "cell_type": "code",
   "execution_count": 48,
   "id": "566cc5e8-0faf-4fe4-91c7-de6ae6d09ec9",
   "metadata": {
    "execution": {
     "iopub.execute_input": "2024-05-07T06:56:07.379763Z",
     "iopub.status.busy": "2024-05-07T06:56:07.379479Z",
     "iopub.status.idle": "2024-05-07T06:56:07.420569Z",
     "shell.execute_reply": "2024-05-07T06:56:07.419882Z",
     "shell.execute_reply.started": "2024-05-07T06:56:07.379747Z"
    },
    "tags": []
   },
   "outputs": [],
   "source": [
    "long_idx_ret=adjprc.loc[ls_w.index, ls_w.columns].pct_change()*long_w.shift(1)*2\n",
    "short_idx_ret=adjprc.loc[ls_w.index, ls_w.columns].pct_change()*short_w.shift(1)*2"
   ]
  },
  {
   "cell_type": "code",
   "execution_count": 49,
   "id": "e82a719c-0691-4eab-b73a-9feece3e15d9",
   "metadata": {
    "execution": {
     "iopub.execute_input": "2024-05-07T06:56:07.421444Z",
     "iopub.status.busy": "2024-05-07T06:56:07.421274Z",
     "iopub.status.idle": "2024-05-07T06:56:07.479177Z",
     "shell.execute_reply": "2024-05-07T06:56:07.478477Z",
     "shell.execute_reply.started": "2024-05-07T06:56:07.421428Z"
    },
    "tags": []
   },
   "outputs": [],
   "source": [
    "ew_long_idx_ret=adjprc.loc[ls_w.index, ls_w.columns].pct_change()*ew_long.shift(1)\n",
    "ew_short_idx_ret=adjprc.loc[ls_w.index, ls_w.columns].pct_change()*ew_short.shift(1)"
   ]
  },
  {
   "cell_type": "code",
   "execution_count": null,
   "id": "476be009-d881-4d84-aa81-fd74fc855206",
   "metadata": {},
   "outputs": [],
   "source": []
  },
  {
   "cell_type": "markdown",
   "id": "c2808d54-e139-4a4d-b3b0-4ec28f9758fa",
   "metadata": {},
   "source": [
    "# LS results"
   ]
  },
  {
   "cell_type": "code",
   "execution_count": 50,
   "id": "f911c7bb-156a-4af9-a99a-3b631f66972d",
   "metadata": {
    "execution": {
     "iopub.execute_input": "2024-05-07T06:56:07.480230Z",
     "iopub.status.busy": "2024-05-07T06:56:07.479943Z",
     "iopub.status.idle": "2024-05-07T06:56:07.488243Z",
     "shell.execute_reply": "2024-05-07T06:56:07.487569Z",
     "shell.execute_reply.started": "2024-05-07T06:56:07.480210Z"
    },
    "scrolled": true,
    "tags": []
   },
   "outputs": [
    {
     "data": {
      "text/plain": [
       "Dates\n",
       "2023-10-27    0.0\n",
       "2023-11-03    0.0\n",
       "2023-11-10    0.0\n",
       "2023-11-17    0.0\n",
       "2023-11-24    0.0\n",
       "2023-12-01    0.0\n",
       "Name: A001570, dtype: float64"
      ]
     },
     "execution_count": 50,
     "metadata": {},
     "output_type": "execute_result"
    }
   ],
   "source": [
    "long_w.loc['2023-06-01': '2023-12-01', 'A001570'].fillna(0)"
   ]
  },
  {
   "cell_type": "code",
   "execution_count": 51,
   "id": "80f81f92-c202-4294-9a78-c3b132aad7c0",
   "metadata": {
    "execution": {
     "iopub.execute_input": "2024-05-07T06:56:07.489304Z",
     "iopub.status.busy": "2024-05-07T06:56:07.489024Z",
     "iopub.status.idle": "2024-05-07T06:56:07.707275Z",
     "shell.execute_reply": "2024-05-07T06:56:07.706602Z",
     "shell.execute_reply.started": "2024-05-07T06:56:07.489283Z"
    },
    "tags": []
   },
   "outputs": [
    {
     "name": "stderr",
     "output_type": "stream",
     "text": [
      "/tmp/ipykernel_4525/1600025215.py:1: FutureWarning: The default fill_method='pad' in DataFrame.pct_change is deprecated and will be removed in a future version. Call ffill before calling pct_change to retain current behavior and silence this warning.\n",
      "  adjprc.pct_change().loc[ls_w.index, 'A001570'].plot()\n"
     ]
    },
    {
     "data": {
      "text/plain": [
       "<Axes: xlabel='Dates'>"
      ]
     },
     "execution_count": 51,
     "metadata": {},
     "output_type": "execute_result"
    },
    {
     "data": {
      "image/png": "[encoded data removed]",
      "text/plain": [
       "<Figure size 640x480 with 1 Axes>"
      ]
     },
     "metadata": {},
     "output_type": "display_data"
    }
   ],
   "source": [
    "adjprc.pct_change().loc[ls_w.index, 'A001570'].plot()"
   ]
  },
  {
   "cell_type": "code",
   "execution_count": 52,
   "id": "5227da16-d813-42b9-9050-be497768c538",
   "metadata": {
    "execution": {
     "iopub.execute_input": "2024-05-07T06:56:07.708174Z",
     "iopub.status.busy": "2024-05-07T06:56:07.707995Z",
     "iopub.status.idle": "2024-05-07T06:56:07.714301Z",
     "shell.execute_reply": "2024-05-07T06:56:07.713664Z",
     "shell.execute_reply.started": "2024-05-07T06:56:07.708159Z"
    },
    "tags": []
   },
   "outputs": [
    {
     "data": {
      "text/plain": [
       "DatetimeIndex(['2023-10-27', '2023-11-03', '2023-11-10', '2023-11-17',\n",
       "               '2023-11-24', '2023-12-01', '2023-12-08', '2023-12-15',\n",
       "               '2023-12-22', '2023-12-28', '2024-01-05', '2024-01-12',\n",
       "               '2024-01-19', '2024-01-26', '2024-02-02', '2024-02-08',\n",
       "               '2024-02-16', '2024-02-23', '2024-02-29', '2024-03-08',\n",
       "               '2024-03-15', '2024-03-22', '2024-03-29'],\n",
       "              dtype='datetime64[ns]', name='Dates', freq=None)"
      ]
     },
     "execution_count": 52,
     "metadata": {},
     "output_type": "execute_result"
    }
   ],
   "source": [
    "ls_w.loc['2023-06-01':].index"
   ]
  },
  {
   "cell_type": "code",
   "execution_count": 53,
   "id": "aadb3c0a-6a50-42e1-b01a-10492439752e",
   "metadata": {
    "execution": {
     "iopub.execute_input": "2024-05-07T06:56:07.715135Z",
     "iopub.status.busy": "2024-05-07T06:56:07.714956Z",
     "iopub.status.idle": "2024-05-07T06:56:07.730118Z",
     "shell.execute_reply": "2024-05-07T06:56:07.729342Z",
     "shell.execute_reply.started": "2024-05-07T06:56:07.715118Z"
    },
    "scrolled": true,
    "tags": []
   },
   "outputs": [
    {
     "data": {
      "text/plain": [
       "Dates\n",
       "2023-10-27         NaN\n",
       "2023-11-03    0.009868\n",
       "2023-11-10    0.090119\n",
       "2023-11-17   -0.023904\n",
       "2023-11-24    0.074490\n",
       "2023-12-01    0.163343\n",
       "2023-12-08   -0.053061\n",
       "2023-12-15   -0.008621\n",
       "2023-12-22   -0.052174\n",
       "2023-12-28    0.001835\n",
       "2024-01-05   -0.045788\n",
       "2024-01-12   -0.043186\n",
       "2024-01-19   -0.099298\n",
       "2024-01-26   -0.109131\n",
       "2024-02-02    0.007500\n",
       "2024-02-08    0.040943\n",
       "2024-02-16    0.133492\n",
       "2024-02-23   -0.044164\n",
       "2024-02-29    0.061606\n",
       "2024-03-08    0.323316\n",
       "2024-03-15   -0.010180\n",
       "2024-03-22   -0.050633\n",
       "2024-03-29   -0.036667\n",
       "Name: A001570, dtype: float64"
      ]
     },
     "execution_count": 53,
     "metadata": {},
     "output_type": "execute_result"
    }
   ],
   "source": [
    "adjprc.loc[ls_w.loc['2023-06-01':].index, 'A001570'].pct_change()"
   ]
  },
  {
   "cell_type": "code",
   "execution_count": 54,
   "id": "273610ab-ec1a-47df-b360-4e7e5ff44f8f",
   "metadata": {
    "execution": {
     "iopub.execute_input": "2024-05-07T06:56:07.731431Z",
     "iopub.status.busy": "2024-05-07T06:56:07.731056Z",
     "iopub.status.idle": "2024-05-07T06:56:07.746144Z",
     "shell.execute_reply": "2024-05-07T06:56:07.745231Z",
     "shell.execute_reply.started": "2024-05-07T06:56:07.731401Z"
    },
    "scrolled": true,
    "tags": []
   },
   "outputs": [
    {
     "data": {
      "text/plain": [
       "Dates\n",
       "2023-11-03    0.0\n",
       "2023-11-10    0.0\n",
       "2023-11-17   -0.0\n",
       "2023-11-24    0.0\n",
       "2023-12-01    0.0\n",
       "2023-12-08   -0.0\n",
       "2023-12-15   -0.0\n",
       "2023-12-22   -0.0\n",
       "2023-12-28    0.0\n",
       "2024-01-05   -0.0\n",
       "2024-01-12   -0.0\n",
       "2024-01-19   -0.0\n",
       "2024-01-26   -0.0\n",
       "2024-02-02    0.0\n",
       "2024-02-08    0.0\n",
       "2024-02-16    0.0\n",
       "2024-02-23   -0.0\n",
       "2024-02-29    0.0\n",
       "2024-03-08    0.0\n",
       "2024-03-15   -0.0\n",
       "2024-03-22   -0.0\n",
       "2024-03-29   -0.0\n",
       "Name: A001570, dtype: float64"
      ]
     },
     "execution_count": 54,
     "metadata": {},
     "output_type": "execute_result"
    }
   ],
   "source": [
    "idx_ret['A001570'].dropna()"
   ]
  },
  {
   "cell_type": "code",
   "execution_count": 55,
   "id": "58570463-680a-4be8-ba1e-2e795b94efbd",
   "metadata": {
    "execution": {
     "iopub.execute_input": "2024-05-07T06:56:07.747839Z",
     "iopub.status.busy": "2024-05-07T06:56:07.747354Z",
     "iopub.status.idle": "2024-05-07T06:56:07.949417Z",
     "shell.execute_reply": "2024-05-07T06:56:07.948730Z",
     "shell.execute_reply.started": "2024-05-07T06:56:07.747799Z"
    },
    "tags": []
   },
   "outputs": [
    {
     "data": {
      "text/plain": [
       "<Axes: xlabel='Dates'>"
      ]
     },
     "execution_count": 55,
     "metadata": {},
     "output_type": "execute_result"
    },
    {
     "data": {
      "image/png": "[encoded data removed]",
      "text/plain": [
       "<Figure size 640x480 with 1 Axes>"
      ]
     },
     "metadata": {},
     "output_type": "display_data"
    }
   ],
   "source": [
    "# raw long short \n",
    "(1+idx_ret.sum(1)).cumprod().plot()"
   ]
  },
  {
   "cell_type": "code",
   "execution_count": 56,
   "id": "d99bde96-38cb-4249-9f17-dde832063ec7",
   "metadata": {
    "execution": {
     "iopub.execute_input": "2024-05-07T06:56:07.950311Z",
     "iopub.status.busy": "2024-05-07T06:56:07.950133Z",
     "iopub.status.idle": "2024-05-07T06:56:08.103868Z",
     "shell.execute_reply": "2024-05-07T06:56:08.103216Z",
     "shell.execute_reply.started": "2024-05-07T06:56:07.950296Z"
    },
    "tags": []
   },
   "outputs": [
    {
     "data": {
      "text/plain": [
       "<Axes: xlabel='Dates'>"
      ]
     },
     "execution_count": 56,
     "metadata": {},
     "output_type": "execute_result"
    },
    {
     "data": {
      "image/png": "[encoded data removed]",
      "text/plain": [
       "<Figure size 640x480 with 1 Axes>"
      ]
     },
     "metadata": {},
     "output_type": "display_data"
    }
   ],
   "source": [
    "# raw long\n",
    "(1+long_idx_ret.sum(1)).cumprod().plot()"
   ]
  },
  {
   "cell_type": "code",
   "execution_count": 57,
   "id": "702c2d44-3f8e-497f-8717-506a4b43ec8a",
   "metadata": {
    "execution": {
     "iopub.execute_input": "2024-05-07T06:56:08.104794Z",
     "iopub.status.busy": "2024-05-07T06:56:08.104604Z",
     "iopub.status.idle": "2024-05-07T06:56:08.261288Z",
     "shell.execute_reply": "2024-05-07T06:56:08.260308Z",
     "shell.execute_reply.started": "2024-05-07T06:56:08.104777Z"
    },
    "tags": []
   },
   "outputs": [
    {
     "data": {
      "text/plain": [
       "<Axes: xlabel='Dates'>"
      ]
     },
     "execution_count": 57,
     "metadata": {},
     "output_type": "execute_result"
    },
    {
     "data": {
      "image/png": "[encoded data removed]",
      "text/plain": [
       "<Figure size 640x480 with 1 Axes>"
      ]
     },
     "metadata": {},
     "output_type": "display_data"
    }
   ],
   "source": [
    "# raw short\n",
    "(1+short_idx_ret.sum(1)).cumprod().plot()"
   ]
  },
  {
   "cell_type": "code",
   "execution_count": 58,
   "id": "3b1e18e5-0e25-4946-b8d0-279be02fe7e4",
   "metadata": {
    "execution": {
     "iopub.execute_input": "2024-05-07T06:56:08.262271Z",
     "iopub.status.busy": "2024-05-07T06:56:08.262075Z",
     "iopub.status.idle": "2024-05-07T06:56:08.266015Z",
     "shell.execute_reply": "2024-05-07T06:56:08.265286Z",
     "shell.execute_reply.started": "2024-05-07T06:56:08.262253Z"
    },
    "tags": []
   },
   "outputs": [],
   "source": [
    "# equal weight long short"
   ]
  },
  {
   "cell_type": "code",
   "execution_count": 59,
   "id": "a11e2e10-bccc-4850-9148-3f13ce3a59a3",
   "metadata": {
    "execution": {
     "iopub.execute_input": "2024-05-07T06:56:08.266988Z",
     "iopub.status.busy": "2024-05-07T06:56:08.266703Z",
     "iopub.status.idle": "2024-05-07T06:56:08.445899Z",
     "shell.execute_reply": "2024-05-07T06:56:08.445252Z",
     "shell.execute_reply.started": "2024-05-07T06:56:08.266969Z"
    },
    "tags": []
   },
   "outputs": [
    {
     "data": {
      "text/plain": [
       "<Axes: xlabel='Dates'>"
      ]
     },
     "execution_count": 59,
     "metadata": {},
     "output_type": "execute_result"
    },
    {
     "data": {
      "image/png": "[encoded data removed]",
      "text/plain": [
       "<Figure size 640x480 with 1 Axes>"
      ]
     },
     "metadata": {},
     "output_type": "display_data"
    }
   ],
   "source": [
    "(1+ew_long_idx_ret.sum(1)).cumprod().plot()"
   ]
  },
  {
   "cell_type": "code",
   "execution_count": 60,
   "id": "fecd66fa-a4b6-42cd-873f-ccff7600732e",
   "metadata": {
    "execution": {
     "iopub.execute_input": "2024-05-07T06:56:08.446761Z",
     "iopub.status.busy": "2024-05-07T06:56:08.446590Z",
     "iopub.status.idle": "2024-05-07T06:56:08.607218Z",
     "shell.execute_reply": "2024-05-07T06:56:08.606566Z",
     "shell.execute_reply.started": "2024-05-07T06:56:08.446745Z"
    },
    "tags": []
   },
   "outputs": [
    {
     "data": {
      "text/plain": [
       "<Axes: xlabel='Dates'>"
      ]
     },
     "execution_count": 60,
     "metadata": {},
     "output_type": "execute_result"
    },
    {
     "data": {
      "image/png": "[encoded data removed]",
      "text/plain": [
       "<Figure size 640x480 with 1 Axes>"
      ]
     },
     "metadata": {},
     "output_type": "display_data"
    }
   ],
   "source": [
    "(1+ew_short_idx_ret.sum(1)).cumprod().plot()"
   ]
  },
  {
   "cell_type": "code",
   "execution_count": null,
   "id": "56ef6d79-4255-4af4-b702-70368885429f",
   "metadata": {},
   "outputs": [],
   "source": []
  },
  {
   "cell_type": "code",
   "execution_count": 61,
   "id": "1fa0a227-02cf-4ef8-90e7-0cf8a3a18c13",
   "metadata": {
    "execution": {
     "iopub.execute_input": "2024-05-07T06:56:08.608113Z",
     "iopub.status.busy": "2024-05-07T06:56:08.607930Z",
     "iopub.status.idle": "2024-05-07T06:56:08.760333Z",
     "shell.execute_reply": "2024-05-07T06:56:08.759706Z",
     "shell.execute_reply.started": "2024-05-07T06:56:08.608096Z"
    },
    "tags": []
   },
   "outputs": [
    {
     "data": {
      "text/plain": [
       "<Axes: xlabel='Dates'>"
      ]
     },
     "execution_count": 61,
     "metadata": {},
     "output_type": "execute_result"
    },
    {
     "data": {
      "image/png": "[encoded data removed]",
      "text/plain": [
       "<Figure size 640x480 with 1 Axes>"
      ]
     },
     "metadata": {},
     "output_type": "display_data"
    }
   ],
   "source": [
    "# remove top and bottom\n",
    "(1+idx_ret.sum(1)).cumprod().plot()"
   ]
  },
  {
   "cell_type": "code",
   "execution_count": 62,
   "id": "9cb47416-afdd-4ff4-ad5e-5a240a6e8855",
   "metadata": {
    "execution": {
     "iopub.execute_input": "2024-05-07T06:56:08.761218Z",
     "iopub.status.busy": "2024-05-07T06:56:08.761043Z",
     "iopub.status.idle": "2024-05-07T06:56:08.911868Z",
     "shell.execute_reply": "2024-05-07T06:56:08.911221Z",
     "shell.execute_reply.started": "2024-05-07T06:56:08.761202Z"
    },
    "tags": []
   },
   "outputs": [
    {
     "data": {
      "text/plain": [
       "<Axes: xlabel='Dates'>"
      ]
     },
     "execution_count": 62,
     "metadata": {},
     "output_type": "execute_result"
    },
    {
     "data": {
      "image/png": "[encoded data removed]",
      "text/plain": [
       "<Figure size 640x480 with 1 Axes>"
      ]
     },
     "metadata": {},
     "output_type": "display_data"
    }
   ],
   "source": [
    "# remove in the middle\n",
    "(1+idx_ret.sum(1)).cumprod().plot()"
   ]
  },
  {
   "cell_type": "code",
   "execution_count": 63,
   "id": "e130e2c8-4a02-4a81-8f1f-f8639f3c85ae",
   "metadata": {
    "execution": {
     "iopub.execute_input": "2024-05-07T06:56:08.912755Z",
     "iopub.status.busy": "2024-05-07T06:56:08.912578Z",
     "iopub.status.idle": "2024-05-07T06:56:09.229604Z",
     "shell.execute_reply": "2024-05-07T06:56:09.223623Z",
     "shell.execute_reply.started": "2024-05-07T06:56:08.912738Z"
    }
   },
   "outputs": [
    {
     "ename": "NameError",
     "evalue": "name 'daily_weight' is not defined",
     "output_type": "error",
     "traceback": [
      "\u001b[0;31m---------------------------------------------------------------------------\u001b[0m",
      "\u001b[0;31mNameError\u001b[0m                                 Traceback (most recent call last)",
      "Cell \u001b[0;32mIn[63], line 2\u001b[0m\n\u001b[1;32m      1\u001b[0m k100ls_entire \u001b[38;5;241m=\u001b[39m perf\u001b[38;5;241m.\u001b[39manalyze_performance(idx_ret\u001b[38;5;241m.\u001b[39msum(\u001b[38;5;241m1\u001b[39m),\n\u001b[0;32m----> 2\u001b[0m                                      weights \u001b[38;5;241m=\u001b[39m \u001b[43mdaily_weight\u001b[49m,\n\u001b[1;32m      3\u001b[0m                                      model_name \u001b[38;5;241m=\u001b[39m \u001b[38;5;124m'\u001b[39m\u001b[38;5;124mk100ls\u001b[39m\u001b[38;5;124m'\u001b[39m)\n",
      "\u001b[0;31mNameError\u001b[0m: name 'daily_weight' is not defined"
     ]
    }
   ],
   "source": [
    "k100ls_entire = perf.analyze_performance(idx_ret.sum(1),\n",
    "                                     weights = daily_weight,\n",
    "                                     model_name = 'k100ls')"
   ]
  },
  {
   "cell_type": "code",
   "execution_count": 66,
   "id": "3c568984-c326-4ba4-a9e1-657e7db1442b",
   "metadata": {
    "execution": {
     "iopub.execute_input": "2024-05-07T07:10:16.575938Z",
     "iopub.status.busy": "2024-05-07T07:10:16.575421Z",
     "iopub.status.idle": "2024-05-07T07:10:16.583865Z",
     "shell.execute_reply": "2024-05-07T07:10:16.582690Z",
     "shell.execute_reply.started": "2024-05-07T07:10:16.575894Z"
    }
   },
   "outputs": [
    {
     "data": {
      "text/plain": [
       "Index(['Name', 'KC_Industry', 'FG_IndustryGroup27', 'FG_Sector_Idx',\n",
       "       'FG_IndustryGroup_Idx', 'FG_Industry_Idx', 'AuditOpinion', 'Caution',\n",
       "       'KSECapSize', 'KLCAIndustry', 'Market', 'KOSPI200YN', 'FiscalMonth',\n",
       "       'KOSPI100YN'],\n",
       "      dtype='object')"
      ]
     },
     "execution_count": 66,
     "metadata": {},
     "output_type": "execute_result"
    }
   ],
   "source": [
    "data_COM_nodup.columns"
   ]
  },
  {
   "cell_type": "code",
   "execution_count": 70,
   "id": "a5b72398-dc42-49c6-afb7-7010d377a09f",
   "metadata": {
    "execution": {
     "iopub.execute_input": "2024-05-07T07:11:00.935669Z",
     "iopub.status.busy": "2024-05-07T07:11:00.935145Z",
     "iopub.status.idle": "2024-05-07T07:11:01.302906Z",
     "shell.execute_reply": "2024-05-07T07:11:01.301974Z",
     "shell.execute_reply.started": "2024-05-07T07:11:00.935625Z"
    }
   },
   "outputs": [
    {
     "data": {
      "text/plain": [
       "30"
      ]
     },
     "execution_count": 70,
     "metadata": {},
     "output_type": "execute_result"
    }
   ],
   "source": [
    "len(data_COM_nodup['KC_Industry'].unique())"
   ]
  },
  {
   "cell_type": "code",
   "execution_count": 71,
   "id": "2cbbd69b-60e8-4e51-8e29-3d10971327bc",
   "metadata": {
    "execution": {
     "iopub.execute_input": "2024-05-07T07:11:03.411665Z",
     "iopub.status.busy": "2024-05-07T07:11:03.411138Z",
     "iopub.status.idle": "2024-05-07T07:11:03.683242Z",
     "shell.execute_reply": "2024-05-07T07:11:03.682542Z",
     "shell.execute_reply.started": "2024-05-07T07:11:03.411621Z"
    }
   },
   "outputs": [
    {
     "data": {
      "text/plain": [
       "28"
      ]
     },
     "execution_count": 71,
     "metadata": {},
     "output_type": "execute_result"
    }
   ],
   "source": [
    "len(data_COM_nodup['FG_IndustryGroup27'].unique())"
   ]
  },
  {
   "cell_type": "code",
   "execution_count": 72,
   "id": "c3db7487-0e50-427d-bce4-528d3ac83c63",
   "metadata": {
    "execution": {
     "iopub.execute_input": "2024-05-07T07:11:11.548330Z",
     "iopub.status.busy": "2024-05-07T07:11:11.547777Z",
     "iopub.status.idle": "2024-05-07T07:11:11.958775Z",
     "shell.execute_reply": "2024-05-07T07:11:11.958071Z",
     "shell.execute_reply.started": "2024-05-07T07:11:11.548283Z"
    }
   },
   "outputs": [
    {
     "data": {
      "text/plain": [
       "11"
      ]
     },
     "execution_count": 72,
     "metadata": {},
     "output_type": "execute_result"
    }
   ],
   "source": [
    "len(data_COM_nodup['FG_Sector_Idx'].unique())"
   ]
  },
  {
   "cell_type": "code",
   "execution_count": 73,
   "id": "19eef935-fc37-474e-8b3c-acc74b9e804c",
   "metadata": {
    "execution": {
     "iopub.execute_input": "2024-05-07T07:11:22.947871Z",
     "iopub.status.busy": "2024-05-07T07:11:22.947353Z",
     "iopub.status.idle": "2024-05-07T07:11:23.277682Z",
     "shell.execute_reply": "2024-05-07T07:11:23.276757Z",
     "shell.execute_reply.started": "2024-05-07T07:11:22.947827Z"
    }
   },
   "outputs": [
    {
     "data": {
      "text/plain": [
       "26"
      ]
     },
     "execution_count": 73,
     "metadata": {},
     "output_type": "execute_result"
    }
   ],
   "source": [
    "len(data_COM_nodup['FG_IndustryGroup_Idx'].unique())"
   ]
  },
  {
   "cell_type": "code",
   "execution_count": 74,
   "id": "2a238537-3826-47f5-af47-08d76372e159",
   "metadata": {
    "execution": {
     "iopub.execute_input": "2024-05-07T07:11:33.846958Z",
     "iopub.status.busy": "2024-05-07T07:11:33.846327Z",
     "iopub.status.idle": "2024-05-07T07:11:34.205397Z",
     "shell.execute_reply": "2024-05-07T07:11:34.204473Z",
     "shell.execute_reply.started": "2024-05-07T07:11:33.846913Z"
    }
   },
   "outputs": [
    {
     "data": {
      "text/plain": [
       "61"
      ]
     },
     "execution_count": 74,
     "metadata": {},
     "output_type": "execute_result"
    }
   ],
   "source": [
    "len(data_COM_nodup['FG_Industry_Idx'].unique())"
   ]
  },
  {
   "cell_type": "code",
   "execution_count": null,
   "id": "d0e32abf-c3f7-427e-bcc1-27f8d91b37ca",
   "metadata": {},
   "outputs": [],
   "source": []
  },
  {
   "cell_type": "code",
   "execution_count": null,
   "id": "229cbeaa-fcce-446c-af5c-ded5b80321ea",
   "metadata": {},
   "outputs": [],
   "source": []
  },
  {
   "cell_type": "code",
   "execution_count": null,
   "id": "02ebdca3-8658-4a44-a706-d02d16981ad2",
   "metadata": {},
   "outputs": [],
   "source": []
  },
  {
   "cell_type": "code",
   "execution_count": null,
   "id": "d5298ff3-df51-4f2a-aa4a-0cc1b5c0f3c1",
   "metadata": {},
   "outputs": [],
   "source": []
  },
  {
   "cell_type": "markdown",
   "id": "14650817-b762-4710-b908-04af80bb7cfd",
   "metadata": {},
   "source": [
    "# k100 universe result"
   ]
  },
  {
   "cell_type": "code",
   "execution_count": 75,
   "id": "727ee5c6-6763-4a0a-ad0c-4fb737d783a1",
   "metadata": {
    "execution": {
     "iopub.execute_input": "2024-05-07T07:13:15.989050Z",
     "iopub.status.busy": "2024-05-07T07:13:15.988500Z",
     "iopub.status.idle": "2024-05-07T07:13:15.996662Z",
     "shell.execute_reply": "2024-05-07T07:13:15.995685Z",
     "shell.execute_reply.started": "2024-05-07T07:13:15.989004Z"
    },
    "tags": []
   },
   "outputs": [
    {
     "data": {
      "text/plain": [
       "Index(['Name', 'KC_Industry', 'FG_IndustryGroup27', 'FG_Sector_Idx',\n",
       "       'FG_IndustryGroup_Idx', 'FG_Industry_Idx', 'AuditOpinion', 'Caution',\n",
       "       'KSECapSize', 'KLCAIndustry', 'Market', 'KOSPI200YN', 'FiscalMonth',\n",
       "       'KOSPI100YN'],\n",
       "      dtype='object')"
      ]
     },
     "execution_count": 75,
     "metadata": {},
     "output_type": "execute_result"
    }
   ],
   "source": [
    "data_COM.columns"
   ]
  },
  {
   "cell_type": "code",
   "execution_count": 76,
   "id": "f98ff0d2-48b9-4ac8-9602-e5d53ac102b3",
   "metadata": {
    "execution": {
     "iopub.execute_input": "2024-05-07T07:13:16.269021Z",
     "iopub.status.busy": "2024-05-07T07:13:16.268479Z",
     "iopub.status.idle": "2024-05-07T07:13:17.009649Z",
     "shell.execute_reply": "2024-05-07T07:13:17.008538Z",
     "shell.execute_reply.started": "2024-05-07T07:13:16.268975Z"
    },
    "tags": []
   },
   "outputs": [],
   "source": [
    "k100comp=data_COM_nodup['KOSPI100YN'].to_frame().unstack()"
   ]
  },
  {
   "cell_type": "code",
   "execution_count": 77,
   "id": "1bca6705-1147-4f15-8d02-9885b9b2a866",
   "metadata": {
    "execution": {
     "iopub.execute_input": "2024-05-07T07:13:17.011080Z",
     "iopub.status.busy": "2024-05-07T07:13:17.010855Z",
     "iopub.status.idle": "2024-05-07T07:13:17.311744Z",
     "shell.execute_reply": "2024-05-07T07:13:17.310544Z",
     "shell.execute_reply.started": "2024-05-07T07:13:17.011060Z"
    },
    "tags": []
   },
   "outputs": [],
   "source": [
    "k100comp=k100comp[k100comp=='Y']"
   ]
  },
  {
   "cell_type": "code",
   "execution_count": 78,
   "id": "3d398c49-4115-4f73-b841-d4f3abc9a06a",
   "metadata": {
    "execution": {
     "iopub.execute_input": "2024-05-07T07:13:17.312800Z",
     "iopub.status.busy": "2024-05-07T07:13:17.312571Z",
     "iopub.status.idle": "2024-05-07T07:13:17.411608Z",
     "shell.execute_reply": "2024-05-07T07:13:17.410726Z",
     "shell.execute_reply.started": "2024-05-07T07:13:17.312780Z"
    },
    "tags": []
   },
   "outputs": [
    {
     "data": {
      "text/plain": [
       "Dates\n",
       "2014-09-01    100\n",
       "2014-09-02    100\n",
       "2014-09-03    100\n",
       "2014-09-04    100\n",
       "2014-09-05    100\n",
       "             ... \n",
       "2024-03-25    100\n",
       "2024-03-26    100\n",
       "2024-03-27    100\n",
       "2024-03-28    100\n",
       "2024-03-29    100\n",
       "Length: 2356, dtype: int64"
      ]
     },
     "execution_count": 78,
     "metadata": {},
     "output_type": "execute_result"
    }
   ],
   "source": [
    "k100comp.count(1)"
   ]
  },
  {
   "cell_type": "code",
   "execution_count": 79,
   "id": "64b1139b-4154-4029-9657-e1611a32dede",
   "metadata": {
    "execution": {
     "iopub.execute_input": "2024-05-07T07:13:17.413110Z",
     "iopub.status.busy": "2024-05-07T07:13:17.412877Z",
     "iopub.status.idle": "2024-05-07T07:13:17.542603Z",
     "shell.execute_reply": "2024-05-07T07:13:17.541439Z",
     "shell.execute_reply.started": "2024-05-07T07:13:17.413090Z"
    },
    "tags": []
   },
   "outputs": [],
   "source": [
    "k100comp[k100comp=='Y']=1"
   ]
  },
  {
   "cell_type": "code",
   "execution_count": 80,
   "id": "93d02929-cbaa-4685-a1f0-4941e9dd1bc0",
   "metadata": {
    "execution": {
     "iopub.execute_input": "2024-05-07T07:13:17.543609Z",
     "iopub.status.busy": "2024-05-07T07:13:17.543385Z",
     "iopub.status.idle": "2024-05-07T07:13:17.722189Z",
     "shell.execute_reply": "2024-05-07T07:13:17.721239Z",
     "shell.execute_reply.started": "2024-05-07T07:13:17.543589Z"
    },
    "tags": []
   },
   "outputs": [
    {
     "data": {
      "text/plain": [
       "Dates\n",
       "2014-09-01    100\n",
       "2014-09-02    100\n",
       "2014-09-03    100\n",
       "2014-09-04    100\n",
       "2014-09-05    100\n",
       "             ... \n",
       "2024-03-25    100\n",
       "2024-03-26    100\n",
       "2024-03-27    100\n",
       "2024-03-28    100\n",
       "2024-03-29    100\n",
       "Length: 2356, dtype: object"
      ]
     },
     "execution_count": 80,
     "metadata": {},
     "output_type": "execute_result"
    }
   ],
   "source": [
    "k100comp.sum(1)"
   ]
  },
  {
   "cell_type": "code",
   "execution_count": 81,
   "id": "e9041f90-ceff-4331-9c70-5b88239223da",
   "metadata": {
    "execution": {
     "iopub.execute_input": "2024-05-07T07:13:17.723230Z",
     "iopub.status.busy": "2024-05-07T07:13:17.723017Z",
     "iopub.status.idle": "2024-05-07T07:13:17.990650Z",
     "shell.execute_reply": "2024-05-07T07:13:17.989537Z",
     "shell.execute_reply.started": "2024-05-07T07:13:17.723210Z"
    },
    "tags": []
   },
   "outputs": [],
   "source": [
    "k100comp=k100comp[k100comp>0].dropna(how='all', axis=1)"
   ]
  },
  {
   "cell_type": "code",
   "execution_count": 82,
   "id": "531afb2d-55b1-4514-aaf8-3706b63a6cb5",
   "metadata": {
    "execution": {
     "iopub.execute_input": "2024-05-07T07:13:17.991750Z",
     "iopub.status.busy": "2024-05-07T07:13:17.991531Z",
     "iopub.status.idle": "2024-05-07T07:13:17.995716Z",
     "shell.execute_reply": "2024-05-07T07:13:17.995007Z",
     "shell.execute_reply.started": "2024-05-07T07:13:17.991730Z"
    },
    "tags": []
   },
   "outputs": [],
   "source": [
    "k100comp.columns=k100comp.columns.get_level_values(1)"
   ]
  },
  {
   "cell_type": "code",
   "execution_count": 83,
   "id": "e7f80826-3089-4692-a39c-26d66d4ace41",
   "metadata": {
    "execution": {
     "iopub.execute_input": "2024-05-07T07:13:17.997403Z",
     "iopub.status.busy": "2024-05-07T07:13:17.997114Z",
     "iopub.status.idle": "2024-05-07T07:13:18.009495Z",
     "shell.execute_reply": "2024-05-07T07:13:18.008643Z",
     "shell.execute_reply.started": "2024-05-07T07:13:17.997366Z"
    },
    "tags": []
   },
   "outputs": [
    {
     "data": {
      "text/plain": [
       "Index(['A000030', 'A000080', 'A000100', 'A000120', 'A000150', 'A000210',\n",
       "       'A000270', 'A000660', 'A000670', 'A000720',\n",
       "       ...\n",
       "       'A323410', 'A326030', 'A329180', 'A352820', 'A361610', 'A373220',\n",
       "       'A377300', 'A383220', 'A402340', 'A450080'],\n",
       "      dtype='object', name='Symbol', length=149)"
      ]
     },
     "execution_count": 83,
     "metadata": {},
     "output_type": "execute_result"
    }
   ],
   "source": [
    "k100comp.columns"
   ]
  },
  {
   "cell_type": "code",
   "execution_count": 84,
   "id": "6c227588-b8ad-4a00-a438-dd225d5222eb",
   "metadata": {
    "execution": {
     "iopub.execute_input": "2024-05-07T07:13:18.011020Z",
     "iopub.status.busy": "2024-05-07T07:13:18.010593Z",
     "iopub.status.idle": "2024-05-07T07:13:18.020759Z",
     "shell.execute_reply": "2024-05-07T07:13:18.019608Z",
     "shell.execute_reply.started": "2024-05-07T07:13:18.010987Z"
    },
    "tags": []
   },
   "outputs": [],
   "source": [
    "k100_col=set(raw_prob.columns).intersection(k100comp.columns)"
   ]
  },
  {
   "cell_type": "code",
   "execution_count": 85,
   "id": "ed3ac38f-d781-4fe6-8b1d-8a2a7d911bd8",
   "metadata": {
    "execution": {
     "iopub.execute_input": "2024-05-07T07:13:18.022873Z",
     "iopub.status.busy": "2024-05-07T07:13:18.022110Z",
     "iopub.status.idle": "2024-05-07T07:13:18.032108Z",
     "shell.execute_reply": "2024-05-07T07:13:18.031117Z",
     "shell.execute_reply.started": "2024-05-07T07:13:18.022831Z"
    },
    "tags": []
   },
   "outputs": [],
   "source": [
    "k100_col=list(k100_col)"
   ]
  },
  {
   "cell_type": "code",
   "execution_count": null,
   "id": "8348ac73-54f5-418e-a96b-69d667739279",
   "metadata": {
    "tags": []
   },
   "outputs": [],
   "source": []
  },
  {
   "cell_type": "code",
   "execution_count": 86,
   "id": "75cba2a7-ccaf-474f-ae7e-47fc7da4e6de",
   "metadata": {
    "execution": {
     "iopub.execute_input": "2024-05-07T07:13:18.101781Z",
     "iopub.status.busy": "2024-05-07T07:13:18.101077Z",
     "iopub.status.idle": "2024-05-07T07:13:18.280012Z",
     "shell.execute_reply": "2024-05-07T07:13:18.278871Z",
     "shell.execute_reply.started": "2024-05-07T07:13:18.101739Z"
    },
    "tags": []
   },
   "outputs": [],
   "source": [
    "k100_ls_weight_ls = []\n",
    "k100_len_ls = []\n",
    "for i in range(len(raw_prob.index)):\n",
    "    scaler = StandardScaler()\n",
    "    tempw = scaler.fit_transform(raw_prob[k100_col].iloc[i].dropna().values.reshape(-1, 1))\n",
    "    temp_w = pd.DataFrame(tempw, index = raw_prob[k100_col].iloc[i].dropna().index)\n",
    "\n",
    "    temp_w2=temp_w.copy()\n",
    "    temp_w2.loc['A001570']=0\n",
    "\n",
    "    # remove top bottom +/- 2stdev\n",
    "    temp_w[temp_w>temp_w.mean()+2*temp_w.std()]=2\n",
    "    temp_w[temp_w<temp_w.mean()-2*temp_w.std()]=-2\n",
    "\n",
    "    # remove in the middle\n",
    "    # temp_w[(temp_w<temp_w.mean()+temp_w.std()) & (temp_w>temp_w.mean()-temp_w.std())]=0\n",
    "    \n",
    "    temp_w2=temp_w2/abs(temp_w2).sum()\n",
    "    k100_len_ls.append(len(temp_w2[temp_w2>0].dropna()))\n",
    "    k100_ls_weight_ls.append(temp_w2)"
   ]
  },
  {
   "cell_type": "code",
   "execution_count": 87,
   "id": "07535c1c-f88d-430a-bf3f-af2aa598a28e",
   "metadata": {
    "execution": {
     "iopub.execute_input": "2024-05-07T07:13:18.281311Z",
     "iopub.status.busy": "2024-05-07T07:13:18.281095Z",
     "iopub.status.idle": "2024-05-07T07:13:18.287171Z",
     "shell.execute_reply": "2024-05-07T07:13:18.286467Z",
     "shell.execute_reply.started": "2024-05-07T07:13:18.281292Z"
    },
    "tags": []
   },
   "outputs": [],
   "source": [
    "k100_ls_w=pd.concat(k100_ls_weight_ls, axis=1).T\n",
    "k100_ls_w.index=raw_prob.index"
   ]
  },
  {
   "cell_type": "code",
   "execution_count": 88,
   "id": "7cdb3086-66e2-4e2f-8e6f-d1afc2463cf2",
   "metadata": {
    "execution": {
     "iopub.execute_input": "2024-05-07T07:13:18.442169Z",
     "iopub.status.busy": "2024-05-07T07:13:18.441541Z",
     "iopub.status.idle": "2024-05-07T07:13:18.452710Z",
     "shell.execute_reply": "2024-05-07T07:13:18.451755Z",
     "shell.execute_reply.started": "2024-05-07T07:13:18.442124Z"
    }
   },
   "outputs": [
    {
     "data": {
      "text/plain": [
       "Series([], dtype: float64)"
      ]
     },
     "execution_count": 88,
     "metadata": {},
     "output_type": "execute_result"
    }
   ],
   "source": [
    "k100_ls_w.sum(1)[k100_ls_w.sum(1)<-0.05]"
   ]
  },
  {
   "cell_type": "code",
   "execution_count": 89,
   "id": "74247f2b-75ed-4cc9-a53a-ae66a546e7e7",
   "metadata": {
    "execution": {
     "iopub.execute_input": "2024-05-07T07:13:18.624331Z",
     "iopub.status.busy": "2024-05-07T07:13:18.623890Z",
     "iopub.status.idle": "2024-05-07T07:13:18.631255Z",
     "shell.execute_reply": "2024-05-07T07:13:18.630087Z",
     "shell.execute_reply.started": "2024-05-07T07:13:18.624289Z"
    }
   },
   "outputs": [],
   "source": [
    "k100_ls_w=k100_ls_w.subtract(k100_ls_w.mean(1), axis=0)"
   ]
  },
  {
   "cell_type": "code",
   "execution_count": 90,
   "id": "cfeba419-418f-4758-9b60-bc13a4f77c30",
   "metadata": {
    "execution": {
     "iopub.execute_input": "2024-05-07T07:13:18.780632Z",
     "iopub.status.busy": "2024-05-07T07:13:18.780189Z",
     "iopub.status.idle": "2024-05-07T07:13:18.801454Z",
     "shell.execute_reply": "2024-05-07T07:13:18.800281Z",
     "shell.execute_reply.started": "2024-05-07T07:13:18.780589Z"
    }
   },
   "outputs": [],
   "source": [
    "k100_ls_w[k100_ls_w>0]=k100_ls_w[k100_ls_w>0].div(k100_ls_w[k100_ls_w>0].sum(1)*2, axis=0)\n",
    "k100_ls_w[k100_ls_w<0]=k100_ls_w[k100_ls_w<0].div(k100_ls_w[k100_ls_w<0].sum(1)*-2, axis=0)"
   ]
  },
  {
   "cell_type": "code",
   "execution_count": null,
   "id": "e5e792f4-82e1-4f28-afb4-7ca279bdfb61",
   "metadata": {},
   "outputs": [],
   "source": []
  },
  {
   "cell_type": "code",
   "execution_count": null,
   "id": "204dec0a-e49e-4b3a-8759-a8ba2653a505",
   "metadata": {},
   "outputs": [],
   "source": []
  },
  {
   "cell_type": "code",
   "execution_count": null,
   "id": "194f4260-b42f-44b6-a764-c60a3b50a99c",
   "metadata": {},
   "outputs": [],
   "source": []
  },
  {
   "cell_type": "code",
   "execution_count": 91,
   "id": "1835e074-46b1-4f6b-95c4-2311802e5351",
   "metadata": {
    "execution": {
     "iopub.execute_input": "2024-05-07T07:13:19.476114Z",
     "iopub.status.busy": "2024-05-07T07:13:19.475339Z",
     "iopub.status.idle": "2024-05-07T07:13:19.648699Z",
     "shell.execute_reply": "2024-05-07T07:13:19.647819Z",
     "shell.execute_reply.started": "2024-05-07T07:13:19.476068Z"
    }
   },
   "outputs": [
    {
     "data": {
      "text/plain": [
       "<Axes: >"
      ]
     },
     "execution_count": 91,
     "metadata": {},
     "output_type": "execute_result"
    },
    {
     "data": {
      "image/png": "[encoded data removed]",
      "text/plain": [
       "<Figure size 640x480 with 1 Axes>"
      ]
     },
     "metadata": {},
     "output_type": "display_data"
    }
   ],
   "source": [
    "k100_ls_w.iloc[-1].sort_values().plot()"
   ]
  },
  {
   "cell_type": "code",
   "execution_count": 92,
   "id": "4d559f7f-a228-48bb-9035-ede2234d4749",
   "metadata": {
    "execution": {
     "iopub.execute_input": "2024-05-07T07:13:19.661431Z",
     "iopub.status.busy": "2024-05-07T07:13:19.661014Z",
     "iopub.status.idle": "2024-05-07T07:13:19.688281Z",
     "shell.execute_reply": "2024-05-07T07:13:19.687479Z",
     "shell.execute_reply.started": "2024-05-07T07:13:19.661400Z"
    },
    "tags": []
   },
   "outputs": [],
   "source": [
    "k100_idx_ret=adjprc.loc[k100_ls_w.index, k100_ls_w.columns].pct_change()*k100_ls_w.shift(1)"
   ]
  },
  {
   "cell_type": "code",
   "execution_count": 93,
   "id": "8cf5c177-1766-4215-a6c0-7a82a57ca970",
   "metadata": {
    "execution": {
     "iopub.execute_input": "2024-05-07T07:13:19.841036Z",
     "iopub.status.busy": "2024-05-07T07:13:19.840357Z",
     "iopub.status.idle": "2024-05-07T07:13:19.887784Z",
     "shell.execute_reply": "2024-05-07T07:13:19.886995Z",
     "shell.execute_reply.started": "2024-05-07T07:13:19.840979Z"
    }
   },
   "outputs": [
    {
     "data": {
      "text/html": [
       "<div>\n",
       "<style scoped>\n",
       "    .dataframe tbody tr th:only-of-type {\n",
       "        vertical-align: middle;\n",
       "    }\n",
       "\n",
       "    .dataframe tbody tr th {\n",
       "        vertical-align: top;\n",
       "    }\n",
       "\n",
       "    .dataframe thead th {\n",
       "        text-align: right;\n",
       "    }\n",
       "</style>\n",
       "<table border=\"1\" class=\"dataframe\">\n",
       "  <thead>\n",
       "    <tr style=\"text-align: right;\">\n",
       "      <th></th>\n",
       "      <th>A161390</th>\n",
       "      <th>A016360</th>\n",
       "      <th>A012330</th>\n",
       "      <th>A036460</th>\n",
       "      <th>A028050</th>\n",
       "      <th>A008930</th>\n",
       "      <th>A000720</th>\n",
       "      <th>A009240</th>\n",
       "      <th>A010140</th>\n",
       "      <th>A032830</th>\n",
       "      <th>...</th>\n",
       "      <th>A138040</th>\n",
       "      <th>A000150</th>\n",
       "      <th>A009150</th>\n",
       "      <th>A035420</th>\n",
       "      <th>A373220</th>\n",
       "      <th>A207940</th>\n",
       "      <th>A033780</th>\n",
       "      <th>A000100</th>\n",
       "      <th>A282330</th>\n",
       "      <th>A028260</th>\n",
       "    </tr>\n",
       "    <tr>\n",
       "      <th>Dates</th>\n",
       "      <th></th>\n",
       "      <th></th>\n",
       "      <th></th>\n",
       "      <th></th>\n",
       "      <th></th>\n",
       "      <th></th>\n",
       "      <th></th>\n",
       "      <th></th>\n",
       "      <th></th>\n",
       "      <th></th>\n",
       "      <th></th>\n",
       "      <th></th>\n",
       "      <th></th>\n",
       "      <th></th>\n",
       "      <th></th>\n",
       "      <th></th>\n",
       "      <th></th>\n",
       "      <th></th>\n",
       "      <th></th>\n",
       "      <th></th>\n",
       "      <th></th>\n",
       "    </tr>\n",
       "  </thead>\n",
       "  <tbody>\n",
       "    <tr>\n",
       "      <th>2023-10-27</th>\n",
       "      <td>-0.002000</td>\n",
       "      <td>0.000031</td>\n",
       "      <td>-0.004353</td>\n",
       "      <td>0.037536</td>\n",
       "      <td>-0.003763</td>\n",
       "      <td>-0.007419</td>\n",
       "      <td>0.000759</td>\n",
       "      <td>-0.006997</td>\n",
       "      <td>-0.008969</td>\n",
       "      <td>0.003475</td>\n",
       "      <td>...</td>\n",
       "      <td>0.001875</td>\n",
       "      <td>0.079679</td>\n",
       "      <td>-0.009161</td>\n",
       "      <td>-0.007731</td>\n",
       "      <td>-0.005275</td>\n",
       "      <td>-0.001730</td>\n",
       "      <td>-0.004579</td>\n",
       "      <td>-0.005563</td>\n",
       "      <td>-0.000507</td>\n",
       "      <td>-0.000649</td>\n",
       "    </tr>\n",
       "    <tr>\n",
       "      <th>2023-11-03</th>\n",
       "      <td>-0.002000</td>\n",
       "      <td>0.000031</td>\n",
       "      <td>-0.004353</td>\n",
       "      <td>0.037536</td>\n",
       "      <td>-0.003763</td>\n",
       "      <td>-0.007419</td>\n",
       "      <td>0.000759</td>\n",
       "      <td>-0.006997</td>\n",
       "      <td>-0.008969</td>\n",
       "      <td>0.003475</td>\n",
       "      <td>...</td>\n",
       "      <td>0.001875</td>\n",
       "      <td>0.079679</td>\n",
       "      <td>-0.009161</td>\n",
       "      <td>-0.007731</td>\n",
       "      <td>-0.005275</td>\n",
       "      <td>-0.001730</td>\n",
       "      <td>-0.004579</td>\n",
       "      <td>-0.005563</td>\n",
       "      <td>-0.000507</td>\n",
       "      <td>-0.000649</td>\n",
       "    </tr>\n",
       "    <tr>\n",
       "      <th>2023-11-10</th>\n",
       "      <td>-0.002000</td>\n",
       "      <td>0.000031</td>\n",
       "      <td>-0.004353</td>\n",
       "      <td>0.037536</td>\n",
       "      <td>-0.003763</td>\n",
       "      <td>-0.007419</td>\n",
       "      <td>0.000759</td>\n",
       "      <td>-0.006997</td>\n",
       "      <td>-0.008969</td>\n",
       "      <td>0.003475</td>\n",
       "      <td>...</td>\n",
       "      <td>0.001875</td>\n",
       "      <td>0.079679</td>\n",
       "      <td>-0.009161</td>\n",
       "      <td>-0.007731</td>\n",
       "      <td>-0.005275</td>\n",
       "      <td>-0.001730</td>\n",
       "      <td>-0.004579</td>\n",
       "      <td>-0.005563</td>\n",
       "      <td>-0.000507</td>\n",
       "      <td>-0.000649</td>\n",
       "    </tr>\n",
       "    <tr>\n",
       "      <th>2023-11-17</th>\n",
       "      <td>-0.002000</td>\n",
       "      <td>0.000031</td>\n",
       "      <td>-0.004353</td>\n",
       "      <td>0.037536</td>\n",
       "      <td>-0.003763</td>\n",
       "      <td>-0.007419</td>\n",
       "      <td>0.000759</td>\n",
       "      <td>-0.006997</td>\n",
       "      <td>-0.008969</td>\n",
       "      <td>0.003475</td>\n",
       "      <td>...</td>\n",
       "      <td>0.001875</td>\n",
       "      <td>0.079679</td>\n",
       "      <td>-0.009161</td>\n",
       "      <td>-0.007731</td>\n",
       "      <td>-0.005275</td>\n",
       "      <td>-0.001730</td>\n",
       "      <td>-0.004579</td>\n",
       "      <td>-0.005563</td>\n",
       "      <td>-0.000507</td>\n",
       "      <td>-0.000649</td>\n",
       "    </tr>\n",
       "    <tr>\n",
       "      <th>2023-11-24</th>\n",
       "      <td>0.004123</td>\n",
       "      <td>0.002783</td>\n",
       "      <td>-0.006361</td>\n",
       "      <td>0.006234</td>\n",
       "      <td>0.003412</td>\n",
       "      <td>-0.000015</td>\n",
       "      <td>-0.000355</td>\n",
       "      <td>-0.007241</td>\n",
       "      <td>-0.009889</td>\n",
       "      <td>0.004998</td>\n",
       "      <td>...</td>\n",
       "      <td>0.007938</td>\n",
       "      <td>0.011283</td>\n",
       "      <td>-0.006128</td>\n",
       "      <td>-0.011560</td>\n",
       "      <td>-0.022435</td>\n",
       "      <td>-0.004128</td>\n",
       "      <td>-0.001444</td>\n",
       "      <td>-0.004598</td>\n",
       "      <td>0.004198</td>\n",
       "      <td>-0.001182</td>\n",
       "    </tr>\n",
       "    <tr>\n",
       "      <th>2023-12-01</th>\n",
       "      <td>0.004123</td>\n",
       "      <td>0.002783</td>\n",
       "      <td>-0.006361</td>\n",
       "      <td>0.006234</td>\n",
       "      <td>0.003412</td>\n",
       "      <td>-0.000015</td>\n",
       "      <td>-0.000355</td>\n",
       "      <td>-0.007241</td>\n",
       "      <td>-0.009889</td>\n",
       "      <td>0.004998</td>\n",
       "      <td>...</td>\n",
       "      <td>0.007938</td>\n",
       "      <td>0.011283</td>\n",
       "      <td>-0.006128</td>\n",
       "      <td>-0.011560</td>\n",
       "      <td>-0.022435</td>\n",
       "      <td>-0.004128</td>\n",
       "      <td>-0.001444</td>\n",
       "      <td>-0.004598</td>\n",
       "      <td>0.004198</td>\n",
       "      <td>-0.001182</td>\n",
       "    </tr>\n",
       "    <tr>\n",
       "      <th>2023-12-08</th>\n",
       "      <td>0.004123</td>\n",
       "      <td>0.002783</td>\n",
       "      <td>-0.006361</td>\n",
       "      <td>0.006234</td>\n",
       "      <td>0.003412</td>\n",
       "      <td>-0.000015</td>\n",
       "      <td>-0.000355</td>\n",
       "      <td>-0.007241</td>\n",
       "      <td>-0.009889</td>\n",
       "      <td>0.004998</td>\n",
       "      <td>...</td>\n",
       "      <td>0.007938</td>\n",
       "      <td>0.011283</td>\n",
       "      <td>-0.006128</td>\n",
       "      <td>-0.011560</td>\n",
       "      <td>-0.022435</td>\n",
       "      <td>-0.004128</td>\n",
       "      <td>-0.001444</td>\n",
       "      <td>-0.004598</td>\n",
       "      <td>0.004198</td>\n",
       "      <td>-0.001182</td>\n",
       "    </tr>\n",
       "    <tr>\n",
       "      <th>2023-12-15</th>\n",
       "      <td>0.004123</td>\n",
       "      <td>0.002783</td>\n",
       "      <td>-0.006361</td>\n",
       "      <td>0.006234</td>\n",
       "      <td>0.003412</td>\n",
       "      <td>-0.000015</td>\n",
       "      <td>-0.000355</td>\n",
       "      <td>-0.007241</td>\n",
       "      <td>-0.009889</td>\n",
       "      <td>0.004998</td>\n",
       "      <td>...</td>\n",
       "      <td>0.007938</td>\n",
       "      <td>0.011283</td>\n",
       "      <td>-0.006128</td>\n",
       "      <td>-0.011560</td>\n",
       "      <td>-0.022435</td>\n",
       "      <td>-0.004128</td>\n",
       "      <td>-0.001444</td>\n",
       "      <td>-0.004598</td>\n",
       "      <td>0.004198</td>\n",
       "      <td>-0.001182</td>\n",
       "    </tr>\n",
       "    <tr>\n",
       "      <th>2023-12-22</th>\n",
       "      <td>0.004123</td>\n",
       "      <td>0.002783</td>\n",
       "      <td>-0.006361</td>\n",
       "      <td>0.006234</td>\n",
       "      <td>0.003412</td>\n",
       "      <td>-0.000015</td>\n",
       "      <td>-0.000355</td>\n",
       "      <td>-0.007241</td>\n",
       "      <td>-0.009889</td>\n",
       "      <td>0.004998</td>\n",
       "      <td>...</td>\n",
       "      <td>0.007938</td>\n",
       "      <td>0.011283</td>\n",
       "      <td>-0.006128</td>\n",
       "      <td>-0.011560</td>\n",
       "      <td>-0.022435</td>\n",
       "      <td>-0.004128</td>\n",
       "      <td>-0.001444</td>\n",
       "      <td>-0.004598</td>\n",
       "      <td>0.004198</td>\n",
       "      <td>-0.001182</td>\n",
       "    </tr>\n",
       "    <tr>\n",
       "      <th>2023-12-28</th>\n",
       "      <td>0.003485</td>\n",
       "      <td>0.005794</td>\n",
       "      <td>-0.001804</td>\n",
       "      <td>0.081105</td>\n",
       "      <td>-0.001421</td>\n",
       "      <td>-0.004540</td>\n",
       "      <td>0.000673</td>\n",
       "      <td>-0.006929</td>\n",
       "      <td>-0.010457</td>\n",
       "      <td>-0.004083</td>\n",
       "      <td>...</td>\n",
       "      <td>0.000476</td>\n",
       "      <td>0.035090</td>\n",
       "      <td>-0.003616</td>\n",
       "      <td>-0.006794</td>\n",
       "      <td>-0.005867</td>\n",
       "      <td>-0.001490</td>\n",
       "      <td>0.003531</td>\n",
       "      <td>-0.007151</td>\n",
       "      <td>0.002227</td>\n",
       "      <td>0.003939</td>\n",
       "    </tr>\n",
       "    <tr>\n",
       "      <th>2024-01-05</th>\n",
       "      <td>0.003485</td>\n",
       "      <td>0.005794</td>\n",
       "      <td>-0.001804</td>\n",
       "      <td>0.081105</td>\n",
       "      <td>-0.001421</td>\n",
       "      <td>-0.004540</td>\n",
       "      <td>0.000673</td>\n",
       "      <td>-0.006929</td>\n",
       "      <td>-0.010457</td>\n",
       "      <td>-0.004083</td>\n",
       "      <td>...</td>\n",
       "      <td>0.000476</td>\n",
       "      <td>0.035090</td>\n",
       "      <td>-0.003616</td>\n",
       "      <td>-0.006794</td>\n",
       "      <td>-0.005867</td>\n",
       "      <td>-0.001490</td>\n",
       "      <td>0.003531</td>\n",
       "      <td>-0.007151</td>\n",
       "      <td>0.002227</td>\n",
       "      <td>0.003939</td>\n",
       "    </tr>\n",
       "    <tr>\n",
       "      <th>2024-01-12</th>\n",
       "      <td>0.003485</td>\n",
       "      <td>0.005794</td>\n",
       "      <td>-0.001804</td>\n",
       "      <td>0.081105</td>\n",
       "      <td>-0.001421</td>\n",
       "      <td>-0.004540</td>\n",
       "      <td>0.000673</td>\n",
       "      <td>-0.006929</td>\n",
       "      <td>-0.010457</td>\n",
       "      <td>-0.004083</td>\n",
       "      <td>...</td>\n",
       "      <td>0.000476</td>\n",
       "      <td>0.035090</td>\n",
       "      <td>-0.003616</td>\n",
       "      <td>-0.006794</td>\n",
       "      <td>-0.005867</td>\n",
       "      <td>-0.001490</td>\n",
       "      <td>0.003531</td>\n",
       "      <td>-0.007151</td>\n",
       "      <td>0.002227</td>\n",
       "      <td>0.003939</td>\n",
       "    </tr>\n",
       "    <tr>\n",
       "      <th>2024-01-19</th>\n",
       "      <td>0.003485</td>\n",
       "      <td>0.005794</td>\n",
       "      <td>-0.001804</td>\n",
       "      <td>0.081105</td>\n",
       "      <td>-0.001421</td>\n",
       "      <td>-0.004540</td>\n",
       "      <td>0.000673</td>\n",
       "      <td>-0.006929</td>\n",
       "      <td>-0.010457</td>\n",
       "      <td>-0.004083</td>\n",
       "      <td>...</td>\n",
       "      <td>0.000476</td>\n",
       "      <td>0.035090</td>\n",
       "      <td>-0.003616</td>\n",
       "      <td>-0.006794</td>\n",
       "      <td>-0.005867</td>\n",
       "      <td>-0.001490</td>\n",
       "      <td>0.003531</td>\n",
       "      <td>-0.007151</td>\n",
       "      <td>0.002227</td>\n",
       "      <td>0.003939</td>\n",
       "    </tr>\n",
       "    <tr>\n",
       "      <th>2024-01-26</th>\n",
       "      <td>-0.000044</td>\n",
       "      <td>0.009624</td>\n",
       "      <td>-0.003398</td>\n",
       "      <td>-0.019255</td>\n",
       "      <td>0.004892</td>\n",
       "      <td>0.001385</td>\n",
       "      <td>-0.006011</td>\n",
       "      <td>-0.002979</td>\n",
       "      <td>-0.004586</td>\n",
       "      <td>0.009647</td>\n",
       "      <td>...</td>\n",
       "      <td>0.004085</td>\n",
       "      <td>-0.002334</td>\n",
       "      <td>-0.002124</td>\n",
       "      <td>-0.008128</td>\n",
       "      <td>-0.007109</td>\n",
       "      <td>-0.004874</td>\n",
       "      <td>-0.002199</td>\n",
       "      <td>0.000408</td>\n",
       "      <td>0.001603</td>\n",
       "      <td>-0.002883</td>\n",
       "    </tr>\n",
       "    <tr>\n",
       "      <th>2024-02-02</th>\n",
       "      <td>-0.000044</td>\n",
       "      <td>0.009624</td>\n",
       "      <td>-0.003398</td>\n",
       "      <td>-0.019255</td>\n",
       "      <td>0.004892</td>\n",
       "      <td>0.001385</td>\n",
       "      <td>-0.006011</td>\n",
       "      <td>-0.002979</td>\n",
       "      <td>-0.004586</td>\n",
       "      <td>0.009647</td>\n",
       "      <td>...</td>\n",
       "      <td>0.004085</td>\n",
       "      <td>-0.002334</td>\n",
       "      <td>-0.002124</td>\n",
       "      <td>-0.008128</td>\n",
       "      <td>-0.007109</td>\n",
       "      <td>-0.004874</td>\n",
       "      <td>-0.002199</td>\n",
       "      <td>0.000408</td>\n",
       "      <td>0.001603</td>\n",
       "      <td>-0.002883</td>\n",
       "    </tr>\n",
       "    <tr>\n",
       "      <th>2024-02-08</th>\n",
       "      <td>-0.000044</td>\n",
       "      <td>0.009624</td>\n",
       "      <td>-0.003398</td>\n",
       "      <td>-0.019255</td>\n",
       "      <td>0.004892</td>\n",
       "      <td>0.001385</td>\n",
       "      <td>-0.006011</td>\n",
       "      <td>-0.002979</td>\n",
       "      <td>-0.004586</td>\n",
       "      <td>0.009647</td>\n",
       "      <td>...</td>\n",
       "      <td>0.004085</td>\n",
       "      <td>-0.002334</td>\n",
       "      <td>-0.002124</td>\n",
       "      <td>-0.008128</td>\n",
       "      <td>-0.007109</td>\n",
       "      <td>-0.004874</td>\n",
       "      <td>-0.002199</td>\n",
       "      <td>0.000408</td>\n",
       "      <td>0.001603</td>\n",
       "      <td>-0.002883</td>\n",
       "    </tr>\n",
       "    <tr>\n",
       "      <th>2024-02-16</th>\n",
       "      <td>-0.000044</td>\n",
       "      <td>0.009624</td>\n",
       "      <td>-0.003398</td>\n",
       "      <td>-0.019255</td>\n",
       "      <td>0.004892</td>\n",
       "      <td>0.001385</td>\n",
       "      <td>-0.006011</td>\n",
       "      <td>-0.002979</td>\n",
       "      <td>-0.004586</td>\n",
       "      <td>0.009647</td>\n",
       "      <td>...</td>\n",
       "      <td>0.004085</td>\n",
       "      <td>-0.002334</td>\n",
       "      <td>-0.002124</td>\n",
       "      <td>-0.008128</td>\n",
       "      <td>-0.007109</td>\n",
       "      <td>-0.004874</td>\n",
       "      <td>-0.002199</td>\n",
       "      <td>0.000408</td>\n",
       "      <td>0.001603</td>\n",
       "      <td>-0.002883</td>\n",
       "    </tr>\n",
       "    <tr>\n",
       "      <th>2024-02-23</th>\n",
       "      <td>-0.000044</td>\n",
       "      <td>0.009624</td>\n",
       "      <td>-0.003398</td>\n",
       "      <td>-0.019255</td>\n",
       "      <td>0.004892</td>\n",
       "      <td>0.001385</td>\n",
       "      <td>-0.006011</td>\n",
       "      <td>-0.002979</td>\n",
       "      <td>-0.004586</td>\n",
       "      <td>0.009647</td>\n",
       "      <td>...</td>\n",
       "      <td>0.004085</td>\n",
       "      <td>-0.002334</td>\n",
       "      <td>-0.002124</td>\n",
       "      <td>-0.008128</td>\n",
       "      <td>-0.007109</td>\n",
       "      <td>-0.004874</td>\n",
       "      <td>-0.002199</td>\n",
       "      <td>0.000408</td>\n",
       "      <td>0.001603</td>\n",
       "      <td>-0.002883</td>\n",
       "    </tr>\n",
       "    <tr>\n",
       "      <th>2024-02-29</th>\n",
       "      <td>-0.002660</td>\n",
       "      <td>0.002019</td>\n",
       "      <td>0.004536</td>\n",
       "      <td>-0.021081</td>\n",
       "      <td>0.004306</td>\n",
       "      <td>-0.003057</td>\n",
       "      <td>-0.007445</td>\n",
       "      <td>0.000862</td>\n",
       "      <td>-0.003058</td>\n",
       "      <td>0.008494</td>\n",
       "      <td>...</td>\n",
       "      <td>-0.005350</td>\n",
       "      <td>-0.011807</td>\n",
       "      <td>0.004316</td>\n",
       "      <td>-0.007361</td>\n",
       "      <td>0.015593</td>\n",
       "      <td>0.016298</td>\n",
       "      <td>0.005794</td>\n",
       "      <td>0.003790</td>\n",
       "      <td>-0.001977</td>\n",
       "      <td>0.027844</td>\n",
       "    </tr>\n",
       "    <tr>\n",
       "      <th>2024-03-08</th>\n",
       "      <td>-0.002660</td>\n",
       "      <td>0.002019</td>\n",
       "      <td>0.004536</td>\n",
       "      <td>-0.021081</td>\n",
       "      <td>0.004306</td>\n",
       "      <td>-0.003057</td>\n",
       "      <td>-0.007445</td>\n",
       "      <td>0.000862</td>\n",
       "      <td>-0.003058</td>\n",
       "      <td>0.008494</td>\n",
       "      <td>...</td>\n",
       "      <td>-0.005350</td>\n",
       "      <td>-0.011807</td>\n",
       "      <td>0.004316</td>\n",
       "      <td>-0.007361</td>\n",
       "      <td>0.015593</td>\n",
       "      <td>0.016298</td>\n",
       "      <td>0.005794</td>\n",
       "      <td>0.003790</td>\n",
       "      <td>-0.001977</td>\n",
       "      <td>0.027844</td>\n",
       "    </tr>\n",
       "    <tr>\n",
       "      <th>2024-03-15</th>\n",
       "      <td>-0.002660</td>\n",
       "      <td>0.002019</td>\n",
       "      <td>0.004536</td>\n",
       "      <td>-0.021081</td>\n",
       "      <td>0.004306</td>\n",
       "      <td>-0.003057</td>\n",
       "      <td>-0.007445</td>\n",
       "      <td>0.000862</td>\n",
       "      <td>-0.003058</td>\n",
       "      <td>0.008494</td>\n",
       "      <td>...</td>\n",
       "      <td>-0.005350</td>\n",
       "      <td>-0.011807</td>\n",
       "      <td>0.004316</td>\n",
       "      <td>-0.007361</td>\n",
       "      <td>0.015593</td>\n",
       "      <td>0.016298</td>\n",
       "      <td>0.005794</td>\n",
       "      <td>0.003790</td>\n",
       "      <td>-0.001977</td>\n",
       "      <td>0.027844</td>\n",
       "    </tr>\n",
       "    <tr>\n",
       "      <th>2024-03-22</th>\n",
       "      <td>-0.002660</td>\n",
       "      <td>0.002019</td>\n",
       "      <td>0.004536</td>\n",
       "      <td>-0.021081</td>\n",
       "      <td>0.004306</td>\n",
       "      <td>-0.003057</td>\n",
       "      <td>-0.007445</td>\n",
       "      <td>0.000862</td>\n",
       "      <td>-0.003058</td>\n",
       "      <td>0.008494</td>\n",
       "      <td>...</td>\n",
       "      <td>-0.005350</td>\n",
       "      <td>-0.011807</td>\n",
       "      <td>0.004316</td>\n",
       "      <td>-0.007361</td>\n",
       "      <td>0.015593</td>\n",
       "      <td>0.016298</td>\n",
       "      <td>0.005794</td>\n",
       "      <td>0.003790</td>\n",
       "      <td>-0.001977</td>\n",
       "      <td>0.027844</td>\n",
       "    </tr>\n",
       "    <tr>\n",
       "      <th>2024-03-29</th>\n",
       "      <td>-0.008015</td>\n",
       "      <td>0.002312</td>\n",
       "      <td>-0.002004</td>\n",
       "      <td>-0.022732</td>\n",
       "      <td>0.010709</td>\n",
       "      <td>-0.007052</td>\n",
       "      <td>-0.004035</td>\n",
       "      <td>-0.000645</td>\n",
       "      <td>-0.005999</td>\n",
       "      <td>-0.005568</td>\n",
       "      <td>...</td>\n",
       "      <td>-0.006950</td>\n",
       "      <td>0.007170</td>\n",
       "      <td>0.006607</td>\n",
       "      <td>-0.009395</td>\n",
       "      <td>0.003907</td>\n",
       "      <td>0.004310</td>\n",
       "      <td>0.001136</td>\n",
       "      <td>0.006991</td>\n",
       "      <td>0.005388</td>\n",
       "      <td>-0.002770</td>\n",
       "    </tr>\n",
       "  </tbody>\n",
       "</table>\n",
       "<p>23 rows × 137 columns</p>\n",
       "</div>"
      ],
      "text/plain": [
       "             A161390   A016360   A012330   A036460   A028050   A008930  \\\n",
       "Dates                                                                    \n",
       "2023-10-27 -0.002000  0.000031 -0.004353  0.037536 -0.003763 -0.007419   \n",
       "2023-11-03 -0.002000  0.000031 -0.004353  0.037536 -0.003763 -0.007419   \n",
       "2023-11-10 -0.002000  0.000031 -0.004353  0.037536 -0.003763 -0.007419   \n",
       "2023-11-17 -0.002000  0.000031 -0.004353  0.037536 -0.003763 -0.007419   \n",
       "2023-11-24  0.004123  0.002783 -0.006361  0.006234  0.003412 -0.000015   \n",
       "2023-12-01  0.004123  0.002783 -0.006361  0.006234  0.003412 -0.000015   \n",
       "2023-12-08  0.004123  0.002783 -0.006361  0.006234  0.003412 -0.000015   \n",
       "2023-12-15  0.004123  0.002783 -0.006361  0.006234  0.003412 -0.000015   \n",
       "2023-12-22  0.004123  0.002783 -0.006361  0.006234  0.003412 -0.000015   \n",
       "2023-12-28  0.003485  0.005794 -0.001804  0.081105 -0.001421 -0.004540   \n",
       "2024-01-05  0.003485  0.005794 -0.001804  0.081105 -0.001421 -0.004540   \n",
       "2024-01-12  0.003485  0.005794 -0.001804  0.081105 -0.001421 -0.004540   \n",
       "2024-01-19  0.003485  0.005794 -0.001804  0.081105 -0.001421 -0.004540   \n",
       "2024-01-26 -0.000044  0.009624 -0.003398 -0.019255  0.004892  0.001385   \n",
       "2024-02-02 -0.000044  0.009624 -0.003398 -0.019255  0.004892  0.001385   \n",
       "2024-02-08 -0.000044  0.009624 -0.003398 -0.019255  0.004892  0.001385   \n",
       "2024-02-16 -0.000044  0.009624 -0.003398 -0.019255  0.004892  0.001385   \n",
       "2024-02-23 -0.000044  0.009624 -0.003398 -0.019255  0.004892  0.001385   \n",
       "2024-02-29 -0.002660  0.002019  0.004536 -0.021081  0.004306 -0.003057   \n",
       "2024-03-08 -0.002660  0.002019  0.004536 -0.021081  0.004306 -0.003057   \n",
       "2024-03-15 -0.002660  0.002019  0.004536 -0.021081  0.004306 -0.003057   \n",
       "2024-03-22 -0.002660  0.002019  0.004536 -0.021081  0.004306 -0.003057   \n",
       "2024-03-29 -0.008015  0.002312 -0.002004 -0.022732  0.010709 -0.007052   \n",
       "\n",
       "             A000720   A009240   A010140   A032830  ...   A138040   A000150  \\\n",
       "Dates                                               ...                       \n",
       "2023-10-27  0.000759 -0.006997 -0.008969  0.003475  ...  0.001875  0.079679   \n",
       "2023-11-03  0.000759 -0.006997 -0.008969  0.003475  ...  0.001875  0.079679   \n",
       "2023-11-10  0.000759 -0.006997 -0.008969  0.003475  ...  0.001875  0.079679   \n",
       "2023-11-17  0.000759 -0.006997 -0.008969  0.003475  ...  0.001875  0.079679   \n",
       "2023-11-24 -0.000355 -0.007241 -0.009889  0.004998  ...  0.007938  0.011283   \n",
       "2023-12-01 -0.000355 -0.007241 -0.009889  0.004998  ...  0.007938  0.011283   \n",
       "2023-12-08 -0.000355 -0.007241 -0.009889  0.004998  ...  0.007938  0.011283   \n",
       "2023-12-15 -0.000355 -0.007241 -0.009889  0.004998  ...  0.007938  0.011283   \n",
       "2023-12-22 -0.000355 -0.007241 -0.009889  0.004998  ...  0.007938  0.011283   \n",
       "2023-12-28  0.000673 -0.006929 -0.010457 -0.004083  ...  0.000476  0.035090   \n",
       "2024-01-05  0.000673 -0.006929 -0.010457 -0.004083  ...  0.000476  0.035090   \n",
       "2024-01-12  0.000673 -0.006929 -0.010457 -0.004083  ...  0.000476  0.035090   \n",
       "2024-01-19  0.000673 -0.006929 -0.010457 -0.004083  ...  0.000476  0.035090   \n",
       "2024-01-26 -0.006011 -0.002979 -0.004586  0.009647  ...  0.004085 -0.002334   \n",
       "2024-02-02 -0.006011 -0.002979 -0.004586  0.009647  ...  0.004085 -0.002334   \n",
       "2024-02-08 -0.006011 -0.002979 -0.004586  0.009647  ...  0.004085 -0.002334   \n",
       "2024-02-16 -0.006011 -0.002979 -0.004586  0.009647  ...  0.004085 -0.002334   \n",
       "2024-02-23 -0.006011 -0.002979 -0.004586  0.009647  ...  0.004085 -0.002334   \n",
       "2024-02-29 -0.007445  0.000862 -0.003058  0.008494  ... -0.005350 -0.011807   \n",
       "2024-03-08 -0.007445  0.000862 -0.003058  0.008494  ... -0.005350 -0.011807   \n",
       "2024-03-15 -0.007445  0.000862 -0.003058  0.008494  ... -0.005350 -0.011807   \n",
       "2024-03-22 -0.007445  0.000862 -0.003058  0.008494  ... -0.005350 -0.011807   \n",
       "2024-03-29 -0.004035 -0.000645 -0.005999 -0.005568  ... -0.006950  0.007170   \n",
       "\n",
       "             A009150   A035420   A373220   A207940   A033780   A000100  \\\n",
       "Dates                                                                    \n",
       "2023-10-27 -0.009161 -0.007731 -0.005275 -0.001730 -0.004579 -0.005563   \n",
       "2023-11-03 -0.009161 -0.007731 -0.005275 -0.001730 -0.004579 -0.005563   \n",
       "2023-11-10 -0.009161 -0.007731 -0.005275 -0.001730 -0.004579 -0.005563   \n",
       "2023-11-17 -0.009161 -0.007731 -0.005275 -0.001730 -0.004579 -0.005563   \n",
       "2023-11-24 -0.006128 -0.011560 -0.022435 -0.004128 -0.001444 -0.004598   \n",
       "2023-12-01 -0.006128 -0.011560 -0.022435 -0.004128 -0.001444 -0.004598   \n",
       "2023-12-08 -0.006128 -0.011560 -0.022435 -0.004128 -0.001444 -0.004598   \n",
       "2023-12-15 -0.006128 -0.011560 -0.022435 -0.004128 -0.001444 -0.004598   \n",
       "2023-12-22 -0.006128 -0.011560 -0.022435 -0.004128 -0.001444 -0.004598   \n",
       "2023-12-28 -0.003616 -0.006794 -0.005867 -0.001490  0.003531 -0.007151   \n",
       "2024-01-05 -0.003616 -0.006794 -0.005867 -0.001490  0.003531 -0.007151   \n",
       "2024-01-12 -0.003616 -0.006794 -0.005867 -0.001490  0.003531 -0.007151   \n",
       "2024-01-19 -0.003616 -0.006794 -0.005867 -0.001490  0.003531 -0.007151   \n",
       "2024-01-26 -0.002124 -0.008128 -0.007109 -0.004874 -0.002199  0.000408   \n",
       "2024-02-02 -0.002124 -0.008128 -0.007109 -0.004874 -0.002199  0.000408   \n",
       "2024-02-08 -0.002124 -0.008128 -0.007109 -0.004874 -0.002199  0.000408   \n",
       "2024-02-16 -0.002124 -0.008128 -0.007109 -0.004874 -0.002199  0.000408   \n",
       "2024-02-23 -0.002124 -0.008128 -0.007109 -0.004874 -0.002199  0.000408   \n",
       "2024-02-29  0.004316 -0.007361  0.015593  0.016298  0.005794  0.003790   \n",
       "2024-03-08  0.004316 -0.007361  0.015593  0.016298  0.005794  0.003790   \n",
       "2024-03-15  0.004316 -0.007361  0.015593  0.016298  0.005794  0.003790   \n",
       "2024-03-22  0.004316 -0.007361  0.015593  0.016298  0.005794  0.003790   \n",
       "2024-03-29  0.006607 -0.009395  0.003907  0.004310  0.001136  0.006991   \n",
       "\n",
       "             A282330   A028260  \n",
       "Dates                           \n",
       "2023-10-27 -0.000507 -0.000649  \n",
       "2023-11-03 -0.000507 -0.000649  \n",
       "2023-11-10 -0.000507 -0.000649  \n",
       "2023-11-17 -0.000507 -0.000649  \n",
       "2023-11-24  0.004198 -0.001182  \n",
       "2023-12-01  0.004198 -0.001182  \n",
       "2023-12-08  0.004198 -0.001182  \n",
       "2023-12-15  0.004198 -0.001182  \n",
       "2023-12-22  0.004198 -0.001182  \n",
       "2023-12-28  0.002227  0.003939  \n",
       "2024-01-05  0.002227  0.003939  \n",
       "2024-01-12  0.002227  0.003939  \n",
       "2024-01-19  0.002227  0.003939  \n",
       "2024-01-26  0.001603 -0.002883  \n",
       "2024-02-02  0.001603 -0.002883  \n",
       "2024-02-08  0.001603 -0.002883  \n",
       "2024-02-16  0.001603 -0.002883  \n",
       "2024-02-23  0.001603 -0.002883  \n",
       "2024-02-29 -0.001977  0.027844  \n",
       "2024-03-08 -0.001977  0.027844  \n",
       "2024-03-15 -0.001977  0.027844  \n",
       "2024-03-22 -0.001977  0.027844  \n",
       "2024-03-29  0.005388 -0.002770  \n",
       "\n",
       "[23 rows x 137 columns]"
      ]
     },
     "execution_count": 93,
     "metadata": {},
     "output_type": "execute_result"
    }
   ],
   "source": [
    "k100_ls_w"
   ]
  },
  {
   "cell_type": "code",
   "execution_count": 94,
   "id": "bbfe718c-737d-4fc5-886b-5c017653935d",
   "metadata": {
    "execution": {
     "iopub.execute_input": "2024-05-07T07:13:20.031685Z",
     "iopub.status.busy": "2024-05-07T07:13:20.031228Z",
     "iopub.status.idle": "2024-05-07T07:13:20.043424Z",
     "shell.execute_reply": "2024-05-07T07:13:20.042382Z",
     "shell.execute_reply.started": "2024-05-07T07:13:20.031642Z"
    },
    "scrolled": true
   },
   "outputs": [
    {
     "name": "stdout",
     "output_type": "stream",
     "text": [
      "lack of the beginning part of data  2023-09-30 00:00:00 2023-10-27 00:00:00\n",
      "expected date is not in inner dates 2023-10-31 00:00:00\n",
      "2023-10-31 00:00:00 2023-10-27 00:00:00\n",
      "expected date is not in inner dates 2023-11-30 00:00:00\n",
      "2023-11-30 00:00:00 2023-11-24 00:00:00\n",
      "expected date is not in inner dates 2023-12-31 00:00:00\n",
      "2023-12-31 00:00:00 2023-12-28 00:00:00\n",
      "expected date is not in inner dates 2024-01-31 00:00:00\n",
      "2024-01-31 00:00:00 2024-01-26 00:00:00\n"
     ]
    }
   ],
   "source": [
    "rebal_dates = proc.find_entire_rebalancing_dates(k100_ls_w.index)\n"
   ]
  },
  {
   "cell_type": "code",
   "execution_count": 95,
   "id": "f2ac35aa-e0d1-466c-938c-04c60c79dadc",
   "metadata": {
    "execution": {
     "iopub.execute_input": "2024-05-07T07:13:20.194683Z",
     "iopub.status.busy": "2024-05-07T07:13:20.194066Z",
     "iopub.status.idle": "2024-05-07T07:13:20.201991Z",
     "shell.execute_reply": "2024-05-07T07:13:20.200978Z",
     "shell.execute_reply.started": "2024-05-07T07:13:20.194641Z"
    }
   },
   "outputs": [
    {
     "data": {
      "text/plain": [
       "DatetimeIndex(['2023-10-27', '2023-11-24', '2023-12-28', '2024-01-26',\n",
       "               '2024-02-29', '2024-03-29'],\n",
       "              dtype='datetime64[ns]', freq=None)"
      ]
     },
     "execution_count": 95,
     "metadata": {},
     "output_type": "execute_result"
    }
   ],
   "source": [
    "rebal_dates"
   ]
  },
  {
   "cell_type": "code",
   "execution_count": 96,
   "id": "86c87259-6c3e-454f-8aef-464dfdc9d9c3",
   "metadata": {
    "execution": {
     "iopub.execute_input": "2024-05-07T07:13:20.366110Z",
     "iopub.status.busy": "2024-05-07T07:13:20.365626Z",
     "iopub.status.idle": "2024-05-07T07:13:20.598568Z",
     "shell.execute_reply": "2024-05-07T07:13:20.597621Z",
     "shell.execute_reply.started": "2024-05-07T07:13:20.366067Z"
    }
   },
   "outputs": [],
   "source": [
    "daily_ret_cost=perf.compute_daily_ret(adjprc, k100_ls_w, rebal_dates)"
   ]
  },
  {
   "cell_type": "code",
   "execution_count": 97,
   "id": "d0d6ad40-2048-479d-8d70-a4c43aa6c863",
   "metadata": {
    "execution": {
     "iopub.execute_input": "2024-05-07T07:13:20.599801Z",
     "iopub.status.busy": "2024-05-07T07:13:20.599590Z",
     "iopub.status.idle": "2024-05-07T07:13:20.791150Z",
     "shell.execute_reply": "2024-05-07T07:13:20.790263Z",
     "shell.execute_reply.started": "2024-05-07T07:13:20.599782Z"
    }
   },
   "outputs": [
    {
     "data": {
      "text/plain": [
       "<Axes: xlabel='Dates'>"
      ]
     },
     "execution_count": 97,
     "metadata": {},
     "output_type": "execute_result"
    },
    {
     "data": {
      "image/png": "[encoded data removed]",
      "text/plain": [
       "<Figure size 640x480 with 1 Axes>"
      ]
     },
     "metadata": {},
     "output_type": "display_data"
    }
   ],
   "source": [
    "k100_ls_w.fillna(0).sum(1).plot()"
   ]
  },
  {
   "cell_type": "code",
   "execution_count": 98,
   "id": "8b8bf348-1872-432e-9630-2f889f623d93",
   "metadata": {
    "execution": {
     "iopub.execute_input": "2024-05-07T07:13:20.795246Z",
     "iopub.status.busy": "2024-05-07T07:13:20.795035Z",
     "iopub.status.idle": "2024-05-07T07:13:20.969727Z",
     "shell.execute_reply": "2024-05-07T07:13:20.968786Z",
     "shell.execute_reply.started": "2024-05-07T07:13:20.795226Z"
    },
    "scrolled": true
   },
   "outputs": [],
   "source": [
    "init_value=10**9\n",
    "cost=0.002\n",
    "daily_quantity=pd.DataFrame(None, index=adjprc.loc[rebal_dates[0]:rebal_dates[-1]].index, columns=k100_ls_w.columns)\n",
    "temp_price=adjprc.loc[rebal_dates[0]:rebal_dates[-1], k100_ls_w.columns].copy()\n",
    "rebal_weights=k100_ls_w.fillna(0).copy()\n",
    "ret_ls=[]\n",
    "\n",
    "ls_port=(rebal_weights.iloc[0]<0).sum()>0\n",
    "\n",
    "for idx, date in enumerate(rebal_dates):\n",
    "    if date == rebal_dates[0]:\n",
    "        daily_quantity.loc[date]=init_value*rebal_weights.loc[date]/temp_price.loc[date]\n",
    "        \n",
    "    else:\n",
    "        prev_idx=temp_price.index.get_loc(date)-1\n",
    "        prev_date=temp_price.index[prev_idx]\n",
    "                \n",
    "        # fill monthly quantity\n",
    "        daily_quantity.loc[:prev_date]=daily_quantity.loc[:prev_date].ffill()\n",
    "        \n",
    "        # find eom nav\n",
    "        # for long short portfolio\n",
    "        # prev date on quantity has an effect of shift(1)\n",
    "        if ls_port:\n",
    "            mid_value=(daily_quantity.loc[prev_date][daily_quantity.loc[prev_date]>0]*temp_price.loc[date]).sum() \\\n",
    "                      - (daily_quantity.loc[prev_date][daily_quantity.loc[prev_date]<0]*temp_price.loc[date]).sum()\n",
    "        else:\n",
    "            mid_value=(daily_quantity.loc[prev_date]*temp_price.loc[date]).sum()\n",
    "        \n",
    "        # find quantity\n",
    "        daily_quantity.loc[date]=mid_value*rebal_weights.loc[date]/temp_price.loc[date]\n",
    "    # print(date, mid_value)\n",
    "    \n",
    "if ls_port:\n",
    "    nav1=(daily_quantity[daily_quantity>0]*temp_price).sum(1)\n",
    "    nav2=(daily_quantity[daily_quantity<0]*temp_price).sum(1)\n",
    "    daily_ret=nav1.pct_change()-nav2.pct_change()\n",
    "else:\n",
    "    nav=daily_quantity*temp_price\n",
    "    daily_ret=nav.pct_change()\n",
    "\n",
    "# apply cost\n",
    "w_diff = abs(rebal_weights.diff(1))\n",
    "daily_ret.loc[w_diff.index] = daily_ret.loc[w_diff.index] - w_diff.sum(axis=1) * cost"
   ]
  },
  {
   "cell_type": "code",
   "execution_count": 99,
   "id": "d17634fb-6c4f-4110-a7c0-ef46140a7b59",
   "metadata": {
    "execution": {
     "iopub.execute_input": "2024-05-07T07:13:20.984069Z",
     "iopub.status.busy": "2024-05-07T07:13:20.983699Z",
     "iopub.status.idle": "2024-05-07T07:13:20.990280Z",
     "shell.execute_reply": "2024-05-07T07:13:20.989336Z",
     "shell.execute_reply.started": "2024-05-07T07:13:20.984043Z"
    }
   },
   "outputs": [
    {
     "data": {
      "text/plain": [
       "DatetimeIndex(['2023-10-27', '2023-11-03', '2023-11-10', '2023-11-17',\n",
       "               '2023-11-24', '2023-12-01', '2023-12-08', '2023-12-15',\n",
       "               '2023-12-22', '2023-12-28', '2024-01-05', '2024-01-12',\n",
       "               '2024-01-19', '2024-01-26', '2024-02-02', '2024-02-08',\n",
       "               '2024-02-16', '2024-02-23', '2024-02-29', '2024-03-08',\n",
       "               '2024-03-15', '2024-03-22', '2024-03-29'],\n",
       "              dtype='datetime64[ns]', name='Dates', freq=None)"
      ]
     },
     "execution_count": 99,
     "metadata": {},
     "output_type": "execute_result"
    }
   ],
   "source": [
    "k100_ls_w.index"
   ]
  },
  {
   "cell_type": "code",
   "execution_count": 100,
   "id": "0e617031-4a8f-41ec-a210-4b9221b1e357",
   "metadata": {
    "execution": {
     "iopub.execute_input": "2024-05-07T07:13:21.167543Z",
     "iopub.status.busy": "2024-05-07T07:13:21.167089Z",
     "iopub.status.idle": "2024-05-07T07:13:21.946208Z",
     "shell.execute_reply": "2024-05-07T07:13:21.944738Z",
     "shell.execute_reply.started": "2024-05-07T07:13:21.167500Z"
    }
   },
   "outputs": [
    {
     "ename": "KeyError",
     "evalue": "'2017-02-10'",
     "output_type": "error",
     "traceback": [
      "\u001b[0;31m---------------------------------------------------------------------------\u001b[0m",
      "\u001b[0;31mKeyError\u001b[0m                                  Traceback (most recent call last)",
      "File \u001b[0;32mindex.pyx:598\u001b[0m, in \u001b[0;36mpandas._libs.index.DatetimeEngine.get_loc\u001b[0;34m()\u001b[0m\n",
      "File \u001b[0;32mpandas/_libs/hashtable_class_helper.pxi:2606\u001b[0m, in \u001b[0;36mpandas._libs.hashtable.Int64HashTable.get_item\u001b[0;34m()\u001b[0m\n",
      "File \u001b[0;32mpandas/_libs/hashtable_class_helper.pxi:2630\u001b[0m, in \u001b[0;36mpandas._libs.hashtable.Int64HashTable.get_item\u001b[0;34m()\u001b[0m\n",
      "\u001b[0;31mKeyError\u001b[0m: 1486684800000000000",
      "\nDuring handling of the above exception, another exception occurred:\n",
      "\u001b[0;31mKeyError\u001b[0m                                  Traceback (most recent call last)",
      "File \u001b[0;32m/opt/miniconda3/lib/python3.11/site-packages/pandas/core/indexes/base.py:3790\u001b[0m, in \u001b[0;36mIndex.get_loc\u001b[0;34m(self, key)\u001b[0m\n\u001b[1;32m   3789\u001b[0m \u001b[38;5;28;01mtry\u001b[39;00m:\n\u001b[0;32m-> 3790\u001b[0m     \u001b[38;5;28;01mreturn\u001b[39;00m \u001b[38;5;28;43mself\u001b[39;49m\u001b[38;5;241;43m.\u001b[39;49m\u001b[43m_engine\u001b[49m\u001b[38;5;241;43m.\u001b[39;49m\u001b[43mget_loc\u001b[49m\u001b[43m(\u001b[49m\u001b[43mcasted_key\u001b[49m\u001b[43m)\u001b[49m\n\u001b[1;32m   3791\u001b[0m \u001b[38;5;28;01mexcept\u001b[39;00m \u001b[38;5;167;01mKeyError\u001b[39;00m \u001b[38;5;28;01mas\u001b[39;00m err:\n",
      "File \u001b[0;32mindex.pyx:566\u001b[0m, in \u001b[0;36mpandas._libs.index.DatetimeEngine.get_loc\u001b[0;34m()\u001b[0m\n",
      "File \u001b[0;32mindex.pyx:600\u001b[0m, in \u001b[0;36mpandas._libs.index.DatetimeEngine.get_loc\u001b[0;34m()\u001b[0m\n",
      "\u001b[0;31mKeyError\u001b[0m: Timestamp('2017-02-10 00:00:00')",
      "\nThe above exception was the direct cause of the following exception:\n",
      "\u001b[0;31mKeyError\u001b[0m                                  Traceback (most recent call last)",
      "File \u001b[0;32m/opt/miniconda3/lib/python3.11/site-packages/pandas/core/indexes/datetimes.py:631\u001b[0m, in \u001b[0;36mDatetimeIndex.get_loc\u001b[0;34m(self, key)\u001b[0m\n\u001b[1;32m    630\u001b[0m \u001b[38;5;28;01mtry\u001b[39;00m:\n\u001b[0;32m--> 631\u001b[0m     \u001b[38;5;28;01mreturn\u001b[39;00m \u001b[43mIndex\u001b[49m\u001b[38;5;241;43m.\u001b[39;49m\u001b[43mget_loc\u001b[49m\u001b[43m(\u001b[49m\u001b[38;5;28;43mself\u001b[39;49m\u001b[43m,\u001b[49m\u001b[43m \u001b[49m\u001b[43mkey\u001b[49m\u001b[43m)\u001b[49m\n\u001b[1;32m    632\u001b[0m \u001b[38;5;28;01mexcept\u001b[39;00m \u001b[38;5;167;01mKeyError\u001b[39;00m \u001b[38;5;28;01mas\u001b[39;00m err:\n",
      "File \u001b[0;32m/opt/miniconda3/lib/python3.11/site-packages/pandas/core/indexes/base.py:3797\u001b[0m, in \u001b[0;36mIndex.get_loc\u001b[0;34m(self, key)\u001b[0m\n\u001b[1;32m   3796\u001b[0m         \u001b[38;5;28;01mraise\u001b[39;00m InvalidIndexError(key)\n\u001b[0;32m-> 3797\u001b[0m     \u001b[38;5;28;01mraise\u001b[39;00m \u001b[38;5;167;01mKeyError\u001b[39;00m(key) \u001b[38;5;28;01mfrom\u001b[39;00m \u001b[38;5;21;01merr\u001b[39;00m\n\u001b[1;32m   3798\u001b[0m \u001b[38;5;28;01mexcept\u001b[39;00m \u001b[38;5;167;01mTypeError\u001b[39;00m:\n\u001b[1;32m   3799\u001b[0m     \u001b[38;5;66;03m# If we have a listlike key, _check_indexing_error will raise\u001b[39;00m\n\u001b[1;32m   3800\u001b[0m     \u001b[38;5;66;03m#  InvalidIndexError. Otherwise we fall through and re-raise\u001b[39;00m\n\u001b[1;32m   3801\u001b[0m     \u001b[38;5;66;03m#  the TypeError.\u001b[39;00m\n",
      "\u001b[0;31mKeyError\u001b[0m: Timestamp('2017-02-10 00:00:00')",
      "\nThe above exception was the direct cause of the following exception:\n",
      "\u001b[0;31mKeyError\u001b[0m                                  Traceback (most recent call last)",
      "Cell \u001b[0;32mIn[100], line 2\u001b[0m\n\u001b[1;32m      1\u001b[0m check_date\u001b[38;5;241m=\u001b[39m\u001b[38;5;124m'\u001b[39m\u001b[38;5;124m2017-02-10\u001b[39m\u001b[38;5;124m'\u001b[39m\n\u001b[0;32m----> 2\u001b[0m check_nav\u001b[38;5;241m=\u001b[39m\u001b[43mdaily_quantity\u001b[49m\u001b[38;5;241;43m.\u001b[39;49m\u001b[43mloc\u001b[49m\u001b[43m[\u001b[49m\u001b[43mcheck_date\u001b[49m\u001b[43m]\u001b[49m\u001b[38;5;241m*\u001b[39mtemp_price\u001b[38;5;241m.\u001b[39mloc[check_date]\n\u001b[1;32m      3\u001b[0m check_nav1\u001b[38;5;241m=\u001b[39mcheck_nav[check_nav\u001b[38;5;241m>\u001b[39m\u001b[38;5;241m0\u001b[39m]\n\u001b[1;32m      4\u001b[0m check_nav2\u001b[38;5;241m=\u001b[39mcheck_nav[check_nav\u001b[38;5;241m<\u001b[39m\u001b[38;5;241m0\u001b[39m]\n",
      "File \u001b[0;32m/opt/miniconda3/lib/python3.11/site-packages/pandas/core/indexing.py:1153\u001b[0m, in \u001b[0;36m_LocationIndexer.__getitem__\u001b[0;34m(self, key)\u001b[0m\n\u001b[1;32m   1150\u001b[0m axis \u001b[38;5;241m=\u001b[39m \u001b[38;5;28mself\u001b[39m\u001b[38;5;241m.\u001b[39maxis \u001b[38;5;129;01mor\u001b[39;00m \u001b[38;5;241m0\u001b[39m\n\u001b[1;32m   1152\u001b[0m maybe_callable \u001b[38;5;241m=\u001b[39m com\u001b[38;5;241m.\u001b[39mapply_if_callable(key, \u001b[38;5;28mself\u001b[39m\u001b[38;5;241m.\u001b[39mobj)\n\u001b[0;32m-> 1153\u001b[0m \u001b[38;5;28;01mreturn\u001b[39;00m \u001b[38;5;28;43mself\u001b[39;49m\u001b[38;5;241;43m.\u001b[39;49m\u001b[43m_getitem_axis\u001b[49m\u001b[43m(\u001b[49m\u001b[43mmaybe_callable\u001b[49m\u001b[43m,\u001b[49m\u001b[43m \u001b[49m\u001b[43maxis\u001b[49m\u001b[38;5;241;43m=\u001b[39;49m\u001b[43maxis\u001b[49m\u001b[43m)\u001b[49m\n",
      "File \u001b[0;32m/opt/miniconda3/lib/python3.11/site-packages/pandas/core/indexing.py:1393\u001b[0m, in \u001b[0;36m_LocIndexer._getitem_axis\u001b[0;34m(self, key, axis)\u001b[0m\n\u001b[1;32m   1391\u001b[0m \u001b[38;5;66;03m# fall thru to straight lookup\u001b[39;00m\n\u001b[1;32m   1392\u001b[0m \u001b[38;5;28mself\u001b[39m\u001b[38;5;241m.\u001b[39m_validate_key(key, axis)\n\u001b[0;32m-> 1393\u001b[0m \u001b[38;5;28;01mreturn\u001b[39;00m \u001b[38;5;28;43mself\u001b[39;49m\u001b[38;5;241;43m.\u001b[39;49m\u001b[43m_get_label\u001b[49m\u001b[43m(\u001b[49m\u001b[43mkey\u001b[49m\u001b[43m,\u001b[49m\u001b[43m \u001b[49m\u001b[43maxis\u001b[49m\u001b[38;5;241;43m=\u001b[39;49m\u001b[43maxis\u001b[49m\u001b[43m)\u001b[49m\n",
      "File \u001b[0;32m/opt/miniconda3/lib/python3.11/site-packages/pandas/core/indexing.py:1343\u001b[0m, in \u001b[0;36m_LocIndexer._get_label\u001b[0;34m(self, label, axis)\u001b[0m\n\u001b[1;32m   1341\u001b[0m \u001b[38;5;28;01mdef\u001b[39;00m \u001b[38;5;21m_get_label\u001b[39m(\u001b[38;5;28mself\u001b[39m, label, axis: AxisInt):\n\u001b[1;32m   1342\u001b[0m     \u001b[38;5;66;03m# GH#5567 this will fail if the label is not present in the axis.\u001b[39;00m\n\u001b[0;32m-> 1343\u001b[0m     \u001b[38;5;28;01mreturn\u001b[39;00m \u001b[38;5;28;43mself\u001b[39;49m\u001b[38;5;241;43m.\u001b[39;49m\u001b[43mobj\u001b[49m\u001b[38;5;241;43m.\u001b[39;49m\u001b[43mxs\u001b[49m\u001b[43m(\u001b[49m\u001b[43mlabel\u001b[49m\u001b[43m,\u001b[49m\u001b[43m \u001b[49m\u001b[43maxis\u001b[49m\u001b[38;5;241;43m=\u001b[39;49m\u001b[43maxis\u001b[49m\u001b[43m)\u001b[49m\n",
      "File \u001b[0;32m/opt/miniconda3/lib/python3.11/site-packages/pandas/core/generic.py:4236\u001b[0m, in \u001b[0;36mNDFrame.xs\u001b[0;34m(self, key, axis, level, drop_level)\u001b[0m\n\u001b[1;32m   4234\u001b[0m             new_index \u001b[38;5;241m=\u001b[39m index[loc]\n\u001b[1;32m   4235\u001b[0m \u001b[38;5;28;01melse\u001b[39;00m:\n\u001b[0;32m-> 4236\u001b[0m     loc \u001b[38;5;241m=\u001b[39m \u001b[43mindex\u001b[49m\u001b[38;5;241;43m.\u001b[39;49m\u001b[43mget_loc\u001b[49m\u001b[43m(\u001b[49m\u001b[43mkey\u001b[49m\u001b[43m)\u001b[49m\n\u001b[1;32m   4238\u001b[0m     \u001b[38;5;28;01mif\u001b[39;00m \u001b[38;5;28misinstance\u001b[39m(loc, np\u001b[38;5;241m.\u001b[39mndarray):\n\u001b[1;32m   4239\u001b[0m         \u001b[38;5;28;01mif\u001b[39;00m loc\u001b[38;5;241m.\u001b[39mdtype \u001b[38;5;241m==\u001b[39m np\u001b[38;5;241m.\u001b[39mbool_:\n",
      "File \u001b[0;32m/opt/miniconda3/lib/python3.11/site-packages/pandas/core/indexes/datetimes.py:633\u001b[0m, in \u001b[0;36mDatetimeIndex.get_loc\u001b[0;34m(self, key)\u001b[0m\n\u001b[1;32m    631\u001b[0m     \u001b[38;5;28;01mreturn\u001b[39;00m Index\u001b[38;5;241m.\u001b[39mget_loc(\u001b[38;5;28mself\u001b[39m, key)\n\u001b[1;32m    632\u001b[0m \u001b[38;5;28;01mexcept\u001b[39;00m \u001b[38;5;167;01mKeyError\u001b[39;00m \u001b[38;5;28;01mas\u001b[39;00m err:\n\u001b[0;32m--> 633\u001b[0m     \u001b[38;5;28;01mraise\u001b[39;00m \u001b[38;5;167;01mKeyError\u001b[39;00m(orig_key) \u001b[38;5;28;01mfrom\u001b[39;00m \u001b[38;5;21;01merr\u001b[39;00m\n",
      "\u001b[0;31mKeyError\u001b[0m: '2017-02-10'"
     ]
    }
   ],
   "source": [
    "check_date='2017-02-10'\n",
    "check_nav=daily_quantity.loc[check_date]*temp_price.loc[check_date]\n",
    "check_nav1=check_nav[check_nav>0]\n",
    "check_nav2=check_nav[check_nav<0]"
   ]
  },
  {
   "cell_type": "code",
   "execution_count": null,
   "id": "4d555fa7-ca8f-4997-b356-4801fa0a1432",
   "metadata": {
    "execution": {
     "iopub.status.busy": "2024-05-07T07:13:21.946827Z",
     "iopub.status.idle": "2024-05-07T07:13:21.947078Z",
     "shell.execute_reply": "2024-05-07T07:13:21.946965Z",
     "shell.execute_reply.started": "2024-05-07T07:13:21.946954Z"
    }
   },
   "outputs": [],
   "source": [
    "check_nav1.sum()-check_nav2.sum()"
   ]
  },
  {
   "cell_type": "code",
   "execution_count": null,
   "id": "195deedd-d798-4fc7-8f0d-d7ffa49d1154",
   "metadata": {
    "execution": {
     "iopub.status.busy": "2024-05-07T07:13:21.948176Z",
     "iopub.status.idle": "2024-05-07T07:13:21.948421Z",
     "shell.execute_reply": "2024-05-07T07:13:21.948310Z",
     "shell.execute_reply.started": "2024-05-07T07:13:21.948299Z"
    }
   },
   "outputs": [],
   "source": [
    "check_nav=(daily_quantity*temp_price)\n",
    "check_nav1=check_nav[check_nav>0]\n",
    "check_nav2=check_nav[check_nav<0]"
   ]
  },
  {
   "cell_type": "code",
   "execution_count": null,
   "id": "0303f755-2cab-4a5e-b346-0e4d8c70f24e",
   "metadata": {
    "execution": {
     "iopub.status.busy": "2024-05-07T07:13:21.948990Z",
     "iopub.status.idle": "2024-05-07T07:13:21.949226Z",
     "shell.execute_reply": "2024-05-07T07:13:21.949117Z",
     "shell.execute_reply.started": "2024-05-07T07:13:21.949106Z"
    }
   },
   "outputs": [],
   "source": [
    "(1+(check_nav1.sum(1)-check_nav2.sum(1)).pct_change()).cumprod().plot()"
   ]
  },
  {
   "cell_type": "code",
   "execution_count": null,
   "id": "e88e5093-8efc-474b-acc8-ae4c6eebb1b9",
   "metadata": {
    "execution": {
     "iopub.status.busy": "2024-05-07T07:13:21.949833Z",
     "iopub.status.idle": "2024-05-07T07:13:21.950070Z",
     "shell.execute_reply": "2024-05-07T07:13:21.949960Z",
     "shell.execute_reply.started": "2024-05-07T07:13:21.949950Z"
    }
   },
   "outputs": [],
   "source": [
    "check_nav3=check_nav1.sum(1)-check_nav2.sum(1)\n"
   ]
  },
  {
   "cell_type": "code",
   "execution_count": 101,
   "id": "f2e4b9a3-31d6-4a33-a058-7300d9f76c62",
   "metadata": {
    "execution": {
     "iopub.execute_input": "2024-05-07T07:13:22.086624Z",
     "iopub.status.busy": "2024-05-07T07:13:22.086174Z",
     "iopub.status.idle": "2024-05-07T07:13:22.121042Z",
     "shell.execute_reply": "2024-05-07T07:13:22.119939Z",
     "shell.execute_reply.started": "2024-05-07T07:13:22.086583Z"
    }
   },
   "outputs": [
    {
     "ename": "NameError",
     "evalue": "name 'check_nav1' is not defined",
     "output_type": "error",
     "traceback": [
      "\u001b[0;31m---------------------------------------------------------------------------\u001b[0m",
      "\u001b[0;31mNameError\u001b[0m                                 Traceback (most recent call last)",
      "Cell \u001b[0;32mIn[101], line 1\u001b[0m\n\u001b[0;32m----> 1\u001b[0m \u001b[43mcheck_nav1\u001b[49m\u001b[38;5;241m.\u001b[39mpct_change()\u001b[38;5;241m.\u001b[39mloc[\u001b[38;5;124m'\u001b[39m\u001b[38;5;124m2023-06-30\u001b[39m\u001b[38;5;124m'\u001b[39m]\u001b[38;5;241m.\u001b[39msort_values()\n",
      "\u001b[0;31mNameError\u001b[0m: name 'check_nav1' is not defined"
     ]
    }
   ],
   "source": [
    "check_nav1.pct_change().loc['2023-06-30'].sort_values()"
   ]
  },
  {
   "cell_type": "code",
   "execution_count": 102,
   "id": "95812852-a370-45bb-868a-62c941d64bdc",
   "metadata": {
    "execution": {
     "iopub.execute_input": "2024-05-07T07:13:22.292150Z",
     "iopub.status.busy": "2024-05-07T07:13:22.291682Z",
     "iopub.status.idle": "2024-05-07T07:13:22.339679Z",
     "shell.execute_reply": "2024-05-07T07:13:22.338412Z",
     "shell.execute_reply.started": "2024-05-07T07:13:22.292107Z"
    }
   },
   "outputs": [
    {
     "ename": "NameError",
     "evalue": "name 'check_nav2' is not defined",
     "output_type": "error",
     "traceback": [
      "\u001b[0;31m---------------------------------------------------------------------------\u001b[0m",
      "\u001b[0;31mNameError\u001b[0m                                 Traceback (most recent call last)",
      "Cell \u001b[0;32mIn[102], line 1\u001b[0m\n\u001b[0;32m----> 1\u001b[0m \u001b[43mcheck_nav2\u001b[49m\u001b[38;5;241m.\u001b[39mpct_change()\u001b[38;5;241m.\u001b[39mloc[\u001b[38;5;124m'\u001b[39m\u001b[38;5;124m2023-06-30\u001b[39m\u001b[38;5;124m'\u001b[39m]\u001b[38;5;241m.\u001b[39msort_values()\n",
      "\u001b[0;31mNameError\u001b[0m: name 'check_nav2' is not defined"
     ]
    }
   ],
   "source": [
    "check_nav2.pct_change().loc['2023-06-30'].sort_values()"
   ]
  },
  {
   "cell_type": "code",
   "execution_count": 103,
   "id": "95be0457-6e83-430a-b7cf-043e0e05289d",
   "metadata": {
    "execution": {
     "iopub.execute_input": "2024-05-07T07:13:22.466466Z",
     "iopub.status.busy": "2024-05-07T07:13:22.466015Z",
     "iopub.status.idle": "2024-05-07T07:13:22.501810Z",
     "shell.execute_reply": "2024-05-07T07:13:22.500675Z",
     "shell.execute_reply.started": "2024-05-07T07:13:22.466425Z"
    }
   },
   "outputs": [
    {
     "ename": "NameError",
     "evalue": "name 'check_nav1' is not defined",
     "output_type": "error",
     "traceback": [
      "\u001b[0;31m---------------------------------------------------------------------------\u001b[0m",
      "\u001b[0;31mNameError\u001b[0m                                 Traceback (most recent call last)",
      "Cell \u001b[0;32mIn[103], line 1\u001b[0m\n\u001b[0;32m----> 1\u001b[0m \u001b[43mcheck_nav1\u001b[49m\u001b[38;5;241m.\u001b[39mloc[\u001b[38;5;124m'\u001b[39m\u001b[38;5;124m2023-06-26\u001b[39m\u001b[38;5;124m'\u001b[39m:\u001b[38;5;124m'\u001b[39m\u001b[38;5;124m2023-07-03\u001b[39m\u001b[38;5;124m'\u001b[39m, \u001b[38;5;124m'\u001b[39m\u001b[38;5;124mA383220\u001b[39m\u001b[38;5;124m'\u001b[39m]\n",
      "\u001b[0;31mNameError\u001b[0m: name 'check_nav1' is not defined"
     ]
    }
   ],
   "source": [
    "check_nav1.loc['2023-06-26':'2023-07-03', 'A383220']"
   ]
  },
  {
   "cell_type": "code",
   "execution_count": 104,
   "id": "13342cf6-8e79-4650-98d8-93dbca596290",
   "metadata": {
    "execution": {
     "iopub.execute_input": "2024-05-07T07:13:22.648311Z",
     "iopub.status.busy": "2024-05-07T07:13:22.647843Z",
     "iopub.status.idle": "2024-05-07T07:13:22.684068Z",
     "shell.execute_reply": "2024-05-07T07:13:22.682817Z",
     "shell.execute_reply.started": "2024-05-07T07:13:22.648269Z"
    }
   },
   "outputs": [
    {
     "ename": "NameError",
     "evalue": "name 'check_nav2' is not defined",
     "output_type": "error",
     "traceback": [
      "\u001b[0;31m---------------------------------------------------------------------------\u001b[0m",
      "\u001b[0;31mNameError\u001b[0m                                 Traceback (most recent call last)",
      "Cell \u001b[0;32mIn[104], line 1\u001b[0m\n\u001b[0;32m----> 1\u001b[0m \u001b[43mcheck_nav2\u001b[49m\u001b[38;5;241m.\u001b[39mloc[\u001b[38;5;124m'\u001b[39m\u001b[38;5;124m2023-06-26\u001b[39m\u001b[38;5;124m'\u001b[39m:\u001b[38;5;124m'\u001b[39m\u001b[38;5;124m2023-07-03\u001b[39m\u001b[38;5;124m'\u001b[39m, \u001b[38;5;124m'\u001b[39m\u001b[38;5;124mA383220\u001b[39m\u001b[38;5;124m'\u001b[39m]\n",
      "\u001b[0;31mNameError\u001b[0m: name 'check_nav2' is not defined"
     ]
    }
   ],
   "source": [
    "check_nav2.loc['2023-06-26':'2023-07-03', 'A383220']"
   ]
  },
  {
   "cell_type": "code",
   "execution_count": null,
   "id": "d4dd84b3-4cc9-417f-abde-d6f5169789e2",
   "metadata": {},
   "outputs": [],
   "source": []
  },
  {
   "cell_type": "code",
   "execution_count": 105,
   "id": "43953d58-a95b-47bc-9c3c-67dbe4bbcd39",
   "metadata": {
    "execution": {
     "iopub.execute_input": "2024-05-07T07:13:22.996781Z",
     "iopub.status.busy": "2024-05-07T07:13:22.996305Z",
     "iopub.status.idle": "2024-05-07T07:13:23.034788Z",
     "shell.execute_reply": "2024-05-07T07:13:23.033425Z",
     "shell.execute_reply.started": "2024-05-07T07:13:22.996737Z"
    }
   },
   "outputs": [
    {
     "ename": "NameError",
     "evalue": "name 'check_nav1' is not defined",
     "output_type": "error",
     "traceback": [
      "\u001b[0;31m---------------------------------------------------------------------------\u001b[0m",
      "\u001b[0;31mNameError\u001b[0m                                 Traceback (most recent call last)",
      "Cell \u001b[0;32mIn[105], line 1\u001b[0m\n\u001b[0;32m----> 1\u001b[0m (\u001b[43mcheck_nav1\u001b[49m\u001b[38;5;241m.\u001b[39msum(\u001b[38;5;241m1\u001b[39m)\u001b[38;5;241m-\u001b[39mcheck_nav2\u001b[38;5;241m.\u001b[39msum(\u001b[38;5;241m1\u001b[39m))\u001b[38;5;241m.\u001b[39mpct_change()\u001b[38;5;241m.\u001b[39mplot()\n",
      "\u001b[0;31mNameError\u001b[0m: name 'check_nav1' is not defined"
     ]
    }
   ],
   "source": [
    "(check_nav1.sum(1)-check_nav2.sum(1)).pct_change().plot()"
   ]
  },
  {
   "cell_type": "code",
   "execution_count": null,
   "id": "f49e8cf7-a3db-48df-a700-097bc5fda9da",
   "metadata": {
    "execution": {
     "iopub.status.busy": "2024-05-07T06:56:09.264771Z",
     "iopub.status.idle": "2024-05-07T06:56:09.265071Z",
     "shell.execute_reply": "2024-05-07T06:56:09.264936Z",
     "shell.execute_reply.started": "2024-05-07T06:56:09.264923Z"
    }
   },
   "outputs": [],
   "source": [
    "nav_ret=(check_nav1.sum(1)-check_nav2.sum(1)).pct_change()"
   ]
  },
  {
   "cell_type": "code",
   "execution_count": null,
   "id": "b7c0c8e5-4f36-4ae0-b498-962bb61df73a",
   "metadata": {
    "execution": {
     "iopub.status.busy": "2024-05-07T06:56:09.265946Z",
     "iopub.status.idle": "2024-05-07T06:56:09.266237Z",
     "shell.execute_reply": "2024-05-07T06:56:09.266102Z",
     "shell.execute_reply.started": "2024-05-07T06:56:09.266089Z"
    }
   },
   "outputs": [],
   "source": [
    "nav_ret[nav_ret<-.2]"
   ]
  },
  {
   "cell_type": "code",
   "execution_count": null,
   "id": "a45ccbce-27eb-47dd-aaac-d164ca2d4e74",
   "metadata": {
    "execution": {
     "iopub.status.busy": "2024-05-07T06:56:09.267087Z",
     "iopub.status.idle": "2024-05-07T06:56:09.267396Z",
     "shell.execute_reply": "2024-05-07T06:56:09.267259Z",
     "shell.execute_reply.started": "2024-05-07T06:56:09.267246Z"
    }
   },
   "outputs": [],
   "source": [
    "check_nav1.sum(1).loc['2023-06-25':'2023-07-03']"
   ]
  },
  {
   "cell_type": "code",
   "execution_count": null,
   "id": "4f49ccf5-d785-4b37-81e4-f3a4f37ee99b",
   "metadata": {
    "execution": {
     "iopub.status.busy": "2024-05-07T06:56:09.268312Z",
     "iopub.status.idle": "2024-05-07T06:56:09.268604Z",
     "shell.execute_reply": "2024-05-07T06:56:09.268468Z",
     "shell.execute_reply.started": "2024-05-07T06:56:09.268455Z"
    }
   },
   "outputs": [],
   "source": [
    "temp_nav=daily_quantity.loc['2023-06-30']*temp_price.loc['2023-06-30']\n",
    "temp_nav[temp_nav>0].sum() - temp_nav[temp_nav<0].sum()"
   ]
  },
  {
   "cell_type": "code",
   "execution_count": null,
   "id": "8a84832d-0fab-4335-b68c-2742b0d2c035",
   "metadata": {
    "execution": {
     "iopub.status.busy": "2024-05-07T06:56:09.269482Z",
     "iopub.status.idle": "2024-05-07T06:56:09.269775Z",
     "shell.execute_reply": "2024-05-07T06:56:09.269639Z",
     "shell.execute_reply.started": "2024-05-07T06:56:09.269627Z"
    }
   },
   "outputs": [],
   "source": [
    "daily_quantity.loc['2023-06-25':'2023-07-03']"
   ]
  },
  {
   "cell_type": "code",
   "execution_count": null,
   "id": "b608b512-cd31-4611-88b4-6ddd71b38bad",
   "metadata": {
    "execution": {
     "iopub.status.busy": "2024-05-07T06:56:09.270629Z",
     "iopub.status.idle": "2024-05-07T06:56:09.270919Z",
     "shell.execute_reply": "2024-05-07T06:56:09.270784Z",
     "shell.execute_reply.started": "2024-05-07T06:56:09.270771Z"
    }
   },
   "outputs": [],
   "source": [
    "check_nav2.sum(1).loc['2023-06-25':'2023-07-03']"
   ]
  },
  {
   "cell_type": "code",
   "execution_count": null,
   "id": "62a23c6d-109e-46c6-8d09-3009a6968615",
   "metadata": {
    "execution": {
     "iopub.status.busy": "2024-05-07T06:56:09.271789Z",
     "iopub.status.idle": "2024-05-07T06:56:09.272077Z",
     "shell.execute_reply": "2024-05-07T06:56:09.271943Z",
     "shell.execute_reply.started": "2024-05-07T06:56:09.271930Z"
    }
   },
   "outputs": [],
   "source": [
    "pos_w=k100_ls_w[k100_ls_w>0].sum(1)\n",
    "neg_w=k100_ls_w[k100_ls_w<0].sum(1)"
   ]
  },
  {
   "cell_type": "code",
   "execution_count": null,
   "id": "52f3ae26-1dd3-4a81-8c92-99b4db7d8f5e",
   "metadata": {},
   "outputs": [],
   "source": []
  },
  {
   "cell_type": "code",
   "execution_count": null,
   "id": "4ea65d70-5f32-4991-8ef0-2d87352222d0",
   "metadata": {},
   "outputs": [],
   "source": []
  },
  {
   "cell_type": "code",
   "execution_count": null,
   "id": "dfd9a896-1f9e-4b4c-b761-a03467b5dac3",
   "metadata": {},
   "outputs": [],
   "source": []
  },
  {
   "cell_type": "code",
   "execution_count": null,
   "id": "228b81f3-f356-43fd-bb9f-5e487905a8bc",
   "metadata": {
    "execution": {
     "iopub.status.busy": "2024-05-07T06:56:09.273025Z",
     "iopub.status.idle": "2024-05-07T06:56:09.273344Z",
     "shell.execute_reply": "2024-05-07T06:56:09.273195Z",
     "shell.execute_reply.started": "2024-05-07T06:56:09.273181Z"
    }
   },
   "outputs": [],
   "source": [
    "neg_w.plot()"
   ]
  },
  {
   "cell_type": "code",
   "execution_count": null,
   "id": "de3ebee5-1f27-4969-9333-06f89f88d180",
   "metadata": {},
   "outputs": [],
   "source": []
  },
  {
   "cell_type": "code",
   "execution_count": null,
   "id": "9af988e1-1312-40b8-ae4a-2a33bf30d1a2",
   "metadata": {},
   "outputs": [],
   "source": []
  },
  {
   "cell_type": "code",
   "execution_count": null,
   "id": "5e7d6b25-88f1-4167-bb2c-922271f50b0c",
   "metadata": {
    "execution": {
     "iopub.status.busy": "2024-05-07T06:56:09.274303Z",
     "iopub.status.idle": "2024-05-07T06:56:09.274618Z",
     "shell.execute_reply": "2024-05-07T06:56:09.274472Z",
     "shell.execute_reply.started": "2024-05-07T06:56:09.274458Z"
    }
   },
   "outputs": [],
   "source": [
    "(daily_quantity.loc[prev_date][daily_quantity.loc[prev_date]>0]*temp_price.loc[date]).sum()"
   ]
  },
  {
   "cell_type": "code",
   "execution_count": null,
   "id": "495b7c25-ff20-4778-b541-d57945843b6c",
   "metadata": {
    "execution": {
     "iopub.status.busy": "2024-05-07T06:56:09.275521Z",
     "iopub.status.idle": "2024-05-07T06:56:09.275835Z",
     "shell.execute_reply": "2024-05-07T06:56:09.275690Z",
     "shell.execute_reply.started": "2024-05-07T06:56:09.275676Z"
    }
   },
   "outputs": [],
   "source": [
    "(daily_quantity.loc[prev_date][daily_quantity.loc[prev_date]<0]*temp_price.loc[date]).sum()"
   ]
  },
  {
   "cell_type": "code",
   "execution_count": null,
   "id": "930158d5-12f5-415d-a822-b1397e434925",
   "metadata": {
    "execution": {
     "iopub.status.busy": "2024-05-07T06:56:09.276776Z",
     "iopub.status.idle": "2024-05-07T06:56:09.277288Z",
     "shell.execute_reply": "2024-05-07T06:56:09.277135Z",
     "shell.execute_reply.started": "2024-05-07T06:56:09.277120Z"
    }
   },
   "outputs": [],
   "source": [
    "rebal_weights.iloc[0]"
   ]
  },
  {
   "cell_type": "code",
   "execution_count": null,
   "id": "af923678-fb03-40af-8042-51b24d02d998",
   "metadata": {
    "execution": {
     "iopub.status.busy": "2024-05-07T06:56:09.278205Z",
     "iopub.status.idle": "2024-05-07T06:56:09.278524Z",
     "shell.execute_reply": "2024-05-07T06:56:09.278374Z",
     "shell.execute_reply.started": "2024-05-07T06:56:09.278360Z"
    }
   },
   "outputs": [],
   "source": [
    "(daily_quantity.loc[prev_date][daily_quantity.loc[prev_date]>0]*temp_price.loc[date]).sum()"
   ]
  },
  {
   "cell_type": "code",
   "execution_count": null,
   "id": "881aaf9e-de96-4708-9e82-1cb50d7d8dae",
   "metadata": {
    "execution": {
     "iopub.status.busy": "2024-05-07T06:56:09.279834Z",
     "iopub.status.idle": "2024-05-07T06:56:09.280599Z",
     "shell.execute_reply": "2024-05-07T06:56:09.280334Z",
     "shell.execute_reply.started": "2024-05-07T06:56:09.280307Z"
    }
   },
   "outputs": [],
   "source": [
    "(daily_quantity.loc[prev_date][daily_quantity.loc[prev_date]<0]*temp_price.loc[date]).sum()"
   ]
  },
  {
   "cell_type": "code",
   "execution_count": null,
   "id": "d0bf10f7-70ef-4463-9983-04b69b6da0e0",
   "metadata": {
    "execution": {
     "iopub.status.busy": "2024-05-07T06:56:09.281912Z",
     "iopub.status.idle": "2024-05-07T06:56:09.282517Z",
     "shell.execute_reply": "2024-05-07T06:56:09.282265Z",
     "shell.execute_reply.started": "2024-05-07T06:56:09.282241Z"
    }
   },
   "outputs": [],
   "source": [
    "(1+ (nav1.pct_change()-nav2.pct_change())).cumprod()"
   ]
  },
  {
   "cell_type": "code",
   "execution_count": null,
   "id": "d2eb697f-0d08-499e-b0b9-60397a1b605e",
   "metadata": {
    "execution": {
     "iopub.status.busy": "2024-05-07T06:56:09.283888Z",
     "iopub.status.idle": "2024-05-07T06:56:09.284483Z",
     "shell.execute_reply": "2024-05-07T06:56:09.284238Z",
     "shell.execute_reply.started": "2024-05-07T06:56:09.284214Z"
    }
   },
   "outputs": [],
   "source": [
    "nav1.pct_change()"
   ]
  },
  {
   "cell_type": "code",
   "execution_count": null,
   "id": "946572b0-497d-4140-b0e8-8f3a460cbcef",
   "metadata": {
    "execution": {
     "iopub.status.busy": "2024-05-07T06:56:09.285963Z",
     "iopub.status.idle": "2024-05-07T06:56:09.286528Z",
     "shell.execute_reply": "2024-05-07T06:56:09.286279Z",
     "shell.execute_reply.started": "2024-05-07T06:56:09.286255Z"
    }
   },
   "outputs": [],
   "source": [
    "(1+daily_ret).cumprod().plot()"
   ]
  },
  {
   "cell_type": "code",
   "execution_count": null,
   "id": "385663da-c335-4f9e-86bd-e62b401f3f95",
   "metadata": {
    "execution": {
     "iopub.status.busy": "2024-05-07T06:56:09.287692Z",
     "iopub.status.idle": "2024-05-07T06:56:09.288222Z",
     "shell.execute_reply": "2024-05-07T06:56:09.287975Z",
     "shell.execute_reply.started": "2024-05-07T06:56:09.287952Z"
    }
   },
   "outputs": [],
   "source": [
    "nav.pct_change()"
   ]
  },
  {
   "cell_type": "code",
   "execution_count": null,
   "id": "da36659c-886b-408e-a7a7-1a9abc9e9fe7",
   "metadata": {
    "execution": {
     "iopub.status.busy": "2024-05-07T06:56:09.289937Z",
     "iopub.status.idle": "2024-05-07T06:56:09.290507Z",
     "shell.execute_reply": "2024-05-07T06:56:09.290256Z",
     "shell.execute_reply.started": "2024-05-07T06:56:09.290233Z"
    }
   },
   "outputs": [],
   "source": [
    "(1+daily_ret.sum(1)).cumprod()"
   ]
  },
  {
   "cell_type": "code",
   "execution_count": null,
   "id": "fa505581-ba17-4815-96be-1b97853f5844",
   "metadata": {
    "execution": {
     "iopub.status.busy": "2024-05-07T06:56:09.291946Z",
     "iopub.status.idle": "2024-05-07T06:56:09.292513Z",
     "shell.execute_reply": "2024-05-07T06:56:09.292260Z",
     "shell.execute_reply.started": "2024-05-07T06:56:09.292237Z"
    },
    "scrolled": true
   },
   "outputs": [],
   "source": [
    "(rebal_weights<0).sum(1)>0"
   ]
  },
  {
   "cell_type": "code",
   "execution_count": null,
   "id": "a5910330-a833-49f8-95fa-81bb61018b7b",
   "metadata": {},
   "outputs": [],
   "source": []
  },
  {
   "cell_type": "code",
   "execution_count": null,
   "id": "b849e3b3-c564-4071-93f5-83f7a3826082",
   "metadata": {},
   "outputs": [],
   "source": []
  },
  {
   "cell_type": "code",
   "execution_count": null,
   "id": "a7a07f72-b169-4089-8c73-6b81d58c7b49",
   "metadata": {
    "execution": {
     "iopub.status.busy": "2024-05-07T06:56:09.293751Z",
     "iopub.status.idle": "2024-05-07T06:56:09.294323Z",
     "shell.execute_reply": "2024-05-07T06:56:09.294075Z",
     "shell.execute_reply.started": "2024-05-07T06:56:09.294050Z"
    }
   },
   "outputs": [],
   "source": [
    "daily_weight=pd.DataFrame(None, columns=k100_ls_w.columns, index=adjprc.loc[k100_ls_w.index[0]:k100_ls_w.index[-1]].index)"
   ]
  },
  {
   "cell_type": "code",
   "execution_count": null,
   "id": "d86a2401-5da1-4020-ac82-4acd38ef38cb",
   "metadata": {
    "execution": {
     "iopub.status.busy": "2024-05-07T06:56:09.296023Z",
     "iopub.status.idle": "2024-05-07T06:56:09.296626Z",
     "shell.execute_reply": "2024-05-07T06:56:09.296377Z",
     "shell.execute_reply.started": "2024-05-07T06:56:09.296353Z"
    }
   },
   "outputs": [],
   "source": [
    "daily_weight.loc[k100_ls_w.index]=k100_ls_w.fillna(0)"
   ]
  },
  {
   "cell_type": "code",
   "execution_count": null,
   "id": "aa2edcbd-186f-40ec-b742-456092112d6a",
   "metadata": {
    "execution": {
     "iopub.status.busy": "2024-05-07T06:56:09.297836Z",
     "iopub.status.idle": "2024-05-07T06:56:09.298402Z",
     "shell.execute_reply": "2024-05-07T06:56:09.298156Z",
     "shell.execute_reply.started": "2024-05-07T06:56:09.298133Z"
    }
   },
   "outputs": [],
   "source": [
    "daily_weight=daily_weight.ffill()"
   ]
  },
  {
   "cell_type": "code",
   "execution_count": null,
   "id": "f7d8182e-6564-4bc2-b796-7400722d4a32",
   "metadata": {
    "execution": {
     "iopub.status.busy": "2024-05-07T06:56:09.299941Z",
     "iopub.status.idle": "2024-05-07T06:56:09.300516Z",
     "shell.execute_reply": "2024-05-07T06:56:09.300269Z",
     "shell.execute_reply.started": "2024-05-07T06:56:09.300246Z"
    }
   },
   "outputs": [],
   "source": [
    "daily_ret_v2=(daily_weight.shift(1)*adjprc.pct_change().loc[k100_ls_w.index[0]:k100_ls_w.index[-1]]).sum(1)"
   ]
  },
  {
   "cell_type": "code",
   "execution_count": null,
   "id": "f16887d1-639e-4b07-9110-336f1a010251",
   "metadata": {
    "execution": {
     "iopub.status.busy": "2024-05-07T06:56:09.301942Z",
     "iopub.status.idle": "2024-05-07T06:56:09.302509Z",
     "shell.execute_reply": "2024-05-07T06:56:09.302263Z",
     "shell.execute_reply.started": "2024-05-07T06:56:09.302239Z"
    }
   },
   "outputs": [],
   "source": [
    "daily_ret_v2.plot()"
   ]
  },
  {
   "cell_type": "code",
   "execution_count": null,
   "id": "315cdbd6-ec83-4586-a7c5-b59bb638a237",
   "metadata": {
    "execution": {
     "iopub.status.busy": "2024-05-07T06:56:09.303972Z",
     "iopub.status.idle": "2024-05-07T06:56:09.304674Z",
     "shell.execute_reply": "2024-05-07T06:56:09.304419Z",
     "shell.execute_reply.started": "2024-05-07T06:56:09.304394Z"
    }
   },
   "outputs": [],
   "source": [
    "(1+daily_ret_v2).cumprod().plot()"
   ]
  },
  {
   "cell_type": "code",
   "execution_count": null,
   "id": "818969e8-34a9-4aa4-95f9-d268db61f558",
   "metadata": {
    "execution": {
     "iopub.status.busy": "2024-05-07T06:56:09.305995Z",
     "iopub.status.idle": "2024-05-07T06:56:09.306688Z",
     "shell.execute_reply": "2024-05-07T06:56:09.306440Z",
     "shell.execute_reply.started": "2024-05-07T06:56:09.306415Z"
    }
   },
   "outputs": [],
   "source": [
    "(1+k100_idx_ret.sum(1)).cumprod().plot()"
   ]
  },
  {
   "cell_type": "code",
   "execution_count": null,
   "id": "206dec39-5621-47af-94a6-72e3170809bb",
   "metadata": {
    "execution": {
     "iopub.status.busy": "2024-05-07T06:56:09.316469Z",
     "iopub.status.idle": "2024-05-07T06:56:09.317037Z",
     "shell.execute_reply": "2024-05-07T06:56:09.316770Z",
     "shell.execute_reply.started": "2024-05-07T06:56:09.316745Z"
    }
   },
   "outputs": [],
   "source": [
    "(1+k100_idx_ret.loc['2023-01-01':].sum(1)).cumprod().plot()"
   ]
  },
  {
   "cell_type": "code",
   "execution_count": null,
   "id": "430d25a0-d5b5-4b31-be04-87f29f460204",
   "metadata": {
    "execution": {
     "iopub.status.busy": "2024-05-07T06:56:09.318487Z",
     "iopub.status.idle": "2024-05-07T06:56:09.319455Z",
     "shell.execute_reply": "2024-05-07T06:56:09.319200Z",
     "shell.execute_reply.started": "2024-05-07T06:56:09.319174Z"
    }
   },
   "outputs": [],
   "source": [
    "idx_daily_cost, idx_cum_cost=perf.apply_trading_cost(daily_ret_v2, k100_ls_w)"
   ]
  },
  {
   "cell_type": "code",
   "execution_count": null,
   "id": "25e81d76-c42d-4a85-bd69-bbd30bd28a3a",
   "metadata": {
    "execution": {
     "iopub.status.busy": "2024-05-07T06:56:09.320730Z",
     "iopub.status.idle": "2024-05-07T06:56:09.321369Z",
     "shell.execute_reply": "2024-05-07T06:56:09.321118Z",
     "shell.execute_reply.started": "2024-05-07T06:56:09.321095Z"
    }
   },
   "outputs": [],
   "source": [
    "idx_cum_cost.plot()"
   ]
  },
  {
   "cell_type": "code",
   "execution_count": null,
   "id": "f27c8c19-52ce-4851-94dc-7273940fa7b4",
   "metadata": {},
   "outputs": [],
   "source": []
  },
  {
   "cell_type": "code",
   "execution_count": null,
   "id": "ebcc49ef-3684-44e2-9bb6-0336b5294d79",
   "metadata": {
    "execution": {
     "iopub.status.busy": "2024-05-07T06:56:09.323042Z",
     "iopub.status.idle": "2024-05-07T06:56:09.324210Z",
     "shell.execute_reply": "2024-05-07T06:56:09.323652Z",
     "shell.execute_reply.started": "2024-05-07T06:56:09.323627Z"
    }
   },
   "outputs": [],
   "source": [
    "k100ls_entire = perf.analyze_performance(daily_ret_v2,\n",
    "                                     weights = daily_weight,\n",
    "                                     model_name = 'k100ls')"
   ]
  },
  {
   "cell_type": "code",
   "execution_count": null,
   "id": "28160f4a-c235-482c-8ca3-891b6312c2b4",
   "metadata": {
    "execution": {
     "iopub.status.busy": "2024-05-07T06:56:09.325487Z",
     "iopub.status.idle": "2024-05-07T06:56:09.326197Z",
     "shell.execute_reply": "2024-05-07T06:56:09.325943Z",
     "shell.execute_reply.started": "2024-05-07T06:56:09.325919Z"
    }
   },
   "outputs": [],
   "source": [
    "k100ls_entire"
   ]
  },
  {
   "cell_type": "code",
   "execution_count": null,
   "id": "d97246f5-2c19-406f-86b9-f89716c1655b",
   "metadata": {
    "execution": {
     "iopub.status.busy": "2024-05-07T06:56:09.328006Z",
     "iopub.status.idle": "2024-05-07T06:56:09.328527Z",
     "shell.execute_reply": "2024-05-07T06:56:09.328286Z",
     "shell.execute_reply.started": "2024-05-07T06:56:09.328264Z"
    }
   },
   "outputs": [],
   "source": [
    "k100ls_2023 = perf.analyze_performance(daily_ret_v2.loc['2023-01-01':],\n",
    "                                       weights = daily_weight,\n",
    "                                       model_name = 'k100ls2023')"
   ]
  },
  {
   "cell_type": "code",
   "execution_count": null,
   "id": "a1001287-dbc0-4367-8107-aa8bf4bf3b2e",
   "metadata": {
    "execution": {
     "iopub.status.busy": "2024-05-07T06:56:09.329819Z",
     "iopub.status.idle": "2024-05-07T06:56:09.330558Z",
     "shell.execute_reply": "2024-05-07T06:56:09.330307Z",
     "shell.execute_reply.started": "2024-05-07T06:56:09.330284Z"
    }
   },
   "outputs": [],
   "source": [
    "k100ls_2023"
   ]
  },
  {
   "cell_type": "code",
   "execution_count": null,
   "id": "fa9781e4-72d3-44db-988b-874e06a1dc1f",
   "metadata": {
    "execution": {
     "iopub.status.busy": "2024-05-07T06:56:09.332092Z",
     "iopub.status.idle": "2024-05-07T06:56:09.332880Z",
     "shell.execute_reply": "2024-05-07T06:56:09.332629Z",
     "shell.execute_reply.started": "2024-05-07T06:56:09.332606Z"
    }
   },
   "outputs": [],
   "source": [
    "k100ls_2024 = perf.analyze_performance(daily_ret_v2.loc['2024-01-01':],\n",
    "                                       weights = daily_weight,\n",
    "                                       model_name = 'k100ls2023')"
   ]
  },
  {
   "cell_type": "code",
   "execution_count": null,
   "id": "c32a977e-8648-4275-97aa-6851687c6f1b",
   "metadata": {
    "execution": {
     "iopub.status.busy": "2024-05-07T06:56:09.334412Z",
     "iopub.status.idle": "2024-05-07T06:56:09.335112Z",
     "shell.execute_reply": "2024-05-07T06:56:09.334860Z",
     "shell.execute_reply.started": "2024-05-07T06:56:09.334835Z"
    }
   },
   "outputs": [],
   "source": [
    "k100ls_2024"
   ]
  },
  {
   "cell_type": "code",
   "execution_count": null,
   "id": "90d7a269-3d9b-41e7-b93b-0deb70dfdc58",
   "metadata": {},
   "outputs": [],
   "source": []
  },
  {
   "cell_type": "code",
   "execution_count": null,
   "id": "cacc2267-4a2f-4cc9-be3a-93575936e9ef",
   "metadata": {},
   "outputs": [],
   "source": []
  },
  {
   "cell_type": "markdown",
   "id": "93643ef4-5364-4481-87ef-2afcf44eb8b5",
   "metadata": {},
   "source": [
    "# optimize port"
   ]
  },
  {
   "cell_type": "markdown",
   "id": "34e02e86-b178-4a25-85d2-22165de88ce4",
   "metadata": {},
   "source": [
    "### how to optimize \n",
    "#### compare with market weight \n",
    "#### input: k200 weight, score, vol(return)\n"
   ]
  },
  {
   "cell_type": "code",
   "execution_count": 106,
   "id": "d9b26060-3df9-4d8a-9c41-71994d986abe",
   "metadata": {
    "execution": {
     "iopub.execute_input": "2024-05-07T07:13:46.572162Z",
     "iopub.status.busy": "2024-05-07T07:13:46.571636Z",
     "iopub.status.idle": "2024-05-07T07:13:46.577455Z",
     "shell.execute_reply": "2024-05-07T07:13:46.576369Z",
     "shell.execute_reply.started": "2024-05-07T07:13:46.572117Z"
    }
   },
   "outputs": [],
   "source": [
    "from scipy.optimize import minimize\n",
    "import numpy as np"
   ]
  },
  {
   "cell_type": "code",
   "execution_count": 301,
   "id": "9841b03b-32a1-4423-8886-ca534eb79627",
   "metadata": {
    "execution": {
     "iopub.execute_input": "2024-05-10T08:39:14.786832Z",
     "iopub.status.busy": "2024-05-10T08:39:14.785703Z",
     "iopub.status.idle": "2024-05-10T08:39:14.839173Z",
     "shell.execute_reply": "2024-05-10T08:39:14.838361Z",
     "shell.execute_reply.started": "2024-05-10T08:39:14.786780Z"
    }
   },
   "outputs": [],
   "source": [
    "bmw=k200_df['idx_weight'].unstack()"
   ]
  },
  {
   "cell_type": "code",
   "execution_count": 108,
   "id": "0ec06207-caa0-4aa8-b8f1-457cf107bb02",
   "metadata": {
    "execution": {
     "iopub.execute_input": "2024-05-07T07:13:46.966724Z",
     "iopub.status.busy": "2024-05-07T07:13:46.966248Z",
     "iopub.status.idle": "2024-05-07T07:13:47.075942Z",
     "shell.execute_reply": "2024-05-07T07:13:47.075216Z",
     "shell.execute_reply.started": "2024-05-07T07:13:46.966681Z"
    },
    "scrolled": true
   },
   "outputs": [
    {
     "name": "stderr",
     "output_type": "stream",
     "text": [
      "/tmp/ipykernel_4525/4222830641.py:1: FutureWarning: The default fill_method='pad' in DataFrame.pct_change is deprecated and will be removed in a future version. Call ffill before calling pct_change to retain current behavior and silence this warning.\n",
      "  adjprc.pct_change(60)\n"
     ]
    },
    {
     "data": {
      "text/html": [
       "<div>\n",
       "<style scoped>\n",
       "    .dataframe tbody tr th:only-of-type {\n",
       "        vertical-align: middle;\n",
       "    }\n",
       "\n",
       "    .dataframe tbody tr th {\n",
       "        vertical-align: top;\n",
       "    }\n",
       "\n",
       "    .dataframe thead th {\n",
       "        text-align: right;\n",
       "    }\n",
       "</style>\n",
       "<table border=\"1\" class=\"dataframe\">\n",
       "  <thead>\n",
       "    <tr style=\"text-align: right;\">\n",
       "      <th>Symbol</th>\n",
       "      <th>A000010</th>\n",
       "      <th>A000020</th>\n",
       "      <th>A000030</th>\n",
       "      <th>A000040</th>\n",
       "      <th>A000050</th>\n",
       "      <th>A000060</th>\n",
       "      <th>A000070</th>\n",
       "      <th>A000080</th>\n",
       "      <th>A000090</th>\n",
       "      <th>A000100</th>\n",
       "      <th>...</th>\n",
       "      <th>A460860</th>\n",
       "      <th>A462520</th>\n",
       "      <th>A465770</th>\n",
       "      <th>A900030</th>\n",
       "      <th>A900050</th>\n",
       "      <th>A900140</th>\n",
       "      <th>A950010</th>\n",
       "      <th>A950070</th>\n",
       "      <th>A950100</th>\n",
       "      <th>A950210</th>\n",
       "    </tr>\n",
       "    <tr>\n",
       "      <th>Dates</th>\n",
       "      <th></th>\n",
       "      <th></th>\n",
       "      <th></th>\n",
       "      <th></th>\n",
       "      <th></th>\n",
       "      <th></th>\n",
       "      <th></th>\n",
       "      <th></th>\n",
       "      <th></th>\n",
       "      <th></th>\n",
       "      <th></th>\n",
       "      <th></th>\n",
       "      <th></th>\n",
       "      <th></th>\n",
       "      <th></th>\n",
       "      <th></th>\n",
       "      <th></th>\n",
       "      <th></th>\n",
       "      <th></th>\n",
       "      <th></th>\n",
       "      <th></th>\n",
       "    </tr>\n",
       "  </thead>\n",
       "  <tbody>\n",
       "    <tr>\n",
       "      <th>2014-09-01</th>\n",
       "      <td>NaN</td>\n",
       "      <td>NaN</td>\n",
       "      <td>NaN</td>\n",
       "      <td>NaN</td>\n",
       "      <td>NaN</td>\n",
       "      <td>NaN</td>\n",
       "      <td>NaN</td>\n",
       "      <td>NaN</td>\n",
       "      <td>NaN</td>\n",
       "      <td>NaN</td>\n",
       "      <td>...</td>\n",
       "      <td>NaN</td>\n",
       "      <td>NaN</td>\n",
       "      <td>NaN</td>\n",
       "      <td>NaN</td>\n",
       "      <td>NaN</td>\n",
       "      <td>NaN</td>\n",
       "      <td>NaN</td>\n",
       "      <td>NaN</td>\n",
       "      <td>NaN</td>\n",
       "      <td>NaN</td>\n",
       "    </tr>\n",
       "    <tr>\n",
       "      <th>2014-09-02</th>\n",
       "      <td>NaN</td>\n",
       "      <td>NaN</td>\n",
       "      <td>NaN</td>\n",
       "      <td>NaN</td>\n",
       "      <td>NaN</td>\n",
       "      <td>NaN</td>\n",
       "      <td>NaN</td>\n",
       "      <td>NaN</td>\n",
       "      <td>NaN</td>\n",
       "      <td>NaN</td>\n",
       "      <td>...</td>\n",
       "      <td>NaN</td>\n",
       "      <td>NaN</td>\n",
       "      <td>NaN</td>\n",
       "      <td>NaN</td>\n",
       "      <td>NaN</td>\n",
       "      <td>NaN</td>\n",
       "      <td>NaN</td>\n",
       "      <td>NaN</td>\n",
       "      <td>NaN</td>\n",
       "      <td>NaN</td>\n",
       "    </tr>\n",
       "    <tr>\n",
       "      <th>2014-09-03</th>\n",
       "      <td>NaN</td>\n",
       "      <td>NaN</td>\n",
       "      <td>NaN</td>\n",
       "      <td>NaN</td>\n",
       "      <td>NaN</td>\n",
       "      <td>NaN</td>\n",
       "      <td>NaN</td>\n",
       "      <td>NaN</td>\n",
       "      <td>NaN</td>\n",
       "      <td>NaN</td>\n",
       "      <td>...</td>\n",
       "      <td>NaN</td>\n",
       "      <td>NaN</td>\n",
       "      <td>NaN</td>\n",
       "      <td>NaN</td>\n",
       "      <td>NaN</td>\n",
       "      <td>NaN</td>\n",
       "      <td>NaN</td>\n",
       "      <td>NaN</td>\n",
       "      <td>NaN</td>\n",
       "      <td>NaN</td>\n",
       "    </tr>\n",
       "    <tr>\n",
       "      <th>2014-09-04</th>\n",
       "      <td>NaN</td>\n",
       "      <td>NaN</td>\n",
       "      <td>NaN</td>\n",
       "      <td>NaN</td>\n",
       "      <td>NaN</td>\n",
       "      <td>NaN</td>\n",
       "      <td>NaN</td>\n",
       "      <td>NaN</td>\n",
       "      <td>NaN</td>\n",
       "      <td>NaN</td>\n",
       "      <td>...</td>\n",
       "      <td>NaN</td>\n",
       "      <td>NaN</td>\n",
       "      <td>NaN</td>\n",
       "      <td>NaN</td>\n",
       "      <td>NaN</td>\n",
       "      <td>NaN</td>\n",
       "      <td>NaN</td>\n",
       "      <td>NaN</td>\n",
       "      <td>NaN</td>\n",
       "      <td>NaN</td>\n",
       "    </tr>\n",
       "    <tr>\n",
       "      <th>2014-09-05</th>\n",
       "      <td>NaN</td>\n",
       "      <td>NaN</td>\n",
       "      <td>NaN</td>\n",
       "      <td>NaN</td>\n",
       "      <td>NaN</td>\n",
       "      <td>NaN</td>\n",
       "      <td>NaN</td>\n",
       "      <td>NaN</td>\n",
       "      <td>NaN</td>\n",
       "      <td>NaN</td>\n",
       "      <td>...</td>\n",
       "      <td>NaN</td>\n",
       "      <td>NaN</td>\n",
       "      <td>NaN</td>\n",
       "      <td>NaN</td>\n",
       "      <td>NaN</td>\n",
       "      <td>NaN</td>\n",
       "      <td>NaN</td>\n",
       "      <td>NaN</td>\n",
       "      <td>NaN</td>\n",
       "      <td>NaN</td>\n",
       "    </tr>\n",
       "    <tr>\n",
       "      <th>...</th>\n",
       "      <td>...</td>\n",
       "      <td>...</td>\n",
       "      <td>...</td>\n",
       "      <td>...</td>\n",
       "      <td>...</td>\n",
       "      <td>...</td>\n",
       "      <td>...</td>\n",
       "      <td>...</td>\n",
       "      <td>...</td>\n",
       "      <td>...</td>\n",
       "      <td>...</td>\n",
       "      <td>...</td>\n",
       "      <td>...</td>\n",
       "      <td>...</td>\n",
       "      <td>...</td>\n",
       "      <td>...</td>\n",
       "      <td>...</td>\n",
       "      <td>...</td>\n",
       "      <td>...</td>\n",
       "      <td>...</td>\n",
       "      <td>...</td>\n",
       "    </tr>\n",
       "    <tr>\n",
       "      <th>2024-03-25</th>\n",
       "      <td>NaN</td>\n",
       "      <td>-0.036290</td>\n",
       "      <td>0.0</td>\n",
       "      <td>1.943820</td>\n",
       "      <td>-0.038117</td>\n",
       "      <td>0.0</td>\n",
       "      <td>0.022857</td>\n",
       "      <td>-0.118790</td>\n",
       "      <td>NaN</td>\n",
       "      <td>0.184755</td>\n",
       "      <td>...</td>\n",
       "      <td>-0.130961</td>\n",
       "      <td>-0.135731</td>\n",
       "      <td>-0.359014</td>\n",
       "      <td>NaN</td>\n",
       "      <td>0.0</td>\n",
       "      <td>0.135496</td>\n",
       "      <td>0.0</td>\n",
       "      <td>NaN</td>\n",
       "      <td>0.0</td>\n",
       "      <td>-0.050214</td>\n",
       "    </tr>\n",
       "    <tr>\n",
       "      <th>2024-03-26</th>\n",
       "      <td>NaN</td>\n",
       "      <td>-0.042169</td>\n",
       "      <td>0.0</td>\n",
       "      <td>2.026316</td>\n",
       "      <td>-0.037373</td>\n",
       "      <td>0.0</td>\n",
       "      <td>0.052857</td>\n",
       "      <td>-0.111349</td>\n",
       "      <td>NaN</td>\n",
       "      <td>0.164425</td>\n",
       "      <td>...</td>\n",
       "      <td>-0.117827</td>\n",
       "      <td>-0.130435</td>\n",
       "      <td>-0.308511</td>\n",
       "      <td>NaN</td>\n",
       "      <td>0.0</td>\n",
       "      <td>0.202358</td>\n",
       "      <td>0.0</td>\n",
       "      <td>NaN</td>\n",
       "      <td>0.0</td>\n",
       "      <td>-0.058252</td>\n",
       "    </tr>\n",
       "    <tr>\n",
       "      <th>2024-03-27</th>\n",
       "      <td>NaN</td>\n",
       "      <td>-0.046371</td>\n",
       "      <td>0.0</td>\n",
       "      <td>1.927746</td>\n",
       "      <td>-0.044218</td>\n",
       "      <td>0.0</td>\n",
       "      <td>0.049419</td>\n",
       "      <td>-0.061364</td>\n",
       "      <td>NaN</td>\n",
       "      <td>0.123711</td>\n",
       "      <td>...</td>\n",
       "      <td>-0.062041</td>\n",
       "      <td>-0.132048</td>\n",
       "      <td>-0.301626</td>\n",
       "      <td>NaN</td>\n",
       "      <td>0.0</td>\n",
       "      <td>0.189824</td>\n",
       "      <td>0.0</td>\n",
       "      <td>NaN</td>\n",
       "      <td>0.0</td>\n",
       "      <td>-0.094930</td>\n",
       "    </tr>\n",
       "    <tr>\n",
       "      <th>2024-03-28</th>\n",
       "      <td>NaN</td>\n",
       "      <td>-0.074976</td>\n",
       "      <td>0.0</td>\n",
       "      <td>1.837989</td>\n",
       "      <td>-0.047511</td>\n",
       "      <td>0.0</td>\n",
       "      <td>0.034783</td>\n",
       "      <td>-0.088889</td>\n",
       "      <td>NaN</td>\n",
       "      <td>0.125000</td>\n",
       "      <td>...</td>\n",
       "      <td>-0.043189</td>\n",
       "      <td>-0.152941</td>\n",
       "      <td>-0.316302</td>\n",
       "      <td>NaN</td>\n",
       "      <td>0.0</td>\n",
       "      <td>0.194059</td>\n",
       "      <td>0.0</td>\n",
       "      <td>NaN</td>\n",
       "      <td>0.0</td>\n",
       "      <td>-0.079114</td>\n",
       "    </tr>\n",
       "    <tr>\n",
       "      <th>2024-03-29</th>\n",
       "      <td>NaN</td>\n",
       "      <td>-0.103908</td>\n",
       "      <td>0.0</td>\n",
       "      <td>1.770270</td>\n",
       "      <td>-0.042237</td>\n",
       "      <td>0.0</td>\n",
       "      <td>0.032258</td>\n",
       "      <td>-0.085202</td>\n",
       "      <td>NaN</td>\n",
       "      <td>0.131268</td>\n",
       "      <td>...</td>\n",
       "      <td>-0.030981</td>\n",
       "      <td>-0.164651</td>\n",
       "      <td>-0.333603</td>\n",
       "      <td>NaN</td>\n",
       "      <td>0.0</td>\n",
       "      <td>0.100000</td>\n",
       "      <td>0.0</td>\n",
       "      <td>NaN</td>\n",
       "      <td>0.0</td>\n",
       "      <td>-0.094705</td>\n",
       "    </tr>\n",
       "  </tbody>\n",
       "</table>\n",
       "<p>2356 rows × 1210 columns</p>\n",
       "</div>"
      ],
      "text/plain": [
       "Symbol      A000010   A000020  A000030   A000040   A000050  A000060   A000070  \\\n",
       "Dates                                                                           \n",
       "2014-09-01      NaN       NaN      NaN       NaN       NaN      NaN       NaN   \n",
       "2014-09-02      NaN       NaN      NaN       NaN       NaN      NaN       NaN   \n",
       "2014-09-03      NaN       NaN      NaN       NaN       NaN      NaN       NaN   \n",
       "2014-09-04      NaN       NaN      NaN       NaN       NaN      NaN       NaN   \n",
       "2014-09-05      NaN       NaN      NaN       NaN       NaN      NaN       NaN   \n",
       "...             ...       ...      ...       ...       ...      ...       ...   \n",
       "2024-03-25      NaN -0.036290      0.0  1.943820 -0.038117      0.0  0.022857   \n",
       "2024-03-26      NaN -0.042169      0.0  2.026316 -0.037373      0.0  0.052857   \n",
       "2024-03-27      NaN -0.046371      0.0  1.927746 -0.044218      0.0  0.049419   \n",
       "2024-03-28      NaN -0.074976      0.0  1.837989 -0.047511      0.0  0.034783   \n",
       "2024-03-29      NaN -0.103908      0.0  1.770270 -0.042237      0.0  0.032258   \n",
       "\n",
       "Symbol       A000080  A000090   A000100  ...   A460860   A462520   A465770  \\\n",
       "Dates                                    ...                                 \n",
       "2014-09-01       NaN      NaN       NaN  ...       NaN       NaN       NaN   \n",
       "2014-09-02       NaN      NaN       NaN  ...       NaN       NaN       NaN   \n",
       "2014-09-03       NaN      NaN       NaN  ...       NaN       NaN       NaN   \n",
       "2014-09-04       NaN      NaN       NaN  ...       NaN       NaN       NaN   \n",
       "2014-09-05       NaN      NaN       NaN  ...       NaN       NaN       NaN   \n",
       "...              ...      ...       ...  ...       ...       ...       ...   \n",
       "2024-03-25 -0.118790      NaN  0.184755  ... -0.130961 -0.135731 -0.359014   \n",
       "2024-03-26 -0.111349      NaN  0.164425  ... -0.117827 -0.130435 -0.308511   \n",
       "2024-03-27 -0.061364      NaN  0.123711  ... -0.062041 -0.132048 -0.301626   \n",
       "2024-03-28 -0.088889      NaN  0.125000  ... -0.043189 -0.152941 -0.316302   \n",
       "2024-03-29 -0.085202      NaN  0.131268  ... -0.030981 -0.164651 -0.333603   \n",
       "\n",
       "Symbol      A900030  A900050   A900140  A950010  A950070  A950100   A950210  \n",
       "Dates                                                                        \n",
       "2014-09-01      NaN      NaN       NaN      NaN      NaN      NaN       NaN  \n",
       "2014-09-02      NaN      NaN       NaN      NaN      NaN      NaN       NaN  \n",
       "2014-09-03      NaN      NaN       NaN      NaN      NaN      NaN       NaN  \n",
       "2014-09-04      NaN      NaN       NaN      NaN      NaN      NaN       NaN  \n",
       "2014-09-05      NaN      NaN       NaN      NaN      NaN      NaN       NaN  \n",
       "...             ...      ...       ...      ...      ...      ...       ...  \n",
       "2024-03-25      NaN      0.0  0.135496      0.0      NaN      0.0 -0.050214  \n",
       "2024-03-26      NaN      0.0  0.202358      0.0      NaN      0.0 -0.058252  \n",
       "2024-03-27      NaN      0.0  0.189824      0.0      NaN      0.0 -0.094930  \n",
       "2024-03-28      NaN      0.0  0.194059      0.0      NaN      0.0 -0.079114  \n",
       "2024-03-29      NaN      0.0  0.100000      0.0      NaN      0.0 -0.094705  \n",
       "\n",
       "[2356 rows x 1210 columns]"
      ]
     },
     "execution_count": 108,
     "metadata": {},
     "output_type": "execute_result"
    }
   ],
   "source": [
    "adjprc.pct_change(60)"
   ]
  },
  {
   "cell_type": "code",
   "execution_count": null,
   "id": "a6b0b3f8-d15a-48c9-8062-189f72e3eca8",
   "metadata": {},
   "outputs": [],
   "source": []
  },
  {
   "cell_type": "code",
   "execution_count": 109,
   "id": "6d05871f-9c7f-41d7-a2c8-ec60eba9bc65",
   "metadata": {
    "execution": {
     "iopub.execute_input": "2024-05-07T07:13:47.289716Z",
     "iopub.status.busy": "2024-05-07T07:13:47.289074Z",
     "iopub.status.idle": "2024-05-07T07:13:47.327533Z",
     "shell.execute_reply": "2024-05-07T07:13:47.326689Z",
     "shell.execute_reply.started": "2024-05-07T07:13:47.289669Z"
    }
   },
   "outputs": [
    {
     "data": {
      "text/plain": [
       "DatetimeIndex(['2021-12-23', '2021-12-24', '2021-12-27', '2021-12-28',\n",
       "               '2021-12-29', '2022-01-03', '2022-01-04', '2022-01-05',\n",
       "               '2022-01-06', '2022-01-07',\n",
       "               ...\n",
       "               '2024-04-19', '2024-04-22', '2024-04-23', '2024-04-24',\n",
       "               '2024-04-25', '2024-04-26', '2024-04-29', '2024-04-30',\n",
       "               '2024-05-02', '2024-05-03'],\n",
       "              dtype='datetime64[ns]', name='Dates', length=580, freq=None)"
      ]
     },
     "execution_count": 109,
     "metadata": {},
     "output_type": "execute_result"
    }
   ],
   "source": [
    "k200_df.index.get_level_values(0).unique()[k200_df.index.get_level_values(0).unique()>'2021-12-22']"
   ]
  },
  {
   "cell_type": "code",
   "execution_count": 567,
   "id": "79068221-3051-4fbf-9f60-9480054e388f",
   "metadata": {
    "execution": {
     "iopub.execute_input": "2024-05-14T11:50:17.485769Z",
     "iopub.status.busy": "2024-05-14T11:50:17.485240Z",
     "iopub.status.idle": "2024-05-14T11:50:17.494370Z",
     "shell.execute_reply": "2024-05-14T11:50:17.493168Z",
     "shell.execute_reply.started": "2024-05-14T11:50:17.485722Z"
    }
   },
   "outputs": [
    {
     "data": {
      "text/plain": [
       "DatetimeIndex(['2023-10-27', '2023-11-03', '2023-11-10', '2023-11-17',\n",
       "               '2023-11-24', '2023-12-01', '2023-12-08', '2023-12-15',\n",
       "               '2023-12-22', '2023-12-28', '2024-01-05', '2024-01-12',\n",
       "               '2024-01-19', '2024-01-26', '2024-02-02', '2024-02-08',\n",
       "               '2024-02-16', '2024-02-23', '2024-02-29', '2024-03-08',\n",
       "               '2024-03-15', '2024-03-22', '2024-03-29'],\n",
       "              dtype='datetime64[ns]', name='Dates', freq=None)"
      ]
     },
     "execution_count": 567,
     "metadata": {},
     "output_type": "execute_result"
    }
   ],
   "source": [
    "ls_w.index"
   ]
  },
  {
   "cell_type": "code",
   "execution_count": 110,
   "id": "553a3faa-5d35-4b6f-946a-286f9d2b1f7a",
   "metadata": {
    "execution": {
     "iopub.execute_input": "2024-05-07T07:13:47.498230Z",
     "iopub.status.busy": "2024-05-07T07:13:47.497757Z",
     "iopub.status.idle": "2024-05-07T07:13:47.526355Z",
     "shell.execute_reply": "2024-05-07T07:13:47.525218Z",
     "shell.execute_reply.started": "2024-05-07T07:13:47.498187Z"
    },
    "scrolled": true
   },
   "outputs": [
    {
     "name": "stdout",
     "output_type": "stream",
     "text": [
      "lack of the beginning part of data  2023-09-30 00:00:00 2023-10-27 00:00:00\n",
      "expected date is not in inner dates 2023-10-31 00:00:00\n",
      "2023-10-31 00:00:00 2023-10-27 00:00:00\n",
      "expected date is not in inner dates 2023-11-30 00:00:00\n",
      "2023-11-30 00:00:00 2023-11-24 00:00:00\n",
      "expected date is not in inner dates 2023-12-31 00:00:00\n",
      "2023-12-31 00:00:00 2023-12-28 00:00:00\n",
      "expected date is not in inner dates 2024-01-31 00:00:00\n",
      "2024-01-31 00:00:00 2024-01-26 00:00:00\n"
     ]
    }
   ],
   "source": [
    "comm_dates=ls_w.index.intersection(k200_df.index.get_level_values(0).unique())\n",
    "rebal_dates = proc.find_entire_rebalancing_dates(comm_dates)"
   ]
  },
  {
   "cell_type": "code",
   "execution_count": 111,
   "id": "48b6cbb9-3c17-4ea9-937a-b9df31c724b5",
   "metadata": {
    "execution": {
     "iopub.execute_input": "2024-05-07T07:13:50.484495Z",
     "iopub.status.busy": "2024-05-07T07:13:50.483974Z",
     "iopub.status.idle": "2024-05-07T07:13:50.492624Z",
     "shell.execute_reply": "2024-05-07T07:13:50.491625Z",
     "shell.execute_reply.started": "2024-05-07T07:13:50.484452Z"
    }
   },
   "outputs": [
    {
     "data": {
      "text/plain": [
       "DatetimeIndex(['2023-10-27', '2023-11-24', '2023-12-28', '2024-01-26',\n",
       "               '2024-02-29', '2024-03-29'],\n",
       "              dtype='datetime64[ns]', freq=None)"
      ]
     },
     "execution_count": 111,
     "metadata": {},
     "output_type": "execute_result"
    }
   ],
   "source": [
    "rebal_dates"
   ]
  },
  {
   "cell_type": "code",
   "execution_count": 112,
   "id": "ec2115f8-e0a8-461f-a47a-2518e1f9de88",
   "metadata": {
    "execution": {
     "iopub.execute_input": "2024-05-07T07:13:50.779505Z",
     "iopub.status.busy": "2024-05-07T07:13:50.779007Z",
     "iopub.status.idle": "2024-05-07T07:13:50.830337Z",
     "shell.execute_reply": "2024-05-07T07:13:50.829307Z",
     "shell.execute_reply.started": "2024-05-07T07:13:50.779456Z"
    }
   },
   "outputs": [
    {
     "data": {
      "text/html": [
       "<div>\n",
       "<style scoped>\n",
       "    .dataframe tbody tr th:only-of-type {\n",
       "        vertical-align: middle;\n",
       "    }\n",
       "\n",
       "    .dataframe tbody tr th {\n",
       "        vertical-align: top;\n",
       "    }\n",
       "\n",
       "    .dataframe thead th {\n",
       "        text-align: right;\n",
       "    }\n",
       "</style>\n",
       "<table border=\"1\" class=\"dataframe\">\n",
       "  <thead>\n",
       "    <tr style=\"text-align: right;\">\n",
       "      <th>Symbol</th>\n",
       "      <th>A000030</th>\n",
       "      <th>A000050</th>\n",
       "      <th>A000060</th>\n",
       "      <th>A000070</th>\n",
       "      <th>A000080</th>\n",
       "      <th>A000100</th>\n",
       "      <th>A000120</th>\n",
       "      <th>A000140</th>\n",
       "      <th>A000150</th>\n",
       "      <th>A000210</th>\n",
       "      <th>...</th>\n",
       "      <th>A352820</th>\n",
       "      <th>A361610</th>\n",
       "      <th>A373220</th>\n",
       "      <th>A375500</th>\n",
       "      <th>A377300</th>\n",
       "      <th>A381970</th>\n",
       "      <th>A383220</th>\n",
       "      <th>A383800</th>\n",
       "      <th>A402340</th>\n",
       "      <th>A450080</th>\n",
       "    </tr>\n",
       "    <tr>\n",
       "      <th>Dates</th>\n",
       "      <th></th>\n",
       "      <th></th>\n",
       "      <th></th>\n",
       "      <th></th>\n",
       "      <th></th>\n",
       "      <th></th>\n",
       "      <th></th>\n",
       "      <th></th>\n",
       "      <th></th>\n",
       "      <th></th>\n",
       "      <th></th>\n",
       "      <th></th>\n",
       "      <th></th>\n",
       "      <th></th>\n",
       "      <th></th>\n",
       "      <th></th>\n",
       "      <th></th>\n",
       "      <th></th>\n",
       "      <th></th>\n",
       "      <th></th>\n",
       "      <th></th>\n",
       "    </tr>\n",
       "  </thead>\n",
       "  <tbody>\n",
       "    <tr>\n",
       "      <th>2016-06-02</th>\n",
       "      <td>0.46</td>\n",
       "      <td>0.03</td>\n",
       "      <td>NaN</td>\n",
       "      <td>0.1</td>\n",
       "      <td>0.12</td>\n",
       "      <td>0.39</td>\n",
       "      <td>0.28</td>\n",
       "      <td>0.01</td>\n",
       "      <td>0.10</td>\n",
       "      <td>0.34</td>\n",
       "      <td>...</td>\n",
       "      <td>NaN</td>\n",
       "      <td>NaN</td>\n",
       "      <td>NaN</td>\n",
       "      <td>NaN</td>\n",
       "      <td>NaN</td>\n",
       "      <td>NaN</td>\n",
       "      <td>NaN</td>\n",
       "      <td>NaN</td>\n",
       "      <td>NaN</td>\n",
       "      <td>NaN</td>\n",
       "    </tr>\n",
       "    <tr>\n",
       "      <th>2016-06-03</th>\n",
       "      <td>0.45</td>\n",
       "      <td>0.03</td>\n",
       "      <td>NaN</td>\n",
       "      <td>0.1</td>\n",
       "      <td>0.11</td>\n",
       "      <td>0.40</td>\n",
       "      <td>0.29</td>\n",
       "      <td>0.01</td>\n",
       "      <td>0.11</td>\n",
       "      <td>0.33</td>\n",
       "      <td>...</td>\n",
       "      <td>NaN</td>\n",
       "      <td>NaN</td>\n",
       "      <td>NaN</td>\n",
       "      <td>NaN</td>\n",
       "      <td>NaN</td>\n",
       "      <td>NaN</td>\n",
       "      <td>NaN</td>\n",
       "      <td>NaN</td>\n",
       "      <td>NaN</td>\n",
       "      <td>NaN</td>\n",
       "    </tr>\n",
       "    <tr>\n",
       "      <th>2016-06-07</th>\n",
       "      <td>0.45</td>\n",
       "      <td>0.03</td>\n",
       "      <td>NaN</td>\n",
       "      <td>0.1</td>\n",
       "      <td>0.11</td>\n",
       "      <td>0.39</td>\n",
       "      <td>0.30</td>\n",
       "      <td>0.01</td>\n",
       "      <td>0.10</td>\n",
       "      <td>0.34</td>\n",
       "      <td>...</td>\n",
       "      <td>NaN</td>\n",
       "      <td>NaN</td>\n",
       "      <td>NaN</td>\n",
       "      <td>NaN</td>\n",
       "      <td>NaN</td>\n",
       "      <td>NaN</td>\n",
       "      <td>NaN</td>\n",
       "      <td>NaN</td>\n",
       "      <td>NaN</td>\n",
       "      <td>NaN</td>\n",
       "    </tr>\n",
       "    <tr>\n",
       "      <th>2016-06-08</th>\n",
       "      <td>0.45</td>\n",
       "      <td>0.03</td>\n",
       "      <td>NaN</td>\n",
       "      <td>0.1</td>\n",
       "      <td>0.11</td>\n",
       "      <td>0.40</td>\n",
       "      <td>0.30</td>\n",
       "      <td>0.01</td>\n",
       "      <td>0.10</td>\n",
       "      <td>0.34</td>\n",
       "      <td>...</td>\n",
       "      <td>NaN</td>\n",
       "      <td>NaN</td>\n",
       "      <td>NaN</td>\n",
       "      <td>NaN</td>\n",
       "      <td>NaN</td>\n",
       "      <td>NaN</td>\n",
       "      <td>NaN</td>\n",
       "      <td>NaN</td>\n",
       "      <td>NaN</td>\n",
       "      <td>NaN</td>\n",
       "    </tr>\n",
       "    <tr>\n",
       "      <th>2016-06-09</th>\n",
       "      <td>0.44</td>\n",
       "      <td>0.03</td>\n",
       "      <td>NaN</td>\n",
       "      <td>0.1</td>\n",
       "      <td>0.11</td>\n",
       "      <td>0.39</td>\n",
       "      <td>0.29</td>\n",
       "      <td>0.02</td>\n",
       "      <td>0.11</td>\n",
       "      <td>0.34</td>\n",
       "      <td>...</td>\n",
       "      <td>NaN</td>\n",
       "      <td>NaN</td>\n",
       "      <td>NaN</td>\n",
       "      <td>NaN</td>\n",
       "      <td>NaN</td>\n",
       "      <td>NaN</td>\n",
       "      <td>NaN</td>\n",
       "      <td>NaN</td>\n",
       "      <td>NaN</td>\n",
       "      <td>NaN</td>\n",
       "    </tr>\n",
       "    <tr>\n",
       "      <th>...</th>\n",
       "      <td>...</td>\n",
       "      <td>...</td>\n",
       "      <td>...</td>\n",
       "      <td>...</td>\n",
       "      <td>...</td>\n",
       "      <td>...</td>\n",
       "      <td>...</td>\n",
       "      <td>...</td>\n",
       "      <td>...</td>\n",
       "      <td>...</td>\n",
       "      <td>...</td>\n",
       "      <td>...</td>\n",
       "      <td>...</td>\n",
       "      <td>...</td>\n",
       "      <td>...</td>\n",
       "      <td>...</td>\n",
       "      <td>...</td>\n",
       "      <td>...</td>\n",
       "      <td>...</td>\n",
       "      <td>...</td>\n",
       "      <td>...</td>\n",
       "    </tr>\n",
       "    <tr>\n",
       "      <th>2024-04-26</th>\n",
       "      <td>NaN</td>\n",
       "      <td>NaN</td>\n",
       "      <td>NaN</td>\n",
       "      <td>NaN</td>\n",
       "      <td>0.05</td>\n",
       "      <td>0.36</td>\n",
       "      <td>0.12</td>\n",
       "      <td>NaN</td>\n",
       "      <td>0.08</td>\n",
       "      <td>0.05</td>\n",
       "      <td>...</td>\n",
       "      <td>0.31</td>\n",
       "      <td>0.14</td>\n",
       "      <td>1.10</td>\n",
       "      <td>0.09</td>\n",
       "      <td>0.20</td>\n",
       "      <td>NaN</td>\n",
       "      <td>0.08</td>\n",
       "      <td>NaN</td>\n",
       "      <td>0.63</td>\n",
       "      <td>0.12</td>\n",
       "    </tr>\n",
       "    <tr>\n",
       "      <th>2024-04-29</th>\n",
       "      <td>NaN</td>\n",
       "      <td>NaN</td>\n",
       "      <td>NaN</td>\n",
       "      <td>NaN</td>\n",
       "      <td>0.05</td>\n",
       "      <td>0.37</td>\n",
       "      <td>0.11</td>\n",
       "      <td>NaN</td>\n",
       "      <td>0.09</td>\n",
       "      <td>0.05</td>\n",
       "      <td>...</td>\n",
       "      <td>0.31</td>\n",
       "      <td>0.14</td>\n",
       "      <td>1.11</td>\n",
       "      <td>0.09</td>\n",
       "      <td>0.20</td>\n",
       "      <td>NaN</td>\n",
       "      <td>0.09</td>\n",
       "      <td>NaN</td>\n",
       "      <td>0.61</td>\n",
       "      <td>0.12</td>\n",
       "    </tr>\n",
       "    <tr>\n",
       "      <th>2024-04-30</th>\n",
       "      <td>NaN</td>\n",
       "      <td>NaN</td>\n",
       "      <td>NaN</td>\n",
       "      <td>NaN</td>\n",
       "      <td>0.05</td>\n",
       "      <td>0.36</td>\n",
       "      <td>0.11</td>\n",
       "      <td>NaN</td>\n",
       "      <td>0.09</td>\n",
       "      <td>0.05</td>\n",
       "      <td>...</td>\n",
       "      <td>0.31</td>\n",
       "      <td>0.13</td>\n",
       "      <td>1.14</td>\n",
       "      <td>0.09</td>\n",
       "      <td>0.20</td>\n",
       "      <td>NaN</td>\n",
       "      <td>0.09</td>\n",
       "      <td>NaN</td>\n",
       "      <td>0.59</td>\n",
       "      <td>0.11</td>\n",
       "    </tr>\n",
       "    <tr>\n",
       "      <th>2024-05-02</th>\n",
       "      <td>NaN</td>\n",
       "      <td>NaN</td>\n",
       "      <td>NaN</td>\n",
       "      <td>NaN</td>\n",
       "      <td>0.05</td>\n",
       "      <td>0.36</td>\n",
       "      <td>0.11</td>\n",
       "      <td>NaN</td>\n",
       "      <td>0.09</td>\n",
       "      <td>0.06</td>\n",
       "      <td>...</td>\n",
       "      <td>0.31</td>\n",
       "      <td>0.13</td>\n",
       "      <td>1.14</td>\n",
       "      <td>0.09</td>\n",
       "      <td>0.20</td>\n",
       "      <td>NaN</td>\n",
       "      <td>0.09</td>\n",
       "      <td>NaN</td>\n",
       "      <td>0.58</td>\n",
       "      <td>0.11</td>\n",
       "    </tr>\n",
       "    <tr>\n",
       "      <th>2024-05-03</th>\n",
       "      <td>NaN</td>\n",
       "      <td>NaN</td>\n",
       "      <td>NaN</td>\n",
       "      <td>NaN</td>\n",
       "      <td>0.05</td>\n",
       "      <td>0.36</td>\n",
       "      <td>0.11</td>\n",
       "      <td>NaN</td>\n",
       "      <td>0.09</td>\n",
       "      <td>0.06</td>\n",
       "      <td>...</td>\n",
       "      <td>0.31</td>\n",
       "      <td>0.13</td>\n",
       "      <td>1.15</td>\n",
       "      <td>0.09</td>\n",
       "      <td>0.21</td>\n",
       "      <td>NaN</td>\n",
       "      <td>0.10</td>\n",
       "      <td>NaN</td>\n",
       "      <td>0.58</td>\n",
       "      <td>0.11</td>\n",
       "    </tr>\n",
       "  </tbody>\n",
       "</table>\n",
       "<p>1946 rows × 299 columns</p>\n",
       "</div>"
      ],
      "text/plain": [
       "Symbol      A000030  A000050  A000060  A000070  A000080  A000100  A000120  \\\n",
       "Dates                                                                       \n",
       "2016-06-02     0.46     0.03      NaN      0.1     0.12     0.39     0.28   \n",
       "2016-06-03     0.45     0.03      NaN      0.1     0.11     0.40     0.29   \n",
       "2016-06-07     0.45     0.03      NaN      0.1     0.11     0.39     0.30   \n",
       "2016-06-08     0.45     0.03      NaN      0.1     0.11     0.40     0.30   \n",
       "2016-06-09     0.44     0.03      NaN      0.1     0.11     0.39     0.29   \n",
       "...             ...      ...      ...      ...      ...      ...      ...   \n",
       "2024-04-26      NaN      NaN      NaN      NaN     0.05     0.36     0.12   \n",
       "2024-04-29      NaN      NaN      NaN      NaN     0.05     0.37     0.11   \n",
       "2024-04-30      NaN      NaN      NaN      NaN     0.05     0.36     0.11   \n",
       "2024-05-02      NaN      NaN      NaN      NaN     0.05     0.36     0.11   \n",
       "2024-05-03      NaN      NaN      NaN      NaN     0.05     0.36     0.11   \n",
       "\n",
       "Symbol      A000140  A000150  A000210  ...  A352820  A361610  A373220  \\\n",
       "Dates                                  ...                              \n",
       "2016-06-02     0.01     0.10     0.34  ...      NaN      NaN      NaN   \n",
       "2016-06-03     0.01     0.11     0.33  ...      NaN      NaN      NaN   \n",
       "2016-06-07     0.01     0.10     0.34  ...      NaN      NaN      NaN   \n",
       "2016-06-08     0.01     0.10     0.34  ...      NaN      NaN      NaN   \n",
       "2016-06-09     0.02     0.11     0.34  ...      NaN      NaN      NaN   \n",
       "...             ...      ...      ...  ...      ...      ...      ...   \n",
       "2024-04-26      NaN     0.08     0.05  ...     0.31     0.14     1.10   \n",
       "2024-04-29      NaN     0.09     0.05  ...     0.31     0.14     1.11   \n",
       "2024-04-30      NaN     0.09     0.05  ...     0.31     0.13     1.14   \n",
       "2024-05-02      NaN     0.09     0.06  ...     0.31     0.13     1.14   \n",
       "2024-05-03      NaN     0.09     0.06  ...     0.31     0.13     1.15   \n",
       "\n",
       "Symbol      A375500  A377300  A381970  A383220  A383800  A402340  A450080  \n",
       "Dates                                                                      \n",
       "2016-06-02      NaN      NaN      NaN      NaN      NaN      NaN      NaN  \n",
       "2016-06-03      NaN      NaN      NaN      NaN      NaN      NaN      NaN  \n",
       "2016-06-07      NaN      NaN      NaN      NaN      NaN      NaN      NaN  \n",
       "2016-06-08      NaN      NaN      NaN      NaN      NaN      NaN      NaN  \n",
       "2016-06-09      NaN      NaN      NaN      NaN      NaN      NaN      NaN  \n",
       "...             ...      ...      ...      ...      ...      ...      ...  \n",
       "2024-04-26     0.09     0.20      NaN     0.08      NaN     0.63     0.12  \n",
       "2024-04-29     0.09     0.20      NaN     0.09      NaN     0.61     0.12  \n",
       "2024-04-30     0.09     0.20      NaN     0.09      NaN     0.59     0.11  \n",
       "2024-05-02     0.09     0.20      NaN     0.09      NaN     0.58     0.11  \n",
       "2024-05-03     0.09     0.21      NaN     0.10      NaN     0.58     0.11  \n",
       "\n",
       "[1946 rows x 299 columns]"
      ]
     },
     "execution_count": 112,
     "metadata": {},
     "output_type": "execute_result"
    }
   ],
   "source": [
    "bmw"
   ]
  },
  {
   "cell_type": "code",
   "execution_count": 113,
   "id": "3e1c9e9a-df93-418d-82d1-9a83a5a52328",
   "metadata": {
    "execution": {
     "iopub.execute_input": "2024-05-07T07:13:52.524074Z",
     "iopub.status.busy": "2024-05-07T07:13:52.523549Z",
     "iopub.status.idle": "2024-05-07T07:13:52.537460Z",
     "shell.execute_reply": "2024-05-07T07:13:52.536428Z",
     "shell.execute_reply.started": "2024-05-07T07:13:52.524032Z"
    }
   },
   "outputs": [
    {
     "data": {
      "text/plain": [
       "count    198.000000\n",
       "mean      -0.003692\n",
       "std        0.009273\n",
       "min       -0.010386\n",
       "25%       -0.005800\n",
       "50%       -0.004178\n",
       "75%       -0.002919\n",
       "max        0.121573\n",
       "Name: 2024-03-29 00:00:00, dtype: float64"
      ]
     },
     "execution_count": 113,
     "metadata": {},
     "output_type": "execute_result"
    }
   ],
   "source": [
    "ls_w.iloc[-1].describe()"
   ]
  },
  {
   "cell_type": "code",
   "execution_count": null,
   "id": "dc4b1491-ab9d-418c-9766-2834e3ca41c4",
   "metadata": {
    "execution": {
     "iopub.status.busy": "2024-05-07T06:56:09.353925Z",
     "iopub.status.idle": "2024-05-07T06:56:09.354757Z",
     "shell.execute_reply": "2024-05-07T06:56:09.354504Z",
     "shell.execute_reply.started": "2024-05-07T06:56:09.354480Z"
    }
   },
   "outputs": [],
   "source": [
    "import optuna"
   ]
  },
  {
   "cell_type": "code",
   "execution_count": null,
   "id": "5221bab3-c79d-49c5-93ca-5e073ca5c864",
   "metadata": {},
   "outputs": [],
   "source": []
  },
  {
   "cell_type": "code",
   "execution_count": null,
   "id": "59afc2db-3799-44f9-bb92-18b573ff23a5",
   "metadata": {
    "execution": {
     "iopub.status.busy": "2024-05-07T06:56:09.356131Z",
     "iopub.status.idle": "2024-05-07T06:56:09.356987Z",
     "shell.execute_reply": "2024-05-07T06:56:09.356719Z",
     "shell.execute_reply.started": "2024-05-07T06:56:09.356694Z"
    },
    "scrolled": true
   },
   "outputs": [],
   "source": [
    "\n",
    "\n",
    "def score_objective(weight, bm_weight, score, cov):\n",
    "    w_diff=weight-bm_weight\n",
    "#    print(w_diff)\n",
    "    port_vol = np.sqrt(np.dot(w_diff.T, np.dot(cov, w_diff)))\n",
    "    adj_sharpe=(w_diff*score).sum() / port_vol\n",
    "    # print(adj_sharpe)\n",
    "    return -adj_sharpe\n",
    "    \n",
    "\n",
    "def port_objective(trial):\n",
    "    long_num=trial.suggest_int(\"long num\", -100, -20)\n",
    "    short_num=trial.suggest_int(\"short num\", 0, 100)\n",
    "    excess_w=trial.suggest_float(\"excess weight\", 0.02, 0.05)\n",
    "    \n",
    "    optw_ls=[]\n",
    "    for rebal_date in rebal_dates:\n",
    "        print(rebal_date)\n",
    "        temp_bm_weight=bmw.loc[rebal_date].dropna()\n",
    "        temp_bm_weight=temp_bm_weight.fillna(0)\n",
    "        temp_bm_weight=temp_bm_weight/temp_bm_weight.sum()\n",
    "    \n",
    "        comm_col=ls_w.loc[rebal_date].dropna().index.intersection(temp_bm_weight.index)\n",
    "        temp_score=ls_w.loc[rebal_date, comm_col]\n",
    "    \n",
    "        sort_score=temp_score.sort_values().dropna().copy()\n",
    "        temp_score[:]=temp_score.mean()\n",
    "        if short_num>0:\n",
    "            temp_score[sort_score.iloc[:short_num].index]=sort_score.iloc[:short_num]\n",
    "    \n",
    "        temp_score[sort_score.iloc[-long_num:].index]=sort_score.iloc[-long_num:]\n",
    "        \n",
    "        # temp_score=temp_score.fillna(0).\n",
    "        \n",
    "        temp_cov=adjprc.loc[:rebal_date, comm_col].pct_change(20).dropna(how='all', axis=0).cov()\n",
    "        temp_cov=temp_cov.fillna(0)\n",
    "        \n",
    "        if temp_bm_weight.min() <0:\n",
    "            temp_score=temp_score+temp_bm_weight.min()+temp_bm_weight.std()\n",
    "    \n",
    "        # if temp_cov.shape[0] == temp_bm_weight.shape[0] == temp_score.shape[0]:\n",
    "        #     raise ValueError(rebal_date, 'data are not aligned', temp_cov.shape[0], temp_bm_weight.shape[0], temp_score.shape[0])\n",
    "        \n",
    "        # Define the constraints (weights sum to 1)\n",
    "        constraints = ({'type': 'eq', 'fun': lambda x: np.sum(x) - 1})\n",
    "        constraints2 = ({'type': 'ineq', 'fun': lambda x: -np.abs(x - temp_bm_weight.loc[comm_col])+excess_w})\n",
    "        \n",
    "        # Define the bounds (each weight is between 0 and 1)\n",
    "        bounds = tuple((0, 1) for asset in range(len(comm_col)))\n",
    "        \n",
    "        # Initial guess (equal weights)\n",
    "        initial_guess = [1 / len(comm_col) for asset in range(len(comm_col))]\n",
    "        # initial_guess = temp_bm_weight\n",
    "        \n",
    "        # Perform the optimization\n",
    "        result = minimize(score_objective, initial_guess, args=(temp_bm_weight.loc[comm_col], temp_score, temp_cov),\n",
    "                          method='SLSQP', bounds=bounds, constraints=[constraints, constraints2])\n",
    "        \n",
    "        # Extract the optimized weights\n",
    "        optimal_weights = result.x\n",
    "        optw_df=pd.DataFrame(optimal_weights, index=comm_col, columns=[rebal_date])\n",
    "        optw_ls.append(optw_df)\n",
    "        # print(\"Optimal Weights:\", optimal_weights)\n",
    "    \n",
    "    optw_port=pd.concat(optw_ls, axis=1).T\n",
    "    daily_optw=pd.DataFrame(None, index=adjprc.loc[optw_port.index[0]:optw_port.index[-1]].index, columns=optw_port.columns)\n",
    "    daily_optw.loc[optw_port.index]=optw_port.fillna(0)\n",
    "    daily_optw=daily_optw.ffill()\n",
    "    daily_opt_port_ret=daily_optw*adjprc.pct_change().loc[daily_optw.index, daily_optw.columns]\n",
    "    daily_opt_cumret=(1+daily_opt_port_ret.sum(1)).cumprod()\n",
    "\n",
    "    return daily_opt_cumret[-1]"
   ]
  },
  {
   "cell_type": "code",
   "execution_count": null,
   "id": "9b1eee4d-e699-47c7-a7e6-7cfc89140fd9",
   "metadata": {
    "execution": {
     "iopub.status.busy": "2024-05-07T06:56:09.358240Z",
     "iopub.status.idle": "2024-05-07T06:56:09.358759Z",
     "shell.execute_reply": "2024-05-07T06:56:09.358517Z",
     "shell.execute_reply.started": "2024-05-07T06:56:09.358494Z"
    },
    "scrolled": true
   },
   "outputs": [],
   "source": [
    "study=optuna.create_study(direction='maximize')\n",
    "study.optimize(port_objective, n_trials=30)"
   ]
  },
  {
   "cell_type": "code",
   "execution_count": null,
   "id": "367384d4-9912-403b-9118-14d20d6cc2f2",
   "metadata": {
    "execution": {
     "iopub.status.busy": "2024-05-07T06:56:09.360303Z",
     "iopub.status.idle": "2024-05-07T06:56:09.361267Z",
     "shell.execute_reply": "2024-05-07T06:56:09.361017Z",
     "shell.execute_reply.started": "2024-05-07T06:56:09.360992Z"
    }
   },
   "outputs": [],
   "source": [
    "study.best_trials"
   ]
  },
  {
   "cell_type": "code",
   "execution_count": null,
   "id": "230523c0-84b2-462a-8d36-8d85989138d0",
   "metadata": {},
   "outputs": [],
   "source": []
  },
  {
   "cell_type": "code",
   "execution_count": null,
   "id": "b751443a-75bc-4932-bb15-f2ad72c19bb3",
   "metadata": {
    "execution": {
     "iopub.status.busy": "2024-05-07T06:56:09.362699Z",
     "iopub.status.idle": "2024-05-07T06:56:09.363644Z",
     "shell.execute_reply": "2024-05-07T06:56:09.363395Z",
     "shell.execute_reply.started": "2024-05-07T06:56:09.363370Z"
    }
   },
   "outputs": [],
   "source": [
    "def optimize_portfolio(raw_weight, bm_weight, rebal_dates, long_num, short_num, excess_w):\n",
    "    \n",
    "    optw_ls=[]\n",
    "    for rebal_date in rebal_dates:\n",
    "        print(rebal_date)\n",
    "        temp_bm_weight=bm_weight.loc[rebal_date].dropna()\n",
    "        temp_bm_weight=temp_bm_weight.fillna(0)\n",
    "        temp_bm_weight=temp_bm_weight/temp_bm_weight.sum()\n",
    "    \n",
    "        comm_col=raw_weight.loc[rebal_date].dropna().index.intersection(temp_bm_weight.index)\n",
    "        temp_score=raw_weight.loc[rebal_date, comm_col]\n",
    "    \n",
    "        sort_score=temp_score.sort_values().dropna().copy()\n",
    "        temp_score[:]=temp_score.mean()\n",
    "        if short_num>0:\n",
    "            temp_score[sort_score.iloc[:short_num].index]=sort_score.iloc[:short_num]\n",
    "    \n",
    "        temp_score[sort_score.iloc[-long_num:].index]=sort_score.iloc[-long_num:]\n",
    "        \n",
    "        # temp_score=temp_score.fillna(0).\n",
    "\n",
    "        if temp_bm_weight.min() <0:\n",
    "            temp_score=temp_score+temp_bm_weight.min()+temp_bm_weight.std()\n",
    "        \n",
    "        temp_cov=adjprc.loc[:rebal_date, comm_col].pct_change(20).dropna(how='all', axis=0).cov()\n",
    "        temp_cov=temp_cov.fillna(0)\n",
    "            \n",
    "        # if temp_cov.shape[0] == temp_bm_weight.shape[0] == temp_score.shape[0]:\n",
    "        #     raise ValueError(rebal_date, 'data are not aligned', temp_cov.shape[0], temp_bm_weight.shape[0], temp_score.shape[0])\n",
    "        \n",
    "        # Define the constraints (weights sum to 1)\n",
    "        constraints = ({'type': 'eq', 'fun': lambda x: np.sum(x) - 1})\n",
    "        constraints2 = ({'type': 'ineq', 'fun': lambda x: -np.abs(x - temp_bm_weight.loc[comm_col])+excess_w})\n",
    "        \n",
    "        # Define the bounds (each weight is between 0 and 1)\n",
    "        bounds = tuple((0, 1) for asset in range(len(comm_col)))\n",
    "        \n",
    "        # Initial guess (equal weights)\n",
    "        initial_guess = [1 / len(comm_col) for asset in range(len(comm_col))]\n",
    "        # initial_guess = temp_bm_weight\n",
    "        \n",
    "        # Perform the optimization\n",
    "        result = minimize(score_objective, initial_guess, args=(temp_bm_weight.loc[comm_col], temp_score, temp_cov),\n",
    "                          method='SLSQP', bounds=bounds, constraints=[constraints, constraints2])\n",
    "        \n",
    "        # Extract the optimized weights\n",
    "        optimal_weights = result.x\n",
    "        optw_df=pd.DataFrame(optimal_weights, index=comm_col, columns=[rebal_date])\n",
    "        optw_ls.append(optw_df)\n",
    "        # print(\"Optimal Weights:\", optimal_weights)\n",
    "    \n",
    "    optw_port=pd.concat(optw_ls, axis=1).T\n",
    "    daily_optw=pd.DataFrame(None, index=adjprc.loc[optw_port.index[0]:optw_port.index[-1]].index, columns=optw_port.columns)\n",
    "    daily_optw.loc[optw_port.index]=optw_port.fillna(0)\n",
    "    daily_optw=daily_optw.ffill()\n",
    "    # daily_opt_port_ret=daily_optw*adjprc.pct_change().loc[daily_optw.index, daily_optw.columns]\n",
    "    # daily_opt_cumret=(1+daily_opt_port_ret.sum(1)).cumprod()\n",
    "\n",
    "    return daily_optw\n"
   ]
  },
  {
   "cell_type": "code",
   "execution_count": null,
   "id": "dce94a21-15db-4db2-b14a-d465ec46dd3a",
   "metadata": {
    "execution": {
     "iopub.status.busy": "2024-05-07T06:56:09.364899Z",
     "iopub.status.idle": "2024-05-07T06:56:09.365511Z",
     "shell.execute_reply": "2024-05-07T06:56:09.365263Z",
     "shell.execute_reply.started": "2024-05-07T06:56:09.365240Z"
    },
    "scrolled": true
   },
   "outputs": [],
   "source": [
    "daily_optw=optimize_portfolio(ls_w, bmw, rebal_dates, -75, 30, .03)"
   ]
  },
  {
   "cell_type": "code",
   "execution_count": 234,
   "id": "eb651b84-d2bf-4714-b450-a2a1bc7e7303",
   "metadata": {
    "execution": {
     "iopub.execute_input": "2024-05-09T05:39:54.899383Z",
     "iopub.status.busy": "2024-05-09T05:39:54.898454Z",
     "iopub.status.idle": "2024-05-09T05:39:54.907916Z",
     "shell.execute_reply": "2024-05-09T05:39:54.906931Z",
     "shell.execute_reply.started": "2024-05-09T05:39:54.899336Z"
    }
   },
   "outputs": [
    {
     "data": {
      "text/plain": [
       "Index(['Name', 'KC_Industry', 'FG_IndustryGroup27', 'FG_Sector_Idx',\n",
       "       'FG_IndustryGroup_Idx', 'FG_Industry_Idx', 'AuditOpinion', 'Caution',\n",
       "       'KSECapSize', 'KLCAIndustry', 'Market', 'KOSPI200YN', 'FiscalMonth',\n",
       "       'KOSPI100YN'],\n",
       "      dtype='object')"
      ]
     },
     "execution_count": 234,
     "metadata": {},
     "output_type": "execute_result"
    }
   ],
   "source": [
    "data_COM_nodup.columns"
   ]
  },
  {
   "cell_type": "code",
   "execution_count": 121,
   "id": "4310bf6b-01b8-4fba-8542-a547d9f04a5f",
   "metadata": {
    "execution": {
     "iopub.execute_input": "2024-05-07T07:23:31.495081Z",
     "iopub.status.busy": "2024-05-07T07:23:31.494559Z",
     "iopub.status.idle": "2024-05-07T07:23:31.506327Z",
     "shell.execute_reply": "2024-05-07T07:23:31.505304Z",
     "shell.execute_reply.started": "2024-05-07T07:23:31.495035Z"
    }
   },
   "outputs": [
    {
     "data": {
      "text/plain": [
       "Symbol\n",
       "A000030     NaN\n",
       "A000050     NaN\n",
       "A000060     NaN\n",
       "A000070     NaN\n",
       "A000080    0.05\n",
       "           ... \n",
       "A381970     NaN\n",
       "A383220    0.09\n",
       "A383800     NaN\n",
       "A402340    0.61\n",
       "A450080    0.12\n",
       "Name: 2024-03-29 00:00:00, Length: 299, dtype: float64"
      ]
     },
     "execution_count": 121,
     "metadata": {},
     "output_type": "execute_result"
    }
   ],
   "source": [
    "bmw.loc[rebal_dates[-1]]"
   ]
  },
  {
   "cell_type": "code",
   "execution_count": 124,
   "id": "e7ebda2d-de2b-4818-9f91-5d8df196dfa5",
   "metadata": {
    "execution": {
     "iopub.execute_input": "2024-05-07T07:24:22.567790Z",
     "iopub.status.busy": "2024-05-07T07:24:22.566978Z",
     "iopub.status.idle": "2024-05-07T07:24:22.594589Z",
     "shell.execute_reply": "2024-05-07T07:24:22.593656Z",
     "shell.execute_reply.started": "2024-05-07T07:24:22.567740Z"
    }
   },
   "outputs": [
    {
     "data": {
      "text/html": [
       "<div>\n",
       "<style scoped>\n",
       "    .dataframe tbody tr th:only-of-type {\n",
       "        vertical-align: middle;\n",
       "    }\n",
       "\n",
       "    .dataframe tbody tr th {\n",
       "        vertical-align: top;\n",
       "    }\n",
       "\n",
       "    .dataframe thead th {\n",
       "        text-align: right;\n",
       "    }\n",
       "</style>\n",
       "<table border=\"1\" class=\"dataframe\">\n",
       "  <thead>\n",
       "    <tr style=\"text-align: right;\">\n",
       "      <th></th>\n",
       "      <th>2024-03-29 00:00:00</th>\n",
       "    </tr>\n",
       "    <tr>\n",
       "      <th>FG_Sector_Idx</th>\n",
       "      <th></th>\n",
       "    </tr>\n",
       "  </thead>\n",
       "  <tbody>\n",
       "    <tr>\n",
       "      <th>IT</th>\n",
       "      <td>49.83</td>\n",
       "    </tr>\n",
       "    <tr>\n",
       "      <th>경기소비재</th>\n",
       "      <td>9.98</td>\n",
       "    </tr>\n",
       "    <tr>\n",
       "      <th>금융</th>\n",
       "      <td>10.91</td>\n",
       "    </tr>\n",
       "    <tr>\n",
       "      <th>산업재</th>\n",
       "      <td>10.19</td>\n",
       "    </tr>\n",
       "    <tr>\n",
       "      <th>소재</th>\n",
       "      <td>7.23</td>\n",
       "    </tr>\n",
       "    <tr>\n",
       "      <th>에너지</th>\n",
       "      <td>2.19</td>\n",
       "    </tr>\n",
       "    <tr>\n",
       "      <th>유틸리티</th>\n",
       "      <td>0.69</td>\n",
       "    </tr>\n",
       "    <tr>\n",
       "      <th>의료</th>\n",
       "      <td>5.10</td>\n",
       "    </tr>\n",
       "    <tr>\n",
       "      <th>통신서비스</th>\n",
       "      <td>1.55</td>\n",
       "    </tr>\n",
       "    <tr>\n",
       "      <th>필수소비재</th>\n",
       "      <td>2.31</td>\n",
       "    </tr>\n",
       "  </tbody>\n",
       "</table>\n",
       "</div>"
      ],
      "text/plain": [
       "               2024-03-29 00:00:00\n",
       "FG_Sector_Idx                     \n",
       "IT                           49.83\n",
       "경기소비재                         9.98\n",
       "금융                           10.91\n",
       "산업재                          10.19\n",
       "소재                            7.23\n",
       "에너지                           2.19\n",
       "유틸리티                          0.69\n",
       "의료                            5.10\n",
       "통신서비스                         1.55\n",
       "필수소비재                         2.31"
      ]
     },
     "execution_count": 124,
     "metadata": {},
     "output_type": "execute_result"
    }
   ],
   "source": [
    "pd.concat([data_COM_nodup.loc[rebal_dates[-1], 'FG_Sector_Idx'], bmw.loc[rebal_dates[-1]]], axis=1).groupby('FG_Sector_Idx').sum()"
   ]
  },
  {
   "cell_type": "code",
   "execution_count": 236,
   "id": "35be43c7-44cd-4bc2-8e0d-281f3cd8c641",
   "metadata": {
    "execution": {
     "iopub.execute_input": "2024-05-09T05:42:29.426932Z",
     "iopub.status.busy": "2024-05-09T05:42:29.426310Z",
     "iopub.status.idle": "2024-05-09T05:42:29.432817Z",
     "shell.execute_reply": "2024-05-09T05:42:29.431446Z",
     "shell.execute_reply.started": "2024-05-09T05:42:29.426887Z"
    }
   },
   "outputs": [],
   "source": [
    "import warnings\n",
    "warnings.simplefilter('error', RuntimeWarning)"
   ]
  },
  {
   "cell_type": "code",
   "execution_count": 566,
   "id": "dedb6c55-eb7a-4a12-a70e-73483c7d288e",
   "metadata": {
    "execution": {
     "iopub.execute_input": "2024-05-14T11:48:45.483393Z",
     "iopub.status.busy": "2024-05-14T11:48:45.482860Z",
     "iopub.status.idle": "2024-05-14T11:48:45.491933Z",
     "shell.execute_reply": "2024-05-14T11:48:45.490720Z",
     "shell.execute_reply.started": "2024-05-14T11:48:45.483347Z"
    }
   },
   "outputs": [
    {
     "data": {
      "text/plain": [
       "DatetimeIndex(['2023-10-27', '2023-11-24', '2023-12-28', '2024-01-26',\n",
       "               '2024-02-29', '2024-03-29'],\n",
       "              dtype='datetime64[ns]', freq=None)"
      ]
     },
     "execution_count": 566,
     "metadata": {},
     "output_type": "execute_result"
    }
   ],
   "source": [
    "rebal_dates"
   ]
  },
  {
   "cell_type": "code",
   "execution_count": 568,
   "id": "996711e8-3f19-4818-9378-1c6af70b2494",
   "metadata": {
    "execution": {
     "iopub.execute_input": "2024-05-14T11:50:35.121798Z",
     "iopub.status.busy": "2024-05-14T11:50:35.121272Z",
     "iopub.status.idle": "2024-05-14T11:50:35.160324Z",
     "shell.execute_reply": "2024-05-14T11:50:35.159183Z",
     "shell.execute_reply.started": "2024-05-14T11:50:35.121749Z"
    }
   },
   "outputs": [],
   "source": [
    "def score_objective(weight, bm_weight, score, cov):\n",
    "    w_diff=abs(weight-bm_weight)\n",
    "    if w_diff.sum()==0:\n",
    "        return 0\n",
    "    try:\n",
    "        # Check for specific error message before sqrt\n",
    "        if np.any(np.isnan(np.dot(w_diff.T, np.dot(cov, w_diff)))):\n",
    "            raise ValueError(\"Encountered NaN values during portfolio volatility calculation.\")\n",
    "        port_vol = np.sqrt(np.dot(w_diff.T, np.dot(cov, w_diff)))\n",
    "    \n",
    "    except (ValueError, RuntimeWarning) as e:\n",
    "        print(w_diff.isin([np.inf, -np.inf]).any().any())\n",
    "        print(cov.isin([np.inf, -np.inf]).any().any())\n",
    "        print(np.dot(cov, w_diff))\n",
    "        print(np.dot(w_diff.T, np.dot(cov, w_diff)))\n",
    "        print(\"Warning: Encountered errors during portfolio volatility calculation.\")\n",
    "        print(e)\n",
    "    \n",
    "    adj_sharpe=(w_diff*score).sum() / port_vol\n",
    "    return -adj_sharpe\n",
    "\n",
    "def handle_missingCol(port_df, bm_df, method='fill'):\n",
    "    \"\"\"\n",
    "        compare given port column and BM column\n",
    "    \"\"\"\n",
    "    if method=='fill':\n",
    "        missing_cols = set(bm_df.index) - set(port_df.index)\n",
    "        \n",
    "        # Add the missing columns to df1 with NaN values\n",
    "        for col in missing_cols:\n",
    "            print('missing col: ', col)\n",
    "            # df1.loc[col] = pd.Series([None] * len(df1), index=df1.index)\n",
    "            port_df.loc[col]=None\n",
    "        port_df=port_df.loc[bm_df.index]\n",
    "        \n",
    "    elif method=='drop':\n",
    "        comm_col=raw_weight.loc[rebal_date].dropna().index.intersection(temp_bm_weight.index)\n",
    "        port_df=port_df[comm_col]\n",
    "    \n",
    "    print('port shape: ', port_df.shape)\n",
    "    return port_df\n",
    "\n",
    "\n",
    "def convert_lsScore(port_score, short_num, long_num):\n",
    "    \"\"\"\n",
    "        when score is all positive, it convert to the mean of score is 0 so that it can be used in Long/Short       \n",
    "    \"\"\"\n",
    "    # convert into L/S scores\n",
    "    sort_score=port_score.sort_values().dropna().copy()\n",
    "    port_score[:]=port_score.mean()\n",
    "    if short_num>0:\n",
    "        port_score[sort_score.iloc[:short_num].index]=sort_score.iloc[:short_num]\n",
    "\n",
    "    port_score[sort_score.iloc[-long_num:].index]=sort_score.iloc[-long_num:]       \n",
    "    port_score=port_score.fillna(0)\n",
    "    \n",
    "    return port_score\n",
    "\n",
    "\n",
    "def create_sectorMatrix(temp_bm_sectorw, temp_bm_stockw):\n",
    "\n",
    "    # sector constraints variables       \n",
    "    sector_mapping = {sector: idx for idx, sector in enumerate(temp_bm_sectorw.index)}\n",
    "\n",
    "    A = np.zeros((len(temp_bm_sectorw), len(temp_bm_stockw)), dtype=int)\n",
    "    for i, stock in enumerate(temp_bm_stockw.index):\n",
    "        sector_idx = sector_mapping[temp_bm_stockw.loc[temp_bm_stockw.index == stock, 'FG_Sector_Idx'].iloc[0]]\n",
    "        A[sector_idx, i] = 1\n",
    "    \n",
    "    return A\n",
    "\n",
    "\n",
    "\n",
    "def optimize_portfolio_(raw_score, bm_weight, rebal_dates, long_num, short_num, excess_stockw, excess_sectorw):\n",
    "    \n",
    "    optw_ls=[]\n",
    "    for rebal_date in rebal_dates:\n",
    "        print(rebal_date)\n",
    "        # slice BM weight\n",
    "        temp_bm_weight=bm_weight.loc[rebal_date].dropna()\n",
    "#        temp_bm_weight=temp_bm_weight.fillna(0)/\n",
    "        temp_bm_weight=temp_bm_weight/temp_bm_weight.sum()\n",
    "        \n",
    "        # slice port weight\n",
    "        temp_port_score=handle_missingCol(raw_score.loc[rebal_date], temp_bm_weight)\n",
    "        temp_port_score=temp_port_score.fillna(0)\n",
    "\n",
    "        # convert score into long/short score\n",
    "        temp_score=convert_lsScore(temp_port_score, short_num, long_num)\n",
    "\n",
    "        # compute covariance\n",
    "        temp_cov=adjprc.loc[:rebal_date, temp_score.index].pct_change(20).dropna(how='all', axis=0).cov()\n",
    "        temp_cov=temp_cov.fillna(0)\n",
    "            \n",
    "        # if temp_cov.shape[0] == temp_bm_weight.shape[0] == temp_score.shape[0]:\n",
    "        #     raise ValueError(rebal_date, 'data are not aligned', temp_cov.shape[0], temp_bm_weight.shape[0], temp_score.shape[0])\n",
    "        \n",
    "        # Define the constraints (weights sum to 1)\n",
    "        const1 = {'type': 'eq', 'fun': lambda x: np.sum(x) - 1}\n",
    "        const2 = {'type': 'ineq', 'fun': lambda x: -np.abs(x - temp_bm_weight)+excess_stockw}\n",
    "\n",
    "        # load sector weight info\n",
    "        temp_bm_sector=data_COM_nodup.loc[rebal_date, 'FG_Sector_Idx']\n",
    "        temp_bm_stockw=pd.concat([temp_bm_sector, temp_bm_weight], axis=1).dropna()\n",
    "        temp_bm_stockw=temp_bm_stockw.loc[temp_port_score.index]\n",
    "        temp_bm_sectorw=temp_bm_stockw.groupby('FG_Sector_Idx').sum()\n",
    "\n",
    "        A=create_sectorMatrix(temp_bm_sectorw, temp_bm_stockw)\n",
    "        const3 = {'type': 'ineq', 'fun': lambda x: -np.abs(np.dot(A, x) - temp_bm_sectorw.values.flatten()) + excess_sectorw}\n",
    "        \n",
    "        # Define the bounds (each weight is between 0 and 1)\n",
    "        bounds = tuple((0, 1) for asset in range(len(temp_score.index)))\n",
    "\n",
    "        constraints=[const1, const2, const3] #+sec_ub+sec_lb\n",
    "\n",
    "        # Initial guess (equal weights)\n",
    "        initial_guess = [1 / len(temp_score.index) for asset in range(len(temp_score.index))]\n",
    "        # initial_guess = temp_bm_weight.values\n",
    "        \n",
    "        # Perform the optimization\n",
    "        print(temp_bm_weight.shape, temp_score.shape, temp_cov.shape)\n",
    "        result = minimize(score_objective, initial_guess, args=(temp_bm_weight, temp_score, temp_cov),\n",
    "                          method='SLSQP', bounds=bounds, constraints=constraints) # \n",
    "        \n",
    "        # Extract the optimized weights\n",
    "        optimal_weights = result.x\n",
    "        optw_df=pd.DataFrame(optimal_weights, index=temp_score.index, columns=[rebal_date])\n",
    "        optw_ls.append(optw_df)\n",
    "        # print(\"Optimal Weights:\", optimal_weights)\n",
    "    \n",
    "    optw_port=pd.concat(optw_ls, axis=1).T\n",
    "    daily_optw=pd.DataFrame(None, index=adjprc.loc[optw_port.index[0]:optw_port.index[-1]].index, columns=optw_port.columns)\n",
    "    daily_optw.loc[optw_port.index]=optw_port.fillna(0)\n",
    "    daily_optw=daily_optw.ffill()\n",
    "\n",
    "    # daily_opt_port_ret=daily_optw*adjprc.pct_change().loc[daily_optw.index, daily_optw.columns]\n",
    "    # daily_opt_cumret=(1+daily_opt_port_ret.sum(1)).cumprod()\n",
    "\n",
    "    return daily_optw\n"
   ]
  },
  {
   "cell_type": "code",
   "execution_count": 569,
   "id": "c33109c5-a674-4596-ad38-2e970151dc12",
   "metadata": {
    "execution": {
     "iopub.execute_input": "2024-05-14T11:50:35.956656Z",
     "iopub.status.busy": "2024-05-14T11:50:35.956188Z",
     "iopub.status.idle": "2024-05-14T11:52:36.198033Z",
     "shell.execute_reply": "2024-05-14T11:52:36.197298Z",
     "shell.execute_reply.started": "2024-05-14T11:50:35.956612Z"
    },
    "scrolled": true
   },
   "outputs": [
    {
     "name": "stdout",
     "output_type": "stream",
     "text": [
      "2023-10-27 00:00:00\n",
      "port shape:  (200,)\n",
      "(200,) (200,) (200, 200)\n",
      "2023-11-24 00:00:00\n",
      "port shape:  (200,)\n",
      "(200,) (200,) (200, 200)\n",
      "2023-12-28 00:00:00\n",
      "missing col:  A450080\n",
      "port shape:  (200,)\n",
      "(200,) (200,) (200, 200)\n",
      "2024-01-26 00:00:00\n",
      "missing col:  A450080\n",
      "port shape:  (200,)\n",
      "(200,) (200,) (200, 200)\n",
      "2024-02-29 00:00:00\n",
      "missing col:  A450080\n",
      "port shape:  (200,)\n",
      "(200,) (200,) (200, 200)\n",
      "2024-03-29 00:00:00\n",
      "missing col:  A022100\n",
      "missing col:  A450080\n",
      "port shape:  (200,)\n",
      "(200,) (200,) (200, 200)\n"
     ]
    }
   ],
   "source": [
    "daily_optw=optimize_portfolio_(ls_w, bmw, rebal_dates, -75, 30, .03, .02)"
   ]
  },
  {
   "cell_type": "code",
   "execution_count": null,
   "id": "541251a4-7d97-4f82-b8e8-fbdd4b96d4ba",
   "metadata": {},
   "outputs": [],
   "source": []
  },
  {
   "cell_type": "code",
   "execution_count": 561,
   "id": "f15eae0f-6554-479c-8190-600faa52bc07",
   "metadata": {
    "execution": {
     "iopub.execute_input": "2024-05-14T11:46:54.229802Z",
     "iopub.status.busy": "2024-05-14T11:46:54.229107Z",
     "iopub.status.idle": "2024-05-14T11:46:54.243464Z",
     "shell.execute_reply": "2024-05-14T11:46:54.242420Z",
     "shell.execute_reply.started": "2024-05-14T11:46:54.229754Z"
    }
   },
   "outputs": [
    {
     "data": {
      "text/plain": [
       "Symbol\n",
       "A383220    9.378823e-13\n",
       "A004370    1.280131e-12\n",
       "A026960    1.366022e-12\n",
       "A271560    1.379377e-12\n",
       "A111770    1.557914e-12\n",
       "               ...     \n",
       "A005380    2.508681e-02\n",
       "A068270    2.584597e-02\n",
       "A003620    3.040008e-02\n",
       "A000660    8.288339e-02\n",
       "A005930    3.070993e-01\n",
       "Name: 2024-03-29 00:00:00, Length: 200, dtype: float64"
      ]
     },
     "execution_count": 561,
     "metadata": {},
     "output_type": "execute_result"
    }
   ],
   "source": [
    "daily_optw.loc[rebal_dates[-1]].sort_values()"
   ]
  },
  {
   "cell_type": "code",
   "execution_count": 547,
   "id": "9d727c28-752b-4612-a30c-643e7b06155a",
   "metadata": {
    "execution": {
     "iopub.execute_input": "2024-05-14T11:42:26.188142Z",
     "iopub.status.busy": "2024-05-14T11:42:26.187587Z",
     "iopub.status.idle": "2024-05-14T11:42:26.201956Z",
     "shell.execute_reply": "2024-05-14T11:42:26.200931Z",
     "shell.execute_reply.started": "2024-05-14T11:42:26.188094Z"
    }
   },
   "outputs": [
    {
     "data": {
      "text/plain": [
       "Symbol\n",
       "A329180    2.711510e-14\n",
       "A012750    2.874830e-14\n",
       "A004370    2.885166e-14\n",
       "A383220    3.114265e-14\n",
       "A271560    3.180735e-14\n",
       "               ...     \n",
       "A005380    2.371795e-02\n",
       "A068270    2.605663e-02\n",
       "A003620    8.004240e-02\n",
       "A000660    8.262272e-02\n",
       "A005930    3.061735e-01\n",
       "Name: 2024-03-29 00:00:00, Length: 200, dtype: float64"
      ]
     },
     "execution_count": 547,
     "metadata": {},
     "output_type": "execute_result"
    }
   ],
   "source": [
    "daily_optw.loc[rebal_dates[-1]].sort_values()"
   ]
  },
  {
   "cell_type": "code",
   "execution_count": 562,
   "id": "5d5d1ea2-0b7f-49bb-9387-90ae1769552c",
   "metadata": {
    "execution": {
     "iopub.execute_input": "2024-05-14T11:47:00.067730Z",
     "iopub.status.busy": "2024-05-14T11:47:00.067219Z",
     "iopub.status.idle": "2024-05-14T11:47:00.089359Z",
     "shell.execute_reply": "2024-05-14T11:47:00.088178Z",
     "shell.execute_reply.started": "2024-05-14T11:47:00.067686Z"
    }
   },
   "outputs": [],
   "source": [
    "temp_bm_sector_w=pd.concat([data_COM_nodup.loc[rebal_dates[-1], 'FG_Sector_Idx'], \n",
    "                            bmw.loc[rebal_dates[-1]].dropna()], axis=1).dropna().groupby('FG_Sector_Idx').sum()"
   ]
  },
  {
   "cell_type": "code",
   "execution_count": 563,
   "id": "311d28c3-8203-4de4-ba05-d122f5c8b523",
   "metadata": {
    "execution": {
     "iopub.execute_input": "2024-05-14T11:47:00.451184Z",
     "iopub.status.busy": "2024-05-14T11:47:00.450716Z",
     "iopub.status.idle": "2024-05-14T11:47:00.470948Z",
     "shell.execute_reply": "2024-05-14T11:47:00.469950Z",
     "shell.execute_reply.started": "2024-05-14T11:47:00.451142Z"
    }
   },
   "outputs": [],
   "source": [
    "temp_port_sector_w=pd.concat([data_COM_nodup.loc[rebal_dates[-1], 'FG_Sector_Idx'], \n",
    "                              daily_optw.loc[rebal_dates[-1]].dropna()], axis=1).dropna().groupby('FG_Sector_Idx').sum()"
   ]
  },
  {
   "cell_type": "code",
   "execution_count": 564,
   "id": "fd4ade14-1014-443c-8f53-f40bd952fb15",
   "metadata": {
    "execution": {
     "iopub.execute_input": "2024-05-14T11:47:02.249536Z",
     "iopub.status.busy": "2024-05-14T11:47:02.248867Z",
     "iopub.status.idle": "2024-05-14T11:47:02.260131Z",
     "shell.execute_reply": "2024-05-14T11:47:02.259123Z",
     "shell.execute_reply.started": "2024-05-14T11:47:02.249484Z"
    }
   },
   "outputs": [
    {
     "data": {
      "text/plain": [
       "(2024-03-29 00:00:00    99.98\n",
       " dtype: float64,\n",
       " 2024-03-29 00:00:00    1.0\n",
       " dtype: float64)"
      ]
     },
     "execution_count": 564,
     "metadata": {},
     "output_type": "execute_result"
    }
   ],
   "source": [
    "temp_bm_sector_w.sum(), temp_port_sector_w.sum()"
   ]
  },
  {
   "cell_type": "code",
   "execution_count": 558,
   "id": "8e4e16d3-ce97-41c3-9503-65718b88d38d",
   "metadata": {
    "execution": {
     "iopub.execute_input": "2024-05-14T11:43:35.722908Z",
     "iopub.status.busy": "2024-05-14T11:43:35.722369Z",
     "iopub.status.idle": "2024-05-14T11:43:35.736588Z",
     "shell.execute_reply": "2024-05-14T11:43:35.735577Z",
     "shell.execute_reply.started": "2024-05-14T11:43:35.722862Z"
    }
   },
   "outputs": [
    {
     "data": {
      "text/html": [
       "<div>\n",
       "<style scoped>\n",
       "    .dataframe tbody tr th:only-of-type {\n",
       "        vertical-align: middle;\n",
       "    }\n",
       "\n",
       "    .dataframe tbody tr th {\n",
       "        vertical-align: top;\n",
       "    }\n",
       "\n",
       "    .dataframe thead th {\n",
       "        text-align: right;\n",
       "    }\n",
       "</style>\n",
       "<table border=\"1\" class=\"dataframe\">\n",
       "  <thead>\n",
       "    <tr style=\"text-align: right;\">\n",
       "      <th></th>\n",
       "      <th>2024-03-29 00:00:00</th>\n",
       "    </tr>\n",
       "    <tr>\n",
       "      <th>FG_Sector_Idx</th>\n",
       "      <th></th>\n",
       "    </tr>\n",
       "  </thead>\n",
       "  <tbody>\n",
       "    <tr>\n",
       "      <th>IT</th>\n",
       "      <td>1.027414</td>\n",
       "    </tr>\n",
       "    <tr>\n",
       "      <th>경기소비재</th>\n",
       "      <td>-2.733867</td>\n",
       "    </tr>\n",
       "    <tr>\n",
       "      <th>금융</th>\n",
       "      <td>0.086742</td>\n",
       "    </tr>\n",
       "    <tr>\n",
       "      <th>산업재</th>\n",
       "      <td>0.110864</td>\n",
       "    </tr>\n",
       "    <tr>\n",
       "      <th>소재</th>\n",
       "      <td>-0.240158</td>\n",
       "    </tr>\n",
       "    <tr>\n",
       "      <th>에너지</th>\n",
       "      <td>0.005465</td>\n",
       "    </tr>\n",
       "    <tr>\n",
       "      <th>유틸리티</th>\n",
       "      <td>0.061651</td>\n",
       "    </tr>\n",
       "    <tr>\n",
       "      <th>의료</th>\n",
       "      <td>-0.054403</td>\n",
       "    </tr>\n",
       "    <tr>\n",
       "      <th>통신서비스</th>\n",
       "      <td>0.615723</td>\n",
       "    </tr>\n",
       "    <tr>\n",
       "      <th>필수소비재</th>\n",
       "      <td>1.100569</td>\n",
       "    </tr>\n",
       "  </tbody>\n",
       "</table>\n",
       "</div>"
      ],
      "text/plain": [
       "               2024-03-29 00:00:00\n",
       "FG_Sector_Idx                     \n",
       "IT                        1.027414\n",
       "경기소비재                    -2.733867\n",
       "금융                        0.086742\n",
       "산업재                       0.110864\n",
       "소재                       -0.240158\n",
       "에너지                       0.005465\n",
       "유틸리티                      0.061651\n",
       "의료                       -0.054403\n",
       "통신서비스                     0.615723\n",
       "필수소비재                     1.100569"
      ]
     },
     "execution_count": 558,
     "metadata": {},
     "output_type": "execute_result"
    }
   ],
   "source": [
    "temp_bm_sector_w - temp_port_sector_w*100"
   ]
  },
  {
   "cell_type": "code",
   "execution_count": 565,
   "id": "4c9605c0-4760-45ee-a3e6-fb5bf1fef7d2",
   "metadata": {
    "execution": {
     "iopub.execute_input": "2024-05-14T11:47:06.472319Z",
     "iopub.status.busy": "2024-05-14T11:47:06.471787Z",
     "iopub.status.idle": "2024-05-14T11:47:06.486286Z",
     "shell.execute_reply": "2024-05-14T11:47:06.485047Z",
     "shell.execute_reply.started": "2024-05-14T11:47:06.472272Z"
    }
   },
   "outputs": [
    {
     "data": {
      "text/html": [
       "<div>\n",
       "<style scoped>\n",
       "    .dataframe tbody tr th:only-of-type {\n",
       "        vertical-align: middle;\n",
       "    }\n",
       "\n",
       "    .dataframe tbody tr th {\n",
       "        vertical-align: top;\n",
       "    }\n",
       "\n",
       "    .dataframe thead th {\n",
       "        text-align: right;\n",
       "    }\n",
       "</style>\n",
       "<table border=\"1\" class=\"dataframe\">\n",
       "  <thead>\n",
       "    <tr style=\"text-align: right;\">\n",
       "      <th></th>\n",
       "      <th>2024-03-29 00:00:00</th>\n",
       "    </tr>\n",
       "    <tr>\n",
       "      <th>FG_Sector_Idx</th>\n",
       "      <th></th>\n",
       "    </tr>\n",
       "  </thead>\n",
       "  <tbody>\n",
       "    <tr>\n",
       "      <th>IT</th>\n",
       "      <td>0.855003</td>\n",
       "    </tr>\n",
       "    <tr>\n",
       "      <th>경기소비재</th>\n",
       "      <td>-1.928657</td>\n",
       "    </tr>\n",
       "    <tr>\n",
       "      <th>금융</th>\n",
       "      <td>0.128858</td>\n",
       "    </tr>\n",
       "    <tr>\n",
       "      <th>산업재</th>\n",
       "      <td>0.026560</td>\n",
       "    </tr>\n",
       "    <tr>\n",
       "      <th>소재</th>\n",
       "      <td>-0.207971</td>\n",
       "    </tr>\n",
       "    <tr>\n",
       "      <th>에너지</th>\n",
       "      <td>0.030404</td>\n",
       "    </tr>\n",
       "    <tr>\n",
       "      <th>유틸리티</th>\n",
       "      <td>0.077916</td>\n",
       "    </tr>\n",
       "    <tr>\n",
       "      <th>의료</th>\n",
       "      <td>-0.100181</td>\n",
       "    </tr>\n",
       "    <tr>\n",
       "      <th>통신서비스</th>\n",
       "      <td>0.172315</td>\n",
       "    </tr>\n",
       "    <tr>\n",
       "      <th>필수소비재</th>\n",
       "      <td>0.925753</td>\n",
       "    </tr>\n",
       "  </tbody>\n",
       "</table>\n",
       "</div>"
      ],
      "text/plain": [
       "               2024-03-29 00:00:00\n",
       "FG_Sector_Idx                     \n",
       "IT                        0.855003\n",
       "경기소비재                    -1.928657\n",
       "금융                        0.128858\n",
       "산업재                       0.026560\n",
       "소재                       -0.207971\n",
       "에너지                       0.030404\n",
       "유틸리티                      0.077916\n",
       "의료                       -0.100181\n",
       "통신서비스                     0.172315\n",
       "필수소비재                     0.925753"
      ]
     },
     "execution_count": 565,
     "metadata": {},
     "output_type": "execute_result"
    }
   ],
   "source": [
    "temp_bm_sector_w - temp_port_sector_w*100"
   ]
  },
  {
   "cell_type": "code",
   "execution_count": null,
   "id": "8d802437-73c0-4ff0-8c78-468725d46fb7",
   "metadata": {},
   "outputs": [],
   "source": []
  },
  {
   "cell_type": "code",
   "execution_count": null,
   "id": "800f4381-d4b0-45ee-a148-1978519d780b",
   "metadata": {},
   "outputs": [],
   "source": []
  },
  {
   "cell_type": "code",
   "execution_count": 401,
   "id": "34c7c707-e089-4db4-9c46-d2cd6dc9326d",
   "metadata": {
    "execution": {
     "iopub.execute_input": "2024-05-14T01:33:58.892562Z",
     "iopub.status.busy": "2024-05-14T01:33:58.892047Z",
     "iopub.status.idle": "2024-05-14T01:33:58.904044Z",
     "shell.execute_reply": "2024-05-14T01:33:58.903032Z",
     "shell.execute_reply.started": "2024-05-14T01:33:58.892518Z"
    }
   },
   "outputs": [
    {
     "data": {
      "text/plain": [
       "Symbol\n",
       "A000080    1.096702e-02\n",
       "A000100    6.507671e-03\n",
       "A000120    9.939912e-04\n",
       "A000150    2.445108e-03\n",
       "A000210    3.683050e-11\n",
       "               ...     \n",
       "A377300    2.227458e-03\n",
       "A383220    5.938424e-12\n",
       "A402340    6.174224e-03\n",
       "A450080    9.197928e-03\n",
       "A022100    7.702482e-03\n",
       "Name: 2024-03-29 00:00:00, Length: 201, dtype: float64"
      ]
     },
     "execution_count": 401,
     "metadata": {},
     "output_type": "execute_result"
    }
   ],
   "source": [
    "daily_optw.iloc[-1]"
   ]
  },
  {
   "cell_type": "code",
   "execution_count": 311,
   "id": "fd50607e-e25f-44b6-91a9-261278450460",
   "metadata": {
    "execution": {
     "iopub.execute_input": "2024-05-10T08:41:08.282299Z",
     "iopub.status.busy": "2024-05-10T08:41:08.281736Z",
     "iopub.status.idle": "2024-05-10T08:41:08.304166Z",
     "shell.execute_reply": "2024-05-10T08:41:08.303020Z",
     "shell.execute_reply.started": "2024-05-10T08:41:08.282260Z"
    }
   },
   "outputs": [],
   "source": [
    "bmstockw=pd.concat([data_COM_nodup.loc['2024-03-29', 'FG_Sector_Idx'], \n",
    "           bmw.loc['2024-03-29']], axis=1)\n",
    "bmstockw=bmstockw.dropna()"
   ]
  },
  {
   "cell_type": "code",
   "execution_count": 303,
   "id": "4833110d-dd78-4415-96c4-1362b4c3ef22",
   "metadata": {
    "execution": {
     "iopub.execute_input": "2024-05-10T08:39:27.197235Z",
     "iopub.status.busy": "2024-05-10T08:39:27.196610Z",
     "iopub.status.idle": "2024-05-10T08:39:27.215669Z",
     "shell.execute_reply": "2024-05-10T08:39:27.214317Z",
     "shell.execute_reply.started": "2024-05-10T08:39:27.197192Z"
    }
   },
   "outputs": [],
   "source": [
    "bmsecw=pd.concat([data_COM_nodup.loc['2024-03-29', 'FG_Sector_Idx'], \n",
    "           bmw.loc['2024-03-29']], axis=1).groupby('FG_Sector_Idx').sum()"
   ]
  },
  {
   "cell_type": "code",
   "execution_count": 304,
   "id": "9acfb94a-1678-4016-9d83-cbe6e555315f",
   "metadata": {
    "execution": {
     "iopub.execute_input": "2024-05-10T08:39:29.097873Z",
     "iopub.status.busy": "2024-05-10T08:39:29.097242Z",
     "iopub.status.idle": "2024-05-10T08:39:29.102274Z",
     "shell.execute_reply": "2024-05-10T08:39:29.101320Z",
     "shell.execute_reply.started": "2024-05-10T08:39:29.097828Z"
    }
   },
   "outputs": [],
   "source": [
    "temp_bm_sector=bmsecw"
   ]
  },
  {
   "cell_type": "code",
   "execution_count": 305,
   "id": "151089df-e23f-4777-aa4e-c1003f2f9292",
   "metadata": {
    "execution": {
     "iopub.execute_input": "2024-05-10T08:39:29.459335Z",
     "iopub.status.busy": "2024-05-10T08:39:29.458223Z",
     "iopub.status.idle": "2024-05-10T08:39:29.473237Z",
     "shell.execute_reply": "2024-05-10T08:39:29.472128Z",
     "shell.execute_reply.started": "2024-05-10T08:39:29.459288Z"
    }
   },
   "outputs": [
    {
     "data": {
      "text/html": [
       "<div>\n",
       "<style scoped>\n",
       "    .dataframe tbody tr th:only-of-type {\n",
       "        vertical-align: middle;\n",
       "    }\n",
       "\n",
       "    .dataframe tbody tr th {\n",
       "        vertical-align: top;\n",
       "    }\n",
       "\n",
       "    .dataframe thead th {\n",
       "        text-align: right;\n",
       "    }\n",
       "</style>\n",
       "<table border=\"1\" class=\"dataframe\">\n",
       "  <thead>\n",
       "    <tr style=\"text-align: right;\">\n",
       "      <th></th>\n",
       "      <th>2024-03-29 00:00:00</th>\n",
       "    </tr>\n",
       "    <tr>\n",
       "      <th>FG_Sector_Idx</th>\n",
       "      <th></th>\n",
       "    </tr>\n",
       "  </thead>\n",
       "  <tbody>\n",
       "    <tr>\n",
       "      <th>IT</th>\n",
       "      <td>49.83</td>\n",
       "    </tr>\n",
       "    <tr>\n",
       "      <th>경기소비재</th>\n",
       "      <td>9.98</td>\n",
       "    </tr>\n",
       "    <tr>\n",
       "      <th>금융</th>\n",
       "      <td>10.91</td>\n",
       "    </tr>\n",
       "    <tr>\n",
       "      <th>산업재</th>\n",
       "      <td>10.19</td>\n",
       "    </tr>\n",
       "    <tr>\n",
       "      <th>소재</th>\n",
       "      <td>7.23</td>\n",
       "    </tr>\n",
       "    <tr>\n",
       "      <th>에너지</th>\n",
       "      <td>2.19</td>\n",
       "    </tr>\n",
       "    <tr>\n",
       "      <th>유틸리티</th>\n",
       "      <td>0.69</td>\n",
       "    </tr>\n",
       "    <tr>\n",
       "      <th>의료</th>\n",
       "      <td>5.10</td>\n",
       "    </tr>\n",
       "    <tr>\n",
       "      <th>통신서비스</th>\n",
       "      <td>1.55</td>\n",
       "    </tr>\n",
       "    <tr>\n",
       "      <th>필수소비재</th>\n",
       "      <td>2.31</td>\n",
       "    </tr>\n",
       "  </tbody>\n",
       "</table>\n",
       "</div>"
      ],
      "text/plain": [
       "               2024-03-29 00:00:00\n",
       "FG_Sector_Idx                     \n",
       "IT                           49.83\n",
       "경기소비재                         9.98\n",
       "금융                           10.91\n",
       "산업재                          10.19\n",
       "소재                            7.23\n",
       "에너지                           2.19\n",
       "유틸리티                          0.69\n",
       "의료                            5.10\n",
       "통신서비스                         1.55\n",
       "필수소비재                         2.31"
      ]
     },
     "execution_count": 305,
     "metadata": {},
     "output_type": "execute_result"
    }
   ],
   "source": [
    "temp_bm_sector.dropna()"
   ]
  },
  {
   "cell_type": "code",
   "execution_count": null,
   "id": "9e98e147-51d1-48d4-b339-a9515d73f1c9",
   "metadata": {},
   "outputs": [],
   "source": []
  },
  {
   "cell_type": "code",
   "execution_count": 297,
   "id": "0739b2a1-3bd3-420f-803f-e7d88b51606a",
   "metadata": {
    "execution": {
     "iopub.execute_input": "2024-05-10T08:38:15.406715Z",
     "iopub.status.busy": "2024-05-10T08:38:15.406189Z",
     "iopub.status.idle": "2024-05-10T08:38:15.414946Z",
     "shell.execute_reply": "2024-05-10T08:38:15.413935Z",
     "shell.execute_reply.started": "2024-05-10T08:38:15.406668Z"
    }
   },
   "outputs": [
    {
     "data": {
      "text/plain": [
       "{'IT': 0,\n",
       " '경기소비재': 1,\n",
       " '금융': 2,\n",
       " '산업재': 3,\n",
       " '소재': 4,\n",
       " '에너지': 5,\n",
       " '유틸리티': 6,\n",
       " '의료': 7,\n",
       " '통신서비스': 8,\n",
       " '필수소비재': 9}"
      ]
     },
     "execution_count": 297,
     "metadata": {},
     "output_type": "execute_result"
    }
   ],
   "source": [
    "sector_mapping = {sector: idx for idx, sector in enumerate(temp_bm_sector.index)}\n",
    "sector_mapping"
   ]
  },
  {
   "cell_type": "code",
   "execution_count": 312,
   "id": "574d9142-e91c-4f9f-8af0-c877c9d847af",
   "metadata": {
    "execution": {
     "iopub.execute_input": "2024-05-10T08:41:11.021316Z",
     "iopub.status.busy": "2024-05-10T08:41:11.020963Z",
     "iopub.status.idle": "2024-05-10T08:41:11.066129Z",
     "shell.execute_reply": "2024-05-10T08:41:11.065562Z",
     "shell.execute_reply.started": "2024-05-10T08:41:11.021290Z"
    }
   },
   "outputs": [],
   "source": [
    "A = np.zeros((len(temp_bm_sector), len(bmstockw.index)), dtype=int)\n",
    "for i, stock in enumerate(bmstockw.index):\n",
    "    sector_idx = sector_mapping[bmstockw.loc[bmstockw.index == stock, 'FG_Sector_Idx'].iloc[0]]\n",
    "    A[sector_idx, i] = 1\n"
   ]
  },
  {
   "cell_type": "code",
   "execution_count": null,
   "id": "2451b373-53a4-4a62-a683-ce06236b1f42",
   "metadata": {},
   "outputs": [],
   "source": []
  },
  {
   "cell_type": "code",
   "execution_count": null,
   "id": "a3f9817a-fa88-4f50-a316-1284f4aa0e13",
   "metadata": {},
   "outputs": [],
   "source": []
  },
  {
   "cell_type": "code",
   "execution_count": null,
   "id": "aed098a7-c855-4975-bdfc-60882abd2a29",
   "metadata": {},
   "outputs": [],
   "source": []
  },
  {
   "cell_type": "code",
   "execution_count": null,
   "id": "2d014e86-3c1f-4715-ae0b-b80a84c96492",
   "metadata": {},
   "outputs": [],
   "source": []
  },
  {
   "cell_type": "code",
   "execution_count": null,
   "id": "4af838bd-f3c6-4d98-9fc8-5262ec09cbe2",
   "metadata": {},
   "outputs": [],
   "source": [
    "sector_weights = {sector: np.zeros(len(daily_optw.iloc[0])) for sector in data_COM_nodup.loc['2024-02-29', 'FG_Sector_Idx'].unique()}\n",
    "for sector, asset_indices in sector_data.items():\n",
    "    for idx in asset_indices:\n",
    "      sector_weights[sector][idx] = 1\n",
    "\n",
    "# Define sector weight bounds (adjust as needed)\n",
    "sector_bounds = {sector: (0.2, 0.4) for sector in sector_data.keys()}  # Example: 20% - 40% weight for each sector\n"
   ]
  },
  {
   "cell_type": "code",
   "execution_count": null,
   "id": "9200fc12-faad-460d-bc99-e9a59a4cf8f7",
   "metadata": {},
   "outputs": [],
   "source": [
    "sector_constraint(daily_optw.iloc[0]*100, sector_weights, sector_bounds):"
   ]
  },
  {
   "cell_type": "code",
   "execution_count": null,
   "id": "fce167ba-6a65-496f-aa21-6873382703ae",
   "metadata": {},
   "outputs": [],
   "source": []
  },
  {
   "cell_type": "code",
   "execution_count": 191,
   "id": "50c1b154-7a5e-4f23-9685-4788e838ea71",
   "metadata": {
    "execution": {
     "iopub.execute_input": "2024-05-08T07:04:47.715420Z",
     "iopub.status.busy": "2024-05-08T07:04:47.714738Z",
     "iopub.status.idle": "2024-05-08T07:04:47.734308Z",
     "shell.execute_reply": "2024-05-08T07:04:47.733222Z",
     "shell.execute_reply.started": "2024-05-08T07:04:47.715374Z"
    }
   },
   "outputs": [
    {
     "data": {
      "text/plain": [
       "array(['IT', '의료', '소재', '경기소비재', '산업재', '금융', '에너지', '유틸리티', '필수소비재',\n",
       "       '통신서비스', None], dtype=object)"
      ]
     },
     "execution_count": 191,
     "metadata": {},
     "output_type": "execute_result"
    }
   ],
   "source": [
    "data_COM_nodup.loc['2024-02-29', 'FG_Sector_Idx'].unique()"
   ]
  },
  {
   "cell_type": "code",
   "execution_count": 214,
   "id": "6baec3e7-35ed-4eeb-968d-35ac4147f058",
   "metadata": {
    "execution": {
     "iopub.execute_input": "2024-05-09T04:19:51.310797Z",
     "iopub.status.busy": "2024-05-09T04:19:51.309766Z",
     "iopub.status.idle": "2024-05-09T04:19:51.320063Z",
     "shell.execute_reply": "2024-05-09T04:19:51.319077Z",
     "shell.execute_reply.started": "2024-05-09T04:19:51.310746Z"
    }
   },
   "outputs": [
    {
     "data": {
      "text/plain": [
       "(1.002255837762164, 1.0000607709597762)"
      ]
     },
     "execution_count": 214,
     "metadata": {},
     "output_type": "execute_result"
    }
   ],
   "source": [
    "daily_optw.iloc[0].sum(), daily_optw.iloc[-1].sum()"
   ]
  },
  {
   "cell_type": "code",
   "execution_count": 263,
   "id": "1d3fd1e8-3ac1-48d7-8482-945f7aff9671",
   "metadata": {
    "execution": {
     "iopub.execute_input": "2024-05-10T04:57:12.982240Z",
     "iopub.status.busy": "2024-05-10T04:57:12.981604Z",
     "iopub.status.idle": "2024-05-10T04:57:13.009777Z",
     "shell.execute_reply": "2024-05-10T04:57:13.008872Z",
     "shell.execute_reply.started": "2024-05-10T04:57:12.982193Z"
    }
   },
   "outputs": [
    {
     "data": {
      "text/plain": [
       "2024-02-29 00:00:00     0.000000\n",
       "2024-02-29 00:00:00    11.867857\n",
       "dtype: float64"
      ]
     },
     "execution_count": 263,
     "metadata": {},
     "output_type": "execute_result"
    }
   ],
   "source": [
    "pd.concat([data_COM_nodup.loc['2024-02-29', 'FG_Sector_Idx'], \n",
    "           daily_optw.iloc[0]*100, bmw.loc['2024-02-29']], axis=1).groupby('FG_Sector_Idx').sum().diff(axis=1).abs().sum()"
   ]
  },
  {
   "cell_type": "code",
   "execution_count": 272,
   "id": "d2e9685a-6bcd-480a-a09d-69750b8f2f30",
   "metadata": {
    "execution": {
     "iopub.execute_input": "2024-05-10T05:01:53.181152Z",
     "iopub.status.busy": "2024-05-10T05:01:53.180624Z",
     "iopub.status.idle": "2024-05-10T05:01:53.210928Z",
     "shell.execute_reply": "2024-05-10T05:01:53.210005Z",
     "shell.execute_reply.started": "2024-05-10T05:01:53.181107Z"
    }
   },
   "outputs": [
    {
     "data": {
      "text/plain": [
       "2024-02-29 00:00:00     0.000000\n",
       "2024-02-29 00:00:00    13.576996\n",
       "dtype: float64"
      ]
     },
     "execution_count": 272,
     "metadata": {},
     "output_type": "execute_result"
    }
   ],
   "source": [
    "pd.concat([data_COM_nodup.loc['2024-02-29', 'FG_Sector_Idx'], \n",
    "           daily_optw.iloc[0]*100, bmw.loc['2024-02-29']], axis=1).groupby('FG_Sector_Idx').sum().diff(axis=1).abs().sum()"
   ]
  },
  {
   "cell_type": "code",
   "execution_count": null,
   "id": "e6ba29fb-76a9-4a7c-b6fe-e30df8322bea",
   "metadata": {},
   "outputs": [],
   "source": []
  },
  {
   "cell_type": "code",
   "execution_count": 265,
   "id": "e869c5de-7850-4d5e-a27a-50e39e0722d6",
   "metadata": {
    "execution": {
     "iopub.execute_input": "2024-05-10T04:57:21.892597Z",
     "iopub.status.busy": "2024-05-10T04:57:21.892072Z",
     "iopub.status.idle": "2024-05-10T04:57:21.920379Z",
     "shell.execute_reply": "2024-05-10T04:57:21.919464Z",
     "shell.execute_reply.started": "2024-05-10T04:57:21.892551Z"
    }
   },
   "outputs": [
    {
     "data": {
      "text/plain": [
       "2024-03-29 00:00:00    0.000000\n",
       "2024-03-29 00:00:00    7.026094\n",
       "dtype: float64"
      ]
     },
     "execution_count": 265,
     "metadata": {},
     "output_type": "execute_result"
    }
   ],
   "source": [
    "pd.concat([data_COM_nodup.loc['2024-03-29', 'FG_Sector_Idx'], \n",
    "           daily_optw.iloc[-1]*100, bmw.loc['2024-03-29']], axis=1).groupby('FG_Sector_Idx').sum().diff(axis=1).abs().sum()"
   ]
  },
  {
   "cell_type": "code",
   "execution_count": 273,
   "id": "056e19d5-f554-4719-887a-96de76bf6dde",
   "metadata": {
    "execution": {
     "iopub.execute_input": "2024-05-10T05:01:55.276035Z",
     "iopub.status.busy": "2024-05-10T05:01:55.275517Z",
     "iopub.status.idle": "2024-05-10T05:01:55.303420Z",
     "shell.execute_reply": "2024-05-10T05:01:55.302522Z",
     "shell.execute_reply.started": "2024-05-10T05:01:55.275993Z"
    }
   },
   "outputs": [
    {
     "data": {
      "text/plain": [
       "2024-03-29 00:00:00    0.000000\n",
       "2024-03-29 00:00:00    7.639314\n",
       "dtype: float64"
      ]
     },
     "execution_count": 273,
     "metadata": {},
     "output_type": "execute_result"
    }
   ],
   "source": [
    "pd.concat([data_COM_nodup.loc['2024-03-29', 'FG_Sector_Idx'], \n",
    "           daily_optw.iloc[-1]*100, bmw.loc['2024-03-29']], axis=1).groupby('FG_Sector_Idx').sum().diff(axis=1).abs().sum()"
   ]
  },
  {
   "cell_type": "code",
   "execution_count": null,
   "id": "c0db3072-f881-414a-acbf-5225b33d55e8",
   "metadata": {},
   "outputs": [],
   "source": []
  },
  {
   "cell_type": "code",
   "execution_count": null,
   "id": "9f23bdcd-aae1-4120-bd9a-22ef2a15cb95",
   "metadata": {},
   "outputs": [],
   "source": []
  },
  {
   "cell_type": "code",
   "execution_count": 219,
   "id": "27286692-9e9d-4b3e-b5ce-6513a46841f4",
   "metadata": {
    "execution": {
     "iopub.execute_input": "2024-05-09T04:25:25.724318Z",
     "iopub.status.busy": "2024-05-09T04:25:25.723780Z",
     "iopub.status.idle": "2024-05-09T04:25:25.761622Z",
     "shell.execute_reply": "2024-05-09T04:25:25.760522Z",
     "shell.execute_reply.started": "2024-05-09T04:25:25.724275Z"
    }
   },
   "outputs": [
    {
     "data": {
      "text/plain": [
       "2024-03-29 00:00:00    0.250981\n",
       "dtype: float64"
      ]
     },
     "execution_count": 219,
     "metadata": {},
     "output_type": "execute_result"
    }
   ],
   "source": [
    "np.abs(pd.concat([data_COM_nodup.loc['2024-02-29', 'FG_Sector_Idx'], \n",
    "                  daily_optw.iloc[-1]], \n",
    "                 axis=1).groupby('FG_Sector_Idx').sum()- pd.concat([data_COM_nodup.loc['2024-02-29', 'FG_Sector_Idx'], \n",
    "                                                                    bmw.loc['2024-03-29']/100], \n",
    "                                                                   axis=1).groupby('FG_Sector_Idx').sum()).sum()"
   ]
  },
  {
   "cell_type": "code",
   "execution_count": null,
   "id": "38cd5ee9-9ebe-47bd-934e-3112cf5ef282",
   "metadata": {},
   "outputs": [],
   "source": []
  },
  {
   "cell_type": "code",
   "execution_count": null,
   "id": "49d5b160-85df-4808-a80f-3aa91a0ab505",
   "metadata": {},
   "outputs": [],
   "source": []
  },
  {
   "cell_type": "code",
   "execution_count": 195,
   "id": "d97d441e-721d-4238-9d04-c62c86aaffaa",
   "metadata": {
    "execution": {
     "iopub.execute_input": "2024-05-09T03:41:53.889216Z",
     "iopub.status.busy": "2024-05-09T03:41:53.888672Z",
     "iopub.status.idle": "2024-05-09T03:41:53.908779Z",
     "shell.execute_reply": "2024-05-09T03:41:53.907834Z",
     "shell.execute_reply.started": "2024-05-09T03:41:53.889172Z"
    }
   },
   "outputs": [],
   "source": [
    "bmsecw=pd.concat([data_COM_nodup.loc['2024-03-29', 'FG_Sector_Idx'], \n",
    "           bmw.loc['2024-03-29']], axis=1).groupby('FG_Sector_Idx').sum()"
   ]
  },
  {
   "cell_type": "code",
   "execution_count": 279,
   "id": "dd952089-5a5f-40d8-af51-87a3383fbfa2",
   "metadata": {
    "execution": {
     "iopub.execute_input": "2024-05-10T08:16:19.096037Z",
     "iopub.status.busy": "2024-05-10T08:16:19.095422Z",
     "iopub.status.idle": "2024-05-10T08:16:19.103616Z",
     "shell.execute_reply": "2024-05-10T08:16:19.102634Z",
     "shell.execute_reply.started": "2024-05-10T08:16:19.095990Z"
    }
   },
   "outputs": [
    {
     "data": {
      "text/plain": [
       "array([49.83,  9.98, 10.91, 10.19,  7.23,  2.19,  0.69,  5.1 ,  1.55,\n",
       "        2.31])"
      ]
     },
     "execution_count": 279,
     "metadata": {},
     "output_type": "execute_result"
    }
   ],
   "source": [
    "bmsecw.values.flatten()"
   ]
  },
  {
   "cell_type": "code",
   "execution_count": 200,
   "id": "9e8c44d7-401a-4653-aa77-cdf5057e7a16",
   "metadata": {
    "execution": {
     "iopub.execute_input": "2024-05-09T03:43:36.411519Z",
     "iopub.status.busy": "2024-05-09T03:43:36.410994Z",
     "iopub.status.idle": "2024-05-09T03:43:36.440316Z",
     "shell.execute_reply": "2024-05-09T03:43:36.439409Z",
     "shell.execute_reply.started": "2024-05-09T03:43:36.411473Z"
    }
   },
   "outputs": [
    {
     "data": {
      "text/html": [
       "<div>\n",
       "<style scoped>\n",
       "    .dataframe tbody tr th:only-of-type {\n",
       "        vertical-align: middle;\n",
       "    }\n",
       "\n",
       "    .dataframe tbody tr th {\n",
       "        vertical-align: top;\n",
       "    }\n",
       "\n",
       "    .dataframe thead th {\n",
       "        text-align: right;\n",
       "    }\n",
       "</style>\n",
       "<table border=\"1\" class=\"dataframe\">\n",
       "  <thead>\n",
       "    <tr style=\"text-align: right;\">\n",
       "      <th></th>\n",
       "      <th>FG_Sector_Idx</th>\n",
       "      <th>2024-03-29 00:00:00</th>\n",
       "    </tr>\n",
       "    <tr>\n",
       "      <th>Symbol</th>\n",
       "      <th></th>\n",
       "      <th></th>\n",
       "    </tr>\n",
       "  </thead>\n",
       "  <tbody>\n",
       "    <tr>\n",
       "      <th>A005930</th>\n",
       "      <td>IT</td>\n",
       "      <td>31.53</td>\n",
       "    </tr>\n",
       "    <tr>\n",
       "      <th>A373220</th>\n",
       "      <td>IT</td>\n",
       "      <td>1.12</td>\n",
       "    </tr>\n",
       "    <tr>\n",
       "      <th>A000660</th>\n",
       "      <td>IT</td>\n",
       "      <td>8.32</td>\n",
       "    </tr>\n",
       "    <tr>\n",
       "      <th>A207940</th>\n",
       "      <td>의료</td>\n",
       "      <td>1.06</td>\n",
       "    </tr>\n",
       "    <tr>\n",
       "      <th>A051910</th>\n",
       "      <td>소재</td>\n",
       "      <td>1.63</td>\n",
       "    </tr>\n",
       "    <tr>\n",
       "      <th>...</th>\n",
       "      <td>...</td>\n",
       "      <td>...</td>\n",
       "    </tr>\n",
       "    <tr>\n",
       "      <th>A004490</th>\n",
       "      <td>경기소비재</td>\n",
       "      <td>0.05</td>\n",
       "    </tr>\n",
       "    <tr>\n",
       "      <th>A001680</th>\n",
       "      <td>필수소비재</td>\n",
       "      <td>0.03</td>\n",
       "    </tr>\n",
       "    <tr>\n",
       "      <th>A105630</th>\n",
       "      <td>경기소비재</td>\n",
       "      <td>0.02</td>\n",
       "    </tr>\n",
       "    <tr>\n",
       "      <th>A022100</th>\n",
       "      <td>IT</td>\n",
       "      <td>0.20</td>\n",
       "    </tr>\n",
       "    <tr>\n",
       "      <th>A450080</th>\n",
       "      <td>IT</td>\n",
       "      <td>0.12</td>\n",
       "    </tr>\n",
       "  </tbody>\n",
       "</table>\n",
       "<p>200 rows × 2 columns</p>\n",
       "</div>"
      ],
      "text/plain": [
       "        FG_Sector_Idx  2024-03-29 00:00:00\n",
       "Symbol                                    \n",
       "A005930            IT                31.53\n",
       "A373220            IT                 1.12\n",
       "A000660            IT                 8.32\n",
       "A207940            의료                 1.06\n",
       "A051910            소재                 1.63\n",
       "...               ...                  ...\n",
       "A004490         경기소비재                 0.05\n",
       "A001680         필수소비재                 0.03\n",
       "A105630         경기소비재                 0.02\n",
       "A022100            IT                 0.20\n",
       "A450080            IT                 0.12\n",
       "\n",
       "[200 rows x 2 columns]"
      ]
     },
     "execution_count": 200,
     "metadata": {},
     "output_type": "execute_result"
    }
   ],
   "source": [
    "pd.concat([data_COM_nodup.loc['2024-03-29', 'FG_Sector_Idx'], \n",
    "           bmw.loc['2024-03-29']], axis=1).dropna()"
   ]
  },
  {
   "cell_type": "code",
   "execution_count": 573,
   "id": "68fbac0e-52c1-4fa8-b91c-eb28755e1613",
   "metadata": {
    "execution": {
     "iopub.execute_input": "2024-05-14T15:22:48.191619Z",
     "iopub.status.busy": "2024-05-14T15:22:48.191083Z",
     "iopub.status.idle": "2024-05-14T15:22:48.447662Z",
     "shell.execute_reply": "2024-05-14T15:22:48.446723Z",
     "shell.execute_reply.started": "2024-05-14T15:22:48.191574Z"
    }
   },
   "outputs": [
    {
     "data": {
      "text/plain": [
       "<Axes: xlabel='Dates'>"
      ]
     },
     "execution_count": 573,
     "metadata": {},
     "output_type": "execute_result"
    },
    {
     "data": {
      "image/png": "[encoded data removed]",
      "text/plain": [
       "<Figure size 640x480 with 1 Axes>"
      ]
     },
     "metadata": {},
     "output_type": "display_data"
    }
   ],
   "source": [
    "pd.concat([daily_optw['A005930'], (bmw.loc[daily_optw.index, 'A005930']/100)], axis=1).plot()"
   ]
  },
  {
   "cell_type": "code",
   "execution_count": 575,
   "id": "72a2669d-219a-4f99-82f0-6810ff7a86b2",
   "metadata": {
    "execution": {
     "iopub.execute_input": "2024-05-14T15:31:19.730954Z",
     "iopub.status.busy": "2024-05-14T15:31:19.730434Z",
     "iopub.status.idle": "2024-05-14T15:31:19.954781Z",
     "shell.execute_reply": "2024-05-14T15:31:19.953870Z",
     "shell.execute_reply.started": "2024-05-14T15:31:19.730908Z"
    }
   },
   "outputs": [
    {
     "data": {
      "text/plain": [
       "<Axes: xlabel='Dates'>"
      ]
     },
     "execution_count": 575,
     "metadata": {},
     "output_type": "execute_result"
    },
    {
     "data": {
      "image/png": "[encoded data removed]",
      "text/plain": [
       "<Figure size 640x480 with 1 Axes>"
      ]
     },
     "metadata": {},
     "output_type": "display_data"
    }
   ],
   "source": [
    "daily_optw['A005930'].plot()"
   ]
  },
  {
   "cell_type": "code",
   "execution_count": null,
   "id": "d7be6315-9006-4d22-af22-412b5300b818",
   "metadata": {
    "execution": {
     "iopub.status.busy": "2024-05-07T06:56:09.369232Z",
     "iopub.status.idle": "2024-05-07T06:56:09.369746Z",
     "shell.execute_reply": "2024-05-07T06:56:09.369507Z",
     "shell.execute_reply.started": "2024-05-07T06:56:09.369482Z"
    }
   },
   "outputs": [],
   "source": [
    "daily_optw[daily_optw>0].count(1).plot()"
   ]
  },
  {
   "cell_type": "code",
   "execution_count": null,
   "id": "de0a0888-2ac9-48c2-b3cb-9ca32d21057e",
   "metadata": {
    "execution": {
     "iopub.status.busy": "2024-05-07T06:56:09.371778Z",
     "iopub.status.idle": "2024-05-07T06:56:09.372339Z",
     "shell.execute_reply": "2024-05-07T06:56:09.372089Z",
     "shell.execute_reply.started": "2024-05-07T06:56:09.372064Z"
    }
   },
   "outputs": [],
   "source": [
    "daily_optw=daily_optw.drop(columns=['A003620', 'A137310'])"
   ]
  },
  {
   "cell_type": "code",
   "execution_count": null,
   "id": "f231bdfd-8eda-4a4c-8b65-3c94cc1aac58",
   "metadata": {},
   "outputs": [],
   "source": []
  },
  {
   "cell_type": "code",
   "execution_count": null,
   "id": "eaa72156-34e7-4a8b-85f5-ccf6cb22d9b6",
   "metadata": {
    "execution": {
     "iopub.status.busy": "2024-05-07T06:56:09.373690Z",
     "iopub.status.idle": "2024-05-07T06:56:09.374297Z",
     "shell.execute_reply": "2024-05-07T06:56:09.374051Z",
     "shell.execute_reply.started": "2024-05-07T06:56:09.374028Z"
    }
   },
   "outputs": [],
   "source": [
    "daily_optw=daily_optw.div(daily_optw.sum(1), axis=0)"
   ]
  },
  {
   "cell_type": "code",
   "execution_count": null,
   "id": "0c532584-d9e5-4907-8f3b-3aeee03be43a",
   "metadata": {
    "execution": {
     "iopub.status.busy": "2024-05-07T06:56:09.375829Z",
     "iopub.status.idle": "2024-05-07T06:56:09.376543Z",
     "shell.execute_reply": "2024-05-07T06:56:09.376292Z",
     "shell.execute_reply.started": "2024-05-07T06:56:09.376268Z"
    }
   },
   "outputs": [],
   "source": [
    "daily_optw.to_csv('../data/output/weight/202403weight.csv')"
   ]
  },
  {
   "cell_type": "code",
   "execution_count": null,
   "id": "5eac7360-09e8-413e-ba7a-d66e23116319",
   "metadata": {
    "execution": {
     "iopub.status.busy": "2024-05-07T06:56:09.377977Z",
     "iopub.status.idle": "2024-05-07T06:56:09.378531Z",
     "shell.execute_reply": "2024-05-07T06:56:09.378279Z",
     "shell.execute_reply.started": "2024-05-07T06:56:09.378255Z"
    }
   },
   "outputs": [],
   "source": [
    "daily_optret=adjprc.pct_change().loc[daily_optw.index, daily_optw.columns]*daily_optw"
   ]
  },
  {
   "cell_type": "code",
   "execution_count": null,
   "id": "c89a1f68-6390-415a-9023-76487af667b4",
   "metadata": {
    "execution": {
     "iopub.status.busy": "2024-05-07T06:56:09.380201Z",
     "iopub.status.idle": "2024-05-07T06:56:09.381003Z",
     "shell.execute_reply": "2024-05-07T06:56:09.380739Z",
     "shell.execute_reply.started": "2024-05-07T06:56:09.380714Z"
    }
   },
   "outputs": [],
   "source": [
    "daily_optret.sum(1)"
   ]
  },
  {
   "cell_type": "code",
   "execution_count": null,
   "id": "89cd3567-a70c-4b38-98f2-fa1b28a3a9b5",
   "metadata": {
    "execution": {
     "iopub.status.busy": "2024-05-07T06:56:09.382533Z",
     "iopub.status.idle": "2024-05-07T06:56:09.383366Z",
     "shell.execute_reply": "2024-05-07T06:56:09.383115Z",
     "shell.execute_reply.started": "2024-05-07T06:56:09.383090Z"
    }
   },
   "outputs": [],
   "source": [
    "daily_opt_cumret=(1+daily_optret.sum(1)).cumprod()"
   ]
  },
  {
   "cell_type": "code",
   "execution_count": null,
   "id": "0f6d4b12-2180-46c2-89e5-2f10caf1f025",
   "metadata": {
    "execution": {
     "iopub.status.busy": "2024-05-07T06:56:09.384553Z",
     "iopub.status.idle": "2024-05-07T06:56:09.385337Z",
     "shell.execute_reply": "2024-05-07T06:56:09.385089Z",
     "shell.execute_reply.started": "2024-05-07T06:56:09.385065Z"
    },
    "scrolled": true
   },
   "outputs": [],
   "source": [
    "daily_opt_cumret"
   ]
  },
  {
   "cell_type": "code",
   "execution_count": null,
   "id": "991e5cab-93e3-4911-a148-6460a64efae4",
   "metadata": {
    "execution": {
     "iopub.status.busy": "2024-05-07T06:56:09.386798Z",
     "iopub.status.idle": "2024-05-07T06:56:09.387519Z",
     "shell.execute_reply": "2024-05-07T06:56:09.387270Z",
     "shell.execute_reply.started": "2024-05-07T06:56:09.387245Z"
    }
   },
   "outputs": [],
   "source": [
    "excess_ret=(daily_optret.sum(1)-krx_idx['코스피 200'].pct_change().loc[daily_optw.index])"
   ]
  },
  {
   "cell_type": "code",
   "execution_count": null,
   "id": "207b44aa-9849-4b61-a148-3c2f008c67f4",
   "metadata": {
    "execution": {
     "iopub.status.busy": "2024-05-07T06:56:09.388988Z",
     "iopub.status.idle": "2024-05-07T06:56:09.389598Z",
     "shell.execute_reply": "2024-05-07T06:56:09.389353Z",
     "shell.execute_reply.started": "2024-05-07T06:56:09.389330Z"
    }
   },
   "outputs": [],
   "source": [
    "(1+excess_ret).cumprod().plot()"
   ]
  },
  {
   "cell_type": "code",
   "execution_count": null,
   "id": "514a6f05-c742-4e30-8299-3474e40a2a14",
   "metadata": {
    "execution": {
     "iopub.status.busy": "2024-05-07T06:56:09.391230Z",
     "iopub.status.idle": "2024-05-07T06:56:09.391955Z",
     "shell.execute_reply": "2024-05-07T06:56:09.391706Z",
     "shell.execute_reply.started": "2024-05-07T06:56:09.391681Z"
    }
   },
   "outputs": [],
   "source": [
    "bm_cumret=(1+krx_idx['코스피 200'].pct_change().loc[daily_optw.index]).cumprod()"
   ]
  },
  {
   "cell_type": "code",
   "execution_count": null,
   "id": "8dfe876c-a034-496f-9acb-61c451913c4f",
   "metadata": {
    "execution": {
     "iopub.status.busy": "2024-05-07T06:56:09.393415Z",
     "iopub.status.idle": "2024-05-07T06:56:09.394025Z",
     "shell.execute_reply": "2024-05-07T06:56:09.393780Z",
     "shell.execute_reply.started": "2024-05-07T06:56:09.393756Z"
    }
   },
   "outputs": [],
   "source": [
    "pd.concat([daily_opt_cumret, bm_cumret], axis=1).plot()"
   ]
  },
  {
   "cell_type": "code",
   "execution_count": null,
   "id": "50f98c04-7246-4287-bc1b-aaf1673f57a8",
   "metadata": {},
   "outputs": [],
   "source": []
  },
  {
   "cell_type": "code",
   "execution_count": null,
   "id": "98d8a28c-f396-4eea-9db4-65a077c898fc",
   "metadata": {
    "execution": {
     "iopub.status.busy": "2024-05-07T06:56:09.395706Z",
     "iopub.status.idle": "2024-05-07T06:56:09.396378Z",
     "shell.execute_reply": "2024-05-07T06:56:09.396127Z",
     "shell.execute_reply.started": "2024-05-07T06:56:09.396102Z"
    }
   },
   "outputs": [],
   "source": [
    "# 70\n",
    "idx_ret, idx_ret_cost, idx_cum_ret, idx_cum_retcost = perf.return_index(adjprc.loc[daily_optw.index, \n",
    "                                                                        daily_optw.columns], \n",
    "                                                                        daily_optw,\n",
    "                                                                        cost=0.002)\n",
    "pd.concat([idx_cum_retcost, (1+krx_idx['코스피 200'].pct_change().loc[daily_optw.index]).cumprod()], axis=1).plot()"
   ]
  },
  {
   "cell_type": "code",
   "execution_count": null,
   "id": "1752cddc-2c06-495e-9eb6-6abcdcd0dc9c",
   "metadata": {
    "execution": {
     "iopub.status.busy": "2024-05-07T06:56:09.397854Z",
     "iopub.status.idle": "2024-05-07T06:56:09.398462Z",
     "shell.execute_reply": "2024-05-07T06:56:09.398215Z",
     "shell.execute_reply.started": "2024-05-07T06:56:09.398191Z"
    }
   },
   "outputs": [],
   "source": [
    "a"
   ]
  },
  {
   "cell_type": "code",
   "execution_count": null,
   "id": "dedfeffe-8806-4acc-a4e7-87f6e98d6aa5",
   "metadata": {
    "execution": {
     "iopub.status.busy": "2024-05-07T06:56:09.400023Z",
     "iopub.status.idle": "2024-05-07T06:56:09.400729Z",
     "shell.execute_reply": "2024-05-07T06:56:09.400476Z",
     "shell.execute_reply.started": "2024-05-07T06:56:09.400452Z"
    }
   },
   "outputs": [],
   "source": [
    "daily_optw.iloc[-1].sort_values(ascending=False).loc[['A005930', 'A000660']]"
   ]
  },
  {
   "cell_type": "code",
   "execution_count": null,
   "id": "b535be9c-dad4-4d0a-b8d7-4bcde63e3a64",
   "metadata": {
    "execution": {
     "iopub.status.busy": "2024-05-07T06:56:09.401989Z",
     "iopub.status.idle": "2024-05-07T06:56:09.402541Z",
     "shell.execute_reply": "2024-05-07T06:56:09.402296Z",
     "shell.execute_reply.started": "2024-05-07T06:56:09.402272Z"
    }
   },
   "outputs": [],
   "source": [
    "adjprc.loc['2023-12-25':'2024-01-02'].index"
   ]
  },
  {
   "cell_type": "code",
   "execution_count": null,
   "id": "5cb34fb7-635d-4a50-b3f9-5dd3c9305b29",
   "metadata": {
    "execution": {
     "iopub.status.busy": "2024-05-07T06:56:09.404355Z",
     "iopub.status.idle": "2024-05-07T06:56:09.405090Z",
     "shell.execute_reply": "2024-05-07T06:56:09.404822Z",
     "shell.execute_reply.started": "2024-05-07T06:56:09.404797Z"
    }
   },
   "outputs": [],
   "source": [
    "recent_date='2023-12-28'\n",
    "recentw=pd.DataFrame(None, index=adjprc.loc[recent_date:].index, columns=daily_optw.columns)"
   ]
  },
  {
   "cell_type": "code",
   "execution_count": null,
   "id": "04b8175d-cc9a-4707-a9fb-873658bbde8c",
   "metadata": {
    "execution": {
     "iopub.status.busy": "2024-05-07T06:56:09.406547Z",
     "iopub.status.idle": "2024-05-07T06:56:09.407160Z",
     "shell.execute_reply": "2024-05-07T06:56:09.406913Z",
     "shell.execute_reply.started": "2024-05-07T06:56:09.406889Z"
    }
   },
   "outputs": [],
   "source": [
    "recentw.loc[recent_date]=daily_optw.iloc[-1]"
   ]
  },
  {
   "cell_type": "code",
   "execution_count": null,
   "id": "83e2b515-9c09-4ecc-b44c-266ae41eea54",
   "metadata": {
    "execution": {
     "iopub.status.busy": "2024-05-07T06:56:09.408940Z",
     "iopub.status.idle": "2024-05-07T06:56:09.409473Z",
     "shell.execute_reply": "2024-05-07T06:56:09.409224Z",
     "shell.execute_reply.started": "2024-05-07T06:56:09.409201Z"
    }
   },
   "outputs": [],
   "source": [
    "recentw=recentw.ffill()"
   ]
  },
  {
   "cell_type": "code",
   "execution_count": null,
   "id": "0ee219f7-404d-4443-b7ce-0597b6119301",
   "metadata": {
    "execution": {
     "iopub.status.busy": "2024-05-07T06:56:09.410803Z",
     "iopub.status.idle": "2024-05-07T06:56:09.411410Z",
     "shell.execute_reply": "2024-05-07T06:56:09.411163Z",
     "shell.execute_reply.started": "2024-05-07T06:56:09.411140Z"
    }
   },
   "outputs": [],
   "source": [
    "recent_ret=recentw*adjprc.pct_change().loc[recentw.index, recentw.columns]"
   ]
  },
  {
   "cell_type": "code",
   "execution_count": null,
   "id": "efb8ec2a-7e12-4634-859e-b83d807b8d91",
   "metadata": {
    "execution": {
     "iopub.status.busy": "2024-05-07T06:56:09.412952Z",
     "iopub.status.idle": "2024-05-07T06:56:09.413676Z",
     "shell.execute_reply": "2024-05-07T06:56:09.413430Z",
     "shell.execute_reply.started": "2024-05-07T06:56:09.413405Z"
    }
   },
   "outputs": [],
   "source": [
    "(1+pd.concat([recent_ret.sum(1), krx_idx['코스피 200'].pct_change().loc[recent_date:]], axis=1)).cumprod().plot()"
   ]
  },
  {
   "cell_type": "code",
   "execution_count": null,
   "id": "3f0cf2d7-d2eb-417b-b04a-4b843a380cc1",
   "metadata": {
    "execution": {
     "iopub.status.busy": "2024-05-07T06:56:09.415200Z",
     "iopub.status.idle": "2024-05-07T06:56:09.415721Z",
     "shell.execute_reply": "2024-05-07T06:56:09.415480Z",
     "shell.execute_reply.started": "2024-05-07T06:56:09.415457Z"
    }
   },
   "outputs": [],
   "source": [
    "optw_df.sort_values('opt_w')"
   ]
  },
  {
   "cell_type": "code",
   "execution_count": null,
   "id": "e4f0ad17-a63f-414b-b1d6-998b437ba5a9",
   "metadata": {
    "execution": {
     "iopub.status.busy": "2024-05-07T06:56:09.417291Z",
     "iopub.status.idle": "2024-05-07T06:56:09.417815Z",
     "shell.execute_reply": "2024-05-07T06:56:09.417571Z",
     "shell.execute_reply.started": "2024-05-07T06:56:09.417548Z"
    }
   },
   "outputs": [],
   "source": [
    "(optw_df['opt_w']-temp_bm_weight).sort_values()"
   ]
  },
  {
   "cell_type": "code",
   "execution_count": null,
   "id": "79347af7-e7a2-4aff-9e3f-0623cb3a69c9",
   "metadata": {
    "execution": {
     "iopub.status.busy": "2024-05-07T06:56:09.419555Z",
     "iopub.status.idle": "2024-05-07T06:56:09.420340Z",
     "shell.execute_reply": "2024-05-07T06:56:09.420087Z",
     "shell.execute_reply.started": "2024-05-07T06:56:09.420062Z"
    }
   },
   "outputs": [],
   "source": [
    "temp_bm_weight.sort_values()"
   ]
  },
  {
   "cell_type": "code",
   "execution_count": null,
   "id": "257b5d76-dc1b-4853-8cc7-4cc5b2059510",
   "metadata": {},
   "outputs": [],
   "source": []
  },
  {
   "cell_type": "code",
   "execution_count": null,
   "id": "685d74af-2026-471b-8276-25e7d9c93bef",
   "metadata": {},
   "outputs": [],
   "source": []
  },
  {
   "cell_type": "markdown",
   "id": "1f0a379a-8a0f-4c66-b8cc-cc0fe5e264ba",
   "metadata": {},
   "source": [
    "# sector neutral\n",
    "\n",
    "\n",
    "### 1. (use selection only) use top score stocks only then allocate weight proportion to the actual market cap\n",
    "####  if no stock is selected in a sector then follow BM \n",
    "\n",
    "### 2. (use selection and score) set boundary of tilt amount and do optimization using score\n",
    "\n",
    "### 3. (use BM and score) use entire index and tilting using optimization"
   ]
  },
  {
   "cell_type": "code",
   "execution_count": null,
   "id": "33344746-b6a9-4617-afc8-8645a4b91162",
   "metadata": {
    "execution": {
     "iopub.status.busy": "2024-05-07T06:56:09.421808Z",
     "iopub.status.idle": "2024-05-07T06:56:09.422417Z",
     "shell.execute_reply": "2024-05-07T06:56:09.422170Z",
     "shell.execute_reply.started": "2024-05-07T06:56:09.422147Z"
    },
    "tags": []
   },
   "outputs": [],
   "source": [
    "data_SSC_nodup.columns"
   ]
  },
  {
   "cell_type": "code",
   "execution_count": null,
   "id": "1a4a9e0b-b949-4536-ae7f-be588769009c",
   "metadata": {
    "execution": {
     "iopub.status.busy": "2024-05-07T06:56:09.423954Z",
     "iopub.status.idle": "2024-05-07T06:56:09.424923Z",
     "shell.execute_reply": "2024-05-07T06:56:09.424654Z",
     "shell.execute_reply.started": "2024-05-07T06:56:09.424629Z"
    },
    "tags": []
   },
   "outputs": [],
   "source": [
    "data_COM_nodup.columns"
   ]
  },
  {
   "cell_type": "code",
   "execution_count": null,
   "id": "c53c842e-d110-4f7e-80f0-1d8c82d31d14",
   "metadata": {
    "execution": {
     "iopub.status.busy": "2024-05-07T06:56:09.426248Z",
     "iopub.status.idle": "2024-05-07T06:56:09.426865Z",
     "shell.execute_reply": "2024-05-07T06:56:09.426615Z",
     "shell.execute_reply.started": "2024-05-07T06:56:09.426593Z"
    },
    "tags": []
   },
   "outputs": [],
   "source": [
    "temp_com=data_COM_nodup[['KSECapSize', 'FG_Sector_Idx', 'KOSPI200YN']].copy()"
   ]
  },
  {
   "cell_type": "code",
   "execution_count": null,
   "id": "2a356f98-a6f3-4c8e-807c-34b3325a9ae9",
   "metadata": {
    "execution": {
     "iopub.status.busy": "2024-05-07T06:56:09.428425Z",
     "iopub.status.idle": "2024-05-07T06:56:09.429175Z",
     "shell.execute_reply": "2024-05-07T06:56:09.428910Z",
     "shell.execute_reply.started": "2024-05-07T06:56:09.428871Z"
    },
    "tags": []
   },
   "outputs": [],
   "source": [
    "temp_ssc=data_SSC_nodup[['MktCap']].copy()"
   ]
  },
  {
   "cell_type": "code",
   "execution_count": null,
   "id": "112e3722-26b7-4147-97b8-cf0aebbfa6a9",
   "metadata": {
    "execution": {
     "iopub.status.busy": "2024-05-07T06:56:09.430515Z",
     "iopub.status.idle": "2024-05-07T06:56:09.431131Z",
     "shell.execute_reply": "2024-05-07T06:56:09.430883Z",
     "shell.execute_reply.started": "2024-05-07T06:56:09.430859Z"
    },
    "tags": []
   },
   "outputs": [],
   "source": [
    "bm_mktcap=pd.concat([temp_com, temp_ssc], axis=1)"
   ]
  },
  {
   "cell_type": "code",
   "execution_count": null,
   "id": "9e677bec-d5c0-45a4-b84a-f5c140eac551",
   "metadata": {
    "execution": {
     "iopub.status.busy": "2024-05-07T06:56:09.432754Z",
     "iopub.status.idle": "2024-05-07T06:56:09.433456Z",
     "shell.execute_reply": "2024-05-07T06:56:09.433200Z",
     "shell.execute_reply.started": "2024-05-07T06:56:09.433175Z"
    }
   },
   "outputs": [],
   "source": [
    "bm_mktcap"
   ]
  },
  {
   "cell_type": "code",
   "execution_count": null,
   "id": "9ac25ebd-d146-4285-9332-a0b02e40fef4",
   "metadata": {
    "execution": {
     "iopub.status.busy": "2024-05-07T06:56:09.434771Z",
     "iopub.status.idle": "2024-05-07T06:56:09.435296Z",
     "shell.execute_reply": "2024-05-07T06:56:09.435054Z",
     "shell.execute_reply.started": "2024-05-07T06:56:09.435031Z"
    }
   },
   "outputs": [],
   "source": [
    "bm_mktcap=bm_mktcap[bm_mktcap['KOSPI200YN']=='Y']"
   ]
  },
  {
   "cell_type": "code",
   "execution_count": null,
   "id": "a5e75a70-b50d-4304-8fe6-2d3427cad3bf",
   "metadata": {
    "execution": {
     "iopub.status.busy": "2024-05-07T06:56:09.436829Z",
     "iopub.status.idle": "2024-05-07T06:56:09.437774Z",
     "shell.execute_reply": "2024-05-07T06:56:09.437521Z",
     "shell.execute_reply.started": "2024-05-07T06:56:09.437495Z"
    }
   },
   "outputs": [],
   "source": [
    "bm_mktcap['MktCap']=bm_mktcap['MktCap'].astype(float)\n"
   ]
  },
  {
   "cell_type": "code",
   "execution_count": null,
   "id": "156b619f-85df-4f8d-8eb9-0e8802164f05",
   "metadata": {
    "execution": {
     "iopub.status.busy": "2024-05-07T06:56:09.439235Z",
     "iopub.status.idle": "2024-05-07T06:56:09.440077Z",
     "shell.execute_reply": "2024-05-07T06:56:09.439824Z",
     "shell.execute_reply.started": "2024-05-07T06:56:09.439800Z"
    }
   },
   "outputs": [],
   "source": [
    "bm_mktcap"
   ]
  },
  {
   "cell_type": "code",
   "execution_count": null,
   "id": "31327c9c-2174-42ed-ab92-8cdeb5e1d4e7",
   "metadata": {
    "execution": {
     "iopub.status.busy": "2024-05-07T06:56:09.441624Z",
     "iopub.status.idle": "2024-05-07T06:56:09.442540Z",
     "shell.execute_reply": "2024-05-07T06:56:09.442287Z",
     "shell.execute_reply.started": "2024-05-07T06:56:09.442262Z"
    }
   },
   "outputs": [],
   "source": [
    "bm_sector_cap=bm_mktcap.groupby(['Dates', 'FG_Sector_Idx']).sum('MktCap')"
   ]
  },
  {
   "cell_type": "code",
   "execution_count": null,
   "id": "1330d1ce-0a87-42ba-b33c-f1382afcd5d7",
   "metadata": {
    "execution": {
     "iopub.status.busy": "2024-05-07T06:56:09.443861Z",
     "iopub.status.idle": "2024-05-07T06:56:09.444479Z",
     "shell.execute_reply": "2024-05-07T06:56:09.444231Z",
     "shell.execute_reply.started": "2024-05-07T06:56:09.444208Z"
    },
    "tags": []
   },
   "outputs": [],
   "source": [
    "# bm_sector_cap=bm_mktcap.groupby(['Dates', 'FG_Sector_Idx']).sum()"
   ]
  },
  {
   "cell_type": "code",
   "execution_count": null,
   "id": "d28d08f1-0f6f-4f7f-9098-294cb24bc143",
   "metadata": {},
   "outputs": [],
   "source": []
  },
  {
   "cell_type": "code",
   "execution_count": null,
   "id": "d8ec8b4e-c405-4bee-a65b-655ecb3991ee",
   "metadata": {
    "execution": {
     "iopub.status.busy": "2024-05-07T06:56:09.445965Z",
     "iopub.status.idle": "2024-05-07T06:56:09.446566Z",
     "shell.execute_reply": "2024-05-07T06:56:09.446319Z",
     "shell.execute_reply.started": "2024-05-07T06:56:09.446295Z"
    },
    "tags": []
   },
   "outputs": [],
   "source": [
    "\n",
    "bm_sector_weight=bm_sector_cap /bm_mktcap.groupby(['Dates']).sum('MKtCap')"
   ]
  },
  {
   "cell_type": "code",
   "execution_count": null,
   "id": "1bcc310a-3911-4c65-8907-e4e15cbc99c8",
   "metadata": {
    "execution": {
     "iopub.status.busy": "2024-05-07T06:56:09.448348Z",
     "iopub.status.idle": "2024-05-07T06:56:09.448877Z",
     "shell.execute_reply": "2024-05-07T06:56:09.448629Z",
     "shell.execute_reply.started": "2024-05-07T06:56:09.448606Z"
    },
    "tags": []
   },
   "outputs": [],
   "source": [
    "# temp_mktcap.groupby(['Dates', 'FG_Sector_Idx'])['MktCap'].transform('sum')/daily_sector_weight.groupby(['Dates']).sum()"
   ]
  },
  {
   "cell_type": "code",
   "execution_count": null,
   "id": "c318d0a2-95d7-436f-a3cd-3343e528a5e3",
   "metadata": {
    "execution": {
     "iopub.status.busy": "2024-05-07T06:56:09.450375Z",
     "iopub.status.idle": "2024-05-07T06:56:09.451002Z",
     "shell.execute_reply": "2024-05-07T06:56:09.450753Z",
     "shell.execute_reply.started": "2024-05-07T06:56:09.450730Z"
    },
    "tags": []
   },
   "outputs": [],
   "source": [
    "bm_sector=bm_mktcap['FG_Sector_Idx'].copy()\n",
    "bm_sector=bm_sector.reset_index()\n",
    "bm_sector.set_index(['Dates', 'FG_Sector_Idx'], inplace=True)\n",
    "bm_sector=pd.concat([bm_sector, bm_sector_weight], axis=1)\n",
    "bm_sector=bm_sector.reset_index()\n",
    "bm_sector.set_index(['Dates', 'Symbol'], inplace=True)"
   ]
  },
  {
   "cell_type": "code",
   "execution_count": null,
   "id": "b8f25991-a259-443f-ab81-d841bebf47d4",
   "metadata": {},
   "outputs": [],
   "source": []
  },
  {
   "cell_type": "code",
   "execution_count": null,
   "id": "d6e18ad4-9fb4-408c-bce1-7dec35d5544d",
   "metadata": {
    "execution": {
     "iopub.status.busy": "2024-05-07T06:56:09.452519Z",
     "iopub.status.idle": "2024-05-07T06:56:09.453246Z",
     "shell.execute_reply": "2024-05-07T06:56:09.452997Z",
     "shell.execute_reply.started": "2024-05-07T06:56:09.452972Z"
    },
    "tags": []
   },
   "outputs": [],
   "source": [
    "# daily_sector_weight=temp_mktcap.groupby(['Dates', 'FG_Sector_Idx']).sum()/temp_mktcap.groupby(['Dates']).sum()"
   ]
  },
  {
   "cell_type": "code",
   "execution_count": null,
   "id": "09ff44ef-64fa-441b-a562-fa3a37cc1353",
   "metadata": {
    "execution": {
     "iopub.status.busy": "2024-05-07T06:56:09.454515Z",
     "iopub.status.idle": "2024-05-07T06:56:09.455032Z",
     "shell.execute_reply": "2024-05-07T06:56:09.454790Z",
     "shell.execute_reply.started": "2024-05-07T06:56:09.454767Z"
    },
    "tags": []
   },
   "outputs": [],
   "source": [
    "# daily_sector_weight=bm_mktcap.groupby(['Dates', 'FG_Sector_Idx'])['MktCap'].transform('sum')\n",
    "# daily_sector_weight=daily_sector_weight/daily_sector_weight.groupby(['Dates']).sum()"
   ]
  },
  {
   "cell_type": "markdown",
   "id": "63ae180b-b77c-44e6-9145-d0ebb664dc7e",
   "metadata": {},
   "source": [
    "## stock selection from k200"
   ]
  },
  {
   "cell_type": "code",
   "execution_count": null,
   "id": "4f6fe14f-6d62-41ee-bf3b-fee6ea36f04e",
   "metadata": {
    "execution": {
     "iopub.status.busy": "2024-05-07T06:56:09.456640Z",
     "iopub.status.idle": "2024-05-07T06:56:09.457175Z",
     "shell.execute_reply": "2024-05-07T06:56:09.456931Z",
     "shell.execute_reply.started": "2024-05-07T06:56:09.456906Z"
    },
    "tags": []
   },
   "outputs": [],
   "source": [
    "num_selection=75\n",
    "top_prob_ls = []\n",
    "\n",
    "for i in range(len(raw_prob.index)):\n",
    "    scaler = MinMaxScaler()\n",
    "    top_prob=raw_prob.iloc[i].dropna().sort_values(ascending=False)[:num_selection]\n",
    "    tempw = scaler.fit_transform(top_prob.values.reshape(-1, 1))\n",
    "    temp_w = pd.DataFrame(tempw, index = top_prob.index)\n",
    "    top_prob_ls.append(temp_w)\n",
    "    \n",
    "top_prob_df=pd.concat(top_prob_ls, axis=1)\n",
    "top_prob_df=top_prob_df.T\n",
    "top_prob_df.index=raw_prob.index\n",
    "\n",
    "top_prob_df=top_prob_df.stack().to_frame()\n",
    "top_prob_df.index.set_names(['Dates', 'Symbol'], inplace=True)\n",
    "\n",
    "bm_sector.columns=[bm_sector.columns[0], 'MktCap_ratio']\n",
    "\n",
    "cap_prob_df=pd.concat([bm_mktcap, bm_sector[bm_sector.columns.difference(bm_mktcap.columns)]], axis=1)\n",
    "cap_prob_df=pd.concat([cap_prob_df, k200_df['idx_weight'], top_prob_df], axis=1)\n",
    "# cap_prob_df=pd.concat([cap_prob_df, top_prob_df], axis=1)"
   ]
  },
  {
   "cell_type": "code",
   "execution_count": null,
   "id": "a1939562-8d71-4696-b037-c26b558ab6fd",
   "metadata": {
    "execution": {
     "iopub.status.busy": "2024-05-07T06:56:09.458708Z",
     "iopub.status.idle": "2024-05-07T06:56:09.459400Z",
     "shell.execute_reply": "2024-05-07T06:56:09.459153Z",
     "shell.execute_reply.started": "2024-05-07T06:56:09.459129Z"
    }
   },
   "outputs": [],
   "source": [
    "cap_prob_df.dropna()"
   ]
  },
  {
   "cell_type": "code",
   "execution_count": null,
   "id": "eddefb89-724e-4eac-a782-8e74d7cabecf",
   "metadata": {},
   "outputs": [],
   "source": []
  },
  {
   "cell_type": "markdown",
   "id": "a3c9c7ed-bf81-41ad-987e-8db9e0633cbc",
   "metadata": {},
   "source": [
    "## stock selection from k100"
   ]
  },
  {
   "cell_type": "code",
   "execution_count": null,
   "id": "38380464-0731-4c96-b2b2-85c8e5b594ed",
   "metadata": {
    "execution": {
     "iopub.status.busy": "2024-05-07T06:56:09.460846Z",
     "iopub.status.idle": "2024-05-07T06:56:09.461641Z",
     "shell.execute_reply": "2024-05-07T06:56:09.461390Z",
     "shell.execute_reply.started": "2024-05-07T06:56:09.461366Z"
    },
    "tags": []
   },
   "outputs": [],
   "source": [
    "top_prob_k100_ls = []\n",
    "\n",
    "k100prob=raw_prob * k100comp.loc[raw_prob.index]\n",
    "\n",
    "num_selection_k100=50\n",
    "for i in range(len(raw_prob.index)):\n",
    "    scaler = MinMaxScaler()\n",
    "    top_prob_k100=k100prob.iloc[i].dropna().sort_values(ascending=False)[:num_selection_k100]\n",
    "    tempw_k100 = scaler.fit_transform(top_prob_k100.values.reshape(-1, 1))\n",
    "    tempw_k100 = pd.DataFrame(tempw_k100, index = top_prob_k100.index)\n",
    "    top_prob_k100_ls.append(tempw_k100)\n",
    "    \n",
    "top_prob_k100_df=pd.concat(top_prob_k100_ls, axis=1)\n",
    "top_prob_k100_df=top_prob_k100_df.T\n",
    "top_prob_k100_df.index=raw_prob.index\n",
    "\n",
    "top_prob_k100_df=top_prob_k100_df.stack().to_frame()\n",
    "top_prob_k100_df.index.set_names(['Dates', 'Symbol'], inplace=True)\n",
    "\n",
    "bm_sector.columns=[bm_sector.columns[0], 'MktCap_ratio']\n",
    "\n",
    "cap_prob_k100_df=pd.concat([bm_mktcap, bm_sector[bm_sector.columns.difference(bm_mktcap.columns)]], axis=1)\n",
    "cap_prob_k100_df=pd.concat([cap_prob_df, k200_df['idx_weight'], top_prob_k100_df], axis=1)\n",
    "# cap_prob_df=pd.concat([cap_prob_df, top_prob_df], axis=1)"
   ]
  },
  {
   "cell_type": "code",
   "execution_count": null,
   "id": "0026628f-d6e6-4b21-8a04-7d1c80687592",
   "metadata": {
    "tags": []
   },
   "outputs": [],
   "source": []
  },
  {
   "cell_type": "code",
   "execution_count": null,
   "id": "088c06ae-e6ba-4af1-b7af-ed4bdd487225",
   "metadata": {},
   "outputs": [],
   "source": []
  },
  {
   "cell_type": "markdown",
   "id": "439ce13a-f693-48ec-a055-2be332708fdb",
   "metadata": {},
   "source": [
    "## rebal dates"
   ]
  },
  {
   "cell_type": "code",
   "execution_count": null,
   "id": "bf6983a3-bd5d-4bf9-bf33-89406f5bf550",
   "metadata": {
    "execution": {
     "iopub.status.busy": "2024-05-07T06:56:09.463681Z",
     "iopub.status.idle": "2024-05-07T06:56:09.464607Z",
     "shell.execute_reply": "2024-05-07T06:56:09.464353Z",
     "shell.execute_reply.started": "2024-05-07T06:56:09.464328Z"
    },
    "scrolled": true,
    "tags": []
   },
   "outputs": [],
   "source": [
    "sector_dates=cap_prob_df.dropna().index.get_level_values(0).unique()\n",
    "sector_dates=pd.to_datetime(sector_dates)\n",
    "sector_dates=sector_dates.sort_values()\n",
    "\n",
    "rebal_dates = proc.find_entire_rebalancing_dates(sector_dates)\n",
    "rebal_dates"
   ]
  },
  {
   "cell_type": "code",
   "execution_count": null,
   "id": "e787a2df-b7a4-4079-a593-a480b4cefb70",
   "metadata": {
    "execution": {
     "iopub.status.busy": "2024-05-07T06:56:09.465885Z",
     "iopub.status.idle": "2024-05-07T06:56:09.466622Z",
     "shell.execute_reply": "2024-05-07T06:56:09.466367Z",
     "shell.execute_reply.started": "2024-05-07T06:56:09.466343Z"
    },
    "tags": []
   },
   "outputs": [],
   "source": [
    "sector_ls=list(bm_sector['FG_Sector_Idx'].unique())\n",
    "sector='IT'\n",
    "given_samsung_weight=.3\n",
    "sam_w=k200_df[k200_df.index.get_level_values(1)=='A005930']"
   ]
  },
  {
   "cell_type": "markdown",
   "id": "5f12b8cf-1154-47a0-bee7-c1f3e830f8e2",
   "metadata": {},
   "source": [
    "## sector neutral port with samsung neutral"
   ]
  },
  {
   "cell_type": "code",
   "execution_count": null,
   "id": "7b66798f-ad38-4434-81e5-eed730a438fc",
   "metadata": {
    "execution": {
     "iopub.status.busy": "2024-05-07T06:56:09.468149Z",
     "iopub.status.idle": "2024-05-07T06:56:09.468772Z",
     "shell.execute_reply": "2024-05-07T06:56:09.468522Z",
     "shell.execute_reply.started": "2024-05-07T06:56:09.468498Z"
    },
    "scrolled": true,
    "tags": []
   },
   "outputs": [],
   "source": [
    "weight_ls=[]\n",
    "for date in rebal_dates:\n",
    "    print(date)\n",
    "    temp_sector_cap_prob=cap_prob_df[cap_prob_df.index.get_level_values(0)==date]\n",
    "    \n",
    "    sector_weight_ls=[]\n",
    "    for sector in sector_ls:\n",
    "        \n",
    "        # when there is no stock in certain sector then keep all stocks in that missing sector\n",
    "        if sector not in temp_sector_cap_prob.dropna()['FG_Sector_Idx'].unique():\n",
    "            print(sector)\n",
    "            temp_sector_neutral=temp_sector_cap_prob[temp_sector_cap_prob['FG_Sector_Idx']==sector]['idx_weight']/100\n",
    "            sector_weight_ls.append(temp_sector_neutral)\n",
    "            \n",
    "        else:\n",
    "            temp_sector_tilt=temp_sector_cap_prob[temp_sector_cap_prob['FG_Sector_Idx']==sector].dropna()\n",
    "            # temp_sector_neutral['sector_ew']=1/len(temp_sector_neutral)\n",
    "\n",
    "            if sector=='IT':\n",
    "                it_leftover=temp_sector_tilt['MktCap_ratio'][0]-sam_w.loc[date, 'idx_weight'].values/100\n",
    "                it_mktcap=temp_sector_tilt['MktCap'].drop(index='A005930', level='Symbol')\n",
    "                it_mktcap_ratio=it_mktcap/it_mktcap.sum()*it_leftover\n",
    "                it_mktcap_ratio.loc[(date, 'A005930')]=given_samsung_weight\n",
    "                sector_weight_ls.append(it_mktcap_ratio)\n",
    "            else:\n",
    "                temp_mktcap_ratio=temp_sector_tilt['MktCap']/temp_sector_tilt['MktCap'].sum()*temp_sector_tilt['MktCap_ratio'][0]\n",
    "                sector_weight_ls.append(temp_mktcap_ratio)\n",
    "\n",
    "    weight_df=pd.concat(sector_weight_ls, axis=0)\n",
    "    weight_ls.append(weight_df)"
   ]
  },
  {
   "cell_type": "code",
   "execution_count": null,
   "id": "0ff1fcb4-6f8e-47df-b29d-03fb232250b1",
   "metadata": {},
   "outputs": [],
   "source": []
  },
  {
   "cell_type": "code",
   "execution_count": null,
   "id": "0bb174b1-bcd4-48b2-bfd6-059be83c7340",
   "metadata": {
    "execution": {
     "iopub.status.busy": "2024-05-07T06:56:09.470416Z",
     "iopub.status.idle": "2024-05-07T06:56:09.471151Z",
     "shell.execute_reply": "2024-05-07T06:56:09.470897Z",
     "shell.execute_reply.started": "2024-05-07T06:56:09.470872Z"
    },
    "tags": []
   },
   "outputs": [],
   "source": [
    "temp_sector_cap_prob[temp_sector_cap_prob['FG_Sector_Idx']==sector]"
   ]
  },
  {
   "cell_type": "markdown",
   "id": "48095495-3c3a-4e1e-bbb2-78334bef95c3",
   "metadata": {
    "execution": {
     "iopub.execute_input": "2024-01-30T00:29:16.721086Z",
     "iopub.status.busy": "2024-01-30T00:29:16.720442Z",
     "iopub.status.idle": "2024-01-30T00:29:16.725800Z",
     "shell.execute_reply": "2024-01-30T00:29:16.724489Z",
     "shell.execute_reply.started": "2024-01-30T00:29:16.721028Z"
    }
   },
   "source": [
    "## smoothing weights"
   ]
  },
  {
   "cell_type": "code",
   "execution_count": null,
   "id": "05a4019b-9c48-4cb8-bde3-2d088857fb72",
   "metadata": {
    "execution": {
     "iopub.status.busy": "2024-05-07T06:56:09.472375Z",
     "iopub.status.idle": "2024-05-07T06:56:09.473205Z",
     "shell.execute_reply": "2024-05-07T06:56:09.472949Z",
     "shell.execute_reply.started": "2024-05-07T06:56:09.472924Z"
    },
    "tags": []
   },
   "outputs": [],
   "source": [
    "sector_neutral_weight=pd.concat(weight_ls).unstack().dropna(how='all', axis=0)\n",
    "sector_neutral_weight=sector_neutral_weight.div(sector_neutral_weight.sum(1), axis=0)\n",
    "\n",
    "temp_adj=adjprc.loc[sector_neutral_weight.index[0]:sector_neutral_weight.index[-1], sector_neutral_weight.columns].copy()\n",
    "daily_w=temp_adj.copy()\n",
    "daily_w.loc[sector_neutral_weight.index]=0\n",
    "daily_w[daily_w!=0]=None\n",
    "daily_w.loc[sector_neutral_weight.index]=sector_neutral_weight.fillna(0)\n",
    "daily_w=daily_w.fillna(method='ffill')"
   ]
  },
  {
   "cell_type": "code",
   "execution_count": null,
   "id": "42297db7-f0e6-4dcc-b5bc-11e536248126",
   "metadata": {
    "execution": {
     "iopub.status.busy": "2024-05-07T06:56:09.474834Z",
     "iopub.status.idle": "2024-05-07T06:56:09.475659Z",
     "shell.execute_reply": "2024-05-07T06:56:09.475401Z",
     "shell.execute_reply.started": "2024-05-07T06:56:09.475376Z"
    },
    "tags": []
   },
   "outputs": [],
   "source": [
    "daily_w.sum(1).plot()"
   ]
  },
  {
   "cell_type": "code",
   "execution_count": null,
   "id": "b93e8e35-3b92-4a6d-9979-4510e570e9c1",
   "metadata": {
    "execution": {
     "iopub.status.busy": "2024-05-07T06:56:09.476876Z",
     "iopub.status.idle": "2024-05-07T06:56:09.477898Z",
     "shell.execute_reply": "2024-05-07T06:56:09.477644Z",
     "shell.execute_reply.started": "2024-05-07T06:56:09.477620Z"
    },
    "tags": []
   },
   "outputs": [],
   "source": [
    "idx_ret, idx_ret_cost, idx_cum_ret, idx_cum_retcost = perf.return_index(temp_adj, \n",
    "                                                                        daily_w.shift(1),\n",
    "                                                                        cost=0.003)"
   ]
  },
  {
   "cell_type": "code",
   "execution_count": null,
   "id": "3e762a91-2af5-49e2-9889-63bec8dc263a",
   "metadata": {
    "execution": {
     "iopub.status.busy": "2024-05-07T06:56:09.479136Z",
     "iopub.status.idle": "2024-05-07T06:56:09.480029Z",
     "shell.execute_reply": "2024-05-07T06:56:09.479769Z",
     "shell.execute_reply.started": "2024-05-07T06:56:09.479746Z"
    },
    "tags": []
   },
   "outputs": [],
   "source": [
    "pd.concat([idx_cum_retcost, (1+krx_idx['코스피 200'].pct_change().loc[daily_w.index]).cumprod()], axis=1).plot()"
   ]
  },
  {
   "cell_type": "code",
   "execution_count": null,
   "id": "3d594799-588b-4df6-9fb2-6af6fac4dde2",
   "metadata": {
    "tags": []
   },
   "outputs": [],
   "source": []
  },
  {
   "cell_type": "markdown",
   "id": "8235d9aa-0df5-4d7d-af75-9d1e98d23196",
   "metadata": {
    "tags": []
   },
   "source": [
    "## k200 ew port with samsung neutral"
   ]
  },
  {
   "cell_type": "code",
   "execution_count": null,
   "id": "12d1a575-5012-418f-ae1c-6a8a3593046a",
   "metadata": {
    "execution": {
     "iopub.status.busy": "2024-05-07T06:56:09.481485Z",
     "iopub.status.idle": "2024-05-07T06:56:09.482144Z",
     "shell.execute_reply": "2024-05-07T06:56:09.481890Z",
     "shell.execute_reply.started": "2024-05-07T06:56:09.481867Z"
    },
    "tags": []
   },
   "outputs": [],
   "source": [
    "top_prob_unstack=top_prob_df.unstack().copy()\n",
    "top_prob_unstack.columns=top_prob_unstack.columns.get_level_values(1)\n",
    "\n",
    "k200_weight_ls=[]\n",
    "for date in rebal_dates:\n",
    "    temp_top_prob=top_prob_unstack.loc[date].copy()\n",
    "    ew_sum=1-sam_w.loc[date, 'idx_weight'].values/100\n",
    "    \n",
    "    # if samsung is in the top then add additional weight to idx weight\n",
    "    if 'A005930' in temp_top_prob.index:\n",
    "        temp_ew=ew_sum/75\n",
    "        temp_top_prob[temp_top_prob>0]=temp_ew[0]\n",
    "        temp_top_prob.loc['A005930']=sam_w.loc[date, 'idx_weight'].values/100+temp_ew[0]\n",
    "    else:\n",
    "        temp_ew=ew_sum/76\n",
    "        temp_top_prob.loc['A005930']=sam_w.loc[date, 'idx_weight'].values/100\n",
    "        \n",
    "    k200_weight_ls.append(temp_top_prob)"
   ]
  },
  {
   "cell_type": "code",
   "execution_count": null,
   "id": "f9c3acb9-6f28-4fa4-8d9d-7146ecac636f",
   "metadata": {},
   "outputs": [],
   "source": []
  },
  {
   "cell_type": "markdown",
   "id": "c376951f-bb4b-4563-9fb0-6228d242d00d",
   "metadata": {},
   "source": [
    "# k200 market weight"
   ]
  },
  {
   "cell_type": "code",
   "execution_count": null,
   "id": "0c36dac0-ff65-4582-aa5a-94357be5b0f8",
   "metadata": {
    "execution": {
     "iopub.status.busy": "2024-05-07T06:56:09.483699Z",
     "iopub.status.idle": "2024-05-07T06:56:09.484418Z",
     "shell.execute_reply": "2024-05-07T06:56:09.484162Z",
     "shell.execute_reply.started": "2024-05-07T06:56:09.484138Z"
    }
   },
   "outputs": [],
   "source": [
    "temp_top_prob_df=top_prob_df[top_prob_df.index.get_level_values(0).isin(rebal_dates)]"
   ]
  },
  {
   "cell_type": "code",
   "execution_count": null,
   "id": "8e91b963-8230-4b39-85ce-c146e08ccba6",
   "metadata": {
    "execution": {
     "iopub.status.busy": "2024-05-07T06:56:09.485746Z",
     "iopub.status.idle": "2024-05-07T06:56:09.486365Z",
     "shell.execute_reply": "2024-05-07T06:56:09.486116Z",
     "shell.execute_reply.started": "2024-05-07T06:56:09.486093Z"
    }
   },
   "outputs": [],
   "source": [
    "k200_df.index.get_level_values(0).unique(), top_prob_df.index.get_level_values(0).unique()"
   ]
  },
  {
   "cell_type": "code",
   "execution_count": null,
   "id": "6e6a1589-c3b1-471c-875a-038c16f375c9",
   "metadata": {
    "execution": {
     "iopub.status.busy": "2024-05-07T06:56:09.487960Z",
     "iopub.status.idle": "2024-05-07T06:56:09.488905Z",
     "shell.execute_reply": "2024-05-07T06:56:09.488634Z",
     "shell.execute_reply.started": "2024-05-07T06:56:09.488610Z"
    }
   },
   "outputs": [],
   "source": [
    "temp_k200_df=k200_df[k200_df.index.isin(temp_top_prob_df.index)]"
   ]
  },
  {
   "cell_type": "code",
   "execution_count": null,
   "id": "be537ba4-8568-4e55-a621-4ff7f8453558",
   "metadata": {
    "execution": {
     "iopub.status.busy": "2024-05-07T06:56:09.490232Z",
     "iopub.status.idle": "2024-05-07T06:56:09.491028Z",
     "shell.execute_reply": "2024-05-07T06:56:09.490778Z",
     "shell.execute_reply.started": "2024-05-07T06:56:09.490753Z"
    }
   },
   "outputs": [],
   "source": [
    "temp_k200_df=temp_k200_df['idx_weight'].unstack()"
   ]
  },
  {
   "cell_type": "code",
   "execution_count": null,
   "id": "3284d54b-34d9-4fb9-83d0-c5b08b7378a8",
   "metadata": {
    "execution": {
     "iopub.status.busy": "2024-05-07T06:56:09.492614Z",
     "iopub.status.idle": "2024-05-07T06:56:09.493369Z",
     "shell.execute_reply": "2024-05-07T06:56:09.493113Z",
     "shell.execute_reply.started": "2024-05-07T06:56:09.493088Z"
    }
   },
   "outputs": [],
   "source": [
    "k200_df_mask=temp_k200_df.copy()\n",
    "k200_df_mask[k200_df_mask>0]=1"
   ]
  },
  {
   "cell_type": "code",
   "execution_count": null,
   "id": "bed7152d-bba0-4b0e-9b06-803151a23b0c",
   "metadata": {
    "execution": {
     "iopub.status.busy": "2024-05-07T06:56:09.494667Z",
     "iopub.status.idle": "2024-05-07T06:56:09.495760Z",
     "shell.execute_reply": "2024-05-07T06:56:09.495492Z",
     "shell.execute_reply.started": "2024-05-07T06:56:09.495467Z"
    }
   },
   "outputs": [],
   "source": [
    "k200_df_mask"
   ]
  },
  {
   "cell_type": "code",
   "execution_count": null,
   "id": "e0c819f8-91aa-4922-a203-a1eabb6fcf17",
   "metadata": {
    "execution": {
     "iopub.status.busy": "2024-05-07T06:56:09.497352Z",
     "iopub.status.idle": "2024-05-07T06:56:09.497881Z",
     "shell.execute_reply": "2024-05-07T06:56:09.497638Z",
     "shell.execute_reply.started": "2024-05-07T06:56:09.497614Z"
    }
   },
   "outputs": [],
   "source": [
    "temp_samw=sam_w[sam_w.index.get_level_values(0).isin(temp_k200_df.index.get_level_values(0))]['idx_weight']\n",
    "temp_samw.index=temp_samw.index.get_level_values(0)"
   ]
  },
  {
   "cell_type": "code",
   "execution_count": null,
   "id": "d234c0bd-2d35-4df8-8dcf-9cff59251718",
   "metadata": {
    "execution": {
     "iopub.status.busy": "2024-05-07T06:56:09.499461Z",
     "iopub.status.idle": "2024-05-07T06:56:09.500230Z",
     "shell.execute_reply": "2024-05-07T06:56:09.499977Z",
     "shell.execute_reply.started": "2024-05-07T06:56:09.499953Z"
    }
   },
   "outputs": [],
   "source": [
    "temp_k200_df['A005930']=temp_samw"
   ]
  },
  {
   "cell_type": "code",
   "execution_count": null,
   "id": "59df6fae-e0af-4653-96d1-02b7004440f2",
   "metadata": {
    "execution": {
     "iopub.status.busy": "2024-05-07T06:56:09.501794Z",
     "iopub.status.idle": "2024-05-07T06:56:09.502516Z",
     "shell.execute_reply": "2024-05-07T06:56:09.502262Z",
     "shell.execute_reply.started": "2024-05-07T06:56:09.502237Z"
    }
   },
   "outputs": [],
   "source": [
    "k200_df_mask.sum(1)"
   ]
  },
  {
   "cell_type": "code",
   "execution_count": null,
   "id": "2c530807-0190-429d-b581-872d5a20a21f",
   "metadata": {
    "execution": {
     "iopub.status.busy": "2024-05-07T06:56:09.504016Z",
     "iopub.status.idle": "2024-05-07T06:56:09.504637Z",
     "shell.execute_reply": "2024-05-07T06:56:09.504388Z",
     "shell.execute_reply.started": "2024-05-07T06:56:09.504364Z"
    }
   },
   "outputs": [],
   "source": [
    "extra_weight=(100-temp_k200_df.sum(1))/k200_df_mask.sum(1)"
   ]
  },
  {
   "cell_type": "code",
   "execution_count": null,
   "id": "349d41c0-1aca-443c-9f29-4aae21d07620",
   "metadata": {
    "execution": {
     "iopub.status.busy": "2024-05-07T06:56:09.506316Z",
     "iopub.status.idle": "2024-05-07T06:56:09.507054Z",
     "shell.execute_reply": "2024-05-07T06:56:09.506799Z",
     "shell.execute_reply.started": "2024-05-07T06:56:09.506775Z"
    }
   },
   "outputs": [],
   "source": [
    "temp_k200_df"
   ]
  },
  {
   "cell_type": "code",
   "execution_count": null,
   "id": "638b2d92-174a-4b02-be3f-a396aef916a3",
   "metadata": {
    "execution": {
     "iopub.status.busy": "2024-05-07T06:56:09.508412Z",
     "iopub.status.idle": "2024-05-07T06:56:09.509153Z",
     "shell.execute_reply": "2024-05-07T06:56:09.508879Z",
     "shell.execute_reply.started": "2024-05-07T06:56:09.508854Z"
    }
   },
   "outputs": [],
   "source": [
    "k200_mask_weight=k200_df_mask.multiply(extra_weight, axis=0)"
   ]
  },
  {
   "cell_type": "code",
   "execution_count": null,
   "id": "bfe43818-ccd0-409d-9d53-50a992ee7bf6",
   "metadata": {
    "execution": {
     "iopub.status.busy": "2024-05-07T06:56:09.510510Z",
     "iopub.status.idle": "2024-05-07T06:56:09.511134Z",
     "shell.execute_reply": "2024-05-07T06:56:09.510885Z",
     "shell.execute_reply.started": "2024-05-07T06:56:09.510861Z"
    }
   },
   "outputs": [],
   "source": [
    "k200_df_mkw=(k200_mask_weight.fillna(0) + temp_k200_df)"
   ]
  },
  {
   "cell_type": "code",
   "execution_count": null,
   "id": "1bdc8349-5cf4-4166-a534-9a6a79f5d18f",
   "metadata": {},
   "outputs": [],
   "source": []
  },
  {
   "cell_type": "code",
   "execution_count": null,
   "id": "fd6c52ac-d12b-4b02-8cea-5facd53a27c6",
   "metadata": {},
   "outputs": [],
   "source": []
  },
  {
   "cell_type": "code",
   "execution_count": null,
   "id": "ee29d08a-ec6e-4f96-b9aa-4f808aab341b",
   "metadata": {
    "execution": {
     "iopub.status.busy": "2024-05-07T06:56:09.512803Z",
     "iopub.status.idle": "2024-05-07T06:56:09.513509Z",
     "shell.execute_reply": "2024-05-07T06:56:09.513254Z",
     "shell.execute_reply.started": "2024-05-07T06:56:09.513230Z"
    }
   },
   "outputs": [],
   "source": [
    "def convert_rebal_to_daily(rebal_weight, daily_df):   \n",
    "    daily_w=daily_df.loc[rebal_weight.index[0]:rebal_weight.index[-1], rebal_weight.columns].copy()\n",
    "    daily_w.loc[rebal_weight.index]=0\n",
    "    daily_w[daily_w!=0]=None\n",
    "    daily_w.loc[rebal_weight.index]=rebal_weight.fillna(0)\n",
    "    daily_w=daily_w.fillna(method='ffill')    \n",
    "    return daily_w"
   ]
  },
  {
   "cell_type": "code",
   "execution_count": null,
   "id": "883573f1-413e-4087-9c06-592f458e1a10",
   "metadata": {
    "execution": {
     "iopub.status.busy": "2024-05-07T06:56:09.514995Z",
     "iopub.status.idle": "2024-05-07T06:56:09.515620Z",
     "shell.execute_reply": "2024-05-07T06:56:09.515352Z",
     "shell.execute_reply.started": "2024-05-07T06:56:09.515329Z"
    },
    "tags": []
   },
   "outputs": [],
   "source": [
    "k200_weight_df=pd.concat(k200_weight_ls, axis=1).T\n",
    "# temp_adj=adjprc.loc[k200_weight_df.index[0]:k200_weight_df.index[-1], k200_weight_df.columns].copy()\n",
    "# k200_daily_w=temp_adj.copy()\n",
    "# k200_daily_w.loc[k200_weight_df.index]=0\n",
    "# k200_daily_w[k200_daily_w!=0]=None\n",
    "# k200_daily_w.loc[k200_weight_df.index]=k200_weight_df.fillna(0)\n",
    "# k200_daily_w=k200_daily_w.fillna(method='ffill')"
   ]
  },
  {
   "cell_type": "code",
   "execution_count": null,
   "id": "f79a2984-6002-4e12-8f6c-d081e880b1c8",
   "metadata": {
    "execution": {
     "iopub.status.busy": "2024-05-07T06:56:09.517395Z",
     "iopub.status.idle": "2024-05-07T06:56:09.518261Z",
     "shell.execute_reply": "2024-05-07T06:56:09.518007Z",
     "shell.execute_reply.started": "2024-05-07T06:56:09.517983Z"
    }
   },
   "outputs": [],
   "source": [
    "k200_daily_w=convert_rebal_to_daily(k200_weight_df, adjprc)\n",
    "k200_daily_mkw=convert_rebal_to_daily(k200_df_mkw/100, adjprc)"
   ]
  },
  {
   "cell_type": "code",
   "execution_count": null,
   "id": "1f43b65e-06ae-464a-804b-62cb57ddc7f0",
   "metadata": {
    "execution": {
     "iopub.status.busy": "2024-05-07T06:56:09.519487Z",
     "iopub.status.idle": "2024-05-07T06:56:09.520296Z",
     "shell.execute_reply": "2024-05-07T06:56:09.520040Z",
     "shell.execute_reply.started": "2024-05-07T06:56:09.520016Z"
    },
    "tags": []
   },
   "outputs": [],
   "source": [
    "k200_daily_w.sum(1).plot()"
   ]
  },
  {
   "cell_type": "code",
   "execution_count": null,
   "id": "993a6cc3-001b-4d26-b9ba-161680e69b7d",
   "metadata": {
    "execution": {
     "iopub.status.busy": "2024-05-07T06:56:09.521786Z",
     "iopub.status.idle": "2024-05-07T06:56:09.522399Z",
     "shell.execute_reply": "2024-05-07T06:56:09.522147Z",
     "shell.execute_reply.started": "2024-05-07T06:56:09.522122Z"
    }
   },
   "outputs": [],
   "source": [
    "k200_daily_mkw.sum(1).plot()"
   ]
  },
  {
   "cell_type": "code",
   "execution_count": null,
   "id": "08f1fb6b-d16d-477b-a5d1-89ad0b216055",
   "metadata": {
    "execution": {
     "iopub.status.busy": "2024-05-07T06:56:09.524074Z",
     "iopub.status.idle": "2024-05-07T06:56:09.524630Z",
     "shell.execute_reply": "2024-05-07T06:56:09.524378Z",
     "shell.execute_reply.started": "2024-05-07T06:56:09.524354Z"
    }
   },
   "outputs": [],
   "source": [
    "k200_daily_w.columns"
   ]
  },
  {
   "cell_type": "code",
   "execution_count": null,
   "id": "4096c8b0-cb18-49cc-bd3f-381fab322021",
   "metadata": {
    "execution": {
     "iopub.status.busy": "2024-05-07T06:56:09.526183Z",
     "iopub.status.idle": "2024-05-07T06:56:09.526828Z",
     "shell.execute_reply": "2024-05-07T06:56:09.526578Z",
     "shell.execute_reply.started": "2024-05-07T06:56:09.526553Z"
    }
   },
   "outputs": [],
   "source": [
    "k200_daily_w['A005930'].plot()"
   ]
  },
  {
   "cell_type": "code",
   "execution_count": null,
   "id": "027b67ca-f0f2-432b-9723-177b4e7f07ca",
   "metadata": {
    "execution": {
     "iopub.status.busy": "2024-05-07T06:56:09.528655Z",
     "iopub.status.idle": "2024-05-07T06:56:09.529207Z",
     "shell.execute_reply": "2024-05-07T06:56:09.528957Z",
     "shell.execute_reply.started": "2024-05-07T06:56:09.528933Z"
    },
    "tags": []
   },
   "outputs": [],
   "source": [
    "idx_ret, idx_ret_cost, idx_cum_ret, idx_cum_retcost = perf.return_index(adjprc.loc[k200_daily_w.index, k200_daily_w.columns], \n",
    "                                                                        k200_daily_w.shift(1),\n",
    "                                                                        cost=0.00)\n",
    "pd.concat([idx_cum_retcost, (1+krx_idx['코스피 200'].pct_change().loc[k200_daily_w.index]).cumprod()], axis=1).plot()"
   ]
  },
  {
   "cell_type": "code",
   "execution_count": null,
   "id": "39180e6a-56b0-459e-906b-431d2ea5b53a",
   "metadata": {
    "execution": {
     "iopub.status.busy": "2024-05-07T06:56:09.530723Z",
     "iopub.status.idle": "2024-05-07T06:56:09.531342Z",
     "shell.execute_reply": "2024-05-07T06:56:09.531094Z",
     "shell.execute_reply.started": "2024-05-07T06:56:09.531070Z"
    }
   },
   "outputs": [],
   "source": [
    "temp_perf200 = perf.analyze_performance(idx_ret_cost, \n",
    "                                     model_name = 'k200',\n",
    "                                     bm_return=krx_idx['코스피 200'].pct_change().loc[k200_daily_w.index])\n",
    "\n",
    "temp_perf200.T"
   ]
  },
  {
   "cell_type": "code",
   "execution_count": null,
   "id": "04976bce-b63e-47ac-8ebf-473e5b4942b6",
   "metadata": {
    "execution": {
     "iopub.status.busy": "2024-05-07T06:56:09.533161Z",
     "iopub.status.idle": "2024-05-07T06:56:09.533696Z",
     "shell.execute_reply": "2024-05-07T06:56:09.533446Z",
     "shell.execute_reply.started": "2024-05-07T06:56:09.533424Z"
    }
   },
   "outputs": [],
   "source": [
    "k200_daily_mkw"
   ]
  },
  {
   "cell_type": "code",
   "execution_count": null,
   "id": "422894c6-0efa-4b09-b94b-88e38596a1f8",
   "metadata": {
    "execution": {
     "iopub.status.busy": "2024-05-07T06:56:09.535102Z",
     "iopub.status.idle": "2024-05-07T06:56:09.535728Z",
     "shell.execute_reply": "2024-05-07T06:56:09.535475Z",
     "shell.execute_reply.started": "2024-05-07T06:56:09.535451Z"
    }
   },
   "outputs": [],
   "source": [
    "idx_ret, idx_ret_cost, idx_cum_ret, idx_cum_retcost = perf.return_index(adjprc.loc[k200_daily_mkw.index, \n",
    "                                                                                    k200_daily_mkw.columns], \n",
    "                                                                        k200_daily_mkw.shift(1),\n",
    "                                                                        cost=0.00)\n",
    "pd.concat([idx_cum_retcost, (1+krx_idx['코스피 200'].pct_change().loc[k200_daily_mkw.index]).cumprod()], axis=1).plot()"
   ]
  },
  {
   "cell_type": "code",
   "execution_count": null,
   "id": "199a31b4-7195-43c4-8987-14767c31c478",
   "metadata": {
    "execution": {
     "iopub.status.busy": "2024-05-07T06:56:09.537361Z",
     "iopub.status.idle": "2024-05-07T06:56:09.537895Z",
     "shell.execute_reply": "2024-05-07T06:56:09.537649Z",
     "shell.execute_reply.started": "2024-05-07T06:56:09.537626Z"
    }
   },
   "outputs": [],
   "source": [
    "temp_perf200 = perf.analyze_performance(idx_ret_cost, \n",
    "                                     model_name = 'k200',\n",
    "                                     bm_return=krx_idx['코스피 200'].pct_change().loc[k200_daily_mkw.index])\n",
    "\n",
    "temp_perf200.T"
   ]
  },
  {
   "cell_type": "code",
   "execution_count": null,
   "id": "f60b7479-c566-49a3-b48a-139948aec862",
   "metadata": {},
   "outputs": [],
   "source": []
  },
  {
   "cell_type": "code",
   "execution_count": null,
   "id": "ad27d3d1-0479-4e0e-9d40-e7e51823119f",
   "metadata": {},
   "outputs": [],
   "source": []
  },
  {
   "cell_type": "code",
   "execution_count": null,
   "id": "d3dc92b4-bd34-4722-beb0-05dbccff660d",
   "metadata": {},
   "outputs": [],
   "source": []
  },
  {
   "cell_type": "code",
   "execution_count": null,
   "id": "85971129-3d93-4e70-84b0-8512642e1ab8",
   "metadata": {},
   "outputs": [],
   "source": []
  },
  {
   "cell_type": "markdown",
   "id": "70b94481-bfa5-4bd7-9ae9-48f926969cca",
   "metadata": {},
   "source": [
    "## k100 ew with samsung neutral"
   ]
  },
  {
   "cell_type": "code",
   "execution_count": null,
   "id": "3501bb33-66d9-4cbe-a578-f540a81b9978",
   "metadata": {
    "execution": {
     "iopub.status.busy": "2024-05-07T06:56:09.539441Z",
     "iopub.status.idle": "2024-05-07T06:56:09.540287Z",
     "shell.execute_reply": "2024-05-07T06:56:09.540035Z",
     "shell.execute_reply.started": "2024-05-07T06:56:09.540011Z"
    },
    "tags": []
   },
   "outputs": [],
   "source": [
    "top_prob_k100_unstack=top_prob_k100_df.unstack().copy()\n",
    "top_prob_k100_unstack.columns=top_prob_k100_unstack.columns.get_level_values(1)\n",
    "\n",
    "k100_weight_ls=[]\n",
    "for date in rebal_dates:\n",
    "    temp_top_prob=top_prob_k100_unstack.loc[date].copy()\n",
    "    ew_sum=1-sam_w.loc[date, 'idx_weight'].values/100\n",
    "    \n",
    "    # if samsung is in the top then add additional weight to idx weight\n",
    "    if 'A005930' in temp_top_prob.index:\n",
    "        temp_ew=ew_sum/num_selection_k100\n",
    "        temp_top_prob[temp_top_prob>0]=temp_ew[0]\n",
    "        temp_top_prob.loc['A005930']=sam_w.loc[date, 'idx_weight'].values/100+temp_ew[0]\n",
    "    else:\n",
    "        temp_ew=ew_sum/(num_selection_k100+1)\n",
    "        temp_top_prob.loc['A005930']=sam_w.loc[date, 'idx_weight'].values/100\n",
    "        \n",
    "    k100_weight_ls.append(temp_top_prob)    \n",
    "        "
   ]
  },
  {
   "cell_type": "code",
   "execution_count": null,
   "id": "81996ace-4c7d-4835-aee5-a53f5eb4091e",
   "metadata": {
    "execution": {
     "iopub.status.busy": "2024-05-07T06:56:09.541869Z",
     "iopub.status.idle": "2024-05-07T06:56:09.542702Z",
     "shell.execute_reply": "2024-05-07T06:56:09.542448Z",
     "shell.execute_reply.started": "2024-05-07T06:56:09.542423Z"
    },
    "tags": []
   },
   "outputs": [],
   "source": [
    "k100_weight_df=pd.concat(k100_weight_ls, axis=1).T\n",
    "temp_adj=adjprc.loc[k100_weight_df.index[0]:k100_weight_df.index[-1], k100_weight_df.columns].copy()\n",
    "k100_daily_w=temp_adj.copy()\n",
    "k100_daily_w.loc[k100_weight_df.index]=0\n",
    "k100_daily_w[k100_daily_w!=0]=None\n",
    "k100_daily_w.loc[k100_weight_df.index]=k100_weight_df.fillna(0)\n",
    "k100_daily_w=k100_daily_w.fillna(method='ffill')"
   ]
  },
  {
   "cell_type": "code",
   "execution_count": null,
   "id": "efb56477-e5bf-45a6-93a5-952d6c05404d",
   "metadata": {
    "execution": {
     "iopub.status.busy": "2024-05-07T06:56:09.543936Z",
     "iopub.status.idle": "2024-05-07T06:56:09.544553Z",
     "shell.execute_reply": "2024-05-07T06:56:09.544305Z",
     "shell.execute_reply.started": "2024-05-07T06:56:09.544281Z"
    },
    "tags": []
   },
   "outputs": [],
   "source": [
    "k100_weight_df.count(1)"
   ]
  },
  {
   "cell_type": "code",
   "execution_count": null,
   "id": "62ecf93b-3c17-47b2-ad35-c359f0e73718",
   "metadata": {
    "execution": {
     "iopub.status.busy": "2024-05-07T06:56:09.546288Z",
     "iopub.status.idle": "2024-05-07T06:56:09.547163Z",
     "shell.execute_reply": "2024-05-07T06:56:09.546911Z",
     "shell.execute_reply.started": "2024-05-07T06:56:09.546886Z"
    },
    "tags": []
   },
   "outputs": [],
   "source": [
    "k100_ret, k100_ret_cost, k100_cum_ret, k100_cum_retcost = perf.return_index(temp_adj, \n",
    "                                                                        k100_daily_w.shift(1),\n",
    "                                                                        cost=0.003)"
   ]
  },
  {
   "cell_type": "code",
   "execution_count": null,
   "id": "1969da5d-daf3-424e-a137-89775ca2bcea",
   "metadata": {},
   "outputs": [],
   "source": []
  },
  {
   "cell_type": "code",
   "execution_count": null,
   "id": "eb8b8fe3-4fd8-40f6-b857-83dcac7ea824",
   "metadata": {},
   "outputs": [],
   "source": []
  },
  {
   "cell_type": "code",
   "execution_count": null,
   "id": "5d72515e-78be-4bc2-bafd-b0f0365f084a",
   "metadata": {},
   "outputs": [],
   "source": []
  },
  {
   "cell_type": "markdown",
   "id": "ff99eec0-13e5-4f48-9744-18ce4e147467",
   "metadata": {},
   "source": [
    "### 75 ew/ 100"
   ]
  },
  {
   "cell_type": "code",
   "execution_count": null,
   "id": "d2a998fc-02e5-4998-a8c1-64e78f85082a",
   "metadata": {
    "execution": {
     "iopub.status.busy": "2024-05-07T06:56:09.548394Z",
     "iopub.status.idle": "2024-05-07T06:56:09.549032Z",
     "shell.execute_reply": "2024-05-07T06:56:09.548765Z",
     "shell.execute_reply.started": "2024-05-07T06:56:09.548742Z"
    },
    "tags": []
   },
   "outputs": [],
   "source": [
    "pd.concat([k100_cum_retcost, (1+krx_idx['코스피 200'].pct_change().loc[k100_daily_w.index]).cumprod()], axis=1).plot()"
   ]
  },
  {
   "cell_type": "code",
   "execution_count": null,
   "id": "de14c0d4-0cb8-4dc0-b1f8-2c43682fb36b",
   "metadata": {
    "execution": {
     "iopub.status.busy": "2024-05-07T06:56:09.550653Z",
     "iopub.status.idle": "2024-05-07T06:56:09.551514Z",
     "shell.execute_reply": "2024-05-07T06:56:09.551257Z",
     "shell.execute_reply.started": "2024-05-07T06:56:09.551233Z"
    },
    "tags": []
   },
   "outputs": [],
   "source": [
    "temp_perf75 = perf.analyze_performance(k100_ret_cost, \n",
    "                                     model_name = 'k100_75',\n",
    "                                     bm_return=krx_idx['코스피 200'].pct_change().loc[k100_daily_w.index])\n",
    "\n"
   ]
  },
  {
   "cell_type": "code",
   "execution_count": null,
   "id": "41a0db68-71c0-4e4e-8843-12a402abf80c",
   "metadata": {
    "execution": {
     "iopub.status.busy": "2024-05-07T06:56:09.554512Z",
     "iopub.status.idle": "2024-05-07T06:56:09.555244Z",
     "shell.execute_reply": "2024-05-07T06:56:09.554986Z",
     "shell.execute_reply.started": "2024-05-07T06:56:09.554962Z"
    }
   },
   "outputs": [],
   "source": [
    "temp_perf75.T"
   ]
  },
  {
   "cell_type": "markdown",
   "id": "75c60a5c-ca04-4664-9a59-7235ba563367",
   "metadata": {},
   "source": [
    "### 50 ew / 100"
   ]
  },
  {
   "cell_type": "code",
   "execution_count": null,
   "id": "d80abc30-ff1f-49ef-bac6-e8963474f823",
   "metadata": {
    "execution": {
     "iopub.status.busy": "2024-05-07T06:56:09.557097Z",
     "iopub.status.idle": "2024-05-07T06:56:09.557634Z",
     "shell.execute_reply": "2024-05-07T06:56:09.557385Z",
     "shell.execute_reply.started": "2024-05-07T06:56:09.557362Z"
    },
    "tags": []
   },
   "outputs": [],
   "source": [
    "pd.concat([k100_cum_retcost, (1+krx_idx['코스피 200'].pct_change().loc[k100_daily_w.index]).cumprod()], axis=1).plot()"
   ]
  },
  {
   "cell_type": "code",
   "execution_count": null,
   "id": "0bdb1d06-1fc1-4507-a6a4-572345c403c3",
   "metadata": {
    "execution": {
     "iopub.status.busy": "2024-05-07T06:56:09.559150Z",
     "iopub.status.idle": "2024-05-07T06:56:09.559779Z",
     "shell.execute_reply": "2024-05-07T06:56:09.559526Z",
     "shell.execute_reply.started": "2024-05-07T06:56:09.559503Z"
    },
    "tags": []
   },
   "outputs": [],
   "source": [
    "temp_perf50 = perf.analyze_performance(k100_ret_cost, \n",
    "                                     model_name = 'k100_50',\n",
    "                                     bm_return=krx_idx['코스피 200'].pct_change().loc[k100_daily_w.index])\n",
    "\n",
    "temp_perf50"
   ]
  },
  {
   "cell_type": "code",
   "execution_count": null,
   "id": "fb5c49cc-042f-4c3e-a851-e15a7a845f74",
   "metadata": {},
   "outputs": [],
   "source": []
  },
  {
   "cell_type": "markdown",
   "id": "263bc6e8-169a-4091-869f-2d5755349a1d",
   "metadata": {},
   "source": [
    "### 100 ew /100"
   ]
  },
  {
   "cell_type": "code",
   "execution_count": null,
   "id": "422f1d58-d528-408f-811a-766c47e9711b",
   "metadata": {
    "execution": {
     "iopub.status.busy": "2024-05-07T06:56:09.561362Z",
     "iopub.status.idle": "2024-05-07T06:56:09.562031Z",
     "shell.execute_reply": "2024-05-07T06:56:09.561774Z",
     "shell.execute_reply.started": "2024-05-07T06:56:09.561750Z"
    },
    "tags": []
   },
   "outputs": [],
   "source": [
    "pd.concat([k100_cum_retcost, (1+krx_idx['코스피 200'].pct_change().loc[k100_daily_w.index]).cumprod()], axis=1).plot()"
   ]
  },
  {
   "cell_type": "code",
   "execution_count": null,
   "id": "085d29d6-acbc-4a81-abc4-a9ddda98ee97",
   "metadata": {
    "execution": {
     "iopub.status.busy": "2024-05-07T06:56:09.563636Z",
     "iopub.status.idle": "2024-05-07T06:56:09.564227Z",
     "shell.execute_reply": "2024-05-07T06:56:09.563973Z",
     "shell.execute_reply.started": "2024-05-07T06:56:09.563948Z"
    },
    "tags": []
   },
   "outputs": [],
   "source": [
    "temp_perf100 = perf.analyze_performance(k100_ret_cost, \n",
    "                                     model_name = 'k100_100',\n",
    "                                     bm_return=krx_idx['코스피 200'].pct_change().loc[k100_daily_w.index])\n",
    "temp_perf100"
   ]
  },
  {
   "cell_type": "code",
   "execution_count": null,
   "id": "261f8ffa-c9e5-4d9c-8093-6885d81ede3f",
   "metadata": {},
   "outputs": [],
   "source": []
  },
  {
   "cell_type": "markdown",
   "id": "167cfd5b-9219-4e78-b692-a6ac35ada092",
   "metadata": {
    "tags": []
   },
   "source": [
    "### 30 ew / 100"
   ]
  },
  {
   "cell_type": "code",
   "execution_count": null,
   "id": "ab6cd26f-a70f-447f-ba15-268a9a534702",
   "metadata": {
    "execution": {
     "iopub.status.busy": "2024-05-07T06:56:09.565633Z",
     "iopub.status.idle": "2024-05-07T06:56:09.566310Z",
     "shell.execute_reply": "2024-05-07T06:56:09.566054Z",
     "shell.execute_reply.started": "2024-05-07T06:56:09.566031Z"
    },
    "tags": []
   },
   "outputs": [],
   "source": [
    "pd.concat([k100_cum_retcost, (1+krx_idx['코스피 200'].pct_change().loc[k100_daily_w.index]).cumprod()], axis=1).plot()"
   ]
  },
  {
   "cell_type": "code",
   "execution_count": null,
   "id": "b16d67d1-2060-4efe-8e3a-fa03b297adc9",
   "metadata": {
    "execution": {
     "iopub.status.busy": "2024-05-07T06:56:09.568126Z",
     "iopub.status.idle": "2024-05-07T06:56:09.568988Z",
     "shell.execute_reply": "2024-05-07T06:56:09.568722Z",
     "shell.execute_reply.started": "2024-05-07T06:56:09.568697Z"
    },
    "tags": []
   },
   "outputs": [],
   "source": [
    "temp_perf30 = perf.analyze_performance(k100_ret_cost, \n",
    "                                     model_name = 'k100_30',\n",
    "                                     bm_return=krx_idx['코스피 200'].pct_change().loc[k100_daily_w.index])\n",
    "\n",
    "temp_perf30"
   ]
  },
  {
   "cell_type": "code",
   "execution_count": null,
   "id": "84d85803-0653-4a51-9f80-0d048a4e88f5",
   "metadata": {},
   "outputs": [],
   "source": []
  },
  {
   "cell_type": "code",
   "execution_count": null,
   "id": "6c331bc3-2582-45e8-b339-e3d49b215940",
   "metadata": {
    "execution": {
     "iopub.status.busy": "2024-05-07T06:56:09.570249Z",
     "iopub.status.idle": "2024-05-07T06:56:09.570875Z",
     "shell.execute_reply": "2024-05-07T06:56:09.570625Z",
     "shell.execute_reply.started": "2024-05-07T06:56:09.570601Z"
    },
    "tags": []
   },
   "outputs": [],
   "source": [
    "pd.concat([temp_perf30, temp_perf50, temp_perf75, temp_perf100], axis=0).T"
   ]
  },
  {
   "cell_type": "code",
   "execution_count": null,
   "id": "b17276c4-be03-48ba-a7d9-d314d1b4a408",
   "metadata": {},
   "outputs": [],
   "source": []
  },
  {
   "cell_type": "code",
   "execution_count": null,
   "id": "99f8ce97-994f-43cf-a2a4-ffc0c868d756",
   "metadata": {},
   "outputs": [],
   "source": []
  },
  {
   "cell_type": "code",
   "execution_count": null,
   "id": "8f2b7750-12a1-470f-949a-3273907472a2",
   "metadata": {
    "execution": {
     "iopub.status.busy": "2024-05-07T06:56:09.572368Z",
     "iopub.status.idle": "2024-05-07T06:56:09.572997Z",
     "shell.execute_reply": "2024-05-07T06:56:09.572728Z",
     "shell.execute_reply.started": "2024-05-07T06:56:09.572704Z"
    },
    "tags": []
   },
   "outputs": [],
   "source": [
    "sector in temp_sector_cap_prob['FG_Sector_Idx'].unique()"
   ]
  },
  {
   "cell_type": "code",
   "execution_count": null,
   "id": "f60eece4-28e4-4a5a-8d6f-c197bad4eec8",
   "metadata": {
    "execution": {
     "iopub.status.busy": "2024-05-07T06:56:09.574714Z",
     "iopub.status.idle": "2024-05-07T06:56:09.575562Z",
     "shell.execute_reply": "2024-05-07T06:56:09.575307Z",
     "shell.execute_reply.started": "2024-05-07T06:56:09.575281Z"
    },
    "tags": []
   },
   "outputs": [],
   "source": [
    "temp_bm_sector=bm_sector.loc[date]\n",
    "temp_bm_sector[temp_bm_sector['FG_Sector_Idx']==sector]"
   ]
  },
  {
   "cell_type": "code",
   "execution_count": null,
   "id": "b1cc9491-5d89-44ad-be37-87dc62f36280",
   "metadata": {
    "execution": {
     "iopub.status.busy": "2024-05-07T06:56:09.576839Z",
     "iopub.status.idle": "2024-05-07T06:56:09.577478Z",
     "shell.execute_reply": "2024-05-07T06:56:09.577229Z",
     "shell.execute_reply.started": "2024-05-07T06:56:09.577205Z"
    },
    "tags": []
   },
   "outputs": [],
   "source": [
    "temp_bm_sector.index"
   ]
  },
  {
   "cell_type": "code",
   "execution_count": null,
   "id": "b5cecf1c-d491-4460-809d-baa9e9fc54c6",
   "metadata": {
    "execution": {
     "iopub.status.busy": "2024-05-07T06:56:09.579172Z",
     "iopub.status.idle": "2024-05-07T06:56:09.579789Z",
     "shell.execute_reply": "2024-05-07T06:56:09.579534Z",
     "shell.execute_reply.started": "2024-05-07T06:56:09.579510Z"
    },
    "tags": []
   },
   "outputs": [],
   "source": [
    "missing_sector=temp_mktcap[temp_mktcap['FG_Sector_Idx']==sector].loc[date, 'MktCap']\n",
    "missing_sector/missing_sector.sum()"
   ]
  },
  {
   "cell_type": "code",
   "execution_count": null,
   "id": "0ed20d42-35e2-49cf-9063-6da9ec5227d7",
   "metadata": {
    "execution": {
     "iopub.status.busy": "2024-05-07T06:56:09.581086Z",
     "iopub.status.idle": "2024-05-07T06:56:09.581614Z",
     "shell.execute_reply": "2024-05-07T06:56:09.581368Z",
     "shell.execute_reply.started": "2024-05-07T06:56:09.581345Z"
    },
    "tags": []
   },
   "outputs": [],
   "source": [
    "temp_mktcap.loc[date][temp_bm_sector.index]"
   ]
  },
  {
   "cell_type": "code",
   "execution_count": null,
   "id": "e4e956e6-13d9-4545-b1ea-964a6ed6994f",
   "metadata": {
    "execution": {
     "iopub.status.busy": "2024-05-07T06:56:09.583223Z",
     "iopub.status.idle": "2024-05-07T06:56:09.583751Z",
     "shell.execute_reply": "2024-05-07T06:56:09.583503Z",
     "shell.execute_reply.started": "2024-05-07T06:56:09.583480Z"
    },
    "tags": []
   },
   "outputs": [],
   "source": [
    "temp_bm_sector.index"
   ]
  },
  {
   "cell_type": "code",
   "execution_count": null,
   "id": "276b8a62-1638-44aa-9abf-a468f9ab525a",
   "metadata": {
    "execution": {
     "iopub.status.busy": "2024-05-07T06:56:09.585921Z",
     "iopub.status.idle": "2024-05-07T06:56:09.586552Z",
     "shell.execute_reply": "2024-05-07T06:56:09.586303Z",
     "shell.execute_reply.started": "2024-05-07T06:56:09.586278Z"
    },
    "tags": []
   },
   "outputs": [],
   "source": [
    "daily_sector_weight"
   ]
  },
  {
   "cell_type": "code",
   "execution_count": null,
   "id": "4560d6a7-01b6-44d5-94ef-8ea000386e26",
   "metadata": {},
   "outputs": [],
   "source": []
  },
  {
   "cell_type": "code",
   "execution_count": null,
   "id": "f107b4a9-6594-4a4a-bb28-68a436b236b4",
   "metadata": {},
   "outputs": [],
   "source": []
  },
  {
   "cell_type": "code",
   "execution_count": null,
   "id": "2a1cedd2-e661-4503-a8ea-7a5b9b87dfdc",
   "metadata": {
    "execution": {
     "iopub.status.busy": "2024-05-07T06:56:09.588333Z",
     "iopub.status.idle": "2024-05-07T06:56:09.588971Z",
     "shell.execute_reply": "2024-05-07T06:56:09.588707Z",
     "shell.execute_reply.started": "2024-05-07T06:56:09.588682Z"
    }
   },
   "outputs": [],
   "source": [
    "temp_sector_neutral"
   ]
  },
  {
   "cell_type": "code",
   "execution_count": null,
   "id": "8ccf4e83-725f-4c08-be59-68af38668ca1",
   "metadata": {
    "execution": {
     "iopub.status.busy": "2024-05-07T06:56:09.590734Z",
     "iopub.status.idle": "2024-05-07T06:56:09.591267Z",
     "shell.execute_reply": "2024-05-07T06:56:09.591021Z",
     "shell.execute_reply.started": "2024-05-07T06:56:09.590998Z"
    },
    "tags": []
   },
   "outputs": [],
   "source": [
    "cap_prob_df.index.get_level_values(0).unique()"
   ]
  },
  {
   "cell_type": "code",
   "execution_count": null,
   "id": "2f249ad7-ed99-42af-9bd6-08fea6518e75",
   "metadata": {
    "execution": {
     "iopub.status.busy": "2024-05-07T06:56:09.592546Z",
     "iopub.status.idle": "2024-05-07T06:56:09.593091Z",
     "shell.execute_reply": "2024-05-07T06:56:09.592828Z",
     "shell.execute_reply.started": "2024-05-07T06:56:09.592805Z"
    },
    "tags": []
   },
   "outputs": [],
   "source": [
    "cap_prob_df[cap_prob_df.index.get_level_values(0)==date]"
   ]
  },
  {
   "cell_type": "code",
   "execution_count": null,
   "id": "f78ad4cc-8937-4aac-b50f-3f0bd7fdd4e5",
   "metadata": {
    "tags": []
   },
   "outputs": [],
   "source": []
  },
  {
   "cell_type": "code",
   "execution_count": null,
   "id": "97fbfdd6-b501-4f21-a79e-8b5c5922eed6",
   "metadata": {},
   "outputs": [],
   "source": []
  },
  {
   "cell_type": "code",
   "execution_count": null,
   "id": "9835455c-2b87-44cc-bb92-06c3c4c94aae",
   "metadata": {},
   "outputs": [],
   "source": []
  }
 ],
 "metadata": {
  "kernelspec": {
   "display_name": "base",
   "language": "python",
   "name": "python3"
  },
  "language_info": {
   "codemirror_mode": {
    "name": "ipython",
    "version": 3
   },
   "file_extension": ".py",
   "mimetype": "text/x-python",
   "name": "python",
   "nbconvert_exporter": "python",
   "pygments_lexer": "ipython3",
   "version": "3.11.4"
  }
 },
 "nbformat": 4,
 "nbformat_minor": 5
}
