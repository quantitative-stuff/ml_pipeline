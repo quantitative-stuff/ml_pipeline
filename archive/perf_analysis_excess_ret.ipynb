{
 "cells": [
  {
   "cell_type": "code",
   "execution_count": 1,
   "id": "524adb09-f3d1-4d2b-87a1-a79eb5a3a0a1",
   "metadata": {
    "execution": {
     "iopub.execute_input": "2023-11-08T06:09:23.542866Z",
     "iopub.status.busy": "2023-11-08T06:09:23.542396Z",
     "iopub.status.idle": "2023-11-08T06:09:24.009663Z",
     "shell.execute_reply": "2023-11-08T06:09:24.008425Z",
     "shell.execute_reply.started": "2023-11-08T06:09:23.542817Z"
    },
    "tags": []
   },
   "outputs": [],
   "source": [
    "import pandas as pd\n",
    "import numpy as np"
   ]
  },
  {
   "cell_type": "code",
   "execution_count": 2,
   "id": "a858f046-76e1-4587-be82-4e7078b9ac42",
   "metadata": {
    "execution": {
     "iopub.execute_input": "2023-11-08T06:09:24.011347Z",
     "iopub.status.busy": "2023-11-08T06:09:24.010876Z",
     "iopub.status.idle": "2023-11-08T06:09:24.158358Z",
     "shell.execute_reply": "2023-11-08T06:09:24.157133Z",
     "shell.execute_reply.started": "2023-11-08T06:09:24.011317Z"
    },
    "tags": []
   },
   "outputs": [],
   "source": [
    "from sqlalchemy import create_engine, text"
   ]
  },
  {
   "cell_type": "code",
   "execution_count": 3,
   "id": "68ddc0df-ca60-4099-b7fa-1b264a52f247",
   "metadata": {
    "execution": {
     "iopub.execute_input": "2023-11-08T06:09:24.160002Z",
     "iopub.status.busy": "2023-11-08T06:09:24.159614Z",
     "iopub.status.idle": "2023-11-08T06:09:24.165428Z",
     "shell.execute_reply": "2023-11-08T06:09:24.164448Z",
     "shell.execute_reply.started": "2023-11-08T06:09:24.159971Z"
    },
    "tags": []
   },
   "outputs": [],
   "source": [
    "import cx_Oracle\n",
    "import os\n",
    "os.putenv(' NLS_LANG', '.UTF8')"
   ]
  },
  {
   "cell_type": "code",
   "execution_count": 4,
   "id": "bb430120-2843-4a4d-b0a4-c61cf78cb35d",
   "metadata": {
    "execution": {
     "iopub.execute_input": "2023-11-08T06:09:24.168194Z",
     "iopub.status.busy": "2023-11-08T06:09:24.167871Z",
     "iopub.status.idle": "2023-11-08T06:09:25.049081Z",
     "shell.execute_reply": "2023-11-08T06:09:25.047951Z",
     "shell.execute_reply.started": "2023-11-08T06:09:24.168162Z"
    },
    "tags": []
   },
   "outputs": [],
   "source": [
    "# import matplotlib.pyplot as plt\n",
    "from matplotlib import pyplot as plt\n",
    "import seaborn as sns\n"
   ]
  },
  {
   "cell_type": "code",
   "execution_count": null,
   "id": "95371bb3-eac2-425e-9c4c-c1736cf2f4e5",
   "metadata": {},
   "outputs": [],
   "source": [
    "sys.path.append('../py')\n",
    "import data_processing as proc\n",
    "import utils\n",
    "import performance as perf"
   ]
  },
  {
   "cell_type": "code",
   "execution_count": 5,
   "id": "4ed99084-4088-4654-8eab-10d129a8d69d",
   "metadata": {
    "execution": {
     "iopub.execute_input": "2023-11-08T06:09:25.050987Z",
     "iopub.status.busy": "2023-11-08T06:09:25.050587Z",
     "iopub.status.idle": "2023-11-08T06:09:25.069574Z",
     "shell.execute_reply": "2023-11-08T06:09:25.068595Z",
     "shell.execute_reply.started": "2023-11-08T06:09:25.050959Z"
    },
    "tags": []
   },
   "outputs": [],
   "source": [
    "pd.options.plotting.backend = \"plotly\"\n"
   ]
  },
  {
   "cell_type": "code",
   "execution_count": null,
   "id": "5015ffd1-ef93-4941-aa31-dd8886e6fa5a",
   "metadata": {},
   "outputs": [],
   "source": []
  },
  {
   "cell_type": "code",
   "execution_count": 6,
   "id": "8bdfa112-5b71-4084-bb9f-85861534cca1",
   "metadata": {
    "execution": {
     "iopub.execute_input": "2023-11-08T06:09:25.070702Z",
     "iopub.status.busy": "2023-11-08T06:09:25.070463Z",
     "iopub.status.idle": "2023-11-08T06:09:25.106402Z",
     "shell.execute_reply": "2023-11-08T06:09:25.105243Z",
     "shell.execute_reply.started": "2023-11-08T06:09:25.070678Z"
    },
    "tags": []
   },
   "outputs": [],
   "source": [
    "dsn = cx_Oracle.makedsn('192.168.1.5', '1521', service_name = 'ORA11')\n",
    "con = cx_Oracle.connect('dbam', 'dbamkass', dsn = dsn, encoding=\"UTF-8\")\n",
    "cur = con.cursor()"
   ]
  },
  {
   "cell_type": "code",
   "execution_count": 7,
   "id": "ad40b12d-0795-4906-ac4f-eddfcf137bcd",
   "metadata": {
    "execution": {
     "iopub.execute_input": "2023-11-08T06:09:25.108329Z",
     "iopub.status.busy": "2023-11-08T06:09:25.107839Z",
     "iopub.status.idle": "2023-11-08T06:09:32.285964Z",
     "shell.execute_reply": "2023-11-08T06:09:32.284937Z",
     "shell.execute_reply.started": "2023-11-08T06:09:25.108279Z"
    },
    "tags": []
   },
   "outputs": [
    {
     "name": "stderr",
     "output_type": "stream",
     "text": [
      "<ipython-input-7-c380e1fc735c>:15: FutureWarning: In a future version of pandas all arguments of DataFrame.sort_index will be keyword-only.\n",
      "  k200_df=k200_df.sort_index(0)\n"
     ]
    }
   ],
   "source": [
    "sql_k200 = \" select 일자, 종목코드2 종목코드, 종목명_국문 종목명, 당일가격, 지수내비중, 상장주식수, 유동비율, \\\n",
    "            지수주식수, 지수시가총액 \\\n",
    "             from KASS1.TH068 \\\n",
    "             where 익일적용여부 ='NXT' \\\n",
    "             and ISIN = 'KRD020020016' \\\n",
    "             order by 지수내비중 desc \"\n",
    "\n",
    "cur.execute(sql_k200)\n",
    "k200_df = pd.DataFrame(cur.fetchall(), columns = [x[0] for x in cur.description])\n",
    "\n",
    "k200_df['일자']=pd.to_datetime(k200_df['일자'], format ='%Y%m%d')\n",
    "k200_df.set_index(['일자', '종목코드'], inplace=True)\n",
    "k200_df.index.names=['Dates', 'Symbol']\n",
    "k200_df.columns=['name', 'close', 'idx_weight', 'num_shares', 'float_rate', 'idx_num_shares', 'idx_cap']\n",
    "k200_df=k200_df.sort_index(0)"
   ]
  },
  {
   "cell_type": "code",
   "execution_count": null,
   "id": "2c5f4f85-c692-4490-971f-60d480ce7954",
   "metadata": {
    "tags": []
   },
   "outputs": [],
   "source": []
  },
  {
   "cell_type": "code",
   "execution_count": 8,
   "id": "a307e1b5-7722-4299-a076-44b4b0edc861",
   "metadata": {
    "execution": {
     "iopub.execute_input": "2023-11-08T06:09:32.287302Z",
     "iopub.status.busy": "2023-11-08T06:09:32.287036Z",
     "iopub.status.idle": "2023-11-08T06:09:32.345703Z",
     "shell.execute_reply": "2023-11-08T06:09:32.344644Z",
     "shell.execute_reply.started": "2023-11-08T06:09:32.287277Z"
    },
    "tags": []
   },
   "outputs": [],
   "source": [
    "host = '192.168.1.27'\n",
    "port = '3306'\n",
    "db_name = 'quantdb_maria'\n",
    "username = 'quantdb'\n",
    "password = 'QuantDb2023!'\n",
    "\n",
    "engine = create_engine(\"mysql+pymysql://\" + username + \":\" + password + \"@\" + host + \":\" + port + \"/\" + db_name)\n",
    "conn=engine.connect()"
   ]
  },
  {
   "cell_type": "code",
   "execution_count": 9,
   "id": "5b53e096-64c8-406e-9fe7-8b4272ed87b3",
   "metadata": {
    "execution": {
     "iopub.execute_input": "2023-11-08T06:09:32.347280Z",
     "iopub.status.busy": "2023-11-08T06:09:32.346835Z",
     "iopub.status.idle": "2023-11-08T06:09:32.354725Z",
     "shell.execute_reply": "2023-11-08T06:09:32.351291Z",
     "shell.execute_reply.started": "2023-11-08T06:09:32.347250Z"
    },
    "tags": []
   },
   "outputs": [],
   "source": [
    "period1='2023-01-01'\n",
    "period2='2023-10-31'"
   ]
  },
  {
   "cell_type": "code",
   "execution_count": 10,
   "id": "d87bc7af-1ee0-46e6-91cd-eb43169569db",
   "metadata": {
    "execution": {
     "iopub.execute_input": "2023-11-08T06:09:32.356345Z",
     "iopub.status.busy": "2023-11-08T06:09:32.355956Z",
     "iopub.status.idle": "2023-11-08T06:10:02.751835Z",
     "shell.execute_reply": "2023-11-08T06:10:02.750718Z",
     "shell.execute_reply.started": "2023-11-08T06:09:32.356308Z"
    },
    "tags": []
   },
   "outputs": [],
   "source": [
    "\n",
    "query_SSC=f\"select * from SSC_table_Bak where Dates>='{period1}' and Dates<='{period2}'\"\n",
    "data_SSC=pd.read_sql(query_SSC, conn)\n"
   ]
  },
  {
   "cell_type": "code",
   "execution_count": 11,
   "id": "a06df4ef-de65-428c-8204-469f19c1ff7a",
   "metadata": {
    "execution": {
     "iopub.execute_input": "2023-11-08T06:10:02.753149Z",
     "iopub.status.busy": "2023-11-08T06:10:02.752916Z",
     "iopub.status.idle": "2023-11-08T06:10:02.760256Z",
     "shell.execute_reply": "2023-11-08T06:10:02.759410Z",
     "shell.execute_reply.started": "2023-11-08T06:10:02.753127Z"
    },
    "tags": []
   },
   "outputs": [
    {
     "data": {
      "text/plain": [
       "Index(['Dates', 'Symbol', 'Name', 'MNGT', 'ClosePrc', 'OpenPrc', 'HighPrc',\n",
       "       'LowPrc', 'AdjPrc', 'AdjPrc2', 'AdjPrc_High_20D', 'AdjPrc_Low_20D',\n",
       "       'AdjPrc_High_60D', 'AdjPrc_Low_60D', 'AdjPrc_High_120D',\n",
       "       'AdjPrc_Low_120D', 'AdjPrc_High_52W', 'AdjPrc_Low_52W', 'ListedShares',\n",
       "       'ForeignStake', 'TradeStop', 'MktCap_Comm_Pref', 'MktCapCom', 'MktCap',\n",
       "       'Volume', 'Volume_Avg_20D', 'Volume_Avg_60D', 'Volume_Avg_120D',\n",
       "       'Volume_Avg_52W', 'Amt_Avg_20D', 'Amt_Avg_60D', 'Amt_Avg_120D',\n",
       "       'Amt_Avg_52W', 'Vol_20D', 'Vol_120D'],\n",
       "      dtype='object')"
      ]
     },
     "execution_count": 11,
     "metadata": {},
     "output_type": "execute_result"
    }
   ],
   "source": [
    "data_SSC.columns"
   ]
  },
  {
   "cell_type": "code",
   "execution_count": null,
   "id": "33be0b92-94d0-4810-bae9-a79abf8f1299",
   "metadata": {
    "tags": []
   },
   "outputs": [],
   "source": []
  },
  {
   "cell_type": "code",
   "execution_count": 12,
   "id": "dd83e259-6cca-4dfc-ab7e-a03da2d8d011",
   "metadata": {
    "execution": {
     "iopub.execute_input": "2023-11-08T06:10:02.761233Z",
     "iopub.status.busy": "2023-11-08T06:10:02.761028Z",
     "iopub.status.idle": "2023-11-08T06:10:23.274425Z",
     "shell.execute_reply": "2023-11-08T06:10:23.273082Z",
     "shell.execute_reply.started": "2023-11-08T06:10:02.761214Z"
    },
    "tags": []
   },
   "outputs": [],
   "source": [
    "query_COM=f\"select * from COM_table_Bak where Dates>='{period1}' and Dates<='{period2}'\"\n",
    "data_COM=pd.read_sql(query_COM, conn)"
   ]
  },
  {
   "cell_type": "code",
   "execution_count": 13,
   "id": "55c7f65b-79f1-4c5a-ae1b-b32a561038e6",
   "metadata": {
    "execution": {
     "iopub.execute_input": "2023-11-08T06:10:23.275706Z",
     "iopub.status.busy": "2023-11-08T06:10:23.275499Z",
     "iopub.status.idle": "2023-11-08T06:10:23.308494Z",
     "shell.execute_reply": "2023-11-08T06:10:23.307506Z",
     "shell.execute_reply.started": "2023-11-08T06:10:23.275687Z"
    },
    "tags": []
   },
   "outputs": [],
   "source": [
    "data_COM.set_index(['Dates','Symbol'], inplace=True)"
   ]
  },
  {
   "cell_type": "code",
   "execution_count": 14,
   "id": "231a03ff-0a56-4c26-8e24-364d07d77cb7",
   "metadata": {
    "execution": {
     "iopub.execute_input": "2023-11-08T06:10:23.310607Z",
     "iopub.status.busy": "2023-11-08T06:10:23.310104Z",
     "iopub.status.idle": "2023-11-08T06:10:23.317972Z",
     "shell.execute_reply": "2023-11-08T06:10:23.316885Z",
     "shell.execute_reply.started": "2023-11-08T06:10:23.310558Z"
    },
    "tags": []
   },
   "outputs": [
    {
     "data": {
      "text/plain": [
       "Index(['Name', 'KC_Industry', 'FG_IndustryGroup27', 'FG_Sector_Idx',\n",
       "       'FG_IndustryGroup_Idx', 'FG_Industry_Idx', 'AuditOpinion', 'Caution',\n",
       "       'KSECapSize', 'KLCAIndustry', 'Market', 'KOSPI200YN', 'FiscalMonth'],\n",
       "      dtype='object')"
      ]
     },
     "execution_count": 14,
     "metadata": {},
     "output_type": "execute_result"
    }
   ],
   "source": [
    "data_COM.columns"
   ]
  },
  {
   "cell_type": "code",
   "execution_count": null,
   "id": "a92fd0c8-3372-4f31-9c56-3d40fd4cf252",
   "metadata": {},
   "outputs": [],
   "source": []
  },
  {
   "cell_type": "code",
   "execution_count": 206,
   "id": "b46d82c5-a192-4013-86a9-ea17ecc5e03f",
   "metadata": {
    "execution": {
     "iopub.execute_input": "2023-11-08T09:14:19.559090Z",
     "iopub.status.busy": "2023-11-08T09:14:19.558463Z",
     "iopub.status.idle": "2023-11-08T09:14:19.570957Z",
     "shell.execute_reply": "2023-11-08T09:14:19.569784Z",
     "shell.execute_reply.started": "2023-11-08T09:14:19.559038Z"
    },
    "tags": []
   },
   "outputs": [],
   "source": [
    "stock_names=data_COM.loc[data_COM.index.get_level_values(0)==period2, 'Name']\n",
    "stock_names.reset_index(level=0, drop=True, inplace=True)"
   ]
  },
  {
   "cell_type": "code",
   "execution_count": 15,
   "id": "10ce9fec-dcf9-4cad-83e1-8e0e2b11ebe7",
   "metadata": {
    "execution": {
     "iopub.execute_input": "2023-11-08T06:10:23.319977Z",
     "iopub.status.busy": "2023-11-08T06:10:23.319491Z",
     "iopub.status.idle": "2023-11-08T06:10:23.435745Z",
     "shell.execute_reply": "2023-11-08T06:10:23.434674Z",
     "shell.execute_reply.started": "2023-11-08T06:10:23.319930Z"
    },
    "tags": []
   },
   "outputs": [],
   "source": [
    "k200comp=data_COM['KOSPI200YN'].unstack()"
   ]
  },
  {
   "cell_type": "code",
   "execution_count": null,
   "id": "1b4f51a6-f24a-4d9b-9c09-278c6936ab10",
   "metadata": {
    "tags": []
   },
   "outputs": [],
   "source": []
  },
  {
   "cell_type": "code",
   "execution_count": 93,
   "id": "49cd8447-1a15-4dad-a568-df8b8026a843",
   "metadata": {
    "execution": {
     "iopub.execute_input": "2023-11-08T06:57:25.812522Z",
     "iopub.status.busy": "2023-11-08T06:57:25.811917Z",
     "iopub.status.idle": "2023-11-08T06:57:26.383963Z",
     "shell.execute_reply": "2023-11-08T06:57:26.382761Z",
     "shell.execute_reply.started": "2023-11-08T06:57:25.812469Z"
    },
    "tags": []
   },
   "outputs": [],
   "source": [
    "query_idx=f\"select * from krx_idx\"\n",
    "krx_idx=pd.read_sql(query_idx, conn)"
   ]
  },
  {
   "cell_type": "code",
   "execution_count": 94,
   "id": "7ec858ac-38e5-456f-9553-e3b947602921",
   "metadata": {
    "execution": {
     "iopub.execute_input": "2023-11-08T06:57:26.447846Z",
     "iopub.status.busy": "2023-11-08T06:57:26.447615Z",
     "iopub.status.idle": "2023-11-08T06:57:26.452696Z",
     "shell.execute_reply": "2023-11-08T06:57:26.451866Z",
     "shell.execute_reply.started": "2023-11-08T06:57:26.447824Z"
    },
    "tags": []
   },
   "outputs": [
    {
     "data": {
      "text/plain": [
       "Index(['Symbol Name', '코스피', '코스피 200', '코스피 100', '코스피 50', '코스닥 150', '코스닥',\n",
       "       '코스피 200 동일가중', '코스피 대형주', '코스피 중형주', '코스피 소형주', '코스피 음식료품',\n",
       "       '코스피 섬유,의복', '코스피 종이,목재', '코스피 화학', '코스피 의약품', '코스피 비금속광물', '코스피 철강및금속',\n",
       "       '코스피 기계', '코스피 전기,전자', '코스피 의료정밀', '코스피 운수장비', '코스피 유통업', '코스피 전기가스업',\n",
       "       '코스피 건설업', '코스피 운수창고', '코스피 통신업', '코스피 금융업', '코스피 증권', '코스피 보험',\n",
       "       '코스피 서비스업', '코스피 제조업', '코스피 고배당 50 TR', '코스피 배당성장 50 TR', '코스피 우선주지수',\n",
       "       '코스피 200 총수익지수', '코스피 200 중소형주', '코스피 200 건설 TR', '코스피 200 중공업 TR',\n",
       "       '코스피 200 철강소재 TR', '코스피 200 에너지화학 TR', '코스피 200 정보기술 TR',\n",
       "       '코스피 200 금융 TR', '코스피 200 생활소비재 TR', '코스피 200 경기소비재 TR',\n",
       "       '코스피 200 산업재 TR', '코스피 200 헬스케어 TR', '코스피 200 커뮤니케이션서비스 TR',\n",
       "       '코스피 200 ESG 지수'],\n",
       "      dtype='object')"
      ]
     },
     "execution_count": 94,
     "metadata": {},
     "output_type": "execute_result"
    }
   ],
   "source": [
    "krx_idx.columns"
   ]
  },
  {
   "cell_type": "code",
   "execution_count": 95,
   "id": "ebf2bdec-e669-4f7f-8be5-016ec09524c0",
   "metadata": {
    "execution": {
     "iopub.execute_input": "2023-11-08T06:57:26.453715Z",
     "iopub.status.busy": "2023-11-08T06:57:26.453493Z",
     "iopub.status.idle": "2023-11-08T06:57:26.468523Z",
     "shell.execute_reply": "2023-11-08T06:57:26.467487Z",
     "shell.execute_reply.started": "2023-11-08T06:57:26.453693Z"
    },
    "tags": []
   },
   "outputs": [],
   "source": [
    "krx_idx.set_index('Symbol Name', inplace=True)"
   ]
  },
  {
   "cell_type": "code",
   "execution_count": 96,
   "id": "d15a4151-2bcc-4c51-8ddd-0046f805592b",
   "metadata": {
    "execution": {
     "iopub.execute_input": "2023-11-08T06:57:30.263731Z",
     "iopub.status.busy": "2023-11-08T06:57:30.263119Z",
     "iopub.status.idle": "2023-11-08T06:57:30.271501Z",
     "shell.execute_reply": "2023-11-08T06:57:30.270459Z",
     "shell.execute_reply.started": "2023-11-08T06:57:30.263677Z"
    },
    "tags": []
   },
   "outputs": [],
   "source": [
    "krx_idx=krx_idx.loc[:period2]"
   ]
  },
  {
   "cell_type": "code",
   "execution_count": 97,
   "id": "32705ab3-f204-45cc-8959-dfe06257baa6",
   "metadata": {
    "execution": {
     "iopub.execute_input": "2023-11-08T06:57:31.055402Z",
     "iopub.status.busy": "2023-11-08T06:57:31.054791Z",
     "iopub.status.idle": "2023-11-08T06:57:31.064420Z",
     "shell.execute_reply": "2023-11-08T06:57:31.063370Z",
     "shell.execute_reply.started": "2023-11-08T06:57:31.055349Z"
    },
    "tags": []
   },
   "outputs": [],
   "source": [
    "bm_ret=krx_idx[['코스피 200', '코스피 200 동일가중']].pct_change()"
   ]
  },
  {
   "cell_type": "code",
   "execution_count": 98,
   "id": "ba3a8f32-1781-4ebd-bb32-fd86d277c987",
   "metadata": {
    "execution": {
     "iopub.execute_input": "2023-11-08T06:57:38.356422Z",
     "iopub.status.busy": "2023-11-08T06:57:38.355766Z",
     "iopub.status.idle": "2023-11-08T06:57:38.365447Z",
     "shell.execute_reply": "2023-11-08T06:57:38.364383Z",
     "shell.execute_reply.started": "2023-11-08T06:57:38.356365Z"
    }
   },
   "outputs": [
    {
     "data": {
      "text/plain": [
       "DatetimeIndex(['2000-01-04', '2000-01-05', '2000-01-06', '2000-01-07',\n",
       "               '2000-01-10', '2000-01-11', '2000-01-12', '2000-01-13',\n",
       "               '2000-01-14', '2000-01-17',\n",
       "               ...\n",
       "               '2023-10-18', '2023-10-19', '2023-10-20', '2023-10-23',\n",
       "               '2023-10-24', '2023-10-25', '2023-10-26', '2023-10-27',\n",
       "               '2023-10-30', '2023-10-31'],\n",
       "              dtype='datetime64[ns]', name='Symbol Name', length=5882, freq=None)"
      ]
     },
     "execution_count": 98,
     "metadata": {},
     "output_type": "execute_result"
    }
   ],
   "source": [
    "bm_ret.index"
   ]
  },
  {
   "cell_type": "code",
   "execution_count": 62,
   "id": "e642c5ff-2b62-43f3-a3b6-45ce98c9aac0",
   "metadata": {
    "execution": {
     "iopub.execute_input": "2023-11-08T06:50:48.895937Z",
     "iopub.status.busy": "2023-11-08T06:50:48.895321Z",
     "iopub.status.idle": "2023-11-08T06:50:49.002315Z",
     "shell.execute_reply": "2023-11-08T06:50:49.001195Z",
     "shell.execute_reply.started": "2023-11-08T06:50:48.895880Z"
    },
    "tags": []
   },
   "outputs": [
    {
     "ename": "KeyError",
     "evalue": "\"None of ['Dates', 'Symbol'] are in the columns\"",
     "output_type": "error",
     "traceback": [
      "\u001b[0;31m\u001b[0m",
      "\u001b[0;31mKeyError\u001b[0mTraceback (most recent call last)",
      "Cell \u001b[0;32mIn[62], line 1\u001b[0m\n\u001b[0;32m----> 1\u001b[0m \u001b[43mdata_SSC\u001b[49m\u001b[38;5;241;43m.\u001b[39;49m\u001b[43mset_index\u001b[49m\u001b[43m(\u001b[49m\u001b[43m[\u001b[49m\u001b[38;5;124;43m'\u001b[39;49m\u001b[38;5;124;43mDates\u001b[39;49m\u001b[38;5;124;43m'\u001b[39;49m\u001b[43m,\u001b[49m\u001b[43m \u001b[49m\u001b[38;5;124;43m'\u001b[39;49m\u001b[38;5;124;43mSymbol\u001b[39;49m\u001b[38;5;124;43m'\u001b[39;49m\u001b[43m]\u001b[49m\u001b[43m,\u001b[49m\u001b[43m \u001b[49m\u001b[43minplace\u001b[49m\u001b[38;5;241;43m=\u001b[39;49m\u001b[38;5;28;43;01mTrue\u001b[39;49;00m\u001b[43m)\u001b[49m\n",
      "File \u001b[0;32m/opt/miniconda3/lib/python3.9/site-packages/pandas/util/_decorators.py:331\u001b[0m, in \u001b[0;36mdeprecate_nonkeyword_arguments.<locals>.decorate.<locals>.wrapper\u001b[0;34m(*args, **kwargs)\u001b[0m\n\u001b[1;32m    325\u001b[0m \u001b[38;5;28;01mif\u001b[39;00m \u001b[38;5;28mlen\u001b[39m(args) \u001b[38;5;241m>\u001b[39m num_allow_args:\n\u001b[1;32m    326\u001b[0m     warnings\u001b[38;5;241m.\u001b[39mwarn(\n\u001b[1;32m    327\u001b[0m         msg\u001b[38;5;241m.\u001b[39mformat(arguments\u001b[38;5;241m=\u001b[39m_format_argument_list(allow_args)),\n\u001b[1;32m    328\u001b[0m         \u001b[38;5;167;01mFutureWarning\u001b[39;00m,\n\u001b[1;32m    329\u001b[0m         stacklevel\u001b[38;5;241m=\u001b[39mfind_stack_level(),\n\u001b[1;32m    330\u001b[0m     )\n\u001b[0;32m--> 331\u001b[0m \u001b[38;5;28;01mreturn\u001b[39;00m \u001b[43mfunc\u001b[49m\u001b[43m(\u001b[49m\u001b[38;5;241;43m*\u001b[39;49m\u001b[43margs\u001b[49m\u001b[43m,\u001b[49m\u001b[43m \u001b[49m\u001b[38;5;241;43m*\u001b[39;49m\u001b[38;5;241;43m*\u001b[39;49m\u001b[43mkwargs\u001b[49m\u001b[43m)\u001b[49m\n",
      "File \u001b[0;32m/opt/miniconda3/lib/python3.9/site-packages/pandas/core/frame.py:6009\u001b[0m, in \u001b[0;36mDataFrame.set_index\u001b[0;34m(self, keys, drop, append, inplace, verify_integrity)\u001b[0m\n\u001b[1;32m   6006\u001b[0m                 missing\u001b[38;5;241m.\u001b[39mappend(col)\n\u001b[1;32m   6008\u001b[0m \u001b[38;5;28;01mif\u001b[39;00m missing:\n\u001b[0;32m-> 6009\u001b[0m     \u001b[38;5;28;01mraise\u001b[39;00m \u001b[38;5;167;01mKeyError\u001b[39;00m(\u001b[38;5;124mf\u001b[39m\u001b[38;5;124m\"\u001b[39m\u001b[38;5;124mNone of \u001b[39m\u001b[38;5;132;01m{\u001b[39;00mmissing\u001b[38;5;132;01m}\u001b[39;00m\u001b[38;5;124m are in the columns\u001b[39m\u001b[38;5;124m\"\u001b[39m)\n\u001b[1;32m   6011\u001b[0m \u001b[38;5;28;01mif\u001b[39;00m inplace:\n\u001b[1;32m   6012\u001b[0m     frame \u001b[38;5;241m=\u001b[39m \u001b[38;5;28mself\u001b[39m\n",
      "\u001b[0;31mKeyError\u001b[0m: \"None of ['Dates', 'Symbol'] are in the columns\""
     ]
    }
   ],
   "source": [
    "data_SSC.set_index(['Dates', 'Symbol'], inplace=True)"
   ]
  },
  {
   "cell_type": "code",
   "execution_count": 63,
   "id": "b9225eed-b8f4-4982-bf8a-aa2faa65c22a",
   "metadata": {
    "execution": {
     "iopub.execute_input": "2023-11-08T06:50:49.147766Z",
     "iopub.status.busy": "2023-11-08T06:50:49.147527Z",
     "iopub.status.idle": "2023-11-08T06:50:49.151905Z",
     "shell.execute_reply": "2023-11-08T06:50:49.151008Z",
     "shell.execute_reply.started": "2023-11-08T06:50:49.147743Z"
    },
    "tags": []
   },
   "outputs": [],
   "source": [
    "prc=data_SSC['AdjPrc']"
   ]
  },
  {
   "cell_type": "code",
   "execution_count": 64,
   "id": "8ae43706-a747-43d5-ad68-87c82738cd3d",
   "metadata": {
    "execution": {
     "iopub.execute_input": "2023-11-08T06:50:49.285215Z",
     "iopub.status.busy": "2023-11-08T06:50:49.284966Z",
     "iopub.status.idle": "2023-11-08T06:50:49.425843Z",
     "shell.execute_reply": "2023-11-08T06:50:49.425001Z",
     "shell.execute_reply.started": "2023-11-08T06:50:49.285191Z"
    },
    "tags": []
   },
   "outputs": [],
   "source": [
    "prc=prc.unstack()"
   ]
  },
  {
   "cell_type": "code",
   "execution_count": 65,
   "id": "2acce785-a59f-4fec-9f48-246543a9b492",
   "metadata": {
    "execution": {
     "iopub.execute_input": "2023-11-08T06:50:49.524546Z",
     "iopub.status.busy": "2023-11-08T06:50:49.524320Z",
     "iopub.status.idle": "2023-11-08T06:50:49.553239Z",
     "shell.execute_reply": "2023-11-08T06:50:49.552283Z",
     "shell.execute_reply.started": "2023-11-08T06:50:49.524525Z"
    },
    "tags": []
   },
   "outputs": [
    {
     "data": {
      "text/html": [
       "<div>\n",
       "<style scoped>\n",
       "    .dataframe tbody tr th:only-of-type {\n",
       "        vertical-align: middle;\n",
       "    }\n",
       "\n",
       "    .dataframe tbody tr th {\n",
       "        vertical-align: top;\n",
       "    }\n",
       "\n",
       "    .dataframe thead th {\n",
       "        text-align: right;\n",
       "    }\n",
       "</style>\n",
       "<table border=\"1\" class=\"dataframe\">\n",
       "  <thead>\n",
       "    <tr style=\"text-align: right;\">\n",
       "      <th>Symbol</th>\n",
       "      <th>A000010</th>\n",
       "      <th>A000020</th>\n",
       "      <th>A000030</th>\n",
       "      <th>A000040</th>\n",
       "      <th>A000050</th>\n",
       "      <th>A000060</th>\n",
       "      <th>A000070</th>\n",
       "      <th>A000080</th>\n",
       "      <th>A000090</th>\n",
       "      <th>A000100</th>\n",
       "      <th>...</th>\n",
       "      <th>A453340</th>\n",
       "      <th>A456040</th>\n",
       "      <th>A457190</th>\n",
       "      <th>A900030</th>\n",
       "      <th>A900050</th>\n",
       "      <th>A900140</th>\n",
       "      <th>A950010</th>\n",
       "      <th>A950070</th>\n",
       "      <th>A950100</th>\n",
       "      <th>A950210</th>\n",
       "    </tr>\n",
       "    <tr>\n",
       "      <th>Dates</th>\n",
       "      <th></th>\n",
       "      <th></th>\n",
       "      <th></th>\n",
       "      <th></th>\n",
       "      <th></th>\n",
       "      <th></th>\n",
       "      <th></th>\n",
       "      <th></th>\n",
       "      <th></th>\n",
       "      <th></th>\n",
       "      <th></th>\n",
       "      <th></th>\n",
       "      <th></th>\n",
       "      <th></th>\n",
       "      <th></th>\n",
       "      <th></th>\n",
       "      <th></th>\n",
       "      <th></th>\n",
       "      <th></th>\n",
       "      <th></th>\n",
       "      <th></th>\n",
       "    </tr>\n",
       "  </thead>\n",
       "  <tbody>\n",
       "    <tr>\n",
       "      <th>2023-01-02</th>\n",
       "      <td>None</td>\n",
       "      <td>9500</td>\n",
       "      <td>None</td>\n",
       "      <td>561</td>\n",
       "      <td>10900</td>\n",
       "      <td>48400</td>\n",
       "      <td>67000</td>\n",
       "      <td>24400</td>\n",
       "      <td>None</td>\n",
       "      <td>56400</td>\n",
       "      <td>...</td>\n",
       "      <td>None</td>\n",
       "      <td>None</td>\n",
       "      <td>None</td>\n",
       "      <td>None</td>\n",
       "      <td>None</td>\n",
       "      <td>1781</td>\n",
       "      <td>None</td>\n",
       "      <td>None</td>\n",
       "      <td>None</td>\n",
       "      <td>7180</td>\n",
       "    </tr>\n",
       "    <tr>\n",
       "      <th>2023-01-03</th>\n",
       "      <td>None</td>\n",
       "      <td>9200</td>\n",
       "      <td>None</td>\n",
       "      <td>553</td>\n",
       "      <td>10600</td>\n",
       "      <td>47050</td>\n",
       "      <td>67100</td>\n",
       "      <td>24100</td>\n",
       "      <td>None</td>\n",
       "      <td>55600</td>\n",
       "      <td>...</td>\n",
       "      <td>None</td>\n",
       "      <td>None</td>\n",
       "      <td>None</td>\n",
       "      <td>None</td>\n",
       "      <td>None</td>\n",
       "      <td>1798</td>\n",
       "      <td>None</td>\n",
       "      <td>None</td>\n",
       "      <td>None</td>\n",
       "      <td>7180</td>\n",
       "    </tr>\n",
       "    <tr>\n",
       "      <th>2023-01-04</th>\n",
       "      <td>None</td>\n",
       "      <td>9330</td>\n",
       "      <td>None</td>\n",
       "      <td>551</td>\n",
       "      <td>10600</td>\n",
       "      <td>48500</td>\n",
       "      <td>68600</td>\n",
       "      <td>24150</td>\n",
       "      <td>None</td>\n",
       "      <td>55200</td>\n",
       "      <td>...</td>\n",
       "      <td>None</td>\n",
       "      <td>None</td>\n",
       "      <td>None</td>\n",
       "      <td>None</td>\n",
       "      <td>None</td>\n",
       "      <td>1795</td>\n",
       "      <td>None</td>\n",
       "      <td>None</td>\n",
       "      <td>None</td>\n",
       "      <td>7270</td>\n",
       "    </tr>\n",
       "    <tr>\n",
       "      <th>2023-01-05</th>\n",
       "      <td>None</td>\n",
       "      <td>9350</td>\n",
       "      <td>None</td>\n",
       "      <td>549</td>\n",
       "      <td>10550</td>\n",
       "      <td>46750</td>\n",
       "      <td>70000</td>\n",
       "      <td>24100</td>\n",
       "      <td>None</td>\n",
       "      <td>54800</td>\n",
       "      <td>...</td>\n",
       "      <td>None</td>\n",
       "      <td>None</td>\n",
       "      <td>None</td>\n",
       "      <td>None</td>\n",
       "      <td>None</td>\n",
       "      <td>1785</td>\n",
       "      <td>None</td>\n",
       "      <td>None</td>\n",
       "      <td>None</td>\n",
       "      <td>7250</td>\n",
       "    </tr>\n",
       "    <tr>\n",
       "      <th>2023-01-06</th>\n",
       "      <td>None</td>\n",
       "      <td>9410</td>\n",
       "      <td>None</td>\n",
       "      <td>549</td>\n",
       "      <td>10650</td>\n",
       "      <td>45600</td>\n",
       "      <td>69300</td>\n",
       "      <td>24250</td>\n",
       "      <td>None</td>\n",
       "      <td>54700</td>\n",
       "      <td>...</td>\n",
       "      <td>None</td>\n",
       "      <td>None</td>\n",
       "      <td>None</td>\n",
       "      <td>None</td>\n",
       "      <td>None</td>\n",
       "      <td>1791</td>\n",
       "      <td>None</td>\n",
       "      <td>None</td>\n",
       "      <td>None</td>\n",
       "      <td>7170</td>\n",
       "    </tr>\n",
       "    <tr>\n",
       "      <th>...</th>\n",
       "      <td>...</td>\n",
       "      <td>...</td>\n",
       "      <td>...</td>\n",
       "      <td>...</td>\n",
       "      <td>...</td>\n",
       "      <td>...</td>\n",
       "      <td>...</td>\n",
       "      <td>...</td>\n",
       "      <td>...</td>\n",
       "      <td>...</td>\n",
       "      <td>...</td>\n",
       "      <td>...</td>\n",
       "      <td>...</td>\n",
       "      <td>...</td>\n",
       "      <td>...</td>\n",
       "      <td>...</td>\n",
       "      <td>...</td>\n",
       "      <td>...</td>\n",
       "      <td>...</td>\n",
       "      <td>...</td>\n",
       "      <td>...</td>\n",
       "    </tr>\n",
       "    <tr>\n",
       "      <th>2023-10-25</th>\n",
       "      <td>None</td>\n",
       "      <td>9570</td>\n",
       "      <td>None</td>\n",
       "      <td>571</td>\n",
       "      <td>7730</td>\n",
       "      <td>None</td>\n",
       "      <td>69800</td>\n",
       "      <td>21250</td>\n",
       "      <td>None</td>\n",
       "      <td>57600</td>\n",
       "      <td>...</td>\n",
       "      <td>11380</td>\n",
       "      <td>104500</td>\n",
       "      <td>146600</td>\n",
       "      <td>None</td>\n",
       "      <td>None</td>\n",
       "      <td>2200</td>\n",
       "      <td>None</td>\n",
       "      <td>None</td>\n",
       "      <td>None</td>\n",
       "      <td>10160</td>\n",
       "    </tr>\n",
       "    <tr>\n",
       "      <th>2023-10-26</th>\n",
       "      <td>None</td>\n",
       "      <td>9320</td>\n",
       "      <td>None</td>\n",
       "      <td>550</td>\n",
       "      <td>7770</td>\n",
       "      <td>None</td>\n",
       "      <td>68400</td>\n",
       "      <td>20950</td>\n",
       "      <td>None</td>\n",
       "      <td>56200</td>\n",
       "      <td>...</td>\n",
       "      <td>11330</td>\n",
       "      <td>101700</td>\n",
       "      <td>130700</td>\n",
       "      <td>None</td>\n",
       "      <td>None</td>\n",
       "      <td>2145</td>\n",
       "      <td>None</td>\n",
       "      <td>None</td>\n",
       "      <td>None</td>\n",
       "      <td>10000</td>\n",
       "    </tr>\n",
       "    <tr>\n",
       "      <th>2023-10-27</th>\n",
       "      <td>None</td>\n",
       "      <td>9520</td>\n",
       "      <td>None</td>\n",
       "      <td>541</td>\n",
       "      <td>8000</td>\n",
       "      <td>None</td>\n",
       "      <td>68100</td>\n",
       "      <td>21050</td>\n",
       "      <td>None</td>\n",
       "      <td>56800</td>\n",
       "      <td>...</td>\n",
       "      <td>11280</td>\n",
       "      <td>104600</td>\n",
       "      <td>126200</td>\n",
       "      <td>None</td>\n",
       "      <td>None</td>\n",
       "      <td>2165</td>\n",
       "      <td>None</td>\n",
       "      <td>None</td>\n",
       "      <td>None</td>\n",
       "      <td>10030</td>\n",
       "    </tr>\n",
       "    <tr>\n",
       "      <th>2023-10-30</th>\n",
       "      <td>None</td>\n",
       "      <td>9680</td>\n",
       "      <td>None</td>\n",
       "      <td>533</td>\n",
       "      <td>7950</td>\n",
       "      <td>None</td>\n",
       "      <td>68100</td>\n",
       "      <td>21000</td>\n",
       "      <td>None</td>\n",
       "      <td>57100</td>\n",
       "      <td>...</td>\n",
       "      <td>11180</td>\n",
       "      <td>107600</td>\n",
       "      <td>125600</td>\n",
       "      <td>None</td>\n",
       "      <td>None</td>\n",
       "      <td>2165</td>\n",
       "      <td>None</td>\n",
       "      <td>None</td>\n",
       "      <td>None</td>\n",
       "      <td>9960</td>\n",
       "    </tr>\n",
       "    <tr>\n",
       "      <th>2023-10-31</th>\n",
       "      <td>None</td>\n",
       "      <td>9690</td>\n",
       "      <td>None</td>\n",
       "      <td>515</td>\n",
       "      <td>7960</td>\n",
       "      <td>None</td>\n",
       "      <td>67900</td>\n",
       "      <td>21250</td>\n",
       "      <td>None</td>\n",
       "      <td>57400</td>\n",
       "      <td>...</td>\n",
       "      <td>11320</td>\n",
       "      <td>104200</td>\n",
       "      <td>114000</td>\n",
       "      <td>None</td>\n",
       "      <td>None</td>\n",
       "      <td>2090</td>\n",
       "      <td>None</td>\n",
       "      <td>None</td>\n",
       "      <td>None</td>\n",
       "      <td>9750</td>\n",
       "    </tr>\n",
       "  </tbody>\n",
       "</table>\n",
       "<p>204 rows × 1198 columns</p>\n",
       "</div>"
      ],
      "text/plain": [
       "Symbol     A000010 A000020 A000030 A000040 A000050 A000060 A000070 A000080  \\\n",
       "Dates                                                                        \n",
       "2023-01-02    None    9500    None     561   10900   48400   67000   24400   \n",
       "2023-01-03    None    9200    None     553   10600   47050   67100   24100   \n",
       "2023-01-04    None    9330    None     551   10600   48500   68600   24150   \n",
       "2023-01-05    None    9350    None     549   10550   46750   70000   24100   \n",
       "2023-01-06    None    9410    None     549   10650   45600   69300   24250   \n",
       "...            ...     ...     ...     ...     ...     ...     ...     ...   \n",
       "2023-10-25    None    9570    None     571    7730    None   69800   21250   \n",
       "2023-10-26    None    9320    None     550    7770    None   68400   20950   \n",
       "2023-10-27    None    9520    None     541    8000    None   68100   21050   \n",
       "2023-10-30    None    9680    None     533    7950    None   68100   21000   \n",
       "2023-10-31    None    9690    None     515    7960    None   67900   21250   \n",
       "\n",
       "Symbol     A000090 A000100  ... A453340 A456040 A457190 A900030 A900050  \\\n",
       "Dates                       ...                                           \n",
       "2023-01-02    None   56400  ...    None    None    None    None    None   \n",
       "2023-01-03    None   55600  ...    None    None    None    None    None   \n",
       "2023-01-04    None   55200  ...    None    None    None    None    None   \n",
       "2023-01-05    None   54800  ...    None    None    None    None    None   \n",
       "2023-01-06    None   54700  ...    None    None    None    None    None   \n",
       "...            ...     ...  ...     ...     ...     ...     ...     ...   \n",
       "2023-10-25    None   57600  ...   11380  104500  146600    None    None   \n",
       "2023-10-26    None   56200  ...   11330  101700  130700    None    None   \n",
       "2023-10-27    None   56800  ...   11280  104600  126200    None    None   \n",
       "2023-10-30    None   57100  ...   11180  107600  125600    None    None   \n",
       "2023-10-31    None   57400  ...   11320  104200  114000    None    None   \n",
       "\n",
       "Symbol     A900140 A950010 A950070 A950100 A950210  \n",
       "Dates                                               \n",
       "2023-01-02    1781    None    None    None    7180  \n",
       "2023-01-03    1798    None    None    None    7180  \n",
       "2023-01-04    1795    None    None    None    7270  \n",
       "2023-01-05    1785    None    None    None    7250  \n",
       "2023-01-06    1791    None    None    None    7170  \n",
       "...            ...     ...     ...     ...     ...  \n",
       "2023-10-25    2200    None    None    None   10160  \n",
       "2023-10-26    2145    None    None    None   10000  \n",
       "2023-10-27    2165    None    None    None   10030  \n",
       "2023-10-30    2165    None    None    None    9960  \n",
       "2023-10-31    2090    None    None    None    9750  \n",
       "\n",
       "[204 rows x 1198 columns]"
      ]
     },
     "execution_count": 65,
     "metadata": {},
     "output_type": "execute_result"
    }
   ],
   "source": [
    "prc"
   ]
  },
  {
   "cell_type": "code",
   "execution_count": 66,
   "id": "286f6f79-4e6c-4f5d-b239-aec91ea599f8",
   "metadata": {
    "execution": {
     "iopub.execute_input": "2023-11-08T06:50:49.613230Z",
     "iopub.status.busy": "2023-11-08T06:50:49.612700Z",
     "iopub.status.idle": "2023-11-08T06:50:49.620540Z",
     "shell.execute_reply": "2023-11-08T06:50:49.619297Z",
     "shell.execute_reply.started": "2023-11-08T06:50:49.613179Z"
    },
    "tags": []
   },
   "outputs": [
    {
     "data": {
      "text/plain": [
       "(204, 1198)"
      ]
     },
     "execution_count": 66,
     "metadata": {},
     "output_type": "execute_result"
    }
   ],
   "source": [
    "prc.shape"
   ]
  },
  {
   "cell_type": "code",
   "execution_count": 67,
   "id": "605ba5f1-e5b6-426a-a2e4-4bfd95f2b174",
   "metadata": {
    "execution": {
     "iopub.execute_input": "2023-11-08T06:50:49.979810Z",
     "iopub.status.busy": "2023-11-08T06:50:49.979375Z",
     "iopub.status.idle": "2023-11-08T06:50:50.054322Z",
     "shell.execute_reply": "2023-11-08T06:50:50.053343Z",
     "shell.execute_reply.started": "2023-11-08T06:50:49.979767Z"
    },
    "tags": []
   },
   "outputs": [],
   "source": [
    "prc=prc.astype(float)"
   ]
  },
  {
   "cell_type": "code",
   "execution_count": 68,
   "id": "26987607-5bec-4f3a-9984-9f5c0069b856",
   "metadata": {
    "execution": {
     "iopub.execute_input": "2023-11-08T06:50:50.257124Z",
     "iopub.status.busy": "2023-11-08T06:50:50.256879Z",
     "iopub.status.idle": "2023-11-08T06:50:50.265345Z",
     "shell.execute_reply": "2023-11-08T06:50:50.264394Z",
     "shell.execute_reply.started": "2023-11-08T06:50:50.257101Z"
    },
    "tags": []
   },
   "outputs": [],
   "source": [
    "ret=prc.pct_change()"
   ]
  },
  {
   "cell_type": "code",
   "execution_count": null,
   "id": "0e875f20-d659-45a7-8a93-a8f9b67cc74e",
   "metadata": {
    "tags": []
   },
   "outputs": [],
   "source": []
  },
  {
   "cell_type": "code",
   "execution_count": 100,
   "id": "28da85f3-4e40-455b-8220-b047c1858bf0",
   "metadata": {
    "execution": {
     "iopub.execute_input": "2023-11-08T06:57:59.284334Z",
     "iopub.status.busy": "2023-11-08T06:57:59.283698Z",
     "iopub.status.idle": "2023-11-08T06:57:59.368476Z",
     "shell.execute_reply": "2023-11-08T06:57:59.367292Z",
     "shell.execute_reply.started": "2023-11-08T06:57:59.284280Z"
    },
    "tags": []
   },
   "outputs": [],
   "source": [
    "ret_excess=ret.subtract(bm_ret['코스피 200'], axis=0).dropna(how='all')"
   ]
  },
  {
   "cell_type": "code",
   "execution_count": 101,
   "id": "a0247c8e-45b6-4f85-8e3e-03c5785d2ed1",
   "metadata": {
    "execution": {
     "iopub.execute_input": "2023-11-08T06:57:59.584774Z",
     "iopub.status.busy": "2023-11-08T06:57:59.584474Z",
     "iopub.status.idle": "2023-11-08T06:57:59.591327Z",
     "shell.execute_reply": "2023-11-08T06:57:59.590460Z",
     "shell.execute_reply.started": "2023-11-08T06:57:59.584744Z"
    },
    "tags": []
   },
   "outputs": [
    {
     "data": {
      "text/plain": [
       "(DatetimeIndex(['2023-01-02', '2023-01-03', '2023-01-04', '2023-01-05',\n",
       "                '2023-01-06', '2023-01-09', '2023-01-10', '2023-01-11',\n",
       "                '2023-01-12', '2023-01-13',\n",
       "                ...\n",
       "                '2023-10-18', '2023-10-19', '2023-10-20', '2023-10-23',\n",
       "                '2023-10-24', '2023-10-25', '2023-10-26', '2023-10-27',\n",
       "                '2023-10-30', '2023-10-31'],\n",
       "               dtype='datetime64[ns]', name='Dates', length=204, freq=None),\n",
       " DatetimeIndex(['2000-01-04', '2000-01-05', '2000-01-06', '2000-01-07',\n",
       "                '2000-01-10', '2000-01-11', '2000-01-12', '2000-01-13',\n",
       "                '2000-01-14', '2000-01-17',\n",
       "                ...\n",
       "                '2023-10-18', '2023-10-19', '2023-10-20', '2023-10-23',\n",
       "                '2023-10-24', '2023-10-25', '2023-10-26', '2023-10-27',\n",
       "                '2023-10-30', '2023-10-31'],\n",
       "               dtype='datetime64[ns]', name='Symbol Name', length=5882, freq=None))"
      ]
     },
     "execution_count": 101,
     "metadata": {},
     "output_type": "execute_result"
    }
   ],
   "source": [
    "ret.index, bm_ret.index"
   ]
  },
  {
   "cell_type": "code",
   "execution_count": null,
   "id": "19a8218a-0dbb-4b10-8fea-48565f4d3575",
   "metadata": {},
   "outputs": [],
   "source": []
  },
  {
   "cell_type": "code",
   "execution_count": 102,
   "id": "7dbd260b-eea5-402a-ae41-0c531e64592c",
   "metadata": {
    "execution": {
     "iopub.execute_input": "2023-11-08T06:58:03.399050Z",
     "iopub.status.busy": "2023-11-08T06:58:03.398440Z",
     "iopub.status.idle": "2023-11-08T06:58:03.404270Z",
     "shell.execute_reply": "2023-11-08T06:58:03.403080Z",
     "shell.execute_reply.started": "2023-11-08T06:58:03.398995Z"
    },
    "tags": []
   },
   "outputs": [],
   "source": [
    "eom=['2023-02-28', '2023-03-31', '2023-04-28', '2023-05-31', '2023-06-30', \n",
    "     '2023-07-31', '2023-08-31', '2023-09-27', '2023-10-31']"
   ]
  },
  {
   "cell_type": "code",
   "execution_count": null,
   "id": "59a9629b-a9ec-4ab5-ad46-91e2cbe1df27",
   "metadata": {},
   "outputs": [],
   "source": []
  },
  {
   "cell_type": "code",
   "execution_count": 103,
   "id": "2bb50e27-99f8-415e-87b6-01fa17d7fc2d",
   "metadata": {
    "execution": {
     "iopub.execute_input": "2023-11-08T06:58:03.735927Z",
     "iopub.status.busy": "2023-11-08T06:58:03.735433Z",
     "iopub.status.idle": "2023-11-08T06:58:03.830084Z",
     "shell.execute_reply": "2023-11-08T06:58:03.829166Z",
     "shell.execute_reply.started": "2023-11-08T06:58:03.735878Z"
    },
    "tags": []
   },
   "outputs": [],
   "source": [
    "data_path='../data/output/weight/'\n",
    "mlq_w=pd.read_excel(data_path + 'monthly_port.xlsx', index_col=0)"
   ]
  },
  {
   "cell_type": "code",
   "execution_count": 104,
   "id": "3bd79ac5-cd49-48ce-8299-3b18981236a0",
   "metadata": {
    "execution": {
     "iopub.execute_input": "2023-11-08T06:58:03.941609Z",
     "iopub.status.busy": "2023-11-08T06:58:03.941068Z",
     "iopub.status.idle": "2023-11-08T06:58:03.961849Z",
     "shell.execute_reply": "2023-11-08T06:58:03.960852Z",
     "shell.execute_reply.started": "2023-11-08T06:58:03.941556Z"
    },
    "tags": []
   },
   "outputs": [
    {
     "data": {
      "text/html": [
       "<div>\n",
       "<style scoped>\n",
       "    .dataframe tbody tr th:only-of-type {\n",
       "        vertical-align: middle;\n",
       "    }\n",
       "\n",
       "    .dataframe tbody tr th {\n",
       "        vertical-align: top;\n",
       "    }\n",
       "\n",
       "    .dataframe thead th {\n",
       "        text-align: right;\n",
       "    }\n",
       "</style>\n",
       "<table border=\"1\" class=\"dataframe\">\n",
       "  <thead>\n",
       "    <tr style=\"text-align: right;\">\n",
       "      <th></th>\n",
       "      <th>code</th>\n",
       "      <th>weights</th>\n",
       "      <th>name</th>\n",
       "    </tr>\n",
       "    <tr>\n",
       "      <th>dates</th>\n",
       "      <th></th>\n",
       "      <th></th>\n",
       "      <th></th>\n",
       "    </tr>\n",
       "  </thead>\n",
       "  <tbody>\n",
       "    <tr>\n",
       "      <th>2023-02-28</th>\n",
       "      <td>A001040</td>\n",
       "      <td>0.009461</td>\n",
       "      <td>CJ</td>\n",
       "    </tr>\n",
       "    <tr>\n",
       "      <th>2023-02-28</th>\n",
       "      <td>A096770</td>\n",
       "      <td>0.009461</td>\n",
       "      <td>SK이노베이션</td>\n",
       "    </tr>\n",
       "    <tr>\n",
       "      <th>2023-02-28</th>\n",
       "      <td>A006260</td>\n",
       "      <td>0.009461</td>\n",
       "      <td>LS</td>\n",
       "    </tr>\n",
       "    <tr>\n",
       "      <th>2023-02-28</th>\n",
       "      <td>A011790</td>\n",
       "      <td>0.009461</td>\n",
       "      <td>SKC</td>\n",
       "    </tr>\n",
       "    <tr>\n",
       "      <th>2023-02-28</th>\n",
       "      <td>A016380</td>\n",
       "      <td>0.009461</td>\n",
       "      <td>KG스틸</td>\n",
       "    </tr>\n",
       "    <tr>\n",
       "      <th>...</th>\n",
       "      <td>...</td>\n",
       "      <td>...</td>\n",
       "      <td>...</td>\n",
       "    </tr>\n",
       "    <tr>\n",
       "      <th>2023-10-31</th>\n",
       "      <td>A006800</td>\n",
       "      <td>0.009396</td>\n",
       "      <td>미래에셋증권</td>\n",
       "    </tr>\n",
       "    <tr>\n",
       "      <th>2023-10-31</th>\n",
       "      <td>A086280</td>\n",
       "      <td>0.009396</td>\n",
       "      <td>현대글로비스</td>\n",
       "    </tr>\n",
       "    <tr>\n",
       "      <th>2023-10-31</th>\n",
       "      <td>A178920</td>\n",
       "      <td>0.009396</td>\n",
       "      <td>PI첨단소재</td>\n",
       "    </tr>\n",
       "    <tr>\n",
       "      <th>2023-10-31</th>\n",
       "      <td>A120110</td>\n",
       "      <td>0.009396</td>\n",
       "      <td>코오롱인더</td>\n",
       "    </tr>\n",
       "    <tr>\n",
       "      <th>2023-10-31</th>\n",
       "      <td>A005930</td>\n",
       "      <td>0.304700</td>\n",
       "      <td>삼성전자</td>\n",
       "    </tr>\n",
       "  </tbody>\n",
       "</table>\n",
       "<p>664 rows × 3 columns</p>\n",
       "</div>"
      ],
      "text/plain": [
       "               code   weights     name\n",
       "dates                                 \n",
       "2023-02-28  A001040  0.009461       CJ\n",
       "2023-02-28  A096770  0.009461  SK이노베이션\n",
       "2023-02-28  A006260  0.009461       LS\n",
       "2023-02-28  A011790  0.009461      SKC\n",
       "2023-02-28  A016380  0.009461     KG스틸\n",
       "...             ...       ...      ...\n",
       "2023-10-31  A006800  0.009396   미래에셋증권\n",
       "2023-10-31  A086280  0.009396   현대글로비스\n",
       "2023-10-31  A178920  0.009396   PI첨단소재\n",
       "2023-10-31  A120110  0.009396    코오롱인더\n",
       "2023-10-31  A005930  0.304700     삼성전자\n",
       "\n",
       "[664 rows x 3 columns]"
      ]
     },
     "execution_count": 104,
     "metadata": {},
     "output_type": "execute_result"
    }
   ],
   "source": [
    "mlq_w"
   ]
  },
  {
   "cell_type": "code",
   "execution_count": null,
   "id": "e9da02cc-656e-4ba0-90d7-e6edc01900ed",
   "metadata": {
    "tags": []
   },
   "outputs": [],
   "source": []
  },
  {
   "cell_type": "code",
   "execution_count": 105,
   "id": "99bca599-21cd-4b01-95ff-ea5cc22769fb",
   "metadata": {
    "execution": {
     "iopub.execute_input": "2023-11-08T06:58:04.246509Z",
     "iopub.status.busy": "2023-11-08T06:58:04.246010Z",
     "iopub.status.idle": "2023-11-08T06:58:04.272454Z",
     "shell.execute_reply": "2023-11-08T06:58:04.271489Z",
     "shell.execute_reply.started": "2023-11-08T06:58:04.246459Z"
    },
    "tags": []
   },
   "outputs": [],
   "source": [
    "mlq_w=mlq_w[mlq_w.index.isin(eom)]\n",
    "mlq_w_df=mlq_w[['code', 'weights']].pivot_table(index='dates', columns='code').copy()\n",
    "mlq_w_df.reset_index(inplace=True)"
   ]
  },
  {
   "cell_type": "code",
   "execution_count": 106,
   "id": "745d0991-a4c8-4a19-b835-39c9dbf66c4f",
   "metadata": {
    "execution": {
     "iopub.execute_input": "2023-11-08T06:58:04.445317Z",
     "iopub.status.busy": "2023-11-08T06:58:04.445101Z",
     "iopub.status.idle": "2023-11-08T06:58:04.501648Z",
     "shell.execute_reply": "2023-11-08T06:58:04.500805Z",
     "shell.execute_reply.started": "2023-11-08T06:58:04.445296Z"
    },
    "tags": []
   },
   "outputs": [
    {
     "name": "stderr",
     "output_type": "stream",
     "text": [
      "<ipython-input-106-8af0e4fa815a>:1: FutureWarning:\n",
      "\n",
      "Dropping of nuisance columns in DataFrame reductions (with 'numeric_only=None') is deprecated; in a future version this will raise TypeError.  Select only valid columns before calling the reduction.\n",
      "\n"
     ]
    },
    {
     "data": {
      "application/vnd.plotly.v1+json": {
       "config": {
        "plotlyServerURL": "https://plot.ly"
       },
       "data": [
        {
         "hovertemplate": "variable=0<br>index=%{x}<br>value=%{y}<extra></extra>",
         "legendgroup": "0",
         "line": {
          "color": "#636efa",
          "dash": "solid"
         },
         "marker": {
          "symbol": "circle"
         },
         "mode": "lines",
         "name": "0",
         "orientation": "v",
         "showlegend": true,
         "type": "scatter",
         "x": [
          0,
          1,
          2,
          3,
          4,
          5,
          6,
          7,
          8
         ],
         "xaxis": "x",
         "y": [
          1,
          1,
          1,
          1.0000000000000002,
          0.9999999999999999,
          1,
          1,
          1,
          1
         ],
         "yaxis": "y"
        }
       ],
       "layout": {
        "autosize": true,
        "legend": {
         "title": {
          "text": "variable"
         },
         "tracegroupgap": 0
        },
        "margin": {
         "t": 60
        },
        "template": {
         "data": {
          "bar": [
           {
            "error_x": {
             "color": "#2a3f5f"
            },
            "error_y": {
             "color": "#2a3f5f"
            },
            "marker": {
             "line": {
              "color": "#E5ECF6",
              "width": 0.5
             },
             "pattern": {
              "fillmode": "overlay",
              "size": 10,
              "solidity": 0.2
             }
            },
            "type": "bar"
           }
          ],
          "barpolar": [
           {
            "marker": {
             "line": {
              "color": "#E5ECF6",
              "width": 0.5
             },
             "pattern": {
              "fillmode": "overlay",
              "size": 10,
              "solidity": 0.2
             }
            },
            "type": "barpolar"
           }
          ],
          "carpet": [
           {
            "aaxis": {
             "endlinecolor": "#2a3f5f",
             "gridcolor": "white",
             "linecolor": "white",
             "minorgridcolor": "white",
             "startlinecolor": "#2a3f5f"
            },
            "baxis": {
             "endlinecolor": "#2a3f5f",
             "gridcolor": "white",
             "linecolor": "white",
             "minorgridcolor": "white",
             "startlinecolor": "#2a3f5f"
            },
            "type": "carpet"
           }
          ],
          "choropleth": [
           {
            "colorbar": {
             "outlinewidth": 0,
             "ticks": ""
            },
            "type": "choropleth"
           }
          ],
          "contour": [
           {
            "colorbar": {
             "outlinewidth": 0,
             "ticks": ""
            },
            "colorscale": [
             [
              0,
              "#0d0887"
             ],
             [
              0.1111111111111111,
              "#46039f"
             ],
             [
              0.2222222222222222,
              "#7201a8"
             ],
             [
              0.3333333333333333,
              "#9c179e"
             ],
             [
              0.4444444444444444,
              "#bd3786"
             ],
             [
              0.5555555555555556,
              "#d8576b"
             ],
             [
              0.6666666666666666,
              "#ed7953"
             ],
             [
              0.7777777777777778,
              "#fb9f3a"
             ],
             [
              0.8888888888888888,
              "#fdca26"
             ],
             [
              1,
              "#f0f921"
             ]
            ],
            "type": "contour"
           }
          ],
          "contourcarpet": [
           {
            "colorbar": {
             "outlinewidth": 0,
             "ticks": ""
            },
            "type": "contourcarpet"
           }
          ],
          "heatmap": [
           {
            "colorbar": {
             "outlinewidth": 0,
             "ticks": ""
            },
            "colorscale": [
             [
              0,
              "#0d0887"
             ],
             [
              0.1111111111111111,
              "#46039f"
             ],
             [
              0.2222222222222222,
              "#7201a8"
             ],
             [
              0.3333333333333333,
              "#9c179e"
             ],
             [
              0.4444444444444444,
              "#bd3786"
             ],
             [
              0.5555555555555556,
              "#d8576b"
             ],
             [
              0.6666666666666666,
              "#ed7953"
             ],
             [
              0.7777777777777778,
              "#fb9f3a"
             ],
             [
              0.8888888888888888,
              "#fdca26"
             ],
             [
              1,
              "#f0f921"
             ]
            ],
            "type": "heatmap"
           }
          ],
          "heatmapgl": [
           {
            "colorbar": {
             "outlinewidth": 0,
             "ticks": ""
            },
            "colorscale": [
             [
              0,
              "#0d0887"
             ],
             [
              0.1111111111111111,
              "#46039f"
             ],
             [
              0.2222222222222222,
              "#7201a8"
             ],
             [
              0.3333333333333333,
              "#9c179e"
             ],
             [
              0.4444444444444444,
              "#bd3786"
             ],
             [
              0.5555555555555556,
              "#d8576b"
             ],
             [
              0.6666666666666666,
              "#ed7953"
             ],
             [
              0.7777777777777778,
              "#fb9f3a"
             ],
             [
              0.8888888888888888,
              "#fdca26"
             ],
             [
              1,
              "#f0f921"
             ]
            ],
            "type": "heatmapgl"
           }
          ],
          "histogram": [
           {
            "marker": {
             "pattern": {
              "fillmode": "overlay",
              "size": 10,
              "solidity": 0.2
             }
            },
            "type": "histogram"
           }
          ],
          "histogram2d": [
           {
            "colorbar": {
             "outlinewidth": 0,
             "ticks": ""
            },
            "colorscale": [
             [
              0,
              "#0d0887"
             ],
             [
              0.1111111111111111,
              "#46039f"
             ],
             [
              0.2222222222222222,
              "#7201a8"
             ],
             [
              0.3333333333333333,
              "#9c179e"
             ],
             [
              0.4444444444444444,
              "#bd3786"
             ],
             [
              0.5555555555555556,
              "#d8576b"
             ],
             [
              0.6666666666666666,
              "#ed7953"
             ],
             [
              0.7777777777777778,
              "#fb9f3a"
             ],
             [
              0.8888888888888888,
              "#fdca26"
             ],
             [
              1,
              "#f0f921"
             ]
            ],
            "type": "histogram2d"
           }
          ],
          "histogram2dcontour": [
           {
            "colorbar": {
             "outlinewidth": 0,
             "ticks": ""
            },
            "colorscale": [
             [
              0,
              "#0d0887"
             ],
             [
              0.1111111111111111,
              "#46039f"
             ],
             [
              0.2222222222222222,
              "#7201a8"
             ],
             [
              0.3333333333333333,
              "#9c179e"
             ],
             [
              0.4444444444444444,
              "#bd3786"
             ],
             [
              0.5555555555555556,
              "#d8576b"
             ],
             [
              0.6666666666666666,
              "#ed7953"
             ],
             [
              0.7777777777777778,
              "#fb9f3a"
             ],
             [
              0.8888888888888888,
              "#fdca26"
             ],
             [
              1,
              "#f0f921"
             ]
            ],
            "type": "histogram2dcontour"
           }
          ],
          "mesh3d": [
           {
            "colorbar": {
             "outlinewidth": 0,
             "ticks": ""
            },
            "type": "mesh3d"
           }
          ],
          "parcoords": [
           {
            "line": {
             "colorbar": {
              "outlinewidth": 0,
              "ticks": ""
             }
            },
            "type": "parcoords"
           }
          ],
          "pie": [
           {
            "automargin": true,
            "type": "pie"
           }
          ],
          "scatter": [
           {
            "fillpattern": {
             "fillmode": "overlay",
             "size": 10,
             "solidity": 0.2
            },
            "type": "scatter"
           }
          ],
          "scatter3d": [
           {
            "line": {
             "colorbar": {
              "outlinewidth": 0,
              "ticks": ""
             }
            },
            "marker": {
             "colorbar": {
              "outlinewidth": 0,
              "ticks": ""
             }
            },
            "type": "scatter3d"
           }
          ],
          "scattercarpet": [
           {
            "marker": {
             "colorbar": {
              "outlinewidth": 0,
              "ticks": ""
             }
            },
            "type": "scattercarpet"
           }
          ],
          "scattergeo": [
           {
            "marker": {
             "colorbar": {
              "outlinewidth": 0,
              "ticks": ""
             }
            },
            "type": "scattergeo"
           }
          ],
          "scattergl": [
           {
            "marker": {
             "colorbar": {
              "outlinewidth": 0,
              "ticks": ""
             }
            },
            "type": "scattergl"
           }
          ],
          "scattermapbox": [
           {
            "marker": {
             "colorbar": {
              "outlinewidth": 0,
              "ticks": ""
             }
            },
            "type": "scattermapbox"
           }
          ],
          "scatterpolar": [
           {
            "marker": {
             "colorbar": {
              "outlinewidth": 0,
              "ticks": ""
             }
            },
            "type": "scatterpolar"
           }
          ],
          "scatterpolargl": [
           {
            "marker": {
             "colorbar": {
              "outlinewidth": 0,
              "ticks": ""
             }
            },
            "type": "scatterpolargl"
           }
          ],
          "scatterternary": [
           {
            "marker": {
             "colorbar": {
              "outlinewidth": 0,
              "ticks": ""
             }
            },
            "type": "scatterternary"
           }
          ],
          "surface": [
           {
            "colorbar": {
             "outlinewidth": 0,
             "ticks": ""
            },
            "colorscale": [
             [
              0,
              "#0d0887"
             ],
             [
              0.1111111111111111,
              "#46039f"
             ],
             [
              0.2222222222222222,
              "#7201a8"
             ],
             [
              0.3333333333333333,
              "#9c179e"
             ],
             [
              0.4444444444444444,
              "#bd3786"
             ],
             [
              0.5555555555555556,
              "#d8576b"
             ],
             [
              0.6666666666666666,
              "#ed7953"
             ],
             [
              0.7777777777777778,
              "#fb9f3a"
             ],
             [
              0.8888888888888888,
              "#fdca26"
             ],
             [
              1,
              "#f0f921"
             ]
            ],
            "type": "surface"
           }
          ],
          "table": [
           {
            "cells": {
             "fill": {
              "color": "#EBF0F8"
             },
             "line": {
              "color": "white"
             }
            },
            "header": {
             "fill": {
              "color": "#C8D4E3"
             },
             "line": {
              "color": "white"
             }
            },
            "type": "table"
           }
          ]
         },
         "layout": {
          "annotationdefaults": {
           "arrowcolor": "#2a3f5f",
           "arrowhead": 0,
           "arrowwidth": 1
          },
          "autotypenumbers": "strict",
          "coloraxis": {
           "colorbar": {
            "outlinewidth": 0,
            "ticks": ""
           }
          },
          "colorscale": {
           "diverging": [
            [
             0,
             "#8e0152"
            ],
            [
             0.1,
             "#c51b7d"
            ],
            [
             0.2,
             "#de77ae"
            ],
            [
             0.3,
             "#f1b6da"
            ],
            [
             0.4,
             "#fde0ef"
            ],
            [
             0.5,
             "#f7f7f7"
            ],
            [
             0.6,
             "#e6f5d0"
            ],
            [
             0.7,
             "#b8e186"
            ],
            [
             0.8,
             "#7fbc41"
            ],
            [
             0.9,
             "#4d9221"
            ],
            [
             1,
             "#276419"
            ]
           ],
           "sequential": [
            [
             0,
             "#0d0887"
            ],
            [
             0.1111111111111111,
             "#46039f"
            ],
            [
             0.2222222222222222,
             "#7201a8"
            ],
            [
             0.3333333333333333,
             "#9c179e"
            ],
            [
             0.4444444444444444,
             "#bd3786"
            ],
            [
             0.5555555555555556,
             "#d8576b"
            ],
            [
             0.6666666666666666,
             "#ed7953"
            ],
            [
             0.7777777777777778,
             "#fb9f3a"
            ],
            [
             0.8888888888888888,
             "#fdca26"
            ],
            [
             1,
             "#f0f921"
            ]
           ],
           "sequentialminus": [
            [
             0,
             "#0d0887"
            ],
            [
             0.1111111111111111,
             "#46039f"
            ],
            [
             0.2222222222222222,
             "#7201a8"
            ],
            [
             0.3333333333333333,
             "#9c179e"
            ],
            [
             0.4444444444444444,
             "#bd3786"
            ],
            [
             0.5555555555555556,
             "#d8576b"
            ],
            [
             0.6666666666666666,
             "#ed7953"
            ],
            [
             0.7777777777777778,
             "#fb9f3a"
            ],
            [
             0.8888888888888888,
             "#fdca26"
            ],
            [
             1,
             "#f0f921"
            ]
           ]
          },
          "colorway": [
           "#636efa",
           "#EF553B",
           "#00cc96",
           "#ab63fa",
           "#FFA15A",
           "#19d3f3",
           "#FF6692",
           "#B6E880",
           "#FF97FF",
           "#FECB52"
          ],
          "font": {
           "color": "#2a3f5f"
          },
          "geo": {
           "bgcolor": "white",
           "lakecolor": "white",
           "landcolor": "#E5ECF6",
           "showlakes": true,
           "showland": true,
           "subunitcolor": "white"
          },
          "hoverlabel": {
           "align": "left"
          },
          "hovermode": "closest",
          "mapbox": {
           "style": "light"
          },
          "paper_bgcolor": "white",
          "plot_bgcolor": "#E5ECF6",
          "polar": {
           "angularaxis": {
            "gridcolor": "white",
            "linecolor": "white",
            "ticks": ""
           },
           "bgcolor": "#E5ECF6",
           "radialaxis": {
            "gridcolor": "white",
            "linecolor": "white",
            "ticks": ""
           }
          },
          "scene": {
           "xaxis": {
            "backgroundcolor": "#E5ECF6",
            "gridcolor": "white",
            "gridwidth": 2,
            "linecolor": "white",
            "showbackground": true,
            "ticks": "",
            "zerolinecolor": "white"
           },
           "yaxis": {
            "backgroundcolor": "#E5ECF6",
            "gridcolor": "white",
            "gridwidth": 2,
            "linecolor": "white",
            "showbackground": true,
            "ticks": "",
            "zerolinecolor": "white"
           },
           "zaxis": {
            "backgroundcolor": "#E5ECF6",
            "gridcolor": "white",
            "gridwidth": 2,
            "linecolor": "white",
            "showbackground": true,
            "ticks": "",
            "zerolinecolor": "white"
           }
          },
          "shapedefaults": {
           "line": {
            "color": "#2a3f5f"
           }
          },
          "ternary": {
           "aaxis": {
            "gridcolor": "white",
            "linecolor": "white",
            "ticks": ""
           },
           "baxis": {
            "gridcolor": "white",
            "linecolor": "white",
            "ticks": ""
           },
           "bgcolor": "#E5ECF6",
           "caxis": {
            "gridcolor": "white",
            "linecolor": "white",
            "ticks": ""
           }
          },
          "title": {
           "x": 0.05
          },
          "xaxis": {
           "automargin": true,
           "gridcolor": "white",
           "linecolor": "white",
           "ticks": "",
           "title": {
            "standoff": 15
           },
           "zerolinecolor": "white",
           "zerolinewidth": 2
          },
          "yaxis": {
           "automargin": true,
           "gridcolor": "white",
           "linecolor": "white",
           "ticks": "",
           "title": {
            "standoff": 15
           },
           "zerolinecolor": "white",
           "zerolinewidth": 2
          }
         }
        },
        "xaxis": {
         "anchor": "y",
         "autorange": true,
         "domain": [
          0,
          1
         ],
         "range": [
          0,
          8
         ],
         "title": {
          "text": "index"
         },
         "type": "linear"
        },
        "yaxis": {
         "anchor": "x",
         "autorange": true,
         "domain": [
          0,
          1
         ],
         "range": [
          0.9999999999999999,
          1.0000000000000002
         ],
         "title": {
          "text": "value"
         },
         "type": "linear"
        }
       }
      },
      "image/png": "[encoded data removed]",
      "text/html": [
       "<div>                            <div id=\"eaa42cdc-9349-4d78-b519-b6809498b32e\" class=\"plotly-graph-div\" style=\"height:525px; width:100%;\"></div>            <script type=\"text/javascript\">                require([\"plotly\"], function(Plotly) {                    window.PLOTLYENV=window.PLOTLYENV || {};                                    if (document.getElementById(\"eaa42cdc-9349-4d78-b519-b6809498b32e\")) {                    Plotly.newPlot(                        \"eaa42cdc-9349-4d78-b519-b6809498b32e\",                        [{\"hovertemplate\":\"variable=0<br>index=%{x}<br>value=%{y}<extra></extra>\",\"legendgroup\":\"0\",\"line\":{\"color\":\"#636efa\",\"dash\":\"solid\"},\"marker\":{\"symbol\":\"circle\"},\"mode\":\"lines\",\"name\":\"0\",\"orientation\":\"v\",\"showlegend\":true,\"x\":[0,1,2,3,4,5,6,7,8],\"xaxis\":\"x\",\"y\":[1.0,1.0,1.0,1.0000000000000002,0.9999999999999999,1.0,1.0,1.0,1.0],\"yaxis\":\"y\",\"type\":\"scatter\"}],                        {\"template\":{\"data\":{\"histogram2dcontour\":[{\"type\":\"histogram2dcontour\",\"colorbar\":{\"outlinewidth\":0,\"ticks\":\"\"},\"colorscale\":[[0.0,\"#0d0887\"],[0.1111111111111111,\"#46039f\"],[0.2222222222222222,\"#7201a8\"],[0.3333333333333333,\"#9c179e\"],[0.4444444444444444,\"#bd3786\"],[0.5555555555555556,\"#d8576b\"],[0.6666666666666666,\"#ed7953\"],[0.7777777777777778,\"#fb9f3a\"],[0.8888888888888888,\"#fdca26\"],[1.0,\"#f0f921\"]]}],\"choropleth\":[{\"type\":\"choropleth\",\"colorbar\":{\"outlinewidth\":0,\"ticks\":\"\"}}],\"histogram2d\":[{\"type\":\"histogram2d\",\"colorbar\":{\"outlinewidth\":0,\"ticks\":\"\"},\"colorscale\":[[0.0,\"#0d0887\"],[0.1111111111111111,\"#46039f\"],[0.2222222222222222,\"#7201a8\"],[0.3333333333333333,\"#9c179e\"],[0.4444444444444444,\"#bd3786\"],[0.5555555555555556,\"#d8576b\"],[0.6666666666666666,\"#ed7953\"],[0.7777777777777778,\"#fb9f3a\"],[0.8888888888888888,\"#fdca26\"],[1.0,\"#f0f921\"]]}],\"heatmap\":[{\"type\":\"heatmap\",\"colorbar\":{\"outlinewidth\":0,\"ticks\":\"\"},\"colorscale\":[[0.0,\"#0d0887\"],[0.1111111111111111,\"#46039f\"],[0.2222222222222222,\"#7201a8\"],[0.3333333333333333,\"#9c179e\"],[0.4444444444444444,\"#bd3786\"],[0.5555555555555556,\"#d8576b\"],[0.6666666666666666,\"#ed7953\"],[0.7777777777777778,\"#fb9f3a\"],[0.8888888888888888,\"#fdca26\"],[1.0,\"#f0f921\"]]}],\"heatmapgl\":[{\"type\":\"heatmapgl\",\"colorbar\":{\"outlinewidth\":0,\"ticks\":\"\"},\"colorscale\":[[0.0,\"#0d0887\"],[0.1111111111111111,\"#46039f\"],[0.2222222222222222,\"#7201a8\"],[0.3333333333333333,\"#9c179e\"],[0.4444444444444444,\"#bd3786\"],[0.5555555555555556,\"#d8576b\"],[0.6666666666666666,\"#ed7953\"],[0.7777777777777778,\"#fb9f3a\"],[0.8888888888888888,\"#fdca26\"],[1.0,\"#f0f921\"]]}],\"contourcarpet\":[{\"type\":\"contourcarpet\",\"colorbar\":{\"outlinewidth\":0,\"ticks\":\"\"}}],\"contour\":[{\"type\":\"contour\",\"colorbar\":{\"outlinewidth\":0,\"ticks\":\"\"},\"colorscale\":[[0.0,\"#0d0887\"],[0.1111111111111111,\"#46039f\"],[0.2222222222222222,\"#7201a8\"],[0.3333333333333333,\"#9c179e\"],[0.4444444444444444,\"#bd3786\"],[0.5555555555555556,\"#d8576b\"],[0.6666666666666666,\"#ed7953\"],[0.7777777777777778,\"#fb9f3a\"],[0.8888888888888888,\"#fdca26\"],[1.0,\"#f0f921\"]]}],\"surface\":[{\"type\":\"surface\",\"colorbar\":{\"outlinewidth\":0,\"ticks\":\"\"},\"colorscale\":[[0.0,\"#0d0887\"],[0.1111111111111111,\"#46039f\"],[0.2222222222222222,\"#7201a8\"],[0.3333333333333333,\"#9c179e\"],[0.4444444444444444,\"#bd3786\"],[0.5555555555555556,\"#d8576b\"],[0.6666666666666666,\"#ed7953\"],[0.7777777777777778,\"#fb9f3a\"],[0.8888888888888888,\"#fdca26\"],[1.0,\"#f0f921\"]]}],\"mesh3d\":[{\"type\":\"mesh3d\",\"colorbar\":{\"outlinewidth\":0,\"ticks\":\"\"}}],\"scatter\":[{\"fillpattern\":{\"fillmode\":\"overlay\",\"size\":10,\"solidity\":0.2},\"type\":\"scatter\"}],\"parcoords\":[{\"type\":\"parcoords\",\"line\":{\"colorbar\":{\"outlinewidth\":0,\"ticks\":\"\"}}}],\"scatterpolargl\":[{\"type\":\"scatterpolargl\",\"marker\":{\"colorbar\":{\"outlinewidth\":0,\"ticks\":\"\"}}}],\"bar\":[{\"error_x\":{\"color\":\"#2a3f5f\"},\"error_y\":{\"color\":\"#2a3f5f\"},\"marker\":{\"line\":{\"color\":\"#E5ECF6\",\"width\":0.5},\"pattern\":{\"fillmode\":\"overlay\",\"size\":10,\"solidity\":0.2}},\"type\":\"bar\"}],\"scattergeo\":[{\"type\":\"scattergeo\",\"marker\":{\"colorbar\":{\"outlinewidth\":0,\"ticks\":\"\"}}}],\"scatterpolar\":[{\"type\":\"scatterpolar\",\"marker\":{\"colorbar\":{\"outlinewidth\":0,\"ticks\":\"\"}}}],\"histogram\":[{\"marker\":{\"pattern\":{\"fillmode\":\"overlay\",\"size\":10,\"solidity\":0.2}},\"type\":\"histogram\"}],\"scattergl\":[{\"type\":\"scattergl\",\"marker\":{\"colorbar\":{\"outlinewidth\":0,\"ticks\":\"\"}}}],\"scatter3d\":[{\"type\":\"scatter3d\",\"line\":{\"colorbar\":{\"outlinewidth\":0,\"ticks\":\"\"}},\"marker\":{\"colorbar\":{\"outlinewidth\":0,\"ticks\":\"\"}}}],\"scattermapbox\":[{\"type\":\"scattermapbox\",\"marker\":{\"colorbar\":{\"outlinewidth\":0,\"ticks\":\"\"}}}],\"scatterternary\":[{\"type\":\"scatterternary\",\"marker\":{\"colorbar\":{\"outlinewidth\":0,\"ticks\":\"\"}}}],\"scattercarpet\":[{\"type\":\"scattercarpet\",\"marker\":{\"colorbar\":{\"outlinewidth\":0,\"ticks\":\"\"}}}],\"carpet\":[{\"aaxis\":{\"endlinecolor\":\"#2a3f5f\",\"gridcolor\":\"white\",\"linecolor\":\"white\",\"minorgridcolor\":\"white\",\"startlinecolor\":\"#2a3f5f\"},\"baxis\":{\"endlinecolor\":\"#2a3f5f\",\"gridcolor\":\"white\",\"linecolor\":\"white\",\"minorgridcolor\":\"white\",\"startlinecolor\":\"#2a3f5f\"},\"type\":\"carpet\"}],\"table\":[{\"cells\":{\"fill\":{\"color\":\"#EBF0F8\"},\"line\":{\"color\":\"white\"}},\"header\":{\"fill\":{\"color\":\"#C8D4E3\"},\"line\":{\"color\":\"white\"}},\"type\":\"table\"}],\"barpolar\":[{\"marker\":{\"line\":{\"color\":\"#E5ECF6\",\"width\":0.5},\"pattern\":{\"fillmode\":\"overlay\",\"size\":10,\"solidity\":0.2}},\"type\":\"barpolar\"}],\"pie\":[{\"automargin\":true,\"type\":\"pie\"}]},\"layout\":{\"autotypenumbers\":\"strict\",\"colorway\":[\"#636efa\",\"#EF553B\",\"#00cc96\",\"#ab63fa\",\"#FFA15A\",\"#19d3f3\",\"#FF6692\",\"#B6E880\",\"#FF97FF\",\"#FECB52\"],\"font\":{\"color\":\"#2a3f5f\"},\"hovermode\":\"closest\",\"hoverlabel\":{\"align\":\"left\"},\"paper_bgcolor\":\"white\",\"plot_bgcolor\":\"#E5ECF6\",\"polar\":{\"bgcolor\":\"#E5ECF6\",\"angularaxis\":{\"gridcolor\":\"white\",\"linecolor\":\"white\",\"ticks\":\"\"},\"radialaxis\":{\"gridcolor\":\"white\",\"linecolor\":\"white\",\"ticks\":\"\"}},\"ternary\":{\"bgcolor\":\"#E5ECF6\",\"aaxis\":{\"gridcolor\":\"white\",\"linecolor\":\"white\",\"ticks\":\"\"},\"baxis\":{\"gridcolor\":\"white\",\"linecolor\":\"white\",\"ticks\":\"\"},\"caxis\":{\"gridcolor\":\"white\",\"linecolor\":\"white\",\"ticks\":\"\"}},\"coloraxis\":{\"colorbar\":{\"outlinewidth\":0,\"ticks\":\"\"}},\"colorscale\":{\"sequential\":[[0.0,\"#0d0887\"],[0.1111111111111111,\"#46039f\"],[0.2222222222222222,\"#7201a8\"],[0.3333333333333333,\"#9c179e\"],[0.4444444444444444,\"#bd3786\"],[0.5555555555555556,\"#d8576b\"],[0.6666666666666666,\"#ed7953\"],[0.7777777777777778,\"#fb9f3a\"],[0.8888888888888888,\"#fdca26\"],[1.0,\"#f0f921\"]],\"sequentialminus\":[[0.0,\"#0d0887\"],[0.1111111111111111,\"#46039f\"],[0.2222222222222222,\"#7201a8\"],[0.3333333333333333,\"#9c179e\"],[0.4444444444444444,\"#bd3786\"],[0.5555555555555556,\"#d8576b\"],[0.6666666666666666,\"#ed7953\"],[0.7777777777777778,\"#fb9f3a\"],[0.8888888888888888,\"#fdca26\"],[1.0,\"#f0f921\"]],\"diverging\":[[0,\"#8e0152\"],[0.1,\"#c51b7d\"],[0.2,\"#de77ae\"],[0.3,\"#f1b6da\"],[0.4,\"#fde0ef\"],[0.5,\"#f7f7f7\"],[0.6,\"#e6f5d0\"],[0.7,\"#b8e186\"],[0.8,\"#7fbc41\"],[0.9,\"#4d9221\"],[1,\"#276419\"]]},\"xaxis\":{\"gridcolor\":\"white\",\"linecolor\":\"white\",\"ticks\":\"\",\"title\":{\"standoff\":15},\"zerolinecolor\":\"white\",\"automargin\":true,\"zerolinewidth\":2},\"yaxis\":{\"gridcolor\":\"white\",\"linecolor\":\"white\",\"ticks\":\"\",\"title\":{\"standoff\":15},\"zerolinecolor\":\"white\",\"automargin\":true,\"zerolinewidth\":2},\"scene\":{\"xaxis\":{\"backgroundcolor\":\"#E5ECF6\",\"gridcolor\":\"white\",\"linecolor\":\"white\",\"showbackground\":true,\"ticks\":\"\",\"zerolinecolor\":\"white\",\"gridwidth\":2},\"yaxis\":{\"backgroundcolor\":\"#E5ECF6\",\"gridcolor\":\"white\",\"linecolor\":\"white\",\"showbackground\":true,\"ticks\":\"\",\"zerolinecolor\":\"white\",\"gridwidth\":2},\"zaxis\":{\"backgroundcolor\":\"#E5ECF6\",\"gridcolor\":\"white\",\"linecolor\":\"white\",\"showbackground\":true,\"ticks\":\"\",\"zerolinecolor\":\"white\",\"gridwidth\":2}},\"shapedefaults\":{\"line\":{\"color\":\"#2a3f5f\"}},\"annotationdefaults\":{\"arrowcolor\":\"#2a3f5f\",\"arrowhead\":0,\"arrowwidth\":1},\"geo\":{\"bgcolor\":\"white\",\"landcolor\":\"#E5ECF6\",\"subunitcolor\":\"white\",\"showland\":true,\"showlakes\":true,\"lakecolor\":\"white\"},\"title\":{\"x\":0.05},\"mapbox\":{\"style\":\"light\"}}},\"xaxis\":{\"anchor\":\"y\",\"domain\":[0.0,1.0],\"title\":{\"text\":\"index\"}},\"yaxis\":{\"anchor\":\"x\",\"domain\":[0.0,1.0],\"title\":{\"text\":\"value\"}},\"legend\":{\"title\":{\"text\":\"variable\"},\"tracegroupgap\":0},\"margin\":{\"t\":60}},                        {\"responsive\": true}                    ).then(function(){\n",
       "                            \n",
       "var gd = document.getElementById('eaa42cdc-9349-4d78-b519-b6809498b32e');\n",
       "var x = new MutationObserver(function (mutations, observer) {{\n",
       "        var display = window.getComputedStyle(gd).display;\n",
       "        if (!display || display === 'none') {{\n",
       "            console.log([gd, 'removed!']);\n",
       "            Plotly.purge(gd);\n",
       "            observer.disconnect();\n",
       "        }}\n",
       "}});\n",
       "\n",
       "// Listen for the removal of the full notebook cells\n",
       "var notebookContainer = gd.closest('#notebook-container');\n",
       "if (notebookContainer) {{\n",
       "    x.observe(notebookContainer, {childList: true});\n",
       "}}\n",
       "\n",
       "// Listen for the clearing of the current output cell\n",
       "var outputEl = gd.closest('.output');\n",
       "if (outputEl) {{\n",
       "    x.observe(outputEl, {childList: true});\n",
       "}}\n",
       "\n",
       "                        })                };                });            </script>        </div>"
      ]
     },
     "metadata": {},
     "output_type": "display_data"
    }
   ],
   "source": [
    "mlq_w_df.sum(1).plot()"
   ]
  },
  {
   "cell_type": "code",
   "execution_count": null,
   "id": "9675ef23-33a7-4fee-a3a1-3cd6e039b1d3",
   "metadata": {
    "tags": []
   },
   "outputs": [],
   "source": []
  },
  {
   "cell_type": "code",
   "execution_count": 107,
   "id": "e1d8a83b-f00b-4116-b65b-416ad849ede4",
   "metadata": {
    "execution": {
     "iopub.execute_input": "2023-11-08T06:58:05.203675Z",
     "iopub.status.busy": "2023-11-08T06:58:05.203115Z",
     "iopub.status.idle": "2023-11-08T06:58:05.210422Z",
     "shell.execute_reply": "2023-11-08T06:58:05.209444Z",
     "shell.execute_reply.started": "2023-11-08T06:58:05.203624Z"
    },
    "tags": []
   },
   "outputs": [
    {
     "data": {
      "text/plain": [
       "['2023-02-28',\n",
       " '2023-03-31',\n",
       " '2023-04-28',\n",
       " '2023-05-31',\n",
       " '2023-06-30',\n",
       " '2023-07-31',\n",
       " '2023-08-31',\n",
       " '2023-09-27',\n",
       " '2023-10-31']"
      ]
     },
     "execution_count": 107,
     "metadata": {},
     "output_type": "execute_result"
    }
   ],
   "source": [
    "eom"
   ]
  },
  {
   "cell_type": "code",
   "execution_count": 108,
   "id": "b62ff34f-1537-480a-b5a4-08b06e69831d",
   "metadata": {
    "execution": {
     "iopub.execute_input": "2023-11-08T06:58:05.225365Z",
     "iopub.status.busy": "2023-11-08T06:58:05.224862Z",
     "iopub.status.idle": "2023-11-08T06:58:05.244417Z",
     "shell.execute_reply": "2023-11-08T06:58:05.243535Z",
     "shell.execute_reply.started": "2023-11-08T06:58:05.225316Z"
    },
    "tags": []
   },
   "outputs": [
    {
     "data": {
      "text/html": [
       "<div>\n",
       "<style scoped>\n",
       "    .dataframe tbody tr th:only-of-type {\n",
       "        vertical-align: middle;\n",
       "    }\n",
       "\n",
       "    .dataframe tbody tr th {\n",
       "        vertical-align: top;\n",
       "    }\n",
       "\n",
       "    .dataframe thead th {\n",
       "        text-align: right;\n",
       "    }\n",
       "</style>\n",
       "<table border=\"1\" class=\"dataframe\">\n",
       "  <thead>\n",
       "    <tr style=\"text-align: right;\">\n",
       "      <th></th>\n",
       "      <th>code</th>\n",
       "      <th>weights</th>\n",
       "      <th>name</th>\n",
       "    </tr>\n",
       "    <tr>\n",
       "      <th>dates</th>\n",
       "      <th></th>\n",
       "      <th></th>\n",
       "      <th></th>\n",
       "    </tr>\n",
       "  </thead>\n",
       "  <tbody>\n",
       "    <tr>\n",
       "      <th>2023-02-28</th>\n",
       "      <td>A001040</td>\n",
       "      <td>0.009461</td>\n",
       "      <td>CJ</td>\n",
       "    </tr>\n",
       "    <tr>\n",
       "      <th>2023-02-28</th>\n",
       "      <td>A096770</td>\n",
       "      <td>0.009461</td>\n",
       "      <td>SK이노베이션</td>\n",
       "    </tr>\n",
       "    <tr>\n",
       "      <th>2023-02-28</th>\n",
       "      <td>A006260</td>\n",
       "      <td>0.009461</td>\n",
       "      <td>LS</td>\n",
       "    </tr>\n",
       "    <tr>\n",
       "      <th>2023-02-28</th>\n",
       "      <td>A011790</td>\n",
       "      <td>0.009461</td>\n",
       "      <td>SKC</td>\n",
       "    </tr>\n",
       "    <tr>\n",
       "      <th>2023-02-28</th>\n",
       "      <td>A016380</td>\n",
       "      <td>0.009461</td>\n",
       "      <td>KG스틸</td>\n",
       "    </tr>\n",
       "    <tr>\n",
       "      <th>...</th>\n",
       "      <td>...</td>\n",
       "      <td>...</td>\n",
       "      <td>...</td>\n",
       "    </tr>\n",
       "    <tr>\n",
       "      <th>2023-10-31</th>\n",
       "      <td>A006800</td>\n",
       "      <td>0.009396</td>\n",
       "      <td>미래에셋증권</td>\n",
       "    </tr>\n",
       "    <tr>\n",
       "      <th>2023-10-31</th>\n",
       "      <td>A086280</td>\n",
       "      <td>0.009396</td>\n",
       "      <td>현대글로비스</td>\n",
       "    </tr>\n",
       "    <tr>\n",
       "      <th>2023-10-31</th>\n",
       "      <td>A178920</td>\n",
       "      <td>0.009396</td>\n",
       "      <td>PI첨단소재</td>\n",
       "    </tr>\n",
       "    <tr>\n",
       "      <th>2023-10-31</th>\n",
       "      <td>A120110</td>\n",
       "      <td>0.009396</td>\n",
       "      <td>코오롱인더</td>\n",
       "    </tr>\n",
       "    <tr>\n",
       "      <th>2023-10-31</th>\n",
       "      <td>A005930</td>\n",
       "      <td>0.304700</td>\n",
       "      <td>삼성전자</td>\n",
       "    </tr>\n",
       "  </tbody>\n",
       "</table>\n",
       "<p>664 rows × 3 columns</p>\n",
       "</div>"
      ],
      "text/plain": [
       "               code   weights     name\n",
       "dates                                 \n",
       "2023-02-28  A001040  0.009461       CJ\n",
       "2023-02-28  A096770  0.009461  SK이노베이션\n",
       "2023-02-28  A006260  0.009461       LS\n",
       "2023-02-28  A011790  0.009461      SKC\n",
       "2023-02-28  A016380  0.009461     KG스틸\n",
       "...             ...       ...      ...\n",
       "2023-10-31  A006800  0.009396   미래에셋증권\n",
       "2023-10-31  A086280  0.009396   현대글로비스\n",
       "2023-10-31  A178920  0.009396   PI첨단소재\n",
       "2023-10-31  A120110  0.009396    코오롱인더\n",
       "2023-10-31  A005930  0.304700     삼성전자\n",
       "\n",
       "[664 rows x 3 columns]"
      ]
     },
     "execution_count": 108,
     "metadata": {},
     "output_type": "execute_result"
    }
   ],
   "source": [
    "mlq_w"
   ]
  },
  {
   "cell_type": "code",
   "execution_count": 109,
   "id": "7be5102c-8e75-4b79-84f4-1302a7974867",
   "metadata": {
    "execution": {
     "iopub.execute_input": "2023-11-08T06:58:05.246286Z",
     "iopub.status.busy": "2023-11-08T06:58:05.245867Z",
     "iopub.status.idle": "2023-11-08T06:58:05.253506Z",
     "shell.execute_reply": "2023-11-08T06:58:05.252336Z",
     "shell.execute_reply.started": "2023-11-08T06:58:05.246245Z"
    },
    "tags": []
   },
   "outputs": [],
   "source": [
    "mlq_w_df['new_dates']=eom"
   ]
  },
  {
   "cell_type": "code",
   "execution_count": 110,
   "id": "8e043346-a91b-4455-a44b-9e92a1c56dfd",
   "metadata": {
    "execution": {
     "iopub.execute_input": "2023-11-08T06:58:06.168737Z",
     "iopub.status.busy": "2023-11-08T06:58:06.168159Z",
     "iopub.status.idle": "2023-11-08T06:58:06.182600Z",
     "shell.execute_reply": "2023-11-08T06:58:06.181516Z",
     "shell.execute_reply.started": "2023-11-08T06:58:06.168685Z"
    },
    "tags": []
   },
   "outputs": [
    {
     "name": "stderr",
     "output_type": "stream",
     "text": [
      "<ipython-input-110-732f543c0a98>:2: PerformanceWarning:\n",
      "\n",
      "dropping on a non-lexsorted multi-index without a level parameter may impact performance.\n",
      "\n"
     ]
    }
   ],
   "source": [
    "mlq_w_df.set_index('new_dates', inplace=True)\n",
    "mlq_w_df.drop(columns=['dates'], inplace=True)"
   ]
  },
  {
   "cell_type": "code",
   "execution_count": 111,
   "id": "1ed6d252-9152-417d-b324-ad0d85e7e567",
   "metadata": {
    "execution": {
     "iopub.execute_input": "2023-11-08T06:58:06.188740Z",
     "iopub.status.busy": "2023-11-08T06:58:06.188245Z",
     "iopub.status.idle": "2023-11-08T06:58:06.193878Z",
     "shell.execute_reply": "2023-11-08T06:58:06.192735Z",
     "shell.execute_reply.started": "2023-11-08T06:58:06.188691Z"
    },
    "tags": []
   },
   "outputs": [],
   "source": [
    "mlq_w_df.columns=mlq_w_df.columns.get_level_values(1)\n",
    "mlq_w_df.index=pd.to_datetime(mlq_w_df.index)\n",
    "mlq_w_df=mlq_w_df.fillna(0)\n",
    "daily_w=pd.DataFrame(None, columns=mlq_w_df.columns, index=ret.loc[mlq_w_df.index[0]:].index)\n",
    "daily_w.loc[mlq_w_df.index]=mlq_w_df\n",
    "daily_w.fillna(method='ffill', inplace=True)\n",
    "daily_w=daily_w.shift(1)"
   ]
  },
  {
   "cell_type": "code",
   "execution_count": 119,
   "id": "bc868c07-4ab6-46f5-a7da-ec8360b21439",
   "metadata": {
    "execution": {
     "iopub.execute_input": "2023-11-08T06:58:07.191456Z",
     "iopub.status.busy": "2023-11-08T06:58:07.191143Z",
     "iopub.status.idle": "2023-11-08T06:58:07.261679Z",
     "shell.execute_reply": "2023-11-08T06:58:07.260812Z",
     "shell.execute_reply.started": "2023-11-08T06:58:07.191427Z"
    },
    "tags": []
   },
   "outputs": [
    {
     "data": {
      "application/vnd.plotly.v1+json": {
       "config": {
        "plotlyServerURL": "https://plot.ly"
       },
       "data": [
        {
         "hovertemplate": "variable=0<br>Dates=%{x}<br>value=%{y}<extra></extra>",
         "legendgroup": "0",
         "line": {
          "color": "#636efa",
          "dash": "solid"
         },
         "marker": {
          "symbol": "circle"
         },
         "mode": "lines",
         "name": "0",
         "orientation": "v",
         "showlegend": true,
         "type": "scatter",
         "x": [
          "2023-02-28T00:00:00",
          "2023-03-02T00:00:00",
          "2023-03-03T00:00:00",
          "2023-03-06T00:00:00",
          "2023-03-07T00:00:00",
          "2023-03-08T00:00:00",
          "2023-03-09T00:00:00",
          "2023-03-10T00:00:00",
          "2023-03-13T00:00:00",
          "2023-03-14T00:00:00",
          "2023-03-15T00:00:00",
          "2023-03-16T00:00:00",
          "2023-03-17T00:00:00",
          "2023-03-20T00:00:00",
          "2023-03-21T00:00:00",
          "2023-03-22T00:00:00",
          "2023-03-23T00:00:00",
          "2023-03-24T00:00:00",
          "2023-03-27T00:00:00",
          "2023-03-28T00:00:00",
          "2023-03-29T00:00:00",
          "2023-03-30T00:00:00",
          "2023-03-31T00:00:00",
          "2023-04-03T00:00:00",
          "2023-04-04T00:00:00",
          "2023-04-05T00:00:00",
          "2023-04-06T00:00:00",
          "2023-04-07T00:00:00",
          "2023-04-10T00:00:00",
          "2023-04-11T00:00:00",
          "2023-04-12T00:00:00",
          "2023-04-13T00:00:00",
          "2023-04-14T00:00:00",
          "2023-04-17T00:00:00",
          "2023-04-18T00:00:00",
          "2023-04-19T00:00:00",
          "2023-04-20T00:00:00",
          "2023-04-21T00:00:00",
          "2023-04-24T00:00:00",
          "2023-04-25T00:00:00",
          "2023-04-26T00:00:00",
          "2023-04-27T00:00:00",
          "2023-04-28T00:00:00",
          "2023-05-02T00:00:00",
          "2023-05-03T00:00:00",
          "2023-05-04T00:00:00",
          "2023-05-08T00:00:00",
          "2023-05-09T00:00:00",
          "2023-05-10T00:00:00",
          "2023-05-11T00:00:00",
          "2023-05-12T00:00:00",
          "2023-05-15T00:00:00",
          "2023-05-16T00:00:00",
          "2023-05-17T00:00:00",
          "2023-05-18T00:00:00",
          "2023-05-19T00:00:00",
          "2023-05-22T00:00:00",
          "2023-05-23T00:00:00",
          "2023-05-24T00:00:00",
          "2023-05-25T00:00:00",
          "2023-05-26T00:00:00",
          "2023-05-30T00:00:00",
          "2023-05-31T00:00:00",
          "2023-06-01T00:00:00",
          "2023-06-02T00:00:00",
          "2023-06-05T00:00:00",
          "2023-06-07T00:00:00",
          "2023-06-08T00:00:00",
          "2023-06-09T00:00:00",
          "2023-06-12T00:00:00",
          "2023-06-13T00:00:00",
          "2023-06-14T00:00:00",
          "2023-06-15T00:00:00",
          "2023-06-16T00:00:00",
          "2023-06-19T00:00:00",
          "2023-06-20T00:00:00",
          "2023-06-21T00:00:00",
          "2023-06-22T00:00:00",
          "2023-06-23T00:00:00",
          "2023-06-26T00:00:00",
          "2023-06-27T00:00:00",
          "2023-06-28T00:00:00",
          "2023-06-29T00:00:00",
          "2023-06-30T00:00:00",
          "2023-07-03T00:00:00",
          "2023-07-04T00:00:00",
          "2023-07-05T00:00:00",
          "2023-07-06T00:00:00",
          "2023-07-07T00:00:00",
          "2023-07-10T00:00:00",
          "2023-07-11T00:00:00",
          "2023-07-12T00:00:00",
          "2023-07-13T00:00:00",
          "2023-07-14T00:00:00",
          "2023-07-17T00:00:00",
          "2023-07-18T00:00:00",
          "2023-07-19T00:00:00",
          "2023-07-20T00:00:00",
          "2023-07-21T00:00:00",
          "2023-07-24T00:00:00",
          "2023-07-25T00:00:00",
          "2023-07-26T00:00:00",
          "2023-07-27T00:00:00",
          "2023-07-28T00:00:00",
          "2023-07-31T00:00:00",
          "2023-08-01T00:00:00",
          "2023-08-02T00:00:00",
          "2023-08-03T00:00:00",
          "2023-08-04T00:00:00",
          "2023-08-07T00:00:00",
          "2023-08-08T00:00:00",
          "2023-08-09T00:00:00",
          "2023-08-10T00:00:00",
          "2023-08-11T00:00:00",
          "2023-08-14T00:00:00",
          "2023-08-16T00:00:00",
          "2023-08-17T00:00:00",
          "2023-08-18T00:00:00",
          "2023-08-21T00:00:00",
          "2023-08-22T00:00:00",
          "2023-08-23T00:00:00",
          "2023-08-24T00:00:00",
          "2023-08-25T00:00:00",
          "2023-08-28T00:00:00",
          "2023-08-29T00:00:00",
          "2023-08-30T00:00:00",
          "2023-08-31T00:00:00",
          "2023-09-01T00:00:00",
          "2023-09-04T00:00:00",
          "2023-09-05T00:00:00",
          "2023-09-06T00:00:00",
          "2023-09-07T00:00:00",
          "2023-09-08T00:00:00",
          "2023-09-11T00:00:00",
          "2023-09-12T00:00:00",
          "2023-09-13T00:00:00",
          "2023-09-14T00:00:00",
          "2023-09-15T00:00:00",
          "2023-09-18T00:00:00",
          "2023-09-19T00:00:00",
          "2023-09-20T00:00:00",
          "2023-09-21T00:00:00",
          "2023-09-22T00:00:00",
          "2023-09-25T00:00:00",
          "2023-09-26T00:00:00",
          "2023-09-27T00:00:00",
          "2023-10-04T00:00:00",
          "2023-10-05T00:00:00",
          "2023-10-06T00:00:00",
          "2023-10-10T00:00:00",
          "2023-10-11T00:00:00",
          "2023-10-12T00:00:00",
          "2023-10-13T00:00:00",
          "2023-10-16T00:00:00",
          "2023-10-17T00:00:00",
          "2023-10-18T00:00:00",
          "2023-10-19T00:00:00",
          "2023-10-20T00:00:00",
          "2023-10-23T00:00:00",
          "2023-10-24T00:00:00",
          "2023-10-25T00:00:00",
          "2023-10-26T00:00:00",
          "2023-10-27T00:00:00",
          "2023-10-30T00:00:00",
          "2023-10-31T00:00:00"
         ],
         "xaxis": "x",
         "y": [
          0,
          1,
          1,
          1,
          1,
          1,
          1,
          1,
          1,
          1,
          1,
          1,
          1,
          1,
          1,
          1,
          1,
          1,
          1,
          1,
          1,
          1,
          1,
          1,
          1,
          1,
          1,
          1,
          1,
          1,
          1,
          1,
          1,
          1,
          1,
          1,
          1,
          1,
          1,
          1,
          1,
          1,
          1,
          1,
          1,
          1,
          1,
          1,
          1,
          1,
          1,
          1,
          1,
          1,
          1,
          1,
          1,
          1,
          1,
          1,
          1,
          1,
          1,
          1.0000000000000002,
          1.0000000000000002,
          1.0000000000000002,
          1.0000000000000002,
          1.0000000000000002,
          1.0000000000000002,
          1.0000000000000002,
          1.0000000000000002,
          1.0000000000000002,
          1.0000000000000002,
          1.0000000000000002,
          1.0000000000000002,
          1.0000000000000002,
          1.0000000000000002,
          1.0000000000000002,
          1.0000000000000002,
          1.0000000000000002,
          1.0000000000000002,
          1.0000000000000002,
          1.0000000000000002,
          1.0000000000000002,
          0.9999999999999999,
          0.9999999999999999,
          0.9999999999999999,
          0.9999999999999999,
          0.9999999999999999,
          0.9999999999999999,
          0.9999999999999999,
          0.9999999999999999,
          0.9999999999999999,
          0.9999999999999999,
          0.9999999999999999,
          0.9999999999999999,
          0.9999999999999999,
          0.9999999999999999,
          0.9999999999999999,
          0.9999999999999999,
          0.9999999999999999,
          0.9999999999999999,
          0.9999999999999999,
          0.9999999999999999,
          0.9999999999999999,
          1,
          1,
          1,
          1,
          1,
          1,
          1,
          1,
          1,
          1,
          1,
          1,
          1,
          1,
          1,
          1,
          1,
          1,
          1,
          1,
          1,
          1,
          1,
          1,
          1,
          1,
          1,
          1,
          1,
          1,
          1,
          1,
          1,
          1,
          1,
          1,
          1,
          1,
          1,
          1,
          1,
          1,
          1,
          1,
          1,
          1,
          1,
          1,
          1,
          1,
          1,
          1,
          1,
          1,
          1,
          1,
          1,
          1,
          1,
          1
         ],
         "yaxis": "y"
        }
       ],
       "layout": {
        "autosize": true,
        "legend": {
         "title": {
          "text": "variable"
         },
         "tracegroupgap": 0
        },
        "margin": {
         "t": 60
        },
        "template": {
         "data": {
          "bar": [
           {
            "error_x": {
             "color": "#2a3f5f"
            },
            "error_y": {
             "color": "#2a3f5f"
            },
            "marker": {
             "line": {
              "color": "#E5ECF6",
              "width": 0.5
             },
             "pattern": {
              "fillmode": "overlay",
              "size": 10,
              "solidity": 0.2
             }
            },
            "type": "bar"
           }
          ],
          "barpolar": [
           {
            "marker": {
             "line": {
              "color": "#E5ECF6",
              "width": 0.5
             },
             "pattern": {
              "fillmode": "overlay",
              "size": 10,
              "solidity": 0.2
             }
            },
            "type": "barpolar"
           }
          ],
          "carpet": [
           {
            "aaxis": {
             "endlinecolor": "#2a3f5f",
             "gridcolor": "white",
             "linecolor": "white",
             "minorgridcolor": "white",
             "startlinecolor": "#2a3f5f"
            },
            "baxis": {
             "endlinecolor": "#2a3f5f",
             "gridcolor": "white",
             "linecolor": "white",
             "minorgridcolor": "white",
             "startlinecolor": "#2a3f5f"
            },
            "type": "carpet"
           }
          ],
          "choropleth": [
           {
            "colorbar": {
             "outlinewidth": 0,
             "ticks": ""
            },
            "type": "choropleth"
           }
          ],
          "contour": [
           {
            "colorbar": {
             "outlinewidth": 0,
             "ticks": ""
            },
            "colorscale": [
             [
              0,
              "#0d0887"
             ],
             [
              0.1111111111111111,
              "#46039f"
             ],
             [
              0.2222222222222222,
              "#7201a8"
             ],
             [
              0.3333333333333333,
              "#9c179e"
             ],
             [
              0.4444444444444444,
              "#bd3786"
             ],
             [
              0.5555555555555556,
              "#d8576b"
             ],
             [
              0.6666666666666666,
              "#ed7953"
             ],
             [
              0.7777777777777778,
              "#fb9f3a"
             ],
             [
              0.8888888888888888,
              "#fdca26"
             ],
             [
              1,
              "#f0f921"
             ]
            ],
            "type": "contour"
           }
          ],
          "contourcarpet": [
           {
            "colorbar": {
             "outlinewidth": 0,
             "ticks": ""
            },
            "type": "contourcarpet"
           }
          ],
          "heatmap": [
           {
            "colorbar": {
             "outlinewidth": 0,
             "ticks": ""
            },
            "colorscale": [
             [
              0,
              "#0d0887"
             ],
             [
              0.1111111111111111,
              "#46039f"
             ],
             [
              0.2222222222222222,
              "#7201a8"
             ],
             [
              0.3333333333333333,
              "#9c179e"
             ],
             [
              0.4444444444444444,
              "#bd3786"
             ],
             [
              0.5555555555555556,
              "#d8576b"
             ],
             [
              0.6666666666666666,
              "#ed7953"
             ],
             [
              0.7777777777777778,
              "#fb9f3a"
             ],
             [
              0.8888888888888888,
              "#fdca26"
             ],
             [
              1,
              "#f0f921"
             ]
            ],
            "type": "heatmap"
           }
          ],
          "heatmapgl": [
           {
            "colorbar": {
             "outlinewidth": 0,
             "ticks": ""
            },
            "colorscale": [
             [
              0,
              "#0d0887"
             ],
             [
              0.1111111111111111,
              "#46039f"
             ],
             [
              0.2222222222222222,
              "#7201a8"
             ],
             [
              0.3333333333333333,
              "#9c179e"
             ],
             [
              0.4444444444444444,
              "#bd3786"
             ],
             [
              0.5555555555555556,
              "#d8576b"
             ],
             [
              0.6666666666666666,
              "#ed7953"
             ],
             [
              0.7777777777777778,
              "#fb9f3a"
             ],
             [
              0.8888888888888888,
              "#fdca26"
             ],
             [
              1,
              "#f0f921"
             ]
            ],
            "type": "heatmapgl"
           }
          ],
          "histogram": [
           {
            "marker": {
             "pattern": {
              "fillmode": "overlay",
              "size": 10,
              "solidity": 0.2
             }
            },
            "type": "histogram"
           }
          ],
          "histogram2d": [
           {
            "colorbar": {
             "outlinewidth": 0,
             "ticks": ""
            },
            "colorscale": [
             [
              0,
              "#0d0887"
             ],
             [
              0.1111111111111111,
              "#46039f"
             ],
             [
              0.2222222222222222,
              "#7201a8"
             ],
             [
              0.3333333333333333,
              "#9c179e"
             ],
             [
              0.4444444444444444,
              "#bd3786"
             ],
             [
              0.5555555555555556,
              "#d8576b"
             ],
             [
              0.6666666666666666,
              "#ed7953"
             ],
             [
              0.7777777777777778,
              "#fb9f3a"
             ],
             [
              0.8888888888888888,
              "#fdca26"
             ],
             [
              1,
              "#f0f921"
             ]
            ],
            "type": "histogram2d"
           }
          ],
          "histogram2dcontour": [
           {
            "colorbar": {
             "outlinewidth": 0,
             "ticks": ""
            },
            "colorscale": [
             [
              0,
              "#0d0887"
             ],
             [
              0.1111111111111111,
              "#46039f"
             ],
             [
              0.2222222222222222,
              "#7201a8"
             ],
             [
              0.3333333333333333,
              "#9c179e"
             ],
             [
              0.4444444444444444,
              "#bd3786"
             ],
             [
              0.5555555555555556,
              "#d8576b"
             ],
             [
              0.6666666666666666,
              "#ed7953"
             ],
             [
              0.7777777777777778,
              "#fb9f3a"
             ],
             [
              0.8888888888888888,
              "#fdca26"
             ],
             [
              1,
              "#f0f921"
             ]
            ],
            "type": "histogram2dcontour"
           }
          ],
          "mesh3d": [
           {
            "colorbar": {
             "outlinewidth": 0,
             "ticks": ""
            },
            "type": "mesh3d"
           }
          ],
          "parcoords": [
           {
            "line": {
             "colorbar": {
              "outlinewidth": 0,
              "ticks": ""
             }
            },
            "type": "parcoords"
           }
          ],
          "pie": [
           {
            "automargin": true,
            "type": "pie"
           }
          ],
          "scatter": [
           {
            "fillpattern": {
             "fillmode": "overlay",
             "size": 10,
             "solidity": 0.2
            },
            "type": "scatter"
           }
          ],
          "scatter3d": [
           {
            "line": {
             "colorbar": {
              "outlinewidth": 0,
              "ticks": ""
             }
            },
            "marker": {
             "colorbar": {
              "outlinewidth": 0,
              "ticks": ""
             }
            },
            "type": "scatter3d"
           }
          ],
          "scattercarpet": [
           {
            "marker": {
             "colorbar": {
              "outlinewidth": 0,
              "ticks": ""
             }
            },
            "type": "scattercarpet"
           }
          ],
          "scattergeo": [
           {
            "marker": {
             "colorbar": {
              "outlinewidth": 0,
              "ticks": ""
             }
            },
            "type": "scattergeo"
           }
          ],
          "scattergl": [
           {
            "marker": {
             "colorbar": {
              "outlinewidth": 0,
              "ticks": ""
             }
            },
            "type": "scattergl"
           }
          ],
          "scattermapbox": [
           {
            "marker": {
             "colorbar": {
              "outlinewidth": 0,
              "ticks": ""
             }
            },
            "type": "scattermapbox"
           }
          ],
          "scatterpolar": [
           {
            "marker": {
             "colorbar": {
              "outlinewidth": 0,
              "ticks": ""
             }
            },
            "type": "scatterpolar"
           }
          ],
          "scatterpolargl": [
           {
            "marker": {
             "colorbar": {
              "outlinewidth": 0,
              "ticks": ""
             }
            },
            "type": "scatterpolargl"
           }
          ],
          "scatterternary": [
           {
            "marker": {
             "colorbar": {
              "outlinewidth": 0,
              "ticks": ""
             }
            },
            "type": "scatterternary"
           }
          ],
          "surface": [
           {
            "colorbar": {
             "outlinewidth": 0,
             "ticks": ""
            },
            "colorscale": [
             [
              0,
              "#0d0887"
             ],
             [
              0.1111111111111111,
              "#46039f"
             ],
             [
              0.2222222222222222,
              "#7201a8"
             ],
             [
              0.3333333333333333,
              "#9c179e"
             ],
             [
              0.4444444444444444,
              "#bd3786"
             ],
             [
              0.5555555555555556,
              "#d8576b"
             ],
             [
              0.6666666666666666,
              "#ed7953"
             ],
             [
              0.7777777777777778,
              "#fb9f3a"
             ],
             [
              0.8888888888888888,
              "#fdca26"
             ],
             [
              1,
              "#f0f921"
             ]
            ],
            "type": "surface"
           }
          ],
          "table": [
           {
            "cells": {
             "fill": {
              "color": "#EBF0F8"
             },
             "line": {
              "color": "white"
             }
            },
            "header": {
             "fill": {
              "color": "#C8D4E3"
             },
             "line": {
              "color": "white"
             }
            },
            "type": "table"
           }
          ]
         },
         "layout": {
          "annotationdefaults": {
           "arrowcolor": "#2a3f5f",
           "arrowhead": 0,
           "arrowwidth": 1
          },
          "autotypenumbers": "strict",
          "coloraxis": {
           "colorbar": {
            "outlinewidth": 0,
            "ticks": ""
           }
          },
          "colorscale": {
           "diverging": [
            [
             0,
             "#8e0152"
            ],
            [
             0.1,
             "#c51b7d"
            ],
            [
             0.2,
             "#de77ae"
            ],
            [
             0.3,
             "#f1b6da"
            ],
            [
             0.4,
             "#fde0ef"
            ],
            [
             0.5,
             "#f7f7f7"
            ],
            [
             0.6,
             "#e6f5d0"
            ],
            [
             0.7,
             "#b8e186"
            ],
            [
             0.8,
             "#7fbc41"
            ],
            [
             0.9,
             "#4d9221"
            ],
            [
             1,
             "#276419"
            ]
           ],
           "sequential": [
            [
             0,
             "#0d0887"
            ],
            [
             0.1111111111111111,
             "#46039f"
            ],
            [
             0.2222222222222222,
             "#7201a8"
            ],
            [
             0.3333333333333333,
             "#9c179e"
            ],
            [
             0.4444444444444444,
             "#bd3786"
            ],
            [
             0.5555555555555556,
             "#d8576b"
            ],
            [
             0.6666666666666666,
             "#ed7953"
            ],
            [
             0.7777777777777778,
             "#fb9f3a"
            ],
            [
             0.8888888888888888,
             "#fdca26"
            ],
            [
             1,
             "#f0f921"
            ]
           ],
           "sequentialminus": [
            [
             0,
             "#0d0887"
            ],
            [
             0.1111111111111111,
             "#46039f"
            ],
            [
             0.2222222222222222,
             "#7201a8"
            ],
            [
             0.3333333333333333,
             "#9c179e"
            ],
            [
             0.4444444444444444,
             "#bd3786"
            ],
            [
             0.5555555555555556,
             "#d8576b"
            ],
            [
             0.6666666666666666,
             "#ed7953"
            ],
            [
             0.7777777777777778,
             "#fb9f3a"
            ],
            [
             0.8888888888888888,
             "#fdca26"
            ],
            [
             1,
             "#f0f921"
            ]
           ]
          },
          "colorway": [
           "#636efa",
           "#EF553B",
           "#00cc96",
           "#ab63fa",
           "#FFA15A",
           "#19d3f3",
           "#FF6692",
           "#B6E880",
           "#FF97FF",
           "#FECB52"
          ],
          "font": {
           "color": "#2a3f5f"
          },
          "geo": {
           "bgcolor": "white",
           "lakecolor": "white",
           "landcolor": "#E5ECF6",
           "showlakes": true,
           "showland": true,
           "subunitcolor": "white"
          },
          "hoverlabel": {
           "align": "left"
          },
          "hovermode": "closest",
          "mapbox": {
           "style": "light"
          },
          "paper_bgcolor": "white",
          "plot_bgcolor": "#E5ECF6",
          "polar": {
           "angularaxis": {
            "gridcolor": "white",
            "linecolor": "white",
            "ticks": ""
           },
           "bgcolor": "#E5ECF6",
           "radialaxis": {
            "gridcolor": "white",
            "linecolor": "white",
            "ticks": ""
           }
          },
          "scene": {
           "xaxis": {
            "backgroundcolor": "#E5ECF6",
            "gridcolor": "white",
            "gridwidth": 2,
            "linecolor": "white",
            "showbackground": true,
            "ticks": "",
            "zerolinecolor": "white"
           },
           "yaxis": {
            "backgroundcolor": "#E5ECF6",
            "gridcolor": "white",
            "gridwidth": 2,
            "linecolor": "white",
            "showbackground": true,
            "ticks": "",
            "zerolinecolor": "white"
           },
           "zaxis": {
            "backgroundcolor": "#E5ECF6",
            "gridcolor": "white",
            "gridwidth": 2,
            "linecolor": "white",
            "showbackground": true,
            "ticks": "",
            "zerolinecolor": "white"
           }
          },
          "shapedefaults": {
           "line": {
            "color": "#2a3f5f"
           }
          },
          "ternary": {
           "aaxis": {
            "gridcolor": "white",
            "linecolor": "white",
            "ticks": ""
           },
           "baxis": {
            "gridcolor": "white",
            "linecolor": "white",
            "ticks": ""
           },
           "bgcolor": "#E5ECF6",
           "caxis": {
            "gridcolor": "white",
            "linecolor": "white",
            "ticks": ""
           }
          },
          "title": {
           "x": 0.05
          },
          "xaxis": {
           "automargin": true,
           "gridcolor": "white",
           "linecolor": "white",
           "ticks": "",
           "title": {
            "standoff": 15
           },
           "zerolinecolor": "white",
           "zerolinewidth": 2
          },
          "yaxis": {
           "automargin": true,
           "gridcolor": "white",
           "linecolor": "white",
           "ticks": "",
           "title": {
            "standoff": 15
           },
           "zerolinecolor": "white",
           "zerolinewidth": 2
          }
         }
        },
        "xaxis": {
         "anchor": "y",
         "autorange": true,
         "domain": [
          0,
          1
         ],
         "range": [
          "2023-02-28",
          "2023-10-31"
         ],
         "title": {
          "text": "Dates"
         },
         "type": "date"
        },
        "yaxis": {
         "anchor": "x",
         "autorange": true,
         "domain": [
          0,
          1
         ],
         "range": [
          -0.055555555555555566,
          1.0555555555555558
         ],
         "title": {
          "text": "value"
         },
         "type": "linear"
        }
       }
      },
      "image/png": "[encoded data removed]",
      "text/html": [
       "<div>                            <div id=\"3238caf2-1b8b-4ab9-aeaa-0af21a1d2533\" class=\"plotly-graph-div\" style=\"height:525px; width:100%;\"></div>            <script type=\"text/javascript\">                require([\"plotly\"], function(Plotly) {                    window.PLOTLYENV=window.PLOTLYENV || {};                                    if (document.getElementById(\"3238caf2-1b8b-4ab9-aeaa-0af21a1d2533\")) {                    Plotly.newPlot(                        \"3238caf2-1b8b-4ab9-aeaa-0af21a1d2533\",                        [{\"hovertemplate\":\"variable=0<br>Dates=%{x}<br>value=%{y}<extra></extra>\",\"legendgroup\":\"0\",\"line\":{\"color\":\"#636efa\",\"dash\":\"solid\"},\"marker\":{\"symbol\":\"circle\"},\"mode\":\"lines\",\"name\":\"0\",\"orientation\":\"v\",\"showlegend\":true,\"x\":[\"2023-02-28T00:00:00\",\"2023-03-02T00:00:00\",\"2023-03-03T00:00:00\",\"2023-03-06T00:00:00\",\"2023-03-07T00:00:00\",\"2023-03-08T00:00:00\",\"2023-03-09T00:00:00\",\"2023-03-10T00:00:00\",\"2023-03-13T00:00:00\",\"2023-03-14T00:00:00\",\"2023-03-15T00:00:00\",\"2023-03-16T00:00:00\",\"2023-03-17T00:00:00\",\"2023-03-20T00:00:00\",\"2023-03-21T00:00:00\",\"2023-03-22T00:00:00\",\"2023-03-23T00:00:00\",\"2023-03-24T00:00:00\",\"2023-03-27T00:00:00\",\"2023-03-28T00:00:00\",\"2023-03-29T00:00:00\",\"2023-03-30T00:00:00\",\"2023-03-31T00:00:00\",\"2023-04-03T00:00:00\",\"2023-04-04T00:00:00\",\"2023-04-05T00:00:00\",\"2023-04-06T00:00:00\",\"2023-04-07T00:00:00\",\"2023-04-10T00:00:00\",\"2023-04-11T00:00:00\",\"2023-04-12T00:00:00\",\"2023-04-13T00:00:00\",\"2023-04-14T00:00:00\",\"2023-04-17T00:00:00\",\"2023-04-18T00:00:00\",\"2023-04-19T00:00:00\",\"2023-04-20T00:00:00\",\"2023-04-21T00:00:00\",\"2023-04-24T00:00:00\",\"2023-04-25T00:00:00\",\"2023-04-26T00:00:00\",\"2023-04-27T00:00:00\",\"2023-04-28T00:00:00\",\"2023-05-02T00:00:00\",\"2023-05-03T00:00:00\",\"2023-05-04T00:00:00\",\"2023-05-08T00:00:00\",\"2023-05-09T00:00:00\",\"2023-05-10T00:00:00\",\"2023-05-11T00:00:00\",\"2023-05-12T00:00:00\",\"2023-05-15T00:00:00\",\"2023-05-16T00:00:00\",\"2023-05-17T00:00:00\",\"2023-05-18T00:00:00\",\"2023-05-19T00:00:00\",\"2023-05-22T00:00:00\",\"2023-05-23T00:00:00\",\"2023-05-24T00:00:00\",\"2023-05-25T00:00:00\",\"2023-05-26T00:00:00\",\"2023-05-30T00:00:00\",\"2023-05-31T00:00:00\",\"2023-06-01T00:00:00\",\"2023-06-02T00:00:00\",\"2023-06-05T00:00:00\",\"2023-06-07T00:00:00\",\"2023-06-08T00:00:00\",\"2023-06-09T00:00:00\",\"2023-06-12T00:00:00\",\"2023-06-13T00:00:00\",\"2023-06-14T00:00:00\",\"2023-06-15T00:00:00\",\"2023-06-16T00:00:00\",\"2023-06-19T00:00:00\",\"2023-06-20T00:00:00\",\"2023-06-21T00:00:00\",\"2023-06-22T00:00:00\",\"2023-06-23T00:00:00\",\"2023-06-26T00:00:00\",\"2023-06-27T00:00:00\",\"2023-06-28T00:00:00\",\"2023-06-29T00:00:00\",\"2023-06-30T00:00:00\",\"2023-07-03T00:00:00\",\"2023-07-04T00:00:00\",\"2023-07-05T00:00:00\",\"2023-07-06T00:00:00\",\"2023-07-07T00:00:00\",\"2023-07-10T00:00:00\",\"2023-07-11T00:00:00\",\"2023-07-12T00:00:00\",\"2023-07-13T00:00:00\",\"2023-07-14T00:00:00\",\"2023-07-17T00:00:00\",\"2023-07-18T00:00:00\",\"2023-07-19T00:00:00\",\"2023-07-20T00:00:00\",\"2023-07-21T00:00:00\",\"2023-07-24T00:00:00\",\"2023-07-25T00:00:00\",\"2023-07-26T00:00:00\",\"2023-07-27T00:00:00\",\"2023-07-28T00:00:00\",\"2023-07-31T00:00:00\",\"2023-08-01T00:00:00\",\"2023-08-02T00:00:00\",\"2023-08-03T00:00:00\",\"2023-08-04T00:00:00\",\"2023-08-07T00:00:00\",\"2023-08-08T00:00:00\",\"2023-08-09T00:00:00\",\"2023-08-10T00:00:00\",\"2023-08-11T00:00:00\",\"2023-08-14T00:00:00\",\"2023-08-16T00:00:00\",\"2023-08-17T00:00:00\",\"2023-08-18T00:00:00\",\"2023-08-21T00:00:00\",\"2023-08-22T00:00:00\",\"2023-08-23T00:00:00\",\"2023-08-24T00:00:00\",\"2023-08-25T00:00:00\",\"2023-08-28T00:00:00\",\"2023-08-29T00:00:00\",\"2023-08-30T00:00:00\",\"2023-08-31T00:00:00\",\"2023-09-01T00:00:00\",\"2023-09-04T00:00:00\",\"2023-09-05T00:00:00\",\"2023-09-06T00:00:00\",\"2023-09-07T00:00:00\",\"2023-09-08T00:00:00\",\"2023-09-11T00:00:00\",\"2023-09-12T00:00:00\",\"2023-09-13T00:00:00\",\"2023-09-14T00:00:00\",\"2023-09-15T00:00:00\",\"2023-09-18T00:00:00\",\"2023-09-19T00:00:00\",\"2023-09-20T00:00:00\",\"2023-09-21T00:00:00\",\"2023-09-22T00:00:00\",\"2023-09-25T00:00:00\",\"2023-09-26T00:00:00\",\"2023-09-27T00:00:00\",\"2023-10-04T00:00:00\",\"2023-10-05T00:00:00\",\"2023-10-06T00:00:00\",\"2023-10-10T00:00:00\",\"2023-10-11T00:00:00\",\"2023-10-12T00:00:00\",\"2023-10-13T00:00:00\",\"2023-10-16T00:00:00\",\"2023-10-17T00:00:00\",\"2023-10-18T00:00:00\",\"2023-10-19T00:00:00\",\"2023-10-20T00:00:00\",\"2023-10-23T00:00:00\",\"2023-10-24T00:00:00\",\"2023-10-25T00:00:00\",\"2023-10-26T00:00:00\",\"2023-10-27T00:00:00\",\"2023-10-30T00:00:00\",\"2023-10-31T00:00:00\"],\"xaxis\":\"x\",\"y\":[0.0,1.0,1.0,1.0,1.0,1.0,1.0,1.0,1.0,1.0,1.0,1.0,1.0,1.0,1.0,1.0,1.0,1.0,1.0,1.0,1.0,1.0,1.0,1.0,1.0,1.0,1.0,1.0,1.0,1.0,1.0,1.0,1.0,1.0,1.0,1.0,1.0,1.0,1.0,1.0,1.0,1.0,1.0,1.0,1.0,1.0,1.0,1.0,1.0,1.0,1.0,1.0,1.0,1.0,1.0,1.0,1.0,1.0,1.0,1.0,1.0,1.0,1.0,1.0000000000000002,1.0000000000000002,1.0000000000000002,1.0000000000000002,1.0000000000000002,1.0000000000000002,1.0000000000000002,1.0000000000000002,1.0000000000000002,1.0000000000000002,1.0000000000000002,1.0000000000000002,1.0000000000000002,1.0000000000000002,1.0000000000000002,1.0000000000000002,1.0000000000000002,1.0000000000000002,1.0000000000000002,1.0000000000000002,1.0000000000000002,0.9999999999999999,0.9999999999999999,0.9999999999999999,0.9999999999999999,0.9999999999999999,0.9999999999999999,0.9999999999999999,0.9999999999999999,0.9999999999999999,0.9999999999999999,0.9999999999999999,0.9999999999999999,0.9999999999999999,0.9999999999999999,0.9999999999999999,0.9999999999999999,0.9999999999999999,0.9999999999999999,0.9999999999999999,0.9999999999999999,0.9999999999999999,1.0,1.0,1.0,1.0,1.0,1.0,1.0,1.0,1.0,1.0,1.0,1.0,1.0,1.0,1.0,1.0,1.0,1.0,1.0,1.0,1.0,1.0,1.0,1.0,1.0,1.0,1.0,1.0,1.0,1.0,1.0,1.0,1.0,1.0,1.0,1.0,1.0,1.0,1.0,1.0,1.0,1.0,1.0,1.0,1.0,1.0,1.0,1.0,1.0,1.0,1.0,1.0,1.0,1.0,1.0,1.0,1.0,1.0,1.0,1.0],\"yaxis\":\"y\",\"type\":\"scatter\"}],                        {\"template\":{\"data\":{\"histogram2dcontour\":[{\"type\":\"histogram2dcontour\",\"colorbar\":{\"outlinewidth\":0,\"ticks\":\"\"},\"colorscale\":[[0.0,\"#0d0887\"],[0.1111111111111111,\"#46039f\"],[0.2222222222222222,\"#7201a8\"],[0.3333333333333333,\"#9c179e\"],[0.4444444444444444,\"#bd3786\"],[0.5555555555555556,\"#d8576b\"],[0.6666666666666666,\"#ed7953\"],[0.7777777777777778,\"#fb9f3a\"],[0.8888888888888888,\"#fdca26\"],[1.0,\"#f0f921\"]]}],\"choropleth\":[{\"type\":\"choropleth\",\"colorbar\":{\"outlinewidth\":0,\"ticks\":\"\"}}],\"histogram2d\":[{\"type\":\"histogram2d\",\"colorbar\":{\"outlinewidth\":0,\"ticks\":\"\"},\"colorscale\":[[0.0,\"#0d0887\"],[0.1111111111111111,\"#46039f\"],[0.2222222222222222,\"#7201a8\"],[0.3333333333333333,\"#9c179e\"],[0.4444444444444444,\"#bd3786\"],[0.5555555555555556,\"#d8576b\"],[0.6666666666666666,\"#ed7953\"],[0.7777777777777778,\"#fb9f3a\"],[0.8888888888888888,\"#fdca26\"],[1.0,\"#f0f921\"]]}],\"heatmap\":[{\"type\":\"heatmap\",\"colorbar\":{\"outlinewidth\":0,\"ticks\":\"\"},\"colorscale\":[[0.0,\"#0d0887\"],[0.1111111111111111,\"#46039f\"],[0.2222222222222222,\"#7201a8\"],[0.3333333333333333,\"#9c179e\"],[0.4444444444444444,\"#bd3786\"],[0.5555555555555556,\"#d8576b\"],[0.6666666666666666,\"#ed7953\"],[0.7777777777777778,\"#fb9f3a\"],[0.8888888888888888,\"#fdca26\"],[1.0,\"#f0f921\"]]}],\"heatmapgl\":[{\"type\":\"heatmapgl\",\"colorbar\":{\"outlinewidth\":0,\"ticks\":\"\"},\"colorscale\":[[0.0,\"#0d0887\"],[0.1111111111111111,\"#46039f\"],[0.2222222222222222,\"#7201a8\"],[0.3333333333333333,\"#9c179e\"],[0.4444444444444444,\"#bd3786\"],[0.5555555555555556,\"#d8576b\"],[0.6666666666666666,\"#ed7953\"],[0.7777777777777778,\"#fb9f3a\"],[0.8888888888888888,\"#fdca26\"],[1.0,\"#f0f921\"]]}],\"contourcarpet\":[{\"type\":\"contourcarpet\",\"colorbar\":{\"outlinewidth\":0,\"ticks\":\"\"}}],\"contour\":[{\"type\":\"contour\",\"colorbar\":{\"outlinewidth\":0,\"ticks\":\"\"},\"colorscale\":[[0.0,\"#0d0887\"],[0.1111111111111111,\"#46039f\"],[0.2222222222222222,\"#7201a8\"],[0.3333333333333333,\"#9c179e\"],[0.4444444444444444,\"#bd3786\"],[0.5555555555555556,\"#d8576b\"],[0.6666666666666666,\"#ed7953\"],[0.7777777777777778,\"#fb9f3a\"],[0.8888888888888888,\"#fdca26\"],[1.0,\"#f0f921\"]]}],\"surface\":[{\"type\":\"surface\",\"colorbar\":{\"outlinewidth\":0,\"ticks\":\"\"},\"colorscale\":[[0.0,\"#0d0887\"],[0.1111111111111111,\"#46039f\"],[0.2222222222222222,\"#7201a8\"],[0.3333333333333333,\"#9c179e\"],[0.4444444444444444,\"#bd3786\"],[0.5555555555555556,\"#d8576b\"],[0.6666666666666666,\"#ed7953\"],[0.7777777777777778,\"#fb9f3a\"],[0.8888888888888888,\"#fdca26\"],[1.0,\"#f0f921\"]]}],\"mesh3d\":[{\"type\":\"mesh3d\",\"colorbar\":{\"outlinewidth\":0,\"ticks\":\"\"}}],\"scatter\":[{\"fillpattern\":{\"fillmode\":\"overlay\",\"size\":10,\"solidity\":0.2},\"type\":\"scatter\"}],\"parcoords\":[{\"type\":\"parcoords\",\"line\":{\"colorbar\":{\"outlinewidth\":0,\"ticks\":\"\"}}}],\"scatterpolargl\":[{\"type\":\"scatterpolargl\",\"marker\":{\"colorbar\":{\"outlinewidth\":0,\"ticks\":\"\"}}}],\"bar\":[{\"error_x\":{\"color\":\"#2a3f5f\"},\"error_y\":{\"color\":\"#2a3f5f\"},\"marker\":{\"line\":{\"color\":\"#E5ECF6\",\"width\":0.5},\"pattern\":{\"fillmode\":\"overlay\",\"size\":10,\"solidity\":0.2}},\"type\":\"bar\"}],\"scattergeo\":[{\"type\":\"scattergeo\",\"marker\":{\"colorbar\":{\"outlinewidth\":0,\"ticks\":\"\"}}}],\"scatterpolar\":[{\"type\":\"scatterpolar\",\"marker\":{\"colorbar\":{\"outlinewidth\":0,\"ticks\":\"\"}}}],\"histogram\":[{\"marker\":{\"pattern\":{\"fillmode\":\"overlay\",\"size\":10,\"solidity\":0.2}},\"type\":\"histogram\"}],\"scattergl\":[{\"type\":\"scattergl\",\"marker\":{\"colorbar\":{\"outlinewidth\":0,\"ticks\":\"\"}}}],\"scatter3d\":[{\"type\":\"scatter3d\",\"line\":{\"colorbar\":{\"outlinewidth\":0,\"ticks\":\"\"}},\"marker\":{\"colorbar\":{\"outlinewidth\":0,\"ticks\":\"\"}}}],\"scattermapbox\":[{\"type\":\"scattermapbox\",\"marker\":{\"colorbar\":{\"outlinewidth\":0,\"ticks\":\"\"}}}],\"scatterternary\":[{\"type\":\"scatterternary\",\"marker\":{\"colorbar\":{\"outlinewidth\":0,\"ticks\":\"\"}}}],\"scattercarpet\":[{\"type\":\"scattercarpet\",\"marker\":{\"colorbar\":{\"outlinewidth\":0,\"ticks\":\"\"}}}],\"carpet\":[{\"aaxis\":{\"endlinecolor\":\"#2a3f5f\",\"gridcolor\":\"white\",\"linecolor\":\"white\",\"minorgridcolor\":\"white\",\"startlinecolor\":\"#2a3f5f\"},\"baxis\":{\"endlinecolor\":\"#2a3f5f\",\"gridcolor\":\"white\",\"linecolor\":\"white\",\"minorgridcolor\":\"white\",\"startlinecolor\":\"#2a3f5f\"},\"type\":\"carpet\"}],\"table\":[{\"cells\":{\"fill\":{\"color\":\"#EBF0F8\"},\"line\":{\"color\":\"white\"}},\"header\":{\"fill\":{\"color\":\"#C8D4E3\"},\"line\":{\"color\":\"white\"}},\"type\":\"table\"}],\"barpolar\":[{\"marker\":{\"line\":{\"color\":\"#E5ECF6\",\"width\":0.5},\"pattern\":{\"fillmode\":\"overlay\",\"size\":10,\"solidity\":0.2}},\"type\":\"barpolar\"}],\"pie\":[{\"automargin\":true,\"type\":\"pie\"}]},\"layout\":{\"autotypenumbers\":\"strict\",\"colorway\":[\"#636efa\",\"#EF553B\",\"#00cc96\",\"#ab63fa\",\"#FFA15A\",\"#19d3f3\",\"#FF6692\",\"#B6E880\",\"#FF97FF\",\"#FECB52\"],\"font\":{\"color\":\"#2a3f5f\"},\"hovermode\":\"closest\",\"hoverlabel\":{\"align\":\"left\"},\"paper_bgcolor\":\"white\",\"plot_bgcolor\":\"#E5ECF6\",\"polar\":{\"bgcolor\":\"#E5ECF6\",\"angularaxis\":{\"gridcolor\":\"white\",\"linecolor\":\"white\",\"ticks\":\"\"},\"radialaxis\":{\"gridcolor\":\"white\",\"linecolor\":\"white\",\"ticks\":\"\"}},\"ternary\":{\"bgcolor\":\"#E5ECF6\",\"aaxis\":{\"gridcolor\":\"white\",\"linecolor\":\"white\",\"ticks\":\"\"},\"baxis\":{\"gridcolor\":\"white\",\"linecolor\":\"white\",\"ticks\":\"\"},\"caxis\":{\"gridcolor\":\"white\",\"linecolor\":\"white\",\"ticks\":\"\"}},\"coloraxis\":{\"colorbar\":{\"outlinewidth\":0,\"ticks\":\"\"}},\"colorscale\":{\"sequential\":[[0.0,\"#0d0887\"],[0.1111111111111111,\"#46039f\"],[0.2222222222222222,\"#7201a8\"],[0.3333333333333333,\"#9c179e\"],[0.4444444444444444,\"#bd3786\"],[0.5555555555555556,\"#d8576b\"],[0.6666666666666666,\"#ed7953\"],[0.7777777777777778,\"#fb9f3a\"],[0.8888888888888888,\"#fdca26\"],[1.0,\"#f0f921\"]],\"sequentialminus\":[[0.0,\"#0d0887\"],[0.1111111111111111,\"#46039f\"],[0.2222222222222222,\"#7201a8\"],[0.3333333333333333,\"#9c179e\"],[0.4444444444444444,\"#bd3786\"],[0.5555555555555556,\"#d8576b\"],[0.6666666666666666,\"#ed7953\"],[0.7777777777777778,\"#fb9f3a\"],[0.8888888888888888,\"#fdca26\"],[1.0,\"#f0f921\"]],\"diverging\":[[0,\"#8e0152\"],[0.1,\"#c51b7d\"],[0.2,\"#de77ae\"],[0.3,\"#f1b6da\"],[0.4,\"#fde0ef\"],[0.5,\"#f7f7f7\"],[0.6,\"#e6f5d0\"],[0.7,\"#b8e186\"],[0.8,\"#7fbc41\"],[0.9,\"#4d9221\"],[1,\"#276419\"]]},\"xaxis\":{\"gridcolor\":\"white\",\"linecolor\":\"white\",\"ticks\":\"\",\"title\":{\"standoff\":15},\"zerolinecolor\":\"white\",\"automargin\":true,\"zerolinewidth\":2},\"yaxis\":{\"gridcolor\":\"white\",\"linecolor\":\"white\",\"ticks\":\"\",\"title\":{\"standoff\":15},\"zerolinecolor\":\"white\",\"automargin\":true,\"zerolinewidth\":2},\"scene\":{\"xaxis\":{\"backgroundcolor\":\"#E5ECF6\",\"gridcolor\":\"white\",\"linecolor\":\"white\",\"showbackground\":true,\"ticks\":\"\",\"zerolinecolor\":\"white\",\"gridwidth\":2},\"yaxis\":{\"backgroundcolor\":\"#E5ECF6\",\"gridcolor\":\"white\",\"linecolor\":\"white\",\"showbackground\":true,\"ticks\":\"\",\"zerolinecolor\":\"white\",\"gridwidth\":2},\"zaxis\":{\"backgroundcolor\":\"#E5ECF6\",\"gridcolor\":\"white\",\"linecolor\":\"white\",\"showbackground\":true,\"ticks\":\"\",\"zerolinecolor\":\"white\",\"gridwidth\":2}},\"shapedefaults\":{\"line\":{\"color\":\"#2a3f5f\"}},\"annotationdefaults\":{\"arrowcolor\":\"#2a3f5f\",\"arrowhead\":0,\"arrowwidth\":1},\"geo\":{\"bgcolor\":\"white\",\"landcolor\":\"#E5ECF6\",\"subunitcolor\":\"white\",\"showland\":true,\"showlakes\":true,\"lakecolor\":\"white\"},\"title\":{\"x\":0.05},\"mapbox\":{\"style\":\"light\"}}},\"xaxis\":{\"anchor\":\"y\",\"domain\":[0.0,1.0],\"title\":{\"text\":\"Dates\"}},\"yaxis\":{\"anchor\":\"x\",\"domain\":[0.0,1.0],\"title\":{\"text\":\"value\"}},\"legend\":{\"title\":{\"text\":\"variable\"},\"tracegroupgap\":0},\"margin\":{\"t\":60}},                        {\"responsive\": true}                    ).then(function(){\n",
       "                            \n",
       "var gd = document.getElementById('3238caf2-1b8b-4ab9-aeaa-0af21a1d2533');\n",
       "var x = new MutationObserver(function (mutations, observer) {{\n",
       "        var display = window.getComputedStyle(gd).display;\n",
       "        if (!display || display === 'none') {{\n",
       "            console.log([gd, 'removed!']);\n",
       "            Plotly.purge(gd);\n",
       "            observer.disconnect();\n",
       "        }}\n",
       "}});\n",
       "\n",
       "// Listen for the removal of the full notebook cells\n",
       "var notebookContainer = gd.closest('#notebook-container');\n",
       "if (notebookContainer) {{\n",
       "    x.observe(notebookContainer, {childList: true});\n",
       "}}\n",
       "\n",
       "// Listen for the clearing of the current output cell\n",
       "var outputEl = gd.closest('.output');\n",
       "if (outputEl) {{\n",
       "    x.observe(outputEl, {childList: true});\n",
       "}}\n",
       "\n",
       "                        })                };                });            </script>        </div>"
      ]
     },
     "metadata": {},
     "output_type": "display_data"
    }
   ],
   "source": [
    "daily_w.sum(1).plot()"
   ]
  },
  {
   "cell_type": "code",
   "execution_count": 121,
   "id": "4885fa6f-bb7e-4247-af29-0c776946ba3e",
   "metadata": {
    "execution": {
     "iopub.execute_input": "2023-11-08T06:58:08.129972Z",
     "iopub.status.busy": "2023-11-08T06:58:08.129473Z",
     "iopub.status.idle": "2023-11-08T06:58:08.148419Z",
     "shell.execute_reply": "2023-11-08T06:58:08.147255Z",
     "shell.execute_reply.started": "2023-11-08T06:58:08.129923Z"
    },
    "tags": []
   },
   "outputs": [],
   "source": [
    "mlq_ret=daily_w*ret_excess.loc[daily_w.index]\n",
    "mlq_idx_ret=mlq_ret.sum(1)"
   ]
  },
  {
   "cell_type": "code",
   "execution_count": 124,
   "id": "98a38328-28a3-4c71-be3b-3c30f96bad46",
   "metadata": {
    "execution": {
     "iopub.execute_input": "2023-11-08T06:58:11.725308Z",
     "iopub.status.busy": "2023-11-08T06:58:11.724754Z",
     "iopub.status.idle": "2023-11-08T06:58:11.741727Z",
     "shell.execute_reply": "2023-11-08T06:58:11.740875Z",
     "shell.execute_reply.started": "2023-11-08T06:58:11.725278Z"
    },
    "tags": []
   },
   "outputs": [],
   "source": [
    "idx_ret, idx_ret_cost, idx_cum_ret, idx_cum_retcost = perf.return_index(prc.loc[daily_w.index[0]:], \n",
    "                                                                        daily_w.fillna(0), \n",
    "                                                                        cost=.003)"
   ]
  },
  {
   "cell_type": "code",
   "execution_count": null,
   "id": "586eb924-c72e-49b6-938e-94a03e540a50",
   "metadata": {},
   "outputs": [],
   "source": []
  },
  {
   "cell_type": "code",
   "execution_count": 125,
   "id": "6a0b40ea-9d6a-4ca8-bfbf-876f3db6f0e6",
   "metadata": {
    "execution": {
     "iopub.execute_input": "2023-11-08T06:58:11.818231Z",
     "iopub.status.busy": "2023-11-08T06:58:11.818013Z",
     "iopub.status.idle": "2023-11-08T06:58:11.848845Z",
     "shell.execute_reply": "2023-11-08T06:58:11.847920Z",
     "shell.execute_reply.started": "2023-11-08T06:58:11.818209Z"
    },
    "tags": []
   },
   "outputs": [],
   "source": [
    "model_ret=pd.read_excel(data_path+'ret_strat.xlsx', index_col=0)"
   ]
  },
  {
   "cell_type": "code",
   "execution_count": 126,
   "id": "4a91a069-681e-4cee-aca8-0d3053979c84",
   "metadata": {
    "execution": {
     "iopub.execute_input": "2023-11-08T06:58:11.849786Z",
     "iopub.status.busy": "2023-11-08T06:58:11.849569Z",
     "iopub.status.idle": "2023-11-08T06:58:11.859598Z",
     "shell.execute_reply": "2023-11-08T06:58:11.858811Z",
     "shell.execute_reply.started": "2023-11-08T06:58:11.849765Z"
    },
    "tags": []
   },
   "outputs": [
    {
     "data": {
      "text/html": [
       "<div>\n",
       "<style scoped>\n",
       "    .dataframe tbody tr th:only-of-type {\n",
       "        vertical-align: middle;\n",
       "    }\n",
       "\n",
       "    .dataframe tbody tr th {\n",
       "        vertical-align: top;\n",
       "    }\n",
       "\n",
       "    .dataframe thead th {\n",
       "        text-align: right;\n",
       "    }\n",
       "</style>\n",
       "<table border=\"1\" class=\"dataframe\">\n",
       "  <thead>\n",
       "    <tr style=\"text-align: right;\">\n",
       "      <th></th>\n",
       "      <th>mfm</th>\n",
       "      <th>mfm_emp</th>\n",
       "      <th>dynamic</th>\n",
       "    </tr>\n",
       "  </thead>\n",
       "  <tbody>\n",
       "    <tr>\n",
       "      <th>2023-01-02</th>\n",
       "      <td>-0.008779</td>\n",
       "      <td>-0.007292</td>\n",
       "      <td>-0.006716</td>\n",
       "    </tr>\n",
       "    <tr>\n",
       "      <th>2023-01-03</th>\n",
       "      <td>0.001826</td>\n",
       "      <td>-0.000216</td>\n",
       "      <td>-0.000291</td>\n",
       "    </tr>\n",
       "    <tr>\n",
       "      <th>2023-01-04</th>\n",
       "      <td>0.019695</td>\n",
       "      <td>0.015465</td>\n",
       "      <td>0.018791</td>\n",
       "    </tr>\n",
       "    <tr>\n",
       "      <th>2023-01-05</th>\n",
       "      <td>0.001663</td>\n",
       "      <td>0.004127</td>\n",
       "      <td>0.004887</td>\n",
       "    </tr>\n",
       "    <tr>\n",
       "      <th>2023-01-06</th>\n",
       "      <td>0.014489</td>\n",
       "      <td>0.009787</td>\n",
       "      <td>0.012526</td>\n",
       "    </tr>\n",
       "    <tr>\n",
       "      <th>...</th>\n",
       "      <td>...</td>\n",
       "      <td>...</td>\n",
       "      <td>...</td>\n",
       "    </tr>\n",
       "    <tr>\n",
       "      <th>2023-10-25</th>\n",
       "      <td>NaN</td>\n",
       "      <td>NaN</td>\n",
       "      <td>-0.003267</td>\n",
       "    </tr>\n",
       "    <tr>\n",
       "      <th>2023-10-26</th>\n",
       "      <td>NaN</td>\n",
       "      <td>NaN</td>\n",
       "      <td>-0.027196</td>\n",
       "    </tr>\n",
       "    <tr>\n",
       "      <th>2023-10-27</th>\n",
       "      <td>NaN</td>\n",
       "      <td>NaN</td>\n",
       "      <td>0.003322</td>\n",
       "    </tr>\n",
       "    <tr>\n",
       "      <th>2023-10-30</th>\n",
       "      <td>NaN</td>\n",
       "      <td>NaN</td>\n",
       "      <td>0.005067</td>\n",
       "    </tr>\n",
       "    <tr>\n",
       "      <th>2023-10-31</th>\n",
       "      <td>NaN</td>\n",
       "      <td>NaN</td>\n",
       "      <td>-0.011032</td>\n",
       "    </tr>\n",
       "  </tbody>\n",
       "</table>\n",
       "<p>204 rows × 3 columns</p>\n",
       "</div>"
      ],
      "text/plain": [
       "                 mfm   mfm_emp   dynamic\n",
       "2023-01-02 -0.008779 -0.007292 -0.006716\n",
       "2023-01-03  0.001826 -0.000216 -0.000291\n",
       "2023-01-04  0.019695  0.015465  0.018791\n",
       "2023-01-05  0.001663  0.004127  0.004887\n",
       "2023-01-06  0.014489  0.009787  0.012526\n",
       "...              ...       ...       ...\n",
       "2023-10-25       NaN       NaN -0.003267\n",
       "2023-10-26       NaN       NaN -0.027196\n",
       "2023-10-27       NaN       NaN  0.003322\n",
       "2023-10-30       NaN       NaN  0.005067\n",
       "2023-10-31       NaN       NaN -0.011032\n",
       "\n",
       "[204 rows x 3 columns]"
      ]
     },
     "execution_count": 126,
     "metadata": {},
     "output_type": "execute_result"
    }
   ],
   "source": [
    "model_ret"
   ]
  },
  {
   "cell_type": "code",
   "execution_count": 127,
   "id": "8ffbf18f-c567-4cb5-ade5-2946f452ba8a",
   "metadata": {
    "execution": {
     "iopub.execute_input": "2023-11-08T06:58:11.860518Z",
     "iopub.status.busy": "2023-11-08T06:58:11.860299Z",
     "iopub.status.idle": "2023-11-08T06:58:11.874520Z",
     "shell.execute_reply": "2023-11-08T06:58:11.873433Z",
     "shell.execute_reply.started": "2023-11-08T06:58:11.860497Z"
    },
    "tags": []
   },
   "outputs": [],
   "source": [
    "final_ret=pd.concat([model_ret['dynamic'], idx_ret_cost, bm_ret], axis=1).dropna()\n",
    "final_ret.columns=['dynamic', 'mlq', 'k200', 'k200ew'] # 'mfm', 'mfm_emp', \n",
    "k200_ret_excess=final_ret[['dynamic', 'mlq']].subtract(final_ret['k200'], axis=0) # 'mfm', 'mfm_emp', \n",
    "k200ew_ret_excess=final_ret[['dynamic', 'mlq']].subtract(final_ret['k200ew'], axis=0) # 'mfm', 'mfm_emp', "
   ]
  },
  {
   "cell_type": "code",
   "execution_count": 128,
   "id": "85e28d7c-6eca-44b1-a6d0-be492f3a89ae",
   "metadata": {
    "execution": {
     "iopub.execute_input": "2023-11-08T06:58:11.875651Z",
     "iopub.status.busy": "2023-11-08T06:58:11.875367Z",
     "iopub.status.idle": "2023-11-08T06:58:11.879632Z",
     "shell.execute_reply": "2023-11-08T06:58:11.878727Z",
     "shell.execute_reply.started": "2023-11-08T06:58:11.875623Z"
    },
    "tags": []
   },
   "outputs": [],
   "source": [
    "final_cumret=((1+k200_ret_excess).cumprod()-1)\n",
    "final_cumret_ew=((1+k200ew_ret_excess).cumprod()-1)\n"
   ]
  },
  {
   "cell_type": "code",
   "execution_count": 132,
   "id": "f8766b34-cb85-460d-bc0f-fa18f404ca4b",
   "metadata": {
    "execution": {
     "iopub.execute_input": "2023-11-08T06:58:14.786314Z",
     "iopub.status.busy": "2023-11-08T06:58:14.785804Z",
     "iopub.status.idle": "2023-11-08T06:58:15.095425Z",
     "shell.execute_reply": "2023-11-08T06:58:15.094730Z",
     "shell.execute_reply.started": "2023-11-08T06:58:14.786263Z"
    },
    "tags": []
   },
   "outputs": [
    {
     "data": {
      "text/plain": [
       "<matplotlib.legend.Legend at 0x7f49e8ce2940>"
      ]
     },
     "execution_count": 132,
     "metadata": {},
     "output_type": "execute_result"
    },
    {
     "data": {
      "image/png": "[encoded data removed]",
      "text/plain": [
       "<Figure size 864x576 with 1 Axes>"
      ]
     },
     "metadata": {
      "needs_background": "light"
     },
     "output_type": "display_data"
    }
   ],
   "source": [
    "fig, ax1=plt.subplots(figsize=(12, 8))\n",
    "\n",
    "for col in k200_ret_excess.columns:\n",
    "    # final_value = final_cumret[col].iloc[-12]\n",
    "    plt.plot(k200_ret_excess.index, final_cumret[col], label=col)\n",
    "    # plt.text(final_cumret.index[-12], final_value, col, fontsize=14, va='bottom')\n",
    "\n",
    "plt.legend()"
   ]
  },
  {
   "cell_type": "code",
   "execution_count": null,
   "id": "1df7f409-142e-4040-8421-367452132dc8",
   "metadata": {},
   "outputs": [],
   "source": []
  },
  {
   "cell_type": "code",
   "execution_count": 133,
   "id": "ef52fb32-06ac-470d-ac3d-1dcf4bff654a",
   "metadata": {
    "execution": {
     "iopub.execute_input": "2023-11-08T06:58:17.047909Z",
     "iopub.status.busy": "2023-11-08T06:58:17.047297Z",
     "iopub.status.idle": "2023-11-08T06:58:17.070840Z",
     "shell.execute_reply": "2023-11-08T06:58:17.069809Z",
     "shell.execute_reply.started": "2023-11-08T06:58:17.047857Z"
    },
    "tags": []
   },
   "outputs": [],
   "source": [
    "# temp_perf0 = perf.analyze_performance(final_ret['mfm'], \n",
    "#                                      model_name = 'mfm',\n",
    "#                                      bm_return=final_ret['k200'])\n",
    "\n",
    "# temp_perf1 = perf.analyze_performance(final_ret['mfm_emp'], \n",
    "#                                      model_name = 'mfm_emp',\n",
    "#                                      bm_return=final_ret['k200'])\n",
    "\n",
    "temp_perf2 = perf.analyze_performance(final_ret['dynamic'], \n",
    "                                     model_name = 'dynamic',\n",
    "                                     bm_return=final_ret['k200'])\n",
    "\n",
    "temp_perf3 = perf.analyze_performance(final_ret['mlq'],\n",
    "                                     # weights = daily_w,\n",
    "                                     model_name = 'mlq',\n",
    "                                     bm_return=final_ret['k200'])"
   ]
  },
  {
   "cell_type": "code",
   "execution_count": 134,
   "id": "2d0b7499-e4b0-4dff-a20e-ea35a19bd2a5",
   "metadata": {
    "execution": {
     "iopub.execute_input": "2023-11-08T06:58:19.886774Z",
     "iopub.status.busy": "2023-11-08T06:58:19.886169Z",
     "iopub.status.idle": "2023-11-08T06:58:19.903764Z",
     "shell.execute_reply": "2023-11-08T06:58:19.902754Z",
     "shell.execute_reply.started": "2023-11-08T06:58:19.886721Z"
    },
    "tags": []
   },
   "outputs": [
    {
     "data": {
      "text/html": [
       "<div>\n",
       "<style scoped>\n",
       "    .dataframe tbody tr th:only-of-type {\n",
       "        vertical-align: middle;\n",
       "    }\n",
       "\n",
       "    .dataframe tbody tr th {\n",
       "        vertical-align: top;\n",
       "    }\n",
       "\n",
       "    .dataframe thead th {\n",
       "        text-align: right;\n",
       "    }\n",
       "</style>\n",
       "<table border=\"1\" class=\"dataframe\">\n",
       "  <thead>\n",
       "    <tr style=\"text-align: right;\">\n",
       "      <th></th>\n",
       "      <th>dynamic</th>\n",
       "      <th>mlq</th>\n",
       "    </tr>\n",
       "  </thead>\n",
       "  <tbody>\n",
       "    <tr>\n",
       "      <th>cum return(%)</th>\n",
       "      <td>3.11</td>\n",
       "      <td>6.35</td>\n",
       "    </tr>\n",
       "    <tr>\n",
       "      <th>cagr(%)</th>\n",
       "      <td>4.79</td>\n",
       "      <td>9.86</td>\n",
       "    </tr>\n",
       "    <tr>\n",
       "      <th>vol(te)</th>\n",
       "      <td>0.03</td>\n",
       "      <td>0.06</td>\n",
       "    </tr>\n",
       "    <tr>\n",
       "      <th>sharpe(ir)</th>\n",
       "      <td>1.78</td>\n",
       "      <td>1.63</td>\n",
       "    </tr>\n",
       "    <tr>\n",
       "      <th>mdd(%)</th>\n",
       "      <td>-1.5</td>\n",
       "      <td>-4.08</td>\n",
       "    </tr>\n",
       "    <tr>\n",
       "      <th>turnover(%)</th>\n",
       "      <td>0</td>\n",
       "      <td>0</td>\n",
       "    </tr>\n",
       "    <tr>\n",
       "      <th>start date</th>\n",
       "      <td>2023-02-28 00:00:00</td>\n",
       "      <td>2023-02-28 00:00:00</td>\n",
       "    </tr>\n",
       "    <tr>\n",
       "      <th>end date</th>\n",
       "      <td>2023-10-31 00:00:00</td>\n",
       "      <td>2023-10-31 00:00:00</td>\n",
       "    </tr>\n",
       "  </tbody>\n",
       "</table>\n",
       "</div>"
      ],
      "text/plain": [
       "                           dynamic                  mlq\n",
       "cum return(%)                 3.11                 6.35\n",
       "cagr(%)                       4.79                 9.86\n",
       "vol(te)                       0.03                 0.06\n",
       "sharpe(ir)                    1.78                 1.63\n",
       "mdd(%)                        -1.5                -4.08\n",
       "turnover(%)                      0                    0\n",
       "start date     2023-02-28 00:00:00  2023-02-28 00:00:00\n",
       "end date       2023-10-31 00:00:00  2023-10-31 00:00:00"
      ]
     },
     "execution_count": 134,
     "metadata": {},
     "output_type": "execute_result"
    }
   ],
   "source": [
    "pd.concat([temp_perf2, temp_perf3]).T # temp_perf0, temp_perf1, "
   ]
  },
  {
   "cell_type": "code",
   "execution_count": 135,
   "id": "8358229e-5b1a-436b-bde7-7d21d290f65b",
   "metadata": {
    "execution": {
     "iopub.execute_input": "2023-11-08T06:58:20.166045Z",
     "iopub.status.busy": "2023-11-08T06:58:20.165532Z",
     "iopub.status.idle": "2023-11-08T06:58:20.413633Z",
     "shell.execute_reply": "2023-11-08T06:58:20.412788Z",
     "shell.execute_reply.started": "2023-11-08T06:58:20.165994Z"
    },
    "tags": []
   },
   "outputs": [
    {
     "data": {
      "text/plain": [
       "<matplotlib.legend.Legend at 0x7f49c927d640>"
      ]
     },
     "execution_count": 135,
     "metadata": {},
     "output_type": "execute_result"
    },
    {
     "data": {
      "image/png": "[encoded data removed]",
      "text/plain": [
       "<Figure size 864x576 with 1 Axes>"
      ]
     },
     "metadata": {
      "needs_background": "light"
     },
     "output_type": "display_data"
    }
   ],
   "source": [
    "fig, ax1=plt.subplots(figsize=(12, 8))\n",
    "\n",
    "for col in k200ew_ret_excess.columns:\n",
    "    plt.plot(k200ew_ret_excess.index, final_cumret_ew[col], label=col)\n",
    "\n",
    "    # final_value = final_cumret_ew[col].iloc[-12]\n",
    "    # plt.text(final_cumret_ew.index[-12], final_value, col, fontsize=14, va='bottom')\n",
    "    \n",
    "plt.legend()"
   ]
  },
  {
   "cell_type": "code",
   "execution_count": 136,
   "id": "9b1729c1-1765-46ad-b41c-8b85c7f73fb5",
   "metadata": {
    "execution": {
     "iopub.execute_input": "2023-11-08T06:58:24.536301Z",
     "iopub.status.busy": "2023-11-08T06:58:24.535685Z",
     "iopub.status.idle": "2023-11-08T06:58:24.556622Z",
     "shell.execute_reply": "2023-11-08T06:58:24.555437Z",
     "shell.execute_reply.started": "2023-11-08T06:58:24.536247Z"
    },
    "tags": []
   },
   "outputs": [],
   "source": [
    "# temp_perf0 = perf.analyze_performance(final_ret['mfm'], \n",
    "#                                      model_name = 'mfm',\n",
    "#                                      bm_return=final_ret['k200ew'])\n",
    "\n",
    "# temp_perf1 = perf.analyze_performance(final_ret['mfm_emp'], \n",
    "#                                      model_name = 'mfm_emp',\n",
    "#                                      bm_return=final_ret['k200ew'])\n",
    "\n",
    "temp_perf2 = perf.analyze_performance(final_ret['dynamic'], \n",
    "                                     model_name = 'dynamic',\n",
    "                                     bm_return=final_ret['k200ew'])\n",
    "\n",
    "temp_perf3 = perf.analyze_performance(final_ret['mlq'],\n",
    "                                     # weights = daily_w,\n",
    "                                     model_name = 'mlq',\n",
    "                                     bm_return=final_ret['k200ew'])"
   ]
  },
  {
   "cell_type": "code",
   "execution_count": 137,
   "id": "8d04350c-16f9-4d71-ad7c-ea1dcf1ff982",
   "metadata": {
    "execution": {
     "iopub.execute_input": "2023-11-08T06:58:24.797098Z",
     "iopub.status.busy": "2023-11-08T06:58:24.796569Z",
     "iopub.status.idle": "2023-11-08T06:58:24.812558Z",
     "shell.execute_reply": "2023-11-08T06:58:24.811650Z",
     "shell.execute_reply.started": "2023-11-08T06:58:24.797029Z"
    },
    "tags": []
   },
   "outputs": [
    {
     "data": {
      "text/html": [
       "<div>\n",
       "<style scoped>\n",
       "    .dataframe tbody tr th:only-of-type {\n",
       "        vertical-align: middle;\n",
       "    }\n",
       "\n",
       "    .dataframe tbody tr th {\n",
       "        vertical-align: top;\n",
       "    }\n",
       "\n",
       "    .dataframe thead th {\n",
       "        text-align: right;\n",
       "    }\n",
       "</style>\n",
       "<table border=\"1\" class=\"dataframe\">\n",
       "  <thead>\n",
       "    <tr style=\"text-align: right;\">\n",
       "      <th></th>\n",
       "      <th>dynamic</th>\n",
       "      <th>mlq</th>\n",
       "    </tr>\n",
       "  </thead>\n",
       "  <tbody>\n",
       "    <tr>\n",
       "      <th>cum return(%)</th>\n",
       "      <td>6.66</td>\n",
       "      <td>10.22</td>\n",
       "    </tr>\n",
       "    <tr>\n",
       "      <th>cagr(%)</th>\n",
       "      <td>10.35</td>\n",
       "      <td>16.01</td>\n",
       "    </tr>\n",
       "    <tr>\n",
       "      <th>vol(te)</th>\n",
       "      <td>0.09</td>\n",
       "      <td>0.07</td>\n",
       "    </tr>\n",
       "    <tr>\n",
       "      <th>sharpe(ir)</th>\n",
       "      <td>1.2</td>\n",
       "      <td>2.32</td>\n",
       "    </tr>\n",
       "    <tr>\n",
       "      <th>mdd(%)</th>\n",
       "      <td>-5.79</td>\n",
       "      <td>-2.31</td>\n",
       "    </tr>\n",
       "    <tr>\n",
       "      <th>turnover(%)</th>\n",
       "      <td>0</td>\n",
       "      <td>0</td>\n",
       "    </tr>\n",
       "    <tr>\n",
       "      <th>start date</th>\n",
       "      <td>2023-02-28 00:00:00</td>\n",
       "      <td>2023-02-28 00:00:00</td>\n",
       "    </tr>\n",
       "    <tr>\n",
       "      <th>end date</th>\n",
       "      <td>2023-10-31 00:00:00</td>\n",
       "      <td>2023-10-31 00:00:00</td>\n",
       "    </tr>\n",
       "  </tbody>\n",
       "</table>\n",
       "</div>"
      ],
      "text/plain": [
       "                           dynamic                  mlq\n",
       "cum return(%)                 6.66                10.22\n",
       "cagr(%)                      10.35                16.01\n",
       "vol(te)                       0.09                 0.07\n",
       "sharpe(ir)                     1.2                 2.32\n",
       "mdd(%)                       -5.79                -2.31\n",
       "turnover(%)                      0                    0\n",
       "start date     2023-02-28 00:00:00  2023-02-28 00:00:00\n",
       "end date       2023-10-31 00:00:00  2023-10-31 00:00:00"
      ]
     },
     "execution_count": 137,
     "metadata": {},
     "output_type": "execute_result"
    }
   ],
   "source": [
    "pd.concat([temp_perf2, temp_perf3]).T # temp_perf0, temp_perf1, "
   ]
  },
  {
   "cell_type": "code",
   "execution_count": null,
   "id": "1fdffcee-85b4-4fef-a4d2-f9ad5229635d",
   "metadata": {},
   "outputs": [],
   "source": []
  },
  {
   "cell_type": "code",
   "execution_count": null,
   "id": "3e6f832f-213f-45b1-a79f-0c99fb46cb72",
   "metadata": {},
   "outputs": [],
   "source": []
  },
  {
   "cell_type": "code",
   "execution_count": 138,
   "id": "a77953dd-c1b2-4b1d-8ab0-35081dfed678",
   "metadata": {
    "execution": {
     "iopub.execute_input": "2023-11-08T06:58:27.446873Z",
     "iopub.status.busy": "2023-11-08T06:58:27.446272Z",
     "iopub.status.idle": "2023-11-08T06:58:27.457399Z",
     "shell.execute_reply": "2023-11-08T06:58:27.456326Z",
     "shell.execute_reply.started": "2023-11-08T06:58:27.446821Z"
    },
    "tags": []
   },
   "outputs": [
    {
     "data": {
      "text/plain": [
       "4.36129337505927"
      ]
     },
     "execution_count": 138,
     "metadata": {},
     "output_type": "execute_result"
    }
   ],
   "source": [
    "w_diff=abs(daily_w.diff(1))\n",
    "np.sum(w_diff).sum()"
   ]
  },
  {
   "cell_type": "code",
   "execution_count": 139,
   "id": "d2245092-0f73-4919-b59d-fa772396f4fd",
   "metadata": {
    "execution": {
     "iopub.execute_input": "2023-11-08T06:58:27.690908Z",
     "iopub.status.busy": "2023-11-08T06:58:27.690672Z",
     "iopub.status.idle": "2023-11-08T06:58:27.696593Z",
     "shell.execute_reply": "2023-11-08T06:58:27.695994Z",
     "shell.execute_reply.started": "2023-11-08T06:58:27.690885Z"
    },
    "tags": []
   },
   "outputs": [
    {
     "data": {
      "text/plain": [
       "9.61221580021587"
      ]
     },
     "execution_count": 139,
     "metadata": {},
     "output_type": "execute_result"
    }
   ],
   "source": [
    "np.sum(w_diff).sum()**(1/(len(w_diff.index)-1)*252)"
   ]
  },
  {
   "cell_type": "code",
   "execution_count": 140,
   "id": "83c05bc5-0856-4b8f-953d-cd4b58ca0f84",
   "metadata": {
    "execution": {
     "iopub.execute_input": "2023-11-08T06:58:27.835580Z",
     "iopub.status.busy": "2023-11-08T06:58:27.835341Z",
     "iopub.status.idle": "2023-11-08T06:58:27.844733Z",
     "shell.execute_reply": "2023-11-08T06:58:27.843910Z",
     "shell.execute_reply.started": "2023-11-08T06:58:27.835558Z"
    },
    "tags": []
   },
   "outputs": [
    {
     "data": {
      "text/html": [
       "<div>\n",
       "<style scoped>\n",
       "    .dataframe tbody tr th:only-of-type {\n",
       "        vertical-align: middle;\n",
       "    }\n",
       "\n",
       "    .dataframe tbody tr th {\n",
       "        vertical-align: top;\n",
       "    }\n",
       "\n",
       "    .dataframe thead th {\n",
       "        text-align: right;\n",
       "    }\n",
       "</style>\n",
       "<table border=\"1\" class=\"dataframe\">\n",
       "  <thead>\n",
       "    <tr style=\"text-align: right;\">\n",
       "      <th></th>\n",
       "      <th>dynamic</th>\n",
       "      <th>mlq</th>\n",
       "    </tr>\n",
       "  </thead>\n",
       "  <tbody>\n",
       "    <tr>\n",
       "      <th>2023-02-28</th>\n",
       "      <td>-0.000062</td>\n",
       "      <td>-0.002739</td>\n",
       "    </tr>\n",
       "    <tr>\n",
       "      <th>2023-03-02</th>\n",
       "      <td>0.000653</td>\n",
       "      <td>0.001117</td>\n",
       "    </tr>\n",
       "    <tr>\n",
       "      <th>2023-03-03</th>\n",
       "      <td>0.000816</td>\n",
       "      <td>-0.004172</td>\n",
       "    </tr>\n",
       "    <tr>\n",
       "      <th>2023-03-06</th>\n",
       "      <td>-0.003231</td>\n",
       "      <td>-0.009897</td>\n",
       "    </tr>\n",
       "    <tr>\n",
       "      <th>2023-03-07</th>\n",
       "      <td>0.003088</td>\n",
       "      <td>-0.001329</td>\n",
       "    </tr>\n",
       "    <tr>\n",
       "      <th>...</th>\n",
       "      <td>...</td>\n",
       "      <td>...</td>\n",
       "    </tr>\n",
       "    <tr>\n",
       "      <th>2023-10-25</th>\n",
       "      <td>0.002825</td>\n",
       "      <td>0.012169</td>\n",
       "    </tr>\n",
       "    <tr>\n",
       "      <th>2023-10-26</th>\n",
       "      <td>0.000419</td>\n",
       "      <td>0.009268</td>\n",
       "    </tr>\n",
       "    <tr>\n",
       "      <th>2023-10-27</th>\n",
       "      <td>0.000788</td>\n",
       "      <td>0.001518</td>\n",
       "    </tr>\n",
       "    <tr>\n",
       "      <th>2023-10-30</th>\n",
       "      <td>0.003706</td>\n",
       "      <td>0.003346</td>\n",
       "    </tr>\n",
       "    <tr>\n",
       "      <th>2023-10-31</th>\n",
       "      <td>-0.000060</td>\n",
       "      <td>0.008464</td>\n",
       "    </tr>\n",
       "  </tbody>\n",
       "</table>\n",
       "<p>165 rows × 2 columns</p>\n",
       "</div>"
      ],
      "text/plain": [
       "             dynamic       mlq\n",
       "2023-02-28 -0.000062 -0.002739\n",
       "2023-03-02  0.000653  0.001117\n",
       "2023-03-03  0.000816 -0.004172\n",
       "2023-03-06 -0.003231 -0.009897\n",
       "2023-03-07  0.003088 -0.001329\n",
       "...              ...       ...\n",
       "2023-10-25  0.002825  0.012169\n",
       "2023-10-26  0.000419  0.009268\n",
       "2023-10-27  0.000788  0.001518\n",
       "2023-10-30  0.003706  0.003346\n",
       "2023-10-31 -0.000060  0.008464\n",
       "\n",
       "[165 rows x 2 columns]"
      ]
     },
     "execution_count": 140,
     "metadata": {},
     "output_type": "execute_result"
    }
   ],
   "source": [
    "k200_ret_excess"
   ]
  },
  {
   "cell_type": "code",
   "execution_count": 141,
   "id": "f6629df1-6c5f-41a8-a582-6f343bab5fd1",
   "metadata": {
    "execution": {
     "iopub.execute_input": "2023-11-08T06:58:28.017361Z",
     "iopub.status.busy": "2023-11-08T06:58:28.017125Z",
     "iopub.status.idle": "2023-11-08T06:58:28.287507Z",
     "shell.execute_reply": "2023-11-08T06:58:28.286612Z",
     "shell.execute_reply.started": "2023-11-08T06:58:28.017338Z"
    },
    "tags": []
   },
   "outputs": [
    {
     "name": "stdout",
     "output_type": "stream",
     "text": [
      "2023-03-31 00:00:00\n",
      "2023-04-28 00:00:00\n",
      "2023-05-31 00:00:00\n",
      "2023-06-30 00:00:00\n",
      "2023-07-31 00:00:00\n",
      "2023-08-31 00:00:00\n",
      "2023-09-27 00:00:00\n",
      "2023-10-31 00:00:00\n"
     ]
    },
    {
     "data": {
      "image/png": "[encoded data removed]",
      "text/plain": [
       "<Figure size 864x576 with 1 Axes>"
      ]
     },
     "metadata": {
      "needs_background": "light"
     },
     "output_type": "display_data"
    }
   ],
   "source": [
    "cumret_ls=[]\n",
    "lastret_ls=[]\n",
    "bm_ls=[]\n",
    "init_ls=[]\n",
    "end_ls=[]\n",
    "\n",
    "temp_eom=k200_ret_excess.index+pd.offsets.MonthEnd(0)\n",
    "temp_eom=temp_eom.unique()\n",
    "for idx in temp_eom[1:]:\n",
    "    \n",
    "    temp_df = k200_ret_excess.loc[k200_ret_excess.index.to_period('M')==idx.to_period('M')]\n",
    "    temp_cum_ret=(1+temp_df).cumprod()-1\n",
    "    \n",
    "    temp_bm=bm_ret.loc[bm_ret.index.to_period('M')==idx.to_period('M')]           \n",
    "    temp_bm_ret=(1+temp_bm).cumprod()-1\n",
    "    \n",
    "    if temp_cum_ret.index[-1] not in init_ls:\n",
    "        init_ls.append(temp_cum_ret.index[-1])\n",
    "        end_ls.append(temp_cum_ret.index[0])\n",
    "        \n",
    "        bm_ls.append(temp_bm_ret)\n",
    "        cumret_ls.append(temp_cum_ret)\n",
    "        lastret_ls.append(temp_cum_ret.iloc[-1])\n",
    "                \n",
    "\n",
    "bm_ret_m=pd.concat(bm_ls) #.sort_index()\n",
    "ret_m=pd.concat(cumret_ls) #.sort_index()\n",
    "\n",
    "# ret_bm_m=pd.concat([ret_m, bm_ret_m], axis=1).dropna()\n",
    "# ret_bm_m.columns=['dynamic', 'mlq', 'k200', 'k200ew'] # 'mfm', 'mfm_emp', \n",
    "\n",
    "\n",
    "fig, ax1=plt.subplots(figsize=(12, 8))\n",
    "\n",
    "for col in ret_m.columns:\n",
    "    plt.plot(ret_m.index, ret_m.loc[:, col], label=col)\n",
    "    # plt.plot(ret_bm_m.index, ret_bm_m.iloc[:, -1], linewidth=2.5, linestyle='--')\n",
    "\n",
    "for j, vl in enumerate(init_ls):\n",
    "    print(vl)\n",
    "    plt.axvline(x=vl, color='gray', linestyle='-', linewidth=3)\n",
    "    plt.axvline(x=end_ls[j], color='gray', linestyle='-', linewidth=3)\n",
    "    \n",
    "# for col in ret_bm_m.columns:\n",
    "    # final_value = ret_bm_m[col].iloc[-12]\n",
    "    # plt.text(temp_cum_ret.index[-12], final_value, col, fontsize=14, va='bottom')\n",
    "    # plt.text(1, y[i], str(txt), ha='center', va='bottom', fontsize=10, loc='best')\n",
    "\n",
    "plt.legend()\n",
    "plt.show()"
   ]
  },
  {
   "cell_type": "code",
   "execution_count": 142,
   "id": "c64c1dc9-b11c-4faf-80b0-5749c91e37f8",
   "metadata": {
    "execution": {
     "iopub.execute_input": "2023-11-08T06:58:31.655918Z",
     "iopub.status.busy": "2023-11-08T06:58:31.655261Z",
     "iopub.status.idle": "2023-11-08T06:58:31.674358Z",
     "shell.execute_reply": "2023-11-08T06:58:31.673352Z",
     "shell.execute_reply.started": "2023-11-08T06:58:31.655863Z"
    },
    "tags": []
   },
   "outputs": [
    {
     "data": {
      "text/html": [
       "<div>\n",
       "<style scoped>\n",
       "    .dataframe tbody tr th:only-of-type {\n",
       "        vertical-align: middle;\n",
       "    }\n",
       "\n",
       "    .dataframe tbody tr th {\n",
       "        vertical-align: top;\n",
       "    }\n",
       "\n",
       "    .dataframe thead th {\n",
       "        text-align: right;\n",
       "    }\n",
       "</style>\n",
       "<table border=\"1\" class=\"dataframe\">\n",
       "  <thead>\n",
       "    <tr style=\"text-align: right;\">\n",
       "      <th></th>\n",
       "      <th>dynamic</th>\n",
       "      <th>mlq</th>\n",
       "    </tr>\n",
       "  </thead>\n",
       "  <tbody>\n",
       "    <tr>\n",
       "      <th>2023-03-31</th>\n",
       "      <td>0.008161</td>\n",
       "      <td>-0.016559</td>\n",
       "    </tr>\n",
       "    <tr>\n",
       "      <th>2023-04-28</th>\n",
       "      <td>0.004024</td>\n",
       "      <td>-0.009174</td>\n",
       "    </tr>\n",
       "    <tr>\n",
       "      <th>2023-05-31</th>\n",
       "      <td>-0.004404</td>\n",
       "      <td>-0.006459</td>\n",
       "    </tr>\n",
       "    <tr>\n",
       "      <th>2023-06-30</th>\n",
       "      <td>0.008547</td>\n",
       "      <td>0.008716</td>\n",
       "    </tr>\n",
       "    <tr>\n",
       "      <th>2023-07-31</th>\n",
       "      <td>-0.010163</td>\n",
       "      <td>-0.007635</td>\n",
       "    </tr>\n",
       "    <tr>\n",
       "      <th>2023-08-31</th>\n",
       "      <td>0.004498</td>\n",
       "      <td>0.028920</td>\n",
       "    </tr>\n",
       "    <tr>\n",
       "      <th>2023-09-27</th>\n",
       "      <td>0.013514</td>\n",
       "      <td>0.030034</td>\n",
       "    </tr>\n",
       "    <tr>\n",
       "      <th>2023-10-31</th>\n",
       "      <td>0.006785</td>\n",
       "      <td>0.038293</td>\n",
       "    </tr>\n",
       "  </tbody>\n",
       "</table>\n",
       "</div>"
      ],
      "text/plain": [
       "             dynamic       mlq\n",
       "2023-03-31  0.008161 -0.016559\n",
       "2023-04-28  0.004024 -0.009174\n",
       "2023-05-31 -0.004404 -0.006459\n",
       "2023-06-30  0.008547  0.008716\n",
       "2023-07-31 -0.010163 -0.007635\n",
       "2023-08-31  0.004498  0.028920\n",
       "2023-09-27  0.013514  0.030034\n",
       "2023-10-31  0.006785  0.038293"
      ]
     },
     "execution_count": 142,
     "metadata": {},
     "output_type": "execute_result"
    }
   ],
   "source": [
    "month_endret=pd.concat(lastret_ls, axis=1).T\n",
    "month_endret"
   ]
  },
  {
   "cell_type": "code",
   "execution_count": 143,
   "id": "4cdb319c-ce6a-47e4-a334-3112885fd5da",
   "metadata": {
    "execution": {
     "iopub.execute_input": "2023-11-08T06:58:31.958209Z",
     "iopub.status.busy": "2023-11-08T06:58:31.957975Z",
     "iopub.status.idle": "2023-11-08T06:58:31.961427Z",
     "shell.execute_reply": "2023-11-08T06:58:31.960617Z",
     "shell.execute_reply.started": "2023-11-08T06:58:31.958186Z"
    },
    "tags": []
   },
   "outputs": [],
   "source": [
    "month_endret.index.name='Dates'"
   ]
  },
  {
   "cell_type": "code",
   "execution_count": null,
   "id": "2405da58-de16-4854-b67b-a35beb597196",
   "metadata": {
    "tags": []
   },
   "outputs": [],
   "source": []
  },
  {
   "cell_type": "code",
   "execution_count": 144,
   "id": "fd8f77e3-24d8-4329-9042-0e83d8d2a66b",
   "metadata": {
    "execution": {
     "iopub.execute_input": "2023-11-08T06:58:32.485847Z",
     "iopub.status.busy": "2023-11-08T06:58:32.485225Z",
     "iopub.status.idle": "2023-11-08T06:58:32.743503Z",
     "shell.execute_reply": "2023-11-08T06:58:32.742801Z",
     "shell.execute_reply.started": "2023-11-08T06:58:32.485794Z"
    },
    "tags": []
   },
   "outputs": [
    {
     "data": {
      "image/png": "[encoded data removed]",
      "text/plain": [
       "<Figure size 864x576 with 1 Axes>"
      ]
     },
     "metadata": {
      "needs_background": "light"
     },
     "output_type": "display_data"
    }
   ],
   "source": [
    "# plt.figure(figsize=(12, 8))\n",
    "fig, ax = plt.subplots(figsize = (12, 8))\n",
    "\n",
    "for i, col in enumerate(month_endret.columns):\n",
    "    plt.bar(month_endret.index + pd.DateOffset(days=i*2), month_endret[col], 2)\n",
    "    \n",
    "ax.legend(labels = month_endret.columns,\n",
    "      fontsize = 12,\n",
    "      title_fontsize = 18)\n",
    "ax.legend_.set_bbox_to_anchor([0.3, 1])\n",
    "    "
   ]
  },
  {
   "cell_type": "code",
   "execution_count": null,
   "id": "61d26233-cbe7-43d3-b6d0-2eb96f133f26",
   "metadata": {},
   "outputs": [],
   "source": []
  },
  {
   "cell_type": "code",
   "execution_count": null,
   "id": "4c15b707-1453-4219-b453-04424f576c5a",
   "metadata": {},
   "outputs": [],
   "source": []
  },
  {
   "cell_type": "markdown",
   "id": "3a20fdca-9e0e-48cb-93e3-00a00e4d2be0",
   "metadata": {
    "execution": {
     "iopub.execute_input": "2023-08-31T08:44:56.967528Z",
     "iopub.status.busy": "2023-08-31T08:44:56.966858Z",
     "iopub.status.idle": "2023-08-31T08:44:56.972845Z",
     "shell.execute_reply": "2023-08-31T08:44:56.971472Z",
     "shell.execute_reply.started": "2023-08-31T08:44:56.967468Z"
    }
   },
   "source": [
    "# correlation among strategy & factors"
   ]
  },
  {
   "cell_type": "code",
   "execution_count": 145,
   "id": "bba13b84-0bc4-4dd3-80c3-2296bbb868eb",
   "metadata": {
    "execution": {
     "iopub.execute_input": "2023-11-08T06:58:43.016740Z",
     "iopub.status.busy": "2023-11-08T06:58:43.016113Z",
     "iopub.status.idle": "2023-11-08T06:58:43.030284Z",
     "shell.execute_reply": "2023-11-08T06:58:43.029089Z",
     "shell.execute_reply.started": "2023-11-08T06:58:43.016687Z"
    },
    "tags": []
   },
   "outputs": [
    {
     "data": {
      "text/html": [
       "<div>\n",
       "<style scoped>\n",
       "    .dataframe tbody tr th:only-of-type {\n",
       "        vertical-align: middle;\n",
       "    }\n",
       "\n",
       "    .dataframe tbody tr th {\n",
       "        vertical-align: top;\n",
       "    }\n",
       "\n",
       "    .dataframe thead th {\n",
       "        text-align: right;\n",
       "    }\n",
       "</style>\n",
       "<table border=\"1\" class=\"dataframe\">\n",
       "  <thead>\n",
       "    <tr style=\"text-align: right;\">\n",
       "      <th></th>\n",
       "      <th>dynamic</th>\n",
       "      <th>mlq</th>\n",
       "    </tr>\n",
       "  </thead>\n",
       "  <tbody>\n",
       "    <tr>\n",
       "      <th>dynamic</th>\n",
       "      <td>1.000000</td>\n",
       "      <td>0.307295</td>\n",
       "    </tr>\n",
       "    <tr>\n",
       "      <th>mlq</th>\n",
       "      <td>0.307295</td>\n",
       "      <td>1.000000</td>\n",
       "    </tr>\n",
       "  </tbody>\n",
       "</table>\n",
       "</div>"
      ],
      "text/plain": [
       "          dynamic       mlq\n",
       "dynamic  1.000000  0.307295\n",
       "mlq      0.307295  1.000000"
      ]
     },
     "execution_count": 145,
     "metadata": {},
     "output_type": "execute_result"
    }
   ],
   "source": [
    "k200_ret_excess.corr()"
   ]
  },
  {
   "cell_type": "code",
   "execution_count": 146,
   "id": "d9c992f0-f81f-4f6a-94d1-45f31fe8d060",
   "metadata": {
    "execution": {
     "iopub.execute_input": "2023-11-08T06:58:43.333616Z",
     "iopub.status.busy": "2023-11-08T06:58:43.333370Z",
     "iopub.status.idle": "2023-11-08T06:58:43.498763Z",
     "shell.execute_reply": "2023-11-08T06:58:43.497846Z",
     "shell.execute_reply.started": "2023-11-08T06:58:43.333592Z"
    },
    "tags": []
   },
   "outputs": [
    {
     "data": {
      "text/plain": [
       "<AxesSubplot: >"
      ]
     },
     "execution_count": 146,
     "metadata": {},
     "output_type": "execute_result"
    },
    {
     "data": {
      "image/png": "[encoded data removed]",
      "text/plain": [
       "<Figure size 432x288 with 2 Axes>"
      ]
     },
     "metadata": {
      "needs_background": "light"
     },
     "output_type": "display_data"
    }
   ],
   "source": [
    "sns.heatmap(k200_ret_excess.corr())"
   ]
  },
  {
   "cell_type": "code",
   "execution_count": null,
   "id": "f3143ad4-ab36-4225-b46c-fc251598e6b3",
   "metadata": {},
   "outputs": [],
   "source": []
  },
  {
   "cell_type": "code",
   "execution_count": null,
   "id": "98249d83-6604-4e55-bcfa-c20d4cf2333f",
   "metadata": {},
   "outputs": [],
   "source": []
  },
  {
   "cell_type": "code",
   "execution_count": null,
   "id": "15f53402-f6b4-4bac-9f36-667703fd43af",
   "metadata": {},
   "outputs": [],
   "source": []
  },
  {
   "cell_type": "markdown",
   "id": "cc71a0c0-1213-493a-a96a-69cec515e268",
   "metadata": {},
   "source": [
    "### factor exposure & return contribution"
   ]
  },
  {
   "cell_type": "code",
   "execution_count": null,
   "id": "e82dabf3-09f7-4a58-96ae-af3c5e51590f",
   "metadata": {},
   "outputs": [],
   "source": []
  },
  {
   "cell_type": "code",
   "execution_count": null,
   "id": "87822338-c668-45c0-b168-399bc4e0dcab",
   "metadata": {},
   "outputs": [],
   "source": []
  },
  {
   "cell_type": "markdown",
   "id": "6e4ce8ea-48f1-4f68-89f6-aeb9c574fc41",
   "metadata": {
    "execution": {
     "iopub.execute_input": "2023-09-04T06:57:29.221869Z",
     "iopub.status.busy": "2023-09-04T06:57:29.221005Z",
     "iopub.status.idle": "2023-09-04T06:57:29.226778Z",
     "shell.execute_reply": "2023-09-04T06:57:29.225535Z",
     "shell.execute_reply.started": "2023-09-04T06:57:29.221800Z"
    },
    "tags": []
   },
   "source": [
    "# market cap in port components"
   ]
  },
  {
   "cell_type": "code",
   "execution_count": null,
   "id": "7d271d4d-a92f-44c4-bc66-3409205d56f9",
   "metadata": {},
   "outputs": [],
   "source": []
  },
  {
   "cell_type": "markdown",
   "id": "3068222c-56f0-42e0-8a1e-f929370424d3",
   "metadata": {
    "execution": {
     "iopub.execute_input": "2023-10-27T04:55:33.965891Z",
     "iopub.status.busy": "2023-10-27T04:55:33.965297Z",
     "iopub.status.idle": "2023-10-27T04:55:38.298143Z",
     "shell.execute_reply": "2023-10-27T04:55:38.297379Z",
     "shell.execute_reply.started": "2023-10-27T04:55:33.965839Z"
    },
    "tags": []
   },
   "source": [
    "### compute cap and sector exposture "
   ]
  },
  {
   "cell_type": "code",
   "execution_count": 147,
   "id": "da514c5f-88aa-4ec4-aae1-f4bbc83eb19b",
   "metadata": {
    "execution": {
     "iopub.execute_input": "2023-11-08T06:58:48.872038Z",
     "iopub.status.busy": "2023-11-08T06:58:48.871393Z",
     "iopub.status.idle": "2023-11-08T06:58:48.877315Z",
     "shell.execute_reply": "2023-11-08T06:58:48.876017Z",
     "shell.execute_reply.started": "2023-11-08T06:58:48.871983Z"
    },
    "scrolled": true,
    "tags": []
   },
   "outputs": [],
   "source": [
    "ret_excess.index.name='Dates'"
   ]
  },
  {
   "cell_type": "code",
   "execution_count": 148,
   "id": "6793dc5c-504e-4d4f-b562-dc81fa0b9bc5",
   "metadata": {
    "execution": {
     "iopub.execute_input": "2023-11-08T06:58:49.169891Z",
     "iopub.status.busy": "2023-11-08T06:58:49.169661Z",
     "iopub.status.idle": "2023-11-08T06:58:49.174404Z",
     "shell.execute_reply": "2023-11-08T06:58:49.173628Z",
     "shell.execute_reply.started": "2023-11-08T06:58:49.169868Z"
    },
    "tags": []
   },
   "outputs": [
    {
     "data": {
      "text/plain": [
       "['2023-02-28',\n",
       " '2023-03-31',\n",
       " '2023-04-28',\n",
       " '2023-05-31',\n",
       " '2023-06-30',\n",
       " '2023-07-31',\n",
       " '2023-08-31',\n",
       " '2023-09-27',\n",
       " '2023-10-31']"
      ]
     },
     "execution_count": 148,
     "metadata": {},
     "output_type": "execute_result"
    }
   ],
   "source": [
    "eom"
   ]
  },
  {
   "cell_type": "code",
   "execution_count": 149,
   "id": "cae535f0-c676-4b8b-9fce-8b3d09dd29a8",
   "metadata": {
    "execution": {
     "iopub.execute_input": "2023-11-08T06:58:49.888845Z",
     "iopub.status.busy": "2023-11-08T06:58:49.888234Z",
     "iopub.status.idle": "2023-11-08T06:58:58.798051Z",
     "shell.execute_reply": "2023-11-08T06:58:58.796794Z",
     "shell.execute_reply.started": "2023-11-08T06:58:49.888791Z"
    },
    "scrolled": true,
    "tags": []
   },
   "outputs": [
    {
     "name": "stderr",
     "output_type": "stream",
     "text": [
      "<ipython-input-149-e1d4c6ef82c0>:34: UserWarning:\n",
      "\n",
      "Boolean Series key will be reindexed to match DataFrame index.\n",
      "\n",
      "<ipython-input-149-e1d4c6ef82c0>:41: UserWarning:\n",
      "\n",
      "Boolean Series key will be reindexed to match DataFrame index.\n",
      "\n",
      "<ipython-input-149-e1d4c6ef82c0>:34: UserWarning:\n",
      "\n",
      "Boolean Series key will be reindexed to match DataFrame index.\n",
      "\n",
      "<ipython-input-149-e1d4c6ef82c0>:41: UserWarning:\n",
      "\n",
      "Boolean Series key will be reindexed to match DataFrame index.\n",
      "\n",
      "<ipython-input-149-e1d4c6ef82c0>:34: UserWarning:\n",
      "\n",
      "Boolean Series key will be reindexed to match DataFrame index.\n",
      "\n",
      "<ipython-input-149-e1d4c6ef82c0>:41: UserWarning:\n",
      "\n",
      "Boolean Series key will be reindexed to match DataFrame index.\n",
      "\n",
      "<ipython-input-149-e1d4c6ef82c0>:34: UserWarning:\n",
      "\n",
      "Boolean Series key will be reindexed to match DataFrame index.\n",
      "\n",
      "<ipython-input-149-e1d4c6ef82c0>:41: UserWarning:\n",
      "\n",
      "Boolean Series key will be reindexed to match DataFrame index.\n",
      "\n",
      "<ipython-input-149-e1d4c6ef82c0>:34: UserWarning:\n",
      "\n",
      "Boolean Series key will be reindexed to match DataFrame index.\n",
      "\n",
      "<ipython-input-149-e1d4c6ef82c0>:41: UserWarning:\n",
      "\n",
      "Boolean Series key will be reindexed to match DataFrame index.\n",
      "\n",
      "<ipython-input-149-e1d4c6ef82c0>:34: UserWarning:\n",
      "\n",
      "Boolean Series key will be reindexed to match DataFrame index.\n",
      "\n",
      "<ipython-input-149-e1d4c6ef82c0>:41: UserWarning:\n",
      "\n",
      "Boolean Series key will be reindexed to match DataFrame index.\n",
      "\n",
      "<ipython-input-149-e1d4c6ef82c0>:34: UserWarning:\n",
      "\n",
      "Boolean Series key will be reindexed to match DataFrame index.\n",
      "\n",
      "<ipython-input-149-e1d4c6ef82c0>:41: UserWarning:\n",
      "\n",
      "Boolean Series key will be reindexed to match DataFrame index.\n",
      "\n",
      "<ipython-input-149-e1d4c6ef82c0>:34: UserWarning:\n",
      "\n",
      "Boolean Series key will be reindexed to match DataFrame index.\n",
      "\n",
      "<ipython-input-149-e1d4c6ef82c0>:41: UserWarning:\n",
      "\n",
      "Boolean Series key will be reindexed to match DataFrame index.\n",
      "\n",
      "<ipython-input-149-e1d4c6ef82c0>:34: UserWarning:\n",
      "\n",
      "Boolean Series key will be reindexed to match DataFrame index.\n",
      "\n",
      "<ipython-input-149-e1d4c6ef82c0>:41: UserWarning:\n",
      "\n",
      "Boolean Series key will be reindexed to match DataFrame index.\n",
      "\n"
     ]
    }
   ],
   "source": [
    "w_ret=pd.concat([daily_w.stack(), ret_excess.stack()], axis=1)\n",
    "w_ret.columns=['weight', 'ret']\n",
    "w_ret['weighted_ret']=w_ret['weight'] * w_ret['ret']\n",
    "\n",
    "cap_classified=data_COM['KSECapSize']\n",
    "# cap=data_SSC['MktCap']\n",
    "cap=k200_df['idx_weight']\n",
    "sector=data_COM['FG_IndustryGroup_Idx']\n",
    "\n",
    "cap_combined=pd.concat([cap_classified, cap, sector, w_ret], axis=1)\n",
    "cap_combined['idx_weight']=cap_combined['idx_weight']/100\n",
    "cap_combined['idx_weight_ret']=cap_combined['idx_weight']*cap_combined['ret']\n",
    "\n",
    "# use actual weight not count???\n",
    "bm_cap_ls=[]\n",
    "port_cap_ls=[]\n",
    "weight_diff_ls=[]\n",
    "\n",
    "bm_sector_cap_ls=[]\n",
    "port_sector_cap_ls=[]\n",
    "sector_weight_diff_ls=[]\n",
    "\n",
    "bm_sector_ret_ls=[]\n",
    "port_sector_ret_ls=[]\n",
    "\n",
    "for i, date in enumerate(eom):\n",
    "    \n",
    "    # selected_idx=pd.MultiIndex.from_product([[date], daily_w.loc[date][daily_w.loc[date]>0].index]) \n",
    "    # selected_idx=cap_combined[cap_combined[0]>0].index\n",
    "    \n",
    "    # select k200 stocks \n",
    "    # sum weight by CapSize at the end of month (this weight for the next month)\n",
    "    # diff of capSize weight btw bm and port\n",
    "    bm_cap_weight=cap_combined.loc[date][k200comp.loc[date]=='Y'].groupby('KSECapSize').sum(numeric_only=True)['idx_weight']\n",
    "    port_cap_weight=cap_combined.loc[date][cap_combined.loc[date]['weight']>0].groupby('KSECapSize').sum(numeric_only=True)['weight']\n",
    "    weight_diff=port_cap_weight-bm_cap_weight\n",
    "    \n",
    "    # select k200 stocks \n",
    "    # sum weights by sector at the end of month \n",
    "    # diff of sector weight btw bm and port \n",
    "    bm_sector_weight=cap_combined.loc[date][k200comp.loc[date]=='Y'].groupby('FG_IndustryGroup_Idx').sum(numeric_only=True)['idx_weight']\n",
    "    port_sector_weight=cap_combined.loc[date][cap_combined.loc[date]['weight']>0].groupby('FG_IndustryGroup_Idx').sum(numeric_only=True)['weight']\n",
    "    sector_df=pd.concat([port_sector_weight, bm_sector_weight], axis=1) \n",
    "    sector_df['weight_diff']=sector_df['weight'].fillna(0)-sector_df['idx_weight']\n",
    "    \n",
    "    # select the entire month data\n",
    "    monthly_cap_combined=cap_combined[cap_combined.index.get_level_values(0).to_period('M')==(pd.to_datetime(date).to_period('M'))]\n",
    "\n",
    "    # get the cumret of index sector return\n",
    "    temp_sec_idx_weighted_ret=monthly_cap_combined.groupby(['Dates', 'FG_IndustryGroup_Idx']).sum(numeric_only=True)['idx_weight_ret']\n",
    "    temp_sec_idx_weighted_ret=temp_sec_idx_weighted_ret.unstack()\n",
    "    monthly_sec_idx_weighted_ret=((1+temp_sec_idx_weighted_ret).cumprod()-1).iloc[-1]\n",
    "\n",
    "    # get the cumret of port sector return\n",
    "    temp_sec_weighted_ret=monthly_cap_combined.groupby(['Dates', 'FG_IndustryGroup_Idx']).sum(numeric_only=True)['weighted_ret']\n",
    "    temp_sec_weighted_ret=temp_sec_weighted_ret.unstack()\n",
    "    monthly_sec_weighted_ret=((1+temp_sec_weighted_ret).cumprod()-1).iloc[-1]\n",
    "    \n",
    "    bm_cap_ls.append(bm_cap_weight)\n",
    "    port_cap_ls.append(port_cap_weight)\n",
    "    weight_diff_ls.append(weight_diff)\n",
    "    \n",
    "    bm_sector_cap_ls.append(bm_sector_weight)\n",
    "    port_sector_cap_ls.append(port_sector_weight)\n",
    "    sector_weight_diff_ls.append(sector_df['weight_diff'])\n",
    "    \n",
    "    bm_sector_ret_ls.append(monthly_sec_idx_weighted_ret)\n",
    "    port_sector_ret_ls.append(monthly_sec_weighted_ret)\n",
    "\n",
    "# compute cap difference and BM cap weight\n",
    "weight_diff_ts=pd.concat(weight_diff_ls, axis=1)\n",
    "weight_diff_ts.columns=eom\n",
    "weight_diff_ts=weight_diff_ts.T\n",
    "weight_diff_ts.columns=['Large', 'Mid']\n",
    "\n",
    "bm_weight_ts=pd.concat(bm_cap_ls, axis=1)\n",
    "bm_weight_ts.columns=eom\n",
    "bm_weight_ts=bm_weight_ts.T\n",
    "bm_weight_ts.columns=['Large', 'Mid']\n",
    "\n",
    "# compute sector weight diff and \n",
    "sector_weight_diff_ts=pd.concat(sector_weight_diff_ls, axis=1)\n",
    "sector_weight_diff_ts.columns=eom\n",
    "sector_weight_diff_ts=sector_weight_diff_ts.T"
   ]
  },
  {
   "cell_type": "code",
   "execution_count": 231,
   "id": "c6dc06f9-9309-448a-a2d2-65ec6c39c6b2",
   "metadata": {
    "execution": {
     "iopub.execute_input": "2023-11-09T01:16:35.732647Z",
     "iopub.status.busy": "2023-11-09T01:16:35.732042Z",
     "iopub.status.idle": "2023-11-09T01:16:35.764307Z",
     "shell.execute_reply": "2023-11-09T01:16:35.763431Z",
     "shell.execute_reply.started": "2023-11-09T01:16:35.732594Z"
    },
    "tags": []
   },
   "outputs": [
    {
     "data": {
      "text/html": [
       "<div>\n",
       "<style scoped>\n",
       "    .dataframe tbody tr th:only-of-type {\n",
       "        vertical-align: middle;\n",
       "    }\n",
       "\n",
       "    .dataframe tbody tr th {\n",
       "        vertical-align: top;\n",
       "    }\n",
       "\n",
       "    .dataframe thead th {\n",
       "        text-align: right;\n",
       "    }\n",
       "</style>\n",
       "<table border=\"1\" class=\"dataframe\">\n",
       "  <thead>\n",
       "    <tr style=\"text-align: right;\">\n",
       "      <th></th>\n",
       "      <th></th>\n",
       "      <th>KSECapSize</th>\n",
       "      <th>idx_weight</th>\n",
       "      <th>FG_IndustryGroup_Idx</th>\n",
       "      <th>weight</th>\n",
       "      <th>ret</th>\n",
       "      <th>weighted_ret</th>\n",
       "      <th>idx_weight_ret</th>\n",
       "    </tr>\n",
       "    <tr>\n",
       "      <th>Dates</th>\n",
       "      <th></th>\n",
       "      <th></th>\n",
       "      <th></th>\n",
       "      <th></th>\n",
       "      <th></th>\n",
       "      <th></th>\n",
       "      <th></th>\n",
       "      <th></th>\n",
       "    </tr>\n",
       "  </thead>\n",
       "  <tbody>\n",
       "    <tr>\n",
       "      <th rowspan=\"5\" valign=\"top\">2023-10-04</th>\n",
       "      <th>A005930</th>\n",
       "      <td>코스피 대형주</td>\n",
       "      <td>0.3068</td>\n",
       "      <td>반도체</td>\n",
       "      <td>0.3047</td>\n",
       "      <td>0.009064</td>\n",
       "      <td>0.002762</td>\n",
       "      <td>0.002781</td>\n",
       "    </tr>\n",
       "    <tr>\n",
       "      <th>A373220</th>\n",
       "      <td>코스피 대형주</td>\n",
       "      <td>0.0154</td>\n",
       "      <td>하드웨어</td>\n",
       "      <td>0.0000</td>\n",
       "      <td>-0.020800</td>\n",
       "      <td>-0.000000</td>\n",
       "      <td>-0.000320</td>\n",
       "    </tr>\n",
       "    <tr>\n",
       "      <th>A000660</th>\n",
       "      <td>코스피 대형주</td>\n",
       "      <td>0.0624</td>\n",
       "      <td>반도체</td>\n",
       "      <td>0.0000</td>\n",
       "      <td>0.028324</td>\n",
       "      <td>0.000000</td>\n",
       "      <td>0.001767</td>\n",
       "    </tr>\n",
       "    <tr>\n",
       "      <th>A207940</th>\n",
       "      <td>코스피 대형주</td>\n",
       "      <td>0.0104</td>\n",
       "      <td>제약 및 바이오</td>\n",
       "      <td>0.0000</td>\n",
       "      <td>0.036906</td>\n",
       "      <td>0.000000</td>\n",
       "      <td>0.000384</td>\n",
       "    </tr>\n",
       "    <tr>\n",
       "      <th>A051910</th>\n",
       "      <td>코스피 대형주</td>\n",
       "      <td>0.0215</td>\n",
       "      <td>소재</td>\n",
       "      <td>0.0000</td>\n",
       "      <td>0.001074</td>\n",
       "      <td>0.000000</td>\n",
       "      <td>0.000023</td>\n",
       "    </tr>\n",
       "    <tr>\n",
       "      <th>...</th>\n",
       "      <th>...</th>\n",
       "      <td>...</td>\n",
       "      <td>...</td>\n",
       "      <td>...</td>\n",
       "      <td>...</td>\n",
       "      <td>...</td>\n",
       "      <td>...</td>\n",
       "      <td>...</td>\n",
       "    </tr>\n",
       "    <tr>\n",
       "      <th rowspan=\"5\" valign=\"top\">2023-10-31</th>\n",
       "      <th>A950100</th>\n",
       "      <td>제외</td>\n",
       "      <td>NaN</td>\n",
       "      <td>None</td>\n",
       "      <td>NaN</td>\n",
       "      <td>NaN</td>\n",
       "      <td>NaN</td>\n",
       "      <td>NaN</td>\n",
       "    </tr>\n",
       "    <tr>\n",
       "      <th>A018360</th>\n",
       "      <td>제외</td>\n",
       "      <td>NaN</td>\n",
       "      <td>None</td>\n",
       "      <td>NaN</td>\n",
       "      <td>0.002749</td>\n",
       "      <td>NaN</td>\n",
       "      <td>NaN</td>\n",
       "    </tr>\n",
       "    <tr>\n",
       "      <th>A011400</th>\n",
       "      <td>제외</td>\n",
       "      <td>NaN</td>\n",
       "      <td>None</td>\n",
       "      <td>NaN</td>\n",
       "      <td>0.010973</td>\n",
       "      <td>NaN</td>\n",
       "      <td>NaN</td>\n",
       "    </tr>\n",
       "    <tr>\n",
       "      <th>A009280</th>\n",
       "      <td>제외</td>\n",
       "      <td>NaN</td>\n",
       "      <td>None</td>\n",
       "      <td>NaN</td>\n",
       "      <td>0.010973</td>\n",
       "      <td>NaN</td>\n",
       "      <td>NaN</td>\n",
       "    </tr>\n",
       "    <tr>\n",
       "      <th>A010150</th>\n",
       "      <td>제외</td>\n",
       "      <td>NaN</td>\n",
       "      <td>None</td>\n",
       "      <td>NaN</td>\n",
       "      <td>NaN</td>\n",
       "      <td>NaN</td>\n",
       "      <td>NaN</td>\n",
       "    </tr>\n",
       "  </tbody>\n",
       "</table>\n",
       "<p>22762 rows × 7 columns</p>\n",
       "</div>"
      ],
      "text/plain": [
       "                   KSECapSize  idx_weight FG_IndustryGroup_Idx  weight  \\\n",
       "Dates                                                                    \n",
       "2023-10-04 A005930    코스피 대형주      0.3068                  반도체  0.3047   \n",
       "           A373220    코스피 대형주      0.0154                 하드웨어  0.0000   \n",
       "           A000660    코스피 대형주      0.0624                  반도체  0.0000   \n",
       "           A207940    코스피 대형주      0.0104             제약 및 바이오  0.0000   \n",
       "           A051910    코스피 대형주      0.0215                   소재  0.0000   \n",
       "...                       ...         ...                  ...     ...   \n",
       "2023-10-31 A950100         제외         NaN                 None     NaN   \n",
       "           A018360         제외         NaN                 None     NaN   \n",
       "           A011400         제외         NaN                 None     NaN   \n",
       "           A009280         제외         NaN                 None     NaN   \n",
       "           A010150         제외         NaN                 None     NaN   \n",
       "\n",
       "                         ret  weighted_ret  idx_weight_ret  \n",
       "Dates                                                       \n",
       "2023-10-04 A005930  0.009064      0.002762        0.002781  \n",
       "           A373220 -0.020800     -0.000000       -0.000320  \n",
       "           A000660  0.028324      0.000000        0.001767  \n",
       "           A207940  0.036906      0.000000        0.000384  \n",
       "           A051910  0.001074      0.000000        0.000023  \n",
       "...                      ...           ...             ...  \n",
       "2023-10-31 A950100       NaN           NaN             NaN  \n",
       "           A018360  0.002749           NaN             NaN  \n",
       "           A011400  0.010973           NaN             NaN  \n",
       "           A009280  0.010973           NaN             NaN  \n",
       "           A010150       NaN           NaN             NaN  \n",
       "\n",
       "[22762 rows x 7 columns]"
      ]
     },
     "execution_count": 231,
     "metadata": {},
     "output_type": "execute_result"
    }
   ],
   "source": [
    "monthly_cap_combined"
   ]
  },
  {
   "cell_type": "code",
   "execution_count": null,
   "id": "b96a92c0-9cef-4b59-bc91-490102f9579e",
   "metadata": {
    "tags": []
   },
   "outputs": [],
   "source": []
  },
  {
   "cell_type": "code",
   "execution_count": null,
   "id": "d3789abe-f894-41de-a14f-90eea48fb826",
   "metadata": {},
   "outputs": [],
   "source": []
  },
  {
   "cell_type": "code",
   "execution_count": 150,
   "id": "44cae372-1e0a-4a7c-b4d8-b3b8ec62edcc",
   "metadata": {
    "execution": {
     "iopub.execute_input": "2023-11-08T06:58:59.041215Z",
     "iopub.status.busy": "2023-11-08T06:58:59.041004Z",
     "iopub.status.idle": "2023-11-08T06:58:59.045582Z",
     "shell.execute_reply": "2023-11-08T06:58:59.044980Z",
     "shell.execute_reply.started": "2023-11-08T06:58:59.041196Z"
    },
    "tags": []
   },
   "outputs": [],
   "source": [
    "# sector_name=[\n",
    "#     'Durable Consumer Goods and Apparel',\n",
    "#     'Display',\n",
    "#     'Media',\n",
    "#     'Semiconductors',\n",
    "#     'Insurance',\n",
    "#     'Commercial Services',\n",
    "#     'Consumer Goods',\n",
    "#     'Consumer Services',\n",
    "#     'Materials',\n",
    "#     'Software',\n",
    "#     'Energy',\n",
    "#     'Transportation',\n",
    "#     'Retail',\n",
    "#     'Utilities',\n",
    "#     'Banking',\n",
    "#     'Food and Tobacco',\n",
    "#     'Automobiles and Parts',\n",
    "#     'Capital Goods',\n",
    "#     'Pharmaceuticals and Biotechnology',\n",
    "#     'Financial Services',\n",
    "#     'Hardware',\n",
    "#     'Other Financials',\n",
    "#     'Health Care Equipment and Services',\n",
    "#     'Telecommunications Services'\n",
    "# ]\n",
    "\n",
    "sector_dict={\n",
    "    '내구 소비재 및 의류': 'Durable Consumer Goods and Apparel',\n",
    "    '디스플레이': 'Display',\n",
    "    '미디어': 'Media',\n",
    "    '반도체' : 'Semiconductors',\n",
    "    '보험' : 'Insurance',\n",
    "    '상업서비스' : 'Commercial Services',\n",
    "    '생활용품' : 'Consumer Goods',\n",
    "    '소비자 서비스' : 'Consumer Services',\n",
    "    '소재' : 'Materials',\n",
    "    '소프트웨어' : 'Software',\n",
    "    '에너지' : 'Energy',\n",
    "    '운송' : 'Transportation',\n",
    "    '유통' : 'Retail',\n",
    "    '유틸리티' : 'Utilities',\n",
    "    '은행' : 'Banking',\n",
    "    '음식료 및 담배' : 'Food and Tobacco',\n",
    "    '자동차 및 부품' : 'Automobiles and Parts',\n",
    "    '자본재' : 'Capital Goods',\n",
    "    '제약 및 바이오' : 'Pharmaceuticals and Biotechnology',\n",
    "    '증권' : 'Financial Services',\n",
    "    '하드웨어' : 'Hardware',\n",
    "    '기타금융': 'Other Financials',\n",
    "    '의료장비 및 서비스' : 'Health Care Equipment and Services',\n",
    "    '통신서비스': 'Telecommunications Services'\n",
    "}\n"
   ]
  },
  {
   "cell_type": "code",
   "execution_count": null,
   "id": "20814e08-804b-4f12-9f21-efdbda351207",
   "metadata": {
    "tags": []
   },
   "outputs": [],
   "source": []
  },
  {
   "cell_type": "markdown",
   "id": "be415869-b335-418d-ac4e-1596605333be",
   "metadata": {},
   "source": [
    "### sector exposure & contribution"
   ]
  },
  {
   "cell_type": "code",
   "execution_count": 160,
   "id": "e6b7fd50-9d0d-4690-b86a-7b6fdaccda73",
   "metadata": {
    "execution": {
     "iopub.execute_input": "2023-11-08T07:05:58.679142Z",
     "iopub.status.busy": "2023-11-08T07:05:58.678522Z",
     "iopub.status.idle": "2023-11-08T07:05:58.688521Z",
     "shell.execute_reply": "2023-11-08T07:05:58.687477Z",
     "shell.execute_reply.started": "2023-11-08T07:05:58.679088Z"
    },
    "tags": []
   },
   "outputs": [
    {
     "data": {
      "text/plain": [
       "FG_IndustryGroup_Idx\n",
       "기타금융           0.009396\n",
       "내구 소비재 및 의류    0.075168\n",
       "미디어            0.009396\n",
       "반도체            0.314096\n",
       "상업서비스          0.018792\n",
       "소비자 서비스        0.009396\n",
       "소재             0.084564\n",
       "소프트웨어          0.009396\n",
       "에너지            0.009396\n",
       "운송             0.056376\n",
       "유통             0.046980\n",
       "유틸리티           0.018792\n",
       "은행             0.065772\n",
       "음식료 및 담배       0.065772\n",
       "자동차 및 부품       0.046980\n",
       "자본재            0.056376\n",
       "제약 및 바이오       0.037584\n",
       "증권             0.046980\n",
       "통신서비스          0.018792\n",
       "Name: weight, dtype: float64"
      ]
     },
     "execution_count": 160,
     "metadata": {},
     "output_type": "execute_result"
    }
   ],
   "source": [
    "port_sector_weight"
   ]
  },
  {
   "cell_type": "code",
   "execution_count": 155,
   "id": "3e2ae119-5dd1-4049-8f5c-54fecf4b1150",
   "metadata": {
    "execution": {
     "iopub.execute_input": "2023-11-08T06:59:15.600258Z",
     "iopub.status.busy": "2023-11-08T06:59:15.599647Z",
     "iopub.status.idle": "2023-11-08T06:59:15.949097Z",
     "shell.execute_reply": "2023-11-08T06:59:15.948187Z",
     "shell.execute_reply.started": "2023-11-08T06:59:15.600202Z"
    },
    "tags": []
   },
   "outputs": [
    {
     "data": {
      "image/png": "[encoded data removed]",
      "text/plain": [
       "<Figure size 576x864 with 1 Axes>"
      ]
     },
     "metadata": {
      "needs_background": "light"
     },
     "output_type": "display_data"
    }
   ],
   "source": [
    "compare_sectors=pd.concat([port_sector_weight, bm_sector_weight], axis=1)\n",
    "new_idx=[]\n",
    "for item in compare_sectors.index:\n",
    "    new_idx.append(sector_dict[item])\n",
    "compare_sectors.index = new_idx\n",
    "\n",
    "fig, ax = plt.subplots(figsize = (8, 12))\n",
    "\n",
    "compare_sectors=compare_sectors.sort_values('idx_weight', ascending=False)\n",
    "\n",
    "y_pos = np.arange(len(compare_sectors.index)*2, step=2)\n",
    "\n",
    "ax.barh(y_pos, compare_sectors.iloc[:, 0], align='center', label=compare_sectors.columns[0])\n",
    "ax.barh(y_pos+.5, compare_sectors.iloc[:, 1], align='center', label=compare_sectors.columns[1])\n",
    "ax.set_yticks(y_pos, labels=compare_sectors.index)\n",
    "ax.invert_yaxis()  # labels read top-to-bottom\n",
    "ax.set_xlabel('weight')\n",
    "\n",
    "plt.legend()\n",
    "plt.show()"
   ]
  },
  {
   "cell_type": "code",
   "execution_count": null,
   "id": "6dfbf3b1-5bb5-4bd6-a2e9-c6cd9e33713d",
   "metadata": {},
   "outputs": [],
   "source": []
  },
  {
   "cell_type": "code",
   "execution_count": 241,
   "id": "7b98d89f-635e-44f9-9fba-13677f0e68f0",
   "metadata": {
    "execution": {
     "iopub.execute_input": "2023-11-09T02:04:22.829355Z",
     "iopub.status.busy": "2023-11-09T02:04:22.828670Z",
     "iopub.status.idle": "2023-11-09T02:04:22.882538Z",
     "shell.execute_reply": "2023-11-09T02:04:22.881581Z",
     "shell.execute_reply.started": "2023-11-09T02:04:22.829299Z"
    },
    "tags": []
   },
   "outputs": [
    {
     "data": {
      "text/plain": [
       "(26,)"
      ]
     },
     "execution_count": 241,
     "metadata": {},
     "output_type": "execute_result"
    }
   ],
   "source": [
    "sector.unique().shape"
   ]
  },
  {
   "cell_type": "code",
   "execution_count": null,
   "id": "b35a14d8-ccee-41a6-9161-4ee95710c291",
   "metadata": {},
   "outputs": [],
   "source": []
  },
  {
   "cell_type": "code",
   "execution_count": null,
   "id": "790699ff-0c60-4e8c-ba71-43a8a6908254",
   "metadata": {},
   "outputs": [],
   "source": []
  },
  {
   "cell_type": "code",
   "execution_count": 161,
   "id": "e5673baa-12f5-45a0-b664-841671a2dc03",
   "metadata": {
    "execution": {
     "iopub.execute_input": "2023-11-08T07:06:26.120973Z",
     "iopub.status.busy": "2023-11-08T07:06:26.120335Z",
     "iopub.status.idle": "2023-11-08T07:06:26.681900Z",
     "shell.execute_reply": "2023-11-08T07:06:26.680901Z",
     "shell.execute_reply.started": "2023-11-08T07:06:26.120920Z"
    },
    "tags": []
   },
   "outputs": [
    {
     "data": {
      "image/png": "[encoded data removed]",
      "text/plain": [
       "<Figure size 576x864 with 2 Axes>"
      ]
     },
     "metadata": {
      "needs_background": "light"
     },
     "output_type": "display_data"
    }
   ],
   "source": [
    "compare_sec_diff= pd.concat([port_sector_ret_ls[-1], sector_weight_diff_ls[-1]], axis=1)\n",
    "compare_sec_diff=compare_sec_diff.dropna()\n",
    "\n",
    "new_idx=[]\n",
    "for item in compare_sec_diff.index:\n",
    "    new_idx.append(sector_dict[item])\n",
    "compare_sec_diff.index = new_idx\n",
    "\n",
    "compare_sec_diff=compare_sec_diff.sort_values(compare_sec_diff.columns[0], ascending=False)\n",
    "\n",
    "fig, ax1 = plt.subplots(figsize = (8, 12))\n",
    "ax2=ax1.twiny()\n",
    "\n",
    "y_pos = np.arange(len(compare_sec_diff.index)*2, step=2)\n",
    "\n",
    "\n",
    "ax1.barh(y_pos, compare_sec_diff.iloc[:, 0], align='center', label='excess return')\n",
    "ax1.set_yticks(y_pos, labels=compare_sec_diff.index)\n",
    "ax1.set_xlim(-0.03, 0.03)\n",
    "ax1.invert_yaxis()  # labels read top-to-bottom\n",
    "ax1.set_xlabel('excess return')\n",
    "\n",
    "ax2.barh(y_pos+.5, compare_sec_diff.iloc[:, 1], align='center', label='weight diff', color='orange')\n",
    "ax2.set_xlim(-0.1, 0.1)\n",
    "ax2.set_xlabel('weight diff')\n",
    "\n",
    "\n",
    "plt.legend()\n",
    "plt.show()"
   ]
  },
  {
   "cell_type": "code",
   "execution_count": 229,
   "id": "36d15dd3-a5c8-423e-86b1-65ed7cedb65e",
   "metadata": {
    "execution": {
     "iopub.execute_input": "2023-11-08T23:07:07.511154Z",
     "iopub.status.busy": "2023-11-08T23:07:07.510540Z",
     "iopub.status.idle": "2023-11-08T23:07:07.527752Z",
     "shell.execute_reply": "2023-11-08T23:07:07.526617Z",
     "shell.execute_reply.started": "2023-11-08T23:07:07.511100Z"
    }
   },
   "outputs": [
    {
     "data": {
      "text/html": [
       "<div>\n",
       "<style scoped>\n",
       "    .dataframe tbody tr th:only-of-type {\n",
       "        vertical-align: middle;\n",
       "    }\n",
       "\n",
       "    .dataframe tbody tr th {\n",
       "        vertical-align: top;\n",
       "    }\n",
       "\n",
       "    .dataframe thead th {\n",
       "        text-align: right;\n",
       "    }\n",
       "</style>\n",
       "<table border=\"1\" class=\"dataframe\">\n",
       "  <thead>\n",
       "    <tr style=\"text-align: right;\">\n",
       "      <th></th>\n",
       "      <th>2023-10-31 00:00:00</th>\n",
       "      <th>weight_diff</th>\n",
       "    </tr>\n",
       "  </thead>\n",
       "  <tbody>\n",
       "    <tr>\n",
       "      <th>Semiconductors</th>\n",
       "      <td>0.014374</td>\n",
       "      <td>-0.075304</td>\n",
       "    </tr>\n",
       "    <tr>\n",
       "      <th>Food and Tobacco</th>\n",
       "      <td>0.007791</td>\n",
       "      <td>0.047072</td>\n",
       "    </tr>\n",
       "    <tr>\n",
       "      <th>Materials</th>\n",
       "      <td>0.004971</td>\n",
       "      <td>0.001364</td>\n",
       "    </tr>\n",
       "    <tr>\n",
       "      <th>Banking</th>\n",
       "      <td>0.003212</td>\n",
       "      <td>-0.000228</td>\n",
       "    </tr>\n",
       "    <tr>\n",
       "      <th>Durable Consumer Goods and Apparel</th>\n",
       "      <td>0.003145</td>\n",
       "      <td>0.055068</td>\n",
       "    </tr>\n",
       "    <tr>\n",
       "      <th>Financial Services</th>\n",
       "      <td>0.000966</td>\n",
       "      <td>0.033180</td>\n",
       "    </tr>\n",
       "    <tr>\n",
       "      <th>Software</th>\n",
       "      <td>0.000958</td>\n",
       "      <td>-0.046404</td>\n",
       "    </tr>\n",
       "    <tr>\n",
       "      <th>Commercial Services</th>\n",
       "      <td>0.000904</td>\n",
       "      <td>0.008992</td>\n",
       "    </tr>\n",
       "    <tr>\n",
       "      <th>Other Financials</th>\n",
       "      <td>0.000893</td>\n",
       "      <td>0.006196</td>\n",
       "    </tr>\n",
       "    <tr>\n",
       "      <th>Telecommunications Services</th>\n",
       "      <td>0.000874</td>\n",
       "      <td>0.001092</td>\n",
       "    </tr>\n",
       "    <tr>\n",
       "      <th>Utilities</th>\n",
       "      <td>0.000784</td>\n",
       "      <td>0.011992</td>\n",
       "    </tr>\n",
       "    <tr>\n",
       "      <th>Transportation</th>\n",
       "      <td>0.000557</td>\n",
       "      <td>0.039576</td>\n",
       "    </tr>\n",
       "    <tr>\n",
       "      <th>Media</th>\n",
       "      <td>0.000536</td>\n",
       "      <td>0.001796</td>\n",
       "    </tr>\n",
       "    <tr>\n",
       "      <th>Energy</th>\n",
       "      <td>0.000516</td>\n",
       "      <td>-0.014704</td>\n",
       "    </tr>\n",
       "    <tr>\n",
       "      <th>Automobiles and Parts</th>\n",
       "      <td>0.000389</td>\n",
       "      <td>-0.018920</td>\n",
       "    </tr>\n",
       "    <tr>\n",
       "      <th>Consumer Services</th>\n",
       "      <td>0.000358</td>\n",
       "      <td>0.003996</td>\n",
       "    </tr>\n",
       "    <tr>\n",
       "      <th>Pharmaceuticals and Biotechnology</th>\n",
       "      <td>0.000062</td>\n",
       "      <td>-0.004216</td>\n",
       "    </tr>\n",
       "    <tr>\n",
       "      <th>Consumer Goods</th>\n",
       "      <td>0.000000</td>\n",
       "      <td>-0.009700</td>\n",
       "    </tr>\n",
       "    <tr>\n",
       "      <th>Insurance</th>\n",
       "      <td>0.000000</td>\n",
       "      <td>-0.020900</td>\n",
       "    </tr>\n",
       "    <tr>\n",
       "      <th>Health Care Equipment and Services</th>\n",
       "      <td>0.000000</td>\n",
       "      <td>-0.000400</td>\n",
       "    </tr>\n",
       "    <tr>\n",
       "      <th>Display</th>\n",
       "      <td>0.000000</td>\n",
       "      <td>-0.002800</td>\n",
       "    </tr>\n",
       "    <tr>\n",
       "      <th>Hardware</th>\n",
       "      <td>0.000000</td>\n",
       "      <td>-0.049000</td>\n",
       "    </tr>\n",
       "    <tr>\n",
       "      <th>Retail</th>\n",
       "      <td>-0.001054</td>\n",
       "      <td>0.038380</td>\n",
       "    </tr>\n",
       "    <tr>\n",
       "      <th>Capital Goods</th>\n",
       "      <td>-0.001382</td>\n",
       "      <td>-0.005924</td>\n",
       "    </tr>\n",
       "  </tbody>\n",
       "</table>\n",
       "</div>"
      ],
      "text/plain": [
       "                                    2023-10-31 00:00:00  weight_diff\n",
       "Semiconductors                                 0.014374    -0.075304\n",
       "Food and Tobacco                               0.007791     0.047072\n",
       "Materials                                      0.004971     0.001364\n",
       "Banking                                        0.003212    -0.000228\n",
       "Durable Consumer Goods and Apparel             0.003145     0.055068\n",
       "Financial Services                             0.000966     0.033180\n",
       "Software                                       0.000958    -0.046404\n",
       "Commercial Services                            0.000904     0.008992\n",
       "Other Financials                               0.000893     0.006196\n",
       "Telecommunications Services                    0.000874     0.001092\n",
       "Utilities                                      0.000784     0.011992\n",
       "Transportation                                 0.000557     0.039576\n",
       "Media                                          0.000536     0.001796\n",
       "Energy                                         0.000516    -0.014704\n",
       "Automobiles and Parts                          0.000389    -0.018920\n",
       "Consumer Services                              0.000358     0.003996\n",
       "Pharmaceuticals and Biotechnology              0.000062    -0.004216\n",
       "Consumer Goods                                 0.000000    -0.009700\n",
       "Insurance                                      0.000000    -0.020900\n",
       "Health Care Equipment and Services             0.000000    -0.000400\n",
       "Display                                        0.000000    -0.002800\n",
       "Hardware                                       0.000000    -0.049000\n",
       "Retail                                        -0.001054     0.038380\n",
       "Capital Goods                                 -0.001382    -0.005924"
      ]
     },
     "execution_count": 229,
     "metadata": {},
     "output_type": "execute_result"
    }
   ],
   "source": [
    "compare_sec_diff"
   ]
  },
  {
   "cell_type": "code",
   "execution_count": null,
   "id": "8e0d95ab-d369-4f1e-9057-ee12544efcbf",
   "metadata": {},
   "outputs": [],
   "source": []
  },
  {
   "cell_type": "code",
   "execution_count": null,
   "id": "17e9d8bd-6e11-4b59-9a95-55135e273877",
   "metadata": {},
   "outputs": [],
   "source": []
  },
  {
   "cell_type": "markdown",
   "id": "2e45a6bb-29c4-4778-8172-641ef204e1d2",
   "metadata": {},
   "source": [
    "### stock contribution"
   ]
  },
  {
   "cell_type": "code",
   "execution_count": 164,
   "id": "b6c0a0e3-5d72-4e7b-b4f7-cb2a8f72c200",
   "metadata": {
    "execution": {
     "iopub.execute_input": "2023-11-08T07:09:20.319365Z",
     "iopub.status.busy": "2023-11-08T07:09:20.318739Z",
     "iopub.status.idle": "2023-11-08T07:09:20.352904Z",
     "shell.execute_reply": "2023-11-08T07:09:20.352007Z",
     "shell.execute_reply.started": "2023-11-08T07:09:20.319310Z"
    },
    "tags": []
   },
   "outputs": [
    {
     "data": {
      "text/html": [
       "<div>\n",
       "<style scoped>\n",
       "    .dataframe tbody tr th:only-of-type {\n",
       "        vertical-align: middle;\n",
       "    }\n",
       "\n",
       "    .dataframe tbody tr th {\n",
       "        vertical-align: top;\n",
       "    }\n",
       "\n",
       "    .dataframe thead th {\n",
       "        text-align: right;\n",
       "    }\n",
       "</style>\n",
       "<table border=\"1\" class=\"dataframe\">\n",
       "  <thead>\n",
       "    <tr style=\"text-align: right;\">\n",
       "      <th></th>\n",
       "      <th></th>\n",
       "      <th>KSECapSize</th>\n",
       "      <th>idx_weight</th>\n",
       "      <th>FG_IndustryGroup_Idx</th>\n",
       "      <th>weight</th>\n",
       "      <th>ret</th>\n",
       "      <th>weighted_ret</th>\n",
       "      <th>idx_weight_ret</th>\n",
       "    </tr>\n",
       "    <tr>\n",
       "      <th>Dates</th>\n",
       "      <th></th>\n",
       "      <th></th>\n",
       "      <th></th>\n",
       "      <th></th>\n",
       "      <th></th>\n",
       "      <th></th>\n",
       "      <th></th>\n",
       "      <th></th>\n",
       "    </tr>\n",
       "  </thead>\n",
       "  <tbody>\n",
       "    <tr>\n",
       "      <th rowspan=\"5\" valign=\"top\">2023-01-02</th>\n",
       "      <th>A005930</th>\n",
       "      <td>코스피 대형주</td>\n",
       "      <td>0.2800</td>\n",
       "      <td>반도체</td>\n",
       "      <td>NaN</td>\n",
       "      <td>NaN</td>\n",
       "      <td>NaN</td>\n",
       "      <td>NaN</td>\n",
       "    </tr>\n",
       "    <tr>\n",
       "      <th>A373220</th>\n",
       "      <td>코스피 대형주</td>\n",
       "      <td>0.0167</td>\n",
       "      <td>하드웨어</td>\n",
       "      <td>NaN</td>\n",
       "      <td>NaN</td>\n",
       "      <td>NaN</td>\n",
       "      <td>NaN</td>\n",
       "    </tr>\n",
       "    <tr>\n",
       "      <th>A000660</th>\n",
       "      <td>코스피 대형주</td>\n",
       "      <td>0.0454</td>\n",
       "      <td>반도체</td>\n",
       "      <td>NaN</td>\n",
       "      <td>NaN</td>\n",
       "      <td>NaN</td>\n",
       "      <td>NaN</td>\n",
       "    </tr>\n",
       "    <tr>\n",
       "      <th>A207940</th>\n",
       "      <td>코스피 대형주</td>\n",
       "      <td>0.0139</td>\n",
       "      <td>제약 및 바이오</td>\n",
       "      <td>NaN</td>\n",
       "      <td>NaN</td>\n",
       "      <td>NaN</td>\n",
       "      <td>NaN</td>\n",
       "    </tr>\n",
       "    <tr>\n",
       "      <th>A051910</th>\n",
       "      <td>코스피 대형주</td>\n",
       "      <td>0.0296</td>\n",
       "      <td>소재</td>\n",
       "      <td>NaN</td>\n",
       "      <td>NaN</td>\n",
       "      <td>NaN</td>\n",
       "      <td>NaN</td>\n",
       "    </tr>\n",
       "    <tr>\n",
       "      <th>...</th>\n",
       "      <th>...</th>\n",
       "      <td>...</td>\n",
       "      <td>...</td>\n",
       "      <td>...</td>\n",
       "      <td>...</td>\n",
       "      <td>...</td>\n",
       "      <td>...</td>\n",
       "      <td>...</td>\n",
       "    </tr>\n",
       "    <tr>\n",
       "      <th rowspan=\"5\" valign=\"top\">2023-11-07</th>\n",
       "      <th>A375500</th>\n",
       "      <td>NaN</td>\n",
       "      <td>0.0010</td>\n",
       "      <td>NaN</td>\n",
       "      <td>NaN</td>\n",
       "      <td>NaN</td>\n",
       "      <td>NaN</td>\n",
       "      <td>NaN</td>\n",
       "    </tr>\n",
       "    <tr>\n",
       "      <th>A377300</th>\n",
       "      <td>NaN</td>\n",
       "      <td>0.0027</td>\n",
       "      <td>NaN</td>\n",
       "      <td>NaN</td>\n",
       "      <td>NaN</td>\n",
       "      <td>NaN</td>\n",
       "      <td>NaN</td>\n",
       "    </tr>\n",
       "    <tr>\n",
       "      <th>A381970</th>\n",
       "      <td>NaN</td>\n",
       "      <td>0.0001</td>\n",
       "      <td>NaN</td>\n",
       "      <td>NaN</td>\n",
       "      <td>NaN</td>\n",
       "      <td>NaN</td>\n",
       "      <td>NaN</td>\n",
       "    </tr>\n",
       "    <tr>\n",
       "      <th>A383220</th>\n",
       "      <td>NaN</td>\n",
       "      <td>0.0014</td>\n",
       "      <td>NaN</td>\n",
       "      <td>NaN</td>\n",
       "      <td>NaN</td>\n",
       "      <td>NaN</td>\n",
       "      <td>NaN</td>\n",
       "    </tr>\n",
       "    <tr>\n",
       "      <th>A402340</th>\n",
       "      <td>NaN</td>\n",
       "      <td>0.0043</td>\n",
       "      <td>NaN</td>\n",
       "      <td>NaN</td>\n",
       "      <td>NaN</td>\n",
       "      <td>NaN</td>\n",
       "      <td>NaN</td>\n",
       "    </tr>\n",
       "  </tbody>\n",
       "</table>\n",
       "<p>569368 rows × 7 columns</p>\n",
       "</div>"
      ],
      "text/plain": [
       "                   KSECapSize  idx_weight FG_IndustryGroup_Idx  weight  ret  \\\n",
       "Dates                                                                         \n",
       "2023-01-02 A005930    코스피 대형주      0.2800                  반도체     NaN  NaN   \n",
       "           A373220    코스피 대형주      0.0167                 하드웨어     NaN  NaN   \n",
       "           A000660    코스피 대형주      0.0454                  반도체     NaN  NaN   \n",
       "           A207940    코스피 대형주      0.0139             제약 및 바이오     NaN  NaN   \n",
       "           A051910    코스피 대형주      0.0296                   소재     NaN  NaN   \n",
       "...                       ...         ...                  ...     ...  ...   \n",
       "2023-11-07 A375500        NaN      0.0010                  NaN     NaN  NaN   \n",
       "           A377300        NaN      0.0027                  NaN     NaN  NaN   \n",
       "           A381970        NaN      0.0001                  NaN     NaN  NaN   \n",
       "           A383220        NaN      0.0014                  NaN     NaN  NaN   \n",
       "           A402340        NaN      0.0043                  NaN     NaN  NaN   \n",
       "\n",
       "                    weighted_ret  idx_weight_ret  \n",
       "Dates                                             \n",
       "2023-01-02 A005930           NaN             NaN  \n",
       "           A373220           NaN             NaN  \n",
       "           A000660           NaN             NaN  \n",
       "           A207940           NaN             NaN  \n",
       "           A051910           NaN             NaN  \n",
       "...                          ...             ...  \n",
       "2023-11-07 A375500           NaN             NaN  \n",
       "           A377300           NaN             NaN  \n",
       "           A381970           NaN             NaN  \n",
       "           A383220           NaN             NaN  \n",
       "           A402340           NaN             NaN  \n",
       "\n",
       "[569368 rows x 7 columns]"
      ]
     },
     "execution_count": 164,
     "metadata": {},
     "output_type": "execute_result"
    }
   ],
   "source": [
    "cap_combined"
   ]
  },
  {
   "cell_type": "code",
   "execution_count": 162,
   "id": "c538ea7f-16a9-461b-86c3-3f9e1a77d914",
   "metadata": {
    "execution": {
     "iopub.execute_input": "2023-11-08T07:07:25.495030Z",
     "iopub.status.busy": "2023-11-08T07:07:25.494410Z",
     "iopub.status.idle": "2023-11-08T07:07:26.394261Z",
     "shell.execute_reply": "2023-11-08T07:07:26.393269Z",
     "shell.execute_reply.started": "2023-11-08T07:07:25.494976Z"
    },
    "tags": []
   },
   "outputs": [
    {
     "data": {
      "image/png": "[encoded data removed]",
      "text/plain": [
       "<Figure size 576x864 with 2 Axes>"
      ]
     },
     "metadata": {
      "needs_background": "light"
     },
     "output_type": "display_data"
    }
   ],
   "source": [
    "stock_diff=cap_combined.loc[eom[-1], ['ret', 'weight', 'idx_weight', 'idx_weight_ret']]\n",
    "stock_diff=stock_diff[stock_diff['weight']>0]\n",
    "stock_diff['weight_diff']=stock_diff['weight']-stock_diff['idx_weight']\n",
    "stock_diff=stock_diff[['ret', 'weight_diff']]\n",
    "stock_diff=stock_diff.sort_values('weight_diff', ascending=False)\n",
    "\n",
    "fig, ax1 = plt.subplots(figsize = (8, 12))\n",
    "ax2=ax1.twiny()\n",
    "\n",
    "y_pos = np.arange(len(stock_diff.index)*2, step=2)\n",
    "\n",
    "ax1.barh(y_pos, stock_diff.iloc[:, 0], align='center', label='excess return')\n",
    "ax1.set_yticks(y_pos, labels=stock_diff.index)\n",
    "ax1.set_xlim(-0.15, 0.15)\n",
    "ax1.invert_yaxis()  # labels read top-to-bottom\n",
    "ax1.set_xlabel('excess return')\n",
    "\n",
    "ax2.barh(y_pos+.5, stock_diff.iloc[:, 1], align='center', label='weight diff', color='orange')\n",
    "ax2.set_xlim(-0.05, 0.05)\n",
    "ax2.set_xlabel('weight diff')\n",
    "\n",
    "\n",
    "plt.legend()\n",
    "plt.show()"
   ]
  },
  {
   "cell_type": "code",
   "execution_count": 211,
   "id": "42b01819-63fd-4ec3-8071-880bbd35ee1c",
   "metadata": {
    "execution": {
     "iopub.execute_input": "2023-11-08T09:15:12.269278Z",
     "iopub.status.busy": "2023-11-08T09:15:12.268628Z",
     "iopub.status.idle": "2023-11-08T09:15:12.280252Z",
     "shell.execute_reply": "2023-11-08T09:15:12.279030Z",
     "shell.execute_reply.started": "2023-11-08T09:15:12.269223Z"
    },
    "tags": []
   },
   "outputs": [],
   "source": [
    "stock_diff=pd.concat([stock_diff, stock_names], axis=1).dropna()"
   ]
  },
  {
   "cell_type": "code",
   "execution_count": 222,
   "id": "831a6a0a-81a6-4795-a940-8ee022d71929",
   "metadata": {
    "execution": {
     "iopub.execute_input": "2023-11-08T09:25:26.763583Z",
     "iopub.status.busy": "2023-11-08T09:25:26.762973Z",
     "iopub.status.idle": "2023-11-08T09:25:26.771793Z",
     "shell.execute_reply": "2023-11-08T09:25:26.770381Z",
     "shell.execute_reply.started": "2023-11-08T09:25:26.763531Z"
    },
    "tags": []
   },
   "outputs": [],
   "source": [
    "top_stocks=stock_diff.sort_values('ret', ascending=False).head(10)\n",
    "bottom_stocks=stock_diff.sort_values('ret').head(10)"
   ]
  },
  {
   "cell_type": "code",
   "execution_count": 223,
   "id": "a44ec909-d96d-492d-abf6-6b1518ba3250",
   "metadata": {
    "execution": {
     "iopub.execute_input": "2023-11-08T09:25:27.747432Z",
     "iopub.status.busy": "2023-11-08T09:25:27.746893Z",
     "iopub.status.idle": "2023-11-08T09:25:27.763804Z",
     "shell.execute_reply": "2023-11-08T09:25:27.762562Z",
     "shell.execute_reply.started": "2023-11-08T09:25:27.747380Z"
    },
    "tags": []
   },
   "outputs": [
    {
     "data": {
      "text/html": [
       "<div>\n",
       "<style scoped>\n",
       "    .dataframe tbody tr th:only-of-type {\n",
       "        vertical-align: middle;\n",
       "    }\n",
       "\n",
       "    .dataframe tbody tr th {\n",
       "        vertical-align: top;\n",
       "    }\n",
       "\n",
       "    .dataframe thead th {\n",
       "        text-align: right;\n",
       "    }\n",
       "</style>\n",
       "<table border=\"1\" class=\"dataframe\">\n",
       "  <thead>\n",
       "    <tr style=\"text-align: right;\">\n",
       "      <th></th>\n",
       "      <th>ret</th>\n",
       "      <th>weight_diff</th>\n",
       "      <th>Name</th>\n",
       "    </tr>\n",
       "  </thead>\n",
       "  <tbody>\n",
       "    <tr>\n",
       "      <th>A105630</th>\n",
       "      <td>0.101665</td>\n",
       "      <td>0.008996</td>\n",
       "      <td>한세실업</td>\n",
       "    </tr>\n",
       "    <tr>\n",
       "      <th>A020560</th>\n",
       "      <td>0.091399</td>\n",
       "      <td>0.008796</td>\n",
       "      <td>아시아나항공</td>\n",
       "    </tr>\n",
       "    <tr>\n",
       "      <th>A111770</th>\n",
       "      <td>0.063298</td>\n",
       "      <td>0.008196</td>\n",
       "      <td>영원무역</td>\n",
       "    </tr>\n",
       "    <tr>\n",
       "      <th>A192080</th>\n",
       "      <td>0.043392</td>\n",
       "      <td>0.008996</td>\n",
       "      <td>더블유게임즈</td>\n",
       "    </tr>\n",
       "    <tr>\n",
       "      <th>A003490</th>\n",
       "      <td>0.041123</td>\n",
       "      <td>0.004196</td>\n",
       "      <td>대한항공</td>\n",
       "    </tr>\n",
       "    <tr>\n",
       "      <th>A001800</th>\n",
       "      <td>0.036166</td>\n",
       "      <td>0.009096</td>\n",
       "      <td>오리온홀딩스</td>\n",
       "    </tr>\n",
       "    <tr>\n",
       "      <th>A185750</th>\n",
       "      <td>0.032501</td>\n",
       "      <td>0.008696</td>\n",
       "      <td>종근당</td>\n",
       "    </tr>\n",
       "    <tr>\n",
       "      <th>A005300</th>\n",
       "      <td>0.032025</td>\n",
       "      <td>0.008896</td>\n",
       "      <td>롯데칠성</td>\n",
       "    </tr>\n",
       "    <tr>\n",
       "      <th>A055550</th>\n",
       "      <td>0.030034</td>\n",
       "      <td>-0.006104</td>\n",
       "      <td>신한지주</td>\n",
       "    </tr>\n",
       "    <tr>\n",
       "      <th>A001040</th>\n",
       "      <td>0.029132</td>\n",
       "      <td>0.008196</td>\n",
       "      <td>CJ</td>\n",
       "    </tr>\n",
       "  </tbody>\n",
       "</table>\n",
       "</div>"
      ],
      "text/plain": [
       "              ret  weight_diff    Name\n",
       "A105630  0.101665     0.008996    한세실업\n",
       "A020560  0.091399     0.008796  아시아나항공\n",
       "A111770  0.063298     0.008196    영원무역\n",
       "A192080  0.043392     0.008996  더블유게임즈\n",
       "A003490  0.041123     0.004196    대한항공\n",
       "A001800  0.036166     0.009096  오리온홀딩스\n",
       "A185750  0.032501     0.008696     종근당\n",
       "A005300  0.032025     0.008896    롯데칠성\n",
       "A055550  0.030034    -0.006104    신한지주\n",
       "A001040  0.029132     0.008196      CJ"
      ]
     },
     "execution_count": 223,
     "metadata": {},
     "output_type": "execute_result"
    }
   ],
   "source": [
    "top_stocks"
   ]
  },
  {
   "cell_type": "code",
   "execution_count": 224,
   "id": "6779017f-36d6-4d1a-a6b3-4e296b8bd92a",
   "metadata": {
    "execution": {
     "iopub.execute_input": "2023-11-08T09:25:28.175511Z",
     "iopub.status.busy": "2023-11-08T09:25:28.175162Z",
     "iopub.status.idle": "2023-11-08T09:25:28.185128Z",
     "shell.execute_reply": "2023-11-08T09:25:28.184082Z",
     "shell.execute_reply.started": "2023-11-08T09:25:28.175477Z"
    },
    "tags": []
   },
   "outputs": [
    {
     "data": {
      "text/html": [
       "<div>\n",
       "<style scoped>\n",
       "    .dataframe tbody tr th:only-of-type {\n",
       "        vertical-align: middle;\n",
       "    }\n",
       "\n",
       "    .dataframe tbody tr th {\n",
       "        vertical-align: top;\n",
       "    }\n",
       "\n",
       "    .dataframe thead th {\n",
       "        text-align: right;\n",
       "    }\n",
       "</style>\n",
       "<table border=\"1\" class=\"dataframe\">\n",
       "  <thead>\n",
       "    <tr style=\"text-align: right;\">\n",
       "      <th></th>\n",
       "      <th>ret</th>\n",
       "      <th>weight_diff</th>\n",
       "      <th>Name</th>\n",
       "    </tr>\n",
       "  </thead>\n",
       "  <tbody>\n",
       "    <tr>\n",
       "      <th>A010780</th>\n",
       "      <td>-0.032754</td>\n",
       "      <td>0.008996</td>\n",
       "      <td>아이에스동서</td>\n",
       "    </tr>\n",
       "    <tr>\n",
       "      <th>A014820</th>\n",
       "      <td>-0.024802</td>\n",
       "      <td>0.009196</td>\n",
       "      <td>동원시스템즈</td>\n",
       "    </tr>\n",
       "    <tr>\n",
       "      <th>A079550</th>\n",
       "      <td>-0.024465</td>\n",
       "      <td>0.008296</td>\n",
       "      <td>LIG넥스원</td>\n",
       "    </tr>\n",
       "    <tr>\n",
       "      <th>A381970</th>\n",
       "      <td>-0.018013</td>\n",
       "      <td>0.009296</td>\n",
       "      <td>케이카</td>\n",
       "    </tr>\n",
       "    <tr>\n",
       "      <th>A000210</th>\n",
       "      <td>-0.016487</td>\n",
       "      <td>0.008896</td>\n",
       "      <td>DL</td>\n",
       "    </tr>\n",
       "    <tr>\n",
       "      <th>A001120</th>\n",
       "      <td>-0.016425</td>\n",
       "      <td>0.008696</td>\n",
       "      <td>LX인터내셔널</td>\n",
       "    </tr>\n",
       "    <tr>\n",
       "      <th>A009900</th>\n",
       "      <td>-0.015131</td>\n",
       "      <td>0.008996</td>\n",
       "      <td>명신산업</td>\n",
       "    </tr>\n",
       "    <tr>\n",
       "      <th>A039490</th>\n",
       "      <td>-0.014451</td>\n",
       "      <td>0.008296</td>\n",
       "      <td>키움증권</td>\n",
       "    </tr>\n",
       "    <tr>\n",
       "      <th>A010060</th>\n",
       "      <td>-0.013100</td>\n",
       "      <td>0.007896</td>\n",
       "      <td>OCI홀딩스</td>\n",
       "    </tr>\n",
       "    <tr>\n",
       "      <th>A241560</th>\n",
       "      <td>-0.012957</td>\n",
       "      <td>0.007596</td>\n",
       "      <td>두산밥캣</td>\n",
       "    </tr>\n",
       "  </tbody>\n",
       "</table>\n",
       "</div>"
      ],
      "text/plain": [
       "              ret  weight_diff     Name\n",
       "A010780 -0.032754     0.008996   아이에스동서\n",
       "A014820 -0.024802     0.009196   동원시스템즈\n",
       "A079550 -0.024465     0.008296   LIG넥스원\n",
       "A381970 -0.018013     0.009296      케이카\n",
       "A000210 -0.016487     0.008896       DL\n",
       "A001120 -0.016425     0.008696  LX인터내셔널\n",
       "A009900 -0.015131     0.008996     명신산업\n",
       "A039490 -0.014451     0.008296     키움증권\n",
       "A010060 -0.013100     0.007896   OCI홀딩스\n",
       "A241560 -0.012957     0.007596     두산밥캣"
      ]
     },
     "execution_count": 224,
     "metadata": {},
     "output_type": "execute_result"
    }
   ],
   "source": [
    "bottom_stocks"
   ]
  },
  {
   "cell_type": "code",
   "execution_count": 225,
   "id": "459c6c92-ff35-425e-8634-f0b504e7cb43",
   "metadata": {
    "execution": {
     "iopub.execute_input": "2023-11-08T09:25:56.502014Z",
     "iopub.status.busy": "2023-11-08T09:25:56.501404Z",
     "iopub.status.idle": "2023-11-08T09:25:56.508787Z",
     "shell.execute_reply": "2023-11-08T09:25:56.507268Z",
     "shell.execute_reply.started": "2023-11-08T09:25:56.501962Z"
    }
   },
   "outputs": [],
   "source": [
    "bottom_wdiff_stocks=stock_diff.sort_values('weight_diff').head(10)"
   ]
  },
  {
   "cell_type": "code",
   "execution_count": 228,
   "id": "203335a6-ea55-41cd-9688-61b736bb58f8",
   "metadata": {
    "execution": {
     "iopub.execute_input": "2023-11-08T09:27:24.556773Z",
     "iopub.status.busy": "2023-11-08T09:27:24.556152Z",
     "iopub.status.idle": "2023-11-08T09:27:24.573874Z",
     "shell.execute_reply": "2023-11-08T09:27:24.572522Z",
     "shell.execute_reply.started": "2023-11-08T09:27:24.556719Z"
    },
    "tags": []
   },
   "outputs": [
    {
     "data": {
      "text/html": [
       "<div>\n",
       "<style scoped>\n",
       "    .dataframe tbody tr th:only-of-type {\n",
       "        vertical-align: middle;\n",
       "    }\n",
       "\n",
       "    .dataframe tbody tr th {\n",
       "        vertical-align: top;\n",
       "    }\n",
       "\n",
       "    .dataframe thead th {\n",
       "        text-align: right;\n",
       "    }\n",
       "</style>\n",
       "<table border=\"1\" class=\"dataframe\">\n",
       "  <thead>\n",
       "    <tr style=\"text-align: right;\">\n",
       "      <th></th>\n",
       "      <th>weight_diff</th>\n",
       "      <th>Name</th>\n",
       "    </tr>\n",
       "  </thead>\n",
       "  <tbody>\n",
       "    <tr>\n",
       "      <th>A005380</th>\n",
       "      <td>-0.014504</td>\n",
       "      <td>현대차</td>\n",
       "    </tr>\n",
       "    <tr>\n",
       "      <th>A005930</th>\n",
       "      <td>-0.013200</td>\n",
       "      <td>삼성전자</td>\n",
       "    </tr>\n",
       "    <tr>\n",
       "      <th>A000270</th>\n",
       "      <td>-0.009904</td>\n",
       "      <td>기아</td>\n",
       "    </tr>\n",
       "    <tr>\n",
       "      <th>A055550</th>\n",
       "      <td>-0.006104</td>\n",
       "      <td>신한지주</td>\n",
       "    </tr>\n",
       "    <tr>\n",
       "      <th>A086790</th>\n",
       "      <td>-0.001004</td>\n",
       "      <td>하나금융지주</td>\n",
       "    </tr>\n",
       "    <tr>\n",
       "      <th>A316140</th>\n",
       "      <td>0.001096</td>\n",
       "      <td>우리금융지주</td>\n",
       "    </tr>\n",
       "    <tr>\n",
       "      <th>A030200</th>\n",
       "      <td>0.001996</td>\n",
       "      <td>KT</td>\n",
       "    </tr>\n",
       "    <tr>\n",
       "      <th>A003490</th>\n",
       "      <td>0.004196</td>\n",
       "      <td>대한항공</td>\n",
       "    </tr>\n",
       "    <tr>\n",
       "      <th>A011200</th>\n",
       "      <td>0.005096</td>\n",
       "      <td>HMM</td>\n",
       "    </tr>\n",
       "    <tr>\n",
       "      <th>A086280</th>\n",
       "      <td>0.006196</td>\n",
       "      <td>현대글로비스</td>\n",
       "    </tr>\n",
       "  </tbody>\n",
       "</table>\n",
       "</div>"
      ],
      "text/plain": [
       "         weight_diff    Name\n",
       "A005380    -0.014504     현대차\n",
       "A005930    -0.013200    삼성전자\n",
       "A000270    -0.009904      기아\n",
       "A055550    -0.006104    신한지주\n",
       "A086790    -0.001004  하나금융지주\n",
       "A316140     0.001096  우리금융지주\n",
       "A030200     0.001996      KT\n",
       "A003490     0.004196    대한항공\n",
       "A011200     0.005096     HMM\n",
       "A086280     0.006196  현대글로비스"
      ]
     },
     "execution_count": 228,
     "metadata": {},
     "output_type": "execute_result"
    }
   ],
   "source": [
    "bottom_wdiff_stocks[['weight_diff', 'Name']]"
   ]
  },
  {
   "cell_type": "code",
   "execution_count": null,
   "id": "36e9c390-a282-4020-b736-27fc888963fc",
   "metadata": {},
   "outputs": [],
   "source": []
  },
  {
   "cell_type": "code",
   "execution_count": 165,
   "id": "02dc08f7-7434-4d68-a495-6a1900579de3",
   "metadata": {
    "execution": {
     "iopub.execute_input": "2023-11-08T07:09:27.561463Z",
     "iopub.status.busy": "2023-11-08T07:09:27.560832Z",
     "iopub.status.idle": "2023-11-08T07:09:27.581171Z",
     "shell.execute_reply": "2023-11-08T07:09:27.580138Z",
     "shell.execute_reply.started": "2023-11-08T07:09:27.561410Z"
    },
    "tags": []
   },
   "outputs": [
    {
     "data": {
      "text/html": [
       "<div>\n",
       "<style scoped>\n",
       "    .dataframe tbody tr th:only-of-type {\n",
       "        vertical-align: middle;\n",
       "    }\n",
       "\n",
       "    .dataframe tbody tr th {\n",
       "        vertical-align: top;\n",
       "    }\n",
       "\n",
       "    .dataframe thead th {\n",
       "        text-align: right;\n",
       "    }\n",
       "</style>\n",
       "<table border=\"1\" class=\"dataframe\">\n",
       "  <thead>\n",
       "    <tr style=\"text-align: right;\">\n",
       "      <th></th>\n",
       "      <th>code</th>\n",
       "      <th>weights</th>\n",
       "      <th>name</th>\n",
       "    </tr>\n",
       "    <tr>\n",
       "      <th>dates</th>\n",
       "      <th></th>\n",
       "      <th></th>\n",
       "      <th></th>\n",
       "    </tr>\n",
       "  </thead>\n",
       "  <tbody>\n",
       "    <tr>\n",
       "      <th>2023-02-28</th>\n",
       "      <td>A001040</td>\n",
       "      <td>0.009461</td>\n",
       "      <td>CJ</td>\n",
       "    </tr>\n",
       "    <tr>\n",
       "      <th>2023-02-28</th>\n",
       "      <td>A096770</td>\n",
       "      <td>0.009461</td>\n",
       "      <td>SK이노베이션</td>\n",
       "    </tr>\n",
       "    <tr>\n",
       "      <th>2023-02-28</th>\n",
       "      <td>A006260</td>\n",
       "      <td>0.009461</td>\n",
       "      <td>LS</td>\n",
       "    </tr>\n",
       "    <tr>\n",
       "      <th>2023-02-28</th>\n",
       "      <td>A011790</td>\n",
       "      <td>0.009461</td>\n",
       "      <td>SKC</td>\n",
       "    </tr>\n",
       "    <tr>\n",
       "      <th>2023-02-28</th>\n",
       "      <td>A016380</td>\n",
       "      <td>0.009461</td>\n",
       "      <td>KG스틸</td>\n",
       "    </tr>\n",
       "    <tr>\n",
       "      <th>...</th>\n",
       "      <td>...</td>\n",
       "      <td>...</td>\n",
       "      <td>...</td>\n",
       "    </tr>\n",
       "    <tr>\n",
       "      <th>2023-10-31</th>\n",
       "      <td>A006800</td>\n",
       "      <td>0.009396</td>\n",
       "      <td>미래에셋증권</td>\n",
       "    </tr>\n",
       "    <tr>\n",
       "      <th>2023-10-31</th>\n",
       "      <td>A086280</td>\n",
       "      <td>0.009396</td>\n",
       "      <td>현대글로비스</td>\n",
       "    </tr>\n",
       "    <tr>\n",
       "      <th>2023-10-31</th>\n",
       "      <td>A178920</td>\n",
       "      <td>0.009396</td>\n",
       "      <td>PI첨단소재</td>\n",
       "    </tr>\n",
       "    <tr>\n",
       "      <th>2023-10-31</th>\n",
       "      <td>A120110</td>\n",
       "      <td>0.009396</td>\n",
       "      <td>코오롱인더</td>\n",
       "    </tr>\n",
       "    <tr>\n",
       "      <th>2023-10-31</th>\n",
       "      <td>A005930</td>\n",
       "      <td>0.304700</td>\n",
       "      <td>삼성전자</td>\n",
       "    </tr>\n",
       "  </tbody>\n",
       "</table>\n",
       "<p>664 rows × 3 columns</p>\n",
       "</div>"
      ],
      "text/plain": [
       "               code   weights     name\n",
       "dates                                 \n",
       "2023-02-28  A001040  0.009461       CJ\n",
       "2023-02-28  A096770  0.009461  SK이노베이션\n",
       "2023-02-28  A006260  0.009461       LS\n",
       "2023-02-28  A011790  0.009461      SKC\n",
       "2023-02-28  A016380  0.009461     KG스틸\n",
       "...             ...       ...      ...\n",
       "2023-10-31  A006800  0.009396   미래에셋증권\n",
       "2023-10-31  A086280  0.009396   현대글로비스\n",
       "2023-10-31  A178920  0.009396   PI첨단소재\n",
       "2023-10-31  A120110  0.009396    코오롱인더\n",
       "2023-10-31  A005930  0.304700     삼성전자\n",
       "\n",
       "[664 rows x 3 columns]"
      ]
     },
     "execution_count": 165,
     "metadata": {},
     "output_type": "execute_result"
    }
   ],
   "source": [
    "mlq_w"
   ]
  },
  {
   "cell_type": "code",
   "execution_count": null,
   "id": "c9a5118e-f6c0-44c5-9933-95bcbc0a758d",
   "metadata": {},
   "outputs": [],
   "source": []
  },
  {
   "cell_type": "code",
   "execution_count": 166,
   "id": "7d0c70fa-3694-48ed-8593-0a23d088b1f7",
   "metadata": {
    "execution": {
     "iopub.execute_input": "2023-11-08T07:09:28.933939Z",
     "iopub.status.busy": "2023-11-08T07:09:28.933309Z",
     "iopub.status.idle": "2023-11-08T07:09:28.961216Z",
     "shell.execute_reply": "2023-11-08T07:09:28.959990Z",
     "shell.execute_reply.started": "2023-11-08T07:09:28.933884Z"
    },
    "tags": []
   },
   "outputs": [],
   "source": [
    "orig_ret_temp=(prc.loc[daily_w.index[0]:].pct_change() * daily_w.fillna(0)).sum(1).loc['2023-08-01':'2023-08-31']"
   ]
  },
  {
   "cell_type": "code",
   "execution_count": 167,
   "id": "021e7a22-9b99-4d62-83a5-bf945238638e",
   "metadata": {
    "execution": {
     "iopub.execute_input": "2023-11-08T07:09:29.366156Z",
     "iopub.status.busy": "2023-11-08T07:09:29.365900Z",
     "iopub.status.idle": "2023-11-08T07:09:29.373472Z",
     "shell.execute_reply": "2023-11-08T07:09:29.372606Z",
     "shell.execute_reply.started": "2023-11-08T07:09:29.366132Z"
    },
    "tags": []
   },
   "outputs": [
    {
     "data": {
      "text/plain": [
       "Dates\n",
       "2023-08-01    0.017978\n",
       "2023-08-02   -0.012253\n",
       "2023-08-03   -0.004254\n",
       "2023-08-04    0.003830\n",
       "2023-08-07   -0.002555\n",
       "2023-08-08   -0.006492\n",
       "2023-08-09    0.013854\n",
       "2023-08-10    0.006925\n",
       "2023-08-11   -0.002789\n",
       "2023-08-14   -0.007683\n",
       "2023-08-16   -0.019297\n",
       "2023-08-17   -0.009090\n",
       "2023-08-18   -0.006143\n",
       "2023-08-21    0.003372\n",
       "2023-08-22   -0.001736\n",
       "2023-08-23    0.000007\n",
       "2023-08-24    0.011412\n",
       "2023-08-25   -0.004765\n",
       "2023-08-28    0.011912\n",
       "2023-08-29    0.003767\n",
       "2023-08-30    0.005127\n",
       "2023-08-31   -0.001818\n",
       "dtype: float64"
      ]
     },
     "execution_count": 167,
     "metadata": {},
     "output_type": "execute_result"
    }
   ],
   "source": [
    "idx_ret.loc['2023-08-1':'2023-08-31']"
   ]
  },
  {
   "cell_type": "code",
   "execution_count": 168,
   "id": "10535dad-04d4-4875-af02-999497513330",
   "metadata": {
    "execution": {
     "iopub.execute_input": "2023-11-08T07:09:29.374771Z",
     "iopub.status.busy": "2023-11-08T07:09:29.374530Z",
     "iopub.status.idle": "2023-11-08T07:09:29.382473Z",
     "shell.execute_reply": "2023-11-08T07:09:29.381560Z",
     "shell.execute_reply.started": "2023-11-08T07:09:29.374749Z"
    },
    "tags": []
   },
   "outputs": [],
   "source": [
    "sector_ret_temp=temp_sec_weighted_ret.sum(1)"
   ]
  },
  {
   "cell_type": "code",
   "execution_count": 169,
   "id": "44a9c4ee-fccb-4bd8-9046-8d6836922da2",
   "metadata": {
    "execution": {
     "iopub.execute_input": "2023-11-08T07:09:30.050085Z",
     "iopub.status.busy": "2023-11-08T07:09:30.049834Z",
     "iopub.status.idle": "2023-11-08T07:09:30.073762Z",
     "shell.execute_reply": "2023-11-08T07:09:30.072883Z",
     "shell.execute_reply.started": "2023-11-08T07:09:30.050062Z"
    },
    "tags": []
   },
   "outputs": [],
   "source": [
    "orig_ret_temp_stocks=(prc.loc[daily_w.index[0]:].pct_change() * daily_w.fillna(0)).loc['2023-08-01':'2023-08-31']\n",
    "sec_ret_temp=monthly_cap_combined.groupby(['Dates', 'FG_IndustryGroup_Idx']).sum(numeric_only=True)['weighted_ret'].unstack().sum(1)"
   ]
  },
  {
   "cell_type": "code",
   "execution_count": 170,
   "id": "9aacdaed-e628-4e8e-9e09-e71d877dc191",
   "metadata": {
    "execution": {
     "iopub.execute_input": "2023-11-08T07:09:30.075013Z",
     "iopub.status.busy": "2023-11-08T07:09:30.074768Z",
     "iopub.status.idle": "2023-11-08T07:09:30.153420Z",
     "shell.execute_reply": "2023-11-08T07:09:30.152680Z",
     "shell.execute_reply.started": "2023-11-08T07:09:30.074990Z"
    },
    "tags": []
   },
   "outputs": [
    {
     "data": {
      "application/vnd.plotly.v1+json": {
       "config": {
        "plotlyServerURL": "https://plot.ly"
       },
       "data": [
        {
         "hovertemplate": "variable=0<br>Dates=%{x}<br>value=%{y}<extra></extra>",
         "legendgroup": "0",
         "line": {
          "color": "#636efa",
          "dash": "solid"
         },
         "marker": {
          "symbol": "circle"
         },
         "mode": "lines",
         "name": "0",
         "orientation": "v",
         "showlegend": true,
         "type": "scatter",
         "x": [
          "2023-08-01T00:00:00",
          "2023-08-02T00:00:00",
          "2023-08-03T00:00:00",
          "2023-08-04T00:00:00",
          "2023-08-07T00:00:00",
          "2023-08-08T00:00:00",
          "2023-08-09T00:00:00",
          "2023-08-10T00:00:00",
          "2023-08-11T00:00:00",
          "2023-08-14T00:00:00",
          "2023-08-16T00:00:00",
          "2023-08-17T00:00:00",
          "2023-08-18T00:00:00",
          "2023-08-21T00:00:00",
          "2023-08-22T00:00:00",
          "2023-08-23T00:00:00",
          "2023-08-24T00:00:00",
          "2023-08-25T00:00:00",
          "2023-08-28T00:00:00",
          "2023-08-29T00:00:00",
          "2023-08-30T00:00:00",
          "2023-08-31T00:00:00",
          "2023-10-04T00:00:00",
          "2023-10-05T00:00:00",
          "2023-10-06T00:00:00",
          "2023-10-10T00:00:00",
          "2023-10-11T00:00:00",
          "2023-10-12T00:00:00",
          "2023-10-13T00:00:00",
          "2023-10-16T00:00:00",
          "2023-10-17T00:00:00",
          "2023-10-18T00:00:00",
          "2023-10-19T00:00:00",
          "2023-10-20T00:00:00",
          "2023-10-23T00:00:00",
          "2023-10-24T00:00:00",
          "2023-10-25T00:00:00",
          "2023-10-26T00:00:00",
          "2023-10-27T00:00:00",
          "2023-10-30T00:00:00",
          "2023-10-31T00:00:00"
         ],
         "xaxis": "x",
         "y": [
          0.017978375905231162,
          -0.01225303411531248,
          -0.004254390824592379,
          0.0038304275286425967,
          -0.0025546032310621693,
          -0.006491540301018682,
          0.013854235405412958,
          0.006925389023870726,
          -0.0027890119412491148,
          -0.007683095340326582,
          -0.019297267802895864,
          -0.009090478834651496,
          -0.006143234383561265,
          0.003371732393793037,
          -0.0017355022703858844,
          7.3935906842834565e-06,
          0.011412469550470386,
          -0.004765047829017325,
          0.011912429987587087,
          0.003767042723497788,
          0.005126517137923201,
          -0.001817753747810419,
          null,
          null,
          null,
          null,
          null,
          null,
          null,
          null,
          null,
          null,
          null,
          null,
          null,
          null,
          null,
          null,
          null,
          null,
          null
         ],
         "yaxis": "y"
        },
        {
         "hovertemplate": "variable=1<br>Dates=%{x}<br>value=%{y}<extra></extra>",
         "legendgroup": "1",
         "line": {
          "color": "#EF553B",
          "dash": "solid"
         },
         "marker": {
          "symbol": "circle"
         },
         "mode": "lines",
         "name": "1",
         "orientation": "v",
         "showlegend": true,
         "type": "scatter",
         "x": [
          "2023-08-01T00:00:00",
          "2023-08-02T00:00:00",
          "2023-08-03T00:00:00",
          "2023-08-04T00:00:00",
          "2023-08-07T00:00:00",
          "2023-08-08T00:00:00",
          "2023-08-09T00:00:00",
          "2023-08-10T00:00:00",
          "2023-08-11T00:00:00",
          "2023-08-14T00:00:00",
          "2023-08-16T00:00:00",
          "2023-08-17T00:00:00",
          "2023-08-18T00:00:00",
          "2023-08-21T00:00:00",
          "2023-08-22T00:00:00",
          "2023-08-23T00:00:00",
          "2023-08-24T00:00:00",
          "2023-08-25T00:00:00",
          "2023-08-28T00:00:00",
          "2023-08-29T00:00:00",
          "2023-08-30T00:00:00",
          "2023-08-31T00:00:00",
          "2023-10-04T00:00:00",
          "2023-10-05T00:00:00",
          "2023-10-06T00:00:00",
          "2023-10-10T00:00:00",
          "2023-10-11T00:00:00",
          "2023-10-12T00:00:00",
          "2023-10-13T00:00:00",
          "2023-10-16T00:00:00",
          "2023-10-17T00:00:00",
          "2023-10-18T00:00:00",
          "2023-10-19T00:00:00",
          "2023-10-20T00:00:00",
          "2023-10-23T00:00:00",
          "2023-10-24T00:00:00",
          "2023-10-25T00:00:00",
          "2023-10-26T00:00:00",
          "2023-10-27T00:00:00",
          "2023-10-30T00:00:00",
          "2023-10-31T00:00:00"
         ],
         "xaxis": "x",
         "y": [
          null,
          null,
          null,
          null,
          null,
          null,
          null,
          null,
          null,
          null,
          null,
          null,
          null,
          null,
          null,
          null,
          null,
          null,
          null,
          null,
          null,
          null,
          0.0007676447808546956,
          -0.0006180137365790143,
          0.002023043694992689,
          0.0016228282666522085,
          -0.0029995486490968894,
          -0.005367682670290861,
          0.00022719281097140264,
          0.0041828539495028134,
          -0.002101250941019408,
          0.007922764131487212,
          0.0026534861434578047,
          0.0003133219592107991,
          0.002351678180011219,
          -0.006923503569972207,
          0.012169399243774276,
          0.009267589049303918,
          0.0015178432431717914,
          0.0033463979753768427,
          0.008463793781461715
         ],
         "yaxis": "y"
        },
        {
         "hovertemplate": "variable=2<br>Dates=%{x}<br>value=%{y}<extra></extra>",
         "legendgroup": "2",
         "line": {
          "color": "#00cc96",
          "dash": "solid"
         },
         "marker": {
          "symbol": "circle"
         },
         "mode": "lines",
         "name": "2",
         "orientation": "v",
         "showlegend": true,
         "type": "scatter",
         "x": [
          "2023-08-01T00:00:00",
          "2023-08-02T00:00:00",
          "2023-08-03T00:00:00",
          "2023-08-04T00:00:00",
          "2023-08-07T00:00:00",
          "2023-08-08T00:00:00",
          "2023-08-09T00:00:00",
          "2023-08-10T00:00:00",
          "2023-08-11T00:00:00",
          "2023-08-14T00:00:00",
          "2023-08-16T00:00:00",
          "2023-08-17T00:00:00",
          "2023-08-18T00:00:00",
          "2023-08-21T00:00:00",
          "2023-08-22T00:00:00",
          "2023-08-23T00:00:00",
          "2023-08-24T00:00:00",
          "2023-08-25T00:00:00",
          "2023-08-28T00:00:00",
          "2023-08-29T00:00:00",
          "2023-08-30T00:00:00",
          "2023-08-31T00:00:00",
          "2023-10-04T00:00:00",
          "2023-10-05T00:00:00",
          "2023-10-06T00:00:00",
          "2023-10-10T00:00:00",
          "2023-10-11T00:00:00",
          "2023-10-12T00:00:00",
          "2023-10-13T00:00:00",
          "2023-10-16T00:00:00",
          "2023-10-17T00:00:00",
          "2023-10-18T00:00:00",
          "2023-10-19T00:00:00",
          "2023-10-20T00:00:00",
          "2023-10-23T00:00:00",
          "2023-10-24T00:00:00",
          "2023-10-25T00:00:00",
          "2023-10-26T00:00:00",
          "2023-10-27T00:00:00",
          "2023-10-30T00:00:00",
          "2023-10-31T00:00:00"
         ],
         "xaxis": "x",
         "y": [
          null,
          null,
          null,
          null,
          null,
          null,
          null,
          null,
          null,
          null,
          null,
          null,
          null,
          null,
          null,
          null,
          null,
          null,
          null,
          null,
          null,
          null,
          0.0007676447808546962,
          -0.000618013736579014,
          0.0020230436949926897,
          0.0016228282666522075,
          -0.0029995486490968903,
          -0.005367682670290862,
          0.00022719281097140264,
          0.0041828539495028134,
          -0.0021012509410194085,
          0.00792276413148721,
          0.0026534861434578056,
          0.0003133219592107989,
          0.0023516781800112197,
          -0.006923503569972206,
          0.012169399243774272,
          0.00926758904930392,
          0.001517843243171791,
          0.003346397975376843,
          0.008463793781461715
         ],
         "yaxis": "y"
        }
       ],
       "layout": {
        "autosize": true,
        "legend": {
         "title": {
          "text": "variable"
         },
         "tracegroupgap": 0
        },
        "margin": {
         "t": 60
        },
        "template": {
         "data": {
          "bar": [
           {
            "error_x": {
             "color": "#2a3f5f"
            },
            "error_y": {
             "color": "#2a3f5f"
            },
            "marker": {
             "line": {
              "color": "#E5ECF6",
              "width": 0.5
             },
             "pattern": {
              "fillmode": "overlay",
              "size": 10,
              "solidity": 0.2
             }
            },
            "type": "bar"
           }
          ],
          "barpolar": [
           {
            "marker": {
             "line": {
              "color": "#E5ECF6",
              "width": 0.5
             },
             "pattern": {
              "fillmode": "overlay",
              "size": 10,
              "solidity": 0.2
             }
            },
            "type": "barpolar"
           }
          ],
          "carpet": [
           {
            "aaxis": {
             "endlinecolor": "#2a3f5f",
             "gridcolor": "white",
             "linecolor": "white",
             "minorgridcolor": "white",
             "startlinecolor": "#2a3f5f"
            },
            "baxis": {
             "endlinecolor": "#2a3f5f",
             "gridcolor": "white",
             "linecolor": "white",
             "minorgridcolor": "white",
             "startlinecolor": "#2a3f5f"
            },
            "type": "carpet"
           }
          ],
          "choropleth": [
           {
            "colorbar": {
             "outlinewidth": 0,
             "ticks": ""
            },
            "type": "choropleth"
           }
          ],
          "contour": [
           {
            "colorbar": {
             "outlinewidth": 0,
             "ticks": ""
            },
            "colorscale": [
             [
              0,
              "#0d0887"
             ],
             [
              0.1111111111111111,
              "#46039f"
             ],
             [
              0.2222222222222222,
              "#7201a8"
             ],
             [
              0.3333333333333333,
              "#9c179e"
             ],
             [
              0.4444444444444444,
              "#bd3786"
             ],
             [
              0.5555555555555556,
              "#d8576b"
             ],
             [
              0.6666666666666666,
              "#ed7953"
             ],
             [
              0.7777777777777778,
              "#fb9f3a"
             ],
             [
              0.8888888888888888,
              "#fdca26"
             ],
             [
              1,
              "#f0f921"
             ]
            ],
            "type": "contour"
           }
          ],
          "contourcarpet": [
           {
            "colorbar": {
             "outlinewidth": 0,
             "ticks": ""
            },
            "type": "contourcarpet"
           }
          ],
          "heatmap": [
           {
            "colorbar": {
             "outlinewidth": 0,
             "ticks": ""
            },
            "colorscale": [
             [
              0,
              "#0d0887"
             ],
             [
              0.1111111111111111,
              "#46039f"
             ],
             [
              0.2222222222222222,
              "#7201a8"
             ],
             [
              0.3333333333333333,
              "#9c179e"
             ],
             [
              0.4444444444444444,
              "#bd3786"
             ],
             [
              0.5555555555555556,
              "#d8576b"
             ],
             [
              0.6666666666666666,
              "#ed7953"
             ],
             [
              0.7777777777777778,
              "#fb9f3a"
             ],
             [
              0.8888888888888888,
              "#fdca26"
             ],
             [
              1,
              "#f0f921"
             ]
            ],
            "type": "heatmap"
           }
          ],
          "heatmapgl": [
           {
            "colorbar": {
             "outlinewidth": 0,
             "ticks": ""
            },
            "colorscale": [
             [
              0,
              "#0d0887"
             ],
             [
              0.1111111111111111,
              "#46039f"
             ],
             [
              0.2222222222222222,
              "#7201a8"
             ],
             [
              0.3333333333333333,
              "#9c179e"
             ],
             [
              0.4444444444444444,
              "#bd3786"
             ],
             [
              0.5555555555555556,
              "#d8576b"
             ],
             [
              0.6666666666666666,
              "#ed7953"
             ],
             [
              0.7777777777777778,
              "#fb9f3a"
             ],
             [
              0.8888888888888888,
              "#fdca26"
             ],
             [
              1,
              "#f0f921"
             ]
            ],
            "type": "heatmapgl"
           }
          ],
          "histogram": [
           {
            "marker": {
             "pattern": {
              "fillmode": "overlay",
              "size": 10,
              "solidity": 0.2
             }
            },
            "type": "histogram"
           }
          ],
          "histogram2d": [
           {
            "colorbar": {
             "outlinewidth": 0,
             "ticks": ""
            },
            "colorscale": [
             [
              0,
              "#0d0887"
             ],
             [
              0.1111111111111111,
              "#46039f"
             ],
             [
              0.2222222222222222,
              "#7201a8"
             ],
             [
              0.3333333333333333,
              "#9c179e"
             ],
             [
              0.4444444444444444,
              "#bd3786"
             ],
             [
              0.5555555555555556,
              "#d8576b"
             ],
             [
              0.6666666666666666,
              "#ed7953"
             ],
             [
              0.7777777777777778,
              "#fb9f3a"
             ],
             [
              0.8888888888888888,
              "#fdca26"
             ],
             [
              1,
              "#f0f921"
             ]
            ],
            "type": "histogram2d"
           }
          ],
          "histogram2dcontour": [
           {
            "colorbar": {
             "outlinewidth": 0,
             "ticks": ""
            },
            "colorscale": [
             [
              0,
              "#0d0887"
             ],
             [
              0.1111111111111111,
              "#46039f"
             ],
             [
              0.2222222222222222,
              "#7201a8"
             ],
             [
              0.3333333333333333,
              "#9c179e"
             ],
             [
              0.4444444444444444,
              "#bd3786"
             ],
             [
              0.5555555555555556,
              "#d8576b"
             ],
             [
              0.6666666666666666,
              "#ed7953"
             ],
             [
              0.7777777777777778,
              "#fb9f3a"
             ],
             [
              0.8888888888888888,
              "#fdca26"
             ],
             [
              1,
              "#f0f921"
             ]
            ],
            "type": "histogram2dcontour"
           }
          ],
          "mesh3d": [
           {
            "colorbar": {
             "outlinewidth": 0,
             "ticks": ""
            },
            "type": "mesh3d"
           }
          ],
          "parcoords": [
           {
            "line": {
             "colorbar": {
              "outlinewidth": 0,
              "ticks": ""
             }
            },
            "type": "parcoords"
           }
          ],
          "pie": [
           {
            "automargin": true,
            "type": "pie"
           }
          ],
          "scatter": [
           {
            "fillpattern": {
             "fillmode": "overlay",
             "size": 10,
             "solidity": 0.2
            },
            "type": "scatter"
           }
          ],
          "scatter3d": [
           {
            "line": {
             "colorbar": {
              "outlinewidth": 0,
              "ticks": ""
             }
            },
            "marker": {
             "colorbar": {
              "outlinewidth": 0,
              "ticks": ""
             }
            },
            "type": "scatter3d"
           }
          ],
          "scattercarpet": [
           {
            "marker": {
             "colorbar": {
              "outlinewidth": 0,
              "ticks": ""
             }
            },
            "type": "scattercarpet"
           }
          ],
          "scattergeo": [
           {
            "marker": {
             "colorbar": {
              "outlinewidth": 0,
              "ticks": ""
             }
            },
            "type": "scattergeo"
           }
          ],
          "scattergl": [
           {
            "marker": {
             "colorbar": {
              "outlinewidth": 0,
              "ticks": ""
             }
            },
            "type": "scattergl"
           }
          ],
          "scattermapbox": [
           {
            "marker": {
             "colorbar": {
              "outlinewidth": 0,
              "ticks": ""
             }
            },
            "type": "scattermapbox"
           }
          ],
          "scatterpolar": [
           {
            "marker": {
             "colorbar": {
              "outlinewidth": 0,
              "ticks": ""
             }
            },
            "type": "scatterpolar"
           }
          ],
          "scatterpolargl": [
           {
            "marker": {
             "colorbar": {
              "outlinewidth": 0,
              "ticks": ""
             }
            },
            "type": "scatterpolargl"
           }
          ],
          "scatterternary": [
           {
            "marker": {
             "colorbar": {
              "outlinewidth": 0,
              "ticks": ""
             }
            },
            "type": "scatterternary"
           }
          ],
          "surface": [
           {
            "colorbar": {
             "outlinewidth": 0,
             "ticks": ""
            },
            "colorscale": [
             [
              0,
              "#0d0887"
             ],
             [
              0.1111111111111111,
              "#46039f"
             ],
             [
              0.2222222222222222,
              "#7201a8"
             ],
             [
              0.3333333333333333,
              "#9c179e"
             ],
             [
              0.4444444444444444,
              "#bd3786"
             ],
             [
              0.5555555555555556,
              "#d8576b"
             ],
             [
              0.6666666666666666,
              "#ed7953"
             ],
             [
              0.7777777777777778,
              "#fb9f3a"
             ],
             [
              0.8888888888888888,
              "#fdca26"
             ],
             [
              1,
              "#f0f921"
             ]
            ],
            "type": "surface"
           }
          ],
          "table": [
           {
            "cells": {
             "fill": {
              "color": "#EBF0F8"
             },
             "line": {
              "color": "white"
             }
            },
            "header": {
             "fill": {
              "color": "#C8D4E3"
             },
             "line": {
              "color": "white"
             }
            },
            "type": "table"
           }
          ]
         },
         "layout": {
          "annotationdefaults": {
           "arrowcolor": "#2a3f5f",
           "arrowhead": 0,
           "arrowwidth": 1
          },
          "autotypenumbers": "strict",
          "coloraxis": {
           "colorbar": {
            "outlinewidth": 0,
            "ticks": ""
           }
          },
          "colorscale": {
           "diverging": [
            [
             0,
             "#8e0152"
            ],
            [
             0.1,
             "#c51b7d"
            ],
            [
             0.2,
             "#de77ae"
            ],
            [
             0.3,
             "#f1b6da"
            ],
            [
             0.4,
             "#fde0ef"
            ],
            [
             0.5,
             "#f7f7f7"
            ],
            [
             0.6,
             "#e6f5d0"
            ],
            [
             0.7,
             "#b8e186"
            ],
            [
             0.8,
             "#7fbc41"
            ],
            [
             0.9,
             "#4d9221"
            ],
            [
             1,
             "#276419"
            ]
           ],
           "sequential": [
            [
             0,
             "#0d0887"
            ],
            [
             0.1111111111111111,
             "#46039f"
            ],
            [
             0.2222222222222222,
             "#7201a8"
            ],
            [
             0.3333333333333333,
             "#9c179e"
            ],
            [
             0.4444444444444444,
             "#bd3786"
            ],
            [
             0.5555555555555556,
             "#d8576b"
            ],
            [
             0.6666666666666666,
             "#ed7953"
            ],
            [
             0.7777777777777778,
             "#fb9f3a"
            ],
            [
             0.8888888888888888,
             "#fdca26"
            ],
            [
             1,
             "#f0f921"
            ]
           ],
           "sequentialminus": [
            [
             0,
             "#0d0887"
            ],
            [
             0.1111111111111111,
             "#46039f"
            ],
            [
             0.2222222222222222,
             "#7201a8"
            ],
            [
             0.3333333333333333,
             "#9c179e"
            ],
            [
             0.4444444444444444,
             "#bd3786"
            ],
            [
             0.5555555555555556,
             "#d8576b"
            ],
            [
             0.6666666666666666,
             "#ed7953"
            ],
            [
             0.7777777777777778,
             "#fb9f3a"
            ],
            [
             0.8888888888888888,
             "#fdca26"
            ],
            [
             1,
             "#f0f921"
            ]
           ]
          },
          "colorway": [
           "#636efa",
           "#EF553B",
           "#00cc96",
           "#ab63fa",
           "#FFA15A",
           "#19d3f3",
           "#FF6692",
           "#B6E880",
           "#FF97FF",
           "#FECB52"
          ],
          "font": {
           "color": "#2a3f5f"
          },
          "geo": {
           "bgcolor": "white",
           "lakecolor": "white",
           "landcolor": "#E5ECF6",
           "showlakes": true,
           "showland": true,
           "subunitcolor": "white"
          },
          "hoverlabel": {
           "align": "left"
          },
          "hovermode": "closest",
          "mapbox": {
           "style": "light"
          },
          "paper_bgcolor": "white",
          "plot_bgcolor": "#E5ECF6",
          "polar": {
           "angularaxis": {
            "gridcolor": "white",
            "linecolor": "white",
            "ticks": ""
           },
           "bgcolor": "#E5ECF6",
           "radialaxis": {
            "gridcolor": "white",
            "linecolor": "white",
            "ticks": ""
           }
          },
          "scene": {
           "xaxis": {
            "backgroundcolor": "#E5ECF6",
            "gridcolor": "white",
            "gridwidth": 2,
            "linecolor": "white",
            "showbackground": true,
            "ticks": "",
            "zerolinecolor": "white"
           },
           "yaxis": {
            "backgroundcolor": "#E5ECF6",
            "gridcolor": "white",
            "gridwidth": 2,
            "linecolor": "white",
            "showbackground": true,
            "ticks": "",
            "zerolinecolor": "white"
           },
           "zaxis": {
            "backgroundcolor": "#E5ECF6",
            "gridcolor": "white",
            "gridwidth": 2,
            "linecolor": "white",
            "showbackground": true,
            "ticks": "",
            "zerolinecolor": "white"
           }
          },
          "shapedefaults": {
           "line": {
            "color": "#2a3f5f"
           }
          },
          "ternary": {
           "aaxis": {
            "gridcolor": "white",
            "linecolor": "white",
            "ticks": ""
           },
           "baxis": {
            "gridcolor": "white",
            "linecolor": "white",
            "ticks": ""
           },
           "bgcolor": "#E5ECF6",
           "caxis": {
            "gridcolor": "white",
            "linecolor": "white",
            "ticks": ""
           }
          },
          "title": {
           "x": 0.05
          },
          "xaxis": {
           "automargin": true,
           "gridcolor": "white",
           "linecolor": "white",
           "ticks": "",
           "title": {
            "standoff": 15
           },
           "zerolinecolor": "white",
           "zerolinewidth": 2
          },
          "yaxis": {
           "automargin": true,
           "gridcolor": "white",
           "linecolor": "white",
           "ticks": "",
           "title": {
            "standoff": 15
           },
           "zerolinecolor": "white",
           "zerolinewidth": 2
          }
         }
        },
        "xaxis": {
         "anchor": "y",
         "autorange": true,
         "domain": [
          0,
          1
         ],
         "range": [
          "2023-08-01",
          "2023-10-31"
         ],
         "title": {
          "text": "Dates"
         },
         "type": "date"
        },
        "yaxis": {
         "anchor": "x",
         "autorange": true,
         "domain": [
          0,
          1
         ],
         "range": [
          -0.02136813689779181,
          0.020049245000127107
         ],
         "title": {
          "text": "value"
         },
         "type": "linear"
        }
       }
      },
      "image/png": "[encoded data removed]",
      "text/html": [
       "<div>                            <div id=\"65b8dd18-143f-4d3d-a1ec-447816f47004\" class=\"plotly-graph-div\" style=\"height:525px; width:100%;\"></div>            <script type=\"text/javascript\">                require([\"plotly\"], function(Plotly) {                    window.PLOTLYENV=window.PLOTLYENV || {};                                    if (document.getElementById(\"65b8dd18-143f-4d3d-a1ec-447816f47004\")) {                    Plotly.newPlot(                        \"65b8dd18-143f-4d3d-a1ec-447816f47004\",                        [{\"hovertemplate\":\"variable=0<br>Dates=%{x}<br>value=%{y}<extra></extra>\",\"legendgroup\":\"0\",\"line\":{\"color\":\"#636efa\",\"dash\":\"solid\"},\"marker\":{\"symbol\":\"circle\"},\"mode\":\"lines\",\"name\":\"0\",\"orientation\":\"v\",\"showlegend\":true,\"x\":[\"2023-08-01T00:00:00\",\"2023-08-02T00:00:00\",\"2023-08-03T00:00:00\",\"2023-08-04T00:00:00\",\"2023-08-07T00:00:00\",\"2023-08-08T00:00:00\",\"2023-08-09T00:00:00\",\"2023-08-10T00:00:00\",\"2023-08-11T00:00:00\",\"2023-08-14T00:00:00\",\"2023-08-16T00:00:00\",\"2023-08-17T00:00:00\",\"2023-08-18T00:00:00\",\"2023-08-21T00:00:00\",\"2023-08-22T00:00:00\",\"2023-08-23T00:00:00\",\"2023-08-24T00:00:00\",\"2023-08-25T00:00:00\",\"2023-08-28T00:00:00\",\"2023-08-29T00:00:00\",\"2023-08-30T00:00:00\",\"2023-08-31T00:00:00\",\"2023-10-04T00:00:00\",\"2023-10-05T00:00:00\",\"2023-10-06T00:00:00\",\"2023-10-10T00:00:00\",\"2023-10-11T00:00:00\",\"2023-10-12T00:00:00\",\"2023-10-13T00:00:00\",\"2023-10-16T00:00:00\",\"2023-10-17T00:00:00\",\"2023-10-18T00:00:00\",\"2023-10-19T00:00:00\",\"2023-10-20T00:00:00\",\"2023-10-23T00:00:00\",\"2023-10-24T00:00:00\",\"2023-10-25T00:00:00\",\"2023-10-26T00:00:00\",\"2023-10-27T00:00:00\",\"2023-10-30T00:00:00\",\"2023-10-31T00:00:00\"],\"xaxis\":\"x\",\"y\":[0.017978375905231162,-0.01225303411531248,-0.004254390824592379,0.0038304275286425967,-0.0025546032310621693,-0.006491540301018682,0.013854235405412958,0.006925389023870726,-0.0027890119412491148,-0.007683095340326582,-0.019297267802895864,-0.009090478834651496,-0.006143234383561265,0.003371732393793037,-0.0017355022703858844,7.3935906842834565e-06,0.011412469550470386,-0.004765047829017325,0.011912429987587087,0.003767042723497788,0.005126517137923201,-0.001817753747810419,null,null,null,null,null,null,null,null,null,null,null,null,null,null,null,null,null,null,null],\"yaxis\":\"y\",\"type\":\"scatter\"},{\"hovertemplate\":\"variable=1<br>Dates=%{x}<br>value=%{y}<extra></extra>\",\"legendgroup\":\"1\",\"line\":{\"color\":\"#EF553B\",\"dash\":\"solid\"},\"marker\":{\"symbol\":\"circle\"},\"mode\":\"lines\",\"name\":\"1\",\"orientation\":\"v\",\"showlegend\":true,\"x\":[\"2023-08-01T00:00:00\",\"2023-08-02T00:00:00\",\"2023-08-03T00:00:00\",\"2023-08-04T00:00:00\",\"2023-08-07T00:00:00\",\"2023-08-08T00:00:00\",\"2023-08-09T00:00:00\",\"2023-08-10T00:00:00\",\"2023-08-11T00:00:00\",\"2023-08-14T00:00:00\",\"2023-08-16T00:00:00\",\"2023-08-17T00:00:00\",\"2023-08-18T00:00:00\",\"2023-08-21T00:00:00\",\"2023-08-22T00:00:00\",\"2023-08-23T00:00:00\",\"2023-08-24T00:00:00\",\"2023-08-25T00:00:00\",\"2023-08-28T00:00:00\",\"2023-08-29T00:00:00\",\"2023-08-30T00:00:00\",\"2023-08-31T00:00:00\",\"2023-10-04T00:00:00\",\"2023-10-05T00:00:00\",\"2023-10-06T00:00:00\",\"2023-10-10T00:00:00\",\"2023-10-11T00:00:00\",\"2023-10-12T00:00:00\",\"2023-10-13T00:00:00\",\"2023-10-16T00:00:00\",\"2023-10-17T00:00:00\",\"2023-10-18T00:00:00\",\"2023-10-19T00:00:00\",\"2023-10-20T00:00:00\",\"2023-10-23T00:00:00\",\"2023-10-24T00:00:00\",\"2023-10-25T00:00:00\",\"2023-10-26T00:00:00\",\"2023-10-27T00:00:00\",\"2023-10-30T00:00:00\",\"2023-10-31T00:00:00\"],\"xaxis\":\"x\",\"y\":[null,null,null,null,null,null,null,null,null,null,null,null,null,null,null,null,null,null,null,null,null,null,0.0007676447808546956,-0.0006180137365790143,0.002023043694992689,0.0016228282666522085,-0.0029995486490968894,-0.005367682670290861,0.00022719281097140264,0.0041828539495028134,-0.002101250941019408,0.007922764131487212,0.0026534861434578047,0.0003133219592107991,0.002351678180011219,-0.006923503569972207,0.012169399243774276,0.009267589049303918,0.0015178432431717914,0.0033463979753768427,0.008463793781461715],\"yaxis\":\"y\",\"type\":\"scatter\"},{\"hovertemplate\":\"variable=2<br>Dates=%{x}<br>value=%{y}<extra></extra>\",\"legendgroup\":\"2\",\"line\":{\"color\":\"#00cc96\",\"dash\":\"solid\"},\"marker\":{\"symbol\":\"circle\"},\"mode\":\"lines\",\"name\":\"2\",\"orientation\":\"v\",\"showlegend\":true,\"x\":[\"2023-08-01T00:00:00\",\"2023-08-02T00:00:00\",\"2023-08-03T00:00:00\",\"2023-08-04T00:00:00\",\"2023-08-07T00:00:00\",\"2023-08-08T00:00:00\",\"2023-08-09T00:00:00\",\"2023-08-10T00:00:00\",\"2023-08-11T00:00:00\",\"2023-08-14T00:00:00\",\"2023-08-16T00:00:00\",\"2023-08-17T00:00:00\",\"2023-08-18T00:00:00\",\"2023-08-21T00:00:00\",\"2023-08-22T00:00:00\",\"2023-08-23T00:00:00\",\"2023-08-24T00:00:00\",\"2023-08-25T00:00:00\",\"2023-08-28T00:00:00\",\"2023-08-29T00:00:00\",\"2023-08-30T00:00:00\",\"2023-08-31T00:00:00\",\"2023-10-04T00:00:00\",\"2023-10-05T00:00:00\",\"2023-10-06T00:00:00\",\"2023-10-10T00:00:00\",\"2023-10-11T00:00:00\",\"2023-10-12T00:00:00\",\"2023-10-13T00:00:00\",\"2023-10-16T00:00:00\",\"2023-10-17T00:00:00\",\"2023-10-18T00:00:00\",\"2023-10-19T00:00:00\",\"2023-10-20T00:00:00\",\"2023-10-23T00:00:00\",\"2023-10-24T00:00:00\",\"2023-10-25T00:00:00\",\"2023-10-26T00:00:00\",\"2023-10-27T00:00:00\",\"2023-10-30T00:00:00\",\"2023-10-31T00:00:00\"],\"xaxis\":\"x\",\"y\":[null,null,null,null,null,null,null,null,null,null,null,null,null,null,null,null,null,null,null,null,null,null,0.0007676447808546962,-0.000618013736579014,0.0020230436949926897,0.0016228282666522075,-0.0029995486490968903,-0.005367682670290862,0.00022719281097140264,0.0041828539495028134,-0.0021012509410194085,0.00792276413148721,0.0026534861434578056,0.0003133219592107989,0.0023516781800112197,-0.006923503569972206,0.012169399243774272,0.00926758904930392,0.001517843243171791,0.003346397975376843,0.008463793781461715],\"yaxis\":\"y\",\"type\":\"scatter\"}],                        {\"template\":{\"data\":{\"histogram2dcontour\":[{\"type\":\"histogram2dcontour\",\"colorbar\":{\"outlinewidth\":0,\"ticks\":\"\"},\"colorscale\":[[0.0,\"#0d0887\"],[0.1111111111111111,\"#46039f\"],[0.2222222222222222,\"#7201a8\"],[0.3333333333333333,\"#9c179e\"],[0.4444444444444444,\"#bd3786\"],[0.5555555555555556,\"#d8576b\"],[0.6666666666666666,\"#ed7953\"],[0.7777777777777778,\"#fb9f3a\"],[0.8888888888888888,\"#fdca26\"],[1.0,\"#f0f921\"]]}],\"choropleth\":[{\"type\":\"choropleth\",\"colorbar\":{\"outlinewidth\":0,\"ticks\":\"\"}}],\"histogram2d\":[{\"type\":\"histogram2d\",\"colorbar\":{\"outlinewidth\":0,\"ticks\":\"\"},\"colorscale\":[[0.0,\"#0d0887\"],[0.1111111111111111,\"#46039f\"],[0.2222222222222222,\"#7201a8\"],[0.3333333333333333,\"#9c179e\"],[0.4444444444444444,\"#bd3786\"],[0.5555555555555556,\"#d8576b\"],[0.6666666666666666,\"#ed7953\"],[0.7777777777777778,\"#fb9f3a\"],[0.8888888888888888,\"#fdca26\"],[1.0,\"#f0f921\"]]}],\"heatmap\":[{\"type\":\"heatmap\",\"colorbar\":{\"outlinewidth\":0,\"ticks\":\"\"},\"colorscale\":[[0.0,\"#0d0887\"],[0.1111111111111111,\"#46039f\"],[0.2222222222222222,\"#7201a8\"],[0.3333333333333333,\"#9c179e\"],[0.4444444444444444,\"#bd3786\"],[0.5555555555555556,\"#d8576b\"],[0.6666666666666666,\"#ed7953\"],[0.7777777777777778,\"#fb9f3a\"],[0.8888888888888888,\"#fdca26\"],[1.0,\"#f0f921\"]]}],\"heatmapgl\":[{\"type\":\"heatmapgl\",\"colorbar\":{\"outlinewidth\":0,\"ticks\":\"\"},\"colorscale\":[[0.0,\"#0d0887\"],[0.1111111111111111,\"#46039f\"],[0.2222222222222222,\"#7201a8\"],[0.3333333333333333,\"#9c179e\"],[0.4444444444444444,\"#bd3786\"],[0.5555555555555556,\"#d8576b\"],[0.6666666666666666,\"#ed7953\"],[0.7777777777777778,\"#fb9f3a\"],[0.8888888888888888,\"#fdca26\"],[1.0,\"#f0f921\"]]}],\"contourcarpet\":[{\"type\":\"contourcarpet\",\"colorbar\":{\"outlinewidth\":0,\"ticks\":\"\"}}],\"contour\":[{\"type\":\"contour\",\"colorbar\":{\"outlinewidth\":0,\"ticks\":\"\"},\"colorscale\":[[0.0,\"#0d0887\"],[0.1111111111111111,\"#46039f\"],[0.2222222222222222,\"#7201a8\"],[0.3333333333333333,\"#9c179e\"],[0.4444444444444444,\"#bd3786\"],[0.5555555555555556,\"#d8576b\"],[0.6666666666666666,\"#ed7953\"],[0.7777777777777778,\"#fb9f3a\"],[0.8888888888888888,\"#fdca26\"],[1.0,\"#f0f921\"]]}],\"surface\":[{\"type\":\"surface\",\"colorbar\":{\"outlinewidth\":0,\"ticks\":\"\"},\"colorscale\":[[0.0,\"#0d0887\"],[0.1111111111111111,\"#46039f\"],[0.2222222222222222,\"#7201a8\"],[0.3333333333333333,\"#9c179e\"],[0.4444444444444444,\"#bd3786\"],[0.5555555555555556,\"#d8576b\"],[0.6666666666666666,\"#ed7953\"],[0.7777777777777778,\"#fb9f3a\"],[0.8888888888888888,\"#fdca26\"],[1.0,\"#f0f921\"]]}],\"mesh3d\":[{\"type\":\"mesh3d\",\"colorbar\":{\"outlinewidth\":0,\"ticks\":\"\"}}],\"scatter\":[{\"fillpattern\":{\"fillmode\":\"overlay\",\"size\":10,\"solidity\":0.2},\"type\":\"scatter\"}],\"parcoords\":[{\"type\":\"parcoords\",\"line\":{\"colorbar\":{\"outlinewidth\":0,\"ticks\":\"\"}}}],\"scatterpolargl\":[{\"type\":\"scatterpolargl\",\"marker\":{\"colorbar\":{\"outlinewidth\":0,\"ticks\":\"\"}}}],\"bar\":[{\"error_x\":{\"color\":\"#2a3f5f\"},\"error_y\":{\"color\":\"#2a3f5f\"},\"marker\":{\"line\":{\"color\":\"#E5ECF6\",\"width\":0.5},\"pattern\":{\"fillmode\":\"overlay\",\"size\":10,\"solidity\":0.2}},\"type\":\"bar\"}],\"scattergeo\":[{\"type\":\"scattergeo\",\"marker\":{\"colorbar\":{\"outlinewidth\":0,\"ticks\":\"\"}}}],\"scatterpolar\":[{\"type\":\"scatterpolar\",\"marker\":{\"colorbar\":{\"outlinewidth\":0,\"ticks\":\"\"}}}],\"histogram\":[{\"marker\":{\"pattern\":{\"fillmode\":\"overlay\",\"size\":10,\"solidity\":0.2}},\"type\":\"histogram\"}],\"scattergl\":[{\"type\":\"scattergl\",\"marker\":{\"colorbar\":{\"outlinewidth\":0,\"ticks\":\"\"}}}],\"scatter3d\":[{\"type\":\"scatter3d\",\"line\":{\"colorbar\":{\"outlinewidth\":0,\"ticks\":\"\"}},\"marker\":{\"colorbar\":{\"outlinewidth\":0,\"ticks\":\"\"}}}],\"scattermapbox\":[{\"type\":\"scattermapbox\",\"marker\":{\"colorbar\":{\"outlinewidth\":0,\"ticks\":\"\"}}}],\"scatterternary\":[{\"type\":\"scatterternary\",\"marker\":{\"colorbar\":{\"outlinewidth\":0,\"ticks\":\"\"}}}],\"scattercarpet\":[{\"type\":\"scattercarpet\",\"marker\":{\"colorbar\":{\"outlinewidth\":0,\"ticks\":\"\"}}}],\"carpet\":[{\"aaxis\":{\"endlinecolor\":\"#2a3f5f\",\"gridcolor\":\"white\",\"linecolor\":\"white\",\"minorgridcolor\":\"white\",\"startlinecolor\":\"#2a3f5f\"},\"baxis\":{\"endlinecolor\":\"#2a3f5f\",\"gridcolor\":\"white\",\"linecolor\":\"white\",\"minorgridcolor\":\"white\",\"startlinecolor\":\"#2a3f5f\"},\"type\":\"carpet\"}],\"table\":[{\"cells\":{\"fill\":{\"color\":\"#EBF0F8\"},\"line\":{\"color\":\"white\"}},\"header\":{\"fill\":{\"color\":\"#C8D4E3\"},\"line\":{\"color\":\"white\"}},\"type\":\"table\"}],\"barpolar\":[{\"marker\":{\"line\":{\"color\":\"#E5ECF6\",\"width\":0.5},\"pattern\":{\"fillmode\":\"overlay\",\"size\":10,\"solidity\":0.2}},\"type\":\"barpolar\"}],\"pie\":[{\"automargin\":true,\"type\":\"pie\"}]},\"layout\":{\"autotypenumbers\":\"strict\",\"colorway\":[\"#636efa\",\"#EF553B\",\"#00cc96\",\"#ab63fa\",\"#FFA15A\",\"#19d3f3\",\"#FF6692\",\"#B6E880\",\"#FF97FF\",\"#FECB52\"],\"font\":{\"color\":\"#2a3f5f\"},\"hovermode\":\"closest\",\"hoverlabel\":{\"align\":\"left\"},\"paper_bgcolor\":\"white\",\"plot_bgcolor\":\"#E5ECF6\",\"polar\":{\"bgcolor\":\"#E5ECF6\",\"angularaxis\":{\"gridcolor\":\"white\",\"linecolor\":\"white\",\"ticks\":\"\"},\"radialaxis\":{\"gridcolor\":\"white\",\"linecolor\":\"white\",\"ticks\":\"\"}},\"ternary\":{\"bgcolor\":\"#E5ECF6\",\"aaxis\":{\"gridcolor\":\"white\",\"linecolor\":\"white\",\"ticks\":\"\"},\"baxis\":{\"gridcolor\":\"white\",\"linecolor\":\"white\",\"ticks\":\"\"},\"caxis\":{\"gridcolor\":\"white\",\"linecolor\":\"white\",\"ticks\":\"\"}},\"coloraxis\":{\"colorbar\":{\"outlinewidth\":0,\"ticks\":\"\"}},\"colorscale\":{\"sequential\":[[0.0,\"#0d0887\"],[0.1111111111111111,\"#46039f\"],[0.2222222222222222,\"#7201a8\"],[0.3333333333333333,\"#9c179e\"],[0.4444444444444444,\"#bd3786\"],[0.5555555555555556,\"#d8576b\"],[0.6666666666666666,\"#ed7953\"],[0.7777777777777778,\"#fb9f3a\"],[0.8888888888888888,\"#fdca26\"],[1.0,\"#f0f921\"]],\"sequentialminus\":[[0.0,\"#0d0887\"],[0.1111111111111111,\"#46039f\"],[0.2222222222222222,\"#7201a8\"],[0.3333333333333333,\"#9c179e\"],[0.4444444444444444,\"#bd3786\"],[0.5555555555555556,\"#d8576b\"],[0.6666666666666666,\"#ed7953\"],[0.7777777777777778,\"#fb9f3a\"],[0.8888888888888888,\"#fdca26\"],[1.0,\"#f0f921\"]],\"diverging\":[[0,\"#8e0152\"],[0.1,\"#c51b7d\"],[0.2,\"#de77ae\"],[0.3,\"#f1b6da\"],[0.4,\"#fde0ef\"],[0.5,\"#f7f7f7\"],[0.6,\"#e6f5d0\"],[0.7,\"#b8e186\"],[0.8,\"#7fbc41\"],[0.9,\"#4d9221\"],[1,\"#276419\"]]},\"xaxis\":{\"gridcolor\":\"white\",\"linecolor\":\"white\",\"ticks\":\"\",\"title\":{\"standoff\":15},\"zerolinecolor\":\"white\",\"automargin\":true,\"zerolinewidth\":2},\"yaxis\":{\"gridcolor\":\"white\",\"linecolor\":\"white\",\"ticks\":\"\",\"title\":{\"standoff\":15},\"zerolinecolor\":\"white\",\"automargin\":true,\"zerolinewidth\":2},\"scene\":{\"xaxis\":{\"backgroundcolor\":\"#E5ECF6\",\"gridcolor\":\"white\",\"linecolor\":\"white\",\"showbackground\":true,\"ticks\":\"\",\"zerolinecolor\":\"white\",\"gridwidth\":2},\"yaxis\":{\"backgroundcolor\":\"#E5ECF6\",\"gridcolor\":\"white\",\"linecolor\":\"white\",\"showbackground\":true,\"ticks\":\"\",\"zerolinecolor\":\"white\",\"gridwidth\":2},\"zaxis\":{\"backgroundcolor\":\"#E5ECF6\",\"gridcolor\":\"white\",\"linecolor\":\"white\",\"showbackground\":true,\"ticks\":\"\",\"zerolinecolor\":\"white\",\"gridwidth\":2}},\"shapedefaults\":{\"line\":{\"color\":\"#2a3f5f\"}},\"annotationdefaults\":{\"arrowcolor\":\"#2a3f5f\",\"arrowhead\":0,\"arrowwidth\":1},\"geo\":{\"bgcolor\":\"white\",\"landcolor\":\"#E5ECF6\",\"subunitcolor\":\"white\",\"showland\":true,\"showlakes\":true,\"lakecolor\":\"white\"},\"title\":{\"x\":0.05},\"mapbox\":{\"style\":\"light\"}}},\"xaxis\":{\"anchor\":\"y\",\"domain\":[0.0,1.0],\"title\":{\"text\":\"Dates\"}},\"yaxis\":{\"anchor\":\"x\",\"domain\":[0.0,1.0],\"title\":{\"text\":\"value\"}},\"legend\":{\"title\":{\"text\":\"variable\"},\"tracegroupgap\":0},\"margin\":{\"t\":60}},                        {\"responsive\": true}                    ).then(function(){\n",
       "                            \n",
       "var gd = document.getElementById('65b8dd18-143f-4d3d-a1ec-447816f47004');\n",
       "var x = new MutationObserver(function (mutations, observer) {{\n",
       "        var display = window.getComputedStyle(gd).display;\n",
       "        if (!display || display === 'none') {{\n",
       "            console.log([gd, 'removed!']);\n",
       "            Plotly.purge(gd);\n",
       "            observer.disconnect();\n",
       "        }}\n",
       "}});\n",
       "\n",
       "// Listen for the removal of the full notebook cells\n",
       "var notebookContainer = gd.closest('#notebook-container');\n",
       "if (notebookContainer) {{\n",
       "    x.observe(notebookContainer, {childList: true});\n",
       "}}\n",
       "\n",
       "// Listen for the clearing of the current output cell\n",
       "var outputEl = gd.closest('.output');\n",
       "if (outputEl) {{\n",
       "    x.observe(outputEl, {childList: true});\n",
       "}}\n",
       "\n",
       "                        })                };                });            </script>        </div>"
      ]
     },
     "metadata": {},
     "output_type": "display_data"
    }
   ],
   "source": [
    "pd.concat([orig_ret_temp_stocks.sum(1), monthly_cap_combined['weighted_ret'].unstack().sum(1), sec_ret_temp], axis=1).plot()"
   ]
  },
  {
   "cell_type": "code",
   "execution_count": 171,
   "id": "03edae83-64e2-4dcc-870c-c6c3054a09d6",
   "metadata": {
    "execution": {
     "iopub.execute_input": "2023-11-08T07:09:30.778474Z",
     "iopub.status.busy": "2023-11-08T07:09:30.778232Z",
     "iopub.status.idle": "2023-11-08T07:09:30.783997Z",
     "shell.execute_reply": "2023-11-08T07:09:30.783190Z",
     "shell.execute_reply.started": "2023-11-08T07:09:30.778451Z"
    },
    "tags": []
   },
   "outputs": [
    {
     "data": {
      "text/plain": [
       "Dates\n",
       "2023-08-01    0.017978\n",
       "2023-08-02   -0.012253\n",
       "2023-08-03   -0.004254\n",
       "2023-08-04    0.003830\n",
       "2023-08-07   -0.002555\n",
       "2023-08-08   -0.006492\n",
       "2023-08-09    0.013854\n",
       "2023-08-10    0.006925\n",
       "2023-08-11   -0.002789\n",
       "2023-08-14   -0.007683\n",
       "2023-08-16   -0.019297\n",
       "2023-08-17   -0.009090\n",
       "2023-08-18   -0.006143\n",
       "2023-08-21    0.003372\n",
       "2023-08-22   -0.001736\n",
       "2023-08-23    0.000007\n",
       "2023-08-24    0.011412\n",
       "2023-08-25   -0.004765\n",
       "2023-08-28    0.011912\n",
       "2023-08-29    0.003767\n",
       "2023-08-30    0.005127\n",
       "2023-08-31   -0.001818\n",
       "dtype: float64"
      ]
     },
     "execution_count": 171,
     "metadata": {},
     "output_type": "execute_result"
    }
   ],
   "source": [
    "orig_ret_temp"
   ]
  },
  {
   "cell_type": "code",
   "execution_count": null,
   "id": "d36db6b1-881f-4a1e-953f-e0f39c5403d3",
   "metadata": {},
   "outputs": [],
   "source": []
  },
  {
   "cell_type": "code",
   "execution_count": 172,
   "id": "ced78a10-3d56-4899-9624-33ca1b4c25f9",
   "metadata": {
    "execution": {
     "iopub.execute_input": "2023-11-08T07:09:30.946610Z",
     "iopub.status.busy": "2023-11-08T07:09:30.946102Z",
     "iopub.status.idle": "2023-11-08T07:09:31.038917Z",
     "shell.execute_reply": "2023-11-08T07:09:31.038095Z",
     "shell.execute_reply.started": "2023-11-08T07:09:30.946562Z"
    },
    "tags": []
   },
   "outputs": [
    {
     "data": {
      "application/vnd.plotly.v1+json": {
       "config": {
        "plotlyServerURL": "https://plot.ly"
       },
       "data": [
        {
         "hovertemplate": "variable=0<br>Dates=%{x}<br>value=%{y}<extra></extra>",
         "legendgroup": "0",
         "line": {
          "color": "#636efa",
          "dash": "solid"
         },
         "marker": {
          "symbol": "circle"
         },
         "mode": "lines",
         "name": "0",
         "orientation": "v",
         "showlegend": true,
         "type": "scatter",
         "x": [
          "2023-08-01T00:00:00",
          "2023-08-02T00:00:00",
          "2023-08-03T00:00:00",
          "2023-08-04T00:00:00",
          "2023-08-07T00:00:00",
          "2023-08-08T00:00:00",
          "2023-08-09T00:00:00",
          "2023-08-10T00:00:00",
          "2023-08-11T00:00:00",
          "2023-08-14T00:00:00",
          "2023-08-16T00:00:00",
          "2023-08-17T00:00:00",
          "2023-08-18T00:00:00",
          "2023-08-21T00:00:00",
          "2023-08-22T00:00:00",
          "2023-08-23T00:00:00",
          "2023-08-24T00:00:00",
          "2023-08-25T00:00:00",
          "2023-08-28T00:00:00",
          "2023-08-29T00:00:00",
          "2023-08-30T00:00:00",
          "2023-08-31T00:00:00",
          "2023-10-04T00:00:00",
          "2023-10-05T00:00:00",
          "2023-10-06T00:00:00",
          "2023-10-10T00:00:00",
          "2023-10-11T00:00:00",
          "2023-10-12T00:00:00",
          "2023-10-13T00:00:00",
          "2023-10-16T00:00:00",
          "2023-10-17T00:00:00",
          "2023-10-18T00:00:00",
          "2023-10-19T00:00:00",
          "2023-10-20T00:00:00",
          "2023-10-23T00:00:00",
          "2023-10-24T00:00:00",
          "2023-10-25T00:00:00",
          "2023-10-26T00:00:00",
          "2023-10-27T00:00:00",
          "2023-10-30T00:00:00",
          "2023-10-31T00:00:00"
         ],
         "xaxis": "x",
         "y": [
          0.017978375905231162,
          -0.01225303411531248,
          -0.004254390824592379,
          0.0038304275286425967,
          -0.0025546032310621693,
          -0.006491540301018682,
          0.013854235405412958,
          0.006925389023870726,
          -0.0027890119412491148,
          -0.007683095340326582,
          -0.019297267802895864,
          -0.009090478834651496,
          -0.006143234383561265,
          0.003371732393793037,
          -0.0017355022703858844,
          7.3935906842834565e-06,
          0.011412469550470386,
          -0.004765047829017325,
          0.011912429987587087,
          0.003767042723497788,
          0.005126517137923201,
          -0.001817753747810419,
          null,
          null,
          null,
          null,
          null,
          null,
          null,
          null,
          null,
          null,
          null,
          null,
          null,
          null,
          null,
          null,
          null,
          null,
          null
         ],
         "yaxis": "y"
        },
        {
         "hovertemplate": "variable=1<br>Dates=%{x}<br>value=%{y}<extra></extra>",
         "legendgroup": "1",
         "line": {
          "color": "#EF553B",
          "dash": "solid"
         },
         "marker": {
          "symbol": "circle"
         },
         "mode": "lines",
         "name": "1",
         "orientation": "v",
         "showlegend": true,
         "type": "scatter",
         "x": [
          "2023-08-01T00:00:00",
          "2023-08-02T00:00:00",
          "2023-08-03T00:00:00",
          "2023-08-04T00:00:00",
          "2023-08-07T00:00:00",
          "2023-08-08T00:00:00",
          "2023-08-09T00:00:00",
          "2023-08-10T00:00:00",
          "2023-08-11T00:00:00",
          "2023-08-14T00:00:00",
          "2023-08-16T00:00:00",
          "2023-08-17T00:00:00",
          "2023-08-18T00:00:00",
          "2023-08-21T00:00:00",
          "2023-08-22T00:00:00",
          "2023-08-23T00:00:00",
          "2023-08-24T00:00:00",
          "2023-08-25T00:00:00",
          "2023-08-28T00:00:00",
          "2023-08-29T00:00:00",
          "2023-08-30T00:00:00",
          "2023-08-31T00:00:00",
          "2023-10-04T00:00:00",
          "2023-10-05T00:00:00",
          "2023-10-06T00:00:00",
          "2023-10-10T00:00:00",
          "2023-10-11T00:00:00",
          "2023-10-12T00:00:00",
          "2023-10-13T00:00:00",
          "2023-10-16T00:00:00",
          "2023-10-17T00:00:00",
          "2023-10-18T00:00:00",
          "2023-10-19T00:00:00",
          "2023-10-20T00:00:00",
          "2023-10-23T00:00:00",
          "2023-10-24T00:00:00",
          "2023-10-25T00:00:00",
          "2023-10-26T00:00:00",
          "2023-10-27T00:00:00",
          "2023-10-30T00:00:00",
          "2023-10-31T00:00:00"
         ],
         "xaxis": "x",
         "y": [
          null,
          null,
          null,
          null,
          null,
          null,
          null,
          null,
          null,
          null,
          null,
          null,
          null,
          null,
          null,
          null,
          null,
          null,
          null,
          null,
          null,
          null,
          0.0007676447808546962,
          -0.000618013736579014,
          0.0020230436949926897,
          0.0016228282666522075,
          -0.0029995486490968903,
          -0.005367682670290862,
          0.00022719281097140264,
          0.0041828539495028134,
          -0.0021012509410194085,
          0.00792276413148721,
          0.0026534861434578056,
          0.0003133219592107989,
          0.0023516781800112197,
          -0.006923503569972206,
          0.012169399243774272,
          0.00926758904930392,
          0.001517843243171791,
          0.003346397975376843,
          0.008463793781461715
         ],
         "yaxis": "y"
        }
       ],
       "layout": {
        "autosize": true,
        "legend": {
         "title": {
          "text": "variable"
         },
         "tracegroupgap": 0
        },
        "margin": {
         "t": 60
        },
        "template": {
         "data": {
          "bar": [
           {
            "error_x": {
             "color": "#2a3f5f"
            },
            "error_y": {
             "color": "#2a3f5f"
            },
            "marker": {
             "line": {
              "color": "#E5ECF6",
              "width": 0.5
             },
             "pattern": {
              "fillmode": "overlay",
              "size": 10,
              "solidity": 0.2
             }
            },
            "type": "bar"
           }
          ],
          "barpolar": [
           {
            "marker": {
             "line": {
              "color": "#E5ECF6",
              "width": 0.5
             },
             "pattern": {
              "fillmode": "overlay",
              "size": 10,
              "solidity": 0.2
             }
            },
            "type": "barpolar"
           }
          ],
          "carpet": [
           {
            "aaxis": {
             "endlinecolor": "#2a3f5f",
             "gridcolor": "white",
             "linecolor": "white",
             "minorgridcolor": "white",
             "startlinecolor": "#2a3f5f"
            },
            "baxis": {
             "endlinecolor": "#2a3f5f",
             "gridcolor": "white",
             "linecolor": "white",
             "minorgridcolor": "white",
             "startlinecolor": "#2a3f5f"
            },
            "type": "carpet"
           }
          ],
          "choropleth": [
           {
            "colorbar": {
             "outlinewidth": 0,
             "ticks": ""
            },
            "type": "choropleth"
           }
          ],
          "contour": [
           {
            "colorbar": {
             "outlinewidth": 0,
             "ticks": ""
            },
            "colorscale": [
             [
              0,
              "#0d0887"
             ],
             [
              0.1111111111111111,
              "#46039f"
             ],
             [
              0.2222222222222222,
              "#7201a8"
             ],
             [
              0.3333333333333333,
              "#9c179e"
             ],
             [
              0.4444444444444444,
              "#bd3786"
             ],
             [
              0.5555555555555556,
              "#d8576b"
             ],
             [
              0.6666666666666666,
              "#ed7953"
             ],
             [
              0.7777777777777778,
              "#fb9f3a"
             ],
             [
              0.8888888888888888,
              "#fdca26"
             ],
             [
              1,
              "#f0f921"
             ]
            ],
            "type": "contour"
           }
          ],
          "contourcarpet": [
           {
            "colorbar": {
             "outlinewidth": 0,
             "ticks": ""
            },
            "type": "contourcarpet"
           }
          ],
          "heatmap": [
           {
            "colorbar": {
             "outlinewidth": 0,
             "ticks": ""
            },
            "colorscale": [
             [
              0,
              "#0d0887"
             ],
             [
              0.1111111111111111,
              "#46039f"
             ],
             [
              0.2222222222222222,
              "#7201a8"
             ],
             [
              0.3333333333333333,
              "#9c179e"
             ],
             [
              0.4444444444444444,
              "#bd3786"
             ],
             [
              0.5555555555555556,
              "#d8576b"
             ],
             [
              0.6666666666666666,
              "#ed7953"
             ],
             [
              0.7777777777777778,
              "#fb9f3a"
             ],
             [
              0.8888888888888888,
              "#fdca26"
             ],
             [
              1,
              "#f0f921"
             ]
            ],
            "type": "heatmap"
           }
          ],
          "heatmapgl": [
           {
            "colorbar": {
             "outlinewidth": 0,
             "ticks": ""
            },
            "colorscale": [
             [
              0,
              "#0d0887"
             ],
             [
              0.1111111111111111,
              "#46039f"
             ],
             [
              0.2222222222222222,
              "#7201a8"
             ],
             [
              0.3333333333333333,
              "#9c179e"
             ],
             [
              0.4444444444444444,
              "#bd3786"
             ],
             [
              0.5555555555555556,
              "#d8576b"
             ],
             [
              0.6666666666666666,
              "#ed7953"
             ],
             [
              0.7777777777777778,
              "#fb9f3a"
             ],
             [
              0.8888888888888888,
              "#fdca26"
             ],
             [
              1,
              "#f0f921"
             ]
            ],
            "type": "heatmapgl"
           }
          ],
          "histogram": [
           {
            "marker": {
             "pattern": {
              "fillmode": "overlay",
              "size": 10,
              "solidity": 0.2
             }
            },
            "type": "histogram"
           }
          ],
          "histogram2d": [
           {
            "colorbar": {
             "outlinewidth": 0,
             "ticks": ""
            },
            "colorscale": [
             [
              0,
              "#0d0887"
             ],
             [
              0.1111111111111111,
              "#46039f"
             ],
             [
              0.2222222222222222,
              "#7201a8"
             ],
             [
              0.3333333333333333,
              "#9c179e"
             ],
             [
              0.4444444444444444,
              "#bd3786"
             ],
             [
              0.5555555555555556,
              "#d8576b"
             ],
             [
              0.6666666666666666,
              "#ed7953"
             ],
             [
              0.7777777777777778,
              "#fb9f3a"
             ],
             [
              0.8888888888888888,
              "#fdca26"
             ],
             [
              1,
              "#f0f921"
             ]
            ],
            "type": "histogram2d"
           }
          ],
          "histogram2dcontour": [
           {
            "colorbar": {
             "outlinewidth": 0,
             "ticks": ""
            },
            "colorscale": [
             [
              0,
              "#0d0887"
             ],
             [
              0.1111111111111111,
              "#46039f"
             ],
             [
              0.2222222222222222,
              "#7201a8"
             ],
             [
              0.3333333333333333,
              "#9c179e"
             ],
             [
              0.4444444444444444,
              "#bd3786"
             ],
             [
              0.5555555555555556,
              "#d8576b"
             ],
             [
              0.6666666666666666,
              "#ed7953"
             ],
             [
              0.7777777777777778,
              "#fb9f3a"
             ],
             [
              0.8888888888888888,
              "#fdca26"
             ],
             [
              1,
              "#f0f921"
             ]
            ],
            "type": "histogram2dcontour"
           }
          ],
          "mesh3d": [
           {
            "colorbar": {
             "outlinewidth": 0,
             "ticks": ""
            },
            "type": "mesh3d"
           }
          ],
          "parcoords": [
           {
            "line": {
             "colorbar": {
              "outlinewidth": 0,
              "ticks": ""
             }
            },
            "type": "parcoords"
           }
          ],
          "pie": [
           {
            "automargin": true,
            "type": "pie"
           }
          ],
          "scatter": [
           {
            "fillpattern": {
             "fillmode": "overlay",
             "size": 10,
             "solidity": 0.2
            },
            "type": "scatter"
           }
          ],
          "scatter3d": [
           {
            "line": {
             "colorbar": {
              "outlinewidth": 0,
              "ticks": ""
             }
            },
            "marker": {
             "colorbar": {
              "outlinewidth": 0,
              "ticks": ""
             }
            },
            "type": "scatter3d"
           }
          ],
          "scattercarpet": [
           {
            "marker": {
             "colorbar": {
              "outlinewidth": 0,
              "ticks": ""
             }
            },
            "type": "scattercarpet"
           }
          ],
          "scattergeo": [
           {
            "marker": {
             "colorbar": {
              "outlinewidth": 0,
              "ticks": ""
             }
            },
            "type": "scattergeo"
           }
          ],
          "scattergl": [
           {
            "marker": {
             "colorbar": {
              "outlinewidth": 0,
              "ticks": ""
             }
            },
            "type": "scattergl"
           }
          ],
          "scattermapbox": [
           {
            "marker": {
             "colorbar": {
              "outlinewidth": 0,
              "ticks": ""
             }
            },
            "type": "scattermapbox"
           }
          ],
          "scatterpolar": [
           {
            "marker": {
             "colorbar": {
              "outlinewidth": 0,
              "ticks": ""
             }
            },
            "type": "scatterpolar"
           }
          ],
          "scatterpolargl": [
           {
            "marker": {
             "colorbar": {
              "outlinewidth": 0,
              "ticks": ""
             }
            },
            "type": "scatterpolargl"
           }
          ],
          "scatterternary": [
           {
            "marker": {
             "colorbar": {
              "outlinewidth": 0,
              "ticks": ""
             }
            },
            "type": "scatterternary"
           }
          ],
          "surface": [
           {
            "colorbar": {
             "outlinewidth": 0,
             "ticks": ""
            },
            "colorscale": [
             [
              0,
              "#0d0887"
             ],
             [
              0.1111111111111111,
              "#46039f"
             ],
             [
              0.2222222222222222,
              "#7201a8"
             ],
             [
              0.3333333333333333,
              "#9c179e"
             ],
             [
              0.4444444444444444,
              "#bd3786"
             ],
             [
              0.5555555555555556,
              "#d8576b"
             ],
             [
              0.6666666666666666,
              "#ed7953"
             ],
             [
              0.7777777777777778,
              "#fb9f3a"
             ],
             [
              0.8888888888888888,
              "#fdca26"
             ],
             [
              1,
              "#f0f921"
             ]
            ],
            "type": "surface"
           }
          ],
          "table": [
           {
            "cells": {
             "fill": {
              "color": "#EBF0F8"
             },
             "line": {
              "color": "white"
             }
            },
            "header": {
             "fill": {
              "color": "#C8D4E3"
             },
             "line": {
              "color": "white"
             }
            },
            "type": "table"
           }
          ]
         },
         "layout": {
          "annotationdefaults": {
           "arrowcolor": "#2a3f5f",
           "arrowhead": 0,
           "arrowwidth": 1
          },
          "autotypenumbers": "strict",
          "coloraxis": {
           "colorbar": {
            "outlinewidth": 0,
            "ticks": ""
           }
          },
          "colorscale": {
           "diverging": [
            [
             0,
             "#8e0152"
            ],
            [
             0.1,
             "#c51b7d"
            ],
            [
             0.2,
             "#de77ae"
            ],
            [
             0.3,
             "#f1b6da"
            ],
            [
             0.4,
             "#fde0ef"
            ],
            [
             0.5,
             "#f7f7f7"
            ],
            [
             0.6,
             "#e6f5d0"
            ],
            [
             0.7,
             "#b8e186"
            ],
            [
             0.8,
             "#7fbc41"
            ],
            [
             0.9,
             "#4d9221"
            ],
            [
             1,
             "#276419"
            ]
           ],
           "sequential": [
            [
             0,
             "#0d0887"
            ],
            [
             0.1111111111111111,
             "#46039f"
            ],
            [
             0.2222222222222222,
             "#7201a8"
            ],
            [
             0.3333333333333333,
             "#9c179e"
            ],
            [
             0.4444444444444444,
             "#bd3786"
            ],
            [
             0.5555555555555556,
             "#d8576b"
            ],
            [
             0.6666666666666666,
             "#ed7953"
            ],
            [
             0.7777777777777778,
             "#fb9f3a"
            ],
            [
             0.8888888888888888,
             "#fdca26"
            ],
            [
             1,
             "#f0f921"
            ]
           ],
           "sequentialminus": [
            [
             0,
             "#0d0887"
            ],
            [
             0.1111111111111111,
             "#46039f"
            ],
            [
             0.2222222222222222,
             "#7201a8"
            ],
            [
             0.3333333333333333,
             "#9c179e"
            ],
            [
             0.4444444444444444,
             "#bd3786"
            ],
            [
             0.5555555555555556,
             "#d8576b"
            ],
            [
             0.6666666666666666,
             "#ed7953"
            ],
            [
             0.7777777777777778,
             "#fb9f3a"
            ],
            [
             0.8888888888888888,
             "#fdca26"
            ],
            [
             1,
             "#f0f921"
            ]
           ]
          },
          "colorway": [
           "#636efa",
           "#EF553B",
           "#00cc96",
           "#ab63fa",
           "#FFA15A",
           "#19d3f3",
           "#FF6692",
           "#B6E880",
           "#FF97FF",
           "#FECB52"
          ],
          "font": {
           "color": "#2a3f5f"
          },
          "geo": {
           "bgcolor": "white",
           "lakecolor": "white",
           "landcolor": "#E5ECF6",
           "showlakes": true,
           "showland": true,
           "subunitcolor": "white"
          },
          "hoverlabel": {
           "align": "left"
          },
          "hovermode": "closest",
          "mapbox": {
           "style": "light"
          },
          "paper_bgcolor": "white",
          "plot_bgcolor": "#E5ECF6",
          "polar": {
           "angularaxis": {
            "gridcolor": "white",
            "linecolor": "white",
            "ticks": ""
           },
           "bgcolor": "#E5ECF6",
           "radialaxis": {
            "gridcolor": "white",
            "linecolor": "white",
            "ticks": ""
           }
          },
          "scene": {
           "xaxis": {
            "backgroundcolor": "#E5ECF6",
            "gridcolor": "white",
            "gridwidth": 2,
            "linecolor": "white",
            "showbackground": true,
            "ticks": "",
            "zerolinecolor": "white"
           },
           "yaxis": {
            "backgroundcolor": "#E5ECF6",
            "gridcolor": "white",
            "gridwidth": 2,
            "linecolor": "white",
            "showbackground": true,
            "ticks": "",
            "zerolinecolor": "white"
           },
           "zaxis": {
            "backgroundcolor": "#E5ECF6",
            "gridcolor": "white",
            "gridwidth": 2,
            "linecolor": "white",
            "showbackground": true,
            "ticks": "",
            "zerolinecolor": "white"
           }
          },
          "shapedefaults": {
           "line": {
            "color": "#2a3f5f"
           }
          },
          "ternary": {
           "aaxis": {
            "gridcolor": "white",
            "linecolor": "white",
            "ticks": ""
           },
           "baxis": {
            "gridcolor": "white",
            "linecolor": "white",
            "ticks": ""
           },
           "bgcolor": "#E5ECF6",
           "caxis": {
            "gridcolor": "white",
            "linecolor": "white",
            "ticks": ""
           }
          },
          "title": {
           "x": 0.05
          },
          "xaxis": {
           "automargin": true,
           "gridcolor": "white",
           "linecolor": "white",
           "ticks": "",
           "title": {
            "standoff": 15
           },
           "zerolinecolor": "white",
           "zerolinewidth": 2
          },
          "yaxis": {
           "automargin": true,
           "gridcolor": "white",
           "linecolor": "white",
           "ticks": "",
           "title": {
            "standoff": 15
           },
           "zerolinecolor": "white",
           "zerolinewidth": 2
          }
         }
        },
        "xaxis": {
         "anchor": "y",
         "autorange": true,
         "domain": [
          0,
          1
         ],
         "range": [
          "2023-08-01",
          "2023-10-31"
         ],
         "title": {
          "text": "Dates"
         },
         "type": "date"
        },
        "yaxis": {
         "anchor": "x",
         "autorange": true,
         "domain": [
          0,
          1
         ],
         "range": [
          -0.02136813689779181,
          0.020049245000127107
         ],
         "title": {
          "text": "value"
         },
         "type": "linear"
        }
       }
      },
      "image/png": "[encoded data removed]",
      "text/html": [
       "<div>                            <div id=\"5c369e2a-0fef-49ee-af58-a3335b134858\" class=\"plotly-graph-div\" style=\"height:525px; width:100%;\"></div>            <script type=\"text/javascript\">                require([\"plotly\"], function(Plotly) {                    window.PLOTLYENV=window.PLOTLYENV || {};                                    if (document.getElementById(\"5c369e2a-0fef-49ee-af58-a3335b134858\")) {                    Plotly.newPlot(                        \"5c369e2a-0fef-49ee-af58-a3335b134858\",                        [{\"hovertemplate\":\"variable=0<br>Dates=%{x}<br>value=%{y}<extra></extra>\",\"legendgroup\":\"0\",\"line\":{\"color\":\"#636efa\",\"dash\":\"solid\"},\"marker\":{\"symbol\":\"circle\"},\"mode\":\"lines\",\"name\":\"0\",\"orientation\":\"v\",\"showlegend\":true,\"x\":[\"2023-08-01T00:00:00\",\"2023-08-02T00:00:00\",\"2023-08-03T00:00:00\",\"2023-08-04T00:00:00\",\"2023-08-07T00:00:00\",\"2023-08-08T00:00:00\",\"2023-08-09T00:00:00\",\"2023-08-10T00:00:00\",\"2023-08-11T00:00:00\",\"2023-08-14T00:00:00\",\"2023-08-16T00:00:00\",\"2023-08-17T00:00:00\",\"2023-08-18T00:00:00\",\"2023-08-21T00:00:00\",\"2023-08-22T00:00:00\",\"2023-08-23T00:00:00\",\"2023-08-24T00:00:00\",\"2023-08-25T00:00:00\",\"2023-08-28T00:00:00\",\"2023-08-29T00:00:00\",\"2023-08-30T00:00:00\",\"2023-08-31T00:00:00\",\"2023-10-04T00:00:00\",\"2023-10-05T00:00:00\",\"2023-10-06T00:00:00\",\"2023-10-10T00:00:00\",\"2023-10-11T00:00:00\",\"2023-10-12T00:00:00\",\"2023-10-13T00:00:00\",\"2023-10-16T00:00:00\",\"2023-10-17T00:00:00\",\"2023-10-18T00:00:00\",\"2023-10-19T00:00:00\",\"2023-10-20T00:00:00\",\"2023-10-23T00:00:00\",\"2023-10-24T00:00:00\",\"2023-10-25T00:00:00\",\"2023-10-26T00:00:00\",\"2023-10-27T00:00:00\",\"2023-10-30T00:00:00\",\"2023-10-31T00:00:00\"],\"xaxis\":\"x\",\"y\":[0.017978375905231162,-0.01225303411531248,-0.004254390824592379,0.0038304275286425967,-0.0025546032310621693,-0.006491540301018682,0.013854235405412958,0.006925389023870726,-0.0027890119412491148,-0.007683095340326582,-0.019297267802895864,-0.009090478834651496,-0.006143234383561265,0.003371732393793037,-0.0017355022703858844,7.3935906842834565e-06,0.011412469550470386,-0.004765047829017325,0.011912429987587087,0.003767042723497788,0.005126517137923201,-0.001817753747810419,null,null,null,null,null,null,null,null,null,null,null,null,null,null,null,null,null,null,null],\"yaxis\":\"y\",\"type\":\"scatter\"},{\"hovertemplate\":\"variable=1<br>Dates=%{x}<br>value=%{y}<extra></extra>\",\"legendgroup\":\"1\",\"line\":{\"color\":\"#EF553B\",\"dash\":\"solid\"},\"marker\":{\"symbol\":\"circle\"},\"mode\":\"lines\",\"name\":\"1\",\"orientation\":\"v\",\"showlegend\":true,\"x\":[\"2023-08-01T00:00:00\",\"2023-08-02T00:00:00\",\"2023-08-03T00:00:00\",\"2023-08-04T00:00:00\",\"2023-08-07T00:00:00\",\"2023-08-08T00:00:00\",\"2023-08-09T00:00:00\",\"2023-08-10T00:00:00\",\"2023-08-11T00:00:00\",\"2023-08-14T00:00:00\",\"2023-08-16T00:00:00\",\"2023-08-17T00:00:00\",\"2023-08-18T00:00:00\",\"2023-08-21T00:00:00\",\"2023-08-22T00:00:00\",\"2023-08-23T00:00:00\",\"2023-08-24T00:00:00\",\"2023-08-25T00:00:00\",\"2023-08-28T00:00:00\",\"2023-08-29T00:00:00\",\"2023-08-30T00:00:00\",\"2023-08-31T00:00:00\",\"2023-10-04T00:00:00\",\"2023-10-05T00:00:00\",\"2023-10-06T00:00:00\",\"2023-10-10T00:00:00\",\"2023-10-11T00:00:00\",\"2023-10-12T00:00:00\",\"2023-10-13T00:00:00\",\"2023-10-16T00:00:00\",\"2023-10-17T00:00:00\",\"2023-10-18T00:00:00\",\"2023-10-19T00:00:00\",\"2023-10-20T00:00:00\",\"2023-10-23T00:00:00\",\"2023-10-24T00:00:00\",\"2023-10-25T00:00:00\",\"2023-10-26T00:00:00\",\"2023-10-27T00:00:00\",\"2023-10-30T00:00:00\",\"2023-10-31T00:00:00\"],\"xaxis\":\"x\",\"y\":[null,null,null,null,null,null,null,null,null,null,null,null,null,null,null,null,null,null,null,null,null,null,0.0007676447808546962,-0.000618013736579014,0.0020230436949926897,0.0016228282666522075,-0.0029995486490968903,-0.005367682670290862,0.00022719281097140264,0.0041828539495028134,-0.0021012509410194085,0.00792276413148721,0.0026534861434578056,0.0003133219592107989,0.0023516781800112197,-0.006923503569972206,0.012169399243774272,0.00926758904930392,0.001517843243171791,0.003346397975376843,0.008463793781461715],\"yaxis\":\"y\",\"type\":\"scatter\"}],                        {\"template\":{\"data\":{\"histogram2dcontour\":[{\"type\":\"histogram2dcontour\",\"colorbar\":{\"outlinewidth\":0,\"ticks\":\"\"},\"colorscale\":[[0.0,\"#0d0887\"],[0.1111111111111111,\"#46039f\"],[0.2222222222222222,\"#7201a8\"],[0.3333333333333333,\"#9c179e\"],[0.4444444444444444,\"#bd3786\"],[0.5555555555555556,\"#d8576b\"],[0.6666666666666666,\"#ed7953\"],[0.7777777777777778,\"#fb9f3a\"],[0.8888888888888888,\"#fdca26\"],[1.0,\"#f0f921\"]]}],\"choropleth\":[{\"type\":\"choropleth\",\"colorbar\":{\"outlinewidth\":0,\"ticks\":\"\"}}],\"histogram2d\":[{\"type\":\"histogram2d\",\"colorbar\":{\"outlinewidth\":0,\"ticks\":\"\"},\"colorscale\":[[0.0,\"#0d0887\"],[0.1111111111111111,\"#46039f\"],[0.2222222222222222,\"#7201a8\"],[0.3333333333333333,\"#9c179e\"],[0.4444444444444444,\"#bd3786\"],[0.5555555555555556,\"#d8576b\"],[0.6666666666666666,\"#ed7953\"],[0.7777777777777778,\"#fb9f3a\"],[0.8888888888888888,\"#fdca26\"],[1.0,\"#f0f921\"]]}],\"heatmap\":[{\"type\":\"heatmap\",\"colorbar\":{\"outlinewidth\":0,\"ticks\":\"\"},\"colorscale\":[[0.0,\"#0d0887\"],[0.1111111111111111,\"#46039f\"],[0.2222222222222222,\"#7201a8\"],[0.3333333333333333,\"#9c179e\"],[0.4444444444444444,\"#bd3786\"],[0.5555555555555556,\"#d8576b\"],[0.6666666666666666,\"#ed7953\"],[0.7777777777777778,\"#fb9f3a\"],[0.8888888888888888,\"#fdca26\"],[1.0,\"#f0f921\"]]}],\"heatmapgl\":[{\"type\":\"heatmapgl\",\"colorbar\":{\"outlinewidth\":0,\"ticks\":\"\"},\"colorscale\":[[0.0,\"#0d0887\"],[0.1111111111111111,\"#46039f\"],[0.2222222222222222,\"#7201a8\"],[0.3333333333333333,\"#9c179e\"],[0.4444444444444444,\"#bd3786\"],[0.5555555555555556,\"#d8576b\"],[0.6666666666666666,\"#ed7953\"],[0.7777777777777778,\"#fb9f3a\"],[0.8888888888888888,\"#fdca26\"],[1.0,\"#f0f921\"]]}],\"contourcarpet\":[{\"type\":\"contourcarpet\",\"colorbar\":{\"outlinewidth\":0,\"ticks\":\"\"}}],\"contour\":[{\"type\":\"contour\",\"colorbar\":{\"outlinewidth\":0,\"ticks\":\"\"},\"colorscale\":[[0.0,\"#0d0887\"],[0.1111111111111111,\"#46039f\"],[0.2222222222222222,\"#7201a8\"],[0.3333333333333333,\"#9c179e\"],[0.4444444444444444,\"#bd3786\"],[0.5555555555555556,\"#d8576b\"],[0.6666666666666666,\"#ed7953\"],[0.7777777777777778,\"#fb9f3a\"],[0.8888888888888888,\"#fdca26\"],[1.0,\"#f0f921\"]]}],\"surface\":[{\"type\":\"surface\",\"colorbar\":{\"outlinewidth\":0,\"ticks\":\"\"},\"colorscale\":[[0.0,\"#0d0887\"],[0.1111111111111111,\"#46039f\"],[0.2222222222222222,\"#7201a8\"],[0.3333333333333333,\"#9c179e\"],[0.4444444444444444,\"#bd3786\"],[0.5555555555555556,\"#d8576b\"],[0.6666666666666666,\"#ed7953\"],[0.7777777777777778,\"#fb9f3a\"],[0.8888888888888888,\"#fdca26\"],[1.0,\"#f0f921\"]]}],\"mesh3d\":[{\"type\":\"mesh3d\",\"colorbar\":{\"outlinewidth\":0,\"ticks\":\"\"}}],\"scatter\":[{\"fillpattern\":{\"fillmode\":\"overlay\",\"size\":10,\"solidity\":0.2},\"type\":\"scatter\"}],\"parcoords\":[{\"type\":\"parcoords\",\"line\":{\"colorbar\":{\"outlinewidth\":0,\"ticks\":\"\"}}}],\"scatterpolargl\":[{\"type\":\"scatterpolargl\",\"marker\":{\"colorbar\":{\"outlinewidth\":0,\"ticks\":\"\"}}}],\"bar\":[{\"error_x\":{\"color\":\"#2a3f5f\"},\"error_y\":{\"color\":\"#2a3f5f\"},\"marker\":{\"line\":{\"color\":\"#E5ECF6\",\"width\":0.5},\"pattern\":{\"fillmode\":\"overlay\",\"size\":10,\"solidity\":0.2}},\"type\":\"bar\"}],\"scattergeo\":[{\"type\":\"scattergeo\",\"marker\":{\"colorbar\":{\"outlinewidth\":0,\"ticks\":\"\"}}}],\"scatterpolar\":[{\"type\":\"scatterpolar\",\"marker\":{\"colorbar\":{\"outlinewidth\":0,\"ticks\":\"\"}}}],\"histogram\":[{\"marker\":{\"pattern\":{\"fillmode\":\"overlay\",\"size\":10,\"solidity\":0.2}},\"type\":\"histogram\"}],\"scattergl\":[{\"type\":\"scattergl\",\"marker\":{\"colorbar\":{\"outlinewidth\":0,\"ticks\":\"\"}}}],\"scatter3d\":[{\"type\":\"scatter3d\",\"line\":{\"colorbar\":{\"outlinewidth\":0,\"ticks\":\"\"}},\"marker\":{\"colorbar\":{\"outlinewidth\":0,\"ticks\":\"\"}}}],\"scattermapbox\":[{\"type\":\"scattermapbox\",\"marker\":{\"colorbar\":{\"outlinewidth\":0,\"ticks\":\"\"}}}],\"scatterternary\":[{\"type\":\"scatterternary\",\"marker\":{\"colorbar\":{\"outlinewidth\":0,\"ticks\":\"\"}}}],\"scattercarpet\":[{\"type\":\"scattercarpet\",\"marker\":{\"colorbar\":{\"outlinewidth\":0,\"ticks\":\"\"}}}],\"carpet\":[{\"aaxis\":{\"endlinecolor\":\"#2a3f5f\",\"gridcolor\":\"white\",\"linecolor\":\"white\",\"minorgridcolor\":\"white\",\"startlinecolor\":\"#2a3f5f\"},\"baxis\":{\"endlinecolor\":\"#2a3f5f\",\"gridcolor\":\"white\",\"linecolor\":\"white\",\"minorgridcolor\":\"white\",\"startlinecolor\":\"#2a3f5f\"},\"type\":\"carpet\"}],\"table\":[{\"cells\":{\"fill\":{\"color\":\"#EBF0F8\"},\"line\":{\"color\":\"white\"}},\"header\":{\"fill\":{\"color\":\"#C8D4E3\"},\"line\":{\"color\":\"white\"}},\"type\":\"table\"}],\"barpolar\":[{\"marker\":{\"line\":{\"color\":\"#E5ECF6\",\"width\":0.5},\"pattern\":{\"fillmode\":\"overlay\",\"size\":10,\"solidity\":0.2}},\"type\":\"barpolar\"}],\"pie\":[{\"automargin\":true,\"type\":\"pie\"}]},\"layout\":{\"autotypenumbers\":\"strict\",\"colorway\":[\"#636efa\",\"#EF553B\",\"#00cc96\",\"#ab63fa\",\"#FFA15A\",\"#19d3f3\",\"#FF6692\",\"#B6E880\",\"#FF97FF\",\"#FECB52\"],\"font\":{\"color\":\"#2a3f5f\"},\"hovermode\":\"closest\",\"hoverlabel\":{\"align\":\"left\"},\"paper_bgcolor\":\"white\",\"plot_bgcolor\":\"#E5ECF6\",\"polar\":{\"bgcolor\":\"#E5ECF6\",\"angularaxis\":{\"gridcolor\":\"white\",\"linecolor\":\"white\",\"ticks\":\"\"},\"radialaxis\":{\"gridcolor\":\"white\",\"linecolor\":\"white\",\"ticks\":\"\"}},\"ternary\":{\"bgcolor\":\"#E5ECF6\",\"aaxis\":{\"gridcolor\":\"white\",\"linecolor\":\"white\",\"ticks\":\"\"},\"baxis\":{\"gridcolor\":\"white\",\"linecolor\":\"white\",\"ticks\":\"\"},\"caxis\":{\"gridcolor\":\"white\",\"linecolor\":\"white\",\"ticks\":\"\"}},\"coloraxis\":{\"colorbar\":{\"outlinewidth\":0,\"ticks\":\"\"}},\"colorscale\":{\"sequential\":[[0.0,\"#0d0887\"],[0.1111111111111111,\"#46039f\"],[0.2222222222222222,\"#7201a8\"],[0.3333333333333333,\"#9c179e\"],[0.4444444444444444,\"#bd3786\"],[0.5555555555555556,\"#d8576b\"],[0.6666666666666666,\"#ed7953\"],[0.7777777777777778,\"#fb9f3a\"],[0.8888888888888888,\"#fdca26\"],[1.0,\"#f0f921\"]],\"sequentialminus\":[[0.0,\"#0d0887\"],[0.1111111111111111,\"#46039f\"],[0.2222222222222222,\"#7201a8\"],[0.3333333333333333,\"#9c179e\"],[0.4444444444444444,\"#bd3786\"],[0.5555555555555556,\"#d8576b\"],[0.6666666666666666,\"#ed7953\"],[0.7777777777777778,\"#fb9f3a\"],[0.8888888888888888,\"#fdca26\"],[1.0,\"#f0f921\"]],\"diverging\":[[0,\"#8e0152\"],[0.1,\"#c51b7d\"],[0.2,\"#de77ae\"],[0.3,\"#f1b6da\"],[0.4,\"#fde0ef\"],[0.5,\"#f7f7f7\"],[0.6,\"#e6f5d0\"],[0.7,\"#b8e186\"],[0.8,\"#7fbc41\"],[0.9,\"#4d9221\"],[1,\"#276419\"]]},\"xaxis\":{\"gridcolor\":\"white\",\"linecolor\":\"white\",\"ticks\":\"\",\"title\":{\"standoff\":15},\"zerolinecolor\":\"white\",\"automargin\":true,\"zerolinewidth\":2},\"yaxis\":{\"gridcolor\":\"white\",\"linecolor\":\"white\",\"ticks\":\"\",\"title\":{\"standoff\":15},\"zerolinecolor\":\"white\",\"automargin\":true,\"zerolinewidth\":2},\"scene\":{\"xaxis\":{\"backgroundcolor\":\"#E5ECF6\",\"gridcolor\":\"white\",\"linecolor\":\"white\",\"showbackground\":true,\"ticks\":\"\",\"zerolinecolor\":\"white\",\"gridwidth\":2},\"yaxis\":{\"backgroundcolor\":\"#E5ECF6\",\"gridcolor\":\"white\",\"linecolor\":\"white\",\"showbackground\":true,\"ticks\":\"\",\"zerolinecolor\":\"white\",\"gridwidth\":2},\"zaxis\":{\"backgroundcolor\":\"#E5ECF6\",\"gridcolor\":\"white\",\"linecolor\":\"white\",\"showbackground\":true,\"ticks\":\"\",\"zerolinecolor\":\"white\",\"gridwidth\":2}},\"shapedefaults\":{\"line\":{\"color\":\"#2a3f5f\"}},\"annotationdefaults\":{\"arrowcolor\":\"#2a3f5f\",\"arrowhead\":0,\"arrowwidth\":1},\"geo\":{\"bgcolor\":\"white\",\"landcolor\":\"#E5ECF6\",\"subunitcolor\":\"white\",\"showland\":true,\"showlakes\":true,\"lakecolor\":\"white\"},\"title\":{\"x\":0.05},\"mapbox\":{\"style\":\"light\"}}},\"xaxis\":{\"anchor\":\"y\",\"domain\":[0.0,1.0],\"title\":{\"text\":\"Dates\"}},\"yaxis\":{\"anchor\":\"x\",\"domain\":[0.0,1.0],\"title\":{\"text\":\"value\"}},\"legend\":{\"title\":{\"text\":\"variable\"},\"tracegroupgap\":0},\"margin\":{\"t\":60}},                        {\"responsive\": true}                    ).then(function(){\n",
       "                            \n",
       "var gd = document.getElementById('5c369e2a-0fef-49ee-af58-a3335b134858');\n",
       "var x = new MutationObserver(function (mutations, observer) {{\n",
       "        var display = window.getComputedStyle(gd).display;\n",
       "        if (!display || display === 'none') {{\n",
       "            console.log([gd, 'removed!']);\n",
       "            Plotly.purge(gd);\n",
       "            observer.disconnect();\n",
       "        }}\n",
       "}});\n",
       "\n",
       "// Listen for the removal of the full notebook cells\n",
       "var notebookContainer = gd.closest('#notebook-container');\n",
       "if (notebookContainer) {{\n",
       "    x.observe(notebookContainer, {childList: true});\n",
       "}}\n",
       "\n",
       "// Listen for the clearing of the current output cell\n",
       "var outputEl = gd.closest('.output');\n",
       "if (outputEl) {{\n",
       "    x.observe(outputEl, {childList: true});\n",
       "}}\n",
       "\n",
       "                        })                };                });            </script>        </div>"
      ]
     },
     "metadata": {},
     "output_type": "display_data"
    }
   ],
   "source": [
    "pd.concat([orig_ret_temp, sector_ret_temp], axis=1).plot()"
   ]
  },
  {
   "cell_type": "code",
   "execution_count": null,
   "id": "03a90882-6aa4-4fa3-acb4-54c65ff91e63",
   "metadata": {},
   "outputs": [],
   "source": []
  },
  {
   "cell_type": "code",
   "execution_count": 173,
   "id": "a79aed8b-2470-43dc-9330-de88a322524c",
   "metadata": {
    "execution": {
     "iopub.execute_input": "2023-11-08T07:09:31.872145Z",
     "iopub.status.busy": "2023-11-08T07:09:31.871562Z",
     "iopub.status.idle": "2023-11-08T07:09:31.891180Z",
     "shell.execute_reply": "2023-11-08T07:09:31.890183Z",
     "shell.execute_reply.started": "2023-11-08T07:09:31.872093Z"
    },
    "tags": []
   },
   "outputs": [
    {
     "data": {
      "text/plain": [
       "2023-02-28   -0.005015\n",
       "2023-03-31   -0.019742\n",
       "2023-04-28   -0.013622\n",
       "2023-05-31   -0.008892\n",
       "2023-06-30    0.009674\n",
       "2023-07-31   -0.018510\n",
       "2023-08-31    0.023469\n",
       "2023-09-27    0.027892\n",
       "2023-10-31    0.031644\n",
       "dtype: float64"
      ]
     },
     "execution_count": 173,
     "metadata": {},
     "output_type": "execute_result"
    }
   ],
   "source": [
    "pd.concat(port_sector_ret_ls, axis=1).sum() - pd.concat(bm_sector_ret_ls, axis=1).sum()"
   ]
  },
  {
   "cell_type": "code",
   "execution_count": null,
   "id": "903b3e67-75d6-4dea-bcb4-5233584bc361",
   "metadata": {
    "execution": {
     "iopub.status.busy": "2023-11-08T06:10:25.737845Z",
     "iopub.status.idle": "2023-11-08T06:10:25.738105Z",
     "shell.execute_reply": "2023-11-08T06:10:25.737998Z"
    },
    "tags": []
   },
   "outputs": [],
   "source": [
    "pd.concat(bm_sector_ret_ls, axis=1)"
   ]
  },
  {
   "cell_type": "code",
   "execution_count": null,
   "id": "a9d2416e-cf89-4e6f-bb68-49f03b86c2f7",
   "metadata": {
    "execution": {
     "iopub.status.busy": "2023-11-08T06:10:25.738775Z",
     "iopub.status.idle": "2023-11-08T06:10:25.739039Z",
     "shell.execute_reply": "2023-11-08T06:10:25.738929Z"
    },
    "tags": []
   },
   "outputs": [],
   "source": [
    "pd.concat(bm_sector_cap_ls, axis=1).sum()"
   ]
  },
  {
   "cell_type": "code",
   "execution_count": null,
   "id": "4dd5952c-3c12-4827-bdfa-a23970f0ebb6",
   "metadata": {
    "execution": {
     "iopub.status.busy": "2023-11-08T06:10:25.739932Z",
     "iopub.status.idle": "2023-11-08T06:10:25.740204Z",
     "shell.execute_reply": "2023-11-08T06:10:25.740088Z"
    },
    "tags": []
   },
   "outputs": [],
   "source": [
    "pd.concat(port_sector_cap_ls, axis=1).sum()"
   ]
  },
  {
   "cell_type": "code",
   "execution_count": null,
   "id": "11e0b3a9-88f3-4a90-a768-45c0d838c5b4",
   "metadata": {
    "execution": {
     "iopub.status.busy": "2023-11-08T06:10:25.740884Z",
     "iopub.status.idle": "2023-11-08T06:10:25.741156Z",
     "shell.execute_reply": "2023-11-08T06:10:25.741038Z"
    },
    "tags": []
   },
   "outputs": [],
   "source": [
    "pd.concat(sector_weight_diff_ls, axis=1)"
   ]
  },
  {
   "cell_type": "code",
   "execution_count": null,
   "id": "15d85679-3dbd-40db-859f-8114742e009e",
   "metadata": {},
   "outputs": [],
   "source": []
  },
  {
   "cell_type": "code",
   "execution_count": null,
   "id": "db8e07e8-14c8-41dc-9ac2-ec9b6cce0cbe",
   "metadata": {},
   "outputs": [],
   "source": []
  },
  {
   "cell_type": "code",
   "execution_count": null,
   "id": "5211abef-1272-4c69-a419-608c686b75f0",
   "metadata": {
    "execution": {
     "iopub.status.busy": "2023-11-08T06:10:25.741852Z",
     "iopub.status.idle": "2023-11-08T06:10:25.742108Z",
     "shell.execute_reply": "2023-11-08T06:10:25.742002Z"
    },
    "tags": []
   },
   "outputs": [],
   "source": [
    "bm_cap_weight.sum(), bm_sector_weight.sum(), port_cap_weight.sum(), port_sector_weight.sum()"
   ]
  },
  {
   "cell_type": "code",
   "execution_count": null,
   "id": "8995c618-6a87-4da8-b479-67335ea01a4f",
   "metadata": {
    "execution": {
     "iopub.status.busy": "2023-11-08T06:10:25.742770Z",
     "iopub.status.idle": "2023-11-08T06:10:25.743025Z",
     "shell.execute_reply": "2023-11-08T06:10:25.742921Z"
    },
    "tags": []
   },
   "outputs": [],
   "source": [
    "temp_cap_weight=cap_combined.loc[date]\n",
    "bm_cap_weight=temp_cap_weight[k200comp.loc[date]=='Y']\n",
    "bm_cap_weight=bm_cap_weight.groupby('KSECapSize').sum(numeric_only=True)['idx_weight']"
   ]
  },
  {
   "cell_type": "code",
   "execution_count": null,
   "id": "6b41bc6b-a53d-49d0-9ade-629b09d63412",
   "metadata": {
    "tags": []
   },
   "outputs": [],
   "source": []
  },
  {
   "cell_type": "code",
   "execution_count": null,
   "id": "13d9ce17-3a0a-4944-be60-9e730650c27d",
   "metadata": {},
   "outputs": [],
   "source": []
  },
  {
   "cell_type": "code",
   "execution_count": null,
   "id": "856c36f8-7942-4f59-9ba9-ab10d9fa6895",
   "metadata": {
    "tags": []
   },
   "outputs": [],
   "source": []
  },
  {
   "cell_type": "code",
   "execution_count": null,
   "id": "3c22d666-da38-4c9c-b045-ed6c6259748a",
   "metadata": {
    "execution": {
     "iopub.status.busy": "2023-11-08T06:10:25.743825Z",
     "iopub.status.idle": "2023-11-08T06:10:25.744083Z",
     "shell.execute_reply": "2023-11-08T06:10:25.743976Z"
    },
    "tags": []
   },
   "outputs": [],
   "source": [
    "fig, ax = plt.subplots(figsize = (12, 8))\n",
    "\n",
    "plt.plot(weight_diff_ts['Large'])\n",
    "\n",
    "ax.set_ylabel('excess weight')\n",
    "ax.legend(labels = weight_diff_ts.columns,\n",
    "          fontsize = 12,\n",
    "          title = \"Port Cap changes compared to BM\",\n",
    "          title_fontsize = 14)\n",
    "\n",
    "ax.legend_.set_bbox_to_anchor([0.5, 1])\n",
    "\n",
    "ax2=ax.twinx()\n",
    "ax2.plot(bm_weight_ts.index, bm_weight_ts['Large'], label='bm weight', color='orange')\n",
    "ax2.set_ylabel('bm weight')"
   ]
  },
  {
   "cell_type": "code",
   "execution_count": null,
   "id": "83c8f3a2-eb48-43d1-b9c5-124a43e76545",
   "metadata": {},
   "outputs": [],
   "source": []
  },
  {
   "cell_type": "code",
   "execution_count": null,
   "id": "ad34cb01-ae40-4db7-ba29-9d3f821aecbc",
   "metadata": {},
   "outputs": [],
   "source": []
  },
  {
   "cell_type": "code",
   "execution_count": null,
   "id": "8bd0e500-a67a-45f2-88bd-7058064efabe",
   "metadata": {
    "tags": []
   },
   "outputs": [],
   "source": []
  },
  {
   "cell_type": "code",
   "execution_count": null,
   "id": "f367e13f-fbfa-4f89-9569-1ce25e89ac5f",
   "metadata": {
    "execution": {
     "iopub.status.busy": "2023-11-08T06:10:25.744743Z",
     "iopub.status.idle": "2023-11-08T06:10:25.744998Z",
     "shell.execute_reply": "2023-11-08T06:10:25.744893Z"
    },
    "tags": []
   },
   "outputs": [],
   "source": [
    "sector_names=['IT',\n",
    "            'Consumer Discretionary',\n",
    "            'Financials',\n",
    "            'Industrials',\n",
    "            'Materials',\n",
    "            'Energy',\n",
    "            'Utilities',\n",
    "            'Health Care',\n",
    "            'Communication Services',\n",
    "            'Consumer Staples']"
   ]
  },
  {
   "cell_type": "code",
   "execution_count": null,
   "id": "8c26b3a1-2832-4ac6-a917-891a54b05814",
   "metadata": {
    "execution": {
     "iopub.status.busy": "2023-11-08T06:10:25.745717Z",
     "iopub.status.idle": "2023-11-08T06:10:25.745973Z",
     "shell.execute_reply": "2023-11-08T06:10:25.745867Z"
    },
    "tags": []
   },
   "outputs": [],
   "source": [
    "# plt.figure(figsize=(12, 8))\n",
    "fig, ax = plt.subplots(figsize = (12, 8))\n",
    "\n",
    "# colors = plt.cm.Set3(np.linspace(0, 1, len(sector_names)*2))\n",
    "colors = sns.color_palette('Set2') #, n_colors=len(sector_names))\n",
    "\n",
    "for i, col in enumerate(sector_weight_diff_ts.columns):\n",
    "    plt.bar(month_endret.index, sector_weight_diff_ts[col], 8) #, color=colors[i]\n",
    "    \n",
    "ax.legend(labels = sector_names,\n",
    "          fontsize = 12,\n",
    "          title = \"sector weight\",\n",
    "          title_fontsize = 18,\n",
    "          loc='upper left')\n",
    "\n",
    "ax.legend_.set_bbox_to_anchor([1, 1])"
   ]
  },
  {
   "cell_type": "code",
   "execution_count": null,
   "id": "1894622c-ebbd-492a-b79c-2970568560ff",
   "metadata": {
    "execution": {
     "iopub.status.busy": "2023-11-08T06:10:25.746602Z",
     "iopub.status.idle": "2023-11-08T06:10:25.746858Z",
     "shell.execute_reply": "2023-11-08T06:10:25.746752Z"
    },
    "scrolled": true,
    "tags": []
   },
   "outputs": [],
   "source": [
    "fig, ax = plt.subplots(figsize = (12, 8))\n",
    "\n",
    "plt.plot(sector_weight_diff_ts)\n",
    "\n",
    "ax.legend(labels = sector_weight_diff_ts.columns,\n",
    "          fontsize = 12,\n",
    "          title = \"Port Cap changes compared to BM\",\n",
    "          title_fontsize = 14)\n",
    "ax.legend_.set_bbox_to_anchor([0.5, 1])"
   ]
  },
  {
   "cell_type": "code",
   "execution_count": null,
   "id": "aeabaa98-6ef6-4590-be88-81784bf45109",
   "metadata": {
    "tags": []
   },
   "outputs": [],
   "source": []
  },
  {
   "cell_type": "code",
   "execution_count": null,
   "id": "0aaec529-d9cc-4f90-91c0-0ee9a0651d3e",
   "metadata": {
    "execution": {
     "iopub.status.busy": "2023-11-08T06:10:25.747655Z",
     "iopub.status.idle": "2023-11-08T06:10:25.747914Z",
     "shell.execute_reply": "2023-11-08T06:10:25.747807Z"
    },
    "tags": []
   },
   "outputs": [],
   "source": [
    "cap.unstack()"
   ]
  },
  {
   "cell_type": "code",
   "execution_count": null,
   "id": "db1ab171-8d0a-44a2-bd13-63552b7d0dc5",
   "metadata": {
    "execution": {
     "iopub.status.busy": "2023-11-08T06:10:25.748696Z",
     "iopub.status.idle": "2023-11-08T06:10:25.748953Z",
     "shell.execute_reply": "2023-11-08T06:10:25.748846Z"
    }
   },
   "outputs": [],
   "source": [
    "cap.loc[date][k200comp.loc[date]=='Y'].index"
   ]
  },
  {
   "cell_type": "code",
   "execution_count": null,
   "id": "1fab032e-f197-4d48-8677-2c57665600df",
   "metadata": {
    "execution": {
     "iopub.status.busy": "2023-11-08T06:10:25.749582Z",
     "iopub.status.idle": "2023-11-08T06:10:25.749836Z",
     "shell.execute_reply": "2023-11-08T06:10:25.749730Z"
    },
    "tags": []
   },
   "outputs": [],
   "source": [
    "cap.loc[eom[i]:, temp_comp]"
   ]
  },
  {
   "cell_type": "code",
   "execution_count": null,
   "id": "79fb00f1-e241-4073-b2ef-9fb10b862075",
   "metadata": {
    "execution": {
     "iopub.status.busy": "2023-11-08T06:10:25.750735Z",
     "iopub.status.idle": "2023-11-08T06:10:25.750994Z",
     "shell.execute_reply": "2023-11-08T06:10:25.750887Z"
    },
    "tags": []
   },
   "outputs": [],
   "source": [
    "cap_1q=[]\n",
    "cap_2q=[]\n",
    "cap_3q=[]\n",
    "cap_4q=[]\n",
    "\n",
    "for i, date in enumerate(eom):\n",
    "    temp_comp=cap.loc[date][k200comp.loc[date]=='Y'].index\n",
    "    temp_cap=cap[(cap.index.get_level_values(0)==eom[i]) & (cap.index.get_level_values(1).isin(temp_comp))]\n",
    "    pred_top=daily_w.loc[date][daily_w.loc[date]>0].index.values\n",
    "    \n",
    "    real_top1q=temp_cap.sort_values().iloc[:50].index.get_level_values(1)\n",
    "    real_top2q=temp_cap.sort_values().iloc[50:100].index.get_level_values(1)\n",
    "    real_top3q=temp_cap.sort_values().iloc[100:150].index.get_level_values(1)\n",
    "    real_top4q=temp_cap.sort_values().iloc[150:200].index.get_level_values(1)\n",
    "\n",
    "    top1q=np.intersect1d(real_top1q, pred_top)\n",
    "    top2q=np.intersect1d(real_top2q, pred_top)\n",
    "    top3q=np.intersect1d(real_top3q, pred_top)\n",
    "    top4q=np.intersect1d(real_top4q, pred_top)\n",
    "    \n",
    "    cap_1q.append(len(top1q)/len(pred_top))\n",
    "    cap_2q.append(len(top2q)/len(pred_top))\n",
    "    cap_3q.append(len(top3q)/len(pred_top))\n",
    "    cap_4q.append(len(top4q)/len(pred_top))"
   ]
  },
  {
   "cell_type": "code",
   "execution_count": null,
   "id": "dd8aaf2c-87ea-429a-b7b5-b70d3b004050",
   "metadata": {
    "tags": []
   },
   "outputs": [],
   "source": []
  },
  {
   "cell_type": "code",
   "execution_count": null,
   "id": "75c1f5df-fcb4-44e8-943b-5415ce8a1a78",
   "metadata": {
    "execution": {
     "iopub.status.busy": "2023-11-08T06:10:25.751675Z",
     "iopub.status.idle": "2023-11-08T06:10:25.751931Z",
     "shell.execute_reply": "2023-11-08T06:10:25.751830Z"
    },
    "tags": []
   },
   "outputs": [],
   "source": [
    "cap_dist"
   ]
  },
  {
   "cell_type": "code",
   "execution_count": null,
   "id": "9b8da0cd-0ec4-44b0-bec3-48a7033e38f3",
   "metadata": {
    "tags": []
   },
   "outputs": [],
   "source": []
  },
  {
   "cell_type": "code",
   "execution_count": null,
   "id": "fbbdadbb-2d2f-4e37-8896-3a9a693dd130",
   "metadata": {},
   "outputs": [],
   "source": []
  },
  {
   "cell_type": "code",
   "execution_count": null,
   "id": "5305fcf9-b432-4c43-a46a-ce96aa6a3a67",
   "metadata": {
    "execution": {
     "iopub.status.busy": "2023-11-08T06:10:25.752788Z",
     "iopub.status.idle": "2023-11-08T06:10:25.753053Z",
     "shell.execute_reply": "2023-11-08T06:10:25.752936Z"
    },
    "tags": []
   },
   "outputs": [],
   "source": [
    "cap_1q"
   ]
  },
  {
   "cell_type": "code",
   "execution_count": null,
   "id": "45831494-1ee3-4c45-a03e-51ea75ba1232",
   "metadata": {
    "tags": []
   },
   "outputs": [],
   "source": []
  },
  {
   "cell_type": "code",
   "execution_count": null,
   "id": "cd535a4d-3b03-4e74-8eed-30c8a279882c",
   "metadata": {
    "tags": []
   },
   "outputs": [],
   "source": []
  },
  {
   "cell_type": "markdown",
   "id": "20a10761-0548-4603-bb3e-67a4fd8f4141",
   "metadata": {},
   "source": [
    "# sector plot"
   ]
  },
  {
   "cell_type": "code",
   "execution_count": null,
   "id": "a5b30c45-37d7-4beb-bd97-8300e0a9a43b",
   "metadata": {
    "execution": {
     "iopub.status.busy": "2023-11-08T06:10:25.753739Z",
     "iopub.status.idle": "2023-11-08T06:10:25.753986Z",
     "shell.execute_reply": "2023-11-08T06:10:25.753884Z"
    }
   },
   "outputs": [],
   "source": [
    "data_COM['FG_IndustryGroup27']"
   ]
  },
  {
   "cell_type": "code",
   "execution_count": null,
   "id": "3ddeca86-f160-43c2-9bf7-e6b293d1c44e",
   "metadata": {
    "execution": {
     "iopub.status.busy": "2023-11-08T06:10:25.754843Z",
     "iopub.status.idle": "2023-11-08T06:10:25.755092Z",
     "shell.execute_reply": "2023-11-08T06:10:25.754990Z"
    },
    "tags": []
   },
   "outputs": [],
   "source": [
    "sec_ls=[]\n",
    "sector=data_COM['FG_IndustryGroup27'].copy()\n",
    "\n",
    "for i, date in enumerate(eom):\n",
    "    temp_comp=cap.loc[date][k200comp.loc[date]=='Y'].index\n",
    "    pred_top=daily_w.loc[date][daily_w.loc[date]>0].index.values\n",
    "    temp_sec=sector[(sector.index.get_level_values(0)==eom[i]) & (sector.index.get_level_values(1).isin(pred_top))]\n",
    "    sec_ls.append(temp_sec.unstack().T.value_counts())"
   ]
  },
  {
   "cell_type": "code",
   "execution_count": null,
   "id": "d27e9489-3506-45b0-98bb-c9897ef2b5a9",
   "metadata": {
    "execution": {
     "iopub.status.busy": "2023-11-08T06:10:25.755672Z",
     "iopub.status.idle": "2023-11-08T06:10:25.755920Z",
     "shell.execute_reply": "2023-11-08T06:10:25.755817Z"
    },
    "tags": []
   },
   "outputs": [],
   "source": [
    "sec_df=pd.concat(sec_ls, axis=1).fillna(0).astype(int)\n",
    "sec_df.columns=eom"
   ]
  },
  {
   "cell_type": "code",
   "execution_count": null,
   "id": "1ec1504e-b915-4005-8e54-d830f6e19bb9",
   "metadata": {
    "execution": {
     "iopub.status.busy": "2023-11-08T06:10:25.756802Z",
     "iopub.status.idle": "2023-11-08T06:10:25.757062Z",
     "shell.execute_reply": "2023-11-08T06:10:25.756951Z"
    },
    "tags": []
   },
   "outputs": [],
   "source": [
    "sec_df['sum']=sec_df.sum(1)"
   ]
  },
  {
   "cell_type": "code",
   "execution_count": null,
   "id": "129cc220-7c43-4f91-8a96-4bc60bb999d2",
   "metadata": {
    "execution": {
     "iopub.status.busy": "2023-11-08T06:10:25.758014Z",
     "iopub.status.idle": "2023-11-08T06:10:25.758271Z",
     "shell.execute_reply": "2023-11-08T06:10:25.758163Z"
    },
    "scrolled": true,
    "tags": []
   },
   "outputs": [],
   "source": [
    "sec_df.sort_values('sum', ascending=False)"
   ]
  },
  {
   "cell_type": "code",
   "execution_count": null,
   "id": "081ca837-4155-4d19-85e1-03d278563f7c",
   "metadata": {
    "execution": {
     "iopub.status.busy": "2023-11-08T06:10:25.766591Z",
     "iopub.status.idle": "2023-11-08T06:10:25.766904Z",
     "shell.execute_reply": "2023-11-08T06:10:25.766773Z"
    },
    "tags": []
   },
   "outputs": [],
   "source": [
    "temp_sec_comp=sector[(sector.index.get_level_values(0)==eom[i]) & (sector =='기타자본재')].index.get_level_values(1)"
   ]
  },
  {
   "cell_type": "code",
   "execution_count": null,
   "id": "3a7ddb0f-7e16-4996-a529-06ad5b051719",
   "metadata": {
    "execution": {
     "iopub.status.busy": "2023-11-08T06:10:25.767752Z",
     "iopub.status.idle": "2023-11-08T06:10:25.768050Z",
     "shell.execute_reply": "2023-11-08T06:10:25.767926Z"
    },
    "scrolled": true,
    "tags": []
   },
   "outputs": [],
   "source": [
    "data_COM[(data_COM.index.get_level_values(0)=='2023-08-31') & (data_COM.index.get_level_values(1).isin(temp_sec_comp))]"
   ]
  },
  {
   "cell_type": "code",
   "execution_count": null,
   "id": "02d4ae47-9ba0-4761-b255-0126e142a2c8",
   "metadata": {},
   "outputs": [],
   "source": []
  },
  {
   "cell_type": "code",
   "execution_count": null,
   "id": "893f6292-9fed-45c8-b483-3255d13ce896",
   "metadata": {},
   "outputs": [],
   "source": []
  },
  {
   "cell_type": "markdown",
   "id": "63fc6066-e8a3-4614-89d4-a33c62d3137a",
   "metadata": {},
   "source": [
    "### arirang smartbeta index exposure"
   ]
  },
  {
   "cell_type": "code",
   "execution_count": null,
   "id": "cfadfcf9-a48d-4955-9680-09d4d06af156",
   "metadata": {
    "execution": {
     "iopub.status.busy": "2023-11-08T06:10:25.769116Z",
     "iopub.status.idle": "2023-11-08T06:10:25.769419Z",
     "shell.execute_reply": "2023-11-08T06:10:25.769294Z"
    }
   },
   "outputs": [],
   "source": [
    "sb=pd.read_excel('./data/factor_components.xlsx', sheet_name='Sheet2', index_col=0)\n",
    "sb.columns=sb.iloc[7]\n",
    "sb=sb.iloc[13:].dropna()\n",
    "sb.index=pd.to_datetime(sb.index)\n",
    "style_ret=pd.concat([sb.pct_change(), idx_ret, bm_ret], axis=1).dropna()\n",
    "style_excess_ret=style_ret.subtract(style_ret['코스피 200'], axis=0)\n",
    "\n",
    "factor_corr_ls=[]\n",
    "for i, date in enumerate(eom):\n",
    "    if i == len(eom)-1:\n",
    "        temp_corr=style_excess_ret.loc[eom[i]:].corr()\n",
    "\n",
    "    else:\n",
    "        temp_corr=style_excess_ret.loc[eom[i]:eom[i+1]].corr()\n",
    "\n",
    "    factor_corr_ls.append(temp_corr[0])\n",
    "    \n",
    "factor_corr_df=pd.concat(factor_corr_ls, axis=1)\n",
    "factor_corr_df.columns=eom\n",
    "\n",
    "factor_corr_df=factor_corr_df.iloc[:-2]\n",
    "\n",
    "factor_corr_df.index=['lowvol', 'size', 'momentum', 'value', 'quality']\n",
    "factor_corr_df.T.plot()"
   ]
  },
  {
   "cell_type": "code",
   "execution_count": null,
   "id": "9509c892-0e1b-43ed-9e76-de1791da1323",
   "metadata": {},
   "outputs": [],
   "source": []
  },
  {
   "cell_type": "code",
   "execution_count": null,
   "id": "7b4fbd9a-d74a-4d0f-8b2b-2f442adbbe1e",
   "metadata": {},
   "outputs": [],
   "source": []
  },
  {
   "cell_type": "code",
   "execution_count": null,
   "id": "e7bc83a1-027b-413b-aa67-060124319693",
   "metadata": {},
   "outputs": [],
   "source": []
  },
  {
   "cell_type": "markdown",
   "id": "8a055e18-0133-4e1b-8097-4721446ad4a7",
   "metadata": {},
   "source": [
    "## port quartile performance"
   ]
  },
  {
   "cell_type": "code",
   "execution_count": null,
   "id": "40505773-c8fe-4df4-a49b-c4802da877ea",
   "metadata": {
    "execution": {
     "iopub.status.busy": "2023-11-08T06:10:25.770501Z",
     "iopub.status.idle": "2023-11-08T06:10:25.770805Z",
     "shell.execute_reply": "2023-11-08T06:10:25.770680Z"
    }
   },
   "outputs": [],
   "source": [
    "pct_1q=[]\n",
    "pct_2q=[]\n",
    "pct_3q=[]\n",
    "pct_4q=[]\n",
    "\n",
    "cap_1q=[]\n",
    "cap_2q=[]\n",
    "cap_3q=[]\n",
    "cap_4q=[]\n",
    "\n",
    "\n",
    "for i, date in enumerate(eom):\n",
    "    temp_comp=k200comp.loc[date][k200comp.loc[date]=='Y'].index\n",
    "    pred_top=daily_w.loc[date][daily_w.loc[date]>0].index.values\n",
    "\n",
    "    temp_cap=cap[(cap.index.get_level_values(0)==eom[i]) & (cap.index.get_level_values(1).isin(temp_comp))]\n",
    "    \n",
    "    if i == len(eom)-1:\n",
    "        real_top1q=(1+ret.loc[eom[i]:, temp_comp]).cumprod().iloc[-1].sort_values().iloc[:50].index.values\n",
    "        real_top2q=(1+ret.loc[eom[i]:, temp_comp]).cumprod().iloc[-1].sort_values().iloc[50:100].index.values\n",
    "        real_top3q=(1+ret.loc[eom[i]:, temp_comp]).cumprod().iloc[-1].sort_values().iloc[100:150].index.values\n",
    "        real_top4q=(1+ret.loc[eom[i]:, temp_comp]).cumprod().iloc[-1].sort_values().iloc[150:200].index.values        \n",
    "    else:\n",
    "        real_top1q=(1+ret.loc[eom[i]:eom[i+1], temp_comp]).cumprod().iloc[-1].sort_values().iloc[:50].index.values\n",
    "        real_top2q=(1+ret.loc[eom[i]:eom[i+1], temp_comp]).cumprod().iloc[-1].sort_values().iloc[50:100].index.values    \n",
    "        real_top3q=(1+ret.loc[eom[i]:eom[i+1], temp_comp]).cumprod().iloc[-1].sort_values().iloc[100:150].index.values\n",
    "        real_top4q=(1+ret.loc[eom[i]:eom[i+1], temp_comp]).cumprod().iloc[-1].sort_values().iloc[150:200].index.values\n",
    "\n",
    "    top1q=np.intersect1d(real_top1q, pred_top)\n",
    "    top2q=np.intersect1d(real_top2q, pred_top)\n",
    "    top3q=np.intersect1d(real_top3q, pred_top)\n",
    "    top4q=np.intersect1d(real_top4q, pred_top)\n",
    "    \n",
    "    pct_1q.append(len(top1q)/len(pred_top))\n",
    "    pct_2q.append(len(top2q)/len(pred_top))\n",
    "    pct_3q.append(len(top3q)/len(pred_top))\n",
    "    pct_4q.append(len(top4q)/len(pred_top))\n",
    "    \n",
    "\n",
    "    cap_real_top1q=temp_cap.sort_values().iloc[:50].index.get_level_values(1)\n",
    "    cap_real_top2q=temp_cap.sort_values().iloc[50:100].index.get_level_values(1)\n",
    "    cap_real_top3q=temp_cap.sort_values().iloc[100:150].index.get_level_values(1)\n",
    "    cap_real_top4q=temp_cap.sort_values().iloc[150:200].index.get_level_values(1)\n",
    "\n",
    "    cap_top1q=np.intersect1d(cap_real_top1q, pred_top)\n",
    "    cap_top2q=np.intersect1d(cap_real_top2q, pred_top)\n",
    "    cap_top3q=np.intersect1d(cap_real_top3q, pred_top)\n",
    "    cap_top4q=np.intersect1d(cap_real_top4q, pred_top)\n",
    "\n",
    "    cap_1q.append(len(cap_top1q)/len(pred_top))\n",
    "    cap_2q.append(len(cap_top2q)/len(pred_top))\n",
    "    cap_3q.append(len(cap_top3q)/len(pred_top))\n",
    "    cap_4q.append(len(cap_top4q)/len(pred_top))            \n",
    "    \n",
    "    \n",
    "split_pred=pd.DataFrame([pct_1q, pct_2q, pct_3q, pct_4q], columns=eom).T\n",
    "cap_dist=pd.DataFrame([cap_1q, cap_2q, cap_3q, cap_4q], columns=eom).T\n",
    "\n",
    "sns.set_theme()\n",
    " \n",
    "# Data\n",
    "x=split_pred.index\n",
    "y=split_pred.values.T\n",
    " \n",
    "# Plot\n",
    "plt.figure(figsize=(12, 6))\n",
    "plt.stackplot(x, y, labels=['1q', '2q', '3q', '4q'])\n",
    "plt.legend(loc='upper left')\n",
    "plt.show()\n",
    "\n",
    "# Data\n",
    "x=cap_dist.index\n",
    "y=cap_dist.values.T\n",
    " \n",
    "# Plot\n",
    "plt.figure(figsize=(12, 8))\n",
    "plt.stackplot(x, y, labels=['1q', '2q', '3q', '4q'])\n",
    "plt.legend(loc='upper left')\n",
    "plt.show()"
   ]
  },
  {
   "cell_type": "code",
   "execution_count": null,
   "id": "e093cbfa-45d5-4d74-a7d9-794e4e0c7378",
   "metadata": {},
   "outputs": [],
   "source": []
  },
  {
   "cell_type": "code",
   "execution_count": null,
   "id": "4c8fb624-f1a3-4148-a419-7380623c4f95",
   "metadata": {},
   "outputs": [],
   "source": []
  },
  {
   "cell_type": "code",
   "execution_count": null,
   "id": "fc9a8eec-7267-424e-9fb4-14a4764265cb",
   "metadata": {},
   "outputs": [],
   "source": []
  },
  {
   "cell_type": "code",
   "execution_count": null,
   "id": "ae6cbd42-58a9-4aca-9be8-14f953d17ccd",
   "metadata": {},
   "outputs": [],
   "source": []
  },
  {
   "cell_type": "code",
   "execution_count": null,
   "id": "38630a23-f811-43ee-9484-bf830318e9c4",
   "metadata": {},
   "outputs": [],
   "source": []
  },
  {
   "cell_type": "code",
   "execution_count": null,
   "id": "48c9d09f-b94a-42a4-ae95-fb75caa35941",
   "metadata": {},
   "outputs": [],
   "source": []
  },
  {
   "cell_type": "code",
   "execution_count": null,
   "id": "4ee3e284-d211-4474-91d2-515b3577cc66",
   "metadata": {},
   "outputs": [],
   "source": []
  },
  {
   "cell_type": "code",
   "execution_count": null,
   "id": "0c04456b-7867-4c83-b25d-b05ec2b0a88c",
   "metadata": {},
   "outputs": [],
   "source": []
  },
  {
   "cell_type": "code",
   "execution_count": null,
   "id": "fab9b4ef-4d65-45b9-8a7e-2cd1f56c370b",
   "metadata": {},
   "outputs": [],
   "source": []
  },
  {
   "cell_type": "code",
   "execution_count": null,
   "id": "acaa1bc1-8a28-4f66-95f3-aa1fa4cc24d0",
   "metadata": {},
   "outputs": [],
   "source": []
  },
  {
   "cell_type": "markdown",
   "id": "efc14d9e-ffbf-422e-b646-87bcfbd18eb7",
   "metadata": {},
   "source": [
    "# DD plot"
   ]
  },
  {
   "cell_type": "code",
   "execution_count": null,
   "id": "7b3c63d1-9d23-48c6-9a3f-b064464e0061",
   "metadata": {
    "execution": {
     "iopub.status.busy": "2023-11-08T06:10:25.771601Z",
     "iopub.status.idle": "2023-11-08T06:10:25.771952Z",
     "shell.execute_reply": "2023-11-08T06:10:25.771790Z"
    },
    "tags": []
   },
   "outputs": [],
   "source": [
    "dd_diff_ls=[]\n",
    "for col in k200_ret_excess.columns:\n",
    "    midx = (1+ k200_ret_excess[col]).cumprod()*100\n",
    "    midx = midx.fillna(100)\n",
    "\n",
    "    dd = (midx / np.maximum.accumulate(midx)-1)\n",
    "    mdd = min(dd)\n",
    "    midx_diff = ((1+k200_ret_excess[col]).cumprod()*100).fillna(100)\n",
    "    dd_diff = (midx_diff / np.maximum.accumulate(midx_diff)-1)\n",
    "    dd_diff_ls.append(dd_diff)"
   ]
  },
  {
   "cell_type": "code",
   "execution_count": null,
   "id": "6cae5782-6408-46cb-9c65-8dbbec122090",
   "metadata": {
    "execution": {
     "iopub.status.busy": "2023-11-08T06:10:25.772820Z",
     "iopub.status.idle": "2023-11-08T06:10:25.773222Z",
     "shell.execute_reply": "2023-11-08T06:10:25.773057Z"
    },
    "tags": []
   },
   "outputs": [],
   "source": [
    "(ddd*100).plot.area()"
   ]
  },
  {
   "cell_type": "code",
   "execution_count": null,
   "id": "964630d5-9dbb-41c8-ba9f-0a90769e10e4",
   "metadata": {
    "tags": []
   },
   "outputs": [],
   "source": []
  },
  {
   "cell_type": "code",
   "execution_count": null,
   "id": "ace03aea-973e-47c8-bf40-957fd1fbcf08",
   "metadata": {
    "execution": {
     "iopub.status.busy": "2023-11-08T06:10:25.774423Z",
     "iopub.status.idle": "2023-11-08T06:10:25.774815Z",
     "shell.execute_reply": "2023-11-08T06:10:25.774652Z"
    },
    "tags": []
   },
   "outputs": [],
   "source": [
    "import matplotlib.pyplot as plt\n",
    "import matplotlib.dates as mdates\n",
    "\n",
    "for ddd in dd_diff_ls:\n",
    "\n",
    "    # Create an area plot for 'ddd*100'\n",
    "    (ddd * 100).plot.area(title=ddd.name)\n"
   ]
  },
  {
   "cell_type": "code",
   "execution_count": null,
   "id": "5050de03-4b6c-4065-8cdb-e0b385ff91e2",
   "metadata": {
    "execution": {
     "iopub.status.busy": "2023-11-08T06:10:25.776326Z",
     "iopub.status.idle": "2023-11-08T06:10:25.776723Z",
     "shell.execute_reply": "2023-11-08T06:10:25.776555Z"
    },
    "tags": []
   },
   "outputs": [],
   "source": [
    "(dd_diff_ls[0] * 100).plot.area(title=dd_diff_ls[0].name)\n"
   ]
  },
  {
   "cell_type": "code",
   "execution_count": null,
   "id": "15bfb5f5-7655-4d59-a57b-8946e38d17aa",
   "metadata": {
    "execution": {
     "iopub.status.busy": "2023-11-08T06:10:25.777662Z",
     "iopub.status.idle": "2023-11-08T06:10:25.778234Z",
     "shell.execute_reply": "2023-11-08T06:10:25.778062Z"
    }
   },
   "outputs": [],
   "source": [
    "(dd_diff_ls[1] * 100).plot.area(title=dd_diff_ls[1].name)\n"
   ]
  },
  {
   "cell_type": "code",
   "execution_count": null,
   "id": "c4763995-d03c-4c81-8abc-7236dd71db90",
   "metadata": {
    "execution": {
     "iopub.status.busy": "2023-11-08T06:10:25.779356Z",
     "iopub.status.idle": "2023-11-08T06:10:25.779750Z",
     "shell.execute_reply": "2023-11-08T06:10:25.779583Z"
    }
   },
   "outputs": [],
   "source": [
    "(dd_diff_ls[2] * 100).plot.area(title=dd_diff_ls[2].name)"
   ]
  },
  {
   "cell_type": "code",
   "execution_count": null,
   "id": "e211e019-4e75-4f1c-8284-b97c2cd1890c",
   "metadata": {
    "execution": {
     "iopub.status.busy": "2023-11-08T06:10:25.780621Z",
     "iopub.status.idle": "2023-11-08T06:10:25.781008Z",
     "shell.execute_reply": "2023-11-08T06:10:25.780848Z"
    }
   },
   "outputs": [],
   "source": [
    "(dd_diff_ls[3] * 100).plot.area(title=dd_diff_ls[3].name)\n"
   ]
  },
  {
   "cell_type": "code",
   "execution_count": null,
   "id": "3f7c46d1-7a24-4c43-b19f-987804da2e92",
   "metadata": {},
   "outputs": [],
   "source": []
  },
  {
   "cell_type": "code",
   "execution_count": null,
   "id": "6e9065c6-71a7-419d-8bff-b8cb506517b3",
   "metadata": {},
   "outputs": [],
   "source": []
  },
  {
   "cell_type": "code",
   "execution_count": null,
   "id": "aaaa1f2c-c6b3-4876-8933-6228f7ed56a8",
   "metadata": {
    "tags": []
   },
   "outputs": [],
   "source": []
  },
  {
   "cell_type": "code",
   "execution_count": null,
   "id": "a4c138cd-d978-4425-aed7-dc58232dee3a",
   "metadata": {},
   "outputs": [],
   "source": []
  }
 ],
 "metadata": {
  "kernelspec": {
   "display_name": "base",
   "language": "python",
   "name": "python3"
  },
  "language_info": {
   "codemirror_mode": {
    "name": "ipython",
    "version": 3
   },
   "file_extension": ".py",
   "mimetype": "text/x-python",
   "name": "python",
   "nbconvert_exporter": "python",
   "pygments_lexer": "ipython3",
   "version": "3.11.4"
  }
 },
 "nbformat": 4,
 "nbformat_minor": 5
}
