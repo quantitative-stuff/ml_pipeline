{
 "cells": [
  {
   "cell_type": "code",
   "execution_count": 160,
   "id": "8e8f0e0e-ceb1-4332-adee-bc7f1339e2da",
   "metadata": {
    "execution": {
     "iopub.execute_input": "2024-08-05T08:08:39.209168Z",
     "iopub.status.busy": "2024-08-05T08:08:39.208406Z",
     "iopub.status.idle": "2024-08-05T08:08:39.216726Z",
     "shell.execute_reply": "2024-08-05T08:08:39.215569Z",
     "shell.execute_reply.started": "2024-08-05T08:08:39.209114Z"
    },
    "tags": []
   },
   "outputs": [],
   "source": [
    "import pandas as pd\n",
    "from sqlalchemy import create_engine, text"
   ]
  },
  {
   "cell_type": "code",
   "execution_count": 161,
   "id": "f31f2c62-a0de-4527-88ac-26dc5e519bca",
   "metadata": {
    "execution": {
     "iopub.execute_input": "2024-08-05T08:08:39.384134Z",
     "iopub.status.busy": "2024-08-05T08:08:39.383614Z",
     "iopub.status.idle": "2024-08-05T08:08:39.390717Z",
     "shell.execute_reply": "2024-08-05T08:08:39.389421Z",
     "shell.execute_reply.started": "2024-08-05T08:08:39.384091Z"
    },
    "tags": []
   },
   "outputs": [],
   "source": [
    "import sys\n",
    "\n",
    "# os.chdir('C:/Users/user/Documents/hs/pipeline-main/pipeline-main/')\n",
    "\n",
    "sys.path.append('../py')\n",
    "\n",
    "import data_processing as proc\n",
    "import utils\n",
    "import performance as perf\n"
   ]
  },
  {
   "cell_type": "code",
   "execution_count": 162,
   "id": "c5fbdf34-6469-40f6-82a9-4946ed63873f",
   "metadata": {
    "execution": {
     "iopub.execute_input": "2024-08-05T08:08:39.557873Z",
     "iopub.status.busy": "2024-08-05T08:08:39.556942Z",
     "iopub.status.idle": "2024-08-05T08:08:39.564314Z",
     "shell.execute_reply": "2024-08-05T08:08:39.563019Z",
     "shell.execute_reply.started": "2024-08-05T08:08:39.557825Z"
    }
   },
   "outputs": [],
   "source": [
    "import cx_Oracle\n",
    "import os\n",
    "os.putenv(' NLS_LANG', '.UTF8')"
   ]
  },
  {
   "cell_type": "code",
   "execution_count": 163,
   "id": "e8ca7295-af11-4d6e-8fd8-38912b977f53",
   "metadata": {
    "execution": {
     "iopub.execute_input": "2024-08-05T08:08:39.694233Z",
     "iopub.status.busy": "2024-08-05T08:08:39.693757Z",
     "iopub.status.idle": "2024-08-05T08:08:39.724477Z",
     "shell.execute_reply": "2024-08-05T08:08:39.723446Z",
     "shell.execute_reply.started": "2024-08-05T08:08:39.694190Z"
    }
   },
   "outputs": [],
   "source": [
    "dsn = cx_Oracle.makedsn('192.168.1.5', '1521', service_name = 'ORA11')\n",
    "con = cx_Oracle.connect('dbam', 'dbamkass', dsn = dsn, encoding=\"UTF-8\")\n",
    "cur = con.cursor()"
   ]
  },
  {
   "cell_type": "code",
   "execution_count": 164,
   "id": "463aede7-9097-4c4f-a077-cea2a3cdcb43",
   "metadata": {
    "execution": {
     "iopub.execute_input": "2024-08-05T08:08:39.848811Z",
     "iopub.status.busy": "2024-08-05T08:08:39.848228Z",
     "iopub.status.idle": "2024-08-05T08:11:15.138621Z",
     "shell.execute_reply": "2024-08-05T08:11:15.137308Z",
     "shell.execute_reply.started": "2024-08-05T08:08:39.848767Z"
    },
    "tags": []
   },
   "outputs": [],
   "source": [
    "sql_k200 = \" select 일자, 종목코드2 종목코드, 종목명_국문 종목명, 당일가격, 지수내비중, 상장주식수, 유동비율, \\\n",
    "            지수주식수, 지수시가총액 \\\n",
    "             from KASS1.TH068 \\\n",
    "             where 익일적용여부 ='NXT' \\\n",
    "             and ISIN = 'KRD020020016' \\\n",
    "             order by 지수내비중 desc \"\n",
    "\n",
    "cur.execute(sql_k200)\n",
    "k200_df = pd.DataFrame(cur.fetchall(), columns = [x[0] for x in cur.description])"
   ]
  },
  {
   "cell_type": "code",
   "execution_count": 165,
   "id": "c414d046-a175-4bd0-a14b-afabdb915588",
   "metadata": {
    "execution": {
     "iopub.execute_input": "2024-08-05T08:11:15.140476Z",
     "iopub.status.busy": "2024-08-05T08:11:15.140240Z",
     "iopub.status.idle": "2024-08-05T08:11:15.285511Z",
     "shell.execute_reply": "2024-08-05T08:11:15.284557Z",
     "shell.execute_reply.started": "2024-08-05T08:11:15.140455Z"
    },
    "scrolled": true
   },
   "outputs": [],
   "source": [
    "k200_df['일자']=pd.to_datetime(k200_df['일자'], format ='%Y%m%d')\n",
    "k200_df.set_index(['일자', '종목코드'], inplace=True)\n",
    "k200_df.index.names=['Dates', 'Symbol']\n",
    "k200_df.columns=['name', 'close', 'idx_weight', 'num_shares', 'float_rate', 'idx_num_shares', 'idx_cap']\n"
   ]
  },
  {
   "cell_type": "code",
   "execution_count": 166,
   "id": "5bacbe6f-d2eb-46ee-9636-8645d2d26d49",
   "metadata": {
    "execution": {
     "iopub.execute_input": "2024-08-05T08:11:15.286800Z",
     "iopub.status.busy": "2024-08-05T08:11:15.286578Z",
     "iopub.status.idle": "2024-08-05T08:11:15.425140Z",
     "shell.execute_reply": "2024-08-05T08:11:15.424061Z",
     "shell.execute_reply.started": "2024-08-05T08:11:15.286780Z"
    }
   },
   "outputs": [],
   "source": [
    "k200_df=k200_df.sort_index(level='Dates')"
   ]
  },
  {
   "cell_type": "code",
   "execution_count": 167,
   "id": "87218717-06af-4c15-ba69-b5cbf58a848e",
   "metadata": {
    "execution": {
     "iopub.execute_input": "2024-08-05T08:11:15.427136Z",
     "iopub.status.busy": "2024-08-05T08:11:15.426801Z",
     "iopub.status.idle": "2024-08-05T08:11:15.439364Z",
     "shell.execute_reply": "2024-08-05T08:11:15.438312Z",
     "shell.execute_reply.started": "2024-08-05T08:11:15.427113Z"
    },
    "tags": []
   },
   "outputs": [],
   "source": [
    "host = '192.168.1.27'\n",
    "port = '3306'\n",
    "db_name = 'quantdb_maria'\n",
    "username = 'quantdb'\n",
    "password = 'QuantDb2023!'\n",
    "\n",
    "engine = create_engine(\"mysql+pymysql://\" + username + \":\" + password + \"@\" + host + \":\" + port + \"/\" + db_name)\n",
    "conn=engine.connect()"
   ]
  },
  {
   "cell_type": "code",
   "execution_count": 168,
   "id": "cf8d8f51-57ff-4d2a-9800-5fd759d449dc",
   "metadata": {
    "execution": {
     "iopub.execute_input": "2024-08-05T08:11:15.440609Z",
     "iopub.status.busy": "2024-08-05T08:11:15.440340Z",
     "iopub.status.idle": "2024-08-05T08:11:15.446283Z",
     "shell.execute_reply": "2024-08-05T08:11:15.445286Z",
     "shell.execute_reply.started": "2024-08-05T08:11:15.440585Z"
    },
    "tags": []
   },
   "outputs": [],
   "source": [
    "period1='2014-09-01'\n",
    "period2='2024-07-31'"
   ]
  },
  {
   "cell_type": "code",
   "execution_count": 169,
   "id": "dc9f8922-b5b5-41e2-8e1a-a312b36da5a6",
   "metadata": {
    "execution": {
     "iopub.execute_input": "2024-08-05T08:11:15.447770Z",
     "iopub.status.busy": "2024-08-05T08:11:15.447424Z",
     "iopub.status.idle": "2024-08-05T08:12:15.017132Z",
     "shell.execute_reply": "2024-08-05T08:12:15.016201Z",
     "shell.execute_reply.started": "2024-08-05T08:11:15.447736Z"
    },
    "tags": []
   },
   "outputs": [
    {
     "name": "stderr",
     "output_type": "stream",
     "text": [
      "Exception during reset or similar\n",
      "Traceback (most recent call last):\n",
      "  File \"/opt/miniconda3/lib/python3.11/site-packages/pymysql/connections.py\", line 803, in _write_bytes\n",
      "    self._sock.sendall(data)\n",
      "ConnectionResetError: [Errno 104] Connection reset by peer\n",
      "\n",
      "During handling of the above exception, another exception occurred:\n",
      "\n",
      "Traceback (most recent call last):\n",
      "  File \"/opt/miniconda3/lib/python3.11/site-packages/sqlalchemy/pool/base.py\", line 988, in _finalize_fairy\n",
      "    fairy._reset(\n",
      "  File \"/opt/miniconda3/lib/python3.11/site-packages/sqlalchemy/pool/base.py\", line 1438, in _reset\n",
      "    pool._dialect.do_rollback(self)\n",
      "  File \"/opt/miniconda3/lib/python3.11/site-packages/sqlalchemy/engine/default.py\", line 692, in do_rollback\n",
      "    dbapi_connection.rollback()\n",
      "  File \"/opt/miniconda3/lib/python3.11/site-packages/pymysql/connections.py\", line 487, in rollback\n",
      "    self._execute_command(COMMAND.COM_QUERY, \"ROLLBACK\")\n",
      "  File \"/opt/miniconda3/lib/python3.11/site-packages/pymysql/connections.py\", line 861, in _execute_command\n",
      "    self._write_bytes(packet)\n",
      "  File \"/opt/miniconda3/lib/python3.11/site-packages/pymysql/connections.py\", line 806, in _write_bytes\n",
      "    raise err.OperationalError(\n",
      "pymysql.err.OperationalError: (2006, \"MySQL server has gone away (ConnectionResetError(104, 'Connection reset by peer'))\")\n"
     ]
    }
   ],
   "source": [
    "query_COM=f\"select * from COM_Table where Dates>='{period1}' and Dates<='{period2}'\"\n",
    "data_COM=pd.read_sql(query_COM, conn)\n",
    "\n",
    "data_COM.set_index(['Dates','Symbol'], inplace=True)\n",
    "data_COM_nodup=data_COM.loc[~data_COM.index.duplicated(keep='last')].copy()\n",
    "\n",
    "query_SSC=f\"select * from SSC where Dates>='{period1}' and Dates<='{period2}'\"\n",
    "data_SSC=pd.read_sql(query_SSC, conn)\n",
    "\n",
    "data_SSC.set_index(['Dates','Symbol'], inplace=True)\n"
   ]
  },
  {
   "cell_type": "code",
   "execution_count": 171,
   "id": "b379dcfd-7fb4-48b5-a922-0a9d7bed0b26",
   "metadata": {
    "execution": {
     "iopub.execute_input": "2024-08-05T08:12:15.393867Z",
     "iopub.status.busy": "2024-08-05T08:12:15.393681Z",
     "iopub.status.idle": "2024-08-05T08:12:18.786078Z",
     "shell.execute_reply": "2024-08-05T08:12:18.784839Z",
     "shell.execute_reply.started": "2024-08-05T08:12:15.393850Z"
    },
    "tags": []
   },
   "outputs": [],
   "source": [
    "data_COM_nodup=data_COM.loc[~data_COM.index.duplicated(keep='last')].copy()"
   ]
  },
  {
   "cell_type": "code",
   "execution_count": 218,
   "id": "5013684a-1076-4862-a72b-0254c2bdf418",
   "metadata": {
    "execution": {
     "iopub.execute_input": "2024-08-05T08:22:22.083600Z",
     "iopub.status.busy": "2024-08-05T08:22:22.083064Z",
     "iopub.status.idle": "2024-08-05T08:24:05.283685Z",
     "shell.execute_reply": "2024-08-05T08:24:05.282458Z",
     "shell.execute_reply.started": "2024-08-05T08:22:22.083552Z"
    },
    "tags": []
   },
   "outputs": [],
   "source": [
    "query_SSC=f\"select * from SSC where Dates>='{period1}' and Dates<='{period2}'\"\n",
    "data_SSC=pd.read_sql(query_SSC, conn)"
   ]
  },
  {
   "cell_type": "code",
   "execution_count": 219,
   "id": "0c6dc32c-37d6-4c23-ac6f-05b2e6fa68ef",
   "metadata": {
    "execution": {
     "iopub.execute_input": "2024-08-05T08:24:05.285086Z",
     "iopub.status.busy": "2024-08-05T08:24:05.284901Z",
     "iopub.status.idle": "2024-08-05T08:24:05.594634Z",
     "shell.execute_reply": "2024-08-05T08:24:05.593803Z",
     "shell.execute_reply.started": "2024-08-05T08:24:05.285070Z"
    },
    "tags": []
   },
   "outputs": [],
   "source": [
    "data_SSC.set_index(['Dates','Symbol'], inplace=True)"
   ]
  },
  {
   "cell_type": "code",
   "execution_count": 225,
   "id": "56d66367-13fb-4cbe-ae50-cadaf27ee6f2",
   "metadata": {
    "execution": {
     "iopub.execute_input": "2024-08-05T08:38:39.513606Z",
     "iopub.status.busy": "2024-08-05T08:38:39.513081Z",
     "iopub.status.idle": "2024-08-05T08:38:42.658980Z",
     "shell.execute_reply": "2024-08-05T08:38:42.658041Z",
     "shell.execute_reply.started": "2024-08-05T08:38:39.513560Z"
    },
    "tags": []
   },
   "outputs": [],
   "source": [
    "data_SSC_nodup=data_SSC.loc[~data_SSC.index.duplicated(keep='last')].copy()"
   ]
  },
  {
   "cell_type": "code",
   "execution_count": 226,
   "id": "5ecce607-1d78-4fb1-b4ed-a2127d019e63",
   "metadata": {
    "execution": {
     "iopub.execute_input": "2024-08-05T08:38:42.660240Z",
     "iopub.status.busy": "2024-08-05T08:38:42.660053Z",
     "iopub.status.idle": "2024-08-05T08:38:42.665028Z",
     "shell.execute_reply": "2024-08-05T08:38:42.664360Z",
     "shell.execute_reply.started": "2024-08-05T08:38:42.660223Z"
    },
    "tags": []
   },
   "outputs": [
    {
     "data": {
      "text/plain": [
       "Index(['Name', 'MNGT', 'ClosePrc', 'OpenPrc', 'HighPrc', 'LowPrc', 'AdjPrc',\n",
       "       'AdjPrc2', 'AdjPrc_High_20D', 'AdjPrc_Low_20D', 'AdjPrc_High_60D',\n",
       "       'AdjPrc_Low_60D', 'AdjPrc_High_120D', 'AdjPrc_Low_120D',\n",
       "       'AdjPrc_High_52W', 'AdjPrc_Low_52W', 'ListedShares', 'ForeignStake',\n",
       "       'TradeStop', 'MktCap_Comm_Pref', 'MktCapCom', 'MktCap', 'Volume',\n",
       "       'Volume_Avg_20D', 'Volume_Avg_60D', 'Volume_Avg_120D', 'Volume_Avg_52W',\n",
       "       'Amt_Avg_20D', 'Amt_Avg_60D', 'Amt_Avg_120D', 'Amt_Avg_52W', 'Vol_20D',\n",
       "       'Vol_120D'],\n",
       "      dtype='object')"
      ]
     },
     "execution_count": 226,
     "metadata": {},
     "output_type": "execute_result"
    }
   ],
   "source": [
    "data_SSC.columns"
   ]
  },
  {
   "cell_type": "code",
   "execution_count": 227,
   "id": "d0300b09-fd92-44e8-adb3-294cec66d41a",
   "metadata": {
    "execution": {
     "iopub.execute_input": "2024-08-05T08:38:42.665696Z",
     "iopub.status.busy": "2024-08-05T08:38:42.665545Z",
     "iopub.status.idle": "2024-08-05T08:38:42.685772Z",
     "shell.execute_reply": "2024-08-05T08:38:42.684790Z",
     "shell.execute_reply.started": "2024-08-05T08:38:42.665682Z"
    },
    "tags": []
   },
   "outputs": [
    {
     "data": {
      "text/plain": [
       "Index(['Name', 'KC_Industry', 'FG_IndustryGroup27', 'FG_Sector_Idx',\n",
       "       'FG_IndustryGroup_Idx', 'FG_Industry_Idx', 'AuditOpinion', 'Caution',\n",
       "       'KSECapSize', 'KLCAIndustry', 'Market', 'KOSPI200YN', 'FiscalMonth',\n",
       "       'KOSPI100YN'],\n",
       "      dtype='object')"
      ]
     },
     "execution_count": 227,
     "metadata": {},
     "output_type": "execute_result"
    }
   ],
   "source": [
    "data_COM.columns"
   ]
  },
  {
   "cell_type": "code",
   "execution_count": 228,
   "id": "bbddbd32-f9e0-410a-9a5d-f9ff6f5ce6c7",
   "metadata": {
    "execution": {
     "iopub.execute_input": "2024-08-05T08:38:44.089464Z",
     "iopub.status.busy": "2024-08-05T08:38:44.088751Z",
     "iopub.status.idle": "2024-08-05T08:38:44.687091Z",
     "shell.execute_reply": "2024-08-05T08:38:44.685914Z",
     "shell.execute_reply.started": "2024-08-05T08:38:44.089415Z"
    },
    "tags": []
   },
   "outputs": [],
   "source": [
    "query_idx=f\"select * from krx_idx\"\n",
    "krx_idx=pd.read_sql(query_idx, conn)"
   ]
  },
  {
   "cell_type": "code",
   "execution_count": 229,
   "id": "aaeac900-55e2-4820-ab79-893497faab87",
   "metadata": {
    "execution": {
     "iopub.execute_input": "2024-08-05T08:38:44.688494Z",
     "iopub.status.busy": "2024-08-05T08:38:44.688268Z",
     "iopub.status.idle": "2024-08-05T08:38:44.693074Z",
     "shell.execute_reply": "2024-08-05T08:38:44.692319Z",
     "shell.execute_reply.started": "2024-08-05T08:38:44.688471Z"
    },
    "tags": []
   },
   "outputs": [],
   "source": [
    "krx_idx.set_index('Dates', inplace=True)"
   ]
  },
  {
   "cell_type": "code",
   "execution_count": null,
   "id": "d7bc9338-76c1-426a-8da0-8691293905fd",
   "metadata": {
    "tags": []
   },
   "outputs": [],
   "source": []
  },
  {
   "cell_type": "markdown",
   "id": "8da75ec0-d8e5-4782-8d6e-2c812d0476ba",
   "metadata": {},
   "source": [
    "# backtesting"
   ]
  },
  {
   "cell_type": "code",
   "execution_count": 230,
   "id": "21c17e2f-85c3-48b0-913d-c33b04f2c030",
   "metadata": {
    "execution": {
     "iopub.execute_input": "2024-08-05T08:38:48.169801Z",
     "iopub.status.busy": "2024-08-05T08:38:48.169218Z",
     "iopub.status.idle": "2024-08-05T08:38:48.477163Z",
     "shell.execute_reply": "2024-08-05T08:38:48.476057Z",
     "shell.execute_reply.started": "2024-08-05T08:38:48.169750Z"
    },
    "tags": []
   },
   "outputs": [],
   "source": [
    "adjprc=data_SSC_nodup['AdjPrc'].unstack()\n",
    "adjprc=adjprc.astype(float)"
   ]
  },
  {
   "cell_type": "code",
   "execution_count": 231,
   "id": "d74435b3-c48a-44a2-ab03-d55c6d7e88d4",
   "metadata": {
    "execution": {
     "iopub.execute_input": "2024-08-05T08:38:48.478593Z",
     "iopub.status.busy": "2024-08-05T08:38:48.478366Z",
     "iopub.status.idle": "2024-08-05T08:38:48.489406Z",
     "shell.execute_reply": "2024-08-05T08:38:48.488435Z",
     "shell.execute_reply.started": "2024-08-05T08:38:48.478571Z"
    },
    "tags": []
   },
   "outputs": [],
   "source": [
    "data_path='../data/output/prob_out/'\n",
    "# file_name='multilayer_factor_rolling_v1.0_2024-03-29_ver0.1.csv'\n",
    "# file_name='prob_res_2014-01-29_2024-02-29_ver0.1.csv'\n",
    "# file_name='prob_res_2014-01-29_2024-05-31_ver0.1.csv'\n",
    "file_name='prob_res_2014-01-29_2024-07-31_ver0.1.csv'\n",
    "# hyungshin.lee/data/output/prob_out/prob_res_2013-01-25_2023-08-31.csv\n",
    "raw_prob=pd.read_csv(data_path+file_name, index_col=0)\n",
    "\n",
    "# mlq_w=pd.read_excel(data_path + 'monthly_port.xlsx', index_col=0)"
   ]
  },
  {
   "cell_type": "code",
   "execution_count": 232,
   "id": "053c934d-7d91-4a4f-8bfb-4dd64b78d242",
   "metadata": {
    "execution": {
     "iopub.execute_input": "2024-08-05T08:38:48.564525Z",
     "iopub.status.busy": "2024-08-05T08:38:48.563774Z",
     "iopub.status.idle": "2024-08-05T08:38:48.572164Z",
     "shell.execute_reply": "2024-08-05T08:38:48.571140Z",
     "shell.execute_reply.started": "2024-08-05T08:38:48.564478Z"
    },
    "scrolled": true
   },
   "outputs": [
    {
     "data": {
      "text/plain": [
       "Index(['2024-05-10', '2024-05-17', '2024-05-24', '2024-05-31', '2024-06-07',\n",
       "       '2024-06-14', '2024-06-21', '2024-06-28', '2024-07-05', '2024-07-12',\n",
       "       '2024-07-19', '2024-07-26', '2024-07-31'],\n",
       "      dtype='object', name='Dates')"
      ]
     },
     "execution_count": 232,
     "metadata": {},
     "output_type": "execute_result"
    }
   ],
   "source": [
    "raw_prob.index"
   ]
  },
  {
   "cell_type": "code",
   "execution_count": 233,
   "id": "2f7471b2-968a-4965-9690-3f4274525c63",
   "metadata": {
    "execution": {
     "iopub.execute_input": "2024-08-05T08:38:49.121994Z",
     "iopub.status.busy": "2024-08-05T08:38:49.121494Z",
     "iopub.status.idle": "2024-08-05T08:38:49.161923Z",
     "shell.execute_reply": "2024-08-05T08:38:49.160951Z",
     "shell.execute_reply.started": "2024-08-05T08:38:49.121948Z"
    },
    "scrolled": true,
    "tags": []
   },
   "outputs": [
    {
     "data": {
      "text/html": [
       "<div>\n",
       "<style scoped>\n",
       "    .dataframe tbody tr th:only-of-type {\n",
       "        vertical-align: middle;\n",
       "    }\n",
       "\n",
       "    .dataframe tbody tr th {\n",
       "        vertical-align: top;\n",
       "    }\n",
       "\n",
       "    .dataframe thead th {\n",
       "        text-align: right;\n",
       "    }\n",
       "</style>\n",
       "<table border=\"1\" class=\"dataframe\">\n",
       "  <thead>\n",
       "    <tr style=\"text-align: right;\">\n",
       "      <th></th>\n",
       "      <th>A000080</th>\n",
       "      <th>A000100</th>\n",
       "      <th>A000120</th>\n",
       "      <th>A000150</th>\n",
       "      <th>A000210</th>\n",
       "      <th>A000240</th>\n",
       "      <th>A000270</th>\n",
       "      <th>A000660</th>\n",
       "      <th>A000670</th>\n",
       "      <th>A000720</th>\n",
       "      <th>...</th>\n",
       "      <th>A383220</th>\n",
       "      <th>A402340</th>\n",
       "      <th>A022100</th>\n",
       "      <th>A450080</th>\n",
       "      <th>A003030</th>\n",
       "      <th>A005070</th>\n",
       "      <th>A042700</th>\n",
       "      <th>A066970</th>\n",
       "      <th>A454910</th>\n",
       "      <th>A457190</th>\n",
       "    </tr>\n",
       "    <tr>\n",
       "      <th>Dates</th>\n",
       "      <th></th>\n",
       "      <th></th>\n",
       "      <th></th>\n",
       "      <th></th>\n",
       "      <th></th>\n",
       "      <th></th>\n",
       "      <th></th>\n",
       "      <th></th>\n",
       "      <th></th>\n",
       "      <th></th>\n",
       "      <th></th>\n",
       "      <th></th>\n",
       "      <th></th>\n",
       "      <th></th>\n",
       "      <th></th>\n",
       "      <th></th>\n",
       "      <th></th>\n",
       "      <th></th>\n",
       "      <th></th>\n",
       "      <th></th>\n",
       "      <th></th>\n",
       "    </tr>\n",
       "  </thead>\n",
       "  <tbody>\n",
       "    <tr>\n",
       "      <th>2024-05-10</th>\n",
       "      <td>0.027426</td>\n",
       "      <td>0.026696</td>\n",
       "      <td>0.018369</td>\n",
       "      <td>0.017833</td>\n",
       "      <td>0.016739</td>\n",
       "      <td>0.026566</td>\n",
       "      <td>0.020192</td>\n",
       "      <td>0.023206</td>\n",
       "      <td>0.011626</td>\n",
       "      <td>0.016345</td>\n",
       "      <td>...</td>\n",
       "      <td>0.019404</td>\n",
       "      <td>0.027014</td>\n",
       "      <td>NaN</td>\n",
       "      <td>NaN</td>\n",
       "      <td>NaN</td>\n",
       "      <td>NaN</td>\n",
       "      <td>NaN</td>\n",
       "      <td>NaN</td>\n",
       "      <td>NaN</td>\n",
       "      <td>NaN</td>\n",
       "    </tr>\n",
       "    <tr>\n",
       "      <th>2024-05-17</th>\n",
       "      <td>0.025077</td>\n",
       "      <td>0.026899</td>\n",
       "      <td>0.018660</td>\n",
       "      <td>0.017638</td>\n",
       "      <td>0.018429</td>\n",
       "      <td>0.029682</td>\n",
       "      <td>0.020867</td>\n",
       "      <td>0.000604</td>\n",
       "      <td>0.010981</td>\n",
       "      <td>0.016240</td>\n",
       "      <td>...</td>\n",
       "      <td>0.018148</td>\n",
       "      <td>0.025116</td>\n",
       "      <td>0.026251</td>\n",
       "      <td>0.036338</td>\n",
       "      <td>NaN</td>\n",
       "      <td>NaN</td>\n",
       "      <td>NaN</td>\n",
       "      <td>NaN</td>\n",
       "      <td>NaN</td>\n",
       "      <td>NaN</td>\n",
       "    </tr>\n",
       "    <tr>\n",
       "      <th>2024-05-24</th>\n",
       "      <td>0.026539</td>\n",
       "      <td>0.028090</td>\n",
       "      <td>0.018898</td>\n",
       "      <td>0.018605</td>\n",
       "      <td>0.019873</td>\n",
       "      <td>0.030185</td>\n",
       "      <td>0.022260</td>\n",
       "      <td>0.019501</td>\n",
       "      <td>0.010119</td>\n",
       "      <td>0.015459</td>\n",
       "      <td>...</td>\n",
       "      <td>0.018124</td>\n",
       "      <td>0.025711</td>\n",
       "      <td>0.025986</td>\n",
       "      <td>0.042304</td>\n",
       "      <td>NaN</td>\n",
       "      <td>NaN</td>\n",
       "      <td>NaN</td>\n",
       "      <td>NaN</td>\n",
       "      <td>NaN</td>\n",
       "      <td>NaN</td>\n",
       "    </tr>\n",
       "    <tr>\n",
       "      <th>2024-05-31</th>\n",
       "      <td>0.027029</td>\n",
       "      <td>0.029641</td>\n",
       "      <td>0.018603</td>\n",
       "      <td>0.019014</td>\n",
       "      <td>0.020647</td>\n",
       "      <td>0.030371</td>\n",
       "      <td>0.022214</td>\n",
       "      <td>0.031885</td>\n",
       "      <td>0.011123</td>\n",
       "      <td>0.014437</td>\n",
       "      <td>...</td>\n",
       "      <td>0.021114</td>\n",
       "      <td>0.026917</td>\n",
       "      <td>0.026060</td>\n",
       "      <td>0.046578</td>\n",
       "      <td>NaN</td>\n",
       "      <td>NaN</td>\n",
       "      <td>NaN</td>\n",
       "      <td>NaN</td>\n",
       "      <td>NaN</td>\n",
       "      <td>NaN</td>\n",
       "    </tr>\n",
       "    <tr>\n",
       "      <th>2024-06-07</th>\n",
       "      <td>0.025978</td>\n",
       "      <td>0.022174</td>\n",
       "      <td>0.023212</td>\n",
       "      <td>0.020695</td>\n",
       "      <td>0.022880</td>\n",
       "      <td>0.026981</td>\n",
       "      <td>0.022404</td>\n",
       "      <td>0.009432</td>\n",
       "      <td>0.019328</td>\n",
       "      <td>0.022766</td>\n",
       "      <td>...</td>\n",
       "      <td>0.026413</td>\n",
       "      <td>0.020079</td>\n",
       "      <td>0.020795</td>\n",
       "      <td>0.024976</td>\n",
       "      <td>NaN</td>\n",
       "      <td>NaN</td>\n",
       "      <td>NaN</td>\n",
       "      <td>NaN</td>\n",
       "      <td>NaN</td>\n",
       "      <td>NaN</td>\n",
       "    </tr>\n",
       "    <tr>\n",
       "      <th>2024-06-14</th>\n",
       "      <td>0.025082</td>\n",
       "      <td>0.023015</td>\n",
       "      <td>0.023704</td>\n",
       "      <td>0.020739</td>\n",
       "      <td>0.023102</td>\n",
       "      <td>0.026480</td>\n",
       "      <td>0.024002</td>\n",
       "      <td>0.011918</td>\n",
       "      <td>0.019382</td>\n",
       "      <td>0.023199</td>\n",
       "      <td>...</td>\n",
       "      <td>0.026297</td>\n",
       "      <td>0.021047</td>\n",
       "      <td>0.023864</td>\n",
       "      <td>0.026133</td>\n",
       "      <td>0.027117</td>\n",
       "      <td>0.024318</td>\n",
       "      <td>0.012865</td>\n",
       "      <td>0.022284</td>\n",
       "      <td>0.023982</td>\n",
       "      <td>0.027788</td>\n",
       "    </tr>\n",
       "    <tr>\n",
       "      <th>2024-06-21</th>\n",
       "      <td>0.024374</td>\n",
       "      <td>0.023943</td>\n",
       "      <td>0.023902</td>\n",
       "      <td>0.020629</td>\n",
       "      <td>0.023493</td>\n",
       "      <td>0.025932</td>\n",
       "      <td>0.025581</td>\n",
       "      <td>0.012839</td>\n",
       "      <td>0.019621</td>\n",
       "      <td>0.023605</td>\n",
       "      <td>...</td>\n",
       "      <td>0.026003</td>\n",
       "      <td>0.020613</td>\n",
       "      <td>0.024653</td>\n",
       "      <td>0.023798</td>\n",
       "      <td>0.027266</td>\n",
       "      <td>0.024689</td>\n",
       "      <td>0.012418</td>\n",
       "      <td>0.022694</td>\n",
       "      <td>0.023427</td>\n",
       "      <td>0.028237</td>\n",
       "    </tr>\n",
       "    <tr>\n",
       "      <th>2024-06-28</th>\n",
       "      <td>0.023661</td>\n",
       "      <td>0.024020</td>\n",
       "      <td>0.023773</td>\n",
       "      <td>0.020354</td>\n",
       "      <td>0.023851</td>\n",
       "      <td>0.025406</td>\n",
       "      <td>0.026870</td>\n",
       "      <td>0.014966</td>\n",
       "      <td>0.019192</td>\n",
       "      <td>0.025152</td>\n",
       "      <td>...</td>\n",
       "      <td>0.025999</td>\n",
       "      <td>0.020751</td>\n",
       "      <td>0.025603</td>\n",
       "      <td>0.023209</td>\n",
       "      <td>0.027755</td>\n",
       "      <td>0.024922</td>\n",
       "      <td>0.012789</td>\n",
       "      <td>NaN</td>\n",
       "      <td>0.023608</td>\n",
       "      <td>0.027408</td>\n",
       "    </tr>\n",
       "    <tr>\n",
       "      <th>2024-07-05</th>\n",
       "      <td>0.006214</td>\n",
       "      <td>0.005322</td>\n",
       "      <td>0.005287</td>\n",
       "      <td>0.004068</td>\n",
       "      <td>0.004957</td>\n",
       "      <td>0.006045</td>\n",
       "      <td>0.004565</td>\n",
       "      <td>0.001342</td>\n",
       "      <td>0.004995</td>\n",
       "      <td>0.005913</td>\n",
       "      <td>...</td>\n",
       "      <td>0.007536</td>\n",
       "      <td>0.002573</td>\n",
       "      <td>0.005461</td>\n",
       "      <td>0.003505</td>\n",
       "      <td>0.007867</td>\n",
       "      <td>0.005718</td>\n",
       "      <td>0.000858</td>\n",
       "      <td>0.008106</td>\n",
       "      <td>0.005251</td>\n",
       "      <td>0.009344</td>\n",
       "    </tr>\n",
       "    <tr>\n",
       "      <th>2024-07-12</th>\n",
       "      <td>0.006107</td>\n",
       "      <td>0.005385</td>\n",
       "      <td>0.005430</td>\n",
       "      <td>0.003620</td>\n",
       "      <td>0.005057</td>\n",
       "      <td>0.006215</td>\n",
       "      <td>0.005005</td>\n",
       "      <td>0.001658</td>\n",
       "      <td>0.005291</td>\n",
       "      <td>0.005976</td>\n",
       "      <td>...</td>\n",
       "      <td>0.007660</td>\n",
       "      <td>0.002653</td>\n",
       "      <td>0.005067</td>\n",
       "      <td>0.005086</td>\n",
       "      <td>0.008386</td>\n",
       "      <td>0.005811</td>\n",
       "      <td>0.001247</td>\n",
       "      <td>0.008040</td>\n",
       "      <td>0.005207</td>\n",
       "      <td>0.009700</td>\n",
       "    </tr>\n",
       "    <tr>\n",
       "      <th>2024-07-19</th>\n",
       "      <td>0.006057</td>\n",
       "      <td>0.004739</td>\n",
       "      <td>0.005403</td>\n",
       "      <td>0.003756</td>\n",
       "      <td>0.004836</td>\n",
       "      <td>0.006517</td>\n",
       "      <td>0.005985</td>\n",
       "      <td>0.002122</td>\n",
       "      <td>0.004984</td>\n",
       "      <td>0.005750</td>\n",
       "      <td>...</td>\n",
       "      <td>0.008170</td>\n",
       "      <td>0.002670</td>\n",
       "      <td>0.005330</td>\n",
       "      <td>0.005521</td>\n",
       "      <td>0.007905</td>\n",
       "      <td>0.006134</td>\n",
       "      <td>0.002053</td>\n",
       "      <td>0.007659</td>\n",
       "      <td>0.004664</td>\n",
       "      <td>0.009530</td>\n",
       "    </tr>\n",
       "    <tr>\n",
       "      <th>2024-07-26</th>\n",
       "      <td>0.005982</td>\n",
       "      <td>0.004695</td>\n",
       "      <td>0.005407</td>\n",
       "      <td>0.004512</td>\n",
       "      <td>0.004674</td>\n",
       "      <td>0.005609</td>\n",
       "      <td>0.005583</td>\n",
       "      <td>0.001865</td>\n",
       "      <td>0.004944</td>\n",
       "      <td>0.005507</td>\n",
       "      <td>...</td>\n",
       "      <td>0.007984</td>\n",
       "      <td>0.002633</td>\n",
       "      <td>0.006978</td>\n",
       "      <td>0.005823</td>\n",
       "      <td>0.008192</td>\n",
       "      <td>0.006613</td>\n",
       "      <td>0.002066</td>\n",
       "      <td>0.008167</td>\n",
       "      <td>0.004482</td>\n",
       "      <td>0.009416</td>\n",
       "    </tr>\n",
       "    <tr>\n",
       "      <th>2024-07-31</th>\n",
       "      <td>0.006293</td>\n",
       "      <td>0.004334</td>\n",
       "      <td>0.005600</td>\n",
       "      <td>0.003957</td>\n",
       "      <td>0.004866</td>\n",
       "      <td>0.005699</td>\n",
       "      <td>0.005620</td>\n",
       "      <td>0.001705</td>\n",
       "      <td>0.005087</td>\n",
       "      <td>0.005516</td>\n",
       "      <td>...</td>\n",
       "      <td>0.008983</td>\n",
       "      <td>0.002856</td>\n",
       "      <td>0.007396</td>\n",
       "      <td>0.006572</td>\n",
       "      <td>0.008381</td>\n",
       "      <td>0.006860</td>\n",
       "      <td>0.003004</td>\n",
       "      <td>0.007891</td>\n",
       "      <td>0.004634</td>\n",
       "      <td>0.009738</td>\n",
       "    </tr>\n",
       "  </tbody>\n",
       "</table>\n",
       "<p>13 rows × 206 columns</p>\n",
       "</div>"
      ],
      "text/plain": [
       "             A000080   A000100   A000120   A000150   A000210   A000240  \\\n",
       "Dates                                                                    \n",
       "2024-05-10  0.027426  0.026696  0.018369  0.017833  0.016739  0.026566   \n",
       "2024-05-17  0.025077  0.026899  0.018660  0.017638  0.018429  0.029682   \n",
       "2024-05-24  0.026539  0.028090  0.018898  0.018605  0.019873  0.030185   \n",
       "2024-05-31  0.027029  0.029641  0.018603  0.019014  0.020647  0.030371   \n",
       "2024-06-07  0.025978  0.022174  0.023212  0.020695  0.022880  0.026981   \n",
       "2024-06-14  0.025082  0.023015  0.023704  0.020739  0.023102  0.026480   \n",
       "2024-06-21  0.024374  0.023943  0.023902  0.020629  0.023493  0.025932   \n",
       "2024-06-28  0.023661  0.024020  0.023773  0.020354  0.023851  0.025406   \n",
       "2024-07-05  0.006214  0.005322  0.005287  0.004068  0.004957  0.006045   \n",
       "2024-07-12  0.006107  0.005385  0.005430  0.003620  0.005057  0.006215   \n",
       "2024-07-19  0.006057  0.004739  0.005403  0.003756  0.004836  0.006517   \n",
       "2024-07-26  0.005982  0.004695  0.005407  0.004512  0.004674  0.005609   \n",
       "2024-07-31  0.006293  0.004334  0.005600  0.003957  0.004866  0.005699   \n",
       "\n",
       "             A000270   A000660   A000670   A000720  ...   A383220   A402340  \\\n",
       "Dates                                               ...                       \n",
       "2024-05-10  0.020192  0.023206  0.011626  0.016345  ...  0.019404  0.027014   \n",
       "2024-05-17  0.020867  0.000604  0.010981  0.016240  ...  0.018148  0.025116   \n",
       "2024-05-24  0.022260  0.019501  0.010119  0.015459  ...  0.018124  0.025711   \n",
       "2024-05-31  0.022214  0.031885  0.011123  0.014437  ...  0.021114  0.026917   \n",
       "2024-06-07  0.022404  0.009432  0.019328  0.022766  ...  0.026413  0.020079   \n",
       "2024-06-14  0.024002  0.011918  0.019382  0.023199  ...  0.026297  0.021047   \n",
       "2024-06-21  0.025581  0.012839  0.019621  0.023605  ...  0.026003  0.020613   \n",
       "2024-06-28  0.026870  0.014966  0.019192  0.025152  ...  0.025999  0.020751   \n",
       "2024-07-05  0.004565  0.001342  0.004995  0.005913  ...  0.007536  0.002573   \n",
       "2024-07-12  0.005005  0.001658  0.005291  0.005976  ...  0.007660  0.002653   \n",
       "2024-07-19  0.005985  0.002122  0.004984  0.005750  ...  0.008170  0.002670   \n",
       "2024-07-26  0.005583  0.001865  0.004944  0.005507  ...  0.007984  0.002633   \n",
       "2024-07-31  0.005620  0.001705  0.005087  0.005516  ...  0.008983  0.002856   \n",
       "\n",
       "             A022100   A450080   A003030   A005070   A042700   A066970  \\\n",
       "Dates                                                                    \n",
       "2024-05-10       NaN       NaN       NaN       NaN       NaN       NaN   \n",
       "2024-05-17  0.026251  0.036338       NaN       NaN       NaN       NaN   \n",
       "2024-05-24  0.025986  0.042304       NaN       NaN       NaN       NaN   \n",
       "2024-05-31  0.026060  0.046578       NaN       NaN       NaN       NaN   \n",
       "2024-06-07  0.020795  0.024976       NaN       NaN       NaN       NaN   \n",
       "2024-06-14  0.023864  0.026133  0.027117  0.024318  0.012865  0.022284   \n",
       "2024-06-21  0.024653  0.023798  0.027266  0.024689  0.012418  0.022694   \n",
       "2024-06-28  0.025603  0.023209  0.027755  0.024922  0.012789       NaN   \n",
       "2024-07-05  0.005461  0.003505  0.007867  0.005718  0.000858  0.008106   \n",
       "2024-07-12  0.005067  0.005086  0.008386  0.005811  0.001247  0.008040   \n",
       "2024-07-19  0.005330  0.005521  0.007905  0.006134  0.002053  0.007659   \n",
       "2024-07-26  0.006978  0.005823  0.008192  0.006613  0.002066  0.008167   \n",
       "2024-07-31  0.007396  0.006572  0.008381  0.006860  0.003004  0.007891   \n",
       "\n",
       "             A454910   A457190  \n",
       "Dates                           \n",
       "2024-05-10       NaN       NaN  \n",
       "2024-05-17       NaN       NaN  \n",
       "2024-05-24       NaN       NaN  \n",
       "2024-05-31       NaN       NaN  \n",
       "2024-06-07       NaN       NaN  \n",
       "2024-06-14  0.023982  0.027788  \n",
       "2024-06-21  0.023427  0.028237  \n",
       "2024-06-28  0.023608  0.027408  \n",
       "2024-07-05  0.005251  0.009344  \n",
       "2024-07-12  0.005207  0.009700  \n",
       "2024-07-19  0.004664  0.009530  \n",
       "2024-07-26  0.004482  0.009416  \n",
       "2024-07-31  0.004634  0.009738  \n",
       "\n",
       "[13 rows x 206 columns]"
      ]
     },
     "execution_count": 233,
     "metadata": {},
     "output_type": "execute_result"
    }
   ],
   "source": [
    "raw_prob"
   ]
  },
  {
   "cell_type": "code",
   "execution_count": 234,
   "id": "e960714b-b1d7-4531-b1b9-794daa34ec8b",
   "metadata": {
    "execution": {
     "iopub.execute_input": "2024-08-05T08:38:49.294053Z",
     "iopub.status.busy": "2024-08-05T08:38:49.293600Z",
     "iopub.status.idle": "2024-08-05T08:38:49.298680Z",
     "shell.execute_reply": "2024-08-05T08:38:49.297631Z",
     "shell.execute_reply.started": "2024-08-05T08:38:49.294010Z"
    },
    "tags": []
   },
   "outputs": [],
   "source": [
    "# raw_prob.reset_index(inplace=True)\n",
    "# raw_prob.set_index(['Dates', 'Symbol'], inplace=True)\n",
    "# raw_prob=raw_prob.unstack()\n",
    "# raw_prob.columns=raw_prob.columns.get_level_values(1)"
   ]
  },
  {
   "cell_type": "code",
   "execution_count": null,
   "id": "240bf91d-aa8f-4de9-b106-f026fb1468f1",
   "metadata": {
    "tags": []
   },
   "outputs": [],
   "source": []
  },
  {
   "cell_type": "code",
   "execution_count": null,
   "id": "e3595034-3509-4168-bf83-9d44b422f8d4",
   "metadata": {
    "tags": []
   },
   "outputs": [],
   "source": []
  },
  {
   "cell_type": "code",
   "execution_count": 185,
   "id": "49556e0f-47a7-4a00-97ca-b5482479c7f1",
   "metadata": {
    "execution": {
     "iopub.execute_input": "2024-08-05T08:16:03.830987Z",
     "iopub.status.busy": "2024-08-05T08:16:03.830439Z",
     "iopub.status.idle": "2024-08-05T08:16:03.838749Z",
     "shell.execute_reply": "2024-08-05T08:16:03.837369Z",
     "shell.execute_reply.started": "2024-08-05T08:16:03.830940Z"
    },
    "tags": []
   },
   "outputs": [],
   "source": [
    "raw_prob.index = pd.to_datetime(raw_prob.index)"
   ]
  },
  {
   "cell_type": "code",
   "execution_count": 189,
   "id": "22ec18f0-7496-4d12-979b-20a319a14065",
   "metadata": {
    "execution": {
     "iopub.execute_input": "2024-08-05T08:16:10.477233Z",
     "iopub.status.busy": "2024-08-05T08:16:10.476572Z",
     "iopub.status.idle": "2024-08-05T08:16:10.482010Z",
     "shell.execute_reply": "2024-08-05T08:16:10.480938Z",
     "shell.execute_reply.started": "2024-08-05T08:16:10.477185Z"
    },
    "tags": []
   },
   "outputs": [],
   "source": [
    "# use existing weight with shift1"
   ]
  },
  {
   "cell_type": "code",
   "execution_count": 190,
   "id": "4bbfa77b-d347-4b12-af86-fe816f239243",
   "metadata": {
    "execution": {
     "iopub.execute_input": "2024-08-05T08:16:10.664394Z",
     "iopub.status.busy": "2024-08-05T08:16:10.663747Z",
     "iopub.status.idle": "2024-08-05T08:16:10.669761Z",
     "shell.execute_reply": "2024-08-05T08:16:10.668643Z",
     "shell.execute_reply.started": "2024-08-05T08:16:10.664350Z"
    },
    "tags": []
   },
   "outputs": [],
   "source": [
    "from sklearn.preprocessing import StandardScaler, MinMaxScaler"
   ]
  },
  {
   "cell_type": "code",
   "execution_count": 191,
   "id": "d37047a5-6fc0-44ab-b433-d0b14e4e3147",
   "metadata": {
    "execution": {
     "iopub.execute_input": "2024-08-05T08:16:10.835103Z",
     "iopub.status.busy": "2024-08-05T08:16:10.834423Z",
     "iopub.status.idle": "2024-08-05T08:16:10.845349Z",
     "shell.execute_reply": "2024-08-05T08:16:10.844065Z",
     "shell.execute_reply.started": "2024-08-05T08:16:10.835055Z"
    },
    "tags": []
   },
   "outputs": [],
   "source": [
    "scaler = StandardScaler()\n",
    "tempw = scaler.fit_transform(raw_prob.iloc[0].dropna().values.reshape(-1, 1))\n",
    "temp_w = pd.DataFrame(tempw, index = raw_prob.iloc[0].dropna().index)"
   ]
  },
  {
   "cell_type": "code",
   "execution_count": 192,
   "id": "dad7e613-5e15-469c-948f-314b8097e18b",
   "metadata": {
    "execution": {
     "iopub.execute_input": "2024-08-05T08:16:11.006623Z",
     "iopub.status.busy": "2024-08-05T08:16:11.006139Z",
     "iopub.status.idle": "2024-08-05T08:16:11.013856Z",
     "shell.execute_reply": "2024-08-05T08:16:11.012726Z",
     "shell.execute_reply.started": "2024-08-05T08:16:11.006578Z"
    },
    "tags": []
   },
   "outputs": [],
   "source": [
    "temp_w=temp_w/abs(temp_w).sum()"
   ]
  },
  {
   "cell_type": "code",
   "execution_count": 193,
   "id": "6a850653-48df-4fbe-8343-0a41c5c5e497",
   "metadata": {
    "execution": {
     "iopub.execute_input": "2024-08-05T08:16:12.715775Z",
     "iopub.status.busy": "2024-08-05T08:16:12.715256Z",
     "iopub.status.idle": "2024-08-05T08:16:12.729840Z",
     "shell.execute_reply": "2024-08-05T08:16:12.728802Z",
     "shell.execute_reply.started": "2024-08-05T08:16:12.715732Z"
    },
    "tags": []
   },
   "outputs": [
    {
     "data": {
      "text/html": [
       "<div>\n",
       "<style scoped>\n",
       "    .dataframe tbody tr th:only-of-type {\n",
       "        vertical-align: middle;\n",
       "    }\n",
       "\n",
       "    .dataframe tbody tr th {\n",
       "        vertical-align: top;\n",
       "    }\n",
       "\n",
       "    .dataframe thead th {\n",
       "        text-align: right;\n",
       "    }\n",
       "</style>\n",
       "<table border=\"1\" class=\"dataframe\">\n",
       "  <thead>\n",
       "    <tr style=\"text-align: right;\">\n",
       "      <th></th>\n",
       "      <th>0</th>\n",
       "    </tr>\n",
       "  </thead>\n",
       "  <tbody>\n",
       "    <tr>\n",
       "      <th>A000080</th>\n",
       "      <td>0.002755</td>\n",
       "    </tr>\n",
       "    <tr>\n",
       "      <th>A000100</th>\n",
       "      <td>0.002194</td>\n",
       "    </tr>\n",
       "    <tr>\n",
       "      <th>A000120</th>\n",
       "      <td>-0.004210</td>\n",
       "    </tr>\n",
       "    <tr>\n",
       "      <th>A000150</th>\n",
       "      <td>-0.004622</td>\n",
       "    </tr>\n",
       "    <tr>\n",
       "      <th>A000210</th>\n",
       "      <td>-0.005464</td>\n",
       "    </tr>\n",
       "    <tr>\n",
       "      <th>...</th>\n",
       "      <td>...</td>\n",
       "    </tr>\n",
       "    <tr>\n",
       "      <th>A373220</th>\n",
       "      <td>0.013069</td>\n",
       "    </tr>\n",
       "    <tr>\n",
       "      <th>A375500</th>\n",
       "      <td>-0.005952</td>\n",
       "    </tr>\n",
       "    <tr>\n",
       "      <th>A377300</th>\n",
       "      <td>0.007309</td>\n",
       "    </tr>\n",
       "    <tr>\n",
       "      <th>A383220</th>\n",
       "      <td>-0.003414</td>\n",
       "    </tr>\n",
       "    <tr>\n",
       "      <th>A402340</th>\n",
       "      <td>0.002438</td>\n",
       "    </tr>\n",
       "  </tbody>\n",
       "</table>\n",
       "<p>198 rows × 1 columns</p>\n",
       "</div>"
      ],
      "text/plain": [
       "                0\n",
       "A000080  0.002755\n",
       "A000100  0.002194\n",
       "A000120 -0.004210\n",
       "A000150 -0.004622\n",
       "A000210 -0.005464\n",
       "...           ...\n",
       "A373220  0.013069\n",
       "A375500 -0.005952\n",
       "A377300  0.007309\n",
       "A383220 -0.003414\n",
       "A402340  0.002438\n",
       "\n",
       "[198 rows x 1 columns]"
      ]
     },
     "execution_count": 193,
     "metadata": {},
     "output_type": "execute_result"
    }
   ],
   "source": [
    "temp_w"
   ]
  },
  {
   "cell_type": "code",
   "execution_count": 194,
   "id": "d19fd378-b9ac-4d69-9cb6-7aab1245d1e0",
   "metadata": {
    "execution": {
     "iopub.execute_input": "2024-08-05T08:16:14.813002Z",
     "iopub.status.busy": "2024-08-05T08:16:14.812442Z",
     "iopub.status.idle": "2024-08-05T08:16:14.825067Z",
     "shell.execute_reply": "2024-08-05T08:16:14.824006Z",
     "shell.execute_reply.started": "2024-08-05T08:16:14.812957Z"
    }
   },
   "outputs": [
    {
     "data": {
      "text/plain": [
       "A005930    0.000157\n",
       "A267260    0.000513\n",
       "A003230    0.001475\n",
       "A000660    0.001705\n",
       "A012450    0.001871\n",
       "             ...   \n",
       "A004170    0.008944\n",
       "A383220    0.008983\n",
       "A377300    0.009027\n",
       "A457190    0.009738\n",
       "A111770    0.009896\n",
       "Name: 2024-07-31 00:00:00, Length: 200, dtype: float64"
      ]
     },
     "execution_count": 194,
     "metadata": {},
     "output_type": "execute_result"
    }
   ],
   "source": [
    "raw_prob.iloc[-1].sort_values().dropna()"
   ]
  },
  {
   "cell_type": "code",
   "execution_count": null,
   "id": "8fe650db-7c01-47dd-a54b-d614aa486f97",
   "metadata": {},
   "outputs": [],
   "source": []
  },
  {
   "cell_type": "code",
   "execution_count": 195,
   "id": "55531f1f-409c-4bf6-81c1-4c82f321a6b6",
   "metadata": {
    "execution": {
     "iopub.execute_input": "2024-08-05T08:16:15.755195Z",
     "iopub.status.busy": "2024-08-05T08:16:15.754610Z",
     "iopub.status.idle": "2024-08-05T08:16:15.869204Z",
     "shell.execute_reply": "2024-08-05T08:16:15.868178Z",
     "shell.execute_reply.started": "2024-08-05T08:16:15.755147Z"
    },
    "tags": []
   },
   "outputs": [],
   "source": [
    "ls_weight_ls = []\n",
    "len_ls = []\n",
    "for i in range(len(raw_prob.index)):\n",
    "    scaler = StandardScaler()\n",
    "    tempw = scaler.fit_transform(raw_prob.iloc[i].dropna().values.reshape(-1, 1))\n",
    "    temp_w = pd.DataFrame(tempw, index = raw_prob.iloc[i].dropna().index)\n",
    "    \n",
    "    # remove top bottom +/- 2stdev\n",
    "    temp_w[temp_w>(temp_w.mean()+2*temp_w.std())]=2\n",
    "    temp_w[temp_w<(temp_w.mean()-2*temp_w.std())]=-2\n",
    "\n",
    "    # remove in the middle\n",
    "    # temp_w[(temp_w<temp_w.mean()+temp_w.std()) & (temp_w>temp_w.mean()-temp_w.std())]=0\n",
    "    \n",
    "    temp_w=temp_w/abs(temp_w).sum()\n",
    "    len_ls.append(len(temp_w[temp_w>0].dropna()))\n",
    "    ls_weight_ls.append(temp_w)\n",
    "    "
   ]
  },
  {
   "cell_type": "code",
   "execution_count": null,
   "id": "3ef3c65a-9827-4f5b-9259-0d363a31dbd5",
   "metadata": {
    "tags": []
   },
   "outputs": [],
   "source": []
  },
  {
   "cell_type": "code",
   "execution_count": 197,
   "id": "13b226d4-bfde-4135-9d71-71e66a8cbbbe",
   "metadata": {
    "execution": {
     "iopub.execute_input": "2024-08-05T08:16:24.068850Z",
     "iopub.status.busy": "2024-08-05T08:16:24.067911Z",
     "iopub.status.idle": "2024-08-05T08:16:24.079931Z",
     "shell.execute_reply": "2024-08-05T08:16:24.078871Z",
     "shell.execute_reply.started": "2024-08-05T08:16:24.068803Z"
    },
    "tags": []
   },
   "outputs": [],
   "source": [
    "ls_w=pd.concat(ls_weight_ls, axis=1).T\n",
    "ls_w.index=raw_prob.index"
   ]
  },
  {
   "cell_type": "code",
   "execution_count": 40,
   "id": "fa01b0f6-cc3e-400e-b460-a2164da9f812",
   "metadata": {
    "execution": {
     "iopub.execute_input": "2024-07-03T23:17:47.242663Z",
     "iopub.status.busy": "2024-07-03T23:17:47.242507Z",
     "iopub.status.idle": "2024-07-03T23:17:47.246274Z",
     "shell.execute_reply": "2024-07-03T23:17:47.245637Z",
     "shell.execute_reply.started": "2024-07-03T23:17:47.242649Z"
    },
    "tags": []
   },
   "outputs": [],
   "source": [
    "temp_ls_w=ls_w.copy()\n",
    "temp_ls_w.loc[:, 'A001570']=0"
   ]
  },
  {
   "cell_type": "code",
   "execution_count": 41,
   "id": "75d63480-29d1-4fc6-8a01-c3ecddca439d",
   "metadata": {
    "execution": {
     "iopub.execute_input": "2024-07-03T23:17:47.247182Z",
     "iopub.status.busy": "2024-07-03T23:17:47.246893Z",
     "iopub.status.idle": "2024-07-03T23:17:47.288569Z",
     "shell.execute_reply": "2024-07-03T23:17:47.287772Z",
     "shell.execute_reply.started": "2024-07-03T23:17:47.247166Z"
    },
    "tags": []
   },
   "outputs": [
    {
     "name": "stderr",
     "output_type": "stream",
     "text": [
      "/tmp/ipykernel_309735/3876697821.py:1: FutureWarning: The default fill_method='pad' in DataFrame.pct_change is deprecated and will be removed in a future version. Call ffill before calling pct_change to retain current behavior and silence this warning.\n",
      "  idx_ret=adjprc.loc[ls_w.index, ls_w.columns].pct_change()*temp_ls_w.shift(1)\n"
     ]
    }
   ],
   "source": [
    "idx_ret=adjprc.loc[ls_w.index, ls_w.columns].pct_change()*temp_ls_w.shift(1)"
   ]
  },
  {
   "cell_type": "code",
   "execution_count": 42,
   "id": "02fbfcb2-bd53-40a1-995f-35cd3f67ccd6",
   "metadata": {
    "execution": {
     "iopub.execute_input": "2024-07-03T23:17:47.289659Z",
     "iopub.status.busy": "2024-07-03T23:17:47.289429Z",
     "iopub.status.idle": "2024-07-03T23:17:47.336039Z",
     "shell.execute_reply": "2024-07-03T23:17:47.335212Z",
     "shell.execute_reply.started": "2024-07-03T23:17:47.289637Z"
    },
    "tags": []
   },
   "outputs": [
    {
     "name": "stderr",
     "output_type": "stream",
     "text": [
      "/tmp/ipykernel_309735/3876697821.py:1: FutureWarning: The default fill_method='pad' in DataFrame.pct_change is deprecated and will be removed in a future version. Call ffill before calling pct_change to retain current behavior and silence this warning.\n",
      "  idx_ret=adjprc.loc[ls_w.index, ls_w.columns].pct_change()*temp_ls_w.shift(1)\n"
     ]
    }
   ],
   "source": [
    "idx_ret=adjprc.loc[ls_w.index, ls_w.columns].pct_change()*temp_ls_w.shift(1)"
   ]
  },
  {
   "cell_type": "code",
   "execution_count": 43,
   "id": "ef2c0ae8-d86d-411b-9ed6-f0a0a500e28b",
   "metadata": {
    "execution": {
     "iopub.execute_input": "2024-07-03T23:17:47.337482Z",
     "iopub.status.busy": "2024-07-03T23:17:47.336976Z",
     "iopub.status.idle": "2024-07-03T23:17:47.351063Z",
     "shell.execute_reply": "2024-07-03T23:17:47.350149Z",
     "shell.execute_reply.started": "2024-07-03T23:17:47.337455Z"
    },
    "tags": []
   },
   "outputs": [],
   "source": [
    "long_w=ls_w[temp_ls_w>0]\n",
    "short_w=ls_w[temp_ls_w<0]"
   ]
  },
  {
   "cell_type": "code",
   "execution_count": 199,
   "id": "a3398ec8-0ef9-4e0f-8419-594d165ff913",
   "metadata": {
    "execution": {
     "iopub.execute_input": "2024-08-05T08:18:03.564678Z",
     "iopub.status.busy": "2024-08-05T08:18:03.564044Z",
     "iopub.status.idle": "2024-08-05T08:18:03.570449Z",
     "shell.execute_reply": "2024-08-05T08:18:03.569334Z",
     "shell.execute_reply.started": "2024-08-05T08:18:03.564633Z"
    },
    "tags": []
   },
   "outputs": [],
   "source": [
    "ew_long=long_w.copy()\n",
    "ew_short=short_w.copy()"
   ]
  },
  {
   "cell_type": "code",
   "execution_count": 200,
   "id": "17905f2f-453b-4bcf-8e0d-51e9af73afc7",
   "metadata": {
    "execution": {
     "iopub.execute_input": "2024-08-05T08:18:03.932762Z",
     "iopub.status.busy": "2024-08-05T08:18:03.931990Z",
     "iopub.status.idle": "2024-08-05T08:18:03.951928Z",
     "shell.execute_reply": "2024-08-05T08:18:03.950853Z",
     "shell.execute_reply.started": "2024-08-05T08:18:03.932715Z"
    },
    "tags": []
   },
   "outputs": [],
   "source": [
    "ew_long[ew_long>0]=1\n",
    "ew_short[ew_short<0]=-1"
   ]
  },
  {
   "cell_type": "code",
   "execution_count": 201,
   "id": "9b8540bd-fb49-4bcc-a27e-268c067569ef",
   "metadata": {
    "execution": {
     "iopub.execute_input": "2024-08-05T08:18:04.303996Z",
     "iopub.status.busy": "2024-08-05T08:18:04.303129Z",
     "iopub.status.idle": "2024-08-05T08:18:04.314417Z",
     "shell.execute_reply": "2024-08-05T08:18:04.313353Z",
     "shell.execute_reply.started": "2024-08-05T08:18:04.303951Z"
    },
    "tags": []
   },
   "outputs": [],
   "source": [
    "ew_long=ew_long.div(ew_long.count(1), axis=0)\n",
    "ew_short=ew_short.div(ew_short.count(1), axis=0)"
   ]
  },
  {
   "cell_type": "code",
   "execution_count": 235,
   "id": "566cc5e8-0faf-4fe4-91c7-de6ae6d09ec9",
   "metadata": {
    "execution": {
     "iopub.execute_input": "2024-08-05T08:38:56.228828Z",
     "iopub.status.busy": "2024-08-05T08:38:56.228182Z",
     "iopub.status.idle": "2024-08-05T08:38:56.258987Z",
     "shell.execute_reply": "2024-08-05T08:38:56.257925Z",
     "shell.execute_reply.started": "2024-08-05T08:38:56.228778Z"
    },
    "tags": []
   },
   "outputs": [
    {
     "name": "stderr",
     "output_type": "stream",
     "text": [
      "/tmp/ipykernel_309735/425279764.py:1: FutureWarning: The default fill_method='pad' in DataFrame.pct_change is deprecated and will be removed in a future version. Call ffill before calling pct_change to retain current behavior and silence this warning.\n",
      "  long_idx_ret=adjprc.loc[ls_w.index, ls_w.columns].pct_change()*long_w.shift(1)*2\n",
      "/tmp/ipykernel_309735/425279764.py:2: FutureWarning: The default fill_method='pad' in DataFrame.pct_change is deprecated and will be removed in a future version. Call ffill before calling pct_change to retain current behavior and silence this warning.\n",
      "  short_idx_ret=adjprc.loc[ls_w.index, ls_w.columns].pct_change()*short_w.shift(1)*2\n"
     ]
    }
   ],
   "source": [
    "long_idx_ret=adjprc.loc[ls_w.index, ls_w.columns].pct_change()*long_w.shift(1)*2\n",
    "short_idx_ret=adjprc.loc[ls_w.index, ls_w.columns].pct_change()*short_w.shift(1)*2"
   ]
  },
  {
   "cell_type": "code",
   "execution_count": 236,
   "id": "e82a719c-0691-4eab-b73a-9feece3e15d9",
   "metadata": {
    "execution": {
     "iopub.execute_input": "2024-08-05T08:38:58.592591Z",
     "iopub.status.busy": "2024-08-05T08:38:58.592223Z",
     "iopub.status.idle": "2024-08-05T08:38:58.612506Z",
     "shell.execute_reply": "2024-08-05T08:38:58.611414Z",
     "shell.execute_reply.started": "2024-08-05T08:38:58.592559Z"
    },
    "tags": []
   },
   "outputs": [
    {
     "name": "stderr",
     "output_type": "stream",
     "text": [
      "/tmp/ipykernel_309735/4102127311.py:1: FutureWarning: The default fill_method='pad' in DataFrame.pct_change is deprecated and will be removed in a future version. Call ffill before calling pct_change to retain current behavior and silence this warning.\n",
      "  ew_long_idx_ret=adjprc.loc[ls_w.index, ls_w.columns].pct_change()*ew_long.shift(1)\n",
      "/tmp/ipykernel_309735/4102127311.py:2: FutureWarning: The default fill_method='pad' in DataFrame.pct_change is deprecated and will be removed in a future version. Call ffill before calling pct_change to retain current behavior and silence this warning.\n",
      "  ew_short_idx_ret=adjprc.loc[ls_w.index, ls_w.columns].pct_change()*ew_short.shift(1)\n"
     ]
    }
   ],
   "source": [
    "ew_long_idx_ret=adjprc.loc[ls_w.index, ls_w.columns].pct_change()*ew_long.shift(1)\n",
    "ew_short_idx_ret=adjprc.loc[ls_w.index, ls_w.columns].pct_change()*ew_short.shift(1)"
   ]
  },
  {
   "cell_type": "code",
   "execution_count": null,
   "id": "476be009-d881-4d84-aa81-fd74fc855206",
   "metadata": {},
   "outputs": [],
   "source": []
  },
  {
   "cell_type": "markdown",
   "id": "c2808d54-e139-4a4d-b3b0-4ec28f9758fa",
   "metadata": {},
   "source": [
    "# LS results"
   ]
  },
  {
   "cell_type": "code",
   "execution_count": 237,
   "id": "f911c7bb-156a-4af9-a99a-3b631f66972d",
   "metadata": {
    "execution": {
     "iopub.execute_input": "2024-08-05T08:38:59.672040Z",
     "iopub.status.busy": "2024-08-05T08:38:59.671683Z",
     "iopub.status.idle": "2024-08-05T08:38:59.681484Z",
     "shell.execute_reply": "2024-08-05T08:38:59.680614Z",
     "shell.execute_reply.started": "2024-08-05T08:38:59.672011Z"
    },
    "scrolled": true,
    "tags": []
   },
   "outputs": [
    {
     "data": {
      "text/plain": [
       "Series([], Name: A001570, dtype: float64)"
      ]
     },
     "execution_count": 237,
     "metadata": {},
     "output_type": "execute_result"
    }
   ],
   "source": [
    "long_w.loc['2023-06-01': '2023-12-01', 'A001570'].fillna(0)"
   ]
  },
  {
   "cell_type": "code",
   "execution_count": 239,
   "id": "5227da16-d813-42b9-9050-be497768c538",
   "metadata": {
    "execution": {
     "iopub.execute_input": "2024-08-05T08:39:00.200563Z",
     "iopub.status.busy": "2024-08-05T08:39:00.200181Z",
     "iopub.status.idle": "2024-08-05T08:39:00.208107Z",
     "shell.execute_reply": "2024-08-05T08:39:00.207300Z",
     "shell.execute_reply.started": "2024-08-05T08:39:00.200535Z"
    },
    "tags": []
   },
   "outputs": [
    {
     "data": {
      "text/plain": [
       "DatetimeIndex(['2024-05-10', '2024-05-17', '2024-05-24', '2024-05-31',\n",
       "               '2024-06-07', '2024-06-14', '2024-06-21', '2024-06-28',\n",
       "               '2024-07-05', '2024-07-12', '2024-07-19', '2024-07-26',\n",
       "               '2024-07-31'],\n",
       "              dtype='datetime64[ns]', name='Dates', freq=None)"
      ]
     },
     "execution_count": 239,
     "metadata": {},
     "output_type": "execute_result"
    }
   ],
   "source": [
    "ls_w.loc['2023-06-01':].index"
   ]
  },
  {
   "cell_type": "code",
   "execution_count": 240,
   "id": "aadb3c0a-6a50-42e1-b01a-10492439752e",
   "metadata": {
    "execution": {
     "iopub.execute_input": "2024-08-05T08:39:00.209555Z",
     "iopub.status.busy": "2024-08-05T08:39:00.209175Z",
     "iopub.status.idle": "2024-08-05T08:39:00.225177Z",
     "shell.execute_reply": "2024-08-05T08:39:00.224168Z",
     "shell.execute_reply.started": "2024-08-05T08:39:00.209528Z"
    },
    "scrolled": true,
    "tags": []
   },
   "outputs": [
    {
     "data": {
      "text/plain": [
       "Dates\n",
       "2024-05-10         NaN\n",
       "2024-05-17   -0.031536\n",
       "2024-05-24   -0.106092\n",
       "2024-05-31   -0.021152\n",
       "2024-06-07    0.080432\n",
       "2024-06-14   -0.016667\n",
       "2024-06-21   -0.082486\n",
       "2024-06-28    0.059113\n",
       "2024-07-05   -0.034884\n",
       "2024-07-12   -0.021687\n",
       "2024-07-19   -0.068966\n",
       "2024-07-26   -0.120370\n",
       "2024-07-31    0.015038\n",
       "Name: A001570, dtype: float64"
      ]
     },
     "execution_count": 240,
     "metadata": {},
     "output_type": "execute_result"
    }
   ],
   "source": [
    "adjprc.loc[ls_w.loc['2023-06-01':].index, 'A001570'].pct_change()"
   ]
  },
  {
   "cell_type": "code",
   "execution_count": 241,
   "id": "273610ab-ec1a-47df-b360-4e7e5ff44f8f",
   "metadata": {
    "execution": {
     "iopub.execute_input": "2024-08-05T08:39:00.362831Z",
     "iopub.status.busy": "2024-08-05T08:39:00.362163Z",
     "iopub.status.idle": "2024-08-05T08:39:00.370233Z",
     "shell.execute_reply": "2024-08-05T08:39:00.369113Z",
     "shell.execute_reply.started": "2024-08-05T08:39:00.362801Z"
    },
    "scrolled": true,
    "tags": []
   },
   "outputs": [
    {
     "data": {
      "text/plain": [
       "Dates\n",
       "2024-04-12   -0.0\n",
       "2024-04-19   -0.0\n",
       "2024-04-26   -0.0\n",
       "2024-05-03    0.0\n",
       "2024-05-10    0.0\n",
       "2024-05-17   -0.0\n",
       "2024-05-24   -0.0\n",
       "2024-05-31   -0.0\n",
       "2024-06-07    0.0\n",
       "2024-06-14   -0.0\n",
       "2024-06-21   -0.0\n",
       "2024-06-28    0.0\n",
       "Name: A001570, dtype: float64"
      ]
     },
     "execution_count": 241,
     "metadata": {},
     "output_type": "execute_result"
    }
   ],
   "source": [
    "idx_ret['A001570'].dropna()"
   ]
  },
  {
   "cell_type": "code",
   "execution_count": 242,
   "id": "58570463-680a-4be8-ba1e-2e795b94efbd",
   "metadata": {
    "execution": {
     "iopub.execute_input": "2024-08-05T08:39:00.506420Z",
     "iopub.status.busy": "2024-08-05T08:39:00.506056Z",
     "iopub.status.idle": "2024-08-05T08:39:00.738902Z",
     "shell.execute_reply": "2024-08-05T08:39:00.737830Z",
     "shell.execute_reply.started": "2024-08-05T08:39:00.506393Z"
    },
    "tags": []
   },
   "outputs": [
    {
     "data": {
      "text/plain": [
       "<Axes: xlabel='Dates'>"
      ]
     },
     "execution_count": 242,
     "metadata": {},
     "output_type": "execute_result"
    },
    {
     "data": {
      "image/png": "[encoded data removed]",
      "text/plain": [
       "<Figure size 640x480 with 1 Axes>"
      ]
     },
     "metadata": {},
     "output_type": "display_data"
    }
   ],
   "source": [
    "# raw long short \n",
    "(1+idx_ret.sum(1)).cumprod().plot()"
   ]
  },
  {
   "cell_type": "code",
   "execution_count": 243,
   "id": "d99bde96-38cb-4249-9f17-dde832063ec7",
   "metadata": {
    "execution": {
     "iopub.execute_input": "2024-08-05T08:39:00.793516Z",
     "iopub.status.busy": "2024-08-05T08:39:00.793151Z",
     "iopub.status.idle": "2024-08-05T08:39:01.085332Z",
     "shell.execute_reply": "2024-08-05T08:39:01.084563Z",
     "shell.execute_reply.started": "2024-08-05T08:39:00.793489Z"
    },
    "tags": []
   },
   "outputs": [
    {
     "data": {
      "text/plain": [
       "<Axes: xlabel='Dates'>"
      ]
     },
     "execution_count": 243,
     "metadata": {},
     "output_type": "execute_result"
    },
    {
     "data": {
      "image/png": "[encoded data removed]",
      "text/plain": [
       "<Figure size 640x480 with 1 Axes>"
      ]
     },
     "metadata": {},
     "output_type": "display_data"
    }
   ],
   "source": [
    "# raw long\n",
    "(1+long_idx_ret.sum(1)).cumprod().plot()"
   ]
  },
  {
   "cell_type": "code",
   "execution_count": 244,
   "id": "702c2d44-3f8e-497f-8717-506a4b43ec8a",
   "metadata": {
    "execution": {
     "iopub.execute_input": "2024-08-05T08:39:01.086621Z",
     "iopub.status.busy": "2024-08-05T08:39:01.086409Z",
     "iopub.status.idle": "2024-08-05T08:39:01.324981Z",
     "shell.execute_reply": "2024-08-05T08:39:01.324237Z",
     "shell.execute_reply.started": "2024-08-05T08:39:01.086601Z"
    },
    "tags": []
   },
   "outputs": [
    {
     "data": {
      "text/plain": [
       "<Axes: xlabel='Dates'>"
      ]
     },
     "execution_count": 244,
     "metadata": {},
     "output_type": "execute_result"
    },
    {
     "data": {
      "image/png": "[encoded data removed]",
      "text/plain": [
       "<Figure size 640x480 with 1 Axes>"
      ]
     },
     "metadata": {},
     "output_type": "display_data"
    }
   ],
   "source": [
    "# raw short\n",
    "(1+short_idx_ret.sum(1)).cumprod().plot()"
   ]
  },
  {
   "cell_type": "code",
   "execution_count": 245,
   "id": "3b1e18e5-0e25-4946-b8d0-279be02fe7e4",
   "metadata": {
    "execution": {
     "iopub.execute_input": "2024-08-05T08:39:01.326239Z",
     "iopub.status.busy": "2024-08-05T08:39:01.326026Z",
     "iopub.status.idle": "2024-08-05T08:39:01.329512Z",
     "shell.execute_reply": "2024-08-05T08:39:01.328799Z",
     "shell.execute_reply.started": "2024-08-05T08:39:01.326219Z"
    },
    "tags": []
   },
   "outputs": [],
   "source": [
    "# equal weight long short"
   ]
  },
  {
   "cell_type": "code",
   "execution_count": 246,
   "id": "a11e2e10-bccc-4850-9148-3f13ce3a59a3",
   "metadata": {
    "execution": {
     "iopub.execute_input": "2024-08-05T08:39:01.503562Z",
     "iopub.status.busy": "2024-08-05T08:39:01.503012Z",
     "iopub.status.idle": "2024-08-05T08:39:01.770737Z",
     "shell.execute_reply": "2024-08-05T08:39:01.769973Z",
     "shell.execute_reply.started": "2024-08-05T08:39:01.503517Z"
    },
    "tags": []
   },
   "outputs": [
    {
     "data": {
      "text/plain": [
       "<Axes: xlabel='Dates'>"
      ]
     },
     "execution_count": 246,
     "metadata": {},
     "output_type": "execute_result"
    },
    {
     "data": {
      "image/png": "[encoded data removed]",
      "text/plain": [
       "<Figure size 640x480 with 1 Axes>"
      ]
     },
     "metadata": {},
     "output_type": "display_data"
    }
   ],
   "source": [
    "(1+ew_long_idx_ret.sum(1)).cumprod().plot()"
   ]
  },
  {
   "cell_type": "code",
   "execution_count": 247,
   "id": "fecd66fa-a4b6-42cd-873f-ccff7600732e",
   "metadata": {
    "execution": {
     "iopub.execute_input": "2024-08-05T08:39:01.772016Z",
     "iopub.status.busy": "2024-08-05T08:39:01.771801Z",
     "iopub.status.idle": "2024-08-05T08:39:02.004348Z",
     "shell.execute_reply": "2024-08-05T08:39:02.003624Z",
     "shell.execute_reply.started": "2024-08-05T08:39:01.771997Z"
    },
    "tags": []
   },
   "outputs": [
    {
     "data": {
      "text/plain": [
       "<Axes: xlabel='Dates'>"
      ]
     },
     "execution_count": 247,
     "metadata": {},
     "output_type": "execute_result"
    },
    {
     "data": {
      "image/png": "[encoded data removed]",
      "text/plain": [
       "<Figure size 640x480 with 1 Axes>"
      ]
     },
     "metadata": {},
     "output_type": "display_data"
    }
   ],
   "source": [
    "(1+ew_short_idx_ret.sum(1)).cumprod().plot()"
   ]
  },
  {
   "cell_type": "code",
   "execution_count": null,
   "id": "56ef6d79-4255-4af4-b702-70368885429f",
   "metadata": {},
   "outputs": [],
   "source": []
  },
  {
   "cell_type": "code",
   "execution_count": 248,
   "id": "1fa0a227-02cf-4ef8-90e7-0cf8a3a18c13",
   "metadata": {
    "execution": {
     "iopub.execute_input": "2024-08-05T08:39:02.005682Z",
     "iopub.status.busy": "2024-08-05T08:39:02.005463Z",
     "iopub.status.idle": "2024-08-05T08:39:02.171003Z",
     "shell.execute_reply": "2024-08-05T08:39:02.170291Z",
     "shell.execute_reply.started": "2024-08-05T08:39:02.005662Z"
    },
    "tags": []
   },
   "outputs": [
    {
     "data": {
      "text/plain": [
       "<Axes: xlabel='Dates'>"
      ]
     },
     "execution_count": 248,
     "metadata": {},
     "output_type": "execute_result"
    },
    {
     "data": {
      "image/png": "[encoded data removed]",
      "text/plain": [
       "<Figure size 640x480 with 1 Axes>"
      ]
     },
     "metadata": {},
     "output_type": "display_data"
    }
   ],
   "source": [
    "# remove top and bottom\n",
    "(1+idx_ret.sum(1)).cumprod().plot()"
   ]
  },
  {
   "cell_type": "code",
   "execution_count": 249,
   "id": "9cb47416-afdd-4ff4-ad5e-5a240a6e8855",
   "metadata": {
    "execution": {
     "iopub.execute_input": "2024-08-05T08:39:03.903116Z",
     "iopub.status.busy": "2024-08-05T08:39:03.902487Z",
     "iopub.status.idle": "2024-08-05T08:39:04.098158Z",
     "shell.execute_reply": "2024-08-05T08:39:04.097430Z",
     "shell.execute_reply.started": "2024-08-05T08:39:03.903069Z"
    },
    "tags": []
   },
   "outputs": [
    {
     "data": {
      "text/plain": [
       "<Axes: xlabel='Dates'>"
      ]
     },
     "execution_count": 249,
     "metadata": {},
     "output_type": "execute_result"
    },
    {
     "data": {
      "image/png": "[encoded data removed]",
      "text/plain": [
       "<Figure size 640x480 with 1 Axes>"
      ]
     },
     "metadata": {},
     "output_type": "display_data"
    }
   ],
   "source": [
    "# remove in the middle\n",
    "(1+idx_ret.sum(1)).cumprod().plot()"
   ]
  },
  {
   "cell_type": "code",
   "execution_count": null,
   "id": "229cbeaa-fcce-446c-af5c-ded5b80321ea",
   "metadata": {},
   "outputs": [],
   "source": []
  },
  {
   "cell_type": "code",
   "execution_count": null,
   "id": "cacc2267-4a2f-4cc9-be3a-93575936e9ef",
   "metadata": {},
   "outputs": [],
   "source": []
  },
  {
   "cell_type": "markdown",
   "id": "93643ef4-5364-4481-87ef-2afcf44eb8b5",
   "metadata": {},
   "source": [
    "# optimize port"
   ]
  },
  {
   "cell_type": "markdown",
   "id": "34e02e86-b178-4a25-85d2-22165de88ce4",
   "metadata": {},
   "source": [
    "### how to optimize \n",
    "#### compare with market weight \n",
    "#### input: k200 weight, score, vol(return)\n"
   ]
  },
  {
   "cell_type": "code",
   "execution_count": 250,
   "id": "d9b26060-3df9-4d8a-9c41-71994d986abe",
   "metadata": {
    "execution": {
     "iopub.execute_input": "2024-08-05T08:40:44.466164Z",
     "iopub.status.busy": "2024-08-05T08:40:44.465625Z",
     "iopub.status.idle": "2024-08-05T08:40:44.471750Z",
     "shell.execute_reply": "2024-08-05T08:40:44.470644Z",
     "shell.execute_reply.started": "2024-08-05T08:40:44.466118Z"
    }
   },
   "outputs": [],
   "source": [
    "from scipy.optimize import minimize\n",
    "import numpy as np"
   ]
  },
  {
   "cell_type": "code",
   "execution_count": 251,
   "id": "9841b03b-32a1-4423-8886-ca534eb79627",
   "metadata": {
    "execution": {
     "iopub.execute_input": "2024-08-05T08:40:44.825714Z",
     "iopub.status.busy": "2024-08-05T08:40:44.825206Z",
     "iopub.status.idle": "2024-08-05T08:40:44.881812Z",
     "shell.execute_reply": "2024-08-05T08:40:44.880811Z",
     "shell.execute_reply.started": "2024-08-05T08:40:44.825668Z"
    }
   },
   "outputs": [],
   "source": [
    "bmw=k200_df['idx_weight'].unstack()"
   ]
  },
  {
   "cell_type": "code",
   "execution_count": 252,
   "id": "0ec06207-caa0-4aa8-b8f1-457cf107bb02",
   "metadata": {
    "execution": {
     "iopub.execute_input": "2024-08-05T08:40:45.218272Z",
     "iopub.status.busy": "2024-08-05T08:40:45.217754Z",
     "iopub.status.idle": "2024-08-05T08:40:45.308732Z",
     "shell.execute_reply": "2024-08-05T08:40:45.307757Z",
     "shell.execute_reply.started": "2024-08-05T08:40:45.218226Z"
    },
    "scrolled": true
   },
   "outputs": [
    {
     "name": "stderr",
     "output_type": "stream",
     "text": [
      "/tmp/ipykernel_309735/4222830641.py:1: FutureWarning: The default fill_method='pad' in DataFrame.pct_change is deprecated and will be removed in a future version. Call ffill before calling pct_change to retain current behavior and silence this warning.\n",
      "  adjprc.pct_change(60)\n"
     ]
    },
    {
     "data": {
      "text/html": [
       "<div>\n",
       "<style scoped>\n",
       "    .dataframe tbody tr th:only-of-type {\n",
       "        vertical-align: middle;\n",
       "    }\n",
       "\n",
       "    .dataframe tbody tr th {\n",
       "        vertical-align: top;\n",
       "    }\n",
       "\n",
       "    .dataframe thead th {\n",
       "        text-align: right;\n",
       "    }\n",
       "</style>\n",
       "<table border=\"1\" class=\"dataframe\">\n",
       "  <thead>\n",
       "    <tr style=\"text-align: right;\">\n",
       "      <th>Symbol</th>\n",
       "      <th>A000010</th>\n",
       "      <th>A000020</th>\n",
       "      <th>A000030</th>\n",
       "      <th>A000040</th>\n",
       "      <th>A000050</th>\n",
       "      <th>A000060</th>\n",
       "      <th>A000070</th>\n",
       "      <th>A000080</th>\n",
       "      <th>A000090</th>\n",
       "      <th>A000100</th>\n",
       "      <th>...</th>\n",
       "      <th>A460860</th>\n",
       "      <th>A462520</th>\n",
       "      <th>A465770</th>\n",
       "      <th>A900030</th>\n",
       "      <th>A900050</th>\n",
       "      <th>A900140</th>\n",
       "      <th>A950010</th>\n",
       "      <th>A950070</th>\n",
       "      <th>A950100</th>\n",
       "      <th>A950210</th>\n",
       "    </tr>\n",
       "    <tr>\n",
       "      <th>Dates</th>\n",
       "      <th></th>\n",
       "      <th></th>\n",
       "      <th></th>\n",
       "      <th></th>\n",
       "      <th></th>\n",
       "      <th></th>\n",
       "      <th></th>\n",
       "      <th></th>\n",
       "      <th></th>\n",
       "      <th></th>\n",
       "      <th></th>\n",
       "      <th></th>\n",
       "      <th></th>\n",
       "      <th></th>\n",
       "      <th></th>\n",
       "      <th></th>\n",
       "      <th></th>\n",
       "      <th></th>\n",
       "      <th></th>\n",
       "      <th></th>\n",
       "      <th></th>\n",
       "    </tr>\n",
       "  </thead>\n",
       "  <tbody>\n",
       "    <tr>\n",
       "      <th>2014-09-01</th>\n",
       "      <td>NaN</td>\n",
       "      <td>NaN</td>\n",
       "      <td>NaN</td>\n",
       "      <td>NaN</td>\n",
       "      <td>NaN</td>\n",
       "      <td>NaN</td>\n",
       "      <td>NaN</td>\n",
       "      <td>NaN</td>\n",
       "      <td>NaN</td>\n",
       "      <td>NaN</td>\n",
       "      <td>...</td>\n",
       "      <td>NaN</td>\n",
       "      <td>NaN</td>\n",
       "      <td>NaN</td>\n",
       "      <td>NaN</td>\n",
       "      <td>NaN</td>\n",
       "      <td>NaN</td>\n",
       "      <td>NaN</td>\n",
       "      <td>NaN</td>\n",
       "      <td>NaN</td>\n",
       "      <td>NaN</td>\n",
       "    </tr>\n",
       "    <tr>\n",
       "      <th>2014-09-02</th>\n",
       "      <td>NaN</td>\n",
       "      <td>NaN</td>\n",
       "      <td>NaN</td>\n",
       "      <td>NaN</td>\n",
       "      <td>NaN</td>\n",
       "      <td>NaN</td>\n",
       "      <td>NaN</td>\n",
       "      <td>NaN</td>\n",
       "      <td>NaN</td>\n",
       "      <td>NaN</td>\n",
       "      <td>...</td>\n",
       "      <td>NaN</td>\n",
       "      <td>NaN</td>\n",
       "      <td>NaN</td>\n",
       "      <td>NaN</td>\n",
       "      <td>NaN</td>\n",
       "      <td>NaN</td>\n",
       "      <td>NaN</td>\n",
       "      <td>NaN</td>\n",
       "      <td>NaN</td>\n",
       "      <td>NaN</td>\n",
       "    </tr>\n",
       "    <tr>\n",
       "      <th>2014-09-03</th>\n",
       "      <td>NaN</td>\n",
       "      <td>NaN</td>\n",
       "      <td>NaN</td>\n",
       "      <td>NaN</td>\n",
       "      <td>NaN</td>\n",
       "      <td>NaN</td>\n",
       "      <td>NaN</td>\n",
       "      <td>NaN</td>\n",
       "      <td>NaN</td>\n",
       "      <td>NaN</td>\n",
       "      <td>...</td>\n",
       "      <td>NaN</td>\n",
       "      <td>NaN</td>\n",
       "      <td>NaN</td>\n",
       "      <td>NaN</td>\n",
       "      <td>NaN</td>\n",
       "      <td>NaN</td>\n",
       "      <td>NaN</td>\n",
       "      <td>NaN</td>\n",
       "      <td>NaN</td>\n",
       "      <td>NaN</td>\n",
       "    </tr>\n",
       "    <tr>\n",
       "      <th>2014-09-04</th>\n",
       "      <td>NaN</td>\n",
       "      <td>NaN</td>\n",
       "      <td>NaN</td>\n",
       "      <td>NaN</td>\n",
       "      <td>NaN</td>\n",
       "      <td>NaN</td>\n",
       "      <td>NaN</td>\n",
       "      <td>NaN</td>\n",
       "      <td>NaN</td>\n",
       "      <td>NaN</td>\n",
       "      <td>...</td>\n",
       "      <td>NaN</td>\n",
       "      <td>NaN</td>\n",
       "      <td>NaN</td>\n",
       "      <td>NaN</td>\n",
       "      <td>NaN</td>\n",
       "      <td>NaN</td>\n",
       "      <td>NaN</td>\n",
       "      <td>NaN</td>\n",
       "      <td>NaN</td>\n",
       "      <td>NaN</td>\n",
       "    </tr>\n",
       "    <tr>\n",
       "      <th>2014-09-05</th>\n",
       "      <td>NaN</td>\n",
       "      <td>NaN</td>\n",
       "      <td>NaN</td>\n",
       "      <td>NaN</td>\n",
       "      <td>NaN</td>\n",
       "      <td>NaN</td>\n",
       "      <td>NaN</td>\n",
       "      <td>NaN</td>\n",
       "      <td>NaN</td>\n",
       "      <td>NaN</td>\n",
       "      <td>...</td>\n",
       "      <td>NaN</td>\n",
       "      <td>NaN</td>\n",
       "      <td>NaN</td>\n",
       "      <td>NaN</td>\n",
       "      <td>NaN</td>\n",
       "      <td>NaN</td>\n",
       "      <td>NaN</td>\n",
       "      <td>NaN</td>\n",
       "      <td>NaN</td>\n",
       "      <td>NaN</td>\n",
       "    </tr>\n",
       "    <tr>\n",
       "      <th>...</th>\n",
       "      <td>...</td>\n",
       "      <td>...</td>\n",
       "      <td>...</td>\n",
       "      <td>...</td>\n",
       "      <td>...</td>\n",
       "      <td>...</td>\n",
       "      <td>...</td>\n",
       "      <td>...</td>\n",
       "      <td>...</td>\n",
       "      <td>...</td>\n",
       "      <td>...</td>\n",
       "      <td>...</td>\n",
       "      <td>...</td>\n",
       "      <td>...</td>\n",
       "      <td>...</td>\n",
       "      <td>...</td>\n",
       "      <td>...</td>\n",
       "      <td>...</td>\n",
       "      <td>...</td>\n",
       "      <td>...</td>\n",
       "      <td>...</td>\n",
       "    </tr>\n",
       "    <tr>\n",
       "      <th>2024-07-25</th>\n",
       "      <td>NaN</td>\n",
       "      <td>-0.062069</td>\n",
       "      <td>0.0</td>\n",
       "      <td>-0.397590</td>\n",
       "      <td>-0.060927</td>\n",
       "      <td>0.0</td>\n",
       "      <td>-0.015988</td>\n",
       "      <td>-0.038278</td>\n",
       "      <td>NaN</td>\n",
       "      <td>0.345070</td>\n",
       "      <td>...</td>\n",
       "      <td>-0.214539</td>\n",
       "      <td>0.087966</td>\n",
       "      <td>0.223529</td>\n",
       "      <td>NaN</td>\n",
       "      <td>0.0</td>\n",
       "      <td>-0.119782</td>\n",
       "      <td>0.0</td>\n",
       "      <td>NaN</td>\n",
       "      <td>0.0</td>\n",
       "      <td>0.517500</td>\n",
       "    </tr>\n",
       "    <tr>\n",
       "      <th>2024-07-26</th>\n",
       "      <td>NaN</td>\n",
       "      <td>-0.049143</td>\n",
       "      <td>0.0</td>\n",
       "      <td>-0.395897</td>\n",
       "      <td>-0.081152</td>\n",
       "      <td>0.0</td>\n",
       "      <td>-0.024496</td>\n",
       "      <td>-0.038005</td>\n",
       "      <td>NaN</td>\n",
       "      <td>0.312757</td>\n",
       "      <td>...</td>\n",
       "      <td>-0.234651</td>\n",
       "      <td>0.099515</td>\n",
       "      <td>0.371194</td>\n",
       "      <td>NaN</td>\n",
       "      <td>0.0</td>\n",
       "      <td>-0.114338</td>\n",
       "      <td>0.0</td>\n",
       "      <td>NaN</td>\n",
       "      <td>0.0</td>\n",
       "      <td>0.713574</td>\n",
       "    </tr>\n",
       "    <tr>\n",
       "      <th>2024-07-29</th>\n",
       "      <td>NaN</td>\n",
       "      <td>-0.041284</td>\n",
       "      <td>0.0</td>\n",
       "      <td>-0.419825</td>\n",
       "      <td>-0.070773</td>\n",
       "      <td>0.0</td>\n",
       "      <td>-0.021490</td>\n",
       "      <td>-0.004751</td>\n",
       "      <td>NaN</td>\n",
       "      <td>0.330110</td>\n",
       "      <td>...</td>\n",
       "      <td>-0.221658</td>\n",
       "      <td>0.112599</td>\n",
       "      <td>0.338095</td>\n",
       "      <td>NaN</td>\n",
       "      <td>0.0</td>\n",
       "      <td>-0.138298</td>\n",
       "      <td>0.0</td>\n",
       "      <td>NaN</td>\n",
       "      <td>0.0</td>\n",
       "      <td>0.640199</td>\n",
       "    </tr>\n",
       "    <tr>\n",
       "      <th>2024-07-30</th>\n",
       "      <td>NaN</td>\n",
       "      <td>-0.048276</td>\n",
       "      <td>0.0</td>\n",
       "      <td>-0.440454</td>\n",
       "      <td>-0.047244</td>\n",
       "      <td>0.0</td>\n",
       "      <td>-0.002882</td>\n",
       "      <td>-0.019002</td>\n",
       "      <td>NaN</td>\n",
       "      <td>0.355556</td>\n",
       "      <td>...</td>\n",
       "      <td>-0.204028</td>\n",
       "      <td>0.110299</td>\n",
       "      <td>0.423586</td>\n",
       "      <td>NaN</td>\n",
       "      <td>0.0</td>\n",
       "      <td>-0.145133</td>\n",
       "      <td>0.0</td>\n",
       "      <td>NaN</td>\n",
       "      <td>0.0</td>\n",
       "      <td>0.781211</td>\n",
       "    </tr>\n",
       "    <tr>\n",
       "      <th>2024-07-31</th>\n",
       "      <td>NaN</td>\n",
       "      <td>-0.039171</td>\n",
       "      <td>0.0</td>\n",
       "      <td>-0.439696</td>\n",
       "      <td>-0.077922</td>\n",
       "      <td>0.0</td>\n",
       "      <td>0.014493</td>\n",
       "      <td>-0.014218</td>\n",
       "      <td>NaN</td>\n",
       "      <td>0.312935</td>\n",
       "      <td>...</td>\n",
       "      <td>-0.206167</td>\n",
       "      <td>0.105167</td>\n",
       "      <td>0.668653</td>\n",
       "      <td>NaN</td>\n",
       "      <td>0.0</td>\n",
       "      <td>-0.154529</td>\n",
       "      <td>0.0</td>\n",
       "      <td>NaN</td>\n",
       "      <td>0.0</td>\n",
       "      <td>0.707407</td>\n",
       "    </tr>\n",
       "  </tbody>\n",
       "</table>\n",
       "<p>2438 rows × 1211 columns</p>\n",
       "</div>"
      ],
      "text/plain": [
       "Symbol      A000010   A000020  A000030   A000040   A000050  A000060   A000070  \\\n",
       "Dates                                                                           \n",
       "2014-09-01      NaN       NaN      NaN       NaN       NaN      NaN       NaN   \n",
       "2014-09-02      NaN       NaN      NaN       NaN       NaN      NaN       NaN   \n",
       "2014-09-03      NaN       NaN      NaN       NaN       NaN      NaN       NaN   \n",
       "2014-09-04      NaN       NaN      NaN       NaN       NaN      NaN       NaN   \n",
       "2014-09-05      NaN       NaN      NaN       NaN       NaN      NaN       NaN   \n",
       "...             ...       ...      ...       ...       ...      ...       ...   \n",
       "2024-07-25      NaN -0.062069      0.0 -0.397590 -0.060927      0.0 -0.015988   \n",
       "2024-07-26      NaN -0.049143      0.0 -0.395897 -0.081152      0.0 -0.024496   \n",
       "2024-07-29      NaN -0.041284      0.0 -0.419825 -0.070773      0.0 -0.021490   \n",
       "2024-07-30      NaN -0.048276      0.0 -0.440454 -0.047244      0.0 -0.002882   \n",
       "2024-07-31      NaN -0.039171      0.0 -0.439696 -0.077922      0.0  0.014493   \n",
       "\n",
       "Symbol       A000080  A000090   A000100  ...   A460860   A462520   A465770  \\\n",
       "Dates                                    ...                                 \n",
       "2014-09-01       NaN      NaN       NaN  ...       NaN       NaN       NaN   \n",
       "2014-09-02       NaN      NaN       NaN  ...       NaN       NaN       NaN   \n",
       "2014-09-03       NaN      NaN       NaN  ...       NaN       NaN       NaN   \n",
       "2014-09-04       NaN      NaN       NaN  ...       NaN       NaN       NaN   \n",
       "2014-09-05       NaN      NaN       NaN  ...       NaN       NaN       NaN   \n",
       "...              ...      ...       ...  ...       ...       ...       ...   \n",
       "2024-07-25 -0.038278      NaN  0.345070  ... -0.214539  0.087966  0.223529   \n",
       "2024-07-26 -0.038005      NaN  0.312757  ... -0.234651  0.099515  0.371194   \n",
       "2024-07-29 -0.004751      NaN  0.330110  ... -0.221658  0.112599  0.338095   \n",
       "2024-07-30 -0.019002      NaN  0.355556  ... -0.204028  0.110299  0.423586   \n",
       "2024-07-31 -0.014218      NaN  0.312935  ... -0.206167  0.105167  0.668653   \n",
       "\n",
       "Symbol      A900030  A900050   A900140  A950010  A950070  A950100   A950210  \n",
       "Dates                                                                        \n",
       "2014-09-01      NaN      NaN       NaN      NaN      NaN      NaN       NaN  \n",
       "2014-09-02      NaN      NaN       NaN      NaN      NaN      NaN       NaN  \n",
       "2014-09-03      NaN      NaN       NaN      NaN      NaN      NaN       NaN  \n",
       "2014-09-04      NaN      NaN       NaN      NaN      NaN      NaN       NaN  \n",
       "2014-09-05      NaN      NaN       NaN      NaN      NaN      NaN       NaN  \n",
       "...             ...      ...       ...      ...      ...      ...       ...  \n",
       "2024-07-25      NaN      0.0 -0.119782      0.0      NaN      0.0  0.517500  \n",
       "2024-07-26      NaN      0.0 -0.114338      0.0      NaN      0.0  0.713574  \n",
       "2024-07-29      NaN      0.0 -0.138298      0.0      NaN      0.0  0.640199  \n",
       "2024-07-30      NaN      0.0 -0.145133      0.0      NaN      0.0  0.781211  \n",
       "2024-07-31      NaN      0.0 -0.154529      0.0      NaN      0.0  0.707407  \n",
       "\n",
       "[2438 rows x 1211 columns]"
      ]
     },
     "execution_count": 252,
     "metadata": {},
     "output_type": "execute_result"
    }
   ],
   "source": [
    "adjprc.pct_change(60)"
   ]
  },
  {
   "cell_type": "code",
   "execution_count": null,
   "id": "a6b0b3f8-d15a-48c9-8062-189f72e3eca8",
   "metadata": {},
   "outputs": [],
   "source": []
  },
  {
   "cell_type": "code",
   "execution_count": 253,
   "id": "6d05871f-9c7f-41d7-a2c8-ec60eba9bc65",
   "metadata": {
    "execution": {
     "iopub.execute_input": "2024-08-05T08:40:48.994850Z",
     "iopub.status.busy": "2024-08-05T08:40:48.994309Z",
     "iopub.status.idle": "2024-08-05T08:40:49.034750Z",
     "shell.execute_reply": "2024-08-05T08:40:49.033860Z",
     "shell.execute_reply.started": "2024-08-05T08:40:48.994802Z"
    }
   },
   "outputs": [
    {
     "data": {
      "text/plain": [
       "DatetimeIndex(['2021-12-23', '2021-12-24', '2021-12-27', '2021-12-28',\n",
       "               '2021-12-29', '2022-01-03', '2022-01-04', '2022-01-05',\n",
       "               '2022-01-06', '2022-01-07',\n",
       "               ...\n",
       "               '2024-07-22', '2024-07-23', '2024-07-24', '2024-07-25',\n",
       "               '2024-07-26', '2024-07-29', '2024-07-30', '2024-07-31',\n",
       "               '2024-08-01', '2024-08-02'],\n",
       "              dtype='datetime64[ns]', name='Dates', length=642, freq=None)"
      ]
     },
     "execution_count": 253,
     "metadata": {},
     "output_type": "execute_result"
    }
   ],
   "source": [
    "k200_df.index.get_level_values(0).unique()[k200_df.index.get_level_values(0).unique()>'2021-12-22']"
   ]
  },
  {
   "cell_type": "code",
   "execution_count": 254,
   "id": "79068221-3051-4fbf-9f60-9480054e388f",
   "metadata": {
    "execution": {
     "iopub.execute_input": "2024-08-05T08:40:50.099623Z",
     "iopub.status.busy": "2024-08-05T08:40:50.099114Z",
     "iopub.status.idle": "2024-08-05T08:40:50.108234Z",
     "shell.execute_reply": "2024-08-05T08:40:50.107035Z",
     "shell.execute_reply.started": "2024-08-05T08:40:50.099580Z"
    }
   },
   "outputs": [
    {
     "data": {
      "text/plain": [
       "DatetimeIndex(['2024-05-10', '2024-05-17', '2024-05-24', '2024-05-31',\n",
       "               '2024-06-07', '2024-06-14', '2024-06-21', '2024-06-28',\n",
       "               '2024-07-05', '2024-07-12', '2024-07-19', '2024-07-26',\n",
       "               '2024-07-31'],\n",
       "              dtype='datetime64[ns]', name='Dates', freq=None)"
      ]
     },
     "execution_count": 254,
     "metadata": {},
     "output_type": "execute_result"
    }
   ],
   "source": [
    "ls_w.index"
   ]
  },
  {
   "cell_type": "code",
   "execution_count": 255,
   "id": "553a3faa-5d35-4b6f-946a-286f9d2b1f7a",
   "metadata": {
    "execution": {
     "iopub.execute_input": "2024-08-05T08:40:52.139668Z",
     "iopub.status.busy": "2024-08-05T08:40:52.139119Z",
     "iopub.status.idle": "2024-08-05T08:40:52.166458Z",
     "shell.execute_reply": "2024-08-05T08:40:52.165199Z",
     "shell.execute_reply.started": "2024-08-05T08:40:52.139621Z"
    },
    "scrolled": true
   },
   "outputs": [
    {
     "name": "stdout",
     "output_type": "stream",
     "text": [
      "lack of the beginning part of data  2024-04-30 00:00:00 2024-05-10 00:00:00\n",
      "expected date is not in inner dates 2024-06-30 00:00:00\n",
      "2024-06-30 00:00:00 2024-06-28 00:00:00\n"
     ]
    }
   ],
   "source": [
    "comm_dates=ls_w.index.intersection(k200_df.index.get_level_values(0).unique())\n",
    "rebal_dates = proc.find_entire_rebalancing_dates(comm_dates)"
   ]
  },
  {
   "cell_type": "code",
   "execution_count": 256,
   "id": "48b6cbb9-3c17-4ea9-937a-b9df31c724b5",
   "metadata": {
    "execution": {
     "iopub.execute_input": "2024-08-05T08:40:52.376036Z",
     "iopub.status.busy": "2024-08-05T08:40:52.375532Z",
     "iopub.status.idle": "2024-08-05T08:40:52.384362Z",
     "shell.execute_reply": "2024-08-05T08:40:52.383286Z",
     "shell.execute_reply.started": "2024-08-05T08:40:52.375990Z"
    }
   },
   "outputs": [
    {
     "data": {
      "text/plain": [
       "DatetimeIndex(['2024-05-31', '2024-06-28', '2024-07-31'], dtype='datetime64[ns]', freq=None)"
      ]
     },
     "execution_count": 256,
     "metadata": {},
     "output_type": "execute_result"
    }
   ],
   "source": [
    "rebal_dates"
   ]
  },
  {
   "cell_type": "code",
   "execution_count": 257,
   "id": "ec2115f8-e0a8-461f-a47a-2518e1f9de88",
   "metadata": {
    "execution": {
     "iopub.execute_input": "2024-08-05T08:40:53.715323Z",
     "iopub.status.busy": "2024-08-05T08:40:53.714800Z",
     "iopub.status.idle": "2024-08-05T08:40:53.766217Z",
     "shell.execute_reply": "2024-08-05T08:40:53.765101Z",
     "shell.execute_reply.started": "2024-08-05T08:40:53.715277Z"
    }
   },
   "outputs": [
    {
     "data": {
      "text/html": [
       "<div>\n",
       "<style scoped>\n",
       "    .dataframe tbody tr th:only-of-type {\n",
       "        vertical-align: middle;\n",
       "    }\n",
       "\n",
       "    .dataframe tbody tr th {\n",
       "        vertical-align: top;\n",
       "    }\n",
       "\n",
       "    .dataframe thead th {\n",
       "        text-align: right;\n",
       "    }\n",
       "</style>\n",
       "<table border=\"1\" class=\"dataframe\">\n",
       "  <thead>\n",
       "    <tr style=\"text-align: right;\">\n",
       "      <th>Symbol</th>\n",
       "      <th>A000030</th>\n",
       "      <th>A000050</th>\n",
       "      <th>A000060</th>\n",
       "      <th>A000070</th>\n",
       "      <th>A000080</th>\n",
       "      <th>A000100</th>\n",
       "      <th>A000120</th>\n",
       "      <th>A000140</th>\n",
       "      <th>A000150</th>\n",
       "      <th>A000210</th>\n",
       "      <th>...</th>\n",
       "      <th>A373220</th>\n",
       "      <th>A375500</th>\n",
       "      <th>A377300</th>\n",
       "      <th>A381970</th>\n",
       "      <th>A383220</th>\n",
       "      <th>A383800</th>\n",
       "      <th>A402340</th>\n",
       "      <th>A450080</th>\n",
       "      <th>A454910</th>\n",
       "      <th>A457190</th>\n",
       "    </tr>\n",
       "    <tr>\n",
       "      <th>Dates</th>\n",
       "      <th></th>\n",
       "      <th></th>\n",
       "      <th></th>\n",
       "      <th></th>\n",
       "      <th></th>\n",
       "      <th></th>\n",
       "      <th></th>\n",
       "      <th></th>\n",
       "      <th></th>\n",
       "      <th></th>\n",
       "      <th></th>\n",
       "      <th></th>\n",
       "      <th></th>\n",
       "      <th></th>\n",
       "      <th></th>\n",
       "      <th></th>\n",
       "      <th></th>\n",
       "      <th></th>\n",
       "      <th></th>\n",
       "      <th></th>\n",
       "      <th></th>\n",
       "    </tr>\n",
       "  </thead>\n",
       "  <tbody>\n",
       "    <tr>\n",
       "      <th>2016-06-02</th>\n",
       "      <td>0.46</td>\n",
       "      <td>0.03</td>\n",
       "      <td>NaN</td>\n",
       "      <td>0.1</td>\n",
       "      <td>0.12</td>\n",
       "      <td>0.39</td>\n",
       "      <td>0.28</td>\n",
       "      <td>0.01</td>\n",
       "      <td>0.10</td>\n",
       "      <td>0.34</td>\n",
       "      <td>...</td>\n",
       "      <td>NaN</td>\n",
       "      <td>NaN</td>\n",
       "      <td>NaN</td>\n",
       "      <td>NaN</td>\n",
       "      <td>NaN</td>\n",
       "      <td>NaN</td>\n",
       "      <td>NaN</td>\n",
       "      <td>NaN</td>\n",
       "      <td>NaN</td>\n",
       "      <td>NaN</td>\n",
       "    </tr>\n",
       "    <tr>\n",
       "      <th>2016-06-03</th>\n",
       "      <td>0.45</td>\n",
       "      <td>0.03</td>\n",
       "      <td>NaN</td>\n",
       "      <td>0.1</td>\n",
       "      <td>0.11</td>\n",
       "      <td>0.40</td>\n",
       "      <td>0.29</td>\n",
       "      <td>0.01</td>\n",
       "      <td>0.11</td>\n",
       "      <td>0.33</td>\n",
       "      <td>...</td>\n",
       "      <td>NaN</td>\n",
       "      <td>NaN</td>\n",
       "      <td>NaN</td>\n",
       "      <td>NaN</td>\n",
       "      <td>NaN</td>\n",
       "      <td>NaN</td>\n",
       "      <td>NaN</td>\n",
       "      <td>NaN</td>\n",
       "      <td>NaN</td>\n",
       "      <td>NaN</td>\n",
       "    </tr>\n",
       "    <tr>\n",
       "      <th>2016-06-07</th>\n",
       "      <td>0.45</td>\n",
       "      <td>0.03</td>\n",
       "      <td>NaN</td>\n",
       "      <td>0.1</td>\n",
       "      <td>0.11</td>\n",
       "      <td>0.39</td>\n",
       "      <td>0.30</td>\n",
       "      <td>0.01</td>\n",
       "      <td>0.10</td>\n",
       "      <td>0.34</td>\n",
       "      <td>...</td>\n",
       "      <td>NaN</td>\n",
       "      <td>NaN</td>\n",
       "      <td>NaN</td>\n",
       "      <td>NaN</td>\n",
       "      <td>NaN</td>\n",
       "      <td>NaN</td>\n",
       "      <td>NaN</td>\n",
       "      <td>NaN</td>\n",
       "      <td>NaN</td>\n",
       "      <td>NaN</td>\n",
       "    </tr>\n",
       "    <tr>\n",
       "      <th>2016-06-08</th>\n",
       "      <td>0.45</td>\n",
       "      <td>0.03</td>\n",
       "      <td>NaN</td>\n",
       "      <td>0.1</td>\n",
       "      <td>0.11</td>\n",
       "      <td>0.40</td>\n",
       "      <td>0.30</td>\n",
       "      <td>0.01</td>\n",
       "      <td>0.10</td>\n",
       "      <td>0.34</td>\n",
       "      <td>...</td>\n",
       "      <td>NaN</td>\n",
       "      <td>NaN</td>\n",
       "      <td>NaN</td>\n",
       "      <td>NaN</td>\n",
       "      <td>NaN</td>\n",
       "      <td>NaN</td>\n",
       "      <td>NaN</td>\n",
       "      <td>NaN</td>\n",
       "      <td>NaN</td>\n",
       "      <td>NaN</td>\n",
       "    </tr>\n",
       "    <tr>\n",
       "      <th>2016-06-09</th>\n",
       "      <td>0.44</td>\n",
       "      <td>0.03</td>\n",
       "      <td>NaN</td>\n",
       "      <td>0.1</td>\n",
       "      <td>0.11</td>\n",
       "      <td>0.39</td>\n",
       "      <td>0.29</td>\n",
       "      <td>0.02</td>\n",
       "      <td>0.11</td>\n",
       "      <td>0.34</td>\n",
       "      <td>...</td>\n",
       "      <td>NaN</td>\n",
       "      <td>NaN</td>\n",
       "      <td>NaN</td>\n",
       "      <td>NaN</td>\n",
       "      <td>NaN</td>\n",
       "      <td>NaN</td>\n",
       "      <td>NaN</td>\n",
       "      <td>NaN</td>\n",
       "      <td>NaN</td>\n",
       "      <td>NaN</td>\n",
       "    </tr>\n",
       "    <tr>\n",
       "      <th>...</th>\n",
       "      <td>...</td>\n",
       "      <td>...</td>\n",
       "      <td>...</td>\n",
       "      <td>...</td>\n",
       "      <td>...</td>\n",
       "      <td>...</td>\n",
       "      <td>...</td>\n",
       "      <td>...</td>\n",
       "      <td>...</td>\n",
       "      <td>...</td>\n",
       "      <td>...</td>\n",
       "      <td>...</td>\n",
       "      <td>...</td>\n",
       "      <td>...</td>\n",
       "      <td>...</td>\n",
       "      <td>...</td>\n",
       "      <td>...</td>\n",
       "      <td>...</td>\n",
       "      <td>...</td>\n",
       "      <td>...</td>\n",
       "      <td>...</td>\n",
       "    </tr>\n",
       "    <tr>\n",
       "      <th>2024-07-29</th>\n",
       "      <td>NaN</td>\n",
       "      <td>NaN</td>\n",
       "      <td>NaN</td>\n",
       "      <td>NaN</td>\n",
       "      <td>0.05</td>\n",
       "      <td>0.46</td>\n",
       "      <td>0.08</td>\n",
       "      <td>NaN</td>\n",
       "      <td>0.09</td>\n",
       "      <td>0.05</td>\n",
       "      <td>...</td>\n",
       "      <td>0.92</td>\n",
       "      <td>0.08</td>\n",
       "      <td>0.06</td>\n",
       "      <td>NaN</td>\n",
       "      <td>0.07</td>\n",
       "      <td>NaN</td>\n",
       "      <td>0.63</td>\n",
       "      <td>0.14</td>\n",
       "      <td>0.11</td>\n",
       "      <td>0.06</td>\n",
       "    </tr>\n",
       "    <tr>\n",
       "      <th>2024-07-30</th>\n",
       "      <td>NaN</td>\n",
       "      <td>NaN</td>\n",
       "      <td>NaN</td>\n",
       "      <td>NaN</td>\n",
       "      <td>0.05</td>\n",
       "      <td>0.47</td>\n",
       "      <td>0.09</td>\n",
       "      <td>NaN</td>\n",
       "      <td>0.09</td>\n",
       "      <td>0.05</td>\n",
       "      <td>...</td>\n",
       "      <td>0.94</td>\n",
       "      <td>0.08</td>\n",
       "      <td>0.06</td>\n",
       "      <td>NaN</td>\n",
       "      <td>0.07</td>\n",
       "      <td>NaN</td>\n",
       "      <td>0.61</td>\n",
       "      <td>0.14</td>\n",
       "      <td>0.11</td>\n",
       "      <td>0.06</td>\n",
       "    </tr>\n",
       "    <tr>\n",
       "      <th>2024-07-31</th>\n",
       "      <td>NaN</td>\n",
       "      <td>NaN</td>\n",
       "      <td>NaN</td>\n",
       "      <td>NaN</td>\n",
       "      <td>0.05</td>\n",
       "      <td>0.45</td>\n",
       "      <td>0.09</td>\n",
       "      <td>NaN</td>\n",
       "      <td>0.10</td>\n",
       "      <td>0.05</td>\n",
       "      <td>...</td>\n",
       "      <td>0.90</td>\n",
       "      <td>0.07</td>\n",
       "      <td>0.06</td>\n",
       "      <td>NaN</td>\n",
       "      <td>0.07</td>\n",
       "      <td>NaN</td>\n",
       "      <td>0.64</td>\n",
       "      <td>0.13</td>\n",
       "      <td>0.11</td>\n",
       "      <td>0.06</td>\n",
       "    </tr>\n",
       "    <tr>\n",
       "      <th>2024-08-01</th>\n",
       "      <td>NaN</td>\n",
       "      <td>NaN</td>\n",
       "      <td>NaN</td>\n",
       "      <td>NaN</td>\n",
       "      <td>0.05</td>\n",
       "      <td>0.44</td>\n",
       "      <td>0.09</td>\n",
       "      <td>NaN</td>\n",
       "      <td>0.09</td>\n",
       "      <td>0.05</td>\n",
       "      <td>...</td>\n",
       "      <td>0.93</td>\n",
       "      <td>0.07</td>\n",
       "      <td>0.06</td>\n",
       "      <td>NaN</td>\n",
       "      <td>0.07</td>\n",
       "      <td>NaN</td>\n",
       "      <td>0.61</td>\n",
       "      <td>0.14</td>\n",
       "      <td>0.11</td>\n",
       "      <td>0.06</td>\n",
       "    </tr>\n",
       "    <tr>\n",
       "      <th>2024-08-02</th>\n",
       "      <td>NaN</td>\n",
       "      <td>NaN</td>\n",
       "      <td>NaN</td>\n",
       "      <td>NaN</td>\n",
       "      <td>0.05</td>\n",
       "      <td>0.45</td>\n",
       "      <td>0.09</td>\n",
       "      <td>NaN</td>\n",
       "      <td>0.09</td>\n",
       "      <td>0.05</td>\n",
       "      <td>...</td>\n",
       "      <td>0.97</td>\n",
       "      <td>0.07</td>\n",
       "      <td>0.06</td>\n",
       "      <td>NaN</td>\n",
       "      <td>0.07</td>\n",
       "      <td>NaN</td>\n",
       "      <td>0.58</td>\n",
       "      <td>0.14</td>\n",
       "      <td>0.11</td>\n",
       "      <td>0.06</td>\n",
       "    </tr>\n",
       "  </tbody>\n",
       "</table>\n",
       "<p>2008 rows × 303 columns</p>\n",
       "</div>"
      ],
      "text/plain": [
       "Symbol      A000030  A000050  A000060  A000070  A000080  A000100  A000120  \\\n",
       "Dates                                                                       \n",
       "2016-06-02     0.46     0.03      NaN      0.1     0.12     0.39     0.28   \n",
       "2016-06-03     0.45     0.03      NaN      0.1     0.11     0.40     0.29   \n",
       "2016-06-07     0.45     0.03      NaN      0.1     0.11     0.39     0.30   \n",
       "2016-06-08     0.45     0.03      NaN      0.1     0.11     0.40     0.30   \n",
       "2016-06-09     0.44     0.03      NaN      0.1     0.11     0.39     0.29   \n",
       "...             ...      ...      ...      ...      ...      ...      ...   \n",
       "2024-07-29      NaN      NaN      NaN      NaN     0.05     0.46     0.08   \n",
       "2024-07-30      NaN      NaN      NaN      NaN     0.05     0.47     0.09   \n",
       "2024-07-31      NaN      NaN      NaN      NaN     0.05     0.45     0.09   \n",
       "2024-08-01      NaN      NaN      NaN      NaN     0.05     0.44     0.09   \n",
       "2024-08-02      NaN      NaN      NaN      NaN     0.05     0.45     0.09   \n",
       "\n",
       "Symbol      A000140  A000150  A000210  ...  A373220  A375500  A377300  \\\n",
       "Dates                                  ...                              \n",
       "2016-06-02     0.01     0.10     0.34  ...      NaN      NaN      NaN   \n",
       "2016-06-03     0.01     0.11     0.33  ...      NaN      NaN      NaN   \n",
       "2016-06-07     0.01     0.10     0.34  ...      NaN      NaN      NaN   \n",
       "2016-06-08     0.01     0.10     0.34  ...      NaN      NaN      NaN   \n",
       "2016-06-09     0.02     0.11     0.34  ...      NaN      NaN      NaN   \n",
       "...             ...      ...      ...  ...      ...      ...      ...   \n",
       "2024-07-29      NaN     0.09     0.05  ...     0.92     0.08     0.06   \n",
       "2024-07-30      NaN     0.09     0.05  ...     0.94     0.08     0.06   \n",
       "2024-07-31      NaN     0.10     0.05  ...     0.90     0.07     0.06   \n",
       "2024-08-01      NaN     0.09     0.05  ...     0.93     0.07     0.06   \n",
       "2024-08-02      NaN     0.09     0.05  ...     0.97     0.07     0.06   \n",
       "\n",
       "Symbol      A381970  A383220  A383800  A402340  A450080  A454910  A457190  \n",
       "Dates                                                                      \n",
       "2016-06-02      NaN      NaN      NaN      NaN      NaN      NaN      NaN  \n",
       "2016-06-03      NaN      NaN      NaN      NaN      NaN      NaN      NaN  \n",
       "2016-06-07      NaN      NaN      NaN      NaN      NaN      NaN      NaN  \n",
       "2016-06-08      NaN      NaN      NaN      NaN      NaN      NaN      NaN  \n",
       "2016-06-09      NaN      NaN      NaN      NaN      NaN      NaN      NaN  \n",
       "...             ...      ...      ...      ...      ...      ...      ...  \n",
       "2024-07-29      NaN     0.07      NaN     0.63     0.14     0.11     0.06  \n",
       "2024-07-30      NaN     0.07      NaN     0.61     0.14     0.11     0.06  \n",
       "2024-07-31      NaN     0.07      NaN     0.64     0.13     0.11     0.06  \n",
       "2024-08-01      NaN     0.07      NaN     0.61     0.14     0.11     0.06  \n",
       "2024-08-02      NaN     0.07      NaN     0.58     0.14     0.11     0.06  \n",
       "\n",
       "[2008 rows x 303 columns]"
      ]
     },
     "execution_count": 257,
     "metadata": {},
     "output_type": "execute_result"
    }
   ],
   "source": [
    "bmw"
   ]
  },
  {
   "cell_type": "code",
   "execution_count": 258,
   "id": "3e1c9e9a-df93-418d-82d1-9a83a5a52328",
   "metadata": {
    "execution": {
     "iopub.execute_input": "2024-08-05T08:41:35.155699Z",
     "iopub.status.busy": "2024-08-05T08:41:35.155176Z",
     "iopub.status.idle": "2024-08-05T08:41:35.169461Z",
     "shell.execute_reply": "2024-08-05T08:41:35.168291Z",
     "shell.execute_reply.started": "2024-08-05T08:41:35.155654Z"
    }
   },
   "outputs": [
    {
     "data": {
      "text/plain": [
       "count    200.000000\n",
       "mean       0.000190\n",
       "std        0.006278\n",
       "min       -0.013726\n",
       "25%       -0.003817\n",
       "50%        0.000409\n",
       "75%        0.004912\n",
       "max        0.013726\n",
       "Name: 2024-07-31 00:00:00, dtype: float64"
      ]
     },
     "execution_count": 258,
     "metadata": {},
     "output_type": "execute_result"
    }
   ],
   "source": [
    "ls_w.iloc[-1].describe()"
   ]
  },
  {
   "cell_type": "code",
   "execution_count": 259,
   "id": "dc4b1491-ab9d-418c-9766-2834e3ca41c4",
   "metadata": {
    "execution": {
     "iopub.execute_input": "2024-08-05T08:41:35.745031Z",
     "iopub.status.busy": "2024-08-05T08:41:35.744479Z",
     "iopub.status.idle": "2024-08-05T08:41:35.750272Z",
     "shell.execute_reply": "2024-08-05T08:41:35.749160Z",
     "shell.execute_reply.started": "2024-08-05T08:41:35.744985Z"
    }
   },
   "outputs": [],
   "source": [
    "import optuna"
   ]
  },
  {
   "cell_type": "code",
   "execution_count": 260,
   "id": "9b1eee4d-e699-47c7-a7e6-7cfc89140fd9",
   "metadata": {
    "execution": {
     "iopub.execute_input": "2024-08-05T08:41:35.986822Z",
     "iopub.status.busy": "2024-08-05T08:41:35.986334Z",
     "iopub.status.idle": "2024-08-05T08:41:35.991505Z",
     "shell.execute_reply": "2024-08-05T08:41:35.990434Z",
     "shell.execute_reply.started": "2024-08-05T08:41:35.986777Z"
    },
    "scrolled": true
   },
   "outputs": [],
   "source": [
    "# study=optuna.create_study(direction='maximize')\n",
    "# study.optimize(port_objective, n_trials=30)"
   ]
  },
  {
   "cell_type": "code",
   "execution_count": 261,
   "id": "367384d4-9912-403b-9118-14d20d6cc2f2",
   "metadata": {
    "execution": {
     "iopub.execute_input": "2024-08-05T08:41:36.185325Z",
     "iopub.status.busy": "2024-08-05T08:41:36.184701Z",
     "iopub.status.idle": "2024-08-05T08:41:36.190194Z",
     "shell.execute_reply": "2024-08-05T08:41:36.188939Z",
     "shell.execute_reply.started": "2024-08-05T08:41:36.185278Z"
    }
   },
   "outputs": [],
   "source": [
    "# study.best_trials"
   ]
  },
  {
   "cell_type": "code",
   "execution_count": null,
   "id": "230523c0-84b2-462a-8d36-8d85989138d0",
   "metadata": {},
   "outputs": [],
   "source": []
  },
  {
   "cell_type": "code",
   "execution_count": 262,
   "id": "eb651b84-d2bf-4714-b450-a2a1bc7e7303",
   "metadata": {
    "execution": {
     "iopub.execute_input": "2024-08-05T08:41:36.565711Z",
     "iopub.status.busy": "2024-08-05T08:41:36.565189Z",
     "iopub.status.idle": "2024-08-05T08:41:36.573602Z",
     "shell.execute_reply": "2024-08-05T08:41:36.572549Z",
     "shell.execute_reply.started": "2024-08-05T08:41:36.565667Z"
    }
   },
   "outputs": [
    {
     "data": {
      "text/plain": [
       "Index(['Name', 'KC_Industry', 'FG_IndustryGroup27', 'FG_Sector_Idx',\n",
       "       'FG_IndustryGroup_Idx', 'FG_Industry_Idx', 'AuditOpinion', 'Caution',\n",
       "       'KSECapSize', 'KLCAIndustry', 'Market', 'KOSPI200YN', 'FiscalMonth',\n",
       "       'KOSPI100YN'],\n",
       "      dtype='object')"
      ]
     },
     "execution_count": 262,
     "metadata": {},
     "output_type": "execute_result"
    }
   ],
   "source": [
    "data_COM_nodup.columns"
   ]
  },
  {
   "cell_type": "code",
   "execution_count": 263,
   "id": "4310bf6b-01b8-4fba-8542-a547d9f04a5f",
   "metadata": {
    "execution": {
     "iopub.execute_input": "2024-08-05T08:41:36.749689Z",
     "iopub.status.busy": "2024-08-05T08:41:36.749072Z",
     "iopub.status.idle": "2024-08-05T08:41:36.761438Z",
     "shell.execute_reply": "2024-08-05T08:41:36.760276Z",
     "shell.execute_reply.started": "2024-08-05T08:41:36.749640Z"
    }
   },
   "outputs": [
    {
     "data": {
      "text/plain": [
       "Symbol\n",
       "A000030     NaN\n",
       "A000050     NaN\n",
       "A000060     NaN\n",
       "A000070     NaN\n",
       "A000080    0.05\n",
       "           ... \n",
       "A383800     NaN\n",
       "A402340    0.64\n",
       "A450080    0.13\n",
       "A454910    0.11\n",
       "A457190    0.06\n",
       "Name: 2024-07-31 00:00:00, Length: 303, dtype: float64"
      ]
     },
     "execution_count": 263,
     "metadata": {},
     "output_type": "execute_result"
    }
   ],
   "source": [
    "bmw.loc[rebal_dates[-1]]"
   ]
  },
  {
   "cell_type": "code",
   "execution_count": 264,
   "id": "e7ebda2d-de2b-4818-9f91-5d8df196dfa5",
   "metadata": {
    "execution": {
     "iopub.execute_input": "2024-08-05T08:41:37.015727Z",
     "iopub.status.busy": "2024-08-05T08:41:37.015261Z",
     "iopub.status.idle": "2024-08-05T08:41:37.306189Z",
     "shell.execute_reply": "2024-08-05T08:41:37.305212Z",
     "shell.execute_reply.started": "2024-08-05T08:41:37.015683Z"
    }
   },
   "outputs": [
    {
     "data": {
      "text/html": [
       "<div>\n",
       "<style scoped>\n",
       "    .dataframe tbody tr th:only-of-type {\n",
       "        vertical-align: middle;\n",
       "    }\n",
       "\n",
       "    .dataframe tbody tr th {\n",
       "        vertical-align: top;\n",
       "    }\n",
       "\n",
       "    .dataframe thead th {\n",
       "        text-align: right;\n",
       "    }\n",
       "</style>\n",
       "<table border=\"1\" class=\"dataframe\">\n",
       "  <thead>\n",
       "    <tr style=\"text-align: right;\">\n",
       "      <th></th>\n",
       "      <th>2024-07-31 00:00:00</th>\n",
       "    </tr>\n",
       "    <tr>\n",
       "      <th>FG_Sector_Idx</th>\n",
       "      <th></th>\n",
       "    </tr>\n",
       "  </thead>\n",
       "  <tbody>\n",
       "    <tr>\n",
       "      <th>IT</th>\n",
       "      <td>48.93</td>\n",
       "    </tr>\n",
       "    <tr>\n",
       "      <th>경기소비재</th>\n",
       "      <td>9.57</td>\n",
       "    </tr>\n",
       "    <tr>\n",
       "      <th>금융</th>\n",
       "      <td>11.91</td>\n",
       "    </tr>\n",
       "    <tr>\n",
       "      <th>산업재</th>\n",
       "      <td>11.80</td>\n",
       "    </tr>\n",
       "    <tr>\n",
       "      <th>소재</th>\n",
       "      <td>5.94</td>\n",
       "    </tr>\n",
       "    <tr>\n",
       "      <th>에너지</th>\n",
       "      <td>2.00</td>\n",
       "    </tr>\n",
       "    <tr>\n",
       "      <th>유틸리티</th>\n",
       "      <td>0.67</td>\n",
       "    </tr>\n",
       "    <tr>\n",
       "      <th>의료</th>\n",
       "      <td>4.92</td>\n",
       "    </tr>\n",
       "    <tr>\n",
       "      <th>통신서비스</th>\n",
       "      <td>1.55</td>\n",
       "    </tr>\n",
       "    <tr>\n",
       "      <th>필수소비재</th>\n",
       "      <td>2.68</td>\n",
       "    </tr>\n",
       "  </tbody>\n",
       "</table>\n",
       "</div>"
      ],
      "text/plain": [
       "               2024-07-31 00:00:00\n",
       "FG_Sector_Idx                     \n",
       "IT                           48.93\n",
       "경기소비재                         9.57\n",
       "금융                           11.91\n",
       "산업재                          11.80\n",
       "소재                            5.94\n",
       "에너지                           2.00\n",
       "유틸리티                          0.67\n",
       "의료                            4.92\n",
       "통신서비스                         1.55\n",
       "필수소비재                         2.68"
      ]
     },
     "execution_count": 264,
     "metadata": {},
     "output_type": "execute_result"
    }
   ],
   "source": [
    "pd.concat([data_COM_nodup.loc[rebal_dates[-1], 'FG_Sector_Idx'], bmw.loc[rebal_dates[-1]]], axis=1).groupby('FG_Sector_Idx').sum()"
   ]
  },
  {
   "cell_type": "code",
   "execution_count": 265,
   "id": "35be43c7-44cd-4bc2-8e0d-281f3cd8c641",
   "metadata": {
    "execution": {
     "iopub.execute_input": "2024-08-05T08:41:37.307637Z",
     "iopub.status.busy": "2024-08-05T08:41:37.307392Z",
     "iopub.status.idle": "2024-08-05T08:41:37.311769Z",
     "shell.execute_reply": "2024-08-05T08:41:37.310787Z",
     "shell.execute_reply.started": "2024-08-05T08:41:37.307615Z"
    }
   },
   "outputs": [],
   "source": [
    "import warnings\n",
    "warnings.simplefilter('error', RuntimeWarning)"
   ]
  },
  {
   "cell_type": "code",
   "execution_count": 266,
   "id": "dedb6c55-eb7a-4a12-a70e-73483c7d288e",
   "metadata": {
    "execution": {
     "iopub.execute_input": "2024-08-05T08:41:37.341625Z",
     "iopub.status.busy": "2024-08-05T08:41:37.341086Z",
     "iopub.status.idle": "2024-08-05T08:41:37.348972Z",
     "shell.execute_reply": "2024-08-05T08:41:37.347959Z",
     "shell.execute_reply.started": "2024-08-05T08:41:37.341580Z"
    }
   },
   "outputs": [
    {
     "data": {
      "text/plain": [
       "DatetimeIndex(['2024-05-31', '2024-06-28', '2024-07-31'], dtype='datetime64[ns]', freq=None)"
      ]
     },
     "execution_count": 266,
     "metadata": {},
     "output_type": "execute_result"
    }
   ],
   "source": [
    "rebal_dates"
   ]
  },
  {
   "cell_type": "code",
   "execution_count": 563,
   "id": "996711e8-3f19-4818-9378-1c6af70b2494",
   "metadata": {
    "execution": {
     "iopub.execute_input": "2024-08-06T07:17:25.916377Z",
     "iopub.status.busy": "2024-08-06T07:17:25.915419Z",
     "iopub.status.idle": "2024-08-06T07:17:25.959243Z",
     "shell.execute_reply": "2024-08-06T07:17:25.958295Z",
     "shell.execute_reply.started": "2024-08-06T07:17:25.916329Z"
    }
   },
   "outputs": [],
   "source": [
    "def score_objective(weight, bm_weight, score, cov):\n",
    "    # weight=np.where(weight<10**-3, 0, np.maximum(x, 10**-3))\n",
    "    w_diff=abs(weight-bm_weight)\n",
    "    if w_diff.sum()==0:\n",
    "        return 0\n",
    "    try:\n",
    "        # Check for specific error message before sqrt\n",
    "        if np.any(np.isnan(np.dot(w_diff.T, np.dot(cov, w_diff)))):\n",
    "            raise ValueError(\"Encountered NaN values during portfolio volatility calculation.\")\n",
    "        port_vol = np.sqrt(np.dot(w_diff.T, np.dot(cov, w_diff)))\n",
    "    \n",
    "    except (ValueError, RuntimeWarning) as e:\n",
    "        print(w_diff.isin([np.inf, -np.inf]).any().any())\n",
    "        print(cov.isin([np.inf, -np.inf]).any().any())\n",
    "        print(np.dot(cov, w_diff))\n",
    "        print(np.dot(w_diff.T, np.dot(cov, w_diff)))\n",
    "        print(\"Warning: Encountered errors during portfolio volatility calculation.\")\n",
    "        print(e)\n",
    "    \n",
    "    adj_sharpe=(w_diff*score).sum() / port_vol\n",
    "    return -adj_sharpe\n",
    "\n",
    "\n",
    "def handle_missingCol(port_df, bm_df):\n",
    "    \"\"\"\n",
    "        compare given port column and BM column\n",
    "    \"\"\"\n",
    "    missing_cols = set(bm_df.index) - set(port_df.index)\n",
    "\n",
    "    if len(missing_cols)>0:\n",
    "    # if method=='fill':\n",
    "        \n",
    "        # Add the missing columns to df1 with NaN values\n",
    "        for col in missing_cols:\n",
    "            print('missing col: ', col)\n",
    "            # df1.loc[col] = pd.Series([None] * len(df1), index=df1.index)\n",
    "            port_df.loc[col]=None\n",
    "        # port_df=port_df.loc[bm_df.index]\n",
    "        \n",
    "    # elif len(bm_df.index) < len(port_df.index):\n",
    "        # elif method=='drop':\n",
    "        # comm_col=port_df.index.intersection(bm_df.index)\n",
    "        # port_df=port_df.loc[comm_col]\n",
    "    \n",
    "    port_df=port_df.loc[bm_df.index]\n",
    "        \n",
    "    print(f\"port shape: {port_df.shape}, bm shape: {bm_df.shape}, compare : {(port_df.index==bm_df.index).sum()}\")\n",
    "    return port_df\n",
    "\n",
    "\n",
    "def convert_lsScore(port_score, short_num, long_num):\n",
    "    \"\"\"\n",
    "        when score is all positive, it convert to the mean of score is 0 so that it can be used in Long/Short       \n",
    "    \"\"\"\n",
    "    # convert into L/S scores\n",
    "    sort_score=port_score.sort_values().dropna().copy()\n",
    "    port_score[:]=np.nan # port_score.mean()\n",
    "    if short_num>0:\n",
    "        port_score[sort_score.iloc[:short_num].index]=sort_score.iloc[:short_num]\n",
    "\n",
    "    port_score[sort_score.iloc[-long_num:].index]=sort_score.iloc[-long_num:]       \n",
    "    # port_score=port_score.fillna(0)\n",
    "    \n",
    "    return port_score\n",
    "\n",
    "\n",
    "def create_sectorMatrix(temp_bm_sectorw, temp_bm_stockw):\n",
    "\n",
    "    # sector constraints variables       \n",
    "    sector_mapping = {sector: idx for idx, sector in enumerate(temp_bm_sectorw.index)}\n",
    "\n",
    "    A = np.zeros((len(temp_bm_sectorw), len(temp_bm_stockw)), dtype=int)\n",
    "    for i, stock in enumerate(temp_bm_stockw.index):\n",
    "        sector_idx = sector_mapping[temp_bm_stockw.loc[temp_bm_stockw.index == stock, 'sector'].iloc[0]]\n",
    "        A[sector_idx, i] = 1\n",
    "    \n",
    "    return A\n",
    "\n",
    "def create_excludingMatrix(temp_port_score):\n",
    "    # B = np.eye(len(temp_port_score))\n",
    "    # B[temp_port_score.isnull()] = 0\n",
    "    B = np.zeros(len(temp_port_score))\n",
    "    \n",
    "    # Set entries corresponding to non-selected stocks (e.g., those with NaN scores) to 0\n",
    "    B[temp_port_score.isnull()] = 1\n",
    "        \n",
    "    return B\n",
    "\n",
    "\n",
    "# def filter_stock_with_trend():\n",
    "    \n",
    "\n",
    "def optimize_portfolio_(raw_score, bm_weight, sector_info, rebal_dates, long_num, short_num, excess_stockw, excess_sectorw):\n",
    "    \n",
    "    optw_ls=[]\n",
    "    for rebal_date in rebal_dates:\n",
    "        print(rebal_date)\n",
    "        # slice BM weight\n",
    "        temp_bm_weight=bm_weight.loc[rebal_date].dropna()\n",
    "        \n",
    "        temp_bm_weight=temp_bm_weight/temp_bm_weight.sum()\n",
    "        print('bmw: ', temp_bm_weight.loc['A005930'])\n",
    "        \n",
    "        temp_raw_score=raw_score.loc[rebal_date].dropna()\n",
    "        print('rawscore: ', temp_raw_score.loc['A005930'])\n",
    "        \n",
    "        # slice port weight\n",
    "        temp_port_score=handle_missingCol(temp_raw_score, temp_bm_weight)\n",
    "        # B=create_excludingMatrix(temp_port_score)\n",
    "        print('bm adj score: ', temp_port_score.shape, temp_port_score.dropna().shape)\n",
    "        temp_port_score=temp_port_score.fillna(0)\n",
    "\n",
    "        # convert score into long/short score\n",
    "        temp_score=convert_lsScore(temp_port_score, short_num, long_num)\n",
    "        print('l/s num: ', temp_score.dropna().shape)\n",
    "        \n",
    "        B=create_excludingMatrix(temp_score)\n",
    "        print(B.shape, B.sum())        \n",
    "\n",
    "        # compute covariance\n",
    "        temp_cov=adjprc.loc[:rebal_date, temp_score.index].pct_change(20).dropna(how='all', axis=0).cov()\n",
    "        temp_cov=temp_cov.fillna(0)\n",
    "               \n",
    "        # load sector weight info\n",
    "        # temp_bm_sector=data_COM_nodup.loc[rebal_date, 'FG_Sector_Idx']\n",
    "        # temp_bm_sector=data_COM_nodup.loc[rebal_date, 'FG_Sector_Idx'].unstack().ffill().stack()\n",
    "\n",
    "        # concat with bm stock weights include all stocks in BM \n",
    "        # to compute sector weights, all BM stocks required\n",
    "        # excluding matrix so that it does not include not picked up stocks\n",
    "        \n",
    "        temp_bm_stockw=pd.concat([sector_info.loc[rebal_date].dropna(), temp_bm_weight], axis=1)\n",
    "        temp_bm_stockw.columns=['sector', 'bm_weight']\n",
    "        temp_bm_stockw=temp_bm_stockw.loc[temp_port_score.index]\n",
    "        temp_bm_sectorw=temp_bm_stockw.groupby('sector').sum()\n",
    "        print('bm sectorw: ', temp_bm_sectorw)\n",
    "        \n",
    "        A=create_sectorMatrix(temp_bm_sectorw, temp_bm_stockw)\n",
    "        \n",
    "        # Define the constraints (weights sum to 1)\n",
    "        const1 = {'type': 'eq', 'fun': lambda x: np.sum(x) - 1}\n",
    "        # const11 = {'type': 'eq', 'fun': lambda x: np.sum(B*x).sum()}\n",
    "        const2 = {'type': 'ineq', 'fun': lambda x: -np.abs(x - temp_bm_weight)+excess_stockw}\n",
    "        const3 = {'type': 'ineq', 'fun': lambda x: -np.abs(np.dot(A, x) - temp_bm_sectorw.values.flatten()) + excess_sectorw}\n",
    "        \n",
    "        # Define the bounds (each weight is between 0 and 1)\n",
    "        bounds = tuple((0, 1) for asset in range(len(temp_score.index)))\n",
    "\n",
    "        constraints=[const1, const2, const3] #+sec_ub+sec_lb\n",
    "\n",
    "        # Initial guess (equal weights)\n",
    "        initial_guess = [1 / len(temp_score.index) for asset in range(len(temp_score.index))]\n",
    "        # initial_guess=np.dot(B, initial_guess)\n",
    "        # initial_guess = temp_bm_weight.values\n",
    "        \n",
    "        # Perform the optimization\n",
    "        print(temp_bm_weight.shape, temp_score.shape, temp_cov.shape)\n",
    "        result = minimize(score_objective, initial_guess, args=(temp_bm_weight, temp_score, temp_cov),\n",
    "                          method='SLSQP', bounds=bounds, constraints=constraints) # \n",
    "        \n",
    "        # Extract the optimized weights\n",
    "        optimal_weights = result.x\n",
    "        optw_df=pd.DataFrame(optimal_weights, index=temp_score.index, columns=[rebal_date])\n",
    "        optw_ls.append(optw_df)\n",
    "        # print(\"Optimal Weights:\", optimal_weights)\n",
    "    \n",
    "    optw_port=pd.concat(optw_ls, axis=1).T\n",
    "    daily_optw=pd.DataFrame(None, index=adjprc.loc[optw_port.index[0]:optw_port.index[-1]].index, columns=optw_port.columns)\n",
    "    daily_optw.loc[optw_port.index]=optw_port.fillna(0)\n",
    "    daily_optw=daily_optw.ffill()\n",
    "\n",
    "    # daily_opt_port_ret=daily_optw*adjprc.pct_change().loc[daily_optw.index, daily_optw.columns]\n",
    "    # daily_opt_cumret=(1+daily_opt_port_ret.sum(1)).cumprod()\n",
    "\n",
    "    return daily_optw\n"
   ]
  },
  {
   "cell_type": "code",
   "execution_count": null,
   "id": "409e4e8b-f859-4b74-9079-1afb2afbc86c",
   "metadata": {},
   "outputs": [],
   "source": []
  },
  {
   "cell_type": "code",
   "execution_count": 723,
   "id": "cd4dc299-0618-4919-9313-039a60339c23",
   "metadata": {
    "execution": {
     "iopub.execute_input": "2024-08-30T01:57:04.076957Z",
     "iopub.status.busy": "2024-08-30T01:57:04.076327Z",
     "iopub.status.idle": "2024-08-30T01:57:04.327360Z",
     "shell.execute_reply": "2024-08-30T01:57:04.326554Z",
     "shell.execute_reply.started": "2024-08-30T01:57:04.076910Z"
    }
   },
   "outputs": [],
   "source": [
    "size_label=data_COM_nodup.loc[rebal_dates, 'KSECapSize']\n",
    "size_label=size_label.unstack().ffill().stack()"
   ]
  },
  {
   "cell_type": "code",
   "execution_count": 450,
   "id": "a49b983b-8b4c-45bc-abf3-28ef4ae0449c",
   "metadata": {
    "execution": {
     "iopub.execute_input": "2024-08-06T05:25:03.262424Z",
     "iopub.status.busy": "2024-08-06T05:25:03.261921Z",
     "iopub.status.idle": "2024-08-06T05:25:03.511486Z",
     "shell.execute_reply": "2024-08-06T05:25:03.510775Z",
     "shell.execute_reply.started": "2024-08-06T05:25:03.262377Z"
    }
   },
   "outputs": [],
   "source": [
    "sector_label=data_COM_nodup.loc[rebal_dates, 'FG_Sector_Idx']\n",
    "sector_label=sector_label.unstack().ffill().stack()"
   ]
  },
  {
   "cell_type": "code",
   "execution_count": 451,
   "id": "50629230-0f60-428f-a20d-7124790ee3de",
   "metadata": {
    "execution": {
     "iopub.execute_input": "2024-08-06T05:25:03.629082Z",
     "iopub.status.busy": "2024-08-06T05:25:03.628557Z",
     "iopub.status.idle": "2024-08-06T05:25:03.634394Z",
     "shell.execute_reply": "2024-08-06T05:25:03.633314Z",
     "shell.execute_reply.started": "2024-08-06T05:25:03.629034Z"
    }
   },
   "outputs": [],
   "source": [
    "long_num=75\n",
    "short_num=30\n",
    "stockw=.01\n",
    "sectorw=.02"
   ]
  },
  {
   "cell_type": "code",
   "execution_count": 452,
   "id": "c33109c5-a674-4596-ad38-2e970151dc12",
   "metadata": {
    "execution": {
     "iopub.execute_input": "2024-08-06T05:25:05.956265Z",
     "iopub.status.busy": "2024-08-06T05:25:05.955742Z",
     "iopub.status.idle": "2024-08-06T05:26:11.219662Z",
     "shell.execute_reply": "2024-08-06T05:26:11.218839Z",
     "shell.execute_reply.started": "2024-08-06T05:25:05.956220Z"
    },
    "scrolled": true
   },
   "outputs": [
    {
     "name": "stdout",
     "output_type": "stream",
     "text": [
      "2024-05-31 00:00:00\n",
      "bmw:  0.29487692615569344\n",
      "rawscore:  -0.013485700121135648\n",
      "port shape: (200,), bm shape: (200,), compare : 200\n",
      "bm adj score:  (200,) (200,)\n",
      "l/s num:  (105,)\n",
      "(200,) 95.0\n",
      "bm sectorw:          bm_weight\n",
      "sector           \n",
      "IT       0.477486\n",
      "경기소비재    0.105463\n",
      "금융       0.116670\n",
      "산업재      0.111767\n",
      "소재       0.067741\n",
      "에너지      0.021913\n",
      "유틸리티     0.006704\n",
      "의료       0.048229\n",
      "통신서비스    0.015709\n",
      "필수소비재    0.028317\n",
      "(200,) (200,) (200, 200)\n",
      "2024-06-28 00:00:00\n",
      "bmw:  0.3019792083166733\n",
      "rawscore:  -0.016757242488783533\n",
      "missing col:  A066970\n",
      "port shape: (200,), bm shape: (200,), compare : 200\n",
      "bm adj score:  (200,) (199,)\n",
      "l/s num:  (105,)\n",
      "(200,) 95.0\n"
     ]
    },
    {
     "name": "stderr",
     "output_type": "stream",
     "text": [
      "/tmp/ipykernel_309735/1376669033.py:120: FutureWarning: The default fill_method='pad' in DataFrame.pct_change is deprecated and will be removed in a future version. Call ffill before calling pct_change to retain current behavior and silence this warning.\n",
      "  temp_cov=adjprc.loc[:rebal_date, temp_score.index].pct_change(20).dropna(how='all', axis=0).cov()\n"
     ]
    },
    {
     "name": "stdout",
     "output_type": "stream",
     "text": [
      "bm sectorw:          bm_weight\n",
      "sector           \n",
      "IT       0.497801\n",
      "경기소비재    0.106557\n",
      "금융       0.108357\n",
      "산업재      0.112155\n",
      "소재       0.065674\n",
      "에너지      0.020292\n",
      "유틸리티     0.006797\n",
      "의료       0.041283\n",
      "통신서비스    0.014594\n",
      "필수소비재    0.026489\n",
      "(200,) (200,) (200, 200)\n",
      "2024-07-31 00:00:00\n",
      "bmw:  0.3138941682504751\n",
      "rawscore:  -0.01372626190780966\n",
      "port shape: (200,), bm shape: (200,), compare : 200\n",
      "bm adj score:  (200,) (200,)\n",
      "l/s num:  (105,)\n",
      "(200,) 95.0\n",
      "bm sectorw:          bm_weight\n",
      "sector           \n",
      "IT       0.489447\n",
      "경기소비재    0.095729\n",
      "금융       0.119136\n",
      "산업재      0.118035\n",
      "소재       0.059418\n",
      "에너지      0.020006\n",
      "유틸리티     0.006702\n",
      "의료       0.049215\n",
      "통신서비스    0.015505\n",
      "필수소비재    0.026808\n"
     ]
    },
    {
     "name": "stderr",
     "output_type": "stream",
     "text": [
      "/tmp/ipykernel_309735/1376669033.py:120: FutureWarning: The default fill_method='pad' in DataFrame.pct_change is deprecated and will be removed in a future version. Call ffill before calling pct_change to retain current behavior and silence this warning.\n",
      "  temp_cov=adjprc.loc[:rebal_date, temp_score.index].pct_change(20).dropna(how='all', axis=0).cov()\n"
     ]
    },
    {
     "name": "stdout",
     "output_type": "stream",
     "text": [
      "(200,) (200,) (200, 200)\n"
     ]
    }
   ],
   "source": [
    "daily_optw=optimize_portfolio_(ls_w, bmw, sector_label, rebal_dates, long_num, short_num, stockw, sectorw)"
   ]
  },
  {
   "cell_type": "code",
   "execution_count": null,
   "id": "2fb2fa24-3851-400d-8585-9f38e8c23830",
   "metadata": {},
   "outputs": [],
   "source": []
  },
  {
   "cell_type": "code",
   "execution_count": 453,
   "id": "a4822c1e-7ab0-4e08-804e-caff93534108",
   "metadata": {
    "execution": {
     "iopub.execute_input": "2024-08-06T05:26:13.580142Z",
     "iopub.status.busy": "2024-08-06T05:26:13.579599Z",
     "iopub.status.idle": "2024-08-06T05:26:13.592658Z",
     "shell.execute_reply": "2024-08-06T05:26:13.591625Z",
     "shell.execute_reply.started": "2024-08-06T05:26:13.580096Z"
    }
   },
   "outputs": [
    {
     "data": {
      "text/plain": [
       "Dates\n",
       "2016-06-02    21.89\n",
       "2016-06-03    22.07\n",
       "2016-06-07    22.09\n",
       "2016-06-08    22.02\n",
       "2016-06-09    22.05\n",
       "              ...  \n",
       "2024-07-29    30.51\n",
       "2024-07-30    30.75\n",
       "2024-07-31    31.38\n",
       "2024-08-01    31.08\n",
       "2024-08-02    31.02\n",
       "Name: A005930, Length: 2008, dtype: float64"
      ]
     },
     "execution_count": 453,
     "metadata": {},
     "output_type": "execute_result"
    }
   ],
   "source": [
    "bmw['A005930']"
   ]
  },
  {
   "cell_type": "code",
   "execution_count": 454,
   "id": "2451b373-53a4-4a62-a683-ce06236b1f42",
   "metadata": {
    "execution": {
     "iopub.execute_input": "2024-08-06T05:26:14.150694Z",
     "iopub.status.busy": "2024-08-06T05:26:14.150101Z",
     "iopub.status.idle": "2024-08-06T05:26:14.401576Z",
     "shell.execute_reply": "2024-08-06T05:26:14.400854Z",
     "shell.execute_reply.started": "2024-08-06T05:26:14.150649Z"
    }
   },
   "outputs": [
    {
     "data": {
      "text/plain": [
       "<Axes: xlabel='Dates'>"
      ]
     },
     "execution_count": 454,
     "metadata": {},
     "output_type": "execute_result"
    },
    {
     "data": {
      "image/png": "[encoded data removed]",
      "text/plain": [
       "<Figure size 640x480 with 1 Axes>"
      ]
     },
     "metadata": {},
     "output_type": "display_data"
    }
   ],
   "source": [
    "daily_optw['A005930'].plot()"
   ]
  },
  {
   "cell_type": "code",
   "execution_count": 455,
   "id": "461de8a9-000d-4a90-8f23-a2a3ba1ec91c",
   "metadata": {
    "execution": {
     "iopub.execute_input": "2024-08-06T05:26:15.806782Z",
     "iopub.status.busy": "2024-08-06T05:26:15.806250Z",
     "iopub.status.idle": "2024-08-06T05:26:15.813973Z",
     "shell.execute_reply": "2024-08-06T05:26:15.812858Z",
     "shell.execute_reply.started": "2024-08-06T05:26:15.806736Z"
    },
    "scrolled": true
   },
   "outputs": [],
   "source": [
    "check_stockw=[]\n",
    "for rd in rebal_dates:\n",
    "    check_stockw.append(daily_optw.loc[rd, 'A005930']*100-bmw.loc[rd, 'A005930'])"
   ]
  },
  {
   "cell_type": "code",
   "execution_count": 456,
   "id": "4a5df4bd-3ee0-49cc-9ee9-c4ddf3aac421",
   "metadata": {
    "execution": {
     "iopub.execute_input": "2024-08-06T05:26:16.046938Z",
     "iopub.status.busy": "2024-08-06T05:26:16.046213Z",
     "iopub.status.idle": "2024-08-06T05:26:16.054437Z",
     "shell.execute_reply": "2024-08-06T05:26:16.053228Z",
     "shell.execute_reply.started": "2024-08-06T05:26:16.046894Z"
    }
   },
   "outputs": [
    {
     "data": {
      "text/plain": [
       "(-0.015048148761461988, 0.012588035554507826)"
      ]
     },
     "execution_count": 456,
     "metadata": {},
     "output_type": "execute_result"
    }
   ],
   "source": [
    "min(check_stockw), max(check_stockw)"
   ]
  },
  {
   "cell_type": "code",
   "execution_count": null,
   "id": "8ffac335-6027-4371-8a00-e680cedd3e68",
   "metadata": {},
   "outputs": [],
   "source": []
  },
  {
   "cell_type": "code",
   "execution_count": 457,
   "id": "aed098a7-c855-4975-bdfc-60882abd2a29",
   "metadata": {
    "execution": {
     "iopub.execute_input": "2024-08-06T05:26:16.417339Z",
     "iopub.status.busy": "2024-08-06T05:26:16.416724Z",
     "iopub.status.idle": "2024-08-06T05:26:16.498905Z",
     "shell.execute_reply": "2024-08-06T05:26:16.498092Z",
     "shell.execute_reply.started": "2024-08-06T05:26:16.417294Z"
    }
   },
   "outputs": [],
   "source": [
    "sec_comp=[]\n",
    "for rd in rebal_dates:\n",
    "    port_sec=pd.concat([data_COM_nodup.loc[rd, 'FG_Sector_Idx'], daily_optw.loc[rd]], axis=1).groupby('FG_Sector_Idx').sum()*100\n",
    "    bm_sec=pd.concat([data_COM_nodup.loc[rd, 'FG_Sector_Idx'], bmw.loc[rd]], axis=1).groupby('FG_Sector_Idx').sum()\n",
    "    sec_comp.append(pd.concat([(port_sec-bm_sec).min(), (port_sec-bm_sec).idxmin(), (port_sec-bm_sec).max(), (port_sec-bm_sec).idxmax()], axis=1))"
   ]
  },
  {
   "cell_type": "code",
   "execution_count": 458,
   "id": "97cb2d80-ed61-4766-8838-27880bb839ca",
   "metadata": {
    "execution": {
     "iopub.execute_input": "2024-08-06T05:26:16.974958Z",
     "iopub.status.busy": "2024-08-06T05:26:16.974440Z",
     "iopub.status.idle": "2024-08-06T05:26:16.991673Z",
     "shell.execute_reply": "2024-08-06T05:26:16.990675Z",
     "shell.execute_reply.started": "2024-08-06T05:26:16.974914Z"
    }
   },
   "outputs": [
    {
     "data": {
      "text/html": [
       "<div>\n",
       "<style scoped>\n",
       "    .dataframe tbody tr th:only-of-type {\n",
       "        vertical-align: middle;\n",
       "    }\n",
       "\n",
       "    .dataframe tbody tr th {\n",
       "        vertical-align: top;\n",
       "    }\n",
       "\n",
       "    .dataframe thead th {\n",
       "        text-align: right;\n",
       "    }\n",
       "</style>\n",
       "<table border=\"1\" class=\"dataframe\">\n",
       "  <thead>\n",
       "    <tr style=\"text-align: right;\">\n",
       "      <th></th>\n",
       "      <th>0</th>\n",
       "      <th>1</th>\n",
       "      <th>2</th>\n",
       "      <th>3</th>\n",
       "    </tr>\n",
       "  </thead>\n",
       "  <tbody>\n",
       "    <tr>\n",
       "      <th>2024-05-31</th>\n",
       "      <td>-1.363719</td>\n",
       "      <td>의료</td>\n",
       "      <td>1.171767</td>\n",
       "      <td>경기소비재</td>\n",
       "    </tr>\n",
       "    <tr>\n",
       "      <th>2024-06-28</th>\n",
       "      <td>-1.460000</td>\n",
       "      <td>통신서비스</td>\n",
       "      <td>1.004126</td>\n",
       "      <td>유틸리티</td>\n",
       "    </tr>\n",
       "    <tr>\n",
       "      <th>2024-07-31</th>\n",
       "      <td>-1.499358</td>\n",
       "      <td>소재</td>\n",
       "      <td>1.982940</td>\n",
       "      <td>경기소비재</td>\n",
       "    </tr>\n",
       "  </tbody>\n",
       "</table>\n",
       "</div>"
      ],
      "text/plain": [
       "                   0      1         2      3\n",
       "2024-05-31 -1.363719     의료  1.171767  경기소비재\n",
       "2024-06-28 -1.460000  통신서비스  1.004126   유틸리티\n",
       "2024-07-31 -1.499358     소재  1.982940  경기소비재"
      ]
     },
     "execution_count": 458,
     "metadata": {},
     "output_type": "execute_result"
    }
   ],
   "source": [
    "pd.concat(sec_comp, axis=0)"
   ]
  },
  {
   "cell_type": "code",
   "execution_count": 459,
   "id": "0d2acbb1-f44b-4c85-9a31-fd86cd788d62",
   "metadata": {
    "execution": {
     "iopub.execute_input": "2024-08-06T05:26:17.380144Z",
     "iopub.status.busy": "2024-08-06T05:26:17.379635Z",
     "iopub.status.idle": "2024-08-06T05:26:17.573501Z",
     "shell.execute_reply": "2024-08-06T05:26:17.572741Z",
     "shell.execute_reply.started": "2024-08-06T05:26:17.380096Z"
    }
   },
   "outputs": [
    {
     "data": {
      "text/plain": [
       "<Axes: >"
      ]
     },
     "execution_count": 459,
     "metadata": {},
     "output_type": "execute_result"
    },
    {
     "data": {
      "image/png": "[encoded data removed]",
      "text/plain": [
       "<Figure size 640x480 with 1 Axes>"
      ]
     },
     "metadata": {},
     "output_type": "display_data"
    }
   ],
   "source": [
    "pd.concat(sec_comp, axis=0)[[0, 2]].plot()"
   ]
  },
  {
   "cell_type": "code",
   "execution_count": null,
   "id": "8005d89e-e948-4400-944d-2a643c077226",
   "metadata": {},
   "outputs": [],
   "source": []
  },
  {
   "cell_type": "code",
   "execution_count": 460,
   "id": "2d014e86-3c1f-4715-ae0b-b80a84c96492",
   "metadata": {
    "execution": {
     "iopub.execute_input": "2024-08-06T05:26:18.079500Z",
     "iopub.status.busy": "2024-08-06T05:26:18.078897Z",
     "iopub.status.idle": "2024-08-06T05:26:18.355390Z",
     "shell.execute_reply": "2024-08-06T05:26:18.354671Z",
     "shell.execute_reply.started": "2024-08-06T05:26:18.079455Z"
    },
    "scrolled": true
   },
   "outputs": [
    {
     "data": {
      "text/plain": [
       "<Axes: xlabel='Dates'>"
      ]
     },
     "execution_count": 460,
     "metadata": {},
     "output_type": "execute_result"
    },
    {
     "data": {
      "image/png": "[encoded data removed]",
      "text/plain": [
       "<Figure size 640x480 with 1 Axes>"
      ]
     },
     "metadata": {},
     "output_type": "display_data"
    }
   ],
   "source": [
    "daily_optw[daily_optw>10**-3].count(1).plot()"
   ]
  },
  {
   "cell_type": "code",
   "execution_count": 461,
   "id": "5c1606b1-ab4c-42fa-a4e1-7c04cfcae6f4",
   "metadata": {
    "execution": {
     "iopub.execute_input": "2024-08-06T05:26:18.898058Z",
     "iopub.status.busy": "2024-08-06T05:26:18.897448Z",
     "iopub.status.idle": "2024-08-06T05:26:18.964671Z",
     "shell.execute_reply": "2024-08-06T05:26:18.963783Z",
     "shell.execute_reply.started": "2024-08-06T05:26:18.898014Z"
    }
   },
   "outputs": [],
   "source": [
    "daily_optw=daily_optw[daily_optw>10**-3]"
   ]
  },
  {
   "cell_type": "code",
   "execution_count": 462,
   "id": "69fdbf23-b014-4a13-9956-663a2642d89f",
   "metadata": {
    "execution": {
     "iopub.execute_input": "2024-08-06T05:26:24.782481Z",
     "iopub.status.busy": "2024-08-06T05:26:24.781865Z",
     "iopub.status.idle": "2024-08-06T05:26:24.844732Z",
     "shell.execute_reply": "2024-08-06T05:26:24.843848Z",
     "shell.execute_reply.started": "2024-08-06T05:26:24.782434Z"
    },
    "scrolled": true
   },
   "outputs": [
    {
     "data": {
      "text/html": [
       "<div>\n",
       "<style scoped>\n",
       "    .dataframe tbody tr th:only-of-type {\n",
       "        vertical-align: middle;\n",
       "    }\n",
       "\n",
       "    .dataframe tbody tr th {\n",
       "        vertical-align: top;\n",
       "    }\n",
       "\n",
       "    .dataframe thead th {\n",
       "        text-align: right;\n",
       "    }\n",
       "</style>\n",
       "<table border=\"1\" class=\"dataframe\">\n",
       "  <thead>\n",
       "    <tr style=\"text-align: right;\">\n",
       "      <th>Symbol</th>\n",
       "      <th>A000080</th>\n",
       "      <th>A000100</th>\n",
       "      <th>A000120</th>\n",
       "      <th>A000150</th>\n",
       "      <th>A000210</th>\n",
       "      <th>A000240</th>\n",
       "      <th>A000270</th>\n",
       "      <th>A000660</th>\n",
       "      <th>A000670</th>\n",
       "      <th>A000720</th>\n",
       "      <th>...</th>\n",
       "      <th>A377300</th>\n",
       "      <th>A383220</th>\n",
       "      <th>A402340</th>\n",
       "      <th>A450080</th>\n",
       "      <th>A003030</th>\n",
       "      <th>A005070</th>\n",
       "      <th>A042700</th>\n",
       "      <th>A066970</th>\n",
       "      <th>A454910</th>\n",
       "      <th>A457190</th>\n",
       "    </tr>\n",
       "    <tr>\n",
       "      <th>Dates</th>\n",
       "      <th></th>\n",
       "      <th></th>\n",
       "      <th></th>\n",
       "      <th></th>\n",
       "      <th></th>\n",
       "      <th></th>\n",
       "      <th></th>\n",
       "      <th></th>\n",
       "      <th></th>\n",
       "      <th></th>\n",
       "      <th></th>\n",
       "      <th></th>\n",
       "      <th></th>\n",
       "      <th></th>\n",
       "      <th></th>\n",
       "      <th></th>\n",
       "      <th></th>\n",
       "      <th></th>\n",
       "      <th></th>\n",
       "      <th></th>\n",
       "      <th></th>\n",
       "    </tr>\n",
       "  </thead>\n",
       "  <tbody>\n",
       "    <tr>\n",
       "      <th>2024-05-31</th>\n",
       "      <td>NaN</td>\n",
       "      <td>0.003520</td>\n",
       "      <td>NaN</td>\n",
       "      <td>0.001191</td>\n",
       "      <td>NaN</td>\n",
       "      <td>NaN</td>\n",
       "      <td>0.024907</td>\n",
       "      <td>0.082103</td>\n",
       "      <td>NaN</td>\n",
       "      <td>0.002097</td>\n",
       "      <td>...</td>\n",
       "      <td>0.001795</td>\n",
       "      <td>0.001348</td>\n",
       "      <td>0.006060</td>\n",
       "      <td>0.002460</td>\n",
       "      <td>NaN</td>\n",
       "      <td>NaN</td>\n",
       "      <td>NaN</td>\n",
       "      <td>NaN</td>\n",
       "      <td>NaN</td>\n",
       "      <td>NaN</td>\n",
       "    </tr>\n",
       "    <tr>\n",
       "      <th>2024-06-03</th>\n",
       "      <td>NaN</td>\n",
       "      <td>0.003520</td>\n",
       "      <td>NaN</td>\n",
       "      <td>0.001191</td>\n",
       "      <td>NaN</td>\n",
       "      <td>NaN</td>\n",
       "      <td>0.024907</td>\n",
       "      <td>0.082103</td>\n",
       "      <td>NaN</td>\n",
       "      <td>0.002097</td>\n",
       "      <td>...</td>\n",
       "      <td>0.001795</td>\n",
       "      <td>0.001348</td>\n",
       "      <td>0.006060</td>\n",
       "      <td>0.002460</td>\n",
       "      <td>NaN</td>\n",
       "      <td>NaN</td>\n",
       "      <td>NaN</td>\n",
       "      <td>NaN</td>\n",
       "      <td>NaN</td>\n",
       "      <td>NaN</td>\n",
       "    </tr>\n",
       "    <tr>\n",
       "      <th>2024-06-04</th>\n",
       "      <td>NaN</td>\n",
       "      <td>0.003520</td>\n",
       "      <td>NaN</td>\n",
       "      <td>0.001191</td>\n",
       "      <td>NaN</td>\n",
       "      <td>NaN</td>\n",
       "      <td>0.024907</td>\n",
       "      <td>0.082103</td>\n",
       "      <td>NaN</td>\n",
       "      <td>0.002097</td>\n",
       "      <td>...</td>\n",
       "      <td>0.001795</td>\n",
       "      <td>0.001348</td>\n",
       "      <td>0.006060</td>\n",
       "      <td>0.002460</td>\n",
       "      <td>NaN</td>\n",
       "      <td>NaN</td>\n",
       "      <td>NaN</td>\n",
       "      <td>NaN</td>\n",
       "      <td>NaN</td>\n",
       "      <td>NaN</td>\n",
       "    </tr>\n",
       "    <tr>\n",
       "      <th>2024-06-05</th>\n",
       "      <td>NaN</td>\n",
       "      <td>0.003520</td>\n",
       "      <td>NaN</td>\n",
       "      <td>0.001191</td>\n",
       "      <td>NaN</td>\n",
       "      <td>NaN</td>\n",
       "      <td>0.024907</td>\n",
       "      <td>0.082103</td>\n",
       "      <td>NaN</td>\n",
       "      <td>0.002097</td>\n",
       "      <td>...</td>\n",
       "      <td>0.001795</td>\n",
       "      <td>0.001348</td>\n",
       "      <td>0.006060</td>\n",
       "      <td>0.002460</td>\n",
       "      <td>NaN</td>\n",
       "      <td>NaN</td>\n",
       "      <td>NaN</td>\n",
       "      <td>NaN</td>\n",
       "      <td>NaN</td>\n",
       "      <td>NaN</td>\n",
       "    </tr>\n",
       "    <tr>\n",
       "      <th>2024-06-07</th>\n",
       "      <td>NaN</td>\n",
       "      <td>0.003520</td>\n",
       "      <td>NaN</td>\n",
       "      <td>0.001191</td>\n",
       "      <td>NaN</td>\n",
       "      <td>NaN</td>\n",
       "      <td>0.024907</td>\n",
       "      <td>0.082103</td>\n",
       "      <td>NaN</td>\n",
       "      <td>0.002097</td>\n",
       "      <td>...</td>\n",
       "      <td>0.001795</td>\n",
       "      <td>0.001348</td>\n",
       "      <td>0.006060</td>\n",
       "      <td>0.002460</td>\n",
       "      <td>NaN</td>\n",
       "      <td>NaN</td>\n",
       "      <td>NaN</td>\n",
       "      <td>NaN</td>\n",
       "      <td>NaN</td>\n",
       "      <td>NaN</td>\n",
       "    </tr>\n",
       "    <tr>\n",
       "      <th>2024-06-10</th>\n",
       "      <td>NaN</td>\n",
       "      <td>0.003520</td>\n",
       "      <td>NaN</td>\n",
       "      <td>0.001191</td>\n",
       "      <td>NaN</td>\n",
       "      <td>NaN</td>\n",
       "      <td>0.024907</td>\n",
       "      <td>0.082103</td>\n",
       "      <td>NaN</td>\n",
       "      <td>0.002097</td>\n",
       "      <td>...</td>\n",
       "      <td>0.001795</td>\n",
       "      <td>0.001348</td>\n",
       "      <td>0.006060</td>\n",
       "      <td>0.002460</td>\n",
       "      <td>NaN</td>\n",
       "      <td>NaN</td>\n",
       "      <td>NaN</td>\n",
       "      <td>NaN</td>\n",
       "      <td>NaN</td>\n",
       "      <td>NaN</td>\n",
       "    </tr>\n",
       "    <tr>\n",
       "      <th>2024-06-11</th>\n",
       "      <td>NaN</td>\n",
       "      <td>0.003520</td>\n",
       "      <td>NaN</td>\n",
       "      <td>0.001191</td>\n",
       "      <td>NaN</td>\n",
       "      <td>NaN</td>\n",
       "      <td>0.024907</td>\n",
       "      <td>0.082103</td>\n",
       "      <td>NaN</td>\n",
       "      <td>0.002097</td>\n",
       "      <td>...</td>\n",
       "      <td>0.001795</td>\n",
       "      <td>0.001348</td>\n",
       "      <td>0.006060</td>\n",
       "      <td>0.002460</td>\n",
       "      <td>NaN</td>\n",
       "      <td>NaN</td>\n",
       "      <td>NaN</td>\n",
       "      <td>NaN</td>\n",
       "      <td>NaN</td>\n",
       "      <td>NaN</td>\n",
       "    </tr>\n",
       "    <tr>\n",
       "      <th>2024-06-12</th>\n",
       "      <td>NaN</td>\n",
       "      <td>0.003520</td>\n",
       "      <td>NaN</td>\n",
       "      <td>0.001191</td>\n",
       "      <td>NaN</td>\n",
       "      <td>NaN</td>\n",
       "      <td>0.024907</td>\n",
       "      <td>0.082103</td>\n",
       "      <td>NaN</td>\n",
       "      <td>0.002097</td>\n",
       "      <td>...</td>\n",
       "      <td>0.001795</td>\n",
       "      <td>0.001348</td>\n",
       "      <td>0.006060</td>\n",
       "      <td>0.002460</td>\n",
       "      <td>NaN</td>\n",
       "      <td>NaN</td>\n",
       "      <td>NaN</td>\n",
       "      <td>NaN</td>\n",
       "      <td>NaN</td>\n",
       "      <td>NaN</td>\n",
       "    </tr>\n",
       "    <tr>\n",
       "      <th>2024-06-13</th>\n",
       "      <td>NaN</td>\n",
       "      <td>0.003520</td>\n",
       "      <td>NaN</td>\n",
       "      <td>0.001191</td>\n",
       "      <td>NaN</td>\n",
       "      <td>NaN</td>\n",
       "      <td>0.024907</td>\n",
       "      <td>0.082103</td>\n",
       "      <td>NaN</td>\n",
       "      <td>0.002097</td>\n",
       "      <td>...</td>\n",
       "      <td>0.001795</td>\n",
       "      <td>0.001348</td>\n",
       "      <td>0.006060</td>\n",
       "      <td>0.002460</td>\n",
       "      <td>NaN</td>\n",
       "      <td>NaN</td>\n",
       "      <td>NaN</td>\n",
       "      <td>NaN</td>\n",
       "      <td>NaN</td>\n",
       "      <td>NaN</td>\n",
       "    </tr>\n",
       "    <tr>\n",
       "      <th>2024-06-14</th>\n",
       "      <td>NaN</td>\n",
       "      <td>0.003520</td>\n",
       "      <td>NaN</td>\n",
       "      <td>0.001191</td>\n",
       "      <td>NaN</td>\n",
       "      <td>NaN</td>\n",
       "      <td>0.024907</td>\n",
       "      <td>0.082103</td>\n",
       "      <td>NaN</td>\n",
       "      <td>0.002097</td>\n",
       "      <td>...</td>\n",
       "      <td>0.001795</td>\n",
       "      <td>0.001348</td>\n",
       "      <td>0.006060</td>\n",
       "      <td>0.002460</td>\n",
       "      <td>NaN</td>\n",
       "      <td>NaN</td>\n",
       "      <td>NaN</td>\n",
       "      <td>NaN</td>\n",
       "      <td>NaN</td>\n",
       "      <td>NaN</td>\n",
       "    </tr>\n",
       "    <tr>\n",
       "      <th>2024-06-17</th>\n",
       "      <td>NaN</td>\n",
       "      <td>0.003520</td>\n",
       "      <td>NaN</td>\n",
       "      <td>0.001191</td>\n",
       "      <td>NaN</td>\n",
       "      <td>NaN</td>\n",
       "      <td>0.024907</td>\n",
       "      <td>0.082103</td>\n",
       "      <td>NaN</td>\n",
       "      <td>0.002097</td>\n",
       "      <td>...</td>\n",
       "      <td>0.001795</td>\n",
       "      <td>0.001348</td>\n",
       "      <td>0.006060</td>\n",
       "      <td>0.002460</td>\n",
       "      <td>NaN</td>\n",
       "      <td>NaN</td>\n",
       "      <td>NaN</td>\n",
       "      <td>NaN</td>\n",
       "      <td>NaN</td>\n",
       "      <td>NaN</td>\n",
       "    </tr>\n",
       "    <tr>\n",
       "      <th>2024-06-18</th>\n",
       "      <td>NaN</td>\n",
       "      <td>0.003520</td>\n",
       "      <td>NaN</td>\n",
       "      <td>0.001191</td>\n",
       "      <td>NaN</td>\n",
       "      <td>NaN</td>\n",
       "      <td>0.024907</td>\n",
       "      <td>0.082103</td>\n",
       "      <td>NaN</td>\n",
       "      <td>0.002097</td>\n",
       "      <td>...</td>\n",
       "      <td>0.001795</td>\n",
       "      <td>0.001348</td>\n",
       "      <td>0.006060</td>\n",
       "      <td>0.002460</td>\n",
       "      <td>NaN</td>\n",
       "      <td>NaN</td>\n",
       "      <td>NaN</td>\n",
       "      <td>NaN</td>\n",
       "      <td>NaN</td>\n",
       "      <td>NaN</td>\n",
       "    </tr>\n",
       "    <tr>\n",
       "      <th>2024-06-19</th>\n",
       "      <td>NaN</td>\n",
       "      <td>0.003520</td>\n",
       "      <td>NaN</td>\n",
       "      <td>0.001191</td>\n",
       "      <td>NaN</td>\n",
       "      <td>NaN</td>\n",
       "      <td>0.024907</td>\n",
       "      <td>0.082103</td>\n",
       "      <td>NaN</td>\n",
       "      <td>0.002097</td>\n",
       "      <td>...</td>\n",
       "      <td>0.001795</td>\n",
       "      <td>0.001348</td>\n",
       "      <td>0.006060</td>\n",
       "      <td>0.002460</td>\n",
       "      <td>NaN</td>\n",
       "      <td>NaN</td>\n",
       "      <td>NaN</td>\n",
       "      <td>NaN</td>\n",
       "      <td>NaN</td>\n",
       "      <td>NaN</td>\n",
       "    </tr>\n",
       "    <tr>\n",
       "      <th>2024-06-20</th>\n",
       "      <td>NaN</td>\n",
       "      <td>0.003520</td>\n",
       "      <td>NaN</td>\n",
       "      <td>0.001191</td>\n",
       "      <td>NaN</td>\n",
       "      <td>NaN</td>\n",
       "      <td>0.024907</td>\n",
       "      <td>0.082103</td>\n",
       "      <td>NaN</td>\n",
       "      <td>0.002097</td>\n",
       "      <td>...</td>\n",
       "      <td>0.001795</td>\n",
       "      <td>0.001348</td>\n",
       "      <td>0.006060</td>\n",
       "      <td>0.002460</td>\n",
       "      <td>NaN</td>\n",
       "      <td>NaN</td>\n",
       "      <td>NaN</td>\n",
       "      <td>NaN</td>\n",
       "      <td>NaN</td>\n",
       "      <td>NaN</td>\n",
       "    </tr>\n",
       "    <tr>\n",
       "      <th>2024-06-21</th>\n",
       "      <td>NaN</td>\n",
       "      <td>0.003520</td>\n",
       "      <td>NaN</td>\n",
       "      <td>0.001191</td>\n",
       "      <td>NaN</td>\n",
       "      <td>NaN</td>\n",
       "      <td>0.024907</td>\n",
       "      <td>0.082103</td>\n",
       "      <td>NaN</td>\n",
       "      <td>0.002097</td>\n",
       "      <td>...</td>\n",
       "      <td>0.001795</td>\n",
       "      <td>0.001348</td>\n",
       "      <td>0.006060</td>\n",
       "      <td>0.002460</td>\n",
       "      <td>NaN</td>\n",
       "      <td>NaN</td>\n",
       "      <td>NaN</td>\n",
       "      <td>NaN</td>\n",
       "      <td>NaN</td>\n",
       "      <td>NaN</td>\n",
       "    </tr>\n",
       "    <tr>\n",
       "      <th>2024-06-24</th>\n",
       "      <td>NaN</td>\n",
       "      <td>0.003520</td>\n",
       "      <td>NaN</td>\n",
       "      <td>0.001191</td>\n",
       "      <td>NaN</td>\n",
       "      <td>NaN</td>\n",
       "      <td>0.024907</td>\n",
       "      <td>0.082103</td>\n",
       "      <td>NaN</td>\n",
       "      <td>0.002097</td>\n",
       "      <td>...</td>\n",
       "      <td>0.001795</td>\n",
       "      <td>0.001348</td>\n",
       "      <td>0.006060</td>\n",
       "      <td>0.002460</td>\n",
       "      <td>NaN</td>\n",
       "      <td>NaN</td>\n",
       "      <td>NaN</td>\n",
       "      <td>NaN</td>\n",
       "      <td>NaN</td>\n",
       "      <td>NaN</td>\n",
       "    </tr>\n",
       "    <tr>\n",
       "      <th>2024-06-25</th>\n",
       "      <td>NaN</td>\n",
       "      <td>0.003520</td>\n",
       "      <td>NaN</td>\n",
       "      <td>0.001191</td>\n",
       "      <td>NaN</td>\n",
       "      <td>NaN</td>\n",
       "      <td>0.024907</td>\n",
       "      <td>0.082103</td>\n",
       "      <td>NaN</td>\n",
       "      <td>0.002097</td>\n",
       "      <td>...</td>\n",
       "      <td>0.001795</td>\n",
       "      <td>0.001348</td>\n",
       "      <td>0.006060</td>\n",
       "      <td>0.002460</td>\n",
       "      <td>NaN</td>\n",
       "      <td>NaN</td>\n",
       "      <td>NaN</td>\n",
       "      <td>NaN</td>\n",
       "      <td>NaN</td>\n",
       "      <td>NaN</td>\n",
       "    </tr>\n",
       "    <tr>\n",
       "      <th>2024-06-26</th>\n",
       "      <td>NaN</td>\n",
       "      <td>0.003520</td>\n",
       "      <td>NaN</td>\n",
       "      <td>0.001191</td>\n",
       "      <td>NaN</td>\n",
       "      <td>NaN</td>\n",
       "      <td>0.024907</td>\n",
       "      <td>0.082103</td>\n",
       "      <td>NaN</td>\n",
       "      <td>0.002097</td>\n",
       "      <td>...</td>\n",
       "      <td>0.001795</td>\n",
       "      <td>0.001348</td>\n",
       "      <td>0.006060</td>\n",
       "      <td>0.002460</td>\n",
       "      <td>NaN</td>\n",
       "      <td>NaN</td>\n",
       "      <td>NaN</td>\n",
       "      <td>NaN</td>\n",
       "      <td>NaN</td>\n",
       "      <td>NaN</td>\n",
       "    </tr>\n",
       "    <tr>\n",
       "      <th>2024-06-27</th>\n",
       "      <td>NaN</td>\n",
       "      <td>0.003520</td>\n",
       "      <td>NaN</td>\n",
       "      <td>0.001191</td>\n",
       "      <td>NaN</td>\n",
       "      <td>NaN</td>\n",
       "      <td>0.024907</td>\n",
       "      <td>0.082103</td>\n",
       "      <td>NaN</td>\n",
       "      <td>0.002097</td>\n",
       "      <td>...</td>\n",
       "      <td>0.001795</td>\n",
       "      <td>0.001348</td>\n",
       "      <td>0.006060</td>\n",
       "      <td>0.002460</td>\n",
       "      <td>NaN</td>\n",
       "      <td>NaN</td>\n",
       "      <td>NaN</td>\n",
       "      <td>NaN</td>\n",
       "      <td>NaN</td>\n",
       "      <td>NaN</td>\n",
       "    </tr>\n",
       "    <tr>\n",
       "      <th>2024-06-28</th>\n",
       "      <td>NaN</td>\n",
       "      <td>0.003874</td>\n",
       "      <td>NaN</td>\n",
       "      <td>0.001267</td>\n",
       "      <td>NaN</td>\n",
       "      <td>NaN</td>\n",
       "      <td>0.024834</td>\n",
       "      <td>0.103982</td>\n",
       "      <td>NaN</td>\n",
       "      <td>0.001895</td>\n",
       "      <td>...</td>\n",
       "      <td>NaN</td>\n",
       "      <td>NaN</td>\n",
       "      <td>0.007177</td>\n",
       "      <td>0.001530</td>\n",
       "      <td>NaN</td>\n",
       "      <td>0.002501</td>\n",
       "      <td>0.005808</td>\n",
       "      <td>0.002752</td>\n",
       "      <td>0.001317</td>\n",
       "      <td>NaN</td>\n",
       "    </tr>\n",
       "    <tr>\n",
       "      <th>2024-07-01</th>\n",
       "      <td>NaN</td>\n",
       "      <td>0.003874</td>\n",
       "      <td>NaN</td>\n",
       "      <td>0.001267</td>\n",
       "      <td>NaN</td>\n",
       "      <td>NaN</td>\n",
       "      <td>0.024834</td>\n",
       "      <td>0.103982</td>\n",
       "      <td>NaN</td>\n",
       "      <td>0.001895</td>\n",
       "      <td>...</td>\n",
       "      <td>NaN</td>\n",
       "      <td>NaN</td>\n",
       "      <td>0.007177</td>\n",
       "      <td>0.001530</td>\n",
       "      <td>NaN</td>\n",
       "      <td>0.002501</td>\n",
       "      <td>0.005808</td>\n",
       "      <td>0.002752</td>\n",
       "      <td>0.001317</td>\n",
       "      <td>NaN</td>\n",
       "    </tr>\n",
       "    <tr>\n",
       "      <th>2024-07-02</th>\n",
       "      <td>NaN</td>\n",
       "      <td>0.003874</td>\n",
       "      <td>NaN</td>\n",
       "      <td>0.001267</td>\n",
       "      <td>NaN</td>\n",
       "      <td>NaN</td>\n",
       "      <td>0.024834</td>\n",
       "      <td>0.103982</td>\n",
       "      <td>NaN</td>\n",
       "      <td>0.001895</td>\n",
       "      <td>...</td>\n",
       "      <td>NaN</td>\n",
       "      <td>NaN</td>\n",
       "      <td>0.007177</td>\n",
       "      <td>0.001530</td>\n",
       "      <td>NaN</td>\n",
       "      <td>0.002501</td>\n",
       "      <td>0.005808</td>\n",
       "      <td>0.002752</td>\n",
       "      <td>0.001317</td>\n",
       "      <td>NaN</td>\n",
       "    </tr>\n",
       "    <tr>\n",
       "      <th>2024-07-03</th>\n",
       "      <td>NaN</td>\n",
       "      <td>0.003874</td>\n",
       "      <td>NaN</td>\n",
       "      <td>0.001267</td>\n",
       "      <td>NaN</td>\n",
       "      <td>NaN</td>\n",
       "      <td>0.024834</td>\n",
       "      <td>0.103982</td>\n",
       "      <td>NaN</td>\n",
       "      <td>0.001895</td>\n",
       "      <td>...</td>\n",
       "      <td>NaN</td>\n",
       "      <td>NaN</td>\n",
       "      <td>0.007177</td>\n",
       "      <td>0.001530</td>\n",
       "      <td>NaN</td>\n",
       "      <td>0.002501</td>\n",
       "      <td>0.005808</td>\n",
       "      <td>0.002752</td>\n",
       "      <td>0.001317</td>\n",
       "      <td>NaN</td>\n",
       "    </tr>\n",
       "    <tr>\n",
       "      <th>2024-07-04</th>\n",
       "      <td>NaN</td>\n",
       "      <td>0.003874</td>\n",
       "      <td>NaN</td>\n",
       "      <td>0.001267</td>\n",
       "      <td>NaN</td>\n",
       "      <td>NaN</td>\n",
       "      <td>0.024834</td>\n",
       "      <td>0.103982</td>\n",
       "      <td>NaN</td>\n",
       "      <td>0.001895</td>\n",
       "      <td>...</td>\n",
       "      <td>NaN</td>\n",
       "      <td>NaN</td>\n",
       "      <td>0.007177</td>\n",
       "      <td>0.001530</td>\n",
       "      <td>NaN</td>\n",
       "      <td>0.002501</td>\n",
       "      <td>0.005808</td>\n",
       "      <td>0.002752</td>\n",
       "      <td>0.001317</td>\n",
       "      <td>NaN</td>\n",
       "    </tr>\n",
       "    <tr>\n",
       "      <th>2024-07-05</th>\n",
       "      <td>NaN</td>\n",
       "      <td>0.003874</td>\n",
       "      <td>NaN</td>\n",
       "      <td>0.001267</td>\n",
       "      <td>NaN</td>\n",
       "      <td>NaN</td>\n",
       "      <td>0.024834</td>\n",
       "      <td>0.103982</td>\n",
       "      <td>NaN</td>\n",
       "      <td>0.001895</td>\n",
       "      <td>...</td>\n",
       "      <td>NaN</td>\n",
       "      <td>NaN</td>\n",
       "      <td>0.007177</td>\n",
       "      <td>0.001530</td>\n",
       "      <td>NaN</td>\n",
       "      <td>0.002501</td>\n",
       "      <td>0.005808</td>\n",
       "      <td>0.002752</td>\n",
       "      <td>0.001317</td>\n",
       "      <td>NaN</td>\n",
       "    </tr>\n",
       "    <tr>\n",
       "      <th>2024-07-08</th>\n",
       "      <td>NaN</td>\n",
       "      <td>0.003874</td>\n",
       "      <td>NaN</td>\n",
       "      <td>0.001267</td>\n",
       "      <td>NaN</td>\n",
       "      <td>NaN</td>\n",
       "      <td>0.024834</td>\n",
       "      <td>0.103982</td>\n",
       "      <td>NaN</td>\n",
       "      <td>0.001895</td>\n",
       "      <td>...</td>\n",
       "      <td>NaN</td>\n",
       "      <td>NaN</td>\n",
       "      <td>0.007177</td>\n",
       "      <td>0.001530</td>\n",
       "      <td>NaN</td>\n",
       "      <td>0.002501</td>\n",
       "      <td>0.005808</td>\n",
       "      <td>0.002752</td>\n",
       "      <td>0.001317</td>\n",
       "      <td>NaN</td>\n",
       "    </tr>\n",
       "    <tr>\n",
       "      <th>2024-07-09</th>\n",
       "      <td>NaN</td>\n",
       "      <td>0.003874</td>\n",
       "      <td>NaN</td>\n",
       "      <td>0.001267</td>\n",
       "      <td>NaN</td>\n",
       "      <td>NaN</td>\n",
       "      <td>0.024834</td>\n",
       "      <td>0.103982</td>\n",
       "      <td>NaN</td>\n",
       "      <td>0.001895</td>\n",
       "      <td>...</td>\n",
       "      <td>NaN</td>\n",
       "      <td>NaN</td>\n",
       "      <td>0.007177</td>\n",
       "      <td>0.001530</td>\n",
       "      <td>NaN</td>\n",
       "      <td>0.002501</td>\n",
       "      <td>0.005808</td>\n",
       "      <td>0.002752</td>\n",
       "      <td>0.001317</td>\n",
       "      <td>NaN</td>\n",
       "    </tr>\n",
       "    <tr>\n",
       "      <th>2024-07-10</th>\n",
       "      <td>NaN</td>\n",
       "      <td>0.003874</td>\n",
       "      <td>NaN</td>\n",
       "      <td>0.001267</td>\n",
       "      <td>NaN</td>\n",
       "      <td>NaN</td>\n",
       "      <td>0.024834</td>\n",
       "      <td>0.103982</td>\n",
       "      <td>NaN</td>\n",
       "      <td>0.001895</td>\n",
       "      <td>...</td>\n",
       "      <td>NaN</td>\n",
       "      <td>NaN</td>\n",
       "      <td>0.007177</td>\n",
       "      <td>0.001530</td>\n",
       "      <td>NaN</td>\n",
       "      <td>0.002501</td>\n",
       "      <td>0.005808</td>\n",
       "      <td>0.002752</td>\n",
       "      <td>0.001317</td>\n",
       "      <td>NaN</td>\n",
       "    </tr>\n",
       "    <tr>\n",
       "      <th>2024-07-11</th>\n",
       "      <td>NaN</td>\n",
       "      <td>0.003874</td>\n",
       "      <td>NaN</td>\n",
       "      <td>0.001267</td>\n",
       "      <td>NaN</td>\n",
       "      <td>NaN</td>\n",
       "      <td>0.024834</td>\n",
       "      <td>0.103982</td>\n",
       "      <td>NaN</td>\n",
       "      <td>0.001895</td>\n",
       "      <td>...</td>\n",
       "      <td>NaN</td>\n",
       "      <td>NaN</td>\n",
       "      <td>0.007177</td>\n",
       "      <td>0.001530</td>\n",
       "      <td>NaN</td>\n",
       "      <td>0.002501</td>\n",
       "      <td>0.005808</td>\n",
       "      <td>0.002752</td>\n",
       "      <td>0.001317</td>\n",
       "      <td>NaN</td>\n",
       "    </tr>\n",
       "    <tr>\n",
       "      <th>2024-07-12</th>\n",
       "      <td>NaN</td>\n",
       "      <td>0.003874</td>\n",
       "      <td>NaN</td>\n",
       "      <td>0.001267</td>\n",
       "      <td>NaN</td>\n",
       "      <td>NaN</td>\n",
       "      <td>0.024834</td>\n",
       "      <td>0.103982</td>\n",
       "      <td>NaN</td>\n",
       "      <td>0.001895</td>\n",
       "      <td>...</td>\n",
       "      <td>NaN</td>\n",
       "      <td>NaN</td>\n",
       "      <td>0.007177</td>\n",
       "      <td>0.001530</td>\n",
       "      <td>NaN</td>\n",
       "      <td>0.002501</td>\n",
       "      <td>0.005808</td>\n",
       "      <td>0.002752</td>\n",
       "      <td>0.001317</td>\n",
       "      <td>NaN</td>\n",
       "    </tr>\n",
       "    <tr>\n",
       "      <th>2024-07-15</th>\n",
       "      <td>NaN</td>\n",
       "      <td>0.003874</td>\n",
       "      <td>NaN</td>\n",
       "      <td>0.001267</td>\n",
       "      <td>NaN</td>\n",
       "      <td>NaN</td>\n",
       "      <td>0.024834</td>\n",
       "      <td>0.103982</td>\n",
       "      <td>NaN</td>\n",
       "      <td>0.001895</td>\n",
       "      <td>...</td>\n",
       "      <td>NaN</td>\n",
       "      <td>NaN</td>\n",
       "      <td>0.007177</td>\n",
       "      <td>0.001530</td>\n",
       "      <td>NaN</td>\n",
       "      <td>0.002501</td>\n",
       "      <td>0.005808</td>\n",
       "      <td>0.002752</td>\n",
       "      <td>0.001317</td>\n",
       "      <td>NaN</td>\n",
       "    </tr>\n",
       "    <tr>\n",
       "      <th>2024-07-16</th>\n",
       "      <td>NaN</td>\n",
       "      <td>0.003874</td>\n",
       "      <td>NaN</td>\n",
       "      <td>0.001267</td>\n",
       "      <td>NaN</td>\n",
       "      <td>NaN</td>\n",
       "      <td>0.024834</td>\n",
       "      <td>0.103982</td>\n",
       "      <td>NaN</td>\n",
       "      <td>0.001895</td>\n",
       "      <td>...</td>\n",
       "      <td>NaN</td>\n",
       "      <td>NaN</td>\n",
       "      <td>0.007177</td>\n",
       "      <td>0.001530</td>\n",
       "      <td>NaN</td>\n",
       "      <td>0.002501</td>\n",
       "      <td>0.005808</td>\n",
       "      <td>0.002752</td>\n",
       "      <td>0.001317</td>\n",
       "      <td>NaN</td>\n",
       "    </tr>\n",
       "    <tr>\n",
       "      <th>2024-07-17</th>\n",
       "      <td>NaN</td>\n",
       "      <td>0.003874</td>\n",
       "      <td>NaN</td>\n",
       "      <td>0.001267</td>\n",
       "      <td>NaN</td>\n",
       "      <td>NaN</td>\n",
       "      <td>0.024834</td>\n",
       "      <td>0.103982</td>\n",
       "      <td>NaN</td>\n",
       "      <td>0.001895</td>\n",
       "      <td>...</td>\n",
       "      <td>NaN</td>\n",
       "      <td>NaN</td>\n",
       "      <td>0.007177</td>\n",
       "      <td>0.001530</td>\n",
       "      <td>NaN</td>\n",
       "      <td>0.002501</td>\n",
       "      <td>0.005808</td>\n",
       "      <td>0.002752</td>\n",
       "      <td>0.001317</td>\n",
       "      <td>NaN</td>\n",
       "    </tr>\n",
       "    <tr>\n",
       "      <th>2024-07-18</th>\n",
       "      <td>NaN</td>\n",
       "      <td>0.003874</td>\n",
       "      <td>NaN</td>\n",
       "      <td>0.001267</td>\n",
       "      <td>NaN</td>\n",
       "      <td>NaN</td>\n",
       "      <td>0.024834</td>\n",
       "      <td>0.103982</td>\n",
       "      <td>NaN</td>\n",
       "      <td>0.001895</td>\n",
       "      <td>...</td>\n",
       "      <td>NaN</td>\n",
       "      <td>NaN</td>\n",
       "      <td>0.007177</td>\n",
       "      <td>0.001530</td>\n",
       "      <td>NaN</td>\n",
       "      <td>0.002501</td>\n",
       "      <td>0.005808</td>\n",
       "      <td>0.002752</td>\n",
       "      <td>0.001317</td>\n",
       "      <td>NaN</td>\n",
       "    </tr>\n",
       "    <tr>\n",
       "      <th>2024-07-19</th>\n",
       "      <td>NaN</td>\n",
       "      <td>0.003874</td>\n",
       "      <td>NaN</td>\n",
       "      <td>0.001267</td>\n",
       "      <td>NaN</td>\n",
       "      <td>NaN</td>\n",
       "      <td>0.024834</td>\n",
       "      <td>0.103982</td>\n",
       "      <td>NaN</td>\n",
       "      <td>0.001895</td>\n",
       "      <td>...</td>\n",
       "      <td>NaN</td>\n",
       "      <td>NaN</td>\n",
       "      <td>0.007177</td>\n",
       "      <td>0.001530</td>\n",
       "      <td>NaN</td>\n",
       "      <td>0.002501</td>\n",
       "      <td>0.005808</td>\n",
       "      <td>0.002752</td>\n",
       "      <td>0.001317</td>\n",
       "      <td>NaN</td>\n",
       "    </tr>\n",
       "    <tr>\n",
       "      <th>2024-07-22</th>\n",
       "      <td>NaN</td>\n",
       "      <td>0.003874</td>\n",
       "      <td>NaN</td>\n",
       "      <td>0.001267</td>\n",
       "      <td>NaN</td>\n",
       "      <td>NaN</td>\n",
       "      <td>0.024834</td>\n",
       "      <td>0.103982</td>\n",
       "      <td>NaN</td>\n",
       "      <td>0.001895</td>\n",
       "      <td>...</td>\n",
       "      <td>NaN</td>\n",
       "      <td>NaN</td>\n",
       "      <td>0.007177</td>\n",
       "      <td>0.001530</td>\n",
       "      <td>NaN</td>\n",
       "      <td>0.002501</td>\n",
       "      <td>0.005808</td>\n",
       "      <td>0.002752</td>\n",
       "      <td>0.001317</td>\n",
       "      <td>NaN</td>\n",
       "    </tr>\n",
       "    <tr>\n",
       "      <th>2024-07-23</th>\n",
       "      <td>NaN</td>\n",
       "      <td>0.003874</td>\n",
       "      <td>NaN</td>\n",
       "      <td>0.001267</td>\n",
       "      <td>NaN</td>\n",
       "      <td>NaN</td>\n",
       "      <td>0.024834</td>\n",
       "      <td>0.103982</td>\n",
       "      <td>NaN</td>\n",
       "      <td>0.001895</td>\n",
       "      <td>...</td>\n",
       "      <td>NaN</td>\n",
       "      <td>NaN</td>\n",
       "      <td>0.007177</td>\n",
       "      <td>0.001530</td>\n",
       "      <td>NaN</td>\n",
       "      <td>0.002501</td>\n",
       "      <td>0.005808</td>\n",
       "      <td>0.002752</td>\n",
       "      <td>0.001317</td>\n",
       "      <td>NaN</td>\n",
       "    </tr>\n",
       "    <tr>\n",
       "      <th>2024-07-24</th>\n",
       "      <td>NaN</td>\n",
       "      <td>0.003874</td>\n",
       "      <td>NaN</td>\n",
       "      <td>0.001267</td>\n",
       "      <td>NaN</td>\n",
       "      <td>NaN</td>\n",
       "      <td>0.024834</td>\n",
       "      <td>0.103982</td>\n",
       "      <td>NaN</td>\n",
       "      <td>0.001895</td>\n",
       "      <td>...</td>\n",
       "      <td>NaN</td>\n",
       "      <td>NaN</td>\n",
       "      <td>0.007177</td>\n",
       "      <td>0.001530</td>\n",
       "      <td>NaN</td>\n",
       "      <td>0.002501</td>\n",
       "      <td>0.005808</td>\n",
       "      <td>0.002752</td>\n",
       "      <td>0.001317</td>\n",
       "      <td>NaN</td>\n",
       "    </tr>\n",
       "    <tr>\n",
       "      <th>2024-07-25</th>\n",
       "      <td>NaN</td>\n",
       "      <td>0.003874</td>\n",
       "      <td>NaN</td>\n",
       "      <td>0.001267</td>\n",
       "      <td>NaN</td>\n",
       "      <td>NaN</td>\n",
       "      <td>0.024834</td>\n",
       "      <td>0.103982</td>\n",
       "      <td>NaN</td>\n",
       "      <td>0.001895</td>\n",
       "      <td>...</td>\n",
       "      <td>NaN</td>\n",
       "      <td>NaN</td>\n",
       "      <td>0.007177</td>\n",
       "      <td>0.001530</td>\n",
       "      <td>NaN</td>\n",
       "      <td>0.002501</td>\n",
       "      <td>0.005808</td>\n",
       "      <td>0.002752</td>\n",
       "      <td>0.001317</td>\n",
       "      <td>NaN</td>\n",
       "    </tr>\n",
       "    <tr>\n",
       "      <th>2024-07-26</th>\n",
       "      <td>NaN</td>\n",
       "      <td>0.003874</td>\n",
       "      <td>NaN</td>\n",
       "      <td>0.001267</td>\n",
       "      <td>NaN</td>\n",
       "      <td>NaN</td>\n",
       "      <td>0.024834</td>\n",
       "      <td>0.103982</td>\n",
       "      <td>NaN</td>\n",
       "      <td>0.001895</td>\n",
       "      <td>...</td>\n",
       "      <td>NaN</td>\n",
       "      <td>NaN</td>\n",
       "      <td>0.007177</td>\n",
       "      <td>0.001530</td>\n",
       "      <td>NaN</td>\n",
       "      <td>0.002501</td>\n",
       "      <td>0.005808</td>\n",
       "      <td>0.002752</td>\n",
       "      <td>0.001317</td>\n",
       "      <td>NaN</td>\n",
       "    </tr>\n",
       "    <tr>\n",
       "      <th>2024-07-29</th>\n",
       "      <td>NaN</td>\n",
       "      <td>0.003874</td>\n",
       "      <td>NaN</td>\n",
       "      <td>0.001267</td>\n",
       "      <td>NaN</td>\n",
       "      <td>NaN</td>\n",
       "      <td>0.024834</td>\n",
       "      <td>0.103982</td>\n",
       "      <td>NaN</td>\n",
       "      <td>0.001895</td>\n",
       "      <td>...</td>\n",
       "      <td>NaN</td>\n",
       "      <td>NaN</td>\n",
       "      <td>0.007177</td>\n",
       "      <td>0.001530</td>\n",
       "      <td>NaN</td>\n",
       "      <td>0.002501</td>\n",
       "      <td>0.005808</td>\n",
       "      <td>0.002752</td>\n",
       "      <td>0.001317</td>\n",
       "      <td>NaN</td>\n",
       "    </tr>\n",
       "    <tr>\n",
       "      <th>2024-07-30</th>\n",
       "      <td>NaN</td>\n",
       "      <td>0.003874</td>\n",
       "      <td>NaN</td>\n",
       "      <td>0.001267</td>\n",
       "      <td>NaN</td>\n",
       "      <td>NaN</td>\n",
       "      <td>0.024834</td>\n",
       "      <td>0.103982</td>\n",
       "      <td>NaN</td>\n",
       "      <td>0.001895</td>\n",
       "      <td>...</td>\n",
       "      <td>NaN</td>\n",
       "      <td>NaN</td>\n",
       "      <td>0.007177</td>\n",
       "      <td>0.001530</td>\n",
       "      <td>NaN</td>\n",
       "      <td>0.002501</td>\n",
       "      <td>0.005808</td>\n",
       "      <td>0.002752</td>\n",
       "      <td>0.001317</td>\n",
       "      <td>NaN</td>\n",
       "    </tr>\n",
       "    <tr>\n",
       "      <th>2024-07-31</th>\n",
       "      <td>NaN</td>\n",
       "      <td>0.004581</td>\n",
       "      <td>NaN</td>\n",
       "      <td>0.001032</td>\n",
       "      <td>NaN</td>\n",
       "      <td>NaN</td>\n",
       "      <td>0.021924</td>\n",
       "      <td>0.086503</td>\n",
       "      <td>NaN</td>\n",
       "      <td>0.001910</td>\n",
       "      <td>...</td>\n",
       "      <td>0.001964</td>\n",
       "      <td>0.007594</td>\n",
       "      <td>0.006356</td>\n",
       "      <td>0.001421</td>\n",
       "      <td>0.002849</td>\n",
       "      <td>0.002356</td>\n",
       "      <td>0.004424</td>\n",
       "      <td>0.002147</td>\n",
       "      <td>0.001110</td>\n",
       "      <td>NaN</td>\n",
       "    </tr>\n",
       "  </tbody>\n",
       "</table>\n",
       "<p>43 rows × 206 columns</p>\n",
       "</div>"
      ],
      "text/plain": [
       "Symbol      A000080   A000100  A000120   A000150  A000210  A000240   A000270  \\\n",
       "Dates                                                                          \n",
       "2024-05-31      NaN  0.003520      NaN  0.001191      NaN      NaN  0.024907   \n",
       "2024-06-03      NaN  0.003520      NaN  0.001191      NaN      NaN  0.024907   \n",
       "2024-06-04      NaN  0.003520      NaN  0.001191      NaN      NaN  0.024907   \n",
       "2024-06-05      NaN  0.003520      NaN  0.001191      NaN      NaN  0.024907   \n",
       "2024-06-07      NaN  0.003520      NaN  0.001191      NaN      NaN  0.024907   \n",
       "2024-06-10      NaN  0.003520      NaN  0.001191      NaN      NaN  0.024907   \n",
       "2024-06-11      NaN  0.003520      NaN  0.001191      NaN      NaN  0.024907   \n",
       "2024-06-12      NaN  0.003520      NaN  0.001191      NaN      NaN  0.024907   \n",
       "2024-06-13      NaN  0.003520      NaN  0.001191      NaN      NaN  0.024907   \n",
       "2024-06-14      NaN  0.003520      NaN  0.001191      NaN      NaN  0.024907   \n",
       "2024-06-17      NaN  0.003520      NaN  0.001191      NaN      NaN  0.024907   \n",
       "2024-06-18      NaN  0.003520      NaN  0.001191      NaN      NaN  0.024907   \n",
       "2024-06-19      NaN  0.003520      NaN  0.001191      NaN      NaN  0.024907   \n",
       "2024-06-20      NaN  0.003520      NaN  0.001191      NaN      NaN  0.024907   \n",
       "2024-06-21      NaN  0.003520      NaN  0.001191      NaN      NaN  0.024907   \n",
       "2024-06-24      NaN  0.003520      NaN  0.001191      NaN      NaN  0.024907   \n",
       "2024-06-25      NaN  0.003520      NaN  0.001191      NaN      NaN  0.024907   \n",
       "2024-06-26      NaN  0.003520      NaN  0.001191      NaN      NaN  0.024907   \n",
       "2024-06-27      NaN  0.003520      NaN  0.001191      NaN      NaN  0.024907   \n",
       "2024-06-28      NaN  0.003874      NaN  0.001267      NaN      NaN  0.024834   \n",
       "2024-07-01      NaN  0.003874      NaN  0.001267      NaN      NaN  0.024834   \n",
       "2024-07-02      NaN  0.003874      NaN  0.001267      NaN      NaN  0.024834   \n",
       "2024-07-03      NaN  0.003874      NaN  0.001267      NaN      NaN  0.024834   \n",
       "2024-07-04      NaN  0.003874      NaN  0.001267      NaN      NaN  0.024834   \n",
       "2024-07-05      NaN  0.003874      NaN  0.001267      NaN      NaN  0.024834   \n",
       "2024-07-08      NaN  0.003874      NaN  0.001267      NaN      NaN  0.024834   \n",
       "2024-07-09      NaN  0.003874      NaN  0.001267      NaN      NaN  0.024834   \n",
       "2024-07-10      NaN  0.003874      NaN  0.001267      NaN      NaN  0.024834   \n",
       "2024-07-11      NaN  0.003874      NaN  0.001267      NaN      NaN  0.024834   \n",
       "2024-07-12      NaN  0.003874      NaN  0.001267      NaN      NaN  0.024834   \n",
       "2024-07-15      NaN  0.003874      NaN  0.001267      NaN      NaN  0.024834   \n",
       "2024-07-16      NaN  0.003874      NaN  0.001267      NaN      NaN  0.024834   \n",
       "2024-07-17      NaN  0.003874      NaN  0.001267      NaN      NaN  0.024834   \n",
       "2024-07-18      NaN  0.003874      NaN  0.001267      NaN      NaN  0.024834   \n",
       "2024-07-19      NaN  0.003874      NaN  0.001267      NaN      NaN  0.024834   \n",
       "2024-07-22      NaN  0.003874      NaN  0.001267      NaN      NaN  0.024834   \n",
       "2024-07-23      NaN  0.003874      NaN  0.001267      NaN      NaN  0.024834   \n",
       "2024-07-24      NaN  0.003874      NaN  0.001267      NaN      NaN  0.024834   \n",
       "2024-07-25      NaN  0.003874      NaN  0.001267      NaN      NaN  0.024834   \n",
       "2024-07-26      NaN  0.003874      NaN  0.001267      NaN      NaN  0.024834   \n",
       "2024-07-29      NaN  0.003874      NaN  0.001267      NaN      NaN  0.024834   \n",
       "2024-07-30      NaN  0.003874      NaN  0.001267      NaN      NaN  0.024834   \n",
       "2024-07-31      NaN  0.004581      NaN  0.001032      NaN      NaN  0.021924   \n",
       "\n",
       "Symbol       A000660  A000670   A000720  ...   A377300   A383220   A402340  \\\n",
       "Dates                                    ...                                 \n",
       "2024-05-31  0.082103      NaN  0.002097  ...  0.001795  0.001348  0.006060   \n",
       "2024-06-03  0.082103      NaN  0.002097  ...  0.001795  0.001348  0.006060   \n",
       "2024-06-04  0.082103      NaN  0.002097  ...  0.001795  0.001348  0.006060   \n",
       "2024-06-05  0.082103      NaN  0.002097  ...  0.001795  0.001348  0.006060   \n",
       "2024-06-07  0.082103      NaN  0.002097  ...  0.001795  0.001348  0.006060   \n",
       "2024-06-10  0.082103      NaN  0.002097  ...  0.001795  0.001348  0.006060   \n",
       "2024-06-11  0.082103      NaN  0.002097  ...  0.001795  0.001348  0.006060   \n",
       "2024-06-12  0.082103      NaN  0.002097  ...  0.001795  0.001348  0.006060   \n",
       "2024-06-13  0.082103      NaN  0.002097  ...  0.001795  0.001348  0.006060   \n",
       "2024-06-14  0.082103      NaN  0.002097  ...  0.001795  0.001348  0.006060   \n",
       "2024-06-17  0.082103      NaN  0.002097  ...  0.001795  0.001348  0.006060   \n",
       "2024-06-18  0.082103      NaN  0.002097  ...  0.001795  0.001348  0.006060   \n",
       "2024-06-19  0.082103      NaN  0.002097  ...  0.001795  0.001348  0.006060   \n",
       "2024-06-20  0.082103      NaN  0.002097  ...  0.001795  0.001348  0.006060   \n",
       "2024-06-21  0.082103      NaN  0.002097  ...  0.001795  0.001348  0.006060   \n",
       "2024-06-24  0.082103      NaN  0.002097  ...  0.001795  0.001348  0.006060   \n",
       "2024-06-25  0.082103      NaN  0.002097  ...  0.001795  0.001348  0.006060   \n",
       "2024-06-26  0.082103      NaN  0.002097  ...  0.001795  0.001348  0.006060   \n",
       "2024-06-27  0.082103      NaN  0.002097  ...  0.001795  0.001348  0.006060   \n",
       "2024-06-28  0.103982      NaN  0.001895  ...       NaN       NaN  0.007177   \n",
       "2024-07-01  0.103982      NaN  0.001895  ...       NaN       NaN  0.007177   \n",
       "2024-07-02  0.103982      NaN  0.001895  ...       NaN       NaN  0.007177   \n",
       "2024-07-03  0.103982      NaN  0.001895  ...       NaN       NaN  0.007177   \n",
       "2024-07-04  0.103982      NaN  0.001895  ...       NaN       NaN  0.007177   \n",
       "2024-07-05  0.103982      NaN  0.001895  ...       NaN       NaN  0.007177   \n",
       "2024-07-08  0.103982      NaN  0.001895  ...       NaN       NaN  0.007177   \n",
       "2024-07-09  0.103982      NaN  0.001895  ...       NaN       NaN  0.007177   \n",
       "2024-07-10  0.103982      NaN  0.001895  ...       NaN       NaN  0.007177   \n",
       "2024-07-11  0.103982      NaN  0.001895  ...       NaN       NaN  0.007177   \n",
       "2024-07-12  0.103982      NaN  0.001895  ...       NaN       NaN  0.007177   \n",
       "2024-07-15  0.103982      NaN  0.001895  ...       NaN       NaN  0.007177   \n",
       "2024-07-16  0.103982      NaN  0.001895  ...       NaN       NaN  0.007177   \n",
       "2024-07-17  0.103982      NaN  0.001895  ...       NaN       NaN  0.007177   \n",
       "2024-07-18  0.103982      NaN  0.001895  ...       NaN       NaN  0.007177   \n",
       "2024-07-19  0.103982      NaN  0.001895  ...       NaN       NaN  0.007177   \n",
       "2024-07-22  0.103982      NaN  0.001895  ...       NaN       NaN  0.007177   \n",
       "2024-07-23  0.103982      NaN  0.001895  ...       NaN       NaN  0.007177   \n",
       "2024-07-24  0.103982      NaN  0.001895  ...       NaN       NaN  0.007177   \n",
       "2024-07-25  0.103982      NaN  0.001895  ...       NaN       NaN  0.007177   \n",
       "2024-07-26  0.103982      NaN  0.001895  ...       NaN       NaN  0.007177   \n",
       "2024-07-29  0.103982      NaN  0.001895  ...       NaN       NaN  0.007177   \n",
       "2024-07-30  0.103982      NaN  0.001895  ...       NaN       NaN  0.007177   \n",
       "2024-07-31  0.086503      NaN  0.001910  ...  0.001964  0.007594  0.006356   \n",
       "\n",
       "Symbol       A450080   A003030   A005070   A042700   A066970   A454910  \\\n",
       "Dates                                                                    \n",
       "2024-05-31  0.002460       NaN       NaN       NaN       NaN       NaN   \n",
       "2024-06-03  0.002460       NaN       NaN       NaN       NaN       NaN   \n",
       "2024-06-04  0.002460       NaN       NaN       NaN       NaN       NaN   \n",
       "2024-06-05  0.002460       NaN       NaN       NaN       NaN       NaN   \n",
       "2024-06-07  0.002460       NaN       NaN       NaN       NaN       NaN   \n",
       "2024-06-10  0.002460       NaN       NaN       NaN       NaN       NaN   \n",
       "2024-06-11  0.002460       NaN       NaN       NaN       NaN       NaN   \n",
       "2024-06-12  0.002460       NaN       NaN       NaN       NaN       NaN   \n",
       "2024-06-13  0.002460       NaN       NaN       NaN       NaN       NaN   \n",
       "2024-06-14  0.002460       NaN       NaN       NaN       NaN       NaN   \n",
       "2024-06-17  0.002460       NaN       NaN       NaN       NaN       NaN   \n",
       "2024-06-18  0.002460       NaN       NaN       NaN       NaN       NaN   \n",
       "2024-06-19  0.002460       NaN       NaN       NaN       NaN       NaN   \n",
       "2024-06-20  0.002460       NaN       NaN       NaN       NaN       NaN   \n",
       "2024-06-21  0.002460       NaN       NaN       NaN       NaN       NaN   \n",
       "2024-06-24  0.002460       NaN       NaN       NaN       NaN       NaN   \n",
       "2024-06-25  0.002460       NaN       NaN       NaN       NaN       NaN   \n",
       "2024-06-26  0.002460       NaN       NaN       NaN       NaN       NaN   \n",
       "2024-06-27  0.002460       NaN       NaN       NaN       NaN       NaN   \n",
       "2024-06-28  0.001530       NaN  0.002501  0.005808  0.002752  0.001317   \n",
       "2024-07-01  0.001530       NaN  0.002501  0.005808  0.002752  0.001317   \n",
       "2024-07-02  0.001530       NaN  0.002501  0.005808  0.002752  0.001317   \n",
       "2024-07-03  0.001530       NaN  0.002501  0.005808  0.002752  0.001317   \n",
       "2024-07-04  0.001530       NaN  0.002501  0.005808  0.002752  0.001317   \n",
       "2024-07-05  0.001530       NaN  0.002501  0.005808  0.002752  0.001317   \n",
       "2024-07-08  0.001530       NaN  0.002501  0.005808  0.002752  0.001317   \n",
       "2024-07-09  0.001530       NaN  0.002501  0.005808  0.002752  0.001317   \n",
       "2024-07-10  0.001530       NaN  0.002501  0.005808  0.002752  0.001317   \n",
       "2024-07-11  0.001530       NaN  0.002501  0.005808  0.002752  0.001317   \n",
       "2024-07-12  0.001530       NaN  0.002501  0.005808  0.002752  0.001317   \n",
       "2024-07-15  0.001530       NaN  0.002501  0.005808  0.002752  0.001317   \n",
       "2024-07-16  0.001530       NaN  0.002501  0.005808  0.002752  0.001317   \n",
       "2024-07-17  0.001530       NaN  0.002501  0.005808  0.002752  0.001317   \n",
       "2024-07-18  0.001530       NaN  0.002501  0.005808  0.002752  0.001317   \n",
       "2024-07-19  0.001530       NaN  0.002501  0.005808  0.002752  0.001317   \n",
       "2024-07-22  0.001530       NaN  0.002501  0.005808  0.002752  0.001317   \n",
       "2024-07-23  0.001530       NaN  0.002501  0.005808  0.002752  0.001317   \n",
       "2024-07-24  0.001530       NaN  0.002501  0.005808  0.002752  0.001317   \n",
       "2024-07-25  0.001530       NaN  0.002501  0.005808  0.002752  0.001317   \n",
       "2024-07-26  0.001530       NaN  0.002501  0.005808  0.002752  0.001317   \n",
       "2024-07-29  0.001530       NaN  0.002501  0.005808  0.002752  0.001317   \n",
       "2024-07-30  0.001530       NaN  0.002501  0.005808  0.002752  0.001317   \n",
       "2024-07-31  0.001421  0.002849  0.002356  0.004424  0.002147  0.001110   \n",
       "\n",
       "Symbol      A457190  \n",
       "Dates                \n",
       "2024-05-31      NaN  \n",
       "2024-06-03      NaN  \n",
       "2024-06-04      NaN  \n",
       "2024-06-05      NaN  \n",
       "2024-06-07      NaN  \n",
       "2024-06-10      NaN  \n",
       "2024-06-11      NaN  \n",
       "2024-06-12      NaN  \n",
       "2024-06-13      NaN  \n",
       "2024-06-14      NaN  \n",
       "2024-06-17      NaN  \n",
       "2024-06-18      NaN  \n",
       "2024-06-19      NaN  \n",
       "2024-06-20      NaN  \n",
       "2024-06-21      NaN  \n",
       "2024-06-24      NaN  \n",
       "2024-06-25      NaN  \n",
       "2024-06-26      NaN  \n",
       "2024-06-27      NaN  \n",
       "2024-06-28      NaN  \n",
       "2024-07-01      NaN  \n",
       "2024-07-02      NaN  \n",
       "2024-07-03      NaN  \n",
       "2024-07-04      NaN  \n",
       "2024-07-05      NaN  \n",
       "2024-07-08      NaN  \n",
       "2024-07-09      NaN  \n",
       "2024-07-10      NaN  \n",
       "2024-07-11      NaN  \n",
       "2024-07-12      NaN  \n",
       "2024-07-15      NaN  \n",
       "2024-07-16      NaN  \n",
       "2024-07-17      NaN  \n",
       "2024-07-18      NaN  \n",
       "2024-07-19      NaN  \n",
       "2024-07-22      NaN  \n",
       "2024-07-23      NaN  \n",
       "2024-07-24      NaN  \n",
       "2024-07-25      NaN  \n",
       "2024-07-26      NaN  \n",
       "2024-07-29      NaN  \n",
       "2024-07-30      NaN  \n",
       "2024-07-31      NaN  \n",
       "\n",
       "[43 rows x 206 columns]"
      ]
     },
     "execution_count": 462,
     "metadata": {},
     "output_type": "execute_result"
    }
   ],
   "source": [
    "daily_optw"
   ]
  },
  {
   "cell_type": "code",
   "execution_count": 463,
   "id": "94c64c46-b145-482c-8d71-94af7906b531",
   "metadata": {
    "execution": {
     "iopub.execute_input": "2024-08-06T05:26:26.534652Z",
     "iopub.status.busy": "2024-08-06T05:26:26.534032Z",
     "iopub.status.idle": "2024-08-06T05:26:26.614911Z",
     "shell.execute_reply": "2024-08-06T05:26:26.614099Z",
     "shell.execute_reply.started": "2024-08-06T05:26:26.534604Z"
    },
    "scrolled": true
   },
   "outputs": [],
   "source": [
    "daily_optw=daily_optw[~daily_optw.isna()].add((1-daily_optw.sum(1))/daily_optw.count(1), axis=0)"
   ]
  },
  {
   "cell_type": "code",
   "execution_count": 464,
   "id": "c7ce50d9-4260-4613-b4d2-cad25c961c8b",
   "metadata": {
    "execution": {
     "iopub.execute_input": "2024-08-06T05:26:27.456870Z",
     "iopub.status.busy": "2024-08-06T05:26:27.456249Z",
     "iopub.status.idle": "2024-08-06T05:26:27.529426Z",
     "shell.execute_reply": "2024-08-06T05:26:27.528642Z",
     "shell.execute_reply.started": "2024-08-06T05:26:27.456823Z"
    },
    "scrolled": true
   },
   "outputs": [
    {
     "data": {
      "text/plain": [
       "Dates\n",
       "2024-05-31    1.0\n",
       "2024-06-03    1.0\n",
       "2024-06-04    1.0\n",
       "2024-06-05    1.0\n",
       "2024-06-07    1.0\n",
       "2024-06-10    1.0\n",
       "2024-06-11    1.0\n",
       "2024-06-12    1.0\n",
       "2024-06-13    1.0\n",
       "2024-06-14    1.0\n",
       "2024-06-17    1.0\n",
       "2024-06-18    1.0\n",
       "2024-06-19    1.0\n",
       "2024-06-20    1.0\n",
       "2024-06-21    1.0\n",
       "2024-06-24    1.0\n",
       "2024-06-25    1.0\n",
       "2024-06-26    1.0\n",
       "2024-06-27    1.0\n",
       "2024-06-28    1.0\n",
       "2024-07-01    1.0\n",
       "2024-07-02    1.0\n",
       "2024-07-03    1.0\n",
       "2024-07-04    1.0\n",
       "2024-07-05    1.0\n",
       "2024-07-08    1.0\n",
       "2024-07-09    1.0\n",
       "2024-07-10    1.0\n",
       "2024-07-11    1.0\n",
       "2024-07-12    1.0\n",
       "2024-07-15    1.0\n",
       "2024-07-16    1.0\n",
       "2024-07-17    1.0\n",
       "2024-07-18    1.0\n",
       "2024-07-19    1.0\n",
       "2024-07-22    1.0\n",
       "2024-07-23    1.0\n",
       "2024-07-24    1.0\n",
       "2024-07-25    1.0\n",
       "2024-07-26    1.0\n",
       "2024-07-29    1.0\n",
       "2024-07-30    1.0\n",
       "2024-07-31    1.0\n",
       "dtype: float64"
      ]
     },
     "execution_count": 464,
     "metadata": {},
     "output_type": "execute_result"
    }
   ],
   "source": [
    "daily_optw[daily_optw>10**-3].sum(1)"
   ]
  },
  {
   "cell_type": "code",
   "execution_count": 465,
   "id": "8dcfbfaf-fd76-48e7-9b5e-a310689c0f5b",
   "metadata": {
    "execution": {
     "iopub.execute_input": "2024-08-06T05:26:30.705944Z",
     "iopub.status.busy": "2024-08-06T05:26:30.705319Z",
     "iopub.status.idle": "2024-08-06T05:26:30.785519Z",
     "shell.execute_reply": "2024-08-06T05:26:30.784691Z",
     "shell.execute_reply.started": "2024-08-06T05:26:30.705899Z"
    },
    "scrolled": true
   },
   "outputs": [
    {
     "data": {
      "text/plain": [
       "Dates\n",
       "2024-05-31    116\n",
       "2024-06-03    116\n",
       "2024-06-04    116\n",
       "2024-06-05    116\n",
       "2024-06-07    116\n",
       "2024-06-10    116\n",
       "2024-06-11    116\n",
       "2024-06-12    116\n",
       "2024-06-13    116\n",
       "2024-06-14    116\n",
       "2024-06-17    116\n",
       "2024-06-18    116\n",
       "2024-06-19    116\n",
       "2024-06-20    116\n",
       "2024-06-21    116\n",
       "2024-06-24    116\n",
       "2024-06-25    116\n",
       "2024-06-26    116\n",
       "2024-06-27    116\n",
       "2024-06-28    113\n",
       "2024-07-01    113\n",
       "2024-07-02    113\n",
       "2024-07-03    113\n",
       "2024-07-04    113\n",
       "2024-07-05    113\n",
       "2024-07-08    113\n",
       "2024-07-09    113\n",
       "2024-07-10    113\n",
       "2024-07-11    113\n",
       "2024-07-12    113\n",
       "2024-07-15    113\n",
       "2024-07-16    113\n",
       "2024-07-17    113\n",
       "2024-07-18    113\n",
       "2024-07-19    113\n",
       "2024-07-22    113\n",
       "2024-07-23    113\n",
       "2024-07-24    113\n",
       "2024-07-25    113\n",
       "2024-07-26    113\n",
       "2024-07-29    113\n",
       "2024-07-30    113\n",
       "2024-07-31    118\n",
       "dtype: int64"
      ]
     },
     "execution_count": 465,
     "metadata": {},
     "output_type": "execute_result"
    }
   ],
   "source": [
    "daily_optw[daily_optw>10**-3].count(1)"
   ]
  },
  {
   "cell_type": "code",
   "execution_count": 296,
   "id": "0c532584-d9e5-4907-8f3b-3aeee03be43a",
   "metadata": {
    "execution": {
     "iopub.execute_input": "2024-08-06T00:58:52.943062Z",
     "iopub.status.busy": "2024-08-06T00:58:52.942542Z",
     "iopub.status.idle": "2024-08-06T00:58:52.978150Z",
     "shell.execute_reply": "2024-08-06T00:58:52.976988Z",
     "shell.execute_reply.started": "2024-08-06T00:58:52.943018Z"
    }
   },
   "outputs": [],
   "source": [
    "daily_optw.to_csv(f\"../data/output/weight/{period2}weight_stock{stockw}_constraint.csv\")"
   ]
  },
  {
   "cell_type": "code",
   "execution_count": 466,
   "id": "1681d17f-7097-4c74-9519-104cb614e054",
   "metadata": {
    "execution": {
     "iopub.execute_input": "2024-08-06T05:26:45.511666Z",
     "iopub.status.busy": "2024-08-06T05:26:45.511127Z",
     "iopub.status.idle": "2024-08-06T05:26:45.534944Z",
     "shell.execute_reply": "2024-08-06T05:26:45.533750Z",
     "shell.execute_reply.started": "2024-08-06T05:26:45.511620Z"
    }
   },
   "outputs": [],
   "source": [
    "daily_optw=daily_optw.replace(0.0, np.nan)"
   ]
  },
  {
   "cell_type": "code",
   "execution_count": 467,
   "id": "f610de1e-742d-4edb-8e32-517007805a6a",
   "metadata": {
    "execution": {
     "iopub.execute_input": "2024-08-06T05:26:46.678728Z",
     "iopub.status.busy": "2024-08-06T05:26:46.678202Z",
     "iopub.status.idle": "2024-08-06T05:26:46.691750Z",
     "shell.execute_reply": "2024-08-06T05:26:46.690619Z",
     "shell.execute_reply.started": "2024-08-06T05:26:46.678683Z"
    }
   },
   "outputs": [],
   "source": [
    "monthly_optw=daily_optw.loc[rebal_dates]"
   ]
  },
  {
   "cell_type": "code",
   "execution_count": 468,
   "id": "c4e0e957-84ac-49c0-9ba9-3d8cd56e6b07",
   "metadata": {
    "execution": {
     "iopub.execute_input": "2024-08-06T05:26:48.112749Z",
     "iopub.status.busy": "2024-08-06T05:26:48.112213Z",
     "iopub.status.idle": "2024-08-06T05:26:48.122588Z",
     "shell.execute_reply": "2024-08-06T05:26:48.121335Z",
     "shell.execute_reply.started": "2024-08-06T05:26:48.112705Z"
    }
   },
   "outputs": [
    {
     "data": {
      "text/plain": [
       "2024-05-31    0.295172\n",
       "2024-06-28    0.302354\n",
       "2024-07-31    0.314280\n",
       "Name: A005930, dtype: float64"
      ]
     },
     "execution_count": 468,
     "metadata": {},
     "output_type": "execute_result"
    }
   ],
   "source": [
    "monthly_optw['A005930']"
   ]
  },
  {
   "cell_type": "code",
   "execution_count": 469,
   "id": "ea4f2d97-38b6-4ec1-9c88-5abe5ee54c66",
   "metadata": {
    "execution": {
     "iopub.execute_input": "2024-08-06T05:26:49.633935Z",
     "iopub.status.busy": "2024-08-06T05:26:49.632954Z",
     "iopub.status.idle": "2024-08-06T05:26:49.641549Z",
     "shell.execute_reply": "2024-08-06T05:26:49.640501Z",
     "shell.execute_reply.started": "2024-08-06T05:26:49.633883Z"
    }
   },
   "outputs": [
    {
     "data": {
      "text/plain": [
       "0"
      ]
     },
     "execution_count": 469,
     "metadata": {},
     "output_type": "execute_result"
    }
   ],
   "source": [
    "monthly_optw.index.duplicated().sum()"
   ]
  },
  {
   "cell_type": "code",
   "execution_count": 301,
   "id": "457e80e3-1f20-46bb-9097-4004bf7b73fe",
   "metadata": {
    "execution": {
     "iopub.execute_input": "2024-08-06T00:58:56.160216Z",
     "iopub.status.busy": "2024-08-06T00:58:56.159756Z",
     "iopub.status.idle": "2024-08-06T00:58:56.178290Z",
     "shell.execute_reply": "2024-08-06T00:58:56.177092Z",
     "shell.execute_reply.started": "2024-08-06T00:58:56.160171Z"
    }
   },
   "outputs": [],
   "source": [
    "monthly_optw.to_csv(f\"../data/output/weight/{period2}weight_stock{stockw}_monthly.csv\")"
   ]
  },
  {
   "cell_type": "code",
   "execution_count": null,
   "id": "2a819882-902a-4716-b5e9-e274fb03fad3",
   "metadata": {},
   "outputs": [],
   "source": []
  },
  {
   "cell_type": "code",
   "execution_count": 470,
   "id": "c16e6e2b-cf12-4d36-970b-501020e82682",
   "metadata": {
    "execution": {
     "iopub.execute_input": "2024-08-06T05:26:51.844151Z",
     "iopub.status.busy": "2024-08-06T05:26:51.843569Z",
     "iopub.status.idle": "2024-08-06T05:26:51.857175Z",
     "shell.execute_reply": "2024-08-06T05:26:51.856117Z",
     "shell.execute_reply.started": "2024-08-06T05:26:51.844098Z"
    }
   },
   "outputs": [
    {
     "data": {
      "text/plain": [
       "Symbol\n",
       "A139480    0.001357\n",
       "A012750    0.001365\n",
       "A352820    0.001367\n",
       "A006360    0.001370\n",
       "A272210    0.001381\n",
       "             ...   \n",
       "A068270    0.023893\n",
       "A105560    0.024314\n",
       "A005380    0.027659\n",
       "A000660    0.086857\n",
       "A005930    0.314280\n",
       "Name: 2024-07-31 00:00:00, Length: 118, dtype: float64"
      ]
     },
     "execution_count": 470,
     "metadata": {},
     "output_type": "execute_result"
    }
   ],
   "source": [
    "monthly_optw.iloc[-1].dropna().sort_values()"
   ]
  },
  {
   "cell_type": "code",
   "execution_count": 471,
   "id": "b0708955-083d-43e2-b162-334f75e93015",
   "metadata": {
    "execution": {
     "iopub.execute_input": "2024-08-06T05:26:56.494602Z",
     "iopub.status.busy": "2024-08-06T05:26:56.494082Z",
     "iopub.status.idle": "2024-08-06T05:26:56.503623Z",
     "shell.execute_reply": "2024-08-06T05:26:56.502491Z",
     "shell.execute_reply.started": "2024-08-06T05:26:56.494558Z"
    }
   },
   "outputs": [],
   "source": [
    "compare_bmw=bmw.loc['2024-07-31', monthly_optw.iloc[-1].dropna().index].sort_values(ascending=False)"
   ]
  },
  {
   "cell_type": "code",
   "execution_count": 472,
   "id": "d2f9731a-42c8-4673-807c-82108146f4c7",
   "metadata": {
    "execution": {
     "iopub.execute_input": "2024-08-06T05:26:56.936327Z",
     "iopub.status.busy": "2024-08-06T05:26:56.935802Z",
     "iopub.status.idle": "2024-08-06T05:26:56.942083Z",
     "shell.execute_reply": "2024-08-06T05:26:56.940937Z",
     "shell.execute_reply.started": "2024-08-06T05:26:56.936284Z"
    }
   },
   "outputs": [],
   "source": [
    "compare_bmw=compare_bmw/100"
   ]
  },
  {
   "cell_type": "code",
   "execution_count": 473,
   "id": "930e02c1-3dc3-44d7-961b-a95395676f1a",
   "metadata": {
    "execution": {
     "iopub.execute_input": "2024-08-06T05:26:57.361460Z",
     "iopub.status.busy": "2024-08-06T05:26:57.360806Z",
     "iopub.status.idle": "2024-08-06T05:26:57.370723Z",
     "shell.execute_reply": "2024-08-06T05:26:57.369591Z",
     "shell.execute_reply.started": "2024-08-06T05:26:57.361412Z"
    }
   },
   "outputs": [],
   "source": [
    "weight_diff=monthly_optw.iloc[-1].dropna()-compare_bmw"
   ]
  },
  {
   "cell_type": "code",
   "execution_count": 474,
   "id": "1ea39809-cae5-4e9c-b1a5-b9fa6f66a3dc",
   "metadata": {
    "execution": {
     "iopub.execute_input": "2024-08-06T05:26:57.736808Z",
     "iopub.status.busy": "2024-08-06T05:26:57.736336Z",
     "iopub.status.idle": "2024-08-06T05:26:57.747581Z",
     "shell.execute_reply": "2024-08-06T05:26:57.746367Z",
     "shell.execute_reply.started": "2024-08-06T05:26:57.736764Z"
    }
   },
   "outputs": [
    {
     "data": {
      "text/plain": [
       "Symbol\n",
       "A111770    0.010097\n",
       "A271560    0.009814\n",
       "A036570    0.008929\n",
       "A383220    0.007248\n",
       "A051900    0.006854\n",
       "             ...   \n",
       "A003550   -0.003274\n",
       "A373220   -0.007267\n",
       "A005490   -0.007527\n",
       "A035420   -0.009641\n",
       "A051910   -0.009643\n",
       "Name: 2024-07-31 00:00:00, Length: 118, dtype: float64"
      ]
     },
     "execution_count": 474,
     "metadata": {},
     "output_type": "execute_result"
    }
   ],
   "source": [
    "weight_diff.sort_values(ascending=False)"
   ]
  },
  {
   "cell_type": "code",
   "execution_count": 475,
   "id": "7b82495e-878c-40dd-8996-a2c42f3e684f",
   "metadata": {
    "execution": {
     "iopub.execute_input": "2024-08-06T05:27:07.446378Z",
     "iopub.status.busy": "2024-08-06T05:27:07.445853Z",
     "iopub.status.idle": "2024-08-06T05:27:07.451779Z",
     "shell.execute_reply": "2024-08-06T05:27:07.450679Z",
     "shell.execute_reply.started": "2024-08-06T05:27:07.446334Z"
    }
   },
   "outputs": [],
   "source": [
    "from scipy import stats"
   ]
  },
  {
   "cell_type": "code",
   "execution_count": 711,
   "id": "c59299ec-ae66-4fba-8a2f-ec7d2d1a39e0",
   "metadata": {
    "execution": {
     "iopub.execute_input": "2024-08-13T01:57:32.532975Z",
     "iopub.status.busy": "2024-08-13T01:57:32.532134Z",
     "iopub.status.idle": "2024-08-13T01:57:32.670324Z",
     "shell.execute_reply": "2024-08-13T01:57:32.669476Z",
     "shell.execute_reply.started": "2024-08-13T01:57:32.532926Z"
    }
   },
   "outputs": [],
   "source": [
    "\"\"\"\n",
    "    exclude:\n",
    "    long_term: neg & mid_term: neg & short_term: neg\n",
    "    long_term: pos & short_term: neg\n",
    "    \n",
    "    \n",
    "\"\"\"\n",
    "\n",
    "long_term=252\n",
    "mid_term=60\n",
    "short_term=20\n",
    "filtered_stocks=[]\n",
    "\n",
    "for symbol in weight_diff.index:\n",
    "    long_x=np.arange(long_term)\n",
    "    long_y=adjprc.iloc[-long_term:][symbol]\n",
    "    long_slope, _, long_rvalue, long_pvalue, long_std_err=stats.linregress(long_x, long_y)\n",
    "    \n",
    "    mid_x=np.arange(mid_term)\n",
    "    mid_y=adjprc.iloc[-mid_term:][symbol]\n",
    "    mid_slope, _, mid_rvalue, mid_pvalue, mid_std_err=stats.linregress(mid_x, mid_y)\n",
    "\n",
    "    short_x=np.arange(short_term)\n",
    "    short_y=adjprc.iloc[-short_term:][symbol]\n",
    "    short_slope, _, short_rvalue, short_pvalue, short_std_err=stats.linregress(short_x, short_y)\n",
    "\n",
    "    \n",
    "    if long_slope <0 and mid_slope <0:\n",
    "        filtered_stocks.append({\n",
    "                                'symbol': symbol,\n",
    "                                'long_slope': np.round(long_slope, 3),\n",
    "                                'long_rvalue': np.round(long_rvalue, 3),\n",
    "                                'long_pvalue': np.round(long_pvalue, 3),\n",
    "                                'mid_slope': np.round(mid_slope, 3),\n",
    "                                'mid_rvalue': np.round(mid_rvalue, 3),\n",
    "                                'mid_pvalue': np.round(mid_pvalue, 3),\n",
    "                                'short_slope': np.round(short_slope, 3),\n",
    "                                'short_rvalue': np.round(short_rvalue, 3),\n",
    "                                'short_pvalue': np.round(short_pvalue, 3)\n",
    "                                })\n",
    "        \n",
    "    elif long_slope >0 and short_slope <0:\n",
    "        filtered_stocks.append({\n",
    "                                'symbol': symbol,\n",
    "                                'long_slope': np.round(long_slope, 3),\n",
    "                                'long_rvalue': np.round(long_rvalue, 3),\n",
    "                                'long_pvalue': np.round(long_pvalue, 3),\n",
    "                                'mid_slope': np.round(mid_slope, 3),\n",
    "                                'mid_rvalue': np.round(mid_rvalue, 3),\n",
    "                                'mid_pvalue': np.round(mid_pvalue, 3),\n",
    "                                'short_slope': np.round(short_slope, 3),\n",
    "                                'short_rvalue': np.round(short_rvalue, 3),\n",
    "                                'short_pvalue': np.round(short_pvalue, 3)\n",
    "                                })\n",
    "                               "
   ]
  },
  {
   "cell_type": "code",
   "execution_count": 712,
   "id": "1d9627d7-88c7-4072-8061-7ac25ddf506f",
   "metadata": {
    "execution": {
     "iopub.execute_input": "2024-08-13T01:57:33.638639Z",
     "iopub.status.busy": "2024-08-13T01:57:33.637623Z",
     "iopub.status.idle": "2024-08-13T01:57:33.668614Z",
     "shell.execute_reply": "2024-08-13T01:57:33.667389Z",
     "shell.execute_reply.started": "2024-08-13T01:57:33.638591Z"
    },
    "scrolled": true
   },
   "outputs": [
    {
     "data": {
      "text/plain": [
       "[{'symbol': 'A000150',\n",
       "  'long_slope': 499.334,\n",
       "  'long_rvalue': 0.767,\n",
       "  'long_pvalue': 0.0,\n",
       "  'mid_slope': 521.353,\n",
       "  'mid_rvalue': 0.379,\n",
       "  'mid_pvalue': 0.003,\n",
       "  'short_slope': -4042.406,\n",
       "  'short_rvalue': -0.885,\n",
       "  'short_pvalue': 0.0},\n",
       " {'symbol': 'A000270',\n",
       "  'long_slope': 226.494,\n",
       "  'long_rvalue': 0.901,\n",
       "  'long_pvalue': 0.0,\n",
       "  'mid_slope': 47.847,\n",
       "  'mid_rvalue': 0.148,\n",
       "  'mid_pvalue': 0.258,\n",
       "  'short_slope': -720.451,\n",
       "  'short_rvalue': -0.934,\n",
       "  'short_pvalue': 0.0},\n",
       " {'symbol': 'A000660',\n",
       "  'long_slope': 475.233,\n",
       "  'long_rvalue': 0.93,\n",
       "  'long_pvalue': 0.0,\n",
       "  'mid_slope': 568.541,\n",
       "  'mid_rvalue': 0.498,\n",
       "  'mid_pvalue': 0.0,\n",
       "  'short_slope': -2917.218,\n",
       "  'short_rvalue': -0.928,\n",
       "  'short_pvalue': 0.0},\n",
       " {'symbol': 'A000720',\n",
       "  'long_slope': -16.199,\n",
       "  'long_rvalue': -0.75,\n",
       "  'long_pvalue': 0.0,\n",
       "  'mid_slope': -42.363,\n",
       "  'mid_rvalue': -0.673,\n",
       "  'mid_pvalue': 0.0,\n",
       "  'short_slope': 62.256,\n",
       "  'short_rvalue': 0.524,\n",
       "  'short_pvalue': 0.018},\n",
       " {'symbol': 'A000810',\n",
       "  'long_slope': 529.094,\n",
       "  'long_rvalue': 0.883,\n",
       "  'long_pvalue': 0.0,\n",
       "  'mid_slope': 627.008,\n",
       "  'mid_rvalue': 0.583,\n",
       "  'mid_pvalue': 0.0,\n",
       "  'short_slope': -1207.143,\n",
       "  'short_rvalue': -0.677,\n",
       "  'short_pvalue': 0.001},\n",
       " {'symbol': 'A001440',\n",
       "  'long_slope': 12.841,\n",
       "  'long_rvalue': 0.378,\n",
       "  'long_pvalue': 0.0,\n",
       "  'mid_slope': -63.291,\n",
       "  'mid_rvalue': -0.664,\n",
       "  'mid_pvalue': 0.0,\n",
       "  'short_slope': -77.955,\n",
       "  'short_rvalue': -0.706,\n",
       "  'short_pvalue': 0.001},\n",
       " {'symbol': 'A001570',\n",
       "  'long_slope': -204.538,\n",
       "  'long_rvalue': -0.747,\n",
       "  'long_pvalue': 0.0,\n",
       "  'mid_slope': -449.722,\n",
       "  'mid_rvalue': -0.866,\n",
       "  'mid_pvalue': 0.0,\n",
       "  'short_slope': -1088.346,\n",
       "  'short_rvalue': -0.938,\n",
       "  'short_pvalue': 0.0},\n",
       " {'symbol': 'A002710',\n",
       "  'long_slope': -24.142,\n",
       "  'long_rvalue': -0.245,\n",
       "  'long_pvalue': 0.0,\n",
       "  'mid_slope': -174.289,\n",
       "  'mid_rvalue': -0.496,\n",
       "  'mid_pvalue': 0.0,\n",
       "  'short_slope': -965.414,\n",
       "  'short_rvalue': -0.978,\n",
       "  'short_pvalue': 0.0},\n",
       " {'symbol': 'A003030',\n",
       "  'long_slope': 52.792,\n",
       "  'long_rvalue': 0.244,\n",
       "  'long_pvalue': 0.0,\n",
       "  'mid_slope': -727.221,\n",
       "  'mid_rvalue': -0.881,\n",
       "  'mid_pvalue': 0.0,\n",
       "  'short_slope': -404.436,\n",
       "  'short_rvalue': -0.337,\n",
       "  'short_pvalue': 0.146},\n",
       " {'symbol': 'A003670',\n",
       "  'long_slope': -773.587,\n",
       "  'long_rvalue': -0.79,\n",
       "  'long_pvalue': 0.0,\n",
       "  'mid_slope': -726.424,\n",
       "  'mid_rvalue': -0.689,\n",
       "  'mid_pvalue': 0.0,\n",
       "  'short_slope': -3417.669,\n",
       "  'short_rvalue': -0.922,\n",
       "  'short_pvalue': 0.0},\n",
       " {'symbol': 'A004000',\n",
       "  'long_slope': -81.847,\n",
       "  'long_rvalue': -0.904,\n",
       "  'long_pvalue': 0.0,\n",
       "  'mid_slope': -13.843,\n",
       "  'mid_rvalue': -0.199,\n",
       "  'mid_pvalue': 0.127,\n",
       "  'short_slope': 8.12,\n",
       "  'short_rvalue': 0.063,\n",
       "  'short_pvalue': 0.791},\n",
       " {'symbol': 'A004020',\n",
       "  'long_slope': -31.826,\n",
       "  'long_rvalue': -0.806,\n",
       "  'long_pvalue': 0.0,\n",
       "  'mid_slope': -73.436,\n",
       "  'mid_rvalue': -0.901,\n",
       "  'mid_pvalue': 0.0,\n",
       "  'short_slope': -121.729,\n",
       "  'short_rvalue': -0.821,\n",
       "  'short_pvalue': 0.0},\n",
       " {'symbol': 'A004170',\n",
       "  'long_slope': -168.661,\n",
       "  'long_rvalue': -0.787,\n",
       "  'long_pvalue': 0.0,\n",
       "  'mid_slope': -396.977,\n",
       "  'mid_rvalue': -0.913,\n",
       "  'mid_pvalue': 0.0,\n",
       "  'short_slope': -526.316,\n",
       "  'short_rvalue': -0.761,\n",
       "  'short_pvalue': 0.0},\n",
       " {'symbol': 'A005070',\n",
       "  'long_slope': -65.007,\n",
       "  'long_rvalue': -0.346,\n",
       "  'long_pvalue': 0.0,\n",
       "  'mid_slope': -282.92,\n",
       "  'mid_rvalue': -0.447,\n",
       "  'mid_pvalue': 0.0,\n",
       "  'short_slope': -1124.812,\n",
       "  'short_rvalue': -0.914,\n",
       "  'short_pvalue': 0.0},\n",
       " {'symbol': 'A005380',\n",
       "  'long_slope': 426.83,\n",
       "  'long_rvalue': 0.872,\n",
       "  'long_pvalue': 0.0,\n",
       "  'mid_slope': 256.154,\n",
       "  'mid_rvalue': 0.301,\n",
       "  'mid_pvalue': 0.02,\n",
       "  'short_slope': -1877.068,\n",
       "  'short_rvalue': -0.935,\n",
       "  'short_pvalue': 0.0},\n",
       " {'symbol': 'A005490',\n",
       "  'long_slope': -920.185,\n",
       "  'long_rvalue': -0.915,\n",
       "  'long_pvalue': 0.0,\n",
       "  'mid_slope': -646.624,\n",
       "  'mid_rvalue': -0.781,\n",
       "  'mid_pvalue': 0.0,\n",
       "  'short_slope': -1586.09,\n",
       "  'short_rvalue': -0.739,\n",
       "  'short_pvalue': 0.0},\n",
       " {'symbol': 'A005830',\n",
       "  'long_slope': 122.945,\n",
       "  'long_rvalue': 0.84,\n",
       "  'long_pvalue': 0.0,\n",
       "  'mid_slope': 142.365,\n",
       "  'mid_rvalue': 0.537,\n",
       "  'mid_pvalue': 0.0,\n",
       "  'short_slope': -204.286,\n",
       "  'short_rvalue': -0.396,\n",
       "  'short_pvalue': 0.084},\n",
       " {'symbol': 'A005930',\n",
       "  'long_slope': 63.713,\n",
       "  'long_rvalue': 0.864,\n",
       "  'long_pvalue': 0.0,\n",
       "  'mid_slope': 147.647,\n",
       "  'mid_rvalue': 0.672,\n",
       "  'mid_pvalue': 0.0,\n",
       "  'short_slope': -348.271,\n",
       "  'short_rvalue': -0.779,\n",
       "  'short_pvalue': 0.0},\n",
       " {'symbol': 'A006260',\n",
       "  'long_slope': 220.774,\n",
       "  'long_rvalue': 0.619,\n",
       "  'long_pvalue': 0.0,\n",
       "  'mid_slope': -744.96,\n",
       "  'mid_rvalue': -0.726,\n",
       "  'mid_pvalue': 0.0,\n",
       "  'short_slope': -1614.135,\n",
       "  'short_rvalue': -0.719,\n",
       "  'short_pvalue': 0.0},\n",
       " {'symbol': 'A006400',\n",
       "  'long_slope': -982.536,\n",
       "  'long_rvalue': -0.83,\n",
       "  'long_pvalue': 0.0,\n",
       "  'mid_slope': -1549.166,\n",
       "  'mid_rvalue': -0.903,\n",
       "  'mid_pvalue': 0.0,\n",
       "  'short_slope': -3383.083,\n",
       "  'short_rvalue': -0.932,\n",
       "  'short_pvalue': 0.0},\n",
       " {'symbol': 'A006800',\n",
       "  'long_slope': 4.58,\n",
       "  'long_rvalue': 0.51,\n",
       "  'long_pvalue': 0.0,\n",
       "  'mid_slope': 0.303,\n",
       "  'mid_rvalue': 0.017,\n",
       "  'mid_pvalue': 0.895,\n",
       "  'short_slope': -4.639,\n",
       "  'short_rvalue': -0.191,\n",
       "  'short_pvalue': 0.42},\n",
       " {'symbol': 'A008770',\n",
       "  'long_slope': -127.537,\n",
       "  'long_rvalue': -0.863,\n",
       "  'long_pvalue': 0.0,\n",
       "  'mid_slope': -153.383,\n",
       "  'mid_rvalue': -0.967,\n",
       "  'mid_pvalue': 0.0,\n",
       "  'short_slope': -182.068,\n",
       "  'short_rvalue': -0.749,\n",
       "  'short_pvalue': 0.0},\n",
       " {'symbol': 'A009150',\n",
       "  'long_slope': 71.123,\n",
       "  'long_rvalue': 0.579,\n",
       "  'long_pvalue': 0.0,\n",
       "  'mid_slope': 153.929,\n",
       "  'mid_rvalue': 0.446,\n",
       "  'mid_pvalue': 0.0,\n",
       "  'short_slope': -552.406,\n",
       "  'short_rvalue': -0.571,\n",
       "  'short_pvalue': 0.009},\n",
       " {'symbol': 'A009970',\n",
       "  'long_slope': 38.22,\n",
       "  'long_rvalue': 0.482,\n",
       "  'long_pvalue': 0.0,\n",
       "  'mid_slope': -72.256,\n",
       "  'mid_rvalue': -0.489,\n",
       "  'mid_pvalue': 0.0,\n",
       "  'short_slope': -316.015,\n",
       "  'short_rvalue': -0.828,\n",
       "  'short_pvalue': 0.0},\n",
       " {'symbol': 'A010120',\n",
       "  'long_slope': 552.419,\n",
       "  'long_rvalue': 0.73,\n",
       "  'long_pvalue': 0.0,\n",
       "  'mid_slope': 480.22,\n",
       "  'mid_rvalue': 0.422,\n",
       "  'mid_pvalue': 0.001,\n",
       "  'short_slope': -125.865,\n",
       "  'short_rvalue': -0.036,\n",
       "  'short_pvalue': 0.881},\n",
       " {'symbol': 'A010950',\n",
       "  'long_slope': -19.614,\n",
       "  'long_rvalue': -0.317,\n",
       "  'long_pvalue': 0.0,\n",
       "  'mid_slope': -42.395,\n",
       "  'mid_rvalue': -0.61,\n",
       "  'mid_pvalue': 0.0,\n",
       "  'short_slope': 1.729,\n",
       "  'short_rvalue': 0.012,\n",
       "  'short_pvalue': 0.959},\n",
       " {'symbol': 'A011170',\n",
       "  'long_slope': -189.008,\n",
       "  'long_rvalue': -0.784,\n",
       "  'long_pvalue': 0.0,\n",
       "  'mid_slope': -217.83,\n",
       "  'mid_rvalue': -0.674,\n",
       "  'mid_pvalue': 0.0,\n",
       "  'short_slope': -539.173,\n",
       "  'short_rvalue': -0.908,\n",
       "  'short_pvalue': 0.0},\n",
       " {'symbol': 'A011200',\n",
       "  'long_slope': 4.817,\n",
       "  'long_rvalue': 0.214,\n",
       "  'long_pvalue': 0.001,\n",
       "  'mid_slope': 10.511,\n",
       "  'mid_rvalue': 0.18,\n",
       "  'mid_pvalue': 0.169,\n",
       "  'short_slope': -91.865,\n",
       "  'short_rvalue': -0.705,\n",
       "  'short_pvalue': 0.001},\n",
       " {'symbol': 'A011780',\n",
       "  'long_slope': 116.554,\n",
       "  'long_rvalue': 0.702,\n",
       "  'long_pvalue': 0.0,\n",
       "  'mid_slope': 116.51,\n",
       "  'mid_rvalue': 0.325,\n",
       "  'mid_pvalue': 0.011,\n",
       "  'short_slope': -726.842,\n",
       "  'short_rvalue': -0.54,\n",
       "  'short_pvalue': 0.014},\n",
       " {'symbol': 'A011790',\n",
       "  'long_slope': 305.563,\n",
       "  'long_rvalue': 0.758,\n",
       "  'long_pvalue': 0.0,\n",
       "  'mid_slope': 677.402,\n",
       "  'mid_rvalue': 0.492,\n",
       "  'mid_pvalue': 0.0,\n",
       "  'short_slope': -1993.759,\n",
       "  'short_rvalue': -0.928,\n",
       "  'short_pvalue': 0.0},\n",
       " {'symbol': 'A012330',\n",
       "  'long_slope': 21.546,\n",
       "  'long_rvalue': 0.125,\n",
       "  'long_pvalue': 0.047,\n",
       "  'mid_slope': 118.061,\n",
       "  'mid_rvalue': 0.22,\n",
       "  'mid_pvalue': 0.092,\n",
       "  'short_slope': -997.744,\n",
       "  'short_rvalue': -0.893,\n",
       "  'short_pvalue': 0.0},\n",
       " {'symbol': 'A012750',\n",
       "  'long_slope': 23.125,\n",
       "  'long_rvalue': 0.609,\n",
       "  'long_pvalue': 0.0,\n",
       "  'mid_slope': -89.758,\n",
       "  'mid_rvalue': -0.75,\n",
       "  'mid_pvalue': 0.0,\n",
       "  'short_slope': -264.436,\n",
       "  'short_rvalue': -0.937,\n",
       "  'short_pvalue': 0.0},\n",
       " {'symbol': 'A014680',\n",
       "  'long_slope': 20.697,\n",
       "  'long_rvalue': 0.088,\n",
       "  'long_pvalue': 0.162,\n",
       "  'mid_slope': -230.703,\n",
       "  'mid_rvalue': -0.531,\n",
       "  'mid_pvalue': 0.0,\n",
       "  'short_slope': -1519.85,\n",
       "  'short_rvalue': -0.928,\n",
       "  'short_pvalue': 0.0},\n",
       " {'symbol': 'A015760',\n",
       "  'long_slope': 12.56,\n",
       "  'long_rvalue': 0.484,\n",
       "  'long_pvalue': 0.0,\n",
       "  'mid_slope': -15.658,\n",
       "  'mid_rvalue': -0.514,\n",
       "  'mid_pvalue': 0.0,\n",
       "  'short_slope': -4.895,\n",
       "  'short_rvalue': -0.18,\n",
       "  'short_pvalue': 0.447},\n",
       " {'symbol': 'A018260',\n",
       "  'long_slope': 91.316,\n",
       "  'long_rvalue': 0.561,\n",
       "  'long_pvalue': 0.0,\n",
       "  'mid_slope': -151.814,\n",
       "  'mid_rvalue': -0.482,\n",
       "  'mid_pvalue': 0.0,\n",
       "  'short_slope': -634.135,\n",
       "  'short_rvalue': -0.9,\n",
       "  'short_pvalue': 0.0},\n",
       " {'symbol': 'A018880',\n",
       "  'long_slope': -19.837,\n",
       "  'long_rvalue': -0.953,\n",
       "  'long_pvalue': 0.0,\n",
       "  'mid_slope': -18.727,\n",
       "  'mid_rvalue': -0.908,\n",
       "  'mid_pvalue': 0.0,\n",
       "  'short_slope': -11.421,\n",
       "  'short_rvalue': -0.446,\n",
       "  'short_pvalue': 0.049},\n",
       " {'symbol': 'A022100',\n",
       "  'long_slope': -40.826,\n",
       "  'long_rvalue': -0.295,\n",
       "  'long_pvalue': 0.0,\n",
       "  'mid_slope': -149.335,\n",
       "  'mid_rvalue': -0.744,\n",
       "  'mid_pvalue': 0.0,\n",
       "  'short_slope': -529.662,\n",
       "  'short_rvalue': -0.964,\n",
       "  'short_pvalue': 0.0},\n",
       " {'symbol': 'A024110',\n",
       "  'long_slope': 16.422,\n",
       "  'long_rvalue': 0.883,\n",
       "  'long_pvalue': 0.0,\n",
       "  'mid_slope': 5.632,\n",
       "  'mid_rvalue': 0.35,\n",
       "  'mid_pvalue': 0.006,\n",
       "  'short_slope': -3.887,\n",
       "  'short_rvalue': -0.144,\n",
       "  'short_pvalue': 0.545},\n",
       " {'symbol': 'A034020',\n",
       "  'long_slope': 16.255,\n",
       "  'long_rvalue': 0.592,\n",
       "  'long_pvalue': 0.0,\n",
       "  'mid_slope': 36.821,\n",
       "  'mid_rvalue': 0.482,\n",
       "  'mid_pvalue': 0.0,\n",
       "  'short_slope': -132.789,\n",
       "  'short_rvalue': -0.659,\n",
       "  'short_pvalue': 0.002},\n",
       " {'symbol': 'A034730',\n",
       "  'long_slope': 69.711,\n",
       "  'long_rvalue': 0.316,\n",
       "  'long_pvalue': 0.0,\n",
       "  'mid_slope': -259.436,\n",
       "  'mid_rvalue': -0.403,\n",
       "  'mid_pvalue': 0.001,\n",
       "  'short_slope': -578.496,\n",
       "  'short_rvalue': -0.776,\n",
       "  'short_pvalue': 0.0},\n",
       " {'symbol': 'A035420',\n",
       "  'long_slope': -193.939,\n",
       "  'long_rvalue': -0.752,\n",
       "  'long_pvalue': 0.0,\n",
       "  'mid_slope': -255.471,\n",
       "  'mid_rvalue': -0.572,\n",
       "  'mid_pvalue': 0.0,\n",
       "  'short_slope': 301.353,\n",
       "  'short_rvalue': 0.449,\n",
       "  'short_pvalue': 0.047},\n",
       " {'symbol': 'A035720',\n",
       "  'long_slope': -17.533,\n",
       "  'long_rvalue': -0.226,\n",
       "  'long_pvalue': 0.0,\n",
       "  'mid_slope': -138.715,\n",
       "  'mid_rvalue': -0.914,\n",
       "  'mid_pvalue': 0.0,\n",
       "  'short_slope': -157.82,\n",
       "  'short_rvalue': -0.76,\n",
       "  'short_pvalue': 0.0},\n",
       " {'symbol': 'A036460',\n",
       "  'long_slope': 82.237,\n",
       "  'long_rvalue': 0.693,\n",
       "  'long_pvalue': 0.0,\n",
       "  'mid_slope': 317.502,\n",
       "  'mid_rvalue': 0.535,\n",
       "  'mid_pvalue': 0.0,\n",
       "  'short_slope': -272.82,\n",
       "  'short_rvalue': -0.62,\n",
       "  'short_pvalue': 0.004},\n",
       " {'symbol': 'A036570',\n",
       "  'long_slope': -368.598,\n",
       "  'long_rvalue': -0.851,\n",
       "  'long_pvalue': 0.0,\n",
       "  'mid_slope': -447.585,\n",
       "  'mid_rvalue': -0.66,\n",
       "  'mid_pvalue': 0.0,\n",
       "  'short_slope': -647.744,\n",
       "  'short_rvalue': -0.622,\n",
       "  'short_pvalue': 0.003},\n",
       " {'symbol': 'A039490',\n",
       "  'long_slope': 197.074,\n",
       "  'long_rvalue': 0.83,\n",
       "  'long_pvalue': 0.0,\n",
       "  'mid_slope': 105.477,\n",
       "  'mid_rvalue': 0.31,\n",
       "  'mid_pvalue': 0.016,\n",
       "  'short_slope': -529.624,\n",
       "  'short_rvalue': -0.611,\n",
       "  'short_pvalue': 0.004},\n",
       " {'symbol': 'A042660',\n",
       "  'long_slope': -9.692,\n",
       "  'long_rvalue': -0.148,\n",
       "  'long_pvalue': 0.019,\n",
       "  'mid_slope': -29.378,\n",
       "  'mid_rvalue': -0.507,\n",
       "  'mid_pvalue': 0.0,\n",
       "  'short_slope': 9.211,\n",
       "  'short_rvalue': 0.111,\n",
       "  'short_pvalue': 0.641},\n",
       " {'symbol': 'A042700',\n",
       "  'long_slope': 554.239,\n",
       "  'long_rvalue': 0.903,\n",
       "  'long_pvalue': 0.0,\n",
       "  'mid_slope': 75.502,\n",
       "  'mid_rvalue': 0.087,\n",
       "  'mid_pvalue': 0.507,\n",
       "  'short_slope': -1936.992,\n",
       "  'short_rvalue': -0.921,\n",
       "  'short_pvalue': 0.0},\n",
       " {'symbol': 'A051900',\n",
       "  'long_slope': -225.913,\n",
       "  'long_rvalue': -0.318,\n",
       "  'long_pvalue': 0.0,\n",
       "  'mid_slope': -2267.977,\n",
       "  'mid_rvalue': -0.936,\n",
       "  'mid_pvalue': 0.0,\n",
       "  'short_slope': -310.902,\n",
       "  'short_rvalue': -0.273,\n",
       "  'short_pvalue': 0.244},\n",
       " {'symbol': 'A051910',\n",
       "  'long_slope': -1083.059,\n",
       "  'long_rvalue': -0.919,\n",
       "  'long_pvalue': 0.0,\n",
       "  'mid_slope': -1393.109,\n",
       "  'mid_rvalue': -0.892,\n",
       "  'mid_pvalue': 0.0,\n",
       "  'short_slope': -3851.128,\n",
       "  'short_rvalue': -0.946,\n",
       "  'short_pvalue': 0.0},\n",
       " {'symbol': 'A069960',\n",
       "  'long_slope': -60.056,\n",
       "  'long_rvalue': -0.72,\n",
       "  'long_pvalue': 0.0,\n",
       "  'mid_slope': -76.949,\n",
       "  'mid_rvalue': -0.911,\n",
       "  'mid_pvalue': 0.0,\n",
       "  'short_slope': -71.353,\n",
       "  'short_rvalue': -0.703,\n",
       "  'short_pvalue': 0.001},\n",
       " {'symbol': 'A086790',\n",
       "  'long_slope': 119.587,\n",
       "  'long_rvalue': 0.914,\n",
       "  'long_pvalue': 0.0,\n",
       "  'mid_slope': 31.914,\n",
       "  'mid_rvalue': 0.304,\n",
       "  'mid_pvalue': 0.018,\n",
       "  'short_slope': -42.857,\n",
       "  'short_rvalue': -0.179,\n",
       "  'short_pvalue': 0.449},\n",
       " {'symbol': 'A139480',\n",
       "  'long_slope': -77.612,\n",
       "  'long_rvalue': -0.774,\n",
       "  'long_pvalue': 0.0,\n",
       "  'mid_slope': -129.497,\n",
       "  'mid_rvalue': -0.816,\n",
       "  'mid_pvalue': 0.0,\n",
       "  'short_slope': 37.444,\n",
       "  'short_rvalue': 0.229,\n",
       "  'short_pvalue': 0.331},\n",
       " {'symbol': 'A175330',\n",
       "  'long_slope': 24.39,\n",
       "  'long_rvalue': 0.953,\n",
       "  'long_pvalue': 0.0,\n",
       "  'mid_slope': 29.543,\n",
       "  'mid_rvalue': 0.793,\n",
       "  'mid_pvalue': 0.0,\n",
       "  'short_slope': -37.241,\n",
       "  'short_rvalue': -0.542,\n",
       "  'short_pvalue': 0.014},\n",
       " {'symbol': 'A180640',\n",
       "  'long_slope': 116.016,\n",
       "  'long_rvalue': 0.707,\n",
       "  'long_pvalue': 0.0,\n",
       "  'mid_slope': 105.271,\n",
       "  'mid_rvalue': 0.488,\n",
       "  'mid_pvalue': 0.0,\n",
       "  'short_slope': -30.15,\n",
       "  'short_rvalue': -0.112,\n",
       "  'short_pvalue': 0.637},\n",
       " {'symbol': 'A192820',\n",
       "  'long_slope': 186.8,\n",
       "  'long_rvalue': 0.568,\n",
       "  'long_pvalue': 0.0,\n",
       "  'mid_slope': 164.44,\n",
       "  'mid_rvalue': 0.196,\n",
       "  'mid_pvalue': 0.134,\n",
       "  'short_slope': -2055.564,\n",
       "  'short_rvalue': -0.876,\n",
       "  'short_pvalue': 0.0},\n",
       " {'symbol': 'A241560',\n",
       "  'long_slope': 3.25,\n",
       "  'long_rvalue': 0.046,\n",
       "  'long_pvalue': 0.463,\n",
       "  'mid_slope': -219.191,\n",
       "  'mid_rvalue': -0.84,\n",
       "  'mid_pvalue': 0.0,\n",
       "  'short_slope': -539.962,\n",
       "  'short_rvalue': -0.828,\n",
       "  'short_pvalue': 0.0},\n",
       " {'symbol': 'A267260',\n",
       "  'long_slope': 1175.828,\n",
       "  'long_rvalue': 0.92,\n",
       "  'long_pvalue': 0.0,\n",
       "  'mid_slope': 1359.03,\n",
       "  'mid_rvalue': 0.839,\n",
       "  'mid_pvalue': 0.0,\n",
       "  'short_slope': -223.308,\n",
       "  'short_rvalue': -0.076,\n",
       "  'short_pvalue': 0.75},\n",
       " {'symbol': 'A271560',\n",
       "  'long_slope': -166.56,\n",
       "  'long_rvalue': -0.872,\n",
       "  'long_pvalue': 0.0,\n",
       "  'mid_slope': -72.642,\n",
       "  'mid_rvalue': -0.405,\n",
       "  'mid_pvalue': 0.001,\n",
       "  'short_slope': -274.962,\n",
       "  'short_rvalue': -0.862,\n",
       "  'short_pvalue': 0.0},\n",
       " {'symbol': 'A302440',\n",
       "  'long_slope': -94.334,\n",
       "  'long_rvalue': -0.888,\n",
       "  'long_pvalue': 0.0,\n",
       "  'mid_slope': -82.634,\n",
       "  'mid_rvalue': -0.471,\n",
       "  'mid_pvalue': 0.0,\n",
       "  'short_slope': 54.135,\n",
       "  'short_rvalue': 0.31,\n",
       "  'short_pvalue': 0.184},\n",
       " {'symbol': 'A323410',\n",
       "  'long_slope': -10.985,\n",
       "  'long_rvalue': -0.281,\n",
       "  'long_pvalue': 0.0,\n",
       "  'mid_slope': -55.696,\n",
       "  'mid_rvalue': -0.801,\n",
       "  'mid_pvalue': 0.0,\n",
       "  'short_slope': -21.842,\n",
       "  'short_rvalue': -0.296,\n",
       "  'short_pvalue': 0.204},\n",
       " {'symbol': 'A326030',\n",
       "  'long_slope': -11.909,\n",
       "  'long_rvalue': -0.148,\n",
       "  'long_pvalue': 0.019,\n",
       "  'mid_slope': -96.374,\n",
       "  'mid_rvalue': -0.401,\n",
       "  'mid_pvalue': 0.002,\n",
       "  'short_slope': 376.015,\n",
       "  'short_rvalue': 0.828,\n",
       "  'short_pvalue': 0.0},\n",
       " {'symbol': 'A352820',\n",
       "  'long_slope': -250.313,\n",
       "  'long_rvalue': -0.816,\n",
       "  'long_pvalue': 0.0,\n",
       "  'mid_slope': -350.406,\n",
       "  'mid_rvalue': -0.668,\n",
       "  'mid_pvalue': 0.0,\n",
       "  'short_slope': -1491.278,\n",
       "  'short_rvalue': -0.967,\n",
       "  'short_pvalue': 0.0},\n",
       " {'symbol': 'A373220',\n",
       "  'long_slope': -815.578,\n",
       "  'long_rvalue': -0.914,\n",
       "  'long_pvalue': 0.0,\n",
       "  'mid_slope': -704.612,\n",
       "  'mid_rvalue': -0.627,\n",
       "  'mid_pvalue': 0.0,\n",
       "  'short_slope': -2481.203,\n",
       "  'short_rvalue': -0.844,\n",
       "  'short_pvalue': 0.0},\n",
       " {'symbol': 'A377300',\n",
       "  'long_slope': -77.561,\n",
       "  'long_rvalue': -0.722,\n",
       "  'long_pvalue': 0.0,\n",
       "  'mid_slope': -176.079,\n",
       "  'mid_rvalue': -0.929,\n",
       "  'mid_pvalue': 0.0,\n",
       "  'short_slope': -143.158,\n",
       "  'short_rvalue': -0.661,\n",
       "  'short_pvalue': 0.002},\n",
       " {'symbol': 'A383220',\n",
       "  'long_slope': -214.733,\n",
       "  'long_rvalue': -0.926,\n",
       "  'long_pvalue': 0.0,\n",
       "  'mid_slope': -149.405,\n",
       "  'mid_rvalue': -0.68,\n",
       "  'mid_pvalue': 0.0,\n",
       "  'short_slope': 39.624,\n",
       "  'short_rvalue': 0.057,\n",
       "  'short_pvalue': 0.812},\n",
       " {'symbol': 'A402340',\n",
       "  'long_slope': 246.109,\n",
       "  'long_rvalue': 0.933,\n",
       "  'long_pvalue': 0.0,\n",
       "  'mid_slope': 273.009,\n",
       "  'mid_rvalue': 0.518,\n",
       "  'mid_pvalue': 0.0,\n",
       "  'short_slope': -1414.511,\n",
       "  'short_rvalue': -0.851,\n",
       "  'short_pvalue': 0.0}]"
      ]
     },
     "execution_count": 712,
     "metadata": {},
     "output_type": "execute_result"
    }
   ],
   "source": [
    "filtered_stocks"
   ]
  },
  {
   "cell_type": "code",
   "execution_count": 713,
   "id": "d41a850b-8540-4f43-b407-f2e3c21496af",
   "metadata": {
    "execution": {
     "iopub.execute_input": "2024-08-13T01:57:34.655190Z",
     "iopub.status.busy": "2024-08-13T01:57:34.654275Z",
     "iopub.status.idle": "2024-08-13T01:57:34.663284Z",
     "shell.execute_reply": "2024-08-13T01:57:34.661900Z",
     "shell.execute_reply.started": "2024-08-13T01:57:34.655145Z"
    }
   },
   "outputs": [],
   "source": [
    "filered_df=pd.DataFrame(filtered_stocks).sort_values(by='long_slope')"
   ]
  },
  {
   "cell_type": "code",
   "execution_count": 714,
   "id": "6c850b70-3d33-453d-b609-13f290a0bcc2",
   "metadata": {
    "execution": {
     "iopub.execute_input": "2024-08-13T01:57:35.543205Z",
     "iopub.status.busy": "2024-08-13T01:57:35.542196Z",
     "iopub.status.idle": "2024-08-13T01:57:35.550919Z",
     "shell.execute_reply": "2024-08-13T01:57:35.549747Z",
     "shell.execute_reply.started": "2024-08-13T01:57:35.543158Z"
    },
    "scrolled": true
   },
   "outputs": [
    {
     "data": {
      "text/plain": [
       "66"
      ]
     },
     "execution_count": 714,
     "metadata": {},
     "output_type": "execute_result"
    }
   ],
   "source": [
    "len(filered_df['symbol'])"
   ]
  },
  {
   "cell_type": "code",
   "execution_count": 715,
   "id": "bf4364ab-7e2e-4e29-a613-a0b1d1b0d61e",
   "metadata": {
    "execution": {
     "iopub.execute_input": "2024-08-13T01:57:37.220746Z",
     "iopub.status.busy": "2024-08-13T01:57:37.219814Z",
     "iopub.status.idle": "2024-08-13T01:57:37.227835Z",
     "shell.execute_reply": "2024-08-13T01:57:37.226744Z",
     "shell.execute_reply.started": "2024-08-13T01:57:37.220698Z"
    }
   },
   "outputs": [],
   "source": [
    "filtered_stocks=list(set(weight_diff[weight_diff>.001].index).intersection(set(filered_df['symbol'])))"
   ]
  },
  {
   "cell_type": "code",
   "execution_count": 716,
   "id": "9148b8ec-2b46-4aa7-9506-203ec5c967f0",
   "metadata": {
    "execution": {
     "iopub.execute_input": "2024-08-13T01:57:42.556644Z",
     "iopub.status.busy": "2024-08-13T01:57:42.555723Z",
     "iopub.status.idle": "2024-08-13T01:57:42.563560Z",
     "shell.execute_reply": "2024-08-13T01:57:42.562574Z",
     "shell.execute_reply.started": "2024-08-13T01:57:42.556596Z"
    }
   },
   "outputs": [
    {
     "data": {
      "text/plain": [
       "['A004170',\n",
       " 'A069960',\n",
       " 'A018880',\n",
       " 'A051900',\n",
       " 'A009970',\n",
       " 'A008770',\n",
       " 'A271560',\n",
       " 'A036570',\n",
       " 'A383220',\n",
       " 'A003030',\n",
       " 'A302440',\n",
       " 'A377300',\n",
       " 'A004000']"
      ]
     },
     "execution_count": 716,
     "metadata": {},
     "output_type": "execute_result"
    }
   ],
   "source": [
    "filtered_stocks"
   ]
  },
  {
   "cell_type": "code",
   "execution_count": 691,
   "id": "1d3df3c0-a768-4705-97e9-f83625c0e71e",
   "metadata": {
    "execution": {
     "iopub.execute_input": "2024-08-13T01:46:32.020110Z",
     "iopub.status.busy": "2024-08-13T01:46:32.019195Z",
     "iopub.status.idle": "2024-08-13T01:46:32.027030Z",
     "shell.execute_reply": "2024-08-13T01:46:32.025942Z",
     "shell.execute_reply.started": "2024-08-13T01:46:32.020064Z"
    }
   },
   "outputs": [],
   "source": [
    "eqw=bmw.loc['2024-07-31', filered_df['symbol'].values]"
   ]
  },
  {
   "cell_type": "code",
   "execution_count": 692,
   "id": "b53a71aa-d81b-48bf-9233-7191f6bce647",
   "metadata": {
    "execution": {
     "iopub.execute_input": "2024-08-13T01:46:32.294320Z",
     "iopub.status.busy": "2024-08-13T01:46:32.293701Z",
     "iopub.status.idle": "2024-08-13T01:46:32.304434Z",
     "shell.execute_reply": "2024-08-13T01:46:32.303378Z",
     "shell.execute_reply.started": "2024-08-13T01:46:32.294273Z"
    },
    "scrolled": true
   },
   "outputs": [
    {
     "data": {
      "text/plain": [
       "Symbol\n",
       "A051910    1.11\n",
       "A006400    1.31\n",
       "A005490    1.89\n",
       "A373220    0.90\n",
       "A003670    0.45\n",
       "           ... \n",
       "A000150    0.10\n",
       "A000810    0.92\n",
       "A010120    0.23\n",
       "A042700    0.44\n",
       "A267260    0.51\n",
       "Name: 2024-07-31 00:00:00, Length: 66, dtype: float64"
      ]
     },
     "execution_count": 692,
     "metadata": {},
     "output_type": "execute_result"
    }
   ],
   "source": [
    "eqw"
   ]
  },
  {
   "cell_type": "code",
   "execution_count": 693,
   "id": "eaba1e5c-b4b8-4abc-897a-42c3df09ad32",
   "metadata": {
    "execution": {
     "iopub.execute_input": "2024-08-13T01:46:34.683627Z",
     "iopub.status.busy": "2024-08-13T01:46:34.682995Z",
     "iopub.status.idle": "2024-08-13T01:46:34.689935Z",
     "shell.execute_reply": "2024-08-13T01:46:34.688874Z",
     "shell.execute_reply.started": "2024-08-13T01:46:34.683578Z"
    }
   },
   "outputs": [],
   "source": [
    "final_port=monthly_optw.iloc[-1].copy()"
   ]
  },
  {
   "cell_type": "code",
   "execution_count": 694,
   "id": "2819861d-dcfc-4fdc-abb3-5f26820cde17",
   "metadata": {
    "execution": {
     "iopub.execute_input": "2024-08-13T01:46:34.999652Z",
     "iopub.status.busy": "2024-08-13T01:46:34.998707Z",
     "iopub.status.idle": "2024-08-13T01:46:35.006962Z",
     "shell.execute_reply": "2024-08-13T01:46:35.005939Z",
     "shell.execute_reply.started": "2024-08-13T01:46:34.999605Z"
    }
   },
   "outputs": [
    {
     "data": {
      "text/plain": [
       "1.0"
      ]
     },
     "execution_count": 694,
     "metadata": {},
     "output_type": "execute_result"
    }
   ],
   "source": [
    "final_port.sum()"
   ]
  },
  {
   "cell_type": "code",
   "execution_count": 695,
   "id": "98f9a806-8340-4f7d-89b7-2e0f296f6bce",
   "metadata": {
    "execution": {
     "iopub.execute_input": "2024-08-13T01:46:35.211385Z",
     "iopub.status.busy": "2024-08-13T01:46:35.210478Z",
     "iopub.status.idle": "2024-08-13T01:46:35.218405Z",
     "shell.execute_reply": "2024-08-13T01:46:35.217327Z",
     "shell.execute_reply.started": "2024-08-13T01:46:35.211338Z"
    }
   },
   "outputs": [],
   "source": [
    "final_port.loc[filtered_stocks]=eqw/100"
   ]
  },
  {
   "cell_type": "code",
   "execution_count": 696,
   "id": "32fecfcc-7c7f-4bb6-a96e-03314db83649",
   "metadata": {
    "execution": {
     "iopub.execute_input": "2024-08-13T01:46:35.438587Z",
     "iopub.status.busy": "2024-08-13T01:46:35.437962Z",
     "iopub.status.idle": "2024-08-13T01:46:35.448736Z",
     "shell.execute_reply": "2024-08-13T01:46:35.447713Z",
     "shell.execute_reply.started": "2024-08-13T01:46:35.438540Z"
    }
   },
   "outputs": [
    {
     "data": {
      "text/plain": [
       "Symbol\n",
       "A000100    0.004935\n",
       "A000150    0.001386\n",
       "A000270    0.022278\n",
       "A000660    0.086857\n",
       "A000720    0.002264\n",
       "             ...   \n",
       "A003030    0.000200\n",
       "A005070    0.002710\n",
       "A042700    0.004778\n",
       "A066970    0.002501\n",
       "A454910    0.001463\n",
       "Name: 2024-07-31 00:00:00, Length: 118, dtype: float64"
      ]
     },
     "execution_count": 696,
     "metadata": {},
     "output_type": "execute_result"
    }
   ],
   "source": [
    "final_port.dropna()"
   ]
  },
  {
   "cell_type": "code",
   "execution_count": null,
   "id": "50a2e939-0859-410d-af2e-0efee2a9cff5",
   "metadata": {},
   "outputs": [],
   "source": []
  },
  {
   "cell_type": "code",
   "execution_count": 697,
   "id": "66610e22-cbac-4549-8888-c1998c9d6a1f",
   "metadata": {
    "execution": {
     "iopub.execute_input": "2024-08-13T01:46:38.802745Z",
     "iopub.status.busy": "2024-08-13T01:46:38.802235Z",
     "iopub.status.idle": "2024-08-13T01:46:38.810164Z",
     "shell.execute_reply": "2024-08-13T01:46:38.808871Z",
     "shell.execute_reply.started": "2024-08-13T01:46:38.802700Z"
    }
   },
   "outputs": [],
   "source": [
    "weight_diff2=final_port.dropna()-compare_bmw"
   ]
  },
  {
   "cell_type": "code",
   "execution_count": 698,
   "id": "3c8177c1-dc20-4a6d-842a-6a3544b4ff79",
   "metadata": {
    "execution": {
     "iopub.execute_input": "2024-08-13T01:46:39.013873Z",
     "iopub.status.busy": "2024-08-13T01:46:39.012972Z",
     "iopub.status.idle": "2024-08-13T01:46:39.021138Z",
     "shell.execute_reply": "2024-08-13T01:46:39.020119Z",
     "shell.execute_reply.started": "2024-08-13T01:46:39.013826Z"
    }
   },
   "outputs": [
    {
     "data": {
      "text/plain": [
       "-0.009642739380477881"
      ]
     },
     "execution_count": 698,
     "metadata": {},
     "output_type": "execute_result"
    }
   ],
   "source": [
    "weight_diff2.min()"
   ]
  },
  {
   "cell_type": "code",
   "execution_count": 699,
   "id": "98dbe2e4-679f-4f2b-a0f1-b4f431b2bcec",
   "metadata": {
    "execution": {
     "iopub.execute_input": "2024-08-13T01:46:39.198710Z",
     "iopub.status.busy": "2024-08-13T01:46:39.198068Z",
     "iopub.status.idle": "2024-08-13T01:46:39.204762Z",
     "shell.execute_reply": "2024-08-13T01:46:39.203662Z",
     "shell.execute_reply.started": "2024-08-13T01:46:39.198662Z"
    }
   },
   "outputs": [],
   "source": [
    "weight_diff2=weight_diff2+abs(weight_diff2.min())"
   ]
  },
  {
   "cell_type": "code",
   "execution_count": 700,
   "id": "0859f8a9-832e-4607-a1f6-453ab87fa10b",
   "metadata": {
    "execution": {
     "iopub.execute_input": "2024-08-13T01:46:39.374499Z",
     "iopub.status.busy": "2024-08-13T01:46:39.373987Z",
     "iopub.status.idle": "2024-08-13T01:46:39.382441Z",
     "shell.execute_reply": "2024-08-13T01:46:39.381276Z",
     "shell.execute_reply.started": "2024-08-13T01:46:39.374452Z"
    }
   },
   "outputs": [
    {
     "data": {
      "text/plain": [
       "0.0"
      ]
     },
     "execution_count": 700,
     "metadata": {},
     "output_type": "execute_result"
    }
   ],
   "source": [
    "weight_diff2.min()"
   ]
  },
  {
   "cell_type": "code",
   "execution_count": null,
   "id": "42011fc2-9d37-4490-900c-346d96f037dc",
   "metadata": {},
   "outputs": [],
   "source": []
  },
  {
   "cell_type": "code",
   "execution_count": 701,
   "id": "3bd4a9ec-a798-4e43-951e-cd2aa555d887",
   "metadata": {
    "execution": {
     "iopub.execute_input": "2024-08-13T01:46:40.068777Z",
     "iopub.status.busy": "2024-08-13T01:46:40.068250Z",
     "iopub.status.idle": "2024-08-13T01:46:40.075664Z",
     "shell.execute_reply": "2024-08-13T01:46:40.074420Z",
     "shell.execute_reply.started": "2024-08-13T01:46:40.068732Z"
    }
   },
   "outputs": [],
   "source": [
    "additional_weights=weight_diff2/weight_diff2.sum() * (1-final_port.sum())"
   ]
  },
  {
   "cell_type": "code",
   "execution_count": 702,
   "id": "7ef27482-4936-421e-93fe-73e1dc993f26",
   "metadata": {
    "execution": {
     "iopub.execute_input": "2024-08-13T01:46:40.354951Z",
     "iopub.status.busy": "2024-08-13T01:46:40.354305Z",
     "iopub.status.idle": "2024-08-13T01:46:40.361528Z",
     "shell.execute_reply": "2024-08-13T01:46:40.360415Z",
     "shell.execute_reply.started": "2024-08-13T01:46:40.354903Z"
    }
   },
   "outputs": [],
   "source": [
    "final_port_adj=final_port+additional_weights"
   ]
  },
  {
   "cell_type": "code",
   "execution_count": 703,
   "id": "a1f82299-43a6-4f4e-99ec-9b4492e0abd5",
   "metadata": {
    "execution": {
     "iopub.execute_input": "2024-08-13T01:46:40.662111Z",
     "iopub.status.busy": "2024-08-13T01:46:40.661107Z",
     "iopub.status.idle": "2024-08-13T01:46:40.672100Z",
     "shell.execute_reply": "2024-08-13T01:46:40.671084Z",
     "shell.execute_reply.started": "2024-08-13T01:46:40.662062Z"
    }
   },
   "outputs": [
    {
     "data": {
      "text/plain": [
       "Symbol\n",
       "A051910    0.000000e+00\n",
       "A035420    1.115738e-07\n",
       "A005490    1.077365e-04\n",
       "A373220    1.210043e-04\n",
       "A003550    3.243868e-04\n",
       "               ...     \n",
       "A081660    5.254396e-04\n",
       "A002710    5.372221e-04\n",
       "A078930    5.567544e-04\n",
       "A001800    7.532730e-04\n",
       "A111770    1.005397e-03\n",
       "Name: 2024-07-31 00:00:00, Length: 118, dtype: float64"
      ]
     },
     "execution_count": 703,
     "metadata": {},
     "output_type": "execute_result"
    }
   ],
   "source": [
    "additional_weights.sort_values()"
   ]
  },
  {
   "cell_type": "code",
   "execution_count": 704,
   "id": "184ca172-87a5-41a5-94ac-5ccdd0130221",
   "metadata": {
    "execution": {
     "iopub.execute_input": "2024-08-13T01:46:42.503393Z",
     "iopub.status.busy": "2024-08-13T01:46:42.502483Z",
     "iopub.status.idle": "2024-08-13T01:46:42.514222Z",
     "shell.execute_reply": "2024-08-13T01:46:42.512646Z",
     "shell.execute_reply.started": "2024-08-13T01:46:42.503342Z"
    }
   },
   "outputs": [
    {
     "data": {
      "text/plain": [
       "Symbol\n",
       "A003030    0.000691\n",
       "A009970    0.000791\n",
       "A069960    0.000991\n",
       "A004000    0.000991\n",
       "A377300    0.001091\n",
       "             ...   \n",
       "A068270    0.024400\n",
       "A105560    0.024826\n",
       "A005380    0.028168\n",
       "A000660    0.087367\n",
       "A005930    0.314795\n",
       "Name: 2024-07-31 00:00:00, Length: 118, dtype: float64"
      ]
     },
     "execution_count": 704,
     "metadata": {},
     "output_type": "execute_result"
    }
   ],
   "source": [
    "final_port_adj.dropna().sort_values()"
   ]
  },
  {
   "cell_type": "code",
   "execution_count": 684,
   "id": "846f38a9-9093-43aa-9323-93a5c3eac5cf",
   "metadata": {
    "execution": {
     "iopub.execute_input": "2024-08-13T01:39:21.057877Z",
     "iopub.status.busy": "2024-08-13T01:39:21.057354Z",
     "iopub.status.idle": "2024-08-13T01:39:21.066364Z",
     "shell.execute_reply": "2024-08-13T01:39:21.065283Z",
     "shell.execute_reply.started": "2024-08-13T01:39:21.057829Z"
    }
   },
   "outputs": [],
   "source": [
    "final_port_adj.to_csv(f\"../data/output/weight/{period2}_screened_weight_stock{stockw}_port2.csv\")"
   ]
  },
  {
   "cell_type": "code",
   "execution_count": 705,
   "id": "272f0fea-08a9-4d85-973d-52f154438306",
   "metadata": {
    "execution": {
     "iopub.execute_input": "2024-08-13T01:46:46.182626Z",
     "iopub.status.busy": "2024-08-13T01:46:46.181817Z",
     "iopub.status.idle": "2024-08-13T01:46:46.194755Z",
     "shell.execute_reply": "2024-08-13T01:46:46.193734Z",
     "shell.execute_reply.started": "2024-08-13T01:46:46.182580Z"
    }
   },
   "outputs": [
    {
     "data": {
      "text/plain": [
       "Symbol\n",
       "A051910   -0.009643\n",
       "A035420   -0.009640\n",
       "A005490   -0.007420\n",
       "A373220   -0.007146\n",
       "A003550   -0.002949\n",
       "             ...   \n",
       "A081660    0.001199\n",
       "A002710    0.001442\n",
       "A078930    0.001845\n",
       "A001800    0.005900\n",
       "A111770    0.011103\n",
       "Name: 2024-07-31 00:00:00, Length: 118, dtype: float64"
      ]
     },
     "execution_count": 705,
     "metadata": {},
     "output_type": "execute_result"
    }
   ],
   "source": [
    "(final_port_adj-compare_bmw).dropna().sort_values()"
   ]
  },
  {
   "cell_type": "code",
   "execution_count": null,
   "id": "de2e77de-fd36-46aa-84a3-b50dc4df94cb",
   "metadata": {},
   "outputs": [],
   "source": []
  },
  {
   "cell_type": "code",
   "execution_count": null,
   "id": "29210c95-5e3f-4acb-ae09-3e18c542ba4b",
   "metadata": {},
   "outputs": [],
   "source": []
  },
  {
   "cell_type": "code",
   "execution_count": 663,
   "id": "2f6469b0-f742-4b4e-a1bb-cc0c85f9bf2b",
   "metadata": {
    "execution": {
     "iopub.execute_input": "2024-08-07T08:22:12.237141Z",
     "iopub.status.busy": "2024-08-07T08:22:12.236488Z",
     "iopub.status.idle": "2024-08-07T08:22:12.249255Z",
     "shell.execute_reply": "2024-08-07T08:22:12.247944Z",
     "shell.execute_reply.started": "2024-08-07T08:22:12.237090Z"
    }
   },
   "outputs": [],
   "source": [
    "(final_port_adj-compare_bmw).dropna().sort_values().to_csv(f\"../data/output/weight/{period2}_screened_weightdiff_stock{stockw}_port.csv\")"
   ]
  },
  {
   "cell_type": "code",
   "execution_count": null,
   "id": "455aa294-6c32-4e2c-87d6-1d6e4f3c2170",
   "metadata": {},
   "outputs": [],
   "source": []
  },
  {
   "cell_type": "code",
   "execution_count": 745,
   "id": "38611e5c-ee7a-4d6a-b61c-28ccdd15b486",
   "metadata": {
    "execution": {
     "iopub.execute_input": "2024-08-30T02:26:53.529896Z",
     "iopub.status.busy": "2024-08-30T02:26:53.528806Z",
     "iopub.status.idle": "2024-08-30T02:26:53.557673Z",
     "shell.execute_reply": "2024-08-30T02:26:53.556474Z",
     "shell.execute_reply.started": "2024-08-30T02:26:53.529845Z"
    }
   },
   "outputs": [],
   "source": [
    "def score_objective(weight, score, cov):\n",
    "    weight_adj=np.where(weight<10**-3, 0, np.maximum(weight, 10**-3))\n",
    "    # w_diff=abs(weight_adj-bm_weight)\n",
    "    # if w_diff.sum()==0:\n",
    "    #     return 0\n",
    "    try:\n",
    "        # Check for specific error message before sqrt\n",
    "        if np.any(np.isnan(np.dot(weight_adj.T, np.dot(cov, weight_adj)))):\n",
    "            raise ValueError(\"Encountered NaN values during portfolio volatility calculation.\")\n",
    "        port_vol = np.sqrt(np.dot(weight_adj.T, np.dot(cov, weight_adj)))\n",
    "    \n",
    "    except (ValueError, RuntimeWarning) as e:\n",
    "        print(w_diff.isin([np.inf, -np.inf]).any().any())\n",
    "        print(cov.isin([np.inf, -np.inf]).any().any())\n",
    "        print(np.dot(cov, weight_adj))\n",
    "        print(np.dot(weight_adj.T, np.dot(cov, weight_adj)))\n",
    "        print(\"Warning: Encountered errors during portfolio volatility calculation.\")\n",
    "        print(e)\n",
    "    \n",
    "    adj_sharpe= score.sum() / port_vol\n",
    "    return -adj_sharpe\n",
    "\n",
    "\n",
    "def convert_lsScore(port_score, short_num, long_num):\n",
    "    \"\"\"\n",
    "        when score is all positive, it convert to the mean of score is 0 so that it can be used in Long/Short       \n",
    "    \"\"\"\n",
    "    # convert into L/S scores\n",
    "    sort_score=port_score.sort_values().dropna().copy()\n",
    "    port_score[:]=np.nan # port_score.mean()\n",
    "    if short_num>0:\n",
    "        port_score[sort_score.iloc[:short_num].index]=sort_score.iloc[:short_num]\n",
    "\n",
    "    port_score[sort_score.iloc[-long_num:].index]=sort_score.iloc[-long_num:]       \n",
    "    # port_score=port_score.fillna(0)\n",
    "    \n",
    "    return port_score\n",
    "\n",
    "\n",
    "def optimize_portfolio3_(port_weight, bm_weight, adj_prc, \n",
    "                         sector_info, size_info, \n",
    "                         excess_stockw, excess_sectorw, excess_sizew,\n",
    "                         long_num, short_num):    \n",
    "    # slice BM weight   \n",
    "    temp_bm_weight=bm_weight/bm_weight.sum()\n",
    "    print('bmw: ', temp_bm_weight.loc['A005930'])\n",
    "    \n",
    "    temp_raw_port=port_weight.dropna()\n",
    "    print('rawscore: ', temp_raw_port.loc['A005930'])\n",
    "    \n",
    "    # slice port weight\n",
    "    temp_port=handle_missingCol(temp_raw_port, temp_bm_weight)\n",
    "    print('bm adj score: ', temp_port.shape, temp_port.dropna().shape)\n",
    "    temp_port=temp_port.fillna(0)\n",
    "    \n",
    "    temp_score=convert_lsScore(temp_port, short_num, long_num)\n",
    "\n",
    "    # convert score into long/short score\n",
    "    print('l/s num: ', temp_score.dropna().shape)\n",
    "    B=create_excludingMatrix(temp_score)\n",
    "    print(B.shape, B.sum())        \n",
    "\n",
    "    # compute covariance\n",
    "    temp_cov=adjprc[temp_score.index].pct_change(20).dropna(how='all', axis=0).cov()\n",
    "    temp_cov=temp_cov.fillna(0)\n",
    "\n",
    "    \"\"\"\n",
    "     concat with bm stock weights include all stocks in BM \n",
    "     to compute sector weights, all BM stocks required\n",
    "     excluding matrix so that it does not include not picked up stocks\n",
    "    \"\"\"\n",
    "    \n",
    "    temp_bm_stockw=pd.concat([sector_info.dropna(), size_info.dropna(), temp_bm_weight], axis=1)\n",
    "    temp_bm_stockw.columns=['sector', 'size', 'bm_weight']\n",
    "    temp_bm_stockw=temp_bm_stockw.loc[temp_port.index]\n",
    "    print(temp_bm_stockw['sector'])\n",
    "    temp_bm_sectorw=temp_bm_stockw[['sector', 'bm_weight']].groupby('sector').sum()\n",
    "    temp_bm_sizew=temp_bm_stockw[['size', 'bm_weight']].groupby('size').sum()\n",
    "\n",
    "    \n",
    "    print('bm sectorw: ', temp_bm_sectorw)\n",
    "    \n",
    "    A=create_sectorMatrix(temp_bm_sectorw, temp_bm_stockw)\n",
    "    \n",
    "    # Define the constraints (weights sum to 1)\n",
    "    const1 = {'type': 'eq', 'fun': lambda x: np.sum(x) - 1}\n",
    "    # const11 = {'type': 'eq', 'fun': lambda x: np.sum(B*x).sum()}\n",
    "    const2 = {'type': 'ineq', 'fun': lambda x: -np.abs(x - temp_bm_weight)+excess_stockw}\n",
    "    const3 = {'type': 'ineq', 'fun': lambda x: -np.abs(np.dot(A, x) - temp_bm_sectorw.values.flatten()) + excess_sectorw}\n",
    "    const4 = {'type': 'ineq', 'fun': lambda x: -np.abs(np.dot(A, x) - temp_bm_sizew.values.flatten()) + excess_sizew}\n",
    "    \n",
    "    # Define the bounds (each weight is between 0 and 1)\n",
    "    bounds = tuple((0, 1) for asset in range(len(temp_port.index)))\n",
    "\n",
    "    constraints=[const1, const2, const3] #+sec_ub+sec_lb\n",
    "\n",
    "    # Initial guess (equal weights)\n",
    "    initial_guess = [1 / len(temp_score.index) for asset in range(len(temp_port.index))]\n",
    "    # initial_guess=np.dot(B, initial_guess)\n",
    "    # initial_guess = temp_bm_weight.values\n",
    "    \n",
    "    # Perform the optimization\n",
    "    print(temp_bm_weight.shape, temp_score.shape, temp_cov.shape)\n",
    "    result = minimize(score_objective, initial_guess, args=(temp_score, temp_cov),\n",
    "                      method='SLSQP', bounds=bounds, constraints=constraints) # \n",
    "        \n",
    "    # Extract the optimized weights\n",
    "    optimal_weights = result.x\n",
    "    optw_df=pd.DataFrame(optimal_weights, index=temp_port.index)\n",
    "    \n",
    "    return optw_df\n"
   ]
  },
  {
   "cell_type": "code",
   "execution_count": 746,
   "id": "09f816f9-0a41-4b1a-9e89-63be62d9078a",
   "metadata": {
    "execution": {
     "iopub.execute_input": "2024-08-30T02:26:53.836667Z",
     "iopub.status.busy": "2024-08-30T02:26:53.836108Z",
     "iopub.status.idle": "2024-08-30T02:26:56.355961Z",
     "shell.execute_reply": "2024-08-30T02:26:56.355139Z",
     "shell.execute_reply.started": "2024-08-30T02:26:53.836622Z"
    },
    "scrolled": true
   },
   "outputs": [
    {
     "name": "stdout",
     "output_type": "stream",
     "text": [
      "bmw:  0.3138941682504751\n",
      "rawscore:  0.31427980997554883\n",
      "missing col:  A009900\n",
      "missing col:  A006650\n",
      "missing col:  A285130\n",
      "missing col:  A008930\n",
      "missing col:  A008730\n",
      "missing col:  A001450\n",
      "missing col:  A336260\n",
      "missing col:  A009240\n",
      "missing col:  A282330\n",
      "missing col:  A004370\n",
      "missing col:  A030000\n",
      "missing col:  A028670\n",
      "missing col:  A042670\n",
      "missing col:  A103140\n",
      "missing col:  A000120\n",
      "missing col:  A298020\n",
      "missing col:  A178920\n",
      "missing col:  A003090\n",
      "missing col:  A457190\n",
      "missing col:  A014820\n",
      "missing col:  A114090\n",
      "missing col:  A005420\n",
      "missing col:  A004990\n",
      "missing col:  A137310\n",
      "missing col:  A007310\n",
      "missing col:  A161390\n",
      "missing col:  A001740\n",
      "missing col:  A026960\n",
      "missing col:  A023530\n",
      "missing col:  A000670\n",
      "missing col:  A093370\n",
      "missing col:  A001680\n",
      "missing col:  A361610\n",
      "missing col:  A011210\n",
      "missing col:  A005300\n",
      "missing col:  A073240\n",
      "missing col:  A120110\n",
      "missing col:  A298050\n",
      "missing col:  A005850\n",
      "missing col:  A005250\n",
      "missing col:  A047040\n",
      "missing col:  A001120\n",
      "missing col:  A088350\n",
      "missing col:  A007070\n",
      "missing col:  A028050\n",
      "missing col:  A002790\n",
      "missing col:  A051600\n",
      "missing col:  A010130\n",
      "missing col:  A032350\n",
      "missing col:  A280360\n",
      "missing col:  A009830\n",
      "missing col:  A035250\n",
      "missing col:  A003620\n",
      "missing col:  A004800\n",
      "missing col:  A006280\n",
      "missing col:  A375500\n",
      "missing col:  A010060\n",
      "missing col:  A204320\n",
      "missing col:  A000210\n",
      "missing col:  A185750\n",
      "missing col:  A039130\n",
      "missing col:  A086280\n",
      "missing col:  A000240\n",
      "missing col:  A001430\n",
      "missing col:  A069620\n",
      "missing col:  A300720\n",
      "missing col:  A017800\n",
      "missing col:  A139130\n",
      "missing col:  A004490\n",
      "missing col:  A033780\n",
      "missing col:  A105630\n",
      "missing col:  A271940\n",
      "missing col:  A069260\n",
      "missing col:  A145720\n",
      "missing col:  A000080\n",
      "missing col:  A006110\n",
      "missing col:  A161890\n",
      "missing col:  A021240\n",
      "missing col:  A112610\n",
      "missing col:  A016380\n",
      "missing col:  A192080\n",
      "missing col:  A032640\n",
      "port shape: (200,), bm shape: (200,), compare : 200\n",
      "bm adj score:  (200,) (118,)\n",
      "l/s num:  (200,)\n",
      "(200,) 0.0\n"
     ]
    },
    {
     "name": "stderr",
     "output_type": "stream",
     "text": [
      "/tmp/ipykernel_309735/3775375641.py:45: FutureWarning: The default fill_method='pad' in DataFrame.pct_change is deprecated and will be removed in a future version. Call ffill before calling pct_change to retain current behavior and silence this warning.\n",
      "  temp_cov=adjprc[temp_port.index].pct_change(20).dropna(how='all', axis=0).cov()\n"
     ]
    },
    {
     "name": "stdout",
     "output_type": "stream",
     "text": [
      "Symbol\n",
      "A000080    필수소비재\n",
      "A000100       의료\n",
      "A000120      산업재\n",
      "A000150      산업재\n",
      "A000210       소재\n",
      "           ...  \n",
      "A383220    경기소비재\n",
      "A402340      산업재\n",
      "A450080       IT\n",
      "A454910      산업재\n",
      "A457190       소재\n",
      "Name: sector, Length: 200, dtype: object\n",
      "bm sectorw:          bm_weight\n",
      "sector           \n",
      "IT       0.489447\n",
      "경기소비재    0.095729\n",
      "금융       0.119136\n",
      "산업재      0.118035\n",
      "소재       0.059418\n",
      "에너지      0.020006\n",
      "유틸리티     0.006702\n",
      "의료       0.049215\n",
      "통신서비스    0.015505\n",
      "필수소비재    0.026808\n",
      "(200,) (200,) (200, 200)\n"
     ]
    }
   ],
   "source": [
    "stockw=.015\n",
    "sectorw=.04\n",
    "sizew=.05\n",
    "long_num=75\n",
    "short_num=30\n",
    "final_port_opt=optimize_portfolio3_(final_port, \n",
    "                                    bmw.loc[period2].dropna(), \n",
    "                                    adjprc.loc[period1:period2],\n",
    "                                    sector_label.loc[period2],\n",
    "                                    size_label.loc[period2],\n",
    "                                    stockw, \n",
    "                                    sectorw,\n",
    "                                    sizew,\n",
    "                                    long_num,\n",
    "                                    short_num)"
   ]
  },
  {
   "cell_type": "code",
   "execution_count": null,
   "id": "868b4d38-08cc-4336-8f56-5a20fbd76701",
   "metadata": {},
   "outputs": [],
   "source": []
  },
  {
   "cell_type": "code",
   "execution_count": null,
   "id": "be48ab54-30cd-42ec-a139-e67cb81bf8d5",
   "metadata": {},
   "outputs": [],
   "source": []
  },
  {
   "cell_type": "code",
   "execution_count": 719,
   "id": "37394868-9dd0-45ff-bb19-d984ce01eccc",
   "metadata": {
    "execution": {
     "iopub.execute_input": "2024-08-30T01:26:05.347199Z",
     "iopub.status.busy": "2024-08-30T01:26:05.346680Z",
     "iopub.status.idle": "2024-08-30T01:26:05.354438Z",
     "shell.execute_reply": "2024-08-30T01:26:05.353234Z",
     "shell.execute_reply.started": "2024-08-30T01:26:05.347152Z"
    }
   },
   "outputs": [
    {
     "data": {
      "text/plain": [
       "0.01"
      ]
     },
     "execution_count": 719,
     "metadata": {},
     "output_type": "execute_result"
    }
   ],
   "source": []
  },
  {
   "cell_type": "code",
   "execution_count": null,
   "id": "b8a1af67-1d57-4354-9b49-c57b6b12006c",
   "metadata": {},
   "outputs": [],
   "source": []
  },
  {
   "cell_type": "code",
   "execution_count": 618,
   "id": "4b9e0625-d006-4121-9147-eea04723a8e5",
   "metadata": {
    "execution": {
     "iopub.execute_input": "2024-08-06T07:35:26.800129Z",
     "iopub.status.busy": "2024-08-06T07:35:26.799847Z",
     "iopub.status.idle": "2024-08-06T07:35:26.809865Z",
     "shell.execute_reply": "2024-08-06T07:35:26.809166Z",
     "shell.execute_reply.started": "2024-08-06T07:35:26.800108Z"
    }
   },
   "outputs": [
    {
     "data": {
      "text/html": [
       "<div>\n",
       "<style scoped>\n",
       "    .dataframe tbody tr th:only-of-type {\n",
       "        vertical-align: middle;\n",
       "    }\n",
       "\n",
       "    .dataframe tbody tr th {\n",
       "        vertical-align: top;\n",
       "    }\n",
       "\n",
       "    .dataframe thead th {\n",
       "        text-align: right;\n",
       "    }\n",
       "</style>\n",
       "<table border=\"1\" class=\"dataframe\">\n",
       "  <thead>\n",
       "    <tr style=\"text-align: right;\">\n",
       "      <th></th>\n",
       "      <th>0</th>\n",
       "    </tr>\n",
       "    <tr>\n",
       "      <th>Symbol</th>\n",
       "      <th></th>\n",
       "    </tr>\n",
       "  </thead>\n",
       "  <tbody>\n",
       "    <tr>\n",
       "      <th>A005930</th>\n",
       "      <td>0.303467</td>\n",
       "    </tr>\n",
       "    <tr>\n",
       "      <th>A000660</th>\n",
       "      <td>0.076424</td>\n",
       "    </tr>\n",
       "    <tr>\n",
       "      <th>A005380</th>\n",
       "      <td>0.027322</td>\n",
       "    </tr>\n",
       "    <tr>\n",
       "      <th>A068270</th>\n",
       "      <td>0.024160</td>\n",
       "    </tr>\n",
       "    <tr>\n",
       "      <th>A000270</th>\n",
       "      <td>0.021747</td>\n",
       "    </tr>\n",
       "    <tr>\n",
       "      <th>...</th>\n",
       "      <td>...</td>\n",
       "    </tr>\n",
       "    <tr>\n",
       "      <th>A035250</th>\n",
       "      <td>0.000032</td>\n",
       "    </tr>\n",
       "    <tr>\n",
       "      <th>A078930</th>\n",
       "      <td>0.000032</td>\n",
       "    </tr>\n",
       "    <tr>\n",
       "      <th>A011170</th>\n",
       "      <td>0.000032</td>\n",
       "    </tr>\n",
       "    <tr>\n",
       "      <th>A008770</th>\n",
       "      <td>0.000008</td>\n",
       "    </tr>\n",
       "    <tr>\n",
       "      <th>A010950</th>\n",
       "      <td>0.000007</td>\n",
       "    </tr>\n",
       "  </tbody>\n",
       "</table>\n",
       "<p>200 rows × 1 columns</p>\n",
       "</div>"
      ],
      "text/plain": [
       "                0\n",
       "Symbol           \n",
       "A005930  0.303467\n",
       "A000660  0.076424\n",
       "A005380  0.027322\n",
       "A068270  0.024160\n",
       "A000270  0.021747\n",
       "...           ...\n",
       "A035250  0.000032\n",
       "A078930  0.000032\n",
       "A011170  0.000032\n",
       "A008770  0.000008\n",
       "A010950  0.000007\n",
       "\n",
       "[200 rows x 1 columns]"
      ]
     },
     "execution_count": 618,
     "metadata": {},
     "output_type": "execute_result"
    }
   ],
   "source": [
    "final_port_opt=final_port_opt.sort_values(0, ascending=False)\n",
    "final_port_opt"
   ]
  },
  {
   "cell_type": "code",
   "execution_count": 619,
   "id": "87fb753c-8eb0-4a11-abf3-c552860ce7c1",
   "metadata": {
    "execution": {
     "iopub.execute_input": "2024-08-06T07:35:26.810761Z",
     "iopub.status.busy": "2024-08-06T07:35:26.810574Z",
     "iopub.status.idle": "2024-08-06T07:35:26.831313Z",
     "shell.execute_reply": "2024-08-06T07:35:26.830442Z",
     "shell.execute_reply.started": "2024-08-06T07:35:26.810742Z"
    }
   },
   "outputs": [
    {
     "data": {
      "text/plain": [
       "(0    0.965472\n",
       " dtype: float64,\n",
       " 0    1.000321\n",
       " dtype: float64)"
      ]
     },
     "execution_count": 619,
     "metadata": {},
     "output_type": "execute_result"
    }
   ],
   "source": [
    "final_port_opt[final_port_opt>10**-3].sum(), final_port_opt.sum()"
   ]
  },
  {
   "cell_type": "code",
   "execution_count": 620,
   "id": "71aa897c-38e3-4ee8-9715-8cf70eef3930",
   "metadata": {
    "execution": {
     "iopub.execute_input": "2024-08-06T07:35:26.833512Z",
     "iopub.status.busy": "2024-08-06T07:35:26.833043Z",
     "iopub.status.idle": "2024-08-06T07:35:26.856744Z",
     "shell.execute_reply": "2024-08-06T07:35:26.855817Z",
     "shell.execute_reply.started": "2024-08-06T07:35:26.833478Z"
    }
   },
   "outputs": [
    {
     "data": {
      "text/html": [
       "<div>\n",
       "<style scoped>\n",
       "    .dataframe tbody tr th:only-of-type {\n",
       "        vertical-align: middle;\n",
       "    }\n",
       "\n",
       "    .dataframe tbody tr th {\n",
       "        vertical-align: top;\n",
       "    }\n",
       "\n",
       "    .dataframe thead th {\n",
       "        text-align: right;\n",
       "    }\n",
       "</style>\n",
       "<table border=\"1\" class=\"dataframe\">\n",
       "  <thead>\n",
       "    <tr style=\"text-align: right;\">\n",
       "      <th></th>\n",
       "      <th>0</th>\n",
       "    </tr>\n",
       "    <tr>\n",
       "      <th>Symbol</th>\n",
       "      <th></th>\n",
       "    </tr>\n",
       "  </thead>\n",
       "  <tbody>\n",
       "    <tr>\n",
       "      <th>A005930</th>\n",
       "      <td>0.303467</td>\n",
       "    </tr>\n",
       "    <tr>\n",
       "      <th>A000660</th>\n",
       "      <td>0.076424</td>\n",
       "    </tr>\n",
       "    <tr>\n",
       "      <th>A005380</th>\n",
       "      <td>0.027322</td>\n",
       "    </tr>\n",
       "    <tr>\n",
       "      <th>A068270</th>\n",
       "      <td>0.024160</td>\n",
       "    </tr>\n",
       "    <tr>\n",
       "      <th>A000270</th>\n",
       "      <td>0.021747</td>\n",
       "    </tr>\n",
       "    <tr>\n",
       "      <th>...</th>\n",
       "      <td>...</td>\n",
       "    </tr>\n",
       "    <tr>\n",
       "      <th>A192820</th>\n",
       "      <td>0.001002</td>\n",
       "    </tr>\n",
       "    <tr>\n",
       "      <th>A006360</th>\n",
       "      <td>0.001001</td>\n",
       "    </tr>\n",
       "    <tr>\n",
       "      <th>A377300</th>\n",
       "      <td>0.001000</td>\n",
       "    </tr>\n",
       "    <tr>\n",
       "      <th>A018880</th>\n",
       "      <td>0.001000</td>\n",
       "    </tr>\n",
       "    <tr>\n",
       "      <th>A298050</th>\n",
       "      <td>0.001000</td>\n",
       "    </tr>\n",
       "  </tbody>\n",
       "</table>\n",
       "<p>139 rows × 1 columns</p>\n",
       "</div>"
      ],
      "text/plain": [
       "                0\n",
       "Symbol           \n",
       "A005930  0.303467\n",
       "A000660  0.076424\n",
       "A005380  0.027322\n",
       "A068270  0.024160\n",
       "A000270  0.021747\n",
       "...           ...\n",
       "A192820  0.001002\n",
       "A006360  0.001001\n",
       "A377300  0.001000\n",
       "A018880  0.001000\n",
       "A298050  0.001000\n",
       "\n",
       "[139 rows x 1 columns]"
      ]
     },
     "execution_count": 620,
     "metadata": {},
     "output_type": "execute_result"
    }
   ],
   "source": [
    "final_port_opt[final_port_opt>10**-3].dropna()"
   ]
  },
  {
   "cell_type": "code",
   "execution_count": null,
   "id": "96e568e1-e5cb-4340-81fa-08b01d925dc6",
   "metadata": {},
   "outputs": [],
   "source": []
  },
  {
   "cell_type": "code",
   "execution_count": null,
   "id": "30876f07-cbec-46eb-8245-e388b98f8aff",
   "metadata": {},
   "outputs": [],
   "source": []
  },
  {
   "cell_type": "code",
   "execution_count": null,
   "id": "655c149b-5cd4-4de0-8a98-8c3ed1c17442",
   "metadata": {},
   "outputs": [],
   "source": []
  },
  {
   "cell_type": "code",
   "execution_count": null,
   "id": "08dcba42-030a-4c0f-a48c-583acb6df35b",
   "metadata": {},
   "outputs": [],
   "source": []
  },
  {
   "cell_type": "code",
   "execution_count": null,
   "id": "864028c6-8d8f-4e5a-b873-bfaaf6f16747",
   "metadata": {},
   "outputs": [],
   "source": []
  },
  {
   "cell_type": "code",
   "execution_count": null,
   "id": "051b9b6d-312d-4e44-affc-28a3422aa7d4",
   "metadata": {},
   "outputs": [],
   "source": []
  },
  {
   "cell_type": "code",
   "execution_count": null,
   "id": "ddee33df-c056-4c82-9b6e-1b5c9d447e8e",
   "metadata": {},
   "outputs": [],
   "source": []
  },
  {
   "cell_type": "code",
   "execution_count": null,
   "id": "d323bfcc-e50a-4a80-8667-62b24a6279fd",
   "metadata": {},
   "outputs": [],
   "source": []
  },
  {
   "cell_type": "code",
   "execution_count": null,
   "id": "434e26c6-6015-4703-8d87-18be93ec8f60",
   "metadata": {},
   "outputs": [],
   "source": []
  },
  {
   "cell_type": "code",
   "execution_count": null,
   "id": "a1e01226-4ffb-49bf-9595-2243ea3361dc",
   "metadata": {},
   "outputs": [],
   "source": []
  },
  {
   "cell_type": "code",
   "execution_count": 104,
   "id": "c6634cf5-51f5-4d03-b20c-467e39516eaa",
   "metadata": {
    "execution": {
     "iopub.execute_input": "2024-07-03T23:18:55.683600Z",
     "iopub.status.busy": "2024-07-03T23:18:55.683178Z",
     "iopub.status.idle": "2024-07-03T23:18:55.691630Z",
     "shell.execute_reply": "2024-07-03T23:18:55.690680Z",
     "shell.execute_reply.started": "2024-07-03T23:18:55.683559Z"
    }
   },
   "outputs": [
    {
     "data": {
      "text/plain": [
       "DatetimeIndex(['2024-04-26', '2024-05-31', '2024-06-28'], dtype='datetime64[ns]', freq=None)"
      ]
     },
     "execution_count": 104,
     "metadata": {},
     "output_type": "execute_result"
    }
   ],
   "source": [
    "monthly_optw.index.get_level_values(0).unique()"
   ]
  },
  {
   "cell_type": "code",
   "execution_count": 105,
   "id": "5eac7360-09e8-413e-ba7a-d66e23116319",
   "metadata": {
    "execution": {
     "iopub.execute_input": "2024-07-03T23:18:55.693438Z",
     "iopub.status.busy": "2024-07-03T23:18:55.692936Z",
     "iopub.status.idle": "2024-07-03T23:18:55.784118Z",
     "shell.execute_reply": "2024-07-03T23:18:55.783323Z",
     "shell.execute_reply.started": "2024-07-03T23:18:55.693398Z"
    }
   },
   "outputs": [
    {
     "name": "stderr",
     "output_type": "stream",
     "text": [
      "/tmp/ipykernel_309735/3117912796.py:1: FutureWarning: The default fill_method='pad' in DataFrame.pct_change is deprecated and will be removed in a future version. Call ffill before calling pct_change to retain current behavior and silence this warning.\n",
      "  daily_optret=adjprc.pct_change().loc[daily_optw.index, daily_optw.columns]*daily_optw\n"
     ]
    }
   ],
   "source": [
    "daily_optret=adjprc.pct_change().loc[daily_optw.index, daily_optw.columns]*daily_optw"
   ]
  },
  {
   "cell_type": "code",
   "execution_count": 106,
   "id": "c89a1f68-6390-415a-9023-76487af667b4",
   "metadata": {
    "execution": {
     "iopub.execute_input": "2024-07-03T23:18:55.785175Z",
     "iopub.status.busy": "2024-07-03T23:18:55.784957Z",
     "iopub.status.idle": "2024-07-03T23:18:55.793584Z",
     "shell.execute_reply": "2024-07-03T23:18:55.792648Z",
     "shell.execute_reply.started": "2024-07-03T23:18:55.785154Z"
    },
    "scrolled": true
   },
   "outputs": [
    {
     "data": {
      "text/plain": [
       "Dates\n",
       "2024-04-26    0.012739\n",
       "2024-04-29    0.010157\n",
       "2024-04-30    0.001794\n",
       "2024-05-02   -0.001354\n",
       "2024-05-03   -0.001113\n",
       "2024-05-07    0.023836\n",
       "2024-05-08    0.003103\n",
       "2024-05-09   -0.014008\n",
       "2024-05-10    0.006035\n",
       "2024-05-13   -0.000808\n",
       "2024-05-14   -0.000128\n",
       "2024-05-16    0.009045\n",
       "2024-05-17   -0.011717\n",
       "2024-05-20    0.007621\n",
       "2024-05-21   -0.006265\n",
       "2024-05-22   -0.003469\n",
       "2024-05-23    0.001401\n",
       "2024-05-24   -0.014677\n",
       "2024-05-27    0.014953\n",
       "2024-05-28    0.002146\n",
       "2024-05-29   -0.017199\n",
       "2024-05-30   -0.017543\n",
       "2024-05-31   -0.000797\n",
       "2024-06-03    0.019993\n",
       "2024-06-04   -0.009059\n",
       "2024-06-05    0.009815\n",
       "2024-06-07    0.015414\n",
       "2024-06-10   -0.010281\n",
       "2024-06-11    0.001014\n",
       "2024-06-12    0.008869\n",
       "2024-06-13    0.009436\n",
       "2024-06-14    0.005409\n",
       "2024-06-17   -0.005786\n",
       "2024-06-18    0.008910\n",
       "2024-06-19    0.014910\n",
       "2024-06-20    0.005056\n",
       "2024-06-21   -0.003132\n",
       "2024-06-24   -0.008894\n",
       "2024-06-25    0.002714\n",
       "2024-06-26    0.007364\n",
       "2024-06-27   -0.000841\n",
       "2024-06-28    0.004855\n",
       "dtype: float64"
      ]
     },
     "execution_count": 106,
     "metadata": {},
     "output_type": "execute_result"
    }
   ],
   "source": [
    "daily_optret.sum(1)"
   ]
  },
  {
   "cell_type": "code",
   "execution_count": 107,
   "id": "89cd3567-a70c-4b38-98f2-fa1b28a3a9b5",
   "metadata": {
    "execution": {
     "iopub.execute_input": "2024-07-03T23:18:55.794792Z",
     "iopub.status.busy": "2024-07-03T23:18:55.794466Z",
     "iopub.status.idle": "2024-07-03T23:18:55.807693Z",
     "shell.execute_reply": "2024-07-03T23:18:55.806678Z",
     "shell.execute_reply.started": "2024-07-03T23:18:55.794768Z"
    }
   },
   "outputs": [],
   "source": [
    "daily_opt_cumret=(1+daily_optret.sum(1)).cumprod()"
   ]
  },
  {
   "cell_type": "code",
   "execution_count": 108,
   "id": "0f6d4b12-2180-46c2-89e5-2f10caf1f025",
   "metadata": {
    "execution": {
     "iopub.execute_input": "2024-07-03T23:18:55.809619Z",
     "iopub.status.busy": "2024-07-03T23:18:55.809085Z",
     "iopub.status.idle": "2024-07-03T23:18:55.822529Z",
     "shell.execute_reply": "2024-07-03T23:18:55.821699Z",
     "shell.execute_reply.started": "2024-07-03T23:18:55.809574Z"
    },
    "scrolled": true
   },
   "outputs": [
    {
     "data": {
      "text/plain": [
       "Dates\n",
       "2024-04-26    1.012739\n",
       "2024-04-29    1.023026\n",
       "2024-04-30    1.024861\n",
       "2024-05-02    1.023473\n",
       "2024-05-03    1.022334\n",
       "2024-05-07    1.046703\n",
       "2024-05-08    1.049951\n",
       "2024-05-09    1.035244\n",
       "2024-05-10    1.041492\n",
       "2024-05-13    1.040651\n",
       "2024-05-14    1.040517\n",
       "2024-05-16    1.049928\n",
       "2024-05-17    1.037626\n",
       "2024-05-20    1.045533\n",
       "2024-05-21    1.038983\n",
       "2024-05-22    1.035379\n",
       "2024-05-23    1.036829\n",
       "2024-05-24    1.021611\n",
       "2024-05-27    1.036887\n",
       "2024-05-28    1.039112\n",
       "2024-05-29    1.021240\n",
       "2024-05-30    1.003324\n",
       "2024-05-31    1.002524\n",
       "2024-06-03    1.022567\n",
       "2024-06-04    1.013304\n",
       "2024-06-05    1.023250\n",
       "2024-06-07    1.039022\n",
       "2024-06-10    1.028340\n",
       "2024-06-11    1.029383\n",
       "2024-06-12    1.038513\n",
       "2024-06-13    1.048312\n",
       "2024-06-14    1.053982\n",
       "2024-06-17    1.047884\n",
       "2024-06-18    1.057221\n",
       "2024-06-19    1.072984\n",
       "2024-06-20    1.078410\n",
       "2024-06-21    1.075032\n",
       "2024-06-24    1.065471\n",
       "2024-06-25    1.068362\n",
       "2024-06-26    1.076229\n",
       "2024-06-27    1.075324\n",
       "2024-06-28    1.080544\n",
       "dtype: float64"
      ]
     },
     "execution_count": 108,
     "metadata": {},
     "output_type": "execute_result"
    }
   ],
   "source": [
    "daily_opt_cumret"
   ]
  },
  {
   "cell_type": "code",
   "execution_count": 109,
   "id": "991e5cab-93e3-4911-a148-6460a64efae4",
   "metadata": {
    "execution": {
     "iopub.execute_input": "2024-07-03T23:18:55.823867Z",
     "iopub.status.busy": "2024-07-03T23:18:55.823488Z",
     "iopub.status.idle": "2024-07-03T23:18:55.840041Z",
     "shell.execute_reply": "2024-07-03T23:18:55.838877Z",
     "shell.execute_reply.started": "2024-07-03T23:18:55.823839Z"
    }
   },
   "outputs": [],
   "source": [
    "excess_ret=(daily_optret.sum(1)-krx_idx['코스피 200'].pct_change().loc[daily_optw.index])"
   ]
  },
  {
   "cell_type": "code",
   "execution_count": 110,
   "id": "366a15f8-6f17-4a9c-ad6d-eabbb08387bd",
   "metadata": {
    "execution": {
     "iopub.execute_input": "2024-07-03T23:18:55.841793Z",
     "iopub.status.busy": "2024-07-03T23:18:55.841308Z",
     "iopub.status.idle": "2024-07-03T23:18:55.853698Z",
     "shell.execute_reply": "2024-07-03T23:18:55.852650Z",
     "shell.execute_reply.started": "2024-07-03T23:18:55.841756Z"
    }
   },
   "outputs": [],
   "source": [
    "samsung_excess_ret=adjprc.loc[daily_optw.index, 'A005930'].pct_change()-krx_idx['코스피 200'].pct_change().loc[daily_optw.index]"
   ]
  },
  {
   "cell_type": "code",
   "execution_count": 111,
   "id": "b371ed95-e1af-4504-88cb-67162e9a133e",
   "metadata": {
    "execution": {
     "iopub.execute_input": "2024-07-03T23:18:55.855452Z",
     "iopub.status.busy": "2024-07-03T23:18:55.855032Z",
     "iopub.status.idle": "2024-07-03T23:18:56.104842Z",
     "shell.execute_reply": "2024-07-03T23:18:56.103954Z",
     "shell.execute_reply.started": "2024-07-03T23:18:55.855413Z"
    }
   },
   "outputs": [
    {
     "data": {
      "text/plain": [
       "<Axes: xlabel='Dates'>"
      ]
     },
     "execution_count": 111,
     "metadata": {},
     "output_type": "execute_result"
    },
    {
     "data": {
      "image/png": "[encoded data removed]",
      "text/plain": [
       "<Figure size 640x480 with 1 Axes>"
      ]
     },
     "metadata": {},
     "output_type": "display_data"
    }
   ],
   "source": [
    "(1+samsung_excess_ret).cumprod().plot()"
   ]
  },
  {
   "cell_type": "code",
   "execution_count": 112,
   "id": "207b44aa-9849-4b61-a148-3c2f008c67f4",
   "metadata": {
    "execution": {
     "iopub.execute_input": "2024-07-03T23:18:56.105842Z",
     "iopub.status.busy": "2024-07-03T23:18:56.105643Z",
     "iopub.status.idle": "2024-07-03T23:18:56.323093Z",
     "shell.execute_reply": "2024-07-03T23:18:56.322194Z",
     "shell.execute_reply.started": "2024-07-03T23:18:56.105824Z"
    }
   },
   "outputs": [
    {
     "data": {
      "text/plain": [
       "<Axes: xlabel='Dates'>"
      ]
     },
     "execution_count": 112,
     "metadata": {},
     "output_type": "execute_result"
    },
    {
     "data": {
      "image/png": "[encoded data removed]",
      "text/plain": [
       "<Figure size 640x480 with 1 Axes>"
      ]
     },
     "metadata": {},
     "output_type": "display_data"
    }
   ],
   "source": [
    "(1+excess_ret).cumprod().plot()"
   ]
  },
  {
   "cell_type": "code",
   "execution_count": 113,
   "id": "5ddac718-0b9f-4d15-9006-e6b181e6460d",
   "metadata": {
    "execution": {
     "iopub.execute_input": "2024-07-03T23:18:56.324083Z",
     "iopub.status.busy": "2024-07-03T23:18:56.323881Z",
     "iopub.status.idle": "2024-07-03T23:18:56.648186Z",
     "shell.execute_reply": "2024-07-03T23:18:56.647210Z",
     "shell.execute_reply.started": "2024-07-03T23:18:56.324064Z"
    }
   },
   "outputs": [
    {
     "data": {
      "text/plain": [
       "<Axes: xlabel='Dates'>"
      ]
     },
     "execution_count": 113,
     "metadata": {},
     "output_type": "execute_result"
    },
    {
     "data": {
      "image/png": "[encoded data removed]",
      "text/plain": [
       "<Figure size 640x480 with 2 Axes>"
      ]
     },
     "metadata": {},
     "output_type": "display_data"
    }
   ],
   "source": [
    "pd.concat([(1+excess_ret).cumprod(), (1+samsung_excess_ret).cumprod()], axis=1).plot(secondary_y=0)"
   ]
  },
  {
   "cell_type": "code",
   "execution_count": null,
   "id": "7164d1a2-0b76-4e9b-9af8-d71ad284d191",
   "metadata": {},
   "outputs": [],
   "source": []
  },
  {
   "cell_type": "code",
   "execution_count": null,
   "id": "6c59369d-603b-4e3f-8006-8a135c652652",
   "metadata": {},
   "outputs": [],
   "source": []
  },
  {
   "cell_type": "code",
   "execution_count": 271,
   "id": "514a6f05-c742-4e30-8299-3474e40a2a14",
   "metadata": {
    "execution": {
     "iopub.execute_input": "2024-08-05T23:17:04.625390Z",
     "iopub.status.busy": "2024-08-05T23:17:04.624798Z",
     "iopub.status.idle": "2024-08-05T23:17:04.636952Z",
     "shell.execute_reply": "2024-08-05T23:17:04.635619Z",
     "shell.execute_reply.started": "2024-08-05T23:17:04.625335Z"
    }
   },
   "outputs": [],
   "source": [
    "bm_cumret=(1+krx_idx['코스피 200'].pct_change().loc[daily_optw.index]).cumprod()"
   ]
  },
  {
   "cell_type": "code",
   "execution_count": 272,
   "id": "8dfe876c-a034-496f-9acb-61c451913c4f",
   "metadata": {
    "execution": {
     "iopub.execute_input": "2024-08-05T23:17:04.845433Z",
     "iopub.status.busy": "2024-08-05T23:17:04.844834Z",
     "iopub.status.idle": "2024-08-05T23:17:05.133030Z",
     "shell.execute_reply": "2024-08-05T23:17:05.132058Z",
     "shell.execute_reply.started": "2024-08-05T23:17:04.845387Z"
    }
   },
   "outputs": [
    {
     "data": {
      "text/plain": [
       "<Axes: xlabel='Dates'>"
      ]
     },
     "execution_count": 272,
     "metadata": {},
     "output_type": "execute_result"
    },
    {
     "name": "stderr",
     "output_type": "stream",
     "text": [
      "/opt/miniconda3/lib/python3.11/site-packages/IPython/core/events.py:82: UserWarning: Glyph 53076 (\\N{HANGUL SYLLABLE KO}) missing from current font.\n",
      "  func(*args, **kwargs)\n",
      "/opt/miniconda3/lib/python3.11/site-packages/IPython/core/events.py:82: UserWarning: Glyph 49828 (\\N{HANGUL SYLLABLE SEU}) missing from current font.\n",
      "  func(*args, **kwargs)\n",
      "/opt/miniconda3/lib/python3.11/site-packages/IPython/core/events.py:82: UserWarning: Glyph 54588 (\\N{HANGUL SYLLABLE PI}) missing from current font.\n",
      "  func(*args, **kwargs)\n",
      "/opt/miniconda3/lib/python3.11/site-packages/IPython/core/pylabtools.py:152: UserWarning: Glyph 53076 (\\N{HANGUL SYLLABLE KO}) missing from current font.\n",
      "  fig.canvas.print_figure(bytes_io, **kw)\n",
      "/opt/miniconda3/lib/python3.11/site-packages/IPython/core/pylabtools.py:152: UserWarning: Glyph 49828 (\\N{HANGUL SYLLABLE SEU}) missing from current font.\n",
      "  fig.canvas.print_figure(bytes_io, **kw)\n",
      "/opt/miniconda3/lib/python3.11/site-packages/IPython/core/pylabtools.py:152: UserWarning: Glyph 54588 (\\N{HANGUL SYLLABLE PI}) missing from current font.\n",
      "  fig.canvas.print_figure(bytes_io, **kw)\n"
     ]
    },
    {
     "data": {
      "image/png": "[encoded data removed]",
      "text/plain": [
       "<Figure size 640x480 with 1 Axes>"
      ]
     },
     "metadata": {},
     "output_type": "display_data"
    }
   ],
   "source": [
    "pd.concat([daily_opt_cumret, bm_cumret], axis=1).plot()"
   ]
  },
  {
   "cell_type": "code",
   "execution_count": null,
   "id": "50f98c04-7246-4287-bc1b-aaf1673f57a8",
   "metadata": {},
   "outputs": [],
   "source": []
  },
  {
   "cell_type": "code",
   "execution_count": null,
   "id": "98d8a28c-f396-4eea-9db4-65a077c898fc",
   "metadata": {
    "execution": {
     "iopub.status.busy": "2024-07-03T23:18:56.664673Z",
     "iopub.status.idle": "2024-07-03T23:18:56.665266Z",
     "shell.execute_reply": "2024-07-03T23:18:56.665075Z",
     "shell.execute_reply.started": "2024-07-03T23:18:56.665056Z"
    }
   },
   "outputs": [],
   "source": [
    "# 70\n",
    "idx_ret, idx_ret_cost, idx_cum_ret, idx_cum_retcost = perf.return_index(adjprc.loc[daily_optw.index, \n",
    "                                                                        daily_optw.columns], \n",
    "                                                                        daily_optw,\n",
    "                                                                        cost=0.002)\n",
    "pd.concat([idx_cum_retcost, (1+krx_idx['코스피 200'].pct_change().loc[daily_optw.index]).cumprod()], axis=1).plot()"
   ]
  },
  {
   "cell_type": "code",
   "execution_count": null,
   "id": "f7467b21-0ced-406b-aff4-4e6a54258730",
   "metadata": {},
   "outputs": [],
   "source": []
  },
  {
   "cell_type": "code",
   "execution_count": null,
   "id": "647053e5-6ba2-4e83-9f50-75dda3919649",
   "metadata": {},
   "outputs": [],
   "source": []
  },
  {
   "cell_type": "code",
   "execution_count": null,
   "id": "98bb2daf-bad6-4481-999e-a9fca46d918c",
   "metadata": {},
   "outputs": [],
   "source": []
  },
  {
   "cell_type": "code",
   "execution_count": null,
   "id": "1752cddc-2c06-495e-9eb6-6abcdcd0dc9c",
   "metadata": {
    "execution": {
     "iopub.status.busy": "2024-07-03T23:18:56.666339Z",
     "iopub.status.idle": "2024-07-03T23:18:56.666730Z",
     "shell.execute_reply": "2024-07-03T23:18:56.666552Z",
     "shell.execute_reply.started": "2024-07-03T23:18:56.666534Z"
    }
   },
   "outputs": [],
   "source": [
    "a"
   ]
  },
  {
   "cell_type": "code",
   "execution_count": null,
   "id": "dedfeffe-8806-4acc-a4e7-87f6e98d6aa5",
   "metadata": {
    "execution": {
     "iopub.status.busy": "2024-07-03T23:18:56.667877Z",
     "iopub.status.idle": "2024-07-03T23:18:56.668513Z",
     "shell.execute_reply": "2024-07-03T23:18:56.668326Z",
     "shell.execute_reply.started": "2024-07-03T23:18:56.668307Z"
    }
   },
   "outputs": [],
   "source": [
    "daily_optw.iloc[-1].sort_values(ascending=False).loc[['A005930', 'A000660']]"
   ]
  },
  {
   "cell_type": "code",
   "execution_count": null,
   "id": "b535be9c-dad4-4d0a-b8d7-4bcde63e3a64",
   "metadata": {
    "execution": {
     "iopub.status.busy": "2024-07-03T23:18:56.672069Z",
     "iopub.status.idle": "2024-07-03T23:18:56.672512Z",
     "shell.execute_reply": "2024-07-03T23:18:56.672306Z",
     "shell.execute_reply.started": "2024-07-03T23:18:56.672286Z"
    }
   },
   "outputs": [],
   "source": [
    "adjprc.loc['2023-12-25':'2024-01-02'].index"
   ]
  },
  {
   "cell_type": "code",
   "execution_count": null,
   "id": "5cb34fb7-635d-4a50-b3f9-5dd3c9305b29",
   "metadata": {
    "execution": {
     "iopub.status.busy": "2024-07-03T23:18:56.673923Z",
     "iopub.status.idle": "2024-07-03T23:18:56.674554Z",
     "shell.execute_reply": "2024-07-03T23:18:56.674340Z",
     "shell.execute_reply.started": "2024-07-03T23:18:56.674318Z"
    }
   },
   "outputs": [],
   "source": [
    "recent_date='2023-12-28'\n",
    "recentw=pd.DataFrame(None, index=adjprc.loc[recent_date:].index, columns=daily_optw.columns)"
   ]
  },
  {
   "cell_type": "code",
   "execution_count": null,
   "id": "04b8175d-cc9a-4707-a9fb-873658bbde8c",
   "metadata": {
    "execution": {
     "iopub.status.busy": "2024-07-03T23:18:56.676195Z",
     "iopub.status.idle": "2024-07-03T23:18:56.676828Z",
     "shell.execute_reply": "2024-07-03T23:18:56.676615Z",
     "shell.execute_reply.started": "2024-07-03T23:18:56.676593Z"
    }
   },
   "outputs": [],
   "source": [
    "recentw.loc[recent_date]=daily_optw.iloc[-1]"
   ]
  },
  {
   "cell_type": "code",
   "execution_count": null,
   "id": "83e2b515-9c09-4ecc-b44c-266ae41eea54",
   "metadata": {
    "execution": {
     "iopub.status.busy": "2024-07-03T23:18:56.678052Z",
     "iopub.status.idle": "2024-07-03T23:18:56.678587Z",
     "shell.execute_reply": "2024-07-03T23:18:56.678381Z",
     "shell.execute_reply.started": "2024-07-03T23:18:56.678359Z"
    }
   },
   "outputs": [],
   "source": [
    "recentw=recentw.ffill()"
   ]
  },
  {
   "cell_type": "code",
   "execution_count": null,
   "id": "0ee219f7-404d-4443-b7ce-0597b6119301",
   "metadata": {
    "execution": {
     "iopub.status.busy": "2024-07-03T23:18:56.680034Z",
     "iopub.status.idle": "2024-07-03T23:18:56.681029Z",
     "shell.execute_reply": "2024-07-03T23:18:56.680752Z",
     "shell.execute_reply.started": "2024-07-03T23:18:56.680726Z"
    }
   },
   "outputs": [],
   "source": [
    "recent_ret=recentw*adjprc.pct_change().loc[recentw.index, recentw.columns]"
   ]
  },
  {
   "cell_type": "code",
   "execution_count": null,
   "id": "efb8ec2a-7e12-4634-859e-b83d807b8d91",
   "metadata": {
    "execution": {
     "iopub.status.busy": "2024-07-03T23:18:56.682305Z",
     "iopub.status.idle": "2024-07-03T23:18:56.683035Z",
     "shell.execute_reply": "2024-07-03T23:18:56.682778Z",
     "shell.execute_reply.started": "2024-07-03T23:18:56.682751Z"
    }
   },
   "outputs": [],
   "source": [
    "(1+pd.concat([recent_ret.sum(1), krx_idx['코스피 200'].pct_change().loc[recent_date:]], axis=1)).cumprod().plot()"
   ]
  },
  {
   "cell_type": "code",
   "execution_count": null,
   "id": "3f0cf2d7-d2eb-417b-b04a-4b843a380cc1",
   "metadata": {
    "execution": {
     "iopub.status.busy": "2024-07-03T23:18:56.684688Z",
     "iopub.status.idle": "2024-07-03T23:18:56.685617Z",
     "shell.execute_reply": "2024-07-03T23:18:56.685354Z",
     "shell.execute_reply.started": "2024-07-03T23:18:56.685326Z"
    }
   },
   "outputs": [],
   "source": [
    "optw_df.sort_values('opt_w')"
   ]
  },
  {
   "cell_type": "code",
   "execution_count": null,
   "id": "e4f0ad17-a63f-414b-b1d6-998b437ba5a9",
   "metadata": {
    "execution": {
     "iopub.status.busy": "2024-07-03T23:18:56.686898Z",
     "iopub.status.idle": "2024-07-03T23:18:56.687435Z",
     "shell.execute_reply": "2024-07-03T23:18:56.687185Z",
     "shell.execute_reply.started": "2024-07-03T23:18:56.687161Z"
    }
   },
   "outputs": [],
   "source": [
    "(optw_df['opt_w']-temp_bm_weight).sort_values()"
   ]
  },
  {
   "cell_type": "code",
   "execution_count": null,
   "id": "79347af7-e7a2-4aff-9e3f-0623cb3a69c9",
   "metadata": {
    "execution": {
     "iopub.status.busy": "2024-07-03T23:18:56.688777Z",
     "iopub.status.idle": "2024-07-03T23:18:56.689325Z",
     "shell.execute_reply": "2024-07-03T23:18:56.689077Z",
     "shell.execute_reply.started": "2024-07-03T23:18:56.689052Z"
    }
   },
   "outputs": [],
   "source": [
    "temp_bm_weight.sort_values()"
   ]
  },
  {
   "cell_type": "code",
   "execution_count": null,
   "id": "257b5d76-dc1b-4853-8cc7-4cc5b2059510",
   "metadata": {},
   "outputs": [],
   "source": []
  },
  {
   "cell_type": "code",
   "execution_count": null,
   "id": "685d74af-2026-471b-8276-25e7d9c93bef",
   "metadata": {},
   "outputs": [],
   "source": []
  },
  {
   "cell_type": "markdown",
   "id": "1f0a379a-8a0f-4c66-b8cc-cc0fe5e264ba",
   "metadata": {},
   "source": [
    "# sector neutral\n",
    "\n",
    "\n",
    "### 1. (use selection only) use top score stocks only then allocate weight proportion to the actual market cap\n",
    "####  if no stock is selected in a sector then follow BM \n",
    "\n",
    "### 2. (use selection and score) set boundary of tilt amount and do optimization using score\n",
    "\n",
    "### 3. (use BM and score) use entire index and tilting using optimization"
   ]
  },
  {
   "cell_type": "code",
   "execution_count": null,
   "id": "33344746-b6a9-4617-afc8-8645a4b91162",
   "metadata": {
    "execution": {
     "iopub.status.busy": "2024-07-03T23:18:56.691301Z",
     "iopub.status.idle": "2024-07-03T23:18:56.691965Z",
     "shell.execute_reply": "2024-07-03T23:18:56.691708Z",
     "shell.execute_reply.started": "2024-07-03T23:18:56.691682Z"
    },
    "tags": []
   },
   "outputs": [],
   "source": [
    "data_SSC_nodup.columns"
   ]
  },
  {
   "cell_type": "code",
   "execution_count": null,
   "id": "1a4a9e0b-b949-4536-ae7f-be588769009c",
   "metadata": {
    "execution": {
     "iopub.status.busy": "2024-07-03T23:18:56.693490Z",
     "iopub.status.idle": "2024-07-03T23:18:56.694213Z",
     "shell.execute_reply": "2024-07-03T23:18:56.693954Z",
     "shell.execute_reply.started": "2024-07-03T23:18:56.693929Z"
    },
    "tags": []
   },
   "outputs": [],
   "source": [
    "data_COM_nodup.columns"
   ]
  },
  {
   "cell_type": "code",
   "execution_count": null,
   "id": "c53c842e-d110-4f7e-80f0-1d8c82d31d14",
   "metadata": {
    "execution": {
     "iopub.status.busy": "2024-07-03T23:18:56.695752Z",
     "iopub.status.idle": "2024-07-03T23:18:56.696379Z",
     "shell.execute_reply": "2024-07-03T23:18:56.696130Z",
     "shell.execute_reply.started": "2024-07-03T23:18:56.696105Z"
    },
    "tags": []
   },
   "outputs": [],
   "source": [
    "temp_com=data_COM_nodup[['KSECapSize', 'FG_Sector_Idx', 'KOSPI200YN']].copy()"
   ]
  },
  {
   "cell_type": "code",
   "execution_count": null,
   "id": "2a356f98-a6f3-4c8e-807c-34b3325a9ae9",
   "metadata": {
    "execution": {
     "iopub.status.busy": "2024-07-03T23:18:56.697827Z",
     "iopub.status.idle": "2024-07-03T23:18:56.698775Z",
     "shell.execute_reply": "2024-07-03T23:18:56.698520Z",
     "shell.execute_reply.started": "2024-07-03T23:18:56.698495Z"
    },
    "tags": []
   },
   "outputs": [],
   "source": [
    "temp_ssc=data_SSC_nodup[['MktCap']].copy()"
   ]
  },
  {
   "cell_type": "code",
   "execution_count": null,
   "id": "112e3722-26b7-4147-97b8-cf0aebbfa6a9",
   "metadata": {
    "execution": {
     "iopub.status.busy": "2024-07-03T23:18:56.700150Z",
     "iopub.status.idle": "2024-07-03T23:18:56.700774Z",
     "shell.execute_reply": "2024-07-03T23:18:56.700522Z",
     "shell.execute_reply.started": "2024-07-03T23:18:56.700497Z"
    },
    "tags": []
   },
   "outputs": [],
   "source": [
    "bm_mktcap=pd.concat([temp_com, temp_ssc], axis=1)"
   ]
  },
  {
   "cell_type": "code",
   "execution_count": null,
   "id": "9e677bec-d5c0-45a4-b84a-f5c140eac551",
   "metadata": {
    "execution": {
     "iopub.status.busy": "2024-07-03T23:18:56.702460Z",
     "iopub.status.idle": "2024-07-03T23:18:56.703181Z",
     "shell.execute_reply": "2024-07-03T23:18:56.702925Z",
     "shell.execute_reply.started": "2024-07-03T23:18:56.702899Z"
    }
   },
   "outputs": [],
   "source": [
    "bm_mktcap"
   ]
  },
  {
   "cell_type": "code",
   "execution_count": null,
   "id": "9ac25ebd-d146-4285-9332-a0b02e40fef4",
   "metadata": {
    "execution": {
     "iopub.status.busy": "2024-07-03T23:18:56.704590Z",
     "iopub.status.idle": "2024-07-03T23:18:56.705334Z",
     "shell.execute_reply": "2024-07-03T23:18:56.705076Z",
     "shell.execute_reply.started": "2024-07-03T23:18:56.705051Z"
    }
   },
   "outputs": [],
   "source": [
    "bm_mktcap=bm_mktcap[bm_mktcap['KOSPI200YN']=='Y']"
   ]
  },
  {
   "cell_type": "code",
   "execution_count": null,
   "id": "a5e75a70-b50d-4304-8fe6-2d3427cad3bf",
   "metadata": {
    "execution": {
     "iopub.status.busy": "2024-07-03T23:18:56.707057Z",
     "iopub.status.idle": "2024-07-03T23:18:56.707590Z",
     "shell.execute_reply": "2024-07-03T23:18:56.707342Z",
     "shell.execute_reply.started": "2024-07-03T23:18:56.707319Z"
    }
   },
   "outputs": [],
   "source": [
    "bm_mktcap['MktCap']=bm_mktcap['MktCap'].astype(float)\n"
   ]
  },
  {
   "cell_type": "code",
   "execution_count": null,
   "id": "156b619f-85df-4f8d-8eb9-0e8802164f05",
   "metadata": {
    "execution": {
     "iopub.status.busy": "2024-07-03T23:18:56.708996Z",
     "iopub.status.idle": "2024-07-03T23:18:56.709704Z",
     "shell.execute_reply": "2024-07-03T23:18:56.709452Z",
     "shell.execute_reply.started": "2024-07-03T23:18:56.709427Z"
    }
   },
   "outputs": [],
   "source": [
    "bm_mktcap"
   ]
  },
  {
   "cell_type": "code",
   "execution_count": null,
   "id": "31327c9c-2174-42ed-ab92-8cdeb5e1d4e7",
   "metadata": {
    "execution": {
     "iopub.status.busy": "2024-07-03T23:18:56.711071Z",
     "iopub.status.idle": "2024-07-03T23:18:56.711700Z",
     "shell.execute_reply": "2024-07-03T23:18:56.711449Z",
     "shell.execute_reply.started": "2024-07-03T23:18:56.711425Z"
    }
   },
   "outputs": [],
   "source": [
    "bm_sector_cap=bm_mktcap.groupby(['Dates', 'FG_Sector_Idx']).sum('MktCap')"
   ]
  },
  {
   "cell_type": "code",
   "execution_count": null,
   "id": "1330d1ce-0a87-42ba-b33c-f1382afcd5d7",
   "metadata": {
    "execution": {
     "iopub.status.busy": "2024-07-03T23:18:56.713174Z",
     "iopub.status.idle": "2024-07-03T23:18:56.714178Z",
     "shell.execute_reply": "2024-07-03T23:18:56.713923Z",
     "shell.execute_reply.started": "2024-07-03T23:18:56.713897Z"
    },
    "tags": []
   },
   "outputs": [],
   "source": [
    "# bm_sector_cap=bm_mktcap.groupby(['Dates', 'FG_Sector_Idx']).sum()"
   ]
  },
  {
   "cell_type": "code",
   "execution_count": null,
   "id": "d28d08f1-0f6f-4f7f-9098-294cb24bc143",
   "metadata": {},
   "outputs": [],
   "source": []
  },
  {
   "cell_type": "code",
   "execution_count": null,
   "id": "d8ec8b4e-c405-4bee-a65b-655ecb3991ee",
   "metadata": {
    "execution": {
     "iopub.status.busy": "2024-07-03T23:18:56.715838Z",
     "iopub.status.idle": "2024-07-03T23:18:56.716593Z",
     "shell.execute_reply": "2024-07-03T23:18:56.716323Z",
     "shell.execute_reply.started": "2024-07-03T23:18:56.716298Z"
    },
    "tags": []
   },
   "outputs": [],
   "source": [
    "\n",
    "bm_sector_weight=bm_sector_cap /bm_mktcap.groupby(['Dates']).sum('MKtCap')"
   ]
  },
  {
   "cell_type": "code",
   "execution_count": null,
   "id": "1bcc310a-3911-4c65-8907-e4e15cbc99c8",
   "metadata": {
    "execution": {
     "iopub.status.busy": "2024-07-03T23:18:56.718117Z",
     "iopub.status.idle": "2024-07-03T23:18:56.718653Z",
     "shell.execute_reply": "2024-07-03T23:18:56.718405Z",
     "shell.execute_reply.started": "2024-07-03T23:18:56.718381Z"
    },
    "tags": []
   },
   "outputs": [],
   "source": [
    "# temp_mktcap.groupby(['Dates', 'FG_Sector_Idx'])['MktCap'].transform('sum')/daily_sector_weight.groupby(['Dates']).sum()"
   ]
  },
  {
   "cell_type": "code",
   "execution_count": null,
   "id": "c318d0a2-95d7-436f-a3cd-3343e528a5e3",
   "metadata": {
    "execution": {
     "iopub.status.busy": "2024-07-03T23:18:56.720391Z",
     "iopub.status.idle": "2024-07-03T23:18:56.721122Z",
     "shell.execute_reply": "2024-07-03T23:18:56.720853Z",
     "shell.execute_reply.started": "2024-07-03T23:18:56.720829Z"
    },
    "tags": []
   },
   "outputs": [],
   "source": [
    "bm_sector=bm_mktcap['FG_Sector_Idx'].copy()\n",
    "bm_sector=bm_sector.reset_index()\n",
    "bm_sector.set_index(['Dates', 'FG_Sector_Idx'], inplace=True)\n",
    "bm_sector=pd.concat([bm_sector, bm_sector_weight], axis=1)\n",
    "bm_sector=bm_sector.reset_index()\n",
    "bm_sector.set_index(['Dates', 'Symbol'], inplace=True)"
   ]
  },
  {
   "cell_type": "code",
   "execution_count": null,
   "id": "b8f25991-a259-443f-ab81-d841bebf47d4",
   "metadata": {},
   "outputs": [],
   "source": []
  },
  {
   "cell_type": "code",
   "execution_count": null,
   "id": "d6e18ad4-9fb4-408c-bce1-7dec35d5544d",
   "metadata": {
    "execution": {
     "iopub.status.busy": "2024-07-03T23:18:56.722610Z",
     "iopub.status.idle": "2024-07-03T23:18:56.723228Z",
     "shell.execute_reply": "2024-07-03T23:18:56.722980Z",
     "shell.execute_reply.started": "2024-07-03T23:18:56.722955Z"
    },
    "tags": []
   },
   "outputs": [],
   "source": [
    "# daily_sector_weight=temp_mktcap.groupby(['Dates', 'FG_Sector_Idx']).sum()/temp_mktcap.groupby(['Dates']).sum()"
   ]
  },
  {
   "cell_type": "code",
   "execution_count": null,
   "id": "09ff44ef-64fa-441b-a562-fa3a37cc1353",
   "metadata": {
    "execution": {
     "iopub.status.busy": "2024-07-03T23:18:56.724986Z",
     "iopub.status.idle": "2024-07-03T23:18:56.725704Z",
     "shell.execute_reply": "2024-07-03T23:18:56.725450Z",
     "shell.execute_reply.started": "2024-07-03T23:18:56.725425Z"
    },
    "tags": []
   },
   "outputs": [],
   "source": [
    "# daily_sector_weight=bm_mktcap.groupby(['Dates', 'FG_Sector_Idx'])['MktCap'].transform('sum')\n",
    "# daily_sector_weight=daily_sector_weight/daily_sector_weight.groupby(['Dates']).sum()"
   ]
  },
  {
   "cell_type": "markdown",
   "id": "63ae180b-b77c-44e6-9145-d0ebb664dc7e",
   "metadata": {},
   "source": [
    "## stock selection from k200"
   ]
  },
  {
   "cell_type": "code",
   "execution_count": null,
   "id": "4f6fe14f-6d62-41ee-bf3b-fee6ea36f04e",
   "metadata": {
    "execution": {
     "iopub.status.busy": "2024-07-03T23:18:56.727147Z",
     "iopub.status.idle": "2024-07-03T23:18:56.727976Z",
     "shell.execute_reply": "2024-07-03T23:18:56.727724Z",
     "shell.execute_reply.started": "2024-07-03T23:18:56.727698Z"
    },
    "tags": []
   },
   "outputs": [],
   "source": [
    "num_selection=75\n",
    "top_prob_ls = []\n",
    "\n",
    "for i in range(len(raw_prob.index)):\n",
    "    scaler = MinMaxScaler()\n",
    "    top_prob=raw_prob.iloc[i].dropna().sort_values(ascending=False)[:num_selection]\n",
    "    tempw = scaler.fit_transform(top_prob.values.reshape(-1, 1))\n",
    "    temp_w = pd.DataFrame(tempw, index = top_prob.index)\n",
    "    top_prob_ls.append(temp_w)\n",
    "    \n",
    "top_prob_df=pd.concat(top_prob_ls, axis=1)\n",
    "top_prob_df=top_prob_df.T\n",
    "top_prob_df.index=raw_prob.index\n",
    "\n",
    "top_prob_df=top_prob_df.stack().to_frame()\n",
    "top_prob_df.index.set_names(['Dates', 'Symbol'], inplace=True)\n",
    "\n",
    "bm_sector.columns=[bm_sector.columns[0], 'MktCap_ratio']\n",
    "\n",
    "cap_prob_df=pd.concat([bm_mktcap, bm_sector[bm_sector.columns.difference(bm_mktcap.columns)]], axis=1)\n",
    "cap_prob_df=pd.concat([cap_prob_df, k200_df['idx_weight'], top_prob_df], axis=1)\n",
    "# cap_prob_df=pd.concat([cap_prob_df, top_prob_df], axis=1)"
   ]
  },
  {
   "cell_type": "code",
   "execution_count": null,
   "id": "a1939562-8d71-4696-b037-c26b558ab6fd",
   "metadata": {
    "execution": {
     "iopub.status.busy": "2024-07-03T23:18:56.729627Z",
     "iopub.status.idle": "2024-07-03T23:18:56.730199Z",
     "shell.execute_reply": "2024-07-03T23:18:56.729948Z",
     "shell.execute_reply.started": "2024-07-03T23:18:56.729923Z"
    }
   },
   "outputs": [],
   "source": [
    "cap_prob_df.dropna()"
   ]
  },
  {
   "cell_type": "code",
   "execution_count": null,
   "id": "eddefb89-724e-4eac-a782-8e74d7cabecf",
   "metadata": {},
   "outputs": [],
   "source": []
  },
  {
   "cell_type": "markdown",
   "id": "a3c9c7ed-bf81-41ad-987e-8db9e0633cbc",
   "metadata": {},
   "source": [
    "## stock selection from k100"
   ]
  },
  {
   "cell_type": "code",
   "execution_count": null,
   "id": "38380464-0731-4c96-b2b2-85c8e5b594ed",
   "metadata": {
    "execution": {
     "iopub.status.busy": "2024-07-03T23:18:56.731558Z",
     "iopub.status.idle": "2024-07-03T23:18:56.732285Z",
     "shell.execute_reply": "2024-07-03T23:18:56.732027Z",
     "shell.execute_reply.started": "2024-07-03T23:18:56.732003Z"
    },
    "tags": []
   },
   "outputs": [],
   "source": [
    "top_prob_k100_ls = []\n",
    "\n",
    "k100prob=raw_prob * k100comp.loc[raw_prob.index]\n",
    "\n",
    "num_selection_k100=50\n",
    "for i in range(len(raw_prob.index)):\n",
    "    scaler = MinMaxScaler()\n",
    "    top_prob_k100=k100prob.iloc[i].dropna().sort_values(ascending=False)[:num_selection_k100]\n",
    "    tempw_k100 = scaler.fit_transform(top_prob_k100.values.reshape(-1, 1))\n",
    "    tempw_k100 = pd.DataFrame(tempw_k100, index = top_prob_k100.index)\n",
    "    top_prob_k100_ls.append(tempw_k100)\n",
    "    \n",
    "top_prob_k100_df=pd.concat(top_prob_k100_ls, axis=1)\n",
    "top_prob_k100_df=top_prob_k100_df.T\n",
    "top_prob_k100_df.index=raw_prob.index\n",
    "\n",
    "top_prob_k100_df=top_prob_k100_df.stack().to_frame()\n",
    "top_prob_k100_df.index.set_names(['Dates', 'Symbol'], inplace=True)\n",
    "\n",
    "bm_sector.columns=[bm_sector.columns[0], 'MktCap_ratio']\n",
    "\n",
    "cap_prob_k100_df=pd.concat([bm_mktcap, bm_sector[bm_sector.columns.difference(bm_mktcap.columns)]], axis=1)\n",
    "cap_prob_k100_df=pd.concat([cap_prob_df, k200_df['idx_weight'], top_prob_k100_df], axis=1)\n",
    "# cap_prob_df=pd.concat([cap_prob_df, top_prob_df], axis=1)"
   ]
  },
  {
   "cell_type": "code",
   "execution_count": null,
   "id": "0026628f-d6e6-4b21-8a04-7d1c80687592",
   "metadata": {
    "tags": []
   },
   "outputs": [],
   "source": []
  },
  {
   "cell_type": "code",
   "execution_count": null,
   "id": "088c06ae-e6ba-4af1-b7af-ed4bdd487225",
   "metadata": {},
   "outputs": [],
   "source": []
  },
  {
   "cell_type": "markdown",
   "id": "439ce13a-f693-48ec-a055-2be332708fdb",
   "metadata": {},
   "source": [
    "## rebal dates"
   ]
  },
  {
   "cell_type": "code",
   "execution_count": null,
   "id": "bf6983a3-bd5d-4bf9-bf33-89406f5bf550",
   "metadata": {
    "execution": {
     "iopub.status.busy": "2024-07-03T23:18:56.733958Z",
     "iopub.status.idle": "2024-07-03T23:18:56.734735Z",
     "shell.execute_reply": "2024-07-03T23:18:56.734480Z",
     "shell.execute_reply.started": "2024-07-03T23:18:56.734455Z"
    },
    "scrolled": true,
    "tags": []
   },
   "outputs": [],
   "source": [
    "sector_dates=cap_prob_df.dropna().index.get_level_values(0).unique()\n",
    "sector_dates=pd.to_datetime(sector_dates)\n",
    "sector_dates=sector_dates.sort_values()\n",
    "\n",
    "rebal_dates = proc.find_entire_rebalancing_dates(sector_dates)\n",
    "rebal_dates"
   ]
  },
  {
   "cell_type": "code",
   "execution_count": null,
   "id": "e787a2df-b7a4-4079-a593-a480b4cefb70",
   "metadata": {
    "execution": {
     "iopub.status.busy": "2024-07-03T23:18:56.736296Z",
     "iopub.status.idle": "2024-07-03T23:18:56.737061Z",
     "shell.execute_reply": "2024-07-03T23:18:56.736775Z",
     "shell.execute_reply.started": "2024-07-03T23:18:56.736749Z"
    },
    "tags": []
   },
   "outputs": [],
   "source": [
    "sector_ls=list(bm_sector['FG_Sector_Idx'].unique())\n",
    "sector='IT'\n",
    "given_samsung_weight=.3\n",
    "sam_w=k200_df[k200_df.index.get_level_values(1)=='A005930']"
   ]
  },
  {
   "cell_type": "markdown",
   "id": "5f12b8cf-1154-47a0-bee7-c1f3e830f8e2",
   "metadata": {},
   "source": [
    "## sector neutral port with samsung neutral"
   ]
  },
  {
   "cell_type": "code",
   "execution_count": null,
   "id": "7b66798f-ad38-4434-81e5-eed730a438fc",
   "metadata": {
    "execution": {
     "iopub.status.busy": "2024-07-03T23:18:56.738384Z",
     "iopub.status.idle": "2024-07-03T23:18:56.738905Z",
     "shell.execute_reply": "2024-07-03T23:18:56.738665Z",
     "shell.execute_reply.started": "2024-07-03T23:18:56.738641Z"
    },
    "scrolled": true,
    "tags": []
   },
   "outputs": [],
   "source": [
    "weight_ls=[]\n",
    "for date in rebal_dates:\n",
    "    print(date)\n",
    "    temp_sector_cap_prob=cap_prob_df[cap_prob_df.index.get_level_values(0)==date]\n",
    "    \n",
    "    sector_weight_ls=[]\n",
    "    for sector in sector_ls:\n",
    "        \n",
    "        # when there is no stock in certain sector then keep all stocks in that missing sector\n",
    "        if sector not in temp_sector_cap_prob.dropna()['FG_Sector_Idx'].unique():\n",
    "            print(sector)\n",
    "            temp_sector_neutral=temp_sector_cap_prob[temp_sector_cap_prob['FG_Sector_Idx']==sector]['idx_weight']/100\n",
    "            sector_weight_ls.append(temp_sector_neutral)\n",
    "            \n",
    "        else:\n",
    "            temp_sector_tilt=temp_sector_cap_prob[temp_sector_cap_prob['FG_Sector_Idx']==sector].dropna()\n",
    "            # temp_sector_neutral['sector_ew']=1/len(temp_sector_neutral)\n",
    "\n",
    "            if sector=='IT':\n",
    "                it_leftover=temp_sector_tilt['MktCap_ratio'][0]-sam_w.loc[date, 'idx_weight'].values/100\n",
    "                it_mktcap=temp_sector_tilt['MktCap'].drop(index='A005930', level='Symbol')\n",
    "                it_mktcap_ratio=it_mktcap/it_mktcap.sum()*it_leftover\n",
    "                it_mktcap_ratio.loc[(date, 'A005930')]=given_samsung_weight\n",
    "                sector_weight_ls.append(it_mktcap_ratio)\n",
    "            else:\n",
    "                temp_mktcap_ratio=temp_sector_tilt['MktCap']/temp_sector_tilt['MktCap'].sum()*temp_sector_tilt['MktCap_ratio'][0]\n",
    "                sector_weight_ls.append(temp_mktcap_ratio)\n",
    "\n",
    "    weight_df=pd.concat(sector_weight_ls, axis=0)\n",
    "    weight_ls.append(weight_df)"
   ]
  },
  {
   "cell_type": "code",
   "execution_count": null,
   "id": "0ff1fcb4-6f8e-47df-b29d-03fb232250b1",
   "metadata": {},
   "outputs": [],
   "source": []
  },
  {
   "cell_type": "code",
   "execution_count": null,
   "id": "0bb174b1-bcd4-48b2-bfd6-059be83c7340",
   "metadata": {
    "execution": {
     "iopub.status.busy": "2024-07-03T23:18:56.740334Z",
     "iopub.status.idle": "2024-07-03T23:18:56.740878Z",
     "shell.execute_reply": "2024-07-03T23:18:56.740611Z",
     "shell.execute_reply.started": "2024-07-03T23:18:56.740588Z"
    },
    "tags": []
   },
   "outputs": [],
   "source": [
    "temp_sector_cap_prob[temp_sector_cap_prob['FG_Sector_Idx']==sector]"
   ]
  },
  {
   "cell_type": "markdown",
   "id": "48095495-3c3a-4e1e-bbb2-78334bef95c3",
   "metadata": {
    "execution": {
     "iopub.execute_input": "2024-01-30T00:29:16.721086Z",
     "iopub.status.busy": "2024-01-30T00:29:16.720442Z",
     "iopub.status.idle": "2024-01-30T00:29:16.725800Z",
     "shell.execute_reply": "2024-01-30T00:29:16.724489Z",
     "shell.execute_reply.started": "2024-01-30T00:29:16.721028Z"
    }
   },
   "source": [
    "## smoothing weights"
   ]
  },
  {
   "cell_type": "code",
   "execution_count": null,
   "id": "05a4019b-9c48-4cb8-bde3-2d088857fb72",
   "metadata": {
    "execution": {
     "iopub.status.busy": "2024-07-03T23:18:56.742697Z",
     "iopub.status.idle": "2024-07-03T23:18:56.743223Z",
     "shell.execute_reply": "2024-07-03T23:18:56.742976Z",
     "shell.execute_reply.started": "2024-07-03T23:18:56.742952Z"
    },
    "tags": []
   },
   "outputs": [],
   "source": [
    "sector_neutral_weight=pd.concat(weight_ls).unstack().dropna(how='all', axis=0)\n",
    "sector_neutral_weight=sector_neutral_weight.div(sector_neutral_weight.sum(1), axis=0)\n",
    "\n",
    "temp_adj=adjprc.loc[sector_neutral_weight.index[0]:sector_neutral_weight.index[-1], sector_neutral_weight.columns].copy()\n",
    "daily_w=temp_adj.copy()\n",
    "daily_w.loc[sector_neutral_weight.index]=0\n",
    "daily_w[daily_w!=0]=None\n",
    "daily_w.loc[sector_neutral_weight.index]=sector_neutral_weight.fillna(0)\n",
    "daily_w=daily_w.fillna(method='ffill')"
   ]
  },
  {
   "cell_type": "code",
   "execution_count": null,
   "id": "42297db7-f0e6-4dcc-b5bc-11e536248126",
   "metadata": {
    "execution": {
     "iopub.status.busy": "2024-07-03T23:18:56.744600Z",
     "iopub.status.idle": "2024-07-03T23:18:56.745324Z",
     "shell.execute_reply": "2024-07-03T23:18:56.745067Z",
     "shell.execute_reply.started": "2024-07-03T23:18:56.745041Z"
    },
    "tags": []
   },
   "outputs": [],
   "source": [
    "daily_w.sum(1).plot()"
   ]
  },
  {
   "cell_type": "code",
   "execution_count": null,
   "id": "b93e8e35-3b92-4a6d-9979-4510e570e9c1",
   "metadata": {
    "execution": {
     "iopub.status.busy": "2024-07-03T23:18:56.746530Z",
     "iopub.status.idle": "2024-07-03T23:18:56.747104Z",
     "shell.execute_reply": "2024-07-03T23:18:56.746857Z",
     "shell.execute_reply.started": "2024-07-03T23:18:56.746832Z"
    },
    "tags": []
   },
   "outputs": [],
   "source": [
    "idx_ret, idx_ret_cost, idx_cum_ret, idx_cum_retcost = perf.return_index(temp_adj, \n",
    "                                                                        daily_w.shift(1),\n",
    "                                                                        cost=0.003)"
   ]
  },
  {
   "cell_type": "code",
   "execution_count": null,
   "id": "3e762a91-2af5-49e2-9889-63bec8dc263a",
   "metadata": {
    "execution": {
     "iopub.status.busy": "2024-07-03T23:18:56.748984Z",
     "iopub.status.idle": "2024-07-03T23:18:56.749514Z",
     "shell.execute_reply": "2024-07-03T23:18:56.749266Z",
     "shell.execute_reply.started": "2024-07-03T23:18:56.749241Z"
    },
    "tags": []
   },
   "outputs": [],
   "source": [
    "pd.concat([idx_cum_retcost, (1+krx_idx['코스피 200'].pct_change().loc[daily_w.index]).cumprod()], axis=1).plot()"
   ]
  },
  {
   "cell_type": "code",
   "execution_count": null,
   "id": "3d594799-588b-4df6-9fb2-6af6fac4dde2",
   "metadata": {
    "tags": []
   },
   "outputs": [],
   "source": []
  },
  {
   "cell_type": "markdown",
   "id": "8235d9aa-0df5-4d7d-af75-9d1e98d23196",
   "metadata": {
    "tags": []
   },
   "source": [
    "## k200 ew port with samsung neutral"
   ]
  },
  {
   "cell_type": "code",
   "execution_count": null,
   "id": "12d1a575-5012-418f-ae1c-6a8a3593046a",
   "metadata": {
    "execution": {
     "iopub.status.busy": "2024-07-03T23:18:56.751444Z",
     "iopub.status.idle": "2024-07-03T23:18:56.752394Z",
     "shell.execute_reply": "2024-07-03T23:18:56.752143Z",
     "shell.execute_reply.started": "2024-07-03T23:18:56.752118Z"
    },
    "tags": []
   },
   "outputs": [],
   "source": [
    "top_prob_unstack=top_prob_df.unstack().copy()\n",
    "top_prob_unstack.columns=top_prob_unstack.columns.get_level_values(1)\n",
    "\n",
    "k200_weight_ls=[]\n",
    "for date in rebal_dates:\n",
    "    temp_top_prob=top_prob_unstack.loc[date].copy()\n",
    "    ew_sum=1-sam_w.loc[date, 'idx_weight'].values/100\n",
    "    \n",
    "    # if samsung is in the top then add additional weight to idx weight\n",
    "    if 'A005930' in temp_top_prob.index:\n",
    "        temp_ew=ew_sum/75\n",
    "        temp_top_prob[temp_top_prob>0]=temp_ew[0]\n",
    "        temp_top_prob.loc['A005930']=sam_w.loc[date, 'idx_weight'].values/100+temp_ew[0]\n",
    "    else:\n",
    "        temp_ew=ew_sum/76\n",
    "        temp_top_prob.loc['A005930']=sam_w.loc[date, 'idx_weight'].values/100\n",
    "        \n",
    "    k200_weight_ls.append(temp_top_prob)"
   ]
  },
  {
   "cell_type": "code",
   "execution_count": null,
   "id": "f9c3acb9-6f28-4fa4-8d9d-7146ecac636f",
   "metadata": {},
   "outputs": [],
   "source": []
  },
  {
   "cell_type": "markdown",
   "id": "c376951f-bb4b-4563-9fb0-6228d242d00d",
   "metadata": {},
   "source": [
    "# k200 market weight"
   ]
  },
  {
   "cell_type": "code",
   "execution_count": null,
   "id": "0c36dac0-ff65-4582-aa5a-94357be5b0f8",
   "metadata": {
    "execution": {
     "iopub.status.busy": "2024-07-03T23:18:56.753719Z",
     "iopub.status.idle": "2024-07-03T23:18:56.754378Z",
     "shell.execute_reply": "2024-07-03T23:18:56.754127Z",
     "shell.execute_reply.started": "2024-07-03T23:18:56.754103Z"
    }
   },
   "outputs": [],
   "source": [
    "temp_top_prob_df=top_prob_df[top_prob_df.index.get_level_values(0).isin(rebal_dates)]"
   ]
  },
  {
   "cell_type": "code",
   "execution_count": null,
   "id": "8e91b963-8230-4b39-85ce-c146e08ccba6",
   "metadata": {
    "execution": {
     "iopub.status.busy": "2024-07-03T23:18:56.756016Z",
     "iopub.status.idle": "2024-07-03T23:18:56.756626Z",
     "shell.execute_reply": "2024-07-03T23:18:56.756377Z",
     "shell.execute_reply.started": "2024-07-03T23:18:56.756352Z"
    }
   },
   "outputs": [],
   "source": [
    "k200_df.index.get_level_values(0).unique(), top_prob_df.index.get_level_values(0).unique()"
   ]
  },
  {
   "cell_type": "code",
   "execution_count": null,
   "id": "6e6a1589-c3b1-471c-875a-038c16f375c9",
   "metadata": {
    "execution": {
     "iopub.status.busy": "2024-07-03T23:18:56.758165Z",
     "iopub.status.idle": "2024-07-03T23:18:56.758978Z",
     "shell.execute_reply": "2024-07-03T23:18:56.758719Z",
     "shell.execute_reply.started": "2024-07-03T23:18:56.758694Z"
    }
   },
   "outputs": [],
   "source": [
    "temp_k200_df=k200_df[k200_df.index.isin(temp_top_prob_df.index)]"
   ]
  },
  {
   "cell_type": "code",
   "execution_count": null,
   "id": "be537ba4-8568-4e55-a621-4ff7f8453558",
   "metadata": {
    "execution": {
     "iopub.status.busy": "2024-07-03T23:18:56.760470Z",
     "iopub.status.idle": "2024-07-03T23:18:56.761111Z",
     "shell.execute_reply": "2024-07-03T23:18:56.760835Z",
     "shell.execute_reply.started": "2024-07-03T23:18:56.760810Z"
    }
   },
   "outputs": [],
   "source": [
    "temp_k200_df=temp_k200_df['idx_weight'].unstack()"
   ]
  },
  {
   "cell_type": "code",
   "execution_count": null,
   "id": "3284d54b-34d9-4fb9-83d0-c5b08b7378a8",
   "metadata": {
    "execution": {
     "iopub.status.busy": "2024-07-03T23:18:56.762794Z",
     "iopub.status.idle": "2024-07-03T23:18:56.763505Z",
     "shell.execute_reply": "2024-07-03T23:18:56.763256Z",
     "shell.execute_reply.started": "2024-07-03T23:18:56.763232Z"
    }
   },
   "outputs": [],
   "source": [
    "k200_df_mask=temp_k200_df.copy()\n",
    "k200_df_mask[k200_df_mask>0]=1"
   ]
  },
  {
   "cell_type": "code",
   "execution_count": null,
   "id": "bed7152d-bba0-4b0e-9b06-803151a23b0c",
   "metadata": {
    "execution": {
     "iopub.status.busy": "2024-07-03T23:18:56.764990Z",
     "iopub.status.idle": "2024-07-03T23:18:56.765608Z",
     "shell.execute_reply": "2024-07-03T23:18:56.765360Z",
     "shell.execute_reply.started": "2024-07-03T23:18:56.765335Z"
    }
   },
   "outputs": [],
   "source": [
    "k200_df_mask"
   ]
  },
  {
   "cell_type": "code",
   "execution_count": null,
   "id": "e0c819f8-91aa-4922-a203-a1eabb6fcf17",
   "metadata": {
    "execution": {
     "iopub.status.busy": "2024-07-03T23:18:56.767204Z",
     "iopub.status.idle": "2024-07-03T23:18:56.767923Z",
     "shell.execute_reply": "2024-07-03T23:18:56.767671Z",
     "shell.execute_reply.started": "2024-07-03T23:18:56.767646Z"
    }
   },
   "outputs": [],
   "source": [
    "temp_samw=sam_w[sam_w.index.get_level_values(0).isin(temp_k200_df.index.get_level_values(0))]['idx_weight']\n",
    "temp_samw.index=temp_samw.index.get_level_values(0)"
   ]
  },
  {
   "cell_type": "code",
   "execution_count": null,
   "id": "d234c0bd-2d35-4df8-8dcf-9cff59251718",
   "metadata": {
    "execution": {
     "iopub.status.busy": "2024-07-03T23:18:56.772999Z",
     "iopub.status.idle": "2024-07-03T23:18:56.773930Z",
     "shell.execute_reply": "2024-07-03T23:18:56.773665Z",
     "shell.execute_reply.started": "2024-07-03T23:18:56.773639Z"
    }
   },
   "outputs": [],
   "source": [
    "temp_k200_df['A005930']=temp_samw"
   ]
  },
  {
   "cell_type": "code",
   "execution_count": null,
   "id": "59df6fae-e0af-4653-96d1-02b7004440f2",
   "metadata": {
    "execution": {
     "iopub.status.busy": "2024-07-03T23:18:56.775227Z",
     "iopub.status.idle": "2024-07-03T23:18:56.775833Z",
     "shell.execute_reply": "2024-07-03T23:18:56.775585Z",
     "shell.execute_reply.started": "2024-07-03T23:18:56.775559Z"
    }
   },
   "outputs": [],
   "source": [
    "k200_df_mask.sum(1)"
   ]
  },
  {
   "cell_type": "code",
   "execution_count": null,
   "id": "2c530807-0190-429d-b581-872d5a20a21f",
   "metadata": {
    "execution": {
     "iopub.status.busy": "2024-07-03T23:18:56.777532Z",
     "iopub.status.idle": "2024-07-03T23:18:56.778068Z",
     "shell.execute_reply": "2024-07-03T23:18:56.777820Z",
     "shell.execute_reply.started": "2024-07-03T23:18:56.777797Z"
    }
   },
   "outputs": [],
   "source": [
    "extra_weight=(100-temp_k200_df.sum(1))/k200_df_mask.sum(1)"
   ]
  },
  {
   "cell_type": "code",
   "execution_count": null,
   "id": "349d41c0-1aca-443c-9f29-4aae21d07620",
   "metadata": {
    "execution": {
     "iopub.status.busy": "2024-07-03T23:18:56.779551Z",
     "iopub.status.idle": "2024-07-03T23:18:56.780488Z",
     "shell.execute_reply": "2024-07-03T23:18:56.780236Z",
     "shell.execute_reply.started": "2024-07-03T23:18:56.780211Z"
    }
   },
   "outputs": [],
   "source": [
    "temp_k200_df"
   ]
  },
  {
   "cell_type": "code",
   "execution_count": null,
   "id": "638b2d92-174a-4b02-be3f-a396aef916a3",
   "metadata": {
    "execution": {
     "iopub.status.busy": "2024-07-03T23:18:56.781892Z",
     "iopub.status.idle": "2024-07-03T23:18:56.782623Z",
     "shell.execute_reply": "2024-07-03T23:18:56.782368Z",
     "shell.execute_reply.started": "2024-07-03T23:18:56.782344Z"
    }
   },
   "outputs": [],
   "source": [
    "k200_mask_weight=k200_df_mask.multiply(extra_weight, axis=0)"
   ]
  },
  {
   "cell_type": "code",
   "execution_count": null,
   "id": "bfe43818-ccd0-409d-9d53-50a992ee7bf6",
   "metadata": {
    "execution": {
     "iopub.status.busy": "2024-07-03T23:18:56.784094Z",
     "iopub.status.idle": "2024-07-03T23:18:56.784710Z",
     "shell.execute_reply": "2024-07-03T23:18:56.784460Z",
     "shell.execute_reply.started": "2024-07-03T23:18:56.784434Z"
    }
   },
   "outputs": [],
   "source": [
    "k200_df_mkw=(k200_mask_weight.fillna(0) + temp_k200_df)"
   ]
  },
  {
   "cell_type": "code",
   "execution_count": null,
   "id": "1bdc8349-5cf4-4166-a534-9a6a79f5d18f",
   "metadata": {},
   "outputs": [],
   "source": []
  },
  {
   "cell_type": "code",
   "execution_count": null,
   "id": "fd6c52ac-d12b-4b02-8cea-5facd53a27c6",
   "metadata": {},
   "outputs": [],
   "source": []
  },
  {
   "cell_type": "code",
   "execution_count": null,
   "id": "ee29d08a-ec6e-4f96-b9aa-4f808aab341b",
   "metadata": {
    "execution": {
     "iopub.status.busy": "2024-07-03T23:18:56.786328Z",
     "iopub.status.idle": "2024-07-03T23:18:56.787047Z",
     "shell.execute_reply": "2024-07-03T23:18:56.786796Z",
     "shell.execute_reply.started": "2024-07-03T23:18:56.786771Z"
    }
   },
   "outputs": [],
   "source": [
    "def convert_rebal_to_daily(rebal_weight, daily_df):   \n",
    "    daily_w=daily_df.loc[rebal_weight.index[0]:rebal_weight.index[-1], rebal_weight.columns].copy()\n",
    "    daily_w.loc[rebal_weight.index]=0\n",
    "    daily_w[daily_w!=0]=None\n",
    "    daily_w.loc[rebal_weight.index]=rebal_weight.fillna(0)\n",
    "    daily_w=daily_w.fillna(method='ffill')    \n",
    "    return daily_w"
   ]
  },
  {
   "cell_type": "code",
   "execution_count": null,
   "id": "883573f1-413e-4087-9c06-592f458e1a10",
   "metadata": {
    "execution": {
     "iopub.status.busy": "2024-07-03T23:18:56.788523Z",
     "iopub.status.idle": "2024-07-03T23:18:56.789155Z",
     "shell.execute_reply": "2024-07-03T23:18:56.788902Z",
     "shell.execute_reply.started": "2024-07-03T23:18:56.788865Z"
    },
    "tags": []
   },
   "outputs": [],
   "source": [
    "k200_weight_df=pd.concat(k200_weight_ls, axis=1).T\n",
    "# temp_adj=adjprc.loc[k200_weight_df.index[0]:k200_weight_df.index[-1], k200_weight_df.columns].copy()\n",
    "# k200_daily_w=temp_adj.copy()\n",
    "# k200_daily_w.loc[k200_weight_df.index]=0\n",
    "# k200_daily_w[k200_daily_w!=0]=None\n",
    "# k200_daily_w.loc[k200_weight_df.index]=k200_weight_df.fillna(0)\n",
    "# k200_daily_w=k200_daily_w.fillna(method='ffill')"
   ]
  },
  {
   "cell_type": "code",
   "execution_count": null,
   "id": "f79a2984-6002-4e12-8f6c-d081e880b1c8",
   "metadata": {
    "execution": {
     "iopub.status.busy": "2024-07-03T23:18:56.790813Z",
     "iopub.status.idle": "2024-07-03T23:18:56.791417Z",
     "shell.execute_reply": "2024-07-03T23:18:56.791168Z",
     "shell.execute_reply.started": "2024-07-03T23:18:56.791144Z"
    }
   },
   "outputs": [],
   "source": [
    "k200_daily_w=convert_rebal_to_daily(k200_weight_df, adjprc)\n",
    "k200_daily_mkw=convert_rebal_to_daily(k200_df_mkw/100, adjprc)"
   ]
  },
  {
   "cell_type": "code",
   "execution_count": null,
   "id": "1f43b65e-06ae-464a-804b-62cb57ddc7f0",
   "metadata": {
    "execution": {
     "iopub.status.busy": "2024-07-03T23:18:56.792846Z",
     "iopub.status.idle": "2024-07-03T23:18:56.793756Z",
     "shell.execute_reply": "2024-07-03T23:18:56.793497Z",
     "shell.execute_reply.started": "2024-07-03T23:18:56.793472Z"
    },
    "tags": []
   },
   "outputs": [],
   "source": [
    "k200_daily_w.sum(1).plot()"
   ]
  },
  {
   "cell_type": "code",
   "execution_count": null,
   "id": "993a6cc3-001b-4d26-b9ba-161680e69b7d",
   "metadata": {
    "execution": {
     "iopub.status.busy": "2024-07-03T23:18:56.795160Z",
     "iopub.status.idle": "2024-07-03T23:18:56.795686Z",
     "shell.execute_reply": "2024-07-03T23:18:56.795444Z",
     "shell.execute_reply.started": "2024-07-03T23:18:56.795421Z"
    }
   },
   "outputs": [],
   "source": [
    "k200_daily_mkw.sum(1).plot()"
   ]
  },
  {
   "cell_type": "code",
   "execution_count": null,
   "id": "08f1fb6b-d16d-477b-a5d1-89ad0b216055",
   "metadata": {
    "execution": {
     "iopub.status.busy": "2024-07-03T23:18:56.797573Z",
     "iopub.status.idle": "2024-07-03T23:18:56.798320Z",
     "shell.execute_reply": "2024-07-03T23:18:56.798062Z",
     "shell.execute_reply.started": "2024-07-03T23:18:56.798037Z"
    }
   },
   "outputs": [],
   "source": [
    "k200_daily_w.columns"
   ]
  },
  {
   "cell_type": "code",
   "execution_count": null,
   "id": "4096c8b0-cb18-49cc-bd3f-381fab322021",
   "metadata": {
    "execution": {
     "iopub.status.busy": "2024-07-03T23:18:56.799784Z",
     "iopub.status.idle": "2024-07-03T23:18:56.800403Z",
     "shell.execute_reply": "2024-07-03T23:18:56.800153Z",
     "shell.execute_reply.started": "2024-07-03T23:18:56.800128Z"
    }
   },
   "outputs": [],
   "source": [
    "k200_daily_w['A005930'].plot()"
   ]
  },
  {
   "cell_type": "code",
   "execution_count": null,
   "id": "027b67ca-f0f2-432b-9723-177b4e7f07ca",
   "metadata": {
    "execution": {
     "iopub.status.busy": "2024-07-03T23:18:56.802028Z",
     "iopub.status.idle": "2024-07-03T23:18:56.802886Z",
     "shell.execute_reply": "2024-07-03T23:18:56.802631Z",
     "shell.execute_reply.started": "2024-07-03T23:18:56.802606Z"
    },
    "tags": []
   },
   "outputs": [],
   "source": [
    "idx_ret, idx_ret_cost, idx_cum_ret, idx_cum_retcost = perf.return_index(adjprc.loc[k200_daily_w.index, k200_daily_w.columns], \n",
    "                                                                        k200_daily_w.shift(1),\n",
    "                                                                        cost=0.00)\n",
    "pd.concat([idx_cum_retcost, (1+krx_idx['코스피 200'].pct_change().loc[k200_daily_w.index]).cumprod()], axis=1).plot()"
   ]
  },
  {
   "cell_type": "code",
   "execution_count": null,
   "id": "39180e6a-56b0-459e-906b-431d2ea5b53a",
   "metadata": {
    "execution": {
     "iopub.status.busy": "2024-07-03T23:18:56.804146Z",
     "iopub.status.idle": "2024-07-03T23:18:56.804772Z",
     "shell.execute_reply": "2024-07-03T23:18:56.804515Z",
     "shell.execute_reply.started": "2024-07-03T23:18:56.804489Z"
    }
   },
   "outputs": [],
   "source": [
    "temp_perf200 = perf.analyze_performance(idx_ret_cost, \n",
    "                                     model_name = 'k200',\n",
    "                                     bm_return=krx_idx['코스피 200'].pct_change().loc[k200_daily_w.index])\n",
    "\n",
    "temp_perf200.T"
   ]
  },
  {
   "cell_type": "code",
   "execution_count": null,
   "id": "04976bce-b63e-47ac-8ebf-473e5b4942b6",
   "metadata": {
    "execution": {
     "iopub.status.busy": "2024-07-03T23:18:56.806455Z",
     "iopub.status.idle": "2024-07-03T23:18:56.807063Z",
     "shell.execute_reply": "2024-07-03T23:18:56.806809Z",
     "shell.execute_reply.started": "2024-07-03T23:18:56.806784Z"
    }
   },
   "outputs": [],
   "source": [
    "k200_daily_mkw"
   ]
  },
  {
   "cell_type": "code",
   "execution_count": null,
   "id": "422894c6-0efa-4b09-b94b-88e38596a1f8",
   "metadata": {
    "execution": {
     "iopub.status.busy": "2024-07-03T23:18:56.808343Z",
     "iopub.status.idle": "2024-07-03T23:18:56.809066Z",
     "shell.execute_reply": "2024-07-03T23:18:56.808800Z",
     "shell.execute_reply.started": "2024-07-03T23:18:56.808775Z"
    }
   },
   "outputs": [],
   "source": [
    "idx_ret, idx_ret_cost, idx_cum_ret, idx_cum_retcost = perf.return_index(adjprc.loc[k200_daily_mkw.index, \n",
    "                                                                                    k200_daily_mkw.columns], \n",
    "                                                                        k200_daily_mkw.shift(1),\n",
    "                                                                        cost=0.00)\n",
    "pd.concat([idx_cum_retcost, (1+krx_idx['코스피 200'].pct_change().loc[k200_daily_mkw.index]).cumprod()], axis=1).plot()"
   ]
  },
  {
   "cell_type": "code",
   "execution_count": null,
   "id": "199a31b4-7195-43c4-8987-14767c31c478",
   "metadata": {
    "execution": {
     "iopub.status.busy": "2024-07-03T23:18:56.810569Z",
     "iopub.status.idle": "2024-07-03T23:18:56.811184Z",
     "shell.execute_reply": "2024-07-03T23:18:56.810935Z",
     "shell.execute_reply.started": "2024-07-03T23:18:56.810910Z"
    }
   },
   "outputs": [],
   "source": [
    "temp_perf200 = perf.analyze_performance(idx_ret_cost, \n",
    "                                     model_name = 'k200',\n",
    "                                     bm_return=krx_idx['코스피 200'].pct_change().loc[k200_daily_mkw.index])\n",
    "\n",
    "temp_perf200.T"
   ]
  },
  {
   "cell_type": "code",
   "execution_count": null,
   "id": "f60b7479-c566-49a3-b48a-139948aec862",
   "metadata": {},
   "outputs": [],
   "source": []
  },
  {
   "cell_type": "code",
   "execution_count": null,
   "id": "ad27d3d1-0479-4e0e-9d40-e7e51823119f",
   "metadata": {},
   "outputs": [],
   "source": []
  },
  {
   "cell_type": "code",
   "execution_count": null,
   "id": "d3dc92b4-bd34-4722-beb0-05dbccff660d",
   "metadata": {},
   "outputs": [],
   "source": []
  },
  {
   "cell_type": "code",
   "execution_count": null,
   "id": "85971129-3d93-4e70-84b0-8512642e1ab8",
   "metadata": {},
   "outputs": [],
   "source": []
  },
  {
   "cell_type": "markdown",
   "id": "70b94481-bfa5-4bd7-9ae9-48f926969cca",
   "metadata": {},
   "source": [
    "## k100 ew with samsung neutral"
   ]
  },
  {
   "cell_type": "code",
   "execution_count": null,
   "id": "3501bb33-66d9-4cbe-a578-f540a81b9978",
   "metadata": {
    "execution": {
     "iopub.status.busy": "2024-07-03T23:18:56.812783Z",
     "iopub.status.idle": "2024-07-03T23:18:56.813644Z",
     "shell.execute_reply": "2024-07-03T23:18:56.813392Z",
     "shell.execute_reply.started": "2024-07-03T23:18:56.813366Z"
    },
    "tags": []
   },
   "outputs": [],
   "source": [
    "top_prob_k100_unstack=top_prob_k100_df.unstack().copy()\n",
    "top_prob_k100_unstack.columns=top_prob_k100_unstack.columns.get_level_values(1)\n",
    "\n",
    "k100_weight_ls=[]\n",
    "for date in rebal_dates:\n",
    "    temp_top_prob=top_prob_k100_unstack.loc[date].copy()\n",
    "    ew_sum=1-sam_w.loc[date, 'idx_weight'].values/100\n",
    "    \n",
    "    # if samsung is in the top then add additional weight to idx weight\n",
    "    if 'A005930' in temp_top_prob.index:\n",
    "        temp_ew=ew_sum/num_selection_k100\n",
    "        temp_top_prob[temp_top_prob>0]=temp_ew[0]\n",
    "        temp_top_prob.loc['A005930']=sam_w.loc[date, 'idx_weight'].values/100+temp_ew[0]\n",
    "    else:\n",
    "        temp_ew=ew_sum/(num_selection_k100+1)\n",
    "        temp_top_prob.loc['A005930']=sam_w.loc[date, 'idx_weight'].values/100\n",
    "        \n",
    "    k100_weight_ls.append(temp_top_prob)    \n",
    "        "
   ]
  },
  {
   "cell_type": "code",
   "execution_count": null,
   "id": "81996ace-4c7d-4835-aee5-a53f5eb4091e",
   "metadata": {
    "execution": {
     "iopub.status.busy": "2024-07-03T23:18:56.814875Z",
     "iopub.status.idle": "2024-07-03T23:18:56.815400Z",
     "shell.execute_reply": "2024-07-03T23:18:56.815157Z",
     "shell.execute_reply.started": "2024-07-03T23:18:56.815133Z"
    },
    "tags": []
   },
   "outputs": [],
   "source": [
    "k100_weight_df=pd.concat(k100_weight_ls, axis=1).T\n",
    "temp_adj=adjprc.loc[k100_weight_df.index[0]:k100_weight_df.index[-1], k100_weight_df.columns].copy()\n",
    "k100_daily_w=temp_adj.copy()\n",
    "k100_daily_w.loc[k100_weight_df.index]=0\n",
    "k100_daily_w[k100_daily_w!=0]=None\n",
    "k100_daily_w.loc[k100_weight_df.index]=k100_weight_df.fillna(0)\n",
    "k100_daily_w=k100_daily_w.fillna(method='ffill')"
   ]
  },
  {
   "cell_type": "code",
   "execution_count": null,
   "id": "efb56477-e5bf-45a6-93a5-952d6c05404d",
   "metadata": {
    "execution": {
     "iopub.status.busy": "2024-07-03T23:18:56.816933Z",
     "iopub.status.idle": "2024-07-03T23:18:56.817663Z",
     "shell.execute_reply": "2024-07-03T23:18:56.817411Z",
     "shell.execute_reply.started": "2024-07-03T23:18:56.817385Z"
    },
    "tags": []
   },
   "outputs": [],
   "source": [
    "k100_weight_df.count(1)"
   ]
  },
  {
   "cell_type": "code",
   "execution_count": null,
   "id": "62ecf93b-3c17-47b2-ad35-c359f0e73718",
   "metadata": {
    "execution": {
     "iopub.status.busy": "2024-07-03T23:18:56.819304Z",
     "iopub.status.idle": "2024-07-03T23:18:56.820183Z",
     "shell.execute_reply": "2024-07-03T23:18:56.819929Z",
     "shell.execute_reply.started": "2024-07-03T23:18:56.819903Z"
    },
    "tags": []
   },
   "outputs": [],
   "source": [
    "k100_ret, k100_ret_cost, k100_cum_ret, k100_cum_retcost = perf.return_index(temp_adj, \n",
    "                                                                        k100_daily_w.shift(1),\n",
    "                                                                        cost=0.003)"
   ]
  },
  {
   "cell_type": "code",
   "execution_count": null,
   "id": "1969da5d-daf3-424e-a137-89775ca2bcea",
   "metadata": {},
   "outputs": [],
   "source": []
  },
  {
   "cell_type": "code",
   "execution_count": null,
   "id": "eb8b8fe3-4fd8-40f6-b857-83dcac7ea824",
   "metadata": {},
   "outputs": [],
   "source": []
  },
  {
   "cell_type": "code",
   "execution_count": null,
   "id": "5d72515e-78be-4bc2-bafd-b0f0365f084a",
   "metadata": {},
   "outputs": [],
   "source": []
  },
  {
   "cell_type": "markdown",
   "id": "ff99eec0-13e5-4f48-9744-18ce4e147467",
   "metadata": {},
   "source": [
    "### 75 ew/ 100"
   ]
  },
  {
   "cell_type": "code",
   "execution_count": null,
   "id": "d2a998fc-02e5-4998-a8c1-64e78f85082a",
   "metadata": {
    "execution": {
     "iopub.status.busy": "2024-07-03T23:18:56.821537Z",
     "iopub.status.idle": "2024-07-03T23:18:56.822156Z",
     "shell.execute_reply": "2024-07-03T23:18:56.821904Z",
     "shell.execute_reply.started": "2024-07-03T23:18:56.821879Z"
    },
    "tags": []
   },
   "outputs": [],
   "source": [
    "pd.concat([k100_cum_retcost, (1+krx_idx['코스피 200'].pct_change().loc[k100_daily_w.index]).cumprod()], axis=1).plot()"
   ]
  },
  {
   "cell_type": "code",
   "execution_count": null,
   "id": "de14c0d4-0cb8-4dc0-b1f8-2c43682fb36b",
   "metadata": {
    "execution": {
     "iopub.status.busy": "2024-07-03T23:18:56.823748Z",
     "iopub.status.idle": "2024-07-03T23:18:56.824493Z",
     "shell.execute_reply": "2024-07-03T23:18:56.824242Z",
     "shell.execute_reply.started": "2024-07-03T23:18:56.824217Z"
    },
    "tags": []
   },
   "outputs": [],
   "source": [
    "temp_perf75 = perf.analyze_performance(k100_ret_cost, \n",
    "                                     model_name = 'k100_75',\n",
    "                                     bm_return=krx_idx['코스피 200'].pct_change().loc[k100_daily_w.index])\n",
    "\n"
   ]
  },
  {
   "cell_type": "code",
   "execution_count": null,
   "id": "41a0db68-71c0-4e4e-8843-12a402abf80c",
   "metadata": {
    "execution": {
     "iopub.status.busy": "2024-07-03T23:18:56.826055Z",
     "iopub.status.idle": "2024-07-03T23:18:56.826768Z",
     "shell.execute_reply": "2024-07-03T23:18:56.826514Z",
     "shell.execute_reply.started": "2024-07-03T23:18:56.826489Z"
    }
   },
   "outputs": [],
   "source": [
    "temp_perf75.T"
   ]
  },
  {
   "cell_type": "markdown",
   "id": "75c60a5c-ca04-4664-9a59-7235ba563367",
   "metadata": {},
   "source": [
    "### 50 ew / 100"
   ]
  },
  {
   "cell_type": "code",
   "execution_count": null,
   "id": "d80abc30-ff1f-49ef-bac6-e8963474f823",
   "metadata": {
    "execution": {
     "iopub.status.busy": "2024-07-03T23:18:56.828245Z",
     "iopub.status.idle": "2024-07-03T23:18:56.828957Z",
     "shell.execute_reply": "2024-07-03T23:18:56.828691Z",
     "shell.execute_reply.started": "2024-07-03T23:18:56.828666Z"
    },
    "tags": []
   },
   "outputs": [],
   "source": [
    "pd.concat([k100_cum_retcost, (1+krx_idx['코스피 200'].pct_change().loc[k100_daily_w.index]).cumprod()], axis=1).plot()"
   ]
  },
  {
   "cell_type": "code",
   "execution_count": null,
   "id": "0bdb1d06-1fc1-4507-a6a4-572345c403c3",
   "metadata": {
    "execution": {
     "iopub.status.busy": "2024-07-03T23:18:56.830360Z",
     "iopub.status.idle": "2024-07-03T23:18:56.830982Z",
     "shell.execute_reply": "2024-07-03T23:18:56.830734Z",
     "shell.execute_reply.started": "2024-07-03T23:18:56.830709Z"
    },
    "tags": []
   },
   "outputs": [],
   "source": [
    "temp_perf50 = perf.analyze_performance(k100_ret_cost, \n",
    "                                     model_name = 'k100_50',\n",
    "                                     bm_return=krx_idx['코스피 200'].pct_change().loc[k100_daily_w.index])\n",
    "\n",
    "temp_perf50"
   ]
  },
  {
   "cell_type": "code",
   "execution_count": null,
   "id": "fb5c49cc-042f-4c3e-a851-e15a7a845f74",
   "metadata": {},
   "outputs": [],
   "source": []
  },
  {
   "cell_type": "markdown",
   "id": "263bc6e8-169a-4091-869f-2d5755349a1d",
   "metadata": {},
   "source": [
    "### 100 ew /100"
   ]
  },
  {
   "cell_type": "code",
   "execution_count": null,
   "id": "422f1d58-d528-408f-811a-766c47e9711b",
   "metadata": {
    "execution": {
     "iopub.status.busy": "2024-07-03T23:18:56.832864Z",
     "iopub.status.idle": "2024-07-03T23:18:56.833456Z",
     "shell.execute_reply": "2024-07-03T23:18:56.833205Z",
     "shell.execute_reply.started": "2024-07-03T23:18:56.833180Z"
    },
    "tags": []
   },
   "outputs": [],
   "source": [
    "pd.concat([k100_cum_retcost, (1+krx_idx['코스피 200'].pct_change().loc[k100_daily_w.index]).cumprod()], axis=1).plot()"
   ]
  },
  {
   "cell_type": "code",
   "execution_count": null,
   "id": "085d29d6-acbc-4a81-abc4-a9ddda98ee97",
   "metadata": {
    "execution": {
     "iopub.status.busy": "2024-07-03T23:18:56.834826Z",
     "iopub.status.idle": "2024-07-03T23:18:56.835502Z",
     "shell.execute_reply": "2024-07-03T23:18:56.835245Z",
     "shell.execute_reply.started": "2024-07-03T23:18:56.835220Z"
    },
    "tags": []
   },
   "outputs": [],
   "source": [
    "temp_perf100 = perf.analyze_performance(k100_ret_cost, \n",
    "                                     model_name = 'k100_100',\n",
    "                                     bm_return=krx_idx['코스피 200'].pct_change().loc[k100_daily_w.index])\n",
    "temp_perf100"
   ]
  },
  {
   "cell_type": "code",
   "execution_count": null,
   "id": "261f8ffa-c9e5-4d9c-8093-6885d81ede3f",
   "metadata": {},
   "outputs": [],
   "source": []
  },
  {
   "cell_type": "markdown",
   "id": "167cfd5b-9219-4e78-b692-a6ac35ada092",
   "metadata": {
    "tags": []
   },
   "source": [
    "### 30 ew / 100"
   ]
  },
  {
   "cell_type": "code",
   "execution_count": null,
   "id": "ab6cd26f-a70f-447f-ba15-268a9a534702",
   "metadata": {
    "execution": {
     "iopub.status.busy": "2024-07-03T23:18:56.837102Z",
     "iopub.status.idle": "2024-07-03T23:18:56.839136Z",
     "shell.execute_reply": "2024-07-03T23:18:56.838876Z",
     "shell.execute_reply.started": "2024-07-03T23:18:56.838850Z"
    },
    "tags": []
   },
   "outputs": [],
   "source": [
    "pd.concat([k100_cum_retcost, (1+krx_idx['코스피 200'].pct_change().loc[k100_daily_w.index]).cumprod()], axis=1).plot()"
   ]
  },
  {
   "cell_type": "code",
   "execution_count": null,
   "id": "b16d67d1-2060-4efe-8e3a-fa03b297adc9",
   "metadata": {
    "execution": {
     "iopub.status.busy": "2024-07-03T23:18:56.840416Z",
     "iopub.status.idle": "2024-07-03T23:18:56.841311Z",
     "shell.execute_reply": "2024-07-03T23:18:56.841049Z",
     "shell.execute_reply.started": "2024-07-03T23:18:56.841024Z"
    },
    "tags": []
   },
   "outputs": [],
   "source": [
    "temp_perf30 = perf.analyze_performance(k100_ret_cost, \n",
    "                                     model_name = 'k100_30',\n",
    "                                     bm_return=krx_idx['코스피 200'].pct_change().loc[k100_daily_w.index])\n",
    "\n",
    "temp_perf30"
   ]
  },
  {
   "cell_type": "code",
   "execution_count": null,
   "id": "84d85803-0653-4a51-9f80-0d048a4e88f5",
   "metadata": {},
   "outputs": [],
   "source": []
  },
  {
   "cell_type": "code",
   "execution_count": null,
   "id": "6c331bc3-2582-45e8-b339-e3d49b215940",
   "metadata": {
    "execution": {
     "iopub.status.busy": "2024-07-03T23:18:56.842950Z",
     "iopub.status.idle": "2024-07-03T23:18:56.843561Z",
     "shell.execute_reply": "2024-07-03T23:18:56.843307Z",
     "shell.execute_reply.started": "2024-07-03T23:18:56.843282Z"
    },
    "tags": []
   },
   "outputs": [],
   "source": [
    "pd.concat([temp_perf30, temp_perf50, temp_perf75, temp_perf100], axis=0).T"
   ]
  },
  {
   "cell_type": "code",
   "execution_count": null,
   "id": "b17276c4-be03-48ba-a7d9-d314d1b4a408",
   "metadata": {},
   "outputs": [],
   "source": []
  },
  {
   "cell_type": "code",
   "execution_count": null,
   "id": "99f8ce97-994f-43cf-a2a4-ffc0c868d756",
   "metadata": {},
   "outputs": [],
   "source": []
  },
  {
   "cell_type": "code",
   "execution_count": null,
   "id": "8f2b7750-12a1-470f-949a-3273907472a2",
   "metadata": {
    "execution": {
     "iopub.status.busy": "2024-07-03T23:18:56.844989Z",
     "iopub.status.idle": "2024-07-03T23:18:56.845831Z",
     "shell.execute_reply": "2024-07-03T23:18:56.845563Z",
     "shell.execute_reply.started": "2024-07-03T23:18:56.845537Z"
    },
    "tags": []
   },
   "outputs": [],
   "source": [
    "sector in temp_sector_cap_prob['FG_Sector_Idx'].unique()"
   ]
  },
  {
   "cell_type": "code",
   "execution_count": null,
   "id": "f60eece4-28e4-4a5a-8d6f-c197bad4eec8",
   "metadata": {
    "execution": {
     "iopub.status.busy": "2024-07-03T23:18:56.847098Z",
     "iopub.status.idle": "2024-07-03T23:18:56.847624Z",
     "shell.execute_reply": "2024-07-03T23:18:56.847382Z",
     "shell.execute_reply.started": "2024-07-03T23:18:56.847358Z"
    },
    "tags": []
   },
   "outputs": [],
   "source": [
    "temp_bm_sector=bm_sector.loc[date]\n",
    "temp_bm_sector[temp_bm_sector['FG_Sector_Idx']==sector]"
   ]
  },
  {
   "cell_type": "code",
   "execution_count": null,
   "id": "b1cc9491-5d89-44ad-be37-87dc62f36280",
   "metadata": {
    "execution": {
     "iopub.status.busy": "2024-07-03T23:18:56.849196Z",
     "iopub.status.idle": "2024-07-03T23:18:56.849813Z",
     "shell.execute_reply": "2024-07-03T23:18:56.849565Z",
     "shell.execute_reply.started": "2024-07-03T23:18:56.849540Z"
    },
    "tags": []
   },
   "outputs": [],
   "source": [
    "temp_bm_sector.index"
   ]
  },
  {
   "cell_type": "code",
   "execution_count": null,
   "id": "b5cecf1c-d491-4460-809d-baa9e9fc54c6",
   "metadata": {
    "execution": {
     "iopub.status.busy": "2024-07-03T23:18:56.851509Z",
     "iopub.status.idle": "2024-07-03T23:18:56.852189Z",
     "shell.execute_reply": "2024-07-03T23:18:56.851936Z",
     "shell.execute_reply.started": "2024-07-03T23:18:56.851911Z"
    },
    "tags": []
   },
   "outputs": [],
   "source": [
    "missing_sector=temp_mktcap[temp_mktcap['FG_Sector_Idx']==sector].loc[date, 'MktCap']\n",
    "missing_sector/missing_sector.sum()"
   ]
  },
  {
   "cell_type": "code",
   "execution_count": null,
   "id": "0ed20d42-35e2-49cf-9063-6da9ec5227d7",
   "metadata": {
    "execution": {
     "iopub.status.busy": "2024-07-03T23:18:56.853846Z",
     "iopub.status.idle": "2024-07-03T23:18:56.855517Z",
     "shell.execute_reply": "2024-07-03T23:18:56.855261Z",
     "shell.execute_reply.started": "2024-07-03T23:18:56.855234Z"
    },
    "tags": []
   },
   "outputs": [],
   "source": [
    "temp_mktcap.loc[date][temp_bm_sector.index]"
   ]
  },
  {
   "cell_type": "code",
   "execution_count": null,
   "id": "e4e956e6-13d9-4545-b1ea-964a6ed6994f",
   "metadata": {
    "execution": {
     "iopub.status.busy": "2024-07-03T23:18:56.857401Z",
     "iopub.status.idle": "2024-07-03T23:18:56.857937Z",
     "shell.execute_reply": "2024-07-03T23:18:56.857691Z",
     "shell.execute_reply.started": "2024-07-03T23:18:56.857667Z"
    },
    "tags": []
   },
   "outputs": [],
   "source": [
    "temp_bm_sector.index"
   ]
  },
  {
   "cell_type": "code",
   "execution_count": null,
   "id": "276b8a62-1638-44aa-9abf-a468f9ab525a",
   "metadata": {
    "execution": {
     "iopub.status.busy": "2024-07-03T23:18:56.859633Z",
     "iopub.status.idle": "2024-07-03T23:18:56.860232Z",
     "shell.execute_reply": "2024-07-03T23:18:56.859981Z",
     "shell.execute_reply.started": "2024-07-03T23:18:56.859957Z"
    },
    "tags": []
   },
   "outputs": [],
   "source": [
    "daily_sector_weight"
   ]
  },
  {
   "cell_type": "code",
   "execution_count": null,
   "id": "4560d6a7-01b6-44d5-94ef-8ea000386e26",
   "metadata": {},
   "outputs": [],
   "source": []
  },
  {
   "cell_type": "code",
   "execution_count": null,
   "id": "f107b4a9-6594-4a4a-bb28-68a436b236b4",
   "metadata": {},
   "outputs": [],
   "source": []
  },
  {
   "cell_type": "code",
   "execution_count": null,
   "id": "2a1cedd2-e661-4503-a8ea-7a5b9b87dfdc",
   "metadata": {
    "execution": {
     "iopub.status.busy": "2024-07-03T23:18:56.861712Z",
     "iopub.status.idle": "2024-07-03T23:18:56.862229Z",
     "shell.execute_reply": "2024-07-03T23:18:56.861984Z",
     "shell.execute_reply.started": "2024-07-03T23:18:56.861961Z"
    }
   },
   "outputs": [],
   "source": [
    "temp_sector_neutral"
   ]
  },
  {
   "cell_type": "code",
   "execution_count": null,
   "id": "8ccf4e83-725f-4c08-be59-68af38668ca1",
   "metadata": {
    "execution": {
     "iopub.status.busy": "2024-07-03T23:18:56.863963Z",
     "iopub.status.idle": "2024-07-03T23:18:56.864664Z",
     "shell.execute_reply": "2024-07-03T23:18:56.864412Z",
     "shell.execute_reply.started": "2024-07-03T23:18:56.864387Z"
    },
    "tags": []
   },
   "outputs": [],
   "source": [
    "cap_prob_df.index.get_level_values(0).unique()"
   ]
  },
  {
   "cell_type": "code",
   "execution_count": null,
   "id": "2f249ad7-ed99-42af-9bd6-08fea6518e75",
   "metadata": {
    "execution": {
     "iopub.status.busy": "2024-07-03T23:18:56.866151Z",
     "iopub.status.idle": "2024-07-03T23:18:56.866766Z",
     "shell.execute_reply": "2024-07-03T23:18:56.866516Z",
     "shell.execute_reply.started": "2024-07-03T23:18:56.866492Z"
    },
    "tags": []
   },
   "outputs": [],
   "source": [
    "cap_prob_df[cap_prob_df.index.get_level_values(0)==date]"
   ]
  },
  {
   "cell_type": "code",
   "execution_count": null,
   "id": "f78ad4cc-8937-4aac-b50f-3f0bd7fdd4e5",
   "metadata": {
    "tags": []
   },
   "outputs": [],
   "source": []
  },
  {
   "cell_type": "code",
   "execution_count": null,
   "id": "97fbfdd6-b501-4f21-a79e-8b5c5922eed6",
   "metadata": {},
   "outputs": [],
   "source": []
  },
  {
   "cell_type": "code",
   "execution_count": null,
   "id": "9835455c-2b87-44cc-bb92-06c3c4c94aae",
   "metadata": {},
   "outputs": [],
   "source": []
  }
 ],
 "metadata": {
  "kernelspec": {
   "display_name": "base",
   "language": "python",
   "name": "python3"
  },
  "language_info": {
   "codemirror_mode": {
    "name": "ipython",
    "version": 3
   },
   "file_extension": ".py",
   "mimetype": "text/x-python",
   "name": "python",
   "nbconvert_exporter": "python",
   "pygments_lexer": "ipython3",
   "version": "3.11.4"
  }
 },
 "nbformat": 4,
 "nbformat_minor": 5
}
