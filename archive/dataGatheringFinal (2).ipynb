{
 "cells": [
  {
   "cell_type": "code",
   "execution_count": 1,
   "id": "2aa9cbc2-077e-41fd-892a-130e65464da1",
   "metadata": {
    "execution": {
     "iopub.execute_input": "2025-05-27T04:30:38.004170Z",
     "iopub.status.busy": "2025-05-27T04:30:38.003384Z",
     "iopub.status.idle": "2025-05-27T04:30:38.568547Z",
     "shell.execute_reply": "2025-05-27T04:30:38.567546Z",
     "shell.execute_reply.started": "2025-05-27T04:30:38.004127Z"
    }
   },
   "outputs": [],
   "source": [
    "import pandas as pd\n",
    "from sqlalchemy import create_engine, text\n",
    "import os\n",
    "import logging\n",
    "import cx_Oracle\n",
    "import time\n",
    "import json\n",
    "from datetime import date, timedelta"
   ]
  },
  {
   "cell_type": "code",
   "execution_count": 2,
   "id": "ba2e37bc-2fc8-4953-a74d-a23f2283ce50",
   "metadata": {
    "execution": {
     "iopub.execute_input": "2025-05-27T04:30:38.569757Z",
     "iopub.status.busy": "2025-05-27T04:30:38.569468Z",
     "iopub.status.idle": "2025-05-27T04:30:38.575019Z",
     "shell.execute_reply": "2025-05-27T04:30:38.574330Z",
     "shell.execute_reply.started": "2025-05-27T04:30:38.569737Z"
    }
   },
   "outputs": [],
   "source": [
    "def get_previous_business_day(today_date=None):\n",
    "    \"\"\"\n",
    "    Returns the previous business day (Mon-Fri).\n",
    "    On Monday, returns Friday. Skips weekends automatically.\n",
    "    \"\"\"\n",
    "    if today_date is None:\n",
    "        today_date = date.today()\n",
    "    \n",
    "    day_offset = 1\n",
    "    while True:\n",
    "        previous_day = today_date - timedelta(days=day_offset)\n",
    "        if previous_day.weekday() < 5:  # 0-4 = Mon-Fri\n",
    "            return previous_day\n",
    "        day_offset += 1\n",
    "\n",
    "previous_bd = get_previous_business_day()\n",
    "previous_bd = previous_bd.strftime('%Y-%m-%d')"
   ]
  },
  {
   "cell_type": "code",
   "execution_count": 1,
   "id": "67de63b5-669f-4420-9bdb-630e29b6eb56",
   "metadata": {
    "editable": true,
    "execution": {
     "iopub.execute_input": "2025-04-29T08:45:59.045027Z",
     "iopub.status.busy": "2025-04-29T08:45:59.044576Z",
     "iopub.status.idle": "2025-04-29T09:05:59.506631Z",
     "shell.execute_reply": "2025-04-29T09:05:59.505847Z",
     "shell.execute_reply.started": "2025-04-29T08:45:59.044981Z"
    },
    "slideshow": {
     "slide_type": ""
    },
    "tags": []
   },
   "outputs": [
    {
     "name": "stderr",
     "output_type": "stream",
     "text": [
      "2025-04-29 18:05:59,495 - INFO - fn_COM Done\n",
      "2025-04-29 18:05:59,498 - INFO - fn_CON Done\n",
      "2025-04-29 18:05:59,498 - INFO - fn_NFS_IFRS Done\n",
      "2025-04-29 18:05:59,499 - INFO - fn_NFR_IFRS Done\n",
      "2025-04-29 18:05:59,500 - INFO - fn_SSC Done\n",
      "2025-04-29 18:05:59,500 - INFO - fn_CIA Done\n",
      "2025-04-29 18:05:59,501 - INFO - fn_FS1 Done\n"
     ]
    }
   ],
   "source": [
    "output_dir='/home/hyungshin.lee/dbqm_data/input'\n",
    "\n",
    "start = time.time()\n",
    "# Configure logging\n",
    "logging.basicConfig(level=logging.INFO, format='%(asctime)s - %(levelname)s - %(message)s')\n",
    "\n",
    "# Database connection details\n",
    "host = '192.168.1.27'\n",
    "port = '3306'\n",
    "db_name = 'quantdb_maria'\n",
    "username = 'quantdb'\n",
    "password = 'QuantDb2023!'\n",
    "\n",
    "# Create engine for database connection\n",
    "engine = create_engine(f\"mysql+pymysql://{username}:{password}@{host}:{port}/{db_name}\")\n",
    "\n",
    "# with open('/home/hyungshin.lee/dbqm/app/config.json', 'r', encoding='utf-8') as f:\n",
    "#     config = json.load(f)\n",
    "\n",
    "period1= '2017-01-01'\n",
    "period2= previous_bd\n",
    "\n",
    "# Function to execute a query and return a DataFrame\n",
    "def query(sql):\n",
    "    with engine.connect() as conn:\n",
    "        temp_query = text(sql)\n",
    "        return pd.read_sql(temp_query, conn)\n",
    "\n",
    "# Function to get raw tables\n",
    "def get_raw_tables():\n",
    "    #tables = ['COM_Table', 'CON_Table', 'NFS_IFRS_Table', 'SSC', 'CIA_Table', 'FS1_Table']\n",
    "    #tables = ['fn_COM', 'fn_CON', 'NFS_IFRS_Table', 'fn_NFR_IFRS', 'fn_SSC', 'fn_CIA', 'fn_FS1']\n",
    "    tables = ['fn_COM', 'fn_CON', 'fn_NFS_IFRS', 'fn_NFR_IFRS', 'fn_SSC', 'fn_CIA', 'fn_FS1']\n",
    "    raw_tables = {table: query(f\"SELECT * FROM {table}\") for table in tables}\n",
    "    \n",
    "    for table in tables:\n",
    "        logging.info(f'{table} Done')\n",
    "    \n",
    "    return raw_tables\n",
    "\n",
    "# Function to get all KOSPI200 symbols\n",
    "def get_all_kospi200():\n",
    "    sql = \"SELECT UNIQUE(Symbol) from fn_COM where KOSPI200YN = 'Y'\"\n",
    "    return query(sql)\n",
    "\n",
    "# Fetch raw tables\n",
    "datatable = get_raw_tables()\n",
    "\n",
    "# Creating a unified column dictionary for tables\n",
    "cols_dict = {col: table for table, df in datatable.items() for col in df.columns}\n",
    "\n",
    "# List of columns to be saved\n",
    "columns_to_save = [\n",
    "    'AdjPrc', 'AdjPrc_High_60D', 'MktCap', 'ListedShares', 'Sales_TQ_ic', 'Sales_LQ_ic', 'Sales_2LQ_ic',\n",
    "    'Sales_3LQ_ic', 'OI_TQ_ic', 'OI_LQ_ic', 'OI_2LQ_ic', 'OI_3LQ_ic', 'CIE_TQ_ic', 'CIE_LQ_ic', 'CIE_2LQ_ic',\n",
    "    'CIE_3LQ_ic', 'NICI_TQ_ic', 'NICI_LQ_ic', 'NICI_2LQ_ic', 'NICI_3LQ_ic', 'OI_E3_ic', 'OI_E3_NextYear_ic', 'OI_E3_2yr_ic', \n",
    "    'NIP_E3_ic', 'NIP_E3_NextYear_ic', 'KLCAIndustry', 'NetVol_Inst_20D', 'Dep_Amort_TQ_fs1', 'Dep_Amort_LQ_fs1',\n",
    "    'Dep_Amort_2LQ_fs1', 'Dep_Amort_3LQ_fs1', 'Int_Inc_TQ_fs1', 'Int_Inc_LQ_fs1', 'Int_Inc_2LQ_fs1', 'Int_Inc_3LQ_fs1',\n",
    "    'Int_Exp_TQ_fs1', 'Int_Exp_LQ_fs1', 'Int_Exp_2LQ_fs1', 'Int_Exp_3LQ_fs1', 'Div_fs1', 'Assets_TQ_fs1', 'Assets_LQ_fs1',\n",
    "    'Assets_2LQ_fs1', 'Assets_3LQ_fs1', 'TA_TQ_fs1', 'TA_LQ_fs1', 'TA_2LQ_fs1', 'TA_3LQ_fs1', 'Amt_Avg_20D', 'Num_EPS_ESts_E3',\n",
    "    'FG_IndustryGroup_Idx','KSECapSize'\n",
    "]\n",
    "\n",
    "# Create the directory if it doesn't exist\n",
    "os.makedirs(output_dir+'/dataFinal/', exist_ok=True)"
   ]
  },
  {
   "cell_type": "code",
   "execution_count": 3,
   "id": "ea9350ef-a466-4ede-9c45-00f52aa25722",
   "metadata": {
    "execution": {
     "iopub.execute_input": "2025-04-30T05:05:32.055103Z",
     "iopub.status.busy": "2025-04-30T05:05:32.054571Z",
     "iopub.status.idle": "2025-04-30T05:11:21.013007Z",
     "shell.execute_reply": "2025-04-30T05:11:21.011550Z",
     "shell.execute_reply.started": "2025-04-30T05:05:32.055057Z"
    },
    "scrolled": true
   },
   "outputs": [
    {
     "name": "stderr",
     "output_type": "stream",
     "text": [
      "2025-04-30 14:05:37,721 - INFO - /home/hyungshin.lee/dbqm_data/input/dataFinal/AdjPrc.pkl saved\n",
      "2025-04-30 14:05:42,861 - INFO - /home/hyungshin.lee/dbqm_data/input/dataFinal/AdjPrc_High_60D.pkl saved\n",
      "2025-04-30 14:05:47,559 - INFO - /home/hyungshin.lee/dbqm_data/input/dataFinal/MktCap.pkl saved\n",
      "2025-04-30 14:05:52,397 - INFO - /home/hyungshin.lee/dbqm_data/input/dataFinal/ListedShares.pkl saved\n",
      "2025-04-30 14:06:01,447 - INFO - /home/hyungshin.lee/dbqm_data/input/dataFinal/Sales_TQ_ic.pkl saved\n",
      "2025-04-30 14:06:08,654 - INFO - /home/hyungshin.lee/dbqm_data/input/dataFinal/Sales_LQ_ic.pkl saved\n",
      "2025-04-30 14:06:16,169 - INFO - /home/hyungshin.lee/dbqm_data/input/dataFinal/Sales_2LQ_ic.pkl saved\n",
      "2025-04-30 14:06:23,489 - INFO - /home/hyungshin.lee/dbqm_data/input/dataFinal/Sales_3LQ_ic.pkl saved\n",
      "2025-04-30 14:06:31,123 - INFO - /home/hyungshin.lee/dbqm_data/input/dataFinal/OI_TQ_ic.pkl saved\n",
      "2025-04-30 14:06:39,068 - INFO - /home/hyungshin.lee/dbqm_data/input/dataFinal/OI_LQ_ic.pkl saved\n",
      "2025-04-30 14:06:47,057 - INFO - /home/hyungshin.lee/dbqm_data/input/dataFinal/OI_2LQ_ic.pkl saved\n",
      "2025-04-30 14:06:54,803 - INFO - /home/hyungshin.lee/dbqm_data/input/dataFinal/OI_3LQ_ic.pkl saved\n",
      "2025-04-30 14:07:01,999 - INFO - /home/hyungshin.lee/dbqm_data/input/dataFinal/CIE_TQ_ic.pkl saved\n",
      "2025-04-30 14:07:09,357 - INFO - /home/hyungshin.lee/dbqm_data/input/dataFinal/CIE_LQ_ic.pkl saved\n",
      "2025-04-30 14:07:16,803 - INFO - /home/hyungshin.lee/dbqm_data/input/dataFinal/CIE_2LQ_ic.pkl saved\n",
      "2025-04-30 14:07:24,755 - INFO - /home/hyungshin.lee/dbqm_data/input/dataFinal/CIE_3LQ_ic.pkl saved\n",
      "2025-04-30 14:07:32,793 - INFO - /home/hyungshin.lee/dbqm_data/input/dataFinal/NICI_TQ_ic.pkl saved\n",
      "2025-04-30 14:07:40,657 - INFO - /home/hyungshin.lee/dbqm_data/input/dataFinal/NICI_LQ_ic.pkl saved\n",
      "2025-04-30 14:07:48,127 - INFO - /home/hyungshin.lee/dbqm_data/input/dataFinal/NICI_2LQ_ic.pkl saved\n",
      "2025-04-30 14:07:55,543 - INFO - /home/hyungshin.lee/dbqm_data/input/dataFinal/NICI_3LQ_ic.pkl saved\n",
      "2025-04-30 14:08:02,311 - INFO - /home/hyungshin.lee/dbqm_data/input/dataFinal/OI_E3_ic.pkl saved\n",
      "2025-04-30 14:08:08,090 - INFO - /home/hyungshin.lee/dbqm_data/input/dataFinal/OI_E3_NextYear_ic.pkl saved\n",
      "2025-04-30 14:08:13,678 - INFO - /home/hyungshin.lee/dbqm_data/input/dataFinal/OI_E3_2yr_ic.pkl saved\n",
      "2025-04-30 14:08:19,444 - INFO - /home/hyungshin.lee/dbqm_data/input/dataFinal/NIP_E3_ic.pkl saved\n",
      "2025-04-30 14:08:25,295 - INFO - /home/hyungshin.lee/dbqm_data/input/dataFinal/NIP_E3_NextYear_ic.pkl saved\n",
      "2025-04-30 14:08:34,498 - INFO - /home/hyungshin.lee/dbqm_data/input/dataFinal/KLCAIndustry.pkl saved\n",
      "2025-04-30 14:08:39,685 - INFO - /home/hyungshin.lee/dbqm_data/input/dataFinal/NetVol_Inst_20D.pkl saved\n",
      "2025-04-30 14:08:45,411 - INFO - /home/hyungshin.lee/dbqm_data/input/dataFinal/Dep_Amort_TQ_fs1.pkl saved\n",
      "2025-04-30 14:08:50,737 - INFO - /home/hyungshin.lee/dbqm_data/input/dataFinal/Dep_Amort_LQ_fs1.pkl saved\n",
      "2025-04-30 14:08:56,141 - INFO - /home/hyungshin.lee/dbqm_data/input/dataFinal/Dep_Amort_2LQ_fs1.pkl saved\n",
      "2025-04-30 14:09:01,481 - INFO - /home/hyungshin.lee/dbqm_data/input/dataFinal/Dep_Amort_3LQ_fs1.pkl saved\n",
      "2025-04-30 14:09:06,561 - INFO - /home/hyungshin.lee/dbqm_data/input/dataFinal/Int_Inc_TQ_fs1.pkl saved\n",
      "2025-04-30 14:09:11,750 - INFO - /home/hyungshin.lee/dbqm_data/input/dataFinal/Int_Inc_LQ_fs1.pkl saved\n",
      "2025-04-30 14:09:16,898 - INFO - /home/hyungshin.lee/dbqm_data/input/dataFinal/Int_Inc_2LQ_fs1.pkl saved\n",
      "2025-04-30 14:09:22,064 - INFO - /home/hyungshin.lee/dbqm_data/input/dataFinal/Int_Inc_3LQ_fs1.pkl saved\n",
      "2025-04-30 14:09:27,203 - INFO - /home/hyungshin.lee/dbqm_data/input/dataFinal/Int_Exp_TQ_fs1.pkl saved\n",
      "2025-04-30 14:09:32,239 - INFO - /home/hyungshin.lee/dbqm_data/input/dataFinal/Int_Exp_LQ_fs1.pkl saved\n",
      "2025-04-30 14:09:37,610 - INFO - /home/hyungshin.lee/dbqm_data/input/dataFinal/Int_Exp_2LQ_fs1.pkl saved\n",
      "2025-04-30 14:09:43,277 - INFO - /home/hyungshin.lee/dbqm_data/input/dataFinal/Int_Exp_3LQ_fs1.pkl saved\n",
      "2025-04-30 14:09:48,541 - INFO - /home/hyungshin.lee/dbqm_data/input/dataFinal/Div_fs1.pkl saved\n",
      "2025-04-30 14:09:55,307 - INFO - /home/hyungshin.lee/dbqm_data/input/dataFinal/Assets_TQ_fs1.pkl saved\n",
      "2025-04-30 14:10:03,162 - INFO - /home/hyungshin.lee/dbqm_data/input/dataFinal/Assets_LQ_fs1.pkl saved\n",
      "2025-04-30 14:10:10,597 - INFO - /home/hyungshin.lee/dbqm_data/input/dataFinal/Assets_2LQ_fs1.pkl saved\n",
      "2025-04-30 14:10:17,193 - INFO - /home/hyungshin.lee/dbqm_data/input/dataFinal/Assets_3LQ_fs1.pkl saved\n",
      "2025-04-30 14:10:24,238 - INFO - /home/hyungshin.lee/dbqm_data/input/dataFinal/TA_TQ_fs1.pkl saved\n",
      "2025-04-30 14:10:31,695 - INFO - /home/hyungshin.lee/dbqm_data/input/dataFinal/TA_LQ_fs1.pkl saved\n",
      "2025-04-30 14:10:39,138 - INFO - /home/hyungshin.lee/dbqm_data/input/dataFinal/TA_2LQ_fs1.pkl saved\n",
      "2025-04-30 14:10:46,450 - INFO - /home/hyungshin.lee/dbqm_data/input/dataFinal/TA_3LQ_fs1.pkl saved\n",
      "2025-04-30 14:10:53,260 - INFO - /home/hyungshin.lee/dbqm_data/input/dataFinal/Amt_Avg_20D.pkl saved\n",
      "2025-04-30 14:11:00,495 - INFO - /home/hyungshin.lee/dbqm_data/input/dataFinal/Num_EPS_ESts_E3.pkl saved\n",
      "2025-04-30 14:11:10,904 - INFO - /home/hyungshin.lee/dbqm_data/input/dataFinal/FG_IndustryGroup_Idx.pkl saved\n",
      "2025-04-30 14:11:21,006 - INFO - /home/hyungshin.lee/dbqm_data/input/dataFinal/KSECapSize.pkl saved\n"
     ]
    },
    {
     "name": "stdout",
     "output_type": "stream",
     "text": [
      "73521.3662724495 time consumed\n"
     ]
    }
   ],
   "source": [
    "stringSave = ['KLCAIndustry','KSECapSize', 'FG_IndustryGroup_Idx']\n",
    "\n",
    "for column in columns_to_save:\n",
    "    table_name = cols_dict.get(column)\n",
    "    df = datatable[table_name]\n",
    "    filename = output_dir+f'/dataFinal/{column}.pkl'\n",
    "    \n",
    "    # Convert column to numeric if it's not in the string_save list\n",
    "    if column not in stringSave:\n",
    "        df[column] = pd.to_numeric(df[column], errors='coerce')\n",
    "    \n",
    "    # Select relevant columns and save as pickle\n",
    "    df_to_save = df[['Dates', 'Symbol', 'Name', column]].drop_duplicates()\n",
    "    df_to_save.to_pickle(filename)\n",
    "    logging.info(f'{filename} saved')\n",
    "end = time.time()\n",
    "print(f'{end - start} time consumed')"
   ]
  },
  {
   "cell_type": "markdown",
   "id": "e7310567-6dd9-405f-bf99-516a92137f92",
   "metadata": {},
   "source": [
    "### 저장되어 있는 구조 보기"
   ]
  },
  {
   "cell_type": "code",
   "execution_count": null,
   "id": "b0f5b95f-203d-472c-8037-c4dcf24615ca",
   "metadata": {},
   "outputs": [],
   "source": []
  },
  {
   "cell_type": "code",
   "execution_count": 4,
   "id": "baad4bb4-9362-475a-9e2d-61e061e120f2",
   "metadata": {
    "execution": {
     "iopub.execute_input": "2025-04-30T05:20:25.403231Z",
     "iopub.status.busy": "2025-04-30T05:20:25.402679Z",
     "iopub.status.idle": "2025-04-30T05:20:27.036923Z",
     "shell.execute_reply": "2025-04-30T05:20:27.036049Z",
     "shell.execute_reply.started": "2025-04-30T05:20:25.403181Z"
    }
   },
   "outputs": [],
   "source": [
    "# df1 = pd.read_pickle(output_dir+'/dataFinal/AdjPrc.pkl') # 수정주가"
   ]
  },
  {
   "cell_type": "code",
   "execution_count": 5,
   "id": "c74e198f-3293-44b2-be53-657db58cbaf2",
   "metadata": {
    "execution": {
     "iopub.execute_input": "2025-04-30T05:20:27.038389Z",
     "iopub.status.busy": "2025-04-30T05:20:27.038171Z",
     "iopub.status.idle": "2025-04-30T05:20:27.052650Z",
     "shell.execute_reply": "2025-04-30T05:20:27.051990Z",
     "shell.execute_reply.started": "2025-04-30T05:20:27.038368Z"
    }
   },
   "outputs": [
    {
     "data": {
      "text/html": [
       "<div>\n",
       "<style scoped>\n",
       "    .dataframe tbody tr th:only-of-type {\n",
       "        vertical-align: middle;\n",
       "    }\n",
       "\n",
       "    .dataframe tbody tr th {\n",
       "        vertical-align: top;\n",
       "    }\n",
       "\n",
       "    .dataframe thead th {\n",
       "        text-align: right;\n",
       "    }\n",
       "</style>\n",
       "<table border=\"1\" class=\"dataframe\">\n",
       "  <thead>\n",
       "    <tr style=\"text-align: right;\">\n",
       "      <th></th>\n",
       "      <th>Dates</th>\n",
       "      <th>Symbol</th>\n",
       "      <th>Name</th>\n",
       "      <th>AdjPrc</th>\n",
       "    </tr>\n",
       "  </thead>\n",
       "  <tbody>\n",
       "    <tr>\n",
       "      <th>4509467</th>\n",
       "      <td>2025-04-23</td>\n",
       "      <td>A900140</td>\n",
       "      <td>엘브이엠씨홀딩스</td>\n",
       "      <td>1746.0</td>\n",
       "    </tr>\n",
       "    <tr>\n",
       "      <th>4509468</th>\n",
       "      <td>2025-04-23</td>\n",
       "      <td>A950010</td>\n",
       "      <td>평산차업 KDR</td>\n",
       "      <td>NaN</td>\n",
       "    </tr>\n",
       "    <tr>\n",
       "      <th>4509469</th>\n",
       "      <td>2025-04-23</td>\n",
       "      <td>A950070</td>\n",
       "      <td>중국고섬</td>\n",
       "      <td>NaN</td>\n",
       "    </tr>\n",
       "    <tr>\n",
       "      <th>4509470</th>\n",
       "      <td>2025-04-23</td>\n",
       "      <td>A950100</td>\n",
       "      <td>SBI모기지</td>\n",
       "      <td>NaN</td>\n",
       "    </tr>\n",
       "    <tr>\n",
       "      <th>4509471</th>\n",
       "      <td>2025-04-23</td>\n",
       "      <td>A950210</td>\n",
       "      <td>프레스티지바이오파마</td>\n",
       "      <td>15200.0</td>\n",
       "    </tr>\n",
       "  </tbody>\n",
       "</table>\n",
       "</div>"
      ],
      "text/plain": [
       "             Dates   Symbol        Name   AdjPrc\n",
       "4509467 2025-04-23  A900140    엘브이엠씨홀딩스   1746.0\n",
       "4509468 2025-04-23  A950010    평산차업 KDR      NaN\n",
       "4509469 2025-04-23  A950070        중국고섬      NaN\n",
       "4509470 2025-04-23  A950100      SBI모기지      NaN\n",
       "4509471 2025-04-23  A950210  프레스티지바이오파마  15200.0"
      ]
     },
     "execution_count": 5,
     "metadata": {},
     "output_type": "execute_result"
    }
   ],
   "source": [
    "# df1.tail()"
   ]
  },
  {
   "cell_type": "code",
   "execution_count": null,
   "id": "caf2479d-31ef-46d6-b833-e13782e070cf",
   "metadata": {},
   "outputs": [],
   "source": []
  },
  {
   "cell_type": "code",
   "execution_count": 6,
   "id": "c9828433-7101-47fa-bdaa-37fbd36789c2",
   "metadata": {
    "execution": {
     "iopub.execute_input": "2025-04-30T05:20:27.053476Z",
     "iopub.status.busy": "2025-04-30T05:20:27.053281Z",
     "iopub.status.idle": "2025-04-30T05:20:28.678269Z",
     "shell.execute_reply": "2025-04-30T05:20:28.677165Z",
     "shell.execute_reply.started": "2025-04-30T05:20:27.053457Z"
    }
   },
   "outputs": [],
   "source": [
    "# df2 = pd.read_pickle(output_dir+'/dataFinal/MktCap.pkl') # 시가총액"
   ]
  },
  {
   "cell_type": "code",
   "execution_count": 7,
   "id": "274fe522-e52e-4b2d-99d8-447150eb1c88",
   "metadata": {
    "execution": {
     "iopub.execute_input": "2025-04-30T05:20:28.679724Z",
     "iopub.status.busy": "2025-04-30T05:20:28.679535Z",
     "iopub.status.idle": "2025-04-30T05:20:28.687847Z",
     "shell.execute_reply": "2025-04-30T05:20:28.687228Z",
     "shell.execute_reply.started": "2025-04-30T05:20:28.679707Z"
    }
   },
   "outputs": [
    {
     "data": {
      "text/html": [
       "<div>\n",
       "<style scoped>\n",
       "    .dataframe tbody tr th:only-of-type {\n",
       "        vertical-align: middle;\n",
       "    }\n",
       "\n",
       "    .dataframe tbody tr th {\n",
       "        vertical-align: top;\n",
       "    }\n",
       "\n",
       "    .dataframe thead th {\n",
       "        text-align: right;\n",
       "    }\n",
       "</style>\n",
       "<table border=\"1\" class=\"dataframe\">\n",
       "  <thead>\n",
       "    <tr style=\"text-align: right;\">\n",
       "      <th></th>\n",
       "      <th>Dates</th>\n",
       "      <th>Symbol</th>\n",
       "      <th>Name</th>\n",
       "      <th>MktCap</th>\n",
       "    </tr>\n",
       "  </thead>\n",
       "  <tbody>\n",
       "    <tr>\n",
       "      <th>4509467</th>\n",
       "      <td>2025-04-23</td>\n",
       "      <td>A900140</td>\n",
       "      <td>엘브이엠씨홀딩스</td>\n",
       "      <td>299593.0</td>\n",
       "    </tr>\n",
       "    <tr>\n",
       "      <th>4509468</th>\n",
       "      <td>2025-04-23</td>\n",
       "      <td>A950010</td>\n",
       "      <td>평산차업 KDR</td>\n",
       "      <td>NaN</td>\n",
       "    </tr>\n",
       "    <tr>\n",
       "      <th>4509469</th>\n",
       "      <td>2025-04-23</td>\n",
       "      <td>A950070</td>\n",
       "      <td>중국고섬</td>\n",
       "      <td>NaN</td>\n",
       "    </tr>\n",
       "    <tr>\n",
       "      <th>4509470</th>\n",
       "      <td>2025-04-23</td>\n",
       "      <td>A950100</td>\n",
       "      <td>SBI모기지</td>\n",
       "      <td>NaN</td>\n",
       "    </tr>\n",
       "    <tr>\n",
       "      <th>4509471</th>\n",
       "      <td>2025-04-23</td>\n",
       "      <td>A950210</td>\n",
       "      <td>프레스티지바이오파마</td>\n",
       "      <td>913462.0</td>\n",
       "    </tr>\n",
       "  </tbody>\n",
       "</table>\n",
       "</div>"
      ],
      "text/plain": [
       "             Dates   Symbol        Name    MktCap\n",
       "4509467 2025-04-23  A900140    엘브이엠씨홀딩스  299593.0\n",
       "4509468 2025-04-23  A950010    평산차업 KDR       NaN\n",
       "4509469 2025-04-23  A950070        중국고섬       NaN\n",
       "4509470 2025-04-23  A950100      SBI모기지       NaN\n",
       "4509471 2025-04-23  A950210  프레스티지바이오파마  913462.0"
      ]
     },
     "execution_count": 7,
     "metadata": {},
     "output_type": "execute_result"
    }
   ],
   "source": [
    "# df2.tail()"
   ]
  },
  {
   "cell_type": "code",
   "execution_count": null,
   "id": "dab19de9-213f-4d72-9c23-968b29c0d06c",
   "metadata": {},
   "outputs": [],
   "source": []
  },
  {
   "cell_type": "code",
   "execution_count": null,
   "id": "b5bbbd10-2987-4eb2-b3bb-18ffc5665f01",
   "metadata": {},
   "outputs": [],
   "source": []
  },
  {
   "cell_type": "code",
   "execution_count": null,
   "id": "8f3888ee-50bb-450f-9b11-aaa5a9887cb1",
   "metadata": {},
   "outputs": [],
   "source": []
  },
  {
   "cell_type": "markdown",
   "id": "b0e9d79b-fd42-4ce0-9978-31aa0b00b06a",
   "metadata": {},
   "source": [
    "### 지수비중 데이터"
   ]
  },
  {
   "cell_type": "code",
   "execution_count": 8,
   "id": "347163d8-77f4-46b6-a898-8fd1b4c8abac",
   "metadata": {
    "execution": {
     "iopub.execute_input": "2025-04-30T05:20:28.688490Z",
     "iopub.status.busy": "2025-04-30T05:20:28.688326Z",
     "iopub.status.idle": "2025-04-30T05:21:41.403551Z",
     "shell.execute_reply": "2025-04-30T05:21:41.402723Z",
     "shell.execute_reply.started": "2025-04-30T05:20:28.688474Z"
    },
    "tags": []
   },
   "outputs": [],
   "source": [
    "dsn = cx_Oracle.makedsn('192.168.1.5', '1521', service_name = 'ORA11')\n",
    "con = cx_Oracle.connect('dbam', 'dbamkass', dsn = dsn, encoding=\"UTF-8\")\n",
    "cur = con.cursor()\n",
    "\n",
    "sql_k200 = \" select 일자, 종목코드2 종목코드, 종목명_국문 종목명, 당일가격, 지수내비중, 상장주식수, 유동비율, \\\n",
    "            지수주식수, 지수시가총액 \\\n",
    "             from KASS1.TH068 \\\n",
    "             where 익일적용여부 ='NXT' \\\n",
    "             and ISIN = 'KRD020020016' \\\n",
    "             order by 지수내비중 desc \"\n",
    "\n",
    "cur.execute(sql_k200)\n",
    "indexCap = pd.DataFrame(cur.fetchall(), columns = [x[0] for x in cur.description])\n",
    "\n",
    "indexCap['일자']=pd.to_datetime(indexCap['일자'], format ='%Y%m%d')\n",
    "indexCap.set_index(['일자', '종목코드'], inplace=True)\n",
    "indexCap.index.names=['Dates', 'Symbol']\n",
    "indexCap.columns=['name', 'close', 'idx_weight', 'num_shares', 'float_rate', 'idx_num_shares', 'idx_cap']\n",
    "# indexCap.to_pickle('./data/all_data2407temp/indexCapTotal.pkl')"
   ]
  },
  {
   "cell_type": "code",
   "execution_count": 9,
   "id": "8f046e2a-7f9f-4572-8210-7e3249529ffc",
   "metadata": {
    "execution": {
     "iopub.execute_input": "2025-04-30T05:21:41.404603Z",
     "iopub.status.busy": "2025-04-30T05:21:41.404395Z",
     "iopub.status.idle": "2025-04-30T05:21:41.583145Z",
     "shell.execute_reply": "2025-04-30T05:21:41.582175Z",
     "shell.execute_reply.started": "2025-04-30T05:21:41.404584Z"
    }
   },
   "outputs": [],
   "source": [
    "indexCap.to_pickle(output_dir+'/dataFinal/indexCapTotal.pkl')"
   ]
  },
  {
   "cell_type": "code",
   "execution_count": 10,
   "id": "241111a5-a15a-4530-ae10-8ee654c41bb8",
   "metadata": {
    "execution": {
     "iopub.execute_input": "2025-04-30T05:21:41.584181Z",
     "iopub.status.busy": "2025-04-30T05:21:41.583972Z",
     "iopub.status.idle": "2025-04-30T05:21:41.596699Z",
     "shell.execute_reply": "2025-04-30T05:21:41.596033Z",
     "shell.execute_reply.started": "2025-04-30T05:21:41.584162Z"
    }
   },
   "outputs": [
    {
     "data": {
      "text/html": [
       "<div>\n",
       "<style scoped>\n",
       "    .dataframe tbody tr th:only-of-type {\n",
       "        vertical-align: middle;\n",
       "    }\n",
       "\n",
       "    .dataframe tbody tr th {\n",
       "        vertical-align: top;\n",
       "    }\n",
       "\n",
       "    .dataframe thead th {\n",
       "        text-align: right;\n",
       "    }\n",
       "</style>\n",
       "<table border=\"1\" class=\"dataframe\">\n",
       "  <thead>\n",
       "    <tr style=\"text-align: right;\">\n",
       "      <th></th>\n",
       "      <th></th>\n",
       "      <th>name</th>\n",
       "      <th>close</th>\n",
       "      <th>idx_weight</th>\n",
       "      <th>num_shares</th>\n",
       "      <th>float_rate</th>\n",
       "      <th>idx_num_shares</th>\n",
       "      <th>idx_cap</th>\n",
       "    </tr>\n",
       "    <tr>\n",
       "      <th>Dates</th>\n",
       "      <th>Symbol</th>\n",
       "      <th></th>\n",
       "      <th></th>\n",
       "      <th></th>\n",
       "      <th></th>\n",
       "      <th></th>\n",
       "      <th></th>\n",
       "      <th></th>\n",
       "    </tr>\n",
       "  </thead>\n",
       "  <tbody>\n",
       "    <tr>\n",
       "      <th rowspan=\"2\" valign=\"top\">2016-07-12</th>\n",
       "      <th>A000140</th>\n",
       "      <td>하이트진로홀딩스보통주</td>\n",
       "      <td>14000</td>\n",
       "      <td>0.01</td>\n",
       "      <td>23206765</td>\n",
       "      <td>0.3</td>\n",
       "      <td>23206765</td>\n",
       "      <td>97468413000</td>\n",
       "    </tr>\n",
       "    <tr>\n",
       "      <th>A004700</th>\n",
       "      <td>조광피혁보통주</td>\n",
       "      <td>43650</td>\n",
       "      <td>0.01</td>\n",
       "      <td>6649138</td>\n",
       "      <td>0.3</td>\n",
       "      <td>6649138</td>\n",
       "      <td>87070462110</td>\n",
       "    </tr>\n",
       "    <tr>\n",
       "      <th rowspan=\"2\" valign=\"top\">2016-07-13</th>\n",
       "      <th>A000140</th>\n",
       "      <td>하이트진로홀딩스보통주</td>\n",
       "      <td>13850</td>\n",
       "      <td>0.01</td>\n",
       "      <td>23206765</td>\n",
       "      <td>0.3</td>\n",
       "      <td>23206765</td>\n",
       "      <td>96424108575</td>\n",
       "    </tr>\n",
       "    <tr>\n",
       "      <th>A004700</th>\n",
       "      <td>조광피혁보통주</td>\n",
       "      <td>43950</td>\n",
       "      <td>0.01</td>\n",
       "      <td>6649138</td>\n",
       "      <td>0.3</td>\n",
       "      <td>6649138</td>\n",
       "      <td>87668884530</td>\n",
       "    </tr>\n",
       "    <tr>\n",
       "      <th>2016-07-14</th>\n",
       "      <th>A000140</th>\n",
       "      <td>하이트진로홀딩스보통주</td>\n",
       "      <td>13700</td>\n",
       "      <td>0.01</td>\n",
       "      <td>23206765</td>\n",
       "      <td>0.3</td>\n",
       "      <td>23206765</td>\n",
       "      <td>95379804150</td>\n",
       "    </tr>\n",
       "  </tbody>\n",
       "</table>\n",
       "</div>"
      ],
      "text/plain": [
       "                           name  close  idx_weight  num_shares  float_rate  \\\n",
       "Dates      Symbol                                                            \n",
       "2016-07-12 A000140  하이트진로홀딩스보통주  14000        0.01    23206765         0.3   \n",
       "           A004700      조광피혁보통주  43650        0.01     6649138         0.3   \n",
       "2016-07-13 A000140  하이트진로홀딩스보통주  13850        0.01    23206765         0.3   \n",
       "           A004700      조광피혁보통주  43950        0.01     6649138         0.3   \n",
       "2016-07-14 A000140  하이트진로홀딩스보통주  13700        0.01    23206765         0.3   \n",
       "\n",
       "                    idx_num_shares      idx_cap  \n",
       "Dates      Symbol                                \n",
       "2016-07-12 A000140        23206765  97468413000  \n",
       "           A004700         6649138  87070462110  \n",
       "2016-07-13 A000140        23206765  96424108575  \n",
       "           A004700         6649138  87668884530  \n",
       "2016-07-14 A000140        23206765  95379804150  "
      ]
     },
     "execution_count": 10,
     "metadata": {},
     "output_type": "execute_result"
    }
   ],
   "source": [
    "indexCap.tail()"
   ]
  },
  {
   "cell_type": "markdown",
   "id": "0eaf9185-ea61-4081-8791-abcd6138aa0b",
   "metadata": {},
   "source": [
    "### ESG 데이터"
   ]
  },
  {
   "cell_type": "code",
   "execution_count": 11,
   "id": "c08edb48-38fe-41e6-a6c1-8dfb2e485d43",
   "metadata": {
    "execution": {
     "iopub.execute_input": "2025-04-30T05:21:41.597635Z",
     "iopub.status.busy": "2025-04-30T05:21:41.597428Z",
     "iopub.status.idle": "2025-04-30T05:21:41.610062Z",
     "shell.execute_reply": "2025-04-30T05:21:41.608958Z",
     "shell.execute_reply.started": "2025-04-30T05:21:41.597615Z"
    },
    "tags": []
   },
   "outputs": [],
   "source": [
    "# esg_raw = pd.read_excel('esg to data.xlsx')\n",
    "# esg_raw.iloc[0,].fillna(method='ffill',inplace=True)\n",
    "# col_list = ['종목명', 'ASymbol', '등급', '등급_전체']\n",
    "# cols = []\n",
    "# for col in esg_raw.columns:\n",
    "#     for tocol in col_list:\n",
    "#         if  esg_raw[col].isin([tocol]).any():\n",
    "#             cols.append(col)\n",
    "# esg_raw = esg_raw[cols]\n",
    "# # esg_raw = esg_raw.drop(0)\n",
    "# esg_raw = esg_raw.drop([0,1])\n",
    "# esg_raw.columns = ['Name', 'Symbol'] + esg_raw.columns[2:].tolist()\n",
    "# esg_raw = esg_raw.set_index(['Symbol','Name'])\n",
    "# cols = []\n",
    "# for col in esg_raw.columns:\n",
    "#     col = str(col)\n",
    "#     col_tmp = col.replace('_','')[2:]\n",
    "#     col_tmp1 = col_tmp[2:4]\n",
    "#     col_tmp2 = col_tmp[0:2]\n",
    "#     col_tmp = col_tmp1 + col_tmp2\n",
    "#     cols.append(col_tmp)        \n",
    "# esg_raw.columns = cols\n",
    "# # create a excel writer object\n",
    "# with pd.ExcelWriter(\"./dataFinal/esg_temp.xlsx\") as writer:\n",
    "#     for col in esg_raw.columns:\n",
    "#         esg_raw[col].to_excel(writer, sheet_name=col)"
   ]
  },
  {
   "cell_type": "code",
   "execution_count": null,
   "id": "c26898d0-0d00-4714-8bbf-6f91b379d3a9",
   "metadata": {},
   "outputs": [],
   "source": []
  },
  {
   "cell_type": "code",
   "execution_count": null,
   "id": "ba96b5aa-49ee-42a5-87d5-f0ee7dff1490",
   "metadata": {},
   "outputs": [],
   "source": []
  },
  {
   "cell_type": "code",
   "execution_count": null,
   "id": "df133973-a367-4413-a20f-4c0d61d55e3c",
   "metadata": {},
   "outputs": [],
   "source": []
  },
  {
   "cell_type": "code",
   "execution_count": null,
   "id": "43b17536-4b3c-4fa8-8de6-ba97ebcfa6d5",
   "metadata": {},
   "outputs": [],
   "source": []
  }
 ],
 "metadata": {
  "kernelspec": {
   "display_name": "base",
   "language": "python",
   "name": "python3"
  },
  "language_info": {
   "codemirror_mode": {
    "name": "ipython",
    "version": 3
   },
   "file_extension": ".py",
   "mimetype": "text/x-python",
   "name": "python",
   "nbconvert_exporter": "python",
   "pygments_lexer": "ipython3",
   "version": "3.11.4"
  }
 },
 "nbformat": 4,
 "nbformat_minor": 5
}
