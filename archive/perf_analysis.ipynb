{
 "cells": [
  {
   "cell_type": "code",
   "execution_count": 1,
   "id": "524adb09-f3d1-4d2b-87a1-a79eb5a3a0a1",
   "metadata": {
    "execution": {
     "iopub.execute_input": "2024-01-10T08:54:21.051790Z",
     "iopub.status.busy": "2024-01-10T08:54:21.051548Z",
     "iopub.status.idle": "2024-01-10T08:54:21.467229Z",
     "shell.execute_reply": "2024-01-10T08:54:21.466281Z",
     "shell.execute_reply.started": "2024-01-10T08:54:21.051764Z"
    },
    "tags": []
   },
   "outputs": [],
   "source": [
    "import pandas as pd\n",
    "import numpy as np"
   ]
  },
  {
   "cell_type": "code",
   "execution_count": 2,
   "id": "a858f046-76e1-4587-be82-4e7078b9ac42",
   "metadata": {
    "execution": {
     "iopub.execute_input": "2024-01-10T08:54:21.468426Z",
     "iopub.status.busy": "2024-01-10T08:54:21.468080Z",
     "iopub.status.idle": "2024-01-10T08:54:21.602361Z",
     "shell.execute_reply": "2024-01-10T08:54:21.601111Z",
     "shell.execute_reply.started": "2024-01-10T08:54:21.468401Z"
    },
    "tags": []
   },
   "outputs": [],
   "source": [
    "from sqlalchemy import create_engine, text"
   ]
  },
  {
   "cell_type": "code",
   "execution_count": 3,
   "id": "68ddc0df-ca60-4099-b7fa-1b264a52f247",
   "metadata": {
    "execution": {
     "iopub.execute_input": "2024-01-10T08:54:21.603569Z",
     "iopub.status.busy": "2024-01-10T08:54:21.603262Z",
     "iopub.status.idle": "2024-01-10T08:54:21.608123Z",
     "shell.execute_reply": "2024-01-10T08:54:21.607313Z",
     "shell.execute_reply.started": "2024-01-10T08:54:21.603540Z"
    },
    "tags": []
   },
   "outputs": [],
   "source": [
    "import cx_Oracle\n",
    "import os\n",
    "os.putenv(' NLS_LANG', '.UTF8')"
   ]
  },
  {
   "cell_type": "code",
   "execution_count": 4,
   "id": "bb430120-2843-4a4d-b0a4-c61cf78cb35d",
   "metadata": {
    "execution": {
     "iopub.execute_input": "2024-01-10T08:54:21.610056Z",
     "iopub.status.busy": "2024-01-10T08:54:21.609823Z",
     "iopub.status.idle": "2024-01-10T08:54:22.441067Z",
     "shell.execute_reply": "2024-01-10T08:54:22.440285Z",
     "shell.execute_reply.started": "2024-01-10T08:54:21.610033Z"
    },
    "tags": []
   },
   "outputs": [],
   "source": [
    "# import matplotlib.pyplot as plt\n",
    "from matplotlib import pyplot as plt\n",
    "import seaborn as sns\n"
   ]
  },
  {
   "cell_type": "code",
   "execution_count": 5,
   "id": "4ed99084-4088-4654-8eab-10d129a8d69d",
   "metadata": {
    "execution": {
     "iopub.execute_input": "2024-01-10T08:54:22.442646Z",
     "iopub.status.busy": "2024-01-10T08:54:22.442281Z",
     "iopub.status.idle": "2024-01-10T08:54:22.460249Z",
     "shell.execute_reply": "2024-01-10T08:54:22.459140Z",
     "shell.execute_reply.started": "2024-01-10T08:54:22.442618Z"
    },
    "tags": []
   },
   "outputs": [],
   "source": [
    "pd.options.plotting.backend = \"plotly\"\n"
   ]
  },
  {
   "cell_type": "code",
   "execution_count": null,
   "id": "5015ffd1-ef93-4941-aa31-dd8886e6fa5a",
   "metadata": {},
   "outputs": [],
   "source": []
  },
  {
   "cell_type": "code",
   "execution_count": 6,
   "id": "8bdfa112-5b71-4084-bb9f-85861534cca1",
   "metadata": {
    "execution": {
     "iopub.execute_input": "2024-01-10T08:54:22.461236Z",
     "iopub.status.busy": "2024-01-10T08:54:22.460978Z",
     "iopub.status.idle": "2024-01-10T08:54:22.495739Z",
     "shell.execute_reply": "2024-01-10T08:54:22.494684Z",
     "shell.execute_reply.started": "2024-01-10T08:54:22.461212Z"
    },
    "tags": []
   },
   "outputs": [],
   "source": [
    "dsn = cx_Oracle.makedsn('192.168.1.5', '1521', service_name = 'ORA11')\n",
    "con = cx_Oracle.connect('dbam', 'dbamkass', dsn = dsn, encoding=\"UTF-8\")\n",
    "cur = con.cursor()"
   ]
  },
  {
   "cell_type": "code",
   "execution_count": 7,
   "id": "ad40b12d-0795-4906-ac4f-eddfcf137bcd",
   "metadata": {
    "execution": {
     "iopub.execute_input": "2024-01-10T08:54:22.497452Z",
     "iopub.status.busy": "2024-01-10T08:54:22.497029Z",
     "iopub.status.idle": "2024-01-10T08:57:44.536625Z",
     "shell.execute_reply": "2024-01-10T08:57:44.535623Z",
     "shell.execute_reply.started": "2024-01-10T08:54:22.497411Z"
    },
    "tags": []
   },
   "outputs": [
    {
     "name": "stderr",
     "output_type": "stream",
     "text": [
      "<ipython-input-7-c380e1fc735c>:15: FutureWarning: In a future version of pandas all arguments of DataFrame.sort_index will be keyword-only.\n",
      "  k200_df=k200_df.sort_index(0)\n"
     ]
    }
   ],
   "source": [
    "sql_k200 = \" select 일자, 종목코드2 종목코드, 종목명_국문 종목명, 당일가격, 지수내비중, 상장주식수, 유동비율, \\\n",
    "            지수주식수, 지수시가총액 \\\n",
    "             from KASS1.TH068 \\\n",
    "             where 익일적용여부 ='NXT' \\\n",
    "             and ISIN = 'KRD020020016' \\\n",
    "             order by 지수내비중 desc \"\n",
    "\n",
    "cur.execute(sql_k200)\n",
    "k200_df = pd.DataFrame(cur.fetchall(), columns = [x[0] for x in cur.description])\n",
    "\n",
    "k200_df['일자']=pd.to_datetime(k200_df['일자'], format ='%Y%m%d')\n",
    "k200_df.set_index(['일자', '종목코드'], inplace=True)\n",
    "k200_df.index.names=['Dates', 'Symbol']\n",
    "k200_df.columns=['name', 'close', 'idx_weight', 'num_shares', 'float_rate', 'idx_num_shares', 'idx_cap']\n",
    "k200_df=k200_df.sort_index(0)"
   ]
  },
  {
   "cell_type": "code",
   "execution_count": null,
   "id": "2c5f4f85-c692-4490-971f-60d480ce7954",
   "metadata": {
    "tags": []
   },
   "outputs": [],
   "source": []
  },
  {
   "cell_type": "code",
   "execution_count": 8,
   "id": "a307e1b5-7722-4299-a076-44b4b0edc861",
   "metadata": {
    "execution": {
     "iopub.execute_input": "2024-01-10T08:57:44.537795Z",
     "iopub.status.busy": "2024-01-10T08:57:44.537532Z",
     "iopub.status.idle": "2024-01-10T08:57:44.584918Z",
     "shell.execute_reply": "2024-01-10T08:57:44.583820Z",
     "shell.execute_reply.started": "2024-01-10T08:57:44.537770Z"
    },
    "tags": []
   },
   "outputs": [],
   "source": [
    "host = '192.168.1.27'\n",
    "port = '3306'\n",
    "db_name = 'quantdb_maria'\n",
    "username = 'quantdb'\n",
    "password = 'QuantDb2023!'\n",
    "\n",
    "engine = create_engine(\"mysql+pymysql://\" + username + \":\" + password + \"@\" + host + \":\" + port + \"/\" + db_name)\n",
    "conn=engine.connect()"
   ]
  },
  {
   "cell_type": "code",
   "execution_count": 9,
   "id": "5b53e096-64c8-406e-9fe7-8b4272ed87b3",
   "metadata": {
    "execution": {
     "iopub.execute_input": "2024-01-10T08:57:44.587277Z",
     "iopub.status.busy": "2024-01-10T08:57:44.586549Z",
     "iopub.status.idle": "2024-01-10T08:57:44.591887Z",
     "shell.execute_reply": "2024-01-10T08:57:44.590715Z",
     "shell.execute_reply.started": "2024-01-10T08:57:44.587221Z"
    },
    "tags": []
   },
   "outputs": [],
   "source": [
    "period1='2023-01-01'\n",
    "period2='2023-12-28'"
   ]
  },
  {
   "cell_type": "code",
   "execution_count": 10,
   "id": "d87bc7af-1ee0-46e6-91cd-eb43169569db",
   "metadata": {
    "execution": {
     "iopub.execute_input": "2024-01-10T08:57:44.593914Z",
     "iopub.status.busy": "2024-01-10T08:57:44.593409Z",
     "iopub.status.idle": "2024-01-10T08:58:18.384219Z",
     "shell.execute_reply": "2024-01-10T08:58:18.383336Z",
     "shell.execute_reply.started": "2024-01-10T08:57:44.593864Z"
    },
    "tags": []
   },
   "outputs": [],
   "source": [
    "query_SSC=f\"select * from SSC_table_Bak where Dates>='{period1}' and Dates<='{period2}'\"\n",
    "data_SSC=pd.read_sql(query_SSC, conn)"
   ]
  },
  {
   "cell_type": "code",
   "execution_count": null,
   "id": "d53dad10-ab85-4b2f-84ae-371b1f5aac17",
   "metadata": {},
   "outputs": [],
   "source": [
    "data_SSC.set_index(['Dates','Symbol'], inplace=True)"
   ]
  },
  {
   "cell_type": "code",
   "execution_count": 11,
   "id": "a06df4ef-de65-428c-8204-469f19c1ff7a",
   "metadata": {
    "execution": {
     "iopub.execute_input": "2024-01-10T08:58:18.385455Z",
     "iopub.status.busy": "2024-01-10T08:58:18.385217Z",
     "iopub.status.idle": "2024-01-10T08:58:18.392204Z",
     "shell.execute_reply": "2024-01-10T08:58:18.391610Z",
     "shell.execute_reply.started": "2024-01-10T08:58:18.385433Z"
    },
    "tags": []
   },
   "outputs": [
    {
     "data": {
      "text/plain": [
       "Index(['Dates', 'Symbol', 'Name', 'MNGT', 'ClosePrc', 'OpenPrc', 'HighPrc',\n",
       "       'LowPrc', 'AdjPrc', 'AdjPrc2', 'AdjPrc_High_20D', 'AdjPrc_Low_20D',\n",
       "       'AdjPrc_High_60D', 'AdjPrc_Low_60D', 'AdjPrc_High_120D',\n",
       "       'AdjPrc_Low_120D', 'AdjPrc_High_52W', 'AdjPrc_Low_52W', 'ListedShares',\n",
       "       'ForeignStake', 'TradeStop', 'MktCap_Comm_Pref', 'MktCapCom', 'MktCap',\n",
       "       'Volume', 'Volume_Avg_20D', 'Volume_Avg_60D', 'Volume_Avg_120D',\n",
       "       'Volume_Avg_52W', 'Amt_Avg_20D', 'Amt_Avg_60D', 'Amt_Avg_120D',\n",
       "       'Amt_Avg_52W', 'Vol_20D', 'Vol_120D'],\n",
       "      dtype='object')"
      ]
     },
     "execution_count": 11,
     "metadata": {},
     "output_type": "execute_result"
    }
   ],
   "source": [
    "data_SSC.columns"
   ]
  },
  {
   "cell_type": "code",
   "execution_count": null,
   "id": "33be0b92-94d0-4810-bae9-a79abf8f1299",
   "metadata": {},
   "outputs": [],
   "source": []
  },
  {
   "cell_type": "code",
   "execution_count": 12,
   "id": "dd83e259-6cca-4dfc-ab7e-a03da2d8d011",
   "metadata": {
    "execution": {
     "iopub.execute_input": "2024-01-10T08:58:18.393060Z",
     "iopub.status.busy": "2024-01-10T08:58:18.392863Z",
     "iopub.status.idle": "2024-01-10T08:58:40.812633Z",
     "shell.execute_reply": "2024-01-10T08:58:40.811342Z",
     "shell.execute_reply.started": "2024-01-10T08:58:18.393032Z"
    },
    "tags": []
   },
   "outputs": [],
   "source": [
    "query_COM=f\"select * from COM_table_Bak where Dates>='{period1}' and Dates<='{period2}'\"\n",
    "data_COM=pd.read_sql(query_COM, conn)"
   ]
  },
  {
   "cell_type": "code",
   "execution_count": 13,
   "id": "55c7f65b-79f1-4c5a-ae1b-b32a561038e6",
   "metadata": {
    "execution": {
     "iopub.execute_input": "2024-01-10T08:58:40.813737Z",
     "iopub.status.busy": "2024-01-10T08:58:40.813501Z",
     "iopub.status.idle": "2024-01-10T08:58:40.854672Z",
     "shell.execute_reply": "2024-01-10T08:58:40.853600Z",
     "shell.execute_reply.started": "2024-01-10T08:58:40.813716Z"
    },
    "tags": []
   },
   "outputs": [],
   "source": [
    "data_COM.set_index(['Dates','Symbol'], inplace=True)"
   ]
  },
  {
   "cell_type": "code",
   "execution_count": 14,
   "id": "231a03ff-0a56-4c26-8e24-364d07d77cb7",
   "metadata": {
    "execution": {
     "iopub.execute_input": "2024-01-10T08:58:40.855608Z",
     "iopub.status.busy": "2024-01-10T08:58:40.855396Z",
     "iopub.status.idle": "2024-01-10T08:58:40.859870Z",
     "shell.execute_reply": "2024-01-10T08:58:40.859266Z",
     "shell.execute_reply.started": "2024-01-10T08:58:40.855588Z"
    },
    "tags": []
   },
   "outputs": [
    {
     "data": {
      "text/plain": [
       "Index(['Name', 'KC_Industry', 'FG_IndustryGroup27', 'FG_Sector_Idx',\n",
       "       'FG_IndustryGroup_Idx', 'FG_Industry_Idx', 'AuditOpinion', 'Caution',\n",
       "       'KSECapSize', 'KLCAIndustry', 'Market', 'KOSPI200YN', 'FiscalMonth'],\n",
       "      dtype='object')"
      ]
     },
     "execution_count": 14,
     "metadata": {},
     "output_type": "execute_result"
    }
   ],
   "source": [
    "data_COM.columns"
   ]
  },
  {
   "cell_type": "code",
   "execution_count": 15,
   "id": "47189061-3857-4d9c-80a5-a9e1b47b9fd4",
   "metadata": {
    "execution": {
     "iopub.execute_input": "2024-01-10T08:58:40.860802Z",
     "iopub.status.busy": "2024-01-10T08:58:40.860587Z",
     "iopub.status.idle": "2024-01-10T08:58:41.795199Z",
     "shell.execute_reply": "2024-01-10T08:58:41.793955Z",
     "shell.execute_reply.started": "2024-01-10T08:58:40.860781Z"
    },
    "tags": []
   },
   "outputs": [],
   "source": [
    "data_COM_nodup=data_COM.loc[~data_COM.index.duplicated(keep='first')].copy()\n",
    "data_SSC_nodup=data_SSC.loc[~data_SSC.index.duplicated(keep='first')].copy()\n",
    "# data_CIA_nodup=data_CIA.loc[~data_CIA.index.duplicated(keep='first')].copy()\n",
    "# data_IFRS_nodup=data_IFRS.loc[~data_IFRS.index.duplicated(keep='first')].copy()\n",
    "# data_CON_nodup=data_CON.loc[~data_CON.index.duplicated(keep='first')].copy()"
   ]
  },
  {
   "cell_type": "code",
   "execution_count": 16,
   "id": "10ce9fec-dcf9-4cad-83e1-8e0e2b11ebe7",
   "metadata": {
    "execution": {
     "iopub.execute_input": "2024-01-10T08:58:41.796385Z",
     "iopub.status.busy": "2024-01-10T08:58:41.796149Z",
     "iopub.status.idle": "2024-01-10T08:58:41.854148Z",
     "shell.execute_reply": "2024-01-10T08:58:41.853480Z",
     "shell.execute_reply.started": "2024-01-10T08:58:41.796364Z"
    },
    "tags": []
   },
   "outputs": [],
   "source": [
    "k200comp=data_COM_nodup['KOSPI200YN'].unstack()"
   ]
  },
  {
   "cell_type": "code",
   "execution_count": null,
   "id": "fe822644-c9a8-4d2f-a8d9-a37d6a047274",
   "metadata": {},
   "outputs": [],
   "source": []
  },
  {
   "cell_type": "code",
   "execution_count": null,
   "id": "0d0bca29-3cf9-41dc-ba00-943a0fba2fa0",
   "metadata": {},
   "outputs": [],
   "source": [
    "data_SSC_nodup.set_index(['Dates', 'Symbol'], inplace=True)"
   ]
  },
  {
   "cell_type": "code",
   "execution_count": 17,
   "id": "49cd8447-1a15-4dad-a568-df8b8026a843",
   "metadata": {
    "execution": {
     "iopub.execute_input": "2024-01-10T08:58:41.855097Z",
     "iopub.status.busy": "2024-01-10T08:58:41.854896Z",
     "iopub.status.idle": "2024-01-10T08:58:42.655767Z",
     "shell.execute_reply": "2024-01-10T08:58:42.654555Z",
     "shell.execute_reply.started": "2024-01-10T08:58:41.855076Z"
    },
    "tags": []
   },
   "outputs": [],
   "source": [
    "query_idx=f\"select * from krx_idx\"\n",
    "krx_idx=pd.read_sql(query_idx, conn)"
   ]
  },
  {
   "cell_type": "code",
   "execution_count": 18,
   "id": "7ec858ac-38e5-456f-9553-e3b947602921",
   "metadata": {
    "execution": {
     "iopub.execute_input": "2024-01-10T08:58:42.658756Z",
     "iopub.status.busy": "2024-01-10T08:58:42.658525Z",
     "iopub.status.idle": "2024-01-10T08:58:42.663283Z",
     "shell.execute_reply": "2024-01-10T08:58:42.662693Z",
     "shell.execute_reply.started": "2024-01-10T08:58:42.658735Z"
    },
    "tags": []
   },
   "outputs": [
    {
     "data": {
      "text/plain": [
       "Index(['Dates', '코스피', '코스피 200', '코스피 100', '코스피 50', '코스닥 150', '코스닥',\n",
       "       '코스피 200 동일가중', '코스피 대형주', '코스피 중형주', '코스피 소형주', '코스피 음식료품',\n",
       "       '코스피 섬유,의복', '코스피 종이,목재', '코스피 화학', '코스피 의약품', '코스피 비금속광물', '코스피 철강및금속',\n",
       "       '코스피 기계', '코스피 전기,전자', '코스피 의료정밀', '코스피 운수장비', '코스피 유통업', '코스피 전기가스업',\n",
       "       '코스피 건설업', '코스피 운수창고', '코스피 통신업', '코스피 금융업', '코스피 증권', '코스피 보험',\n",
       "       '코스피 서비스업', '코스피 제조업', '코스피 고배당 50 TR', '코스피 배당성장 50 TR', '코스피 우선주지수',\n",
       "       '코스피 200 총수익지수', '코스피 200 중소형주', '코스피 200 건설 TR', '코스피 200 중공업 TR',\n",
       "       '코스피 200 철강소재 TR', '코스피 200 에너지화학 TR', '코스피 200 정보기술 TR',\n",
       "       '코스피 200 금융 TR', '코스피 200 생활소비재 TR', '코스피 200 경기소비재 TR',\n",
       "       '코스피 200 산업재 TR', '코스피 200 헬스케어 TR', '코스피 200 커뮤니케이션서비스 TR',\n",
       "       '코스피 200 ESG 지수', '에너지(KOSPI)', '화학(KOSPI)', '금속및광물(KOSPI)',\n",
       "       '기타 소재(KOSPI)', '건설(KOSPI)', '조선(KOSPI)', '기타자본재(KOSPI)',\n",
       "       '상업서비스(KOSPI)', '운송(KOSPI)', '자동차및부품(KOSPI)', '내구소비재및의류(KOSPI)',\n",
       "       '소비자서비스(KOSPI)', '미디어(KOSPI)', '유통(KOSPI)', '음식료및담배(KOSPI)',\n",
       "       '생활용품(KOSPI)', '의료(KOSPI)', '은행(KOSPI)', '보험(KOSPI)', '증권(KOSPI)',\n",
       "       '기타금융(KOSPI)', '소프트웨어(KOSPI)', '하드웨어(KOSPI)', '반도체(KOSPI)',\n",
       "       '디스플레이(KOSPI)', '통신서비스(KOSPI)', '유틸리티(KOSPI)'],\n",
       "      dtype='object')"
      ]
     },
     "execution_count": 18,
     "metadata": {},
     "output_type": "execute_result"
    }
   ],
   "source": [
    "krx_idx.columns"
   ]
  },
  {
   "cell_type": "code",
   "execution_count": 19,
   "id": "ebf2bdec-e669-4f7f-8be5-016ec09524c0",
   "metadata": {
    "execution": {
     "iopub.execute_input": "2024-01-10T08:58:42.664975Z",
     "iopub.status.busy": "2024-01-10T08:58:42.664739Z",
     "iopub.status.idle": "2024-01-10T08:58:42.680452Z",
     "shell.execute_reply": "2024-01-10T08:58:42.679675Z",
     "shell.execute_reply.started": "2024-01-10T08:58:42.664952Z"
    },
    "tags": []
   },
   "outputs": [],
   "source": [
    "krx_idx.set_index('Dates', inplace=True)\n",
    "krx_idx=krx_idx.loc[:period2]"
   ]
  },
  {
   "cell_type": "code",
   "execution_count": null,
   "id": "d15a4151-2bcc-4c51-8ddd-0046f805592b",
   "metadata": {
    "tags": []
   },
   "outputs": [],
   "source": []
  },
  {
   "cell_type": "code",
   "execution_count": 20,
   "id": "220a23a9-5ddf-442a-9ef6-e3f99aa4c00f",
   "metadata": {
    "execution": {
     "iopub.execute_input": "2024-01-10T08:58:42.681786Z",
     "iopub.status.busy": "2024-01-10T08:58:42.681470Z",
     "iopub.status.idle": "2024-01-10T08:58:42.745153Z",
     "shell.execute_reply": "2024-01-10T08:58:42.744367Z",
     "shell.execute_reply.started": "2024-01-10T08:58:42.681755Z"
    }
   },
   "outputs": [
    {
     "data": {
      "text/html": [
       "<div>\n",
       "<style scoped>\n",
       "    .dataframe tbody tr th:only-of-type {\n",
       "        vertical-align: middle;\n",
       "    }\n",
       "\n",
       "    .dataframe tbody tr th {\n",
       "        vertical-align: top;\n",
       "    }\n",
       "\n",
       "    .dataframe thead th {\n",
       "        text-align: right;\n",
       "    }\n",
       "</style>\n",
       "<table border=\"1\" class=\"dataframe\">\n",
       "  <thead>\n",
       "    <tr style=\"text-align: right;\">\n",
       "      <th></th>\n",
       "      <th>코스피</th>\n",
       "      <th>코스피 200</th>\n",
       "      <th>코스피 100</th>\n",
       "      <th>코스피 50</th>\n",
       "      <th>코스닥 150</th>\n",
       "      <th>코스닥</th>\n",
       "      <th>코스피 200 동일가중</th>\n",
       "      <th>코스피 대형주</th>\n",
       "      <th>코스피 중형주</th>\n",
       "      <th>코스피 소형주</th>\n",
       "      <th>...</th>\n",
       "      <th>은행(KOSPI)</th>\n",
       "      <th>보험(KOSPI)</th>\n",
       "      <th>증권(KOSPI)</th>\n",
       "      <th>기타금융(KOSPI)</th>\n",
       "      <th>소프트웨어(KOSPI)</th>\n",
       "      <th>하드웨어(KOSPI)</th>\n",
       "      <th>반도체(KOSPI)</th>\n",
       "      <th>디스플레이(KOSPI)</th>\n",
       "      <th>통신서비스(KOSPI)</th>\n",
       "      <th>유틸리티(KOSPI)</th>\n",
       "    </tr>\n",
       "    <tr>\n",
       "      <th>Dates</th>\n",
       "      <th></th>\n",
       "      <th></th>\n",
       "      <th></th>\n",
       "      <th></th>\n",
       "      <th></th>\n",
       "      <th></th>\n",
       "      <th></th>\n",
       "      <th></th>\n",
       "      <th></th>\n",
       "      <th></th>\n",
       "      <th></th>\n",
       "      <th></th>\n",
       "      <th></th>\n",
       "      <th></th>\n",
       "      <th></th>\n",
       "      <th></th>\n",
       "      <th></th>\n",
       "      <th></th>\n",
       "      <th></th>\n",
       "      <th></th>\n",
       "      <th></th>\n",
       "    </tr>\n",
       "  </thead>\n",
       "  <tbody>\n",
       "    <tr>\n",
       "      <th>2000-01-04</th>\n",
       "      <td>1059.04</td>\n",
       "      <td>133.66</td>\n",
       "      <td>NaN</td>\n",
       "      <td>NaN</td>\n",
       "      <td>NaN</td>\n",
       "      <td>2660.00</td>\n",
       "      <td>NaN</td>\n",
       "      <td>1000.00</td>\n",
       "      <td>1000.00</td>\n",
       "      <td>1000.00</td>\n",
       "      <td>...</td>\n",
       "      <td>NaN</td>\n",
       "      <td>NaN</td>\n",
       "      <td>NaN</td>\n",
       "      <td>NaN</td>\n",
       "      <td>NaN</td>\n",
       "      <td>NaN</td>\n",
       "      <td>NaN</td>\n",
       "      <td>NaN</td>\n",
       "      <td>NaN</td>\n",
       "      <td>NaN</td>\n",
       "    </tr>\n",
       "    <tr>\n",
       "      <th>2000-01-05</th>\n",
       "      <td>986.31</td>\n",
       "      <td>123.86</td>\n",
       "      <td>922.14</td>\n",
       "      <td>918.40</td>\n",
       "      <td>NaN</td>\n",
       "      <td>2629.50</td>\n",
       "      <td>NaN</td>\n",
       "      <td>923.61</td>\n",
       "      <td>970.47</td>\n",
       "      <td>992.87</td>\n",
       "      <td>...</td>\n",
       "      <td>NaN</td>\n",
       "      <td>NaN</td>\n",
       "      <td>NaN</td>\n",
       "      <td>NaN</td>\n",
       "      <td>NaN</td>\n",
       "      <td>NaN</td>\n",
       "      <td>NaN</td>\n",
       "      <td>NaN</td>\n",
       "      <td>NaN</td>\n",
       "      <td>NaN</td>\n",
       "    </tr>\n",
       "    <tr>\n",
       "      <th>2000-01-06</th>\n",
       "      <td>960.79</td>\n",
       "      <td>120.80</td>\n",
       "      <td>900.82</td>\n",
       "      <td>898.72</td>\n",
       "      <td>NaN</td>\n",
       "      <td>2475.20</td>\n",
       "      <td>NaN</td>\n",
       "      <td>904.64</td>\n",
       "      <td>931.49</td>\n",
       "      <td>962.96</td>\n",
       "      <td>...</td>\n",
       "      <td>NaN</td>\n",
       "      <td>NaN</td>\n",
       "      <td>NaN</td>\n",
       "      <td>NaN</td>\n",
       "      <td>NaN</td>\n",
       "      <td>NaN</td>\n",
       "      <td>NaN</td>\n",
       "      <td>NaN</td>\n",
       "      <td>NaN</td>\n",
       "      <td>NaN</td>\n",
       "    </tr>\n",
       "    <tr>\n",
       "      <th>2000-01-07</th>\n",
       "      <td>948.65</td>\n",
       "      <td>119.10</td>\n",
       "      <td>887.78</td>\n",
       "      <td>883.90</td>\n",
       "      <td>NaN</td>\n",
       "      <td>2276.60</td>\n",
       "      <td>NaN</td>\n",
       "      <td>890.32</td>\n",
       "      <td>938.66</td>\n",
       "      <td>966.39</td>\n",
       "      <td>...</td>\n",
       "      <td>NaN</td>\n",
       "      <td>NaN</td>\n",
       "      <td>NaN</td>\n",
       "      <td>NaN</td>\n",
       "      <td>NaN</td>\n",
       "      <td>NaN</td>\n",
       "      <td>NaN</td>\n",
       "      <td>NaN</td>\n",
       "      <td>NaN</td>\n",
       "      <td>NaN</td>\n",
       "    </tr>\n",
       "    <tr>\n",
       "      <th>2000-01-10</th>\n",
       "      <td>987.24</td>\n",
       "      <td>124.11</td>\n",
       "      <td>927.12</td>\n",
       "      <td>924.83</td>\n",
       "      <td>NaN</td>\n",
       "      <td>2310.80</td>\n",
       "      <td>NaN</td>\n",
       "      <td>928.70</td>\n",
       "      <td>952.01</td>\n",
       "      <td>975.50</td>\n",
       "      <td>...</td>\n",
       "      <td>NaN</td>\n",
       "      <td>NaN</td>\n",
       "      <td>NaN</td>\n",
       "      <td>NaN</td>\n",
       "      <td>NaN</td>\n",
       "      <td>NaN</td>\n",
       "      <td>NaN</td>\n",
       "      <td>NaN</td>\n",
       "      <td>NaN</td>\n",
       "      <td>NaN</td>\n",
       "    </tr>\n",
       "    <tr>\n",
       "      <th>...</th>\n",
       "      <td>...</td>\n",
       "      <td>...</td>\n",
       "      <td>...</td>\n",
       "      <td>...</td>\n",
       "      <td>...</td>\n",
       "      <td>...</td>\n",
       "      <td>...</td>\n",
       "      <td>...</td>\n",
       "      <td>...</td>\n",
       "      <td>...</td>\n",
       "      <td>...</td>\n",
       "      <td>...</td>\n",
       "      <td>...</td>\n",
       "      <td>...</td>\n",
       "      <td>...</td>\n",
       "      <td>...</td>\n",
       "      <td>...</td>\n",
       "      <td>...</td>\n",
       "      <td>...</td>\n",
       "      <td>...</td>\n",
       "      <td>...</td>\n",
       "    </tr>\n",
       "    <tr>\n",
       "      <th>2023-12-21</th>\n",
       "      <td>2600.02</td>\n",
       "      <td>348.78</td>\n",
       "      <td>2629.80</td>\n",
       "      <td>2414.63</td>\n",
       "      <td>1387.48</td>\n",
       "      <td>859.44</td>\n",
       "      <td>2170.02</td>\n",
       "      <td>2580.93</td>\n",
       "      <td>2790.83</td>\n",
       "      <td>2294.27</td>\n",
       "      <td>...</td>\n",
       "      <td>2569.39</td>\n",
       "      <td>10537.4</td>\n",
       "      <td>2364.39</td>\n",
       "      <td>47.57</td>\n",
       "      <td>3563.18</td>\n",
       "      <td>3165.40</td>\n",
       "      <td>24823.5</td>\n",
       "      <td>202.73</td>\n",
       "      <td>725.73</td>\n",
       "      <td>864.94</td>\n",
       "    </tr>\n",
       "    <tr>\n",
       "      <th>2023-12-22</th>\n",
       "      <td>2599.51</td>\n",
       "      <td>349.15</td>\n",
       "      <td>2632.02</td>\n",
       "      <td>2415.33</td>\n",
       "      <td>1369.78</td>\n",
       "      <td>854.62</td>\n",
       "      <td>2164.24</td>\n",
       "      <td>2582.25</td>\n",
       "      <td>2788.16</td>\n",
       "      <td>2297.53</td>\n",
       "      <td>...</td>\n",
       "      <td>2551.26</td>\n",
       "      <td>10493.1</td>\n",
       "      <td>2344.57</td>\n",
       "      <td>47.72</td>\n",
       "      <td>3507.86</td>\n",
       "      <td>3158.75</td>\n",
       "      <td>25067.3</td>\n",
       "      <td>206.39</td>\n",
       "      <td>722.47</td>\n",
       "      <td>864.53</td>\n",
       "    </tr>\n",
       "    <tr>\n",
       "      <th>2023-12-26</th>\n",
       "      <td>2602.59</td>\n",
       "      <td>350.43</td>\n",
       "      <td>2641.55</td>\n",
       "      <td>2423.71</td>\n",
       "      <td>1357.08</td>\n",
       "      <td>848.34</td>\n",
       "      <td>2167.29</td>\n",
       "      <td>2588.31</td>\n",
       "      <td>2789.53</td>\n",
       "      <td>2287.33</td>\n",
       "      <td>...</td>\n",
       "      <td>2564.05</td>\n",
       "      <td>10650.6</td>\n",
       "      <td>2390.14</td>\n",
       "      <td>48.08</td>\n",
       "      <td>3509.62</td>\n",
       "      <td>3126.07</td>\n",
       "      <td>25261.1</td>\n",
       "      <td>204.06</td>\n",
       "      <td>723.80</td>\n",
       "      <td>863.54</td>\n",
       "    </tr>\n",
       "    <tr>\n",
       "      <th>2023-12-27</th>\n",
       "      <td>2613.50</td>\n",
       "      <td>352.46</td>\n",
       "      <td>2657.83</td>\n",
       "      <td>2442.16</td>\n",
       "      <td>1384.38</td>\n",
       "      <td>859.79</td>\n",
       "      <td>2151.08</td>\n",
       "      <td>2607.52</td>\n",
       "      <td>2763.37</td>\n",
       "      <td>2263.38</td>\n",
       "      <td>...</td>\n",
       "      <td>2554.50</td>\n",
       "      <td>10430.2</td>\n",
       "      <td>2293.59</td>\n",
       "      <td>48.08</td>\n",
       "      <td>3595.74</td>\n",
       "      <td>3171.17</td>\n",
       "      <td>25622.1</td>\n",
       "      <td>206.39</td>\n",
       "      <td>698.95</td>\n",
       "      <td>853.29</td>\n",
       "    </tr>\n",
       "    <tr>\n",
       "      <th>2023-12-28</th>\n",
       "      <td>2655.28</td>\n",
       "      <td>357.99</td>\n",
       "      <td>2701.73</td>\n",
       "      <td>2483.32</td>\n",
       "      <td>1393.46</td>\n",
       "      <td>866.57</td>\n",
       "      <td>2182.08</td>\n",
       "      <td>2650.61</td>\n",
       "      <td>2786.69</td>\n",
       "      <td>2286.39</td>\n",
       "      <td>...</td>\n",
       "      <td>NaN</td>\n",
       "      <td>NaN</td>\n",
       "      <td>NaN</td>\n",
       "      <td>NaN</td>\n",
       "      <td>NaN</td>\n",
       "      <td>NaN</td>\n",
       "      <td>NaN</td>\n",
       "      <td>NaN</td>\n",
       "      <td>NaN</td>\n",
       "      <td>NaN</td>\n",
       "    </tr>\n",
       "  </tbody>\n",
       "</table>\n",
       "<p>5923 rows × 75 columns</p>\n",
       "</div>"
      ],
      "text/plain": [
       "                코스피  코스피 200  코스피 100   코스피 50  코스닥 150      코스닥  \\\n",
       "Dates                                                              \n",
       "2000-01-04  1059.04   133.66      NaN      NaN      NaN  2660.00   \n",
       "2000-01-05   986.31   123.86   922.14   918.40      NaN  2629.50   \n",
       "2000-01-06   960.79   120.80   900.82   898.72      NaN  2475.20   \n",
       "2000-01-07   948.65   119.10   887.78   883.90      NaN  2276.60   \n",
       "2000-01-10   987.24   124.11   927.12   924.83      NaN  2310.80   \n",
       "...             ...      ...      ...      ...      ...      ...   \n",
       "2023-12-21  2600.02   348.78  2629.80  2414.63  1387.48   859.44   \n",
       "2023-12-22  2599.51   349.15  2632.02  2415.33  1369.78   854.62   \n",
       "2023-12-26  2602.59   350.43  2641.55  2423.71  1357.08   848.34   \n",
       "2023-12-27  2613.50   352.46  2657.83  2442.16  1384.38   859.79   \n",
       "2023-12-28  2655.28   357.99  2701.73  2483.32  1393.46   866.57   \n",
       "\n",
       "            코스피 200 동일가중  코스피 대형주  코스피 중형주  코스피 소형주  ...  은행(KOSPI)  \\\n",
       "Dates                                                ...              \n",
       "2000-01-04           NaN  1000.00  1000.00  1000.00  ...        NaN   \n",
       "2000-01-05           NaN   923.61   970.47   992.87  ...        NaN   \n",
       "2000-01-06           NaN   904.64   931.49   962.96  ...        NaN   \n",
       "2000-01-07           NaN   890.32   938.66   966.39  ...        NaN   \n",
       "2000-01-10           NaN   928.70   952.01   975.50  ...        NaN   \n",
       "...                  ...      ...      ...      ...  ...        ...   \n",
       "2023-12-21       2170.02  2580.93  2790.83  2294.27  ...    2569.39   \n",
       "2023-12-22       2164.24  2582.25  2788.16  2297.53  ...    2551.26   \n",
       "2023-12-26       2167.29  2588.31  2789.53  2287.33  ...    2564.05   \n",
       "2023-12-27       2151.08  2607.52  2763.37  2263.38  ...    2554.50   \n",
       "2023-12-28       2182.08  2650.61  2786.69  2286.39  ...        NaN   \n",
       "\n",
       "            보험(KOSPI)  증권(KOSPI)  기타금융(KOSPI)  소프트웨어(KOSPI)  하드웨어(KOSPI)  \\\n",
       "Dates                                                                      \n",
       "2000-01-04        NaN        NaN          NaN           NaN          NaN   \n",
       "2000-01-05        NaN        NaN          NaN           NaN          NaN   \n",
       "2000-01-06        NaN        NaN          NaN           NaN          NaN   \n",
       "2000-01-07        NaN        NaN          NaN           NaN          NaN   \n",
       "2000-01-10        NaN        NaN          NaN           NaN          NaN   \n",
       "...               ...        ...          ...           ...          ...   \n",
       "2023-12-21    10537.4    2364.39        47.57       3563.18      3165.40   \n",
       "2023-12-22    10493.1    2344.57        47.72       3507.86      3158.75   \n",
       "2023-12-26    10650.6    2390.14        48.08       3509.62      3126.07   \n",
       "2023-12-27    10430.2    2293.59        48.08       3595.74      3171.17   \n",
       "2023-12-28        NaN        NaN          NaN           NaN          NaN   \n",
       "\n",
       "            반도체(KOSPI)  디스플레이(KOSPI)  통신서비스(KOSPI)  유틸리티(KOSPI)  \n",
       "Dates                                                            \n",
       "2000-01-04         NaN           NaN           NaN          NaN  \n",
       "2000-01-05         NaN           NaN           NaN          NaN  \n",
       "2000-01-06         NaN           NaN           NaN          NaN  \n",
       "2000-01-07         NaN           NaN           NaN          NaN  \n",
       "2000-01-10         NaN           NaN           NaN          NaN  \n",
       "...                ...           ...           ...          ...  \n",
       "2023-12-21     24823.5        202.73        725.73       864.94  \n",
       "2023-12-22     25067.3        206.39        722.47       864.53  \n",
       "2023-12-26     25261.1        204.06        723.80       863.54  \n",
       "2023-12-27     25622.1        206.39        698.95       853.29  \n",
       "2023-12-28         NaN           NaN           NaN          NaN  \n",
       "\n",
       "[5923 rows x 75 columns]"
      ]
     },
     "execution_count": 20,
     "metadata": {},
     "output_type": "execute_result"
    }
   ],
   "source": [
    "krx_idx"
   ]
  },
  {
   "cell_type": "code",
   "execution_count": 21,
   "id": "32705ab3-f204-45cc-8959-dfe06257baa6",
   "metadata": {
    "execution": {
     "iopub.execute_input": "2024-01-10T08:58:42.746533Z",
     "iopub.status.busy": "2024-01-10T08:58:42.746187Z",
     "iopub.status.idle": "2024-01-10T08:58:42.753718Z",
     "shell.execute_reply": "2024-01-10T08:58:42.752914Z",
     "shell.execute_reply.started": "2024-01-10T08:58:42.746498Z"
    },
    "tags": []
   },
   "outputs": [],
   "source": [
    "bm_ret=krx_idx[['코스피 200', '코스피 200 동일가중']].pct_change()\n",
    "large_cap=krx_idx[['코스피 100', '코스피 50']].copy()"
   ]
  },
  {
   "cell_type": "code",
   "execution_count": null,
   "id": "919a4239-8460-4023-8f24-b6c31643447e",
   "metadata": {},
   "outputs": [],
   "source": []
  },
  {
   "cell_type": "code",
   "execution_count": 22,
   "id": "e642c5ff-2b62-43f3-a3b6-45ce98c9aac0",
   "metadata": {
    "execution": {
     "iopub.execute_input": "2024-01-10T08:58:42.755129Z",
     "iopub.status.busy": "2024-01-10T08:58:42.754782Z",
     "iopub.status.idle": "2024-01-10T08:58:42.851564Z",
     "shell.execute_reply": "2024-01-10T08:58:42.850770Z",
     "shell.execute_reply.started": "2024-01-10T08:58:42.755095Z"
    },
    "tags": []
   },
   "outputs": [],
   "source": []
  },
  {
   "cell_type": "code",
   "execution_count": 23,
   "id": "b9225eed-b8f4-4982-bf8a-aa2faa65c22a",
   "metadata": {
    "execution": {
     "iopub.execute_input": "2024-01-10T08:58:42.852630Z",
     "iopub.status.busy": "2024-01-10T08:58:42.852391Z",
     "iopub.status.idle": "2024-01-10T08:58:42.985698Z",
     "shell.execute_reply": "2024-01-10T08:58:42.984914Z",
     "shell.execute_reply.started": "2024-01-10T08:58:42.852608Z"
    },
    "tags": []
   },
   "outputs": [],
   "source": [
    "prc=data_SSC_nodup['AdjPrc']\n",
    "prc=prc.loc[~prc.index.duplicated(keep='first')].copy()\n",
    "prc=prc.unstack()\n",
    "prc=prc.astype(float)\n",
    "ret=prc.pct_change()"
   ]
  },
  {
   "cell_type": "code",
   "execution_count": null,
   "id": "177fd75c-ea14-4a4d-afae-7b590821b869",
   "metadata": {
    "tags": []
   },
   "outputs": [],
   "source": []
  },
  {
   "cell_type": "code",
   "execution_count": 24,
   "id": "7dbd260b-eea5-402a-ae41-0c531e64592c",
   "metadata": {
    "execution": {
     "iopub.execute_input": "2024-01-10T08:58:42.986730Z",
     "iopub.status.busy": "2024-01-10T08:58:42.986503Z",
     "iopub.status.idle": "2024-01-10T08:58:42.989767Z",
     "shell.execute_reply": "2024-01-10T08:58:42.989162Z",
     "shell.execute_reply.started": "2024-01-10T08:58:42.986709Z"
    },
    "tags": []
   },
   "outputs": [],
   "source": [
    "eom=['2023-02-28', \n",
    "     '2023-03-31', \n",
    "     '2023-04-28', \n",
    "     '2023-05-31', \n",
    "     '2023-06-30', \n",
    "     '2023-07-31', \n",
    "     '2023-08-31', \n",
    "     '2023-09-27', \n",
    "     '2023-10-31', \n",
    "     '2023-11-29', \n",
    "     '2023-12-28']"
   ]
  },
  {
   "cell_type": "code",
   "execution_count": null,
   "id": "59a9629b-a9ec-4ab5-ad46-91e2cbe1df27",
   "metadata": {},
   "outputs": [],
   "source": []
  },
  {
   "cell_type": "code",
   "execution_count": 25,
   "id": "2bb50e27-99f8-415e-87b6-01fa17d7fc2d",
   "metadata": {
    "execution": {
     "iopub.execute_input": "2024-01-10T08:58:42.990721Z",
     "iopub.status.busy": "2024-01-10T08:58:42.990509Z",
     "iopub.status.idle": "2024-01-10T08:58:43.176976Z",
     "shell.execute_reply": "2024-01-10T08:58:43.175813Z",
     "shell.execute_reply.started": "2024-01-10T08:58:42.990699Z"
    },
    "tags": []
   },
   "outputs": [],
   "source": [
    "data_path='../data/output/weight/'\n",
    "mlq_w=pd.read_excel(data_path + 'monthly_port.xlsx', index_col=0)"
   ]
  },
  {
   "cell_type": "code",
   "execution_count": 26,
   "id": "3bd79ac5-cd49-48ce-8299-3b18981236a0",
   "metadata": {
    "execution": {
     "iopub.execute_input": "2024-01-10T08:58:43.177998Z",
     "iopub.status.busy": "2024-01-10T08:58:43.177719Z",
     "iopub.status.idle": "2024-01-10T08:58:43.187287Z",
     "shell.execute_reply": "2024-01-10T08:58:43.186698Z",
     "shell.execute_reply.started": "2024-01-10T08:58:43.177977Z"
    },
    "tags": []
   },
   "outputs": [
    {
     "data": {
      "text/html": [
       "<div>\n",
       "<style scoped>\n",
       "    .dataframe tbody tr th:only-of-type {\n",
       "        vertical-align: middle;\n",
       "    }\n",
       "\n",
       "    .dataframe tbody tr th {\n",
       "        vertical-align: top;\n",
       "    }\n",
       "\n",
       "    .dataframe thead th {\n",
       "        text-align: right;\n",
       "    }\n",
       "</style>\n",
       "<table border=\"1\" class=\"dataframe\">\n",
       "  <thead>\n",
       "    <tr style=\"text-align: right;\">\n",
       "      <th></th>\n",
       "      <th>code</th>\n",
       "      <th>weights</th>\n",
       "      <th>name</th>\n",
       "    </tr>\n",
       "    <tr>\n",
       "      <th>dates</th>\n",
       "      <th></th>\n",
       "      <th></th>\n",
       "      <th></th>\n",
       "    </tr>\n",
       "  </thead>\n",
       "  <tbody>\n",
       "    <tr>\n",
       "      <th>2023-02-28</th>\n",
       "      <td>A001040</td>\n",
       "      <td>0.009461</td>\n",
       "      <td>CJ</td>\n",
       "    </tr>\n",
       "    <tr>\n",
       "      <th>2023-02-28</th>\n",
       "      <td>A096770</td>\n",
       "      <td>0.009461</td>\n",
       "      <td>SK이노베이션</td>\n",
       "    </tr>\n",
       "    <tr>\n",
       "      <th>2023-02-28</th>\n",
       "      <td>A006260</td>\n",
       "      <td>0.009461</td>\n",
       "      <td>LS</td>\n",
       "    </tr>\n",
       "    <tr>\n",
       "      <th>2023-02-28</th>\n",
       "      <td>A011790</td>\n",
       "      <td>0.009461</td>\n",
       "      <td>SKC</td>\n",
       "    </tr>\n",
       "    <tr>\n",
       "      <th>2023-02-28</th>\n",
       "      <td>A016380</td>\n",
       "      <td>0.009461</td>\n",
       "      <td>KG스틸</td>\n",
       "    </tr>\n",
       "    <tr>\n",
       "      <th>...</th>\n",
       "      <td>...</td>\n",
       "      <td>...</td>\n",
       "      <td>...</td>\n",
       "    </tr>\n",
       "    <tr>\n",
       "      <th>2023-12-28</th>\n",
       "      <td>A001680</td>\n",
       "      <td>0.009257</td>\n",
       "      <td>대상</td>\n",
       "    </tr>\n",
       "    <tr>\n",
       "      <th>2023-12-28</th>\n",
       "      <td>A032830</td>\n",
       "      <td>0.009257</td>\n",
       "      <td>삼성생명</td>\n",
       "    </tr>\n",
       "    <tr>\n",
       "      <th>2023-12-28</th>\n",
       "      <td>A105560</td>\n",
       "      <td>0.009257</td>\n",
       "      <td>KB금융</td>\n",
       "    </tr>\n",
       "    <tr>\n",
       "      <th>2023-12-28</th>\n",
       "      <td>A012330</td>\n",
       "      <td>0.009257</td>\n",
       "      <td>현대모비스</td>\n",
       "    </tr>\n",
       "    <tr>\n",
       "      <th>2023-12-28</th>\n",
       "      <td>A005930</td>\n",
       "      <td>0.315000</td>\n",
       "      <td>삼성전자</td>\n",
       "    </tr>\n",
       "  </tbody>\n",
       "</table>\n",
       "<p>814 rows × 3 columns</p>\n",
       "</div>"
      ],
      "text/plain": [
       "               code   weights     name\n",
       "dates                                 \n",
       "2023-02-28  A001040  0.009461       CJ\n",
       "2023-02-28  A096770  0.009461  SK이노베이션\n",
       "2023-02-28  A006260  0.009461       LS\n",
       "2023-02-28  A011790  0.009461      SKC\n",
       "2023-02-28  A016380  0.009461     KG스틸\n",
       "...             ...       ...      ...\n",
       "2023-12-28  A001680  0.009257       대상\n",
       "2023-12-28  A032830  0.009257     삼성생명\n",
       "2023-12-28  A105560  0.009257     KB금융\n",
       "2023-12-28  A012330  0.009257    현대모비스\n",
       "2023-12-28  A005930  0.315000     삼성전자\n",
       "\n",
       "[814 rows x 3 columns]"
      ]
     },
     "execution_count": 26,
     "metadata": {},
     "output_type": "execute_result"
    }
   ],
   "source": [
    "mlq_w"
   ]
  },
  {
   "cell_type": "code",
   "execution_count": 27,
   "id": "243df469-1dd7-446c-9c8f-5174f7ef97dd",
   "metadata": {
    "execution": {
     "iopub.execute_input": "2024-01-10T08:58:43.188154Z",
     "iopub.status.busy": "2024-01-10T08:58:43.187953Z",
     "iopub.status.idle": "2024-01-10T08:58:43.211117Z",
     "shell.execute_reply": "2024-01-10T08:58:43.209901Z",
     "shell.execute_reply.started": "2024-01-10T08:58:43.188134Z"
    },
    "tags": []
   },
   "outputs": [],
   "source": [
    "mlq_w=mlq_w[mlq_w.index.isin(eom)]\n",
    "mlq_w=mlq_w[['code', 'weights']].pivot_table(index='dates', columns='code')\n",
    "mlq_w.reset_index(inplace=True)\n"
   ]
  },
  {
   "cell_type": "code",
   "execution_count": 28,
   "id": "e1d8a83b-f00b-4116-b65b-416ad849ede4",
   "metadata": {
    "execution": {
     "iopub.execute_input": "2024-01-10T08:58:43.212543Z",
     "iopub.status.busy": "2024-01-10T08:58:43.212196Z",
     "iopub.status.idle": "2024-01-10T08:58:43.217909Z",
     "shell.execute_reply": "2024-01-10T08:58:43.217115Z",
     "shell.execute_reply.started": "2024-01-10T08:58:43.212509Z"
    },
    "tags": []
   },
   "outputs": [
    {
     "data": {
      "text/plain": [
       "['2023-02-28',\n",
       " '2023-03-31',\n",
       " '2023-04-28',\n",
       " '2023-05-31',\n",
       " '2023-06-30',\n",
       " '2023-07-31',\n",
       " '2023-08-31',\n",
       " '2023-09-27',\n",
       " '2023-10-31',\n",
       " '2023-11-29',\n",
       " '2023-12-28']"
      ]
     },
     "execution_count": 28,
     "metadata": {},
     "output_type": "execute_result"
    }
   ],
   "source": [
    "eom"
   ]
  },
  {
   "cell_type": "code",
   "execution_count": 29,
   "id": "b62ff34f-1537-480a-b5a4-08b06e69831d",
   "metadata": {
    "execution": {
     "iopub.execute_input": "2024-01-10T08:58:43.219341Z",
     "iopub.status.busy": "2024-01-10T08:58:43.218980Z",
     "iopub.status.idle": "2024-01-10T08:58:43.276461Z",
     "shell.execute_reply": "2024-01-10T08:58:43.275714Z",
     "shell.execute_reply.started": "2024-01-10T08:58:43.219305Z"
    },
    "tags": []
   },
   "outputs": [
    {
     "data": {
      "text/html": [
       "<div>\n",
       "<style scoped>\n",
       "    .dataframe tbody tr th:only-of-type {\n",
       "        vertical-align: middle;\n",
       "    }\n",
       "\n",
       "    .dataframe tbody tr th {\n",
       "        vertical-align: top;\n",
       "    }\n",
       "\n",
       "    .dataframe thead tr th {\n",
       "        text-align: left;\n",
       "    }\n",
       "</style>\n",
       "<table border=\"1\" class=\"dataframe\">\n",
       "  <thead>\n",
       "    <tr>\n",
       "      <th></th>\n",
       "      <th>dates</th>\n",
       "      <th colspan=\"20\" halign=\"left\">weights</th>\n",
       "    </tr>\n",
       "    <tr>\n",
       "      <th>code</th>\n",
       "      <th></th>\n",
       "      <th>A000080</th>\n",
       "      <th>A000120</th>\n",
       "      <th>A000150</th>\n",
       "      <th>A000210</th>\n",
       "      <th>A000240</th>\n",
       "      <th>A000270</th>\n",
       "      <th>A000660</th>\n",
       "      <th>A000670</th>\n",
       "      <th>A000720</th>\n",
       "      <th>...</th>\n",
       "      <th>A323410</th>\n",
       "      <th>A326030</th>\n",
       "      <th>A329180</th>\n",
       "      <th>A336260</th>\n",
       "      <th>A352820</th>\n",
       "      <th>A373220</th>\n",
       "      <th>A375500</th>\n",
       "      <th>A381970</th>\n",
       "      <th>A383220</th>\n",
       "      <th>A402340</th>\n",
       "    </tr>\n",
       "  </thead>\n",
       "  <tbody>\n",
       "    <tr>\n",
       "      <th>0</th>\n",
       "      <td>2023-02-28</td>\n",
       "      <td>NaN</td>\n",
       "      <td>0.009461</td>\n",
       "      <td>0.009461</td>\n",
       "      <td>NaN</td>\n",
       "      <td>NaN</td>\n",
       "      <td>NaN</td>\n",
       "      <td>NaN</td>\n",
       "      <td>NaN</td>\n",
       "      <td>0.009461</td>\n",
       "      <td>...</td>\n",
       "      <td>NaN</td>\n",
       "      <td>0.009461</td>\n",
       "      <td>0.009461</td>\n",
       "      <td>0.009461</td>\n",
       "      <td>NaN</td>\n",
       "      <td>NaN</td>\n",
       "      <td>NaN</td>\n",
       "      <td>NaN</td>\n",
       "      <td>NaN</td>\n",
       "      <td>NaN</td>\n",
       "    </tr>\n",
       "    <tr>\n",
       "      <th>1</th>\n",
       "      <td>2023-03-31</td>\n",
       "      <td>NaN</td>\n",
       "      <td>NaN</td>\n",
       "      <td>NaN</td>\n",
       "      <td>NaN</td>\n",
       "      <td>NaN</td>\n",
       "      <td>0.011639</td>\n",
       "      <td>0.011639</td>\n",
       "      <td>NaN</td>\n",
       "      <td>NaN</td>\n",
       "      <td>...</td>\n",
       "      <td>NaN</td>\n",
       "      <td>NaN</td>\n",
       "      <td>NaN</td>\n",
       "      <td>NaN</td>\n",
       "      <td>NaN</td>\n",
       "      <td>NaN</td>\n",
       "      <td>NaN</td>\n",
       "      <td>NaN</td>\n",
       "      <td>NaN</td>\n",
       "      <td>NaN</td>\n",
       "    </tr>\n",
       "    <tr>\n",
       "      <th>2</th>\n",
       "      <td>2023-04-28</td>\n",
       "      <td>NaN</td>\n",
       "      <td>NaN</td>\n",
       "      <td>0.009329</td>\n",
       "      <td>NaN</td>\n",
       "      <td>NaN</td>\n",
       "      <td>NaN</td>\n",
       "      <td>0.009329</td>\n",
       "      <td>0.009329</td>\n",
       "      <td>NaN</td>\n",
       "      <td>...</td>\n",
       "      <td>0.009329</td>\n",
       "      <td>0.009329</td>\n",
       "      <td>0.009329</td>\n",
       "      <td>0.009329</td>\n",
       "      <td>NaN</td>\n",
       "      <td>NaN</td>\n",
       "      <td>NaN</td>\n",
       "      <td>NaN</td>\n",
       "      <td>NaN</td>\n",
       "      <td>NaN</td>\n",
       "    </tr>\n",
       "    <tr>\n",
       "      <th>3</th>\n",
       "      <td>2023-05-31</td>\n",
       "      <td>NaN</td>\n",
       "      <td>NaN</td>\n",
       "      <td>NaN</td>\n",
       "      <td>NaN</td>\n",
       "      <td>NaN</td>\n",
       "      <td>NaN</td>\n",
       "      <td>NaN</td>\n",
       "      <td>0.009372</td>\n",
       "      <td>NaN</td>\n",
       "      <td>...</td>\n",
       "      <td>NaN</td>\n",
       "      <td>0.009372</td>\n",
       "      <td>0.009372</td>\n",
       "      <td>0.009372</td>\n",
       "      <td>NaN</td>\n",
       "      <td>NaN</td>\n",
       "      <td>NaN</td>\n",
       "      <td>NaN</td>\n",
       "      <td>NaN</td>\n",
       "      <td>NaN</td>\n",
       "    </tr>\n",
       "    <tr>\n",
       "      <th>4</th>\n",
       "      <td>2023-06-30</td>\n",
       "      <td>NaN</td>\n",
       "      <td>NaN</td>\n",
       "      <td>0.009192</td>\n",
       "      <td>NaN</td>\n",
       "      <td>NaN</td>\n",
       "      <td>0.009192</td>\n",
       "      <td>NaN</td>\n",
       "      <td>0.009192</td>\n",
       "      <td>NaN</td>\n",
       "      <td>...</td>\n",
       "      <td>0.009192</td>\n",
       "      <td>0.009192</td>\n",
       "      <td>0.009192</td>\n",
       "      <td>NaN</td>\n",
       "      <td>NaN</td>\n",
       "      <td>NaN</td>\n",
       "      <td>NaN</td>\n",
       "      <td>NaN</td>\n",
       "      <td>NaN</td>\n",
       "      <td>NaN</td>\n",
       "    </tr>\n",
       "    <tr>\n",
       "      <th>5</th>\n",
       "      <td>2023-07-31</td>\n",
       "      <td>NaN</td>\n",
       "      <td>0.009419</td>\n",
       "      <td>NaN</td>\n",
       "      <td>NaN</td>\n",
       "      <td>NaN</td>\n",
       "      <td>NaN</td>\n",
       "      <td>0.009419</td>\n",
       "      <td>0.009419</td>\n",
       "      <td>NaN</td>\n",
       "      <td>...</td>\n",
       "      <td>0.009419</td>\n",
       "      <td>0.009419</td>\n",
       "      <td>0.009419</td>\n",
       "      <td>NaN</td>\n",
       "      <td>0.009419</td>\n",
       "      <td>0.009419</td>\n",
       "      <td>NaN</td>\n",
       "      <td>NaN</td>\n",
       "      <td>NaN</td>\n",
       "      <td>0.009419</td>\n",
       "    </tr>\n",
       "    <tr>\n",
       "      <th>6</th>\n",
       "      <td>2023-08-31</td>\n",
       "      <td>0.009463</td>\n",
       "      <td>0.009463</td>\n",
       "      <td>NaN</td>\n",
       "      <td>0.009463</td>\n",
       "      <td>0.009463</td>\n",
       "      <td>0.009463</td>\n",
       "      <td>NaN</td>\n",
       "      <td>NaN</td>\n",
       "      <td>NaN</td>\n",
       "      <td>...</td>\n",
       "      <td>NaN</td>\n",
       "      <td>NaN</td>\n",
       "      <td>NaN</td>\n",
       "      <td>NaN</td>\n",
       "      <td>NaN</td>\n",
       "      <td>NaN</td>\n",
       "      <td>0.009463</td>\n",
       "      <td>NaN</td>\n",
       "      <td>0.009463</td>\n",
       "      <td>NaN</td>\n",
       "    </tr>\n",
       "    <tr>\n",
       "      <th>7</th>\n",
       "      <td>2023-09-27</td>\n",
       "      <td>0.009396</td>\n",
       "      <td>0.009396</td>\n",
       "      <td>NaN</td>\n",
       "      <td>0.009396</td>\n",
       "      <td>0.009396</td>\n",
       "      <td>0.009396</td>\n",
       "      <td>NaN</td>\n",
       "      <td>NaN</td>\n",
       "      <td>NaN</td>\n",
       "      <td>...</td>\n",
       "      <td>NaN</td>\n",
       "      <td>NaN</td>\n",
       "      <td>NaN</td>\n",
       "      <td>NaN</td>\n",
       "      <td>NaN</td>\n",
       "      <td>NaN</td>\n",
       "      <td>0.009396</td>\n",
       "      <td>0.009396</td>\n",
       "      <td>0.009396</td>\n",
       "      <td>NaN</td>\n",
       "    </tr>\n",
       "    <tr>\n",
       "      <th>8</th>\n",
       "      <td>2023-10-31</td>\n",
       "      <td>0.009396</td>\n",
       "      <td>0.009396</td>\n",
       "      <td>0.009396</td>\n",
       "      <td>0.009396</td>\n",
       "      <td>0.009396</td>\n",
       "      <td>NaN</td>\n",
       "      <td>NaN</td>\n",
       "      <td>NaN</td>\n",
       "      <td>NaN</td>\n",
       "      <td>...</td>\n",
       "      <td>NaN</td>\n",
       "      <td>NaN</td>\n",
       "      <td>NaN</td>\n",
       "      <td>NaN</td>\n",
       "      <td>NaN</td>\n",
       "      <td>NaN</td>\n",
       "      <td>0.009396</td>\n",
       "      <td>0.009396</td>\n",
       "      <td>0.009396</td>\n",
       "      <td>NaN</td>\n",
       "    </tr>\n",
       "    <tr>\n",
       "      <th>9</th>\n",
       "      <td>2023-11-29</td>\n",
       "      <td>NaN</td>\n",
       "      <td>0.009292</td>\n",
       "      <td>NaN</td>\n",
       "      <td>NaN</td>\n",
       "      <td>NaN</td>\n",
       "      <td>0.009292</td>\n",
       "      <td>NaN</td>\n",
       "      <td>NaN</td>\n",
       "      <td>0.009292</td>\n",
       "      <td>...</td>\n",
       "      <td>NaN</td>\n",
       "      <td>NaN</td>\n",
       "      <td>NaN</td>\n",
       "      <td>NaN</td>\n",
       "      <td>0.009292</td>\n",
       "      <td>NaN</td>\n",
       "      <td>0.009292</td>\n",
       "      <td>NaN</td>\n",
       "      <td>NaN</td>\n",
       "      <td>NaN</td>\n",
       "    </tr>\n",
       "    <tr>\n",
       "      <th>10</th>\n",
       "      <td>2023-12-28</td>\n",
       "      <td>NaN</td>\n",
       "      <td>0.009257</td>\n",
       "      <td>0.009257</td>\n",
       "      <td>0.009257</td>\n",
       "      <td>NaN</td>\n",
       "      <td>NaN</td>\n",
       "      <td>NaN</td>\n",
       "      <td>NaN</td>\n",
       "      <td>0.009257</td>\n",
       "      <td>...</td>\n",
       "      <td>NaN</td>\n",
       "      <td>NaN</td>\n",
       "      <td>NaN</td>\n",
       "      <td>NaN</td>\n",
       "      <td>NaN</td>\n",
       "      <td>0.009257</td>\n",
       "      <td>NaN</td>\n",
       "      <td>NaN</td>\n",
       "      <td>0.009257</td>\n",
       "      <td>NaN</td>\n",
       "    </tr>\n",
       "  </tbody>\n",
       "</table>\n",
       "<p>11 rows × 197 columns</p>\n",
       "</div>"
      ],
      "text/plain": [
       "          dates   weights                                                    \\\n",
       "code              A000080   A000120   A000150   A000210   A000240   A000270   \n",
       "0    2023-02-28       NaN  0.009461  0.009461       NaN       NaN       NaN   \n",
       "1    2023-03-31       NaN       NaN       NaN       NaN       NaN  0.011639   \n",
       "2    2023-04-28       NaN       NaN  0.009329       NaN       NaN       NaN   \n",
       "3    2023-05-31       NaN       NaN       NaN       NaN       NaN       NaN   \n",
       "4    2023-06-30       NaN       NaN  0.009192       NaN       NaN  0.009192   \n",
       "5    2023-07-31       NaN  0.009419       NaN       NaN       NaN       NaN   \n",
       "6    2023-08-31  0.009463  0.009463       NaN  0.009463  0.009463  0.009463   \n",
       "7    2023-09-27  0.009396  0.009396       NaN  0.009396  0.009396  0.009396   \n",
       "8    2023-10-31  0.009396  0.009396  0.009396  0.009396  0.009396       NaN   \n",
       "9    2023-11-29       NaN  0.009292       NaN       NaN       NaN  0.009292   \n",
       "10   2023-12-28       NaN  0.009257  0.009257  0.009257       NaN       NaN   \n",
       "\n",
       "                                    ...                                \\\n",
       "code   A000660   A000670   A000720  ...   A323410   A326030   A329180   \n",
       "0          NaN       NaN  0.009461  ...       NaN  0.009461  0.009461   \n",
       "1     0.011639       NaN       NaN  ...       NaN       NaN       NaN   \n",
       "2     0.009329  0.009329       NaN  ...  0.009329  0.009329  0.009329   \n",
       "3          NaN  0.009372       NaN  ...       NaN  0.009372  0.009372   \n",
       "4          NaN  0.009192       NaN  ...  0.009192  0.009192  0.009192   \n",
       "5     0.009419  0.009419       NaN  ...  0.009419  0.009419  0.009419   \n",
       "6          NaN       NaN       NaN  ...       NaN       NaN       NaN   \n",
       "7          NaN       NaN       NaN  ...       NaN       NaN       NaN   \n",
       "8          NaN       NaN       NaN  ...       NaN       NaN       NaN   \n",
       "9          NaN       NaN  0.009292  ...       NaN       NaN       NaN   \n",
       "10         NaN       NaN  0.009257  ...       NaN       NaN       NaN   \n",
       "\n",
       "                                                                            \n",
       "code   A336260   A352820   A373220   A375500   A381970   A383220   A402340  \n",
       "0     0.009461       NaN       NaN       NaN       NaN       NaN       NaN  \n",
       "1          NaN       NaN       NaN       NaN       NaN       NaN       NaN  \n",
       "2     0.009329       NaN       NaN       NaN       NaN       NaN       NaN  \n",
       "3     0.009372       NaN       NaN       NaN       NaN       NaN       NaN  \n",
       "4          NaN       NaN       NaN       NaN       NaN       NaN       NaN  \n",
       "5          NaN  0.009419  0.009419       NaN       NaN       NaN  0.009419  \n",
       "6          NaN       NaN       NaN  0.009463       NaN  0.009463       NaN  \n",
       "7          NaN       NaN       NaN  0.009396  0.009396  0.009396       NaN  \n",
       "8          NaN       NaN       NaN  0.009396  0.009396  0.009396       NaN  \n",
       "9          NaN  0.009292       NaN  0.009292       NaN       NaN       NaN  \n",
       "10         NaN       NaN  0.009257       NaN       NaN  0.009257       NaN  \n",
       "\n",
       "[11 rows x 197 columns]"
      ]
     },
     "execution_count": 29,
     "metadata": {},
     "output_type": "execute_result"
    }
   ],
   "source": [
    "mlq_w"
   ]
  },
  {
   "cell_type": "code",
   "execution_count": null,
   "id": "7be5102c-8e75-4b79-84f4-1302a7974867",
   "metadata": {
    "tags": []
   },
   "outputs": [],
   "source": []
  },
  {
   "cell_type": "code",
   "execution_count": 30,
   "id": "8e043346-a91b-4455-a44b-9e92a1c56dfd",
   "metadata": {
    "execution": {
     "iopub.execute_input": "2024-01-10T08:58:43.277786Z",
     "iopub.status.busy": "2024-01-10T08:58:43.277460Z",
     "iopub.status.idle": "2024-01-10T08:58:43.290789Z",
     "shell.execute_reply": "2024-01-10T08:58:43.289873Z",
     "shell.execute_reply.started": "2024-01-10T08:58:43.277754Z"
    },
    "tags": []
   },
   "outputs": [
    {
     "name": "stderr",
     "output_type": "stream",
     "text": [
      "<ipython-input-30-62b76c4750d8>:3: PerformanceWarning: dropping on a non-lexsorted multi-index without a level parameter may impact performance.\n",
      "  mlq_w.drop(columns=['dates'], inplace=True)\n"
     ]
    }
   ],
   "source": [
    "mlq_w['new_dates']=eom\n",
    "mlq_w.set_index('new_dates', inplace=True)\n",
    "mlq_w.drop(columns=['dates'], inplace=True)\n",
    "\n",
    "mlq_w.columns=mlq_w.columns.get_level_values(1)\n",
    "mlq_w.index=pd.to_datetime(mlq_w.index)\n",
    "mlq_w=mlq_w.fillna(0)"
   ]
  },
  {
   "cell_type": "code",
   "execution_count": 31,
   "id": "bee1d6a3-bebe-4a3d-adb3-cd1d356c1b5c",
   "metadata": {
    "execution": {
     "iopub.execute_input": "2024-01-10T08:58:43.292306Z",
     "iopub.status.busy": "2024-01-10T08:58:43.291919Z",
     "iopub.status.idle": "2024-01-10T08:58:43.305924Z",
     "shell.execute_reply": "2024-01-10T08:58:43.304904Z",
     "shell.execute_reply.started": "2024-01-10T08:58:43.292268Z"
    },
    "tags": []
   },
   "outputs": [
    {
     "data": {
      "text/plain": [
       "new_dates\n",
       "2023-02-28    1.0\n",
       "2023-03-31    1.0\n",
       "2023-04-28    1.0\n",
       "2023-05-31    1.0\n",
       "2023-06-30    1.0\n",
       "2023-07-31    1.0\n",
       "2023-08-31    1.0\n",
       "2023-09-27    1.0\n",
       "2023-10-31    1.0\n",
       "2023-11-29    1.0\n",
       "2023-12-28    1.0\n",
       "dtype: float64"
      ]
     },
     "execution_count": 31,
     "metadata": {},
     "output_type": "execute_result"
    }
   ],
   "source": [
    "mlq_w.sum(1)"
   ]
  },
  {
   "cell_type": "code",
   "execution_count": null,
   "id": "3d319dcd-dc7b-481f-b54b-e9a71f2f4b4c",
   "metadata": {},
   "outputs": [],
   "source": []
  },
  {
   "cell_type": "code",
   "execution_count": 32,
   "id": "827f9ea3-856d-4e67-84ea-89274f996af9",
   "metadata": {
    "execution": {
     "iopub.execute_input": "2024-01-10T08:58:43.307909Z",
     "iopub.status.busy": "2024-01-10T08:58:43.307402Z",
     "iopub.status.idle": "2024-01-10T08:58:43.379264Z",
     "shell.execute_reply": "2024-01-10T08:58:43.378536Z",
     "shell.execute_reply.started": "2024-01-10T08:58:43.307859Z"
    },
    "tags": []
   },
   "outputs": [],
   "source": [
    "daily_w=pd.DataFrame(None, columns=mlq_w.columns, index=ret.loc[mlq_w.index[0]:].index)\n",
    "daily_w.loc[mlq_w.index]=mlq_w\n",
    "\n",
    "daily_w.fillna(method='ffill', inplace=True)\n",
    "daily_w=daily_w.shift(1)"
   ]
  },
  {
   "cell_type": "code",
   "execution_count": 33,
   "id": "2881ca12-3d4d-40d3-ba9c-e4b5324183d1",
   "metadata": {
    "execution": {
     "iopub.execute_input": "2024-01-10T08:58:43.380398Z",
     "iopub.status.busy": "2024-01-10T08:58:43.380123Z",
     "iopub.status.idle": "2024-01-10T08:58:43.385907Z",
     "shell.execute_reply": "2024-01-10T08:58:43.385106Z",
     "shell.execute_reply.started": "2024-01-10T08:58:43.380371Z"
    },
    "tags": []
   },
   "outputs": [
    {
     "data": {
      "text/plain": [
       "DatetimeIndex(['2023-02-28', '2023-03-31', '2023-04-28', '2023-05-31',\n",
       "               '2023-06-30', '2023-07-31', '2023-08-31', '2023-09-27',\n",
       "               '2023-10-31', '2023-11-29', '2023-12-28'],\n",
       "              dtype='datetime64[ns]', name='new_dates', freq=None)"
      ]
     },
     "execution_count": 33,
     "metadata": {},
     "output_type": "execute_result"
    }
   ],
   "source": [
    "mlq_w.index"
   ]
  },
  {
   "cell_type": "code",
   "execution_count": 34,
   "id": "4885fa6f-bb7e-4247-af29-0c776946ba3e",
   "metadata": {
    "execution": {
     "iopub.execute_input": "2024-01-10T08:58:43.387252Z",
     "iopub.status.busy": "2024-01-10T08:58:43.386927Z",
     "iopub.status.idle": "2024-01-10T08:58:43.408699Z",
     "shell.execute_reply": "2024-01-10T08:58:43.407815Z",
     "shell.execute_reply.started": "2024-01-10T08:58:43.387220Z"
    },
    "tags": []
   },
   "outputs": [],
   "source": [
    "mlq_ret=daily_w*ret.loc[daily_w.index]\n",
    "mlq_idx_ret=mlq_ret.sum(1)"
   ]
  },
  {
   "cell_type": "code",
   "execution_count": null,
   "id": "8427d323-22c0-4ae2-9a66-a63422d466bb",
   "metadata": {
    "tags": []
   },
   "outputs": [],
   "source": []
  },
  {
   "cell_type": "code",
   "execution_count": 35,
   "id": "2b1dde0b-e155-442d-a1c1-9cf837af5305",
   "metadata": {
    "execution": {
     "iopub.execute_input": "2024-01-10T08:58:43.410248Z",
     "iopub.status.busy": "2024-01-10T08:58:43.409862Z",
     "iopub.status.idle": "2024-01-10T08:58:44.911085Z",
     "shell.execute_reply": "2024-01-10T08:58:44.909826Z",
     "shell.execute_reply.started": "2024-01-10T08:58:43.410210Z"
    },
    "tags": []
   },
   "outputs": [],
   "source": [
    "sys.path.append('../py')\n",
    "import data_processing as proc\n",
    "import utils\n",
    "import performance as perf"
   ]
  },
  {
   "cell_type": "code",
   "execution_count": 68,
   "id": "98a38328-28a3-4c71-be3b-3c30f96bad46",
   "metadata": {
    "execution": {
     "iopub.execute_input": "2024-01-10T10:07:59.826615Z",
     "iopub.status.busy": "2024-01-10T10:07:59.825975Z",
     "iopub.status.idle": "2024-01-10T10:07:59.846648Z",
     "shell.execute_reply": "2024-01-10T10:07:59.845242Z",
     "shell.execute_reply.started": "2024-01-10T10:07:59.826559Z"
    },
    "tags": []
   },
   "outputs": [],
   "source": [
    "idx_ret, idx_ret_cost, idx_cum_ret, idx_cum_retcost = perf.return_index(prc.loc[daily_w.index[0]:], \n",
    "                                                                        daily_w.fillna(0),\n",
    "                                                                        cost=0.003)"
   ]
  },
  {
   "cell_type": "code",
   "execution_count": 37,
   "id": "6a0b40ea-9d6a-4ca8-bfbf-876f3db6f0e6",
   "metadata": {
    "execution": {
     "iopub.execute_input": "2024-01-10T08:58:44.924926Z",
     "iopub.status.busy": "2024-01-10T08:58:44.924711Z",
     "iopub.status.idle": "2024-01-10T08:58:44.955555Z",
     "shell.execute_reply": "2024-01-10T08:58:44.954444Z",
     "shell.execute_reply.started": "2024-01-10T08:58:44.924904Z"
    },
    "tags": []
   },
   "outputs": [],
   "source": [
    "model_ret=pd.read_excel(data_path+'ret_strat.xlsx', index_col=0)"
   ]
  },
  {
   "cell_type": "code",
   "execution_count": 38,
   "id": "4a91a069-681e-4cee-aca8-0d3053979c84",
   "metadata": {
    "execution": {
     "iopub.execute_input": "2024-01-10T08:58:44.956267Z",
     "iopub.status.busy": "2024-01-10T08:58:44.956076Z",
     "iopub.status.idle": "2024-01-10T08:58:44.965078Z",
     "shell.execute_reply": "2024-01-10T08:58:44.964492Z",
     "shell.execute_reply.started": "2024-01-10T08:58:44.956249Z"
    },
    "tags": []
   },
   "outputs": [
    {
     "data": {
      "text/html": [
       "<div>\n",
       "<style scoped>\n",
       "    .dataframe tbody tr th:only-of-type {\n",
       "        vertical-align: middle;\n",
       "    }\n",
       "\n",
       "    .dataframe tbody tr th {\n",
       "        vertical-align: top;\n",
       "    }\n",
       "\n",
       "    .dataframe thead th {\n",
       "        text-align: right;\n",
       "    }\n",
       "</style>\n",
       "<table border=\"1\" class=\"dataframe\">\n",
       "  <thead>\n",
       "    <tr style=\"text-align: right;\">\n",
       "      <th></th>\n",
       "      <th>mfm</th>\n",
       "      <th>mfm_emp</th>\n",
       "      <th>dynamic</th>\n",
       "    </tr>\n",
       "  </thead>\n",
       "  <tbody>\n",
       "    <tr>\n",
       "      <th>2023-01-02</th>\n",
       "      <td>-0.008779</td>\n",
       "      <td>-0.007292</td>\n",
       "      <td>-0.006716</td>\n",
       "    </tr>\n",
       "    <tr>\n",
       "      <th>2023-01-03</th>\n",
       "      <td>0.001826</td>\n",
       "      <td>-0.000216</td>\n",
       "      <td>-0.000291</td>\n",
       "    </tr>\n",
       "    <tr>\n",
       "      <th>2023-01-04</th>\n",
       "      <td>0.019695</td>\n",
       "      <td>0.015465</td>\n",
       "      <td>0.018791</td>\n",
       "    </tr>\n",
       "    <tr>\n",
       "      <th>2023-01-05</th>\n",
       "      <td>0.001663</td>\n",
       "      <td>0.004127</td>\n",
       "      <td>0.004887</td>\n",
       "    </tr>\n",
       "    <tr>\n",
       "      <th>2023-01-06</th>\n",
       "      <td>0.014489</td>\n",
       "      <td>0.009787</td>\n",
       "      <td>0.012526</td>\n",
       "    </tr>\n",
       "    <tr>\n",
       "      <th>...</th>\n",
       "      <td>...</td>\n",
       "      <td>...</td>\n",
       "      <td>...</td>\n",
       "    </tr>\n",
       "    <tr>\n",
       "      <th>2023-12-21</th>\n",
       "      <td>-0.003519</td>\n",
       "      <td>-0.004880</td>\n",
       "      <td>-0.002546</td>\n",
       "    </tr>\n",
       "    <tr>\n",
       "      <th>2023-12-22</th>\n",
       "      <td>0.001621</td>\n",
       "      <td>0.000873</td>\n",
       "      <td>0.006398</td>\n",
       "    </tr>\n",
       "    <tr>\n",
       "      <th>2023-12-26</th>\n",
       "      <td>0.005203</td>\n",
       "      <td>-0.001400</td>\n",
       "      <td>0.002735</td>\n",
       "    </tr>\n",
       "    <tr>\n",
       "      <th>2023-12-27</th>\n",
       "      <td>-0.001712</td>\n",
       "      <td>0.013527</td>\n",
       "      <td>0.010464</td>\n",
       "    </tr>\n",
       "    <tr>\n",
       "      <th>2023-12-28</th>\n",
       "      <td>0.012499</td>\n",
       "      <td>0.014323</td>\n",
       "      <td>0.014085</td>\n",
       "    </tr>\n",
       "  </tbody>\n",
       "</table>\n",
       "<p>245 rows × 3 columns</p>\n",
       "</div>"
      ],
      "text/plain": [
       "                 mfm   mfm_emp   dynamic\n",
       "2023-01-02 -0.008779 -0.007292 -0.006716\n",
       "2023-01-03  0.001826 -0.000216 -0.000291\n",
       "2023-01-04  0.019695  0.015465  0.018791\n",
       "2023-01-05  0.001663  0.004127  0.004887\n",
       "2023-01-06  0.014489  0.009787  0.012526\n",
       "...              ...       ...       ...\n",
       "2023-12-21 -0.003519 -0.004880 -0.002546\n",
       "2023-12-22  0.001621  0.000873  0.006398\n",
       "2023-12-26  0.005203 -0.001400  0.002735\n",
       "2023-12-27 -0.001712  0.013527  0.010464\n",
       "2023-12-28  0.012499  0.014323  0.014085\n",
       "\n",
       "[245 rows x 3 columns]"
      ]
     },
     "execution_count": 38,
     "metadata": {},
     "output_type": "execute_result"
    }
   ],
   "source": [
    "model_ret"
   ]
  },
  {
   "cell_type": "code",
   "execution_count": null,
   "id": "a2d6985a-17e2-4879-804d-df0370d01ec6",
   "metadata": {},
   "outputs": [],
   "source": []
  },
  {
   "cell_type": "code",
   "execution_count": 39,
   "id": "8ffbf18f-c567-4cb5-ade5-2946f452ba8a",
   "metadata": {
    "execution": {
     "iopub.execute_input": "2024-01-10T08:58:44.965942Z",
     "iopub.status.busy": "2024-01-10T08:58:44.965745Z",
     "iopub.status.idle": "2024-01-10T08:58:44.980160Z",
     "shell.execute_reply": "2024-01-10T08:58:44.979435Z",
     "shell.execute_reply.started": "2024-01-10T08:58:44.965923Z"
    },
    "tags": []
   },
   "outputs": [],
   "source": [
    "final_ret=pd.concat([model_ret['dynamic'], \n",
    "                     idx_ret_cost, \n",
    "                     bm_ret], axis=1)\n"
   ]
  },
  {
   "cell_type": "code",
   "execution_count": 40,
   "id": "df5627ec-4731-4b16-a5b4-c158ed29f589",
   "metadata": {
    "execution": {
     "iopub.execute_input": "2024-01-10T08:58:44.981376Z",
     "iopub.status.busy": "2024-01-10T08:58:44.981083Z",
     "iopub.status.idle": "2024-01-10T08:58:44.990844Z",
     "shell.execute_reply": "2024-01-10T08:58:44.989710Z",
     "shell.execute_reply.started": "2024-01-10T08:58:44.981348Z"
    },
    "tags": []
   },
   "outputs": [],
   "source": [
    "final_ret=final_ret.dropna()"
   ]
  },
  {
   "cell_type": "code",
   "execution_count": 41,
   "id": "85e28d7c-6eca-44b1-a6d0-be492f3a89ae",
   "metadata": {
    "execution": {
     "iopub.execute_input": "2024-01-10T08:58:44.992366Z",
     "iopub.status.busy": "2024-01-10T08:58:44.991974Z",
     "iopub.status.idle": "2024-01-10T08:58:45.001434Z",
     "shell.execute_reply": "2024-01-10T08:58:45.000249Z",
     "shell.execute_reply.started": "2024-01-10T08:58:44.992328Z"
    },
    "tags": []
   },
   "outputs": [],
   "source": [
    "final_ret.columns=['dynamic', 'mlq', 'k200', 'k200ew'] # 'mfm', 'mfm_emp', "
   ]
  },
  {
   "cell_type": "code",
   "execution_count": 42,
   "id": "1df7f409-142e-4040-8421-367452132dc8",
   "metadata": {
    "execution": {
     "iopub.execute_input": "2024-01-10T08:58:45.003433Z",
     "iopub.status.busy": "2024-01-10T08:58:45.002918Z",
     "iopub.status.idle": "2024-01-10T08:58:45.028480Z",
     "shell.execute_reply": "2024-01-10T08:58:45.027544Z",
     "shell.execute_reply.started": "2024-01-10T08:58:45.003383Z"
    },
    "tags": []
   },
   "outputs": [
    {
     "data": {
      "text/html": [
       "<div>\n",
       "<style scoped>\n",
       "    .dataframe tbody tr th:only-of-type {\n",
       "        vertical-align: middle;\n",
       "    }\n",
       "\n",
       "    .dataframe tbody tr th {\n",
       "        vertical-align: top;\n",
       "    }\n",
       "\n",
       "    .dataframe thead th {\n",
       "        text-align: right;\n",
       "    }\n",
       "</style>\n",
       "<table border=\"1\" class=\"dataframe\">\n",
       "  <thead>\n",
       "    <tr style=\"text-align: right;\">\n",
       "      <th></th>\n",
       "      <th>dynamic</th>\n",
       "      <th>mlq</th>\n",
       "      <th>k200</th>\n",
       "      <th>k200ew</th>\n",
       "    </tr>\n",
       "  </thead>\n",
       "  <tbody>\n",
       "    <tr>\n",
       "      <th>2023-02-28</th>\n",
       "      <td>0.002677</td>\n",
       "      <td>0.000000</td>\n",
       "      <td>0.002739</td>\n",
       "      <td>0.001820</td>\n",
       "    </tr>\n",
       "    <tr>\n",
       "      <th>2023-03-02</th>\n",
       "      <td>0.005291</td>\n",
       "      <td>0.005755</td>\n",
       "      <td>0.004638</td>\n",
       "      <td>0.008460</td>\n",
       "    </tr>\n",
       "    <tr>\n",
       "      <th>2023-03-03</th>\n",
       "      <td>0.001132</td>\n",
       "      <td>-0.003856</td>\n",
       "      <td>0.000316</td>\n",
       "      <td>0.002391</td>\n",
       "    </tr>\n",
       "    <tr>\n",
       "      <th>2023-03-06</th>\n",
       "      <td>0.011246</td>\n",
       "      <td>0.004580</td>\n",
       "      <td>0.014477</td>\n",
       "      <td>0.001484</td>\n",
       "    </tr>\n",
       "    <tr>\n",
       "      <th>2023-03-07</th>\n",
       "      <td>-0.000464</td>\n",
       "      <td>-0.004881</td>\n",
       "      <td>-0.003552</td>\n",
       "      <td>-0.000221</td>\n",
       "    </tr>\n",
       "    <tr>\n",
       "      <th>...</th>\n",
       "      <td>...</td>\n",
       "      <td>...</td>\n",
       "      <td>...</td>\n",
       "      <td>...</td>\n",
       "    </tr>\n",
       "    <tr>\n",
       "      <th>2023-12-21</th>\n",
       "      <td>-0.002546</td>\n",
       "      <td>-0.002241</td>\n",
       "      <td>-0.003799</td>\n",
       "      <td>-0.005846</td>\n",
       "    </tr>\n",
       "    <tr>\n",
       "      <th>2023-12-22</th>\n",
       "      <td>0.006398</td>\n",
       "      <td>0.003814</td>\n",
       "      <td>0.001061</td>\n",
       "      <td>-0.002664</td>\n",
       "    </tr>\n",
       "    <tr>\n",
       "      <th>2023-12-26</th>\n",
       "      <td>0.002735</td>\n",
       "      <td>0.005770</td>\n",
       "      <td>0.003666</td>\n",
       "      <td>0.001409</td>\n",
       "    </tr>\n",
       "    <tr>\n",
       "      <th>2023-12-27</th>\n",
       "      <td>0.010464</td>\n",
       "      <td>-0.006902</td>\n",
       "      <td>0.005793</td>\n",
       "      <td>-0.007479</td>\n",
       "    </tr>\n",
       "    <tr>\n",
       "      <th>2023-12-28</th>\n",
       "      <td>0.014085</td>\n",
       "      <td>0.010016</td>\n",
       "      <td>0.015690</td>\n",
       "      <td>0.014411</td>\n",
       "    </tr>\n",
       "  </tbody>\n",
       "</table>\n",
       "<p>206 rows × 4 columns</p>\n",
       "</div>"
      ],
      "text/plain": [
       "             dynamic       mlq      k200    k200ew\n",
       "2023-02-28  0.002677  0.000000  0.002739  0.001820\n",
       "2023-03-02  0.005291  0.005755  0.004638  0.008460\n",
       "2023-03-03  0.001132 -0.003856  0.000316  0.002391\n",
       "2023-03-06  0.011246  0.004580  0.014477  0.001484\n",
       "2023-03-07 -0.000464 -0.004881 -0.003552 -0.000221\n",
       "...              ...       ...       ...       ...\n",
       "2023-12-21 -0.002546 -0.002241 -0.003799 -0.005846\n",
       "2023-12-22  0.006398  0.003814  0.001061 -0.002664\n",
       "2023-12-26  0.002735  0.005770  0.003666  0.001409\n",
       "2023-12-27  0.010464 -0.006902  0.005793 -0.007479\n",
       "2023-12-28  0.014085  0.010016  0.015690  0.014411\n",
       "\n",
       "[206 rows x 4 columns]"
      ]
     },
     "execution_count": 42,
     "metadata": {},
     "output_type": "execute_result"
    }
   ],
   "source": [
    "final_ret"
   ]
  },
  {
   "cell_type": "code",
   "execution_count": 43,
   "id": "716e356b-effb-40ae-91a5-c61ec8fdbe3d",
   "metadata": {
    "execution": {
     "iopub.execute_input": "2024-01-10T08:58:45.030351Z",
     "iopub.status.busy": "2024-01-10T08:58:45.029874Z",
     "iopub.status.idle": "2024-01-10T08:58:45.039713Z",
     "shell.execute_reply": "2024-01-10T08:58:45.038546Z",
     "shell.execute_reply.started": "2024-01-10T08:58:45.030304Z"
    },
    "tags": []
   },
   "outputs": [],
   "source": [
    "final_cumret=(1+final_ret).cumprod()-1"
   ]
  },
  {
   "cell_type": "code",
   "execution_count": 44,
   "id": "f8766b34-cb85-460d-bc0f-fa18f404ca4b",
   "metadata": {
    "execution": {
     "iopub.execute_input": "2024-01-10T08:58:45.041752Z",
     "iopub.status.busy": "2024-01-10T08:58:45.041238Z",
     "iopub.status.idle": "2024-01-10T08:58:45.111636Z",
     "shell.execute_reply": "2024-01-10T08:58:45.110488Z",
     "shell.execute_reply.started": "2024-01-10T08:58:45.041702Z"
    },
    "tags": []
   },
   "outputs": [],
   "source": [
    "fig, ax1=plt.subplots(figsize=(12, 8))\n",
    "\n",
    "\n",
    "for col in final_cumret.columns:\n",
    "    plt.plot(final_cumret.index, final_cumret[col], label=col)\n",
    "    plt.legend()\n",
    "    # plt.text(.05,.95, col, bbox=bbox, fontsize=14, va='top', ha='left')\n",
    "\n",
    "cum_ret_fig=fig\n",
    "plt.close()\n"
   ]
  },
  {
   "cell_type": "code",
   "execution_count": null,
   "id": "321a96a3-6703-42ee-ad78-991a8eabf904",
   "metadata": {
    "tags": []
   },
   "outputs": [],
   "source": []
  },
  {
   "cell_type": "code",
   "execution_count": 45,
   "id": "ef52fb32-06ac-470d-ac3d-1dcf4bff654a",
   "metadata": {
    "execution": {
     "iopub.execute_input": "2024-01-10T08:58:45.112873Z",
     "iopub.status.busy": "2024-01-10T08:58:45.112568Z",
     "iopub.status.idle": "2024-01-10T08:58:45.115943Z",
     "shell.execute_reply": "2024-01-10T08:58:45.115229Z",
     "shell.execute_reply.started": "2024-01-10T08:58:45.112843Z"
    },
    "tags": []
   },
   "outputs": [],
   "source": [
    "# temp_perf0 = perf.analyze_performance(final_ret['mfm'], \n",
    "#                                      model_name = 'mfm',\n",
    "#                                      bm_return=final_ret['k200'])\n",
    "# temp_perf1 = perf.analyze_performance(final_ret['mfm_emp'], \n",
    "#                                      model_name = 'mfm_emp',\n",
    "#                                      bm_return=final_ret['k200'])\n",
    "# temp_perf2 = perf.analyze_performance(final_ret['dynamic'], \n",
    "#                                      model_name = 'dynamic',\n",
    "#                                      bm_return=final_ret['k200'])\n",
    "# temp_perf3 = perf.analyze_performance(final_ret['mlq'],\n",
    "#                                      # weights = daily_w,\n",
    "#                                      model_name = 'mlq',\n",
    "#                                      bm_return=final_ret['k200'])"
   ]
  },
  {
   "cell_type": "code",
   "execution_count": null,
   "id": "965505bf-4bd2-47fe-b3d7-aa74f99c5f76",
   "metadata": {
    "tags": []
   },
   "outputs": [],
   "source": []
  },
  {
   "cell_type": "code",
   "execution_count": 46,
   "id": "e515549f-f4d6-4783-9f72-d0a4f5af36ee",
   "metadata": {
    "execution": {
     "iopub.execute_input": "2024-01-10T08:58:45.117185Z",
     "iopub.status.busy": "2024-01-10T08:58:45.116869Z",
     "iopub.status.idle": "2024-01-10T08:58:45.141800Z",
     "shell.execute_reply": "2024-01-10T08:58:45.140673Z",
     "shell.execute_reply.started": "2024-01-10T08:58:45.117155Z"
    },
    "tags": []
   },
   "outputs": [],
   "source": [
    "temp_perf2 = perf.analyze_performance(final_ret['dynamic'], \n",
    "                                     model_name = 'dynamic')\n",
    "\n",
    "temp_perf3 = perf.analyze_performance(final_ret['mlq'],\n",
    "                                     # weights = daily_w,\n",
    "                                     model_name = 'mlq')\n"
   ]
  },
  {
   "cell_type": "code",
   "execution_count": 47,
   "id": "2d0b7499-e4b0-4dff-a20e-ea35a19bd2a5",
   "metadata": {
    "execution": {
     "iopub.execute_input": "2024-01-10T08:58:45.143508Z",
     "iopub.status.busy": "2024-01-10T08:58:45.143057Z",
     "iopub.status.idle": "2024-01-10T08:58:45.153129Z",
     "shell.execute_reply": "2024-01-10T08:58:45.151947Z",
     "shell.execute_reply.started": "2024-01-10T08:58:45.143465Z"
    },
    "tags": []
   },
   "outputs": [],
   "source": [
    "ret_item_table=pd.concat([temp_perf2, \n",
    "                           temp_perf3]).T # temp_perf0, temp_perf1, "
   ]
  },
  {
   "cell_type": "code",
   "execution_count": 48,
   "id": "8358229e-5b1a-436b-bde7-7d21d290f65b",
   "metadata": {
    "execution": {
     "iopub.execute_input": "2024-01-10T08:58:45.155165Z",
     "iopub.status.busy": "2024-01-10T08:58:45.154645Z",
     "iopub.status.idle": "2024-01-10T08:58:45.161965Z",
     "shell.execute_reply": "2024-01-10T08:58:45.160801Z",
     "shell.execute_reply.started": "2024-01-10T08:58:45.155115Z"
    },
    "tags": []
   },
   "outputs": [],
   "source": [
    "# fig, ax1=plt.subplots(figsize=(12, 8))\n",
    "\n",
    "# plt.plot(k200ew_ret_excess.index, final_cumret_ew)\n",
    "\n",
    "# for col in k200ew_ret_excess.columns:\n",
    "#     final_value = final_cumret_ew[col].iloc[-12]\n",
    "#     plt.text(final_cumret_ew.index[-12], final_value, col, fontsize=14, va='bottom')"
   ]
  },
  {
   "cell_type": "code",
   "execution_count": 49,
   "id": "8d04350c-16f9-4d71-ad7c-ea1dcf1ff982",
   "metadata": {
    "execution": {
     "iopub.execute_input": "2024-01-10T08:58:45.164038Z",
     "iopub.status.busy": "2024-01-10T08:58:45.163399Z",
     "iopub.status.idle": "2024-01-10T08:58:45.171095Z",
     "shell.execute_reply": "2024-01-10T08:58:45.169948Z",
     "shell.execute_reply.started": "2024-01-10T08:58:45.163987Z"
    },
    "tags": []
   },
   "outputs": [],
   "source": [
    "# pd.concat([temp_perf0, temp_perf1, temp_perf2, temp_perf3]).T #  "
   ]
  },
  {
   "cell_type": "code",
   "execution_count": null,
   "id": "1fdffcee-85b4-4fef-a4d2-f9ad5229635d",
   "metadata": {},
   "outputs": [],
   "source": []
  },
  {
   "cell_type": "markdown",
   "id": "9e93f0a4-3aae-4ea1-80b4-b7aebd8ddd84",
   "metadata": {},
   "source": [
    "## turnover ratio"
   ]
  },
  {
   "cell_type": "code",
   "execution_count": 50,
   "id": "a77953dd-c1b2-4b1d-8ab0-35081dfed678",
   "metadata": {
    "execution": {
     "iopub.execute_input": "2024-01-10T08:58:45.173107Z",
     "iopub.status.busy": "2024-01-10T08:58:45.172583Z",
     "iopub.status.idle": "2024-01-10T08:58:45.184713Z",
     "shell.execute_reply": "2024-01-10T08:58:45.183738Z",
     "shell.execute_reply.started": "2024-01-10T08:58:45.173056Z"
    },
    "tags": []
   },
   "outputs": [
    {
     "data": {
      "text/plain": [
       "5.102917699383594"
      ]
     },
     "execution_count": 50,
     "metadata": {},
     "output_type": "execute_result"
    }
   ],
   "source": [
    "w_diff=abs(daily_w.diff(1))\n",
    "np.sum(w_diff).sum()"
   ]
  },
  {
   "cell_type": "code",
   "execution_count": 84,
   "id": "d2245092-0f73-4919-b59d-fa772396f4fd",
   "metadata": {
    "execution": {
     "iopub.execute_input": "2024-01-10T10:34:18.768962Z",
     "iopub.status.busy": "2024-01-10T10:34:18.768337Z",
     "iopub.status.idle": "2024-01-10T10:34:18.779242Z",
     "shell.execute_reply": "2024-01-10T10:34:18.778187Z",
     "shell.execute_reply.started": "2024-01-10T10:34:18.768906Z"
    },
    "tags": []
   },
   "outputs": [
    {
     "data": {
      "text/plain": [
       "1.1001028297414412"
      ]
     },
     "execution_count": 84,
     "metadata": {},
     "output_type": "execute_result"
    }
   ],
   "source": [
    "np.sum(w_diff).sum()**(1/(len(w_diff.index)-1)*12)"
   ]
  },
  {
   "cell_type": "markdown",
   "id": "80b44c43-a5bc-4b72-bf0a-98deb9310adc",
   "metadata": {},
   "source": [
    "# monthly return plot"
   ]
  },
  {
   "cell_type": "code",
   "execution_count": 52,
   "id": "f6629df1-6c5f-41a8-a582-6f343bab5fd1",
   "metadata": {
    "execution": {
     "iopub.execute_input": "2024-01-10T08:58:45.197918Z",
     "iopub.status.busy": "2024-01-10T08:58:45.197401Z",
     "iopub.status.idle": "2024-01-10T08:58:45.227867Z",
     "shell.execute_reply": "2024-01-10T08:58:45.226721Z",
     "shell.execute_reply.started": "2024-01-10T08:58:45.197869Z"
    },
    "tags": []
   },
   "outputs": [],
   "source": [
    "cumret_ls=[]\n",
    "lastret_ls=[]\n",
    "bm_ls=[]\n",
    "init_ls=[]\n",
    "end_ls=[]\n",
    "\n",
    "temp_eom=final_ret.index+pd.offsets.MonthEnd(0)\n",
    "temp_eom=temp_eom.unique()\n",
    "for idx in temp_eom[1:]:\n",
    "    \n",
    "    temp_df = final_ret.loc[final_ret.index.to_period('M')==idx.to_period('M')]\n",
    "    temp_cum_ret=(1+temp_df).cumprod()-1\n",
    "    \n",
    "    # temp_bm=bm_ret.loc[bm_ret.index.to_period('M')==idx.to_period('M')]           \n",
    "    # temp_bm_ret=(1+temp_bm).cumprod()-1\n",
    "    \n",
    "    if temp_cum_ret.index[-1] not in init_ls:\n",
    "        init_ls.append(temp_cum_ret.index[-1])\n",
    "        end_ls.append(temp_cum_ret.index[0])\n",
    "        \n",
    "        # bm_ls.append(temp_bm_ret)\n",
    "        cumret_ls.append(temp_cum_ret)\n",
    "        lastret_ls.append(temp_cum_ret.iloc[-1])\n",
    "                \n",
    "\n",
    "# bm_ret_m=pd.concat(bm_ls) #.sort_index()\n",
    "ret_m=pd.concat(cumret_ls) #.sort_index()\n",
    "\n",
    "# ret_bm_m=pd.concat([ret_m, bm_ret_m], axis=1).dropna()\n",
    "# ret_m.columns=['dynamic', 'mlq', 'k200', 'k200ew'] # 'mfm', 'mfm_emp', "
   ]
  },
  {
   "cell_type": "code",
   "execution_count": null,
   "id": "3fab32fd-3cda-4ba0-9660-1dfd41f79a5c",
   "metadata": {
    "tags": []
   },
   "outputs": [],
   "source": []
  },
  {
   "cell_type": "code",
   "execution_count": 82,
   "id": "32163079-8bc0-4d3c-9b57-7cbd984acb0a",
   "metadata": {
    "execution": {
     "iopub.execute_input": "2024-01-10T10:28:17.736035Z",
     "iopub.status.busy": "2024-01-10T10:28:17.735405Z",
     "iopub.status.idle": "2024-01-10T10:28:17.813089Z",
     "shell.execute_reply": "2024-01-10T10:28:17.811993Z",
     "shell.execute_reply.started": "2024-01-10T10:28:17.735978Z"
    },
    "tags": []
   },
   "outputs": [
    {
     "name": "stdout",
     "output_type": "stream",
     "text": [
      "2023-03-02 00:00:00\n",
      "2023-04-03 00:00:00\n",
      "2023-05-02 00:00:00\n",
      "2023-06-01 00:00:00\n",
      "2023-07-03 00:00:00\n",
      "2023-08-01 00:00:00\n",
      "2023-09-01 00:00:00\n",
      "2023-10-04 00:00:00\n",
      "2023-11-01 00:00:00\n",
      "2023-12-01 00:00:00\n"
     ]
    }
   ],
   "source": [
    "fig, ax1=plt.subplots(figsize=(12, 8))\n",
    "\n",
    "for col in ret_m.columns:\n",
    "    plt.plot(ret_m.index, ret_m.loc[:, col], label=col)\n",
    "    # plt.plot(ret_m.index, ret_m.iloc[:, -1], label=col, linewidth=2.5, linestyle='--')\n",
    "\n",
    "for j, vl in enumerate(end_ls):\n",
    "    print(vl)\n",
    "    plt.axvline(x=vl, color='gray', linestyle='-', linewidth=3)\n",
    "    plt.axvline(x=end_ls[j], color='gray', linestyle='-', linewidth=3)\n",
    "    \n",
    "# for col in ret_bm_m.columns:\n",
    "    # final_value = ret_bm_m[col].iloc[-12]\n",
    "    # plt.text(temp_cum_ret.index[-12], final_value, col, fontsize=14, va='bottom')\n",
    "    # plt.text(1, y[i], str(txt), ha='center', va='bottom', fontsize=10, loc='best')\n",
    "\n",
    "plt.legend()\n",
    "\n",
    "monthly_cumret_fig=fig\n",
    "plt.close()\n",
    "# plt.show()"
   ]
  },
  {
   "cell_type": "code",
   "execution_count": 54,
   "id": "fd8f77e3-24d8-4329-9042-0e83d8d2a66b",
   "metadata": {
    "execution": {
     "iopub.execute_input": "2024-01-10T08:58:45.472349Z",
     "iopub.status.busy": "2024-01-10T08:58:45.472090Z",
     "iopub.status.idle": "2024-01-10T08:58:45.528508Z",
     "shell.execute_reply": "2024-01-10T08:58:45.527858Z",
     "shell.execute_reply.started": "2024-01-10T08:58:45.472322Z"
    },
    "tags": []
   },
   "outputs": [],
   "source": [
    "month_endret=pd.concat(lastret_ls, axis=1).T\n",
    "month_endret.index.name='Dates'\n",
    "\n",
    "fig, ax = plt.subplots(figsize = (12, 8))\n",
    "\n",
    "for i, col in enumerate(month_endret.columns):\n",
    "    plt.bar(month_endret.index + pd.DateOffset(days=i*2), month_endret[col], 2)\n",
    "    \n",
    "ax.legend(labels = month_endret.columns,\n",
    "      fontsize = 12,\n",
    "      title_fontsize = 18)\n",
    "ax.legend_.set_bbox_to_anchor([0.3, 1])\n",
    "\n",
    "monthly_ret_fig=fig\n",
    "plt.close()\n",
    "\n"
   ]
  },
  {
   "cell_type": "code",
   "execution_count": null,
   "id": "da0cdd89-45bd-46ae-a8b8-00b93471d0d1",
   "metadata": {},
   "outputs": [],
   "source": []
  },
  {
   "cell_type": "code",
   "execution_count": 69,
   "id": "faa83020-e256-4153-b26c-f0b627d27118",
   "metadata": {
    "execution": {
     "iopub.execute_input": "2024-01-10T10:08:12.597433Z",
     "iopub.status.busy": "2024-01-10T10:08:12.596738Z",
     "iopub.status.idle": "2024-01-10T10:08:12.829071Z",
     "shell.execute_reply": "2024-01-10T10:08:12.827822Z",
     "shell.execute_reply.started": "2024-01-10T10:08:12.597373Z"
    },
    "tags": []
   },
   "outputs": [
    {
     "data": {
      "image/png": "[encoded data removed]",
      "text/plain": [
       "<Figure size 864x576 with 1 Axes>"
      ]
     },
     "execution_count": 69,
     "metadata": {},
     "output_type": "execute_result"
    }
   ],
   "source": [
    "cum_ret_fig\n"
   ]
  },
  {
   "cell_type": "code",
   "execution_count": 70,
   "id": "4f73f5fc-dc40-4394-ba71-7ade7845c6ce",
   "metadata": {
    "execution": {
     "iopub.execute_input": "2024-01-10T10:08:31.143216Z",
     "iopub.status.busy": "2024-01-10T10:08:31.142560Z",
     "iopub.status.idle": "2024-01-10T10:08:31.156832Z",
     "shell.execute_reply": "2024-01-10T10:08:31.155760Z",
     "shell.execute_reply.started": "2024-01-10T10:08:31.143157Z"
    }
   },
   "outputs": [
    {
     "data": {
      "text/html": [
       "<div>\n",
       "<style scoped>\n",
       "    .dataframe tbody tr th:only-of-type {\n",
       "        vertical-align: middle;\n",
       "    }\n",
       "\n",
       "    .dataframe tbody tr th {\n",
       "        vertical-align: top;\n",
       "    }\n",
       "\n",
       "    .dataframe thead th {\n",
       "        text-align: right;\n",
       "    }\n",
       "</style>\n",
       "<table border=\"1\" class=\"dataframe\">\n",
       "  <thead>\n",
       "    <tr style=\"text-align: right;\">\n",
       "      <th></th>\n",
       "      <th>dynamic</th>\n",
       "      <th>mlq</th>\n",
       "    </tr>\n",
       "  </thead>\n",
       "  <tbody>\n",
       "    <tr>\n",
       "      <th>cum return(%)</th>\n",
       "      <td>19.44</td>\n",
       "      <td>16.95</td>\n",
       "    </tr>\n",
       "    <tr>\n",
       "      <th>cagr(%)</th>\n",
       "      <td>24.27</td>\n",
       "      <td>21.11</td>\n",
       "    </tr>\n",
       "    <tr>\n",
       "      <th>vol(te)</th>\n",
       "      <td>0.14</td>\n",
       "      <td>0.14</td>\n",
       "    </tr>\n",
       "    <tr>\n",
       "      <th>sharpe(ir)</th>\n",
       "      <td>1.68</td>\n",
       "      <td>1.53</td>\n",
       "    </tr>\n",
       "    <tr>\n",
       "      <th>mdd(%)</th>\n",
       "      <td>-10.78</td>\n",
       "      <td>-6.96</td>\n",
       "    </tr>\n",
       "    <tr>\n",
       "      <th>turnover(%)</th>\n",
       "      <td>0</td>\n",
       "      <td>0</td>\n",
       "    </tr>\n",
       "    <tr>\n",
       "      <th>start date</th>\n",
       "      <td>2023-02-28 00:00:00</td>\n",
       "      <td>2023-02-28 00:00:00</td>\n",
       "    </tr>\n",
       "    <tr>\n",
       "      <th>end date</th>\n",
       "      <td>2023-12-28 00:00:00</td>\n",
       "      <td>2023-12-28 00:00:00</td>\n",
       "    </tr>\n",
       "  </tbody>\n",
       "</table>\n",
       "</div>"
      ],
      "text/plain": [
       "                           dynamic                  mlq\n",
       "cum return(%)                19.44                16.95\n",
       "cagr(%)                      24.27                21.11\n",
       "vol(te)                       0.14                 0.14\n",
       "sharpe(ir)                    1.68                 1.53\n",
       "mdd(%)                      -10.78                -6.96\n",
       "turnover(%)                      0                    0\n",
       "start date     2023-02-28 00:00:00  2023-02-28 00:00:00\n",
       "end date       2023-12-28 00:00:00  2023-12-28 00:00:00"
      ]
     },
     "execution_count": 70,
     "metadata": {},
     "output_type": "execute_result"
    }
   ],
   "source": [
    "ret_item_table\n"
   ]
  },
  {
   "cell_type": "code",
   "execution_count": 71,
   "id": "cc9f7eae-bc7a-42a0-80c6-16a02b2ba923",
   "metadata": {
    "execution": {
     "iopub.execute_input": "2024-01-10T10:08:31.467451Z",
     "iopub.status.busy": "2024-01-10T10:08:31.467108Z",
     "iopub.status.idle": "2024-01-10T10:08:31.765932Z",
     "shell.execute_reply": "2024-01-10T10:08:31.764660Z",
     "shell.execute_reply.started": "2024-01-10T10:08:31.467419Z"
    }
   },
   "outputs": [
    {
     "data": {
      "image/png": "[encoded data removed]",
      "text/plain": [
       "<Figure size 864x576 with 1 Axes>"
      ]
     },
     "execution_count": 71,
     "metadata": {},
     "output_type": "execute_result"
    }
   ],
   "source": [
    "monthly_cumret_fig\n"
   ]
  },
  {
   "cell_type": "code",
   "execution_count": 83,
   "id": "7f77aa00-f77e-42c6-b1e4-55407e96b42f",
   "metadata": {
    "execution": {
     "iopub.execute_input": "2024-01-10T10:28:23.521900Z",
     "iopub.status.busy": "2024-01-10T10:28:23.521252Z",
     "iopub.status.idle": "2024-01-10T10:28:23.731616Z",
     "shell.execute_reply": "2024-01-10T10:28:23.730714Z",
     "shell.execute_reply.started": "2024-01-10T10:28:23.521845Z"
    },
    "tags": []
   },
   "outputs": [
    {
     "data": {
      "image/png": "[encoded data removed]",
      "text/plain": [
       "<Figure size 864x576 with 1 Axes>"
      ]
     },
     "execution_count": 83,
     "metadata": {},
     "output_type": "execute_result"
    }
   ],
   "source": [
    "monthly_ret_fig"
   ]
  },
  {
   "cell_type": "code",
   "execution_count": null,
   "id": "93d2ff16-46c1-4362-8c3a-dc2a32f9d079",
   "metadata": {},
   "outputs": [],
   "source": []
  },
  {
   "cell_type": "markdown",
   "id": "f7959d07-bd22-4309-8837-ad85d28e95e0",
   "metadata": {},
   "source": [
    "# excess_return"
   ]
  },
  {
   "cell_type": "code",
   "execution_count": 56,
   "id": "a92198c5-6812-45f2-b3f3-15f53eba7dfe",
   "metadata": {
    "execution": {
     "iopub.execute_input": "2024-01-10T08:58:45.717435Z",
     "iopub.status.busy": "2024-01-10T08:58:45.717133Z",
     "iopub.status.idle": "2024-01-10T08:58:45.781281Z",
     "shell.execute_reply": "2024-01-10T08:58:45.780036Z",
     "shell.execute_reply.started": "2024-01-10T08:58:45.717404Z"
    },
    "tags": []
   },
   "outputs": [],
   "source": [
    "ret_excess=ret.subtract(bm_ret['코스피 200'], axis=0).dropna(how='all')"
   ]
  },
  {
   "cell_type": "code",
   "execution_count": 58,
   "id": "77d57726-91cf-419d-bd31-90f864557c3d",
   "metadata": {
    "execution": {
     "iopub.execute_input": "2024-01-10T09:52:52.683215Z",
     "iopub.status.busy": "2024-01-10T09:52:52.682572Z",
     "iopub.status.idle": "2024-01-10T09:52:52.703629Z",
     "shell.execute_reply": "2024-01-10T09:52:52.702376Z",
     "shell.execute_reply.started": "2024-01-10T09:52:52.683157Z"
    }
   },
   "outputs": [],
   "source": [
    "mlq_ret_excess=daily_w*ret_excess.loc[daily_w.index]\n",
    "mlq_idx_ret_excess=mlq_ret_excess.sum(1)"
   ]
  },
  {
   "cell_type": "code",
   "execution_count": null,
   "id": "15dcec9d-1160-4a10-8718-049e868f510b",
   "metadata": {
    "tags": []
   },
   "outputs": [],
   "source": []
  },
  {
   "cell_type": "code",
   "execution_count": 59,
   "id": "e34b2e83-661e-4609-8b05-3fa48a95d77a",
   "metadata": {
    "execution": {
     "iopub.execute_input": "2024-01-10T10:05:19.403406Z",
     "iopub.status.busy": "2024-01-10T10:05:19.402763Z",
     "iopub.status.idle": "2024-01-10T10:05:19.426365Z",
     "shell.execute_reply": "2024-01-10T10:05:19.425132Z",
     "shell.execute_reply.started": "2024-01-10T10:05:19.403347Z"
    }
   },
   "outputs": [],
   "source": [
    "final_ret=pd.concat([model_ret['dynamic'], idx_ret_cost, bm_ret], axis=1).dropna()\n",
    "final_ret.columns=['dynamic', 'mlq', 'k200', 'k200ew'] # 'mfm', 'mfm_emp', \n",
    "k200_ret_excess=final_ret[['dynamic', 'mlq']].subtract(final_ret['k200'], axis=0) # 'mfm', 'mfm_emp', \n",
    "k200ew_ret_excess=final_ret[['dynamic', 'mlq']].subtract(final_ret['k200ew'], axis=0) # 'mfm', 'mfm_emp', "
   ]
  },
  {
   "cell_type": "code",
   "execution_count": 60,
   "id": "5f36ca4b-e0c8-48e5-a60e-aeac874155b4",
   "metadata": {
    "execution": {
     "iopub.execute_input": "2024-01-10T10:05:20.082679Z",
     "iopub.status.busy": "2024-01-10T10:05:20.082109Z",
     "iopub.status.idle": "2024-01-10T10:05:20.089629Z",
     "shell.execute_reply": "2024-01-10T10:05:20.088536Z",
     "shell.execute_reply.started": "2024-01-10T10:05:20.082627Z"
    }
   },
   "outputs": [],
   "source": [
    "final_cumret=((1+k200_ret_excess).cumprod()-1)\n",
    "final_cumret_ew=((1+k200ew_ret_excess).cumprod()-1)\n"
   ]
  },
  {
   "cell_type": "code",
   "execution_count": 61,
   "id": "9b68f725-78f2-4a2c-9173-1db0458eda63",
   "metadata": {
    "execution": {
     "iopub.execute_input": "2024-01-10T10:05:20.482306Z",
     "iopub.status.busy": "2024-01-10T10:05:20.481772Z",
     "iopub.status.idle": "2024-01-10T10:05:20.751277Z",
     "shell.execute_reply": "2024-01-10T10:05:20.750295Z",
     "shell.execute_reply.started": "2024-01-10T10:05:20.482253Z"
    }
   },
   "outputs": [
    {
     "data": {
      "text/plain": [
       "<matplotlib.legend.Legend at 0x7f696d76f3a0>"
      ]
     },
     "execution_count": 61,
     "metadata": {},
     "output_type": "execute_result"
    },
    {
     "data": {
      "image/png": "[encoded data removed]",
      "text/plain": [
       "<Figure size 864x576 with 1 Axes>"
      ]
     },
     "metadata": {
      "needs_background": "light"
     },
     "output_type": "display_data"
    }
   ],
   "source": [
    "fig, ax1=plt.subplots(figsize=(12, 8))\n",
    "\n",
    "for col in k200_ret_excess.columns:\n",
    "    # final_value = final_cumret[col].iloc[-12]\n",
    "    plt.plot(k200_ret_excess.index, final_cumret[col], label=col)\n",
    "    # plt.text(final_cumret.index[-12], final_value, col, fontsize=14, va='bottom')\n",
    "\n",
    "plt.legend()"
   ]
  },
  {
   "cell_type": "code",
   "execution_count": 62,
   "id": "e4d7c594-dd32-47a7-9d4d-5ae1d193eb3a",
   "metadata": {
    "execution": {
     "iopub.execute_input": "2024-01-10T10:05:20.943177Z",
     "iopub.status.busy": "2024-01-10T10:05:20.942888Z",
     "iopub.status.idle": "2024-01-10T10:05:20.953574Z",
     "shell.execute_reply": "2024-01-10T10:05:20.952725Z",
     "shell.execute_reply.started": "2024-01-10T10:05:20.943153Z"
    }
   },
   "outputs": [],
   "source": [
    "temp_perf2 = perf.analyze_performance(final_ret['dynamic'], \n",
    "                                     model_name = 'dynamic',\n",
    "                                     bm_return=final_ret['k200'])\n",
    "\n",
    "temp_perf3 = perf.analyze_performance(final_ret['mlq'],\n",
    "                                     # weights = daily_w,\n",
    "                                     model_name = 'mlq',\n",
    "                                     bm_return=final_ret['k200'])"
   ]
  },
  {
   "cell_type": "code",
   "execution_count": 63,
   "id": "afb68831-293a-4411-beca-b7ea5f61bbcc",
   "metadata": {
    "execution": {
     "iopub.execute_input": "2024-01-10T10:05:21.731078Z",
     "iopub.status.busy": "2024-01-10T10:05:21.730521Z",
     "iopub.status.idle": "2024-01-10T10:05:21.747098Z",
     "shell.execute_reply": "2024-01-10T10:05:21.746108Z",
     "shell.execute_reply.started": "2024-01-10T10:05:21.731026Z"
    }
   },
   "outputs": [
    {
     "data": {
      "text/html": [
       "<div>\n",
       "<style scoped>\n",
       "    .dataframe tbody tr th:only-of-type {\n",
       "        vertical-align: middle;\n",
       "    }\n",
       "\n",
       "    .dataframe tbody tr th {\n",
       "        vertical-align: top;\n",
       "    }\n",
       "\n",
       "    .dataframe thead th {\n",
       "        text-align: right;\n",
       "    }\n",
       "</style>\n",
       "<table border=\"1\" class=\"dataframe\">\n",
       "  <thead>\n",
       "    <tr style=\"text-align: right;\">\n",
       "      <th></th>\n",
       "      <th>dynamic</th>\n",
       "      <th>mlq</th>\n",
       "    </tr>\n",
       "  </thead>\n",
       "  <tbody>\n",
       "    <tr>\n",
       "      <th>cum return(%)</th>\n",
       "      <td>4.62</td>\n",
       "      <td>2.21</td>\n",
       "    </tr>\n",
       "    <tr>\n",
       "      <th>cagr(%)</th>\n",
       "      <td>5.68</td>\n",
       "      <td>2.71</td>\n",
       "    </tr>\n",
       "    <tr>\n",
       "      <th>vol(te)</th>\n",
       "      <td>0.03</td>\n",
       "      <td>0.07</td>\n",
       "    </tr>\n",
       "    <tr>\n",
       "      <th>sharpe(ir)</th>\n",
       "      <td>2.02</td>\n",
       "      <td>0.4</td>\n",
       "    </tr>\n",
       "    <tr>\n",
       "      <th>mdd(%)</th>\n",
       "      <td>-1.5</td>\n",
       "      <td>-4.08</td>\n",
       "    </tr>\n",
       "    <tr>\n",
       "      <th>turnover(%)</th>\n",
       "      <td>0</td>\n",
       "      <td>0</td>\n",
       "    </tr>\n",
       "    <tr>\n",
       "      <th>start date</th>\n",
       "      <td>2023-02-28 00:00:00</td>\n",
       "      <td>2023-02-28 00:00:00</td>\n",
       "    </tr>\n",
       "    <tr>\n",
       "      <th>end date</th>\n",
       "      <td>2023-12-28 00:00:00</td>\n",
       "      <td>2023-12-28 00:00:00</td>\n",
       "    </tr>\n",
       "  </tbody>\n",
       "</table>\n",
       "</div>"
      ],
      "text/plain": [
       "                           dynamic                  mlq\n",
       "cum return(%)                 4.62                 2.21\n",
       "cagr(%)                       5.68                 2.71\n",
       "vol(te)                       0.03                 0.07\n",
       "sharpe(ir)                    2.02                  0.4\n",
       "mdd(%)                        -1.5                -4.08\n",
       "turnover(%)                      0                    0\n",
       "start date     2023-02-28 00:00:00  2023-02-28 00:00:00\n",
       "end date       2023-12-28 00:00:00  2023-12-28 00:00:00"
      ]
     },
     "execution_count": 63,
     "metadata": {},
     "output_type": "execute_result"
    }
   ],
   "source": [
    "pd.concat([temp_perf2, temp_perf3]).T"
   ]
  },
  {
   "cell_type": "code",
   "execution_count": 64,
   "id": "7d81007a-21b8-4a60-b73b-736d19cc1fd2",
   "metadata": {
    "execution": {
     "iopub.execute_input": "2024-01-10T10:05:22.091898Z",
     "iopub.status.busy": "2024-01-10T10:05:22.091364Z",
     "iopub.status.idle": "2024-01-10T10:05:22.460878Z",
     "shell.execute_reply": "2024-01-10T10:05:22.459994Z",
     "shell.execute_reply.started": "2024-01-10T10:05:22.091846Z"
    }
   },
   "outputs": [
    {
     "name": "stdout",
     "output_type": "stream",
     "text": [
      "2023-03-31 00:00:00\n",
      "2023-04-28 00:00:00\n",
      "2023-05-31 00:00:00\n",
      "2023-06-30 00:00:00\n",
      "2023-07-31 00:00:00\n",
      "2023-08-31 00:00:00\n",
      "2023-09-27 00:00:00\n",
      "2023-10-31 00:00:00\n",
      "2023-11-30 00:00:00\n",
      "2023-12-28 00:00:00\n"
     ]
    },
    {
     "data": {
      "image/png": "[encoded data removed]",
      "text/plain": [
       "<Figure size 864x576 with 1 Axes>"
      ]
     },
     "metadata": {
      "needs_background": "light"
     },
     "output_type": "display_data"
    }
   ],
   "source": [
    "cumret_ls=[]\n",
    "lastret_ls=[]\n",
    "bm_ls=[]\n",
    "init_ls=[]\n",
    "end_ls=[]\n",
    "\n",
    "temp_eom=k200_ret_excess.index+pd.offsets.MonthEnd(0)\n",
    "temp_eom=temp_eom.unique()\n",
    "for idx in temp_eom[1:]:\n",
    "    \n",
    "    temp_df = k200_ret_excess.loc[k200_ret_excess.index.to_period('M')==idx.to_period('M')]\n",
    "    temp_cum_ret=(1+temp_df).cumprod()-1\n",
    "    \n",
    "    temp_bm=bm_ret.loc[bm_ret.index.to_period('M')==idx.to_period('M')]           \n",
    "    temp_bm_ret=(1+temp_bm).cumprod()-1\n",
    "    \n",
    "    if temp_cum_ret.index[-1] not in init_ls:\n",
    "        init_ls.append(temp_cum_ret.index[-1])\n",
    "        end_ls.append(temp_cum_ret.index[0])\n",
    "        \n",
    "        bm_ls.append(temp_bm_ret)\n",
    "        cumret_ls.append(temp_cum_ret)\n",
    "        lastret_ls.append(temp_cum_ret.iloc[-1])\n",
    "                \n",
    "\n",
    "bm_ret_m=pd.concat(bm_ls) #.sort_index()\n",
    "ret_m=pd.concat(cumret_ls) #.sort_index()\n",
    "\n",
    "# ret_bm_m=pd.concat([ret_m, bm_ret_m], axis=1).dropna()\n",
    "# ret_bm_m.columns=['dynamic', 'mlq', 'k200', 'k200ew'] # 'mfm', 'mfm_emp', \n",
    "\n",
    "\n",
    "fig, ax1=plt.subplots(figsize=(12, 8))\n",
    "\n",
    "for col in ret_m.columns:\n",
    "    plt.plot(ret_m.index, ret_m.loc[:, col], label=col)\n",
    "    # plt.plot(ret_bm_m.index, ret_bm_m.iloc[:, -1], linewidth=2.5, linestyle='--')\n",
    "\n",
    "for j, vl in enumerate(end_ls):\n",
    "    print(vl)\n",
    "    plt.axvline(x=vl, color='gray', linestyle='-', linewidth=3)\n",
    "    plt.axvline(x=end_ls[j], color='gray', linestyle='-', linewidth=3)\n",
    "    \n",
    "# for col in ret_bm_m.columns:\n",
    "    # final_value = ret_bm_m[col].iloc[-12]\n",
    "    # plt.text(temp_cum_ret.index[-12], final_value, col, fontsize=14, va='bottom')\n",
    "    # plt.text(1, y[i], str(txt), ha='center', va='bottom', fontsize=10, loc='best')\n",
    "\n",
    "plt.legend()\n",
    "plt.show()"
   ]
  },
  {
   "cell_type": "code",
   "execution_count": 65,
   "id": "172e601e-c237-40ea-b25e-a371e04e85e6",
   "metadata": {
    "execution": {
     "iopub.execute_input": "2024-01-10T10:05:22.703547Z",
     "iopub.status.busy": "2024-01-10T10:05:22.703316Z",
     "iopub.status.idle": "2024-01-10T10:05:22.706879Z",
     "shell.execute_reply": "2024-01-10T10:05:22.706035Z",
     "shell.execute_reply.started": "2024-01-10T10:05:22.703525Z"
    }
   },
   "outputs": [],
   "source": [
    "month_endret.index.name='Dates'"
   ]
  },
  {
   "cell_type": "code",
   "execution_count": 76,
   "id": "8ea9a51b-eec8-4e6f-9848-5dff97b58800",
   "metadata": {
    "execution": {
     "iopub.execute_input": "2024-01-10T10:19:28.298624Z",
     "iopub.status.busy": "2024-01-10T10:19:28.298000Z",
     "iopub.status.idle": "2024-01-10T10:19:28.650299Z",
     "shell.execute_reply": "2024-01-10T10:19:28.649393Z",
     "shell.execute_reply.started": "2024-01-10T10:19:28.298569Z"
    },
    "tags": []
   },
   "outputs": [
    {
     "data": {
      "image/png": "[encoded data removed]",
      "text/plain": [
       "<Figure size 864x576 with 1 Axes>"
      ]
     },
     "metadata": {
      "needs_background": "light"
     },
     "output_type": "display_data"
    }
   ],
   "source": [
    "# plt.figure(figsize=(12, 8))\n",
    "fig, ax = plt.subplots(figsize = (12, 8))\n",
    "\n",
    "for i, col in enumerate(month_endret.columns):\n",
    "    plt.bar(month_endret.index + pd.DateOffset(days=i*2), month_endret[col], 2)\n",
    "    \n",
    "ax.legend(labels = month_endret.columns,\n",
    "      fontsize = 12,\n",
    "      title_fontsize = 18)\n",
    "ax.legend_.set_bbox_to_anchor([0.3, 1])\n",
    "    "
   ]
  },
  {
   "cell_type": "code",
   "execution_count": null,
   "id": "acae4ffc-5457-4228-999c-bda621bb4706",
   "metadata": {},
   "outputs": [],
   "source": []
  },
  {
   "cell_type": "code",
   "execution_count": null,
   "id": "b4205008-826c-4fc8-9b19-dce36cf00f3e",
   "metadata": {},
   "outputs": [],
   "source": []
  },
  {
   "cell_type": "code",
   "execution_count": 87,
   "id": "75b25710-19b9-4498-bafb-4d5ee165a483",
   "metadata": {
    "execution": {
     "iopub.execute_input": "2024-01-10T10:39:59.877107Z",
     "iopub.status.busy": "2024-01-10T10:39:59.876429Z",
     "iopub.status.idle": "2024-01-10T10:39:59.934731Z",
     "shell.execute_reply": "2024-01-10T10:39:59.933675Z",
     "shell.execute_reply.started": "2024-01-10T10:39:59.877016Z"
    }
   },
   "outputs": [
    {
     "data": {
      "text/html": [
       "<div>\n",
       "<style scoped>\n",
       "    .dataframe tbody tr th:only-of-type {\n",
       "        vertical-align: middle;\n",
       "    }\n",
       "\n",
       "    .dataframe tbody tr th {\n",
       "        vertical-align: top;\n",
       "    }\n",
       "\n",
       "    .dataframe thead th {\n",
       "        text-align: right;\n",
       "    }\n",
       "</style>\n",
       "<table border=\"1\" class=\"dataframe\">\n",
       "  <thead>\n",
       "    <tr style=\"text-align: right;\">\n",
       "      <th>Symbol</th>\n",
       "      <th>A000010</th>\n",
       "      <th>A000020</th>\n",
       "      <th>A000030</th>\n",
       "      <th>A000040</th>\n",
       "      <th>A000050</th>\n",
       "      <th>A000060</th>\n",
       "      <th>A000070</th>\n",
       "      <th>A000080</th>\n",
       "      <th>A000090</th>\n",
       "      <th>A000100</th>\n",
       "      <th>...</th>\n",
       "      <th>A453340</th>\n",
       "      <th>A456040</th>\n",
       "      <th>A457190</th>\n",
       "      <th>A900030</th>\n",
       "      <th>A900050</th>\n",
       "      <th>A900140</th>\n",
       "      <th>A950010</th>\n",
       "      <th>A950070</th>\n",
       "      <th>A950100</th>\n",
       "      <th>A950210</th>\n",
       "    </tr>\n",
       "    <tr>\n",
       "      <th>Dates</th>\n",
       "      <th></th>\n",
       "      <th></th>\n",
       "      <th></th>\n",
       "      <th></th>\n",
       "      <th></th>\n",
       "      <th></th>\n",
       "      <th></th>\n",
       "      <th></th>\n",
       "      <th></th>\n",
       "      <th></th>\n",
       "      <th></th>\n",
       "      <th></th>\n",
       "      <th></th>\n",
       "      <th></th>\n",
       "      <th></th>\n",
       "      <th></th>\n",
       "      <th></th>\n",
       "      <th></th>\n",
       "      <th></th>\n",
       "      <th></th>\n",
       "      <th></th>\n",
       "    </tr>\n",
       "  </thead>\n",
       "  <tbody>\n",
       "    <tr>\n",
       "      <th>2023-01-02</th>\n",
       "      <td>NaN</td>\n",
       "      <td>9500.0</td>\n",
       "      <td>NaN</td>\n",
       "      <td>561.0</td>\n",
       "      <td>10900.0</td>\n",
       "      <td>48400.0</td>\n",
       "      <td>67000.0</td>\n",
       "      <td>24400.0</td>\n",
       "      <td>NaN</td>\n",
       "      <td>56400.0</td>\n",
       "      <td>...</td>\n",
       "      <td>NaN</td>\n",
       "      <td>NaN</td>\n",
       "      <td>NaN</td>\n",
       "      <td>NaN</td>\n",
       "      <td>NaN</td>\n",
       "      <td>1781.0</td>\n",
       "      <td>NaN</td>\n",
       "      <td>NaN</td>\n",
       "      <td>NaN</td>\n",
       "      <td>7180.0</td>\n",
       "    </tr>\n",
       "    <tr>\n",
       "      <th>2023-01-03</th>\n",
       "      <td>NaN</td>\n",
       "      <td>9200.0</td>\n",
       "      <td>NaN</td>\n",
       "      <td>553.0</td>\n",
       "      <td>10600.0</td>\n",
       "      <td>47050.0</td>\n",
       "      <td>67100.0</td>\n",
       "      <td>24100.0</td>\n",
       "      <td>NaN</td>\n",
       "      <td>55600.0</td>\n",
       "      <td>...</td>\n",
       "      <td>NaN</td>\n",
       "      <td>NaN</td>\n",
       "      <td>NaN</td>\n",
       "      <td>NaN</td>\n",
       "      <td>NaN</td>\n",
       "      <td>1798.0</td>\n",
       "      <td>NaN</td>\n",
       "      <td>NaN</td>\n",
       "      <td>NaN</td>\n",
       "      <td>7180.0</td>\n",
       "    </tr>\n",
       "    <tr>\n",
       "      <th>2023-01-04</th>\n",
       "      <td>NaN</td>\n",
       "      <td>9330.0</td>\n",
       "      <td>NaN</td>\n",
       "      <td>551.0</td>\n",
       "      <td>10600.0</td>\n",
       "      <td>48500.0</td>\n",
       "      <td>68600.0</td>\n",
       "      <td>24150.0</td>\n",
       "      <td>NaN</td>\n",
       "      <td>55200.0</td>\n",
       "      <td>...</td>\n",
       "      <td>NaN</td>\n",
       "      <td>NaN</td>\n",
       "      <td>NaN</td>\n",
       "      <td>NaN</td>\n",
       "      <td>NaN</td>\n",
       "      <td>1795.0</td>\n",
       "      <td>NaN</td>\n",
       "      <td>NaN</td>\n",
       "      <td>NaN</td>\n",
       "      <td>7270.0</td>\n",
       "    </tr>\n",
       "    <tr>\n",
       "      <th>2023-01-05</th>\n",
       "      <td>NaN</td>\n",
       "      <td>9350.0</td>\n",
       "      <td>NaN</td>\n",
       "      <td>549.0</td>\n",
       "      <td>10550.0</td>\n",
       "      <td>46750.0</td>\n",
       "      <td>70000.0</td>\n",
       "      <td>24100.0</td>\n",
       "      <td>NaN</td>\n",
       "      <td>54800.0</td>\n",
       "      <td>...</td>\n",
       "      <td>NaN</td>\n",
       "      <td>NaN</td>\n",
       "      <td>NaN</td>\n",
       "      <td>NaN</td>\n",
       "      <td>NaN</td>\n",
       "      <td>1785.0</td>\n",
       "      <td>NaN</td>\n",
       "      <td>NaN</td>\n",
       "      <td>NaN</td>\n",
       "      <td>7250.0</td>\n",
       "    </tr>\n",
       "    <tr>\n",
       "      <th>2023-01-06</th>\n",
       "      <td>NaN</td>\n",
       "      <td>9410.0</td>\n",
       "      <td>NaN</td>\n",
       "      <td>549.0</td>\n",
       "      <td>10650.0</td>\n",
       "      <td>45600.0</td>\n",
       "      <td>69300.0</td>\n",
       "      <td>24250.0</td>\n",
       "      <td>NaN</td>\n",
       "      <td>54700.0</td>\n",
       "      <td>...</td>\n",
       "      <td>NaN</td>\n",
       "      <td>NaN</td>\n",
       "      <td>NaN</td>\n",
       "      <td>NaN</td>\n",
       "      <td>NaN</td>\n",
       "      <td>1791.0</td>\n",
       "      <td>NaN</td>\n",
       "      <td>NaN</td>\n",
       "      <td>NaN</td>\n",
       "      <td>7170.0</td>\n",
       "    </tr>\n",
       "    <tr>\n",
       "      <th>...</th>\n",
       "      <td>...</td>\n",
       "      <td>...</td>\n",
       "      <td>...</td>\n",
       "      <td>...</td>\n",
       "      <td>...</td>\n",
       "      <td>...</td>\n",
       "      <td>...</td>\n",
       "      <td>...</td>\n",
       "      <td>...</td>\n",
       "      <td>...</td>\n",
       "      <td>...</td>\n",
       "      <td>...</td>\n",
       "      <td>...</td>\n",
       "      <td>...</td>\n",
       "      <td>...</td>\n",
       "      <td>...</td>\n",
       "      <td>...</td>\n",
       "      <td>...</td>\n",
       "      <td>...</td>\n",
       "      <td>...</td>\n",
       "      <td>...</td>\n",
       "    </tr>\n",
       "    <tr>\n",
       "      <th>2023-12-21</th>\n",
       "      <td>NaN</td>\n",
       "      <td>9730.0</td>\n",
       "      <td>NaN</td>\n",
       "      <td>363.0</td>\n",
       "      <td>8740.0</td>\n",
       "      <td>NaN</td>\n",
       "      <td>70300.0</td>\n",
       "      <td>23300.0</td>\n",
       "      <td>NaN</td>\n",
       "      <td>62497.0</td>\n",
       "      <td>...</td>\n",
       "      <td>11430.0</td>\n",
       "      <td>109000.0</td>\n",
       "      <td>170900.0</td>\n",
       "      <td>NaN</td>\n",
       "      <td>NaN</td>\n",
       "      <td>2650.0</td>\n",
       "      <td>NaN</td>\n",
       "      <td>NaN</td>\n",
       "      <td>NaN</td>\n",
       "      <td>9360.0</td>\n",
       "    </tr>\n",
       "    <tr>\n",
       "      <th>2023-12-22</th>\n",
       "      <td>NaN</td>\n",
       "      <td>9920.0</td>\n",
       "      <td>NaN</td>\n",
       "      <td>356.0</td>\n",
       "      <td>8920.0</td>\n",
       "      <td>NaN</td>\n",
       "      <td>70000.0</td>\n",
       "      <td>23150.0</td>\n",
       "      <td>NaN</td>\n",
       "      <td>65752.0</td>\n",
       "      <td>...</td>\n",
       "      <td>11460.0</td>\n",
       "      <td>108500.0</td>\n",
       "      <td>167000.0</td>\n",
       "      <td>NaN</td>\n",
       "      <td>NaN</td>\n",
       "      <td>2620.0</td>\n",
       "      <td>NaN</td>\n",
       "      <td>NaN</td>\n",
       "      <td>NaN</td>\n",
       "      <td>9360.0</td>\n",
       "    </tr>\n",
       "    <tr>\n",
       "      <th>2023-12-26</th>\n",
       "      <td>NaN</td>\n",
       "      <td>9960.0</td>\n",
       "      <td>NaN</td>\n",
       "      <td>342.0</td>\n",
       "      <td>8830.0</td>\n",
       "      <td>NaN</td>\n",
       "      <td>70000.0</td>\n",
       "      <td>23350.0</td>\n",
       "      <td>NaN</td>\n",
       "      <td>66900.0</td>\n",
       "      <td>...</td>\n",
       "      <td>11490.0</td>\n",
       "      <td>108400.0</td>\n",
       "      <td>157000.0</td>\n",
       "      <td>NaN</td>\n",
       "      <td>NaN</td>\n",
       "      <td>2545.0</td>\n",
       "      <td>NaN</td>\n",
       "      <td>NaN</td>\n",
       "      <td>NaN</td>\n",
       "      <td>9270.0</td>\n",
       "    </tr>\n",
       "    <tr>\n",
       "      <th>2023-12-27</th>\n",
       "      <td>NaN</td>\n",
       "      <td>9920.0</td>\n",
       "      <td>NaN</td>\n",
       "      <td>346.0</td>\n",
       "      <td>8820.0</td>\n",
       "      <td>NaN</td>\n",
       "      <td>68800.0</td>\n",
       "      <td>22000.0</td>\n",
       "      <td>NaN</td>\n",
       "      <td>67900.0</td>\n",
       "      <td>...</td>\n",
       "      <td>11230.0</td>\n",
       "      <td>110400.0</td>\n",
       "      <td>157400.0</td>\n",
       "      <td>NaN</td>\n",
       "      <td>NaN</td>\n",
       "      <td>2555.0</td>\n",
       "      <td>NaN</td>\n",
       "      <td>NaN</td>\n",
       "      <td>NaN</td>\n",
       "      <td>9270.0</td>\n",
       "    </tr>\n",
       "    <tr>\n",
       "      <th>2023-12-28</th>\n",
       "      <td>NaN</td>\n",
       "      <td>10270.0</td>\n",
       "      <td>NaN</td>\n",
       "      <td>358.0</td>\n",
       "      <td>8840.0</td>\n",
       "      <td>NaN</td>\n",
       "      <td>69000.0</td>\n",
       "      <td>22500.0</td>\n",
       "      <td>NaN</td>\n",
       "      <td>68800.0</td>\n",
       "      <td>...</td>\n",
       "      <td>11480.0</td>\n",
       "      <td>111300.0</td>\n",
       "      <td>158100.0</td>\n",
       "      <td>NaN</td>\n",
       "      <td>NaN</td>\n",
       "      <td>2525.0</td>\n",
       "      <td>NaN</td>\n",
       "      <td>NaN</td>\n",
       "      <td>NaN</td>\n",
       "      <td>9480.0</td>\n",
       "    </tr>\n",
       "  </tbody>\n",
       "</table>\n",
       "<p>245 rows × 1198 columns</p>\n",
       "</div>"
      ],
      "text/plain": [
       "Symbol      A000010  A000020  A000030  A000040  A000050  A000060  A000070  \\\n",
       "Dates                                                                       \n",
       "2023-01-02      NaN   9500.0      NaN    561.0  10900.0  48400.0  67000.0   \n",
       "2023-01-03      NaN   9200.0      NaN    553.0  10600.0  47050.0  67100.0   \n",
       "2023-01-04      NaN   9330.0      NaN    551.0  10600.0  48500.0  68600.0   \n",
       "2023-01-05      NaN   9350.0      NaN    549.0  10550.0  46750.0  70000.0   \n",
       "2023-01-06      NaN   9410.0      NaN    549.0  10650.0  45600.0  69300.0   \n",
       "...             ...      ...      ...      ...      ...      ...      ...   \n",
       "2023-12-21      NaN   9730.0      NaN    363.0   8740.0      NaN  70300.0   \n",
       "2023-12-22      NaN   9920.0      NaN    356.0   8920.0      NaN  70000.0   \n",
       "2023-12-26      NaN   9960.0      NaN    342.0   8830.0      NaN  70000.0   \n",
       "2023-12-27      NaN   9920.0      NaN    346.0   8820.0      NaN  68800.0   \n",
       "2023-12-28      NaN  10270.0      NaN    358.0   8840.0      NaN  69000.0   \n",
       "\n",
       "Symbol      A000080  A000090  A000100  ...  A453340   A456040   A457190  \\\n",
       "Dates                                  ...                                \n",
       "2023-01-02  24400.0      NaN  56400.0  ...      NaN       NaN       NaN   \n",
       "2023-01-03  24100.0      NaN  55600.0  ...      NaN       NaN       NaN   \n",
       "2023-01-04  24150.0      NaN  55200.0  ...      NaN       NaN       NaN   \n",
       "2023-01-05  24100.0      NaN  54800.0  ...      NaN       NaN       NaN   \n",
       "2023-01-06  24250.0      NaN  54700.0  ...      NaN       NaN       NaN   \n",
       "...             ...      ...      ...  ...      ...       ...       ...   \n",
       "2023-12-21  23300.0      NaN  62497.0  ...  11430.0  109000.0  170900.0   \n",
       "2023-12-22  23150.0      NaN  65752.0  ...  11460.0  108500.0  167000.0   \n",
       "2023-12-26  23350.0      NaN  66900.0  ...  11490.0  108400.0  157000.0   \n",
       "2023-12-27  22000.0      NaN  67900.0  ...  11230.0  110400.0  157400.0   \n",
       "2023-12-28  22500.0      NaN  68800.0  ...  11480.0  111300.0  158100.0   \n",
       "\n",
       "Symbol      A900030  A900050  A900140  A950010  A950070  A950100  A950210  \n",
       "Dates                                                                      \n",
       "2023-01-02      NaN      NaN   1781.0      NaN      NaN      NaN   7180.0  \n",
       "2023-01-03      NaN      NaN   1798.0      NaN      NaN      NaN   7180.0  \n",
       "2023-01-04      NaN      NaN   1795.0      NaN      NaN      NaN   7270.0  \n",
       "2023-01-05      NaN      NaN   1785.0      NaN      NaN      NaN   7250.0  \n",
       "2023-01-06      NaN      NaN   1791.0      NaN      NaN      NaN   7170.0  \n",
       "...             ...      ...      ...      ...      ...      ...      ...  \n",
       "2023-12-21      NaN      NaN   2650.0      NaN      NaN      NaN   9360.0  \n",
       "2023-12-22      NaN      NaN   2620.0      NaN      NaN      NaN   9360.0  \n",
       "2023-12-26      NaN      NaN   2545.0      NaN      NaN      NaN   9270.0  \n",
       "2023-12-27      NaN      NaN   2555.0      NaN      NaN      NaN   9270.0  \n",
       "2023-12-28      NaN      NaN   2525.0      NaN      NaN      NaN   9480.0  \n",
       "\n",
       "[245 rows x 1198 columns]"
      ]
     },
     "execution_count": 87,
     "metadata": {},
     "output_type": "execute_result"
    }
   ],
   "source": [
    "prc"
   ]
  },
  {
   "cell_type": "code",
   "execution_count": 86,
   "id": "e5ba6660-cb26-4470-83f7-e5035cdf5831",
   "metadata": {
    "execution": {
     "iopub.execute_input": "2024-01-10T10:39:51.670300Z",
     "iopub.status.busy": "2024-01-10T10:39:51.669661Z",
     "iopub.status.idle": "2024-01-10T10:39:51.708779Z",
     "shell.execute_reply": "2024-01-10T10:39:51.707652Z",
     "shell.execute_reply.started": "2024-01-10T10:39:51.670245Z"
    }
   },
   "outputs": [
    {
     "data": {
      "text/html": [
       "<div>\n",
       "<style scoped>\n",
       "    .dataframe tbody tr th:only-of-type {\n",
       "        vertical-align: middle;\n",
       "    }\n",
       "\n",
       "    .dataframe tbody tr th {\n",
       "        vertical-align: top;\n",
       "    }\n",
       "\n",
       "    .dataframe thead th {\n",
       "        text-align: right;\n",
       "    }\n",
       "</style>\n",
       "<table border=\"1\" class=\"dataframe\">\n",
       "  <thead>\n",
       "    <tr style=\"text-align: right;\">\n",
       "      <th>code</th>\n",
       "      <th>A000080</th>\n",
       "      <th>A000120</th>\n",
       "      <th>A000150</th>\n",
       "      <th>A000210</th>\n",
       "      <th>A000240</th>\n",
       "      <th>A000270</th>\n",
       "      <th>A000660</th>\n",
       "      <th>A000670</th>\n",
       "      <th>A000720</th>\n",
       "      <th>A000810</th>\n",
       "      <th>...</th>\n",
       "      <th>A323410</th>\n",
       "      <th>A326030</th>\n",
       "      <th>A329180</th>\n",
       "      <th>A336260</th>\n",
       "      <th>A352820</th>\n",
       "      <th>A373220</th>\n",
       "      <th>A375500</th>\n",
       "      <th>A381970</th>\n",
       "      <th>A383220</th>\n",
       "      <th>A402340</th>\n",
       "    </tr>\n",
       "    <tr>\n",
       "      <th>new_dates</th>\n",
       "      <th></th>\n",
       "      <th></th>\n",
       "      <th></th>\n",
       "      <th></th>\n",
       "      <th></th>\n",
       "      <th></th>\n",
       "      <th></th>\n",
       "      <th></th>\n",
       "      <th></th>\n",
       "      <th></th>\n",
       "      <th></th>\n",
       "      <th></th>\n",
       "      <th></th>\n",
       "      <th></th>\n",
       "      <th></th>\n",
       "      <th></th>\n",
       "      <th></th>\n",
       "      <th></th>\n",
       "      <th></th>\n",
       "      <th></th>\n",
       "      <th></th>\n",
       "    </tr>\n",
       "  </thead>\n",
       "  <tbody>\n",
       "    <tr>\n",
       "      <th>2023-12-28</th>\n",
       "      <td>0.0</td>\n",
       "      <td>0.009257</td>\n",
       "      <td>0.009257</td>\n",
       "      <td>0.009257</td>\n",
       "      <td>0.0</td>\n",
       "      <td>0.0</td>\n",
       "      <td>0.0</td>\n",
       "      <td>0.0</td>\n",
       "      <td>0.009257</td>\n",
       "      <td>0.0</td>\n",
       "      <td>...</td>\n",
       "      <td>0.0</td>\n",
       "      <td>0.0</td>\n",
       "      <td>0.0</td>\n",
       "      <td>0.0</td>\n",
       "      <td>0.0</td>\n",
       "      <td>0.009257</td>\n",
       "      <td>0.0</td>\n",
       "      <td>0.0</td>\n",
       "      <td>0.009257</td>\n",
       "      <td>0.0</td>\n",
       "    </tr>\n",
       "  </tbody>\n",
       "</table>\n",
       "<p>1 rows × 196 columns</p>\n",
       "</div>"
      ],
      "text/plain": [
       "code        A000080   A000120   A000150   A000210  A000240  A000270  A000660  \\\n",
       "new_dates                                                                      \n",
       "2023-12-28      0.0  0.009257  0.009257  0.009257      0.0      0.0      0.0   \n",
       "\n",
       "code        A000670   A000720  A000810  ...  A323410  A326030  A329180  \\\n",
       "new_dates                               ...                              \n",
       "2023-12-28      0.0  0.009257      0.0  ...      0.0      0.0      0.0   \n",
       "\n",
       "code        A336260  A352820   A373220  A375500  A381970   A383220  A402340  \n",
       "new_dates                                                                    \n",
       "2023-12-28      0.0      0.0  0.009257      0.0      0.0  0.009257      0.0  \n",
       "\n",
       "[1 rows x 196 columns]"
      ]
     },
     "execution_count": 86,
     "metadata": {},
     "output_type": "execute_result"
    }
   ],
   "source": [
    "mlq_w[mlq_w.index=='2023-12-28']"
   ]
  },
  {
   "cell_type": "code",
   "execution_count": null,
   "id": "7c4ca7f1-fcf1-4362-bd0b-7cad5cbe3f2a",
   "metadata": {},
   "outputs": [],
   "source": []
  }
 ],
 "metadata": {
  "kernelspec": {
   "display_name": "base",
   "language": "python",
   "name": "python3"
  },
  "language_info": {
   "codemirror_mode": {
    "name": "ipython",
    "version": 3
   },
   "file_extension": ".py",
   "mimetype": "text/x-python",
   "name": "python",
   "nbconvert_exporter": "python",
   "pygments_lexer": "ipython3",
   "version": "3.9.12"
  }
 },
 "nbformat": 4,
 "nbformat_minor": 5
}
