{
 "cells": [
  {
   "cell_type": "code",
   "execution_count": 9,
   "id": "ffbe3fbb-b0ca-4055-8306-41a6cc8a70b3",
   "metadata": {
    "execution": {
     "iopub.execute_input": "2023-09-26T07:50:37.948177Z",
     "iopub.status.busy": "2023-09-26T07:50:37.947558Z",
     "iopub.status.idle": "2023-09-26T07:50:38.139080Z",
     "shell.execute_reply": "2023-09-26T07:50:38.138130Z",
     "shell.execute_reply.started": "2023-09-26T07:50:37.948124Z"
    },
    "tags": []
   },
   "outputs": [],
   "source": [
    "import os\n",
    "import pandas as pd\n",
    "import numpy as np\n",
    "from matplotlib import pyplot as plt\n",
    "import seaborn as sns\n",
    "\n",
    "import cx_Oracle\n",
    "import os\n",
    "os.putenv(' NLS_LANG', '.UTF8')\n",
    "\n",
    "from sqlalchemy import create_engine, text"
   ]
  },
  {
   "cell_type": "code",
   "execution_count": 7,
   "id": "6213e69b-473a-489a-8612-106fc2686f12",
   "metadata": {
    "execution": {
     "iopub.execute_input": "2023-09-26T07:50:07.032908Z",
     "iopub.status.busy": "2023-09-26T07:50:07.032327Z",
     "iopub.status.idle": "2023-09-26T07:50:14.197064Z",
     "shell.execute_reply": "2023-09-26T07:50:14.196137Z",
     "shell.execute_reply.started": "2023-09-26T07:50:07.032855Z"
    },
    "tags": []
   },
   "outputs": [
    {
     "name": "stderr",
     "output_type": "stream",
     "text": [
      "<ipython-input-7-4c682375b2e8>:19: FutureWarning: In a future version of pandas all arguments of DataFrame.sort_index will be keyword-only.\n",
      "  k200_df=k200_df.sort_index(0)\n"
     ]
    }
   ],
   "source": [
    "dsn = cx_Oracle.makedsn('192.168.1.5', '1521', service_name = 'ORA11')\n",
    "con = cx_Oracle.connect('dbam', 'dbamkass', dsn = dsn, encoding=\"UTF-8\")\n",
    "cur = con.cursor()\n",
    "\n",
    "sql_k200 = \" select 일자, 종목코드2 종목코드, 종목명_국문 종목명, 당일가격, 지수내비중, 상장주식수, 유동비율, \\\n",
    "            지수주식수, 지수시가총액 \\\n",
    "             from KASS1.TH068 \\\n",
    "             where 익일적용여부 ='NXT' \\\n",
    "             and ISIN = 'KRD020020016' \\\n",
    "             order by 지수내비중 desc \"\n",
    "\n",
    "cur.execute(sql_k200)\n",
    "k200_df = pd.DataFrame(cur.fetchall(), columns = [x[0] for x in cur.description])\n",
    "\n",
    "k200_df['일자']=pd.to_datetime(k200_df['일자'], format ='%Y%m%d')\n",
    "k200_df.set_index(['일자', '종목코드'], inplace=True)\n",
    "k200_df.index.names=['Dates', 'Symbol']\n",
    "k200_df.columns=['name', 'close', 'idx_weight', 'num_shares', 'float_rate', 'idx_num_shares', 'idx_cap']\n",
    "k200_df=k200_df.sort_index(0)"
   ]
  },
  {
   "cell_type": "code",
   "execution_count": 11,
   "id": "8e067507-85e4-45bb-aa4e-9ef74fac2fc2",
   "metadata": {
    "execution": {
     "iopub.execute_input": "2023-09-27T01:07:51.785393Z",
     "iopub.status.busy": "2023-09-27T01:07:51.784773Z",
     "iopub.status.idle": "2023-09-27T01:07:51.790358Z",
     "shell.execute_reply": "2023-09-27T01:07:51.789117Z",
     "shell.execute_reply.started": "2023-09-27T01:07:51.785338Z"
    }
   },
   "outputs": [],
   "source": [
    "period1='2023-01-01'\n",
    "period2='2023-08-31'"
   ]
  },
  {
   "cell_type": "code",
   "execution_count": 31,
   "id": "7f7022a5-286d-4c06-b68f-ba5d372c9f77",
   "metadata": {
    "execution": {
     "iopub.execute_input": "2023-09-27T01:36:59.718755Z",
     "iopub.status.busy": "2023-09-27T01:36:59.718145Z",
     "iopub.status.idle": "2023-09-27T01:37:05.226454Z",
     "shell.execute_reply": "2023-09-27T01:37:05.225194Z",
     "shell.execute_reply.started": "2023-09-27T01:36:59.718700Z"
    },
    "tags": []
   },
   "outputs": [],
   "source": [
    "# load secotr weights\n",
    "host = '192.168.1.27'\n",
    "port = '3306'\n",
    "db_name = 'quantdb_maria'\n",
    "username = 'quantdb'\n",
    "password = 'QuantDb2023!'\n",
    "\n",
    "engine = create_engine(\"mysql+pymysql://\" + username + \":\" + password + \"@\" + host + \":\" + port + \"/\" + db_name)\n",
    "conn=engine.connect()\n",
    "\n",
    "query_COM=f\"select * from COM_table_Bak where Dates>='{period1}' and Dates<='{period2}'\"\n",
    "data_COM=pd.read_sql(query_COM, conn)\n",
    "data_COM.set_index(['Dates', 'Symbol'], inplace=True)\n",
    "\n",
    "\n",
    "cap=k200_df['idx_weight']\n",
    "sector=data_COM['KC_Industry']"
   ]
  },
  {
   "cell_type": "code",
   "execution_count": 38,
   "id": "a558836b-4524-4b51-ba11-8f6995dfa3e3",
   "metadata": {
    "execution": {
     "iopub.execute_input": "2023-09-27T01:57:31.271500Z",
     "iopub.status.busy": "2023-09-27T01:57:31.270885Z",
     "iopub.status.idle": "2023-09-27T01:57:31.303626Z",
     "shell.execute_reply": "2023-09-27T01:57:31.302511Z",
     "shell.execute_reply.started": "2023-09-27T01:57:31.271447Z"
    },
    "tags": []
   },
   "outputs": [],
   "source": [
    "# load model score\n",
    "data_path='./data/output/prob_out/'\n",
    "mlq_w=pd.read_csv(data_path + 'multilayer_factor_rolling_v1.0_2023-08-31.csv', index_col=0)\n"
   ]
  },
  {
   "cell_type": "code",
   "execution_count": 41,
   "id": "f62b7311-611d-4c08-a10d-a00deac41085",
   "metadata": {
    "execution": {
     "iopub.execute_input": "2023-09-27T01:58:47.788233Z",
     "iopub.status.busy": "2023-09-27T01:58:47.787632Z",
     "iopub.status.idle": "2023-09-27T01:58:47.833648Z",
     "shell.execute_reply": "2023-09-27T01:58:47.832808Z",
     "shell.execute_reply.started": "2023-09-27T01:58:47.788179Z"
    },
    "tags": []
   },
   "outputs": [
    {
     "data": {
      "text/html": [
       "<div>\n",
       "<style scoped>\n",
       "    .dataframe tbody tr th:only-of-type {\n",
       "        vertical-align: middle;\n",
       "    }\n",
       "\n",
       "    .dataframe tbody tr th {\n",
       "        vertical-align: top;\n",
       "    }\n",
       "\n",
       "    .dataframe thead th {\n",
       "        text-align: right;\n",
       "    }\n",
       "</style>\n",
       "<table border=\"1\" class=\"dataframe\">\n",
       "  <thead>\n",
       "    <tr style=\"text-align: right;\">\n",
       "      <th></th>\n",
       "      <th>A000060</th>\n",
       "      <th>A000070</th>\n",
       "      <th>A000080</th>\n",
       "      <th>A000100</th>\n",
       "      <th>A000120</th>\n",
       "      <th>A000150</th>\n",
       "      <th>A000210</th>\n",
       "      <th>A000240</th>\n",
       "      <th>A000270</th>\n",
       "      <th>A000660</th>\n",
       "      <th>...</th>\n",
       "      <th>A336260</th>\n",
       "      <th>A352820</th>\n",
       "      <th>A361610</th>\n",
       "      <th>A373220</th>\n",
       "      <th>A375500</th>\n",
       "      <th>A377300</th>\n",
       "      <th>A381970</th>\n",
       "      <th>A383220</th>\n",
       "      <th>A383800</th>\n",
       "      <th>A402340</th>\n",
       "    </tr>\n",
       "    <tr>\n",
       "      <th>Dates</th>\n",
       "      <th></th>\n",
       "      <th></th>\n",
       "      <th></th>\n",
       "      <th></th>\n",
       "      <th></th>\n",
       "      <th></th>\n",
       "      <th></th>\n",
       "      <th></th>\n",
       "      <th></th>\n",
       "      <th></th>\n",
       "      <th></th>\n",
       "      <th></th>\n",
       "      <th></th>\n",
       "      <th></th>\n",
       "      <th></th>\n",
       "      <th></th>\n",
       "      <th></th>\n",
       "      <th></th>\n",
       "      <th></th>\n",
       "      <th></th>\n",
       "      <th></th>\n",
       "    </tr>\n",
       "  </thead>\n",
       "  <tbody>\n",
       "    <tr>\n",
       "      <th>2021-07-30</th>\n",
       "      <td>NaN</td>\n",
       "      <td>0.060803</td>\n",
       "      <td>0.070842</td>\n",
       "      <td>0.066526</td>\n",
       "      <td>0.064018</td>\n",
       "      <td>0.061383</td>\n",
       "      <td>0.070311</td>\n",
       "      <td>0.063817</td>\n",
       "      <td>0.052000</td>\n",
       "      <td>0.053931</td>\n",
       "      <td>...</td>\n",
       "      <td>0.066262</td>\n",
       "      <td>0.069522</td>\n",
       "      <td>0.057799</td>\n",
       "      <td>NaN</td>\n",
       "      <td>0.069147</td>\n",
       "      <td>NaN</td>\n",
       "      <td>NaN</td>\n",
       "      <td>NaN</td>\n",
       "      <td>0.063437</td>\n",
       "      <td>NaN</td>\n",
       "    </tr>\n",
       "    <tr>\n",
       "      <th>2021-08-06</th>\n",
       "      <td>NaN</td>\n",
       "      <td>0.060803</td>\n",
       "      <td>0.070842</td>\n",
       "      <td>0.066526</td>\n",
       "      <td>0.064018</td>\n",
       "      <td>0.061383</td>\n",
       "      <td>0.070311</td>\n",
       "      <td>0.063817</td>\n",
       "      <td>0.052000</td>\n",
       "      <td>0.053931</td>\n",
       "      <td>...</td>\n",
       "      <td>0.066262</td>\n",
       "      <td>0.069522</td>\n",
       "      <td>0.057799</td>\n",
       "      <td>NaN</td>\n",
       "      <td>0.069147</td>\n",
       "      <td>NaN</td>\n",
       "      <td>NaN</td>\n",
       "      <td>NaN</td>\n",
       "      <td>0.063437</td>\n",
       "      <td>NaN</td>\n",
       "    </tr>\n",
       "    <tr>\n",
       "      <th>2021-08-13</th>\n",
       "      <td>NaN</td>\n",
       "      <td>0.060803</td>\n",
       "      <td>0.070842</td>\n",
       "      <td>0.066526</td>\n",
       "      <td>0.064018</td>\n",
       "      <td>0.061383</td>\n",
       "      <td>0.070311</td>\n",
       "      <td>0.063817</td>\n",
       "      <td>0.052000</td>\n",
       "      <td>0.053931</td>\n",
       "      <td>...</td>\n",
       "      <td>0.066262</td>\n",
       "      <td>0.069522</td>\n",
       "      <td>0.057799</td>\n",
       "      <td>NaN</td>\n",
       "      <td>0.069147</td>\n",
       "      <td>NaN</td>\n",
       "      <td>NaN</td>\n",
       "      <td>NaN</td>\n",
       "      <td>0.063437</td>\n",
       "      <td>NaN</td>\n",
       "    </tr>\n",
       "    <tr>\n",
       "      <th>2021-08-20</th>\n",
       "      <td>NaN</td>\n",
       "      <td>0.060803</td>\n",
       "      <td>0.070842</td>\n",
       "      <td>0.066526</td>\n",
       "      <td>0.064018</td>\n",
       "      <td>0.061383</td>\n",
       "      <td>0.070311</td>\n",
       "      <td>0.063817</td>\n",
       "      <td>0.052000</td>\n",
       "      <td>0.053931</td>\n",
       "      <td>...</td>\n",
       "      <td>0.066262</td>\n",
       "      <td>0.069522</td>\n",
       "      <td>0.057799</td>\n",
       "      <td>NaN</td>\n",
       "      <td>0.069147</td>\n",
       "      <td>NaN</td>\n",
       "      <td>NaN</td>\n",
       "      <td>NaN</td>\n",
       "      <td>0.063437</td>\n",
       "      <td>NaN</td>\n",
       "    </tr>\n",
       "    <tr>\n",
       "      <th>2021-08-27</th>\n",
       "      <td>NaN</td>\n",
       "      <td>0.076095</td>\n",
       "      <td>0.087149</td>\n",
       "      <td>0.084361</td>\n",
       "      <td>0.079834</td>\n",
       "      <td>0.071723</td>\n",
       "      <td>0.077817</td>\n",
       "      <td>0.080963</td>\n",
       "      <td>0.069602</td>\n",
       "      <td>0.039003</td>\n",
       "      <td>...</td>\n",
       "      <td>0.081603</td>\n",
       "      <td>0.083910</td>\n",
       "      <td>0.063013</td>\n",
       "      <td>NaN</td>\n",
       "      <td>0.087949</td>\n",
       "      <td>NaN</td>\n",
       "      <td>NaN</td>\n",
       "      <td>NaN</td>\n",
       "      <td>0.072201</td>\n",
       "      <td>NaN</td>\n",
       "    </tr>\n",
       "    <tr>\n",
       "      <th>...</th>\n",
       "      <td>...</td>\n",
       "      <td>...</td>\n",
       "      <td>...</td>\n",
       "      <td>...</td>\n",
       "      <td>...</td>\n",
       "      <td>...</td>\n",
       "      <td>...</td>\n",
       "      <td>...</td>\n",
       "      <td>...</td>\n",
       "      <td>...</td>\n",
       "      <td>...</td>\n",
       "      <td>...</td>\n",
       "      <td>...</td>\n",
       "      <td>...</td>\n",
       "      <td>...</td>\n",
       "      <td>...</td>\n",
       "      <td>...</td>\n",
       "      <td>...</td>\n",
       "      <td>...</td>\n",
       "      <td>...</td>\n",
       "      <td>...</td>\n",
       "    </tr>\n",
       "    <tr>\n",
       "      <th>2023-08-04</th>\n",
       "      <td>NaN</td>\n",
       "      <td>NaN</td>\n",
       "      <td>0.004234</td>\n",
       "      <td>0.002734</td>\n",
       "      <td>0.004007</td>\n",
       "      <td>0.004879</td>\n",
       "      <td>0.005317</td>\n",
       "      <td>0.005394</td>\n",
       "      <td>0.003500</td>\n",
       "      <td>0.000272</td>\n",
       "      <td>...</td>\n",
       "      <td>0.002978</td>\n",
       "      <td>0.002412</td>\n",
       "      <td>0.001915</td>\n",
       "      <td>0.000349</td>\n",
       "      <td>0.005288</td>\n",
       "      <td>0.002569</td>\n",
       "      <td>0.004453</td>\n",
       "      <td>0.005772</td>\n",
       "      <td>NaN</td>\n",
       "      <td>0.001607</td>\n",
       "    </tr>\n",
       "    <tr>\n",
       "      <th>2023-08-11</th>\n",
       "      <td>NaN</td>\n",
       "      <td>NaN</td>\n",
       "      <td>0.004234</td>\n",
       "      <td>0.002734</td>\n",
       "      <td>0.004007</td>\n",
       "      <td>0.004879</td>\n",
       "      <td>0.005317</td>\n",
       "      <td>0.005394</td>\n",
       "      <td>0.003500</td>\n",
       "      <td>0.000272</td>\n",
       "      <td>...</td>\n",
       "      <td>0.002978</td>\n",
       "      <td>0.002412</td>\n",
       "      <td>0.001915</td>\n",
       "      <td>0.000349</td>\n",
       "      <td>0.005288</td>\n",
       "      <td>0.002569</td>\n",
       "      <td>0.004453</td>\n",
       "      <td>0.005772</td>\n",
       "      <td>NaN</td>\n",
       "      <td>0.001607</td>\n",
       "    </tr>\n",
       "    <tr>\n",
       "      <th>2023-08-18</th>\n",
       "      <td>NaN</td>\n",
       "      <td>NaN</td>\n",
       "      <td>0.004234</td>\n",
       "      <td>0.002734</td>\n",
       "      <td>0.004007</td>\n",
       "      <td>0.004879</td>\n",
       "      <td>0.005317</td>\n",
       "      <td>0.005394</td>\n",
       "      <td>0.003500</td>\n",
       "      <td>0.000272</td>\n",
       "      <td>...</td>\n",
       "      <td>0.002978</td>\n",
       "      <td>0.002412</td>\n",
       "      <td>0.001915</td>\n",
       "      <td>0.000349</td>\n",
       "      <td>0.005288</td>\n",
       "      <td>0.002569</td>\n",
       "      <td>0.004453</td>\n",
       "      <td>0.005772</td>\n",
       "      <td>NaN</td>\n",
       "      <td>0.001607</td>\n",
       "    </tr>\n",
       "    <tr>\n",
       "      <th>2023-08-25</th>\n",
       "      <td>NaN</td>\n",
       "      <td>NaN</td>\n",
       "      <td>0.004234</td>\n",
       "      <td>0.002734</td>\n",
       "      <td>0.004007</td>\n",
       "      <td>0.004879</td>\n",
       "      <td>0.005317</td>\n",
       "      <td>0.005394</td>\n",
       "      <td>0.003500</td>\n",
       "      <td>0.000272</td>\n",
       "      <td>...</td>\n",
       "      <td>0.002978</td>\n",
       "      <td>0.002412</td>\n",
       "      <td>0.001915</td>\n",
       "      <td>0.000349</td>\n",
       "      <td>0.005288</td>\n",
       "      <td>0.002569</td>\n",
       "      <td>0.004453</td>\n",
       "      <td>0.005772</td>\n",
       "      <td>NaN</td>\n",
       "      <td>0.001607</td>\n",
       "    </tr>\n",
       "    <tr>\n",
       "      <th>2023-08-31</th>\n",
       "      <td>NaN</td>\n",
       "      <td>NaN</td>\n",
       "      <td>0.003722</td>\n",
       "      <td>0.001815</td>\n",
       "      <td>0.004306</td>\n",
       "      <td>0.003470</td>\n",
       "      <td>0.005580</td>\n",
       "      <td>0.004863</td>\n",
       "      <td>0.002909</td>\n",
       "      <td>0.000303</td>\n",
       "      <td>...</td>\n",
       "      <td>0.002739</td>\n",
       "      <td>0.001599</td>\n",
       "      <td>0.001277</td>\n",
       "      <td>0.001045</td>\n",
       "      <td>0.004807</td>\n",
       "      <td>0.002205</td>\n",
       "      <td>0.003174</td>\n",
       "      <td>0.004967</td>\n",
       "      <td>NaN</td>\n",
       "      <td>0.001337</td>\n",
       "    </tr>\n",
       "  </tbody>\n",
       "</table>\n",
       "<p>110 rows × 223 columns</p>\n",
       "</div>"
      ],
      "text/plain": [
       "            A000060   A000070   A000080   A000100   A000120   A000150  \\\n",
       "Dates                                                                   \n",
       "2021-07-30      NaN  0.060803  0.070842  0.066526  0.064018  0.061383   \n",
       "2021-08-06      NaN  0.060803  0.070842  0.066526  0.064018  0.061383   \n",
       "2021-08-13      NaN  0.060803  0.070842  0.066526  0.064018  0.061383   \n",
       "2021-08-20      NaN  0.060803  0.070842  0.066526  0.064018  0.061383   \n",
       "2021-08-27      NaN  0.076095  0.087149  0.084361  0.079834  0.071723   \n",
       "...             ...       ...       ...       ...       ...       ...   \n",
       "2023-08-04      NaN       NaN  0.004234  0.002734  0.004007  0.004879   \n",
       "2023-08-11      NaN       NaN  0.004234  0.002734  0.004007  0.004879   \n",
       "2023-08-18      NaN       NaN  0.004234  0.002734  0.004007  0.004879   \n",
       "2023-08-25      NaN       NaN  0.004234  0.002734  0.004007  0.004879   \n",
       "2023-08-31      NaN       NaN  0.003722  0.001815  0.004306  0.003470   \n",
       "\n",
       "             A000210   A000240   A000270   A000660  ...   A336260   A352820  \\\n",
       "Dates                                               ...                       \n",
       "2021-07-30  0.070311  0.063817  0.052000  0.053931  ...  0.066262  0.069522   \n",
       "2021-08-06  0.070311  0.063817  0.052000  0.053931  ...  0.066262  0.069522   \n",
       "2021-08-13  0.070311  0.063817  0.052000  0.053931  ...  0.066262  0.069522   \n",
       "2021-08-20  0.070311  0.063817  0.052000  0.053931  ...  0.066262  0.069522   \n",
       "2021-08-27  0.077817  0.080963  0.069602  0.039003  ...  0.081603  0.083910   \n",
       "...              ...       ...       ...       ...  ...       ...       ...   \n",
       "2023-08-04  0.005317  0.005394  0.003500  0.000272  ...  0.002978  0.002412   \n",
       "2023-08-11  0.005317  0.005394  0.003500  0.000272  ...  0.002978  0.002412   \n",
       "2023-08-18  0.005317  0.005394  0.003500  0.000272  ...  0.002978  0.002412   \n",
       "2023-08-25  0.005317  0.005394  0.003500  0.000272  ...  0.002978  0.002412   \n",
       "2023-08-31  0.005580  0.004863  0.002909  0.000303  ...  0.002739  0.001599   \n",
       "\n",
       "             A361610   A373220   A375500   A377300   A381970   A383220  \\\n",
       "Dates                                                                    \n",
       "2021-07-30  0.057799       NaN  0.069147       NaN       NaN       NaN   \n",
       "2021-08-06  0.057799       NaN  0.069147       NaN       NaN       NaN   \n",
       "2021-08-13  0.057799       NaN  0.069147       NaN       NaN       NaN   \n",
       "2021-08-20  0.057799       NaN  0.069147       NaN       NaN       NaN   \n",
       "2021-08-27  0.063013       NaN  0.087949       NaN       NaN       NaN   \n",
       "...              ...       ...       ...       ...       ...       ...   \n",
       "2023-08-04  0.001915  0.000349  0.005288  0.002569  0.004453  0.005772   \n",
       "2023-08-11  0.001915  0.000349  0.005288  0.002569  0.004453  0.005772   \n",
       "2023-08-18  0.001915  0.000349  0.005288  0.002569  0.004453  0.005772   \n",
       "2023-08-25  0.001915  0.000349  0.005288  0.002569  0.004453  0.005772   \n",
       "2023-08-31  0.001277  0.001045  0.004807  0.002205  0.003174  0.004967   \n",
       "\n",
       "             A383800   A402340  \n",
       "Dates                           \n",
       "2021-07-30  0.063437       NaN  \n",
       "2021-08-06  0.063437       NaN  \n",
       "2021-08-13  0.063437       NaN  \n",
       "2021-08-20  0.063437       NaN  \n",
       "2021-08-27  0.072201       NaN  \n",
       "...              ...       ...  \n",
       "2023-08-04       NaN  0.001607  \n",
       "2023-08-11       NaN  0.001607  \n",
       "2023-08-18       NaN  0.001607  \n",
       "2023-08-25       NaN  0.001607  \n",
       "2023-08-31       NaN  0.001337  \n",
       "\n",
       "[110 rows x 223 columns]"
      ]
     },
     "execution_count": 41,
     "metadata": {},
     "output_type": "execute_result"
    }
   ],
   "source": [
    "mlq_w"
   ]
  },
  {
   "cell_type": "code",
   "execution_count": 42,
   "id": "adb4743c-3252-4be0-aa0a-706246186d48",
   "metadata": {
    "execution": {
     "iopub.execute_input": "2023-09-27T01:58:49.852199Z",
     "iopub.status.busy": "2023-09-27T01:58:49.851594Z",
     "iopub.status.idle": "2023-09-27T01:58:49.859084Z",
     "shell.execute_reply": "2023-09-27T01:58:49.857867Z",
     "shell.execute_reply.started": "2023-09-27T01:58:49.852144Z"
    }
   },
   "outputs": [],
   "source": [
    "mlq_w.index=pd.to_datetime(mlq_w.index)\n",
    "# mlq_w=mlq_w[['code', 'weights']].pivot_table(index='dates', columns='code')\n",
    "# mlq_w.columns=mlq_w.columns.get_level_values(1)"
   ]
  },
  {
   "cell_type": "code",
   "execution_count": null,
   "id": "23deb1b6-8f67-4052-ae1f-4abfa5b0938d",
   "metadata": {
    "tags": []
   },
   "outputs": [],
   "source": []
  },
  {
   "cell_type": "code",
   "execution_count": 45,
   "id": "1a436c70-c936-4bfa-adfd-9d65cab42d2f",
   "metadata": {
    "execution": {
     "iopub.execute_input": "2023-09-27T02:00:39.132432Z",
     "iopub.status.busy": "2023-09-27T02:00:39.131833Z",
     "iopub.status.idle": "2023-09-27T02:00:43.308004Z",
     "shell.execute_reply": "2023-09-27T02:00:43.307235Z",
     "shell.execute_reply.started": "2023-09-27T02:00:39.132377Z"
    },
    "tags": []
   },
   "outputs": [],
   "source": [
    "cap_combined=pd.concat([cap, sector, mlq_w.stack()], axis=1)"
   ]
  },
  {
   "cell_type": "code",
   "execution_count": 46,
   "id": "5f7621df-2da3-439e-a720-b7cf1c42d085",
   "metadata": {
    "execution": {
     "iopub.execute_input": "2023-09-27T02:00:43.327152Z",
     "iopub.status.busy": "2023-09-27T02:00:43.326951Z",
     "iopub.status.idle": "2023-09-27T02:00:43.334072Z",
     "shell.execute_reply": "2023-09-27T02:00:43.333474Z",
     "shell.execute_reply.started": "2023-09-27T02:00:43.327133Z"
    },
    "tags": []
   },
   "outputs": [],
   "source": [
    "cap_combined['idx_weight']=cap_combined['idx_weight']/100"
   ]
  },
  {
   "cell_type": "code",
   "execution_count": 62,
   "id": "d06e0014-9955-45c7-bb64-788cf34d4f48",
   "metadata": {
    "execution": {
     "iopub.execute_input": "2023-09-27T04:29:03.333029Z",
     "iopub.status.busy": "2023-09-27T04:29:03.332406Z",
     "iopub.status.idle": "2023-09-27T04:29:03.489968Z",
     "shell.execute_reply": "2023-09-27T04:29:03.488847Z",
     "shell.execute_reply.started": "2023-09-27T04:29:03.332974Z"
    },
    "tags": []
   },
   "outputs": [
    {
     "name": "stderr",
     "output_type": "stream",
     "text": [
      "<ipython-input-62-aed5345c730d>:1: FutureWarning: In a future version of pandas all arguments of DataFrame.dropna will be keyword-only.\n",
      "  cap_combined=cap_combined.sort_values(by='Dates').dropna(0)\n"
     ]
    }
   ],
   "source": [
    "cap_combined=cap_combined.sort_values(by='Dates').dropna(0)"
   ]
  },
  {
   "cell_type": "code",
   "execution_count": 67,
   "id": "05797219-2fdf-4393-9a8f-d557f6a30041",
   "metadata": {
    "execution": {
     "iopub.execute_input": "2023-09-27T04:30:04.081932Z",
     "iopub.status.busy": "2023-09-27T04:30:04.081331Z",
     "iopub.status.idle": "2023-09-27T04:30:04.089362Z",
     "shell.execute_reply": "2023-09-27T04:30:04.088124Z",
     "shell.execute_reply.started": "2023-09-27T04:30:04.081880Z"
    },
    "tags": []
   },
   "outputs": [],
   "source": [
    "eom=cap_combined.index.get_level_values(0).unique()+pd.offsets.MonthEnd(0)\n",
    "eom=eom.unique()\n"
   ]
  },
  {
   "cell_type": "code",
   "execution_count": null,
   "id": "398167dd-ed42-4e07-bd69-67fb6b6c7fec",
   "metadata": {},
   "outputs": [],
   "source": [
    "# # use actual weight not count???\n",
    "\n",
    "# weight_diff_ls=[]\n",
    "# sector_weight_diff_ls=[]\n",
    "\n",
    "# bm_cap_ls=[]\n",
    "# port_cap_ls=[]\n",
    "\n",
    "# bm_sector_cap_ls=[]\n",
    "# port_sector_cap_ls=[]\n",
    "\n",
    "# for i, date in enumerate(eom):\n",
    "    \n",
    "#     # selected_idx=pd.MultiIndex.from_product([[date], daily_w.loc[date][daily_w.loc[date]>0].index]) \n",
    "#     # selected_idx=cap_combined[cap_combined[0]>0].index\n",
    "    \n",
    "#     bm_cap_weight=cap_combined.loc[date][k200comp.loc[date]=='Y'].groupby('KSECapSize').sum()['idx_weight']\n",
    "#     port_cap_weight=cap_combined.loc[date][cap_combined.loc[date][0]>0].groupby('KSECapSize').sum()[0]\n",
    "\n",
    "#     weight_diff=port_cap_weight-bm_cap_weight\n",
    "#     weight_diff_ls.append(weight_diff)\n",
    "#     bm_cap_ls.append(bm_cap_weight)\n",
    "    \n",
    "#     bm_sector_weight=cap_combined.loc[date][k200comp.loc[date]=='Y'].groupby('FG_Sector_Idx').sum()['idx_weight']\n",
    "#     port_sector_weight=cap_combined.loc[date][cap_combined.loc[date][0]>0].groupby('FG_Sector_Idx').sum()[0]\n",
    "    \n",
    "#     sector_weight_diff=port_sector_weight-bm_sector_weight\n",
    "#     sector_weight_diff_ls.append(sector_weight_diff)"
   ]
  },
  {
   "cell_type": "markdown",
   "id": "f0fcd379-cd7a-41f8-8d0d-697a09a15f6e",
   "metadata": {},
   "source": [
    "# Long Short - entire stocks / top n %"
   ]
  },
  {
   "cell_type": "code",
   "execution_count": 69,
   "id": "aa23b941-0ba3-4216-bc27-8c5ff10384cd",
   "metadata": {
    "execution": {
     "iopub.execute_input": "2023-09-27T04:40:47.252648Z",
     "iopub.status.busy": "2023-09-27T04:40:47.252012Z",
     "iopub.status.idle": "2023-09-27T04:40:47.260352Z",
     "shell.execute_reply": "2023-09-27T04:40:47.259340Z",
     "shell.execute_reply.started": "2023-09-27T04:40:47.252593Z"
    },
    "tags": []
   },
   "outputs": [
    {
     "data": {
      "text/plain": [
       "DatetimeIndex(['2023-01-31', '2023-02-28', '2023-03-31', '2023-04-30',\n",
       "               '2023-05-31', '2023-06-30', '2023-07-31', '2023-08-31'],\n",
       "              dtype='datetime64[ns]', name='Dates', freq=None)"
      ]
     },
     "execution_count": 69,
     "metadata": {},
     "output_type": "execute_result"
    }
   ],
   "source": [
    "eom"
   ]
  },
  {
   "cell_type": "code",
   "execution_count": 83,
   "id": "c81130c0-380f-4f63-8f3c-f0b51a54a830",
   "metadata": {
    "execution": {
     "iopub.execute_input": "2023-09-27T04:54:50.591081Z",
     "iopub.status.busy": "2023-09-27T04:54:50.590472Z",
     "iopub.status.idle": "2023-09-27T04:54:50.604587Z",
     "shell.execute_reply": "2023-09-27T04:54:50.603595Z",
     "shell.execute_reply.started": "2023-09-27T04:54:50.591026Z"
    },
    "scrolled": true,
    "tags": []
   },
   "outputs": [
    {
     "data": {
      "text/plain": [
       "(206, 35)"
      ]
     },
     "execution_count": 83,
     "metadata": {},
     "output_type": "execute_result"
    }
   ],
   "source": [
    "cap_combined[0].unstack().T.shape"
   ]
  },
  {
   "cell_type": "code",
   "execution_count": 182,
   "id": "8397a8df-a9d1-4b09-9e6f-19b7717f4d29",
   "metadata": {
    "execution": {
     "iopub.execute_input": "2023-09-27T06:07:17.076607Z",
     "iopub.status.busy": "2023-09-27T06:07:17.075960Z",
     "iopub.status.idle": "2023-09-27T06:07:17.081717Z",
     "shell.execute_reply": "2023-09-27T06:07:17.080471Z",
     "shell.execute_reply.started": "2023-09-27T06:07:17.076550Z"
    },
    "tags": []
   },
   "outputs": [],
   "source": [
    "from sklearn.preprocessing import StandardScaler"
   ]
  },
  {
   "cell_type": "code",
   "execution_count": 183,
   "id": "2523dba8-6c15-45d8-b6a9-0da768f089ea",
   "metadata": {
    "execution": {
     "iopub.execute_input": "2023-09-27T06:07:55.276734Z",
     "iopub.status.busy": "2023-09-27T06:07:55.276052Z",
     "iopub.status.idle": "2023-09-27T06:07:55.332370Z",
     "shell.execute_reply": "2023-09-27T06:07:55.331311Z",
     "shell.execute_reply.started": "2023-09-27T06:07:55.276675Z"
    }
   },
   "outputs": [
    {
     "data": {
      "text/html": [
       "<div>\n",
       "<style scoped>\n",
       "    .dataframe tbody tr th:only-of-type {\n",
       "        vertical-align: middle;\n",
       "    }\n",
       "\n",
       "    .dataframe tbody tr th {\n",
       "        vertical-align: top;\n",
       "    }\n",
       "\n",
       "    .dataframe thead th {\n",
       "        text-align: right;\n",
       "    }\n",
       "</style>\n",
       "<table border=\"1\" class=\"dataframe\">\n",
       "  <thead>\n",
       "    <tr style=\"text-align: right;\">\n",
       "      <th>Dates</th>\n",
       "      <th>2023-01-06</th>\n",
       "      <th>2023-01-13</th>\n",
       "      <th>2023-01-20</th>\n",
       "      <th>2023-01-27</th>\n",
       "      <th>2023-02-03</th>\n",
       "      <th>2023-02-10</th>\n",
       "      <th>2023-02-17</th>\n",
       "      <th>2023-02-24</th>\n",
       "      <th>2023-03-03</th>\n",
       "      <th>2023-03-10</th>\n",
       "      <th>...</th>\n",
       "      <th>2023-06-30</th>\n",
       "      <th>2023-07-07</th>\n",
       "      <th>2023-07-14</th>\n",
       "      <th>2023-07-21</th>\n",
       "      <th>2023-07-28</th>\n",
       "      <th>2023-08-04</th>\n",
       "      <th>2023-08-11</th>\n",
       "      <th>2023-08-18</th>\n",
       "      <th>2023-08-25</th>\n",
       "      <th>2023-08-31</th>\n",
       "    </tr>\n",
       "  </thead>\n",
       "  <tbody>\n",
       "    <tr>\n",
       "      <th>A271940</th>\n",
       "      <td>0.007921</td>\n",
       "      <td>0.007921</td>\n",
       "      <td>0.007921</td>\n",
       "      <td>0.003614</td>\n",
       "      <td>0.003614</td>\n",
       "      <td>0.003614</td>\n",
       "      <td>0.003614</td>\n",
       "      <td>0.004849</td>\n",
       "      <td>0.004849</td>\n",
       "      <td>0.004849</td>\n",
       "      <td>...</td>\n",
       "      <td>0.003363</td>\n",
       "      <td>0.003363</td>\n",
       "      <td>0.003363</td>\n",
       "      <td>0.003363</td>\n",
       "      <td>0.003572</td>\n",
       "      <td>0.003572</td>\n",
       "      <td>0.003572</td>\n",
       "      <td>0.003572</td>\n",
       "      <td>0.003572</td>\n",
       "      <td>0.003143</td>\n",
       "    </tr>\n",
       "    <tr>\n",
       "      <th>A017800</th>\n",
       "      <td>0.006676</td>\n",
       "      <td>0.006676</td>\n",
       "      <td>0.006676</td>\n",
       "      <td>0.003631</td>\n",
       "      <td>0.003631</td>\n",
       "      <td>0.003631</td>\n",
       "      <td>0.003631</td>\n",
       "      <td>0.004413</td>\n",
       "      <td>0.004413</td>\n",
       "      <td>0.004413</td>\n",
       "      <td>...</td>\n",
       "      <td>0.005287</td>\n",
       "      <td>0.005287</td>\n",
       "      <td>0.005287</td>\n",
       "      <td>0.005287</td>\n",
       "      <td>0.003430</td>\n",
       "      <td>0.003430</td>\n",
       "      <td>0.003430</td>\n",
       "      <td>0.003430</td>\n",
       "      <td>0.003430</td>\n",
       "      <td>0.001914</td>\n",
       "    </tr>\n",
       "    <tr>\n",
       "      <th>A017670</th>\n",
       "      <td>0.006511</td>\n",
       "      <td>0.006511</td>\n",
       "      <td>0.006511</td>\n",
       "      <td>0.003906</td>\n",
       "      <td>0.003906</td>\n",
       "      <td>0.003906</td>\n",
       "      <td>0.003906</td>\n",
       "      <td>0.004543</td>\n",
       "      <td>0.004543</td>\n",
       "      <td>0.004543</td>\n",
       "      <td>...</td>\n",
       "      <td>0.002887</td>\n",
       "      <td>0.002887</td>\n",
       "      <td>0.002887</td>\n",
       "      <td>0.002887</td>\n",
       "      <td>0.004103</td>\n",
       "      <td>0.004103</td>\n",
       "      <td>0.004103</td>\n",
       "      <td>0.004103</td>\n",
       "      <td>0.004103</td>\n",
       "      <td>0.003897</td>\n",
       "    </tr>\n",
       "    <tr>\n",
       "      <th>A016380</th>\n",
       "      <td>0.004920</td>\n",
       "      <td>0.004920</td>\n",
       "      <td>0.004920</td>\n",
       "      <td>0.001789</td>\n",
       "      <td>0.001789</td>\n",
       "      <td>0.001789</td>\n",
       "      <td>0.001789</td>\n",
       "      <td>0.003449</td>\n",
       "      <td>0.003449</td>\n",
       "      <td>0.003449</td>\n",
       "      <td>...</td>\n",
       "      <td>0.002986</td>\n",
       "      <td>0.002986</td>\n",
       "      <td>0.002986</td>\n",
       "      <td>0.002986</td>\n",
       "      <td>0.009659</td>\n",
       "      <td>0.009659</td>\n",
       "      <td>0.009659</td>\n",
       "      <td>0.009659</td>\n",
       "      <td>0.009659</td>\n",
       "      <td>0.006919</td>\n",
       "    </tr>\n",
       "    <tr>\n",
       "      <th>A016360</th>\n",
       "      <td>0.006677</td>\n",
       "      <td>0.006677</td>\n",
       "      <td>0.006677</td>\n",
       "      <td>0.003426</td>\n",
       "      <td>0.003426</td>\n",
       "      <td>0.003426</td>\n",
       "      <td>0.003426</td>\n",
       "      <td>0.004582</td>\n",
       "      <td>0.004582</td>\n",
       "      <td>0.004582</td>\n",
       "      <td>...</td>\n",
       "      <td>0.003964</td>\n",
       "      <td>0.003964</td>\n",
       "      <td>0.003964</td>\n",
       "      <td>0.003964</td>\n",
       "      <td>0.005599</td>\n",
       "      <td>0.005599</td>\n",
       "      <td>0.005599</td>\n",
       "      <td>0.005599</td>\n",
       "      <td>0.005599</td>\n",
       "      <td>0.004217</td>\n",
       "    </tr>\n",
       "    <tr>\n",
       "      <th>...</th>\n",
       "      <td>...</td>\n",
       "      <td>...</td>\n",
       "      <td>...</td>\n",
       "      <td>...</td>\n",
       "      <td>...</td>\n",
       "      <td>...</td>\n",
       "      <td>...</td>\n",
       "      <td>...</td>\n",
       "      <td>...</td>\n",
       "      <td>...</td>\n",
       "      <td>...</td>\n",
       "      <td>...</td>\n",
       "      <td>...</td>\n",
       "      <td>...</td>\n",
       "      <td>...</td>\n",
       "      <td>...</td>\n",
       "      <td>...</td>\n",
       "      <td>...</td>\n",
       "      <td>...</td>\n",
       "      <td>...</td>\n",
       "      <td>...</td>\n",
       "    </tr>\n",
       "    <tr>\n",
       "      <th>A139130</th>\n",
       "      <td>NaN</td>\n",
       "      <td>NaN</td>\n",
       "      <td>NaN</td>\n",
       "      <td>NaN</td>\n",
       "      <td>NaN</td>\n",
       "      <td>NaN</td>\n",
       "      <td>NaN</td>\n",
       "      <td>NaN</td>\n",
       "      <td>NaN</td>\n",
       "      <td>NaN</td>\n",
       "      <td>...</td>\n",
       "      <td>0.003367</td>\n",
       "      <td>0.003367</td>\n",
       "      <td>0.003367</td>\n",
       "      <td>0.003367</td>\n",
       "      <td>0.010096</td>\n",
       "      <td>0.010096</td>\n",
       "      <td>0.010096</td>\n",
       "      <td>0.010096</td>\n",
       "      <td>0.010096</td>\n",
       "      <td>0.007575</td>\n",
       "    </tr>\n",
       "    <tr>\n",
       "      <th>A003230</th>\n",
       "      <td>NaN</td>\n",
       "      <td>NaN</td>\n",
       "      <td>NaN</td>\n",
       "      <td>NaN</td>\n",
       "      <td>NaN</td>\n",
       "      <td>NaN</td>\n",
       "      <td>NaN</td>\n",
       "      <td>NaN</td>\n",
       "      <td>NaN</td>\n",
       "      <td>NaN</td>\n",
       "      <td>...</td>\n",
       "      <td>0.004452</td>\n",
       "      <td>0.004452</td>\n",
       "      <td>0.004452</td>\n",
       "      <td>0.004452</td>\n",
       "      <td>0.005383</td>\n",
       "      <td>0.005383</td>\n",
       "      <td>0.005383</td>\n",
       "      <td>0.005383</td>\n",
       "      <td>0.005383</td>\n",
       "      <td>0.003782</td>\n",
       "    </tr>\n",
       "    <tr>\n",
       "      <th>A005420</th>\n",
       "      <td>NaN</td>\n",
       "      <td>NaN</td>\n",
       "      <td>NaN</td>\n",
       "      <td>NaN</td>\n",
       "      <td>NaN</td>\n",
       "      <td>NaN</td>\n",
       "      <td>NaN</td>\n",
       "      <td>NaN</td>\n",
       "      <td>NaN</td>\n",
       "      <td>NaN</td>\n",
       "      <td>...</td>\n",
       "      <td>0.041034</td>\n",
       "      <td>0.041034</td>\n",
       "      <td>0.041034</td>\n",
       "      <td>0.041034</td>\n",
       "      <td>0.002351</td>\n",
       "      <td>0.002351</td>\n",
       "      <td>0.002351</td>\n",
       "      <td>0.002351</td>\n",
       "      <td>0.002351</td>\n",
       "      <td>0.001387</td>\n",
       "    </tr>\n",
       "    <tr>\n",
       "      <th>A001570</th>\n",
       "      <td>NaN</td>\n",
       "      <td>NaN</td>\n",
       "      <td>NaN</td>\n",
       "      <td>NaN</td>\n",
       "      <td>NaN</td>\n",
       "      <td>NaN</td>\n",
       "      <td>NaN</td>\n",
       "      <td>NaN</td>\n",
       "      <td>NaN</td>\n",
       "      <td>NaN</td>\n",
       "      <td>...</td>\n",
       "      <td>0.698673</td>\n",
       "      <td>0.698673</td>\n",
       "      <td>0.698673</td>\n",
       "      <td>0.698673</td>\n",
       "      <td>0.001900</td>\n",
       "      <td>0.001900</td>\n",
       "      <td>0.001900</td>\n",
       "      <td>0.001900</td>\n",
       "      <td>0.001900</td>\n",
       "      <td>0.000037</td>\n",
       "    </tr>\n",
       "    <tr>\n",
       "      <th>A008730</th>\n",
       "      <td>NaN</td>\n",
       "      <td>NaN</td>\n",
       "      <td>NaN</td>\n",
       "      <td>NaN</td>\n",
       "      <td>NaN</td>\n",
       "      <td>NaN</td>\n",
       "      <td>NaN</td>\n",
       "      <td>NaN</td>\n",
       "      <td>NaN</td>\n",
       "      <td>NaN</td>\n",
       "      <td>...</td>\n",
       "      <td>0.007964</td>\n",
       "      <td>0.007964</td>\n",
       "      <td>0.007964</td>\n",
       "      <td>0.007964</td>\n",
       "      <td>0.003478</td>\n",
       "      <td>0.003478</td>\n",
       "      <td>0.003478</td>\n",
       "      <td>0.003478</td>\n",
       "      <td>0.003478</td>\n",
       "      <td>0.002820</td>\n",
       "    </tr>\n",
       "  </tbody>\n",
       "</table>\n",
       "<p>206 rows × 35 columns</p>\n",
       "</div>"
      ],
      "text/plain": [
       "Dates    2023-01-06  2023-01-13  2023-01-20  2023-01-27  2023-02-03  \\\n",
       "A271940    0.007921    0.007921    0.007921    0.003614    0.003614   \n",
       "A017800    0.006676    0.006676    0.006676    0.003631    0.003631   \n",
       "A017670    0.006511    0.006511    0.006511    0.003906    0.003906   \n",
       "A016380    0.004920    0.004920    0.004920    0.001789    0.001789   \n",
       "A016360    0.006677    0.006677    0.006677    0.003426    0.003426   \n",
       "...             ...         ...         ...         ...         ...   \n",
       "A139130         NaN         NaN         NaN         NaN         NaN   \n",
       "A003230         NaN         NaN         NaN         NaN         NaN   \n",
       "A005420         NaN         NaN         NaN         NaN         NaN   \n",
       "A001570         NaN         NaN         NaN         NaN         NaN   \n",
       "A008730         NaN         NaN         NaN         NaN         NaN   \n",
       "\n",
       "Dates    2023-02-10  2023-02-17  2023-02-24  2023-03-03  2023-03-10  ...  \\\n",
       "A271940    0.003614    0.003614    0.004849    0.004849    0.004849  ...   \n",
       "A017800    0.003631    0.003631    0.004413    0.004413    0.004413  ...   \n",
       "A017670    0.003906    0.003906    0.004543    0.004543    0.004543  ...   \n",
       "A016380    0.001789    0.001789    0.003449    0.003449    0.003449  ...   \n",
       "A016360    0.003426    0.003426    0.004582    0.004582    0.004582  ...   \n",
       "...             ...         ...         ...         ...         ...  ...   \n",
       "A139130         NaN         NaN         NaN         NaN         NaN  ...   \n",
       "A003230         NaN         NaN         NaN         NaN         NaN  ...   \n",
       "A005420         NaN         NaN         NaN         NaN         NaN  ...   \n",
       "A001570         NaN         NaN         NaN         NaN         NaN  ...   \n",
       "A008730         NaN         NaN         NaN         NaN         NaN  ...   \n",
       "\n",
       "Dates    2023-06-30  2023-07-07  2023-07-14  2023-07-21  2023-07-28  \\\n",
       "A271940    0.003363    0.003363    0.003363    0.003363    0.003572   \n",
       "A017800    0.005287    0.005287    0.005287    0.005287    0.003430   \n",
       "A017670    0.002887    0.002887    0.002887    0.002887    0.004103   \n",
       "A016380    0.002986    0.002986    0.002986    0.002986    0.009659   \n",
       "A016360    0.003964    0.003964    0.003964    0.003964    0.005599   \n",
       "...             ...         ...         ...         ...         ...   \n",
       "A139130    0.003367    0.003367    0.003367    0.003367    0.010096   \n",
       "A003230    0.004452    0.004452    0.004452    0.004452    0.005383   \n",
       "A005420    0.041034    0.041034    0.041034    0.041034    0.002351   \n",
       "A001570    0.698673    0.698673    0.698673    0.698673    0.001900   \n",
       "A008730    0.007964    0.007964    0.007964    0.007964    0.003478   \n",
       "\n",
       "Dates    2023-08-04  2023-08-11  2023-08-18  2023-08-25  2023-08-31  \n",
       "A271940    0.003572    0.003572    0.003572    0.003572    0.003143  \n",
       "A017800    0.003430    0.003430    0.003430    0.003430    0.001914  \n",
       "A017670    0.004103    0.004103    0.004103    0.004103    0.003897  \n",
       "A016380    0.009659    0.009659    0.009659    0.009659    0.006919  \n",
       "A016360    0.005599    0.005599    0.005599    0.005599    0.004217  \n",
       "...             ...         ...         ...         ...         ...  \n",
       "A139130    0.010096    0.010096    0.010096    0.010096    0.007575  \n",
       "A003230    0.005383    0.005383    0.005383    0.005383    0.003782  \n",
       "A005420    0.002351    0.002351    0.002351    0.002351    0.001387  \n",
       "A001570    0.001900    0.001900    0.001900    0.001900    0.000037  \n",
       "A008730    0.003478    0.003478    0.003478    0.003478    0.002820  \n",
       "\n",
       "[206 rows x 35 columns]"
      ]
     },
     "execution_count": 183,
     "metadata": {},
     "output_type": "execute_result"
    }
   ],
   "source": [
    "raw_input=cap_combined[0].unstack().T\n"
   ]
  },
  {
   "cell_type": "code",
   "execution_count": 187,
   "id": "86e9beef-99eb-4386-860b-c87dfa82c89e",
   "metadata": {
    "execution": {
     "iopub.execute_input": "2023-09-27T06:11:53.468597Z",
     "iopub.status.busy": "2023-09-27T06:11:53.467953Z",
     "iopub.status.idle": "2023-09-27T06:11:53.622129Z",
     "shell.execute_reply": "2023-09-27T06:11:53.621189Z",
     "shell.execute_reply.started": "2023-09-27T06:11:53.468494Z"
    },
    "tags": []
   },
   "outputs": [
    {
     "data": {
      "image/png": "[encoded data removed]",
      "text/plain": [
       "<Figure size 864x576 with 1 Axes>"
      ]
     },
     "metadata": {
      "needs_background": "light"
     },
     "output_type": "display_data"
    }
   ],
   "source": [
    "fig, ax1=plt.subplots(figsize=(12, 8))\n",
    "plt.hist(raw_input.iloc[2].values)\n",
    "plt.show()"
   ]
  },
  {
   "cell_type": "code",
   "execution_count": null,
   "id": "77512551-d609-406f-95f4-6ae01c66acee",
   "metadata": {},
   "outputs": [],
   "source": []
  },
  {
   "cell_type": "code",
   "execution_count": 188,
   "id": "21ac0aa9-12cf-4b0a-a0c8-750efa055d3a",
   "metadata": {
    "execution": {
     "iopub.execute_input": "2023-09-27T06:15:21.374556Z",
     "iopub.status.busy": "2023-09-27T06:15:21.373927Z",
     "iopub.status.idle": "2023-09-27T06:15:21.391156Z",
     "shell.execute_reply": "2023-09-27T06:15:21.389975Z",
     "shell.execute_reply.started": "2023-09-27T06:15:21.374492Z"
    },
    "tags": []
   },
   "outputs": [
    {
     "data": {
      "text/plain": [
       "(206, 35)"
      ]
     },
     "execution_count": 188,
     "metadata": {},
     "output_type": "execute_result"
    }
   ],
   "source": [
    "scaler = StandardScaler()\n",
    "tempw = scaler.fit_transform(raw_input)\n",
    "tempw.shape"
   ]
  },
  {
   "cell_type": "code",
   "execution_count": 189,
   "id": "ca68c4e9-63f4-4789-ba5c-842459f7a036",
   "metadata": {
    "execution": {
     "iopub.execute_input": "2023-09-27T06:15:21.521537Z",
     "iopub.status.busy": "2023-09-27T06:15:21.521015Z",
     "iopub.status.idle": "2023-09-27T06:15:21.527591Z",
     "shell.execute_reply": "2023-09-27T06:15:21.526380Z",
     "shell.execute_reply.started": "2023-09-27T06:15:21.521486Z"
    },
    "tags": []
   },
   "outputs": [],
   "source": [
    "temp_w=pd.DataFrame(tempw, index = raw_input.index, columns=raw_input.columns)\n",
    "temp_w=temp_w.T\n"
   ]
  },
  {
   "cell_type": "code",
   "execution_count": 192,
   "id": "dd8e0057-1593-4abf-8498-e1ea3bcca29b",
   "metadata": {
    "execution": {
     "iopub.execute_input": "2023-09-27T06:16:45.413331Z",
     "iopub.status.busy": "2023-09-27T06:16:45.412695Z",
     "iopub.status.idle": "2023-09-27T06:16:45.585300Z",
     "shell.execute_reply": "2023-09-27T06:16:45.584372Z",
     "shell.execute_reply.started": "2023-09-27T06:16:45.413276Z"
    },
    "tags": []
   },
   "outputs": [
    {
     "data": {
      "image/png": "[encoded data removed]",
      "text/plain": [
       "<Figure size 864x576 with 1 Axes>"
      ]
     },
     "metadata": {
      "needs_background": "light"
     },
     "output_type": "display_data"
    }
   ],
   "source": [
    "fig, ax1=plt.subplots(figsize=(12, 8))\n",
    "plt.hist(temp_w.iloc[2].values)\n",
    "plt.show()"
   ]
  },
  {
   "cell_type": "code",
   "execution_count": 181,
   "id": "34b5a8c7-62ce-4812-a816-04687a6a136d",
   "metadata": {
    "execution": {
     "iopub.execute_input": "2023-09-27T06:02:06.795431Z",
     "iopub.status.busy": "2023-09-27T06:02:06.794822Z",
     "iopub.status.idle": "2023-09-27T06:02:06.817851Z",
     "shell.execute_reply": "2023-09-27T06:02:06.816687Z",
     "shell.execute_reply.started": "2023-09-27T06:02:06.795376Z"
    },
    "scrolled": true,
    "tags": []
   },
   "outputs": [
    {
     "data": {
      "text/plain": [
       "Dates\n",
       "2023-01-06   -0.190349\n",
       "2023-01-13   -0.190349\n",
       "2023-01-20   -0.190349\n",
       "2023-01-27   -0.183562\n",
       "2023-02-03   -0.183562\n",
       "2023-02-10   -0.183562\n",
       "2023-02-17   -0.183562\n",
       "2023-02-24   -0.138006\n",
       "2023-03-03   -0.138006\n",
       "2023-03-10   -0.138006\n",
       "2023-03-17   -0.138006\n",
       "2023-03-24   -0.138006\n",
       "2023-03-31   -0.134539\n",
       "2023-04-07   -0.134539\n",
       "2023-04-14   -0.132674\n",
       "2023-04-21   -0.132674\n",
       "2023-04-28   -0.161348\n",
       "2023-05-04   -0.161348\n",
       "2023-05-12   -0.161348\n",
       "2023-05-19   -0.161348\n",
       "2023-05-26   -0.117736\n",
       "2023-06-02   -0.117736\n",
       "2023-06-09   -0.118548\n",
       "2023-06-16   -0.118548\n",
       "2023-06-23   -0.118318\n",
       "2023-06-30   -0.100400\n",
       "2023-07-07   -0.100400\n",
       "2023-07-14   -0.100400\n",
       "2023-07-21   -0.100400\n",
       "2023-07-28   -0.189712\n",
       "2023-08-04   -0.189712\n",
       "2023-08-11   -0.189712\n",
       "2023-08-18   -0.189712\n",
       "2023-08-25   -0.189712\n",
       "2023-08-31   -0.180997\n",
       "Name: 0.5, dtype: float64"
      ]
     },
     "execution_count": 181,
     "metadata": {},
     "output_type": "execute_result"
    }
   ],
   "source": [
    "temp_w.quantile(.5, axis=1)"
   ]
  },
  {
   "cell_type": "code",
   "execution_count": 193,
   "id": "70c7b671-a888-484e-bd96-23440529af39",
   "metadata": {
    "execution": {
     "iopub.execute_input": "2023-09-27T06:31:33.001614Z",
     "iopub.status.busy": "2023-09-27T06:31:33.001006Z",
     "iopub.status.idle": "2023-09-27T06:31:33.014920Z",
     "shell.execute_reply": "2023-09-27T06:31:33.013898Z",
     "shell.execute_reply.started": "2023-09-27T06:31:33.001562Z"
    },
    "scrolled": true,
    "tags": []
   },
   "outputs": [
    {
     "data": {
      "text/plain": [
       "Dates\n",
       "2023-01-06   -7.327472e-17\n",
       "2023-01-13   -7.327472e-17\n",
       "2023-01-20   -7.327472e-17\n",
       "2023-01-27    2.588661e-16\n",
       "2023-02-03    2.588661e-16\n",
       "2023-02-10    2.588661e-16\n",
       "2023-02-17    2.588661e-16\n",
       "2023-02-24   -1.054712e-16\n",
       "2023-03-03   -1.054712e-16\n",
       "2023-03-10   -1.054712e-16\n",
       "2023-03-17   -1.054712e-16\n",
       "2023-03-24   -1.054712e-16\n",
       "2023-03-31    7.252713e-17\n",
       "2023-04-07    7.252713e-17\n",
       "2023-04-14   -2.926952e-16\n",
       "2023-04-21   -2.926952e-16\n",
       "2023-04-28   -9.992007e-17\n",
       "2023-05-04   -9.992007e-17\n",
       "2023-05-12   -9.992007e-17\n",
       "2023-05-19   -9.992007e-17\n",
       "2023-05-26   -4.440892e-17\n",
       "2023-06-02   -4.440892e-17\n",
       "2023-06-09   -4.037175e-17\n",
       "2023-06-16   -4.037175e-17\n",
       "2023-06-23   -2.254260e-17\n",
       "2023-06-30   -1.776357e-17\n",
       "2023-07-07   -1.776357e-17\n",
       "2023-07-14   -1.776357e-17\n",
       "2023-07-21   -1.776357e-17\n",
       "2023-07-28    8.881784e-17\n",
       "2023-08-04    8.881784e-17\n",
       "2023-08-11    8.881784e-17\n",
       "2023-08-18    8.881784e-17\n",
       "2023-08-25    8.881784e-17\n",
       "2023-08-31   -8.881784e-18\n",
       "dtype: float64"
      ]
     },
     "execution_count": 193,
     "metadata": {},
     "output_type": "execute_result"
    }
   ],
   "source": [
    "temp_w.mean(1)"
   ]
  },
  {
   "cell_type": "code",
   "execution_count": 121,
   "id": "0c4816fc-b736-4c1b-9700-2e5dd5f511f6",
   "metadata": {
    "execution": {
     "iopub.execute_input": "2023-09-27T05:12:22.016950Z",
     "iopub.status.busy": "2023-09-27T05:12:22.016768Z",
     "iopub.status.idle": "2023-09-27T05:12:22.027431Z",
     "shell.execute_reply": "2023-09-27T05:12:22.026827Z",
     "shell.execute_reply.started": "2023-09-27T05:12:22.016932Z"
    },
    "tags": []
   },
   "outputs": [],
   "source": [
    "# # temp_w[temp_w>1] = 1\n",
    "# # temp_w[temp_w<-1] = -1\n"
   ]
  },
  {
   "cell_type": "code",
   "execution_count": 122,
   "id": "9da8a649-ce50-4705-a967-774ed487ae9e",
   "metadata": {
    "execution": {
     "iopub.execute_input": "2023-09-27T05:12:22.028271Z",
     "iopub.status.busy": "2023-09-27T05:12:22.028080Z",
     "iopub.status.idle": "2023-09-27T05:12:24.381457Z",
     "shell.execute_reply": "2023-09-27T05:12:24.380796Z",
     "shell.execute_reply.started": "2023-09-27T05:12:22.028253Z"
    },
    "tags": []
   },
   "outputs": [
    {
     "data": {
      "text/plain": [
       "(array([[0., 0., 0., ..., 0., 0., 0.],\n",
       "        [0., 0., 0., ..., 0., 0., 0.],\n",
       "        [0., 0., 0., ..., 0., 0., 1.],\n",
       "        ...,\n",
       "        [0., 0., 0., ..., 0., 0., 0.],\n",
       "        [0., 0., 0., ..., 0., 0., 0.],\n",
       "        [0., 0., 0., ..., 0., 0., 0.]]),\n",
       " array([-1. , -0.8, -0.6, -0.4, -0.2,  0. ,  0.2,  0.4,  0.6,  0.8,  1. ]),\n",
       " <a list of 206 BarContainer objects>)"
      ]
     },
     "execution_count": 122,
     "metadata": {},
     "output_type": "execute_result"
    },
    {
     "data": {
      "image/png": "[encoded data removed]",
      "text/plain": [
       "<Figure size 432x288 with 1 Axes>"
      ]
     },
     "metadata": {
      "needs_background": "light"
     },
     "output_type": "display_data"
    }
   ],
   "source": [
    "plt.hist(temp_w.values)"
   ]
  },
  {
   "cell_type": "code",
   "execution_count": 159,
   "id": "70c7997c-5395-46cd-bbf2-17b143d9f942",
   "metadata": {
    "execution": {
     "iopub.execute_input": "2023-09-27T05:30:18.761992Z",
     "iopub.status.busy": "2023-09-27T05:30:18.761390Z",
     "iopub.status.idle": "2023-09-27T05:30:18.773140Z",
     "shell.execute_reply": "2023-09-27T05:30:18.772055Z",
     "shell.execute_reply.started": "2023-09-27T05:30:18.761940Z"
    },
    "tags": []
   },
   "outputs": [],
   "source": [
    "temp_w[temp_w>3]=3\n",
    "temp_w[temp_w<-3]=-3"
   ]
  },
  {
   "cell_type": "code",
   "execution_count": 160,
   "id": "036055dc-b8fa-4b31-ab6f-2f8f92ffe3c3",
   "metadata": {
    "execution": {
     "iopub.execute_input": "2023-09-27T05:30:19.043644Z",
     "iopub.status.busy": "2023-09-27T05:30:19.043106Z",
     "iopub.status.idle": "2023-09-27T05:30:21.627796Z",
     "shell.execute_reply": "2023-09-27T05:30:21.626919Z",
     "shell.execute_reply.started": "2023-09-27T05:30:19.043593Z"
    },
    "tags": []
   },
   "outputs": [
    {
     "data": {
      "image/png": "[encoded data removed]",
      "text/plain": [
       "<Figure size 864x576 with 1 Axes>"
      ]
     },
     "metadata": {
      "needs_background": "light"
     },
     "output_type": "display_data"
    }
   ],
   "source": [
    "fig, ax1=plt.subplots(figsize=(12, 8))\n",
    "plt.hist(temp_w.values)\n",
    "plt.show()"
   ]
  },
  {
   "cell_type": "code",
   "execution_count": 152,
   "id": "09a70968-7951-4f04-a9b9-814b2cb0b09d",
   "metadata": {
    "execution": {
     "iopub.execute_input": "2023-09-27T05:24:21.074327Z",
     "iopub.status.busy": "2023-09-27T05:24:21.073729Z",
     "iopub.status.idle": "2023-09-27T05:24:21.088109Z",
     "shell.execute_reply": "2023-09-27T05:24:21.087150Z",
     "shell.execute_reply.started": "2023-09-27T05:24:21.074274Z"
    },
    "tags": []
   },
   "outputs": [
    {
     "data": {
      "text/plain": [
       "Dates\n",
       "2023-01-06    20.039478\n",
       "2023-01-13    20.039478\n",
       "2023-01-20    20.039478\n",
       "2023-01-27    21.302919\n",
       "2023-02-03    21.302919\n",
       "2023-02-10    21.302919\n",
       "2023-02-17    21.302919\n",
       "2023-02-24    17.932552\n",
       "2023-03-03    17.932552\n",
       "2023-03-10    17.932552\n",
       "2023-03-17    17.932552\n",
       "2023-03-24    17.932552\n",
       "2023-03-31    16.923317\n",
       "2023-04-07    16.923317\n",
       "2023-04-14    16.879418\n",
       "2023-04-21    16.879418\n",
       "2023-04-28    18.890074\n",
       "2023-05-04    18.890074\n",
       "2023-05-12    18.890074\n",
       "2023-05-19    18.890074\n",
       "2023-05-26    13.743479\n",
       "2023-06-02    13.743479\n",
       "2023-06-09    13.674895\n",
       "2023-06-16    13.674895\n",
       "2023-06-23    13.640207\n",
       "2023-06-30    13.812998\n",
       "2023-07-07    13.812998\n",
       "2023-07-14    13.812998\n",
       "2023-07-21    13.812998\n",
       "2023-07-28    22.220536\n",
       "2023-08-04    22.220536\n",
       "2023-08-11    22.220536\n",
       "2023-08-18    22.220536\n",
       "2023-08-25    22.220536\n",
       "2023-08-31    19.554715\n",
       "dtype: float64"
      ]
     },
     "execution_count": 152,
     "metadata": {},
     "output_type": "execute_result"
    }
   ],
   "source": [
    "temp_w[temp_w>3].fillna(0).sum(1)"
   ]
  },
  {
   "cell_type": "code",
   "execution_count": 153,
   "id": "5adc1766-7a97-4131-8902-6a85e3b0dd73",
   "metadata": {
    "execution": {
     "iopub.execute_input": "2023-09-27T05:27:29.461734Z",
     "iopub.status.busy": "2023-09-27T05:27:29.461111Z",
     "iopub.status.idle": "2023-09-27T05:27:32.299452Z",
     "shell.execute_reply": "2023-09-27T05:27:32.298805Z",
     "shell.execute_reply.started": "2023-09-27T05:27:29.461679Z"
    }
   },
   "outputs": [
    {
     "data": {
      "text/plain": [
       "(array([[0., 0., 0., ..., 0., 0., 0.],\n",
       "        [0., 0., 1., ..., 0., 0., 0.],\n",
       "        [0., 0., 4., ..., 0., 0., 0.],\n",
       "        ...,\n",
       "        [0., 0., 6., ..., 0., 0., 0.],\n",
       "        [0., 1., 5., ..., 0., 0., 4.],\n",
       "        [0., 0., 0., ..., 0., 0., 0.]]),\n",
       " array([-1.87242058, -1.38517852, -0.89793647, -0.41069441,  0.07654765,\n",
       "         0.56378971,  1.05103177,  1.53827383,  2.02551588,  2.51275794,\n",
       "         3.        ]),\n",
       " <a list of 206 BarContainer objects>)"
      ]
     },
     "execution_count": 153,
     "metadata": {},
     "output_type": "execute_result"
    },
    {
     "data": {
      "image/png": "[encoded data removed]",
      "text/plain": [
       "<Figure size 432x288 with 1 Axes>"
      ]
     },
     "metadata": {
      "needs_background": "light"
     },
     "output_type": "display_data"
    }
   ],
   "source": [
    "temp_w[temp_w>3]=3\n",
    "temp_w[temp_w<-3]=-3\n",
    "plt.hist(temp_w.values)"
   ]
  },
  {
   "cell_type": "code",
   "execution_count": null,
   "id": "bc71bcae-489e-4d33-a6f5-4a0468d9cd12",
   "metadata": {},
   "outputs": [],
   "source": []
  },
  {
   "cell_type": "code",
   "execution_count": null,
   "id": "f6e83eee-f0cc-4715-9f37-2e8e517e1210",
   "metadata": {},
   "outputs": [],
   "source": [
    "topn=.2"
   ]
  },
  {
   "cell_type": "code",
   "execution_count": 175,
   "id": "71c1544b-ced5-4e80-bb46-080ac30774b7",
   "metadata": {
    "execution": {
     "iopub.execute_input": "2023-09-27T05:54:52.476012Z",
     "iopub.status.busy": "2023-09-27T05:54:52.475284Z",
     "iopub.status.idle": "2023-09-27T05:54:52.488652Z",
     "shell.execute_reply": "2023-09-27T05:54:52.487557Z",
     "shell.execute_reply.started": "2023-09-27T05:54:52.475948Z"
    },
    "tags": []
   },
   "outputs": [],
   "source": [
    "short_thres=temp_w.iloc[0].quantile(.2) \n",
    "long_thres=temp_w.iloc[0].quantile(.8)"
   ]
  },
  {
   "cell_type": "code",
   "execution_count": 177,
   "id": "cd8048b4-a80d-4988-aef2-d5429bdb408f",
   "metadata": {
    "execution": {
     "iopub.execute_input": "2023-09-27T05:55:45.803676Z",
     "iopub.status.busy": "2023-09-27T05:55:45.803078Z",
     "iopub.status.idle": "2023-09-27T05:55:45.813218Z",
     "shell.execute_reply": "2023-09-27T05:55:45.812184Z",
     "shell.execute_reply.started": "2023-09-27T05:55:45.803624Z"
    },
    "tags": []
   },
   "outputs": [
    {
     "data": {
      "text/plain": [
       "-38.48862764641245"
      ]
     },
     "execution_count": 177,
     "metadata": {},
     "output_type": "execute_result"
    }
   ],
   "source": [
    "short_side=temp_w.iloc[0][temp_w.iloc[0]<short_thres].sum()"
   ]
  },
  {
   "cell_type": "code",
   "execution_count": null,
   "id": "d36f2528-8c78-4d47-a3a0-41dbf870e240",
   "metadata": {},
   "outputs": [],
   "source": [
    "short_side"
   ]
  },
  {
   "cell_type": "markdown",
   "id": "fcfc2cec-112d-47da-afae-23cc07f6468e",
   "metadata": {},
   "source": [
    "### if the amount of prob has confidence \n",
    "### then fix long and short the same amount of long weight but can be different number of stocks\n",
    "### if not long top n / short top n"
   ]
  },
  {
   "cell_type": "code",
   "execution_count": null,
   "id": "1c400839-027b-4c4e-9b06-0e8083d035c5",
   "metadata": {},
   "outputs": [],
   "source": []
  },
  {
   "cell_type": "code",
   "execution_count": null,
   "id": "158b4da8-1d16-4461-854e-856f71f67ffe",
   "metadata": {},
   "outputs": [],
   "source": []
  },
  {
   "cell_type": "code",
   "execution_count": 168,
   "id": "e521d8f9-cd62-4a04-938a-a7c5eec5e3a1",
   "metadata": {
    "execution": {
     "iopub.execute_input": "2023-09-27T05:43:00.461538Z",
     "iopub.status.busy": "2023-09-27T05:43:00.460941Z",
     "iopub.status.idle": "2023-09-27T05:43:00.626647Z",
     "shell.execute_reply": "2023-09-27T05:43:00.625795Z",
     "shell.execute_reply.started": "2023-09-27T05:43:00.461486Z"
    },
    "scrolled": true,
    "tags": []
   },
   "outputs": [
    {
     "data": {
      "text/plain": [
       "<AxesSubplot: >"
      ]
     },
     "execution_count": 168,
     "metadata": {},
     "output_type": "execute_result"
    },
    {
     "data": {
      "image/png": "[encoded data removed]",
      "text/plain": [
       "<Figure size 432x288 with 1 Axes>"
      ]
     },
     "metadata": {
      "needs_background": "light"
     },
     "output_type": "display_data"
    }
   ],
   "source": [
    "temp_w.iloc[0].dropna().sort_values().plot()"
   ]
  },
  {
   "cell_type": "code",
   "execution_count": null,
   "id": "561d610d-ad9f-4637-94c4-5f5b3b2749a4",
   "metadata": {},
   "outputs": [],
   "source": [
    "# entire score long / short\n",
    "\n",
    "ls_weight = pd.concat(ls_weight_ls, axis=1).T\n",
    "ls_weight.index = pre_rank.index\n",
    "ls_weight = ls_weight.shift(1)\n",
    "\n",
    "ls_weight_adj = ls_weight.iloc[-1].rank(pct = True) - ls_weight.iloc[-1].rank(pct = True).mean()\n",
    "\n",
    "\n",
    "\n",
    "# top n% long /short\n",
    "\n",
    "\n",
    "\n",
    "\n"
   ]
  },
  {
   "cell_type": "code",
   "execution_count": null,
   "id": "aa99783e-66e4-40a8-8dc0-b4a21c88aae8",
   "metadata": {},
   "outputs": [],
   "source": []
  },
  {
   "cell_type": "markdown",
   "id": "9b26970b-fd82-45ba-998c-043b4807af89",
   "metadata": {},
   "source": [
    "# Long only - proportion to BM weight / sector neutral / equal weight"
   ]
  },
  {
   "cell_type": "code",
   "execution_count": null,
   "id": "da2f3cc6-f7d5-43f0-b38b-a038abc48af7",
   "metadata": {},
   "outputs": [],
   "source": [
    "# top n% equal weight long only \n",
    "\n",
    "\n",
    "\n",
    "\n",
    "\n",
    "# top n% market weight tilt\n",
    "\n",
    "\n",
    "\n",
    "\n",
    "\n",
    "tilt = .1\n",
    "active_weight = pd.concat([k200w_final[ls_weight.iloc[-1].index].iloc[-2], ls_weight_adj], axis=1)\n",
    "active_weight.columns = ['bm', 'active_weight']\n",
    "active_weight['bm'] = active_weight['bm'] / 100\n",
    "active_weight['bm_tilt'] = active_weight['bm'] + tilt * active_weight['active_weight']\n",
    "active_weight['bm_limit'] = np.where(active_weight['active_weight']>=0, active_weight['bm'], -active_weight['bm'])\n",
    "\n",
    "# if bm_tilt <0, more weights to add to others\n",
    "# \n",
    "(tilt * active_weight['active_weight'][active_weight['active_weight']>=0].sum()), \n",
    "active_weight['bm_tilt'] = active_weight['bm'] + tilt * active_weight['active_weight']\n",
    "active_weight['bm_tilt'][active_weight['bm_tilt']<0].sum()\n",
    "\n",
    "(active_weight['active_weight'] * (active_weight['bm_tilt'] - active_weight['bm'])).sum()\n",
    "\n",
    "((active_weight['bm_tilt'] < active_weight['bm_limit']) & (active_weight['bm_tilt']<0))\n",
    "\n",
    "active_weight['bm_tilt'][active_weight['bm_tilt'] < active_weight['bm_limit']] = active_weight['bm_limit']\n",
    "\n",
    "active_weight['bm_tilt'][active_weight['bm_tilt']>0].sum(), active_weight['bm_tilt'][active_weight['bm_tilt']<0].sum()\n",
    "\n",
    "def objective(trial):\n",
    "    x = trial.suggest_float('x', 0.01, .2)\n",
    "    \n",
    "    bm_tilt = active_weight['bm'] + x * active_weight['active_weight']\n",
    "    bm_tilt[bm_tilt < active_weight['bm_limit']] = active_weight['bm_limit']\n",
    "    neg_bet = bm_tilt[bm_tilt<0].sum()\n",
    "    pos_bet = bm_tilt[bm_tilt>0].sum()\n",
    "    bet_diff = pos_bet + neg_bet\n",
    "    \n",
    "    # how to decrease weights in pos bet \n",
    "        \n",
    "    return pos_bet + neg_bet\n",
    "\n",
    "\n",
    "opt_tilt = optuna.create_study(direction=\"minimize\")\n",
    "opt_tilt.optimize(objective, n_trials=30, n_jobs=-1)\n",
    "best_params = opt_tilt.best_params    \n",
    "\n",
    "\n",
    "from optuna.visualization import plot_contour\n",
    "from optuna.visualization import plot_edf\n",
    "from optuna.visualization import plot_intermediate_values\n",
    "from optuna.visualization import plot_optimization_history\n",
    "from optuna.visualization import plot_parallel_coordinate\n",
    "from optuna.visualization import plot_param_importances\n",
    "\n",
    "plot_optimization_history(opt_tilt)\n",
    "\n",
    "\n",
    "weight = pd.concat(ranked_ls, axis=1).T\n",
    "weight = weight.shift(1).dropna(how = 'all', axis=0)\n",
    "weight =weight.div(weight.sum(1), axis=0)\n",
    "weight = weight.fillna(0)\n",
    "\n",
    "idx_ret, idx_ret_cost, idx_cum_ret, idx_cum_retcost = perf.return_index(price, \n",
    "                                                                        weight)\n",
    "\n",
    "\n",
    "temp_perf = perf.analyze_performance(idx_ret_cost.loc['2009-12-30':'2023-03-31'], \n",
    "                                     model_name = 'factor',\n",
    "                                     base_date_period = 252,\n",
    "                                     weights = weight)\n",
    "\n",
    "\n"
   ]
  }
 ],
 "metadata": {
  "kernelspec": {
   "display_name": "base",
   "language": "python",
   "name": "python3"
  },
  "language_info": {
   "codemirror_mode": {
    "name": "ipython",
    "version": 3
   },
   "file_extension": ".py",
   "mimetype": "text/x-python",
   "name": "python",
   "nbconvert_exporter": "python",
   "pygments_lexer": "ipython3",
   "version": "3.9.12"
  }
 },
 "nbformat": 4,
 "nbformat_minor": 5
}
