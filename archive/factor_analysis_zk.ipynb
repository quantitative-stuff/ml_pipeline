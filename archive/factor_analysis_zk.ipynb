{
 "cells": [
  {
   "cell_type": "code",
   "execution_count": 1,
   "id": "cc569296-f180-405d-a708-b7f977878f93",
   "metadata": {
    "execution": {
     "iopub.execute_input": "2023-10-31T03:27:31.196807Z",
     "iopub.status.busy": "2023-10-31T03:27:31.196537Z",
     "iopub.status.idle": "2023-10-31T03:27:32.468889Z",
     "shell.execute_reply": "2023-10-31T03:27:32.467954Z",
     "shell.execute_reply.started": "2023-10-31T03:27:31.196778Z"
    },
    "tags": []
   },
   "outputs": [],
   "source": [
    "import os\n",
    "import pandas as pd\n",
    "import numpy as np\n",
    "from matplotlib import pyplot as plt\n",
    "import seaborn as sns\n",
    "\n",
    "import cx_Oracle\n",
    "import os\n",
    "os.putenv(' NLS_LANG', '.UTF8')"
   ]
  },
  {
   "cell_type": "code",
   "execution_count": 2,
   "id": "53d5591a-ba1c-4722-9b79-a784994006c7",
   "metadata": {
    "execution": {
     "iopub.execute_input": "2023-10-31T03:27:32.470127Z",
     "iopub.status.busy": "2023-10-31T03:27:32.469797Z",
     "iopub.status.idle": "2023-10-31T03:27:32.523113Z",
     "shell.execute_reply": "2023-10-31T03:27:32.521934Z",
     "shell.execute_reply.started": "2023-10-31T03:27:32.470103Z"
    },
    "tags": []
   },
   "outputs": [],
   "source": [
    "from sklearn.preprocessing import StandardScaler"
   ]
  },
  {
   "cell_type": "code",
   "execution_count": 3,
   "id": "5e7fa418-fb1c-4a89-a027-17487aeb5aad",
   "metadata": {
    "execution": {
     "iopub.execute_input": "2023-10-31T03:27:32.524073Z",
     "iopub.status.busy": "2023-10-31T03:27:32.523851Z",
     "iopub.status.idle": "2023-10-31T03:27:34.563757Z",
     "shell.execute_reply": "2023-10-31T03:27:34.563029Z",
     "shell.execute_reply.started": "2023-10-31T03:27:32.524052Z"
    },
    "tags": []
   },
   "outputs": [],
   "source": [
    "import sys\n",
    "\n",
    "# os.chdir('C:/Users/user/Documents/hs/pipeline-main/pipeline-main/')\n",
    "\n",
    "sys.path.append('../py')\n",
    "\n",
    "import data_processing as proc\n",
    "import utils\n",
    "import performance as perf\n",
    "import input_feature_engineering as ife\n",
    "import target_feature_engineering as tfe\n",
    "import check_features as check_feat"
   ]
  },
  {
   "cell_type": "code",
   "execution_count": 4,
   "id": "20e195d0-b9a3-4ed7-96c3-bb367edbd4c1",
   "metadata": {
    "execution": {
     "iopub.execute_input": "2023-10-31T03:27:34.565592Z",
     "iopub.status.busy": "2023-10-31T03:27:34.565232Z",
     "iopub.status.idle": "2023-10-31T03:27:34.735369Z",
     "shell.execute_reply": "2023-10-31T03:27:34.734142Z",
     "shell.execute_reply.started": "2023-10-31T03:27:34.565572Z"
    },
    "tags": []
   },
   "outputs": [],
   "source": [
    "from sqlalchemy import create_engine, text"
   ]
  },
  {
   "cell_type": "code",
   "execution_count": 5,
   "id": "733c2b72-d316-4579-b9f9-dd91b23a6be3",
   "metadata": {
    "execution": {
     "iopub.execute_input": "2023-10-31T03:27:34.737485Z",
     "iopub.status.busy": "2023-10-31T03:27:34.736956Z",
     "iopub.status.idle": "2023-10-31T03:30:44.379076Z",
     "shell.execute_reply": "2023-10-31T03:30:44.377982Z",
     "shell.execute_reply.started": "2023-10-31T03:27:34.737454Z"
    },
    "tags": []
   },
   "outputs": [
    {
     "name": "stderr",
     "output_type": "stream",
     "text": [
      "<ipython-input-5-4c682375b2e8>:19: FutureWarning: In a future version of pandas all arguments of DataFrame.sort_index will be keyword-only.\n",
      "  k200_df=k200_df.sort_index(0)\n"
     ]
    }
   ],
   "source": [
    "dsn = cx_Oracle.makedsn('192.168.1.5', '1521', service_name = 'ORA11')\n",
    "con = cx_Oracle.connect('dbam', 'dbamkass', dsn = dsn, encoding=\"UTF-8\")\n",
    "cur = con.cursor()\n",
    "\n",
    "sql_k200 = \" select 일자, 종목코드2 종목코드, 종목명_국문 종목명, 당일가격, 지수내비중, 상장주식수, 유동비율, \\\n",
    "            지수주식수, 지수시가총액 \\\n",
    "             from KASS1.TH068 \\\n",
    "             where 익일적용여부 ='NXT' \\\n",
    "             and ISIN = 'KRD020020016' \\\n",
    "             order by 지수내비중 desc \"\n",
    "\n",
    "cur.execute(sql_k200)\n",
    "k200_df = pd.DataFrame(cur.fetchall(), columns = [x[0] for x in cur.description])\n",
    "\n",
    "k200_df['일자']=pd.to_datetime(k200_df['일자'], format ='%Y%m%d')\n",
    "k200_df.set_index(['일자', '종목코드'], inplace=True)\n",
    "k200_df.index.names=['Dates', 'Symbol']\n",
    "k200_df.columns=['name', 'close', 'idx_weight', 'num_shares', 'float_rate', 'idx_num_shares', 'idx_cap']\n",
    "k200_df=k200_df.sort_index(0)"
   ]
  },
  {
   "cell_type": "code",
   "execution_count": null,
   "id": "d0e5da76-3f27-42ec-a77f-e987f1b4f5f5",
   "metadata": {},
   "outputs": [],
   "source": [
    "period1='2023-09-27'\n",
    "period2='2023-09-27'"
   ]
  },
  {
   "cell_type": "code",
   "execution_count": 6,
   "id": "ff877ac6-f86c-4fab-8d66-391d44647985",
   "metadata": {
    "execution": {
     "iopub.execute_input": "2023-10-31T03:30:44.380679Z",
     "iopub.status.busy": "2023-10-31T03:30:44.380396Z",
     "iopub.status.idle": "2023-10-31T03:30:44.554308Z",
     "shell.execute_reply": "2023-10-31T03:30:44.553425Z",
     "shell.execute_reply.started": "2023-10-31T03:30:44.380651Z"
    }
   },
   "outputs": [],
   "source": [
    "host = '192.168.1.27'\n",
    "port = '3306'\n",
    "db_name = 'quantdb_maria'\n",
    "username = 'quantdb'\n",
    "password = 'QuantDb2023!'\n",
    "\n",
    "engine = create_engine(\"mysql+pymysql://\" + username + \":\" + password + \"@\" + host + \":\" + port + \"/\" + db_name)\n",
    "conn=engine.connect()\n",
    "\n",
    "query_COM=f\"select * from COM_table_Bak where (Dates>='{period1}' and Dates<='{period2}')\"\n",
    "data_COM=pd.read_sql(query_COM, conn)"
   ]
  },
  {
   "cell_type": "code",
   "execution_count": 7,
   "id": "b469e6cf-a0dc-459b-895b-4627c46cfc8d",
   "metadata": {
    "execution": {
     "iopub.execute_input": "2023-10-31T03:30:44.555672Z",
     "iopub.status.busy": "2023-10-31T03:30:44.555236Z",
     "iopub.status.idle": "2023-10-31T03:30:44.563044Z",
     "shell.execute_reply": "2023-10-31T03:30:44.562344Z",
     "shell.execute_reply.started": "2023-10-31T03:30:44.555643Z"
    },
    "tags": []
   },
   "outputs": [],
   "source": [
    "sector=data_COM.set_index(['Dates', 'Symbol'])['FG_IndustryGroup_Idx'].copy()"
   ]
  },
  {
   "cell_type": "code",
   "execution_count": 8,
   "id": "19ae70dd-6cf9-47ec-ad14-5c7f89c7cbfa",
   "metadata": {
    "execution": {
     "iopub.execute_input": "2023-10-31T03:30:44.564259Z",
     "iopub.status.busy": "2023-10-31T03:30:44.563974Z",
     "iopub.status.idle": "2023-10-31T03:30:44.635731Z",
     "shell.execute_reply": "2023-10-31T03:30:44.634865Z",
     "shell.execute_reply.started": "2023-10-31T03:30:44.564232Z"
    },
    "tags": []
   },
   "outputs": [
    {
     "data": {
      "text/html": [
       "<div>\n",
       "<style scoped>\n",
       "    .dataframe tbody tr th:only-of-type {\n",
       "        vertical-align: middle;\n",
       "    }\n",
       "\n",
       "    .dataframe tbody tr th {\n",
       "        vertical-align: top;\n",
       "    }\n",
       "\n",
       "    .dataframe thead th {\n",
       "        text-align: right;\n",
       "    }\n",
       "</style>\n",
       "<table border=\"1\" class=\"dataframe\">\n",
       "  <thead>\n",
       "    <tr style=\"text-align: right;\">\n",
       "      <th></th>\n",
       "      <th>A000080</th>\n",
       "      <th>A000100</th>\n",
       "      <th>A000120</th>\n",
       "      <th>A000150</th>\n",
       "      <th>A000210</th>\n",
       "      <th>A000240</th>\n",
       "      <th>A000270</th>\n",
       "      <th>A000660</th>\n",
       "      <th>A000670</th>\n",
       "      <th>A000720</th>\n",
       "      <th>...</th>\n",
       "      <th>A329180</th>\n",
       "      <th>A336260</th>\n",
       "      <th>A352820</th>\n",
       "      <th>A361610</th>\n",
       "      <th>A373220</th>\n",
       "      <th>A375500</th>\n",
       "      <th>A377300</th>\n",
       "      <th>A381970</th>\n",
       "      <th>A383220</th>\n",
       "      <th>A402340</th>\n",
       "    </tr>\n",
       "    <tr>\n",
       "      <th>Dates</th>\n",
       "      <th></th>\n",
       "      <th></th>\n",
       "      <th></th>\n",
       "      <th></th>\n",
       "      <th></th>\n",
       "      <th></th>\n",
       "      <th></th>\n",
       "      <th></th>\n",
       "      <th></th>\n",
       "      <th></th>\n",
       "      <th></th>\n",
       "      <th></th>\n",
       "      <th></th>\n",
       "      <th></th>\n",
       "      <th></th>\n",
       "      <th></th>\n",
       "      <th></th>\n",
       "      <th></th>\n",
       "      <th></th>\n",
       "      <th></th>\n",
       "      <th></th>\n",
       "    </tr>\n",
       "  </thead>\n",
       "  <tbody>\n",
       "    <tr>\n",
       "      <th>2023-08-25</th>\n",
       "      <td>0.004694</td>\n",
       "      <td>0.002115</td>\n",
       "      <td>0.004907</td>\n",
       "      <td>0.006516</td>\n",
       "      <td>0.007797</td>\n",
       "      <td>0.007367</td>\n",
       "      <td>0.003361</td>\n",
       "      <td>0.000500</td>\n",
       "      <td>0.002966</td>\n",
       "      <td>0.002447</td>\n",
       "      <td>...</td>\n",
       "      <td>0.001854</td>\n",
       "      <td>0.003340</td>\n",
       "      <td>0.002034</td>\n",
       "      <td>0.001737</td>\n",
       "      <td>0.001025</td>\n",
       "      <td>0.006156</td>\n",
       "      <td>0.002653</td>\n",
       "      <td>0.004109</td>\n",
       "      <td>0.005712</td>\n",
       "      <td>0.001281</td>\n",
       "    </tr>\n",
       "    <tr>\n",
       "      <th>2023-09-01</th>\n",
       "      <td>0.004694</td>\n",
       "      <td>0.002115</td>\n",
       "      <td>0.004907</td>\n",
       "      <td>0.006516</td>\n",
       "      <td>0.007797</td>\n",
       "      <td>0.007367</td>\n",
       "      <td>0.003361</td>\n",
       "      <td>0.000500</td>\n",
       "      <td>0.002966</td>\n",
       "      <td>0.002447</td>\n",
       "      <td>...</td>\n",
       "      <td>0.001854</td>\n",
       "      <td>0.003340</td>\n",
       "      <td>0.002034</td>\n",
       "      <td>0.001737</td>\n",
       "      <td>0.001025</td>\n",
       "      <td>0.006156</td>\n",
       "      <td>0.002653</td>\n",
       "      <td>0.004109</td>\n",
       "      <td>0.005712</td>\n",
       "      <td>0.001281</td>\n",
       "    </tr>\n",
       "    <tr>\n",
       "      <th>2023-09-08</th>\n",
       "      <td>0.004694</td>\n",
       "      <td>0.002115</td>\n",
       "      <td>0.004907</td>\n",
       "      <td>0.006516</td>\n",
       "      <td>0.007797</td>\n",
       "      <td>0.007367</td>\n",
       "      <td>0.003361</td>\n",
       "      <td>0.000500</td>\n",
       "      <td>0.002966</td>\n",
       "      <td>0.002447</td>\n",
       "      <td>...</td>\n",
       "      <td>0.001854</td>\n",
       "      <td>0.003340</td>\n",
       "      <td>0.002034</td>\n",
       "      <td>0.001737</td>\n",
       "      <td>0.001025</td>\n",
       "      <td>0.006156</td>\n",
       "      <td>0.002653</td>\n",
       "      <td>0.004109</td>\n",
       "      <td>0.005712</td>\n",
       "      <td>0.001281</td>\n",
       "    </tr>\n",
       "    <tr>\n",
       "      <th>2023-09-15</th>\n",
       "      <td>0.004694</td>\n",
       "      <td>0.002115</td>\n",
       "      <td>0.004907</td>\n",
       "      <td>0.006516</td>\n",
       "      <td>0.007797</td>\n",
       "      <td>0.007367</td>\n",
       "      <td>0.003361</td>\n",
       "      <td>0.000500</td>\n",
       "      <td>0.002966</td>\n",
       "      <td>0.002447</td>\n",
       "      <td>...</td>\n",
       "      <td>0.001854</td>\n",
       "      <td>0.003340</td>\n",
       "      <td>0.002034</td>\n",
       "      <td>0.001737</td>\n",
       "      <td>0.001025</td>\n",
       "      <td>0.006156</td>\n",
       "      <td>0.002653</td>\n",
       "      <td>0.004109</td>\n",
       "      <td>0.005712</td>\n",
       "      <td>0.001281</td>\n",
       "    </tr>\n",
       "    <tr>\n",
       "      <th>2023-09-22</th>\n",
       "      <td>0.004694</td>\n",
       "      <td>0.002115</td>\n",
       "      <td>0.004907</td>\n",
       "      <td>0.006516</td>\n",
       "      <td>0.007797</td>\n",
       "      <td>0.007367</td>\n",
       "      <td>0.003361</td>\n",
       "      <td>0.000500</td>\n",
       "      <td>0.002966</td>\n",
       "      <td>0.002447</td>\n",
       "      <td>...</td>\n",
       "      <td>0.001854</td>\n",
       "      <td>0.003340</td>\n",
       "      <td>0.002034</td>\n",
       "      <td>0.001737</td>\n",
       "      <td>0.001025</td>\n",
       "      <td>0.006156</td>\n",
       "      <td>0.002653</td>\n",
       "      <td>0.004109</td>\n",
       "      <td>0.005712</td>\n",
       "      <td>0.001281</td>\n",
       "    </tr>\n",
       "    <tr>\n",
       "      <th>2023-09-27</th>\n",
       "      <td>0.005837</td>\n",
       "      <td>0.002061</td>\n",
       "      <td>0.006252</td>\n",
       "      <td>0.004413</td>\n",
       "      <td>0.008440</td>\n",
       "      <td>0.007133</td>\n",
       "      <td>0.006182</td>\n",
       "      <td>0.000109</td>\n",
       "      <td>0.001912</td>\n",
       "      <td>0.002469</td>\n",
       "      <td>...</td>\n",
       "      <td>0.002019</td>\n",
       "      <td>0.003693</td>\n",
       "      <td>0.001161</td>\n",
       "      <td>0.001771</td>\n",
       "      <td>0.000317</td>\n",
       "      <td>0.008145</td>\n",
       "      <td>0.002203</td>\n",
       "      <td>0.005704</td>\n",
       "      <td>0.006909</td>\n",
       "      <td>0.000451</td>\n",
       "    </tr>\n",
       "  </tbody>\n",
       "</table>\n",
       "<p>6 rows × 200 columns</p>\n",
       "</div>"
      ],
      "text/plain": [
       "             A000080   A000100   A000120   A000150   A000210   A000240  \\\n",
       "Dates                                                                    \n",
       "2023-08-25  0.004694  0.002115  0.004907  0.006516  0.007797  0.007367   \n",
       "2023-09-01  0.004694  0.002115  0.004907  0.006516  0.007797  0.007367   \n",
       "2023-09-08  0.004694  0.002115  0.004907  0.006516  0.007797  0.007367   \n",
       "2023-09-15  0.004694  0.002115  0.004907  0.006516  0.007797  0.007367   \n",
       "2023-09-22  0.004694  0.002115  0.004907  0.006516  0.007797  0.007367   \n",
       "2023-09-27  0.005837  0.002061  0.006252  0.004413  0.008440  0.007133   \n",
       "\n",
       "             A000270   A000660   A000670   A000720  ...   A329180   A336260  \\\n",
       "Dates                                               ...                       \n",
       "2023-08-25  0.003361  0.000500  0.002966  0.002447  ...  0.001854  0.003340   \n",
       "2023-09-01  0.003361  0.000500  0.002966  0.002447  ...  0.001854  0.003340   \n",
       "2023-09-08  0.003361  0.000500  0.002966  0.002447  ...  0.001854  0.003340   \n",
       "2023-09-15  0.003361  0.000500  0.002966  0.002447  ...  0.001854  0.003340   \n",
       "2023-09-22  0.003361  0.000500  0.002966  0.002447  ...  0.001854  0.003340   \n",
       "2023-09-27  0.006182  0.000109  0.001912  0.002469  ...  0.002019  0.003693   \n",
       "\n",
       "             A352820   A361610   A373220   A375500   A377300   A381970  \\\n",
       "Dates                                                                    \n",
       "2023-08-25  0.002034  0.001737  0.001025  0.006156  0.002653  0.004109   \n",
       "2023-09-01  0.002034  0.001737  0.001025  0.006156  0.002653  0.004109   \n",
       "2023-09-08  0.002034  0.001737  0.001025  0.006156  0.002653  0.004109   \n",
       "2023-09-15  0.002034  0.001737  0.001025  0.006156  0.002653  0.004109   \n",
       "2023-09-22  0.002034  0.001737  0.001025  0.006156  0.002653  0.004109   \n",
       "2023-09-27  0.001161  0.001771  0.000317  0.008145  0.002203  0.005704   \n",
       "\n",
       "             A383220   A402340  \n",
       "Dates                           \n",
       "2023-08-25  0.005712  0.001281  \n",
       "2023-09-01  0.005712  0.001281  \n",
       "2023-09-08  0.005712  0.001281  \n",
       "2023-09-15  0.005712  0.001281  \n",
       "2023-09-22  0.005712  0.001281  \n",
       "2023-09-27  0.006909  0.000451  \n",
       "\n",
       "[6 rows x 200 columns]"
      ]
     },
     "execution_count": 8,
     "metadata": {},
     "output_type": "execute_result"
    }
   ],
   "source": [
    "prob_file= '../data/output/prob_out/multilayer_factor_rolling_v1.0_2023-09-27.csv'\n",
    "mlq_w=pd.read_csv(prob_file, index_col=0)\n",
    "mlq_w"
   ]
  },
  {
   "cell_type": "code",
   "execution_count": 9,
   "id": "bb4497a0-f183-42db-a0f9-59c8456d0151",
   "metadata": {
    "execution": {
     "iopub.execute_input": "2023-10-31T03:30:44.637173Z",
     "iopub.status.busy": "2023-10-31T03:30:44.636844Z",
     "iopub.status.idle": "2023-10-31T03:30:44.641783Z",
     "shell.execute_reply": "2023-10-31T03:30:44.640939Z",
     "shell.execute_reply.started": "2023-10-31T03:30:44.637143Z"
    },
    "tags": []
   },
   "outputs": [],
   "source": [
    "mlq_w.index = pd.to_datetime(mlq_w.index)"
   ]
  },
  {
   "cell_type": "code",
   "execution_count": 10,
   "id": "856e92bd-50c0-4c14-bafd-337af5c3a1c4",
   "metadata": {
    "execution": {
     "iopub.execute_input": "2023-10-31T03:30:44.642917Z",
     "iopub.status.busy": "2023-10-31T03:30:44.642660Z",
     "iopub.status.idle": "2023-10-31T03:30:44.663492Z",
     "shell.execute_reply": "2023-10-31T03:30:44.662152Z",
     "shell.execute_reply.started": "2023-10-31T03:30:44.642893Z"
    },
    "tags": []
   },
   "outputs": [],
   "source": [
    "# data_path='./data/output/weight/'\n",
    "# mlq_w=pd.read_excel(data_path + 'monthly_port.xlsx', index_col=0)\n",
    "# mlq_w=mlq_w[['code', 'weights']].pivot_table(index='dates', columns='code')\n",
    "# mlq_w.columns=mlq_w.columns.get_level_values(1)"
   ]
  },
  {
   "cell_type": "code",
   "execution_count": 11,
   "id": "2a64fcc9-2046-4cf3-ba89-28b032b8314c",
   "metadata": {
    "execution": {
     "iopub.execute_input": "2023-10-31T03:30:44.665777Z",
     "iopub.status.busy": "2023-10-31T03:30:44.665255Z",
     "iopub.status.idle": "2023-10-31T03:30:44.789567Z",
     "shell.execute_reply": "2023-10-31T03:30:44.788448Z",
     "shell.execute_reply.started": "2023-10-31T03:30:44.665729Z"
    },
    "tags": []
   },
   "outputs": [],
   "source": [
    "price=pd.read_parquet('../data/price_data_2023-09-27.parquet')\n",
    "price.columns=price.columns.get_level_values(1)"
   ]
  },
  {
   "cell_type": "code",
   "execution_count": 12,
   "id": "2955a2c4-b96e-4ee2-b7e5-6c269efdcb47",
   "metadata": {
    "execution": {
     "iopub.execute_input": "2023-10-31T03:30:44.791183Z",
     "iopub.status.busy": "2023-10-31T03:30:44.790787Z",
     "iopub.status.idle": "2023-10-31T03:30:45.021545Z",
     "shell.execute_reply": "2023-10-31T03:30:45.020388Z",
     "shell.execute_reply.started": "2023-10-31T03:30:44.791145Z"
    },
    "tags": []
   },
   "outputs": [],
   "source": [
    "factors=pd.read_parquet('../data/k200_weekly_factor_data_2023-09-27v.1.parquet')\n",
    "indicies=pd.read_parquet('../data/krx_idx_2023-09-27.parquet')"
   ]
  },
  {
   "cell_type": "code",
   "execution_count": 16,
   "id": "4d1dce9b-ca89-47b1-9164-e773bd8c5ecb",
   "metadata": {
    "execution": {
     "iopub.execute_input": "2023-10-31T03:30:45.182400Z",
     "iopub.status.busy": "2023-10-31T03:30:45.182181Z",
     "iopub.status.idle": "2023-10-31T03:30:45.185112Z",
     "shell.execute_reply": "2023-10-31T03:30:45.184275Z",
     "shell.execute_reply.started": "2023-10-31T03:30:45.182380Z"
    },
    "tags": []
   },
   "outputs": [],
   "source": [
    "# period1='2010-01-01'\n",
    "# period2='2023-08-25'"
   ]
  },
  {
   "cell_type": "code",
   "execution_count": 17,
   "id": "e36bcd6d-08ce-4df6-ab73-2d4ba51aac62",
   "metadata": {
    "execution": {
     "iopub.execute_input": "2023-10-31T03:30:45.186129Z",
     "iopub.status.busy": "2023-10-31T03:30:45.185885Z",
     "iopub.status.idle": "2023-10-31T03:30:45.202914Z",
     "shell.execute_reply": "2023-10-31T03:30:45.201984Z",
     "shell.execute_reply.started": "2023-10-31T03:30:45.186106Z"
    },
    "tags": []
   },
   "outputs": [],
   "source": [
    "# query_SSC=f\"select * from SSC_table_Bak where Dates>='{period1}' and Dates<='{period2}'\"\n",
    "# data_SSC=pd.read_sql(query_SSC, conn)\n",
    "# query_IFRS=f\"select * from IFRS_Table where Dates>='{period1}' and Dates<='{period2}'\"\n",
    "# data_IFRS=pd.read_sql(query_IFRS, conn)"
   ]
  },
  {
   "cell_type": "code",
   "execution_count": 18,
   "id": "1b1ef4ca-c8c4-4bf2-930c-aef63eb65da2",
   "metadata": {
    "execution": {
     "iopub.execute_input": "2023-10-31T03:30:45.209116Z",
     "iopub.status.busy": "2023-10-31T03:30:45.208637Z",
     "iopub.status.idle": "2023-10-31T03:30:45.414363Z",
     "shell.execute_reply": "2023-10-31T03:30:45.412686Z",
     "shell.execute_reply.started": "2023-10-31T03:30:45.209071Z"
    },
    "tags": []
   },
   "outputs": [
    {
     "ename": "NameError",
     "evalue": "name 'f_size' is not defined",
     "output_type": "error",
     "traceback": [
      "\u001b[0;31m\u001b[0m",
      "\u001b[0;31mNameError\u001b[0mTraceback (most recent call last)",
      "Cell \u001b[0;32mIn[18], line 16\u001b[0m\n\u001b[1;32m      1\u001b[0m \u001b[38;5;66;03m# f_size=['size']\u001b[39;00m\n\u001b[1;32m      2\u001b[0m \u001b[38;5;66;03m# f_dividend=['dividend']\u001b[39;00m\n\u001b[1;32m      3\u001b[0m \u001b[38;5;66;03m# f_prcMom=['priceMomentum']\u001b[39;00m\n\u001b[0;32m   (...)\u001b[0m\n\u001b[1;32m     13\u001b[0m \u001b[38;5;66;03m# f_growth=['epsFTMom', 'earningsFTMom', 'earningsYOY', 'salesYOY', 'cashFlowYOY']\u001b[39;00m\n\u001b[1;32m     14\u001b[0m \u001b[38;5;66;03m# f_value=['salesOtmv', 'cashFlowOtmv', 'equityOtmv', 'bpsF_p', 'bpsT_p', 'spsF_p', 'spsT_p', 'cfpsF_p']\u001b[39;00m\n\u001b[0;32m---> 16\u001b[0m factor_ls\u001b[38;5;241m=\u001b[39m[\u001b[43mf_size\u001b[49m, f_dividend, f_prcMom, f_tradVol, f_invSent, f_earninYield, f_prcRev, f_stability, f_priceStdev,\n\u001b[1;32m     17\u001b[0m            f_quality, f_adjMom, f_mom, f_growth, f_value]\n\u001b[1;32m     18\u001b[0m factor_name_ls\u001b[38;5;241m=\u001b[39m[\u001b[38;5;124m'\u001b[39m\u001b[38;5;124msize\u001b[39m\u001b[38;5;124m'\u001b[39m, \u001b[38;5;124m'\u001b[39m\u001b[38;5;124mdividend\u001b[39m\u001b[38;5;124m'\u001b[39m, \u001b[38;5;124m'\u001b[39m\u001b[38;5;124mprcMom\u001b[39m\u001b[38;5;124m'\u001b[39m, \u001b[38;5;124m'\u001b[39m\u001b[38;5;124mtradVol\u001b[39m\u001b[38;5;124m'\u001b[39m, \u001b[38;5;124m'\u001b[39m\u001b[38;5;124minvSent\u001b[39m\u001b[38;5;124m'\u001b[39m, \u001b[38;5;124m'\u001b[39m\u001b[38;5;124mearninYield\u001b[39m\u001b[38;5;124m'\u001b[39m, \u001b[38;5;124m'\u001b[39m\u001b[38;5;124mprcRev\u001b[39m\u001b[38;5;124m'\u001b[39m, \u001b[38;5;124m'\u001b[39m\u001b[38;5;124mstability\u001b[39m\u001b[38;5;124m'\u001b[39m,\n\u001b[1;32m     19\u001b[0m                 \u001b[38;5;124m'\u001b[39m\u001b[38;5;124mpriceStdev\u001b[39m\u001b[38;5;124m'\u001b[39m, \u001b[38;5;124m'\u001b[39m\u001b[38;5;124mquality\u001b[39m\u001b[38;5;124m'\u001b[39m, \u001b[38;5;124m'\u001b[39m\u001b[38;5;124madjMom\u001b[39m\u001b[38;5;124m'\u001b[39m, \u001b[38;5;124m'\u001b[39m\u001b[38;5;124mmom\u001b[39m\u001b[38;5;124m'\u001b[39m, \u001b[38;5;124m'\u001b[39m\u001b[38;5;124mgrowth\u001b[39m\u001b[38;5;124m'\u001b[39m, \u001b[38;5;124m'\u001b[39m\u001b[38;5;124mvalue\u001b[39m\u001b[38;5;124m'\u001b[39m]\n",
      "\u001b[0;31mNameError\u001b[0m: name 'f_size' is not defined"
     ]
    }
   ],
   "source": [
    "# f_size=['size']\n",
    "# f_dividend=['dividend']\n",
    "# f_prcMom=['priceMomentum']\n",
    "# f_tradVol=['trading']\n",
    "# f_invSent=['investSentiment']\n",
    "# f_earninYield=['epsF_p', 'earningsOtmv']\n",
    "# f_prcRev=['52H/p_Mom', '52L/p_Mom']\n",
    "# f_stability=['dtoequity', 'deltaDtoEquityYoY']\n",
    "# f_priceStdev=['stStevOLtStdev', 'Vol_20D', 'Vol_120D']\n",
    "# f_quality=['roeF_proxy', 'roeT_proxy', 'roeQ']\n",
    "# f_adjMom=['dEpsOp', 'rAdjdEpsOp']\n",
    "# f_mom=['roeFTMom', 'epsFMom', 'salseFMom', 'roeFchg_proxy', 'slsAdjEarningsYOY', 'sprsEarningsOearningsAvgPstdev']\n",
    "# f_growth=['epsFTMom', 'earningsFTMom', 'earningsYOY', 'salesYOY', 'cashFlowYOY']\n",
    "# f_value=['salesOtmv', 'cashFlowOtmv', 'equityOtmv', 'bpsF_p', 'bpsT_p', 'spsF_p', 'spsT_p', 'cfpsF_p']\n",
    "\n",
    "factor_ls=[f_size, f_dividend, f_prcMom, f_tradVol, f_invSent, f_earninYield, f_prcRev, f_stability, f_priceStdev,\n",
    "           f_quality, f_adjMom, f_mom, f_growth, f_value]\n",
    "factor_name_ls=['size', 'dividend', 'prcMom', 'tradVol', 'invSent', 'earninYield', 'prcRev', 'stability',\n",
    "                'priceStdev', 'quality', 'adjMom', 'mom', 'growth', 'value']"
   ]
  },
  {
   "cell_type": "code",
   "execution_count": null,
   "id": "48543d7e-bbb0-4dae-833f-ef7789ade206",
   "metadata": {
    "execution": {
     "iopub.status.busy": "2023-10-31T03:30:45.415680Z",
     "iopub.status.idle": "2023-10-31T03:30:45.415984Z",
     "shell.execute_reply": "2023-10-31T03:30:45.415860Z"
    },
    "tags": []
   },
   "outputs": [],
   "source": [
    "# f_value=['SE_TQ', 'MktCap_Comm_Pref']\n",
    "# f_mom=['AdjPrc'] # ssc\n",
    "# f_quality=['GP_TQ', 'Assets_TQ']\n",
    "# f_div=['DPS_Adj']\n",
    "# f_size=['MktCap_Comm_Pref'] # ssc\n",
    "# f_vol=['BETA_1Y', 'VOL_1Y'] # ssc\n",
    "# factor_ls=[f_selected]"
   ]
  },
  {
   "cell_type": "code",
   "execution_count": 19,
   "id": "46092ddb-8909-44f0-9adb-121b9f4deba2",
   "metadata": {
    "execution": {
     "iopub.execute_input": "2023-10-31T04:10:12.649939Z",
     "iopub.status.busy": "2023-10-31T04:10:12.649337Z",
     "iopub.status.idle": "2023-10-31T04:10:12.656091Z",
     "shell.execute_reply": "2023-10-31T04:10:12.655055Z",
     "shell.execute_reply.started": "2023-10-31T04:10:12.649887Z"
    },
    "tags": []
   },
   "outputs": [],
   "source": [
    "ifrs_col=['Dates', 'Symbol', 'SE_TQ', 'Assets_TQ']\n",
    "ifrs_col2=['Dates', 'Symbol', 'GP_TQ', 'DPS_Adj']\n",
    "\n",
    "ssc_col=['Dates', 'Symbol', 'MktCap_Comm_Pref', 'AdjPrc']\n",
    "ssc_col2=['Dates', 'Symbol', 'BETA_1Y', 'VOL_1Y']"
   ]
  },
  {
   "cell_type": "code",
   "execution_count": 20,
   "id": "7a608b0d-3f98-4cf5-863a-aac38ef7716a",
   "metadata": {
    "execution": {
     "iopub.execute_input": "2023-10-31T04:10:13.905370Z",
     "iopub.status.busy": "2023-10-31T04:10:13.904728Z",
     "iopub.status.idle": "2023-10-31T04:10:14.239701Z",
     "shell.execute_reply": "2023-10-31T04:10:14.238600Z",
     "shell.execute_reply.started": "2023-10-31T04:10:13.905315Z"
    },
    "tags": []
   },
   "outputs": [],
   "source": [
    "host = '192.168.1.27'\n",
    "port = '3306'\n",
    "db_name = 'quantdb_maria'\n",
    "username = 'quantdb'\n",
    "password = 'QuantDb2023!'\n",
    "\n",
    "engine = create_engine(\"mysql+pymysql://\" + username + \":\" + password + \"@\" + host + \":\" + port + \"/\" + db_name)\n",
    "conn=engine.connect()\n",
    "\n",
    "query_IFRS = f\"SELECT {', '.join(ifrs_col)} FROM IFRS_Table where Dates>='{period1}' and Dates<='{period2}'\"\n",
    "data_IFRS=pd.read_sql(query_IFRS, conn)\n",
    "\n",
    "query_IFRS2 = f\"SELECT {', '.join(ifrs_col2)} FROM IFRS_Table_copy where Dates>='{period1}' and Dates<='{period2}'\"\n",
    "data_IFRS2=pd.read_sql(query_IFRS2, conn)\n",
    "\n",
    "query_SSC = f\"SELECT {', '.join(ssc_col)} FROM SSC_table_Bak where Dates>='{period1}' and Dates<='{period2}'\"\n",
    "data_SSC=pd.read_sql(query_SSC, conn)\n",
    "\n",
    "query_SSC2 = f\"SELECT {', '.join(ssc_col2)} FROM SSC_table_Bak_copy where Dates>='{period1}' and Dates<='{period2}'\"\n",
    "data_SSC2=pd.read_sql(query_SSC2, conn)"
   ]
  },
  {
   "cell_type": "code",
   "execution_count": 21,
   "id": "61f08568-aeba-41c6-8051-ff94eae5c1d1",
   "metadata": {
    "execution": {
     "iopub.execute_input": "2023-10-31T04:10:15.132378Z",
     "iopub.status.busy": "2023-10-31T04:10:15.131781Z",
     "iopub.status.idle": "2023-10-31T04:10:15.158023Z",
     "shell.execute_reply": "2023-10-31T04:10:15.156904Z",
     "shell.execute_reply.started": "2023-10-31T04:10:15.132327Z"
    },
    "tags": []
   },
   "outputs": [],
   "source": [
    "data_IFRS.set_index(['Dates', 'Symbol'], inplace=True)\n",
    "data_IFRS2.set_index(['Dates', 'Symbol'], inplace=True)\n",
    "data_SSC.set_index(['Dates', 'Symbol'], inplace=True)\n",
    "data_SSC2.set_index(['Dates', 'Symbol'], inplace=True)"
   ]
  },
  {
   "cell_type": "code",
   "execution_count": 22,
   "id": "039c46ea-5935-4f8b-b92c-dda98a96735e",
   "metadata": {
    "execution": {
     "iopub.execute_input": "2023-10-31T04:10:15.832710Z",
     "iopub.status.busy": "2023-10-31T04:10:15.832104Z",
     "iopub.status.idle": "2023-10-31T04:10:15.881920Z",
     "shell.execute_reply": "2023-10-31T04:10:15.880636Z",
     "shell.execute_reply.started": "2023-10-31T04:10:15.832658Z"
    },
    "tags": []
   },
   "outputs": [],
   "source": [
    "raw_data=pd.concat([data_IFRS, data_IFRS2, data_SSC, data_SSC2], axis=1).dropna(how='all')"
   ]
  },
  {
   "cell_type": "code",
   "execution_count": null,
   "id": "2a279a48-cd67-4d3f-9be3-2a6aa102a79d",
   "metadata": {},
   "outputs": [],
   "source": []
  },
  {
   "cell_type": "code",
   "execution_count": 27,
   "id": "0f83dc6e-de70-4828-a558-fa3539a7a5f3",
   "metadata": {
    "execution": {
     "iopub.execute_input": "2023-10-31T04:10:20.456505Z",
     "iopub.status.busy": "2023-10-31T04:10:20.455991Z",
     "iopub.status.idle": "2023-10-31T04:10:20.461155Z",
     "shell.execute_reply": "2023-10-31T04:10:20.459972Z",
     "shell.execute_reply.started": "2023-10-31T04:10:20.456456Z"
    },
    "tags": []
   },
   "outputs": [],
   "source": [
    "# value\n",
    "f_value=(raw_data['SE_TQ']/raw_data['MktCap_Comm_Pref']).dropna()\n",
    "\n",
    "# momentum\n",
    "f_mom=(raw_data['AdjPrc'].unstack().pct_change(252)-raw_data['AdjPrc'].unstack().pct_change(20)).stack()\n",
    "\n",
    "# quality\n",
    "f_quality=(raw_data['GP_TQ'].astype(float)/raw_data['Assets_TQ']).dropna()\n",
    "\n",
    "# div\n",
    "f_div=(raw_data['DPS_Adj'].astype(float)/raw_data['AdjPrc']).dropna()\n",
    "\n",
    "f_size=raw_data['MktCap_Comm_Pref']\n",
    "\n",
    "f_vol=raw_data[['BETA_1Y', 'VOL_1Y']].astype(float).mean(1).dropna()"
   ]
  },
  {
   "cell_type": "code",
   "execution_count": 67,
   "id": "2581ad6d-c8af-4132-ba47-c63ee9d5950b",
   "metadata": {
    "execution": {
     "iopub.execute_input": "2023-10-31T04:35:46.700621Z",
     "iopub.status.busy": "2023-10-31T04:35:46.700015Z",
     "iopub.status.idle": "2023-10-31T04:35:46.706552Z",
     "shell.execute_reply": "2023-10-31T04:35:46.705311Z",
     "shell.execute_reply.started": "2023-10-31T04:35:46.700567Z"
    },
    "tags": []
   },
   "outputs": [],
   "source": [
    "factor_ls=[f_value, f_mom, f_quality, f_div, f_size, f_vol]\n",
    "factor_name_ls=['value', 'momentum', 'quality', 'dividend', 'size', 'volatility']"
   ]
  },
  {
   "cell_type": "code",
   "execution_count": null,
   "id": "b7b2845a-09c3-4f2e-b9de-03ae840d1352",
   "metadata": {
    "tags": []
   },
   "outputs": [],
   "source": []
  },
  {
   "cell_type": "code",
   "execution_count": 68,
   "id": "a8153b46-196b-40b1-a6ce-93234d939200",
   "metadata": {
    "execution": {
     "iopub.execute_input": "2023-10-31T04:35:47.329225Z",
     "iopub.status.busy": "2023-10-31T04:35:47.328599Z",
     "iopub.status.idle": "2023-10-31T04:35:47.390436Z",
     "shell.execute_reply": "2023-10-31T04:35:47.389327Z",
     "shell.execute_reply.started": "2023-10-31T04:35:47.329175Z"
    },
    "tags": []
   },
   "outputs": [],
   "source": [
    "factors=pd.concat([f_value, f_mom, f_quality, f_div, f_size, f_vol], axis=1)\n",
    "factors.columns=factor_name_ls\n",
    "\n",
    "factor_dates=factors.index.get_level_values(0).unique()\n",
    "factor_dates=pd.to_datetime(factor_dates)"
   ]
  },
  {
   "cell_type": "code",
   "execution_count": 69,
   "id": "afc177b4-c6e0-4969-a5f7-383a483ccc1f",
   "metadata": {
    "execution": {
     "iopub.execute_input": "2023-10-31T04:35:47.586129Z",
     "iopub.status.busy": "2023-10-31T04:35:47.585608Z",
     "iopub.status.idle": "2023-10-31T04:35:47.615412Z",
     "shell.execute_reply": "2023-10-31T04:35:47.614532Z",
     "shell.execute_reply.started": "2023-10-31T04:35:47.586078Z"
    },
    "tags": []
   },
   "outputs": [
    {
     "data": {
      "text/html": [
       "<div>\n",
       "<style scoped>\n",
       "    .dataframe tbody tr th:only-of-type {\n",
       "        vertical-align: middle;\n",
       "    }\n",
       "\n",
       "    .dataframe tbody tr th {\n",
       "        vertical-align: top;\n",
       "    }\n",
       "\n",
       "    .dataframe thead th {\n",
       "        text-align: right;\n",
       "    }\n",
       "</style>\n",
       "<table border=\"1\" class=\"dataframe\">\n",
       "  <thead>\n",
       "    <tr style=\"text-align: right;\">\n",
       "      <th></th>\n",
       "      <th></th>\n",
       "      <th>0</th>\n",
       "      <th>1</th>\n",
       "      <th>2</th>\n",
       "      <th>3</th>\n",
       "      <th>MktCap_Comm_Pref</th>\n",
       "      <th>4</th>\n",
       "    </tr>\n",
       "    <tr>\n",
       "      <th>Dates</th>\n",
       "      <th>Symbol</th>\n",
       "      <th></th>\n",
       "      <th></th>\n",
       "      <th></th>\n",
       "      <th></th>\n",
       "      <th></th>\n",
       "      <th></th>\n",
       "    </tr>\n",
       "  </thead>\n",
       "  <tbody>\n",
       "    <tr>\n",
       "      <th rowspan=\"11\" valign=\"top\">2023-09-27</th>\n",
       "      <th>A000020</th>\n",
       "      <td>1441.533201</td>\n",
       "      <td>NaN</td>\n",
       "      <td>0.095856</td>\n",
       "      <td>0.018367</td>\n",
       "      <td>273728.0</td>\n",
       "      <td>0.499815</td>\n",
       "    </tr>\n",
       "    <tr>\n",
       "      <th>A000040</th>\n",
       "      <td>331.287955</td>\n",
       "      <td>NaN</td>\n",
       "      <td>0.014160</td>\n",
       "      <td>NaN</td>\n",
       "      <td>82006.0</td>\n",
       "      <td>0.616065</td>\n",
       "    </tr>\n",
       "    <tr>\n",
       "      <th>A000050</th>\n",
       "      <td>3192.703920</td>\n",
       "      <td>NaN</td>\n",
       "      <td>0.016333</td>\n",
       "      <td>0.014741</td>\n",
       "      <td>232481.0</td>\n",
       "      <td>0.319285</td>\n",
       "    </tr>\n",
       "    <tr>\n",
       "      <th>A000070</th>\n",
       "      <td>4176.438281</td>\n",
       "      <td>NaN</td>\n",
       "      <td>0.032322</td>\n",
       "      <td>0.050143</td>\n",
       "      <td>613597.0</td>\n",
       "      <td>0.452570</td>\n",
       "    </tr>\n",
       "    <tr>\n",
       "      <th>A000080</th>\n",
       "      <td>827.095630</td>\n",
       "      <td>NaN</td>\n",
       "      <td>0.085097</td>\n",
       "      <td>0.050291</td>\n",
       "      <td>1341840.0</td>\n",
       "      <td>0.491760</td>\n",
       "    </tr>\n",
       "    <tr>\n",
       "      <th>...</th>\n",
       "      <td>...</td>\n",
       "      <td>...</td>\n",
       "      <td>...</td>\n",
       "      <td>...</td>\n",
       "      <td>...</td>\n",
       "      <td>...</td>\n",
       "    </tr>\n",
       "    <tr>\n",
       "      <th>A092440</th>\n",
       "      <td>NaN</td>\n",
       "      <td>NaN</td>\n",
       "      <td>0.018136</td>\n",
       "      <td>0.047319</td>\n",
       "      <td>92564.0</td>\n",
       "      <td>0.326790</td>\n",
       "    </tr>\n",
       "    <tr>\n",
       "      <th>A103160</th>\n",
       "      <td>NaN</td>\n",
       "      <td>NaN</td>\n",
       "      <td>0.121734</td>\n",
       "      <td>NaN</td>\n",
       "      <td>NaN</td>\n",
       "      <td>NaN</td>\n",
       "    </tr>\n",
       "    <tr>\n",
       "      <th>A192520</th>\n",
       "      <td>NaN</td>\n",
       "      <td>NaN</td>\n",
       "      <td>0.004936</td>\n",
       "      <td>NaN</td>\n",
       "      <td>NaN</td>\n",
       "      <td>NaN</td>\n",
       "    </tr>\n",
       "    <tr>\n",
       "      <th>A192530</th>\n",
       "      <td>NaN</td>\n",
       "      <td>NaN</td>\n",
       "      <td>0.007085</td>\n",
       "      <td>NaN</td>\n",
       "      <td>NaN</td>\n",
       "      <td>NaN</td>\n",
       "    </tr>\n",
       "    <tr>\n",
       "      <th>A030790</th>\n",
       "      <td>NaN</td>\n",
       "      <td>NaN</td>\n",
       "      <td>NaN</td>\n",
       "      <td>NaN</td>\n",
       "      <td>19208.0</td>\n",
       "      <td>0.000000</td>\n",
       "    </tr>\n",
       "  </tbody>\n",
       "</table>\n",
       "<p>837 rows × 6 columns</p>\n",
       "</div>"
      ],
      "text/plain": [
       "                              0   1         2         3  MktCap_Comm_Pref  \\\n",
       "Dates      Symbol                                                           \n",
       "2023-09-27 A000020  1441.533201 NaN  0.095856  0.018367          273728.0   \n",
       "           A000040   331.287955 NaN  0.014160       NaN           82006.0   \n",
       "           A000050  3192.703920 NaN  0.016333  0.014741          232481.0   \n",
       "           A000070  4176.438281 NaN  0.032322  0.050143          613597.0   \n",
       "           A000080   827.095630 NaN  0.085097  0.050291         1341840.0   \n",
       "...                         ...  ..       ...       ...               ...   \n",
       "           A092440          NaN NaN  0.018136  0.047319           92564.0   \n",
       "           A103160          NaN NaN  0.121734       NaN               NaN   \n",
       "           A192520          NaN NaN  0.004936       NaN               NaN   \n",
       "           A192530          NaN NaN  0.007085       NaN               NaN   \n",
       "           A030790          NaN NaN       NaN       NaN           19208.0   \n",
       "\n",
       "                           4  \n",
       "Dates      Symbol             \n",
       "2023-09-27 A000020  0.499815  \n",
       "           A000040  0.616065  \n",
       "           A000050  0.319285  \n",
       "           A000070  0.452570  \n",
       "           A000080  0.491760  \n",
       "...                      ...  \n",
       "           A092440  0.326790  \n",
       "           A103160       NaN  \n",
       "           A192520       NaN  \n",
       "           A192530       NaN  \n",
       "           A030790  0.000000  \n",
       "\n",
       "[837 rows x 6 columns]"
      ]
     },
     "execution_count": 69,
     "metadata": {},
     "output_type": "execute_result"
    }
   ],
   "source": [
    "factors"
   ]
  },
  {
   "cell_type": "code",
   "execution_count": 70,
   "id": "a2f022e4-b66f-48e5-b6ad-d30ee68a9f76",
   "metadata": {
    "execution": {
     "iopub.execute_input": "2023-10-31T04:35:52.582243Z",
     "iopub.status.busy": "2023-10-31T04:35:52.581629Z",
     "iopub.status.idle": "2023-10-31T04:35:52.587520Z",
     "shell.execute_reply": "2023-10-31T04:35:52.586567Z",
     "shell.execute_reply.started": "2023-10-31T04:35:52.582189Z"
    },
    "tags": []
   },
   "outputs": [],
   "source": []
  },
  {
   "cell_type": "code",
   "execution_count": 71,
   "id": "76201243-75ae-467f-b003-eded90ea1ee0",
   "metadata": {
    "execution": {
     "iopub.execute_input": "2023-10-31T04:35:53.073834Z",
     "iopub.status.busy": "2023-10-31T04:35:53.073209Z",
     "iopub.status.idle": "2023-10-31T04:35:53.082348Z",
     "shell.execute_reply": "2023-10-31T04:35:53.081428Z",
     "shell.execute_reply.started": "2023-10-31T04:35:53.073781Z"
    },
    "tags": []
   },
   "outputs": [
    {
     "data": {
      "text/plain": [
       "DatetimeIndex(['2023-09-27'], dtype='datetime64[ns]', name='Dates', freq=None)"
      ]
     },
     "execution_count": 71,
     "metadata": {},
     "output_type": "execute_result"
    }
   ],
   "source": [
    "factors.index.get_level_values(0).unique()"
   ]
  },
  {
   "cell_type": "code",
   "execution_count": 72,
   "id": "93ad9547-22d0-4494-b539-eb6653000ac3",
   "metadata": {
    "execution": {
     "iopub.execute_input": "2023-10-31T04:35:53.254479Z",
     "iopub.status.busy": "2023-10-31T04:35:53.254254Z",
     "iopub.status.idle": "2023-10-31T04:35:53.257925Z",
     "shell.execute_reply": "2023-10-31T04:35:53.257377Z",
     "shell.execute_reply.started": "2023-10-31T04:35:53.254458Z"
    },
    "scrolled": true,
    "tags": []
   },
   "outputs": [],
   "source": []
  },
  {
   "cell_type": "code",
   "execution_count": null,
   "id": "f971afe7-1b2f-41ef-b48e-fb9935f9655b",
   "metadata": {
    "tags": []
   },
   "outputs": [],
   "source": []
  },
  {
   "cell_type": "code",
   "execution_count": 73,
   "id": "3ad67c76-9636-486e-8f71-ed55077faacf",
   "metadata": {
    "execution": {
     "iopub.execute_input": "2023-10-31T04:35:53.577152Z",
     "iopub.status.busy": "2023-10-31T04:35:53.576572Z",
     "iopub.status.idle": "2023-10-31T04:35:53.669266Z",
     "shell.execute_reply": "2023-10-31T04:35:53.668558Z",
     "shell.execute_reply.started": "2023-10-31T04:35:53.577099Z"
    },
    "tags": []
   },
   "outputs": [],
   "source": [
    "idxw=k200_df['idx_weight'].unstack()"
   ]
  },
  {
   "cell_type": "code",
   "execution_count": 82,
   "id": "58da211c-b113-4829-82cb-7b16b7e4b0d4",
   "metadata": {
    "execution": {
     "iopub.execute_input": "2023-10-31T04:36:36.869522Z",
     "iopub.status.busy": "2023-10-31T04:36:36.868878Z",
     "iopub.status.idle": "2023-10-31T04:36:36.874730Z",
     "shell.execute_reply": "2023-10-31T04:36:36.873515Z",
     "shell.execute_reply.started": "2023-10-31T04:36:36.869468Z"
    },
    "tags": []
   },
   "outputs": [],
   "source": [
    "num_stocks=70\n",
    "bm_name='코스피 200'\n",
    "start_date='2023-09-27'\n",
    "end_date='2023-09-27'"
   ]
  },
  {
   "cell_type": "code",
   "execution_count": 83,
   "id": "502d4a60-ccf0-48d1-9bb2-38edab00923d",
   "metadata": {
    "execution": {
     "iopub.execute_input": "2023-10-31T04:36:37.177359Z",
     "iopub.status.busy": "2023-10-31T04:36:37.176823Z",
     "iopub.status.idle": "2023-10-31T04:36:37.185746Z",
     "shell.execute_reply": "2023-10-31T04:36:37.184779Z",
     "shell.execute_reply.started": "2023-10-31T04:36:37.177308Z"
    },
    "tags": []
   },
   "outputs": [
    {
     "data": {
      "text/plain": [
       "DatetimeIndex(['2023-09-27'], dtype='datetime64[ns]', name='Dates', freq=None)"
      ]
     },
     "execution_count": 83,
     "metadata": {},
     "output_type": "execute_result"
    }
   ],
   "source": [
    "temp_factor_dates=factor_dates[(factor_dates>=start_date) & (factor_dates<=end_date)]\n",
    "temp_factor_dates"
   ]
  },
  {
   "cell_type": "code",
   "execution_count": 84,
   "id": "c8ce8f92-2358-4bb1-94d1-39528750184b",
   "metadata": {
    "execution": {
     "iopub.execute_input": "2023-10-31T04:36:37.410268Z",
     "iopub.status.busy": "2023-10-31T04:36:37.409766Z",
     "iopub.status.idle": "2023-10-31T04:36:37.416660Z",
     "shell.execute_reply": "2023-10-31T04:36:37.415635Z",
     "shell.execute_reply.started": "2023-10-31T04:36:37.410220Z"
    },
    "tags": []
   },
   "outputs": [
    {
     "name": "stdout",
     "output_type": "stream",
     "text": [
      "lack of the beginning part of data  2023-08-31 00:00:00 2023-09-27 00:00:00\n"
     ]
    }
   ],
   "source": [
    "rebal_dates=proc.find_entire_rebalancing_dates(temp_factor_dates)\n",
    "rebal_dates=temp_factor_dates"
   ]
  },
  {
   "cell_type": "code",
   "execution_count": 85,
   "id": "f8972d44-a6b2-43a8-8a0c-6ec4edd92557",
   "metadata": {
    "execution": {
     "iopub.execute_input": "2023-10-31T04:36:38.401494Z",
     "iopub.status.busy": "2023-10-31T04:36:38.400867Z",
     "iopub.status.idle": "2023-10-31T04:36:38.418625Z",
     "shell.execute_reply": "2023-10-31T04:36:38.417395Z",
     "shell.execute_reply.started": "2023-10-31T04:36:38.401441Z"
    },
    "scrolled": true,
    "tags": []
   },
   "outputs": [],
   "source": [
    "def factor_performance(factor_slice, num_stocks, bm_name, price, indicies):\n",
    "    factor_slice=factor_slice.unstack()\n",
    "    if isinstance(factor_slice.columns, pd.MultiIndex):\n",
    "        factor_slice.columns=factor_slice.columns.get_level_values(1)\n",
    "        \n",
    "    factor_slice=factor_slice.rank(1, ascending=False)\n",
    "    factor_slice[factor_slice<=num_stocks]=1/num_stocks\n",
    "    factor_slice[factor_slice>num_stocks]=0.0\n",
    "    factor_slice=factor_slice.fillna(0)\n",
    "    \n",
    "    port_df=pd.DataFrame(None, index=price.index, columns=price.columns)\n",
    "    port_df.loc[factor_slice.index, factor_slice.columns]=factor_slice\n",
    "    port_df=port_df.fillna(method='ffill').dropna(how='all', axis=0)\n",
    "    daily_ret=(port_df*price.pct_change().loc[port_df.index, :]).sum(1)\n",
    "    bm_ret=indicies[bm_name].pct_change().loc[daily_ret.index]\n",
    "    excess_ret=((1+daily_ret-bm_ret).cumprod()-1)\n",
    "\n",
    "    return excess_ret\n",
    "\n",
    "def factor_scaler(factor_slice, idx_weight):\n",
    "    # 1. find ranking for each factor in the universe\n",
    "    # 2. then zscore\n",
    "    # 3. multiply zscore * weight of stocks in strategy\n",
    "\n",
    "    unstacked=factor_slice.unstack()\n",
    "    if isinstance(unstacked.columns, pd.MultiIndex):\n",
    "        unstacked.columns=unstacked.columns.get_level_values(1)\n",
    "        \n",
    "    unstacked=unstacked.replace([np.inf, -np.inf], None)\n",
    "    \n",
    "    scaler = StandardScaler()\n",
    "    scaled = scaler.fit_transform(unstacked.T)\n",
    "    scaled_df=pd.DataFrame(scaled, columns=unstacked.index, index= unstacked.columns)\n",
    "    scaled_df=scaled_df.T\n",
    "    return (scaled_df*idx_weight).dropna(how='all').sum(1)\n"
   ]
  },
  {
   "cell_type": "code",
   "execution_count": 86,
   "id": "0fb52d6e-fe19-4296-b263-303d8a00b03f",
   "metadata": {
    "execution": {
     "iopub.execute_input": "2023-10-31T04:36:39.032976Z",
     "iopub.status.busy": "2023-10-31T04:36:39.032375Z",
     "iopub.status.idle": "2023-10-31T04:36:39.037567Z",
     "shell.execute_reply": "2023-10-31T04:36:39.036286Z",
     "shell.execute_reply.started": "2023-10-31T04:36:39.032924Z"
    },
    "tags": []
   },
   "outputs": [],
   "source": [
    "# mlq_w.index=factor_slice.index.get_level_values(0).unique()[:-1]"
   ]
  },
  {
   "cell_type": "code",
   "execution_count": null,
   "id": "c3e108b9-ba41-4062-b6bb-7d70a423dd07",
   "metadata": {},
   "outputs": [],
   "source": []
  },
  {
   "cell_type": "code",
   "execution_count": null,
   "id": "be0780ce-2703-4771-bbe5-e53c8c83b7ce",
   "metadata": {},
   "outputs": [],
   "source": []
  },
  {
   "cell_type": "code",
   "execution_count": 176,
   "id": "459f7aec-6d11-4fb7-8b62-e27a27f9d426",
   "metadata": {
    "execution": {
     "iopub.execute_input": "2023-10-31T07:24:57.634632Z",
     "iopub.status.busy": "2023-10-31T07:24:57.634047Z",
     "iopub.status.idle": "2023-10-31T07:24:57.664728Z",
     "shell.execute_reply": "2023-10-31T07:24:57.663792Z",
     "shell.execute_reply.started": "2023-10-31T07:24:57.634581Z"
    },
    "tags": []
   },
   "outputs": [
    {
     "data": {
      "text/html": [
       "<div>\n",
       "<style scoped>\n",
       "    .dataframe tbody tr th:only-of-type {\n",
       "        vertical-align: middle;\n",
       "    }\n",
       "\n",
       "    .dataframe tbody tr th {\n",
       "        vertical-align: top;\n",
       "    }\n",
       "\n",
       "    .dataframe thead th {\n",
       "        text-align: right;\n",
       "    }\n",
       "</style>\n",
       "<table border=\"1\" class=\"dataframe\">\n",
       "  <thead>\n",
       "    <tr style=\"text-align: right;\">\n",
       "      <th></th>\n",
       "      <th></th>\n",
       "      <th>value</th>\n",
       "      <th>momentum</th>\n",
       "      <th>quality</th>\n",
       "      <th>dividend</th>\n",
       "      <th>size</th>\n",
       "      <th>volatility</th>\n",
       "    </tr>\n",
       "    <tr>\n",
       "      <th>Dates</th>\n",
       "      <th>Symbol</th>\n",
       "      <th></th>\n",
       "      <th></th>\n",
       "      <th></th>\n",
       "      <th></th>\n",
       "      <th></th>\n",
       "      <th></th>\n",
       "    </tr>\n",
       "  </thead>\n",
       "  <tbody>\n",
       "    <tr>\n",
       "      <th rowspan=\"11\" valign=\"top\">2023-09-27</th>\n",
       "      <th>A000020</th>\n",
       "      <td>1441.533201</td>\n",
       "      <td>NaN</td>\n",
       "      <td>0.095856</td>\n",
       "      <td>0.018367</td>\n",
       "      <td>273728.0</td>\n",
       "      <td>0.499815</td>\n",
       "    </tr>\n",
       "    <tr>\n",
       "      <th>A000040</th>\n",
       "      <td>331.287955</td>\n",
       "      <td>NaN</td>\n",
       "      <td>0.014160</td>\n",
       "      <td>NaN</td>\n",
       "      <td>82006.0</td>\n",
       "      <td>0.616065</td>\n",
       "    </tr>\n",
       "    <tr>\n",
       "      <th>A000050</th>\n",
       "      <td>3192.703920</td>\n",
       "      <td>NaN</td>\n",
       "      <td>0.016333</td>\n",
       "      <td>0.014741</td>\n",
       "      <td>232481.0</td>\n",
       "      <td>0.319285</td>\n",
       "    </tr>\n",
       "    <tr>\n",
       "      <th>A000070</th>\n",
       "      <td>4176.438281</td>\n",
       "      <td>NaN</td>\n",
       "      <td>0.032322</td>\n",
       "      <td>0.050143</td>\n",
       "      <td>613597.0</td>\n",
       "      <td>0.452570</td>\n",
       "    </tr>\n",
       "    <tr>\n",
       "      <th>A000080</th>\n",
       "      <td>827.095630</td>\n",
       "      <td>NaN</td>\n",
       "      <td>0.085097</td>\n",
       "      <td>0.050291</td>\n",
       "      <td>1341840.0</td>\n",
       "      <td>0.491760</td>\n",
       "    </tr>\n",
       "    <tr>\n",
       "      <th>...</th>\n",
       "      <td>...</td>\n",
       "      <td>...</td>\n",
       "      <td>...</td>\n",
       "      <td>...</td>\n",
       "      <td>...</td>\n",
       "      <td>...</td>\n",
       "    </tr>\n",
       "    <tr>\n",
       "      <th>A092440</th>\n",
       "      <td>NaN</td>\n",
       "      <td>NaN</td>\n",
       "      <td>0.018136</td>\n",
       "      <td>0.047319</td>\n",
       "      <td>92564.0</td>\n",
       "      <td>0.326790</td>\n",
       "    </tr>\n",
       "    <tr>\n",
       "      <th>A103160</th>\n",
       "      <td>NaN</td>\n",
       "      <td>NaN</td>\n",
       "      <td>0.121734</td>\n",
       "      <td>NaN</td>\n",
       "      <td>NaN</td>\n",
       "      <td>NaN</td>\n",
       "    </tr>\n",
       "    <tr>\n",
       "      <th>A192520</th>\n",
       "      <td>NaN</td>\n",
       "      <td>NaN</td>\n",
       "      <td>0.004936</td>\n",
       "      <td>NaN</td>\n",
       "      <td>NaN</td>\n",
       "      <td>NaN</td>\n",
       "    </tr>\n",
       "    <tr>\n",
       "      <th>A192530</th>\n",
       "      <td>NaN</td>\n",
       "      <td>NaN</td>\n",
       "      <td>0.007085</td>\n",
       "      <td>NaN</td>\n",
       "      <td>NaN</td>\n",
       "      <td>NaN</td>\n",
       "    </tr>\n",
       "    <tr>\n",
       "      <th>A030790</th>\n",
       "      <td>NaN</td>\n",
       "      <td>NaN</td>\n",
       "      <td>NaN</td>\n",
       "      <td>NaN</td>\n",
       "      <td>19208.0</td>\n",
       "      <td>0.000000</td>\n",
       "    </tr>\n",
       "  </tbody>\n",
       "</table>\n",
       "<p>837 rows × 6 columns</p>\n",
       "</div>"
      ],
      "text/plain": [
       "                          value  momentum   quality  dividend       size  \\\n",
       "Dates      Symbol                                                          \n",
       "2023-09-27 A000020  1441.533201       NaN  0.095856  0.018367   273728.0   \n",
       "           A000040   331.287955       NaN  0.014160       NaN    82006.0   \n",
       "           A000050  3192.703920       NaN  0.016333  0.014741   232481.0   \n",
       "           A000070  4176.438281       NaN  0.032322  0.050143   613597.0   \n",
       "           A000080   827.095630       NaN  0.085097  0.050291  1341840.0   \n",
       "...                         ...       ...       ...       ...        ...   \n",
       "           A092440          NaN       NaN  0.018136  0.047319    92564.0   \n",
       "           A103160          NaN       NaN  0.121734       NaN        NaN   \n",
       "           A192520          NaN       NaN  0.004936       NaN        NaN   \n",
       "           A192530          NaN       NaN  0.007085       NaN        NaN   \n",
       "           A030790          NaN       NaN       NaN       NaN    19208.0   \n",
       "\n",
       "                    volatility  \n",
       "Dates      Symbol               \n",
       "2023-09-27 A000020    0.499815  \n",
       "           A000040    0.616065  \n",
       "           A000050    0.319285  \n",
       "           A000070    0.452570  \n",
       "           A000080    0.491760  \n",
       "...                        ...  \n",
       "           A092440    0.326790  \n",
       "           A103160         NaN  \n",
       "           A192520         NaN  \n",
       "           A192530         NaN  \n",
       "           A030790    0.000000  \n",
       "\n",
       "[837 rows x 6 columns]"
      ]
     },
     "execution_count": 176,
     "metadata": {},
     "output_type": "execute_result"
    }
   ],
   "source": [
    "factors"
   ]
  },
  {
   "cell_type": "code",
   "execution_count": null,
   "id": "21520b7a-b63f-43ce-befd-3017f579b244",
   "metadata": {
    "tags": []
   },
   "outputs": [],
   "source": []
  },
  {
   "cell_type": "code",
   "execution_count": 163,
   "id": "c480eabb-da05-4524-9374-7ed59c846c01",
   "metadata": {
    "execution": {
     "iopub.execute_input": "2023-10-31T06:48:49.967246Z",
     "iopub.status.busy": "2023-10-31T06:48:49.966671Z",
     "iopub.status.idle": "2023-10-31T06:48:53.998021Z",
     "shell.execute_reply": "2023-10-31T06:48:53.997289Z",
     "shell.execute_reply.started": "2023-10-31T06:48:49.967196Z"
    },
    "tags": []
   },
   "outputs": [
    {
     "name": "stderr",
     "output_type": "stream",
     "text": [
      "/opt/miniconda3/lib/python3.9/site-packages/sklearn/utils/extmath.py:1047: RuntimeWarning: invalid value encountered in divide\n",
      "  updated_mean = (last_sum + new_sum) / updated_sample_count\n",
      "/opt/miniconda3/lib/python3.9/site-packages/sklearn/utils/extmath.py:1052: RuntimeWarning: invalid value encountered in divide\n",
      "  T = new_sum / new_sample_count\n",
      "/opt/miniconda3/lib/python3.9/site-packages/sklearn/utils/extmath.py:1072: RuntimeWarning: invalid value encountered in divide\n",
      "  new_unnormalized_variance -= correction**2 / new_sample_count\n"
     ]
    }
   ],
   "source": [
    "port_w=mlq_w # idxw/100, mlq_w\n",
    "\n",
    "factor_score_ls=[]\n",
    "factor_performance_ls=[]\n",
    "for f in factor_name_ls:\n",
    "    if isinstance(f, list):\n",
    "        sub_factor_perf_ls=[]\n",
    "        sub_factor_score_ls=[]\n",
    "        for sub_f in range(len(f)):\n",
    "            factor_slice=factors.loc[factors.index.get_level_values(0).isin(rebal_dates), f[sub_f]]\n",
    "            sub_factor_perf_ls.append(factor_performance(factor_slice, num_stocks, bm_name, price, indicies))\n",
    "            sub_factor_score_ls.append(factor_scaler(factor_slice, port_w))            \n",
    "        factor_performance_ls.append(pd.concat(sub_factor_perf_ls, axis=1).mean(1))\n",
    "        factor_score_ls.append(pd.concat(sub_factor_score_ls, axis=1).mean(1))\n",
    "        \n",
    "    else:\n",
    "        factor_slice=factors.loc[factors.index.get_level_values(0).isin(rebal_dates), f]\n",
    "        factor_performance_ls.append(factor_performance(factor_slice, num_stocks, bm_name, price, indicies))\n",
    "        factor_score_ls.append(factor_scaler(factor_slice, port_w))"
   ]
  },
  {
   "cell_type": "code",
   "execution_count": 149,
   "id": "bf7e408d-1a30-485f-ba02-6470adc96967",
   "metadata": {
    "execution": {
     "iopub.execute_input": "2023-10-31T06:43:53.447906Z",
     "iopub.status.busy": "2023-10-31T06:43:53.447312Z",
     "iopub.status.idle": "2023-10-31T06:43:53.455212Z",
     "shell.execute_reply": "2023-10-31T06:43:53.454187Z",
     "shell.execute_reply.started": "2023-10-31T06:43:53.447855Z"
    }
   },
   "outputs": [
    {
     "data": {
      "text/plain": [
       "DatetimeIndex(['2023-09-27'], dtype='datetime64[ns]', name='Dates', freq=None)"
      ]
     },
     "execution_count": 149,
     "metadata": {},
     "output_type": "execute_result"
    }
   ],
   "source": [
    "rebal_dates"
   ]
  },
  {
   "cell_type": "code",
   "execution_count": 150,
   "id": "8604dca1-06f1-4e28-8aae-f979069fe825",
   "metadata": {
    "execution": {
     "iopub.execute_input": "2023-10-31T06:44:11.337744Z",
     "iopub.status.busy": "2023-10-31T06:44:11.337150Z",
     "iopub.status.idle": "2023-10-31T06:44:11.349378Z",
     "shell.execute_reply": "2023-10-31T06:44:11.348333Z",
     "shell.execute_reply.started": "2023-10-31T06:44:11.337694Z"
    },
    "tags": []
   },
   "outputs": [
    {
     "data": {
      "text/plain": [
       "Symbol\n",
       "A000030       NaN\n",
       "A000050       NaN\n",
       "A000060       NaN\n",
       "A000070       NaN\n",
       "A000080    0.0005\n",
       "            ...  \n",
       "A377300    0.0026\n",
       "A381970    0.0001\n",
       "A383220    0.0017\n",
       "A383800       NaN\n",
       "A402340    0.0039\n",
       "Name: 2023-09-27 00:00:00, Length: 292, dtype: float64"
      ]
     },
     "execution_count": 150,
     "metadata": {},
     "output_type": "execute_result"
    }
   ],
   "source": [
    "port_w.loc['2023-09-27']"
   ]
  },
  {
   "cell_type": "code",
   "execution_count": 164,
   "id": "aa0de09a-9048-46e9-af70-e139f070920b",
   "metadata": {
    "execution": {
     "iopub.execute_input": "2023-10-31T06:48:54.093395Z",
     "iopub.status.busy": "2023-10-31T06:48:54.093214Z",
     "iopub.status.idle": "2023-10-31T06:48:57.281616Z",
     "shell.execute_reply": "2023-10-31T06:48:57.280828Z",
     "shell.execute_reply.started": "2023-10-31T06:48:54.093377Z"
    },
    "tags": []
   },
   "outputs": [
    {
     "name": "stderr",
     "output_type": "stream",
     "text": [
      "/opt/miniconda3/lib/python3.9/site-packages/sklearn/utils/extmath.py:1047: RuntimeWarning: invalid value encountered in divide\n",
      "  updated_mean = (last_sum + new_sum) / updated_sample_count\n",
      "/opt/miniconda3/lib/python3.9/site-packages/sklearn/utils/extmath.py:1052: RuntimeWarning: invalid value encountered in divide\n",
      "  T = new_sum / new_sample_count\n",
      "/opt/miniconda3/lib/python3.9/site-packages/sklearn/utils/extmath.py:1072: RuntimeWarning: invalid value encountered in divide\n",
      "  new_unnormalized_variance -= correction**2 / new_sample_count\n"
     ]
    }
   ],
   "source": [
    "port_w=idxw/100 # idxw/100, mlq_w\n",
    "\n",
    "factor_score_bm_ls=[]\n",
    "factor_performance_bm_ls=[]\n",
    "for f in factor_name_ls:\n",
    "    if isinstance(f, list):\n",
    "        sub_factor_perf_bm_ls=[]\n",
    "        sub_factor_score_bm_ls=[]\n",
    "        for sub_f in range(len(f)):\n",
    "            factor_slice=factors.loc[factors.index.get_level_values(0).isin(rebal_dates), f[sub_f]]\n",
    "            sub_factor_perf_bm_ls.append(factor_performance(factor_slice, num_stocks, bm_name, price, indicies))\n",
    "            sub_factor_score_bm_ls.append(factor_scaler(factor_slice, port_w))            \n",
    "        factor_performance_bm_ls.append(pd.concat(sub_factor_perf_ls, axis=1).mean(1))\n",
    "        factor_score_bm_ls.append(pd.concat(sub_factor_score_ls, axis=1).mean(1))\n",
    "        \n",
    "    else:\n",
    "        factor_slice=factors.loc[factors.index.get_level_values(0).isin(rebal_dates), f]\n",
    "        factor_performance_bm_ls.append(factor_performance(factor_slice, num_stocks, bm_name, price, indicies))\n",
    "        factor_score_bm_ls.append(factor_scaler(factor_slice, port_w))"
   ]
  },
  {
   "cell_type": "code",
   "execution_count": null,
   "id": "5b8d14db-e758-49b0-9908-48dee890d1e7",
   "metadata": {
    "tags": []
   },
   "outputs": [],
   "source": []
  },
  {
   "cell_type": "code",
   "execution_count": 165,
   "id": "14e62cf7-d1d8-487c-8fb6-948cbddeb5b1",
   "metadata": {
    "execution": {
     "iopub.execute_input": "2023-10-31T06:48:58.018695Z",
     "iopub.status.busy": "2023-10-31T06:48:58.018120Z",
     "iopub.status.idle": "2023-10-31T06:48:58.030604Z",
     "shell.execute_reply": "2023-10-31T06:48:58.029591Z",
     "shell.execute_reply.started": "2023-10-31T06:48:58.018645Z"
    },
    "tags": []
   },
   "outputs": [],
   "source": [
    "factor_res=pd.concat(factor_performance_ls, axis=1)\n",
    "factor_res.columns=factor_name_ls\n",
    "\n",
    "factor_score_res=pd.concat(factor_score_ls, axis=1)\n",
    "factor_score_res.columns=factor_name_ls"
   ]
  },
  {
   "cell_type": "code",
   "execution_count": 166,
   "id": "c839aeda-bf5d-4219-aae9-1cefc4a60d07",
   "metadata": {
    "execution": {
     "iopub.execute_input": "2023-10-31T06:48:58.229535Z",
     "iopub.status.busy": "2023-10-31T06:48:58.229307Z",
     "iopub.status.idle": "2023-10-31T06:48:58.235812Z",
     "shell.execute_reply": "2023-10-31T06:48:58.235160Z",
     "shell.execute_reply.started": "2023-10-31T06:48:58.229514Z"
    },
    "tags": []
   },
   "outputs": [],
   "source": [
    "factor_res_bm=pd.concat(factor_performance_bm_ls, axis=1)\n",
    "factor_res_bm.columns=factor_name_ls\n",
    "\n",
    "factor_score_bm_res=pd.concat(factor_score_bm_ls, axis=1)\n",
    "factor_score_bm_res.columns=factor_name_ls"
   ]
  },
  {
   "cell_type": "code",
   "execution_count": null,
   "id": "120dfbcf-50cb-4c4b-9c51-556638d5f279",
   "metadata": {
    "tags": []
   },
   "outputs": [],
   "source": []
  },
  {
   "cell_type": "code",
   "execution_count": 167,
   "id": "dd651f05-1ced-49e9-a097-b803f290f104",
   "metadata": {
    "execution": {
     "iopub.execute_input": "2023-10-31T06:49:00.195850Z",
     "iopub.status.busy": "2023-10-31T06:49:00.195275Z",
     "iopub.status.idle": "2023-10-31T06:49:00.212716Z",
     "shell.execute_reply": "2023-10-31T06:49:00.211724Z",
     "shell.execute_reply.started": "2023-10-31T06:49:00.195798Z"
    },
    "tags": []
   },
   "outputs": [
    {
     "data": {
      "text/html": [
       "<div>\n",
       "<style scoped>\n",
       "    .dataframe tbody tr th:only-of-type {\n",
       "        vertical-align: middle;\n",
       "    }\n",
       "\n",
       "    .dataframe tbody tr th {\n",
       "        vertical-align: top;\n",
       "    }\n",
       "\n",
       "    .dataframe thead th {\n",
       "        text-align: right;\n",
       "    }\n",
       "</style>\n",
       "<table border=\"1\" class=\"dataframe\">\n",
       "  <thead>\n",
       "    <tr style=\"text-align: right;\">\n",
       "      <th></th>\n",
       "      <th>value</th>\n",
       "      <th>momentum</th>\n",
       "      <th>quality</th>\n",
       "      <th>dividend</th>\n",
       "      <th>size</th>\n",
       "      <th>volatility</th>\n",
       "    </tr>\n",
       "    <tr>\n",
       "      <th>Dates</th>\n",
       "      <th></th>\n",
       "      <th></th>\n",
       "      <th></th>\n",
       "      <th></th>\n",
       "      <th></th>\n",
       "      <th></th>\n",
       "    </tr>\n",
       "  </thead>\n",
       "  <tbody>\n",
       "    <tr>\n",
       "      <th>2023-09-27</th>\n",
       "      <td>0.079854</td>\n",
       "      <td>NaN</td>\n",
       "      <td>0.068771</td>\n",
       "      <td>0.474206</td>\n",
       "      <td>0.195869</td>\n",
       "      <td>-0.061117</td>\n",
       "    </tr>\n",
       "  </tbody>\n",
       "</table>\n",
       "</div>"
      ],
      "text/plain": [
       "               value  momentum   quality  dividend      size  volatility\n",
       "Dates                                                                   \n",
       "2023-09-27  0.079854       NaN  0.068771  0.474206  0.195869   -0.061117"
      ]
     },
     "execution_count": 167,
     "metadata": {},
     "output_type": "execute_result"
    }
   ],
   "source": [
    "factor_score_res"
   ]
  },
  {
   "cell_type": "code",
   "execution_count": 168,
   "id": "62837831-f39b-4922-afcf-eceeb80ae2bc",
   "metadata": {
    "execution": {
     "iopub.execute_input": "2023-10-31T06:49:01.658106Z",
     "iopub.status.busy": "2023-10-31T06:49:01.657527Z",
     "iopub.status.idle": "2023-10-31T06:49:01.674960Z",
     "shell.execute_reply": "2023-10-31T06:49:01.673946Z",
     "shell.execute_reply.started": "2023-10-31T06:49:01.658055Z"
    },
    "tags": []
   },
   "outputs": [
    {
     "data": {
      "text/html": [
       "<div>\n",
       "<style scoped>\n",
       "    .dataframe tbody tr th:only-of-type {\n",
       "        vertical-align: middle;\n",
       "    }\n",
       "\n",
       "    .dataframe tbody tr th {\n",
       "        vertical-align: top;\n",
       "    }\n",
       "\n",
       "    .dataframe thead th {\n",
       "        text-align: right;\n",
       "    }\n",
       "</style>\n",
       "<table border=\"1\" class=\"dataframe\">\n",
       "  <thead>\n",
       "    <tr style=\"text-align: right;\">\n",
       "      <th></th>\n",
       "      <th>value</th>\n",
       "      <th>momentum</th>\n",
       "      <th>quality</th>\n",
       "      <th>dividend</th>\n",
       "      <th>size</th>\n",
       "      <th>volatility</th>\n",
       "    </tr>\n",
       "    <tr>\n",
       "      <th>Dates</th>\n",
       "      <th></th>\n",
       "      <th></th>\n",
       "      <th></th>\n",
       "      <th></th>\n",
       "      <th></th>\n",
       "      <th></th>\n",
       "    </tr>\n",
       "  </thead>\n",
       "  <tbody>\n",
       "    <tr>\n",
       "      <th>2023-09-27</th>\n",
       "      <td>-0.460679</td>\n",
       "      <td>NaN</td>\n",
       "      <td>-0.110433</td>\n",
       "      <td>-0.197997</td>\n",
       "      <td>8.868061</td>\n",
       "      <td>0.316356</td>\n",
       "    </tr>\n",
       "  </tbody>\n",
       "</table>\n",
       "</div>"
      ],
      "text/plain": [
       "               value  momentum   quality  dividend      size  volatility\n",
       "Dates                                                                   \n",
       "2023-09-27 -0.460679       NaN -0.110433 -0.197997  8.868061    0.316356"
      ]
     },
     "execution_count": 168,
     "metadata": {},
     "output_type": "execute_result"
    }
   ],
   "source": [
    "factor_score_bm_res"
   ]
  },
  {
   "cell_type": "code",
   "execution_count": 169,
   "id": "79c3c4a5-1036-41cd-a7ab-6f9fa2d5b188",
   "metadata": {
    "execution": {
     "iopub.execute_input": "2023-10-31T06:49:05.297550Z",
     "iopub.status.busy": "2023-10-31T06:49:05.296948Z",
     "iopub.status.idle": "2023-10-31T06:49:05.303626Z",
     "shell.execute_reply": "2023-10-31T06:49:05.302584Z",
     "shell.execute_reply.started": "2023-10-31T06:49:05.297498Z"
    },
    "tags": []
   },
   "outputs": [],
   "source": [
    "factor_perf_diff=factor_res - factor_res_bm\n",
    "factor_score_diff=factor_score_res - factor_score_bm_res"
   ]
  },
  {
   "cell_type": "code",
   "execution_count": 170,
   "id": "7ac06558-1d5e-4bc8-85c9-5d2ee31386fb",
   "metadata": {
    "execution": {
     "iopub.execute_input": "2023-10-31T06:49:05.761698Z",
     "iopub.status.busy": "2023-10-31T06:49:05.761149Z",
     "iopub.status.idle": "2023-10-31T06:49:05.778139Z",
     "shell.execute_reply": "2023-10-31T06:49:05.777141Z",
     "shell.execute_reply.started": "2023-10-31T06:49:05.761648Z"
    },
    "tags": []
   },
   "outputs": [
    {
     "data": {
      "text/html": [
       "<div>\n",
       "<style scoped>\n",
       "    .dataframe tbody tr th:only-of-type {\n",
       "        vertical-align: middle;\n",
       "    }\n",
       "\n",
       "    .dataframe tbody tr th {\n",
       "        vertical-align: top;\n",
       "    }\n",
       "\n",
       "    .dataframe thead th {\n",
       "        text-align: right;\n",
       "    }\n",
       "</style>\n",
       "<table border=\"1\" class=\"dataframe\">\n",
       "  <thead>\n",
       "    <tr style=\"text-align: right;\">\n",
       "      <th></th>\n",
       "      <th>value</th>\n",
       "      <th>momentum</th>\n",
       "      <th>quality</th>\n",
       "      <th>dividend</th>\n",
       "      <th>size</th>\n",
       "      <th>volatility</th>\n",
       "    </tr>\n",
       "    <tr>\n",
       "      <th>Dates</th>\n",
       "      <th></th>\n",
       "      <th></th>\n",
       "      <th></th>\n",
       "      <th></th>\n",
       "      <th></th>\n",
       "      <th></th>\n",
       "    </tr>\n",
       "  </thead>\n",
       "  <tbody>\n",
       "    <tr>\n",
       "      <th>2023-09-27</th>\n",
       "      <td>0.540533</td>\n",
       "      <td>NaN</td>\n",
       "      <td>0.179204</td>\n",
       "      <td>0.672202</td>\n",
       "      <td>-8.672192</td>\n",
       "      <td>-0.377473</td>\n",
       "    </tr>\n",
       "  </tbody>\n",
       "</table>\n",
       "</div>"
      ],
      "text/plain": [
       "               value  momentum   quality  dividend      size  volatility\n",
       "Dates                                                                   \n",
       "2023-09-27  0.540533       NaN  0.179204  0.672202 -8.672192   -0.377473"
      ]
     },
     "execution_count": 170,
     "metadata": {},
     "output_type": "execute_result"
    }
   ],
   "source": [
    "factor_score_diff"
   ]
  },
  {
   "cell_type": "code",
   "execution_count": null,
   "id": "ac5fb95e-424e-4780-bf11-953c65196fce",
   "metadata": {},
   "outputs": [],
   "source": []
  },
  {
   "cell_type": "code",
   "execution_count": null,
   "id": "c23a4c93-06a7-4532-ad94-59a0bdc6487e",
   "metadata": {},
   "outputs": [],
   "source": []
  },
  {
   "cell_type": "code",
   "execution_count": null,
   "id": "4c048e50-0ea7-4de9-bc30-4a28eb5969b0",
   "metadata": {},
   "outputs": [],
   "source": []
  },
  {
   "cell_type": "code",
   "execution_count": 174,
   "id": "fd4bc933-47e0-4669-bbe1-bfd51fc35851",
   "metadata": {
    "execution": {
     "iopub.execute_input": "2023-10-31T06:50:19.170952Z",
     "iopub.status.busy": "2023-10-31T06:50:19.170367Z",
     "iopub.status.idle": "2023-10-31T06:50:19.184987Z",
     "shell.execute_reply": "2023-10-31T06:50:19.183945Z",
     "shell.execute_reply.started": "2023-10-31T06:50:19.170902Z"
    },
    "tags": []
   },
   "outputs": [
    {
     "data": {
      "text/html": [
       "<div>\n",
       "<style scoped>\n",
       "    .dataframe tbody tr th:only-of-type {\n",
       "        vertical-align: middle;\n",
       "    }\n",
       "\n",
       "    .dataframe tbody tr th {\n",
       "        vertical-align: top;\n",
       "    }\n",
       "\n",
       "    .dataframe thead th {\n",
       "        text-align: right;\n",
       "    }\n",
       "</style>\n",
       "<table border=\"1\" class=\"dataframe\">\n",
       "  <thead>\n",
       "    <tr style=\"text-align: right;\">\n",
       "      <th>Dates</th>\n",
       "      <th>2023-09-27</th>\n",
       "    </tr>\n",
       "  </thead>\n",
       "  <tbody>\n",
       "    <tr>\n",
       "      <th>size</th>\n",
       "      <td>-8.672192</td>\n",
       "    </tr>\n",
       "    <tr>\n",
       "      <th>volatility</th>\n",
       "      <td>-0.377473</td>\n",
       "    </tr>\n",
       "    <tr>\n",
       "      <th>quality</th>\n",
       "      <td>0.179204</td>\n",
       "    </tr>\n",
       "    <tr>\n",
       "      <th>value</th>\n",
       "      <td>0.540533</td>\n",
       "    </tr>\n",
       "    <tr>\n",
       "      <th>dividend</th>\n",
       "      <td>0.672202</td>\n",
       "    </tr>\n",
       "    <tr>\n",
       "      <th>momentum</th>\n",
       "      <td>NaN</td>\n",
       "    </tr>\n",
       "  </tbody>\n",
       "</table>\n",
       "</div>"
      ],
      "text/plain": [
       "Dates       2023-09-27\n",
       "size         -8.672192\n",
       "volatility   -0.377473\n",
       "quality       0.179204\n",
       "value         0.540533\n",
       "dividend      0.672202\n",
       "momentum           NaN"
      ]
     },
     "execution_count": 174,
     "metadata": {},
     "output_type": "execute_result"
    }
   ],
   "source": [
    "factor_score_diff.T.sort_values(factor_score_diff.index[0])"
   ]
  },
  {
   "cell_type": "code",
   "execution_count": 175,
   "id": "b03063f0-f5be-44f6-84f4-e6a52ed2c8f2",
   "metadata": {
    "execution": {
     "iopub.execute_input": "2023-10-31T06:50:30.093836Z",
     "iopub.status.busy": "2023-10-31T06:50:30.093254Z",
     "iopub.status.idle": "2023-10-31T06:50:30.252149Z",
     "shell.execute_reply": "2023-10-31T06:50:30.251192Z",
     "shell.execute_reply.started": "2023-10-31T06:50:30.093787Z"
    },
    "tags": []
   },
   "outputs": [
    {
     "data": {
      "text/plain": [
       "<BarContainer object of 6 artists>"
      ]
     },
     "execution_count": 175,
     "metadata": {},
     "output_type": "execute_result"
    },
    {
     "data": {
      "image/png": "[encoded data removed]",
      "text/plain": [
       "<Figure size 864x576 with 1 Axes>"
      ]
     },
     "metadata": {
      "needs_background": "light"
     },
     "output_type": "display_data"
    }
   ],
   "source": [
    "fig, ax1=plt.subplots(figsize=(12, 8))\n",
    "ax1.bar(factor_score_diff.T.index.tolist(), factor_score_diff.values.tolist()[0])"
   ]
  },
  {
   "cell_type": "code",
   "execution_count": 144,
   "id": "c4231484-4b99-4498-8729-adaaec3f0d33",
   "metadata": {
    "execution": {
     "iopub.execute_input": "2023-10-31T05:57:44.546273Z",
     "iopub.status.busy": "2023-10-31T05:57:44.545669Z",
     "iopub.status.idle": "2023-10-31T05:57:44.550800Z",
     "shell.execute_reply": "2023-10-31T05:57:44.549528Z",
     "shell.execute_reply.started": "2023-10-31T05:57:44.546220Z"
    },
    "tags": []
   },
   "outputs": [],
   "source": [
    "# plt.bar(factor_res.T.index.values, factor_res.T)\n",
    "# ax1.legend(labels = factor_res.columns,\n",
    "#       fontsize = 12,\n",
    "#       title = \"factors\",\n",
    "#       title_fontsize = 18)\n",
    "# ax1.legend_.set_bbox_to_anchor([1, 1])"
   ]
  },
  {
   "cell_type": "code",
   "execution_count": null,
   "id": "74ee9d14-6d6c-45fd-8f12-b86bb47e43a0",
   "metadata": {
    "execution": {
     "iopub.status.busy": "2023-10-31T03:30:45.449491Z",
     "iopub.status.idle": "2023-10-31T03:30:45.449822Z",
     "shell.execute_reply": "2023-10-31T03:30:45.449685Z"
    },
    "tags": []
   },
   "outputs": [],
   "source": [
    "factor_res[col].iloc[-12]"
   ]
  },
  {
   "cell_type": "code",
   "execution_count": null,
   "id": "5a42e51a-8ec8-4a12-b810-5503ca455ad3",
   "metadata": {
    "execution": {
     "iopub.status.busy": "2023-10-31T03:30:45.450696Z",
     "iopub.status.idle": "2023-10-31T03:30:45.451029Z",
     "shell.execute_reply": "2023-10-31T03:30:45.450891Z"
    },
    "tags": []
   },
   "outputs": [],
   "source": [
    "fig, ax1=plt.subplots(figsize=(12, 8))\n",
    "\n",
    "plt.bar(factor_res.iloc[-1].sort_values().index, factor_res.iloc[-1].sort_values(), .5)\n",
    "\n",
    "ax1.legend(labels = factor_res.columns,\n",
    "      fontsize = 12,\n",
    "      title = \"factors\",\n",
    "      title_fontsize = 18)\n",
    "ax1.legend_.set_bbox_to_anchor([1, 1])\n",
    "    "
   ]
  },
  {
   "cell_type": "code",
   "execution_count": null,
   "id": "75a198db-5183-4657-94aa-32a08027b768",
   "metadata": {
    "execution": {
     "iopub.status.busy": "2023-10-31T03:30:45.451714Z",
     "iopub.status.idle": "2023-10-31T03:30:45.452045Z",
     "shell.execute_reply": "2023-10-31T03:30:45.451905Z"
    },
    "tags": []
   },
   "outputs": [],
   "source": [
    "factor_res.columns"
   ]
  },
  {
   "cell_type": "code",
   "execution_count": null,
   "id": "b58b492a-7ae4-49c0-93ec-cc42c7bb88ee",
   "metadata": {},
   "outputs": [],
   "source": []
  },
  {
   "cell_type": "code",
   "execution_count": null,
   "id": "0671caf9-e75d-485b-9e31-fbae7cec18e4",
   "metadata": {
    "execution": {
     "iopub.status.busy": "2023-10-31T03:30:45.452913Z",
     "iopub.status.idle": "2023-10-31T03:30:45.453261Z",
     "shell.execute_reply": "2023-10-31T03:30:45.453117Z"
    },
    "tags": []
   },
   "outputs": [],
   "source": [
    "idxw.sum(1)"
   ]
  },
  {
   "cell_type": "code",
   "execution_count": null,
   "id": "83d4c438-af2b-4458-9b11-5ced04531a9e",
   "metadata": {
    "execution": {
     "iopub.status.busy": "2023-10-31T03:30:45.454019Z",
     "iopub.status.idle": "2023-10-31T03:30:45.454352Z",
     "shell.execute_reply": "2023-10-31T03:30:45.454213Z"
    },
    "tags": []
   },
   "outputs": [],
   "source": [
    "factor_score_res=pd.concat(factor_score_ls, axis=1)\n",
    "factor_score_res.columns=factor_name_ls"
   ]
  },
  {
   "cell_type": "code",
   "execution_count": null,
   "id": "2c58a180-a7e5-4078-bb05-c69a78e3ab30",
   "metadata": {
    "execution": {
     "iopub.status.busy": "2023-10-31T03:30:45.455211Z",
     "iopub.status.idle": "2023-10-31T03:30:45.455545Z",
     "shell.execute_reply": "2023-10-31T03:30:45.455404Z"
    },
    "tags": []
   },
   "outputs": [],
   "source": [
    "factor_score_res.mean()"
   ]
  },
  {
   "cell_type": "code",
   "execution_count": null,
   "id": "62d5a1ed-2fdb-4e80-be82-4e5b5880b1ac",
   "metadata": {
    "execution": {
     "iopub.status.busy": "2023-10-31T03:30:45.456208Z",
     "iopub.status.idle": "2023-10-31T03:30:45.456538Z",
     "shell.execute_reply": "2023-10-31T03:30:45.456400Z"
    },
    "tags": []
   },
   "outputs": [],
   "source": [
    "fig, ax1=plt.subplots(figsize=(12, 8))\n",
    "\n",
    "plt.boxplot(factor_score_res, labels=factor_score_res.columns)\n",
    "\n",
    "plt.xlabel('factors')\n",
    "plt.ylabel('scores')\n",
    "plt.title('factor score box plot')\n",
    "plt.show()"
   ]
  },
  {
   "cell_type": "code",
   "execution_count": null,
   "id": "8aa46ca3-a248-435a-a7c5-5083021b8397",
   "metadata": {
    "execution": {
     "iopub.status.busy": "2023-10-31T03:30:45.457322Z",
     "iopub.status.idle": "2023-10-31T03:30:45.457657Z",
     "shell.execute_reply": "2023-10-31T03:30:45.457519Z"
    },
    "tags": []
   },
   "outputs": [],
   "source": [
    "port_w"
   ]
  },
  {
   "cell_type": "code",
   "execution_count": null,
   "id": "be63c435-a492-4ce9-bb9d-17d48ddfcf80",
   "metadata": {
    "execution": {
     "iopub.status.busy": "2023-10-31T03:30:45.458602Z",
     "iopub.status.idle": "2023-10-31T03:30:45.458927Z",
     "shell.execute_reply": "2023-10-31T03:30:45.458792Z"
    },
    "tags": []
   },
   "outputs": [],
   "source": [
    "factor_score_res.mean()"
   ]
  },
  {
   "cell_type": "code",
   "execution_count": null,
   "id": "e1aa252e-4954-4815-8f7a-803d672d360a",
   "metadata": {
    "execution": {
     "iopub.status.busy": "2023-10-31T03:30:45.459593Z",
     "iopub.status.idle": "2023-10-31T03:30:45.459909Z",
     "shell.execute_reply": "2023-10-31T03:30:45.459777Z"
    },
    "tags": []
   },
   "outputs": [],
   "source": [
    "fig, ax1=plt.subplots(figsize=(12, 8))\n",
    "\n",
    "plt.boxplot(factor_score_res, labels=factor_score_res.columns)\n",
    "\n",
    "plt.xlabel('factors')\n",
    "plt.ylabel('scores')\n",
    "plt.title('factor score box plot')\n",
    "plt.show()"
   ]
  },
  {
   "cell_type": "code",
   "execution_count": null,
   "id": "59ed7f88-d8b0-47fa-a656-1c9059870cf6",
   "metadata": {
    "tags": []
   },
   "outputs": [],
   "source": []
  },
  {
   "cell_type": "code",
   "execution_count": null,
   "id": "fae449b5-5ee9-4257-8bdf-382464fae019",
   "metadata": {},
   "outputs": [],
   "source": []
  },
  {
   "cell_type": "code",
   "execution_count": null,
   "id": "473a7d55-11e1-431b-8600-820f07994b4a",
   "metadata": {},
   "outputs": [],
   "source": []
  }
 ],
 "metadata": {
  "kernelspec": {
   "display_name": "base",
   "language": "python",
   "name": "python3"
  },
  "language_info": {
   "codemirror_mode": {
    "name": "ipython",
    "version": 3
   },
   "file_extension": ".py",
   "mimetype": "text/x-python",
   "name": "python",
   "nbconvert_exporter": "python",
   "pygments_lexer": "ipython3",
   "version": "3.11.4"
  }
 },
 "nbformat": 4,
 "nbformat_minor": 5
}
